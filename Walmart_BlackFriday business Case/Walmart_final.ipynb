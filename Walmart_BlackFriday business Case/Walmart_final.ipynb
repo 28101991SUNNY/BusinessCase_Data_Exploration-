{
 "cells": [
  {
   "cell_type": "code",
   "execution_count": 1,
   "id": "dad14b37",
   "metadata": {},
   "outputs": [],
   "source": [
    "import statsmodels.api as sm\n",
    "from scipy.stats import norm\n",
    "from scipy.stats import t\n",
    "import pylab\n",
    "\n",
    "import os\n",
    "\n",
    "import pandas as pd\n",
    "import numpy as np\n",
    "import seaborn as sns\n",
    "import matplotlib.pyplot as plt\n",
    "%matplotlib inline\n",
    "from matplotlib import figure\n",
    "import warnings\n",
    "warnings.filterwarnings('ignore')\n",
    "\n",
    "sns.set(font_scale= 1)\n"
   ]
  },
  {
   "cell_type": "markdown",
   "id": "4b8d3e0d",
   "metadata": {},
   "source": [
    "# Buisness Case: Walmart "
   ]
  },
  {
   "cell_type": "markdown",
   "id": "c3351f17",
   "metadata": {},
   "source": [
    "### About Walmart\n",
    "\n",
    "- Walmart is an American multinational retail corporation that operates a chain of supercenters, discount departmental stores, and grocery stores from the United States. Walmart has more than 100 million customers worldwide.\n",
    "\n"
   ]
  },
  {
   "cell_type": "markdown",
   "id": "ebc8bfdf",
   "metadata": {},
   "source": [
    "## Business Problem\n",
    "\n",
    "- The Management team at Walmart Inc. wants to analyze the customer purchase behavior (specifically, purchase amount) against the customer’s gender and the various other factors to help the business make better decisions. \n",
    "- They want to understand if the spending habits differ between male and female customers:\n",
    "> Do women spend more on Black Friday than men? \n",
    "(Assume 50 million customers are male and 50 million are female)."
   ]
  },
  {
   "cell_type": "markdown",
   "id": "f23457bf",
   "metadata": {},
   "source": [
    "### Dataset\n",
    "\n",
    "- The company collected the transactional data of customers who purchased products from the Walmart Stores during Black Friday. The dataset has the following features:\n",
    ">\n",
    "    - User_ID:\tUser ID\n",
    "    - Product_ID:\tProduct ID\n",
    "    - Gender:\tSex of User\n",
    "    - Age:\tAge in bins\n",
    "    - Occupation:\tOccupation(Masked)\n",
    "    - City_Category:\tCategory of the City (A,B,C)\n",
    "    - StayInCurrentCityYears:\tNumber of years stay in current city\n",
    "    - Marital_Status:\tMarital Status\n",
    "    - ProductCategory:\tProduct Category (Masked)\n",
    "    - Purchase:\tPurchase Amount"
   ]
  },
  {
   "cell_type": "code",
   "execution_count": 2,
   "id": "dfe52b90",
   "metadata": {},
   "outputs": [],
   "source": [
    "# importing given sample dataset : \n",
    "\n",
    "df = pd.read_csv(\"walmart_data.txt\")\n"
   ]
  },
  {
   "cell_type": "code",
   "execution_count": 3,
   "id": "e78936cd",
   "metadata": {},
   "outputs": [],
   "source": [
    "data = df.copy()"
   ]
  },
  {
   "cell_type": "markdown",
   "id": "d29fa407",
   "metadata": {},
   "source": [
    "# Analysing Basic Metrics and Non-Graphical Analysis : "
   ]
  },
  {
   "cell_type": "code",
   "execution_count": 4,
   "id": "e0b8d7a5",
   "metadata": {},
   "outputs": [
    {
     "data": {
      "text/plain": [
       "(550068, 10)"
      ]
     },
     "execution_count": 4,
     "metadata": {},
     "output_type": "execute_result"
    }
   ],
   "source": [
    "data.shape"
   ]
  },
  {
   "cell_type": "code",
   "execution_count": 5,
   "id": "4aa69c68",
   "metadata": {},
   "outputs": [
    {
     "data": {
      "text/html": [
       "<div>\n",
       "<style scoped>\n",
       "    .dataframe tbody tr th:only-of-type {\n",
       "        vertical-align: middle;\n",
       "    }\n",
       "\n",
       "    .dataframe tbody tr th {\n",
       "        vertical-align: top;\n",
       "    }\n",
       "\n",
       "    .dataframe thead th {\n",
       "        text-align: right;\n",
       "    }\n",
       "</style>\n",
       "<table border=\"1\" class=\"dataframe\">\n",
       "  <thead>\n",
       "    <tr style=\"text-align: right;\">\n",
       "      <th></th>\n",
       "      <th>User_ID</th>\n",
       "      <th>Product_ID</th>\n",
       "      <th>Gender</th>\n",
       "      <th>Age</th>\n",
       "      <th>Occupation</th>\n",
       "      <th>City_Category</th>\n",
       "      <th>Stay_In_Current_City_Years</th>\n",
       "      <th>Marital_Status</th>\n",
       "      <th>Product_Category</th>\n",
       "      <th>Purchase</th>\n",
       "    </tr>\n",
       "  </thead>\n",
       "  <tbody>\n",
       "    <tr>\n",
       "      <th>0</th>\n",
       "      <td>1000001</td>\n",
       "      <td>P00069042</td>\n",
       "      <td>F</td>\n",
       "      <td>0-17</td>\n",
       "      <td>10</td>\n",
       "      <td>A</td>\n",
       "      <td>2</td>\n",
       "      <td>0</td>\n",
       "      <td>3</td>\n",
       "      <td>8370</td>\n",
       "    </tr>\n",
       "    <tr>\n",
       "      <th>1</th>\n",
       "      <td>1000001</td>\n",
       "      <td>P00248942</td>\n",
       "      <td>F</td>\n",
       "      <td>0-17</td>\n",
       "      <td>10</td>\n",
       "      <td>A</td>\n",
       "      <td>2</td>\n",
       "      <td>0</td>\n",
       "      <td>1</td>\n",
       "      <td>15200</td>\n",
       "    </tr>\n",
       "    <tr>\n",
       "      <th>2</th>\n",
       "      <td>1000001</td>\n",
       "      <td>P00087842</td>\n",
       "      <td>F</td>\n",
       "      <td>0-17</td>\n",
       "      <td>10</td>\n",
       "      <td>A</td>\n",
       "      <td>2</td>\n",
       "      <td>0</td>\n",
       "      <td>12</td>\n",
       "      <td>1422</td>\n",
       "    </tr>\n",
       "    <tr>\n",
       "      <th>3</th>\n",
       "      <td>1000001</td>\n",
       "      <td>P00085442</td>\n",
       "      <td>F</td>\n",
       "      <td>0-17</td>\n",
       "      <td>10</td>\n",
       "      <td>A</td>\n",
       "      <td>2</td>\n",
       "      <td>0</td>\n",
       "      <td>12</td>\n",
       "      <td>1057</td>\n",
       "    </tr>\n",
       "    <tr>\n",
       "      <th>4</th>\n",
       "      <td>1000002</td>\n",
       "      <td>P00285442</td>\n",
       "      <td>M</td>\n",
       "      <td>55+</td>\n",
       "      <td>16</td>\n",
       "      <td>C</td>\n",
       "      <td>4+</td>\n",
       "      <td>0</td>\n",
       "      <td>8</td>\n",
       "      <td>7969</td>\n",
       "    </tr>\n",
       "  </tbody>\n",
       "</table>\n",
       "</div>"
      ],
      "text/plain": [
       "   User_ID Product_ID Gender   Age  Occupation City_Category  \\\n",
       "0  1000001  P00069042      F  0-17          10             A   \n",
       "1  1000001  P00248942      F  0-17          10             A   \n",
       "2  1000001  P00087842      F  0-17          10             A   \n",
       "3  1000001  P00085442      F  0-17          10             A   \n",
       "4  1000002  P00285442      M   55+          16             C   \n",
       "\n",
       "  Stay_In_Current_City_Years  Marital_Status  Product_Category  Purchase  \n",
       "0                          2               0                 3      8370  \n",
       "1                          2               0                 1     15200  \n",
       "2                          2               0                12      1422  \n",
       "3                          2               0                12      1057  \n",
       "4                         4+               0                 8      7969  "
      ]
     },
     "execution_count": 5,
     "metadata": {},
     "output_type": "execute_result"
    }
   ],
   "source": [
    "data.head()"
   ]
  },
  {
   "cell_type": "code",
   "execution_count": 6,
   "id": "9be61a85",
   "metadata": {},
   "outputs": [
    {
     "data": {
      "text/html": [
       "<div>\n",
       "<style scoped>\n",
       "    .dataframe tbody tr th:only-of-type {\n",
       "        vertical-align: middle;\n",
       "    }\n",
       "\n",
       "    .dataframe tbody tr th {\n",
       "        vertical-align: top;\n",
       "    }\n",
       "\n",
       "    .dataframe thead th {\n",
       "        text-align: right;\n",
       "    }\n",
       "</style>\n",
       "<table border=\"1\" class=\"dataframe\">\n",
       "  <thead>\n",
       "    <tr style=\"text-align: right;\">\n",
       "      <th></th>\n",
       "      <th>User_ID</th>\n",
       "      <th>Product_ID</th>\n",
       "      <th>Gender</th>\n",
       "      <th>Age</th>\n",
       "      <th>Occupation</th>\n",
       "      <th>City_Category</th>\n",
       "      <th>Stay_In_Current_City_Years</th>\n",
       "      <th>Marital_Status</th>\n",
       "      <th>Product_Category</th>\n",
       "      <th>Purchase</th>\n",
       "    </tr>\n",
       "  </thead>\n",
       "  <tbody>\n",
       "    <tr>\n",
       "      <th>550063</th>\n",
       "      <td>1006033</td>\n",
       "      <td>P00372445</td>\n",
       "      <td>M</td>\n",
       "      <td>51-55</td>\n",
       "      <td>13</td>\n",
       "      <td>B</td>\n",
       "      <td>1</td>\n",
       "      <td>1</td>\n",
       "      <td>20</td>\n",
       "      <td>368</td>\n",
       "    </tr>\n",
       "    <tr>\n",
       "      <th>550064</th>\n",
       "      <td>1006035</td>\n",
       "      <td>P00375436</td>\n",
       "      <td>F</td>\n",
       "      <td>26-35</td>\n",
       "      <td>1</td>\n",
       "      <td>C</td>\n",
       "      <td>3</td>\n",
       "      <td>0</td>\n",
       "      <td>20</td>\n",
       "      <td>371</td>\n",
       "    </tr>\n",
       "    <tr>\n",
       "      <th>550065</th>\n",
       "      <td>1006036</td>\n",
       "      <td>P00375436</td>\n",
       "      <td>F</td>\n",
       "      <td>26-35</td>\n",
       "      <td>15</td>\n",
       "      <td>B</td>\n",
       "      <td>4+</td>\n",
       "      <td>1</td>\n",
       "      <td>20</td>\n",
       "      <td>137</td>\n",
       "    </tr>\n",
       "    <tr>\n",
       "      <th>550066</th>\n",
       "      <td>1006038</td>\n",
       "      <td>P00375436</td>\n",
       "      <td>F</td>\n",
       "      <td>55+</td>\n",
       "      <td>1</td>\n",
       "      <td>C</td>\n",
       "      <td>2</td>\n",
       "      <td>0</td>\n",
       "      <td>20</td>\n",
       "      <td>365</td>\n",
       "    </tr>\n",
       "    <tr>\n",
       "      <th>550067</th>\n",
       "      <td>1006039</td>\n",
       "      <td>P00371644</td>\n",
       "      <td>F</td>\n",
       "      <td>46-50</td>\n",
       "      <td>0</td>\n",
       "      <td>B</td>\n",
       "      <td>4+</td>\n",
       "      <td>1</td>\n",
       "      <td>20</td>\n",
       "      <td>490</td>\n",
       "    </tr>\n",
       "  </tbody>\n",
       "</table>\n",
       "</div>"
      ],
      "text/plain": [
       "        User_ID Product_ID Gender    Age  Occupation City_Category  \\\n",
       "550063  1006033  P00372445      M  51-55          13             B   \n",
       "550064  1006035  P00375436      F  26-35           1             C   \n",
       "550065  1006036  P00375436      F  26-35          15             B   \n",
       "550066  1006038  P00375436      F    55+           1             C   \n",
       "550067  1006039  P00371644      F  46-50           0             B   \n",
       "\n",
       "       Stay_In_Current_City_Years  Marital_Status  Product_Category  Purchase  \n",
       "550063                          1               1                20       368  \n",
       "550064                          3               0                20       371  \n",
       "550065                         4+               1                20       137  \n",
       "550066                          2               0                20       365  \n",
       "550067                         4+               1                20       490  "
      ]
     },
     "execution_count": 6,
     "metadata": {},
     "output_type": "execute_result"
    }
   ],
   "source": [
    "data.tail()"
   ]
  },
  {
   "cell_type": "code",
   "execution_count": 7,
   "id": "d9c46232",
   "metadata": {},
   "outputs": [
    {
     "name": "stdout",
     "output_type": "stream",
     "text": [
      "<class 'pandas.core.frame.DataFrame'>\n",
      "RangeIndex: 550068 entries, 0 to 550067\n",
      "Data columns (total 10 columns):\n",
      " #   Column                      Non-Null Count   Dtype \n",
      "---  ------                      --------------   ----- \n",
      " 0   User_ID                     550068 non-null  int64 \n",
      " 1   Product_ID                  550068 non-null  object\n",
      " 2   Gender                      550068 non-null  object\n",
      " 3   Age                         550068 non-null  object\n",
      " 4   Occupation                  550068 non-null  int64 \n",
      " 5   City_Category               550068 non-null  object\n",
      " 6   Stay_In_Current_City_Years  550068 non-null  object\n",
      " 7   Marital_Status              550068 non-null  int64 \n",
      " 8   Product_Category            550068 non-null  int64 \n",
      " 9   Purchase                    550068 non-null  int64 \n",
      "dtypes: int64(5), object(5)\n",
      "memory usage: 42.0+ MB\n"
     ]
    }
   ],
   "source": [
    "data.info()"
   ]
  },
  {
   "cell_type": "code",
   "execution_count": 8,
   "id": "4c01c4eb",
   "metadata": {},
   "outputs": [
    {
     "data": {
      "text/plain": [
       "User_ID                       0.0\n",
       "Product_ID                    0.0\n",
       "Gender                        0.0\n",
       "Age                           0.0\n",
       "Occupation                    0.0\n",
       "City_Category                 0.0\n",
       "Stay_In_Current_City_Years    0.0\n",
       "Marital_Status                0.0\n",
       "Product_Category              0.0\n",
       "Purchase                      0.0\n",
       "dtype: float64"
      ]
     },
     "execution_count": 8,
     "metadata": {},
     "output_type": "execute_result"
    }
   ],
   "source": [
    "(data.isna().sum()/len(data))*100"
   ]
  },
  {
   "cell_type": "code",
   "execution_count": 9,
   "id": "0e7b09fb",
   "metadata": {},
   "outputs": [],
   "source": [
    "# from above information, no null values detected."
   ]
  },
  {
   "cell_type": "code",
   "execution_count": 10,
   "id": "61736130",
   "metadata": {},
   "outputs": [
    {
     "data": {
      "text/plain": [
       "User_ID                        5891\n",
       "Product_ID                     3631\n",
       "Gender                            2\n",
       "Age                               7\n",
       "Occupation                       21\n",
       "City_Category                     3\n",
       "Stay_In_Current_City_Years        5\n",
       "Marital_Status                    2\n",
       "Product_Category                 20\n",
       "Purchase                      18105\n",
       "dtype: int64"
      ]
     },
     "execution_count": 10,
     "metadata": {},
     "output_type": "execute_result"
    }
   ],
   "source": [
    "data.nunique()"
   ]
  },
  {
   "cell_type": "markdown",
   "id": "7c5899bb",
   "metadata": {},
   "source": [
    "## Unique Values in each column : \n",
    "- 5891 unique customers \n",
    "- 3631 unique products  \n",
    "- 7 different age groups \n",
    "- 3 different city \n",
    "- stay in current city from 0 to 5 years \n",
    "- Gender  , Marital status \n",
    "- 20 different product category "
   ]
  },
  {
   "cell_type": "code",
   "execution_count": null,
   "id": "4534e734",
   "metadata": {},
   "outputs": [],
   "source": []
  },
  {
   "cell_type": "code",
   "execution_count": 11,
   "id": "9fe87390",
   "metadata": {},
   "outputs": [],
   "source": [
    "# Purchase is the only numerical data \n",
    "# changing all other data types as string/category."
   ]
  },
  {
   "cell_type": "code",
   "execution_count": 12,
   "id": "01e26e29",
   "metadata": {},
   "outputs": [],
   "source": [
    "data[\"Product_Category\"] = data[\"Product_Category\"].astype(\"str\")\n",
    "data[\"Marital_Status\"] = data[\"Marital_Status\"].astype(\"str\")\n",
    "data[\"Occupation\"] = data[\"Occupation\"].astype(\"str\")\n",
    "data[\"User_ID\"] = data[\"User_ID\"].astype(\"str\")"
   ]
  },
  {
   "cell_type": "code",
   "execution_count": 13,
   "id": "9db2625b",
   "metadata": {},
   "outputs": [],
   "source": [
    "# describing data : "
   ]
  },
  {
   "cell_type": "code",
   "execution_count": 14,
   "id": "3db06b90",
   "metadata": {},
   "outputs": [
    {
     "data": {
      "text/html": [
       "<div>\n",
       "<style scoped>\n",
       "    .dataframe tbody tr th:only-of-type {\n",
       "        vertical-align: middle;\n",
       "    }\n",
       "\n",
       "    .dataframe tbody tr th {\n",
       "        vertical-align: top;\n",
       "    }\n",
       "\n",
       "    .dataframe thead th {\n",
       "        text-align: right;\n",
       "    }\n",
       "</style>\n",
       "<table border=\"1\" class=\"dataframe\">\n",
       "  <thead>\n",
       "    <tr style=\"text-align: right;\">\n",
       "      <th></th>\n",
       "      <th>User_ID</th>\n",
       "      <th>Product_ID</th>\n",
       "      <th>Gender</th>\n",
       "      <th>Age</th>\n",
       "      <th>Occupation</th>\n",
       "      <th>City_Category</th>\n",
       "      <th>Stay_In_Current_City_Years</th>\n",
       "      <th>Marital_Status</th>\n",
       "      <th>Product_Category</th>\n",
       "    </tr>\n",
       "  </thead>\n",
       "  <tbody>\n",
       "    <tr>\n",
       "      <th>count</th>\n",
       "      <td>550068</td>\n",
       "      <td>550068</td>\n",
       "      <td>550068</td>\n",
       "      <td>550068</td>\n",
       "      <td>550068</td>\n",
       "      <td>550068</td>\n",
       "      <td>550068</td>\n",
       "      <td>550068</td>\n",
       "      <td>550068</td>\n",
       "    </tr>\n",
       "    <tr>\n",
       "      <th>unique</th>\n",
       "      <td>5891</td>\n",
       "      <td>3631</td>\n",
       "      <td>2</td>\n",
       "      <td>7</td>\n",
       "      <td>21</td>\n",
       "      <td>3</td>\n",
       "      <td>5</td>\n",
       "      <td>2</td>\n",
       "      <td>20</td>\n",
       "    </tr>\n",
       "    <tr>\n",
       "      <th>top</th>\n",
       "      <td>1001680</td>\n",
       "      <td>P00265242</td>\n",
       "      <td>M</td>\n",
       "      <td>26-35</td>\n",
       "      <td>4</td>\n",
       "      <td>B</td>\n",
       "      <td>1</td>\n",
       "      <td>0</td>\n",
       "      <td>5</td>\n",
       "    </tr>\n",
       "    <tr>\n",
       "      <th>freq</th>\n",
       "      <td>1026</td>\n",
       "      <td>1880</td>\n",
       "      <td>414259</td>\n",
       "      <td>219587</td>\n",
       "      <td>72308</td>\n",
       "      <td>231173</td>\n",
       "      <td>193821</td>\n",
       "      <td>324731</td>\n",
       "      <td>150933</td>\n",
       "    </tr>\n",
       "  </tbody>\n",
       "</table>\n",
       "</div>"
      ],
      "text/plain": [
       "        User_ID Product_ID  Gender     Age Occupation City_Category  \\\n",
       "count    550068     550068  550068  550068     550068        550068   \n",
       "unique     5891       3631       2       7         21             3   \n",
       "top     1001680  P00265242       M   26-35          4             B   \n",
       "freq       1026       1880  414259  219587      72308        231173   \n",
       "\n",
       "       Stay_In_Current_City_Years Marital_Status Product_Category  \n",
       "count                      550068         550068           550068  \n",
       "unique                          5              2               20  \n",
       "top                             1              0                5  \n",
       "freq                       193821         324731           150933  "
      ]
     },
     "execution_count": 14,
     "metadata": {},
     "output_type": "execute_result"
    }
   ],
   "source": [
    "data.describe(include=\"object\")"
   ]
  },
  {
   "cell_type": "code",
   "execution_count": 15,
   "id": "3cf54b4e",
   "metadata": {},
   "outputs": [
    {
     "data": {
      "text/html": [
       "<div>\n",
       "<style scoped>\n",
       "    .dataframe tbody tr th:only-of-type {\n",
       "        vertical-align: middle;\n",
       "    }\n",
       "\n",
       "    .dataframe tbody tr th {\n",
       "        vertical-align: top;\n",
       "    }\n",
       "\n",
       "    .dataframe thead th {\n",
       "        text-align: right;\n",
       "    }\n",
       "</style>\n",
       "<table border=\"1\" class=\"dataframe\">\n",
       "  <thead>\n",
       "    <tr style=\"text-align: right;\">\n",
       "      <th></th>\n",
       "      <th>count</th>\n",
       "      <th>mean</th>\n",
       "      <th>std</th>\n",
       "      <th>min</th>\n",
       "      <th>25%</th>\n",
       "      <th>50%</th>\n",
       "      <th>75%</th>\n",
       "      <th>max</th>\n",
       "    </tr>\n",
       "  </thead>\n",
       "  <tbody>\n",
       "    <tr>\n",
       "      <th>Purchase</th>\n",
       "      <td>550068.0</td>\n",
       "      <td>9263.968713</td>\n",
       "      <td>5023.065394</td>\n",
       "      <td>12.0</td>\n",
       "      <td>5823.0</td>\n",
       "      <td>8047.0</td>\n",
       "      <td>12054.0</td>\n",
       "      <td>23961.0</td>\n",
       "    </tr>\n",
       "  </tbody>\n",
       "</table>\n",
       "</div>"
      ],
      "text/plain": [
       "             count         mean          std   min     25%     50%      75%  \\\n",
       "Purchase  550068.0  9263.968713  5023.065394  12.0  5823.0  8047.0  12054.0   \n",
       "\n",
       "              max  \n",
       "Purchase  23961.0  "
      ]
     },
     "execution_count": 15,
     "metadata": {},
     "output_type": "execute_result"
    }
   ],
   "source": [
    "data.describe().T"
   ]
  },
  {
   "cell_type": "code",
   "execution_count": 16,
   "id": "5a8bff1d",
   "metadata": {},
   "outputs": [],
   "source": [
    "# replacing gender and marital status values."
   ]
  },
  {
   "cell_type": "code",
   "execution_count": 17,
   "id": "bc0c33c4",
   "metadata": {},
   "outputs": [],
   "source": [
    "data[\"Gender\"].replace({\"M\":\"Male\",\n",
    "                               \"F\":\"Female\"},inplace=True)\n",
    "data[\"Marital_Status\"].replace({\"0\":\"Singe\",\n",
    "                               \"1\":\"Married\"},inplace=True)"
   ]
  },
  {
   "cell_type": "code",
   "execution_count": 18,
   "id": "bfd9364a",
   "metadata": {},
   "outputs": [
    {
     "data": {
      "text/html": [
       "<div>\n",
       "<style scoped>\n",
       "    .dataframe tbody tr th:only-of-type {\n",
       "        vertical-align: middle;\n",
       "    }\n",
       "\n",
       "    .dataframe tbody tr th {\n",
       "        vertical-align: top;\n",
       "    }\n",
       "\n",
       "    .dataframe thead th {\n",
       "        text-align: right;\n",
       "    }\n",
       "</style>\n",
       "<table border=\"1\" class=\"dataframe\">\n",
       "  <thead>\n",
       "    <tr style=\"text-align: right;\">\n",
       "      <th></th>\n",
       "      <th>User_ID</th>\n",
       "      <th>Product_ID</th>\n",
       "      <th>Gender</th>\n",
       "      <th>Age</th>\n",
       "      <th>Occupation</th>\n",
       "      <th>City_Category</th>\n",
       "      <th>Stay_In_Current_City_Years</th>\n",
       "      <th>Marital_Status</th>\n",
       "      <th>Product_Category</th>\n",
       "      <th>Purchase</th>\n",
       "    </tr>\n",
       "  </thead>\n",
       "  <tbody>\n",
       "    <tr>\n",
       "      <th>0</th>\n",
       "      <td>1000001</td>\n",
       "      <td>P00069042</td>\n",
       "      <td>Female</td>\n",
       "      <td>0-17</td>\n",
       "      <td>10</td>\n",
       "      <td>A</td>\n",
       "      <td>2</td>\n",
       "      <td>Singe</td>\n",
       "      <td>3</td>\n",
       "      <td>8370</td>\n",
       "    </tr>\n",
       "    <tr>\n",
       "      <th>1</th>\n",
       "      <td>1000001</td>\n",
       "      <td>P00248942</td>\n",
       "      <td>Female</td>\n",
       "      <td>0-17</td>\n",
       "      <td>10</td>\n",
       "      <td>A</td>\n",
       "      <td>2</td>\n",
       "      <td>Singe</td>\n",
       "      <td>1</td>\n",
       "      <td>15200</td>\n",
       "    </tr>\n",
       "    <tr>\n",
       "      <th>2</th>\n",
       "      <td>1000001</td>\n",
       "      <td>P00087842</td>\n",
       "      <td>Female</td>\n",
       "      <td>0-17</td>\n",
       "      <td>10</td>\n",
       "      <td>A</td>\n",
       "      <td>2</td>\n",
       "      <td>Singe</td>\n",
       "      <td>12</td>\n",
       "      <td>1422</td>\n",
       "    </tr>\n",
       "    <tr>\n",
       "      <th>3</th>\n",
       "      <td>1000001</td>\n",
       "      <td>P00085442</td>\n",
       "      <td>Female</td>\n",
       "      <td>0-17</td>\n",
       "      <td>10</td>\n",
       "      <td>A</td>\n",
       "      <td>2</td>\n",
       "      <td>Singe</td>\n",
       "      <td>12</td>\n",
       "      <td>1057</td>\n",
       "    </tr>\n",
       "    <tr>\n",
       "      <th>4</th>\n",
       "      <td>1000002</td>\n",
       "      <td>P00285442</td>\n",
       "      <td>Male</td>\n",
       "      <td>55+</td>\n",
       "      <td>16</td>\n",
       "      <td>C</td>\n",
       "      <td>4+</td>\n",
       "      <td>Singe</td>\n",
       "      <td>8</td>\n",
       "      <td>7969</td>\n",
       "    </tr>\n",
       "  </tbody>\n",
       "</table>\n",
       "</div>"
      ],
      "text/plain": [
       "   User_ID Product_ID  Gender   Age Occupation City_Category  \\\n",
       "0  1000001  P00069042  Female  0-17         10             A   \n",
       "1  1000001  P00248942  Female  0-17         10             A   \n",
       "2  1000001  P00087842  Female  0-17         10             A   \n",
       "3  1000001  P00085442  Female  0-17         10             A   \n",
       "4  1000002  P00285442    Male   55+         16             C   \n",
       "\n",
       "  Stay_In_Current_City_Years Marital_Status Product_Category  Purchase  \n",
       "0                          2          Singe                3      8370  \n",
       "1                          2          Singe                1     15200  \n",
       "2                          2          Singe               12      1422  \n",
       "3                          2          Singe               12      1057  \n",
       "4                         4+          Singe                8      7969  "
      ]
     },
     "execution_count": 18,
     "metadata": {},
     "output_type": "execute_result"
    }
   ],
   "source": [
    "data.head()"
   ]
  },
  {
   "cell_type": "code",
   "execution_count": null,
   "id": "a25796b5",
   "metadata": {},
   "outputs": [],
   "source": []
  },
  {
   "cell_type": "code",
   "execution_count": 19,
   "id": "162f2898",
   "metadata": {},
   "outputs": [
    {
     "data": {
      "text/plain": [
       "0"
      ]
     },
     "execution_count": 19,
     "metadata": {},
     "output_type": "execute_result"
    }
   ],
   "source": [
    "data.duplicated().sum()"
   ]
  },
  {
   "cell_type": "code",
   "execution_count": 20,
   "id": "540539d0",
   "metadata": {},
   "outputs": [],
   "source": [
    "# No duplicated data in given dataset . "
   ]
  },
  {
   "cell_type": "code",
   "execution_count": 21,
   "id": "0bd14ef6",
   "metadata": {},
   "outputs": [],
   "source": [
    "# data.columns"
   ]
  },
  {
   "cell_type": "markdown",
   "id": "7104e22e",
   "metadata": {},
   "source": [
    "### data distribution of Marital Status wise and Gender wise in given data set: "
   ]
  },
  {
   "cell_type": "code",
   "execution_count": 22,
   "id": "b32004c8",
   "metadata": {},
   "outputs": [
    {
     "data": {
      "text/plain": [
       "Male      75.310507\n",
       "Female    24.689493\n",
       "Name: Gender, dtype: float64"
      ]
     },
     "execution_count": 22,
     "metadata": {},
     "output_type": "execute_result"
    }
   ],
   "source": [
    "data[\"Gender\"].value_counts(normalize=True)*100"
   ]
  },
  {
   "cell_type": "raw",
   "id": "117c8d23",
   "metadata": {},
   "source": [
    "75% male and 25% are female customers as per given sample data"
   ]
  },
  {
   "cell_type": "code",
   "execution_count": 23,
   "id": "1a827dcd",
   "metadata": {
    "scrolled": true
   },
   "outputs": [
    {
     "data": {
      "text/plain": [
       "26-35    39.919974\n",
       "36-45    19.999891\n",
       "18-25    18.117760\n",
       "46-50     8.308246\n",
       "51-55     6.999316\n",
       "55+       3.909335\n",
       "0-17      2.745479\n",
       "Name: Age, dtype: float64"
      ]
     },
     "execution_count": 23,
     "metadata": {},
     "output_type": "execute_result"
    }
   ],
   "source": [
    "data[\"Age\"].value_counts(normalize=True)*100"
   ]
  },
  {
   "cell_type": "code",
   "execution_count": 24,
   "id": "0aea03cf",
   "metadata": {},
   "outputs": [],
   "source": [
    "# Majority of customers are between age 18-45 years . "
   ]
  },
  {
   "cell_type": "code",
   "execution_count": 25,
   "id": "5b0d3ab3",
   "metadata": {
    "scrolled": true
   },
   "outputs": [
    {
     "data": {
      "text/plain": [
       "B    42.026259\n",
       "C    31.118880\n",
       "A    26.854862\n",
       "Name: City_Category, dtype: float64"
      ]
     },
     "execution_count": 25,
     "metadata": {},
     "output_type": "execute_result"
    }
   ],
   "source": [
    "data[\"City_Category\"].value_counts(normalize=True)*100"
   ]
  },
  {
   "cell_type": "code",
   "execution_count": 26,
   "id": "0cd006ef",
   "metadata": {},
   "outputs": [
    {
     "data": {
      "text/plain": [
       "Singe      59.034701\n",
       "Married    40.965299\n",
       "Name: Marital_Status, dtype: float64"
      ]
     },
     "execution_count": 26,
     "metadata": {},
     "output_type": "execute_result"
    }
   ],
   "source": [
    "data[\"Marital_Status\"].value_counts(normalize=True)*100"
   ]
  },
  {
   "cell_type": "code",
   "execution_count": null,
   "id": "729f38cb",
   "metadata": {},
   "outputs": [],
   "source": []
  },
  {
   "cell_type": "markdown",
   "id": "4a41c518",
   "metadata": {},
   "source": [
    "#### from the given data: \n",
    "    75.31 % customers are male\n",
    "    24.68 % customers are female"
   ]
  },
  {
   "cell_type": "markdown",
   "id": "952227d0",
   "metadata": {},
   "source": [
    "### from the prproblem statement : \n",
    "      company has 50 million customers are male and 50 million are female overall.\n",
    "\n",
    "\n",
    "Given Sample is a gender biased . \n"
   ]
  },
  {
   "cell_type": "markdown",
   "id": "ae8d5476",
   "metadata": {},
   "source": [
    "### Plots for basic distribution across given data : "
   ]
  },
  {
   "cell_type": "code",
   "execution_count": 27,
   "id": "090f84a1",
   "metadata": {},
   "outputs": [
    {
     "data": {
      "image/png": "[encoded data removed]",
      "text/plain": [
       "<Figure size 432x288 with 1 Axes>"
      ]
     },
     "metadata": {},
     "output_type": "display_data"
    }
   ],
   "source": [
    "sns.barplot(x = data[\"Gender\"].value_counts(normalize=True).index,\n",
    "             y = data[\"Gender\"].value_counts(normalize=True))\n",
    "plt.xlabel(\"Gender\")\n",
    "plt.ylabel(\"Frequency in %\")\n",
    "plt.show()"
   ]
  },
  {
   "cell_type": "code",
   "execution_count": 28,
   "id": "f3a5f249",
   "metadata": {},
   "outputs": [
    {
     "data": {
      "image/png": "[encoded data removed]",
      "text/plain": [
       "<Figure size 504x360 with 1 Axes>"
      ]
     },
     "metadata": {},
     "output_type": "display_data"
    }
   ],
   "source": [
    "plt.figure(figsize=(7,5))\n",
    "sns.barplot(x = data[\"Marital_Status\"].value_counts(normalize=True).index,\n",
    "             y = data[\"Marital_Status\"].value_counts(normalize=True))\n",
    "plt.xlabel(\"Marital Status\")\n",
    "plt.ylabel(\"Frequency in %\")\n",
    "plt.show()"
   ]
  },
  {
   "cell_type": "code",
   "execution_count": 29,
   "id": "385812ff",
   "metadata": {},
   "outputs": [
    {
     "data": {
      "image/png": "[encoded data removed]",
      "text/plain": [
       "<Figure size 504x360 with 1 Axes>"
      ]
     },
     "metadata": {},
     "output_type": "display_data"
    }
   ],
   "source": [
    "plt.figure(figsize=(7,5))\n",
    "sns.barplot(x = data[\"Age\"].value_counts(normalize=True).index,\n",
    "             y = data[\"Age\"].value_counts(normalize=True))\n",
    "plt.xlabel(\"Age Group\")\n",
    "plt.ylabel(\"Frequency in %\")\n",
    "plt.show()"
   ]
  },
  {
   "cell_type": "code",
   "execution_count": null,
   "id": "5364db5e",
   "metadata": {},
   "outputs": [],
   "source": []
  },
  {
   "cell_type": "code",
   "execution_count": null,
   "id": "a08d3ebe",
   "metadata": {},
   "outputs": [],
   "source": []
  },
  {
   "cell_type": "markdown",
   "id": "e61d5f00",
   "metadata": {},
   "source": [
    "## Describing Purchase Statistic for Male and Female Data. "
   ]
  },
  {
   "cell_type": "code",
   "execution_count": 30,
   "id": "08042580",
   "metadata": {},
   "outputs": [
    {
     "data": {
      "text/html": [
       "<div>\n",
       "<style scoped>\n",
       "    .dataframe tbody tr th:only-of-type {\n",
       "        vertical-align: middle;\n",
       "    }\n",
       "\n",
       "    .dataframe tbody tr th {\n",
       "        vertical-align: top;\n",
       "    }\n",
       "\n",
       "    .dataframe thead th {\n",
       "        text-align: right;\n",
       "    }\n",
       "</style>\n",
       "<table border=\"1\" class=\"dataframe\">\n",
       "  <thead>\n",
       "    <tr style=\"text-align: right;\">\n",
       "      <th></th>\n",
       "      <th>count</th>\n",
       "      <th>mean</th>\n",
       "      <th>std</th>\n",
       "      <th>min</th>\n",
       "      <th>25%</th>\n",
       "      <th>50%</th>\n",
       "      <th>75%</th>\n",
       "      <th>max</th>\n",
       "    </tr>\n",
       "  </thead>\n",
       "  <tbody>\n",
       "    <tr>\n",
       "      <th>Purchase</th>\n",
       "      <td>414259.0</td>\n",
       "      <td>9437.52604</td>\n",
       "      <td>5092.18621</td>\n",
       "      <td>12.0</td>\n",
       "      <td>5863.0</td>\n",
       "      <td>8098.0</td>\n",
       "      <td>12454.0</td>\n",
       "      <td>23961.0</td>\n",
       "    </tr>\n",
       "  </tbody>\n",
       "</table>\n",
       "</div>"
      ],
      "text/plain": [
       "             count        mean         std   min     25%     50%      75%  \\\n",
       "Purchase  414259.0  9437.52604  5092.18621  12.0  5863.0  8098.0  12454.0   \n",
       "\n",
       "              max  \n",
       "Purchase  23961.0  "
      ]
     },
     "execution_count": 30,
     "metadata": {},
     "output_type": "execute_result"
    }
   ],
   "source": [
    "Male_data = data.loc[data[\"Gender\"]==\"Male\"]\n",
    "Male_data.describe().T"
   ]
  },
  {
   "cell_type": "code",
   "execution_count": 31,
   "id": "6354be70",
   "metadata": {},
   "outputs": [
    {
     "data": {
      "text/html": [
       "<div>\n",
       "<style scoped>\n",
       "    .dataframe tbody tr th:only-of-type {\n",
       "        vertical-align: middle;\n",
       "    }\n",
       "\n",
       "    .dataframe tbody tr th {\n",
       "        vertical-align: top;\n",
       "    }\n",
       "\n",
       "    .dataframe thead th {\n",
       "        text-align: right;\n",
       "    }\n",
       "</style>\n",
       "<table border=\"1\" class=\"dataframe\">\n",
       "  <thead>\n",
       "    <tr style=\"text-align: right;\">\n",
       "      <th></th>\n",
       "      <th>count</th>\n",
       "      <th>mean</th>\n",
       "      <th>std</th>\n",
       "      <th>min</th>\n",
       "      <th>25%</th>\n",
       "      <th>50%</th>\n",
       "      <th>75%</th>\n",
       "      <th>max</th>\n",
       "    </tr>\n",
       "  </thead>\n",
       "  <tbody>\n",
       "    <tr>\n",
       "      <th>Purchase</th>\n",
       "      <td>135809.0</td>\n",
       "      <td>8734.565765</td>\n",
       "      <td>4767.233289</td>\n",
       "      <td>12.0</td>\n",
       "      <td>5433.0</td>\n",
       "      <td>7914.0</td>\n",
       "      <td>11400.0</td>\n",
       "      <td>23959.0</td>\n",
       "    </tr>\n",
       "  </tbody>\n",
       "</table>\n",
       "</div>"
      ],
      "text/plain": [
       "             count         mean          std   min     25%     50%      75%  \\\n",
       "Purchase  135809.0  8734.565765  4767.233289  12.0  5433.0  7914.0  11400.0   \n",
       "\n",
       "              max  \n",
       "Purchase  23959.0  "
      ]
     },
     "execution_count": 31,
     "metadata": {},
     "output_type": "execute_result"
    }
   ],
   "source": [
    "Female_data = data.loc[data[\"Gender\"]==\"Female\"]\n",
    "Female_data.describe().T"
   ]
  },
  {
   "cell_type": "markdown",
   "id": "9d692ac3",
   "metadata": {},
   "source": [
    "## Describing Purchase Statistic for Married and Singe Customer Data. "
   ]
  },
  {
   "cell_type": "code",
   "execution_count": 32,
   "id": "d4d7cd9c",
   "metadata": {},
   "outputs": [
    {
     "data": {
      "text/html": [
       "<div>\n",
       "<style scoped>\n",
       "    .dataframe tbody tr th:only-of-type {\n",
       "        vertical-align: middle;\n",
       "    }\n",
       "\n",
       "    .dataframe tbody tr th {\n",
       "        vertical-align: top;\n",
       "    }\n",
       "\n",
       "    .dataframe thead th {\n",
       "        text-align: right;\n",
       "    }\n",
       "</style>\n",
       "<table border=\"1\" class=\"dataframe\">\n",
       "  <thead>\n",
       "    <tr style=\"text-align: right;\">\n",
       "      <th></th>\n",
       "      <th>count</th>\n",
       "      <th>mean</th>\n",
       "      <th>std</th>\n",
       "      <th>min</th>\n",
       "      <th>25%</th>\n",
       "      <th>50%</th>\n",
       "      <th>75%</th>\n",
       "      <th>max</th>\n",
       "    </tr>\n",
       "  </thead>\n",
       "  <tbody>\n",
       "    <tr>\n",
       "      <th>Purchase</th>\n",
       "      <td>324731.0</td>\n",
       "      <td>9265.907619</td>\n",
       "      <td>5027.347859</td>\n",
       "      <td>12.0</td>\n",
       "      <td>5605.0</td>\n",
       "      <td>8044.0</td>\n",
       "      <td>12061.0</td>\n",
       "      <td>23961.0</td>\n",
       "    </tr>\n",
       "  </tbody>\n",
       "</table>\n",
       "</div>"
      ],
      "text/plain": [
       "             count         mean          std   min     25%     50%      75%  \\\n",
       "Purchase  324731.0  9265.907619  5027.347859  12.0  5605.0  8044.0  12061.0   \n",
       "\n",
       "              max  \n",
       "Purchase  23961.0  "
      ]
     },
     "execution_count": 32,
     "metadata": {},
     "output_type": "execute_result"
    }
   ],
   "source": [
    "Singe_data = data.loc[data[\"Marital_Status\"]==\"Singe\"]\n",
    "Singe_data.describe().T"
   ]
  },
  {
   "cell_type": "code",
   "execution_count": 33,
   "id": "981dab75",
   "metadata": {},
   "outputs": [
    {
     "data": {
      "text/html": [
       "<div>\n",
       "<style scoped>\n",
       "    .dataframe tbody tr th:only-of-type {\n",
       "        vertical-align: middle;\n",
       "    }\n",
       "\n",
       "    .dataframe tbody tr th {\n",
       "        vertical-align: top;\n",
       "    }\n",
       "\n",
       "    .dataframe thead th {\n",
       "        text-align: right;\n",
       "    }\n",
       "</style>\n",
       "<table border=\"1\" class=\"dataframe\">\n",
       "  <thead>\n",
       "    <tr style=\"text-align: right;\">\n",
       "      <th></th>\n",
       "      <th>count</th>\n",
       "      <th>mean</th>\n",
       "      <th>std</th>\n",
       "      <th>min</th>\n",
       "      <th>25%</th>\n",
       "      <th>50%</th>\n",
       "      <th>75%</th>\n",
       "      <th>max</th>\n",
       "    </tr>\n",
       "  </thead>\n",
       "  <tbody>\n",
       "    <tr>\n",
       "      <th>Purchase</th>\n",
       "      <td>225337.0</td>\n",
       "      <td>9261.174574</td>\n",
       "      <td>5016.897378</td>\n",
       "      <td>12.0</td>\n",
       "      <td>5843.0</td>\n",
       "      <td>8051.0</td>\n",
       "      <td>12042.0</td>\n",
       "      <td>23961.0</td>\n",
       "    </tr>\n",
       "  </tbody>\n",
       "</table>\n",
       "</div>"
      ],
      "text/plain": [
       "             count         mean          std   min     25%     50%      75%  \\\n",
       "Purchase  225337.0  9261.174574  5016.897378  12.0  5843.0  8051.0  12042.0   \n",
       "\n",
       "              max  \n",
       "Purchase  23961.0  "
      ]
     },
     "execution_count": 33,
     "metadata": {},
     "output_type": "execute_result"
    }
   ],
   "source": [
    "Married_data = data.loc[data[\"Marital_Status\"]==\"Married\"]\n",
    "Married_data.describe().T"
   ]
  },
  {
   "cell_type": "code",
   "execution_count": 34,
   "id": "7f29a77a",
   "metadata": {},
   "outputs": [],
   "source": [
    "# Male and female Customes Spending Amount distriubtion \n",
    "\n",
    "# checking if the purchase data is normally distributed "
   ]
  },
  {
   "cell_type": "code",
   "execution_count": 35,
   "id": "3acee892",
   "metadata": {
    "scrolled": true
   },
   "outputs": [
    {
     "data": {
      "image/png": "[encoded data removed]",
      "text/plain": [
       "<Figure size 720x360 with 2 Axes>"
      ]
     },
     "metadata": {},
     "output_type": "display_data"
    }
   ],
   "source": [
    "sns.displot(x = data[\"Purchase\"], bins = 10, col=data[\"Gender\"])\n",
    "plt.show()"
   ]
  },
  {
   "cell_type": "code",
   "execution_count": null,
   "id": "88089758",
   "metadata": {},
   "outputs": [],
   "source": []
  },
  {
   "cell_type": "code",
   "execution_count": 36,
   "id": "7a187b6a",
   "metadata": {},
   "outputs": [],
   "source": [
    "# Single and Married Customes Spending Amount distriubtion \n",
    "\n",
    "# checking if the purchase data is normally distributed "
   ]
  },
  {
   "cell_type": "code",
   "execution_count": 37,
   "id": "da000aec",
   "metadata": {},
   "outputs": [
    {
     "data": {
      "image/png": "[encoded data removed]",
      "text/plain": [
       "<Figure size 720x360 with 2 Axes>"
      ]
     },
     "metadata": {},
     "output_type": "display_data"
    }
   ],
   "source": [
    "sns.displot(x = data[\"Purchase\"], bins = 10, col=data[\"Marital_Status\"])\n",
    "plt.show()"
   ]
  },
  {
   "cell_type": "code",
   "execution_count": null,
   "id": "7c3079c0",
   "metadata": {},
   "outputs": [],
   "source": []
  },
  {
   "cell_type": "code",
   "execution_count": null,
   "id": "680cc8f9",
   "metadata": {},
   "outputs": [],
   "source": []
  },
  {
   "cell_type": "code",
   "execution_count": 38,
   "id": "8f3d9800",
   "metadata": {},
   "outputs": [
    {
     "data": {
      "text/plain": [
       "<AxesSubplot:xlabel='Gender', ylabel='Purchase'>"
      ]
     },
     "execution_count": 38,
     "metadata": {},
     "output_type": "execute_result"
    },
    {
     "data": {
      "image/png": "[encoded data removed]",
      "text/plain": [
       "<Figure size 432x288 with 1 Axes>"
      ]
     },
     "metadata": {},
     "output_type": "display_data"
    }
   ],
   "source": [
    "sns.boxplot(x = \"Gender\", y = \"Purchase\", data = data)"
   ]
  },
  {
   "cell_type": "code",
   "execution_count": 39,
   "id": "41529a10",
   "metadata": {},
   "outputs": [],
   "source": [
    "# observing , differences in mean and median values and as per boxplot , \n",
    "# outliers are there in data. "
   ]
  },
  {
   "cell_type": "markdown",
   "id": "e0b68b3e",
   "metadata": {},
   "source": [
    "#  Outliers Calculations:"
   ]
  },
  {
   "cell_type": "code",
   "execution_count": 40,
   "id": "cf78f0a2",
   "metadata": {},
   "outputs": [],
   "source": [
    "def detect_outliers(data):\n",
    "    length_before = len(data)\n",
    "    Q1 = np.percentile(data[\"Purchase\"],25)\n",
    "    Q3 = np.percentile(data[\"Purchase\"],75)\n",
    "    IQR = Q3-Q1\n",
    "    upperbound = Q3+1.5*IQR\n",
    "    lowerbound = Q1-1.5*IQR\n",
    "    if lowerbound < 0:\n",
    "        lowerbound = 0\n",
    "    \n",
    "    length_after = len(data.loc[(data[\"Purchase\"]>lowerbound)&(data[\"Purchase\"]<upperbound)])\n",
    "    return f\"{np.round((length_before-length_after)/length_before,4)} % Outliers data from input data found\"\n",
    "    "
   ]
  },
  {
   "cell_type": "code",
   "execution_count": 41,
   "id": "1e34eb17",
   "metadata": {},
   "outputs": [
    {
     "data": {
      "text/plain": [
       "'0.0049 % Outliers data from input data found'"
      ]
     },
     "execution_count": 41,
     "metadata": {},
     "output_type": "execute_result"
    }
   ],
   "source": [
    "detect_outliers(data)"
   ]
  },
  {
   "cell_type": "code",
   "execution_count": 42,
   "id": "63f6fb78",
   "metadata": {},
   "outputs": [],
   "source": [
    "def detect_and_remove_outliers(data):\n",
    "    Q1 = np.percentile(data[\"Purchase\"],25)\n",
    "    Q3 = np.percentile(data[\"Purchase\"],75)\n",
    "    IQR = Q3-Q1\n",
    "    upperbound = Q3+1.5*IQR\n",
    "    lowerbound = Q1-1.5*IQR\n",
    "    if lowerbound < 0:\n",
    "        lowerbound = 0\n",
    "\n",
    "    return data.loc[(data[\"Purchase\"]>lowerbound)&(data[\"Purchase\"]<upperbound)]\n"
   ]
  },
  {
   "cell_type": "code",
   "execution_count": 43,
   "id": "9aee0724",
   "metadata": {},
   "outputs": [],
   "source": [
    "data = detect_and_remove_outliers(data)"
   ]
  },
  {
   "cell_type": "code",
   "execution_count": null,
   "id": "c3173b90",
   "metadata": {},
   "outputs": [],
   "source": []
  },
  {
   "cell_type": "code",
   "execution_count": null,
   "id": "2ddb03b9",
   "metadata": {},
   "outputs": [],
   "source": []
  },
  {
   "cell_type": "code",
   "execution_count": null,
   "id": "d376cbf3",
   "metadata": {},
   "outputs": [],
   "source": []
  },
  {
   "cell_type": "markdown",
   "id": "af71de9d",
   "metadata": {},
   "source": [
    "# Balancing the gender despaires "
   ]
  },
  {
   "cell_type": "code",
   "execution_count": 44,
   "id": "da4b6e91",
   "metadata": {},
   "outputs": [
    {
     "data": {
      "text/plain": [
       "Male      412171\n",
       "Female    135220\n",
       "Name: Gender, dtype: int64"
      ]
     },
     "execution_count": 44,
     "metadata": {},
     "output_type": "execute_result"
    }
   ],
   "source": [
    "data[\"Gender\"].value_counts()"
   ]
  },
  {
   "cell_type": "code",
   "execution_count": 45,
   "id": "119e180f",
   "metadata": {},
   "outputs": [
    {
     "data": {
      "text/plain": [
       "0.3280677194659498"
      ]
     },
     "execution_count": 45,
     "metadata": {},
     "output_type": "execute_result"
    }
   ],
   "source": [
    "135220/412171"
   ]
  },
  {
   "cell_type": "code",
   "execution_count": 46,
   "id": "a7f895cf",
   "metadata": {},
   "outputs": [],
   "source": [
    "condition =  data[\"Gender\"]==\"Male\""
   ]
  },
  {
   "cell_type": "code",
   "execution_count": 47,
   "id": "8493e8fb",
   "metadata": {},
   "outputs": [],
   "source": [
    "samplemale = data[condition].sample(n=135809)\n",
    "samplefemale = data.loc[data[\"Gender\"]==\"Female\"]"
   ]
  },
  {
   "cell_type": "code",
   "execution_count": 48,
   "id": "a32da231",
   "metadata": {},
   "outputs": [],
   "source": [
    "unbiased_data = pd.concat([samplemale,samplefemale])"
   ]
  },
  {
   "cell_type": "code",
   "execution_count": 49,
   "id": "2cbffb07",
   "metadata": {},
   "outputs": [
    {
     "data": {
      "text/plain": [
       "Singe      58.863812\n",
       "Married    41.136188\n",
       "Name: Marital_Status, dtype: float64"
      ]
     },
     "execution_count": 49,
     "metadata": {},
     "output_type": "execute_result"
    }
   ],
   "source": [
    "unbiased_data[\"Marital_Status\"].value_counts(normalize=True)*100"
   ]
  },
  {
   "cell_type": "code",
   "execution_count": 50,
   "id": "46673c1d",
   "metadata": {},
   "outputs": [
    {
     "data": {
      "text/plain": [
       "Male      50.10866\n",
       "Female    49.89134\n",
       "Name: Gender, dtype: float64"
      ]
     },
     "execution_count": 50,
     "metadata": {},
     "output_type": "execute_result"
    }
   ],
   "source": [
    "unbiased_data[\"Gender\"].value_counts(normalize=True)*100"
   ]
  },
  {
   "cell_type": "code",
   "execution_count": null,
   "id": "f881f80d",
   "metadata": {},
   "outputs": [],
   "source": []
  },
  {
   "cell_type": "markdown",
   "id": "64302d31",
   "metadata": {},
   "source": [
    ">> > #### Purchase data in given dataset is not perfectly normal . So with the help of Central Limit Theorem we can plot a distribution."
   ]
  },
  {
   "cell_type": "markdown",
   "id": "f5651285",
   "metadata": {},
   "source": [
    "### CLT on Purchase [ Gender Wise ]"
   ]
  },
  {
   "cell_type": "code",
   "execution_count": 51,
   "id": "527d246a",
   "metadata": {},
   "outputs": [],
   "source": [
    "def Bootstrapping_CLT_CI(data, confidence=95 , sample_size = 30000,trials = 200):\n",
    "    \n",
    "    \n",
    "    '''\n",
    "    data : array\n",
    "    confidence level : Required Confidence Level\n",
    "    Sample Size  : length of Sample Size\n",
    "    Trials : How many times we take sample sample from data. \n",
    "    '''\n",
    "    print(\"Data Distribution before Sampling/Bootstrap:\")\n",
    "    sns.distplot(data,bins = 15)\n",
    "    plt.show()\n",
    "\n",
    "    bootstrapped_mean= np.empty(trials)\n",
    "\n",
    "    for i in range(trials):\n",
    "        btssample = data.sample(n=sample_size,replace=True)\n",
    "        bootstrapped_mean[i] = np.mean(btssample)\n",
    "    print()\n",
    "    print(\"Data Distribution After Sampling/Bootstraping:\")\n",
    "    sns.distplot(bootstrapped_mean,bins = 15)\n",
    "    print()\n",
    "    sample_mean = np.mean(bootstrapped_mean)\n",
    "    sample_std = np.std(data)\n",
    "    standard_error = sample_std/np.sqrt(sample_size)\n",
    "    talfa_by2 = t.ppf((1-((1-(confidence)/100)/2)),df = sample_size-1)\n",
    "    print(\"t:\",talfa_by2)\n",
    "    margin_of_error = talfa_by2*standard_error\n",
    "    print(\"sample mean :\",sample_mean)\n",
    "    print(\"sample standard deviation :\",sample_std)\n",
    "    print(\"sample size: \",sample_size)\n",
    "    print(\"standard error :\",standard_error)\n",
    "    print(\"Margin of Error :\",margin_of_error)\n",
    "\n",
    "\n",
    "    lower_ = sample_mean - margin_of_error\n",
    "    upper_ = sample_mean + margin_of_error\n",
    "    CI = (lower_,upper_)\n",
    "\n",
    "    plt.axvline(x = lower_,c = \"r\")\n",
    "    plt.axvline(x = upper_,c = \"r\")\n",
    "    plt.show()\n",
    "\n",
    "\n",
    "\n",
    "    print(\"Confidence Interval : \",CI)\n"
   ]
  },
  {
   "cell_type": "code",
   "execution_count": 52,
   "id": "a055adf3",
   "metadata": {},
   "outputs": [],
   "source": [
    "import matplotlib.pyplot as plt\n",
    "import statistics\n",
    "from math import sqrt\n",
    "\n",
    "def plot_confidence_interval(x, values,  color='#2187bb', horizontal_line_width=0.25,confidence=95):\n",
    "    \n",
    "    def CI(data,confidence, sample_size=10000,trials = 500):\n",
    "\n",
    "        bootstrapped_mean= np.empty(trials)\n",
    "\n",
    "        for i in range(trials):\n",
    "            btssample = data.sample(n=sample_size,replace=True)\n",
    "            bootstrapped_mean[i] = np.mean(btssample)\n",
    "        sample_mean = np.mean(bootstrapped_mean)\n",
    "        sample_std = np.std(data)\n",
    "        standard_error = sample_std/np.sqrt(sample_size)\n",
    "        talfa_by2 = t.ppf((1-((1-(confidence)/100)/2)),df = sample_size-1)\n",
    "        margin_of_error = talfa_by2*standard_error\n",
    "        \n",
    "        return margin_of_error,sample_mean+margin_of_error,sample_mean-margin_of_error\n",
    "        \n",
    "    \n",
    "\n",
    "    \n",
    "    error,bottom,top = CI(values,confidence)\n",
    "\n",
    "    left = x - horizontal_line_width / 2\n",
    "    top = np.mean(values) - error\n",
    "    right = x + horizontal_line_width / 2\n",
    "    bottom = np.mean(values) + error\n",
    "    print(\"Confidence Interval : \",(top,bottom))\n",
    "    plt.plot([x, x], [top, bottom], color=color)\n",
    "    plt.plot([left, right], [top, top], color=color)\n",
    "    plt.plot([left, right], [bottom, bottom], color=color)\n",
    "    plt.plot(x, np.mean(values), 'o', color='#f44336')\n",
    "    print(\"Sample Mean :\",np.mean(values),\" and \",\"Margin of Error :\", error)\n"
   ]
  },
  {
   "cell_type": "markdown",
   "id": "6978ee0d",
   "metadata": {},
   "source": [
    "## Confidence Interval For Male (Purchase)"
   ]
  },
  {
   "cell_type": "code",
   "execution_count": 53,
   "id": "f34e69a7",
   "metadata": {
    "scrolled": false
   },
   "outputs": [
    {
     "name": "stdout",
     "output_type": "stream",
     "text": [
      "Data Distribution before Sampling/Bootstrap:\n"
     ]
    },
    {
     "data": {
      "image/png": "[encoded data removed]",
      "text/plain": [
       "<Figure size 432x288 with 1 Axes>"
      ]
     },
     "metadata": {},
     "output_type": "display_data"
    },
    {
     "name": "stdout",
     "output_type": "stream",
     "text": [
      "\n",
      "Data Distribution After Sampling/Bootstraping:\n",
      "\n",
      "t: 1.9602012636213575\n",
      "sample mean : 9438.509127400002\n",
      "sample standard deviation : 5092.180063635943\n",
      "sample size:  10000\n",
      "standard error : 50.92180063635943\n",
      "Margin of Error : 99.8169779532666\n"
     ]
    },
    {
     "data": {
      "image/png": "[encoded data removed]",
      "text/plain": [
       "<Figure size 432x288 with 1 Axes>"
      ]
     },
     "metadata": {},
     "output_type": "display_data"
    },
    {
     "name": "stdout",
     "output_type": "stream",
     "text": [
      "Confidence Interval :  (9338.692149446735, 9538.32610535327)\n"
     ]
    }
   ],
   "source": [
    "Bootstrapping_CLT_CI(Male_data[\"Purchase\"],sample_size=10000,trials=500)"
   ]
  },
  {
   "cell_type": "markdown",
   "id": "31fcb070",
   "metadata": {},
   "source": [
    "## Confidence Interval For Female (Purchase)"
   ]
  },
  {
   "cell_type": "code",
   "execution_count": 54,
   "id": "ed1892d4",
   "metadata": {},
   "outputs": [
    {
     "name": "stdout",
     "output_type": "stream",
     "text": [
      "Data Distribution before Sampling/Bootstrap:\n"
     ]
    },
    {
     "data": {
      "image/png": "[encoded data removed]",
      "text/plain": [
       "<Figure size 432x288 with 1 Axes>"
      ]
     },
     "metadata": {},
     "output_type": "display_data"
    },
    {
     "name": "stdout",
     "output_type": "stream",
     "text": [
      "\n",
      "Data Distribution After Sampling/Bootstraping:\n",
      "\n",
      "t: 1.9602012636213575\n",
      "sample mean : 8733.321182\n",
      "sample standard deviation : 4767.215738016988\n",
      "sample size:  10000\n",
      "standard error : 47.672157380169885\n",
      "Margin of Error : 93.44702313616523\n"
     ]
    },
    {
     "data": {
      "image/png": "[encoded data removed]",
      "text/plain": [
       "<Figure size 432x288 with 1 Axes>"
      ]
     },
     "metadata": {},
     "output_type": "display_data"
    },
    {
     "name": "stdout",
     "output_type": "stream",
     "text": [
      "Confidence Interval :  (8639.874158863835, 8826.768205136164)\n"
     ]
    }
   ],
   "source": [
    "Bootstrapping_CLT_CI(Female_data[\"Purchase\"],sample_size=10000,trials=500)"
   ]
  },
  {
   "cell_type": "markdown",
   "id": "9546733f",
   "metadata": {},
   "source": [
    "## Estimate of Average Spending Amount with 95% confidence for spendings of Male and Female Customers : "
   ]
  },
  {
   "cell_type": "code",
   "execution_count": 55,
   "id": "3fc119b3",
   "metadata": {},
   "outputs": [
    {
     "name": "stdout",
     "output_type": "stream",
     "text": [
      "Confidence Interval :  (9337.709062518998, 9537.343018425532)\n",
      "Sample Mean : 9437.526040472265  and  Margin of Error : 99.8169779532666\n",
      "Confidence Interval :  (8641.118742019311, 8828.01278829164)\n",
      "Sample Mean : 8734.565765155476  and  Margin of Error : 93.44702313616523\n"
     ]
    },
    {
     "data": {
      "image/png": "[encoded data removed]",
      "text/plain": [
       "<Figure size 576x432 with 1 Axes>"
      ]
     },
     "metadata": {},
     "output_type": "display_data"
    }
   ],
   "source": [
    "plt.figure(figsize=(8,6))\n",
    "\n",
    "plot_confidence_interval(x=1,values=Male_data[\"Purchase\"])\n",
    "plot_confidence_interval(x=2,values=Female_data[\"Purchase\"])\n",
    "plt.xticks([1,2],[\"Male Purchase\",\"Female Purchase\"])\n",
    "plt.title(\"Male and Female Purchase Amount Confidence Interval Comparition plot\")\n",
    "plt.ylabel(\"Mean Estimate of Male & Female Customer's Purchase\")\n",
    "plt.show()"
   ]
  },
  {
   "cell_type": "code",
   "execution_count": 56,
   "id": "a735e76d",
   "metadata": {
    "scrolled": false
   },
   "outputs": [
    {
     "data": {
      "image/png": "[encoded data removed]",
      "text/plain": [
       "<Figure size 576x432 with 1 Axes>"
      ]
     },
     "metadata": {},
     "output_type": "display_data"
    }
   ],
   "source": [
    "male_expense_mean = [Male_data['Purchase'].sample(10000).mean() for i in range(100)]\n",
    "female_expense_mean = [Female_data['Purchase'].sample(10000).mean() for i in range(100)]\n",
    "\n",
    "plt.figure(figsize=(8,6))\n",
    "sns.kdeplot(male_expense_mean,shade=True)\n",
    "sns.kdeplot(female_expense_mean,shade=True)\n",
    "plt.title(f\"Overlapping Confidence Intervals\")\n",
    "plt.show()\n"
   ]
  },
  {
   "cell_type": "markdown",
   "id": "588caefb",
   "metadata": {},
   "source": [
    "##### (with 95% confidence and sample size of 10000 , 500 trials. .)\n",
    "\n",
    "> - As per confidence Interval comparison for both female purchase and male purchase data , its clear  that there's no over lapping , and hence there's a good amount of difference between Male and Female Spending amounts . \n",
    "> - Male Customers are more likely to spend more amount than female customers . \n",
    "\n",
    "- Average Male Spending Amount from all 100 million customers lies in Range of 9333 to 9533 as per Bootstrapping Method . \n",
    "\n",
    "- Average Female Spending Amount from all 100 million customers lies in Range of 8639 to 8826 as per Bootstrapping Method . "
   ]
  },
  {
   "cell_type": "code",
   "execution_count": null,
   "id": "1cbd8bc7",
   "metadata": {},
   "outputs": [],
   "source": []
  },
  {
   "cell_type": "code",
   "execution_count": null,
   "id": "cf7e8abc",
   "metadata": {},
   "outputs": [],
   "source": []
  },
  {
   "cell_type": "code",
   "execution_count": null,
   "id": "2a15cf27",
   "metadata": {},
   "outputs": [],
   "source": []
  },
  {
   "cell_type": "code",
   "execution_count": null,
   "id": "85788311",
   "metadata": {},
   "outputs": [],
   "source": []
  },
  {
   "cell_type": "code",
   "execution_count": 57,
   "id": "1c96773e",
   "metadata": {},
   "outputs": [],
   "source": [
    "data = unbiased_data.copy()"
   ]
  },
  {
   "cell_type": "code",
   "execution_count": 58,
   "id": "d47fb7ef",
   "metadata": {},
   "outputs": [
    {
     "data": {
      "text/plain": [
       "26-35    39.078106\n",
       "36-45    20.024794\n",
       "18-25    18.147873\n",
       "46-50     8.768434\n",
       "51-55     7.073044\n",
       "55+       3.830955\n",
       "0-17      3.076793\n",
       "Name: Age, dtype: float64"
      ]
     },
     "execution_count": 58,
     "metadata": {},
     "output_type": "execute_result"
    }
   ],
   "source": [
    "data[\"Age\"].value_counts(normalize=True)*100"
   ]
  },
  {
   "cell_type": "markdown",
   "id": "ab602b15",
   "metadata": {},
   "source": [
    "## Confidence Interval For overall (Purchase) column"
   ]
  },
  {
   "cell_type": "code",
   "execution_count": null,
   "id": "b7a35e26",
   "metadata": {},
   "outputs": [],
   "source": []
  },
  {
   "cell_type": "code",
   "execution_count": 59,
   "id": "8d97ae0e",
   "metadata": {},
   "outputs": [
    {
     "name": "stdout",
     "output_type": "stream",
     "text": [
      "Data Distribution before Sampling/Bootstrap:\n"
     ]
    },
    {
     "data": {
      "image/png": "[encoded data removed]",
      "text/plain": [
       "<Figure size 432x288 with 1 Axes>"
      ]
     },
     "metadata": {},
     "output_type": "display_data"
    },
    {
     "name": "stdout",
     "output_type": "stream",
     "text": [
      "\n",
      "Data Distribution After Sampling/Bootstraping:\n",
      "\n",
      "t: 1.9602012636213575\n",
      "sample mean : 9015.331419400001\n",
      "sample standard deviation : 4857.911019517757\n",
      "sample size:  10000\n",
      "standard error : 48.57911019517757\n",
      "Margin of Error : 95.22483319018825\n"
     ]
    },
    {
     "data": {
      "image/png": "[encoded data removed]",
      "text/plain": [
       "<Figure size 432x288 with 1 Axes>"
      ]
     },
     "metadata": {},
     "output_type": "display_data"
    },
    {
     "name": "stdout",
     "output_type": "stream",
     "text": [
      "Confidence Interval :  (8920.106586209813, 9110.55625259019)\n"
     ]
    }
   ],
   "source": [
    "Bootstrapping_CLT_CI(unbiased_data[\"Purchase\"],sample_size=10000,trials=500)"
   ]
  },
  {
   "cell_type": "markdown",
   "id": "f6a1ed91",
   "metadata": {},
   "source": [
    "## Estimate of Average Spending Amount with 95% confidence for all customers :"
   ]
  },
  {
   "cell_type": "code",
   "execution_count": 60,
   "id": "31a9fc4b",
   "metadata": {},
   "outputs": [
    {
     "name": "stdout",
     "output_type": "stream",
     "text": [
      "Confidence Interval :  (8920.10804262753, 9110.557709007906)\n",
      "Sample Mean : 9015.332875817718  and  Margin of Error : 95.22483319018825\n"
     ]
    },
    {
     "data": {
      "image/png": "[encoded data removed]",
      "text/plain": [
       "<Figure size 432x288 with 1 Axes>"
      ]
     },
     "metadata": {},
     "output_type": "display_data"
    }
   ],
   "source": [
    "plot_confidence_interval(x=1,values=data[\"Purchase\"])\n",
    "plt.xticks([1],[\"Overall Customers\"])\n",
    "plt.show()"
   ]
  },
  {
   "cell_type": "code",
   "execution_count": null,
   "id": "bf9d0ca3",
   "metadata": {},
   "outputs": [],
   "source": []
  },
  {
   "cell_type": "markdown",
   "id": "3e2329fc",
   "metadata": {},
   "source": [
    "> All 100 million customer's average spending amount lies between 8931 to 9122. and sample mean is 9026. "
   ]
  },
  {
   "cell_type": "code",
   "execution_count": null,
   "id": "35961519",
   "metadata": {},
   "outputs": [],
   "source": []
  },
  {
   "cell_type": "code",
   "execution_count": null,
   "id": "f4c9627c",
   "metadata": {},
   "outputs": [],
   "source": []
  },
  {
   "cell_type": "markdown",
   "id": "92617db1",
   "metadata": {},
   "source": [
    "## Confidence Interval for Married People Purchase Data"
   ]
  },
  {
   "cell_type": "code",
   "execution_count": 61,
   "id": "3ab3bed9",
   "metadata": {
    "scrolled": false
   },
   "outputs": [
    {
     "name": "stdout",
     "output_type": "stream",
     "text": [
      "Data Distribution before Sampling/Bootstrap:\n"
     ]
    },
    {
     "data": {
      "image/png": "[encoded data removed]",
      "text/plain": [
       "<Figure size 432x288 with 1 Axes>"
      ]
     },
     "metadata": {},
     "output_type": "display_data"
    },
    {
     "name": "stdout",
     "output_type": "stream",
     "text": [
      "\n",
      "Data Distribution After Sampling/Bootstraping:\n",
      "\n",
      "t: 1.9602012636213575\n",
      "sample mean : 9031.162961800002\n",
      "sample standard deviation : 4853.241437698038\n",
      "sample size:  10000\n",
      "standard error : 48.53241437698038\n",
      "Margin of Error : 95.13329998835228\n"
     ]
    },
    {
     "data": {
      "image/png": "[encoded data removed]",
      "text/plain": [
       "<Figure size 432x288 with 1 Axes>"
      ]
     },
     "metadata": {},
     "output_type": "display_data"
    },
    {
     "name": "stdout",
     "output_type": "stream",
     "text": [
      "Confidence Interval :  (8936.02966181165, 9126.296261788355)\n"
     ]
    }
   ],
   "source": [
    "Bootstrapping_CLT_CI(data.loc[data[\"Marital_Status\"]==\"Married\"][\"Purchase\"],sample_size=10000,trials=500)"
   ]
  },
  {
   "cell_type": "markdown",
   "id": "25ea0c82",
   "metadata": {},
   "source": [
    "## Confidence Interval for Single People Purchase Data"
   ]
  },
  {
   "cell_type": "code",
   "execution_count": 62,
   "id": "ca889844",
   "metadata": {},
   "outputs": [
    {
     "name": "stdout",
     "output_type": "stream",
     "text": [
      "Data Distribution before Sampling/Bootstrap:\n"
     ]
    },
    {
     "data": {
      "image/png": "[encoded data removed]",
      "text/plain": [
       "<Figure size 432x288 with 1 Axes>"
      ]
     },
     "metadata": {},
     "output_type": "display_data"
    },
    {
     "name": "stdout",
     "output_type": "stream",
     "text": [
      "\n",
      "Data Distribution After Sampling/Bootstraping:\n",
      "\n",
      "t: 1.9602012636213575\n",
      "sample mean : 9003.1708544\n",
      "sample standard deviation : 4861.143926334286\n",
      "sample size:  10000\n",
      "standard error : 48.61143926334287\n",
      "Margin of Error : 95.28820467045756\n"
     ]
    },
    {
     "data": {
      "image/png": "[encoded data removed]",
      "text/plain": [
       "<Figure size 432x288 with 1 Axes>"
      ]
     },
     "metadata": {},
     "output_type": "display_data"
    },
    {
     "name": "stdout",
     "output_type": "stream",
     "text": [
      "Confidence Interval :  (8907.882649729541, 9098.459059070457)\n"
     ]
    }
   ],
   "source": [
    "Bootstrapping_CLT_CI(data.loc[data[\"Marital_Status\"]==\"Singe\"][\"Purchase\"],sample_size=10000,trials=500)"
   ]
  },
  {
   "cell_type": "code",
   "execution_count": null,
   "id": "6e7d076a",
   "metadata": {},
   "outputs": [],
   "source": []
  },
  {
   "cell_type": "code",
   "execution_count": null,
   "id": "8cd801ee",
   "metadata": {},
   "outputs": [],
   "source": []
  },
  {
   "cell_type": "markdown",
   "id": "2d9aec89",
   "metadata": {},
   "source": [
    "## Estimate of Average Spending Amount with 95% confidence for Married and Single Customers :"
   ]
  },
  {
   "cell_type": "code",
   "execution_count": 63,
   "id": "e49bd00d",
   "metadata": {},
   "outputs": [
    {
     "name": "stdout",
     "output_type": "stream",
     "text": [
      "Confidence Interval :  (9162.83350649789, 9359.515641666858)\n",
      "Sample Mean : 9261.174574082374  and  Margin of Error : 98.34106758448407\n",
      "Confidence Interval :  (9167.361634404277, 9364.453603438737)\n",
      "Sample Mean : 9265.907618921507  and  Margin of Error : 98.54598451723085\n"
     ]
    },
    {
     "data": {
      "image/png": "[encoded data removed]",
      "text/plain": [
       "<Figure size 576x432 with 1 Axes>"
      ]
     },
     "metadata": {},
     "output_type": "display_data"
    }
   ],
   "source": [
    "plt.figure(figsize=(8,6))\n",
    "plot_confidence_interval(x=1,values=Married_data[\"Purchase\"])\n",
    "plot_confidence_interval(x=2,values=Singe_data[\"Purchase\"])\n",
    "plt.xticks([1,2],[\"Married\",\"Single\"])\n",
    "plt.title(\"Married and Single Customers Purchase Amount \\nConfidence Interval Comparition plot\")\n",
    "plt.ylabel(\"Mean Estimate of Married & \\nSingle Customer's Purchase\")\n",
    "plt.show()"
   ]
  },
  {
   "cell_type": "code",
   "execution_count": 64,
   "id": "578975f6",
   "metadata": {},
   "outputs": [
    {
     "data": {
      "image/png": "[encoded data removed]",
      "text/plain": [
       "<Figure size 576x432 with 1 Axes>"
      ]
     },
     "metadata": {},
     "output_type": "display_data"
    }
   ],
   "source": [
    "Married_expenses_mean = [Married_data['Purchase'].sample(10000).mean() for i in range(500)]\n",
    "Singe_expenses_mean = [Singe_data['Purchase'].sample(10000).mean() for i in range(500)]\n",
    "\n",
    "plt.figure(figsize=(8,6))\n",
    "sns.kdeplot(Married_expenses_mean,shade=True,label=\"Married Customers Purchase\")\n",
    "sns.kdeplot(Singe_expenses_mean,shade=True,label=\"Single Customers Purchase\")\n",
    "plt.title(f\"Overlapping Confidence Intervals\")\n",
    "plt.legend()\n",
    "plt.show()\n"
   ]
  },
  {
   "cell_type": "markdown",
   "id": "8e916a75",
   "metadata": {},
   "source": [
    "- As per confidence Interval comparison for both Single and Married Customer's average purchase data \n",
    "> There is not much difference between their average spending amounts. Married and Single Customer's spending amounts distribution are almost lies with same distribution."
   ]
  },
  {
   "cell_type": "code",
   "execution_count": null,
   "id": "68d93877",
   "metadata": {},
   "outputs": [],
   "source": []
  },
  {
   "cell_type": "code",
   "execution_count": null,
   "id": "ad0392f9",
   "metadata": {},
   "outputs": [],
   "source": []
  },
  {
   "cell_type": "code",
   "execution_count": null,
   "id": "75486318",
   "metadata": {},
   "outputs": [],
   "source": []
  },
  {
   "cell_type": "markdown",
   "id": "beb04707",
   "metadata": {},
   "source": [
    "## Function for findinf Confidence Interval with Different Sample Size"
   ]
  },
  {
   "cell_type": "code",
   "execution_count": 65,
   "id": "2f39d762",
   "metadata": {},
   "outputs": [],
   "source": [
    "def CI_with_different_sample_size(data,confidence=95 , sample_size=10000,trials = 100):\n",
    "    \n",
    "    bootstrapped_mean= np.empty(trials)\n",
    "\n",
    "    for i in range(trials):\n",
    "        btssample = data.sample(n=sample_size,replace=True)\n",
    "        bootstrapped_mean[i] = np.mean(btssample)\n",
    "    sample_mean = np.mean(bootstrapped_mean)\n",
    "    sample_std = np.std(data)\n",
    "    standard_error = sample_std/np.sqrt(sample_size)\n",
    "    talfa_by2 = t.ppf((1-((1-(confidence)/100)/2)),df = sample_size-1)\n",
    "    margin_of_error = talfa_by2*standard_error\n",
    "    lower_ = sample_mean - margin_of_error\n",
    "    upper_ = sample_mean + margin_of_error\n",
    "    CI = (lower_,upper_)\n",
    "    \n",
    "    print()\n",
    "    print(\"Confidence Level : \",confidence)\n",
    "    print(\"Sample Size : \",sample_size)\n",
    "    print(\"Margin of Error : \",margin_of_error)\n",
    "    return f\"Confidence Interval :,{CI}\"\n"
   ]
  },
  {
   "cell_type": "code",
   "execution_count": null,
   "id": "f811e4d6",
   "metadata": {},
   "outputs": [],
   "source": []
  },
  {
   "cell_type": "code",
   "execution_count": null,
   "id": "4537230c",
   "metadata": {},
   "outputs": [],
   "source": []
  },
  {
   "cell_type": "markdown",
   "id": "316eabcb",
   "metadata": {},
   "source": [
    "## Confidence Interval Calculations for Different Age Groups"
   ]
  },
  {
   "cell_type": "code",
   "execution_count": 66,
   "id": "39b07e4e",
   "metadata": {
    "scrolled": false
   },
   "outputs": [
    {
     "name": "stdout",
     "output_type": "stream",
     "text": [
      "Age Group :  0-17\n",
      "\n",
      "Confidence Level :  95\n",
      "Sample Size :  10000\n",
      "Margin of Error :  96.98788144517802\n",
      "Confidence Interval :,(8560.349230554822, 8754.32499344518)\n",
      "\n",
      "\n",
      "Age Group :  18-25\n",
      "\n",
      "Confidence Level :  95\n",
      "Sample Size :  10000\n",
      "Margin of Error :  95.43685750919263\n",
      "Confidence Interval :,(8715.461758490808, 8906.335473509193)\n",
      "\n",
      "\n",
      "Age Group :  26-35\n",
      "\n",
      "Confidence Level :  95\n",
      "Sample Size :  10000\n",
      "Margin of Error :  95.07658651248808\n",
      "Confidence Interval :,(8923.387050487512, 9113.54022351249)\n",
      "\n",
      "\n",
      "Age Group :  36-45\n",
      "\n",
      "Confidence Level :  95\n",
      "Sample Size :  10000\n",
      "Margin of Error :  95.46155554898039\n",
      "Confidence Interval :,(9030.396870451019, 9221.319981548979)\n",
      "\n",
      "\n",
      "Age Group :  46-50\n",
      "\n",
      "Confidence Level :  95\n",
      "Sample Size :  10000\n",
      "Margin of Error :  94.20813600467845\n",
      "Confidence Interval :,(8907.186041995323, 9095.602314004678)\n",
      "\n",
      "\n",
      "Age Group :  51-55\n",
      "\n",
      "Confidence Level :  95\n",
      "Sample Size :  10000\n",
      "Margin of Error :  95.51211764190414\n",
      "Confidence Interval :,(9199.582968358098, 9390.607203641905)\n",
      "\n",
      "\n",
      "Age Group :  55+\n",
      "\n",
      "Confidence Level :  95\n",
      "Sample Size :  10000\n",
      "Margin of Error :  93.75886572488507\n",
      "Confidence Interval :,(9041.843849275116, 9229.361580724886)\n",
      "\n",
      "\n"
     ]
    }
   ],
   "source": [
    "for age_group in ['0-17', '18-25','26-35', '36-45', '46-50', '51-55', '55+' ]:\n",
    "    print(\"Age Group : \", age_group)\n",
    "    print(CI_with_different_sample_size(data.loc[data[\"Age\"]==age_group][\"Purchase\"]))\n",
    "    print()\n",
    "    print()"
   ]
  },
  {
   "cell_type": "markdown",
   "id": "92188092",
   "metadata": {},
   "source": [
    "##  Estimate of Average Spending Amount with 95% confidence for different age group Customers :"
   ]
  },
  {
   "cell_type": "code",
   "execution_count": 67,
   "id": "ea4c0b56",
   "metadata": {
    "scrolled": false
   },
   "outputs": [
    {
     "name": "stdout",
     "output_type": "stream",
     "text": [
      "Age Group :  0-17\n",
      "Confidence Interval :  (8556.37487188256, 8750.350634772916)\n",
      "Sample Mean : 8653.362753327738  and  Margin of Error : 96.98788144517802\n",
      "Age Group :  18-25\n",
      "Confidence Interval :  (8718.11624703275, 8908.989962051135)\n",
      "Sample Mean : 8813.553104541943  and  Margin of Error : 95.43685750919263\n",
      "Age Group :  26-35\n",
      "Confidence Interval :  (8922.271737111618, 9112.424910136595)\n",
      "Sample Mean : 9017.348323624106  and  Margin of Error : 95.07658651248808\n",
      "Age Group :  36-45\n",
      "Confidence Interval :  (9038.992574497268, 9229.915685595228)\n",
      "Sample Mean : 9134.454130046248  and  Margin of Error : 95.46155554898039\n",
      "Age Group :  46-50\n",
      "Confidence Interval :  (8907.168426166583, 9095.584698175939)\n",
      "Sample Mean : 9001.376562171261  and  Margin of Error : 94.20813600467845\n",
      "Age Group :  51-55\n",
      "Confidence Interval :  (9202.480370621008, 9393.504605904815)\n",
      "Sample Mean : 9297.992488262911  and  Margin of Error : 95.51211764190414\n",
      "Age Group :  55+\n",
      "Confidence Interval :  (9035.006134756672, 9222.523866206442)\n",
      "Sample Mean : 9128.765000481557  and  Margin of Error : 93.75886572488507\n"
     ]
    },
    {
     "data": {
      "image/png": "[encoded data removed]",
      "text/plain": [
       "<Figure size 504x720 with 1 Axes>"
      ]
     },
     "metadata": {},
     "output_type": "display_data"
    }
   ],
   "source": [
    "plt.figure(figsize=(7,10))\n",
    "i = 1\n",
    "for age_group in ['0-17', '18-25','26-35', '36-45', '46-50', '51-55', '55+' ]:\n",
    "    print(\"Age Group : \", age_group)\n",
    "    (plot_confidence_interval(i,data.loc[data[\"Age\"]==age_group][\"Purchase\"]))\n",
    "    i = i+1\n",
    "\n",
    "plt.xticks([1,2,3,4,5,6,7],['0-17', '18-25','26-35', '36-45', '46-50', '51-55', '55+'])\n",
    "\n",
    "plt.title(\"Confidence Interval Comparition plot for all age groups\")\n",
    "plt.ylabel(\"Mean Estimate of all age group Customer's Purchase\")\n",
    "plt.show()\n",
    "\n",
    "    \n",
    "plt.show()"
   ]
  },
  {
   "cell_type": "code",
   "execution_count": null,
   "id": "49d53df5",
   "metadata": {},
   "outputs": [],
   "source": []
  },
  {
   "cell_type": "code",
   "execution_count": 68,
   "id": "7113f7f5",
   "metadata": {},
   "outputs": [
    {
     "name": "stdout",
     "output_type": "stream",
     "text": [
      "Age Group :  0-17\n",
      "Age Group :  18-25\n",
      "Age Group :  26-35\n",
      "Age Group :  36-45\n",
      "Age Group :  46-50\n",
      "Age Group :  51-55\n",
      "Age Group :  55+\n"
     ]
    },
    {
     "data": {
      "image/png": "[encoded data removed]",
      "text/plain": [
       "<Figure size 864x432 with 1 Axes>"
      ]
     },
     "metadata": {},
     "output_type": "display_data"
    }
   ],
   "source": [
    "plt.figure(figsize=(12,6))\n",
    "i = 1\n",
    "for age_group in ['0-17', '18-25','26-35', '36-45', '46-50', '51-55', '55+' ]:\n",
    "    \n",
    "    print(\"Age Group : \", age_group)\n",
    "    x = [data.loc[data[\"Age\"]==age_group]['Purchase'].sample(100).mean() for i in range(100)]\n",
    "    sns.kdeplot(x,shade=True,label=age_group)\n",
    "\n",
    "    i = i+1\n",
    "\n",
    "\n",
    "plt.legend()\n",
    "    \n",
    "plt.show()"
   ]
  },
  {
   "cell_type": "markdown",
   "id": "1ae5d602",
   "metadata": {},
   "source": [
    "Customers from age 26-35 are 40% of all customers. and their Average Spending amount is near to overall customers average spending amount."
   ]
  },
  {
   "cell_type": "markdown",
   "id": "f74e52d1",
   "metadata": {},
   "source": [
    "Age group 51-55 customers are more likely to spend more amount than all other groups. and customers under 17 age are the least spending average amount. "
   ]
  },
  {
   "cell_type": "code",
   "execution_count": null,
   "id": "b9f6f57e",
   "metadata": {},
   "outputs": [],
   "source": []
  },
  {
   "cell_type": "code",
   "execution_count": null,
   "id": "db602d85",
   "metadata": {},
   "outputs": [],
   "source": []
  },
  {
   "cell_type": "code",
   "execution_count": null,
   "id": "1ab0fb73",
   "metadata": {},
   "outputs": [],
   "source": []
  },
  {
   "cell_type": "markdown",
   "id": "0e6cb012",
   "metadata": {},
   "source": [
    "# Impact on Confidence Interval with Different Sample Size"
   ]
  },
  {
   "cell_type": "code",
   "execution_count": 69,
   "id": "912efd32",
   "metadata": {},
   "outputs": [
    {
     "name": "stdout",
     "output_type": "stream",
     "text": [
      "\n",
      "Confidence Level :  95\n",
      "Sample Size :  50\n",
      "Margin of Error :  1380.6030342112683\n",
      "Confidence Interval :,(7586.451765788732, 10347.657834211268)\n",
      "\n",
      "Confidence Level :  95\n",
      "Sample Size :  250\n",
      "Margin of Error :  605.1230082144882\n",
      "Confidence Interval :,(8424.31351178551, 9634.559528214488)\n",
      "\n",
      "Confidence Level :  95\n",
      "Sample Size :  750\n",
      "Margin of Error :  348.232556914975\n",
      "Confidence Interval :,(8670.742443085026, 9367.207556914975)\n",
      "\n",
      "Confidence Level :  95\n",
      "Sample Size :  1500\n",
      "Margin of Error :  246.03836042409395\n",
      "Confidence Interval :,(8754.384812909238, 9246.461533757427)\n",
      "\n",
      "Confidence Level :  95\n",
      "Sample Size :  5000\n",
      "Margin of Error :  134.68455908066014\n",
      "Confidence Interval :,(8891.17925491934, 9160.54837308066)\n",
      "\n",
      "Confidence Level :  95\n",
      "Sample Size :  25000\n",
      "Margin of Error :  60.221098039383115\n",
      "Confidence Interval :,(8957.972089160618, 9078.414285239383)\n"
     ]
    }
   ],
   "source": [
    "print(CI_with_different_sample_size(data[\"Purchase\"],sample_size=50))\n",
    "print(CI_with_different_sample_size(data[\"Purchase\"],sample_size=250))\n",
    "print(CI_with_different_sample_size(data[\"Purchase\"],sample_size=750))\n",
    "print(CI_with_different_sample_size(data[\"Purchase\"],sample_size=1500))\n",
    "print(CI_with_different_sample_size(data[\"Purchase\"],sample_size=5000))\n",
    "print(CI_with_different_sample_size(data[\"Purchase\"],sample_size=25000))"
   ]
  },
  {
   "cell_type": "code",
   "execution_count": 73,
   "id": "74777ea7",
   "metadata": {
    "scrolled": false
   },
   "outputs": [
    {
     "data": {
      "image/png": "[encoded data removed]",
      "text/plain": [
       "<Figure size 576x432 with 1 Axes>"
      ]
     },
     "metadata": {},
     "output_type": "display_data"
    }
   ],
   "source": [
    "one = [data['Purchase'].sample(100).mean() for i in range(500)]\n",
    "two = [data['Purchase'].sample(1000).mean() for i in range(500)]\n",
    "three = [data['Purchase'].sample(10000).mean() for i in range(500)]\n",
    "\n",
    "\n",
    "\n",
    "plt.figure(figsize=(8,6))\n",
    "sns.kdeplot(one,shade=True,label=\"sample size = 100\")\n",
    "sns.kdeplot(two,shade=True,label=\"sample size = 1000\")\n",
    "sns.kdeplot(three,shade=True,label=\"sample size = 10000\")\n",
    "\n",
    "\n",
    "plt.title(f\"impact of sample size on Intervals\")\n",
    "plt.legend()\n",
    "plt.show()\n"
   ]
  },
  {
   "cell_type": "markdown",
   "id": "a5d12789",
   "metadata": {},
   "source": [
    "> ##### As per calculations and above distribution plot, as we increase the sample size, standard error decreases , means that the average spending amount gets closers and closer to the actual mean spending amount of the all customer average spending amount.\n",
    "\n"
   ]
  },
  {
   "cell_type": "markdown",
   "id": "a80ba63e",
   "metadata": {},
   "source": [
    "# Impact on Confidence Interval with different Confidence Levels"
   ]
  },
  {
   "cell_type": "code",
   "execution_count": 71,
   "id": "9c05bb6e",
   "metadata": {
    "scrolled": true
   },
   "outputs": [
    {
     "name": "stdout",
     "output_type": "stream",
     "text": [
      "\n",
      "Confidence Level :  90\n",
      "Sample Size :  10000\n",
      "Margin of Error :  79.91292936396152\n",
      "Confidence Interval :,(8936.40540863604, 9096.231267363963)\n",
      "\n",
      "Confidence Level :  95\n",
      "Sample Size :  10000\n",
      "Margin of Error :  95.22483319018825\n",
      "Confidence Interval :,(8930.762899809812, 9121.212566190188)\n",
      "\n",
      "Confidence Level :  99\n",
      "Sample Size :  10000\n",
      "Margin of Error :  125.15538641377829\n",
      "Confidence Interval :,(8895.87435658622, 9146.185129413778)\n"
     ]
    }
   ],
   "source": [
    "print(CI_with_different_sample_size(data[\"Purchase\"],confidence=90,sample_size=10000))\n",
    "print(CI_with_different_sample_size(data[\"Purchase\"],confidence=95,sample_size=10000))\n",
    "print(CI_with_different_sample_size(data[\"Purchase\"],confidence=99,sample_size=10000))\n"
   ]
  },
  {
   "cell_type": "code",
   "execution_count": 72,
   "id": "e4350848",
   "metadata": {},
   "outputs": [
    {
     "name": "stdout",
     "output_type": "stream",
     "text": [
      "Confidence Interval :  (8945.396345753015, 9085.26940588242)\n",
      "Sample Mean : 9015.332875817718  and  Margin of Error : 69.93653006470315\n",
      "Confidence Interval :  (8935.419946453756, 9095.24580518168)\n",
      "Sample Mean : 9015.332875817718  and  Margin of Error : 79.91292936396152\n",
      "Confidence Interval :  (8920.10804262753, 9110.557709007906)\n",
      "Sample Mean : 9015.332875817718  and  Margin of Error : 95.22483319018825\n",
      "Confidence Interval :  (8890.177489403939, 9140.488262231496)\n",
      "Sample Mean : 9015.332875817718  and  Margin of Error : 125.15538641377829\n"
     ]
    },
    {
     "data": {
      "image/png": "[encoded data removed]",
      "text/plain": [
       "<Figure size 576x432 with 1 Axes>"
      ]
     },
     "metadata": {},
     "output_type": "display_data"
    }
   ],
   "source": [
    "plt.figure(figsize=(8,6))\n",
    "plot_confidence_interval(x=0,values=data[\"Purchase\"],confidence=85)\n",
    "plot_confidence_interval(x=1,values=data[\"Purchase\"],confidence=90)\n",
    "plot_confidence_interval(x=2,values=data[\"Purchase\"],confidence=95)\n",
    "plot_confidence_interval(x=3,values=data[\"Purchase\"],confidence=99)\n",
    "plt.xticks([0,1,2,3],[\"85 %\",\"90 %\",\"95 %\",\"99 %\"])\n",
    "plt.title(\"effect on Confidence interval with ddifferent Confidence Level\")\n",
    "plt.ylabel(\"Mean Estimate of all Customer's Purchase \\nfor different Confidence Levels\")\n",
    "plt.show()"
   ]
  },
  {
   "cell_type": "code",
   "execution_count": null,
   "id": "b677204f",
   "metadata": {},
   "outputs": [],
   "source": []
  },
  {
   "cell_type": "code",
   "execution_count": null,
   "id": "218933fc",
   "metadata": {},
   "outputs": [],
   "source": []
  },
  {
   "cell_type": "code",
   "execution_count": null,
   "id": "14323308",
   "metadata": {},
   "outputs": [],
   "source": []
  },
  {
   "cell_type": "code",
   "execution_count": null,
   "id": "43717c96",
   "metadata": {},
   "outputs": [],
   "source": []
  },
  {
   "cell_type": "markdown",
   "id": "d19a9102",
   "metadata": {},
   "source": [
    "# Product Category : "
   ]
  },
  {
   "cell_type": "code",
   "execution_count": 88,
   "id": "9932afc9",
   "metadata": {},
   "outputs": [],
   "source": [
    "# pd.crosstab(columns= data[\"Gender\"],index=data[\"Product_Category\"],margins=True,normalize=\"columns\")*100"
   ]
  },
  {
   "cell_type": "code",
   "execution_count": 87,
   "id": "43bcd399",
   "metadata": {},
   "outputs": [],
   "source": [
    "# (pd.crosstab(columns= data[\"Gender\"],index=data[\"Product_Category\"],values=data[\"Purchase\"],aggfunc=np.sum)/data[\"Purchase\"].sum())*100"
   ]
  },
  {
   "cell_type": "code",
   "execution_count": 86,
   "id": "dc7be3ff",
   "metadata": {
    "scrolled": false
   },
   "outputs": [
    {
     "data": {
      "text/plain": [
       "Product_Category\n",
       "1     34.982885\n",
       "5     19.982830\n",
       "8     18.375177\n",
       "6      6.295615\n",
       "2      5.385914\n",
       "3      4.472712\n",
       "16     2.952798\n",
       "11     2.128323\n",
       "15     1.532815\n",
       "7      1.269043\n",
       "10     0.920674\n",
       "4      0.616027\n",
       "14     0.505244\n",
       "18     0.159032\n",
       "12     0.131390\n",
       "17     0.103050\n",
       "13     0.082579\n",
       "9      0.081812\n",
       "20     0.020777\n",
       "19     0.001302\n",
       "Name: Purchase, dtype: float64"
      ]
     },
     "execution_count": 86,
     "metadata": {},
     "output_type": "execute_result"
    }
   ],
   "source": [
    "pro_cat = (data.groupby(\"Product_Category\")[\"Purchase\"].sum()/data[\"Purchase\"].sum()*100).sort_values(ascending=False)\n",
    "pro_cat"
   ]
  },
  {
   "cell_type": "code",
   "execution_count": null,
   "id": "dd50ffeb",
   "metadata": {},
   "outputs": [],
   "source": []
  },
  {
   "cell_type": "code",
   "execution_count": 100,
   "id": "92649376",
   "metadata": {},
   "outputs": [
    {
     "data": {
      "image/png": "[encoded data removed]",
      "text/plain": [
       "<Figure size 720x504 with 1 Axes>"
      ]
     },
     "metadata": {},
     "output_type": "display_data"
    }
   ],
   "source": [
    "plt.figure(figsize=(10,7))\n",
    "\n",
    "sns.barplot(x = pro_cat,\n",
    "           y = pro_cat.index\n",
    "           )\n",
    "plt.title(\"Revenue in % per Product Category\")\n",
    "plt.xlabel(\" % in of total Revenue\")\n",
    "plt.show()"
   ]
  },
  {
   "cell_type": "code",
   "execution_count": null,
   "id": "2b096bae",
   "metadata": {
    "scrolled": false
   },
   "outputs": [],
   "source": []
  },
  {
   "cell_type": "raw",
   "id": "33546341",
   "metadata": {},
   "source": [
    "# from total Sale\n",
    "\n",
    "37.48% comes from Product Category 1 by 25.5% of customers of all customers \n",
    "18.48% comes from Product Category 5 by 27.4% of customers of all customers \n",
    "16.76% comes from Product Category 8 by 20.71% of customers of all customers \n",
    "\n",
    "\n",
    "# Top selling and highest sales earning by \n"
   ]
  },
  {
   "cell_type": "code",
   "execution_count": null,
   "id": "983e824c",
   "metadata": {},
   "outputs": [],
   "source": [
    "(data[\"Product_Category\"].value_counts(normalize=True)*100).sort_values(ascending=False)"
   ]
  },
  {
   "cell_type": "code",
   "execution_count": null,
   "id": "171d4e9b",
   "metadata": {},
   "outputs": [],
   "source": []
  },
  {
   "cell_type": "code",
   "execution_count": null,
   "id": "c2795b18",
   "metadata": {},
   "outputs": [],
   "source": []
  },
  {
   "cell_type": "markdown",
   "id": "60211b2d",
   "metadata": {},
   "source": [
    "# Most Common Product Categories which are sold together : "
   ]
  },
  {
   "cell_type": "code",
   "execution_count": 101,
   "id": "eb97b2b3",
   "metadata": {},
   "outputs": [],
   "source": [
    "groupedf = data.loc[data[\"User_ID\"].duplicated(keep = False)]"
   ]
  },
  {
   "cell_type": "code",
   "execution_count": 102,
   "id": "444c7314",
   "metadata": {},
   "outputs": [
    {
     "data": {
      "text/plain": [
       "(271012, 10)"
      ]
     },
     "execution_count": 102,
     "metadata": {},
     "output_type": "execute_result"
    }
   ],
   "source": [
    "groupedf.shape"
   ]
  },
  {
   "cell_type": "code",
   "execution_count": 103,
   "id": "e9ad208a",
   "metadata": {},
   "outputs": [
    {
     "data": {
      "text/html": [
       "<div>\n",
       "<style scoped>\n",
       "    .dataframe tbody tr th:only-of-type {\n",
       "        vertical-align: middle;\n",
       "    }\n",
       "\n",
       "    .dataframe tbody tr th {\n",
       "        vertical-align: top;\n",
       "    }\n",
       "\n",
       "    .dataframe thead th {\n",
       "        text-align: right;\n",
       "    }\n",
       "</style>\n",
       "<table border=\"1\" class=\"dataframe\">\n",
       "  <thead>\n",
       "    <tr style=\"text-align: right;\">\n",
       "      <th></th>\n",
       "      <th>User_ID</th>\n",
       "      <th>Product_ID</th>\n",
       "      <th>Gender</th>\n",
       "      <th>Age</th>\n",
       "      <th>Occupation</th>\n",
       "      <th>City_Category</th>\n",
       "      <th>Stay_In_Current_City_Years</th>\n",
       "      <th>Marital_Status</th>\n",
       "      <th>Product_Category</th>\n",
       "      <th>Purchase</th>\n",
       "      <th>Group Order</th>\n",
       "    </tr>\n",
       "  </thead>\n",
       "  <tbody>\n",
       "    <tr>\n",
       "      <th>13774</th>\n",
       "      <td>1002051</td>\n",
       "      <td>P00004742</td>\n",
       "      <td>Male</td>\n",
       "      <td>36-45</td>\n",
       "      <td>7</td>\n",
       "      <td>C</td>\n",
       "      <td>2</td>\n",
       "      <td>Singe</td>\n",
       "      <td>6</td>\n",
       "      <td>20192</td>\n",
       "      <td>6,5,1,1,1,1,5,6,6,1,6,1,1,6,6,5,1,1,5,1,1,1,6,...</td>\n",
       "    </tr>\n",
       "    <tr>\n",
       "      <th>354150</th>\n",
       "      <td>1000560</td>\n",
       "      <td>P00154042</td>\n",
       "      <td>Male</td>\n",
       "      <td>46-50</td>\n",
       "      <td>15</td>\n",
       "      <td>C</td>\n",
       "      <td>1</td>\n",
       "      <td>Married</td>\n",
       "      <td>1</td>\n",
       "      <td>18987</td>\n",
       "      <td>1,1,1,1,1,1,1,5,1,1,1,1,1,20,1,1,8,8,1,1,1,1,1...</td>\n",
       "    </tr>\n",
       "    <tr>\n",
       "      <th>110519</th>\n",
       "      <td>1005026</td>\n",
       "      <td>P00352442</td>\n",
       "      <td>Male</td>\n",
       "      <td>26-35</td>\n",
       "      <td>17</td>\n",
       "      <td>B</td>\n",
       "      <td>1</td>\n",
       "      <td>Married</td>\n",
       "      <td>1</td>\n",
       "      <td>11967</td>\n",
       "      <td>1,8,5,5,8,1,1,1,5,5,8,8,8,8,1,5,1,1,5,4,5,1,10...</td>\n",
       "    </tr>\n",
       "    <tr>\n",
       "      <th>385916</th>\n",
       "      <td>1005397</td>\n",
       "      <td>P00086342</td>\n",
       "      <td>Male</td>\n",
       "      <td>18-25</td>\n",
       "      <td>0</td>\n",
       "      <td>B</td>\n",
       "      <td>2</td>\n",
       "      <td>Married</td>\n",
       "      <td>8</td>\n",
       "      <td>6111</td>\n",
       "      <td>8,8,3,6,15,5,12,1,8,8,11,5,1,6,5,5,5,3,5,11,6,...</td>\n",
       "    </tr>\n",
       "    <tr>\n",
       "      <th>302254</th>\n",
       "      <td>1004507</td>\n",
       "      <td>P00064042</td>\n",
       "      <td>Male</td>\n",
       "      <td>18-25</td>\n",
       "      <td>4</td>\n",
       "      <td>B</td>\n",
       "      <td>1</td>\n",
       "      <td>Married</td>\n",
       "      <td>3</td>\n",
       "      <td>13479</td>\n",
       "      <td>3,11,8,5,11,5,1,1,5,5,2,5,3,6,1,1,15,2,1,1,1,5...</td>\n",
       "    </tr>\n",
       "  </tbody>\n",
       "</table>\n",
       "</div>"
      ],
      "text/plain": [
       "        User_ID Product_ID Gender    Age Occupation City_Category  \\\n",
       "13774   1002051  P00004742   Male  36-45          7             C   \n",
       "354150  1000560  P00154042   Male  46-50         15             C   \n",
       "110519  1005026  P00352442   Male  26-35         17             B   \n",
       "385916  1005397  P00086342   Male  18-25          0             B   \n",
       "302254  1004507  P00064042   Male  18-25          4             B   \n",
       "\n",
       "       Stay_In_Current_City_Years Marital_Status Product_Category  Purchase  \\\n",
       "13774                           2          Singe                6     20192   \n",
       "354150                          1        Married                1     18987   \n",
       "110519                          1        Married                1     11967   \n",
       "385916                          2        Married                8      6111   \n",
       "302254                          1        Married                3     13479   \n",
       "\n",
       "                                              Group Order  \n",
       "13774   6,5,1,1,1,1,5,6,6,1,6,1,1,6,6,5,1,1,5,1,1,1,6,...  \n",
       "354150  1,1,1,1,1,1,1,5,1,1,1,1,1,20,1,1,8,8,1,1,1,1,1...  \n",
       "110519  1,8,5,5,8,1,1,1,5,5,8,8,8,8,1,5,1,1,5,4,5,1,10...  \n",
       "385916  8,8,3,6,15,5,12,1,8,8,11,5,1,6,5,5,5,3,5,11,6,...  \n",
       "302254  3,11,8,5,11,5,1,1,5,5,2,5,3,6,1,1,15,2,1,1,1,5...  "
      ]
     },
     "execution_count": 103,
     "metadata": {},
     "output_type": "execute_result"
    }
   ],
   "source": [
    "groupedf[\"Group Order\"] = groupedf.groupby(\"User_ID\")[\"Product_Category\"].transform(lambda  x : \",\".join(x))\n",
    "groupedf.head()"
   ]
  },
  {
   "cell_type": "code",
   "execution_count": 104,
   "id": "5a0d3d84",
   "metadata": {},
   "outputs": [],
   "source": [
    "groupedf[\"Group Order\"] = groupedf[\"Group Order\"].apply(lambda x: \",\".join(np.unique(x.split(\",\"))))"
   ]
  },
  {
   "cell_type": "code",
   "execution_count": 105,
   "id": "651e4784",
   "metadata": {},
   "outputs": [],
   "source": [
    "uniq_orders = groupedf[[\"User_ID\",\"Group Order\"]].drop_duplicates()"
   ]
  },
  {
   "cell_type": "code",
   "execution_count": 106,
   "id": "e50ba441",
   "metadata": {},
   "outputs": [
    {
     "data": {
      "text/html": [
       "<div>\n",
       "<style scoped>\n",
       "    .dataframe tbody tr th:only-of-type {\n",
       "        vertical-align: middle;\n",
       "    }\n",
       "\n",
       "    .dataframe tbody tr th {\n",
       "        vertical-align: top;\n",
       "    }\n",
       "\n",
       "    .dataframe thead th {\n",
       "        text-align: right;\n",
       "    }\n",
       "</style>\n",
       "<table border=\"1\" class=\"dataframe\">\n",
       "  <thead>\n",
       "    <tr style=\"text-align: right;\">\n",
       "      <th></th>\n",
       "      <th>User_ID</th>\n",
       "      <th>Group Order</th>\n",
       "    </tr>\n",
       "  </thead>\n",
       "  <tbody>\n",
       "    <tr>\n",
       "      <th>count</th>\n",
       "      <td>5872</td>\n",
       "      <td>5872</td>\n",
       "    </tr>\n",
       "    <tr>\n",
       "      <th>unique</th>\n",
       "      <td>5872</td>\n",
       "      <td>2835</td>\n",
       "    </tr>\n",
       "    <tr>\n",
       "      <th>top</th>\n",
       "      <td>1002051</td>\n",
       "      <td>1,5,8</td>\n",
       "    </tr>\n",
       "    <tr>\n",
       "      <th>freq</th>\n",
       "      <td>1</td>\n",
       "      <td>123</td>\n",
       "    </tr>\n",
       "  </tbody>\n",
       "</table>\n",
       "</div>"
      ],
      "text/plain": [
       "        User_ID Group Order\n",
       "count      5872        5872\n",
       "unique     5872        2835\n",
       "top     1002051       1,5,8\n",
       "freq          1         123"
      ]
     },
     "execution_count": 106,
     "metadata": {},
     "output_type": "execute_result"
    }
   ],
   "source": [
    "uniq_orders.describe()"
   ]
  },
  {
   "cell_type": "code",
   "execution_count": 107,
   "id": "ad4fe181",
   "metadata": {},
   "outputs": [],
   "source": [
    "from collections import Counter\n",
    "from itertools import combinations"
   ]
  },
  {
   "cell_type": "code",
   "execution_count": 108,
   "id": "d077e25b",
   "metadata": {},
   "outputs": [
    {
     "data": {
      "text/plain": [
       "[(('1', '2', '5', '8'), 217471),\n",
       " (('1', '5', '6', '8'), 211573),\n",
       " (('1', '3', '5', '8'), 198821),\n",
       " (('1', '11', '5', '8'), 190851),\n",
       " (('1', '2', '5', '6'), 189101),\n",
       " (('1', '2', '6', '8'), 188376),\n",
       " (('2', '5', '6', '8'), 188322),\n",
       " (('1', '2', '3', '5'), 184308),\n",
       " (('1', '4', '5', '8'), 183249),\n",
       " (('2', '3', '5', '8'), 182173),\n",
       " (('1', '2', '3', '8'), 181778),\n",
       " (('1', '11', '2', '5'), 175369),\n",
       " (('1', '11', '2', '8'), 174108),\n",
       " (('11', '2', '5', '8'), 173908),\n",
       " (('1', '3', '5', '6'), 172663)]"
      ]
     },
     "execution_count": 108,
     "metadata": {},
     "output_type": "execute_result"
    }
   ],
   "source": [
    "freq = Counter()\n",
    "for r in groupedf[\"Group Order\"]:\n",
    "    \n",
    "    row_list = r.split(\",\")\n",
    "    freq.update(Counter(combinations(row_list,4)))\n",
    "grouped_ordered_categories = freq.most_common(15)\n",
    "grouped_ordered_categories"
   ]
  },
  {
   "cell_type": "raw",
   "id": "d84ddff5",
   "metadata": {},
   "source": [
    "Product Categories   Number of \n",
    "Sold Together        orders\n",
    "'1', '2', '5', '8'   217471\n",
    "'1', '5', '6', '8'   211573\n",
    "'1', '3', '5', '8'   198821\n",
    "'1', '11','5', '8'   190851\n",
    "'1', '2', '5', '6'   189101\n",
    "'1', '2', '6', '8'   188376\n",
    "'2', '5', '6', '8'   188322\n",
    "'1', '2', '3', '5'   184308\n",
    "'1', '4', '5', '8'   183249\n",
    "'2', '3', '5', '8'   182173\n",
    "'1', '2', '3', '8'   181778\n",
    "'1', '11','2', '5'   175369\n",
    "'1', '11','2', '8'   174108\n",
    "'11', '2','5', '8'   173908\n",
    "'1', '3', '5', '6'   172663"
   ]
  },
  {
   "cell_type": "code",
   "execution_count": 152,
   "id": "d90ded06",
   "metadata": {},
   "outputs": [],
   "source": [
    "cat_sold_together = pd.DataFrame(data=[217471,211573,198821,190851,189101,188376,188322,184308,\n",
    "183249,182173,181778,175369,174108,173908,172663],\n",
    "    index = [\"'1', '2', '5', '8'\",  \"'1', '5', '6', '8'  \",\"'1', '3', '5', '8'  \",\n",
    "\"'1', '11','5', '8'  \",\"'1', '2', '5', '6'  \",\"'1', '2', '6', '8'  \",\n",
    "\"'2', '5', '6', '8'  \",\"'1', '2', '3', '5'  \",\"'1', '4', '5', '8'  \",\n",
    "\"'2', '3', '5', '8'  \",\"'1', '2', '3', '8'  \",\"'1', '11','2', '5'  \",\n",
    "\"'1', '11','2', '8'  \",\"'11', '2','5', '8'  \",\"'1', '3', '5', '6'  \"],columns=[\"Orders\"] \n",
    ")\n"
   ]
  },
  {
   "cell_type": "code",
   "execution_count": 153,
   "id": "11c2da5d",
   "metadata": {},
   "outputs": [],
   "source": [
    "cat_sold_together[\"group_order_in_percentage\"] = (cat_sold_together[\"Orders\"]/len(data))*100"
   ]
  },
  {
   "cell_type": "code",
   "execution_count": 154,
   "id": "4d3a8fbe",
   "metadata": {},
   "outputs": [],
   "source": [
    "group_order_in_percentage = cat_sold_together[\"group_order_in_percentage\"]"
   ]
  },
  {
   "cell_type": "code",
   "execution_count": 155,
   "id": "ed5061fa",
   "metadata": {},
   "outputs": [
    {
     "data": {
      "image/png": "[encoded data removed]",
      "text/plain": [
       "<Figure size 432x288 with 1 Axes>"
      ]
     },
     "metadata": {},
     "output_type": "display_data"
    }
   ],
   "source": [
    "sns.barplot(x = group_order_in_percentage,\n",
    "           y = group_order_in_percentage.index)\n",
    "plt.xlabel(\"Grouped orders as per \\nproduct category in %\")\n",
    "plt.ylabel(\"Group orders Product Categories\")\n",
    "plt.show()"
   ]
  },
  {
   "cell_type": "code",
   "execution_count": null,
   "id": "9954f77f",
   "metadata": {},
   "outputs": [],
   "source": []
  },
  {
   "cell_type": "markdown",
   "id": "6d1992ec",
   "metadata": {},
   "source": [
    "# City Category"
   ]
  },
  {
   "cell_type": "code",
   "execution_count": 109,
   "id": "5262b5e8",
   "metadata": {},
   "outputs": [
    {
     "data": {
      "text/plain": [
       "B    42.198436\n",
       "C    31.198506\n",
       "A    26.603057\n",
       "Name: City_Category, dtype: float64"
      ]
     },
     "execution_count": 109,
     "metadata": {},
     "output_type": "execute_result"
    }
   ],
   "source": [
    "data[\"City_Category\"].value_counts(normalize=True)*100"
   ]
  },
  {
   "cell_type": "code",
   "execution_count": null,
   "id": "feb6c6bf",
   "metadata": {},
   "outputs": [],
   "source": []
  },
  {
   "cell_type": "code",
   "execution_count": 110,
   "id": "f6651ed4",
   "metadata": {},
   "outputs": [
    {
     "data": {
      "text/plain": [
       "City_Category\n",
       "B    41.577084\n",
       "C    32.681562\n",
       "A    25.741353\n",
       "Name: Purchase, dtype: float64"
      ]
     },
     "execution_count": 110,
     "metadata": {},
     "output_type": "execute_result"
    }
   ],
   "source": [
    "City_cat = (data.groupby(\"City_Category\")[\"Purchase\"].sum()/data[\"Purchase\"].sum()*100).sort_values(ascending=False)\n",
    "City_cat"
   ]
  },
  {
   "cell_type": "code",
   "execution_count": 113,
   "id": "8e4b8737",
   "metadata": {},
   "outputs": [
    {
     "data": {
      "image/png": "[encoded data removed]",
      "text/plain": [
       "<Figure size 432x288 with 1 Axes>"
      ]
     },
     "metadata": {},
     "output_type": "display_data"
    }
   ],
   "source": [
    "sns.barplot(x = (data[\"City_Category\"].value_counts(normalize=True)*100).index,\n",
    "            y = (data[\"City_Category\"].value_counts(normalize=True)*100) )\n",
    "\n",
    "plt.title(\"Customers Distribution per Ciy Category in %\")\n",
    "plt.xlabel(\"City Categories\")\n",
    "plt.ylabel(\"Customer Distribution in %\")\n",
    "plt.show()"
   ]
  },
  {
   "cell_type": "code",
   "execution_count": 168,
   "id": "877c981f",
   "metadata": {},
   "outputs": [
    {
     "data": {
      "text/html": [
       "<div>\n",
       "<style scoped>\n",
       "    .dataframe tbody tr th:only-of-type {\n",
       "        vertical-align: middle;\n",
       "    }\n",
       "\n",
       "    .dataframe tbody tr th {\n",
       "        vertical-align: top;\n",
       "    }\n",
       "\n",
       "    .dataframe thead th {\n",
       "        text-align: right;\n",
       "    }\n",
       "</style>\n",
       "<table border=\"1\" class=\"dataframe\">\n",
       "  <thead>\n",
       "    <tr style=\"text-align: right;\">\n",
       "      <th>City_Category</th>\n",
       "      <th>A</th>\n",
       "      <th>B</th>\n",
       "      <th>C</th>\n",
       "    </tr>\n",
       "    <tr>\n",
       "      <th>Age</th>\n",
       "      <th></th>\n",
       "      <th></th>\n",
       "      <th></th>\n",
       "    </tr>\n",
       "  </thead>\n",
       "  <tbody>\n",
       "    <tr>\n",
       "      <th>0-17</th>\n",
       "      <td>2.496463</td>\n",
       "      <td>2.442074</td>\n",
       "      <td>4.430148</td>\n",
       "    </tr>\n",
       "    <tr>\n",
       "      <th>18-25</th>\n",
       "      <td>18.324041</td>\n",
       "      <td>19.280406</td>\n",
       "      <td>16.465816</td>\n",
       "    </tr>\n",
       "    <tr>\n",
       "      <th>26-35</th>\n",
       "      <td>49.601953</td>\n",
       "      <td>38.794264</td>\n",
       "      <td>30.488310</td>\n",
       "    </tr>\n",
       "    <tr>\n",
       "      <th>36-45</th>\n",
       "      <td>18.674933</td>\n",
       "      <td>20.151263</td>\n",
       "      <td>21.004766</td>\n",
       "    </tr>\n",
       "    <tr>\n",
       "      <th>46-50</th>\n",
       "      <td>4.544950</td>\n",
       "      <td>9.548833</td>\n",
       "      <td>11.314261</td>\n",
       "    </tr>\n",
       "    <tr>\n",
       "      <th>51-55</th>\n",
       "      <td>4.422901</td>\n",
       "      <td>7.542188</td>\n",
       "      <td>8.698275</td>\n",
       "    </tr>\n",
       "    <tr>\n",
       "      <th>55+</th>\n",
       "      <td>1.934759</td>\n",
       "      <td>2.240972</td>\n",
       "      <td>7.598425</td>\n",
       "    </tr>\n",
       "  </tbody>\n",
       "</table>\n",
       "</div>"
      ],
      "text/plain": [
       "City_Category          A          B          C\n",
       "Age                                           \n",
       "0-17            2.496463   2.442074   4.430148\n",
       "18-25          18.324041  19.280406  16.465816\n",
       "26-35          49.601953  38.794264  30.488310\n",
       "36-45          18.674933  20.151263  21.004766\n",
       "46-50           4.544950   9.548833  11.314261\n",
       "51-55           4.422901   7.542188   8.698275\n",
       "55+             1.934759   2.240972   7.598425"
      ]
     },
     "execution_count": 168,
     "metadata": {},
     "output_type": "execute_result"
    }
   ],
   "source": [
    "pd.crosstab(columns=data[\"City_Category\"],index=data[\"Age\"],normalize=\"columns\")*100"
   ]
  },
  {
   "cell_type": "code",
   "execution_count": null,
   "id": "12f480ce",
   "metadata": {},
   "outputs": [],
   "source": []
  },
  {
   "cell_type": "code",
   "execution_count": null,
   "id": "c1492018",
   "metadata": {},
   "outputs": [],
   "source": []
  },
  {
   "cell_type": "markdown",
   "id": "cdf5ff0e",
   "metadata": {},
   "source": [
    "# Customers their stay in current city (in years) : \n",
    "\n"
   ]
  },
  {
   "cell_type": "code",
   "execution_count": 118,
   "id": "2790e31e",
   "metadata": {},
   "outputs": [],
   "source": [
    "Stayed_in_city_years_cat = data[\"Stay_In_Current_City_Years\"].value_counts(normalize=True)*100"
   ]
  },
  {
   "cell_type": "code",
   "execution_count": null,
   "id": "59167dd8",
   "metadata": {},
   "outputs": [],
   "source": []
  },
  {
   "cell_type": "code",
   "execution_count": 120,
   "id": "3408b465",
   "metadata": {},
   "outputs": [
    {
     "data": {
      "image/png": "[encoded data removed]",
      "text/plain": [
       "<Figure size 432x288 with 1 Axes>"
      ]
     },
     "metadata": {},
     "output_type": "display_data"
    }
   ],
   "source": [
    "sns.barplot(y = Stayed_in_city_years_cat.index,\n",
    "             x  = Stayed_in_city_years_cat)\n",
    "plt.title(\"Customers distribution as per \\ntheir stay in current city \")\n",
    "plt.ylabel(\"years\")\n",
    "plt.xlabel(\"Distribution in % as per \\nCustomer's stay in current city\")\n",
    "plt.show()"
   ]
  },
  {
   "cell_type": "code",
   "execution_count": null,
   "id": "d88a839a",
   "metadata": {},
   "outputs": [],
   "source": []
  },
  {
   "cell_type": "code",
   "execution_count": null,
   "id": "986671aa",
   "metadata": {},
   "outputs": [],
   "source": []
  },
  {
   "cell_type": "markdown",
   "id": "16721495",
   "metadata": {},
   "source": [
    "## revenue generated per age (in % )\n"
   ]
  },
  {
   "cell_type": "code",
   "execution_count": 125,
   "id": "979b6b8e",
   "metadata": {},
   "outputs": [],
   "source": [
    "ages_d = (data.groupby(\"Age\")[\"Purchase\"].sum()/data[\"Purchase\"].sum())*100"
   ]
  },
  {
   "cell_type": "code",
   "execution_count": 127,
   "id": "d3f30f2e",
   "metadata": {},
   "outputs": [
    {
     "data": {
      "image/png": "[encoded data removed]",
      "text/plain": [
       "<Figure size 432x288 with 1 Axes>"
      ]
     },
     "metadata": {},
     "output_type": "display_data"
    }
   ],
   "source": [
    "sns.barplot(y = ages_d.index,\n",
    "             x  = ages_d)\n",
    "plt.title(\"Revenue as per age group in %\")\n",
    "plt.ylabel(\"Age groups\")\n",
    "plt.xlabel(\"Revenue in %\")\n",
    "plt.show()"
   ]
  },
  {
   "cell_type": "markdown",
   "id": "b11d8084",
   "metadata": {},
   "source": [
    "## Purchase / Revenue per age / gender group"
   ]
  },
  {
   "cell_type": "code",
   "execution_count": 158,
   "id": "cdb28b92",
   "metadata": {},
   "outputs": [
    {
     "data": {
      "text/html": [
       "<div>\n",
       "<style scoped>\n",
       "    .dataframe tbody tr th:only-of-type {\n",
       "        vertical-align: middle;\n",
       "    }\n",
       "\n",
       "    .dataframe tbody tr th {\n",
       "        vertical-align: top;\n",
       "    }\n",
       "\n",
       "    .dataframe thead th {\n",
       "        text-align: right;\n",
       "    }\n",
       "</style>\n",
       "<table border=\"1\" class=\"dataframe\">\n",
       "  <thead>\n",
       "    <tr style=\"text-align: right;\">\n",
       "      <th>Gender</th>\n",
       "      <th>Female</th>\n",
       "      <th>Male</th>\n",
       "      <th>All</th>\n",
       "    </tr>\n",
       "    <tr>\n",
       "      <th>Age</th>\n",
       "      <th></th>\n",
       "      <th></th>\n",
       "      <th></th>\n",
       "    </tr>\n",
       "  </thead>\n",
       "  <tbody>\n",
       "    <tr>\n",
       "      <th>0-17</th>\n",
       "      <td>1.714697</td>\n",
       "      <td>1.238561</td>\n",
       "      <td>2.953258</td>\n",
       "    </tr>\n",
       "    <tr>\n",
       "      <th>18-25</th>\n",
       "      <td>8.365575</td>\n",
       "      <td>9.376115</td>\n",
       "      <td>17.741691</td>\n",
       "    </tr>\n",
       "    <tr>\n",
       "      <th>26-35</th>\n",
       "      <td>17.946073</td>\n",
       "      <td>21.140769</td>\n",
       "      <td>39.086842</td>\n",
       "    </tr>\n",
       "    <tr>\n",
       "      <th>36-45</th>\n",
       "      <td>9.835011</td>\n",
       "      <td>10.454375</td>\n",
       "      <td>20.289386</td>\n",
       "    </tr>\n",
       "    <tr>\n",
       "      <th>46-50</th>\n",
       "      <td>4.716434</td>\n",
       "      <td>4.038426</td>\n",
       "      <td>8.754860</td>\n",
       "    </tr>\n",
       "    <tr>\n",
       "      <th>51-55</th>\n",
       "      <td>3.586172</td>\n",
       "      <td>3.708635</td>\n",
       "      <td>7.294806</td>\n",
       "    </tr>\n",
       "    <tr>\n",
       "      <th>55+</th>\n",
       "      <td>1.822093</td>\n",
       "      <td>2.057064</td>\n",
       "      <td>3.879157</td>\n",
       "    </tr>\n",
       "    <tr>\n",
       "      <th>All</th>\n",
       "      <td>47.986055</td>\n",
       "      <td>52.013945</td>\n",
       "      <td>100.000000</td>\n",
       "    </tr>\n",
       "  </tbody>\n",
       "</table>\n",
       "</div>"
      ],
      "text/plain": [
       "Gender     Female       Male         All\n",
       "Age                                     \n",
       "0-17     1.714697   1.238561    2.953258\n",
       "18-25    8.365575   9.376115   17.741691\n",
       "26-35   17.946073  21.140769   39.086842\n",
       "36-45    9.835011  10.454375   20.289386\n",
       "46-50    4.716434   4.038426    8.754860\n",
       "51-55    3.586172   3.708635    7.294806\n",
       "55+      1.822093   2.057064    3.879157\n",
       "All     47.986055  52.013945  100.000000"
      ]
     },
     "execution_count": 158,
     "metadata": {},
     "output_type": "execute_result"
    }
   ],
   "source": [
    "(pd.crosstab(index= data[\"Age\"],columns=data[\"Gender\"],values=data[\"Purchase\"],aggfunc=np.sum,margins=True)/data[\"Purchase\"].sum())*100"
   ]
  },
  {
   "cell_type": "code",
   "execution_count": null,
   "id": "e25d422e",
   "metadata": {},
   "outputs": [],
   "source": []
  },
  {
   "cell_type": "code",
   "execution_count": null,
   "id": "d27a6a96",
   "metadata": {},
   "outputs": [],
   "source": []
  },
  {
   "cell_type": "markdown",
   "id": "c4e6def5",
   "metadata": {},
   "source": [
    "# `Recommendations `"
   ]
  },
  {
   "cell_type": "markdown",
   "id": "6c2e0a81",
   "metadata": {},
   "source": [
    "- "
   ]
  },
  {
   "cell_type": "code",
   "execution_count": null,
   "id": "6efc7635",
   "metadata": {},
   "outputs": [],
   "source": []
  },
  {
   "cell_type": "code",
   "execution_count": null,
   "id": "dc899fc9",
   "metadata": {},
   "outputs": [],
   "source": []
  },
  {
   "cell_type": "code",
   "execution_count": null,
   "id": "ce480881",
   "metadata": {},
   "outputs": [],
   "source": []
  },
  {
   "cell_type": "code",
   "execution_count": null,
   "id": "be24b052",
   "metadata": {},
   "outputs": [],
   "source": []
  },
  {
   "cell_type": "code",
   "execution_count": null,
   "id": "1caf7065",
   "metadata": {},
   "outputs": [],
   "source": []
  },
  {
   "cell_type": "code",
   "execution_count": null,
   "id": "4ad05145",
   "metadata": {},
   "outputs": [],
   "source": []
  },
  {
   "cell_type": "code",
   "execution_count": null,
   "id": "f05d4f0d",
   "metadata": {},
   "outputs": [],
   "source": []
  },
  {
   "cell_type": "code",
   "execution_count": null,
   "id": "886f4baa",
   "metadata": {},
   "outputs": [],
   "source": []
  },
  {
   "cell_type": "code",
   "execution_count": null,
   "id": "42ef88e2",
   "metadata": {},
   "outputs": [],
   "source": []
  },
  {
   "cell_type": "code",
   "execution_count": null,
   "id": "bc6d824b",
   "metadata": {},
   "outputs": [],
   "source": []
  },
  {
   "cell_type": "code",
   "execution_count": null,
   "id": "0a7b3a4e",
   "metadata": {},
   "outputs": [],
   "source": []
  },
  {
   "cell_type": "code",
   "execution_count": null,
   "id": "5b07ae68",
   "metadata": {},
   "outputs": [],
   "source": []
  },
  {
   "cell_type": "code",
   "execution_count": null,
   "id": "7301d48d",
   "metadata": {},
   "outputs": [],
   "source": []
  },
  {
   "cell_type": "code",
   "execution_count": null,
   "id": "c01da191",
   "metadata": {},
   "outputs": [],
   "source": []
  },
  {
   "cell_type": "code",
   "execution_count": null,
   "id": "26223282",
   "metadata": {},
   "outputs": [],
   "source": []
  },
  {
   "cell_type": "code",
   "execution_count": null,
   "id": "c5f7899c",
   "metadata": {},
   "outputs": [],
   "source": []
  },
  {
   "cell_type": "code",
   "execution_count": null,
   "id": "bfbd8ceb",
   "metadata": {},
   "outputs": [],
   "source": []
  }
 ],
 "metadata": {
  "kernelspec": {
   "display_name": "Python 3 (ipykernel)",
   "language": "python",
   "name": "python3"
  },
  "language_info": {
   "codemirror_mode": {
    "name": "ipython",
    "version": 3
   },
   "file_extension": ".py",
   "mimetype": "text/x-python",
   "name": "python",
   "nbconvert_exporter": "python",
   "pygments_lexer": "ipython3",
   "version": "3.9.7"
  }
 },
 "nbformat": 4,
 "nbformat_minor": 5
}
