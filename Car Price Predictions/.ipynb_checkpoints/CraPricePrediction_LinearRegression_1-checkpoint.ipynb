{
 "cells": [
  {
   "cell_type": "markdown",
   "metadata": {
    "id": "_GEqHBS0w6eH"
   },
   "source": [
    "## Content\n",
    "\n",
    "- **Business Case Introduction**\n",
    "\n",
    "- **EDA**\n",
    "    - Overview\n",
    "    - Distributions\n",
    "    - Outliers and Missing Values\n",
    "    - Correlations\n",
    "    - Categorical Variables\n",
    "\n",
    "- **Feature Engineering**\n",
    "    - Year\n",
    "    - Categorical Encoding\n",
    "    - Scaling\n",
    "\n",
    "\n",
    "- **Stitching it all together**\n",
    "\n",
    "- **Correlations with all numeric features**"
   ]
  },
  {
   "cell_type": "markdown",
   "metadata": {
    "id": "82e20bd8"
   },
   "source": [
    "\n",
    "## Business case Introduction\n",
    "\n",
    "\n",
    "As the **Data Scientist working at Cars24, you are given a task**\n",
    "\n",
    "### GOAL: To automate the process of estimating price of the used car\n",
    "\n",
    "\n"
   ]
  },
  {
   "cell_type": "markdown",
   "metadata": {
    "id": "954215a3"
   },
   "source": [
    "## Exploratory Data Analysis"
   ]
  },
  {
   "cell_type": "code",
   "execution_count": 1,
   "metadata": {
    "id": "5d64b17c"
   },
   "outputs": [],
   "source": [
    "import numpy as np\n",
    "import pandas as pd\n",
    "import matplotlib.pyplot as plt\n",
    "import seaborn as sns\n",
    "import seaborn as sns\n",
    "import warnings\n",
    "warnings.filterwarnings('ignore')"
   ]
  },
  {
   "cell_type": "code",
   "execution_count": 2,
   "metadata": {
    "colab": {
     "base_uri": "https://localhost:8080/"
    },
    "id": "qM2lYVDC_Y-n",
    "outputId": "0678c204-c666-469b-a1a1-4c0cd57c2cc4"
   },
   "outputs": [],
   "source": [
    "# !gdown 15tIjPrstV2RnOMv2VSIKW7yW_M3KjyNa"
   ]
  },
  {
   "cell_type": "markdown",
   "metadata": {
    "id": "3ec819f5"
   },
   "source": [
    "### Overview"
   ]
  },
  {
   "cell_type": "code",
   "execution_count": 3,
   "metadata": {
    "colab": {
     "base_uri": "https://localhost:8080/",
     "height": 441
    },
    "id": "b9d4a0c2",
    "outputId": "0741ab9b-f73d-411d-be66-7a7232b33948"
   },
   "outputs": [
    {
     "data": {
      "text/html": [
       "<div>\n",
       "<style scoped>\n",
       "    .dataframe tbody tr th:only-of-type {\n",
       "        vertical-align: middle;\n",
       "    }\n",
       "\n",
       "    .dataframe tbody tr th {\n",
       "        vertical-align: top;\n",
       "    }\n",
       "\n",
       "    .dataframe thead th {\n",
       "        text-align: right;\n",
       "    }\n",
       "</style>\n",
       "<table border=\"1\" class=\"dataframe\">\n",
       "  <thead>\n",
       "    <tr style=\"text-align: right;\">\n",
       "      <th></th>\n",
       "      <th>full_name</th>\n",
       "      <th>selling_price</th>\n",
       "      <th>year</th>\n",
       "      <th>seller_type</th>\n",
       "      <th>km_driven</th>\n",
       "      <th>fuel_type</th>\n",
       "      <th>transmission_type</th>\n",
       "      <th>mileage</th>\n",
       "      <th>engine</th>\n",
       "      <th>max_power</th>\n",
       "      <th>seats</th>\n",
       "    </tr>\n",
       "  </thead>\n",
       "  <tbody>\n",
       "    <tr>\n",
       "      <th>0</th>\n",
       "      <td>Maruti Alto Std</td>\n",
       "      <td>1.20</td>\n",
       "      <td>2012.0</td>\n",
       "      <td>Individual</td>\n",
       "      <td>120000</td>\n",
       "      <td>Petrol</td>\n",
       "      <td>Manual</td>\n",
       "      <td>19.70</td>\n",
       "      <td>796.0</td>\n",
       "      <td>46.30</td>\n",
       "      <td>5.0</td>\n",
       "    </tr>\n",
       "    <tr>\n",
       "      <th>1</th>\n",
       "      <td>Hyundai Grand i10 Asta</td>\n",
       "      <td>5.50</td>\n",
       "      <td>2016.0</td>\n",
       "      <td>Individual</td>\n",
       "      <td>20000</td>\n",
       "      <td>Petrol</td>\n",
       "      <td>Manual</td>\n",
       "      <td>18.90</td>\n",
       "      <td>1197.0</td>\n",
       "      <td>82.00</td>\n",
       "      <td>5.0</td>\n",
       "    </tr>\n",
       "    <tr>\n",
       "      <th>2</th>\n",
       "      <td>Hyundai i20 Asta</td>\n",
       "      <td>2.15</td>\n",
       "      <td>2010.0</td>\n",
       "      <td>Individual</td>\n",
       "      <td>60000</td>\n",
       "      <td>Petrol</td>\n",
       "      <td>Manual</td>\n",
       "      <td>17.00</td>\n",
       "      <td>1197.0</td>\n",
       "      <td>80.00</td>\n",
       "      <td>5.0</td>\n",
       "    </tr>\n",
       "    <tr>\n",
       "      <th>3</th>\n",
       "      <td>Maruti Alto K10 2010-2014 VXI</td>\n",
       "      <td>2.26</td>\n",
       "      <td>2012.0</td>\n",
       "      <td>Individual</td>\n",
       "      <td>37000</td>\n",
       "      <td>Petrol</td>\n",
       "      <td>Manual</td>\n",
       "      <td>20.92</td>\n",
       "      <td>998.0</td>\n",
       "      <td>67.10</td>\n",
       "      <td>5.0</td>\n",
       "    </tr>\n",
       "    <tr>\n",
       "      <th>4</th>\n",
       "      <td>Ford Ecosport 2015-2021 1.5 TDCi Titanium BSIV</td>\n",
       "      <td>5.70</td>\n",
       "      <td>2015.0</td>\n",
       "      <td>Dealer</td>\n",
       "      <td>30000</td>\n",
       "      <td>Diesel</td>\n",
       "      <td>Manual</td>\n",
       "      <td>22.77</td>\n",
       "      <td>1498.0</td>\n",
       "      <td>98.59</td>\n",
       "      <td>5.0</td>\n",
       "    </tr>\n",
       "  </tbody>\n",
       "</table>\n",
       "</div>"
      ],
      "text/plain": [
       "                                        full_name  selling_price    year  \\\n",
       "0                                 Maruti Alto Std           1.20  2012.0   \n",
       "1                          Hyundai Grand i10 Asta           5.50  2016.0   \n",
       "2                                Hyundai i20 Asta           2.15  2010.0   \n",
       "3                   Maruti Alto K10 2010-2014 VXI           2.26  2012.0   \n",
       "4  Ford Ecosport 2015-2021 1.5 TDCi Titanium BSIV           5.70  2015.0   \n",
       "\n",
       "  seller_type  km_driven fuel_type transmission_type  mileage  engine  \\\n",
       "0  Individual     120000    Petrol            Manual    19.70   796.0   \n",
       "1  Individual      20000    Petrol            Manual    18.90  1197.0   \n",
       "2  Individual      60000    Petrol            Manual    17.00  1197.0   \n",
       "3  Individual      37000    Petrol            Manual    20.92   998.0   \n",
       "4      Dealer      30000    Diesel            Manual    22.77  1498.0   \n",
       "\n",
       "   max_power  seats  \n",
       "0      46.30    5.0  \n",
       "1      82.00    5.0  \n",
       "2      80.00    5.0  \n",
       "3      67.10    5.0  \n",
       "4      98.59    5.0  "
      ]
     },
     "execution_count": 3,
     "metadata": {},
     "output_type": "execute_result"
    }
   ],
   "source": [
    "df = pd.read_csv(\"cars24-car-price.csv\")\n",
    "df.head()"
   ]
  },
  {
   "cell_type": "markdown",
   "metadata": {
    "id": "bda3ad2e"
   },
   "source": [
    "Notice that Variable ```full_name``` contains both ```Maker``` and ```Model``` information - need to extract make and model from full_name."
   ]
  },
  {
   "cell_type": "code",
   "execution_count": 4,
   "metadata": {
    "colab": {
     "base_uri": "https://localhost:8080/"
    },
    "id": "26aabe45",
    "outputId": "99bd27d9-7269-41a5-c328-a4e8735ab5d6"
   },
   "outputs": [
    {
     "data": {
      "text/plain": [
       "(19980, 11)"
      ]
     },
     "execution_count": 4,
     "metadata": {},
     "output_type": "execute_result"
    }
   ],
   "source": [
    "df.shape"
   ]
  },
  {
   "cell_type": "code",
   "execution_count": 5,
   "metadata": {
    "colab": {
     "base_uri": "https://localhost:8080/"
    },
    "id": "d2a5005b",
    "outputId": "2f18ab58-77dc-4472-8ab2-e1686d653eb0"
   },
   "outputs": [
    {
     "name": "stdout",
     "output_type": "stream",
     "text": [
      "<class 'pandas.core.frame.DataFrame'>\n",
      "RangeIndex: 19980 entries, 0 to 19979\n",
      "Data columns (total 11 columns):\n",
      " #   Column             Non-Null Count  Dtype  \n",
      "---  ------             --------------  -----  \n",
      " 0   full_name          19980 non-null  object \n",
      " 1   selling_price      19980 non-null  float64\n",
      " 2   year               19980 non-null  float64\n",
      " 3   seller_type        19980 non-null  object \n",
      " 4   km_driven          19980 non-null  int64  \n",
      " 5   fuel_type          19980 non-null  object \n",
      " 6   transmission_type  19980 non-null  object \n",
      " 7   mileage            19980 non-null  float64\n",
      " 8   engine             19980 non-null  float64\n",
      " 9   max_power          19980 non-null  float64\n",
      " 10  seats              19980 non-null  float64\n",
      "dtypes: float64(6), int64(1), object(4)\n",
      "memory usage: 1.7+ MB\n"
     ]
    }
   ],
   "source": [
    "df.info();"
   ]
  },
  {
   "cell_type": "code",
   "execution_count": 6,
   "metadata": {
    "colab": {
     "base_uri": "https://localhost:8080/",
     "height": 300
    },
    "id": "05f9b141",
    "outputId": "23b32eef-9eb4-4dd3-9fb6-c49816ac37e1"
   },
   "outputs": [
    {
     "data": {
      "text/html": [
       "<div>\n",
       "<style scoped>\n",
       "    .dataframe tbody tr th:only-of-type {\n",
       "        vertical-align: middle;\n",
       "    }\n",
       "\n",
       "    .dataframe tbody tr th {\n",
       "        vertical-align: top;\n",
       "    }\n",
       "\n",
       "    .dataframe thead th {\n",
       "        text-align: right;\n",
       "    }\n",
       "</style>\n",
       "<table border=\"1\" class=\"dataframe\">\n",
       "  <thead>\n",
       "    <tr style=\"text-align: right;\">\n",
       "      <th></th>\n",
       "      <th>selling_price</th>\n",
       "      <th>year</th>\n",
       "      <th>km_driven</th>\n",
       "      <th>mileage</th>\n",
       "      <th>engine</th>\n",
       "      <th>max_power</th>\n",
       "      <th>seats</th>\n",
       "    </tr>\n",
       "  </thead>\n",
       "  <tbody>\n",
       "    <tr>\n",
       "      <th>count</th>\n",
       "      <td>19980.000000</td>\n",
       "      <td>19980.000000</td>\n",
       "      <td>1.998000e+04</td>\n",
       "      <td>19980.000000</td>\n",
       "      <td>19980.000000</td>\n",
       "      <td>19980.000000</td>\n",
       "      <td>19980.000000</td>\n",
       "    </tr>\n",
       "    <tr>\n",
       "      <th>mean</th>\n",
       "      <td>7.392066</td>\n",
       "      <td>2014.525125</td>\n",
       "      <td>5.824488e+04</td>\n",
       "      <td>19.347219</td>\n",
       "      <td>1476.327401</td>\n",
       "      <td>97.854443</td>\n",
       "      <td>5.317868</td>\n",
       "    </tr>\n",
       "    <tr>\n",
       "      <th>std</th>\n",
       "      <td>9.103088</td>\n",
       "      <td>3.249185</td>\n",
       "      <td>5.172509e+04</td>\n",
       "      <td>4.620053</td>\n",
       "      <td>520.449398</td>\n",
       "      <td>45.080670</td>\n",
       "      <td>0.835370</td>\n",
       "    </tr>\n",
       "    <tr>\n",
       "      <th>min</th>\n",
       "      <td>0.250000</td>\n",
       "      <td>1991.000000</td>\n",
       "      <td>1.000000e+02</td>\n",
       "      <td>0.000000</td>\n",
       "      <td>0.000000</td>\n",
       "      <td>5.000000</td>\n",
       "      <td>2.000000</td>\n",
       "    </tr>\n",
       "    <tr>\n",
       "      <th>25%</th>\n",
       "      <td>3.400000</td>\n",
       "      <td>2013.000000</td>\n",
       "      <td>3.116425e+04</td>\n",
       "      <td>16.800000</td>\n",
       "      <td>1197.000000</td>\n",
       "      <td>73.900000</td>\n",
       "      <td>5.000000</td>\n",
       "    </tr>\n",
       "    <tr>\n",
       "      <th>50%</th>\n",
       "      <td>5.200000</td>\n",
       "      <td>2015.000000</td>\n",
       "      <td>5.200000e+04</td>\n",
       "      <td>19.160000</td>\n",
       "      <td>1248.000000</td>\n",
       "      <td>86.700000</td>\n",
       "      <td>5.000000</td>\n",
       "    </tr>\n",
       "    <tr>\n",
       "      <th>75%</th>\n",
       "      <td>7.850000</td>\n",
       "      <td>2017.000000</td>\n",
       "      <td>7.400000e+04</td>\n",
       "      <td>22.320000</td>\n",
       "      <td>1582.000000</td>\n",
       "      <td>112.000000</td>\n",
       "      <td>5.000000</td>\n",
       "    </tr>\n",
       "    <tr>\n",
       "      <th>max</th>\n",
       "      <td>395.000000</td>\n",
       "      <td>2021.000000</td>\n",
       "      <td>3.800000e+06</td>\n",
       "      <td>120.000000</td>\n",
       "      <td>6752.000000</td>\n",
       "      <td>626.000000</td>\n",
       "      <td>14.000000</td>\n",
       "    </tr>\n",
       "  </tbody>\n",
       "</table>\n",
       "</div>"
      ],
      "text/plain": [
       "       selling_price          year     km_driven       mileage        engine  \\\n",
       "count   19980.000000  19980.000000  1.998000e+04  19980.000000  19980.000000   \n",
       "mean        7.392066   2014.525125  5.824488e+04     19.347219   1476.327401   \n",
       "std         9.103088      3.249185  5.172509e+04      4.620053    520.449398   \n",
       "min         0.250000   1991.000000  1.000000e+02      0.000000      0.000000   \n",
       "25%         3.400000   2013.000000  3.116425e+04     16.800000   1197.000000   \n",
       "50%         5.200000   2015.000000  5.200000e+04     19.160000   1248.000000   \n",
       "75%         7.850000   2017.000000  7.400000e+04     22.320000   1582.000000   \n",
       "max       395.000000   2021.000000  3.800000e+06    120.000000   6752.000000   \n",
       "\n",
       "          max_power         seats  \n",
       "count  19980.000000  19980.000000  \n",
       "mean      97.854443      5.317868  \n",
       "std       45.080670      0.835370  \n",
       "min        5.000000      2.000000  \n",
       "25%       73.900000      5.000000  \n",
       "50%       86.700000      5.000000  \n",
       "75%      112.000000      5.000000  \n",
       "max      626.000000     14.000000  "
      ]
     },
     "metadata": {},
     "output_type": "display_data"
    }
   ],
   "source": [
    "display(df.describe())"
   ]
  },
  {
   "cell_type": "markdown",
   "metadata": {
    "id": "08698399"
   },
   "source": [
    "- `selling_price` ranges from [0.25, 395] - the values seem to be in lakhs (100 thousands ).\n",
    "- `mileage` min is 0, max is 120 - need to check for outliers.\n",
    "- `engine` min is 0, max is 6752 - values appear to be in \"cc\" - need to check for outliers."
   ]
  },
  {
   "cell_type": "markdown",
   "metadata": {
    "id": "c39186af"
   },
   "source": [
    "### Distributions\n",
    "\n",
    "Lets check the distributions of these features one by one"
   ]
  },
  {
   "cell_type": "code",
   "execution_count": 7,
   "metadata": {
    "colab": {
     "base_uri": "https://localhost:8080/",
     "height": 286
    },
    "id": "c445a4cd",
    "outputId": "df95a85e-a5f6-44e0-a931-7802ae3036e4"
   },
   "outputs": [
    {
     "data": {
      "text/plain": [
       "<AxesSubplot:>"
      ]
     },
     "execution_count": 7,
     "metadata": {},
     "output_type": "execute_result"
    },
    {
     "data": {
      "image/png": "[encoded data removed]",
      "text/plain": [
       "<Figure size 432x288 with 1 Axes>"
      ]
     },
     "metadata": {
      "needs_background": "light"
     },
     "output_type": "display_data"
    }
   ],
   "source": [
    "df['selling_price'].hist(bins=50)"
   ]
  },
  {
   "cell_type": "markdown",
   "metadata": {
    "id": "qkdPAVufNJYT"
   },
   "source": [
    "Lets check the percntage of outliers. We are manually taking a call that price over a 100 (K) is an outlier by looking at the above plot"
   ]
  },
  {
   "cell_type": "code",
   "execution_count": 8,
   "metadata": {
    "colab": {
     "base_uri": "https://localhost:8080/"
    },
    "id": "1cf0fc36",
    "outputId": "d79e5d72-d0d8-4138-f4eb-8498eee8da40"
   },
   "outputs": [
    {
     "data": {
      "text/plain": [
       "0.055055055055055056"
      ]
     },
     "execution_count": 8,
     "metadata": {},
     "output_type": "execute_result"
    }
   ],
   "source": [
    "(df.loc[df.selling_price > 100].shape[0] / df.shape[0]) * 100"
   ]
  },
  {
   "cell_type": "markdown",
   "metadata": {
    "id": "8ZKF4jk4Qb-6"
   },
   "source": [
    "Lets saturate selling price at **100**. "
   ]
  },
  {
   "cell_type": "code",
   "execution_count": 9,
   "metadata": {
    "id": "ac0e1922"
   },
   "outputs": [],
   "source": [
    "df.loc[df.selling_price > 100, 'selling_price'] = 100"
   ]
  },
  {
   "cell_type": "markdown",
   "metadata": {
    "id": "50848eac"
   },
   "source": [
    "### Outliers and Missing Values\n",
    "\n",
    "#### Q: Which plot(s) is/are suitable for outlier visualisation ?"
   ]
  },
  {
   "cell_type": "markdown",
   "metadata": {
    "id": "Q2HkA8q-Q5Nv"
   },
   "source": [
    "Similarly lets plot a histogram for **mileage**"
   ]
  },
  {
   "cell_type": "code",
   "execution_count": 10,
   "metadata": {
    "colab": {
     "base_uri": "https://localhost:8080/",
     "height": 265
    },
    "id": "9137b73d",
    "outputId": "25e2018e-37e9-4c13-b4b6-7efe9ff0a6eb"
   },
   "outputs": [
    {
     "data": {
      "text/plain": [
       "<AxesSubplot:>"
      ]
     },
     "execution_count": 10,
     "metadata": {},
     "output_type": "execute_result"
    },
    {
     "data": {
      "image/png": "[encoded data removed]",
      "text/plain": [
       "<Figure size 432x288 with 1 Axes>"
      ]
     },
     "metadata": {
      "needs_background": "light"
     },
     "output_type": "display_data"
    }
   ],
   "source": [
    "df[\"mileage\"].hist(bins=50)"
   ]
  },
  {
   "cell_type": "markdown",
   "metadata": {
    "id": "2HyHfnFeRAmL"
   },
   "source": [
    "Another useful plot is called the 'density' plot. Which is also similar to histogram, but with a more *approximate* shape. It tries to fit a suitable distribution over the histogram and hence includes points that might not even be present in data at hand."
   ]
  },
  {
   "cell_type": "code",
   "execution_count": 11,
   "metadata": {},
   "outputs": [
    {
     "data": {
      "text/plain": [
       "<AxesSubplot:xlabel='mileage', ylabel='Density'>"
      ]
     },
     "execution_count": 11,
     "metadata": {},
     "output_type": "execute_result"
    },
    {
     "data": {
      "image/png": "[encoded data removed]",
      "text/plain": [
       "<Figure size 432x288 with 1 Axes>"
      ]
     },
     "metadata": {
      "needs_background": "light"
     },
     "output_type": "display_data"
    }
   ],
   "source": [
    "sns.kdeplot(df[\"mileage\"])"
   ]
  },
  {
   "cell_type": "markdown",
   "metadata": {
    "id": "9a201e12"
   },
   "source": [
    "We observe a skewed plot with right tail to long. An interesting point here would be mileage > 40, because after that it looks like the values mught just be outliers."
   ]
  },
  {
   "cell_type": "markdown",
   "metadata": {
    "id": "ZMc_3ljfRdab"
   },
   "source": [
    "Above we saw that there was an unusual peak at **0**. Lets investigate further. Looking at points where mileage is less than 5 "
   ]
  },
  {
   "cell_type": "code",
   "execution_count": 12,
   "metadata": {
    "colab": {
     "base_uri": "https://localhost:8080/"
    },
    "id": "8770175b",
    "outputId": "23f2229d-5b0b-4eb7-dfcd-16468edaf73c"
   },
   "outputs": [
    {
     "data": {
      "text/plain": [
       "count    161.000000\n",
       "mean       0.024845\n",
       "std        0.315244\n",
       "min        0.000000\n",
       "25%        0.000000\n",
       "50%        0.000000\n",
       "75%        0.000000\n",
       "max        4.000000\n",
       "Name: mileage, dtype: float64"
      ]
     },
     "execution_count": 12,
     "metadata": {},
     "output_type": "execute_result"
    }
   ],
   "source": [
    "df[df[\"mileage\"]<=5].mileage.describe()"
   ]
  },
  {
   "cell_type": "markdown",
   "metadata": {
    "id": "ORwiWooXRter"
   },
   "source": [
    "Looks like we just have a number of points with mileage 0. That does not make much sense as it cannot be a real value for car mileage. Investigating mileage=0 cases"
   ]
  },
  {
   "cell_type": "code",
   "execution_count": 13,
   "metadata": {
    "colab": {
     "base_uri": "https://localhost:8080/"
    },
    "id": "cebf24d5",
    "outputId": "e807d00c-17cf-41f3-fb43-cd7d5fbbdde8"
   },
   "outputs": [
    {
     "data": {
      "text/plain": [
       "0.008008008008008008"
      ]
     },
     "execution_count": 13,
     "metadata": {},
     "output_type": "execute_result"
    }
   ],
   "source": [
    "df.loc[df.mileage == 0].shape[0] / df.shape[0] # 0.8 %"
   ]
  },
  {
   "cell_type": "code",
   "execution_count": 14,
   "metadata": {
    "colab": {
     "base_uri": "https://localhost:8080/"
    },
    "id": "95a9d68a",
    "outputId": "b83aa6fd-de41-4b1f-a21e-e6407f0e2d14"
   },
   "outputs": [
    {
     "data": {
      "text/plain": [
       "(160, 11)"
      ]
     },
     "execution_count": 14,
     "metadata": {},
     "output_type": "execute_result"
    }
   ],
   "source": [
    "df[df[\"mileage\"] == 0.0].shape"
   ]
  },
  {
   "cell_type": "markdown",
   "metadata": {
    "id": "00697c6e"
   },
   "source": [
    "Thats a very small number of points. We can safely impute, or drop these points later during pre-processing\n",
    "\n",
    "#### Are the top values errorneous?"
   ]
  },
  {
   "cell_type": "markdown",
   "metadata": {
    "id": "6_LyBPdUSOhB"
   },
   "source": [
    "Above we had also noticed that there was a significant point at mileage=40. After this there were only very few points and looked like outliers. Lets check them"
   ]
  },
  {
   "cell_type": "code",
   "execution_count": 15,
   "metadata": {
    "colab": {
     "base_uri": "https://localhost:8080/"
    },
    "id": "086687cf",
    "outputId": "897d3c35-4916-4755-d1e0-6064560f236a"
   },
   "outputs": [
    {
     "data": {
      "text/plain": [
       "count      4.0\n",
       "mean     117.5\n",
       "std        5.0\n",
       "min      110.0\n",
       "25%      117.5\n",
       "50%      120.0\n",
       "75%      120.0\n",
       "max      120.0\n",
       "Name: mileage, dtype: float64"
      ]
     },
     "execution_count": 15,
     "metadata": {},
     "output_type": "execute_result"
    }
   ],
   "source": [
    "df[df[\"mileage\"] > 40].mileage.describe()"
   ]
  },
  {
   "cell_type": "code",
   "execution_count": 16,
   "metadata": {
    "colab": {
     "base_uri": "https://localhost:8080/",
     "height": 326
    },
    "id": "2fb01f54",
    "outputId": "f4dd788e-b642-48fa-c95e-67ff38c77d6a"
   },
   "outputs": [
    {
     "data": {
      "text/html": [
       "<div>\n",
       "<style scoped>\n",
       "    .dataframe tbody tr th:only-of-type {\n",
       "        vertical-align: middle;\n",
       "    }\n",
       "\n",
       "    .dataframe tbody tr th {\n",
       "        vertical-align: top;\n",
       "    }\n",
       "\n",
       "    .dataframe thead th {\n",
       "        text-align: right;\n",
       "    }\n",
       "</style>\n",
       "<table border=\"1\" class=\"dataframe\">\n",
       "  <thead>\n",
       "    <tr style=\"text-align: right;\">\n",
       "      <th></th>\n",
       "      <th>full_name</th>\n",
       "      <th>selling_price</th>\n",
       "      <th>year</th>\n",
       "      <th>seller_type</th>\n",
       "      <th>km_driven</th>\n",
       "      <th>fuel_type</th>\n",
       "      <th>transmission_type</th>\n",
       "      <th>mileage</th>\n",
       "      <th>engine</th>\n",
       "      <th>max_power</th>\n",
       "      <th>seats</th>\n",
       "    </tr>\n",
       "  </thead>\n",
       "  <tbody>\n",
       "    <tr>\n",
       "      <th>11966</th>\n",
       "      <td>Mahindra e2oPlus P6</td>\n",
       "      <td>4.00</td>\n",
       "      <td>2018.0</td>\n",
       "      <td>Dealer</td>\n",
       "      <td>26000</td>\n",
       "      <td>Electric</td>\n",
       "      <td>Automatic</td>\n",
       "      <td>110.0</td>\n",
       "      <td>1476.327401</td>\n",
       "      <td>25.4</td>\n",
       "      <td>4.0</td>\n",
       "    </tr>\n",
       "    <tr>\n",
       "      <th>15684</th>\n",
       "      <td>Mahindra e2o T2</td>\n",
       "      <td>3.60</td>\n",
       "      <td>2015.0</td>\n",
       "      <td>Dealer</td>\n",
       "      <td>42862</td>\n",
       "      <td>Electric</td>\n",
       "      <td>Automatic</td>\n",
       "      <td>120.0</td>\n",
       "      <td>0.000000</td>\n",
       "      <td>25.5</td>\n",
       "      <td>5.0</td>\n",
       "    </tr>\n",
       "    <tr>\n",
       "      <th>17782</th>\n",
       "      <td>Mahindra e2o T2</td>\n",
       "      <td>4.50</td>\n",
       "      <td>2015.0</td>\n",
       "      <td>Dealer</td>\n",
       "      <td>40000</td>\n",
       "      <td>Electric</td>\n",
       "      <td>Automatic</td>\n",
       "      <td>120.0</td>\n",
       "      <td>0.000000</td>\n",
       "      <td>25.5</td>\n",
       "      <td>5.0</td>\n",
       "    </tr>\n",
       "    <tr>\n",
       "      <th>18401</th>\n",
       "      <td>Mahindra e2o Premium</td>\n",
       "      <td>3.25</td>\n",
       "      <td>2013.0</td>\n",
       "      <td>Individual</td>\n",
       "      <td>50000</td>\n",
       "      <td>Electric</td>\n",
       "      <td>Automatic</td>\n",
       "      <td>120.0</td>\n",
       "      <td>0.000000</td>\n",
       "      <td>25.5</td>\n",
       "      <td>5.0</td>\n",
       "    </tr>\n",
       "  </tbody>\n",
       "</table>\n",
       "</div>"
      ],
      "text/plain": [
       "                  full_name  selling_price    year seller_type  km_driven  \\\n",
       "11966   Mahindra e2oPlus P6           4.00  2018.0      Dealer      26000   \n",
       "15684       Mahindra e2o T2           3.60  2015.0      Dealer      42862   \n",
       "17782       Mahindra e2o T2           4.50  2015.0      Dealer      40000   \n",
       "18401  Mahindra e2o Premium           3.25  2013.0  Individual      50000   \n",
       "\n",
       "      fuel_type transmission_type  mileage       engine  max_power  seats  \n",
       "11966  Electric         Automatic    110.0  1476.327401       25.4    4.0  \n",
       "15684  Electric         Automatic    120.0     0.000000       25.5    5.0  \n",
       "17782  Electric         Automatic    120.0     0.000000       25.5    5.0  \n",
       "18401  Electric         Automatic    120.0     0.000000       25.5    5.0  "
      ]
     },
     "execution_count": 16,
     "metadata": {},
     "output_type": "execute_result"
    }
   ],
   "source": [
    "df[df[\"mileage\"] > 40]"
   ]
  },
  {
   "cell_type": "code",
   "execution_count": 17,
   "metadata": {
    "colab": {
     "base_uri": "https://localhost:8080/"
    },
    "id": "ebdd8056",
    "outputId": "2b749e02-29c5-4753-c28b-2655ce57039a"
   },
   "outputs": [
    {
     "data": {
      "text/plain": [
       "Electric    4\n",
       "Name: fuel_type, dtype: int64"
      ]
     },
     "execution_count": 17,
     "metadata": {},
     "output_type": "execute_result"
    }
   ],
   "source": [
    "df[df[\"mileage\"] > 40].fuel_type.value_counts()"
   ]
  },
  {
   "cell_type": "markdown",
   "metadata": {
    "id": "30d350ad"
   },
   "source": [
    "- So all vehicles with mileage > 40 are electric vehicles which makes sense. \n",
    "- So they are not incorrect (error) values. \n",
    "- Let us not remove these points for now"
   ]
  },
  {
   "cell_type": "markdown",
   "metadata": {
    "id": "898bd0a0"
   },
   "source": [
    "### Correlations"
   ]
  },
  {
   "cell_type": "markdown",
   "metadata": {
    "id": "pp_p6cp0SgaO"
   },
   "source": [
    "Now lets look at the correlations of numerical features with each other"
   ]
  },
  {
   "cell_type": "code",
   "execution_count": 18,
   "metadata": {
    "colab": {
     "base_uri": "https://localhost:8080/",
     "height": 488
    },
    "id": "e1f3bfe0",
    "outputId": "c2ff548a-e47f-4e33-d8df-67dade48fd67"
   },
   "outputs": [
    {
     "data": {
      "image/png": "[encoded data removed]",
      "text/plain": [
       "<Figure size 720x576 with 2 Axes>"
      ]
     },
     "metadata": {
      "needs_background": "light"
     },
     "output_type": "display_data"
    }
   ],
   "source": [
    "plt.figure(figsize=(10,8))\n",
    "ax = sns.heatmap(df.corr(),  annot=True)"
   ]
  },
  {
   "cell_type": "markdown",
   "metadata": {
    "id": "gv2UD2K_Sq62"
   },
   "source": [
    "We see the following correlations:\n",
    "- Engine and max-power\n",
    "- Max power and selling price\n",
    "Now based on our **domain knowledge** (about cars) we can digest these correlations. In this case, these correlations seem to make a lot of sense\n",
    "\n",
    "\n",
    "Another visualisation we can check, is the scatter plot of each feature with the target. This can be easily done using pairplot from seaborn library"
   ]
  },
  {
   "cell_type": "code",
   "execution_count": 19,
   "metadata": {
    "colab": {
     "base_uri": "https://localhost:8080/",
     "height": 165
    },
    "id": "cdd13238",
    "outputId": "53a2ac2e-7bb2-4f85-d6b8-151f59625b59"
   },
   "outputs": [
    {
     "data": {
      "text/plain": [
       "<seaborn.axisgrid.PairGrid at 0x26e5f258a00>"
      ]
     },
     "execution_count": 19,
     "metadata": {},
     "output_type": "execute_result"
    },
    {
     "data": {
      "image/png": "[encoded data removed]",
      "text/plain": [
       "<Figure size 180x1260 with 8 Axes>"
      ]
     },
     "metadata": {
      "needs_background": "light"
     },
     "output_type": "display_data"
    }
   ],
   "source": [
    "sns.pairplot(df, x_vars=[\"selling_price\"])"
   ]
  },
  {
   "cell_type": "code",
   "execution_count": 20,
   "metadata": {
    "colab": {
     "base_uri": "https://localhost:8080/"
    },
    "id": "51924620",
    "outputId": "87c6401e-5d7c-4c63-f733-866445f713b5"
   },
   "outputs": [
    {
     "data": {
      "text/plain": [
       "5.0     0.834885\n",
       "7.0     0.118619\n",
       "8.0     0.022022\n",
       "4.0     0.011261\n",
       "6.0     0.007157\n",
       "9.0     0.003604\n",
       "10.0    0.001301\n",
       "2.0     0.001051\n",
       "14.0    0.000100\n",
       "Name: seats, dtype: float64"
      ]
     },
     "execution_count": 20,
     "metadata": {},
     "output_type": "execute_result"
    }
   ],
   "source": [
    "df['seats'].value_counts(normalize=True)"
   ]
  },
  {
   "cell_type": "markdown",
   "metadata": {
    "id": "57297951"
   },
   "source": [
    "### Categorical Variables"
   ]
  },
  {
   "cell_type": "markdown",
   "metadata": {
    "id": "f32cbc66"
   },
   "source": [
    "#### How can we extract Make and Model from \"full_name\""
   ]
  },
  {
   "cell_type": "markdown",
   "metadata": {
    "id": "7GuygB63TXOB"
   },
   "source": [
    "We have noticed that the name contains the informaiton of the brand and the model. Lets extract those and create new features from them. After that we can drop the original column"
   ]
  },
  {
   "cell_type": "code",
   "execution_count": 21,
   "metadata": {
    "colab": {
     "base_uri": "https://localhost:8080/",
     "height": 228
    },
    "id": "0f048cc1",
    "outputId": "72fe11e4-a22a-4ef4-bf02-fceec8f76004"
   },
   "outputs": [
    {
     "data": {
      "text/html": [
       "<div>\n",
       "<style scoped>\n",
       "    .dataframe tbody tr th:only-of-type {\n",
       "        vertical-align: middle;\n",
       "    }\n",
       "\n",
       "    .dataframe tbody tr th {\n",
       "        vertical-align: top;\n",
       "    }\n",
       "\n",
       "    .dataframe thead th {\n",
       "        text-align: right;\n",
       "    }\n",
       "</style>\n",
       "<table border=\"1\" class=\"dataframe\">\n",
       "  <thead>\n",
       "    <tr style=\"text-align: right;\">\n",
       "      <th></th>\n",
       "      <th>selling_price</th>\n",
       "      <th>year</th>\n",
       "      <th>seller_type</th>\n",
       "      <th>km_driven</th>\n",
       "      <th>fuel_type</th>\n",
       "      <th>transmission_type</th>\n",
       "      <th>mileage</th>\n",
       "      <th>engine</th>\n",
       "      <th>max_power</th>\n",
       "      <th>seats</th>\n",
       "      <th>make</th>\n",
       "      <th>model</th>\n",
       "    </tr>\n",
       "  </thead>\n",
       "  <tbody>\n",
       "    <tr>\n",
       "      <th>0</th>\n",
       "      <td>1.2</td>\n",
       "      <td>2012.0</td>\n",
       "      <td>Individual</td>\n",
       "      <td>120000</td>\n",
       "      <td>Petrol</td>\n",
       "      <td>Manual</td>\n",
       "      <td>19.7</td>\n",
       "      <td>796.0</td>\n",
       "      <td>46.3</td>\n",
       "      <td>5.0</td>\n",
       "      <td>Maruti</td>\n",
       "      <td>Alto Std</td>\n",
       "    </tr>\n",
       "    <tr>\n",
       "      <th>1</th>\n",
       "      <td>5.5</td>\n",
       "      <td>2016.0</td>\n",
       "      <td>Individual</td>\n",
       "      <td>20000</td>\n",
       "      <td>Petrol</td>\n",
       "      <td>Manual</td>\n",
       "      <td>18.9</td>\n",
       "      <td>1197.0</td>\n",
       "      <td>82.0</td>\n",
       "      <td>5.0</td>\n",
       "      <td>Hyundai</td>\n",
       "      <td>Grand i10 Asta</td>\n",
       "    </tr>\n",
       "  </tbody>\n",
       "</table>\n",
       "</div>"
      ],
      "text/plain": [
       "   selling_price    year seller_type  km_driven fuel_type transmission_type  \\\n",
       "0            1.2  2012.0  Individual     120000    Petrol            Manual   \n",
       "1            5.5  2016.0  Individual      20000    Petrol            Manual   \n",
       "\n",
       "   mileage  engine  max_power  seats     make           model  \n",
       "0     19.7   796.0       46.3    5.0   Maruti        Alto Std  \n",
       "1     18.9  1197.0       82.0    5.0  Hyundai  Grand i10 Asta  "
      ]
     },
     "execution_count": 21,
     "metadata": {},
     "output_type": "execute_result"
    }
   ],
   "source": [
    "df[\"make\"] = df.full_name.apply(lambda x : x.split()[0])\n",
    "df[\"model\"] = df.full_name.apply(lambda x : \" \".join(x.split()[1:]))\n",
    "df = df.drop(\"full_name\", axis=1)\n",
    "df.head(2)"
   ]
  },
  {
   "cell_type": "markdown",
   "metadata": {
    "id": "9P5Z8JSgTrP8"
   },
   "source": [
    "Now let us look at some categorical variables one by one"
   ]
  },
  {
   "cell_type": "code",
   "execution_count": 22,
   "metadata": {
    "colab": {
     "base_uri": "https://localhost:8080/",
     "height": 175
    },
    "id": "4b958059",
    "outputId": "e738ef93-f736-41a6-8381-bc787d6e224f"
   },
   "outputs": [
    {
     "data": {
      "text/html": [
       "<div>\n",
       "<style scoped>\n",
       "    .dataframe tbody tr th:only-of-type {\n",
       "        vertical-align: middle;\n",
       "    }\n",
       "\n",
       "    .dataframe tbody tr th {\n",
       "        vertical-align: top;\n",
       "    }\n",
       "\n",
       "    .dataframe thead th {\n",
       "        text-align: right;\n",
       "    }\n",
       "</style>\n",
       "<table border=\"1\" class=\"dataframe\">\n",
       "  <thead>\n",
       "    <tr style=\"text-align: right;\">\n",
       "      <th></th>\n",
       "      <th>seller_type</th>\n",
       "      <th>fuel_type</th>\n",
       "      <th>transmission_type</th>\n",
       "      <th>make</th>\n",
       "      <th>model</th>\n",
       "    </tr>\n",
       "  </thead>\n",
       "  <tbody>\n",
       "    <tr>\n",
       "      <th>count</th>\n",
       "      <td>19980</td>\n",
       "      <td>19980</td>\n",
       "      <td>19980</td>\n",
       "      <td>19980</td>\n",
       "      <td>19980</td>\n",
       "    </tr>\n",
       "    <tr>\n",
       "      <th>unique</th>\n",
       "      <td>3</td>\n",
       "      <td>5</td>\n",
       "      <td>2</td>\n",
       "      <td>42</td>\n",
       "      <td>3321</td>\n",
       "    </tr>\n",
       "    <tr>\n",
       "      <th>top</th>\n",
       "      <td>Dealer</td>\n",
       "      <td>Diesel</td>\n",
       "      <td>Manual</td>\n",
       "      <td>Maruti</td>\n",
       "      <td>Swift Dzire VDI</td>\n",
       "    </tr>\n",
       "    <tr>\n",
       "      <th>freq</th>\n",
       "      <td>11973</td>\n",
       "      <td>9817</td>\n",
       "      <td>16029</td>\n",
       "      <td>5650</td>\n",
       "      <td>210</td>\n",
       "    </tr>\n",
       "  </tbody>\n",
       "</table>\n",
       "</div>"
      ],
      "text/plain": [
       "       seller_type fuel_type transmission_type    make            model\n",
       "count        19980     19980             19980   19980            19980\n",
       "unique           3         5                 2      42             3321\n",
       "top         Dealer    Diesel            Manual  Maruti  Swift Dzire VDI\n",
       "freq         11973      9817             16029    5650              210"
      ]
     },
     "metadata": {},
     "output_type": "display_data"
    }
   ],
   "source": [
    "display(df.describe(include=\"object\"))"
   ]
  },
  {
   "cell_type": "code",
   "execution_count": 23,
   "metadata": {
    "colab": {
     "base_uri": "https://localhost:8080/"
    },
    "id": "uRpTtxKyT6Zo",
    "outputId": "c6a32fac-9677-4bb4-c75e-e53a9766502d"
   },
   "outputs": [
    {
     "data": {
      "text/plain": [
       "Diesel      9817\n",
       "Petrol      9767\n",
       "CNG          316\n",
       "LPG           66\n",
       "Electric      14\n",
       "Name: fuel_type, dtype: int64"
      ]
     },
     "execution_count": 23,
     "metadata": {},
     "output_type": "execute_result"
    }
   ],
   "source": [
    "df[\"fuel_type\"].value_counts()"
   ]
  },
  {
   "cell_type": "code",
   "execution_count": 24,
   "metadata": {
    "colab": {
     "base_uri": "https://localhost:8080/"
    },
    "id": "esoTkRa2T5ze",
    "outputId": "2eb67874-30ef-4b77-b13b-b5c416901037"
   },
   "outputs": [
    {
     "data": {
      "text/plain": [
       "Manual       16029\n",
       "Automatic     3951\n",
       "Name: transmission_type, dtype: int64"
      ]
     },
     "execution_count": 24,
     "metadata": {},
     "output_type": "execute_result"
    }
   ],
   "source": [
    "df[\"transmission_type\"].value_counts()"
   ]
  },
  {
   "cell_type": "code",
   "execution_count": 25,
   "metadata": {
    "colab": {
     "base_uri": "https://localhost:8080/"
    },
    "id": "2e62c375",
    "outputId": "6ca268db-e9d8-4bdc-af48-abb270f9a05d"
   },
   "outputs": [
    {
     "data": {
      "text/plain": [
       "Dealer              11973\n",
       "Individual           7817\n",
       "Trustmark Dealer      190\n",
       "Name: seller_type, dtype: int64"
      ]
     },
     "execution_count": 25,
     "metadata": {},
     "output_type": "execute_result"
    }
   ],
   "source": [
    "df[\"seller_type\"].value_counts()"
   ]
  },
  {
   "cell_type": "markdown",
   "metadata": {
    "id": "b0a038df"
   },
   "source": [
    "#### Does selling price vary in some of these groups"
   ]
  },
  {
   "cell_type": "code",
   "execution_count": 26,
   "metadata": {
    "colab": {
     "base_uri": "https://localhost:8080/",
     "height": 265
    },
    "id": "ad5ad59a",
    "outputId": "93805981-66bb-4d56-8aed-98420d45bba4"
   },
   "outputs": [
    {
     "data": {
      "text/plain": [
       "<matplotlib.legend.Legend at 0x26e60995d30>"
      ]
     },
     "execution_count": 26,
     "metadata": {},
     "output_type": "execute_result"
    },
    {
     "data": {
      "image/png": "[encoded data removed]",
      "text/plain": [
       "<Figure size 432x288 with 1 Axes>"
      ]
     },
     "metadata": {
      "needs_background": "light"
     },
     "output_type": "display_data"
    }
   ],
   "source": [
    "df.loc[df.selling_price<=df.selling_price.quantile(0.9)].groupby('seller_type')['selling_price'].plot.density();\n",
    "plt.legend()"
   ]
  },
  {
   "cell_type": "markdown",
   "metadata": {
    "id": "CCPK7tdzUICh"
   },
   "source": [
    "Looks like for different seller type, the selling price distrubution is not very different. Hence one intuition that can be developed from this plot is that the **seller_type** variable will not turn out to be very important for the ML model. (We will check this later)"
   ]
  },
  {
   "cell_type": "markdown",
   "metadata": {
    "id": "4ab2bd2c"
   },
   "source": [
    "#### Lets check for all groups?\n",
    "\n",
    "Another way to visualise the same is to use a plot known as **box-plot**\n",
    "\n",
    "\n",
    "Note: Although, `seats` is numeric, but we will consider it as an ordinal variable and perform similar analysis as we do for other categorical variables."
   ]
  },
  {
   "cell_type": "code",
   "execution_count": 27,
   "metadata": {
    "colab": {
     "base_uri": "https://localhost:8080/",
     "height": 1000
    },
    "id": "a068256c",
    "outputId": "d791103b-80ab-495b-92ee-1ce0acaeff20"
   },
   "outputs": [
    {
     "data": {
      "image/png": "[encoded data removed]",
      "text/plain": [
       "<Figure size 720x360 with 1 Axes>"
      ]
     },
     "metadata": {
      "needs_background": "light"
     },
     "output_type": "display_data"
    },
    {
     "data": {
      "image/png": "[encoded data removed]",
      "text/plain": [
       "<Figure size 720x360 with 1 Axes>"
      ]
     },
     "metadata": {
      "needs_background": "light"
     },
     "output_type": "display_data"
    },
    {
     "data": {
      "image/png": "[encoded data removed]",
      "text/plain": [
       "<Figure size 720x360 with 1 Axes>"
      ]
     },
     "metadata": {
      "needs_background": "light"
     },
     "output_type": "display_data"
    }
   ],
   "source": [
    "for col in ['seller_type', 'fuel_type', 'seats']:\n",
    "    plt.figure(figsize=(10,5))\n",
    "    sns.boxplot(y='selling_price',x=col, data=df)\n",
    "    plt.title('col vs selling_price')\n",
    "    plt.show()"
   ]
  },
  {
   "cell_type": "markdown",
   "metadata": {
    "id": "e080af97"
   },
   "source": [
    "#### How can we transform the scale of selling-price for better visualisation?"
   ]
  },
  {
   "cell_type": "code",
   "execution_count": 28,
   "metadata": {
    "colab": {
     "base_uri": "https://localhost:8080/",
     "height": 1000
    },
    "id": "39d500fc",
    "outputId": "8dab6623-327f-4ce8-d929-b658ffc8f77d"
   },
   "outputs": [
    {
     "data": {
      "image/png": "[encoded data removed]",
      "text/plain": [
       "<Figure size 720x360 with 1 Axes>"
      ]
     },
     "metadata": {
      "needs_background": "light"
     },
     "output_type": "display_data"
    },
    {
     "data": {
      "image/png": "[encoded data removed]",
      "text/plain": [
       "<Figure size 720x360 with 1 Axes>"
      ]
     },
     "metadata": {
      "needs_background": "light"
     },
     "output_type": "display_data"
    },
    {
     "data": {
      "image/png": "[encoded data removed]",
      "text/plain": [
       "<Figure size 720x360 with 1 Axes>"
      ]
     },
     "metadata": {
      "needs_background": "light"
     },
     "output_type": "display_data"
    }
   ],
   "source": [
    "df[\"log_selling_price\"] = np.log(df[\"selling_price\"].values)\n",
    " \n",
    "for col in ['seller_type', 'fuel_type', 'seats']:\n",
    "    plt.figure(figsize=(10,5))\n",
    "    sns.boxplot(y='log_selling_price',x=col, data=df)\n",
    "    plt.title('col vs selling_price')\n",
    "    plt.show()"
   ]
  },
  {
   "cell_type": "markdown",
   "metadata": {
    "id": "938ff054"
   },
   "source": [
    " - `selling_price` of \"coupe\" is quite variational - important to be kept for predictive modelling"
   ]
  },
  {
   "cell_type": "markdown",
   "metadata": {
    "id": "45b5a469"
   },
   "source": [
    "#### How many categories of \"make\" in the data?  "
   ]
  },
  {
   "cell_type": "code",
   "execution_count": 29,
   "metadata": {
    "colab": {
     "base_uri": "https://localhost:8080/"
    },
    "id": "437ace78",
    "outputId": "3d6b7132-984e-4f6b-b76d-491ff3509d6f"
   },
   "outputs": [
    {
     "data": {
      "text/plain": [
       "42"
      ]
     },
     "execution_count": 29,
     "metadata": {},
     "output_type": "execute_result"
    }
   ],
   "source": [
    "len(df[\"make\"].unique())"
   ]
  },
  {
   "cell_type": "markdown",
   "metadata": {
    "id": "19f90315"
   },
   "source": [
    "There are 42 car brands in the data - too many levels, think of possible ways to encode them as numbers"
   ]
  },
  {
   "cell_type": "markdown",
   "metadata": {
    "id": "390e0023"
   },
   "source": [
    "#### What are item counts for different \"make\"?"
   ]
  },
  {
   "cell_type": "code",
   "execution_count": 30,
   "metadata": {
    "colab": {
     "base_uri": "https://localhost:8080/",
     "height": 415
    },
    "id": "f4f00f28",
    "outputId": "05cf7327-ef98-4e43-d982-6934f6efdc44"
   },
   "outputs": [
    {
     "data": {
      "image/png": "[encoded data removed]",
      "text/plain": [
       "<Figure size 1080x360 with 1 Axes>"
      ]
     },
     "metadata": {
      "needs_background": "light"
     },
     "output_type": "display_data"
    }
   ],
   "source": [
    "plt.figure(figsize=(15,5))\n",
    "sns.countplot(x='make', data=df, order = df['make'].value_counts().index)\n",
    "plt.xticks(rotation=90);\n",
    "plt.title(\"Make and no of items sold\")\n",
    "plt.show()"
   ]
  },
  {
   "cell_type": "markdown",
   "metadata": {
    "id": "445ff873"
   },
   "source": [
    "#### How is \"make\" related to the selling price?"
   ]
  },
  {
   "cell_type": "code",
   "execution_count": 31,
   "metadata": {
    "colab": {
     "base_uri": "https://localhost:8080/",
     "height": 415
    },
    "id": "6b254bad",
    "outputId": "ca026394-408f-4eeb-9592-b701a0ca5e39"
   },
   "outputs": [
    {
     "data": {
      "image/png": "[encoded data removed]",
      "text/plain": [
       "<Figure size 1080x360 with 1 Axes>"
      ]
     },
     "metadata": {
      "needs_background": "light"
     },
     "output_type": "display_data"
    }
   ],
   "source": [
    "plt.figure(figsize=(15,5))\n",
    "sns.boxplot(y='log_selling_price',x='make', data=df, order = df['make'].value_counts().index)\n",
    "plt.xticks(rotation=90);\n",
    "plt.title(\"Selling Price for different make\")\n",
    "plt.show()"
   ]
  },
  {
   "cell_type": "markdown",
   "metadata": {
    "id": "HTp-ssZsU3wW"
   },
   "source": [
    "Lets drop this column for now"
   ]
  },
  {
   "cell_type": "code",
   "execution_count": 32,
   "metadata": {
    "id": "47695630"
   },
   "outputs": [],
   "source": [
    "df.drop(\"log_selling_price\", axis=1, inplace=True)"
   ]
  },
  {
   "cell_type": "markdown",
   "metadata": {
    "id": "89fb9b6a"
   },
   "source": [
    "\n",
    "####  How should we treat number of seats? Continuous OR Categorical ?\n",
    "\n",
    "Number of seats is a variable with a finite discrete set of values. However it is orderd. If we make it categorical, it would be fed into the model as unordered. \n",
    "\n",
    "But we need to think do we want that order? Example 2 seater cars are most likely more expensive than other cars. So in this sense 2 > 5. We actually would benefit from discarding the order.\n",
    "\n",
    "#### Can you convert number of seats to a variable which has 9 unique values with 3 categories?\n",
    "- **Hint**: Merge some elements. Eg all cars with > 5 seats are on category.\n",
    "\n",
    "#### Can we do something similar with the \"make variable\"\n"
   ]
  },
  {
   "cell_type": "markdown",
   "metadata": {
    "id": "adadca0c"
   },
   "source": [
    "---\n",
    "## Feature Engineering\n"
   ]
  },
  {
   "cell_type": "code",
   "execution_count": 33,
   "metadata": {
    "colab": {
     "base_uri": "https://localhost:8080/",
     "height": 426
    },
    "id": "07197c4b",
    "outputId": "04730c07-677d-438e-83ec-93ecb0cb4dd1"
   },
   "outputs": [
    {
     "data": {
      "text/html": [
       "<div>\n",
       "<style scoped>\n",
       "    .dataframe tbody tr th:only-of-type {\n",
       "        vertical-align: middle;\n",
       "    }\n",
       "\n",
       "    .dataframe tbody tr th {\n",
       "        vertical-align: top;\n",
       "    }\n",
       "\n",
       "    .dataframe thead th {\n",
       "        text-align: right;\n",
       "    }\n",
       "</style>\n",
       "<table border=\"1\" class=\"dataframe\">\n",
       "  <thead>\n",
       "    <tr style=\"text-align: right;\">\n",
       "      <th></th>\n",
       "      <th>selling_price</th>\n",
       "      <th>year</th>\n",
       "      <th>seller_type</th>\n",
       "      <th>km_driven</th>\n",
       "      <th>fuel_type</th>\n",
       "      <th>transmission_type</th>\n",
       "      <th>mileage</th>\n",
       "      <th>engine</th>\n",
       "      <th>max_power</th>\n",
       "      <th>seats</th>\n",
       "      <th>make</th>\n",
       "      <th>model</th>\n",
       "    </tr>\n",
       "  </thead>\n",
       "  <tbody>\n",
       "    <tr>\n",
       "      <th>0</th>\n",
       "      <td>1.20</td>\n",
       "      <td>2012.0</td>\n",
       "      <td>Individual</td>\n",
       "      <td>120000</td>\n",
       "      <td>Petrol</td>\n",
       "      <td>Manual</td>\n",
       "      <td>19.70</td>\n",
       "      <td>796.0</td>\n",
       "      <td>46.30</td>\n",
       "      <td>5.0</td>\n",
       "      <td>Maruti</td>\n",
       "      <td>Alto Std</td>\n",
       "    </tr>\n",
       "    <tr>\n",
       "      <th>1</th>\n",
       "      <td>5.50</td>\n",
       "      <td>2016.0</td>\n",
       "      <td>Individual</td>\n",
       "      <td>20000</td>\n",
       "      <td>Petrol</td>\n",
       "      <td>Manual</td>\n",
       "      <td>18.90</td>\n",
       "      <td>1197.0</td>\n",
       "      <td>82.00</td>\n",
       "      <td>5.0</td>\n",
       "      <td>Hyundai</td>\n",
       "      <td>Grand i10 Asta</td>\n",
       "    </tr>\n",
       "    <tr>\n",
       "      <th>2</th>\n",
       "      <td>2.15</td>\n",
       "      <td>2010.0</td>\n",
       "      <td>Individual</td>\n",
       "      <td>60000</td>\n",
       "      <td>Petrol</td>\n",
       "      <td>Manual</td>\n",
       "      <td>17.00</td>\n",
       "      <td>1197.0</td>\n",
       "      <td>80.00</td>\n",
       "      <td>5.0</td>\n",
       "      <td>Hyundai</td>\n",
       "      <td>i20 Asta</td>\n",
       "    </tr>\n",
       "    <tr>\n",
       "      <th>3</th>\n",
       "      <td>2.26</td>\n",
       "      <td>2012.0</td>\n",
       "      <td>Individual</td>\n",
       "      <td>37000</td>\n",
       "      <td>Petrol</td>\n",
       "      <td>Manual</td>\n",
       "      <td>20.92</td>\n",
       "      <td>998.0</td>\n",
       "      <td>67.10</td>\n",
       "      <td>5.0</td>\n",
       "      <td>Maruti</td>\n",
       "      <td>Alto K10 2010-2014 VXI</td>\n",
       "    </tr>\n",
       "    <tr>\n",
       "      <th>4</th>\n",
       "      <td>5.70</td>\n",
       "      <td>2015.0</td>\n",
       "      <td>Dealer</td>\n",
       "      <td>30000</td>\n",
       "      <td>Diesel</td>\n",
       "      <td>Manual</td>\n",
       "      <td>22.77</td>\n",
       "      <td>1498.0</td>\n",
       "      <td>98.59</td>\n",
       "      <td>5.0</td>\n",
       "      <td>Ford</td>\n",
       "      <td>Ecosport 2015-2021 1.5 TDCi Titanium BSIV</td>\n",
       "    </tr>\n",
       "  </tbody>\n",
       "</table>\n",
       "</div>"
      ],
      "text/plain": [
       "   selling_price    year seller_type  km_driven fuel_type transmission_type  \\\n",
       "0           1.20  2012.0  Individual     120000    Petrol            Manual   \n",
       "1           5.50  2016.0  Individual      20000    Petrol            Manual   \n",
       "2           2.15  2010.0  Individual      60000    Petrol            Manual   \n",
       "3           2.26  2012.0  Individual      37000    Petrol            Manual   \n",
       "4           5.70  2015.0      Dealer      30000    Diesel            Manual   \n",
       "\n",
       "   mileage  engine  max_power  seats     make  \\\n",
       "0    19.70   796.0      46.30    5.0   Maruti   \n",
       "1    18.90  1197.0      82.00    5.0  Hyundai   \n",
       "2    17.00  1197.0      80.00    5.0  Hyundai   \n",
       "3    20.92   998.0      67.10    5.0   Maruti   \n",
       "4    22.77  1498.0      98.59    5.0     Ford   \n",
       "\n",
       "                                       model  \n",
       "0                                   Alto Std  \n",
       "1                             Grand i10 Asta  \n",
       "2                                   i20 Asta  \n",
       "3                     Alto K10 2010-2014 VXI  \n",
       "4  Ecosport 2015-2021 1.5 TDCi Titanium BSIV  "
      ]
     },
     "execution_count": 33,
     "metadata": {},
     "output_type": "execute_result"
    }
   ],
   "source": [
    "df.head()"
   ]
  },
  {
   "cell_type": "markdown",
   "metadata": {
    "id": "fa96ba16"
   },
   "source": [
    "### 1. Year\n",
    "\n",
    "Sometimes it is good practice to convert the features into the way we actually understand. This will not necessarily help the model, but helps in us in understanding / interpreting predictions little better\n",
    "\n",
    "- So lets convert year to more readable ***age***"
   ]
  },
  {
   "cell_type": "code",
   "execution_count": 34,
   "metadata": {
    "colab": {
     "base_uri": "https://localhost:8080/",
     "height": 283
    },
    "id": "775b97cc",
    "outputId": "31fee07b-0528-48e1-f7a6-0c098f009f49"
   },
   "outputs": [
    {
     "data": {
      "text/plain": [
       "<matplotlib.collections.PathCollection at 0x26e6227b0d0>"
      ]
     },
     "execution_count": 34,
     "metadata": {},
     "output_type": "execute_result"
    },
    {
     "data": {
      "image/png": "[encoded data removed]",
      "text/plain": [
       "<Figure size 432x288 with 1 Axes>"
      ]
     },
     "metadata": {
      "needs_background": "light"
     },
     "output_type": "display_data"
    }
   ],
   "source": [
    "current_year = 2020\n",
    "age = current_year - df['year']\n",
    "plt.scatter(age, df.selling_price)"
   ]
  },
  {
   "cell_type": "markdown",
   "metadata": {
    "id": "346e9a13"
   },
   "source": [
    "**Higher selling price for newer cars !!**"
   ]
  },
  {
   "cell_type": "markdown",
   "metadata": {
    "id": "fa722d37"
   },
   "source": [
    "### 2. Categorical Encoding\n",
    "\n"
   ]
  },
  {
   "cell_type": "markdown",
   "metadata": {
    "id": "AN4BbFXuxsl8"
   },
   "source": [
    "#### How do we encode categorical variables for modelling?\n",
    "\n"
   ]
  },
  {
   "cell_type": "markdown",
   "metadata": {
    "id": "3jukIV0Txunz"
   },
   "source": [
    "#### 2.1 transmission_type (2 categories)"
   ]
  },
  {
   "cell_type": "code",
   "execution_count": 35,
   "metadata": {
    "colab": {
     "base_uri": "https://localhost:8080/",
     "height": 228
    },
    "id": "0094aa5b",
    "outputId": "f450a97e-428f-4263-ebcf-dfa51e41a18d"
   },
   "outputs": [
    {
     "data": {
      "text/html": [
       "<div>\n",
       "<style scoped>\n",
       "    .dataframe tbody tr th:only-of-type {\n",
       "        vertical-align: middle;\n",
       "    }\n",
       "\n",
       "    .dataframe tbody tr th {\n",
       "        vertical-align: top;\n",
       "    }\n",
       "\n",
       "    .dataframe thead th {\n",
       "        text-align: right;\n",
       "    }\n",
       "</style>\n",
       "<table border=\"1\" class=\"dataframe\">\n",
       "  <thead>\n",
       "    <tr style=\"text-align: right;\">\n",
       "      <th></th>\n",
       "      <th>selling_price</th>\n",
       "      <th>year</th>\n",
       "      <th>seller_type</th>\n",
       "      <th>km_driven</th>\n",
       "      <th>fuel_type</th>\n",
       "      <th>mileage</th>\n",
       "      <th>engine</th>\n",
       "      <th>max_power</th>\n",
       "      <th>seats</th>\n",
       "      <th>make</th>\n",
       "      <th>model</th>\n",
       "      <th>transmission_type</th>\n",
       "    </tr>\n",
       "  </thead>\n",
       "  <tbody>\n",
       "    <tr>\n",
       "      <th>10865</th>\n",
       "      <td>5.2</td>\n",
       "      <td>2017.0</td>\n",
       "      <td>Dealer</td>\n",
       "      <td>25428</td>\n",
       "      <td>Petrol</td>\n",
       "      <td>18.70</td>\n",
       "      <td>1199.0</td>\n",
       "      <td>88.70</td>\n",
       "      <td>5.0</td>\n",
       "      <td>Honda</td>\n",
       "      <td>Jazz 1.2 S i VTEC</td>\n",
       "      <td>1</td>\n",
       "    </tr>\n",
       "    <tr>\n",
       "      <th>8714</th>\n",
       "      <td>6.5</td>\n",
       "      <td>2015.0</td>\n",
       "      <td>Dealer</td>\n",
       "      <td>72000</td>\n",
       "      <td>Diesel</td>\n",
       "      <td>22.54</td>\n",
       "      <td>1396.0</td>\n",
       "      <td>88.73</td>\n",
       "      <td>5.0</td>\n",
       "      <td>Hyundai</td>\n",
       "      <td>i20 Asta Option 1.4 CRDi</td>\n",
       "      <td>1</td>\n",
       "    </tr>\n",
       "  </tbody>\n",
       "</table>\n",
       "</div>"
      ],
      "text/plain": [
       "       selling_price    year seller_type  km_driven fuel_type  mileage  \\\n",
       "10865            5.2  2017.0      Dealer      25428    Petrol    18.70   \n",
       "8714             6.5  2015.0      Dealer      72000    Diesel    22.54   \n",
       "\n",
       "       engine  max_power  seats     make                     model  \\\n",
       "10865  1199.0      88.70    5.0    Honda         Jazz 1.2 S i VTEC   \n",
       "8714   1396.0      88.73    5.0  Hyundai  i20 Asta Option 1.4 CRDi   \n",
       "\n",
       "       transmission_type  \n",
       "10865                  1  \n",
       "8714                   1  "
      ]
     },
     "execution_count": 35,
     "metadata": {},
     "output_type": "execute_result"
    }
   ],
   "source": [
    "# explains how two category variable can be encoded as a binary variable\n",
    "transmission_dummy = pd.get_dummies(df[\"transmission_type\"])\n",
    "df = pd.concat([df, transmission_dummy], axis=1)\n",
    "df = df.drop([\"transmission_type\", \"Automatic\"], axis=1)\n",
    "df = df.rename(columns={\"Manual\": \"transmission_type\"})\n",
    "df.sample(frac=1).head(2)"
   ]
  },
  {
   "cell_type": "markdown",
   "metadata": {
    "id": "1dbb8f46"
   },
   "source": [
    "#### 2.2 fuel_type (5 categores)"
   ]
  },
  {
   "cell_type": "code",
   "execution_count": 36,
   "metadata": {
    "colab": {
     "base_uri": "https://localhost:8080/",
     "height": 112
    },
    "id": "f1232344",
    "outputId": "b3feafaf-1486-469d-b23a-546f2df2fb2c"
   },
   "outputs": [
    {
     "data": {
      "text/html": [
       "<div>\n",
       "<style scoped>\n",
       "    .dataframe tbody tr th:only-of-type {\n",
       "        vertical-align: middle;\n",
       "    }\n",
       "\n",
       "    .dataframe tbody tr th {\n",
       "        vertical-align: top;\n",
       "    }\n",
       "\n",
       "    .dataframe thead th {\n",
       "        text-align: right;\n",
       "    }\n",
       "</style>\n",
       "<table border=\"1\" class=\"dataframe\">\n",
       "  <thead>\n",
       "    <tr style=\"text-align: right;\">\n",
       "      <th></th>\n",
       "      <th>seats_CNG</th>\n",
       "      <th>seats_Diesel</th>\n",
       "      <th>seats_Electric</th>\n",
       "      <th>seats_LPG</th>\n",
       "      <th>seats_Petrol</th>\n",
       "    </tr>\n",
       "  </thead>\n",
       "  <tbody>\n",
       "    <tr>\n",
       "      <th>16539</th>\n",
       "      <td>0</td>\n",
       "      <td>0</td>\n",
       "      <td>0</td>\n",
       "      <td>0</td>\n",
       "      <td>1</td>\n",
       "    </tr>\n",
       "    <tr>\n",
       "      <th>5571</th>\n",
       "      <td>0</td>\n",
       "      <td>1</td>\n",
       "      <td>0</td>\n",
       "      <td>0</td>\n",
       "      <td>0</td>\n",
       "    </tr>\n",
       "  </tbody>\n",
       "</table>\n",
       "</div>"
      ],
      "text/plain": [
       "       seats_CNG  seats_Diesel  seats_Electric  seats_LPG  seats_Petrol\n",
       "16539          0             0               0          0             1\n",
       "5571           0             1               0          0             0"
      ]
     },
     "execution_count": 36,
     "metadata": {},
     "output_type": "execute_result"
    }
   ],
   "source": [
    "fuel_type_dummy = pd.get_dummies(df[\"fuel_type\"], prefix=\"seats\")\n",
    "fuel_type_dummy.sample(frac=1).head(2)"
   ]
  },
  {
   "cell_type": "markdown",
   "metadata": {
    "id": "0677c9b9"
   },
   "source": [
    "**NOTE:** We remove 1 of the dummy variables to avoid the dummy variable trap"
   ]
  },
  {
   "cell_type": "code",
   "execution_count": 37,
   "metadata": {
    "colab": {
     "base_uri": "https://localhost:8080/",
     "height": 112
    },
    "id": "ef232228",
    "outputId": "bf350244-aaf6-4a7b-c28b-a88774cd468f"
   },
   "outputs": [
    {
     "data": {
      "text/html": [
       "<div>\n",
       "<style scoped>\n",
       "    .dataframe tbody tr th:only-of-type {\n",
       "        vertical-align: middle;\n",
       "    }\n",
       "\n",
       "    .dataframe tbody tr th {\n",
       "        vertical-align: top;\n",
       "    }\n",
       "\n",
       "    .dataframe thead th {\n",
       "        text-align: right;\n",
       "    }\n",
       "</style>\n",
       "<table border=\"1\" class=\"dataframe\">\n",
       "  <thead>\n",
       "    <tr style=\"text-align: right;\">\n",
       "      <th></th>\n",
       "      <th>seats_Diesel</th>\n",
       "      <th>seats_Electric</th>\n",
       "      <th>seats_LPG</th>\n",
       "      <th>seats_Petrol</th>\n",
       "    </tr>\n",
       "  </thead>\n",
       "  <tbody>\n",
       "    <tr>\n",
       "      <th>0</th>\n",
       "      <td>0</td>\n",
       "      <td>0</td>\n",
       "      <td>0</td>\n",
       "      <td>1</td>\n",
       "    </tr>\n",
       "    <tr>\n",
       "      <th>1</th>\n",
       "      <td>0</td>\n",
       "      <td>0</td>\n",
       "      <td>0</td>\n",
       "      <td>1</td>\n",
       "    </tr>\n",
       "  </tbody>\n",
       "</table>\n",
       "</div>"
      ],
      "text/plain": [
       "   seats_Diesel  seats_Electric  seats_LPG  seats_Petrol\n",
       "0             0               0          0             1\n",
       "1             0               0          0             1"
      ]
     },
     "execution_count": 37,
     "metadata": {},
     "output_type": "execute_result"
    }
   ],
   "source": [
    "fuel_type_dummy = fuel_type_dummy[fuel_type_dummy.columns[1:]]\n",
    "fuel_type_dummy.head(2)"
   ]
  },
  {
   "cell_type": "code",
   "execution_count": 38,
   "metadata": {
    "colab": {
     "base_uri": "https://localhost:8080/",
     "height": 263
    },
    "id": "5ab6c20a",
    "outputId": "f54636b4-ea85-44f2-ffac-ce9bb5cb4827"
   },
   "outputs": [
    {
     "data": {
      "text/html": [
       "<div>\n",
       "<style scoped>\n",
       "    .dataframe tbody tr th:only-of-type {\n",
       "        vertical-align: middle;\n",
       "    }\n",
       "\n",
       "    .dataframe tbody tr th {\n",
       "        vertical-align: top;\n",
       "    }\n",
       "\n",
       "    .dataframe thead th {\n",
       "        text-align: right;\n",
       "    }\n",
       "</style>\n",
       "<table border=\"1\" class=\"dataframe\">\n",
       "  <thead>\n",
       "    <tr style=\"text-align: right;\">\n",
       "      <th></th>\n",
       "      <th>selling_price</th>\n",
       "      <th>year</th>\n",
       "      <th>seller_type</th>\n",
       "      <th>km_driven</th>\n",
       "      <th>fuel_type</th>\n",
       "      <th>mileage</th>\n",
       "      <th>engine</th>\n",
       "      <th>max_power</th>\n",
       "      <th>seats</th>\n",
       "      <th>make</th>\n",
       "      <th>model</th>\n",
       "      <th>transmission_type</th>\n",
       "      <th>seats_Diesel</th>\n",
       "      <th>seats_Electric</th>\n",
       "      <th>seats_LPG</th>\n",
       "      <th>seats_Petrol</th>\n",
       "    </tr>\n",
       "  </thead>\n",
       "  <tbody>\n",
       "    <tr>\n",
       "      <th>3526</th>\n",
       "      <td>32.0</td>\n",
       "      <td>2018.0</td>\n",
       "      <td>Dealer</td>\n",
       "      <td>12000</td>\n",
       "      <td>Diesel</td>\n",
       "      <td>15.17</td>\n",
       "      <td>1968.0</td>\n",
       "      <td>181.0</td>\n",
       "      <td>5.0</td>\n",
       "      <td>Audi</td>\n",
       "      <td>Q3 35 TDI Quattro Premium Plus</td>\n",
       "      <td>0</td>\n",
       "      <td>1</td>\n",
       "      <td>0</td>\n",
       "      <td>0</td>\n",
       "      <td>0</td>\n",
       "    </tr>\n",
       "    <tr>\n",
       "      <th>8400</th>\n",
       "      <td>6.5</td>\n",
       "      <td>2015.0</td>\n",
       "      <td>Individual</td>\n",
       "      <td>115222</td>\n",
       "      <td>Diesel</td>\n",
       "      <td>12.20</td>\n",
       "      <td>1994.0</td>\n",
       "      <td>105.3</td>\n",
       "      <td>10.0</td>\n",
       "      <td>Chevrolet</td>\n",
       "      <td>Tavera Neo 3 LS 10 Str</td>\n",
       "      <td>1</td>\n",
       "      <td>1</td>\n",
       "      <td>0</td>\n",
       "      <td>0</td>\n",
       "      <td>0</td>\n",
       "    </tr>\n",
       "  </tbody>\n",
       "</table>\n",
       "</div>"
      ],
      "text/plain": [
       "      selling_price    year seller_type  km_driven fuel_type  mileage  engine  \\\n",
       "3526           32.0  2018.0      Dealer      12000    Diesel    15.17  1968.0   \n",
       "8400            6.5  2015.0  Individual     115222    Diesel    12.20  1994.0   \n",
       "\n",
       "      max_power  seats       make                           model  \\\n",
       "3526      181.0    5.0       Audi  Q3 35 TDI Quattro Premium Plus   \n",
       "8400      105.3   10.0  Chevrolet          Tavera Neo 3 LS 10 Str   \n",
       "\n",
       "      transmission_type  seats_Diesel  seats_Electric  seats_LPG  seats_Petrol  \n",
       "3526                  0             1               0          0             0  \n",
       "8400                  1             1               0          0             0  "
      ]
     },
     "execution_count": 38,
     "metadata": {},
     "output_type": "execute_result"
    }
   ],
   "source": [
    "pd.concat([df, fuel_type_dummy], axis=1).sample(frac=1).head(2)"
   ]
  },
  {
   "cell_type": "markdown",
   "metadata": {
    "id": "ed38308d"
   },
   "source": [
    "#### 2.3 make (too many categoies)"
   ]
  },
  {
   "cell_type": "code",
   "execution_count": 39,
   "metadata": {
    "colab": {
     "base_uri": "https://localhost:8080/"
    },
    "id": "e5a1ec23",
    "outputId": "06444ff5-c912-41f0-aaec-579e74610af8"
   },
   "outputs": [
    {
     "data": {
      "text/plain": [
       "42"
      ]
     },
     "execution_count": 39,
     "metadata": {},
     "output_type": "execute_result"
    }
   ],
   "source": [
    "df.make.nunique()"
   ]
  },
  {
   "cell_type": "markdown",
   "metadata": {
    "id": "ffa3b60e"
   },
   "source": [
    "\n",
    "#### How to handle so many categories?\n",
    " \n",
    "Here we have too many categories. \n",
    "- We can merge categories as in 'seats' variable or we can try target encoding. \n",
    "- Dummy encoding would make too many features with highly diluted information.\n",
    "\n",
    "Or we can try another technique known as **Target Encoding**"
   ]
  },
  {
   "cell_type": "code",
   "execution_count": 40,
   "metadata": {
    "id": "2447a9ce"
   },
   "outputs": [],
   "source": [
    "encoded_make = df.groupby('make')['selling_price'].transform('mean')"
   ]
  },
  {
   "cell_type": "code",
   "execution_count": null,
   "metadata": {},
   "outputs": [],
   "source": []
  },
  {
   "cell_type": "code",
   "execution_count": 41,
   "metadata": {
    "colab": {
     "base_uri": "https://localhost:8080/",
     "height": 224
    },
    "id": "e10ebeb6",
    "outputId": "e485c7b1-c252-44b7-b0e0-d1e67a202e57"
   },
   "outputs": [
    {
     "name": "stdout",
     "output_type": "stream",
     "text": [
      "42\n"
     ]
    },
    {
     "data": {
      "text/html": [
       "<div>\n",
       "<style scoped>\n",
       "    .dataframe tbody tr th:only-of-type {\n",
       "        vertical-align: middle;\n",
       "    }\n",
       "\n",
       "    .dataframe tbody tr th {\n",
       "        vertical-align: top;\n",
       "    }\n",
       "\n",
       "    .dataframe thead th {\n",
       "        text-align: right;\n",
       "    }\n",
       "</style>\n",
       "<table border=\"1\" class=\"dataframe\">\n",
       "  <thead>\n",
       "    <tr style=\"text-align: right;\">\n",
       "      <th></th>\n",
       "      <th>make</th>\n",
       "      <th>encoded_make</th>\n",
       "    </tr>\n",
       "  </thead>\n",
       "  <tbody>\n",
       "    <tr>\n",
       "      <th>0</th>\n",
       "      <td>Maruti</td>\n",
       "      <td>4.684721</td>\n",
       "    </tr>\n",
       "    <tr>\n",
       "      <th>1</th>\n",
       "      <td>Hyundai</td>\n",
       "      <td>5.374923</td>\n",
       "    </tr>\n",
       "    <tr>\n",
       "      <th>4</th>\n",
       "      <td>Ford</td>\n",
       "      <td>6.265275</td>\n",
       "    </tr>\n",
       "    <tr>\n",
       "      <th>9</th>\n",
       "      <td>Mahindra</td>\n",
       "      <td>7.303129</td>\n",
       "    </tr>\n",
       "    <tr>\n",
       "      <th>10</th>\n",
       "      <td>Tata</td>\n",
       "      <td>4.395415</td>\n",
       "    </tr>\n",
       "  </tbody>\n",
       "</table>\n",
       "</div>"
      ],
      "text/plain": [
       "        make  encoded_make\n",
       "0     Maruti      4.684721\n",
       "1    Hyundai      5.374923\n",
       "4       Ford      6.265275\n",
       "9   Mahindra      7.303129\n",
       "10      Tata      4.395415"
      ]
     },
     "execution_count": 41,
     "metadata": {},
     "output_type": "execute_result"
    }
   ],
   "source": [
    "show_df = df[['make']].copy()\n",
    "show_df['encoded_make'] = encoded_make\n",
    "show_df = show_df.drop_duplicates()\n",
    "print(len(show_df))\n",
    "show_df.head()"
   ]
  },
  {
   "cell_type": "markdown",
   "metadata": {
    "id": "30b25ce2"
   },
   "source": [
    "### 3. Scaling\n",
    "\n",
    "#### Q: Now, All these variables have different ranges. Does that work?"
   ]
  },
  {
   "cell_type": "code",
   "execution_count": 43,
   "metadata": {
    "colab": {
     "base_uri": "https://localhost:8080/",
     "height": 300
    },
    "id": "628c31cd",
    "outputId": "c7757063-b26b-46f7-cc98-5f673ffe33c8"
   },
   "outputs": [
    {
     "data": {
      "text/html": [
       "<div>\n",
       "<style scoped>\n",
       "    .dataframe tbody tr th:only-of-type {\n",
       "        vertical-align: middle;\n",
       "    }\n",
       "\n",
       "    .dataframe tbody tr th {\n",
       "        vertical-align: top;\n",
       "    }\n",
       "\n",
       "    .dataframe thead th {\n",
       "        text-align: right;\n",
       "    }\n",
       "</style>\n",
       "<table border=\"1\" class=\"dataframe\">\n",
       "  <thead>\n",
       "    <tr style=\"text-align: right;\">\n",
       "      <th></th>\n",
       "      <th>selling_price</th>\n",
       "      <th>year</th>\n",
       "      <th>km_driven</th>\n",
       "      <th>mileage</th>\n",
       "      <th>engine</th>\n",
       "      <th>max_power</th>\n",
       "      <th>seats</th>\n",
       "      <th>transmission_type</th>\n",
       "    </tr>\n",
       "  </thead>\n",
       "  <tbody>\n",
       "    <tr>\n",
       "      <th>count</th>\n",
       "      <td>19980.000000</td>\n",
       "      <td>19980.000000</td>\n",
       "      <td>1.998000e+04</td>\n",
       "      <td>19980.000000</td>\n",
       "      <td>19980.000000</td>\n",
       "      <td>19980.000000</td>\n",
       "      <td>19980.000000</td>\n",
       "      <td>19980.000000</td>\n",
       "    </tr>\n",
       "    <tr>\n",
       "      <th>mean</th>\n",
       "      <td>7.353527</td>\n",
       "      <td>2014.525125</td>\n",
       "      <td>5.824488e+04</td>\n",
       "      <td>19.347219</td>\n",
       "      <td>1476.327401</td>\n",
       "      <td>97.854443</td>\n",
       "      <td>5.317868</td>\n",
       "      <td>0.802252</td>\n",
       "    </tr>\n",
       "    <tr>\n",
       "      <th>std</th>\n",
       "      <td>8.312958</td>\n",
       "      <td>3.249185</td>\n",
       "      <td>5.172509e+04</td>\n",
       "      <td>4.620053</td>\n",
       "      <td>520.449398</td>\n",
       "      <td>45.080670</td>\n",
       "      <td>0.835370</td>\n",
       "      <td>0.398311</td>\n",
       "    </tr>\n",
       "    <tr>\n",
       "      <th>min</th>\n",
       "      <td>0.250000</td>\n",
       "      <td>1991.000000</td>\n",
       "      <td>1.000000e+02</td>\n",
       "      <td>0.000000</td>\n",
       "      <td>0.000000</td>\n",
       "      <td>5.000000</td>\n",
       "      <td>2.000000</td>\n",
       "      <td>0.000000</td>\n",
       "    </tr>\n",
       "    <tr>\n",
       "      <th>25%</th>\n",
       "      <td>3.400000</td>\n",
       "      <td>2013.000000</td>\n",
       "      <td>3.116425e+04</td>\n",
       "      <td>16.800000</td>\n",
       "      <td>1197.000000</td>\n",
       "      <td>73.900000</td>\n",
       "      <td>5.000000</td>\n",
       "      <td>1.000000</td>\n",
       "    </tr>\n",
       "    <tr>\n",
       "      <th>50%</th>\n",
       "      <td>5.200000</td>\n",
       "      <td>2015.000000</td>\n",
       "      <td>5.200000e+04</td>\n",
       "      <td>19.160000</td>\n",
       "      <td>1248.000000</td>\n",
       "      <td>86.700000</td>\n",
       "      <td>5.000000</td>\n",
       "      <td>1.000000</td>\n",
       "    </tr>\n",
       "    <tr>\n",
       "      <th>75%</th>\n",
       "      <td>7.850000</td>\n",
       "      <td>2017.000000</td>\n",
       "      <td>7.400000e+04</td>\n",
       "      <td>22.320000</td>\n",
       "      <td>1582.000000</td>\n",
       "      <td>112.000000</td>\n",
       "      <td>5.000000</td>\n",
       "      <td>1.000000</td>\n",
       "    </tr>\n",
       "    <tr>\n",
       "      <th>max</th>\n",
       "      <td>100.000000</td>\n",
       "      <td>2021.000000</td>\n",
       "      <td>3.800000e+06</td>\n",
       "      <td>120.000000</td>\n",
       "      <td>6752.000000</td>\n",
       "      <td>626.000000</td>\n",
       "      <td>14.000000</td>\n",
       "      <td>1.000000</td>\n",
       "    </tr>\n",
       "  </tbody>\n",
       "</table>\n",
       "</div>"
      ],
      "text/plain": [
       "       selling_price          year     km_driven       mileage        engine  \\\n",
       "count   19980.000000  19980.000000  1.998000e+04  19980.000000  19980.000000   \n",
       "mean        7.353527   2014.525125  5.824488e+04     19.347219   1476.327401   \n",
       "std         8.312958      3.249185  5.172509e+04      4.620053    520.449398   \n",
       "min         0.250000   1991.000000  1.000000e+02      0.000000      0.000000   \n",
       "25%         3.400000   2013.000000  3.116425e+04     16.800000   1197.000000   \n",
       "50%         5.200000   2015.000000  5.200000e+04     19.160000   1248.000000   \n",
       "75%         7.850000   2017.000000  7.400000e+04     22.320000   1582.000000   \n",
       "max       100.000000   2021.000000  3.800000e+06    120.000000   6752.000000   \n",
       "\n",
       "          max_power         seats  transmission_type  \n",
       "count  19980.000000  19980.000000       19980.000000  \n",
       "mean      97.854443      5.317868           0.802252  \n",
       "std       45.080670      0.835370           0.398311  \n",
       "min        5.000000      2.000000           0.000000  \n",
       "25%       73.900000      5.000000           1.000000  \n",
       "50%       86.700000      5.000000           1.000000  \n",
       "75%      112.000000      5.000000           1.000000  \n",
       "max      626.000000     14.000000           1.000000  "
      ]
     },
     "execution_count": 43,
     "metadata": {},
     "output_type": "execute_result"
    }
   ],
   "source": [
    "df.describe()"
   ]
  },
  {
   "cell_type": "markdown",
   "metadata": {
    "id": "wgzRew8dVgwQ"
   },
   "source": [
    "Lets scale this data. We will use MinMaxScaler here (in practice you can choose your scaling techniques depending on the problem, or just try all and see what works best)"
   ]
  },
  {
   "cell_type": "code",
   "execution_count": 44,
   "metadata": {
    "colab": {
     "base_uri": "https://localhost:8080/",
     "height": 206
    },
    "id": "60980898",
    "outputId": "8b0e7549-86e3-475e-e93a-4e9dc44a4635"
   },
   "outputs": [
    {
     "data": {
      "text/html": [
       "<div>\n",
       "<style scoped>\n",
       "    .dataframe tbody tr th:only-of-type {\n",
       "        vertical-align: middle;\n",
       "    }\n",
       "\n",
       "    .dataframe tbody tr th {\n",
       "        vertical-align: top;\n",
       "    }\n",
       "\n",
       "    .dataframe thead th {\n",
       "        text-align: right;\n",
       "    }\n",
       "</style>\n",
       "<table border=\"1\" class=\"dataframe\">\n",
       "  <thead>\n",
       "    <tr style=\"text-align: right;\">\n",
       "      <th></th>\n",
       "      <th>selling_price</th>\n",
       "      <th>km_driven</th>\n",
       "      <th>mileage</th>\n",
       "    </tr>\n",
       "  </thead>\n",
       "  <tbody>\n",
       "    <tr>\n",
       "      <th>0</th>\n",
       "      <td>0.009524</td>\n",
       "      <td>0.031553</td>\n",
       "      <td>0.164167</td>\n",
       "    </tr>\n",
       "    <tr>\n",
       "      <th>1</th>\n",
       "      <td>0.052632</td>\n",
       "      <td>0.005237</td>\n",
       "      <td>0.157500</td>\n",
       "    </tr>\n",
       "    <tr>\n",
       "      <th>2</th>\n",
       "      <td>0.019048</td>\n",
       "      <td>0.015764</td>\n",
       "      <td>0.141667</td>\n",
       "    </tr>\n",
       "    <tr>\n",
       "      <th>3</th>\n",
       "      <td>0.020150</td>\n",
       "      <td>0.009711</td>\n",
       "      <td>0.174333</td>\n",
       "    </tr>\n",
       "    <tr>\n",
       "      <th>4</th>\n",
       "      <td>0.054637</td>\n",
       "      <td>0.007869</td>\n",
       "      <td>0.189750</td>\n",
       "    </tr>\n",
       "  </tbody>\n",
       "</table>\n",
       "</div>"
      ],
      "text/plain": [
       "   selling_price  km_driven   mileage\n",
       "0       0.009524   0.031553  0.164167\n",
       "1       0.052632   0.005237  0.157500\n",
       "2       0.019048   0.015764  0.141667\n",
       "3       0.020150   0.009711  0.174333\n",
       "4       0.054637   0.007869  0.189750"
      ]
     },
     "execution_count": 44,
     "metadata": {},
     "output_type": "execute_result"
    }
   ],
   "source": [
    "from sklearn.preprocessing import MinMaxScaler, StandardScaler\n",
    "\n",
    "scaler = MinMaxScaler()\n",
    "scaler.fit(df[['selling_price', 'km_driven', 'mileage']])\n",
    "scaled_values = scaler.transform(df[['selling_price', 'km_driven', 'mileage']])  # returns numpy.ndarray not df.\n",
    "scaled_df = pd.DataFrame(scaled_values, columns=['selling_price', 'km_driven', 'mileage'])\n",
    "scaled_df.head()"
   ]
  },
  {
   "cell_type": "code",
   "execution_count": 45,
   "metadata": {
    "colab": {
     "base_uri": "https://localhost:8080/",
     "height": 300
    },
    "id": "79099970",
    "outputId": "bcbdcf01-fb0b-4b23-d3bb-7b8d39425903"
   },
   "outputs": [
    {
     "data": {
      "text/html": [
       "<div>\n",
       "<style scoped>\n",
       "    .dataframe tbody tr th:only-of-type {\n",
       "        vertical-align: middle;\n",
       "    }\n",
       "\n",
       "    .dataframe tbody tr th {\n",
       "        vertical-align: top;\n",
       "    }\n",
       "\n",
       "    .dataframe thead th {\n",
       "        text-align: right;\n",
       "    }\n",
       "</style>\n",
       "<table border=\"1\" class=\"dataframe\">\n",
       "  <thead>\n",
       "    <tr style=\"text-align: right;\">\n",
       "      <th></th>\n",
       "      <th>selling_price</th>\n",
       "      <th>km_driven</th>\n",
       "      <th>mileage</th>\n",
       "    </tr>\n",
       "  </thead>\n",
       "  <tbody>\n",
       "    <tr>\n",
       "      <th>count</th>\n",
       "      <td>19980.000000</td>\n",
       "      <td>19980.000000</td>\n",
       "      <td>19980.000000</td>\n",
       "    </tr>\n",
       "    <tr>\n",
       "      <th>mean</th>\n",
       "      <td>0.071213</td>\n",
       "      <td>0.015302</td>\n",
       "      <td>0.161227</td>\n",
       "    </tr>\n",
       "    <tr>\n",
       "      <th>std</th>\n",
       "      <td>0.083338</td>\n",
       "      <td>0.013612</td>\n",
       "      <td>0.038500</td>\n",
       "    </tr>\n",
       "    <tr>\n",
       "      <th>min</th>\n",
       "      <td>0.000000</td>\n",
       "      <td>0.000000</td>\n",
       "      <td>0.000000</td>\n",
       "    </tr>\n",
       "    <tr>\n",
       "      <th>25%</th>\n",
       "      <td>0.031579</td>\n",
       "      <td>0.008175</td>\n",
       "      <td>0.140000</td>\n",
       "    </tr>\n",
       "    <tr>\n",
       "      <th>50%</th>\n",
       "      <td>0.049624</td>\n",
       "      <td>0.013658</td>\n",
       "      <td>0.159667</td>\n",
       "    </tr>\n",
       "    <tr>\n",
       "      <th>75%</th>\n",
       "      <td>0.076190</td>\n",
       "      <td>0.019448</td>\n",
       "      <td>0.186000</td>\n",
       "    </tr>\n",
       "    <tr>\n",
       "      <th>max</th>\n",
       "      <td>1.000000</td>\n",
       "      <td>1.000000</td>\n",
       "      <td>1.000000</td>\n",
       "    </tr>\n",
       "  </tbody>\n",
       "</table>\n",
       "</div>"
      ],
      "text/plain": [
       "       selling_price     km_driven       mileage\n",
       "count   19980.000000  19980.000000  19980.000000\n",
       "mean        0.071213      0.015302      0.161227\n",
       "std         0.083338      0.013612      0.038500\n",
       "min         0.000000      0.000000      0.000000\n",
       "25%         0.031579      0.008175      0.140000\n",
       "50%         0.049624      0.013658      0.159667\n",
       "75%         0.076190      0.019448      0.186000\n",
       "max         1.000000      1.000000      1.000000"
      ]
     },
     "execution_count": 45,
     "metadata": {},
     "output_type": "execute_result"
    }
   ],
   "source": [
    "scaled_df.describe()"
   ]
  },
  {
   "cell_type": "markdown",
   "metadata": {
    "id": "95f5679f"
   },
   "source": [
    "---\n",
    "## Stichting it all together\n"
   ]
  },
  {
   "cell_type": "code",
   "execution_count": 46,
   "metadata": {
    "id": "57918401"
   },
   "outputs": [],
   "source": [
    "def merge_seats(x):\n",
    "    if 2 <= x <= 4:\n",
    "        return '2-4'\n",
    "    elif x > 5:\n",
    "        return '>5'\n",
    "    else:\n",
    "        return '5'\n",
    "    \n",
    "def preprocess(df):\n",
    "    df = df.loc[df.mileage != 0].copy()\n",
    "    outlier_theshold = df.selling_price.quantile(0.95)\n",
    "    df.loc[df.selling_price > outlier_theshold, 'selling_price'] = outlier_theshold\n",
    "    df['age'] = pd.to_datetime('now', utc=True).date().year - df['year']\n",
    "    df['full_name'] = df['full_name'].str.upper()\n",
    "    df['seats'] = df['seats'].apply(merge_seats)\n",
    "    df.drop(columns=['year'])\n",
    "    return df\n",
    "    \n",
    "def feature_engineering(df):\n",
    "    df['make'] = df.full_name.apply(lambda x : x.split()[0])\n",
    "    df['model'] = df.full_name.apply(lambda x : \" \".join(x.split()[1:]))\n",
    "    one_hot_encode_cols = ['seller_type', 'fuel_type', 'transmission_type', 'seats']\n",
    "    for column in one_hot_encode_cols:\n",
    "        df = pd.concat([df, pd.get_dummies(df[column]).iloc[: , 1:]], axis=1)\n",
    "    df.drop(columns=one_hot_encode_cols + ['full_name'], inplace=True)\n",
    "    df['make'] = df.groupby('make')['selling_price'].transform('median')\n",
    "    df['model'] = df.groupby('model')['selling_price'].transform('median')\n",
    "    scaler = MinMaxScaler()\n",
    "    df = pd.DataFrame(scaler.fit_transform(df), columns=df.columns)\n",
    "    return df"
   ]
  },
  {
   "cell_type": "code",
   "execution_count": 48,
   "metadata": {
    "colab": {
     "base_uri": "https://localhost:8080/",
     "height": 288
    },
    "id": "ec688e93",
    "outputId": "66b42b3a-b2fa-4d15-ada1-2be2ccc7edaa"
   },
   "outputs": [
    {
     "data": {
      "text/html": [
       "<div>\n",
       "<style scoped>\n",
       "    .dataframe tbody tr th:only-of-type {\n",
       "        vertical-align: middle;\n",
       "    }\n",
       "\n",
       "    .dataframe tbody tr th {\n",
       "        vertical-align: top;\n",
       "    }\n",
       "\n",
       "    .dataframe thead th {\n",
       "        text-align: right;\n",
       "    }\n",
       "</style>\n",
       "<table border=\"1\" class=\"dataframe\">\n",
       "  <thead>\n",
       "    <tr style=\"text-align: right;\">\n",
       "      <th></th>\n",
       "      <th>selling_price</th>\n",
       "      <th>year</th>\n",
       "      <th>km_driven</th>\n",
       "      <th>mileage</th>\n",
       "      <th>engine</th>\n",
       "      <th>max_power</th>\n",
       "      <th>age</th>\n",
       "      <th>make</th>\n",
       "      <th>model</th>\n",
       "      <th>Individual</th>\n",
       "      <th>Trustmark Dealer</th>\n",
       "      <th>Diesel</th>\n",
       "      <th>Electric</th>\n",
       "      <th>LPG</th>\n",
       "      <th>Petrol</th>\n",
       "      <th>Manual</th>\n",
       "      <th>5</th>\n",
       "      <th>&gt;5</th>\n",
       "    </tr>\n",
       "  </thead>\n",
       "  <tbody>\n",
       "    <tr>\n",
       "      <th>0</th>\n",
       "      <td>0.043684</td>\n",
       "      <td>0.689655</td>\n",
       "      <td>0.031553</td>\n",
       "      <td>0.135345</td>\n",
       "      <td>0.117891</td>\n",
       "      <td>0.066506</td>\n",
       "      <td>0.310345</td>\n",
       "      <td>0.184371</td>\n",
       "      <td>0.042522</td>\n",
       "      <td>1.0</td>\n",
       "      <td>0.0</td>\n",
       "      <td>0.0</td>\n",
       "      <td>0.0</td>\n",
       "      <td>0.0</td>\n",
       "      <td>1.0</td>\n",
       "      <td>1.0</td>\n",
       "      <td>1.0</td>\n",
       "      <td>0.0</td>\n",
       "    </tr>\n",
       "    <tr>\n",
       "      <th>1</th>\n",
       "      <td>0.252397</td>\n",
       "      <td>0.827586</td>\n",
       "      <td>0.005237</td>\n",
       "      <td>0.128448</td>\n",
       "      <td>0.177281</td>\n",
       "      <td>0.123994</td>\n",
       "      <td>0.172414</td>\n",
       "      <td>0.207231</td>\n",
       "      <td>0.225975</td>\n",
       "      <td>1.0</td>\n",
       "      <td>0.0</td>\n",
       "      <td>0.0</td>\n",
       "      <td>0.0</td>\n",
       "      <td>0.0</td>\n",
       "      <td>1.0</td>\n",
       "      <td>1.0</td>\n",
       "      <td>1.0</td>\n",
       "      <td>0.0</td>\n",
       "    </tr>\n",
       "    <tr>\n",
       "      <th>2</th>\n",
       "      <td>0.089795</td>\n",
       "      <td>0.620690</td>\n",
       "      <td>0.015764</td>\n",
       "      <td>0.112069</td>\n",
       "      <td>0.177281</td>\n",
       "      <td>0.120773</td>\n",
       "      <td>0.379310</td>\n",
       "      <td>0.207231</td>\n",
       "      <td>0.120277</td>\n",
       "      <td>1.0</td>\n",
       "      <td>0.0</td>\n",
       "      <td>0.0</td>\n",
       "      <td>0.0</td>\n",
       "      <td>0.0</td>\n",
       "      <td>1.0</td>\n",
       "      <td>1.0</td>\n",
       "      <td>1.0</td>\n",
       "      <td>0.0</td>\n",
       "    </tr>\n",
       "    <tr>\n",
       "      <th>3</th>\n",
       "      <td>0.095134</td>\n",
       "      <td>0.689655</td>\n",
       "      <td>0.009711</td>\n",
       "      <td>0.145862</td>\n",
       "      <td>0.147808</td>\n",
       "      <td>0.100000</td>\n",
       "      <td>0.310345</td>\n",
       "      <td>0.184371</td>\n",
       "      <td>0.093549</td>\n",
       "      <td>1.0</td>\n",
       "      <td>0.0</td>\n",
       "      <td>0.0</td>\n",
       "      <td>0.0</td>\n",
       "      <td>0.0</td>\n",
       "      <td>1.0</td>\n",
       "      <td>1.0</td>\n",
       "      <td>1.0</td>\n",
       "      <td>0.0</td>\n",
       "    </tr>\n",
       "    <tr>\n",
       "      <th>4</th>\n",
       "      <td>0.262104</td>\n",
       "      <td>0.793103</td>\n",
       "      <td>0.007869</td>\n",
       "      <td>0.161810</td>\n",
       "      <td>0.221860</td>\n",
       "      <td>0.150709</td>\n",
       "      <td>0.206897</td>\n",
       "      <td>0.224624</td>\n",
       "      <td>0.300085</td>\n",
       "      <td>0.0</td>\n",
       "      <td>0.0</td>\n",
       "      <td>1.0</td>\n",
       "      <td>0.0</td>\n",
       "      <td>0.0</td>\n",
       "      <td>0.0</td>\n",
       "      <td>1.0</td>\n",
       "      <td>1.0</td>\n",
       "      <td>0.0</td>\n",
       "    </tr>\n",
       "  </tbody>\n",
       "</table>\n",
       "</div>"
      ],
      "text/plain": [
       "   selling_price      year  km_driven   mileage    engine  max_power  \\\n",
       "0       0.043684  0.689655   0.031553  0.135345  0.117891   0.066506   \n",
       "1       0.252397  0.827586   0.005237  0.128448  0.177281   0.123994   \n",
       "2       0.089795  0.620690   0.015764  0.112069  0.177281   0.120773   \n",
       "3       0.095134  0.689655   0.009711  0.145862  0.147808   0.100000   \n",
       "4       0.262104  0.793103   0.007869  0.161810  0.221860   0.150709   \n",
       "\n",
       "        age      make     model  Individual  Trustmark Dealer  Diesel  \\\n",
       "0  0.310345  0.184371  0.042522         1.0               0.0     0.0   \n",
       "1  0.172414  0.207231  0.225975         1.0               0.0     0.0   \n",
       "2  0.379310  0.207231  0.120277         1.0               0.0     0.0   \n",
       "3  0.310345  0.184371  0.093549         1.0               0.0     0.0   \n",
       "4  0.206897  0.224624  0.300085         0.0               0.0     1.0   \n",
       "\n",
       "   Electric  LPG  Petrol  Manual    5   >5  \n",
       "0       0.0  0.0     1.0     1.0  1.0  0.0  \n",
       "1       0.0  0.0     1.0     1.0  1.0  0.0  \n",
       "2       0.0  0.0     1.0     1.0  1.0  0.0  \n",
       "3       0.0  0.0     1.0     1.0  1.0  0.0  \n",
       "4       0.0  0.0     0.0     1.0  1.0  0.0  "
      ]
     },
     "execution_count": 48,
     "metadata": {},
     "output_type": "execute_result"
    }
   ],
   "source": [
    "df = pd.read_csv(\"cars24-car-price.csv\")\n",
    "df = preprocess(df)\n",
    "df = feature_engineering(df)\n",
    "df.head()"
   ]
  },
  {
   "cell_type": "code",
   "execution_count": 49,
   "metadata": {
    "colab": {
     "base_uri": "https://localhost:8080/"
    },
    "id": "f8169964",
    "outputId": "31fe5ff9-46b4-45d8-f955-e7a70ccfd30d"
   },
   "outputs": [
    {
     "data": {
      "text/plain": [
       "(19820, 18)"
      ]
     },
     "execution_count": 49,
     "metadata": {},
     "output_type": "execute_result"
    }
   ],
   "source": [
    "df.shape"
   ]
  },
  {
   "cell_type": "markdown",
   "metadata": {
    "id": "b1c28e24"
   },
   "source": [
    "## Correlations with all numeric features"
   ]
  },
  {
   "cell_type": "markdown",
   "metadata": {
    "id": "5pf7MKJQV4VT"
   },
   "source": [
    "And before we wrap up, lets just see correlations of all variables since now we have all usable information in numerical form"
   ]
  },
  {
   "cell_type": "code",
   "execution_count": 50,
   "metadata": {
    "colab": {
     "base_uri": "https://localhost:8080/",
     "height": 961
    },
    "id": "8d2b5ede",
    "outputId": "0104e594-82ff-45f7-bd39-3d85611ad117"
   },
   "outputs": [
    {
     "data": {
      "text/plain": [
       "<AxesSubplot:>"
      ]
     },
     "execution_count": 50,
     "metadata": {},
     "output_type": "execute_result"
    },
    {
     "data": {
      "image/png": "[encoded data removed]",
      "text/plain": [
       "<Figure size 1080x1080 with 2 Axes>"
      ]
     },
     "metadata": {
      "needs_background": "light"
     },
     "output_type": "display_data"
    }
   ],
   "source": [
    "plt.figure(figsize=(15, 15))\n",
    "sns.heatmap(df.corr(), annot=True)"
   ]
  },
  {
   "cell_type": "markdown",
   "metadata": {
    "id": "ee017f44"
   },
   "source": [
    "- `max_power`, `engine` and `transmission_type` are hightest correlated with `selling_price` in same order.\n",
    "- New encoded features are weak predictor, but they together would might make strong predictors."
   ]
  },
  {
   "cell_type": "markdown",
   "metadata": {
    "id": "e52c7eb5"
   },
   "source": [
    "---"
   ]
  },
  {
   "cell_type": "code",
   "execution_count": 51,
   "metadata": {},
   "outputs": [
    {
     "data": {
      "text/html": [
       "<div>\n",
       "<style scoped>\n",
       "    .dataframe tbody tr th:only-of-type {\n",
       "        vertical-align: middle;\n",
       "    }\n",
       "\n",
       "    .dataframe tbody tr th {\n",
       "        vertical-align: top;\n",
       "    }\n",
       "\n",
       "    .dataframe thead th {\n",
       "        text-align: right;\n",
       "    }\n",
       "</style>\n",
       "<table border=\"1\" class=\"dataframe\">\n",
       "  <thead>\n",
       "    <tr style=\"text-align: right;\">\n",
       "      <th></th>\n",
       "      <th>selling_price</th>\n",
       "      <th>year</th>\n",
       "      <th>km_driven</th>\n",
       "      <th>mileage</th>\n",
       "      <th>engine</th>\n",
       "      <th>max_power</th>\n",
       "      <th>age</th>\n",
       "      <th>make</th>\n",
       "      <th>model</th>\n",
       "      <th>Individual</th>\n",
       "      <th>Trustmark Dealer</th>\n",
       "      <th>Diesel</th>\n",
       "      <th>Electric</th>\n",
       "      <th>LPG</th>\n",
       "      <th>Petrol</th>\n",
       "      <th>Manual</th>\n",
       "      <th>5</th>\n",
       "      <th>&gt;5</th>\n",
       "    </tr>\n",
       "  </thead>\n",
       "  <tbody>\n",
       "    <tr>\n",
       "      <th>0</th>\n",
       "      <td>0.043684</td>\n",
       "      <td>0.689655</td>\n",
       "      <td>0.031553</td>\n",
       "      <td>0.135345</td>\n",
       "      <td>0.117891</td>\n",
       "      <td>0.066506</td>\n",
       "      <td>0.310345</td>\n",
       "      <td>0.184371</td>\n",
       "      <td>0.042522</td>\n",
       "      <td>1.0</td>\n",
       "      <td>0.0</td>\n",
       "      <td>0.0</td>\n",
       "      <td>0.0</td>\n",
       "      <td>0.0</td>\n",
       "      <td>1.0</td>\n",
       "      <td>1.0</td>\n",
       "      <td>1.0</td>\n",
       "      <td>0.0</td>\n",
       "    </tr>\n",
       "    <tr>\n",
       "      <th>1</th>\n",
       "      <td>0.252397</td>\n",
       "      <td>0.827586</td>\n",
       "      <td>0.005237</td>\n",
       "      <td>0.128448</td>\n",
       "      <td>0.177281</td>\n",
       "      <td>0.123994</td>\n",
       "      <td>0.172414</td>\n",
       "      <td>0.207231</td>\n",
       "      <td>0.225975</td>\n",
       "      <td>1.0</td>\n",
       "      <td>0.0</td>\n",
       "      <td>0.0</td>\n",
       "      <td>0.0</td>\n",
       "      <td>0.0</td>\n",
       "      <td>1.0</td>\n",
       "      <td>1.0</td>\n",
       "      <td>1.0</td>\n",
       "      <td>0.0</td>\n",
       "    </tr>\n",
       "    <tr>\n",
       "      <th>2</th>\n",
       "      <td>0.089795</td>\n",
       "      <td>0.620690</td>\n",
       "      <td>0.015764</td>\n",
       "      <td>0.112069</td>\n",
       "      <td>0.177281</td>\n",
       "      <td>0.120773</td>\n",
       "      <td>0.379310</td>\n",
       "      <td>0.207231</td>\n",
       "      <td>0.120277</td>\n",
       "      <td>1.0</td>\n",
       "      <td>0.0</td>\n",
       "      <td>0.0</td>\n",
       "      <td>0.0</td>\n",
       "      <td>0.0</td>\n",
       "      <td>1.0</td>\n",
       "      <td>1.0</td>\n",
       "      <td>1.0</td>\n",
       "      <td>0.0</td>\n",
       "    </tr>\n",
       "    <tr>\n",
       "      <th>3</th>\n",
       "      <td>0.095134</td>\n",
       "      <td>0.689655</td>\n",
       "      <td>0.009711</td>\n",
       "      <td>0.145862</td>\n",
       "      <td>0.147808</td>\n",
       "      <td>0.100000</td>\n",
       "      <td>0.310345</td>\n",
       "      <td>0.184371</td>\n",
       "      <td>0.093549</td>\n",
       "      <td>1.0</td>\n",
       "      <td>0.0</td>\n",
       "      <td>0.0</td>\n",
       "      <td>0.0</td>\n",
       "      <td>0.0</td>\n",
       "      <td>1.0</td>\n",
       "      <td>1.0</td>\n",
       "      <td>1.0</td>\n",
       "      <td>0.0</td>\n",
       "    </tr>\n",
       "    <tr>\n",
       "      <th>4</th>\n",
       "      <td>0.262104</td>\n",
       "      <td>0.793103</td>\n",
       "      <td>0.007869</td>\n",
       "      <td>0.161810</td>\n",
       "      <td>0.221860</td>\n",
       "      <td>0.150709</td>\n",
       "      <td>0.206897</td>\n",
       "      <td>0.224624</td>\n",
       "      <td>0.300085</td>\n",
       "      <td>0.0</td>\n",
       "      <td>0.0</td>\n",
       "      <td>1.0</td>\n",
       "      <td>0.0</td>\n",
       "      <td>0.0</td>\n",
       "      <td>0.0</td>\n",
       "      <td>1.0</td>\n",
       "      <td>1.0</td>\n",
       "      <td>0.0</td>\n",
       "    </tr>\n",
       "    <tr>\n",
       "      <th>...</th>\n",
       "      <td>...</td>\n",
       "      <td>...</td>\n",
       "      <td>...</td>\n",
       "      <td>...</td>\n",
       "      <td>...</td>\n",
       "      <td>...</td>\n",
       "      <td>...</td>\n",
       "      <td>...</td>\n",
       "      <td>...</td>\n",
       "      <td>...</td>\n",
       "      <td>...</td>\n",
       "      <td>...</td>\n",
       "      <td>...</td>\n",
       "      <td>...</td>\n",
       "      <td>...</td>\n",
       "      <td>...</td>\n",
       "      <td>...</td>\n",
       "      <td>...</td>\n",
       "    </tr>\n",
       "    <tr>\n",
       "      <th>19815</th>\n",
       "      <td>0.300934</td>\n",
       "      <td>0.862069</td>\n",
       "      <td>0.018258</td>\n",
       "      <td>0.168879</td>\n",
       "      <td>0.202014</td>\n",
       "      <td>0.099919</td>\n",
       "      <td>0.137931</td>\n",
       "      <td>0.433346</td>\n",
       "      <td>0.324383</td>\n",
       "      <td>0.0</td>\n",
       "      <td>0.0</td>\n",
       "      <td>1.0</td>\n",
       "      <td>0.0</td>\n",
       "      <td>0.0</td>\n",
       "      <td>0.0</td>\n",
       "      <td>1.0</td>\n",
       "      <td>1.0</td>\n",
       "      <td>0.0</td>\n",
       "    </tr>\n",
       "    <tr>\n",
       "      <th>19816</th>\n",
       "      <td>0.434413</td>\n",
       "      <td>0.931034</td>\n",
       "      <td>0.004711</td>\n",
       "      <td>0.116379</td>\n",
       "      <td>0.203347</td>\n",
       "      <td>0.138647</td>\n",
       "      <td>0.068966</td>\n",
       "      <td>0.184371</td>\n",
       "      <td>0.329243</td>\n",
       "      <td>0.0</td>\n",
       "      <td>0.0</td>\n",
       "      <td>0.0</td>\n",
       "      <td>0.0</td>\n",
       "      <td>0.0</td>\n",
       "      <td>1.0</td>\n",
       "      <td>1.0</td>\n",
       "      <td>0.0</td>\n",
       "      <td>1.0</td>\n",
       "    </tr>\n",
       "    <tr>\n",
       "      <th>19817</th>\n",
       "      <td>0.191724</td>\n",
       "      <td>0.793103</td>\n",
       "      <td>0.017606</td>\n",
       "      <td>0.147759</td>\n",
       "      <td>0.221860</td>\n",
       "      <td>0.158647</td>\n",
       "      <td>0.206897</td>\n",
       "      <td>0.225867</td>\n",
       "      <td>0.199247</td>\n",
       "      <td>0.0</td>\n",
       "      <td>0.0</td>\n",
       "      <td>1.0</td>\n",
       "      <td>0.0</td>\n",
       "      <td>0.0</td>\n",
       "      <td>0.0</td>\n",
       "      <td>1.0</td>\n",
       "      <td>1.0</td>\n",
       "      <td>0.0</td>\n",
       "    </tr>\n",
       "    <tr>\n",
       "      <th>19818</th>\n",
       "      <td>0.580027</td>\n",
       "      <td>0.827586</td>\n",
       "      <td>1.000000</td>\n",
       "      <td>0.103448</td>\n",
       "      <td>0.322719</td>\n",
       "      <td>0.217391</td>\n",
       "      <td>0.172414</td>\n",
       "      <td>0.304137</td>\n",
       "      <td>0.379055</td>\n",
       "      <td>0.0</td>\n",
       "      <td>0.0</td>\n",
       "      <td>1.0</td>\n",
       "      <td>0.0</td>\n",
       "      <td>0.0</td>\n",
       "      <td>0.0</td>\n",
       "      <td>1.0</td>\n",
       "      <td>0.0</td>\n",
       "      <td>1.0</td>\n",
       "    </tr>\n",
       "    <tr>\n",
       "      <th>19819</th>\n",
       "      <td>0.567892</td>\n",
       "      <td>0.931034</td>\n",
       "      <td>0.003395</td>\n",
       "      <td>0.120690</td>\n",
       "      <td>0.221712</td>\n",
       "      <td>0.181320</td>\n",
       "      <td>0.068966</td>\n",
       "      <td>0.239533</td>\n",
       "      <td>0.543069</td>\n",
       "      <td>0.0</td>\n",
       "      <td>0.0</td>\n",
       "      <td>0.0</td>\n",
       "      <td>0.0</td>\n",
       "      <td>0.0</td>\n",
       "      <td>1.0</td>\n",
       "      <td>0.0</td>\n",
       "      <td>1.0</td>\n",
       "      <td>0.0</td>\n",
       "    </tr>\n",
       "  </tbody>\n",
       "</table>\n",
       "<p>19820 rows × 18 columns</p>\n",
       "</div>"
      ],
      "text/plain": [
       "       selling_price      year  km_driven   mileage    engine  max_power  \\\n",
       "0           0.043684  0.689655   0.031553  0.135345  0.117891   0.066506   \n",
       "1           0.252397  0.827586   0.005237  0.128448  0.177281   0.123994   \n",
       "2           0.089795  0.620690   0.015764  0.112069  0.177281   0.120773   \n",
       "3           0.095134  0.689655   0.009711  0.145862  0.147808   0.100000   \n",
       "4           0.262104  0.793103   0.007869  0.161810  0.221860   0.150709   \n",
       "...              ...       ...        ...       ...       ...        ...   \n",
       "19815       0.300934  0.862069   0.018258  0.168879  0.202014   0.099919   \n",
       "19816       0.434413  0.931034   0.004711  0.116379  0.203347   0.138647   \n",
       "19817       0.191724  0.793103   0.017606  0.147759  0.221860   0.158647   \n",
       "19818       0.580027  0.827586   1.000000  0.103448  0.322719   0.217391   \n",
       "19819       0.567892  0.931034   0.003395  0.120690  0.221712   0.181320   \n",
       "\n",
       "            age      make     model  Individual  Trustmark Dealer  Diesel  \\\n",
       "0      0.310345  0.184371  0.042522         1.0               0.0     0.0   \n",
       "1      0.172414  0.207231  0.225975         1.0               0.0     0.0   \n",
       "2      0.379310  0.207231  0.120277         1.0               0.0     0.0   \n",
       "3      0.310345  0.184371  0.093549         1.0               0.0     0.0   \n",
       "4      0.206897  0.224624  0.300085         0.0               0.0     1.0   \n",
       "...         ...       ...       ...         ...               ...     ...   \n",
       "19815  0.137931  0.433346  0.324383         0.0               0.0     1.0   \n",
       "19816  0.068966  0.184371  0.329243         0.0               0.0     0.0   \n",
       "19817  0.206897  0.225867  0.199247         0.0               0.0     1.0   \n",
       "19818  0.172414  0.304137  0.379055         0.0               0.0     1.0   \n",
       "19819  0.068966  0.239533  0.543069         0.0               0.0     0.0   \n",
       "\n",
       "       Electric  LPG  Petrol  Manual    5   >5  \n",
       "0           0.0  0.0     1.0     1.0  1.0  0.0  \n",
       "1           0.0  0.0     1.0     1.0  1.0  0.0  \n",
       "2           0.0  0.0     1.0     1.0  1.0  0.0  \n",
       "3           0.0  0.0     1.0     1.0  1.0  0.0  \n",
       "4           0.0  0.0     0.0     1.0  1.0  0.0  \n",
       "...         ...  ...     ...     ...  ...  ...  \n",
       "19815       0.0  0.0     0.0     1.0  1.0  0.0  \n",
       "19816       0.0  0.0     1.0     1.0  0.0  1.0  \n",
       "19817       0.0  0.0     0.0     1.0  1.0  0.0  \n",
       "19818       0.0  0.0     0.0     1.0  0.0  1.0  \n",
       "19819       0.0  0.0     1.0     0.0  1.0  0.0  \n",
       "\n",
       "[19820 rows x 18 columns]"
      ]
     },
     "execution_count": 51,
     "metadata": {},
     "output_type": "execute_result"
    }
   ],
   "source": [
    "df"
   ]
  },
  {
   "cell_type": "code",
   "execution_count": 72,
   "metadata": {},
   "outputs": [],
   "source": [
    "from sklearn.linear_model import LinearRegression"
   ]
  },
  {
   "cell_type": "code",
   "execution_count": 73,
   "metadata": {},
   "outputs": [],
   "source": [
    "from sklearn.model_selection import train_test_split"
   ]
  },
  {
   "cell_type": "code",
   "execution_count": 74,
   "metadata": {},
   "outputs": [],
   "source": [
    "X = df.drop([\"selling_price\"],axis = 1)\n",
    "y = df[\"selling_price\"]"
   ]
  },
  {
   "cell_type": "code",
   "execution_count": 75,
   "metadata": {},
   "outputs": [],
   "source": [
    "X_train , X_test, y_train ,y_test = train_test_split(X.values,y.values,\n",
    "                                                    test_size=0.2,\n",
    "                                                    random_state=5)"
   ]
  },
  {
   "cell_type": "code",
   "execution_count": null,
   "metadata": {},
   "outputs": [],
   "source": []
  },
  {
   "cell_type": "markdown",
   "metadata": {},
   "source": [
    "## SGDRegressor"
   ]
  },
  {
   "cell_type": "code",
   "execution_count": 82,
   "metadata": {},
   "outputs": [],
   "source": [
    "from sklearn.linear_model import SGDRegressor"
   ]
  },
  {
   "cell_type": "code",
   "execution_count": 83,
   "metadata": {},
   "outputs": [],
   "source": [
    "#ridge regularisation \n",
    "sgd = SGDRegressor(penalty='l2', alpha=0.0001)"
   ]
  },
  {
   "cell_type": "code",
   "execution_count": 84,
   "metadata": {},
   "outputs": [
    {
     "data": {
      "text/html": [
       "<style>#sk-container-id-4 {color: black;background-color: white;}#sk-container-id-4 pre{padding: 0;}#sk-container-id-4 div.sk-toggleable {background-color: white;}#sk-container-id-4 label.sk-toggleable__label {cursor: pointer;display: block;width: 100%;margin-bottom: 0;padding: 0.3em;box-sizing: border-box;text-align: center;}#sk-container-id-4 label.sk-toggleable__label-arrow:before {content: \"▸\";float: left;margin-right: 0.25em;color: #696969;}#sk-container-id-4 label.sk-toggleable__label-arrow:hover:before {color: black;}#sk-container-id-4 div.sk-estimator:hover label.sk-toggleable__label-arrow:before {color: black;}#sk-container-id-4 div.sk-toggleable__content {max-height: 0;max-width: 0;overflow: hidden;text-align: left;background-color: #f0f8ff;}#sk-container-id-4 div.sk-toggleable__content pre {margin: 0.2em;color: black;border-radius: 0.25em;background-color: #f0f8ff;}#sk-container-id-4 input.sk-toggleable__control:checked~div.sk-toggleable__content {max-height: 200px;max-width: 100%;overflow: auto;}#sk-container-id-4 input.sk-toggleable__control:checked~label.sk-toggleable__label-arrow:before {content: \"▾\";}#sk-container-id-4 div.sk-estimator input.sk-toggleable__control:checked~label.sk-toggleable__label {background-color: #d4ebff;}#sk-container-id-4 div.sk-label input.sk-toggleable__control:checked~label.sk-toggleable__label {background-color: #d4ebff;}#sk-container-id-4 input.sk-hidden--visually {border: 0;clip: rect(1px 1px 1px 1px);clip: rect(1px, 1px, 1px, 1px);height: 1px;margin: -1px;overflow: hidden;padding: 0;position: absolute;width: 1px;}#sk-container-id-4 div.sk-estimator {font-family: monospace;background-color: #f0f8ff;border: 1px dotted black;border-radius: 0.25em;box-sizing: border-box;margin-bottom: 0.5em;}#sk-container-id-4 div.sk-estimator:hover {background-color: #d4ebff;}#sk-container-id-4 div.sk-parallel-item::after {content: \"\";width: 100%;border-bottom: 1px solid gray;flex-grow: 1;}#sk-container-id-4 div.sk-label:hover label.sk-toggleable__label {background-color: #d4ebff;}#sk-container-id-4 div.sk-serial::before {content: \"\";position: absolute;border-left: 1px solid gray;box-sizing: border-box;top: 0;bottom: 0;left: 50%;z-index: 0;}#sk-container-id-4 div.sk-serial {display: flex;flex-direction: column;align-items: center;background-color: white;padding-right: 0.2em;padding-left: 0.2em;position: relative;}#sk-container-id-4 div.sk-item {position: relative;z-index: 1;}#sk-container-id-4 div.sk-parallel {display: flex;align-items: stretch;justify-content: center;background-color: white;position: relative;}#sk-container-id-4 div.sk-item::before, #sk-container-id-4 div.sk-parallel-item::before {content: \"\";position: absolute;border-left: 1px solid gray;box-sizing: border-box;top: 0;bottom: 0;left: 50%;z-index: -1;}#sk-container-id-4 div.sk-parallel-item {display: flex;flex-direction: column;z-index: 1;position: relative;background-color: white;}#sk-container-id-4 div.sk-parallel-item:first-child::after {align-self: flex-end;width: 50%;}#sk-container-id-4 div.sk-parallel-item:last-child::after {align-self: flex-start;width: 50%;}#sk-container-id-4 div.sk-parallel-item:only-child::after {width: 0;}#sk-container-id-4 div.sk-dashed-wrapped {border: 1px dashed gray;margin: 0 0.4em 0.5em 0.4em;box-sizing: border-box;padding-bottom: 0.4em;background-color: white;}#sk-container-id-4 div.sk-label label {font-family: monospace;font-weight: bold;display: inline-block;line-height: 1.2em;}#sk-container-id-4 div.sk-label-container {text-align: center;}#sk-container-id-4 div.sk-container {/* jupyter's `normalize.less` sets `[hidden] { display: none; }` but bootstrap.min.css set `[hidden] { display: none !important; }` so we also need the `!important` here to be able to override the default hidden behavior on the sphinx rendered scikit-learn.org. See: https://github.com/scikit-learn/scikit-learn/issues/21755 */display: inline-block !important;position: relative;}#sk-container-id-4 div.sk-text-repr-fallback {display: none;}</style><div id=\"sk-container-id-4\" class=\"sk-top-container\"><div class=\"sk-text-repr-fallback\"><pre>SGDRegressor()</pre><b>In a Jupyter environment, please rerun this cell to show the HTML representation or trust the notebook. <br />On GitHub, the HTML representation is unable to render, please try loading this page with nbviewer.org.</b></div><div class=\"sk-container\" hidden><div class=\"sk-item\"><div class=\"sk-estimator sk-toggleable\"><input class=\"sk-toggleable__control sk-hidden--visually\" id=\"sk-estimator-id-4\" type=\"checkbox\" checked><label for=\"sk-estimator-id-4\" class=\"sk-toggleable__label sk-toggleable__label-arrow\">SGDRegressor</label><div class=\"sk-toggleable__content\"><pre>SGDRegressor()</pre></div></div></div></div></div>"
      ],
      "text/plain": [
       "SGDRegressor()"
      ]
     },
     "execution_count": 84,
     "metadata": {},
     "output_type": "execute_result"
    }
   ],
   "source": [
    "sgd.fit(X_train,y_train)"
   ]
  },
  {
   "cell_type": "code",
   "execution_count": 85,
   "metadata": {},
   "outputs": [
    {
     "data": {
      "text/plain": [
       "array([ 1.72991740e-01, -1.20945069e-02, -3.37310940e-02,  8.98850720e-02,\n",
       "        1.24638589e-01, -1.82162415e-01,  2.06706541e-01,  6.12767824e-01,\n",
       "       -1.18783453e-02, -2.46110897e-03,  1.05907537e-02, -3.79336886e-05,\n",
       "        2.25903172e-05, -8.40573724e-03, -4.29187830e-02, -2.08029084e-02,\n",
       "        5.41626546e-03])"
      ]
     },
     "execution_count": 85,
     "metadata": {},
     "output_type": "execute_result"
    }
   ],
   "source": [
    "sgd.coef_"
   ]
  },
  {
   "cell_type": "code",
   "execution_count": 86,
   "metadata": {},
   "outputs": [
    {
     "data": {
      "text/plain": [
       "<AxesSubplot:>"
      ]
     },
     "execution_count": 86,
     "metadata": {},
     "output_type": "execute_result"
    },
    {
     "data": {
      "image/png": "[encoded data removed]",
      "text/plain": [
       "<Figure size 432x288 with 1 Axes>"
      ]
     },
     "metadata": {
      "needs_background": "light"
     },
     "output_type": "display_data"
    }
   ],
   "source": [
    "pd.DataFrame(data=sgd.coef_,index=X.columns).plot(kind = \"bar\")"
   ]
  },
  {
   "cell_type": "code",
   "execution_count": 87,
   "metadata": {},
   "outputs": [
    {
     "data": {
      "text/plain": [
       "(0.9302324085007243, 0.9339312408177038)"
      ]
     },
     "execution_count": 87,
     "metadata": {},
     "output_type": "execute_result"
    }
   ],
   "source": [
    "sgd.score(X_train,y_train),sgd.score(X_test,y_test)"
   ]
  },
  {
   "cell_type": "code",
   "execution_count": null,
   "metadata": {},
   "outputs": [],
   "source": []
  },
  {
   "cell_type": "markdown",
   "metadata": {},
   "source": [
    "### Elasticnet regularisation "
   ]
  },
  {
   "cell_type": "code",
   "execution_count": 115,
   "metadata": {},
   "outputs": [
    {
     "name": "stdout",
     "output_type": "stream",
     "text": [
      "[ 0.17043191 -0.01053335 -0.03231297  0.09227719  0.1240986  -0.18033184\n",
      "  0.2022377   0.61502608 -0.01156799 -0.00130467  0.0095426   0.\n",
      "  0.         -0.0090319  -0.04437895 -0.02215735  0.00495924]\n",
      "0.9302995039102049 0.9341240311125808\n"
     ]
    },
    {
     "data": {
      "image/png": "[encoded data removed]",
      "text/plain": [
       "<Figure size 432x288 with 1 Axes>"
      ]
     },
     "metadata": {
      "needs_background": "light"
     },
     "output_type": "display_data"
    }
   ],
   "source": [
    "#elasticnet regularisation \n",
    "sgd = SGDRegressor(penalty='elasticnet', alpha=0.0001)\n",
    "sgd.fit(X_train,y_train)\n",
    "print(sgd.coef_)\n",
    "pd.DataFrame(data=sgd.coef_,index=X.columns).plot(kind = \"bar\")\n",
    "print(sgd.score(X_train,y_train),sgd.score(X_test,y_test))"
   ]
  },
  {
   "cell_type": "code",
   "execution_count": null,
   "metadata": {},
   "outputs": [],
   "source": []
  },
  {
   "cell_type": "code",
   "execution_count": null,
   "metadata": {},
   "outputs": [],
   "source": []
  },
  {
   "cell_type": "code",
   "execution_count": null,
   "metadata": {},
   "outputs": [],
   "source": []
  },
  {
   "cell_type": "markdown",
   "metadata": {},
   "source": [
    "## DecisionTreeRegressor"
   ]
  },
  {
   "cell_type": "code",
   "execution_count": 105,
   "metadata": {},
   "outputs": [],
   "source": [
    "from sklearn.tree import DecisionTreeRegressor"
   ]
  },
  {
   "cell_type": "code",
   "execution_count": 106,
   "metadata": {},
   "outputs": [],
   "source": [
    "DTreg = DecisionTreeRegressor(max_depth = 12)"
   ]
  },
  {
   "cell_type": "code",
   "execution_count": 107,
   "metadata": {},
   "outputs": [
    {
     "data": {
      "text/html": [
       "<style>#sk-container-id-8 {color: black;background-color: white;}#sk-container-id-8 pre{padding: 0;}#sk-container-id-8 div.sk-toggleable {background-color: white;}#sk-container-id-8 label.sk-toggleable__label {cursor: pointer;display: block;width: 100%;margin-bottom: 0;padding: 0.3em;box-sizing: border-box;text-align: center;}#sk-container-id-8 label.sk-toggleable__label-arrow:before {content: \"▸\";float: left;margin-right: 0.25em;color: #696969;}#sk-container-id-8 label.sk-toggleable__label-arrow:hover:before {color: black;}#sk-container-id-8 div.sk-estimator:hover label.sk-toggleable__label-arrow:before {color: black;}#sk-container-id-8 div.sk-toggleable__content {max-height: 0;max-width: 0;overflow: hidden;text-align: left;background-color: #f0f8ff;}#sk-container-id-8 div.sk-toggleable__content pre {margin: 0.2em;color: black;border-radius: 0.25em;background-color: #f0f8ff;}#sk-container-id-8 input.sk-toggleable__control:checked~div.sk-toggleable__content {max-height: 200px;max-width: 100%;overflow: auto;}#sk-container-id-8 input.sk-toggleable__control:checked~label.sk-toggleable__label-arrow:before {content: \"▾\";}#sk-container-id-8 div.sk-estimator input.sk-toggleable__control:checked~label.sk-toggleable__label {background-color: #d4ebff;}#sk-container-id-8 div.sk-label input.sk-toggleable__control:checked~label.sk-toggleable__label {background-color: #d4ebff;}#sk-container-id-8 input.sk-hidden--visually {border: 0;clip: rect(1px 1px 1px 1px);clip: rect(1px, 1px, 1px, 1px);height: 1px;margin: -1px;overflow: hidden;padding: 0;position: absolute;width: 1px;}#sk-container-id-8 div.sk-estimator {font-family: monospace;background-color: #f0f8ff;border: 1px dotted black;border-radius: 0.25em;box-sizing: border-box;margin-bottom: 0.5em;}#sk-container-id-8 div.sk-estimator:hover {background-color: #d4ebff;}#sk-container-id-8 div.sk-parallel-item::after {content: \"\";width: 100%;border-bottom: 1px solid gray;flex-grow: 1;}#sk-container-id-8 div.sk-label:hover label.sk-toggleable__label {background-color: #d4ebff;}#sk-container-id-8 div.sk-serial::before {content: \"\";position: absolute;border-left: 1px solid gray;box-sizing: border-box;top: 0;bottom: 0;left: 50%;z-index: 0;}#sk-container-id-8 div.sk-serial {display: flex;flex-direction: column;align-items: center;background-color: white;padding-right: 0.2em;padding-left: 0.2em;position: relative;}#sk-container-id-8 div.sk-item {position: relative;z-index: 1;}#sk-container-id-8 div.sk-parallel {display: flex;align-items: stretch;justify-content: center;background-color: white;position: relative;}#sk-container-id-8 div.sk-item::before, #sk-container-id-8 div.sk-parallel-item::before {content: \"\";position: absolute;border-left: 1px solid gray;box-sizing: border-box;top: 0;bottom: 0;left: 50%;z-index: -1;}#sk-container-id-8 div.sk-parallel-item {display: flex;flex-direction: column;z-index: 1;position: relative;background-color: white;}#sk-container-id-8 div.sk-parallel-item:first-child::after {align-self: flex-end;width: 50%;}#sk-container-id-8 div.sk-parallel-item:last-child::after {align-self: flex-start;width: 50%;}#sk-container-id-8 div.sk-parallel-item:only-child::after {width: 0;}#sk-container-id-8 div.sk-dashed-wrapped {border: 1px dashed gray;margin: 0 0.4em 0.5em 0.4em;box-sizing: border-box;padding-bottom: 0.4em;background-color: white;}#sk-container-id-8 div.sk-label label {font-family: monospace;font-weight: bold;display: inline-block;line-height: 1.2em;}#sk-container-id-8 div.sk-label-container {text-align: center;}#sk-container-id-8 div.sk-container {/* jupyter's `normalize.less` sets `[hidden] { display: none; }` but bootstrap.min.css set `[hidden] { display: none !important; }` so we also need the `!important` here to be able to override the default hidden behavior on the sphinx rendered scikit-learn.org. See: https://github.com/scikit-learn/scikit-learn/issues/21755 */display: inline-block !important;position: relative;}#sk-container-id-8 div.sk-text-repr-fallback {display: none;}</style><div id=\"sk-container-id-8\" class=\"sk-top-container\"><div class=\"sk-text-repr-fallback\"><pre>DecisionTreeRegressor(max_depth=12)</pre><b>In a Jupyter environment, please rerun this cell to show the HTML representation or trust the notebook. <br />On GitHub, the HTML representation is unable to render, please try loading this page with nbviewer.org.</b></div><div class=\"sk-container\" hidden><div class=\"sk-item\"><div class=\"sk-estimator sk-toggleable\"><input class=\"sk-toggleable__control sk-hidden--visually\" id=\"sk-estimator-id-8\" type=\"checkbox\" checked><label for=\"sk-estimator-id-8\" class=\"sk-toggleable__label sk-toggleable__label-arrow\">DecisionTreeRegressor</label><div class=\"sk-toggleable__content\"><pre>DecisionTreeRegressor(max_depth=12)</pre></div></div></div></div></div>"
      ],
      "text/plain": [
       "DecisionTreeRegressor(max_depth=12)"
      ]
     },
     "execution_count": 107,
     "metadata": {},
     "output_type": "execute_result"
    }
   ],
   "source": [
    "DTreg.fit(X_train,y_train)"
   ]
  },
  {
   "cell_type": "code",
   "execution_count": 108,
   "metadata": {},
   "outputs": [
    {
     "data": {
      "text/plain": [
       "array([1.03701661e-02, 9.02118675e-03, 4.67858952e-03, 5.30985172e-03,\n",
       "       8.10519990e-03, 9.14211659e-03, 2.41568493e-03, 9.48966749e-01,\n",
       "       9.37051240e-04, 0.00000000e+00, 4.54606529e-05, 2.96558545e-07,\n",
       "       1.86148230e-06, 1.30325230e-04, 6.37297279e-04, 1.07100038e-04,\n",
       "       1.31063287e-04])"
      ]
     },
     "execution_count": 108,
     "metadata": {},
     "output_type": "execute_result"
    }
   ],
   "source": [
    "DTreg.feature_importances_"
   ]
  },
  {
   "cell_type": "code",
   "execution_count": 109,
   "metadata": {},
   "outputs": [
    {
     "data": {
      "text/plain": [
       "(0.9829563736670613, 0.9455035381421955)"
      ]
     },
     "execution_count": 109,
     "metadata": {},
     "output_type": "execute_result"
    }
   ],
   "source": [
    "DTreg.score(X_train,y_train),DTreg.score(X_test,y_test)"
   ]
  },
  {
   "cell_type": "code",
   "execution_count": 110,
   "metadata": {},
   "outputs": [
    {
     "data": {
      "text/plain": [
       "<AxesSubplot:>"
      ]
     },
     "execution_count": 110,
     "metadata": {},
     "output_type": "execute_result"
    },
    {
     "data": {
      "image/png": "[encoded data removed]",
      "text/plain": [
       "<Figure size 432x288 with 1 Axes>"
      ]
     },
     "metadata": {
      "needs_background": "light"
     },
     "output_type": "display_data"
    }
   ],
   "source": [
    "pd.DataFrame(data=DTreg.feature_importances_,index=X.columns).plot(kind = \"bar\")"
   ]
  },
  {
   "cell_type": "code",
   "execution_count": null,
   "metadata": {},
   "outputs": [],
   "source": []
  },
  {
   "cell_type": "code",
   "execution_count": null,
   "metadata": {},
   "outputs": [],
   "source": []
  },
  {
   "cell_type": "code",
   "execution_count": null,
   "metadata": {},
   "outputs": [],
   "source": []
  }
 ],
 "metadata": {
  "colab": {
   "collapsed_sections": [],
   "provenance": [],
   "toc_visible": true
  },
  "kernelspec": {
   "display_name": "Python 3 (ipykernel)",
   "language": "python",
   "name": "python3"
  },
  "language_info": {
   "codemirror_mode": {
    "name": "ipython",
    "version": 3
   },
   "file_extension": ".py",
   "mimetype": "text/x-python",
   "name": "python",
   "nbconvert_exporter": "python",
   "pygments_lexer": "ipython3",
   "version": "3.9.7"
  }
 },
 "nbformat": 4,
 "nbformat_minor": 1
}
