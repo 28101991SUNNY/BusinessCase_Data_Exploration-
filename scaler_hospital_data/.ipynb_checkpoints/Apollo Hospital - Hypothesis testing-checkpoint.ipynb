{
 "cells": [
  {
   "cell_type": "markdown",
   "id": "98b8e106",
   "metadata": {},
   "source": [
    "\n",
    "## Context\n",
    "\n",
    "### Apollo Hospitals was established in 1983, renowned as the architect of modern healthcare in India. As the nation's first corporate hospital, Apollo Hospitals is acclaimed for pioneering the private healthcare revolution in the country.\n",
    "\n",
    "\n",
    "\n",
    "#### As a data scientist working at Apollo 24/7, the ultimate goal is to tease out meaningful and actionable insights from Patient-level collected data.\n",
    "\n",
    "#### You can help Apollo hospitals to be more efficient, to influence diagnostic and treatment processes, to map the spread of a pandemic.\n",
    "\n",
    "\n",
    "\n",
    "#### One of the best examples of data scientists making a meaningful difference at a global level is in the response to the COVID-19 pandemic, where they have improved information collection, provided ongoing and accurate estimates of infection spread and health system demand, and assessed the effectiveness of government policies.\n",
    "\n",
    "## Problem Statement : \n",
    "\n",
    "- The company wants to know:\n",
    "\n",
    "- • Which variables are significant in predicting the reason for hospitalization for different regions\n",
    "\n",
    "- • How well some variables like viral load, smoking, Severity Level describe the hospitalization charges\n",
    "\n",
    "\n",
    "\n",
    "### Column Profiling\n",
    "\n",
    "    Age: This is an integer indicating the age of the primary beneficiary (excluding those above 64 years, since they are generally covered by the government).\n",
    "    Sex: This is the policy holder's gender, either male or female\n",
    "    Viral Load: Viral load refers to the amount of virus in an infected person's blood\n",
    "    Severity Level: This is an integer indicating how severe the patient is\n",
    "    Smoker: This is yes or no depending on whether the insured regularly smokes tobacco.\n",
    "    Region: This is the beneficiary's place of residence in Delhi, divided into four geographic regions - northeast, southeast, southwest, or northwest\n",
    "    Hospitalization charges: Individual medical costs billed to health insurance\n",
    "\n",
    "- Concept Used:\n",
    "\n",
    "        Graphical and Non-Graphical Analysis\n",
    "        2-sample t-test: testing for difference across populations\n",
    "        ANOVA\n",
    "        Chi-square\n",
    "\n",
    "\n",
    "\n"
   ]
  },
  {
   "cell_type": "code",
   "execution_count": null,
   "id": "86da64bd",
   "metadata": {},
   "outputs": [],
   "source": []
  },
  {
   "cell_type": "code",
   "execution_count": 1,
   "id": "15009d10",
   "metadata": {},
   "outputs": [],
   "source": [
    "import numpy as np\n",
    "import seaborn as sns\n",
    "import matplotlib.pyplot as plt\n",
    "from matplotlib import figure\n",
    "\n",
    "import statsmodels.api as sm\n",
    "from scipy.stats import norm\n",
    "from scipy.stats import t\n",
    "from scipy.stats import binom\n",
    "\n",
    "import warnings\n",
    "warnings.filterwarnings('ignore')\n"
   ]
  },
  {
   "cell_type": "code",
   "execution_count": 2,
   "id": "5455a922",
   "metadata": {},
   "outputs": [],
   "source": [
    "## given sample data : "
   ]
  },
  {
   "cell_type": "code",
   "execution_count": 3,
   "id": "04c539df",
   "metadata": {},
   "outputs": [
    {
     "data": {
      "application/javascript": [
       "\n",
       "        if (window._pyforest_update_imports_cell) { window._pyforest_update_imports_cell('import pandas as pd'); }\n",
       "    "
      ],
      "text/plain": [
       "<IPython.core.display.Javascript object>"
      ]
     },
     "metadata": {},
     "output_type": "display_data"
    }
   ],
   "source": [
    "df= pd.read_csv(\"scaler_apollo_hospitals.csv\",index_col=0)"
   ]
  },
  {
   "cell_type": "code",
   "execution_count": 4,
   "id": "8b1cd760",
   "metadata": {},
   "outputs": [
    {
     "data": {
      "text/html": [
       "<div>\n",
       "<style scoped>\n",
       "    .dataframe tbody tr th:only-of-type {\n",
       "        vertical-align: middle;\n",
       "    }\n",
       "\n",
       "    .dataframe tbody tr th {\n",
       "        vertical-align: top;\n",
       "    }\n",
       "\n",
       "    .dataframe thead th {\n",
       "        text-align: right;\n",
       "    }\n",
       "</style>\n",
       "<table border=\"1\" class=\"dataframe\">\n",
       "  <thead>\n",
       "    <tr style=\"text-align: right;\">\n",
       "      <th></th>\n",
       "      <th>age</th>\n",
       "      <th>sex</th>\n",
       "      <th>smoker</th>\n",
       "      <th>region</th>\n",
       "      <th>viral load</th>\n",
       "      <th>severity level</th>\n",
       "      <th>hospitalization charges</th>\n",
       "    </tr>\n",
       "  </thead>\n",
       "  <tbody>\n",
       "    <tr>\n",
       "      <th>0</th>\n",
       "      <td>19</td>\n",
       "      <td>female</td>\n",
       "      <td>yes</td>\n",
       "      <td>southwest</td>\n",
       "      <td>9.30</td>\n",
       "      <td>0</td>\n",
       "      <td>42212</td>\n",
       "    </tr>\n",
       "    <tr>\n",
       "      <th>1</th>\n",
       "      <td>18</td>\n",
       "      <td>male</td>\n",
       "      <td>no</td>\n",
       "      <td>southeast</td>\n",
       "      <td>11.26</td>\n",
       "      <td>1</td>\n",
       "      <td>4314</td>\n",
       "    </tr>\n",
       "    <tr>\n",
       "      <th>2</th>\n",
       "      <td>28</td>\n",
       "      <td>male</td>\n",
       "      <td>no</td>\n",
       "      <td>southeast</td>\n",
       "      <td>11.00</td>\n",
       "      <td>3</td>\n",
       "      <td>11124</td>\n",
       "    </tr>\n",
       "    <tr>\n",
       "      <th>3</th>\n",
       "      <td>33</td>\n",
       "      <td>male</td>\n",
       "      <td>no</td>\n",
       "      <td>northwest</td>\n",
       "      <td>7.57</td>\n",
       "      <td>0</td>\n",
       "      <td>54961</td>\n",
       "    </tr>\n",
       "    <tr>\n",
       "      <th>4</th>\n",
       "      <td>32</td>\n",
       "      <td>male</td>\n",
       "      <td>no</td>\n",
       "      <td>northwest</td>\n",
       "      <td>9.63</td>\n",
       "      <td>0</td>\n",
       "      <td>9667</td>\n",
       "    </tr>\n",
       "    <tr>\n",
       "      <th>...</th>\n",
       "      <td>...</td>\n",
       "      <td>...</td>\n",
       "      <td>...</td>\n",
       "      <td>...</td>\n",
       "      <td>...</td>\n",
       "      <td>...</td>\n",
       "      <td>...</td>\n",
       "    </tr>\n",
       "    <tr>\n",
       "      <th>1333</th>\n",
       "      <td>50</td>\n",
       "      <td>male</td>\n",
       "      <td>no</td>\n",
       "      <td>northwest</td>\n",
       "      <td>10.32</td>\n",
       "      <td>3</td>\n",
       "      <td>26501</td>\n",
       "    </tr>\n",
       "    <tr>\n",
       "      <th>1334</th>\n",
       "      <td>18</td>\n",
       "      <td>female</td>\n",
       "      <td>no</td>\n",
       "      <td>northeast</td>\n",
       "      <td>10.64</td>\n",
       "      <td>0</td>\n",
       "      <td>5515</td>\n",
       "    </tr>\n",
       "    <tr>\n",
       "      <th>1335</th>\n",
       "      <td>18</td>\n",
       "      <td>female</td>\n",
       "      <td>no</td>\n",
       "      <td>southeast</td>\n",
       "      <td>12.28</td>\n",
       "      <td>0</td>\n",
       "      <td>4075</td>\n",
       "    </tr>\n",
       "    <tr>\n",
       "      <th>1336</th>\n",
       "      <td>21</td>\n",
       "      <td>female</td>\n",
       "      <td>no</td>\n",
       "      <td>southwest</td>\n",
       "      <td>8.60</td>\n",
       "      <td>0</td>\n",
       "      <td>5020</td>\n",
       "    </tr>\n",
       "    <tr>\n",
       "      <th>1337</th>\n",
       "      <td>61</td>\n",
       "      <td>female</td>\n",
       "      <td>yes</td>\n",
       "      <td>northwest</td>\n",
       "      <td>9.69</td>\n",
       "      <td>0</td>\n",
       "      <td>72853</td>\n",
       "    </tr>\n",
       "  </tbody>\n",
       "</table>\n",
       "<p>1338 rows × 7 columns</p>\n",
       "</div>"
      ],
      "text/plain": [
       "      age     sex smoker     region  viral load  severity level  \\\n",
       "0      19  female    yes  southwest        9.30               0   \n",
       "1      18    male     no  southeast       11.26               1   \n",
       "2      28    male     no  southeast       11.00               3   \n",
       "3      33    male     no  northwest        7.57               0   \n",
       "4      32    male     no  northwest        9.63               0   \n",
       "...   ...     ...    ...        ...         ...             ...   \n",
       "1333   50    male     no  northwest       10.32               3   \n",
       "1334   18  female     no  northeast       10.64               0   \n",
       "1335   18  female     no  southeast       12.28               0   \n",
       "1336   21  female     no  southwest        8.60               0   \n",
       "1337   61  female    yes  northwest        9.69               0   \n",
       "\n",
       "      hospitalization charges  \n",
       "0                       42212  \n",
       "1                        4314  \n",
       "2                       11124  \n",
       "3                       54961  \n",
       "4                        9667  \n",
       "...                       ...  \n",
       "1333                    26501  \n",
       "1334                     5515  \n",
       "1335                     4075  \n",
       "1336                     5020  \n",
       "1337                    72853  \n",
       "\n",
       "[1338 rows x 7 columns]"
      ]
     },
     "execution_count": 4,
     "metadata": {},
     "output_type": "execute_result"
    }
   ],
   "source": [
    "df"
   ]
  },
  {
   "cell_type": "code",
   "execution_count": 5,
   "id": "93762ec7",
   "metadata": {},
   "outputs": [
    {
     "data": {
      "text/plain": [
       "(1338, 7)"
      ]
     },
     "execution_count": 5,
     "metadata": {},
     "output_type": "execute_result"
    }
   ],
   "source": [
    "df.shape"
   ]
  },
  {
   "cell_type": "code",
   "execution_count": 6,
   "id": "610f8eb2",
   "metadata": {},
   "outputs": [
    {
     "name": "stdout",
     "output_type": "stream",
     "text": [
      "<class 'pandas.core.frame.DataFrame'>\n",
      "Int64Index: 1338 entries, 0 to 1337\n",
      "Data columns (total 7 columns):\n",
      " #   Column                   Non-Null Count  Dtype  \n",
      "---  ------                   --------------  -----  \n",
      " 0   age                      1338 non-null   int64  \n",
      " 1   sex                      1338 non-null   object \n",
      " 2   smoker                   1338 non-null   object \n",
      " 3   region                   1338 non-null   object \n",
      " 4   viral load               1338 non-null   float64\n",
      " 5   severity level           1338 non-null   int64  \n",
      " 6   hospitalization charges  1338 non-null   int64  \n",
      "dtypes: float64(1), int64(3), object(3)\n",
      "memory usage: 83.6+ KB\n"
     ]
    }
   ],
   "source": [
    "df.info()"
   ]
  },
  {
   "cell_type": "code",
   "execution_count": 7,
   "id": "b225eb24",
   "metadata": {},
   "outputs": [
    {
     "data": {
      "text/html": [
       "<div>\n",
       "<style scoped>\n",
       "    .dataframe tbody tr th:only-of-type {\n",
       "        vertical-align: middle;\n",
       "    }\n",
       "\n",
       "    .dataframe tbody tr th {\n",
       "        vertical-align: top;\n",
       "    }\n",
       "\n",
       "    .dataframe thead th {\n",
       "        text-align: right;\n",
       "    }\n",
       "</style>\n",
       "<table border=\"1\" class=\"dataframe\">\n",
       "  <thead>\n",
       "    <tr style=\"text-align: right;\">\n",
       "      <th></th>\n",
       "      <th>age</th>\n",
       "      <th>viral load</th>\n",
       "      <th>severity level</th>\n",
       "      <th>hospitalization charges</th>\n",
       "    </tr>\n",
       "  </thead>\n",
       "  <tbody>\n",
       "    <tr>\n",
       "      <th>count</th>\n",
       "      <td>1338.000000</td>\n",
       "      <td>1338.000000</td>\n",
       "      <td>1338.000000</td>\n",
       "      <td>1338.000000</td>\n",
       "    </tr>\n",
       "    <tr>\n",
       "      <th>mean</th>\n",
       "      <td>39.207025</td>\n",
       "      <td>10.221233</td>\n",
       "      <td>1.094918</td>\n",
       "      <td>33176.058296</td>\n",
       "    </tr>\n",
       "    <tr>\n",
       "      <th>std</th>\n",
       "      <td>14.049960</td>\n",
       "      <td>2.032796</td>\n",
       "      <td>1.205493</td>\n",
       "      <td>30275.029296</td>\n",
       "    </tr>\n",
       "    <tr>\n",
       "      <th>min</th>\n",
       "      <td>18.000000</td>\n",
       "      <td>5.320000</td>\n",
       "      <td>0.000000</td>\n",
       "      <td>2805.000000</td>\n",
       "    </tr>\n",
       "    <tr>\n",
       "      <th>25%</th>\n",
       "      <td>27.000000</td>\n",
       "      <td>8.762500</td>\n",
       "      <td>0.000000</td>\n",
       "      <td>11851.000000</td>\n",
       "    </tr>\n",
       "    <tr>\n",
       "      <th>50%</th>\n",
       "      <td>39.000000</td>\n",
       "      <td>10.130000</td>\n",
       "      <td>1.000000</td>\n",
       "      <td>23455.000000</td>\n",
       "    </tr>\n",
       "    <tr>\n",
       "      <th>75%</th>\n",
       "      <td>51.000000</td>\n",
       "      <td>11.567500</td>\n",
       "      <td>2.000000</td>\n",
       "      <td>41599.500000</td>\n",
       "    </tr>\n",
       "    <tr>\n",
       "      <th>max</th>\n",
       "      <td>64.000000</td>\n",
       "      <td>17.710000</td>\n",
       "      <td>5.000000</td>\n",
       "      <td>159426.000000</td>\n",
       "    </tr>\n",
       "  </tbody>\n",
       "</table>\n",
       "</div>"
      ],
      "text/plain": [
       "               age   viral load  severity level  hospitalization charges\n",
       "count  1338.000000  1338.000000     1338.000000              1338.000000\n",
       "mean     39.207025    10.221233        1.094918             33176.058296\n",
       "std      14.049960     2.032796        1.205493             30275.029296\n",
       "min      18.000000     5.320000        0.000000              2805.000000\n",
       "25%      27.000000     8.762500        0.000000             11851.000000\n",
       "50%      39.000000    10.130000        1.000000             23455.000000\n",
       "75%      51.000000    11.567500        2.000000             41599.500000\n",
       "max      64.000000    17.710000        5.000000            159426.000000"
      ]
     },
     "execution_count": 7,
     "metadata": {},
     "output_type": "execute_result"
    }
   ],
   "source": [
    "df.describe()"
   ]
  },
  {
   "cell_type": "code",
   "execution_count": 8,
   "id": "5063a942",
   "metadata": {},
   "outputs": [
    {
     "data": {
      "text/html": [
       "<div>\n",
       "<style scoped>\n",
       "    .dataframe tbody tr th:only-of-type {\n",
       "        vertical-align: middle;\n",
       "    }\n",
       "\n",
       "    .dataframe tbody tr th {\n",
       "        vertical-align: top;\n",
       "    }\n",
       "\n",
       "    .dataframe thead th {\n",
       "        text-align: right;\n",
       "    }\n",
       "</style>\n",
       "<table border=\"1\" class=\"dataframe\">\n",
       "  <thead>\n",
       "    <tr style=\"text-align: right;\">\n",
       "      <th></th>\n",
       "      <th>sex</th>\n",
       "      <th>smoker</th>\n",
       "      <th>region</th>\n",
       "    </tr>\n",
       "  </thead>\n",
       "  <tbody>\n",
       "    <tr>\n",
       "      <th>count</th>\n",
       "      <td>1338</td>\n",
       "      <td>1338</td>\n",
       "      <td>1338</td>\n",
       "    </tr>\n",
       "    <tr>\n",
       "      <th>unique</th>\n",
       "      <td>2</td>\n",
       "      <td>2</td>\n",
       "      <td>4</td>\n",
       "    </tr>\n",
       "    <tr>\n",
       "      <th>top</th>\n",
       "      <td>male</td>\n",
       "      <td>no</td>\n",
       "      <td>southeast</td>\n",
       "    </tr>\n",
       "    <tr>\n",
       "      <th>freq</th>\n",
       "      <td>676</td>\n",
       "      <td>1064</td>\n",
       "      <td>364</td>\n",
       "    </tr>\n",
       "  </tbody>\n",
       "</table>\n",
       "</div>"
      ],
      "text/plain": [
       "         sex smoker     region\n",
       "count   1338   1338       1338\n",
       "unique     2      2          4\n",
       "top     male     no  southeast\n",
       "freq     676   1064        364"
      ]
     },
     "execution_count": 8,
     "metadata": {},
     "output_type": "execute_result"
    }
   ],
   "source": [
    "df.describe(include=\"object\")"
   ]
  },
  {
   "cell_type": "code",
   "execution_count": 9,
   "id": "b72633f0",
   "metadata": {},
   "outputs": [
    {
     "data": {
      "text/html": [
       "<div>\n",
       "<style scoped>\n",
       "    .dataframe tbody tr th:only-of-type {\n",
       "        vertical-align: middle;\n",
       "    }\n",
       "\n",
       "    .dataframe tbody tr th {\n",
       "        vertical-align: top;\n",
       "    }\n",
       "\n",
       "    .dataframe thead th {\n",
       "        text-align: right;\n",
       "    }\n",
       "</style>\n",
       "<table border=\"1\" class=\"dataframe\">\n",
       "  <thead>\n",
       "    <tr style=\"text-align: right;\">\n",
       "      <th></th>\n",
       "      <th>age</th>\n",
       "      <th>viral load</th>\n",
       "      <th>severity level</th>\n",
       "      <th>hospitalization charges</th>\n",
       "    </tr>\n",
       "  </thead>\n",
       "  <tbody>\n",
       "    <tr>\n",
       "      <th>age</th>\n",
       "      <td>1.000000</td>\n",
       "      <td>0.109300</td>\n",
       "      <td>0.042469</td>\n",
       "      <td>0.299008</td>\n",
       "    </tr>\n",
       "    <tr>\n",
       "      <th>viral load</th>\n",
       "      <td>0.109300</td>\n",
       "      <td>1.000000</td>\n",
       "      <td>0.012729</td>\n",
       "      <td>0.198388</td>\n",
       "    </tr>\n",
       "    <tr>\n",
       "      <th>severity level</th>\n",
       "      <td>0.042469</td>\n",
       "      <td>0.012729</td>\n",
       "      <td>1.000000</td>\n",
       "      <td>0.067998</td>\n",
       "    </tr>\n",
       "    <tr>\n",
       "      <th>hospitalization charges</th>\n",
       "      <td>0.299008</td>\n",
       "      <td>0.198388</td>\n",
       "      <td>0.067998</td>\n",
       "      <td>1.000000</td>\n",
       "    </tr>\n",
       "  </tbody>\n",
       "</table>\n",
       "</div>"
      ],
      "text/plain": [
       "                              age  viral load  severity level  \\\n",
       "age                      1.000000    0.109300        0.042469   \n",
       "viral load               0.109300    1.000000        0.012729   \n",
       "severity level           0.042469    0.012729        1.000000   \n",
       "hospitalization charges  0.299008    0.198388        0.067998   \n",
       "\n",
       "                         hospitalization charges  \n",
       "age                                     0.299008  \n",
       "viral load                              0.198388  \n",
       "severity level                          0.067998  \n",
       "hospitalization charges                 1.000000  "
      ]
     },
     "execution_count": 9,
     "metadata": {},
     "output_type": "execute_result"
    }
   ],
   "source": [
    "df.corr()"
   ]
  },
  {
   "cell_type": "code",
   "execution_count": 10,
   "id": "67a3c201",
   "metadata": {},
   "outputs": [
    {
     "data": {
      "text/plain": [
       "<AxesSubplot:>"
      ]
     },
     "execution_count": 10,
     "metadata": {},
     "output_type": "execute_result"
    },
    {
     "data": {
      "image/png": "[encoded data removed]",
      "text/plain": [
       "<Figure size 720x504 with 2 Axes>"
      ]
     },
     "metadata": {
      "needs_background": "light"
     },
     "output_type": "display_data"
    }
   ],
   "source": [
    "plt.figure(figsize=(10,7))\n",
    "\n",
    "sns.heatmap(df.corr(),annot=True,cmap = \"Blues\")"
   ]
  },
  {
   "cell_type": "code",
   "execution_count": null,
   "id": "347e069e",
   "metadata": {},
   "outputs": [],
   "source": []
  },
  {
   "cell_type": "code",
   "execution_count": 11,
   "id": "40295009",
   "metadata": {},
   "outputs": [],
   "source": [
    "def detect_outliers(data):\n",
    "    length_before = len(data)\n",
    "    Q1 = np.percentile(data,25)\n",
    "    Q3 = np.percentile(data,75)\n",
    "    IQR = Q3-Q1\n",
    "    upperbound = Q3+1.5*IQR\n",
    "    lowerbound = Q1-1.5*IQR\n",
    "    if lowerbound < 0:\n",
    "        lowerbound = 0\n",
    "    \n",
    "    length_after = len(data[(data>lowerbound)&(data<upperbound)])\n",
    "    return f\"{np.round((length_before-length_after)/length_before,4)} % Outliers from input data found\""
   ]
  },
  {
   "cell_type": "code",
   "execution_count": 12,
   "id": "e71e13c6",
   "metadata": {},
   "outputs": [
    {
     "data": {
      "text/plain": [
       "age                        0\n",
       "sex                        0\n",
       "smoker                     0\n",
       "region                     0\n",
       "viral load                 0\n",
       "severity level             0\n",
       "hospitalization charges    0\n",
       "dtype: int64"
      ]
     },
     "execution_count": 12,
     "metadata": {},
     "output_type": "execute_result"
    }
   ],
   "source": [
    "df.isna().sum()"
   ]
  },
  {
   "cell_type": "code",
   "execution_count": 13,
   "id": "13572029",
   "metadata": {},
   "outputs": [
    {
     "name": "stdout",
     "output_type": "stream",
     "text": [
      "age has :  0.0 % Outliers from input data found\n",
      "viral load has :  0.0067 % Outliers from input data found\n",
      "severity level has :  0.4425 % Outliers from input data found\n",
      "hospitalization charges has :  0.1039 % Outliers from input data found\n"
     ]
    }
   ],
   "source": [
    "for col in [\"age\",\"viral load\",\"severity level\",\"hospitalization charges\"]:\n",
    "    \n",
    "    print(col,\"has : \",detect_outliers(df[col]))"
   ]
  },
  {
   "cell_type": "code",
   "execution_count": 14,
   "id": "8c1b6d9f",
   "metadata": {},
   "outputs": [],
   "source": [
    "# outlier presence is not significant. \n",
    "# all the columns have outliers less than 5%. \n"
   ]
  },
  {
   "cell_type": "code",
   "execution_count": null,
   "id": "5a3a90cc",
   "metadata": {},
   "outputs": [],
   "source": []
  },
  {
   "cell_type": "code",
   "execution_count": null,
   "id": "fa1eacdd",
   "metadata": {},
   "outputs": [],
   "source": []
  },
  {
   "cell_type": "code",
   "execution_count": 15,
   "id": "ad3b31a1",
   "metadata": {},
   "outputs": [],
   "source": [
    "df.columns = ['age', 'sex', 'smoker', 'region', 'viral_load', 'severity_level',\n",
    "       'hospitalization_charges']"
   ]
  },
  {
   "cell_type": "code",
   "execution_count": 16,
   "id": "4dd36b03",
   "metadata": {},
   "outputs": [
    {
     "data": {
      "text/plain": [
       "<AxesSubplot:xlabel='hospitalization_charges', ylabel='Density'>"
      ]
     },
     "execution_count": 16,
     "metadata": {},
     "output_type": "execute_result"
    },
    {
     "data": {
      "image/png": "[encoded data removed]",
      "text/plain": [
       "<Figure size 432x288 with 1 Axes>"
      ]
     },
     "metadata": {
      "needs_background": "light"
     },
     "output_type": "display_data"
    }
   ],
   "source": [
    "sns.distplot(df[\"hospitalization_charges\"])"
   ]
  },
  {
   "cell_type": "code",
   "execution_count": 17,
   "id": "10810c07",
   "metadata": {},
   "outputs": [
    {
     "data": {
      "text/plain": [
       "<AxesSubplot:xlabel='hospitalization_charges'>"
      ]
     },
     "execution_count": 17,
     "metadata": {},
     "output_type": "execute_result"
    },
    {
     "data": {
      "image/png": "[encoded data removed]",
      "text/plain": [
       "<Figure size 432x288 with 1 Axes>"
      ]
     },
     "metadata": {
      "needs_background": "light"
     },
     "output_type": "display_data"
    }
   ],
   "source": [
    "sns.boxplot(df[\"hospitalization_charges\"])"
   ]
  },
  {
   "cell_type": "code",
   "execution_count": null,
   "id": "48814858",
   "metadata": {},
   "outputs": [],
   "source": []
  },
  {
   "cell_type": "code",
   "execution_count": 18,
   "id": "72a98001",
   "metadata": {},
   "outputs": [
    {
     "data": {
      "text/plain": [
       "Index(['age', 'sex', 'smoker', 'region', 'viral_load', 'severity_level',\n",
       "       'hospitalization_charges'],\n",
       "      dtype='object')"
      ]
     },
     "execution_count": 18,
     "metadata": {},
     "output_type": "execute_result"
    }
   ],
   "source": [
    "df.columns"
   ]
  },
  {
   "cell_type": "code",
   "execution_count": null,
   "id": "c2c6a70f",
   "metadata": {},
   "outputs": [],
   "source": []
  },
  {
   "cell_type": "code",
   "execution_count": 19,
   "id": "7f457d59",
   "metadata": {},
   "outputs": [
    {
     "data": {
      "application/javascript": [
       "\n",
       "        if (window._pyforest_update_imports_cell) { window._pyforest_update_imports_cell('import pandas as pd'); }\n",
       "    "
      ],
      "text/plain": [
       "<IPython.core.display.Javascript object>"
      ]
     },
     "metadata": {},
     "output_type": "display_data"
    },
    {
     "data": {
      "image/png": "[encoded data removed]",
      "text/plain": [
       "<Figure size 432x288 with 1 Axes>"
      ]
     },
     "metadata": {
      "needs_background": "light"
     },
     "output_type": "display_data"
    }
   ],
   "source": [
    "sns.countplot(pd.qcut(df[\"age\"],10))\n",
    "plt.xticks(rotation = 90)\n",
    "plt.show()"
   ]
  },
  {
   "cell_type": "code",
   "execution_count": 89,
   "id": "c1b6cfe4",
   "metadata": {},
   "outputs": [
    {
     "data": {
      "text/html": [
       "<div>\n",
       "<style scoped>\n",
       "    .dataframe tbody tr th:only-of-type {\n",
       "        vertical-align: middle;\n",
       "    }\n",
       "\n",
       "    .dataframe tbody tr th {\n",
       "        vertical-align: top;\n",
       "    }\n",
       "\n",
       "    .dataframe thead th {\n",
       "        text-align: right;\n",
       "    }\n",
       "</style>\n",
       "<table border=\"1\" class=\"dataframe\">\n",
       "  <thead>\n",
       "    <tr style=\"text-align: right;\">\n",
       "      <th></th>\n",
       "      <th>age</th>\n",
       "      <th>sex</th>\n",
       "      <th>smoker</th>\n",
       "      <th>region</th>\n",
       "      <th>viral_load</th>\n",
       "      <th>severity_level</th>\n",
       "      <th>hospitalization_charges</th>\n",
       "    </tr>\n",
       "  </thead>\n",
       "  <tbody>\n",
       "    <tr>\n",
       "      <th>0</th>\n",
       "      <td>19</td>\n",
       "      <td>female</td>\n",
       "      <td>yes</td>\n",
       "      <td>southwest</td>\n",
       "      <td>9.30</td>\n",
       "      <td>0</td>\n",
       "      <td>42212</td>\n",
       "    </tr>\n",
       "    <tr>\n",
       "      <th>1</th>\n",
       "      <td>18</td>\n",
       "      <td>male</td>\n",
       "      <td>no</td>\n",
       "      <td>southeast</td>\n",
       "      <td>11.26</td>\n",
       "      <td>1</td>\n",
       "      <td>4314</td>\n",
       "    </tr>\n",
       "    <tr>\n",
       "      <th>2</th>\n",
       "      <td>28</td>\n",
       "      <td>male</td>\n",
       "      <td>no</td>\n",
       "      <td>southeast</td>\n",
       "      <td>11.00</td>\n",
       "      <td>3</td>\n",
       "      <td>11124</td>\n",
       "    </tr>\n",
       "    <tr>\n",
       "      <th>3</th>\n",
       "      <td>33</td>\n",
       "      <td>male</td>\n",
       "      <td>no</td>\n",
       "      <td>northwest</td>\n",
       "      <td>7.57</td>\n",
       "      <td>0</td>\n",
       "      <td>54961</td>\n",
       "    </tr>\n",
       "    <tr>\n",
       "      <th>4</th>\n",
       "      <td>32</td>\n",
       "      <td>male</td>\n",
       "      <td>no</td>\n",
       "      <td>northwest</td>\n",
       "      <td>9.63</td>\n",
       "      <td>0</td>\n",
       "      <td>9667</td>\n",
       "    </tr>\n",
       "    <tr>\n",
       "      <th>...</th>\n",
       "      <td>...</td>\n",
       "      <td>...</td>\n",
       "      <td>...</td>\n",
       "      <td>...</td>\n",
       "      <td>...</td>\n",
       "      <td>...</td>\n",
       "      <td>...</td>\n",
       "    </tr>\n",
       "    <tr>\n",
       "      <th>1333</th>\n",
       "      <td>50</td>\n",
       "      <td>male</td>\n",
       "      <td>no</td>\n",
       "      <td>northwest</td>\n",
       "      <td>10.32</td>\n",
       "      <td>3</td>\n",
       "      <td>26501</td>\n",
       "    </tr>\n",
       "    <tr>\n",
       "      <th>1334</th>\n",
       "      <td>18</td>\n",
       "      <td>female</td>\n",
       "      <td>no</td>\n",
       "      <td>northeast</td>\n",
       "      <td>10.64</td>\n",
       "      <td>0</td>\n",
       "      <td>5515</td>\n",
       "    </tr>\n",
       "    <tr>\n",
       "      <th>1335</th>\n",
       "      <td>18</td>\n",
       "      <td>female</td>\n",
       "      <td>no</td>\n",
       "      <td>southeast</td>\n",
       "      <td>12.28</td>\n",
       "      <td>0</td>\n",
       "      <td>4075</td>\n",
       "    </tr>\n",
       "    <tr>\n",
       "      <th>1336</th>\n",
       "      <td>21</td>\n",
       "      <td>female</td>\n",
       "      <td>no</td>\n",
       "      <td>southwest</td>\n",
       "      <td>8.60</td>\n",
       "      <td>0</td>\n",
       "      <td>5020</td>\n",
       "    </tr>\n",
       "    <tr>\n",
       "      <th>1337</th>\n",
       "      <td>61</td>\n",
       "      <td>female</td>\n",
       "      <td>yes</td>\n",
       "      <td>northwest</td>\n",
       "      <td>9.69</td>\n",
       "      <td>0</td>\n",
       "      <td>72853</td>\n",
       "    </tr>\n",
       "  </tbody>\n",
       "</table>\n",
       "<p>1338 rows × 7 columns</p>\n",
       "</div>"
      ],
      "text/plain": [
       "      age     sex smoker     region  viral_load  severity_level  \\\n",
       "0      19  female    yes  southwest        9.30               0   \n",
       "1      18    male     no  southeast       11.26               1   \n",
       "2      28    male     no  southeast       11.00               3   \n",
       "3      33    male     no  northwest        7.57               0   \n",
       "4      32    male     no  northwest        9.63               0   \n",
       "...   ...     ...    ...        ...         ...             ...   \n",
       "1333   50    male     no  northwest       10.32               3   \n",
       "1334   18  female     no  northeast       10.64               0   \n",
       "1335   18  female     no  southeast       12.28               0   \n",
       "1336   21  female     no  southwest        8.60               0   \n",
       "1337   61  female    yes  northwest        9.69               0   \n",
       "\n",
       "      hospitalization_charges  \n",
       "0                       42212  \n",
       "1                        4314  \n",
       "2                       11124  \n",
       "3                       54961  \n",
       "4                        9667  \n",
       "...                       ...  \n",
       "1333                    26501  \n",
       "1334                     5515  \n",
       "1335                     4075  \n",
       "1336                     5020  \n",
       "1337                    72853  \n",
       "\n",
       "[1338 rows x 7 columns]"
      ]
     },
     "execution_count": 89,
     "metadata": {},
     "output_type": "execute_result"
    }
   ],
   "source": [
    "df"
   ]
  },
  {
   "cell_type": "code",
   "execution_count": 90,
   "id": "fb701e7d",
   "metadata": {},
   "outputs": [
    {
     "data": {
      "application/javascript": [
       "\n",
       "        if (window._pyforest_update_imports_cell) { window._pyforest_update_imports_cell('import pandas as pd\\nfrom scipy import stats'); }\n",
       "    "
      ],
      "text/plain": [
       "<IPython.core.display.Javascript object>"
      ]
     },
     "metadata": {},
     "output_type": "display_data"
    }
   ],
   "source": [
    "df[\"age_category\"] = pd.qcut(df[\"age\"],10)"
   ]
  },
  {
   "cell_type": "code",
   "execution_count": 91,
   "id": "d3f59930",
   "metadata": {},
   "outputs": [
    {
     "data": {
      "text/html": [
       "<div>\n",
       "<style scoped>\n",
       "    .dataframe tbody tr th:only-of-type {\n",
       "        vertical-align: middle;\n",
       "    }\n",
       "\n",
       "    .dataframe tbody tr th {\n",
       "        vertical-align: top;\n",
       "    }\n",
       "\n",
       "    .dataframe thead th {\n",
       "        text-align: right;\n",
       "    }\n",
       "</style>\n",
       "<table border=\"1\" class=\"dataframe\">\n",
       "  <thead>\n",
       "    <tr style=\"text-align: right;\">\n",
       "      <th></th>\n",
       "      <th>age</th>\n",
       "      <th>sex</th>\n",
       "      <th>smoker</th>\n",
       "      <th>region</th>\n",
       "      <th>viral_load</th>\n",
       "      <th>severity_level</th>\n",
       "      <th>hospitalization_charges</th>\n",
       "      <th>age_category</th>\n",
       "    </tr>\n",
       "  </thead>\n",
       "  <tbody>\n",
       "    <tr>\n",
       "      <th>0</th>\n",
       "      <td>19</td>\n",
       "      <td>female</td>\n",
       "      <td>yes</td>\n",
       "      <td>southwest</td>\n",
       "      <td>9.30</td>\n",
       "      <td>0</td>\n",
       "      <td>42212</td>\n",
       "      <td>(17.999, 19.0]</td>\n",
       "    </tr>\n",
       "    <tr>\n",
       "      <th>1</th>\n",
       "      <td>18</td>\n",
       "      <td>male</td>\n",
       "      <td>no</td>\n",
       "      <td>southeast</td>\n",
       "      <td>11.26</td>\n",
       "      <td>1</td>\n",
       "      <td>4314</td>\n",
       "      <td>(17.999, 19.0]</td>\n",
       "    </tr>\n",
       "    <tr>\n",
       "      <th>2</th>\n",
       "      <td>28</td>\n",
       "      <td>male</td>\n",
       "      <td>no</td>\n",
       "      <td>southeast</td>\n",
       "      <td>11.00</td>\n",
       "      <td>3</td>\n",
       "      <td>11124</td>\n",
       "      <td>(24.0, 29.0]</td>\n",
       "    </tr>\n",
       "    <tr>\n",
       "      <th>3</th>\n",
       "      <td>33</td>\n",
       "      <td>male</td>\n",
       "      <td>no</td>\n",
       "      <td>northwest</td>\n",
       "      <td>7.57</td>\n",
       "      <td>0</td>\n",
       "      <td>54961</td>\n",
       "      <td>(29.0, 34.0]</td>\n",
       "    </tr>\n",
       "    <tr>\n",
       "      <th>4</th>\n",
       "      <td>32</td>\n",
       "      <td>male</td>\n",
       "      <td>no</td>\n",
       "      <td>northwest</td>\n",
       "      <td>9.63</td>\n",
       "      <td>0</td>\n",
       "      <td>9667</td>\n",
       "      <td>(29.0, 34.0]</td>\n",
       "    </tr>\n",
       "    <tr>\n",
       "      <th>...</th>\n",
       "      <td>...</td>\n",
       "      <td>...</td>\n",
       "      <td>...</td>\n",
       "      <td>...</td>\n",
       "      <td>...</td>\n",
       "      <td>...</td>\n",
       "      <td>...</td>\n",
       "      <td>...</td>\n",
       "    </tr>\n",
       "    <tr>\n",
       "      <th>1333</th>\n",
       "      <td>50</td>\n",
       "      <td>male</td>\n",
       "      <td>no</td>\n",
       "      <td>northwest</td>\n",
       "      <td>10.32</td>\n",
       "      <td>3</td>\n",
       "      <td>26501</td>\n",
       "      <td>(49.0, 54.0]</td>\n",
       "    </tr>\n",
       "    <tr>\n",
       "      <th>1334</th>\n",
       "      <td>18</td>\n",
       "      <td>female</td>\n",
       "      <td>no</td>\n",
       "      <td>northeast</td>\n",
       "      <td>10.64</td>\n",
       "      <td>0</td>\n",
       "      <td>5515</td>\n",
       "      <td>(17.999, 19.0]</td>\n",
       "    </tr>\n",
       "    <tr>\n",
       "      <th>1335</th>\n",
       "      <td>18</td>\n",
       "      <td>female</td>\n",
       "      <td>no</td>\n",
       "      <td>southeast</td>\n",
       "      <td>12.28</td>\n",
       "      <td>0</td>\n",
       "      <td>4075</td>\n",
       "      <td>(17.999, 19.0]</td>\n",
       "    </tr>\n",
       "    <tr>\n",
       "      <th>1336</th>\n",
       "      <td>21</td>\n",
       "      <td>female</td>\n",
       "      <td>no</td>\n",
       "      <td>southwest</td>\n",
       "      <td>8.60</td>\n",
       "      <td>0</td>\n",
       "      <td>5020</td>\n",
       "      <td>(19.0, 24.0]</td>\n",
       "    </tr>\n",
       "    <tr>\n",
       "      <th>1337</th>\n",
       "      <td>61</td>\n",
       "      <td>female</td>\n",
       "      <td>yes</td>\n",
       "      <td>northwest</td>\n",
       "      <td>9.69</td>\n",
       "      <td>0</td>\n",
       "      <td>72853</td>\n",
       "      <td>(59.0, 64.0]</td>\n",
       "    </tr>\n",
       "  </tbody>\n",
       "</table>\n",
       "<p>1338 rows × 8 columns</p>\n",
       "</div>"
      ],
      "text/plain": [
       "      age     sex smoker     region  viral_load  severity_level  \\\n",
       "0      19  female    yes  southwest        9.30               0   \n",
       "1      18    male     no  southeast       11.26               1   \n",
       "2      28    male     no  southeast       11.00               3   \n",
       "3      33    male     no  northwest        7.57               0   \n",
       "4      32    male     no  northwest        9.63               0   \n",
       "...   ...     ...    ...        ...         ...             ...   \n",
       "1333   50    male     no  northwest       10.32               3   \n",
       "1334   18  female     no  northeast       10.64               0   \n",
       "1335   18  female     no  southeast       12.28               0   \n",
       "1336   21  female     no  southwest        8.60               0   \n",
       "1337   61  female    yes  northwest        9.69               0   \n",
       "\n",
       "      hospitalization_charges    age_category  \n",
       "0                       42212  (17.999, 19.0]  \n",
       "1                        4314  (17.999, 19.0]  \n",
       "2                       11124    (24.0, 29.0]  \n",
       "3                       54961    (29.0, 34.0]  \n",
       "4                        9667    (29.0, 34.0]  \n",
       "...                       ...             ...  \n",
       "1333                    26501    (49.0, 54.0]  \n",
       "1334                     5515  (17.999, 19.0]  \n",
       "1335                     4075  (17.999, 19.0]  \n",
       "1336                     5020    (19.0, 24.0]  \n",
       "1337                    72853    (59.0, 64.0]  \n",
       "\n",
       "[1338 rows x 8 columns]"
      ]
     },
     "execution_count": 91,
     "metadata": {},
     "output_type": "execute_result"
    }
   ],
   "source": [
    "df"
   ]
  },
  {
   "cell_type": "code",
   "execution_count": 93,
   "id": "8267652e",
   "metadata": {},
   "outputs": [
    {
     "data": {
      "image/png": "[encoded data removed]",
      "text/plain": [
       "<Figure size 432x288 with 1 Axes>"
      ]
     },
     "metadata": {
      "needs_background": "light"
     },
     "output_type": "display_data"
    }
   ],
   "source": [
    "sns.barplot(x = df[\"age_category\"],\n",
    "           y = df[\"hospitalization_charges\"])\n",
    "plt.xticks(rotation = 90)\n",
    "plt.show()"
   ]
  },
  {
   "cell_type": "code",
   "execution_count": null,
   "id": "be57f2d9",
   "metadata": {},
   "outputs": [],
   "source": []
  },
  {
   "cell_type": "code",
   "execution_count": null,
   "id": "af5f185b",
   "metadata": {},
   "outputs": [],
   "source": []
  },
  {
   "cell_type": "code",
   "execution_count": null,
   "id": "1f6a0bcf",
   "metadata": {},
   "outputs": [],
   "source": []
  },
  {
   "cell_type": "code",
   "execution_count": null,
   "id": "22f97f70",
   "metadata": {},
   "outputs": [],
   "source": []
  },
  {
   "cell_type": "code",
   "execution_count": 20,
   "id": "cfddb23c",
   "metadata": {},
   "outputs": [
    {
     "data": {
      "application/javascript": [
       "\n",
       "        if (window._pyforest_update_imports_cell) { window._pyforest_update_imports_cell('import pandas as pd'); }\n",
       "    "
      ],
      "text/plain": [
       "<IPython.core.display.Javascript object>"
      ]
     },
     "metadata": {},
     "output_type": "display_data"
    },
    {
     "data": {
      "text/html": [
       "<div>\n",
       "<style scoped>\n",
       "    .dataframe tbody tr th:only-of-type {\n",
       "        vertical-align: middle;\n",
       "    }\n",
       "\n",
       "    .dataframe tbody tr th {\n",
       "        vertical-align: top;\n",
       "    }\n",
       "\n",
       "    .dataframe thead th {\n",
       "        text-align: right;\n",
       "    }\n",
       "</style>\n",
       "<table border=\"1\" class=\"dataframe\">\n",
       "  <thead>\n",
       "    <tr style=\"text-align: right;\">\n",
       "      <th>region</th>\n",
       "      <th>northeast</th>\n",
       "      <th>northwest</th>\n",
       "      <th>southeast</th>\n",
       "      <th>southwest</th>\n",
       "    </tr>\n",
       "    <tr>\n",
       "      <th>smoker</th>\n",
       "      <th></th>\n",
       "      <th></th>\n",
       "      <th></th>\n",
       "      <th></th>\n",
       "    </tr>\n",
       "  </thead>\n",
       "  <tbody>\n",
       "    <tr>\n",
       "      <th>no</th>\n",
       "      <td>257</td>\n",
       "      <td>267</td>\n",
       "      <td>273</td>\n",
       "      <td>267</td>\n",
       "    </tr>\n",
       "    <tr>\n",
       "      <th>yes</th>\n",
       "      <td>67</td>\n",
       "      <td>58</td>\n",
       "      <td>91</td>\n",
       "      <td>58</td>\n",
       "    </tr>\n",
       "  </tbody>\n",
       "</table>\n",
       "</div>"
      ],
      "text/plain": [
       "region  northeast  northwest  southeast  southwest\n",
       "smoker                                            \n",
       "no            257        267        273        267\n",
       "yes            67         58         91         58"
      ]
     },
     "execution_count": 20,
     "metadata": {},
     "output_type": "execute_result"
    }
   ],
   "source": [
    "pd.crosstab(columns = df[\"region\"],\n",
    "            index   = df[\"smoker\"])"
   ]
  },
  {
   "cell_type": "code",
   "execution_count": null,
   "id": "daa4a215",
   "metadata": {},
   "outputs": [],
   "source": []
  },
  {
   "cell_type": "code",
   "execution_count": 22,
   "id": "bcb32715",
   "metadata": {},
   "outputs": [
    {
     "data": {
      "text/plain": [
       "age                          47\n",
       "sex                           2\n",
       "smoker                        2\n",
       "region                        4\n",
       "viral_load                  462\n",
       "severity_level                6\n",
       "hospitalization_charges    1320\n",
       "dtype: int64"
      ]
     },
     "execution_count": 22,
     "metadata": {},
     "output_type": "execute_result"
    }
   ],
   "source": [
    "df.nunique()"
   ]
  },
  {
   "cell_type": "code",
   "execution_count": 23,
   "id": "3d78301f",
   "metadata": {
    "scrolled": true
   },
   "outputs": [
    {
     "data": {
      "text/plain": [
       "<AxesSubplot:xlabel='severity_level', ylabel='hospitalization_charges'>"
      ]
     },
     "execution_count": 23,
     "metadata": {},
     "output_type": "execute_result"
    },
    {
     "data": {
      "image/png": "[encoded data removed]",
      "text/plain": [
       "<Figure size 432x288 with 1 Axes>"
      ]
     },
     "metadata": {
      "needs_background": "light"
     },
     "output_type": "display_data"
    }
   ],
   "source": [
    "sns.boxplot(y = df[\"hospitalization_charges\"], \n",
    "           x = df[\"severity_level\"])"
   ]
  },
  {
   "cell_type": "code",
   "execution_count": 24,
   "id": "86d9154a",
   "metadata": {},
   "outputs": [
    {
     "data": {
      "text/plain": [
       "<AxesSubplot:xlabel='region', ylabel='hospitalization_charges'>"
      ]
     },
     "execution_count": 24,
     "metadata": {},
     "output_type": "execute_result"
    },
    {
     "data": {
      "image/png": "[encoded data removed]",
      "text/plain": [
       "<Figure size 432x288 with 1 Axes>"
      ]
     },
     "metadata": {
      "needs_background": "light"
     },
     "output_type": "display_data"
    }
   ],
   "source": [
    "sns.boxplot(y = df[\"hospitalization_charges\"], \n",
    "           x = df[\"region\"])"
   ]
  },
  {
   "cell_type": "code",
   "execution_count": null,
   "id": "c1650cf0",
   "metadata": {},
   "outputs": [],
   "source": []
  },
  {
   "cell_type": "code",
   "execution_count": null,
   "id": "19e7240b",
   "metadata": {},
   "outputs": [],
   "source": []
  },
  {
   "cell_type": "code",
   "execution_count": null,
   "id": "906dfea6",
   "metadata": {},
   "outputs": [],
   "source": []
  },
  {
   "cell_type": "code",
   "execution_count": null,
   "id": "7abd73c6",
   "metadata": {},
   "outputs": [],
   "source": []
  },
  {
   "cell_type": "code",
   "execution_count": null,
   "id": "2fde5e00",
   "metadata": {},
   "outputs": [],
   "source": []
  },
  {
   "cell_type": "code",
   "execution_count": null,
   "id": "e2dfccb1",
   "metadata": {},
   "outputs": [],
   "source": []
  },
  {
   "cell_type": "markdown",
   "id": "2b779515",
   "metadata": {},
   "source": [
    "## is the analysis true for population ?  (performing hypothesis testing)"
   ]
  },
  {
   "cell_type": "markdown",
   "id": "d69f4b9d",
   "metadata": {},
   "source": [
    "## t-test : checking for population , if the hospitalization charges are higher for smokers ? "
   ]
  },
  {
   "cell_type": "code",
   "execution_count": 94,
   "id": "75611c62",
   "metadata": {},
   "outputs": [
    {
     "data": {
      "text/html": [
       "<div>\n",
       "<style scoped>\n",
       "    .dataframe tbody tr th:only-of-type {\n",
       "        vertical-align: middle;\n",
       "    }\n",
       "\n",
       "    .dataframe tbody tr th {\n",
       "        vertical-align: top;\n",
       "    }\n",
       "\n",
       "    .dataframe thead th {\n",
       "        text-align: right;\n",
       "    }\n",
       "</style>\n",
       "<table border=\"1\" class=\"dataframe\">\n",
       "  <thead>\n",
       "    <tr style=\"text-align: right;\">\n",
       "      <th></th>\n",
       "      <th>count</th>\n",
       "      <th>mean</th>\n",
       "      <th>std</th>\n",
       "      <th>min</th>\n",
       "      <th>25%</th>\n",
       "      <th>50%</th>\n",
       "      <th>75%</th>\n",
       "      <th>max</th>\n",
       "    </tr>\n",
       "    <tr>\n",
       "      <th>smoker</th>\n",
       "      <th></th>\n",
       "      <th></th>\n",
       "      <th></th>\n",
       "      <th></th>\n",
       "      <th></th>\n",
       "      <th></th>\n",
       "      <th></th>\n",
       "      <th></th>\n",
       "    </tr>\n",
       "  </thead>\n",
       "  <tbody>\n",
       "    <tr>\n",
       "      <th>no</th>\n",
       "      <td>1064.0</td>\n",
       "      <td>21085.675752</td>\n",
       "      <td>14984.455500</td>\n",
       "      <td>2805.0</td>\n",
       "      <td>9966.25</td>\n",
       "      <td>18363.5</td>\n",
       "      <td>28407.25</td>\n",
       "      <td>92277.0</td>\n",
       "    </tr>\n",
       "    <tr>\n",
       "      <th>yes</th>\n",
       "      <td>274.0</td>\n",
       "      <td>80125.572993</td>\n",
       "      <td>28853.891137</td>\n",
       "      <td>32074.0</td>\n",
       "      <td>52065.50</td>\n",
       "      <td>86141.0</td>\n",
       "      <td>102548.25</td>\n",
       "      <td>159426.0</td>\n",
       "    </tr>\n",
       "  </tbody>\n",
       "</table>\n",
       "</div>"
      ],
      "text/plain": [
       "         count          mean           std      min       25%      50%  \\\n",
       "smoker                                                                   \n",
       "no      1064.0  21085.675752  14984.455500   2805.0   9966.25  18363.5   \n",
       "yes      274.0  80125.572993  28853.891137  32074.0  52065.50  86141.0   \n",
       "\n",
       "              75%       max  \n",
       "smoker                       \n",
       "no       28407.25   92277.0  \n",
       "yes     102548.25  159426.0  "
      ]
     },
     "execution_count": 94,
     "metadata": {},
     "output_type": "execute_result"
    }
   ],
   "source": [
    "df.groupby(\"smoker\")[\"hospitalization_charges\"].describe()"
   ]
  },
  {
   "cell_type": "code",
   "execution_count": null,
   "id": "75c33fea",
   "metadata": {},
   "outputs": [],
   "source": []
  },
  {
   "cell_type": "code",
   "execution_count": 25,
   "id": "220b228e",
   "metadata": {},
   "outputs": [
    {
     "data": {
      "text/plain": [
       "<AxesSubplot:xlabel='smoker', ylabel='hospitalization_charges'>"
      ]
     },
     "execution_count": 25,
     "metadata": {},
     "output_type": "execute_result"
    },
    {
     "data": {
      "image/png": "[encoded data removed]",
      "text/plain": [
       "<Figure size 432x288 with 1 Axes>"
      ]
     },
     "metadata": {
      "needs_background": "light"
     },
     "output_type": "display_data"
    }
   ],
   "source": [
    "sns.boxplot(y = df[\"hospitalization_charges\"], \n",
    "           x = df[\"smoker\"])"
   ]
  },
  {
   "cell_type": "markdown",
   "id": "687a823f",
   "metadata": {},
   "source": [
    "#### from above boxplot , hopitalization charges seems to be higher for smokers than who doent smoke."
   ]
  },
  {
   "cell_type": "markdown",
   "id": "6cc0feb1",
   "metadata": {},
   "source": [
    "#### t-test : \n",
    "#### null hypotehsis : H0 : mean hospitalization charges for smokers and non smokers are same.\n",
    "#### alternative hypothesis : Ha : Mean hospitalization charges for smokes is higher than non smokers for population . \n",
    "\n",
    "#### H0 : smokers_charges <= non_smokers_charges\n",
    "#### Ha : Smokers_charges > non_smokers_charges\n",
    "\n",
    "#### alpha level = 0.05"
   ]
  },
  {
   "cell_type": "code",
   "execution_count": 27,
   "id": "1b72426a",
   "metadata": {},
   "outputs": [],
   "source": [
    "smokers = df[df[\"smoker\"]==\"yes\"][\"hospitalization_charges\"]\n",
    "non_smokers = df[df[\"smoker\"]==\"no\"][\"hospitalization_charges\"]"
   ]
  },
  {
   "cell_type": "code",
   "execution_count": null,
   "id": "7094ea23",
   "metadata": {},
   "outputs": [],
   "source": []
  },
  {
   "cell_type": "code",
   "execution_count": 28,
   "id": "82974259",
   "metadata": {},
   "outputs": [
    {
     "data": {
      "text/plain": [
       "(80125.57299270073, 21085.6757518797)"
      ]
     },
     "execution_count": 28,
     "metadata": {},
     "output_type": "execute_result"
    }
   ],
   "source": [
    "smokers.mean(),non_smokers.mean()"
   ]
  },
  {
   "cell_type": "code",
   "execution_count": 29,
   "id": "087f3984",
   "metadata": {},
   "outputs": [
    {
     "data": {
      "text/plain": [
       "(274, 1064)"
      ]
     },
     "execution_count": 29,
     "metadata": {},
     "output_type": "execute_result"
    }
   ],
   "source": [
    "len(smokers),len(non_smokers)"
   ]
  },
  {
   "cell_type": "code",
   "execution_count": 30,
   "id": "dec62ccf",
   "metadata": {},
   "outputs": [],
   "source": [
    "non_smokers = non_smokers.sample(274)"
   ]
  },
  {
   "cell_type": "code",
   "execution_count": 31,
   "id": "2e3164d3",
   "metadata": {},
   "outputs": [],
   "source": [
    "n1,n2 = len(smokers),len(non_smokers)"
   ]
  },
  {
   "cell_type": "code",
   "execution_count": null,
   "id": "da688893",
   "metadata": {},
   "outputs": [],
   "source": []
  },
  {
   "cell_type": "code",
   "execution_count": 32,
   "id": "9ff80d8c",
   "metadata": {},
   "outputs": [],
   "source": [
    "mean_smokers  = smokers.mean()\n",
    "mean_non_smokers = non_smokers.mean()"
   ]
  },
  {
   "cell_type": "code",
   "execution_count": 33,
   "id": "d4fe40f9",
   "metadata": {},
   "outputs": [
    {
     "data": {
      "text/plain": [
       "(80125.57299270073, 20516.704379562045)"
      ]
     },
     "execution_count": 33,
     "metadata": {},
     "output_type": "execute_result"
    }
   ],
   "source": [
    "mean_smokers,mean_non_smokers"
   ]
  },
  {
   "cell_type": "code",
   "execution_count": 34,
   "id": "2b6b6065",
   "metadata": {},
   "outputs": [],
   "source": [
    "std_smokers  = smokers.std()\n",
    "std_non_smokers = non_smokers.std()"
   ]
  },
  {
   "cell_type": "code",
   "execution_count": null,
   "id": "50ea4b70",
   "metadata": {},
   "outputs": [],
   "source": []
  },
  {
   "cell_type": "code",
   "execution_count": 35,
   "id": "d463622b",
   "metadata": {},
   "outputs": [],
   "source": [
    "test_statistic = (mean_smokers - mean_non_smokers)/(np.sqrt(((std_smokers**2)/(n1))+((std_non_smokers**2)/(n2))))"
   ]
  },
  {
   "cell_type": "code",
   "execution_count": 36,
   "id": "277f4d40",
   "metadata": {},
   "outputs": [
    {
     "data": {
      "text/plain": [
       "30.372817409487563"
      ]
     },
     "execution_count": 36,
     "metadata": {},
     "output_type": "execute_result"
    }
   ],
   "source": [
    "test_statistic"
   ]
  },
  {
   "cell_type": "code",
   "execution_count": 37,
   "id": "4a6ad05e",
   "metadata": {},
   "outputs": [],
   "source": [
    "degreeOfFreedom = n1+n2-2"
   ]
  },
  {
   "cell_type": "code",
   "execution_count": null,
   "id": "2ad42743",
   "metadata": {},
   "outputs": [],
   "source": []
  },
  {
   "cell_type": "code",
   "execution_count": 38,
   "id": "d10d2b43",
   "metadata": {},
   "outputs": [
    {
     "data": {
      "application/javascript": [
       "\n",
       "        if (window._pyforest_update_imports_cell) { window._pyforest_update_imports_cell('import pandas as pd\\nfrom scipy import stats'); }\n",
       "    "
      ],
      "text/plain": [
       "<IPython.core.display.Javascript object>"
      ]
     },
     "metadata": {},
     "output_type": "display_data"
    },
    {
     "data": {
      "text/plain": [
       "0.0"
      ]
     },
     "execution_count": 38,
     "metadata": {},
     "output_type": "execute_result"
    }
   ],
   "source": [
    "1-stats.t.cdf(test_statistic,degreeOfFreedom)"
   ]
  },
  {
   "cell_type": "code",
   "execution_count": 39,
   "id": "f6b618ee",
   "metadata": {},
   "outputs": [
    {
     "data": {
      "application/javascript": [
       "\n",
       "        if (window._pyforest_update_imports_cell) { window._pyforest_update_imports_cell('import pandas as pd\\nfrom scipy import stats'); }\n",
       "    "
      ],
      "text/plain": [
       "<IPython.core.display.Javascript object>"
      ]
     },
     "metadata": {},
     "output_type": "display_data"
    },
    {
     "data": {
      "text/plain": [
       "1.6476491829074837"
      ]
     },
     "execution_count": 39,
     "metadata": {},
     "output_type": "execute_result"
    }
   ],
   "source": [
    "stats.t.ppf(0.95,degreeOfFreedom)"
   ]
  },
  {
   "cell_type": "code",
   "execution_count": null,
   "id": "fb5066d7",
   "metadata": {},
   "outputs": [],
   "source": []
  },
  {
   "cell_type": "code",
   "execution_count": 40,
   "id": "d62bd088",
   "metadata": {},
   "outputs": [
    {
     "data": {
      "application/javascript": [
       "\n",
       "        if (window._pyforest_update_imports_cell) { window._pyforest_update_imports_cell('import pandas as pd\\nfrom scipy import stats'); }\n",
       "    "
      ],
      "text/plain": [
       "<IPython.core.display.Javascript object>"
      ]
     },
     "metadata": {},
     "output_type": "display_data"
    },
    {
     "data": {
      "text/plain": [
       "Ttest_indResult(statistic=30.37281740948757, pvalue=1.0689419805215561e-119)"
      ]
     },
     "execution_count": 40,
     "metadata": {},
     "output_type": "execute_result"
    }
   ],
   "source": [
    "stats.ttest_ind(smokers,non_smokers,    alternative='greater')"
   ]
  },
  {
   "cell_type": "markdown",
   "id": "507c6007",
   "metadata": {},
   "source": [
    "#### from the p-value  we can observe the probability of having hospilization charges for smokers  than non-smokers is is very high. \n"
   ]
  },
  {
   "cell_type": "markdown",
   "id": "3d96540c",
   "metadata": {},
   "source": [
    "#### Thus from hypothesis test , we reject null hypothesis and conclude that hospitalization charges for Smokers are higher than Non Smokers."
   ]
  },
  {
   "cell_type": "code",
   "execution_count": null,
   "id": "655a3973",
   "metadata": {},
   "outputs": [],
   "source": []
  },
  {
   "cell_type": "code",
   "execution_count": null,
   "id": "e0d8f41f",
   "metadata": {},
   "outputs": [],
   "source": []
  },
  {
   "cell_type": "code",
   "execution_count": null,
   "id": "7bcad16b",
   "metadata": {},
   "outputs": [],
   "source": []
  },
  {
   "cell_type": "markdown",
   "id": "14a594f2",
   "metadata": {},
   "source": [
    "## t-test : checking for population , if the hospitalization charges are same for make and female ? "
   ]
  },
  {
   "cell_type": "code",
   "execution_count": 41,
   "id": "c853f2ef",
   "metadata": {},
   "outputs": [
    {
     "data": {
      "text/plain": [
       "<AxesSubplot:xlabel='sex', ylabel='hospitalization_charges'>"
      ]
     },
     "execution_count": 41,
     "metadata": {},
     "output_type": "execute_result"
    },
    {
     "data": {
      "image/png": "[encoded data removed]",
      "text/plain": [
       "<Figure size 432x288 with 1 Axes>"
      ]
     },
     "metadata": {
      "needs_background": "light"
     },
     "output_type": "display_data"
    }
   ],
   "source": [
    "sns.boxplot(y = df[\"hospitalization_charges\"], \n",
    "           x = df[\"sex\"])"
   ]
  },
  {
   "cell_type": "code",
   "execution_count": null,
   "id": "c52d2cba",
   "metadata": {},
   "outputs": [],
   "source": []
  },
  {
   "cell_type": "code",
   "execution_count": 42,
   "id": "9b257c5a",
   "metadata": {},
   "outputs": [],
   "source": [
    "female_charges = df[df[\"sex\"]==\"female\"][\"hospitalization_charges\"].sample(500)\n",
    "male_charges = df[df[\"sex\"]==\"male\"][\"hospitalization_charges\"].sample(500)"
   ]
  },
  {
   "cell_type": "code",
   "execution_count": 43,
   "id": "39d0fb0e",
   "metadata": {},
   "outputs": [
    {
     "data": {
      "text/plain": [
       "(35476.8, 31669.38)"
      ]
     },
     "execution_count": 43,
     "metadata": {},
     "output_type": "execute_result"
    }
   ],
   "source": [
    "male_charges.mean(),female_charges.mean()"
   ]
  },
  {
   "cell_type": "code",
   "execution_count": 44,
   "id": "0c5da925",
   "metadata": {},
   "outputs": [
    {
     "data": {
      "text/plain": [
       "(500, 500)"
      ]
     },
     "execution_count": 44,
     "metadata": {},
     "output_type": "execute_result"
    }
   ],
   "source": [
    "len(male_charges),len(female_charges)"
   ]
  },
  {
   "cell_type": "code",
   "execution_count": 45,
   "id": "e06fd13b",
   "metadata": {},
   "outputs": [],
   "source": [
    "n1,n2 = len(female_charges),len(male_charges)"
   ]
  },
  {
   "cell_type": "code",
   "execution_count": 46,
   "id": "3cb01b49",
   "metadata": {},
   "outputs": [],
   "source": [
    "mean_female_charges  = female_charges.mean()\n",
    "mean_male_charges = male_charges.mean()"
   ]
  },
  {
   "cell_type": "code",
   "execution_count": 47,
   "id": "944d67b4",
   "metadata": {},
   "outputs": [
    {
     "data": {
      "text/plain": [
       "(31669.38, 35476.8)"
      ]
     },
     "execution_count": 47,
     "metadata": {},
     "output_type": "execute_result"
    }
   ],
   "source": [
    "mean_female_charges,mean_male_charges"
   ]
  },
  {
   "cell_type": "code",
   "execution_count": 48,
   "id": "efb8b27f",
   "metadata": {},
   "outputs": [],
   "source": [
    "std_female_charges  = female_charges.std()\n",
    "std_male_charges = male_charges.std()"
   ]
  },
  {
   "cell_type": "code",
   "execution_count": 49,
   "id": "a40edb51",
   "metadata": {},
   "outputs": [],
   "source": [
    "test_statistic = (mean_female_charges - mean_male_charges)/(np.sqrt(((std_female_charges**2)/(n1))+((std_male_charges**2)/(n2))))"
   ]
  },
  {
   "cell_type": "code",
   "execution_count": 50,
   "id": "9c9b161d",
   "metadata": {},
   "outputs": [
    {
     "data": {
      "text/plain": [
       "-1.9803492606148092"
      ]
     },
     "execution_count": 50,
     "metadata": {},
     "output_type": "execute_result"
    }
   ],
   "source": [
    "test_statistic"
   ]
  },
  {
   "cell_type": "code",
   "execution_count": 51,
   "id": "4430e367",
   "metadata": {},
   "outputs": [],
   "source": [
    "degreeOfFreedom = n1+n2-2"
   ]
  },
  {
   "cell_type": "code",
   "execution_count": 52,
   "id": "02f3e560",
   "metadata": {},
   "outputs": [
    {
     "data": {
      "application/javascript": [
       "\n",
       "        if (window._pyforest_update_imports_cell) { window._pyforest_update_imports_cell('import pandas as pd\\nfrom scipy import stats'); }\n",
       "    "
      ],
      "text/plain": [
       "<IPython.core.display.Javascript object>"
      ]
     },
     "metadata": {},
     "output_type": "display_data"
    },
    {
     "data": {
      "text/plain": [
       "0.04793857791205501"
      ]
     },
     "execution_count": 52,
     "metadata": {},
     "output_type": "execute_result"
    }
   ],
   "source": [
    "stats.t.cdf(test_statistic,degreeOfFreedom)*2"
   ]
  },
  {
   "cell_type": "code",
   "execution_count": 53,
   "id": "57bfaeef",
   "metadata": {},
   "outputs": [
    {
     "data": {
      "application/javascript": [
       "\n",
       "        if (window._pyforest_update_imports_cell) { window._pyforest_update_imports_cell('import pandas as pd\\nfrom scipy import stats'); }\n",
       "    "
      ],
      "text/plain": [
       "<IPython.core.display.Javascript object>"
      ]
     },
     "metadata": {},
     "output_type": "display_data"
    },
    {
     "data": {
      "application/javascript": [
       "\n",
       "        if (window._pyforest_update_imports_cell) { window._pyforest_update_imports_cell('import pandas as pd\\nfrom scipy import stats'); }\n",
       "    "
      ],
      "text/plain": [
       "<IPython.core.display.Javascript object>"
      ]
     },
     "metadata": {},
     "output_type": "display_data"
    },
    {
     "data": {
      "text/plain": [
       "(-1.962343846216334, 1.9623438462163336)"
      ]
     },
     "execution_count": 53,
     "metadata": {},
     "output_type": "execute_result"
    }
   ],
   "source": [
    "stats.t.ppf(0.025,degreeOfFreedom),stats.t.ppf(0.975,degreeOfFreedom)"
   ]
  },
  {
   "cell_type": "code",
   "execution_count": 54,
   "id": "e4d03864",
   "metadata": {},
   "outputs": [
    {
     "data": {
      "application/javascript": [
       "\n",
       "        if (window._pyforest_update_imports_cell) { window._pyforest_update_imports_cell('import pandas as pd\\nfrom scipy import stats'); }\n",
       "    "
      ],
      "text/plain": [
       "<IPython.core.display.Javascript object>"
      ]
     },
     "metadata": {},
     "output_type": "display_data"
    },
    {
     "data": {
      "text/plain": [
       "Ttest_indResult(statistic=1.98034926061481, pvalue=0.04793857791205491)"
      ]
     },
     "execution_count": 54,
     "metadata": {},
     "output_type": "execute_result"
    }
   ],
   "source": [
    "stats.ttest_ind(male_charges,female_charges)"
   ]
  },
  {
   "cell_type": "code",
   "execution_count": 55,
   "id": "836e658e",
   "metadata": {},
   "outputs": [
    {
     "data": {
      "application/javascript": [
       "\n",
       "        if (window._pyforest_update_imports_cell) { window._pyforest_update_imports_cell('import pandas as pd\\nfrom scipy import stats'); }\n",
       "    "
      ],
      "text/plain": [
       "<IPython.core.display.Javascript object>"
      ]
     },
     "metadata": {},
     "output_type": "display_data"
    },
    {
     "name": "stdout",
     "output_type": "stream",
     "text": [
      "Ttest_indResult(statistic=0.9276225330840077, pvalue=0.35473278489965365)\n"
     ]
    },
    {
     "data": {
      "application/javascript": [
       "\n",
       "        if (window._pyforest_update_imports_cell) { window._pyforest_update_imports_cell('import pandas as pd\\nfrom scipy import stats'); }\n",
       "    "
      ],
      "text/plain": [
       "<IPython.core.display.Javascript object>"
      ]
     },
     "metadata": {},
     "output_type": "display_data"
    },
    {
     "name": "stdout",
     "output_type": "stream",
     "text": [
      "Ttest_indResult(statistic=2.6437824539154318, pvalue=0.008855345825611335)\n"
     ]
    },
    {
     "data": {
      "application/javascript": [
       "\n",
       "        if (window._pyforest_update_imports_cell) { window._pyforest_update_imports_cell('import pandas as pd\\nfrom scipy import stats'); }\n",
       "    "
      ],
      "text/plain": [
       "<IPython.core.display.Javascript object>"
      ]
     },
     "metadata": {},
     "output_type": "display_data"
    },
    {
     "name": "stdout",
     "output_type": "stream",
     "text": [
      "Ttest_indResult(statistic=0.7352302301477995, pvalue=0.4630692590049075)\n"
     ]
    },
    {
     "data": {
      "application/javascript": [
       "\n",
       "        if (window._pyforest_update_imports_cell) { window._pyforest_update_imports_cell('import pandas as pd\\nfrom scipy import stats'); }\n",
       "    "
      ],
      "text/plain": [
       "<IPython.core.display.Javascript object>"
      ]
     },
     "metadata": {},
     "output_type": "display_data"
    },
    {
     "name": "stdout",
     "output_type": "stream",
     "text": [
      "Ttest_indResult(statistic=1.1796494917061662, pvalue=0.23955506896518777)\n"
     ]
    },
    {
     "data": {
      "application/javascript": [
       "\n",
       "        if (window._pyforest_update_imports_cell) { window._pyforest_update_imports_cell('import pandas as pd\\nfrom scipy import stats'); }\n",
       "    "
      ],
      "text/plain": [
       "<IPython.core.display.Javascript object>"
      ]
     },
     "metadata": {},
     "output_type": "display_data"
    },
    {
     "name": "stdout",
     "output_type": "stream",
     "text": [
      "Ttest_indResult(statistic=1.213891654301668, pvalue=0.2262350333240062)\n"
     ]
    },
    {
     "data": {
      "application/javascript": [
       "\n",
       "        if (window._pyforest_update_imports_cell) { window._pyforest_update_imports_cell('import pandas as pd\\nfrom scipy import stats'); }\n",
       "    "
      ],
      "text/plain": [
       "<IPython.core.display.Javascript object>"
      ]
     },
     "metadata": {},
     "output_type": "display_data"
    },
    {
     "name": "stdout",
     "output_type": "stream",
     "text": [
      "Ttest_indResult(statistic=2.2386125896207063, pvalue=0.026294292613224104)\n"
     ]
    },
    {
     "data": {
      "application/javascript": [
       "\n",
       "        if (window._pyforest_update_imports_cell) { window._pyforest_update_imports_cell('import pandas as pd\\nfrom scipy import stats'); }\n",
       "    "
      ],
      "text/plain": [
       "<IPython.core.display.Javascript object>"
      ]
     },
     "metadata": {},
     "output_type": "display_data"
    },
    {
     "name": "stdout",
     "output_type": "stream",
     "text": [
      "Ttest_indResult(statistic=1.933357162975564, pvalue=0.05461829301734124)\n"
     ]
    },
    {
     "data": {
      "application/javascript": [
       "\n",
       "        if (window._pyforest_update_imports_cell) { window._pyforest_update_imports_cell('import pandas as pd\\nfrom scipy import stats'); }\n",
       "    "
      ],
      "text/plain": [
       "<IPython.core.display.Javascript object>"
      ]
     },
     "metadata": {},
     "output_type": "display_data"
    },
    {
     "name": "stdout",
     "output_type": "stream",
     "text": [
      "Ttest_indResult(statistic=2.507319756812456, pvalue=0.012968918857032401)\n"
     ]
    },
    {
     "data": {
      "application/javascript": [
       "\n",
       "        if (window._pyforest_update_imports_cell) { window._pyforest_update_imports_cell('import pandas as pd\\nfrom scipy import stats'); }\n",
       "    "
      ],
      "text/plain": [
       "<IPython.core.display.Javascript object>"
      ]
     },
     "metadata": {},
     "output_type": "display_data"
    },
    {
     "name": "stdout",
     "output_type": "stream",
     "text": [
      "Ttest_indResult(statistic=0.3596819084727407, pvalue=0.7194683519062408)\n"
     ]
    },
    {
     "data": {
      "application/javascript": [
       "\n",
       "        if (window._pyforest_update_imports_cell) { window._pyforest_update_imports_cell('import pandas as pd\\nfrom scipy import stats'); }\n",
       "    "
      ],
      "text/plain": [
       "<IPython.core.display.Javascript object>"
      ]
     },
     "metadata": {},
     "output_type": "display_data"
    },
    {
     "name": "stdout",
     "output_type": "stream",
     "text": [
      "Ttest_indResult(statistic=-0.5332678035831879, pvalue=0.5944462778666122)\n"
     ]
    }
   ],
   "source": [
    "for r in range(10):\n",
    "    print(stats.ttest_ind(male_charges.sample(100),female_charges.sample(100)))"
   ]
  },
  {
   "cell_type": "markdown",
   "id": "922f4ae7",
   "metadata": {},
   "source": [
    "#### from above ttest , we can observe the significant p-values , so we failed to reject null hypotehsis and hence we can conclude that hospitalization charges are same for male and female ,."
   ]
  },
  {
   "cell_type": "code",
   "execution_count": null,
   "id": "dbeaea6f",
   "metadata": {},
   "outputs": [],
   "source": []
  },
  {
   "cell_type": "code",
   "execution_count": 56,
   "id": "45088779",
   "metadata": {},
   "outputs": [
    {
     "data": {
      "text/plain": [
       "<AxesSubplot:xlabel='hospitalization_charges', ylabel='Density'>"
      ]
     },
     "execution_count": 56,
     "metadata": {},
     "output_type": "execute_result"
    },
    {
     "data": {
      "image/png": "[encoded data removed]",
      "text/plain": [
       "<Figure size 432x288 with 1 Axes>"
      ]
     },
     "metadata": {
      "needs_background": "light"
     },
     "output_type": "display_data"
    }
   ],
   "source": [
    "sns.distplot(df[df[\"sex\"]==\"female\"][\"hospitalization_charges\"])\n",
    "sns.distplot(df[df[\"sex\"]==\"male\"][\"hospitalization_charges\"])"
   ]
  },
  {
   "cell_type": "code",
   "execution_count": 57,
   "id": "93edba20",
   "metadata": {},
   "outputs": [
    {
     "data": {
      "application/javascript": [
       "\n",
       "        if (window._pyforest_update_imports_cell) { window._pyforest_update_imports_cell('import pandas as pd\\nfrom scipy import stats'); }\n",
       "    "
      ],
      "text/plain": [
       "<IPython.core.display.Javascript object>"
      ]
     },
     "metadata": {},
     "output_type": "display_data"
    },
    {
     "name": "stdout",
     "output_type": "stream",
     "text": [
      "KstestResult(statistic=0.076, pvalue=0.11136835555551457)\n"
     ]
    },
    {
     "data": {
      "application/javascript": [
       "\n",
       "        if (window._pyforest_update_imports_cell) { window._pyforest_update_imports_cell('import pandas as pd\\nfrom scipy import stats'); }\n",
       "    "
      ],
      "text/plain": [
       "<IPython.core.display.Javascript object>"
      ]
     },
     "metadata": {},
     "output_type": "display_data"
    },
    {
     "name": "stdout",
     "output_type": "stream",
     "text": [
      "KstestResult(statistic=0.074, pvalue=0.12939616996710074)\n"
     ]
    },
    {
     "data": {
      "application/javascript": [
       "\n",
       "        if (window._pyforest_update_imports_cell) { window._pyforest_update_imports_cell('import pandas as pd\\nfrom scipy import stats'); }\n",
       "    "
      ],
      "text/plain": [
       "<IPython.core.display.Javascript object>"
      ]
     },
     "metadata": {},
     "output_type": "display_data"
    },
    {
     "name": "stdout",
     "output_type": "stream",
     "text": [
      "KstestResult(statistic=0.09, pvalue=0.03479508043637821)\n"
     ]
    },
    {
     "data": {
      "application/javascript": [
       "\n",
       "        if (window._pyforest_update_imports_cell) { window._pyforest_update_imports_cell('import pandas as pd\\nfrom scipy import stats'); }\n",
       "    "
      ],
      "text/plain": [
       "<IPython.core.display.Javascript object>"
      ]
     },
     "metadata": {},
     "output_type": "display_data"
    },
    {
     "name": "stdout",
     "output_type": "stream",
     "text": [
      "KstestResult(statistic=0.08, pvalue=0.08150167321107067)\n"
     ]
    },
    {
     "data": {
      "application/javascript": [
       "\n",
       "        if (window._pyforest_update_imports_cell) { window._pyforest_update_imports_cell('import pandas as pd\\nfrom scipy import stats'); }\n",
       "    "
      ],
      "text/plain": [
       "<IPython.core.display.Javascript object>"
      ]
     },
     "metadata": {},
     "output_type": "display_data"
    },
    {
     "name": "stdout",
     "output_type": "stream",
     "text": [
      "KstestResult(statistic=0.074, pvalue=0.12939616996710074)\n"
     ]
    }
   ],
   "source": [
    "for r in range(5):\n",
    "    print(stats.ks_2samp(data1 = df[df[\"sex\"]==\"female\"][\"hospitalization_charges\"].sample(500),\n",
    "              data2 = df[df[\"sex\"]==\"male\"][\"hospitalization_charges\"].sample(500)))"
   ]
  },
  {
   "cell_type": "markdown",
   "id": "7148d262",
   "metadata": {},
   "source": [
    "#### also for KS- for distribution .,wecan observe the significance value to be greater than 0.05 and hence can conclude the distribution for hospitalization chanrges for male and female is same."
   ]
  },
  {
   "cell_type": "code",
   "execution_count": null,
   "id": "8fb571a6",
   "metadata": {},
   "outputs": [],
   "source": []
  },
  {
   "cell_type": "code",
   "execution_count": null,
   "id": "130bacee",
   "metadata": {},
   "outputs": [],
   "source": []
  },
  {
   "cell_type": "markdown",
   "id": "5c7c0019",
   "metadata": {},
   "source": [
    "## Is the proportion of smoking significantly different across different regions?"
   ]
  },
  {
   "cell_type": "code",
   "execution_count": 98,
   "id": "0299e724",
   "metadata": {},
   "outputs": [
    {
     "data": {
      "application/javascript": [
       "\n",
       "        if (window._pyforest_update_imports_cell) { window._pyforest_update_imports_cell('import pandas as pd\\nfrom scipy import stats'); }\n",
       "    "
      ],
      "text/plain": [
       "<IPython.core.display.Javascript object>"
      ]
     },
     "metadata": {},
     "output_type": "display_data"
    },
    {
     "data": {
      "text/plain": [
       "<AxesSubplot:xlabel='region'>"
      ]
     },
     "execution_count": 98,
     "metadata": {},
     "output_type": "execute_result"
    },
    {
     "data": {
      "image/png": "[encoded data removed]",
      "text/plain": [
       "<Figure size 432x288 with 1 Axes>"
      ]
     },
     "metadata": {
      "needs_background": "light"
     },
     "output_type": "display_data"
    }
   ],
   "source": [
    "pd.crosstab(index = df[\"region\"],\n",
    "           columns= df[\"smoker\"]).plot.bar()"
   ]
  },
  {
   "cell_type": "code",
   "execution_count": 59,
   "id": "747b7f9e",
   "metadata": {},
   "outputs": [
    {
     "data": {
      "application/javascript": [
       "\n",
       "        if (window._pyforest_update_imports_cell) { window._pyforest_update_imports_cell('import pandas as pd\\nfrom scipy import stats'); }\n",
       "    "
      ],
      "text/plain": [
       "<IPython.core.display.Javascript object>"
      ]
     },
     "metadata": {},
     "output_type": "display_data"
    },
    {
     "data": {
      "text/html": [
       "<div>\n",
       "<style scoped>\n",
       "    .dataframe tbody tr th:only-of-type {\n",
       "        vertical-align: middle;\n",
       "    }\n",
       "\n",
       "    .dataframe tbody tr th {\n",
       "        vertical-align: top;\n",
       "    }\n",
       "\n",
       "    .dataframe thead th {\n",
       "        text-align: right;\n",
       "    }\n",
       "</style>\n",
       "<table border=\"1\" class=\"dataframe\">\n",
       "  <thead>\n",
       "    <tr style=\"text-align: right;\">\n",
       "      <th>region</th>\n",
       "      <th>northeast</th>\n",
       "      <th>northwest</th>\n",
       "      <th>southeast</th>\n",
       "      <th>southwest</th>\n",
       "    </tr>\n",
       "    <tr>\n",
       "      <th>smoker</th>\n",
       "      <th></th>\n",
       "      <th></th>\n",
       "      <th></th>\n",
       "      <th></th>\n",
       "    </tr>\n",
       "  </thead>\n",
       "  <tbody>\n",
       "    <tr>\n",
       "      <th>no</th>\n",
       "      <td>257</td>\n",
       "      <td>267</td>\n",
       "      <td>273</td>\n",
       "      <td>267</td>\n",
       "    </tr>\n",
       "    <tr>\n",
       "      <th>yes</th>\n",
       "      <td>67</td>\n",
       "      <td>58</td>\n",
       "      <td>91</td>\n",
       "      <td>58</td>\n",
       "    </tr>\n",
       "  </tbody>\n",
       "</table>\n",
       "</div>"
      ],
      "text/plain": [
       "region  northeast  northwest  southeast  southwest\n",
       "smoker                                            \n",
       "no            257        267        273        267\n",
       "yes            67         58         91         58"
      ]
     },
     "execution_count": 59,
     "metadata": {},
     "output_type": "execute_result"
    }
   ],
   "source": [
    "observed = pd.crosstab(columns = df[\"region\"],\n",
    "           index= df[\"smoker\"])\n",
    "observed"
   ]
  },
  {
   "cell_type": "code",
   "execution_count": 60,
   "id": "fe8fe673",
   "metadata": {},
   "outputs": [],
   "source": [
    "row_sum = np.array(np.sum(observed,axis = 1))\n",
    "\n",
    "col_sum = np.array(np.sum(observed,axis = 0))"
   ]
  },
  {
   "cell_type": "code",
   "execution_count": 61,
   "id": "094395a7",
   "metadata": {},
   "outputs": [
    {
     "data": {
      "text/plain": [
       "(array([1064,  274], dtype=int64), array([324, 325, 364, 325], dtype=int64))"
      ]
     },
     "execution_count": 61,
     "metadata": {},
     "output_type": "execute_result"
    }
   ],
   "source": [
    "row_sum,col_sum"
   ]
  },
  {
   "cell_type": "code",
   "execution_count": 62,
   "id": "8064b8fe",
   "metadata": {},
   "outputs": [
    {
     "data": {
      "text/plain": [
       "1338"
      ]
     },
     "execution_count": 62,
     "metadata": {},
     "output_type": "execute_result"
    }
   ],
   "source": [
    "total_sum = np.sum(np.sum(observed))\n",
    "total_sum"
   ]
  },
  {
   "cell_type": "code",
   "execution_count": 63,
   "id": "b3860c41",
   "metadata": {},
   "outputs": [
    {
     "data": {
      "text/plain": [
       "[array([257.65022422, 258.44544096, 289.45889387, 258.44544096]),\n",
       " array([66.34977578, 66.55455904, 74.54110613, 66.55455904])]"
      ]
     },
     "execution_count": 63,
     "metadata": {},
     "output_type": "execute_result"
    }
   ],
   "source": [
    "expected = []\n",
    "for i in row_sum:\n",
    "    expected.append((i*col_sum)/total_sum)\n",
    "expected"
   ]
  },
  {
   "cell_type": "code",
   "execution_count": 64,
   "id": "4882d9d8",
   "metadata": {},
   "outputs": [
    {
     "data": {
      "application/javascript": [
       "\n",
       "        if (window._pyforest_update_imports_cell) { window._pyforest_update_imports_cell('import pandas as pd\\nfrom scipy import stats'); }\n",
       "    "
      ],
      "text/plain": [
       "<IPython.core.display.Javascript object>"
      ]
     },
     "metadata": {},
     "output_type": "display_data"
    }
   ],
   "source": [
    "expected = pd.DataFrame(expected, columns= observed.columns)"
   ]
  },
  {
   "cell_type": "code",
   "execution_count": 65,
   "id": "e2ee179a",
   "metadata": {},
   "outputs": [],
   "source": [
    "expected.index = observed.index\n"
   ]
  },
  {
   "cell_type": "code",
   "execution_count": 66,
   "id": "c87ca0ab",
   "metadata": {},
   "outputs": [
    {
     "data": {
      "text/html": [
       "<div>\n",
       "<style scoped>\n",
       "    .dataframe tbody tr th:only-of-type {\n",
       "        vertical-align: middle;\n",
       "    }\n",
       "\n",
       "    .dataframe tbody tr th {\n",
       "        vertical-align: top;\n",
       "    }\n",
       "\n",
       "    .dataframe thead th {\n",
       "        text-align: right;\n",
       "    }\n",
       "</style>\n",
       "<table border=\"1\" class=\"dataframe\">\n",
       "  <thead>\n",
       "    <tr style=\"text-align: right;\">\n",
       "      <th>region</th>\n",
       "      <th>northeast</th>\n",
       "      <th>northwest</th>\n",
       "      <th>southeast</th>\n",
       "      <th>southwest</th>\n",
       "    </tr>\n",
       "    <tr>\n",
       "      <th>smoker</th>\n",
       "      <th></th>\n",
       "      <th></th>\n",
       "      <th></th>\n",
       "      <th></th>\n",
       "    </tr>\n",
       "  </thead>\n",
       "  <tbody>\n",
       "    <tr>\n",
       "      <th>no</th>\n",
       "      <td>257.650224</td>\n",
       "      <td>258.445441</td>\n",
       "      <td>289.458894</td>\n",
       "      <td>258.445441</td>\n",
       "    </tr>\n",
       "    <tr>\n",
       "      <th>yes</th>\n",
       "      <td>66.349776</td>\n",
       "      <td>66.554559</td>\n",
       "      <td>74.541106</td>\n",
       "      <td>66.554559</td>\n",
       "    </tr>\n",
       "  </tbody>\n",
       "</table>\n",
       "</div>"
      ],
      "text/plain": [
       "region   northeast   northwest   southeast   southwest\n",
       "smoker                                                \n",
       "no      257.650224  258.445441  289.458894  258.445441\n",
       "yes      66.349776   66.554559   74.541106   66.554559"
      ]
     },
     "execution_count": 66,
     "metadata": {},
     "output_type": "execute_result"
    }
   ],
   "source": [
    "expected"
   ]
  },
  {
   "cell_type": "code",
   "execution_count": 67,
   "id": "7fa1aee3",
   "metadata": {},
   "outputs": [],
   "source": [
    "o_e_2_by_e = ((observed-expected)**2)/expected\n"
   ]
  },
  {
   "cell_type": "code",
   "execution_count": 68,
   "id": "36a15dc0",
   "metadata": {},
   "outputs": [
    {
     "data": {
      "text/plain": [
       "7.343477761407071"
      ]
     },
     "execution_count": 68,
     "metadata": {},
     "output_type": "execute_result"
    }
   ],
   "source": [
    "np.sum(np.sum(o_e_2_by_e))   # test statistic\n"
   ]
  },
  {
   "cell_type": "code",
   "execution_count": 69,
   "id": "35b3dec9",
   "metadata": {},
   "outputs": [
    {
     "data": {
      "application/javascript": [
       "\n",
       "        if (window._pyforest_update_imports_cell) { window._pyforest_update_imports_cell('import pandas as pd\\nfrom scipy import stats'); }\n",
       "    "
      ],
      "text/plain": [
       "<IPython.core.display.Javascript object>"
      ]
     },
     "metadata": {},
     "output_type": "display_data"
    },
    {
     "data": {
      "text/plain": [
       "7.814727903251179"
      ]
     },
     "execution_count": 69,
     "metadata": {},
     "output_type": "execute_result"
    }
   ],
   "source": [
    "stats.chi2.ppf(0.95,df=3)  # chi-sq critical value\n"
   ]
  },
  {
   "cell_type": "code",
   "execution_count": 70,
   "id": "4cdae749",
   "metadata": {},
   "outputs": [
    {
     "data": {
      "application/javascript": [
       "\n",
       "        if (window._pyforest_update_imports_cell) { window._pyforest_update_imports_cell('import pandas as pd\\nfrom scipy import stats'); }\n",
       "    "
      ],
      "text/plain": [
       "<IPython.core.display.Javascript object>"
      ]
     },
     "metadata": {},
     "output_type": "display_data"
    },
    {
     "data": {
      "text/plain": [
       "0.06171954839170546"
      ]
     },
     "execution_count": 70,
     "metadata": {},
     "output_type": "execute_result"
    }
   ],
   "source": [
    "1-stats.chi2.cdf(7.343477761407071,3)"
   ]
  },
  {
   "cell_type": "code",
   "execution_count": null,
   "id": "9556a5dc",
   "metadata": {},
   "outputs": [],
   "source": []
  },
  {
   "cell_type": "code",
   "execution_count": 71,
   "id": "b8bf5fac",
   "metadata": {},
   "outputs": [
    {
     "data": {
      "application/javascript": [
       "\n",
       "        if (window._pyforest_update_imports_cell) { window._pyforest_update_imports_cell('import pandas as pd\\nfrom scipy import stats'); }\n",
       "    "
      ],
      "text/plain": [
       "<IPython.core.display.Javascript object>"
      ]
     },
     "metadata": {},
     "output_type": "display_data"
    },
    {
     "data": {
      "text/plain": [
       "(7.34347776140707,\n",
       " 0.06171954839170547,\n",
       " 3,\n",
       " array([[257.65022422, 258.44544096, 289.45889387, 258.44544096],\n",
       "        [ 66.34977578,  66.55455904,  74.54110613,  66.55455904]]))"
      ]
     },
     "execution_count": 71,
     "metadata": {},
     "output_type": "execute_result"
    }
   ],
   "source": [
    "stats.chi2_contingency(observed)\n"
   ]
  },
  {
   "cell_type": "markdown",
   "id": "ca0d1d71",
   "metadata": {},
   "source": [
    "#### from above chi-square test of independence we failed to reject null hypothesis , hence we conclude that proportion of smoking across different region is same.\n",
    "\n",
    "#### so , smoker is independent of region ! "
   ]
  },
  {
   "cell_type": "code",
   "execution_count": null,
   "id": "c526b8a5",
   "metadata": {},
   "outputs": [],
   "source": []
  },
  {
   "cell_type": "code",
   "execution_count": null,
   "id": "86f58c4e",
   "metadata": {},
   "outputs": [],
   "source": []
  },
  {
   "cell_type": "code",
   "execution_count": null,
   "id": "46e8f93d",
   "metadata": {},
   "outputs": [],
   "source": []
  },
  {
   "cell_type": "code",
   "execution_count": null,
   "id": "6bd9cfa8",
   "metadata": {},
   "outputs": [],
   "source": []
  },
  {
   "cell_type": "code",
   "execution_count": null,
   "id": "28e3d53d",
   "metadata": {},
   "outputs": [],
   "source": []
  },
  {
   "cell_type": "markdown",
   "id": "eb80eb22",
   "metadata": {},
   "source": [
    "### viral_load"
   ]
  },
  {
   "cell_type": "code",
   "execution_count": 72,
   "id": "007a22f7",
   "metadata": {},
   "outputs": [
    {
     "data": {
      "text/plain": [
       "<AxesSubplot:xlabel='viral_load', ylabel='Density'>"
      ]
     },
     "execution_count": 72,
     "metadata": {},
     "output_type": "execute_result"
    },
    {
     "data": {
      "image/png": "[encoded data removed]",
      "text/plain": [
       "<Figure size 432x288 with 1 Axes>"
      ]
     },
     "metadata": {
      "needs_background": "light"
     },
     "output_type": "display_data"
    }
   ],
   "source": [
    "sns.distplot(df[\"viral_load\"])"
   ]
  },
  {
   "cell_type": "code",
   "execution_count": null,
   "id": "4405248e",
   "metadata": {},
   "outputs": [],
   "source": []
  },
  {
   "cell_type": "code",
   "execution_count": 97,
   "id": "7b749913",
   "metadata": {},
   "outputs": [
    {
     "data": {
      "text/plain": [
       "<AxesSubplot:xlabel='viral_load', ylabel='Density'>"
      ]
     },
     "execution_count": 97,
     "metadata": {},
     "output_type": "execute_result"
    },
    {
     "data": {
      "image/png": "[encoded data removed]",
      "text/plain": [
       "<Figure size 432x288 with 1 Axes>"
      ]
     },
     "metadata": {
      "needs_background": "light"
     },
     "output_type": "display_data"
    }
   ],
   "source": [
    "sns.distplot(df.loc[df[\"sex\"]==\"male\"][\"viral_load\"])\n",
    "sns.distplot(df.loc[df[\"sex\"]==\"female\"][\"viral_load\"])"
   ]
  },
  {
   "cell_type": "code",
   "execution_count": null,
   "id": "9a72248d",
   "metadata": {},
   "outputs": [],
   "source": []
  },
  {
   "cell_type": "code",
   "execution_count": 73,
   "id": "a3b8c85c",
   "metadata": {},
   "outputs": [
    {
     "data": {
      "application/javascript": [
       "\n",
       "        if (window._pyforest_update_imports_cell) { window._pyforest_update_imports_cell('import pandas as pd\\nfrom scipy import stats'); }\n",
       "    "
      ],
      "text/plain": [
       "<IPython.core.display.Javascript object>"
      ]
     },
     "metadata": {},
     "output_type": "display_data"
    },
    {
     "data": {
      "text/plain": [
       "<AxesSubplot:xlabel='severity_level'>"
      ]
     },
     "execution_count": 73,
     "metadata": {},
     "output_type": "execute_result"
    },
    {
     "data": {
      "image/png": "[encoded data removed]",
      "text/plain": [
       "<Figure size 432x288 with 1 Axes>"
      ]
     },
     "metadata": {
      "needs_background": "light"
     },
     "output_type": "display_data"
    }
   ],
   "source": [
    "pd.crosstab(columns = df[\"sex\"],\n",
    "           index  = df[\"severity_level\"],\n",
    "           values = df[\"viral_load\"],\n",
    "           aggfunc = np.mean).plot.bar()"
   ]
  },
  {
   "cell_type": "markdown",
   "id": "49120746",
   "metadata": {},
   "source": [
    "#### from above bar plot , we can observe the mean viral load as per different severirty level is similar for male and female."
   ]
  },
  {
   "cell_type": "code",
   "execution_count": 74,
   "id": "2c6d9f6f",
   "metadata": {},
   "outputs": [
    {
     "data": {
      "application/javascript": [
       "\n",
       "        if (window._pyforest_update_imports_cell) { window._pyforest_update_imports_cell('import pandas as pd\\nfrom scipy import stats'); }\n",
       "    "
      ],
      "text/plain": [
       "<IPython.core.display.Javascript object>"
      ]
     },
     "metadata": {},
     "output_type": "display_data"
    },
    {
     "data": {
      "text/html": [
       "<div>\n",
       "<style scoped>\n",
       "    .dataframe tbody tr th:only-of-type {\n",
       "        vertical-align: middle;\n",
       "    }\n",
       "\n",
       "    .dataframe tbody tr th {\n",
       "        vertical-align: top;\n",
       "    }\n",
       "\n",
       "    .dataframe thead th {\n",
       "        text-align: right;\n",
       "    }\n",
       "</style>\n",
       "<table border=\"1\" class=\"dataframe\">\n",
       "  <thead>\n",
       "    <tr style=\"text-align: right;\">\n",
       "      <th>sex</th>\n",
       "      <th>female</th>\n",
       "      <th>male</th>\n",
       "    </tr>\n",
       "    <tr>\n",
       "      <th>severity_level</th>\n",
       "      <th></th>\n",
       "      <th></th>\n",
       "    </tr>\n",
       "  </thead>\n",
       "  <tbody>\n",
       "    <tr>\n",
       "      <th>0</th>\n",
       "      <td>10.120727</td>\n",
       "      <td>10.247544</td>\n",
       "    </tr>\n",
       "    <tr>\n",
       "      <th>1</th>\n",
       "      <td>10.017468</td>\n",
       "      <td>10.388494</td>\n",
       "    </tr>\n",
       "    <tr>\n",
       "      <th>2</th>\n",
       "      <td>10.216807</td>\n",
       "      <td>10.433554</td>\n",
       "    </tr>\n",
       "    <tr>\n",
       "      <th>3</th>\n",
       "      <td>10.145974</td>\n",
       "      <td>10.307375</td>\n",
       "    </tr>\n",
       "    <tr>\n",
       "      <th>4</th>\n",
       "      <td>10.647273</td>\n",
       "      <td>10.320000</td>\n",
       "    </tr>\n",
       "    <tr>\n",
       "      <th>5</th>\n",
       "      <td>10.206250</td>\n",
       "      <td>9.598000</td>\n",
       "    </tr>\n",
       "  </tbody>\n",
       "</table>\n",
       "</div>"
      ],
      "text/plain": [
       "sex                female       male\n",
       "severity_level                      \n",
       "0               10.120727  10.247544\n",
       "1               10.017468  10.388494\n",
       "2               10.216807  10.433554\n",
       "3               10.145974  10.307375\n",
       "4               10.647273  10.320000\n",
       "5               10.206250   9.598000"
      ]
     },
     "execution_count": 74,
     "metadata": {},
     "output_type": "execute_result"
    }
   ],
   "source": [
    "pd.crosstab(columns = df[\"sex\"],\n",
    "           index  = df[\"severity_level\"],\n",
    "           values = df[\"viral_load\"],\n",
    "           aggfunc = np.mean)"
   ]
  },
  {
   "cell_type": "code",
   "execution_count": 75,
   "id": "4010ca9a",
   "metadata": {},
   "outputs": [
    {
     "data": {
      "application/javascript": [
       "\n",
       "        if (window._pyforest_update_imports_cell) { window._pyforest_update_imports_cell('import pandas as pd\\nfrom scipy import stats'); }\n",
       "    "
      ],
      "text/plain": [
       "<IPython.core.display.Javascript object>"
      ]
     },
     "metadata": {},
     "output_type": "display_data"
    },
    {
     "data": {
      "image/png": "[encoded data removed]",
      "text/plain": [
       "<Figure size 432x288 with 1 Axes>"
      ]
     },
     "metadata": {
      "needs_background": "light"
     },
     "output_type": "display_data"
    }
   ],
   "source": [
    "pd.crosstab(columns = df[\"sex\"],\n",
    "           index  = df[\"severity_level\"],\n",
    "           values = df[\"viral_load\"],\n",
    "           aggfunc = np.mean).plot()\n",
    "plt.ylim(7,12)\n",
    "plt.show()"
   ]
  },
  {
   "cell_type": "code",
   "execution_count": 76,
   "id": "cb0476f0",
   "metadata": {},
   "outputs": [
    {
     "data": {
      "text/plain": [
       "<AxesSubplot:xlabel='viral_load', ylabel='Density'>"
      ]
     },
     "execution_count": 76,
     "metadata": {},
     "output_type": "execute_result"
    },
    {
     "data": {
      "image/png": "[encoded data removed]",
      "text/plain": [
       "<Figure size 432x288 with 1 Axes>"
      ]
     },
     "metadata": {
      "needs_background": "light"
     },
     "output_type": "display_data"
    }
   ],
   "source": [
    "sns.kdeplot(df[df[\"severity_level\"]==0][\"viral_load\"])\n",
    "sns.kdeplot(df[df[\"severity_level\"]==1][\"viral_load\"])\n",
    "sns.kdeplot(df[df[\"severity_level\"]==2][\"viral_load\"])\n",
    "sns.kdeplot(df[df[\"severity_level\"]==3][\"viral_load\"])\n",
    "sns.kdeplot(df[df[\"severity_level\"]==4][\"viral_load\"])\n",
    "sns.kdeplot(df[df[\"severity_level\"]==5][\"viral_load\"])"
   ]
  },
  {
   "cell_type": "code",
   "execution_count": null,
   "id": "16e8440c",
   "metadata": {},
   "outputs": [],
   "source": []
  },
  {
   "cell_type": "code",
   "execution_count": 77,
   "id": "952c8626",
   "metadata": {},
   "outputs": [
    {
     "data": {
      "image/png": "[encoded data removed]",
      "text/plain": [
       "<Figure size 432x288 with 1 Axes>"
      ]
     },
     "metadata": {
      "needs_background": "light"
     },
     "output_type": "display_data"
    }
   ],
   "source": [
    "sm.qqplot((df[df[\"severity_level\"]==0][\"viral_load\"]))\n",
    "plt.show()"
   ]
  },
  {
   "cell_type": "code",
   "execution_count": null,
   "id": "64f9f5dc",
   "metadata": {},
   "outputs": [],
   "source": []
  },
  {
   "cell_type": "code",
   "execution_count": null,
   "id": "c01d7942",
   "metadata": {},
   "outputs": [],
   "source": []
  },
  {
   "cell_type": "code",
   "execution_count": 78,
   "id": "08ee1148",
   "metadata": {},
   "outputs": [
    {
     "data": {
      "text/plain": [
       "(10.183693379790936,\n",
       " 10.207561728395063,\n",
       " 10.326083333333333,\n",
       " 10.22821656050955,\n",
       " 10.464,\n",
       " 9.868333333333332)"
      ]
     },
     "execution_count": 78,
     "metadata": {},
     "output_type": "execute_result"
    }
   ],
   "source": [
    "df[df[\"severity_level\"]==0][\"viral_load\"].mean(),df[df[\"severity_level\"]==1][\"viral_load\"].mean(),df[df[\"severity_level\"]==2][\"viral_load\"].mean(),df[df[\"severity_level\"]==3][\"viral_load\"].mean(),df[df[\"severity_level\"]==4][\"viral_load\"].mean(),df[df[\"severity_level\"]==5][\"viral_load\"].mean()"
   ]
  },
  {
   "cell_type": "code",
   "execution_count": 79,
   "id": "63155f50",
   "metadata": {},
   "outputs": [
    {
     "data": {
      "application/javascript": [
       "\n",
       "        if (window._pyforest_update_imports_cell) { window._pyforest_update_imports_cell('import pandas as pd\\nfrom scipy import stats'); }\n",
       "    "
      ],
      "text/plain": [
       "<IPython.core.display.Javascript object>"
      ]
     },
     "metadata": {},
     "output_type": "display_data"
    },
    {
     "data": {
      "text/plain": [
       "F_onewayResult(statistic=0.3491094504719582, pvalue=0.883007195713889)"
      ]
     },
     "execution_count": 79,
     "metadata": {},
     "output_type": "execute_result"
    }
   ],
   "source": [
    "stats.f_oneway(df[df[\"severity_level\"]==0][\"viral_load\"],\n",
    "df[df[\"severity_level\"]==1][\"viral_load\"],\n",
    "df[df[\"severity_level\"]==2][\"viral_load\"],\n",
    "df[df[\"severity_level\"]==3][\"viral_load\"],\n",
    "df[df[\"severity_level\"]==4][\"viral_load\"],\n",
    "df[df[\"severity_level\"]==5][\"viral_load\"])"
   ]
  },
  {
   "cell_type": "code",
   "execution_count": null,
   "id": "ec7886b7",
   "metadata": {},
   "outputs": [],
   "source": []
  },
  {
   "cell_type": "code",
   "execution_count": null,
   "id": "58d9aea6",
   "metadata": {},
   "outputs": [],
   "source": []
  },
  {
   "cell_type": "code",
   "execution_count": 80,
   "id": "65004d38",
   "metadata": {},
   "outputs": [],
   "source": [
    "womendata = df[df[\"sex\"]==\"female\"]"
   ]
  },
  {
   "cell_type": "code",
   "execution_count": 81,
   "id": "0176c39a",
   "metadata": {},
   "outputs": [
    {
     "data": {
      "application/javascript": [
       "\n",
       "        if (window._pyforest_update_imports_cell) { window._pyforest_update_imports_cell('import pandas as pd\\nfrom scipy import stats'); }\n",
       "    "
      ],
      "text/plain": [
       "<IPython.core.display.Javascript object>"
      ]
     },
     "metadata": {},
     "output_type": "display_data"
    },
    {
     "data": {
      "text/plain": [
       "F_onewayResult(statistic=0.2900065466233716, pvalue=0.9185708092374022)"
      ]
     },
     "execution_count": 81,
     "metadata": {},
     "output_type": "execute_result"
    }
   ],
   "source": [
    "stats.f_oneway(womendata[womendata[\"severity_level\"]==0][\"viral_load\"],\n",
    "womendata[womendata[\"severity_level\"]==1][\"viral_load\"],\n",
    "womendata[womendata[\"severity_level\"]==2][\"viral_load\"],\n",
    "womendata[womendata[\"severity_level\"]==3][\"viral_load\"],\n",
    "womendata[womendata[\"severity_level\"]==4][\"viral_load\"],\n",
    "womendata[womendata[\"severity_level\"]==5][\"viral_load\"])"
   ]
  },
  {
   "cell_type": "markdown",
   "id": "b0687d23",
   "metadata": {},
   "source": [
    "#### from the anova test , we can observe the viral load across different severity level is similar."
   ]
  },
  {
   "cell_type": "code",
   "execution_count": null,
   "id": "688609cf",
   "metadata": {},
   "outputs": [],
   "source": []
  },
  {
   "cell_type": "code",
   "execution_count": null,
   "id": "2a93d735",
   "metadata": {},
   "outputs": [],
   "source": []
  },
  {
   "cell_type": "code",
   "execution_count": null,
   "id": "0c129a79",
   "metadata": {},
   "outputs": [],
   "source": []
  },
  {
   "cell_type": "code",
   "execution_count": null,
   "id": "f8c54423",
   "metadata": {},
   "outputs": [],
   "source": []
  },
  {
   "cell_type": "code",
   "execution_count": 82,
   "id": "2cab9b0a",
   "metadata": {},
   "outputs": [
    {
     "data": {
      "text/plain": [
       "Index(['age', 'sex', 'smoker', 'region', 'viral_load', 'severity_level',\n",
       "       'hospitalization_charges'],\n",
       "      dtype='object')"
      ]
     },
     "execution_count": 82,
     "metadata": {},
     "output_type": "execute_result"
    }
   ],
   "source": [
    "df.columns"
   ]
  },
  {
   "cell_type": "code",
   "execution_count": 83,
   "id": "b1f11aca",
   "metadata": {},
   "outputs": [
    {
     "data": {
      "text/plain": [
       "<seaborn.axisgrid.JointGrid at 0x20414131850>"
      ]
     },
     "execution_count": 83,
     "metadata": {},
     "output_type": "execute_result"
    },
    {
     "data": {
      "image/png": "[encoded data removed]",
      "text/plain": [
       "<Figure size 432x432 with 3 Axes>"
      ]
     },
     "metadata": {
      "needs_background": "light"
     },
     "output_type": "display_data"
    }
   ],
   "source": [
    "sns.jointplot(df[\"viral_load\"],df[\"hospitalization_charges\"],kind=\"reg\")"
   ]
  },
  {
   "cell_type": "code",
   "execution_count": 84,
   "id": "a54aded8",
   "metadata": {},
   "outputs": [
    {
     "data": {
      "text/plain": [
       "array([[1.        , 0.19838753],\n",
       "       [0.19838753, 1.        ]])"
      ]
     },
     "execution_count": 84,
     "metadata": {},
     "output_type": "execute_result"
    }
   ],
   "source": [
    "np.corrcoef(df[\"viral_load\"],df[\"hospitalization_charges\"])"
   ]
  },
  {
   "cell_type": "markdown",
   "id": "ba59dd22",
   "metadata": {},
   "source": [
    "#### there's a very low correlation between viral load and hospitalization charges."
   ]
  },
  {
   "cell_type": "code",
   "execution_count": 85,
   "id": "13be59d5",
   "metadata": {},
   "outputs": [
    {
     "data": {
      "text/plain": [
       "<seaborn.axisgrid.JointGrid at 0x204142a12e0>"
      ]
     },
     "execution_count": 85,
     "metadata": {},
     "output_type": "execute_result"
    },
    {
     "data": {
      "image/png": "[encoded data removed]",
      "text/plain": [
       "<Figure size 432x432 with 3 Axes>"
      ]
     },
     "metadata": {
      "needs_background": "light"
     },
     "output_type": "display_data"
    }
   ],
   "source": [
    "sns.jointplot(df[\"age\"],df[\"hospitalization_charges\"])"
   ]
  },
  {
   "cell_type": "code",
   "execution_count": 86,
   "id": "c5d3779f",
   "metadata": {},
   "outputs": [
    {
     "data": {
      "text/html": [
       "<div>\n",
       "<style scoped>\n",
       "    .dataframe tbody tr th:only-of-type {\n",
       "        vertical-align: middle;\n",
       "    }\n",
       "\n",
       "    .dataframe tbody tr th {\n",
       "        vertical-align: top;\n",
       "    }\n",
       "\n",
       "    .dataframe thead th {\n",
       "        text-align: right;\n",
       "    }\n",
       "</style>\n",
       "<table border=\"1\" class=\"dataframe\">\n",
       "  <thead>\n",
       "    <tr style=\"text-align: right;\">\n",
       "      <th></th>\n",
       "      <th>age</th>\n",
       "      <th>hospitalization_charges</th>\n",
       "    </tr>\n",
       "  </thead>\n",
       "  <tbody>\n",
       "    <tr>\n",
       "      <th>age</th>\n",
       "      <td>1.000000</td>\n",
       "      <td>0.299008</td>\n",
       "    </tr>\n",
       "    <tr>\n",
       "      <th>hospitalization_charges</th>\n",
       "      <td>0.299008</td>\n",
       "      <td>1.000000</td>\n",
       "    </tr>\n",
       "  </tbody>\n",
       "</table>\n",
       "</div>"
      ],
      "text/plain": [
       "                              age  hospitalization_charges\n",
       "age                      1.000000                 0.299008\n",
       "hospitalization_charges  0.299008                 1.000000"
      ]
     },
     "execution_count": 86,
     "metadata": {},
     "output_type": "execute_result"
    }
   ],
   "source": [
    "df[[\"age\",\"hospitalization_charges\"]].corr()"
   ]
  },
  {
   "cell_type": "code",
   "execution_count": null,
   "id": "02cc2f3a",
   "metadata": {},
   "outputs": [],
   "source": []
  },
  {
   "cell_type": "code",
   "execution_count": 87,
   "id": "034929d2",
   "metadata": {},
   "outputs": [
    {
     "data": {
      "text/plain": [
       "<AxesSubplot:>"
      ]
     },
     "execution_count": 87,
     "metadata": {},
     "output_type": "execute_result"
    },
    {
     "data": {
      "image/png": "[encoded data removed]",
      "text/plain": [
       "<Figure size 432x288 with 2 Axes>"
      ]
     },
     "metadata": {
      "needs_background": "light"
     },
     "output_type": "display_data"
    }
   ],
   "source": [
    "sns.heatmap(df.corr(),annot=True, cmap = \"Blues\")"
   ]
  },
  {
   "cell_type": "markdown",
   "id": "55e46158",
   "metadata": {},
   "source": [
    "#### there seems to be a postitive correlation between hospitalization charges and age. "
   ]
  },
  {
   "cell_type": "code",
   "execution_count": null,
   "id": "170cc6e2",
   "metadata": {},
   "outputs": [],
   "source": []
  },
  {
   "cell_type": "code",
   "execution_count": null,
   "id": "be854b5c",
   "metadata": {},
   "outputs": [],
   "source": []
  },
  {
   "cell_type": "markdown",
   "id": "6a097f77",
   "metadata": {},
   "source": [
    "# Confidence Interval : "
   ]
  },
  {
   "cell_type": "code",
   "execution_count": null,
   "id": "b66a15ca",
   "metadata": {},
   "outputs": [],
   "source": []
  },
  {
   "cell_type": "code",
   "execution_count": null,
   "id": "87dc9ac2",
   "metadata": {},
   "outputs": [],
   "source": []
  },
  {
   "cell_type": "code",
   "execution_count": null,
   "id": "c4a194b5",
   "metadata": {},
   "outputs": [],
   "source": []
  },
  {
   "cell_type": "code",
   "execution_count": null,
   "id": "7dd2a4b8",
   "metadata": {},
   "outputs": [],
   "source": []
  },
  {
   "cell_type": "code",
   "execution_count": null,
   "id": "8bf869f5",
   "metadata": {},
   "outputs": [],
   "source": []
  }
 ],
 "metadata": {
  "kernelspec": {
   "display_name": "Python 3 (ipykernel)",
   "language": "python",
   "name": "python3"
  },
  "language_info": {
   "codemirror_mode": {
    "name": "ipython",
    "version": 3
   },
   "file_extension": ".py",
   "mimetype": "text/x-python",
   "name": "python",
   "nbconvert_exporter": "python",
   "pygments_lexer": "ipython3",
   "version": "3.9.7"
  }
 },
 "nbformat": 4,
 "nbformat_minor": 5
}
