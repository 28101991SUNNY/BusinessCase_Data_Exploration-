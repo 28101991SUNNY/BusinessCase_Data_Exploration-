{
 "cells": [
  {
   "cell_type": "markdown",
   "id": "98b8e106",
   "metadata": {},
   "source": [
    "\n",
    "## Context\n",
    "\n",
    "### Apollo Hospitals was established in 1983, renowned as the architect of modern healthcare in India. As the nation's first corporate hospital, Apollo Hospitals is acclaimed for pioneering the private healthcare revolution in the country.\n",
    "\n",
    "\n",
    "\n",
    "#### As a data scientist working at Apollo 24/7, the ultimate goal is to tease out meaningful and actionable insights from Patient-level collected data.\n",
    "\n",
    "#### You can help Apollo hospitals to be more efficient, to influence diagnostic and treatment processes, to map the spread of a pandemic.\n",
    "\n",
    "\n",
    "\n",
    "#### One of the best examples of data scientists making a meaningful difference at a global level is in the response to the COVID-19 pandemic, where they have improved information collection, provided ongoing and accurate estimates of infection spread and health system demand, and assessed the effectiveness of government policies.\n",
    "\n",
    "## Problem Statement : \n",
    "\n",
    "- The company wants to know:\n",
    "\n",
    "- • Which variables are significant in predicting the reason for hospitalization for different regions\n",
    "\n",
    "- • How well some variables like viral load, smoking, Severity Level describe the hospitalization charges\n",
    "\n",
    "\n",
    "\n",
    "### Column Profiling\n",
    "\n",
    "    Age: This is an integer indicating the age of the primary beneficiary (excluding those above 64 years, since they are generally covered by the government).\n",
    "    Sex: This is the policy holder's gender, either male or female\n",
    "    Viral Load: Viral load refers to the amount of virus in an infected person's blood\n",
    "    Severity Level: This is an integer indicating how severe the patient is\n",
    "    Smoker: This is yes or no depending on whether the insured regularly smokes tobacco.\n",
    "    Region: This is the beneficiary's place of residence in Delhi, divided into four geographic regions - northeast, southeast, southwest, or northwest\n",
    "    Hospitalization charges: Individual medical costs billed to health insurance\n",
    "\n",
    "- Concept Used:\n",
    "\n",
    "        Graphical and Non-Graphical Analysis\n",
    "        2-sample t-test: testing for difference across populations\n",
    "        ANOVA\n",
    "        Chi-square\n",
    "\n",
    "\n",
    "\n"
   ]
  },
  {
   "cell_type": "code",
   "execution_count": null,
   "id": "86da64bd",
   "metadata": {},
   "outputs": [],
   "source": []
  },
  {
   "cell_type": "code",
   "execution_count": 1,
   "id": "15009d10",
   "metadata": {},
   "outputs": [],
   "source": [
    "import numpy as np\n",
    "import seaborn as sns\n",
    "import matplotlib.pyplot as plt\n",
    "from matplotlib import figure\n",
    "\n",
    "import statsmodels.api as sm\n",
    "from scipy.stats import norm\n",
    "from scipy.stats import t\n",
    "from scipy.stats import binom\n",
    "\n",
    "import warnings\n",
    "warnings.filterwarnings('ignore')\n",
    "sns.set(font_scale= 1)"
   ]
  },
  {
   "cell_type": "code",
   "execution_count": 2,
   "id": "04c539df",
   "metadata": {},
   "outputs": [
    {
     "data": {
      "application/javascript": [
       "\n",
       "        if (window._pyforest_update_imports_cell) { window._pyforest_update_imports_cell('import pandas as pd'); }\n",
       "    "
      ],
      "text/plain": [
       "<IPython.core.display.Javascript object>"
      ]
     },
     "metadata": {},
     "output_type": "display_data"
    }
   ],
   "source": [
    "df= pd.read_csv(\"scaler_apollo_hospitals.csv\",index_col=0)"
   ]
  },
  {
   "cell_type": "code",
   "execution_count": 3,
   "id": "8b1cd760",
   "metadata": {},
   "outputs": [
    {
     "data": {
      "text/html": [
       "<div>\n",
       "<style scoped>\n",
       "    .dataframe tbody tr th:only-of-type {\n",
       "        vertical-align: middle;\n",
       "    }\n",
       "\n",
       "    .dataframe tbody tr th {\n",
       "        vertical-align: top;\n",
       "    }\n",
       "\n",
       "    .dataframe thead th {\n",
       "        text-align: right;\n",
       "    }\n",
       "</style>\n",
       "<table border=\"1\" class=\"dataframe\">\n",
       "  <thead>\n",
       "    <tr style=\"text-align: right;\">\n",
       "      <th></th>\n",
       "      <th>age</th>\n",
       "      <th>sex</th>\n",
       "      <th>smoker</th>\n",
       "      <th>region</th>\n",
       "      <th>viral load</th>\n",
       "      <th>severity level</th>\n",
       "      <th>hospitalization charges</th>\n",
       "    </tr>\n",
       "  </thead>\n",
       "  <tbody>\n",
       "    <tr>\n",
       "      <th>0</th>\n",
       "      <td>19</td>\n",
       "      <td>female</td>\n",
       "      <td>yes</td>\n",
       "      <td>southwest</td>\n",
       "      <td>9.30</td>\n",
       "      <td>0</td>\n",
       "      <td>42212</td>\n",
       "    </tr>\n",
       "    <tr>\n",
       "      <th>1</th>\n",
       "      <td>18</td>\n",
       "      <td>male</td>\n",
       "      <td>no</td>\n",
       "      <td>southeast</td>\n",
       "      <td>11.26</td>\n",
       "      <td>1</td>\n",
       "      <td>4314</td>\n",
       "    </tr>\n",
       "    <tr>\n",
       "      <th>2</th>\n",
       "      <td>28</td>\n",
       "      <td>male</td>\n",
       "      <td>no</td>\n",
       "      <td>southeast</td>\n",
       "      <td>11.00</td>\n",
       "      <td>3</td>\n",
       "      <td>11124</td>\n",
       "    </tr>\n",
       "    <tr>\n",
       "      <th>3</th>\n",
       "      <td>33</td>\n",
       "      <td>male</td>\n",
       "      <td>no</td>\n",
       "      <td>northwest</td>\n",
       "      <td>7.57</td>\n",
       "      <td>0</td>\n",
       "      <td>54961</td>\n",
       "    </tr>\n",
       "    <tr>\n",
       "      <th>4</th>\n",
       "      <td>32</td>\n",
       "      <td>male</td>\n",
       "      <td>no</td>\n",
       "      <td>northwest</td>\n",
       "      <td>9.63</td>\n",
       "      <td>0</td>\n",
       "      <td>9667</td>\n",
       "    </tr>\n",
       "    <tr>\n",
       "      <th>...</th>\n",
       "      <td>...</td>\n",
       "      <td>...</td>\n",
       "      <td>...</td>\n",
       "      <td>...</td>\n",
       "      <td>...</td>\n",
       "      <td>...</td>\n",
       "      <td>...</td>\n",
       "    </tr>\n",
       "    <tr>\n",
       "      <th>1333</th>\n",
       "      <td>50</td>\n",
       "      <td>male</td>\n",
       "      <td>no</td>\n",
       "      <td>northwest</td>\n",
       "      <td>10.32</td>\n",
       "      <td>3</td>\n",
       "      <td>26501</td>\n",
       "    </tr>\n",
       "    <tr>\n",
       "      <th>1334</th>\n",
       "      <td>18</td>\n",
       "      <td>female</td>\n",
       "      <td>no</td>\n",
       "      <td>northeast</td>\n",
       "      <td>10.64</td>\n",
       "      <td>0</td>\n",
       "      <td>5515</td>\n",
       "    </tr>\n",
       "    <tr>\n",
       "      <th>1335</th>\n",
       "      <td>18</td>\n",
       "      <td>female</td>\n",
       "      <td>no</td>\n",
       "      <td>southeast</td>\n",
       "      <td>12.28</td>\n",
       "      <td>0</td>\n",
       "      <td>4075</td>\n",
       "    </tr>\n",
       "    <tr>\n",
       "      <th>1336</th>\n",
       "      <td>21</td>\n",
       "      <td>female</td>\n",
       "      <td>no</td>\n",
       "      <td>southwest</td>\n",
       "      <td>8.60</td>\n",
       "      <td>0</td>\n",
       "      <td>5020</td>\n",
       "    </tr>\n",
       "    <tr>\n",
       "      <th>1337</th>\n",
       "      <td>61</td>\n",
       "      <td>female</td>\n",
       "      <td>yes</td>\n",
       "      <td>northwest</td>\n",
       "      <td>9.69</td>\n",
       "      <td>0</td>\n",
       "      <td>72853</td>\n",
       "    </tr>\n",
       "  </tbody>\n",
       "</table>\n",
       "<p>1338 rows × 7 columns</p>\n",
       "</div>"
      ],
      "text/plain": [
       "      age     sex smoker     region  viral load  severity level  \\\n",
       "0      19  female    yes  southwest        9.30               0   \n",
       "1      18    male     no  southeast       11.26               1   \n",
       "2      28    male     no  southeast       11.00               3   \n",
       "3      33    male     no  northwest        7.57               0   \n",
       "4      32    male     no  northwest        9.63               0   \n",
       "...   ...     ...    ...        ...         ...             ...   \n",
       "1333   50    male     no  northwest       10.32               3   \n",
       "1334   18  female     no  northeast       10.64               0   \n",
       "1335   18  female     no  southeast       12.28               0   \n",
       "1336   21  female     no  southwest        8.60               0   \n",
       "1337   61  female    yes  northwest        9.69               0   \n",
       "\n",
       "      hospitalization charges  \n",
       "0                       42212  \n",
       "1                        4314  \n",
       "2                       11124  \n",
       "3                       54961  \n",
       "4                        9667  \n",
       "...                       ...  \n",
       "1333                    26501  \n",
       "1334                     5515  \n",
       "1335                     4075  \n",
       "1336                     5020  \n",
       "1337                    72853  \n",
       "\n",
       "[1338 rows x 7 columns]"
      ]
     },
     "execution_count": 3,
     "metadata": {},
     "output_type": "execute_result"
    }
   ],
   "source": [
    "df"
   ]
  },
  {
   "cell_type": "code",
   "execution_count": 4,
   "id": "93762ec7",
   "metadata": {},
   "outputs": [
    {
     "data": {
      "text/plain": [
       "(1338, 7)"
      ]
     },
     "execution_count": 4,
     "metadata": {},
     "output_type": "execute_result"
    }
   ],
   "source": [
    "df.shape"
   ]
  },
  {
   "cell_type": "code",
   "execution_count": 5,
   "id": "610f8eb2",
   "metadata": {},
   "outputs": [
    {
     "name": "stdout",
     "output_type": "stream",
     "text": [
      "<class 'pandas.core.frame.DataFrame'>\n",
      "Int64Index: 1338 entries, 0 to 1337\n",
      "Data columns (total 7 columns):\n",
      " #   Column                   Non-Null Count  Dtype  \n",
      "---  ------                   --------------  -----  \n",
      " 0   age                      1338 non-null   int64  \n",
      " 1   sex                      1338 non-null   object \n",
      " 2   smoker                   1338 non-null   object \n",
      " 3   region                   1338 non-null   object \n",
      " 4   viral load               1338 non-null   float64\n",
      " 5   severity level           1338 non-null   int64  \n",
      " 6   hospitalization charges  1338 non-null   int64  \n",
      "dtypes: float64(1), int64(3), object(3)\n",
      "memory usage: 83.6+ KB\n"
     ]
    }
   ],
   "source": [
    "df.info()"
   ]
  },
  {
   "cell_type": "code",
   "execution_count": 6,
   "id": "b225eb24",
   "metadata": {},
   "outputs": [
    {
     "data": {
      "text/html": [
       "<div>\n",
       "<style scoped>\n",
       "    .dataframe tbody tr th:only-of-type {\n",
       "        vertical-align: middle;\n",
       "    }\n",
       "\n",
       "    .dataframe tbody tr th {\n",
       "        vertical-align: top;\n",
       "    }\n",
       "\n",
       "    .dataframe thead th {\n",
       "        text-align: right;\n",
       "    }\n",
       "</style>\n",
       "<table border=\"1\" class=\"dataframe\">\n",
       "  <thead>\n",
       "    <tr style=\"text-align: right;\">\n",
       "      <th></th>\n",
       "      <th>age</th>\n",
       "      <th>viral load</th>\n",
       "      <th>severity level</th>\n",
       "      <th>hospitalization charges</th>\n",
       "    </tr>\n",
       "  </thead>\n",
       "  <tbody>\n",
       "    <tr>\n",
       "      <th>count</th>\n",
       "      <td>1338.000000</td>\n",
       "      <td>1338.000000</td>\n",
       "      <td>1338.000000</td>\n",
       "      <td>1338.000000</td>\n",
       "    </tr>\n",
       "    <tr>\n",
       "      <th>mean</th>\n",
       "      <td>39.207025</td>\n",
       "      <td>10.221233</td>\n",
       "      <td>1.094918</td>\n",
       "      <td>33176.058296</td>\n",
       "    </tr>\n",
       "    <tr>\n",
       "      <th>std</th>\n",
       "      <td>14.049960</td>\n",
       "      <td>2.032796</td>\n",
       "      <td>1.205493</td>\n",
       "      <td>30275.029296</td>\n",
       "    </tr>\n",
       "    <tr>\n",
       "      <th>min</th>\n",
       "      <td>18.000000</td>\n",
       "      <td>5.320000</td>\n",
       "      <td>0.000000</td>\n",
       "      <td>2805.000000</td>\n",
       "    </tr>\n",
       "    <tr>\n",
       "      <th>25%</th>\n",
       "      <td>27.000000</td>\n",
       "      <td>8.762500</td>\n",
       "      <td>0.000000</td>\n",
       "      <td>11851.000000</td>\n",
       "    </tr>\n",
       "    <tr>\n",
       "      <th>50%</th>\n",
       "      <td>39.000000</td>\n",
       "      <td>10.130000</td>\n",
       "      <td>1.000000</td>\n",
       "      <td>23455.000000</td>\n",
       "    </tr>\n",
       "    <tr>\n",
       "      <th>75%</th>\n",
       "      <td>51.000000</td>\n",
       "      <td>11.567500</td>\n",
       "      <td>2.000000</td>\n",
       "      <td>41599.500000</td>\n",
       "    </tr>\n",
       "    <tr>\n",
       "      <th>max</th>\n",
       "      <td>64.000000</td>\n",
       "      <td>17.710000</td>\n",
       "      <td>5.000000</td>\n",
       "      <td>159426.000000</td>\n",
       "    </tr>\n",
       "  </tbody>\n",
       "</table>\n",
       "</div>"
      ],
      "text/plain": [
       "               age   viral load  severity level  hospitalization charges\n",
       "count  1338.000000  1338.000000     1338.000000              1338.000000\n",
       "mean     39.207025    10.221233        1.094918             33176.058296\n",
       "std      14.049960     2.032796        1.205493             30275.029296\n",
       "min      18.000000     5.320000        0.000000              2805.000000\n",
       "25%      27.000000     8.762500        0.000000             11851.000000\n",
       "50%      39.000000    10.130000        1.000000             23455.000000\n",
       "75%      51.000000    11.567500        2.000000             41599.500000\n",
       "max      64.000000    17.710000        5.000000            159426.000000"
      ]
     },
     "execution_count": 6,
     "metadata": {},
     "output_type": "execute_result"
    }
   ],
   "source": [
    "df.describe()"
   ]
  },
  {
   "cell_type": "code",
   "execution_count": 7,
   "id": "5063a942",
   "metadata": {},
   "outputs": [
    {
     "data": {
      "text/html": [
       "<div>\n",
       "<style scoped>\n",
       "    .dataframe tbody tr th:only-of-type {\n",
       "        vertical-align: middle;\n",
       "    }\n",
       "\n",
       "    .dataframe tbody tr th {\n",
       "        vertical-align: top;\n",
       "    }\n",
       "\n",
       "    .dataframe thead th {\n",
       "        text-align: right;\n",
       "    }\n",
       "</style>\n",
       "<table border=\"1\" class=\"dataframe\">\n",
       "  <thead>\n",
       "    <tr style=\"text-align: right;\">\n",
       "      <th></th>\n",
       "      <th>sex</th>\n",
       "      <th>smoker</th>\n",
       "      <th>region</th>\n",
       "    </tr>\n",
       "  </thead>\n",
       "  <tbody>\n",
       "    <tr>\n",
       "      <th>count</th>\n",
       "      <td>1338</td>\n",
       "      <td>1338</td>\n",
       "      <td>1338</td>\n",
       "    </tr>\n",
       "    <tr>\n",
       "      <th>unique</th>\n",
       "      <td>2</td>\n",
       "      <td>2</td>\n",
       "      <td>4</td>\n",
       "    </tr>\n",
       "    <tr>\n",
       "      <th>top</th>\n",
       "      <td>male</td>\n",
       "      <td>no</td>\n",
       "      <td>southeast</td>\n",
       "    </tr>\n",
       "    <tr>\n",
       "      <th>freq</th>\n",
       "      <td>676</td>\n",
       "      <td>1064</td>\n",
       "      <td>364</td>\n",
       "    </tr>\n",
       "  </tbody>\n",
       "</table>\n",
       "</div>"
      ],
      "text/plain": [
       "         sex smoker     region\n",
       "count   1338   1338       1338\n",
       "unique     2      2          4\n",
       "top     male     no  southeast\n",
       "freq     676   1064        364"
      ]
     },
     "execution_count": 7,
     "metadata": {},
     "output_type": "execute_result"
    }
   ],
   "source": [
    "df.describe(include=\"object\")"
   ]
  },
  {
   "cell_type": "code",
   "execution_count": 8,
   "id": "b72633f0",
   "metadata": {},
   "outputs": [
    {
     "data": {
      "text/html": [
       "<div>\n",
       "<style scoped>\n",
       "    .dataframe tbody tr th:only-of-type {\n",
       "        vertical-align: middle;\n",
       "    }\n",
       "\n",
       "    .dataframe tbody tr th {\n",
       "        vertical-align: top;\n",
       "    }\n",
       "\n",
       "    .dataframe thead th {\n",
       "        text-align: right;\n",
       "    }\n",
       "</style>\n",
       "<table border=\"1\" class=\"dataframe\">\n",
       "  <thead>\n",
       "    <tr style=\"text-align: right;\">\n",
       "      <th></th>\n",
       "      <th>age</th>\n",
       "      <th>viral load</th>\n",
       "      <th>severity level</th>\n",
       "      <th>hospitalization charges</th>\n",
       "    </tr>\n",
       "  </thead>\n",
       "  <tbody>\n",
       "    <tr>\n",
       "      <th>age</th>\n",
       "      <td>1.000000</td>\n",
       "      <td>0.109300</td>\n",
       "      <td>0.042469</td>\n",
       "      <td>0.299008</td>\n",
       "    </tr>\n",
       "    <tr>\n",
       "      <th>viral load</th>\n",
       "      <td>0.109300</td>\n",
       "      <td>1.000000</td>\n",
       "      <td>0.012729</td>\n",
       "      <td>0.198388</td>\n",
       "    </tr>\n",
       "    <tr>\n",
       "      <th>severity level</th>\n",
       "      <td>0.042469</td>\n",
       "      <td>0.012729</td>\n",
       "      <td>1.000000</td>\n",
       "      <td>0.067998</td>\n",
       "    </tr>\n",
       "    <tr>\n",
       "      <th>hospitalization charges</th>\n",
       "      <td>0.299008</td>\n",
       "      <td>0.198388</td>\n",
       "      <td>0.067998</td>\n",
       "      <td>1.000000</td>\n",
       "    </tr>\n",
       "  </tbody>\n",
       "</table>\n",
       "</div>"
      ],
      "text/plain": [
       "                              age  viral load  severity level  \\\n",
       "age                      1.000000    0.109300        0.042469   \n",
       "viral load               0.109300    1.000000        0.012729   \n",
       "severity level           0.042469    0.012729        1.000000   \n",
       "hospitalization charges  0.299008    0.198388        0.067998   \n",
       "\n",
       "                         hospitalization charges  \n",
       "age                                     0.299008  \n",
       "viral load                              0.198388  \n",
       "severity level                          0.067998  \n",
       "hospitalization charges                 1.000000  "
      ]
     },
     "execution_count": 8,
     "metadata": {},
     "output_type": "execute_result"
    }
   ],
   "source": [
    "df.corr()"
   ]
  },
  {
   "cell_type": "code",
   "execution_count": 9,
   "id": "67a3c201",
   "metadata": {},
   "outputs": [
    {
     "data": {
      "text/plain": [
       "<AxesSubplot:>"
      ]
     },
     "execution_count": 9,
     "metadata": {},
     "output_type": "execute_result"
    },
    {
     "data": {
      "image/png": "[encoded data removed]",
      "text/plain": [
       "<Figure size 720x504 with 2 Axes>"
      ]
     },
     "metadata": {},
     "output_type": "display_data"
    }
   ],
   "source": [
    "plt.figure(figsize=(10,7))\n",
    "\n",
    "sns.heatmap(df.corr(),annot=True,cmap = \"Blues\")"
   ]
  },
  {
   "cell_type": "code",
   "execution_count": null,
   "id": "347e069e",
   "metadata": {},
   "outputs": [],
   "source": []
  },
  {
   "cell_type": "code",
   "execution_count": 10,
   "id": "40295009",
   "metadata": {},
   "outputs": [],
   "source": [
    "def detect_outliers(data):\n",
    "    length_before = len(data)\n",
    "    Q1 = np.percentile(data,25)\n",
    "    Q3 = np.percentile(data,75)\n",
    "    IQR = Q3-Q1\n",
    "    upperbound = Q3+1.5*IQR\n",
    "    lowerbound = Q1-1.5*IQR\n",
    "    if lowerbound < 0:\n",
    "        lowerbound = 0\n",
    "    \n",
    "    length_after = len(data[(data>lowerbound)&(data<upperbound)])\n",
    "    return f\"{np.round((length_before-length_after)/length_before,4)} % Outliers data from input data found\""
   ]
  },
  {
   "cell_type": "code",
   "execution_count": 11,
   "id": "4d8d8111",
   "metadata": {},
   "outputs": [
    {
     "data": {
      "text/plain": [
       "age                        0\n",
       "sex                        0\n",
       "smoker                     0\n",
       "region                     0\n",
       "viral load                 0\n",
       "severity level             0\n",
       "hospitalization charges    0\n",
       "dtype: int64"
      ]
     },
     "execution_count": 11,
     "metadata": {},
     "output_type": "execute_result"
    }
   ],
   "source": [
    "df.isna().sum()"
   ]
  },
  {
   "cell_type": "code",
   "execution_count": 12,
   "id": "13572029",
   "metadata": {},
   "outputs": [
    {
     "name": "stdout",
     "output_type": "stream",
     "text": [
      "age has :  0.0 % Outliers data from input data found\n",
      "viral load has :  0.0067 % Outliers data from input data found\n",
      "severity level has :  0.4425 % Outliers data from input data found\n",
      "hospitalization charges has :  0.1039 % Outliers data from input data found\n"
     ]
    }
   ],
   "source": [
    "for col in [\"age\",\"viral load\",\"severity level\",\"hospitalization charges\"]:\n",
    "    \n",
    "    print(col,\"has : \",detect_outliers(df[col]))"
   ]
  },
  {
   "cell_type": "code",
   "execution_count": 13,
   "id": "4aaa36b6",
   "metadata": {},
   "outputs": [],
   "source": [
    "# outlier presence is not significant. \n",
    "# all the columns have outliers less than 5%. \n"
   ]
  },
  {
   "cell_type": "code",
   "execution_count": null,
   "id": "b891cf57",
   "metadata": {},
   "outputs": [],
   "source": []
  },
  {
   "cell_type": "code",
   "execution_count": null,
   "id": "548ae795",
   "metadata": {},
   "outputs": [],
   "source": []
  },
  {
   "cell_type": "code",
   "execution_count": 14,
   "id": "6dfc06f0",
   "metadata": {},
   "outputs": [],
   "source": [
    "df.columns = ['age', 'sex', 'smoker', 'region', 'viral_load', 'severity_level',\n",
    "       'hospitalization_charges']"
   ]
  },
  {
   "cell_type": "code",
   "execution_count": 15,
   "id": "4dd36b03",
   "metadata": {},
   "outputs": [
    {
     "data": {
      "text/plain": [
       "<AxesSubplot:xlabel='hospitalization_charges', ylabel='Density'>"
      ]
     },
     "execution_count": 15,
     "metadata": {},
     "output_type": "execute_result"
    },
    {
     "data": {
      "image/png": "[encoded data removed]",
      "text/plain": [
       "<Figure size 432x288 with 1 Axes>"
      ]
     },
     "metadata": {},
     "output_type": "display_data"
    }
   ],
   "source": [
    "sns.distplot(df[\"hospitalization_charges\"])"
   ]
  },
  {
   "cell_type": "code",
   "execution_count": 16,
   "id": "10810c07",
   "metadata": {},
   "outputs": [
    {
     "data": {
      "text/plain": [
       "<AxesSubplot:xlabel='hospitalization_charges'>"
      ]
     },
     "execution_count": 16,
     "metadata": {},
     "output_type": "execute_result"
    },
    {
     "data": {
      "image/png": "[encoded data removed]",
      "text/plain": [
       "<Figure size 432x288 with 1 Axes>"
      ]
     },
     "metadata": {},
     "output_type": "display_data"
    }
   ],
   "source": [
    "sns.boxplot(df[\"hospitalization_charges\"])"
   ]
  },
  {
   "cell_type": "code",
   "execution_count": null,
   "id": "48814858",
   "metadata": {},
   "outputs": [],
   "source": []
  },
  {
   "cell_type": "code",
   "execution_count": 17,
   "id": "72a98001",
   "metadata": {},
   "outputs": [
    {
     "data": {
      "text/plain": [
       "Index(['age', 'sex', 'smoker', 'region', 'viral_load', 'severity_level',\n",
       "       'hospitalization_charges'],\n",
       "      dtype='object')"
      ]
     },
     "execution_count": 17,
     "metadata": {},
     "output_type": "execute_result"
    }
   ],
   "source": [
    "df.columns"
   ]
  },
  {
   "cell_type": "code",
   "execution_count": null,
   "id": "227b1bc2",
   "metadata": {},
   "outputs": [],
   "source": []
  },
  {
   "cell_type": "code",
   "execution_count": 18,
   "id": "ffb1da4d",
   "metadata": {},
   "outputs": [
    {
     "data": {
      "application/javascript": [
       "\n",
       "        if (window._pyforest_update_imports_cell) { window._pyforest_update_imports_cell('import pandas as pd'); }\n",
       "    "
      ],
      "text/plain": [
       "<IPython.core.display.Javascript object>"
      ]
     },
     "metadata": {},
     "output_type": "display_data"
    },
    {
     "data": {
      "image/png": "[encoded data removed]",
      "text/plain": [
       "<Figure size 432x288 with 1 Axes>"
      ]
     },
     "metadata": {},
     "output_type": "display_data"
    }
   ],
   "source": [
    "sns.countplot(pd.qcut(df[\"age\"],10))\n",
    "plt.xticks(rotation = 90)\n",
    "plt.show()"
   ]
  },
  {
   "cell_type": "code",
   "execution_count": null,
   "id": "3f9008f9",
   "metadata": {},
   "outputs": [],
   "source": []
  },
  {
   "cell_type": "code",
   "execution_count": null,
   "id": "6392a699",
   "metadata": {},
   "outputs": [],
   "source": []
  },
  {
   "cell_type": "code",
   "execution_count": null,
   "id": "a92c510f",
   "metadata": {},
   "outputs": [],
   "source": []
  },
  {
   "cell_type": "code",
   "execution_count": null,
   "id": "637201cf",
   "metadata": {},
   "outputs": [],
   "source": []
  },
  {
   "cell_type": "code",
   "execution_count": null,
   "id": "be489e13",
   "metadata": {},
   "outputs": [],
   "source": []
  },
  {
   "cell_type": "code",
   "execution_count": 19,
   "id": "cfddb23c",
   "metadata": {},
   "outputs": [
    {
     "data": {
      "application/javascript": [
       "\n",
       "        if (window._pyforest_update_imports_cell) { window._pyforest_update_imports_cell('import pandas as pd'); }\n",
       "    "
      ],
      "text/plain": [
       "<IPython.core.display.Javascript object>"
      ]
     },
     "metadata": {},
     "output_type": "display_data"
    },
    {
     "data": {
      "text/html": [
       "<div>\n",
       "<style scoped>\n",
       "    .dataframe tbody tr th:only-of-type {\n",
       "        vertical-align: middle;\n",
       "    }\n",
       "\n",
       "    .dataframe tbody tr th {\n",
       "        vertical-align: top;\n",
       "    }\n",
       "\n",
       "    .dataframe thead th {\n",
       "        text-align: right;\n",
       "    }\n",
       "</style>\n",
       "<table border=\"1\" class=\"dataframe\">\n",
       "  <thead>\n",
       "    <tr style=\"text-align: right;\">\n",
       "      <th>region</th>\n",
       "      <th>northeast</th>\n",
       "      <th>northwest</th>\n",
       "      <th>southeast</th>\n",
       "      <th>southwest</th>\n",
       "    </tr>\n",
       "    <tr>\n",
       "      <th>smoker</th>\n",
       "      <th></th>\n",
       "      <th></th>\n",
       "      <th></th>\n",
       "      <th></th>\n",
       "    </tr>\n",
       "  </thead>\n",
       "  <tbody>\n",
       "    <tr>\n",
       "      <th>no</th>\n",
       "      <td>257</td>\n",
       "      <td>267</td>\n",
       "      <td>273</td>\n",
       "      <td>267</td>\n",
       "    </tr>\n",
       "    <tr>\n",
       "      <th>yes</th>\n",
       "      <td>67</td>\n",
       "      <td>58</td>\n",
       "      <td>91</td>\n",
       "      <td>58</td>\n",
       "    </tr>\n",
       "  </tbody>\n",
       "</table>\n",
       "</div>"
      ],
      "text/plain": [
       "region  northeast  northwest  southeast  southwest\n",
       "smoker                                            \n",
       "no            257        267        273        267\n",
       "yes            67         58         91         58"
      ]
     },
     "execution_count": 19,
     "metadata": {},
     "output_type": "execute_result"
    }
   ],
   "source": [
    "pd.crosstab(columns = df[\"region\"],\n",
    "            index   = df[\"smoker\"])"
   ]
  },
  {
   "cell_type": "code",
   "execution_count": 20,
   "id": "daa4a215",
   "metadata": {},
   "outputs": [
    {
     "data": {
      "text/html": [
       "<div>\n",
       "<style scoped>\n",
       "    .dataframe tbody tr th:only-of-type {\n",
       "        vertical-align: middle;\n",
       "    }\n",
       "\n",
       "    .dataframe tbody tr th {\n",
       "        vertical-align: top;\n",
       "    }\n",
       "\n",
       "    .dataframe thead th {\n",
       "        text-align: right;\n",
       "    }\n",
       "</style>\n",
       "<table border=\"1\" class=\"dataframe\">\n",
       "  <thead>\n",
       "    <tr style=\"text-align: right;\">\n",
       "      <th></th>\n",
       "      <th>age</th>\n",
       "      <th>sex</th>\n",
       "      <th>smoker</th>\n",
       "      <th>region</th>\n",
       "      <th>viral_load</th>\n",
       "      <th>severity_level</th>\n",
       "      <th>hospitalization_charges</th>\n",
       "    </tr>\n",
       "  </thead>\n",
       "  <tbody>\n",
       "    <tr>\n",
       "      <th>0</th>\n",
       "      <td>19</td>\n",
       "      <td>female</td>\n",
       "      <td>yes</td>\n",
       "      <td>southwest</td>\n",
       "      <td>9.30</td>\n",
       "      <td>0</td>\n",
       "      <td>42212</td>\n",
       "    </tr>\n",
       "    <tr>\n",
       "      <th>1</th>\n",
       "      <td>18</td>\n",
       "      <td>male</td>\n",
       "      <td>no</td>\n",
       "      <td>southeast</td>\n",
       "      <td>11.26</td>\n",
       "      <td>1</td>\n",
       "      <td>4314</td>\n",
       "    </tr>\n",
       "    <tr>\n",
       "      <th>2</th>\n",
       "      <td>28</td>\n",
       "      <td>male</td>\n",
       "      <td>no</td>\n",
       "      <td>southeast</td>\n",
       "      <td>11.00</td>\n",
       "      <td>3</td>\n",
       "      <td>11124</td>\n",
       "    </tr>\n",
       "    <tr>\n",
       "      <th>3</th>\n",
       "      <td>33</td>\n",
       "      <td>male</td>\n",
       "      <td>no</td>\n",
       "      <td>northwest</td>\n",
       "      <td>7.57</td>\n",
       "      <td>0</td>\n",
       "      <td>54961</td>\n",
       "    </tr>\n",
       "    <tr>\n",
       "      <th>4</th>\n",
       "      <td>32</td>\n",
       "      <td>male</td>\n",
       "      <td>no</td>\n",
       "      <td>northwest</td>\n",
       "      <td>9.63</td>\n",
       "      <td>0</td>\n",
       "      <td>9667</td>\n",
       "    </tr>\n",
       "    <tr>\n",
       "      <th>...</th>\n",
       "      <td>...</td>\n",
       "      <td>...</td>\n",
       "      <td>...</td>\n",
       "      <td>...</td>\n",
       "      <td>...</td>\n",
       "      <td>...</td>\n",
       "      <td>...</td>\n",
       "    </tr>\n",
       "    <tr>\n",
       "      <th>1333</th>\n",
       "      <td>50</td>\n",
       "      <td>male</td>\n",
       "      <td>no</td>\n",
       "      <td>northwest</td>\n",
       "      <td>10.32</td>\n",
       "      <td>3</td>\n",
       "      <td>26501</td>\n",
       "    </tr>\n",
       "    <tr>\n",
       "      <th>1334</th>\n",
       "      <td>18</td>\n",
       "      <td>female</td>\n",
       "      <td>no</td>\n",
       "      <td>northeast</td>\n",
       "      <td>10.64</td>\n",
       "      <td>0</td>\n",
       "      <td>5515</td>\n",
       "    </tr>\n",
       "    <tr>\n",
       "      <th>1335</th>\n",
       "      <td>18</td>\n",
       "      <td>female</td>\n",
       "      <td>no</td>\n",
       "      <td>southeast</td>\n",
       "      <td>12.28</td>\n",
       "      <td>0</td>\n",
       "      <td>4075</td>\n",
       "    </tr>\n",
       "    <tr>\n",
       "      <th>1336</th>\n",
       "      <td>21</td>\n",
       "      <td>female</td>\n",
       "      <td>no</td>\n",
       "      <td>southwest</td>\n",
       "      <td>8.60</td>\n",
       "      <td>0</td>\n",
       "      <td>5020</td>\n",
       "    </tr>\n",
       "    <tr>\n",
       "      <th>1337</th>\n",
       "      <td>61</td>\n",
       "      <td>female</td>\n",
       "      <td>yes</td>\n",
       "      <td>northwest</td>\n",
       "      <td>9.69</td>\n",
       "      <td>0</td>\n",
       "      <td>72853</td>\n",
       "    </tr>\n",
       "  </tbody>\n",
       "</table>\n",
       "<p>1338 rows × 7 columns</p>\n",
       "</div>"
      ],
      "text/plain": [
       "      age     sex smoker     region  viral_load  severity_level  \\\n",
       "0      19  female    yes  southwest        9.30               0   \n",
       "1      18    male     no  southeast       11.26               1   \n",
       "2      28    male     no  southeast       11.00               3   \n",
       "3      33    male     no  northwest        7.57               0   \n",
       "4      32    male     no  northwest        9.63               0   \n",
       "...   ...     ...    ...        ...         ...             ...   \n",
       "1333   50    male     no  northwest       10.32               3   \n",
       "1334   18  female     no  northeast       10.64               0   \n",
       "1335   18  female     no  southeast       12.28               0   \n",
       "1336   21  female     no  southwest        8.60               0   \n",
       "1337   61  female    yes  northwest        9.69               0   \n",
       "\n",
       "      hospitalization_charges  \n",
       "0                       42212  \n",
       "1                        4314  \n",
       "2                       11124  \n",
       "3                       54961  \n",
       "4                        9667  \n",
       "...                       ...  \n",
       "1333                    26501  \n",
       "1334                     5515  \n",
       "1335                     4075  \n",
       "1336                     5020  \n",
       "1337                    72853  \n",
       "\n",
       "[1338 rows x 7 columns]"
      ]
     },
     "execution_count": 20,
     "metadata": {},
     "output_type": "execute_result"
    }
   ],
   "source": [
    "df"
   ]
  },
  {
   "cell_type": "code",
   "execution_count": 21,
   "id": "c8f348b1",
   "metadata": {},
   "outputs": [
    {
     "data": {
      "text/plain": [
       "age                          47\n",
       "sex                           2\n",
       "smoker                        2\n",
       "region                        4\n",
       "viral_load                  462\n",
       "severity_level                6\n",
       "hospitalization_charges    1320\n",
       "dtype: int64"
      ]
     },
     "execution_count": 21,
     "metadata": {},
     "output_type": "execute_result"
    }
   ],
   "source": [
    "df.nunique()"
   ]
  },
  {
   "cell_type": "code",
   "execution_count": 22,
   "id": "3d78301f",
   "metadata": {
    "scrolled": true
   },
   "outputs": [
    {
     "data": {
      "text/plain": [
       "<AxesSubplot:xlabel='severity_level', ylabel='hospitalization_charges'>"
      ]
     },
     "execution_count": 22,
     "metadata": {},
     "output_type": "execute_result"
    },
    {
     "data": {
      "image/png": "[encoded data removed]",
      "text/plain": [
       "<Figure size 432x288 with 1 Axes>"
      ]
     },
     "metadata": {},
     "output_type": "display_data"
    }
   ],
   "source": [
    "sns.boxplot(y = df[\"hospitalization_charges\"], \n",
    "           x = df[\"severity_level\"])"
   ]
  },
  {
   "cell_type": "code",
   "execution_count": 23,
   "id": "86d9154a",
   "metadata": {},
   "outputs": [
    {
     "data": {
      "text/plain": [
       "<AxesSubplot:xlabel='region', ylabel='hospitalization_charges'>"
      ]
     },
     "execution_count": 23,
     "metadata": {},
     "output_type": "execute_result"
    },
    {
     "data": {
      "image/png": "[encoded data removed]",
      "text/plain": [
       "<Figure size 432x288 with 1 Axes>"
      ]
     },
     "metadata": {},
     "output_type": "display_data"
    }
   ],
   "source": [
    "sns.boxplot(y = df[\"hospitalization_charges\"], \n",
    "           x = df[\"region\"])"
   ]
  },
  {
   "cell_type": "code",
   "execution_count": null,
   "id": "0bc58522",
   "metadata": {},
   "outputs": [],
   "source": []
  },
  {
   "cell_type": "code",
   "execution_count": null,
   "id": "d312b10e",
   "metadata": {},
   "outputs": [],
   "source": []
  },
  {
   "cell_type": "code",
   "execution_count": null,
   "id": "a9a56be4",
   "metadata": {},
   "outputs": [],
   "source": []
  },
  {
   "cell_type": "code",
   "execution_count": null,
   "id": "2c04a646",
   "metadata": {},
   "outputs": [],
   "source": []
  },
  {
   "cell_type": "code",
   "execution_count": null,
   "id": "fc47d111",
   "metadata": {},
   "outputs": [],
   "source": []
  },
  {
   "cell_type": "code",
   "execution_count": null,
   "id": "b89d96e6",
   "metadata": {},
   "outputs": [],
   "source": []
  },
  {
   "cell_type": "code",
   "execution_count": null,
   "id": "cd2d79f5",
   "metadata": {},
   "outputs": [],
   "source": []
  },
  {
   "cell_type": "markdown",
   "id": "1f729610",
   "metadata": {},
   "source": [
    "## t-test : checking for population , if the hospitalization charges are higher for smokers ? "
   ]
  },
  {
   "cell_type": "code",
   "execution_count": 24,
   "id": "220b228e",
   "metadata": {},
   "outputs": [
    {
     "data": {
      "text/plain": [
       "<AxesSubplot:xlabel='smoker', ylabel='hospitalization_charges'>"
      ]
     },
     "execution_count": 24,
     "metadata": {},
     "output_type": "execute_result"
    },
    {
     "data": {
      "image/png": "[encoded data removed]",
      "text/plain": [
       "<Figure size 432x288 with 1 Axes>"
      ]
     },
     "metadata": {},
     "output_type": "display_data"
    }
   ],
   "source": [
    "sns.boxplot(y = df[\"hospitalization_charges\"], \n",
    "           x = df[\"smoker\"])"
   ]
  },
  {
   "cell_type": "markdown",
   "id": "67655610",
   "metadata": {},
   "source": [
    "#### from above boxplot , hopitalization charges seems to be higher for smokers than who doent smoke."
   ]
  },
  {
   "cell_type": "code",
   "execution_count": 25,
   "id": "bed5e0ae",
   "metadata": {},
   "outputs": [],
   "source": [
    "## t-test : \n",
    "## null hypotehsis : H0 : mean hospitalization charges for smokers and non smokers are same.\n",
    "## alternative hypothesis : Ha : Mean hospitalization charges for smokes is higher than non smokers for population . \n",
    "\n",
    "# H0 : smokers_charges <= non_smokers_charges\n",
    "# Ha : Smokers_charges > non_smokers_charges"
   ]
  },
  {
   "cell_type": "code",
   "execution_count": 62,
   "id": "0edf42cb",
   "metadata": {},
   "outputs": [],
   "source": [
    "smokers = df[df[\"smoker\"]==\"yes\"][\"hospitalization_charges\"]\n",
    "non_smokers = df[df[\"smoker\"]==\"no\"][\"hospitalization_charges\"]"
   ]
  },
  {
   "cell_type": "code",
   "execution_count": 63,
   "id": "1648c2e8",
   "metadata": {},
   "outputs": [
    {
     "data": {
      "text/plain": [
       "(80125.57299270073, 21085.6757518797)"
      ]
     },
     "execution_count": 63,
     "metadata": {},
     "output_type": "execute_result"
    }
   ],
   "source": [
    "smokers.mean(),non_smokers.mean()"
   ]
  },
  {
   "cell_type": "code",
   "execution_count": 64,
   "id": "c3e55483",
   "metadata": {},
   "outputs": [
    {
     "data": {
      "text/plain": [
       "(274, 1064)"
      ]
     },
     "execution_count": 64,
     "metadata": {},
     "output_type": "execute_result"
    }
   ],
   "source": [
    "len(smokers),len(non_smokers)"
   ]
  },
  {
   "cell_type": "code",
   "execution_count": 65,
   "id": "58ffdf6d",
   "metadata": {},
   "outputs": [],
   "source": [
    "non_smokers = non_smokers.sample(274)"
   ]
  },
  {
   "cell_type": "code",
   "execution_count": 66,
   "id": "f14799fb",
   "metadata": {},
   "outputs": [],
   "source": [
    "n1,n2 = len(smokers),len(non_smokers)"
   ]
  },
  {
   "cell_type": "code",
   "execution_count": null,
   "id": "353f6a31",
   "metadata": {},
   "outputs": [],
   "source": []
  },
  {
   "cell_type": "code",
   "execution_count": 67,
   "id": "97b6e634",
   "metadata": {},
   "outputs": [],
   "source": [
    "mean_smokers  = smokers.mean()\n",
    "mean_non_smokers = non_smokers.mean()"
   ]
  },
  {
   "cell_type": "code",
   "execution_count": 68,
   "id": "f5f3f2bf",
   "metadata": {},
   "outputs": [
    {
     "data": {
      "text/plain": [
       "(80125.57299270073, 21256.087591240877)"
      ]
     },
     "execution_count": 68,
     "metadata": {},
     "output_type": "execute_result"
    }
   ],
   "source": [
    "mean_smokers,mean_non_smokers"
   ]
  },
  {
   "cell_type": "code",
   "execution_count": 69,
   "id": "dba58d41",
   "metadata": {},
   "outputs": [],
   "source": [
    "std_smokers  = smokers.std()\n",
    "std_non_smokers = non_smokers.std()"
   ]
  },
  {
   "cell_type": "code",
   "execution_count": null,
   "id": "eb1a43ba",
   "metadata": {},
   "outputs": [],
   "source": []
  },
  {
   "cell_type": "code",
   "execution_count": 70,
   "id": "a3c265b6",
   "metadata": {},
   "outputs": [],
   "source": [
    "test_statistic = (mean_smokers - mean_non_smokers)/(np.sqrt(((std_smokers**2)/(n1))+((std_non_smokers**2)/(n2))))"
   ]
  },
  {
   "cell_type": "code",
   "execution_count": 71,
   "id": "3e63d772",
   "metadata": {},
   "outputs": [
    {
     "data": {
      "text/plain": [
       "29.943801024458654"
      ]
     },
     "execution_count": 71,
     "metadata": {},
     "output_type": "execute_result"
    }
   ],
   "source": [
    "test_statistic"
   ]
  },
  {
   "cell_type": "code",
   "execution_count": 72,
   "id": "2fa9bb18",
   "metadata": {},
   "outputs": [],
   "source": [
    "degreeOfFreedom = n1+n2-2"
   ]
  },
  {
   "cell_type": "code",
   "execution_count": null,
   "id": "0b4ad05e",
   "metadata": {},
   "outputs": [],
   "source": []
  },
  {
   "cell_type": "code",
   "execution_count": 73,
   "id": "4749105a",
   "metadata": {},
   "outputs": [
    {
     "data": {
      "application/javascript": [
       "\n",
       "        if (window._pyforest_update_imports_cell) { window._pyforest_update_imports_cell('import pandas as pd\\nfrom scipy import stats'); }\n",
       "    "
      ],
      "text/plain": [
       "<IPython.core.display.Javascript object>"
      ]
     },
     "metadata": {},
     "output_type": "display_data"
    },
    {
     "data": {
      "text/plain": [
       "0.0"
      ]
     },
     "execution_count": 73,
     "metadata": {},
     "output_type": "execute_result"
    }
   ],
   "source": [
    "1-stats.t.cdf(test_statistic,degreeOfFreedom)"
   ]
  },
  {
   "cell_type": "code",
   "execution_count": 74,
   "id": "08ecc97a",
   "metadata": {},
   "outputs": [
    {
     "data": {
      "application/javascript": [
       "\n",
       "        if (window._pyforest_update_imports_cell) { window._pyforest_update_imports_cell('import pandas as pd\\nfrom scipy import stats'); }\n",
       "    "
      ],
      "text/plain": [
       "<IPython.core.display.Javascript object>"
      ]
     },
     "metadata": {},
     "output_type": "display_data"
    },
    {
     "data": {
      "text/plain": [
       "1.6476491829074837"
      ]
     },
     "execution_count": 74,
     "metadata": {},
     "output_type": "execute_result"
    }
   ],
   "source": [
    "stats.t.ppf(0.95,degreeOfFreedom)"
   ]
  },
  {
   "cell_type": "code",
   "execution_count": null,
   "id": "32857db6",
   "metadata": {},
   "outputs": [],
   "source": []
  },
  {
   "cell_type": "code",
   "execution_count": 75,
   "id": "e88e0cca",
   "metadata": {},
   "outputs": [
    {
     "data": {
      "application/javascript": [
       "\n",
       "        if (window._pyforest_update_imports_cell) { window._pyforest_update_imports_cell('import pandas as pd\\nfrom scipy import stats'); }\n",
       "    "
      ],
      "text/plain": [
       "<IPython.core.display.Javascript object>"
      ]
     },
     "metadata": {},
     "output_type": "display_data"
    },
    {
     "data": {
      "text/plain": [
       "Ttest_indResult(statistic=29.94380102445866, pvalue=1.3775002711997363e-117)"
      ]
     },
     "execution_count": 75,
     "metadata": {},
     "output_type": "execute_result"
    }
   ],
   "source": [
    "stats.ttest_ind(smokers,non_smokers,    alternative='greater')"
   ]
  },
  {
   "cell_type": "markdown",
   "id": "7fc14e60",
   "metadata": {},
   "source": [
    "#### from the p-value  we can observe the probability of having hospilization charges for smokers  than non-smokers is is very high. \n"
   ]
  },
  {
   "cell_type": "markdown",
   "id": "81a42f3b",
   "metadata": {},
   "source": [
    "#### Thus from hypothesis test , we reject null hypothesis and conclude that hospitalization charges for Smokers are higher than Non Smokers."
   ]
  },
  {
   "cell_type": "code",
   "execution_count": null,
   "id": "a53a7ac5",
   "metadata": {},
   "outputs": [],
   "source": []
  },
  {
   "cell_type": "code",
   "execution_count": null,
   "id": "132803d5",
   "metadata": {},
   "outputs": [],
   "source": []
  },
  {
   "cell_type": "code",
   "execution_count": null,
   "id": "95fce5f7",
   "metadata": {},
   "outputs": [],
   "source": []
  },
  {
   "cell_type": "markdown",
   "id": "7b3c88bc",
   "metadata": {},
   "source": [
    "## t-test : checking for population , if the hospitalization charges are same for make and female ? "
   ]
  },
  {
   "cell_type": "code",
   "execution_count": 41,
   "id": "c853f2ef",
   "metadata": {},
   "outputs": [
    {
     "data": {
      "text/plain": [
       "<AxesSubplot:xlabel='sex', ylabel='hospitalization_charges'>"
      ]
     },
     "execution_count": 41,
     "metadata": {},
     "output_type": "execute_result"
    },
    {
     "data": {
      "image/png": "[encoded data removed]",
      "text/plain": [
       "<Figure size 432x288 with 1 Axes>"
      ]
     },
     "metadata": {},
     "output_type": "display_data"
    }
   ],
   "source": [
    "sns.boxplot(y = df[\"hospitalization_charges\"], \n",
    "           x = df[\"sex\"])"
   ]
  },
  {
   "cell_type": "code",
   "execution_count": null,
   "id": "eb3463b8",
   "metadata": {},
   "outputs": [],
   "source": []
  },
  {
   "cell_type": "code",
   "execution_count": 42,
   "id": "ee382842",
   "metadata": {},
   "outputs": [],
   "source": [
    "female_charges = df[df[\"sex\"]==\"female\"][\"hospitalization_charges\"].sample(500)\n",
    "male_charges = df[df[\"sex\"]==\"male\"][\"hospitalization_charges\"].sample(500)"
   ]
  },
  {
   "cell_type": "code",
   "execution_count": 43,
   "id": "b9fc2bd4",
   "metadata": {},
   "outputs": [
    {
     "data": {
      "text/plain": [
       "(35685.656, 31063.28)"
      ]
     },
     "execution_count": 43,
     "metadata": {},
     "output_type": "execute_result"
    }
   ],
   "source": [
    "male_charges.mean(),female_charges.mean()"
   ]
  },
  {
   "cell_type": "code",
   "execution_count": 44,
   "id": "ea689c54",
   "metadata": {},
   "outputs": [
    {
     "data": {
      "text/plain": [
       "(500, 500)"
      ]
     },
     "execution_count": 44,
     "metadata": {},
     "output_type": "execute_result"
    }
   ],
   "source": [
    "len(male_charges),len(female_charges)"
   ]
  },
  {
   "cell_type": "code",
   "execution_count": 45,
   "id": "db9a4f3d",
   "metadata": {},
   "outputs": [],
   "source": [
    "n1,n2 = len(female_charges),len(male_charges)"
   ]
  },
  {
   "cell_type": "code",
   "execution_count": 46,
   "id": "c013b894",
   "metadata": {},
   "outputs": [],
   "source": [
    "mean_female_charges  = female_charges.mean()\n",
    "mean_male_charges = male_charges.mean()"
   ]
  },
  {
   "cell_type": "code",
   "execution_count": 47,
   "id": "61d49519",
   "metadata": {},
   "outputs": [
    {
     "data": {
      "text/plain": [
       "(31063.28, 35685.656)"
      ]
     },
     "execution_count": 47,
     "metadata": {},
     "output_type": "execute_result"
    }
   ],
   "source": [
    "mean_female_charges,mean_male_charges"
   ]
  },
  {
   "cell_type": "code",
   "execution_count": 48,
   "id": "6f9fdaab",
   "metadata": {},
   "outputs": [],
   "source": [
    "std_female_charges  = female_charges.std()\n",
    "std_male_charges = male_charges.std()"
   ]
  },
  {
   "cell_type": "code",
   "execution_count": 49,
   "id": "2893e706",
   "metadata": {},
   "outputs": [],
   "source": [
    "test_statistic = (mean_female_charges - mean_male_charges)/(np.sqrt(((std_female_charges**2)/(n1))+((std_male_charges**2)/(n2))))"
   ]
  },
  {
   "cell_type": "code",
   "execution_count": 50,
   "id": "5715bd62",
   "metadata": {},
   "outputs": [
    {
     "data": {
      "text/plain": [
       "-2.413365317468039"
      ]
     },
     "execution_count": 50,
     "metadata": {},
     "output_type": "execute_result"
    }
   ],
   "source": [
    "test_statistic"
   ]
  },
  {
   "cell_type": "code",
   "execution_count": 51,
   "id": "6937064e",
   "metadata": {},
   "outputs": [],
   "source": [
    "degreeOfFreedom = n1+n2-2"
   ]
  },
  {
   "cell_type": "code",
   "execution_count": 52,
   "id": "a6b7689c",
   "metadata": {},
   "outputs": [
    {
     "data": {
      "application/javascript": [
       "\n",
       "        if (window._pyforest_update_imports_cell) { window._pyforest_update_imports_cell('import pandas as pd\\nfrom scipy import stats'); }\n",
       "    "
      ],
      "text/plain": [
       "<IPython.core.display.Javascript object>"
      ]
     },
     "metadata": {},
     "output_type": "display_data"
    },
    {
     "data": {
      "text/plain": [
       "0.015985256135108653"
      ]
     },
     "execution_count": 52,
     "metadata": {},
     "output_type": "execute_result"
    }
   ],
   "source": [
    "stats.t.cdf(test_statistic,degreeOfFreedom)*2"
   ]
  },
  {
   "cell_type": "code",
   "execution_count": 53,
   "id": "69c586fb",
   "metadata": {},
   "outputs": [
    {
     "data": {
      "application/javascript": [
       "\n",
       "        if (window._pyforest_update_imports_cell) { window._pyforest_update_imports_cell('import pandas as pd\\nfrom scipy import stats'); }\n",
       "    "
      ],
      "text/plain": [
       "<IPython.core.display.Javascript object>"
      ]
     },
     "metadata": {},
     "output_type": "display_data"
    },
    {
     "data": {
      "application/javascript": [
       "\n",
       "        if (window._pyforest_update_imports_cell) { window._pyforest_update_imports_cell('import pandas as pd\\nfrom scipy import stats'); }\n",
       "    "
      ],
      "text/plain": [
       "<IPython.core.display.Javascript object>"
      ]
     },
     "metadata": {},
     "output_type": "display_data"
    },
    {
     "data": {
      "text/plain": [
       "(-1.962343846216334, 1.9623438462163336)"
      ]
     },
     "execution_count": 53,
     "metadata": {},
     "output_type": "execute_result"
    }
   ],
   "source": [
    "stats.t.ppf(0.025,degreeOfFreedom),stats.t.ppf(0.975,degreeOfFreedom)"
   ]
  },
  {
   "cell_type": "code",
   "execution_count": 54,
   "id": "4d1423a5",
   "metadata": {},
   "outputs": [
    {
     "data": {
      "application/javascript": [
       "\n",
       "        if (window._pyforest_update_imports_cell) { window._pyforest_update_imports_cell('import pandas as pd\\nfrom scipy import stats'); }\n",
       "    "
      ],
      "text/plain": [
       "<IPython.core.display.Javascript object>"
      ]
     },
     "metadata": {},
     "output_type": "display_data"
    },
    {
     "data": {
      "text/plain": [
       "Ttest_indResult(statistic=2.4133653174680387, pvalue=0.015985256135108664)"
      ]
     },
     "execution_count": 54,
     "metadata": {},
     "output_type": "execute_result"
    }
   ],
   "source": [
    "stats.ttest_ind(male_charges,female_charges)"
   ]
  },
  {
   "cell_type": "code",
   "execution_count": 56,
   "id": "67f3b01a",
   "metadata": {},
   "outputs": [
    {
     "data": {
      "application/javascript": [
       "\n",
       "        if (window._pyforest_update_imports_cell) { window._pyforest_update_imports_cell('import pandas as pd\\nfrom scipy import stats'); }\n",
       "    "
      ],
      "text/plain": [
       "<IPython.core.display.Javascript object>"
      ]
     },
     "metadata": {},
     "output_type": "display_data"
    },
    {
     "name": "stdout",
     "output_type": "stream",
     "text": [
      "Ttest_indResult(statistic=1.1607404079952375, pvalue=0.24714503161457332)\n"
     ]
    },
    {
     "data": {
      "application/javascript": [
       "\n",
       "        if (window._pyforest_update_imports_cell) { window._pyforest_update_imports_cell('import pandas as pd\\nfrom scipy import stats'); }\n",
       "    "
      ],
      "text/plain": [
       "<IPython.core.display.Javascript object>"
      ]
     },
     "metadata": {},
     "output_type": "display_data"
    },
    {
     "name": "stdout",
     "output_type": "stream",
     "text": [
      "Ttest_indResult(statistic=0.6481956390149956, pvalue=0.5176093992007929)\n"
     ]
    },
    {
     "data": {
      "application/javascript": [
       "\n",
       "        if (window._pyforest_update_imports_cell) { window._pyforest_update_imports_cell('import pandas as pd\\nfrom scipy import stats'); }\n",
       "    "
      ],
      "text/plain": [
       "<IPython.core.display.Javascript object>"
      ]
     },
     "metadata": {},
     "output_type": "display_data"
    },
    {
     "name": "stdout",
     "output_type": "stream",
     "text": [
      "Ttest_indResult(statistic=1.5440034867840289, pvalue=0.12418423752627347)\n"
     ]
    },
    {
     "data": {
      "application/javascript": [
       "\n",
       "        if (window._pyforest_update_imports_cell) { window._pyforest_update_imports_cell('import pandas as pd\\nfrom scipy import stats'); }\n",
       "    "
      ],
      "text/plain": [
       "<IPython.core.display.Javascript object>"
      ]
     },
     "metadata": {},
     "output_type": "display_data"
    },
    {
     "name": "stdout",
     "output_type": "stream",
     "text": [
      "Ttest_indResult(statistic=2.0045366073713606, pvalue=0.04637494924544995)\n"
     ]
    },
    {
     "data": {
      "application/javascript": [
       "\n",
       "        if (window._pyforest_update_imports_cell) { window._pyforest_update_imports_cell('import pandas as pd\\nfrom scipy import stats'); }\n",
       "    "
      ],
      "text/plain": [
       "<IPython.core.display.Javascript object>"
      ]
     },
     "metadata": {},
     "output_type": "display_data"
    },
    {
     "name": "stdout",
     "output_type": "stream",
     "text": [
      "Ttest_indResult(statistic=0.929748538331141, pvalue=0.3536334277389356)\n"
     ]
    },
    {
     "data": {
      "application/javascript": [
       "\n",
       "        if (window._pyforest_update_imports_cell) { window._pyforest_update_imports_cell('import pandas as pd\\nfrom scipy import stats'); }\n",
       "    "
      ],
      "text/plain": [
       "<IPython.core.display.Javascript object>"
      ]
     },
     "metadata": {},
     "output_type": "display_data"
    },
    {
     "name": "stdout",
     "output_type": "stream",
     "text": [
      "Ttest_indResult(statistic=2.426480912816254, pvalue=0.01614172974678211)\n"
     ]
    },
    {
     "data": {
      "application/javascript": [
       "\n",
       "        if (window._pyforest_update_imports_cell) { window._pyforest_update_imports_cell('import pandas as pd\\nfrom scipy import stats'); }\n",
       "    "
      ],
      "text/plain": [
       "<IPython.core.display.Javascript object>"
      ]
     },
     "metadata": {},
     "output_type": "display_data"
    },
    {
     "name": "stdout",
     "output_type": "stream",
     "text": [
      "Ttest_indResult(statistic=0.8758699430032006, pvalue=0.3821620599112646)\n"
     ]
    },
    {
     "data": {
      "application/javascript": [
       "\n",
       "        if (window._pyforest_update_imports_cell) { window._pyforest_update_imports_cell('import pandas as pd\\nfrom scipy import stats'); }\n",
       "    "
      ],
      "text/plain": [
       "<IPython.core.display.Javascript object>"
      ]
     },
     "metadata": {},
     "output_type": "display_data"
    },
    {
     "name": "stdout",
     "output_type": "stream",
     "text": [
      "Ttest_indResult(statistic=-0.15373083084902536, pvalue=0.8779785439653502)\n"
     ]
    },
    {
     "data": {
      "application/javascript": [
       "\n",
       "        if (window._pyforest_update_imports_cell) { window._pyforest_update_imports_cell('import pandas as pd\\nfrom scipy import stats'); }\n",
       "    "
      ],
      "text/plain": [
       "<IPython.core.display.Javascript object>"
      ]
     },
     "metadata": {},
     "output_type": "display_data"
    },
    {
     "name": "stdout",
     "output_type": "stream",
     "text": [
      "Ttest_indResult(statistic=1.2308917099747159, pvalue=0.21982352936974006)\n"
     ]
    },
    {
     "data": {
      "application/javascript": [
       "\n",
       "        if (window._pyforest_update_imports_cell) { window._pyforest_update_imports_cell('import pandas as pd\\nfrom scipy import stats'); }\n",
       "    "
      ],
      "text/plain": [
       "<IPython.core.display.Javascript object>"
      ]
     },
     "metadata": {},
     "output_type": "display_data"
    },
    {
     "name": "stdout",
     "output_type": "stream",
     "text": [
      "Ttest_indResult(statistic=1.5239066500616154, pvalue=0.12912762619853874)\n"
     ]
    }
   ],
   "source": [
    "for r in range(10):\n",
    "    print(stats.ttest_ind(male_charges.sample(100),female_charges.sample(100)))"
   ]
  },
  {
   "cell_type": "markdown",
   "id": "7a2b1f8e",
   "metadata": {},
   "source": [
    "#### from above ttest , we can observe the significant p-values , so we failed to reject null hypotehsis and hence we can conclude that hospitalization charges are same for male and female ,."
   ]
  },
  {
   "cell_type": "code",
   "execution_count": null,
   "id": "a80e16e5",
   "metadata": {},
   "outputs": [],
   "source": []
  },
  {
   "cell_type": "code",
   "execution_count": 79,
   "id": "0ef286c0",
   "metadata": {},
   "outputs": [
    {
     "data": {
      "text/plain": [
       "<AxesSubplot:xlabel='hospitalization_charges', ylabel='Density'>"
      ]
     },
     "execution_count": 79,
     "metadata": {},
     "output_type": "execute_result"
    },
    {
     "data": {
      "image/png": "[encoded data removed]",
      "text/plain": [
       "<Figure size 432x288 with 1 Axes>"
      ]
     },
     "metadata": {},
     "output_type": "display_data"
    }
   ],
   "source": [
    "sns.distplot(df[df[\"sex\"]==\"female\"][\"hospitalization_charges\"])\n",
    "sns.distplot(df[df[\"sex\"]==\"male\"][\"hospitalization_charges\"])"
   ]
  },
  {
   "cell_type": "code",
   "execution_count": 91,
   "id": "ea29381b",
   "metadata": {},
   "outputs": [
    {
     "data": {
      "application/javascript": [
       "\n",
       "        if (window._pyforest_update_imports_cell) { window._pyforest_update_imports_cell('import pandas as pd\\nfrom scipy import stats'); }\n",
       "    "
      ],
      "text/plain": [
       "<IPython.core.display.Javascript object>"
      ]
     },
     "metadata": {},
     "output_type": "display_data"
    },
    {
     "name": "stdout",
     "output_type": "stream",
     "text": [
      "KstestResult(statistic=0.076, pvalue=0.11136835555551457)\n"
     ]
    },
    {
     "data": {
      "application/javascript": [
       "\n",
       "        if (window._pyforest_update_imports_cell) { window._pyforest_update_imports_cell('import pandas as pd\\nfrom scipy import stats'); }\n",
       "    "
      ],
      "text/plain": [
       "<IPython.core.display.Javascript object>"
      ]
     },
     "metadata": {},
     "output_type": "display_data"
    },
    {
     "name": "stdout",
     "output_type": "stream",
     "text": [
      "KstestResult(statistic=0.084, pvalue=0.058689209417416795)\n"
     ]
    },
    {
     "data": {
      "application/javascript": [
       "\n",
       "        if (window._pyforest_update_imports_cell) { window._pyforest_update_imports_cell('import pandas as pd\\nfrom scipy import stats'); }\n",
       "    "
      ],
      "text/plain": [
       "<IPython.core.display.Javascript object>"
      ]
     },
     "metadata": {},
     "output_type": "display_data"
    },
    {
     "name": "stdout",
     "output_type": "stream",
     "text": [
      "KstestResult(statistic=0.074, pvalue=0.12939616996710074)\n"
     ]
    },
    {
     "data": {
      "application/javascript": [
       "\n",
       "        if (window._pyforest_update_imports_cell) { window._pyforest_update_imports_cell('import pandas as pd\\nfrom scipy import stats'); }\n",
       "    "
      ],
      "text/plain": [
       "<IPython.core.display.Javascript object>"
      ]
     },
     "metadata": {},
     "output_type": "display_data"
    },
    {
     "name": "stdout",
     "output_type": "stream",
     "text": [
      "KstestResult(statistic=0.076, pvalue=0.11136835555551457)\n"
     ]
    },
    {
     "data": {
      "application/javascript": [
       "\n",
       "        if (window._pyforest_update_imports_cell) { window._pyforest_update_imports_cell('import pandas as pd\\nfrom scipy import stats'); }\n",
       "    "
      ],
      "text/plain": [
       "<IPython.core.display.Javascript object>"
      ]
     },
     "metadata": {},
     "output_type": "display_data"
    },
    {
     "name": "stdout",
     "output_type": "stream",
     "text": [
      "KstestResult(statistic=0.072, pvalue=0.14973189477810775)\n"
     ]
    }
   ],
   "source": [
    "for r in range(5):\n",
    "    print(stats.ks_2samp(data1 = df[df[\"sex\"]==\"female\"][\"hospitalization_charges\"].sample(500),\n",
    "              data2 = df[df[\"sex\"]==\"male\"][\"hospitalization_charges\"].sample(500)))"
   ]
  },
  {
   "cell_type": "markdown",
   "id": "6465ac7f",
   "metadata": {},
   "source": [
    "#### also for KS- for distribution .,wecan observe the significance value to be greater than 0.05 and hence can conclude the distribution for hospitalization chanrges for male and female is same."
   ]
  },
  {
   "cell_type": "code",
   "execution_count": null,
   "id": "27b8bf2c",
   "metadata": {},
   "outputs": [],
   "source": []
  },
  {
   "cell_type": "code",
   "execution_count": null,
   "id": "651eeece",
   "metadata": {},
   "outputs": [],
   "source": []
  },
  {
   "cell_type": "markdown",
   "id": "58aab264",
   "metadata": {},
   "source": [
    "## Is the proportion of smoking significantly different across different regions?"
   ]
  },
  {
   "cell_type": "code",
   "execution_count": 94,
   "id": "e633b2cc",
   "metadata": {},
   "outputs": [
    {
     "data": {
      "application/javascript": [
       "\n",
       "        if (window._pyforest_update_imports_cell) { window._pyforest_update_imports_cell('import pandas as pd\\nfrom scipy import stats'); }\n",
       "    "
      ],
      "text/plain": [
       "<IPython.core.display.Javascript object>"
      ]
     },
     "metadata": {},
     "output_type": "display_data"
    },
    {
     "data": {
      "text/html": [
       "<div>\n",
       "<style scoped>\n",
       "    .dataframe tbody tr th:only-of-type {\n",
       "        vertical-align: middle;\n",
       "    }\n",
       "\n",
       "    .dataframe tbody tr th {\n",
       "        vertical-align: top;\n",
       "    }\n",
       "\n",
       "    .dataframe thead th {\n",
       "        text-align: right;\n",
       "    }\n",
       "</style>\n",
       "<table border=\"1\" class=\"dataframe\">\n",
       "  <thead>\n",
       "    <tr style=\"text-align: right;\">\n",
       "      <th>region</th>\n",
       "      <th>northeast</th>\n",
       "      <th>northwest</th>\n",
       "      <th>southeast</th>\n",
       "      <th>southwest</th>\n",
       "    </tr>\n",
       "    <tr>\n",
       "      <th>smoker</th>\n",
       "      <th></th>\n",
       "      <th></th>\n",
       "      <th></th>\n",
       "      <th></th>\n",
       "    </tr>\n",
       "  </thead>\n",
       "  <tbody>\n",
       "    <tr>\n",
       "      <th>no</th>\n",
       "      <td>257</td>\n",
       "      <td>267</td>\n",
       "      <td>273</td>\n",
       "      <td>267</td>\n",
       "    </tr>\n",
       "    <tr>\n",
       "      <th>yes</th>\n",
       "      <td>67</td>\n",
       "      <td>58</td>\n",
       "      <td>91</td>\n",
       "      <td>58</td>\n",
       "    </tr>\n",
       "  </tbody>\n",
       "</table>\n",
       "</div>"
      ],
      "text/plain": [
       "region  northeast  northwest  southeast  southwest\n",
       "smoker                                            \n",
       "no            257        267        273        267\n",
       "yes            67         58         91         58"
      ]
     },
     "execution_count": 94,
     "metadata": {},
     "output_type": "execute_result"
    }
   ],
   "source": [
    "observed = pd.crosstab(columns = df[\"region\"],\n",
    "           index= df[\"smoker\"])\n",
    "observed"
   ]
  },
  {
   "cell_type": "code",
   "execution_count": 99,
   "id": "ecb03a01",
   "metadata": {},
   "outputs": [],
   "source": [
    "row_sum = np.array(np.sum(observed,axis = 1))\n",
    "\n",
    "col_sum = np.array(np.sum(observed,axis = 0))"
   ]
  },
  {
   "cell_type": "code",
   "execution_count": 100,
   "id": "6a0868bb",
   "metadata": {},
   "outputs": [
    {
     "data": {
      "text/plain": [
       "(array([1064,  274], dtype=int64), array([324, 325, 364, 325], dtype=int64))"
      ]
     },
     "execution_count": 100,
     "metadata": {},
     "output_type": "execute_result"
    }
   ],
   "source": [
    "row_sum,col_sum"
   ]
  },
  {
   "cell_type": "code",
   "execution_count": 102,
   "id": "0b5cdc30",
   "metadata": {},
   "outputs": [
    {
     "data": {
      "text/plain": [
       "1338"
      ]
     },
     "execution_count": 102,
     "metadata": {},
     "output_type": "execute_result"
    }
   ],
   "source": [
    "total_sum = np.sum(np.sum(observed))\n",
    "total_sum"
   ]
  },
  {
   "cell_type": "code",
   "execution_count": 103,
   "id": "566621c3",
   "metadata": {},
   "outputs": [
    {
     "data": {
      "text/plain": [
       "[array([257.65022422, 258.44544096, 289.45889387, 258.44544096]),\n",
       " array([66.34977578, 66.55455904, 74.54110613, 66.55455904])]"
      ]
     },
     "execution_count": 103,
     "metadata": {},
     "output_type": "execute_result"
    }
   ],
   "source": [
    "expected = []\n",
    "for i in row_sum:\n",
    "    expected.append((i*col_sum)/total_sum)\n",
    "expected"
   ]
  },
  {
   "cell_type": "code",
   "execution_count": 104,
   "id": "2e0bd435",
   "metadata": {},
   "outputs": [
    {
     "data": {
      "application/javascript": [
       "\n",
       "        if (window._pyforest_update_imports_cell) { window._pyforest_update_imports_cell('import pandas as pd\\nfrom scipy import stats'); }\n",
       "    "
      ],
      "text/plain": [
       "<IPython.core.display.Javascript object>"
      ]
     },
     "metadata": {},
     "output_type": "display_data"
    }
   ],
   "source": [
    "expected = pd.DataFrame(expected, columns= observed.columns)"
   ]
  },
  {
   "cell_type": "code",
   "execution_count": 106,
   "id": "d2961a49",
   "metadata": {},
   "outputs": [],
   "source": [
    "expected.index = observed.index\n"
   ]
  },
  {
   "cell_type": "code",
   "execution_count": 107,
   "id": "4da64266",
   "metadata": {},
   "outputs": [
    {
     "data": {
      "text/html": [
       "<div>\n",
       "<style scoped>\n",
       "    .dataframe tbody tr th:only-of-type {\n",
       "        vertical-align: middle;\n",
       "    }\n",
       "\n",
       "    .dataframe tbody tr th {\n",
       "        vertical-align: top;\n",
       "    }\n",
       "\n",
       "    .dataframe thead th {\n",
       "        text-align: right;\n",
       "    }\n",
       "</style>\n",
       "<table border=\"1\" class=\"dataframe\">\n",
       "  <thead>\n",
       "    <tr style=\"text-align: right;\">\n",
       "      <th>region</th>\n",
       "      <th>northeast</th>\n",
       "      <th>northwest</th>\n",
       "      <th>southeast</th>\n",
       "      <th>southwest</th>\n",
       "    </tr>\n",
       "    <tr>\n",
       "      <th>smoker</th>\n",
       "      <th></th>\n",
       "      <th></th>\n",
       "      <th></th>\n",
       "      <th></th>\n",
       "    </tr>\n",
       "  </thead>\n",
       "  <tbody>\n",
       "    <tr>\n",
       "      <th>no</th>\n",
       "      <td>257.650224</td>\n",
       "      <td>258.445441</td>\n",
       "      <td>289.458894</td>\n",
       "      <td>258.445441</td>\n",
       "    </tr>\n",
       "    <tr>\n",
       "      <th>yes</th>\n",
       "      <td>66.349776</td>\n",
       "      <td>66.554559</td>\n",
       "      <td>74.541106</td>\n",
       "      <td>66.554559</td>\n",
       "    </tr>\n",
       "  </tbody>\n",
       "</table>\n",
       "</div>"
      ],
      "text/plain": [
       "region   northeast   northwest   southeast   southwest\n",
       "smoker                                                \n",
       "no      257.650224  258.445441  289.458894  258.445441\n",
       "yes      66.349776   66.554559   74.541106   66.554559"
      ]
     },
     "execution_count": 107,
     "metadata": {},
     "output_type": "execute_result"
    }
   ],
   "source": [
    "expected"
   ]
  },
  {
   "cell_type": "code",
   "execution_count": 108,
   "id": "3cd6a6ac",
   "metadata": {},
   "outputs": [],
   "source": [
    "o_e_2_by_e = ((observed-expected)**2)/expected\n"
   ]
  },
  {
   "cell_type": "code",
   "execution_count": 109,
   "id": "e5c6a2ac",
   "metadata": {},
   "outputs": [
    {
     "data": {
      "text/plain": [
       "7.343477761407071"
      ]
     },
     "execution_count": 109,
     "metadata": {},
     "output_type": "execute_result"
    }
   ],
   "source": [
    "np.sum(np.sum(o_e_2_by_e))   # test statistic\n"
   ]
  },
  {
   "cell_type": "code",
   "execution_count": 110,
   "id": "1b9ac595",
   "metadata": {},
   "outputs": [
    {
     "data": {
      "application/javascript": [
       "\n",
       "        if (window._pyforest_update_imports_cell) { window._pyforest_update_imports_cell('import pandas as pd\\nfrom scipy import stats'); }\n",
       "    "
      ],
      "text/plain": [
       "<IPython.core.display.Javascript object>"
      ]
     },
     "metadata": {},
     "output_type": "display_data"
    },
    {
     "data": {
      "text/plain": [
       "7.814727903251179"
      ]
     },
     "execution_count": 110,
     "metadata": {},
     "output_type": "execute_result"
    }
   ],
   "source": [
    "stats.chi2.ppf(0.95,df=3)  # chi-sq critical value\n"
   ]
  },
  {
   "cell_type": "code",
   "execution_count": 111,
   "id": "ca087dbf",
   "metadata": {},
   "outputs": [
    {
     "data": {
      "application/javascript": [
       "\n",
       "        if (window._pyforest_update_imports_cell) { window._pyforest_update_imports_cell('import pandas as pd\\nfrom scipy import stats'); }\n",
       "    "
      ],
      "text/plain": [
       "<IPython.core.display.Javascript object>"
      ]
     },
     "metadata": {},
     "output_type": "display_data"
    },
    {
     "data": {
      "text/plain": [
       "0.06171954839170546"
      ]
     },
     "execution_count": 111,
     "metadata": {},
     "output_type": "execute_result"
    }
   ],
   "source": [
    "1-stats.chi2.cdf(7.343477761407071,3)"
   ]
  },
  {
   "cell_type": "code",
   "execution_count": null,
   "id": "0bc430c0",
   "metadata": {},
   "outputs": [],
   "source": []
  },
  {
   "cell_type": "code",
   "execution_count": 112,
   "id": "cf949e1e",
   "metadata": {},
   "outputs": [
    {
     "data": {
      "application/javascript": [
       "\n",
       "        if (window._pyforest_update_imports_cell) { window._pyforest_update_imports_cell('import pandas as pd\\nfrom scipy import stats'); }\n",
       "    "
      ],
      "text/plain": [
       "<IPython.core.display.Javascript object>"
      ]
     },
     "metadata": {},
     "output_type": "display_data"
    },
    {
     "data": {
      "text/plain": [
       "(7.34347776140707,\n",
       " 0.06171954839170547,\n",
       " 3,\n",
       " array([[257.65022422, 258.44544096, 289.45889387, 258.44544096],\n",
       "        [ 66.34977578,  66.55455904,  74.54110613,  66.55455904]]))"
      ]
     },
     "execution_count": 112,
     "metadata": {},
     "output_type": "execute_result"
    }
   ],
   "source": [
    "stats.chi2_contingency(observed)\n"
   ]
  },
  {
   "cell_type": "markdown",
   "id": "9cc72dce",
   "metadata": {},
   "source": [
    "#### from above chi-square test of independence we failed to reject null hypothesis , hence we conclude that proportion of smoking across different region is same."
   ]
  },
  {
   "cell_type": "code",
   "execution_count": null,
   "id": "d680ce8a",
   "metadata": {},
   "outputs": [],
   "source": []
  },
  {
   "cell_type": "code",
   "execution_count": null,
   "id": "48cdde7a",
   "metadata": {},
   "outputs": [],
   "source": []
  },
  {
   "cell_type": "code",
   "execution_count": null,
   "id": "85c196e7",
   "metadata": {},
   "outputs": [],
   "source": []
  },
  {
   "cell_type": "code",
   "execution_count": null,
   "id": "a0f09b2c",
   "metadata": {},
   "outputs": [],
   "source": []
  },
  {
   "cell_type": "code",
   "execution_count": null,
   "id": "3b4d12a6",
   "metadata": {},
   "outputs": [],
   "source": []
  },
  {
   "cell_type": "markdown",
   "id": "81566434",
   "metadata": {},
   "source": [
    "### viral_load"
   ]
  },
  {
   "cell_type": "code",
   "execution_count": 153,
   "id": "c90a17c6",
   "metadata": {},
   "outputs": [
    {
     "data": {
      "text/plain": [
       "<AxesSubplot:xlabel='viral_load', ylabel='Density'>"
      ]
     },
     "execution_count": 153,
     "metadata": {},
     "output_type": "execute_result"
    },
    {
     "data": {
      "image/png": "[encoded data removed]",
      "text/plain": [
       "<Figure size 432x288 with 1 Axes>"
      ]
     },
     "metadata": {},
     "output_type": "display_data"
    }
   ],
   "source": [
    "sns.distplot(df[\"viral_load\"])"
   ]
  },
  {
   "cell_type": "code",
   "execution_count": null,
   "id": "80e3cd9d",
   "metadata": {},
   "outputs": [],
   "source": []
  },
  {
   "cell_type": "code",
   "execution_count": 120,
   "id": "f9870204",
   "metadata": {},
   "outputs": [
    {
     "data": {
      "application/javascript": [
       "\n",
       "        if (window._pyforest_update_imports_cell) { window._pyforest_update_imports_cell('import pandas as pd\\nfrom scipy import stats'); }\n",
       "    "
      ],
      "text/plain": [
       "<IPython.core.display.Javascript object>"
      ]
     },
     "metadata": {},
     "output_type": "display_data"
    },
    {
     "data": {
      "text/html": [
       "<div>\n",
       "<style scoped>\n",
       "    .dataframe tbody tr th:only-of-type {\n",
       "        vertical-align: middle;\n",
       "    }\n",
       "\n",
       "    .dataframe tbody tr th {\n",
       "        vertical-align: top;\n",
       "    }\n",
       "\n",
       "    .dataframe thead th {\n",
       "        text-align: right;\n",
       "    }\n",
       "</style>\n",
       "<table border=\"1\" class=\"dataframe\">\n",
       "  <thead>\n",
       "    <tr style=\"text-align: right;\">\n",
       "      <th>sex</th>\n",
       "      <th>female</th>\n",
       "      <th>male</th>\n",
       "    </tr>\n",
       "    <tr>\n",
       "      <th>severity_level</th>\n",
       "      <th></th>\n",
       "      <th></th>\n",
       "    </tr>\n",
       "  </thead>\n",
       "  <tbody>\n",
       "    <tr>\n",
       "      <th>0</th>\n",
       "      <td>10.120727</td>\n",
       "      <td>10.247544</td>\n",
       "    </tr>\n",
       "    <tr>\n",
       "      <th>1</th>\n",
       "      <td>10.017468</td>\n",
       "      <td>10.388494</td>\n",
       "    </tr>\n",
       "    <tr>\n",
       "      <th>2</th>\n",
       "      <td>10.216807</td>\n",
       "      <td>10.433554</td>\n",
       "    </tr>\n",
       "    <tr>\n",
       "      <th>3</th>\n",
       "      <td>10.145974</td>\n",
       "      <td>10.307375</td>\n",
       "    </tr>\n",
       "    <tr>\n",
       "      <th>4</th>\n",
       "      <td>10.647273</td>\n",
       "      <td>10.320000</td>\n",
       "    </tr>\n",
       "    <tr>\n",
       "      <th>5</th>\n",
       "      <td>10.206250</td>\n",
       "      <td>9.598000</td>\n",
       "    </tr>\n",
       "  </tbody>\n",
       "</table>\n",
       "</div>"
      ],
      "text/plain": [
       "sex                female       male\n",
       "severity_level                      \n",
       "0               10.120727  10.247544\n",
       "1               10.017468  10.388494\n",
       "2               10.216807  10.433554\n",
       "3               10.145974  10.307375\n",
       "4               10.647273  10.320000\n",
       "5               10.206250   9.598000"
      ]
     },
     "execution_count": 120,
     "metadata": {},
     "output_type": "execute_result"
    }
   ],
   "source": [
    "pd.crosstab(columns = df[\"sex\"],\n",
    "           index  = df[\"severity_level\"],\n",
    "           values = df[\"viral_load\"],\n",
    "           aggfunc = np.mean)"
   ]
  },
  {
   "cell_type": "code",
   "execution_count": 155,
   "id": "626acaec",
   "metadata": {},
   "outputs": [
    {
     "data": {
      "application/javascript": [
       "\n",
       "        if (window._pyforest_update_imports_cell) { window._pyforest_update_imports_cell('import pandas as pd\\nfrom scipy import stats'); }\n",
       "    "
      ],
      "text/plain": [
       "<IPython.core.display.Javascript object>"
      ]
     },
     "metadata": {},
     "output_type": "display_data"
    },
    {
     "data": {
      "image/png": "[encoded data removed]",
      "text/plain": [
       "<Figure size 432x288 with 1 Axes>"
      ]
     },
     "metadata": {},
     "output_type": "display_data"
    }
   ],
   "source": [
    "pd.crosstab(columns = df[\"sex\"],\n",
    "           index  = df[\"severity_level\"],\n",
    "           values = df[\"viral_load\"],\n",
    "           aggfunc = np.mean).plot()\n",
    "plt.ylim(7,12)\n",
    "plt.show()"
   ]
  },
  {
   "cell_type": "code",
   "execution_count": 136,
   "id": "6a983ff7",
   "metadata": {},
   "outputs": [
    {
     "data": {
      "text/plain": [
       "<AxesSubplot:xlabel='viral_load', ylabel='Density'>"
      ]
     },
     "execution_count": 136,
     "metadata": {},
     "output_type": "execute_result"
    },
    {
     "data": {
      "image/png": "[encoded data removed]",
      "text/plain": [
       "<Figure size 432x288 with 1 Axes>"
      ]
     },
     "metadata": {},
     "output_type": "display_data"
    }
   ],
   "source": [
    "sns.kdeplot(df[df[\"severity_level\"]==0][\"viral_load\"])\n",
    "sns.kdeplot(df[df[\"severity_level\"]==1][\"viral_load\"])\n",
    "sns.kdeplot(df[df[\"severity_level\"]==2][\"viral_load\"])\n",
    "sns.kdeplot(df[df[\"severity_level\"]==3][\"viral_load\"])\n",
    "sns.kdeplot(df[df[\"severity_level\"]==4][\"viral_load\"])\n",
    "sns.kdeplot(df[df[\"severity_level\"]==5][\"viral_load\"])"
   ]
  },
  {
   "cell_type": "code",
   "execution_count": null,
   "id": "0d150a94",
   "metadata": {},
   "outputs": [],
   "source": []
  },
  {
   "cell_type": "code",
   "execution_count": 150,
   "id": "984ed2ae",
   "metadata": {},
   "outputs": [
    {
     "data": {
      "image/png": "[encoded data removed]",
      "text/plain": [
       "<Figure size 432x288 with 1 Axes>"
      ]
     },
     "metadata": {},
     "output_type": "display_data"
    }
   ],
   "source": [
    "sm.qqplot((df[df[\"severity_level\"]==0][\"viral_load\"]))\n",
    "plt.show()"
   ]
  },
  {
   "cell_type": "code",
   "execution_count": null,
   "id": "ea750b89",
   "metadata": {},
   "outputs": [],
   "source": []
  },
  {
   "cell_type": "code",
   "execution_count": null,
   "id": "ef010ec9",
   "metadata": {},
   "outputs": [],
   "source": []
  },
  {
   "cell_type": "code",
   "execution_count": 132,
   "id": "2ac9028a",
   "metadata": {},
   "outputs": [
    {
     "data": {
      "text/plain": [
       "(10.183693379790936,\n",
       " 10.207561728395063,\n",
       " 10.326083333333333,\n",
       " 10.22821656050955,\n",
       " 10.464,\n",
       " 9.868333333333332)"
      ]
     },
     "execution_count": 132,
     "metadata": {},
     "output_type": "execute_result"
    }
   ],
   "source": [
    "df[df[\"severity_level\"]==0][\"viral_load\"].mean(),df[df[\"severity_level\"]==1][\"viral_load\"].mean(),df[df[\"severity_level\"]==2][\"viral_load\"].mean(),df[df[\"severity_level\"]==3][\"viral_load\"].mean(),df[df[\"severity_level\"]==4][\"viral_load\"].mean(),df[df[\"severity_level\"]==5][\"viral_load\"].mean()"
   ]
  },
  {
   "cell_type": "code",
   "execution_count": 130,
   "id": "0e09a245",
   "metadata": {},
   "outputs": [
    {
     "data": {
      "application/javascript": [
       "\n",
       "        if (window._pyforest_update_imports_cell) { window._pyforest_update_imports_cell('import pandas as pd\\nfrom scipy import stats'); }\n",
       "    "
      ],
      "text/plain": [
       "<IPython.core.display.Javascript object>"
      ]
     },
     "metadata": {},
     "output_type": "display_data"
    },
    {
     "data": {
      "text/plain": [
       "F_onewayResult(statistic=0.3491094504719582, pvalue=0.883007195713889)"
      ]
     },
     "execution_count": 130,
     "metadata": {},
     "output_type": "execute_result"
    }
   ],
   "source": [
    "stats.f_oneway(df[df[\"severity_level\"]==0][\"viral_load\"],\n",
    "df[df[\"severity_level\"]==1][\"viral_load\"],\n",
    "df[df[\"severity_level\"]==2][\"viral_load\"],\n",
    "df[df[\"severity_level\"]==3][\"viral_load\"],\n",
    "df[df[\"severity_level\"]==4][\"viral_load\"],\n",
    "df[df[\"severity_level\"]==5][\"viral_load\"])"
   ]
  },
  {
   "cell_type": "code",
   "execution_count": null,
   "id": "e65cb6d7",
   "metadata": {},
   "outputs": [],
   "source": []
  },
  {
   "cell_type": "code",
   "execution_count": null,
   "id": "02a5291d",
   "metadata": {},
   "outputs": [],
   "source": []
  },
  {
   "cell_type": "code",
   "execution_count": 134,
   "id": "a95a5f14",
   "metadata": {},
   "outputs": [],
   "source": [
    "womendata = df[df[\"sex\"]==\"female\"]"
   ]
  },
  {
   "cell_type": "code",
   "execution_count": 135,
   "id": "3c87eaeb",
   "metadata": {},
   "outputs": [
    {
     "data": {
      "application/javascript": [
       "\n",
       "        if (window._pyforest_update_imports_cell) { window._pyforest_update_imports_cell('import pandas as pd\\nfrom scipy import stats'); }\n",
       "    "
      ],
      "text/plain": [
       "<IPython.core.display.Javascript object>"
      ]
     },
     "metadata": {},
     "output_type": "display_data"
    },
    {
     "data": {
      "text/plain": [
       "F_onewayResult(statistic=0.2900065466233716, pvalue=0.9185708092374022)"
      ]
     },
     "execution_count": 135,
     "metadata": {},
     "output_type": "execute_result"
    }
   ],
   "source": [
    "stats.f_oneway(womendata[womendata[\"severity_level\"]==0][\"viral_load\"],\n",
    "womendata[womendata[\"severity_level\"]==1][\"viral_load\"],\n",
    "womendata[womendata[\"severity_level\"]==2][\"viral_load\"],\n",
    "womendata[womendata[\"severity_level\"]==3][\"viral_load\"],\n",
    "womendata[womendata[\"severity_level\"]==4][\"viral_load\"],\n",
    "womendata[womendata[\"severity_level\"]==5][\"viral_load\"])"
   ]
  },
  {
   "cell_type": "code",
   "execution_count": null,
   "id": "514d74b7",
   "metadata": {},
   "outputs": [],
   "source": []
  },
  {
   "cell_type": "code",
   "execution_count": null,
   "id": "59801599",
   "metadata": {},
   "outputs": [],
   "source": []
  },
  {
   "cell_type": "code",
   "execution_count": null,
   "id": "dd4d6b91",
   "metadata": {},
   "outputs": [],
   "source": []
  },
  {
   "cell_type": "code",
   "execution_count": null,
   "id": "e6e22c5c",
   "metadata": {},
   "outputs": [],
   "source": []
  },
  {
   "cell_type": "code",
   "execution_count": null,
   "id": "3faf448e",
   "metadata": {},
   "outputs": [],
   "source": []
  },
  {
   "cell_type": "code",
   "execution_count": null,
   "id": "fd86c40f",
   "metadata": {},
   "outputs": [],
   "source": [
    "df.columns"
   ]
  },
  {
   "cell_type": "code",
   "execution_count": null,
   "id": "86ace2b4",
   "metadata": {},
   "outputs": [],
   "source": [
    "sns.jointplot(df[\"viral_load\"],df[\"hospitalization_charges\"])"
   ]
  },
  {
   "cell_type": "code",
   "execution_count": null,
   "id": "d13f3d99",
   "metadata": {},
   "outputs": [],
   "source": []
  },
  {
   "cell_type": "code",
   "execution_count": null,
   "id": "8f415e14",
   "metadata": {},
   "outputs": [],
   "source": [
    "sns.jointplot(df[\"age\"],df[\"hospitalization_charges\"])"
   ]
  },
  {
   "cell_type": "code",
   "execution_count": null,
   "id": "d05519fe",
   "metadata": {},
   "outputs": [],
   "source": []
  },
  {
   "cell_type": "code",
   "execution_count": null,
   "id": "2c0bfaa5",
   "metadata": {},
   "outputs": [],
   "source": [
    "sns.heatmap(df.corr(),annot=True, cmap = \"Blues\")"
   ]
  },
  {
   "cell_type": "code",
   "execution_count": null,
   "id": "1fe9f1e9",
   "metadata": {},
   "outputs": [],
   "source": []
  },
  {
   "cell_type": "code",
   "execution_count": null,
   "id": "ae9032e6",
   "metadata": {},
   "outputs": [],
   "source": []
  },
  {
   "cell_type": "code",
   "execution_count": null,
   "id": "747c9a17",
   "metadata": {},
   "outputs": [],
   "source": []
  },
  {
   "cell_type": "code",
   "execution_count": null,
   "id": "23a00835",
   "metadata": {},
   "outputs": [],
   "source": []
  },
  {
   "cell_type": "code",
   "execution_count": null,
   "id": "443c8e50",
   "metadata": {},
   "outputs": [],
   "source": []
  },
  {
   "cell_type": "code",
   "execution_count": null,
   "id": "486d2d6f",
   "metadata": {},
   "outputs": [],
   "source": []
  },
  {
   "cell_type": "code",
   "execution_count": null,
   "id": "d9a97ee9",
   "metadata": {},
   "outputs": [],
   "source": []
  },
  {
   "cell_type": "code",
   "execution_count": null,
   "id": "5285a097",
   "metadata": {},
   "outputs": [],
   "source": []
  },
  {
   "cell_type": "code",
   "execution_count": null,
   "id": "d966d62e",
   "metadata": {},
   "outputs": [],
   "source": []
  }
 ],
 "metadata": {
  "kernelspec": {
   "display_name": "Python 3 (ipykernel)",
   "language": "python",
   "name": "python3"
  },
  "language_info": {
   "codemirror_mode": {
    "name": "ipython",
    "version": 3
   },
   "file_extension": ".py",
   "mimetype": "text/x-python",
   "name": "python",
   "nbconvert_exporter": "python",
   "pygments_lexer": "ipython3",
   "version": "3.9.7"
  }
 },
 "nbformat": 4,
 "nbformat_minor": 5
}
