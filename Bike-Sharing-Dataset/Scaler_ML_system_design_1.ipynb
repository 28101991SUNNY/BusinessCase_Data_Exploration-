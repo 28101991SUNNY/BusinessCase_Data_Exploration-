{
 "cells": [
  {
   "cell_type": "code",
   "execution_count": 1,
   "id": "8db6bb0a-cd35-4589-a92d-ae2161c6a746",
   "metadata": {},
   "outputs": [],
   "source": [
    "import datetime\n",
    "import pandas as pd\n",
    "import numpy as np\n",
    "import requests\n",
    "import zipfile\n",
    "import io\n",
    "import json\n",
    "\n",
    "from sklearn import datasets, ensemble, model_selection\n",
    "from scipy.stats import anderson_ksamp"
   ]
  },
  {
   "cell_type": "code",
   "execution_count": 2,
   "id": "7a24c94e-8b50-49d6-b447-f83ec1db5f04",
   "metadata": {},
   "outputs": [],
   "source": [
    "content = requests.get(\"https://archive.ics.uci.edu/ml/machine-learning-databases/00275/Bike-Sharing-Dataset.zip\").content\n",
    "with zipfile.ZipFile(io.BytesIO(content)) as arc:\n",
    "    raw_data = pd.read_csv(arc.open(\"hour.csv\"), header=0, sep=',', parse_dates=['dteday'])"
   ]
  },
  {
   "cell_type": "code",
   "execution_count": 3,
   "id": "673d5d16-3916-4807-ab30-13428e636598",
   "metadata": {},
   "outputs": [],
   "source": [
    "raw_data.index = raw_data.apply(lambda row: datetime.datetime.combine(row.dteday.date(), datetime.time(row.hr)),\n",
    "                                axis=1)"
   ]
  },
  {
   "cell_type": "code",
   "execution_count": 4,
   "id": "378495ef-ae43-4326-9ff8-46c5c4e195d3",
   "metadata": {},
   "outputs": [
    {
     "data": {
      "text/html": [
       "<div>\n",
       "<style scoped>\n",
       "    .dataframe tbody tr th:only-of-type {\n",
       "        vertical-align: middle;\n",
       "    }\n",
       "\n",
       "    .dataframe tbody tr th {\n",
       "        vertical-align: top;\n",
       "    }\n",
       "\n",
       "    .dataframe thead th {\n",
       "        text-align: right;\n",
       "    }\n",
       "</style>\n",
       "<table border=\"1\" class=\"dataframe\">\n",
       "  <thead>\n",
       "    <tr style=\"text-align: right;\">\n",
       "      <th></th>\n",
       "      <th>instant</th>\n",
       "      <th>dteday</th>\n",
       "      <th>season</th>\n",
       "      <th>yr</th>\n",
       "      <th>mnth</th>\n",
       "      <th>hr</th>\n",
       "      <th>holiday</th>\n",
       "      <th>weekday</th>\n",
       "      <th>workingday</th>\n",
       "      <th>weathersit</th>\n",
       "      <th>temp</th>\n",
       "      <th>atemp</th>\n",
       "      <th>hum</th>\n",
       "      <th>windspeed</th>\n",
       "      <th>casual</th>\n",
       "      <th>registered</th>\n",
       "      <th>cnt</th>\n",
       "    </tr>\n",
       "  </thead>\n",
       "  <tbody>\n",
       "    <tr>\n",
       "      <th>2011-01-01 00:00:00</th>\n",
       "      <td>1</td>\n",
       "      <td>2011-01-01</td>\n",
       "      <td>1</td>\n",
       "      <td>0</td>\n",
       "      <td>1</td>\n",
       "      <td>0</td>\n",
       "      <td>0</td>\n",
       "      <td>6</td>\n",
       "      <td>0</td>\n",
       "      <td>1</td>\n",
       "      <td>0.24</td>\n",
       "      <td>0.2879</td>\n",
       "      <td>0.81</td>\n",
       "      <td>0.0</td>\n",
       "      <td>3</td>\n",
       "      <td>13</td>\n",
       "      <td>16</td>\n",
       "    </tr>\n",
       "    <tr>\n",
       "      <th>2011-01-01 01:00:00</th>\n",
       "      <td>2</td>\n",
       "      <td>2011-01-01</td>\n",
       "      <td>1</td>\n",
       "      <td>0</td>\n",
       "      <td>1</td>\n",
       "      <td>1</td>\n",
       "      <td>0</td>\n",
       "      <td>6</td>\n",
       "      <td>0</td>\n",
       "      <td>1</td>\n",
       "      <td>0.22</td>\n",
       "      <td>0.2727</td>\n",
       "      <td>0.80</td>\n",
       "      <td>0.0</td>\n",
       "      <td>8</td>\n",
       "      <td>32</td>\n",
       "      <td>40</td>\n",
       "    </tr>\n",
       "    <tr>\n",
       "      <th>2011-01-01 02:00:00</th>\n",
       "      <td>3</td>\n",
       "      <td>2011-01-01</td>\n",
       "      <td>1</td>\n",
       "      <td>0</td>\n",
       "      <td>1</td>\n",
       "      <td>2</td>\n",
       "      <td>0</td>\n",
       "      <td>6</td>\n",
       "      <td>0</td>\n",
       "      <td>1</td>\n",
       "      <td>0.22</td>\n",
       "      <td>0.2727</td>\n",
       "      <td>0.80</td>\n",
       "      <td>0.0</td>\n",
       "      <td>5</td>\n",
       "      <td>27</td>\n",
       "      <td>32</td>\n",
       "    </tr>\n",
       "    <tr>\n",
       "      <th>2011-01-01 03:00:00</th>\n",
       "      <td>4</td>\n",
       "      <td>2011-01-01</td>\n",
       "      <td>1</td>\n",
       "      <td>0</td>\n",
       "      <td>1</td>\n",
       "      <td>3</td>\n",
       "      <td>0</td>\n",
       "      <td>6</td>\n",
       "      <td>0</td>\n",
       "      <td>1</td>\n",
       "      <td>0.24</td>\n",
       "      <td>0.2879</td>\n",
       "      <td>0.75</td>\n",
       "      <td>0.0</td>\n",
       "      <td>3</td>\n",
       "      <td>10</td>\n",
       "      <td>13</td>\n",
       "    </tr>\n",
       "    <tr>\n",
       "      <th>2011-01-01 04:00:00</th>\n",
       "      <td>5</td>\n",
       "      <td>2011-01-01</td>\n",
       "      <td>1</td>\n",
       "      <td>0</td>\n",
       "      <td>1</td>\n",
       "      <td>4</td>\n",
       "      <td>0</td>\n",
       "      <td>6</td>\n",
       "      <td>0</td>\n",
       "      <td>1</td>\n",
       "      <td>0.24</td>\n",
       "      <td>0.2879</td>\n",
       "      <td>0.75</td>\n",
       "      <td>0.0</td>\n",
       "      <td>0</td>\n",
       "      <td>1</td>\n",
       "      <td>1</td>\n",
       "    </tr>\n",
       "  </tbody>\n",
       "</table>\n",
       "</div>"
      ],
      "text/plain": [
       "                     instant     dteday  season  yr  mnth  hr  holiday  \\\n",
       "2011-01-01 00:00:00        1 2011-01-01       1   0     1   0        0   \n",
       "2011-01-01 01:00:00        2 2011-01-01       1   0     1   1        0   \n",
       "2011-01-01 02:00:00        3 2011-01-01       1   0     1   2        0   \n",
       "2011-01-01 03:00:00        4 2011-01-01       1   0     1   3        0   \n",
       "2011-01-01 04:00:00        5 2011-01-01       1   0     1   4        0   \n",
       "\n",
       "                     weekday  workingday  weathersit  temp   atemp   hum  \\\n",
       "2011-01-01 00:00:00        6           0           1  0.24  0.2879  0.81   \n",
       "2011-01-01 01:00:00        6           0           1  0.22  0.2727  0.80   \n",
       "2011-01-01 02:00:00        6           0           1  0.22  0.2727  0.80   \n",
       "2011-01-01 03:00:00        6           0           1  0.24  0.2879  0.75   \n",
       "2011-01-01 04:00:00        6           0           1  0.24  0.2879  0.75   \n",
       "\n",
       "                     windspeed  casual  registered  cnt  \n",
       "2011-01-01 00:00:00        0.0       3          13   16  \n",
       "2011-01-01 01:00:00        0.0       8          32   40  \n",
       "2011-01-01 02:00:00        0.0       5          27   32  \n",
       "2011-01-01 03:00:00        0.0       3          10   13  \n",
       "2011-01-01 04:00:00        0.0       0           1    1  "
      ]
     },
     "execution_count": 4,
     "metadata": {},
     "output_type": "execute_result"
    }
   ],
   "source": [
    "raw_data.head()"
   ]
  },
  {
   "cell_type": "code",
   "execution_count": 5,
   "id": "c9cda831-2ecc-4836-9d9d-a478730c37f7",
   "metadata": {},
   "outputs": [
    {
     "name": "stdout",
     "output_type": "stream",
     "text": [
      "['temp', KstestResult(statistic=0.3268630919426928, pvalue=6.026276035162504e-32, statistic_location=0.22, statistic_sign=1)]\n",
      "col rejected temp\n",
      "['atemp', KstestResult(statistic=0.3233995435947986, pvalue=2.855460838157155e-31, statistic_location=0.2273, statistic_sign=1)]\n",
      "col rejected atemp\n",
      "['hum', KstestResult(statistic=0.10336407541938417, pvalue=0.0014918623865842317, statistic_location=0.35, statistic_sign=-1)]\n",
      "col rejected hum\n",
      "['windspeed', KstestResult(statistic=0.07590999725436713, pvalue=0.04055120974818981, statistic_location=0.3284, statistic_sign=1)]\n",
      "col rejected windspeed\n",
      "['mnth', KstestResult(statistic=0.9026425591098748, pvalue=1.472945287377825e-288, statistic_location=1, statistic_sign=1)]\n",
      "col rejected mnth\n",
      "['hr', KstestResult(statistic=0.011077053260776609, pvalue=0.999999999980103, statistic_location=3, statistic_sign=-1)]\n",
      "['weekday', KstestResult(statistic=0.022863019926092965, pvalue=0.9929320453958753, statistic_location=1, statistic_sign=-1)]\n"
     ]
    }
   ],
   "source": [
    "from scipy import stats\n",
    "import random\n",
    "\n",
    "\n",
    "#Significance level\n",
    "\n",
    "p_value_thres = 0.05\n",
    "rejected = 0\n",
    "\n",
    "numerical_features = ['temp', 'atemp', 'hum', 'windspeed', 'mnth', 'hr', 'weekday']\n",
    "categorical_features = ['season', 'holiday', 'workingday']\n",
    "\n",
    "\n",
    "reference = raw_data.loc['2011-01-01 00:00:00':'2011-01-28 23:00:00']\n",
    "current = raw_data.loc['2011-01-29 00:00:00':'2011-02-28 23:00:00']\n",
    "\n",
    "\n",
    "for col in numerical_features:\n",
    "    test=stats.ks_2samp(reference[col],current[col])\n",
    "    print([col,test])\n",
    "    if test[1]<p_value_thres:\n",
    "        rejected+=1\n",
    "        print(\"col rejected {}\".format(col))\n"
   ]
  },
  {
   "cell_type": "code",
   "execution_count": 6,
   "id": "e0f0a14b-5dc5-4ccb-94be-3f074f60892e",
   "metadata": {},
   "outputs": [],
   "source": [
    "from scipy.stats import chi2_contingency\n",
    "def drift_chisquare(sample1, sample2):\n",
    "    return chi2_contingency([sample1, sample2])[1]"
   ]
  },
  {
   "cell_type": "code",
   "execution_count": 7,
   "id": "185c80e9-f401-41cb-846c-8c74f73aa3c3",
   "metadata": {},
   "outputs": [
    {
     "name": "stdout",
     "output_type": "stream",
     "text": [
      "season {1}\n",
      "holiday {0, 1}\n",
      "workingday {0, 1}\n"
     ]
    }
   ],
   "source": [
    "for col in categorical_features:\n",
    "    print(col, set(reference[col].values))"
   ]
  },
  {
   "cell_type": "code",
   "execution_count": 8,
   "id": "8c6e1ac1-d94d-4421-a555-6e539782187e",
   "metadata": {},
   "outputs": [
    {
     "name": "stdout",
     "output_type": "stream",
     "text": [
      "['season', 1.0]\n",
      "['holiday', 0.6986573626612528]\n",
      "['workingday', 0.5917879941201512]\n"
     ]
    }
   ],
   "source": [
    "for col in categorical_features:\n",
    "    test=drift_chisquare(reference[col].value_counts(),current[col].value_counts())\n",
    "    print([col,test])\n",
    "    if test<p_value_thres:\n",
    "        rejected+=1\n",
    "        print(\"col rejected {}\".format(col))\n"
   ]
  },
  {
   "cell_type": "code",
   "execution_count": 9,
   "id": "23e5253d-5ff3-4953-a386-249d6aa8d5a2",
   "metadata": {},
   "outputs": [
    {
     "name": "stdout",
     "output_type": "stream",
     "text": [
      "MAE 11.561559139784945\n",
      "MSE 318.20751666666666\n",
      "R2 0.8669866653805993\n"
     ]
    }
   ],
   "source": [
    "## Modeling\n",
    "\n",
    "target = 'cnt'\n",
    "prediction = 'prediction'\n",
    "numerical_features = ['temp', 'atemp', 'hum', 'windspeed', 'mnth', 'hr', 'weekday']\n",
    "categorical_features = ['season', 'holiday', 'workingday', ]#'weathersit']\n",
    "reference = raw_data.loc['2011-01-01 00:00:00':'2011-01-28 23:00:00']\n",
    "current = raw_data.loc['2011-01-29 00:00:00':'2011-02-28 23:00:00']\n",
    "X_train, X_test, y_train, y_test = model_selection.train_test_split(\n",
    "    reference[numerical_features + categorical_features],\n",
    "    reference[target],\n",
    "    test_size=0.3\n",
    ")\n",
    "regressor = ensemble.RandomForestRegressor(random_state = 0)\n",
    "\n",
    "regressor.fit(X_train, y_train)\n",
    "\n",
    "preds_test = regressor.predict(X_test)\n",
    "\n",
    "## validation\n",
    "from sklearn.metrics import mean_absolute_error\n",
    "from sklearn.metrics import mean_squared_error\n",
    "from sklearn.metrics import r2_score\n",
    "\n",
    "ref_mae=mean_absolute_error(y_test,preds_test)\n",
    "ref_mse=mean_squared_error(y_test,preds_test)\n",
    "ref_r2 = r2_score(y_test,preds_test)\n",
    "\n",
    "print(\"MAE\",ref_mae)\n",
    "print(\"MSE\",ref_mse)\n",
    "print(\"R2\",ref_r2)\n"
   ]
  },
  {
   "cell_type": "code",
   "execution_count": 10,
   "id": "ec6e4dee-493f-4767-8068-0980fdfcb41d",
   "metadata": {},
   "outputs": [
    {
     "name": "stdout",
     "output_type": "stream",
     "text": [
      "MAE 20.500931849791375\n",
      "MSE 1128.504183727399\n",
      "0.708084004632376\n"
     ]
    }
   ],
   "source": [
    "### Feb data metrics\n",
    "current_x=current[numerical_features + categorical_features]\n",
    "current_y=current[target]\n",
    "\n",
    "current_pred = regressor.predict(current_x)\n",
    "print(\"MAE\",mean_absolute_error(current_y,current_pred))\n",
    "print(\"MSE\",mean_squared_error(current_y,current_pred))\n",
    "\n",
    "r2 = r2_score(current_y,current_pred)\n",
    "print(r2)"
   ]
  },
  {
   "cell_type": "code",
   "execution_count": null,
   "id": "8172b774-8cd0-4aa7-afdf-c4cc4263f371",
   "metadata": {},
   "outputs": [],
   "source": []
  },
  {
   "cell_type": "code",
   "execution_count": 11,
   "id": "b1396391-f13a-49f9-ae31-46ee94cebcd1",
   "metadata": {},
   "outputs": [],
   "source": [
    "## MLFLOW use case"
   ]
  },
  {
   "cell_type": "code",
   "execution_count": 12,
   "id": "cd374b01-578a-4966-bda0-320b655d99a9",
   "metadata": {},
   "outputs": [
    {
     "name": "stderr",
     "output_type": "stream",
     "text": [
      "2024/05/11 12:49:53 INFO mlflow.tracking.fluent: Experiment with name 'Bicycle–Sharing' does not exist. Creating a new experiment.\n"
     ]
    },
    {
     "data": {
      "text/plain": [
       "<Experiment: artifact_location='file:///Users/sunnypanchal/Desktop/Neovarsity%20DSML%20research%20papers/SCALER/BusinessCase_Data_Exploration-/Bike-Sharing-Dataset/mlruns/236125827191098616', creation_time=1715446193178, experiment_id='236125827191098616', last_update_time=1715446193178, lifecycle_stage='active', name='Bicycle–Sharing', tags={}>"
      ]
     },
     "execution_count": 12,
     "metadata": {},
     "output_type": "execute_result"
    }
   ],
   "source": [
    "import mlflow\n",
    "#import mlflow.sklearn\n",
    "from mlflow.tracking import MlflowClient\n",
    "import os\n",
    "mlflow.set_experiment(\"Bicycle–Sharing\")"
   ]
  },
  {
   "cell_type": "code",
   "execution_count": 13,
   "id": "d2c91967-ec6b-4bb1-949d-6ec71b7d25d9",
   "metadata": {},
   "outputs": [
    {
     "name": "stderr",
     "output_type": "stream",
     "text": [
      "/Users/sunnypanchal/myenv/lib/python3.10/site-packages/_distutils_hack/__init__.py:26: UserWarning: Setuptools is replacing distutils.\n",
      "  warnings.warn(\"Setuptools is replacing distutils.\")\n"
     ]
    }
   ],
   "source": [
    "with mlflow.start_run():\n",
    "    mlflow.set_tag('mlflow.runName','Refrence_run')\n",
    "    mlflow.log_metric(\"MAE\",ref_mae)\n",
    "    mlflow.log_metric(\"MSE\",ref_mse)\n",
    "    mlflow.log_metric(\"R2\",ref_r2)\n",
    "    mlflow.sklearn.log_model(regressor, \"model\")"
   ]
  },
  {
   "cell_type": "code",
   "execution_count": null,
   "id": "22ef81aa-dae0-41b7-964a-04ff88dbe5e5",
   "metadata": {},
   "outputs": [],
   "source": []
  },
  {
   "cell_type": "code",
   "execution_count": 14,
   "id": "43d2d0da-bcd3-4fa2-b132-7ce4d93a2274",
   "metadata": {},
   "outputs": [],
   "source": [
    "experiment_batches = [\n",
    "    ('2011-01-29 00:00:00','2011-02-07 23:00:00'),\n",
    "    ('2011-02-07 00:00:00','2011-02-14 23:00:00'),\n",
    "    ('2011-02-15 00:00:00','2011-02-21 23:00:00'),\n",
    "]"
   ]
  },
  {
   "cell_type": "code",
   "execution_count": 15,
   "id": "2e9a92ef-2776-4466-9cc8-c27c9ef7d2ab",
   "metadata": {},
   "outputs": [],
   "source": [
    "for date in experiment_batches:\n",
    "    with mlflow.start_run():\n",
    "        mlflow.set_tag('mlflow.runName','Refrence_run {} to {} '.format(str(date[0]),str(date[0])))\n",
    "        # Log parameters\n",
    "        mlflow.log_param(\"begin\", date[0])\n",
    "        mlflow.log_param(\"end\", date[1])\n",
    "\n",
    "        # Get metrics\n",
    "        current_data=current.loc[date[0]:date[1]]\n",
    "        current_x=current_data[numerical_features + categorical_features]\n",
    "        current_y=current_data[target]\n",
    "        current_pred = regressor.predict(current_x)\n",
    "\n",
    "        mae=mean_absolute_error(current_y,current_pred)\n",
    "        mse=mean_squared_error(current_y,current_pred)\n",
    "        r2 = r2_score(current_y,current_pred)\n",
    "        \n",
    "        mlflow.log_metric('MAE', round(mae, 3))\n",
    "        mlflow.log_metric('MSE', round(mse, 3))\n",
    "        mlflow.log_metric('R2', round(r2, 3))\n"
   ]
  },
  {
   "cell_type": "code",
   "execution_count": null,
   "id": "090323e6-2b76-4090-a2f2-60ff7d098cc5",
   "metadata": {},
   "outputs": [],
   "source": []
  }
 ],
 "metadata": {
  "kernelspec": {
   "display_name": "myenv",
   "language": "python",
   "name": "myenv"
  },
  "language_info": {
   "codemirror_mode": {
    "name": "ipython",
    "version": 3
   },
   "file_extension": ".py",
   "mimetype": "text/x-python",
   "name": "python",
   "nbconvert_exporter": "python",
   "pygments_lexer": "ipython3",
   "version": "3.10.14"
  }
 },
 "nbformat": 4,
 "nbformat_minor": 5
}
