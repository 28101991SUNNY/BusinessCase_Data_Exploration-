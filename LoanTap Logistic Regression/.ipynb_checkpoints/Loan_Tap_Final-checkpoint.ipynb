{
 "cells": [
  {
   "cell_type": "markdown",
   "id": "be86c65f",
   "metadata": {},
   "source": [
    "### Context:\n",
    "\n",
    "- LoanTap is an online platform committed to delivering customized loan products to millennials. \n",
    "- They innovate in an otherwise dull loan segment, to deliver instant, flexible loans on consumer friendly terms to salaried professionals and businessmen.\n",
    "\n",
    "\n",
    "- The data science team at LoanTap is building an underwriting layer to determine the creditworthiness of MSMEs as well as individuals.\n",
    "\n",
    "- LoanTap deploys formal credit to salaried individuals and businesses 4 main financial instruments:\n",
    "\n",
    "\n",
    "- Personal Loan\n",
    "- EMI Free Loan\n",
    "- Personal Overdraft\n",
    "- Advance Salary Loan\n",
    "\n",
    "\n",
    "- This case study will focus on the underwriting process behind Personal Loan only\n",
    "\n",
    "\n",
    "## Problem Statement:\n",
    "\n",
    "- Given a set of attributes for an Individual, determine if a credit line should be extended to them. If so, what should the repayment terms be in business recommendations?\n",
    "\n",
    "\n",
    "\n",
    "## Data dictionary:\n",
    "\n",
    "1. loan_amnt : The listed amount of the loan applied for by the borrower. If at some point in time, the credit department reduces the loan amount, then it will be reflected in this value.\n",
    "2. term : The number of payments on the loan. Values are in months and can be either 36 or 60.\n",
    "3. int_rate : Interest Rate on the loan\n",
    "4. installment : The monthly payment owed by the borrower if the loan originates.\n",
    "5. grade : LoanTap assigned loan grade\n",
    "6. sub_grade : LoanTap assigned loan subgrade\n",
    "7. emp_title :The job title supplied by the Borrower when applying for the loan.*\n",
    "8. emp_length : Employment length in years. Possible values are between 0 and 10 where 0 means less than one year and 10 means ten or more years.\n",
    "9. home_ownership : The home ownership status provided by the borrower during registration or obtained from the credit report.\n",
    "10. annual_inc : The self-reported annual income provided by the borrower during registration.\n",
    "11. verification_status : Indicates if income was verified by LoanTap, not verified, or if the income source was verified\n",
    "12. issue_d : The month which the loan was funded\n",
    "13. loan_status : Current status of the loan - Target Variable\n",
    "14. purpose : A category provided by the borrower for the loan request.\n",
    "15. title : The loan title provided by the borrower\n",
    "16. dti : A ratio calculated using the borrower’s total monthly debt payments on the total debt obligations, excluding mortgage and the requested LoanTap loan, divided by the borrower’s self-reported monthly income.\n",
    "17. earliest_cr_line :The month the borrower's earliest reported credit line was opened\n",
    "18. open_acc : The number of open credit lines in the borrower's credit file.\n",
    "19. pub_rec : Number of derogatory public records\n",
    "20. revol_bal : Total credit revolving balance\n",
    "21. revol_util : Revolving line utilization rate, or the amount of credit the borrower is using relative to all available revolving credit.\n",
    "22. total_acc : The total number of credit lines currently in the borrower's credit file\n",
    "23. initial_list_status : The initial listing status of the loan. Possible values are – W, F\n",
    "24. application_type : Indicates whether the loan is an individual application or a joint application with two co-borrowers\n",
    "25. mort_acc : Number of mortgage accounts.\n",
    "26. pub_rec_bankruptcies : Number of public record bankruptcies\n",
    "27. Address: Address of the individual\n",
    "\n",
    "\n",
    "\n",
    "        Concept Used:\n",
    "\n",
    "        Exploratory Data Analysis\n",
    "        Feature Engineering\n",
    "        Logistic Regression\n",
    "        Precision Vs Recall Tradeoff\n",
    "\n",
    "\n",
    "\n",
    "\n",
    "    Simple Feature Engineering steps:\n",
    "    E.g.: Creation of Flags- If value greater than 1.0 then 1 else 0. This can be done on:\n",
    "\n",
    "    1. Pub_rec\n",
    "    2. Mort_acc\n",
    "    3. Pub_rec_bankruptcies\n",
    "\n",
    "- Missing values and Outlier Treatment\n",
    "- Scaling - Using MinMaxScaler or StandardScaler\n",
    "- Used Logistic Regression Model from Sklearn/Statsmodel library and explain the results\n",
    "\n",
    "#####  Results Evaluation:\n",
    "\n",
    "- Classification Report\n",
    "- ROC AUC curve\n",
    "- Precision recall curve\n",
    "\n",
    "####  Tradeoff Questions:\n",
    "\n",
    "- How can we make sure that our model can detect real defaulters and there are less false positives? This is important as we can lose out on an opportunity to finance more individuals and earn interest on it.\n",
    "\n",
    "- Since NPA (non-performing asset) is a real problem in this industry, it’s important we play safe and shouldn’t disburse loans to anyone\n",
    "\n",
    "\n",
    "\n",
    "\n"
   ]
  },
  {
   "cell_type": "code",
   "execution_count": 1,
   "id": "42e380ea",
   "metadata": {},
   "outputs": [],
   "source": [
    "\n",
    "import pandas as pd\n",
    "import numpy as np\n",
    "import seaborn as sns\n",
    "import matplotlib.pyplot as plt\n",
    "%matplotlib inline\n",
    "from matplotlib import figure\n",
    "\n",
    "import statsmodels.api as sm\n",
    "from scipy.stats import norm\n",
    "from scipy.stats import t\n",
    "\n",
    "import warnings\n",
    "warnings.filterwarnings('ignore')\n",
    "\n",
    "pd.set_option('display.max_rows', 500)\n",
    "pd.set_option('display.max_columns', 500)\n",
    "pd.set_option('display.width', 1000)"
   ]
  },
  {
   "cell_type": "code",
   "execution_count": 2,
   "id": "0ce8454c",
   "metadata": {},
   "outputs": [],
   "source": [
    "df = pd.read_csv(\"logistic_regression.txt\")"
   ]
  },
  {
   "cell_type": "code",
   "execution_count": null,
   "id": "934fe951",
   "metadata": {},
   "outputs": [],
   "source": []
  },
  {
   "cell_type": "code",
   "execution_count": 3,
   "id": "7fb69b59",
   "metadata": {
    "scrolled": false
   },
   "outputs": [
    {
     "data": {
      "text/html": [
       "<div>\n",
       "<style scoped>\n",
       "    .dataframe tbody tr th:only-of-type {\n",
       "        vertical-align: middle;\n",
       "    }\n",
       "\n",
       "    .dataframe tbody tr th {\n",
       "        vertical-align: top;\n",
       "    }\n",
       "\n",
       "    .dataframe thead th {\n",
       "        text-align: right;\n",
       "    }\n",
       "</style>\n",
       "<table border=\"1\" class=\"dataframe\">\n",
       "  <thead>\n",
       "    <tr style=\"text-align: right;\">\n",
       "      <th></th>\n",
       "      <th>loan_amnt</th>\n",
       "      <th>term</th>\n",
       "      <th>int_rate</th>\n",
       "      <th>installment</th>\n",
       "      <th>grade</th>\n",
       "      <th>sub_grade</th>\n",
       "      <th>emp_title</th>\n",
       "      <th>emp_length</th>\n",
       "      <th>home_ownership</th>\n",
       "      <th>annual_inc</th>\n",
       "      <th>verification_status</th>\n",
       "      <th>issue_d</th>\n",
       "      <th>loan_status</th>\n",
       "      <th>purpose</th>\n",
       "      <th>title</th>\n",
       "      <th>dti</th>\n",
       "      <th>earliest_cr_line</th>\n",
       "      <th>open_acc</th>\n",
       "      <th>pub_rec</th>\n",
       "      <th>revol_bal</th>\n",
       "      <th>revol_util</th>\n",
       "      <th>total_acc</th>\n",
       "      <th>initial_list_status</th>\n",
       "      <th>application_type</th>\n",
       "      <th>mort_acc</th>\n",
       "      <th>pub_rec_bankruptcies</th>\n",
       "      <th>address</th>\n",
       "    </tr>\n",
       "  </thead>\n",
       "  <tbody>\n",
       "    <tr>\n",
       "      <th>0</th>\n",
       "      <td>10000.0</td>\n",
       "      <td>36 months</td>\n",
       "      <td>11.44</td>\n",
       "      <td>329.48</td>\n",
       "      <td>B</td>\n",
       "      <td>B4</td>\n",
       "      <td>Marketing</td>\n",
       "      <td>10+ years</td>\n",
       "      <td>RENT</td>\n",
       "      <td>117000.0</td>\n",
       "      <td>Not Verified</td>\n",
       "      <td>Jan-2015</td>\n",
       "      <td>Fully Paid</td>\n",
       "      <td>vacation</td>\n",
       "      <td>Vacation</td>\n",
       "      <td>26.24</td>\n",
       "      <td>Jun-1990</td>\n",
       "      <td>16.0</td>\n",
       "      <td>0.0</td>\n",
       "      <td>36369.0</td>\n",
       "      <td>41.8</td>\n",
       "      <td>25.0</td>\n",
       "      <td>w</td>\n",
       "      <td>INDIVIDUAL</td>\n",
       "      <td>0.0</td>\n",
       "      <td>0.0</td>\n",
       "      <td>0174 Michelle Gateway\\r\\nMendozaberg, OK 22690</td>\n",
       "    </tr>\n",
       "    <tr>\n",
       "      <th>1</th>\n",
       "      <td>8000.0</td>\n",
       "      <td>36 months</td>\n",
       "      <td>11.99</td>\n",
       "      <td>265.68</td>\n",
       "      <td>B</td>\n",
       "      <td>B5</td>\n",
       "      <td>Credit analyst</td>\n",
       "      <td>4 years</td>\n",
       "      <td>MORTGAGE</td>\n",
       "      <td>65000.0</td>\n",
       "      <td>Not Verified</td>\n",
       "      <td>Jan-2015</td>\n",
       "      <td>Fully Paid</td>\n",
       "      <td>debt_consolidation</td>\n",
       "      <td>Debt consolidation</td>\n",
       "      <td>22.05</td>\n",
       "      <td>Jul-2004</td>\n",
       "      <td>17.0</td>\n",
       "      <td>0.0</td>\n",
       "      <td>20131.0</td>\n",
       "      <td>53.3</td>\n",
       "      <td>27.0</td>\n",
       "      <td>f</td>\n",
       "      <td>INDIVIDUAL</td>\n",
       "      <td>3.0</td>\n",
       "      <td>0.0</td>\n",
       "      <td>1076 Carney Fort Apt. 347\\r\\nLoganmouth, SD 05113</td>\n",
       "    </tr>\n",
       "    <tr>\n",
       "      <th>2</th>\n",
       "      <td>15600.0</td>\n",
       "      <td>36 months</td>\n",
       "      <td>10.49</td>\n",
       "      <td>506.97</td>\n",
       "      <td>B</td>\n",
       "      <td>B3</td>\n",
       "      <td>Statistician</td>\n",
       "      <td>&lt; 1 year</td>\n",
       "      <td>RENT</td>\n",
       "      <td>43057.0</td>\n",
       "      <td>Source Verified</td>\n",
       "      <td>Jan-2015</td>\n",
       "      <td>Fully Paid</td>\n",
       "      <td>credit_card</td>\n",
       "      <td>Credit card refinancing</td>\n",
       "      <td>12.79</td>\n",
       "      <td>Aug-2007</td>\n",
       "      <td>13.0</td>\n",
       "      <td>0.0</td>\n",
       "      <td>11987.0</td>\n",
       "      <td>92.2</td>\n",
       "      <td>26.0</td>\n",
       "      <td>f</td>\n",
       "      <td>INDIVIDUAL</td>\n",
       "      <td>0.0</td>\n",
       "      <td>0.0</td>\n",
       "      <td>87025 Mark Dale Apt. 269\\r\\nNew Sabrina, WV 05113</td>\n",
       "    </tr>\n",
       "    <tr>\n",
       "      <th>3</th>\n",
       "      <td>7200.0</td>\n",
       "      <td>36 months</td>\n",
       "      <td>6.49</td>\n",
       "      <td>220.65</td>\n",
       "      <td>A</td>\n",
       "      <td>A2</td>\n",
       "      <td>Client Advocate</td>\n",
       "      <td>6 years</td>\n",
       "      <td>RENT</td>\n",
       "      <td>54000.0</td>\n",
       "      <td>Not Verified</td>\n",
       "      <td>Nov-2014</td>\n",
       "      <td>Fully Paid</td>\n",
       "      <td>credit_card</td>\n",
       "      <td>Credit card refinancing</td>\n",
       "      <td>2.60</td>\n",
       "      <td>Sep-2006</td>\n",
       "      <td>6.0</td>\n",
       "      <td>0.0</td>\n",
       "      <td>5472.0</td>\n",
       "      <td>21.5</td>\n",
       "      <td>13.0</td>\n",
       "      <td>f</td>\n",
       "      <td>INDIVIDUAL</td>\n",
       "      <td>0.0</td>\n",
       "      <td>0.0</td>\n",
       "      <td>823 Reid Ford\\r\\nDelacruzside, MA 00813</td>\n",
       "    </tr>\n",
       "    <tr>\n",
       "      <th>4</th>\n",
       "      <td>24375.0</td>\n",
       "      <td>60 months</td>\n",
       "      <td>17.27</td>\n",
       "      <td>609.33</td>\n",
       "      <td>C</td>\n",
       "      <td>C5</td>\n",
       "      <td>Destiny Management Inc.</td>\n",
       "      <td>9 years</td>\n",
       "      <td>MORTGAGE</td>\n",
       "      <td>55000.0</td>\n",
       "      <td>Verified</td>\n",
       "      <td>Apr-2013</td>\n",
       "      <td>Charged Off</td>\n",
       "      <td>credit_card</td>\n",
       "      <td>Credit Card Refinance</td>\n",
       "      <td>33.95</td>\n",
       "      <td>Mar-1999</td>\n",
       "      <td>13.0</td>\n",
       "      <td>0.0</td>\n",
       "      <td>24584.0</td>\n",
       "      <td>69.8</td>\n",
       "      <td>43.0</td>\n",
       "      <td>f</td>\n",
       "      <td>INDIVIDUAL</td>\n",
       "      <td>1.0</td>\n",
       "      <td>0.0</td>\n",
       "      <td>679 Luna Roads\\r\\nGreggshire, VA 11650</td>\n",
       "    </tr>\n",
       "    <tr>\n",
       "      <th>...</th>\n",
       "      <td>...</td>\n",
       "      <td>...</td>\n",
       "      <td>...</td>\n",
       "      <td>...</td>\n",
       "      <td>...</td>\n",
       "      <td>...</td>\n",
       "      <td>...</td>\n",
       "      <td>...</td>\n",
       "      <td>...</td>\n",
       "      <td>...</td>\n",
       "      <td>...</td>\n",
       "      <td>...</td>\n",
       "      <td>...</td>\n",
       "      <td>...</td>\n",
       "      <td>...</td>\n",
       "      <td>...</td>\n",
       "      <td>...</td>\n",
       "      <td>...</td>\n",
       "      <td>...</td>\n",
       "      <td>...</td>\n",
       "      <td>...</td>\n",
       "      <td>...</td>\n",
       "      <td>...</td>\n",
       "      <td>...</td>\n",
       "      <td>...</td>\n",
       "      <td>...</td>\n",
       "      <td>...</td>\n",
       "    </tr>\n",
       "    <tr>\n",
       "      <th>396025</th>\n",
       "      <td>10000.0</td>\n",
       "      <td>60 months</td>\n",
       "      <td>10.99</td>\n",
       "      <td>217.38</td>\n",
       "      <td>B</td>\n",
       "      <td>B4</td>\n",
       "      <td>licensed bankere</td>\n",
       "      <td>2 years</td>\n",
       "      <td>RENT</td>\n",
       "      <td>40000.0</td>\n",
       "      <td>Source Verified</td>\n",
       "      <td>Oct-2015</td>\n",
       "      <td>Fully Paid</td>\n",
       "      <td>debt_consolidation</td>\n",
       "      <td>Debt consolidation</td>\n",
       "      <td>15.63</td>\n",
       "      <td>Nov-2004</td>\n",
       "      <td>6.0</td>\n",
       "      <td>0.0</td>\n",
       "      <td>1990.0</td>\n",
       "      <td>34.3</td>\n",
       "      <td>23.0</td>\n",
       "      <td>w</td>\n",
       "      <td>INDIVIDUAL</td>\n",
       "      <td>0.0</td>\n",
       "      <td>0.0</td>\n",
       "      <td>12951 Williams Crossing\\r\\nJohnnyville, DC 30723</td>\n",
       "    </tr>\n",
       "    <tr>\n",
       "      <th>396026</th>\n",
       "      <td>21000.0</td>\n",
       "      <td>36 months</td>\n",
       "      <td>12.29</td>\n",
       "      <td>700.42</td>\n",
       "      <td>C</td>\n",
       "      <td>C1</td>\n",
       "      <td>Agent</td>\n",
       "      <td>5 years</td>\n",
       "      <td>MORTGAGE</td>\n",
       "      <td>110000.0</td>\n",
       "      <td>Source Verified</td>\n",
       "      <td>Feb-2015</td>\n",
       "      <td>Fully Paid</td>\n",
       "      <td>debt_consolidation</td>\n",
       "      <td>Debt consolidation</td>\n",
       "      <td>21.45</td>\n",
       "      <td>Feb-2006</td>\n",
       "      <td>6.0</td>\n",
       "      <td>0.0</td>\n",
       "      <td>43263.0</td>\n",
       "      <td>95.7</td>\n",
       "      <td>8.0</td>\n",
       "      <td>f</td>\n",
       "      <td>INDIVIDUAL</td>\n",
       "      <td>1.0</td>\n",
       "      <td>0.0</td>\n",
       "      <td>0114 Fowler Field Suite 028\\r\\nRachelborough, ...</td>\n",
       "    </tr>\n",
       "    <tr>\n",
       "      <th>396027</th>\n",
       "      <td>5000.0</td>\n",
       "      <td>36 months</td>\n",
       "      <td>9.99</td>\n",
       "      <td>161.32</td>\n",
       "      <td>B</td>\n",
       "      <td>B1</td>\n",
       "      <td>City Carrier</td>\n",
       "      <td>10+ years</td>\n",
       "      <td>RENT</td>\n",
       "      <td>56500.0</td>\n",
       "      <td>Verified</td>\n",
       "      <td>Oct-2013</td>\n",
       "      <td>Fully Paid</td>\n",
       "      <td>debt_consolidation</td>\n",
       "      <td>pay off credit cards</td>\n",
       "      <td>17.56</td>\n",
       "      <td>Mar-1997</td>\n",
       "      <td>15.0</td>\n",
       "      <td>0.0</td>\n",
       "      <td>32704.0</td>\n",
       "      <td>66.9</td>\n",
       "      <td>23.0</td>\n",
       "      <td>f</td>\n",
       "      <td>INDIVIDUAL</td>\n",
       "      <td>0.0</td>\n",
       "      <td>0.0</td>\n",
       "      <td>953 Matthew Points Suite 414\\r\\nReedfort, NY 7...</td>\n",
       "    </tr>\n",
       "    <tr>\n",
       "      <th>396028</th>\n",
       "      <td>21000.0</td>\n",
       "      <td>60 months</td>\n",
       "      <td>15.31</td>\n",
       "      <td>503.02</td>\n",
       "      <td>C</td>\n",
       "      <td>C2</td>\n",
       "      <td>Gracon Services, Inc</td>\n",
       "      <td>10+ years</td>\n",
       "      <td>MORTGAGE</td>\n",
       "      <td>64000.0</td>\n",
       "      <td>Verified</td>\n",
       "      <td>Aug-2012</td>\n",
       "      <td>Fully Paid</td>\n",
       "      <td>debt_consolidation</td>\n",
       "      <td>Loanforpayoff</td>\n",
       "      <td>15.88</td>\n",
       "      <td>Nov-1990</td>\n",
       "      <td>9.0</td>\n",
       "      <td>0.0</td>\n",
       "      <td>15704.0</td>\n",
       "      <td>53.8</td>\n",
       "      <td>20.0</td>\n",
       "      <td>f</td>\n",
       "      <td>INDIVIDUAL</td>\n",
       "      <td>5.0</td>\n",
       "      <td>0.0</td>\n",
       "      <td>7843 Blake Freeway Apt. 229\\r\\nNew Michael, FL...</td>\n",
       "    </tr>\n",
       "    <tr>\n",
       "      <th>396029</th>\n",
       "      <td>2000.0</td>\n",
       "      <td>36 months</td>\n",
       "      <td>13.61</td>\n",
       "      <td>67.98</td>\n",
       "      <td>C</td>\n",
       "      <td>C2</td>\n",
       "      <td>Internal Revenue Service</td>\n",
       "      <td>10+ years</td>\n",
       "      <td>RENT</td>\n",
       "      <td>42996.0</td>\n",
       "      <td>Verified</td>\n",
       "      <td>Jun-2010</td>\n",
       "      <td>Fully Paid</td>\n",
       "      <td>debt_consolidation</td>\n",
       "      <td>Toxic Debt Payoff</td>\n",
       "      <td>8.32</td>\n",
       "      <td>Sep-1998</td>\n",
       "      <td>3.0</td>\n",
       "      <td>0.0</td>\n",
       "      <td>4292.0</td>\n",
       "      <td>91.3</td>\n",
       "      <td>19.0</td>\n",
       "      <td>f</td>\n",
       "      <td>INDIVIDUAL</td>\n",
       "      <td>NaN</td>\n",
       "      <td>0.0</td>\n",
       "      <td>787 Michelle Causeway\\r\\nBriannaton, AR 48052</td>\n",
       "    </tr>\n",
       "  </tbody>\n",
       "</table>\n",
       "<p>396030 rows × 27 columns</p>\n",
       "</div>"
      ],
      "text/plain": [
       "        loan_amnt        term  int_rate  installment grade sub_grade                 emp_title emp_length home_ownership  annual_inc verification_status   issue_d  loan_status             purpose                    title    dti earliest_cr_line  open_acc  pub_rec  revol_bal  revol_util  total_acc initial_list_status application_type  mort_acc  pub_rec_bankruptcies                                            address\n",
       "0         10000.0   36 months     11.44       329.48     B        B4                 Marketing  10+ years           RENT    117000.0        Not Verified  Jan-2015   Fully Paid            vacation                 Vacation  26.24         Jun-1990      16.0      0.0    36369.0        41.8       25.0                   w       INDIVIDUAL       0.0                   0.0     0174 Michelle Gateway\\r\\nMendozaberg, OK 22690\n",
       "1          8000.0   36 months     11.99       265.68     B        B5           Credit analyst     4 years       MORTGAGE     65000.0        Not Verified  Jan-2015   Fully Paid  debt_consolidation       Debt consolidation  22.05         Jul-2004      17.0      0.0    20131.0        53.3       27.0                   f       INDIVIDUAL       3.0                   0.0  1076 Carney Fort Apt. 347\\r\\nLoganmouth, SD 05113\n",
       "2         15600.0   36 months     10.49       506.97     B        B3              Statistician   < 1 year           RENT     43057.0     Source Verified  Jan-2015   Fully Paid         credit_card  Credit card refinancing  12.79         Aug-2007      13.0      0.0    11987.0        92.2       26.0                   f       INDIVIDUAL       0.0                   0.0  87025 Mark Dale Apt. 269\\r\\nNew Sabrina, WV 05113\n",
       "3          7200.0   36 months      6.49       220.65     A        A2           Client Advocate    6 years           RENT     54000.0        Not Verified  Nov-2014   Fully Paid         credit_card  Credit card refinancing   2.60         Sep-2006       6.0      0.0     5472.0        21.5       13.0                   f       INDIVIDUAL       0.0                   0.0            823 Reid Ford\\r\\nDelacruzside, MA 00813\n",
       "4         24375.0   60 months     17.27       609.33     C        C5   Destiny Management Inc.    9 years       MORTGAGE     55000.0            Verified  Apr-2013  Charged Off         credit_card    Credit Card Refinance  33.95         Mar-1999      13.0      0.0    24584.0        69.8       43.0                   f       INDIVIDUAL       1.0                   0.0             679 Luna Roads\\r\\nGreggshire, VA 11650\n",
       "...           ...         ...       ...          ...   ...       ...                       ...        ...            ...         ...                 ...       ...          ...                 ...                      ...    ...              ...       ...      ...        ...         ...        ...                 ...              ...       ...                   ...                                                ...\n",
       "396025    10000.0   60 months     10.99       217.38     B        B4          licensed bankere    2 years           RENT     40000.0     Source Verified  Oct-2015   Fully Paid  debt_consolidation       Debt consolidation  15.63         Nov-2004       6.0      0.0     1990.0        34.3       23.0                   w       INDIVIDUAL       0.0                   0.0   12951 Williams Crossing\\r\\nJohnnyville, DC 30723\n",
       "396026    21000.0   36 months     12.29       700.42     C        C1                     Agent    5 years       MORTGAGE    110000.0     Source Verified  Feb-2015   Fully Paid  debt_consolidation       Debt consolidation  21.45         Feb-2006       6.0      0.0    43263.0        95.7        8.0                   f       INDIVIDUAL       1.0                   0.0  0114 Fowler Field Suite 028\\r\\nRachelborough, ...\n",
       "396027     5000.0   36 months      9.99       161.32     B        B1              City Carrier  10+ years           RENT     56500.0            Verified  Oct-2013   Fully Paid  debt_consolidation     pay off credit cards  17.56         Mar-1997      15.0      0.0    32704.0        66.9       23.0                   f       INDIVIDUAL       0.0                   0.0  953 Matthew Points Suite 414\\r\\nReedfort, NY 7...\n",
       "396028    21000.0   60 months     15.31       503.02     C        C2      Gracon Services, Inc  10+ years       MORTGAGE     64000.0            Verified  Aug-2012   Fully Paid  debt_consolidation            Loanforpayoff  15.88         Nov-1990       9.0      0.0    15704.0        53.8       20.0                   f       INDIVIDUAL       5.0                   0.0  7843 Blake Freeway Apt. 229\\r\\nNew Michael, FL...\n",
       "396029     2000.0   36 months     13.61        67.98     C        C2  Internal Revenue Service  10+ years           RENT     42996.0            Verified  Jun-2010   Fully Paid  debt_consolidation        Toxic Debt Payoff   8.32         Sep-1998       3.0      0.0     4292.0        91.3       19.0                   f       INDIVIDUAL       NaN                   0.0      787 Michelle Causeway\\r\\nBriannaton, AR 48052\n",
       "\n",
       "[396030 rows x 27 columns]"
      ]
     },
     "execution_count": 3,
     "metadata": {},
     "output_type": "execute_result"
    }
   ],
   "source": [
    "df"
   ]
  },
  {
   "cell_type": "code",
   "execution_count": 4,
   "id": "073ba145",
   "metadata": {},
   "outputs": [
    {
     "data": {
      "text/plain": [
       "(396030, 27)"
      ]
     },
     "execution_count": 4,
     "metadata": {},
     "output_type": "execute_result"
    }
   ],
   "source": [
    "df.shape"
   ]
  },
  {
   "cell_type": "code",
   "execution_count": 5,
   "id": "b5918738",
   "metadata": {},
   "outputs": [
    {
     "data": {
      "text/plain": [
       "loan_amnt               0.000000\n",
       "term                    0.000000\n",
       "int_rate                0.000000\n",
       "installment             0.000000\n",
       "grade                   0.000000\n",
       "sub_grade               0.000000\n",
       "emp_title               5.789208\n",
       "emp_length              4.621115\n",
       "home_ownership          0.000000\n",
       "annual_inc              0.000000\n",
       "verification_status     0.000000\n",
       "issue_d                 0.000000\n",
       "loan_status             0.000000\n",
       "purpose                 0.000000\n",
       "title                   0.443148\n",
       "dti                     0.000000\n",
       "earliest_cr_line        0.000000\n",
       "open_acc                0.000000\n",
       "pub_rec                 0.000000\n",
       "revol_bal               0.000000\n",
       "revol_util              0.069692\n",
       "total_acc               0.000000\n",
       "initial_list_status     0.000000\n",
       "application_type        0.000000\n",
       "mort_acc                9.543469\n",
       "pub_rec_bankruptcies    0.135091\n",
       "address                 0.000000\n",
       "dtype: float64"
      ]
     },
     "execution_count": 5,
     "metadata": {},
     "output_type": "execute_result"
    }
   ],
   "source": [
    "(df.isna().sum() / df.shape[0] ) * 100"
   ]
  },
  {
   "cell_type": "markdown",
   "id": "31b2ca5f",
   "metadata": {},
   "source": [
    "    missing values are\n",
    "    \n",
    "    emp_title               5.789208\n",
    "    emp_length              4.621115\n",
    "    title                   0.443148\n",
    "    revol_util              0.069692\n",
    "    mort_acc                9.543469\n",
    "    pub_rec_bankruptcies    0.135091\n"
   ]
  },
  {
   "cell_type": "code",
   "execution_count": null,
   "id": "fc6ac95d",
   "metadata": {},
   "outputs": [],
   "source": []
  },
  {
   "cell_type": "code",
   "execution_count": 6,
   "id": "c9092f26",
   "metadata": {},
   "outputs": [
    {
     "data": {
      "text/html": [
       "<div>\n",
       "<style scoped>\n",
       "    .dataframe tbody tr th:only-of-type {\n",
       "        vertical-align: middle;\n",
       "    }\n",
       "\n",
       "    .dataframe tbody tr th {\n",
       "        vertical-align: top;\n",
       "    }\n",
       "\n",
       "    .dataframe thead th {\n",
       "        text-align: right;\n",
       "    }\n",
       "</style>\n",
       "<table border=\"1\" class=\"dataframe\">\n",
       "  <thead>\n",
       "    <tr style=\"text-align: right;\">\n",
       "      <th></th>\n",
       "      <th>loan_amnt</th>\n",
       "      <th>int_rate</th>\n",
       "      <th>installment</th>\n",
       "      <th>annual_inc</th>\n",
       "      <th>dti</th>\n",
       "      <th>open_acc</th>\n",
       "      <th>pub_rec</th>\n",
       "      <th>revol_bal</th>\n",
       "      <th>revol_util</th>\n",
       "      <th>total_acc</th>\n",
       "      <th>mort_acc</th>\n",
       "      <th>pub_rec_bankruptcies</th>\n",
       "    </tr>\n",
       "  </thead>\n",
       "  <tbody>\n",
       "    <tr>\n",
       "      <th>count</th>\n",
       "      <td>396030.000000</td>\n",
       "      <td>396030.000000</td>\n",
       "      <td>396030.000000</td>\n",
       "      <td>3.960300e+05</td>\n",
       "      <td>396030.000000</td>\n",
       "      <td>396030.000000</td>\n",
       "      <td>396030.000000</td>\n",
       "      <td>3.960300e+05</td>\n",
       "      <td>395754.000000</td>\n",
       "      <td>396030.000000</td>\n",
       "      <td>358235.000000</td>\n",
       "      <td>395495.000000</td>\n",
       "    </tr>\n",
       "    <tr>\n",
       "      <th>mean</th>\n",
       "      <td>14113.888089</td>\n",
       "      <td>13.639400</td>\n",
       "      <td>431.849698</td>\n",
       "      <td>7.420318e+04</td>\n",
       "      <td>17.379514</td>\n",
       "      <td>11.311153</td>\n",
       "      <td>0.178191</td>\n",
       "      <td>1.584454e+04</td>\n",
       "      <td>53.791749</td>\n",
       "      <td>25.414744</td>\n",
       "      <td>1.813991</td>\n",
       "      <td>0.121648</td>\n",
       "    </tr>\n",
       "    <tr>\n",
       "      <th>std</th>\n",
       "      <td>8357.441341</td>\n",
       "      <td>4.472157</td>\n",
       "      <td>250.727790</td>\n",
       "      <td>6.163762e+04</td>\n",
       "      <td>18.019092</td>\n",
       "      <td>5.137649</td>\n",
       "      <td>0.530671</td>\n",
       "      <td>2.059184e+04</td>\n",
       "      <td>24.452193</td>\n",
       "      <td>11.886991</td>\n",
       "      <td>2.147930</td>\n",
       "      <td>0.356174</td>\n",
       "    </tr>\n",
       "    <tr>\n",
       "      <th>min</th>\n",
       "      <td>500.000000</td>\n",
       "      <td>5.320000</td>\n",
       "      <td>16.080000</td>\n",
       "      <td>0.000000e+00</td>\n",
       "      <td>0.000000</td>\n",
       "      <td>0.000000</td>\n",
       "      <td>0.000000</td>\n",
       "      <td>0.000000e+00</td>\n",
       "      <td>0.000000</td>\n",
       "      <td>2.000000</td>\n",
       "      <td>0.000000</td>\n",
       "      <td>0.000000</td>\n",
       "    </tr>\n",
       "    <tr>\n",
       "      <th>25%</th>\n",
       "      <td>8000.000000</td>\n",
       "      <td>10.490000</td>\n",
       "      <td>250.330000</td>\n",
       "      <td>4.500000e+04</td>\n",
       "      <td>11.280000</td>\n",
       "      <td>8.000000</td>\n",
       "      <td>0.000000</td>\n",
       "      <td>6.025000e+03</td>\n",
       "      <td>35.800000</td>\n",
       "      <td>17.000000</td>\n",
       "      <td>0.000000</td>\n",
       "      <td>0.000000</td>\n",
       "    </tr>\n",
       "    <tr>\n",
       "      <th>50%</th>\n",
       "      <td>12000.000000</td>\n",
       "      <td>13.330000</td>\n",
       "      <td>375.430000</td>\n",
       "      <td>6.400000e+04</td>\n",
       "      <td>16.910000</td>\n",
       "      <td>10.000000</td>\n",
       "      <td>0.000000</td>\n",
       "      <td>1.118100e+04</td>\n",
       "      <td>54.800000</td>\n",
       "      <td>24.000000</td>\n",
       "      <td>1.000000</td>\n",
       "      <td>0.000000</td>\n",
       "    </tr>\n",
       "    <tr>\n",
       "      <th>75%</th>\n",
       "      <td>20000.000000</td>\n",
       "      <td>16.490000</td>\n",
       "      <td>567.300000</td>\n",
       "      <td>9.000000e+04</td>\n",
       "      <td>22.980000</td>\n",
       "      <td>14.000000</td>\n",
       "      <td>0.000000</td>\n",
       "      <td>1.962000e+04</td>\n",
       "      <td>72.900000</td>\n",
       "      <td>32.000000</td>\n",
       "      <td>3.000000</td>\n",
       "      <td>0.000000</td>\n",
       "    </tr>\n",
       "    <tr>\n",
       "      <th>max</th>\n",
       "      <td>40000.000000</td>\n",
       "      <td>30.990000</td>\n",
       "      <td>1533.810000</td>\n",
       "      <td>8.706582e+06</td>\n",
       "      <td>9999.000000</td>\n",
       "      <td>90.000000</td>\n",
       "      <td>86.000000</td>\n",
       "      <td>1.743266e+06</td>\n",
       "      <td>892.300000</td>\n",
       "      <td>151.000000</td>\n",
       "      <td>34.000000</td>\n",
       "      <td>8.000000</td>\n",
       "    </tr>\n",
       "  </tbody>\n",
       "</table>\n",
       "</div>"
      ],
      "text/plain": [
       "           loan_amnt       int_rate    installment    annual_inc            dti       open_acc        pub_rec     revol_bal     revol_util      total_acc       mort_acc  pub_rec_bankruptcies\n",
       "count  396030.000000  396030.000000  396030.000000  3.960300e+05  396030.000000  396030.000000  396030.000000  3.960300e+05  395754.000000  396030.000000  358235.000000         395495.000000\n",
       "mean    14113.888089      13.639400     431.849698  7.420318e+04      17.379514      11.311153       0.178191  1.584454e+04      53.791749      25.414744       1.813991              0.121648\n",
       "std      8357.441341       4.472157     250.727790  6.163762e+04      18.019092       5.137649       0.530671  2.059184e+04      24.452193      11.886991       2.147930              0.356174\n",
       "min       500.000000       5.320000      16.080000  0.000000e+00       0.000000       0.000000       0.000000  0.000000e+00       0.000000       2.000000       0.000000              0.000000\n",
       "25%      8000.000000      10.490000     250.330000  4.500000e+04      11.280000       8.000000       0.000000  6.025000e+03      35.800000      17.000000       0.000000              0.000000\n",
       "50%     12000.000000      13.330000     375.430000  6.400000e+04      16.910000      10.000000       0.000000  1.118100e+04      54.800000      24.000000       1.000000              0.000000\n",
       "75%     20000.000000      16.490000     567.300000  9.000000e+04      22.980000      14.000000       0.000000  1.962000e+04      72.900000      32.000000       3.000000              0.000000\n",
       "max     40000.000000      30.990000    1533.810000  8.706582e+06    9999.000000      90.000000      86.000000  1.743266e+06     892.300000     151.000000      34.000000              8.000000"
      ]
     },
     "execution_count": 6,
     "metadata": {},
     "output_type": "execute_result"
    }
   ],
   "source": [
    "df.describe()"
   ]
  },
  {
   "cell_type": "code",
   "execution_count": 7,
   "id": "6793ec63",
   "metadata": {},
   "outputs": [
    {
     "data": {
      "text/plain": [
       "loan_amnt                 1397\n",
       "term                         2\n",
       "int_rate                   566\n",
       "installment              55706\n",
       "grade                        7\n",
       "sub_grade                   35\n",
       "emp_title               173105\n",
       "emp_length                  11\n",
       "home_ownership               6\n",
       "annual_inc               27197\n",
       "verification_status          3\n",
       "issue_d                    115\n",
       "loan_status                  2\n",
       "purpose                     14\n",
       "title                    48817\n",
       "dti                       4262\n",
       "earliest_cr_line           684\n",
       "open_acc                    61\n",
       "pub_rec                     20\n",
       "revol_bal                55622\n",
       "revol_util                1226\n",
       "total_acc                  118\n",
       "initial_list_status          2\n",
       "application_type             3\n",
       "mort_acc                    33\n",
       "pub_rec_bankruptcies         9\n",
       "address                 393700\n",
       "dtype: int64"
      ]
     },
     "execution_count": 7,
     "metadata": {},
     "output_type": "execute_result"
    }
   ],
   "source": [
    "df.nunique()"
   ]
  },
  {
   "cell_type": "code",
   "execution_count": 8,
   "id": "d098cc05",
   "metadata": {},
   "outputs": [
    {
     "name": "stdout",
     "output_type": "stream",
     "text": [
      "<class 'pandas.core.frame.DataFrame'>\n",
      "RangeIndex: 396030 entries, 0 to 396029\n",
      "Data columns (total 27 columns):\n",
      " #   Column                Non-Null Count   Dtype  \n",
      "---  ------                --------------   -----  \n",
      " 0   loan_amnt             396030 non-null  float64\n",
      " 1   term                  396030 non-null  object \n",
      " 2   int_rate              396030 non-null  float64\n",
      " 3   installment           396030 non-null  float64\n",
      " 4   grade                 396030 non-null  object \n",
      " 5   sub_grade             396030 non-null  object \n",
      " 6   emp_title             373103 non-null  object \n",
      " 7   emp_length            377729 non-null  object \n",
      " 8   home_ownership        396030 non-null  object \n",
      " 9   annual_inc            396030 non-null  float64\n",
      " 10  verification_status   396030 non-null  object \n",
      " 11  issue_d               396030 non-null  object \n",
      " 12  loan_status           396030 non-null  object \n",
      " 13  purpose               396030 non-null  object \n",
      " 14  title                 394275 non-null  object \n",
      " 15  dti                   396030 non-null  float64\n",
      " 16  earliest_cr_line      396030 non-null  object \n",
      " 17  open_acc              396030 non-null  float64\n",
      " 18  pub_rec               396030 non-null  float64\n",
      " 19  revol_bal             396030 non-null  float64\n",
      " 20  revol_util            395754 non-null  float64\n",
      " 21  total_acc             396030 non-null  float64\n",
      " 22  initial_list_status   396030 non-null  object \n",
      " 23  application_type      396030 non-null  object \n",
      " 24  mort_acc              358235 non-null  float64\n",
      " 25  pub_rec_bankruptcies  395495 non-null  float64\n",
      " 26  address               396030 non-null  object \n",
      "dtypes: float64(12), object(15)\n",
      "memory usage: 81.6+ MB\n"
     ]
    }
   ],
   "source": [
    "df.info()"
   ]
  },
  {
   "cell_type": "code",
   "execution_count": 9,
   "id": "2a1ce08e",
   "metadata": {},
   "outputs": [],
   "source": [
    "columns_type = df.dtypes"
   ]
  },
  {
   "cell_type": "code",
   "execution_count": 10,
   "id": "58648906",
   "metadata": {},
   "outputs": [
    {
     "data": {
      "text/plain": [
       "term                   object\n",
       "grade                  object\n",
       "sub_grade              object\n",
       "emp_title              object\n",
       "emp_length             object\n",
       "home_ownership         object\n",
       "verification_status    object\n",
       "issue_d                object\n",
       "loan_status            object\n",
       "purpose                object\n",
       "title                  object\n",
       "earliest_cr_line       object\n",
       "initial_list_status    object\n",
       "application_type       object\n",
       "address                object\n",
       "dtype: object"
      ]
     },
     "execution_count": 10,
     "metadata": {},
     "output_type": "execute_result"
    }
   ],
   "source": [
    "columns_type[columns_type==\"object\"]"
   ]
  },
  {
   "cell_type": "code",
   "execution_count": 11,
   "id": "f5fd7a85",
   "metadata": {},
   "outputs": [
    {
     "data": {
      "text/html": [
       "<div>\n",
       "<style scoped>\n",
       "    .dataframe tbody tr th:only-of-type {\n",
       "        vertical-align: middle;\n",
       "    }\n",
       "\n",
       "    .dataframe tbody tr th {\n",
       "        vertical-align: top;\n",
       "    }\n",
       "\n",
       "    .dataframe thead th {\n",
       "        text-align: right;\n",
       "    }\n",
       "</style>\n",
       "<table border=\"1\" class=\"dataframe\">\n",
       "  <thead>\n",
       "    <tr style=\"text-align: right;\">\n",
       "      <th></th>\n",
       "      <th>term</th>\n",
       "      <th>grade</th>\n",
       "      <th>sub_grade</th>\n",
       "      <th>emp_title</th>\n",
       "      <th>emp_length</th>\n",
       "      <th>home_ownership</th>\n",
       "      <th>verification_status</th>\n",
       "      <th>issue_d</th>\n",
       "      <th>loan_status</th>\n",
       "      <th>purpose</th>\n",
       "      <th>title</th>\n",
       "      <th>earliest_cr_line</th>\n",
       "      <th>initial_list_status</th>\n",
       "      <th>application_type</th>\n",
       "      <th>address</th>\n",
       "    </tr>\n",
       "  </thead>\n",
       "  <tbody>\n",
       "    <tr>\n",
       "      <th>count</th>\n",
       "      <td>396030</td>\n",
       "      <td>396030</td>\n",
       "      <td>396030</td>\n",
       "      <td>373103</td>\n",
       "      <td>377729</td>\n",
       "      <td>396030</td>\n",
       "      <td>396030</td>\n",
       "      <td>396030</td>\n",
       "      <td>396030</td>\n",
       "      <td>396030</td>\n",
       "      <td>394275</td>\n",
       "      <td>396030</td>\n",
       "      <td>396030</td>\n",
       "      <td>396030</td>\n",
       "      <td>396030</td>\n",
       "    </tr>\n",
       "    <tr>\n",
       "      <th>unique</th>\n",
       "      <td>2</td>\n",
       "      <td>7</td>\n",
       "      <td>35</td>\n",
       "      <td>173105</td>\n",
       "      <td>11</td>\n",
       "      <td>6</td>\n",
       "      <td>3</td>\n",
       "      <td>115</td>\n",
       "      <td>2</td>\n",
       "      <td>14</td>\n",
       "      <td>48817</td>\n",
       "      <td>684</td>\n",
       "      <td>2</td>\n",
       "      <td>3</td>\n",
       "      <td>393700</td>\n",
       "    </tr>\n",
       "    <tr>\n",
       "      <th>top</th>\n",
       "      <td>36 months</td>\n",
       "      <td>B</td>\n",
       "      <td>B3</td>\n",
       "      <td>Teacher</td>\n",
       "      <td>10+ years</td>\n",
       "      <td>MORTGAGE</td>\n",
       "      <td>Verified</td>\n",
       "      <td>Oct-2014</td>\n",
       "      <td>Fully Paid</td>\n",
       "      <td>debt_consolidation</td>\n",
       "      <td>Debt consolidation</td>\n",
       "      <td>Oct-2000</td>\n",
       "      <td>f</td>\n",
       "      <td>INDIVIDUAL</td>\n",
       "      <td>USCGC Smith\\r\\nFPO AE 70466</td>\n",
       "    </tr>\n",
       "    <tr>\n",
       "      <th>freq</th>\n",
       "      <td>302005</td>\n",
       "      <td>116018</td>\n",
       "      <td>26655</td>\n",
       "      <td>4389</td>\n",
       "      <td>126041</td>\n",
       "      <td>198348</td>\n",
       "      <td>139563</td>\n",
       "      <td>14846</td>\n",
       "      <td>318357</td>\n",
       "      <td>234507</td>\n",
       "      <td>152472</td>\n",
       "      <td>3017</td>\n",
       "      <td>238066</td>\n",
       "      <td>395319</td>\n",
       "      <td>8</td>\n",
       "    </tr>\n",
       "  </tbody>\n",
       "</table>\n",
       "</div>"
      ],
      "text/plain": [
       "              term   grade sub_grade emp_title emp_length home_ownership verification_status   issue_d loan_status             purpose               title earliest_cr_line initial_list_status application_type                      address\n",
       "count       396030  396030    396030    373103     377729         396030              396030    396030      396030              396030              394275           396030              396030           396030                       396030\n",
       "unique           2       7        35    173105         11              6                   3       115           2                  14               48817              684                   2                3                       393700\n",
       "top      36 months       B        B3   Teacher  10+ years       MORTGAGE            Verified  Oct-2014  Fully Paid  debt_consolidation  Debt consolidation         Oct-2000                   f       INDIVIDUAL  USCGC Smith\\r\\nFPO AE 70466\n",
       "freq        302005  116018     26655      4389     126041         198348              139563     14846      318357              234507              152472             3017              238066           395319                            8"
      ]
     },
     "execution_count": 11,
     "metadata": {},
     "output_type": "execute_result"
    }
   ],
   "source": [
    "df.describe(include=\"object\")"
   ]
  },
  {
   "cell_type": "code",
   "execution_count": null,
   "id": "7c40cb04",
   "metadata": {},
   "outputs": [],
   "source": []
  },
  {
   "cell_type": "code",
   "execution_count": null,
   "id": "14edd9aa",
   "metadata": {},
   "outputs": [],
   "source": []
  },
  {
   "cell_type": "code",
   "execution_count": 12,
   "id": "dfbfa9f2",
   "metadata": {
    "scrolled": true
   },
   "outputs": [
    {
     "data": {
      "text/plain": [
       "Fully Paid     80.387092\n",
       "Charged Off    19.612908\n",
       "Name: loan_status, dtype: float64"
      ]
     },
     "execution_count": 12,
     "metadata": {},
     "output_type": "execute_result"
    }
   ],
   "source": [
    "df[\"loan_status\"].value_counts(normalize=True)*100"
   ]
  },
  {
   "cell_type": "code",
   "execution_count": null,
   "id": "12a9837c",
   "metadata": {},
   "outputs": [],
   "source": []
  },
  {
   "cell_type": "markdown",
   "id": "780705eb",
   "metadata": {},
   "source": [
    "### 1 .  loan_amnt : The listed amount of the loan applied for by the borrower. If at some point in time, the credit department reduces the loan amount, then it will be reflected in this value.\n"
   ]
  },
  {
   "cell_type": "code",
   "execution_count": 13,
   "id": "8a891cff",
   "metadata": {},
   "outputs": [
    {
     "data": {
      "text/plain": [
       "<AxesSubplot:xlabel='loan_status', ylabel='loan_amnt'>"
      ]
     },
     "execution_count": 13,
     "metadata": {},
     "output_type": "execute_result"
    },
    {
     "data": {
      "image/png": "[encoded data removed]",
      "text/plain": [
       "<Figure size 360x504 with 1 Axes>"
      ]
     },
     "metadata": {
      "needs_background": "light"
     },
     "output_type": "display_data"
    }
   ],
   "source": [
    "plt.figure(figsize=(5,7))\n",
    "sns.boxplot(y=df[\"loan_amnt\"],\n",
    "            x=df[\"loan_status\"])"
   ]
  },
  {
   "cell_type": "code",
   "execution_count": 14,
   "id": "a29ce41f",
   "metadata": {},
   "outputs": [
    {
     "data": {
      "text/plain": [
       "<AxesSubplot:xlabel='loan_amnt', ylabel='Count'>"
      ]
     },
     "execution_count": 14,
     "metadata": {},
     "output_type": "execute_result"
    },
    {
     "data": {
      "image/png": "[encoded data removed]",
      "text/plain": [
       "<Figure size 432x288 with 1 Axes>"
      ]
     },
     "metadata": {
      "needs_background": "light"
     },
     "output_type": "display_data"
    }
   ],
   "source": [
    "sns.histplot(df[\"loan_amnt\"],bins = 15)"
   ]
  },
  {
   "cell_type": "code",
   "execution_count": 15,
   "id": "b6a60550",
   "metadata": {},
   "outputs": [
    {
     "data": {
      "text/plain": [
       "(12000.0, 13866.878771316478)"
      ]
     },
     "execution_count": 15,
     "metadata": {},
     "output_type": "execute_result"
    }
   ],
   "source": [
    "df[df[\"loan_status\"] == \"Fully Paid\"][\"loan_amnt\"].median(),df[df[\"loan_status\"] == \"Fully Paid\"][\"loan_amnt\"].mean()"
   ]
  },
  {
   "cell_type": "code",
   "execution_count": 16,
   "id": "ad0f3f35",
   "metadata": {},
   "outputs": [
    {
     "data": {
      "text/plain": [
       "(14000.0, 15126.300966873945)"
      ]
     },
     "execution_count": 16,
     "metadata": {},
     "output_type": "execute_result"
    }
   ],
   "source": [
    "df[df[\"loan_status\"] == \"Charged Off\"][\"loan_amnt\"].median(),df[df[\"loan_status\"] == \"Charged Off\"][\"loan_amnt\"].mean()"
   ]
  },
  {
   "cell_type": "code",
   "execution_count": 17,
   "id": "f5430240",
   "metadata": {},
   "outputs": [],
   "source": [
    "# for loan status Charged_off ,\n",
    "# the mean and median of loan_amount is higher than fully paid. "
   ]
  },
  {
   "cell_type": "code",
   "execution_count": null,
   "id": "d3e86502",
   "metadata": {},
   "outputs": [],
   "source": []
  },
  {
   "cell_type": "code",
   "execution_count": null,
   "id": "ef7dff79",
   "metadata": {},
   "outputs": [],
   "source": []
  },
  {
   "cell_type": "markdown",
   "id": "42260067",
   "metadata": {},
   "source": [
    "### 2. term : The number of payments on the loan. Values are in months and can be either 36 or 60.\n"
   ]
  },
  {
   "cell_type": "code",
   "execution_count": 18,
   "id": "38712b80",
   "metadata": {},
   "outputs": [
    {
     "data": {
      "text/plain": [
       " 36 months    302005\n",
       " 60 months     94025\n",
       "Name: term, dtype: int64"
      ]
     },
     "execution_count": 18,
     "metadata": {},
     "output_type": "execute_result"
    }
   ],
   "source": [
    "df[\"term\"].value_counts(dropna=False)"
   ]
  },
  {
   "cell_type": "markdown",
   "id": "6dc3f205",
   "metadata": {},
   "source": [
    "####  P[loan_statis | term]"
   ]
  },
  {
   "cell_type": "code",
   "execution_count": 19,
   "id": "fa355e49",
   "metadata": {
    "scrolled": true
   },
   "outputs": [
    {
     "data": {
      "text/html": [
       "<div>\n",
       "<style scoped>\n",
       "    .dataframe tbody tr th:only-of-type {\n",
       "        vertical-align: middle;\n",
       "    }\n",
       "\n",
       "    .dataframe tbody tr th {\n",
       "        vertical-align: top;\n",
       "    }\n",
       "\n",
       "    .dataframe thead th {\n",
       "        text-align: right;\n",
       "    }\n",
       "</style>\n",
       "<table border=\"1\" class=\"dataframe\">\n",
       "  <thead>\n",
       "    <tr style=\"text-align: right;\">\n",
       "      <th>loan_status</th>\n",
       "      <th>Charged Off</th>\n",
       "      <th>Fully Paid</th>\n",
       "    </tr>\n",
       "    <tr>\n",
       "      <th>term</th>\n",
       "      <th></th>\n",
       "      <th></th>\n",
       "    </tr>\n",
       "  </thead>\n",
       "  <tbody>\n",
       "    <tr>\n",
       "      <th>36 months</th>\n",
       "      <td>15.774573</td>\n",
       "      <td>84.225427</td>\n",
       "    </tr>\n",
       "    <tr>\n",
       "      <th>60 months</th>\n",
       "      <td>31.941505</td>\n",
       "      <td>68.058495</td>\n",
       "    </tr>\n",
       "    <tr>\n",
       "      <th>All</th>\n",
       "      <td>19.612908</td>\n",
       "      <td>80.387092</td>\n",
       "    </tr>\n",
       "  </tbody>\n",
       "</table>\n",
       "</div>"
      ],
      "text/plain": [
       "loan_status  Charged Off  Fully Paid\n",
       "term                                \n",
       " 36 months     15.774573   84.225427\n",
       " 60 months     31.941505   68.058495\n",
       "All            19.612908   80.387092"
      ]
     },
     "execution_count": 19,
     "metadata": {},
     "output_type": "execute_result"
    }
   ],
   "source": [
    "pd.crosstab(index=df[\"term\"],\n",
    "            columns=df[\"loan_status\"], normalize=\"index\" , margins  = True\n",
    "           ) * 100"
   ]
  },
  {
   "cell_type": "code",
   "execution_count": null,
   "id": "07d14914",
   "metadata": {},
   "outputs": [],
   "source": []
  },
  {
   "cell_type": "code",
   "execution_count": null,
   "id": "b053f646",
   "metadata": {},
   "outputs": [],
   "source": []
  },
  {
   "cell_type": "code",
   "execution_count": 20,
   "id": "ecdfc1be",
   "metadata": {},
   "outputs": [],
   "source": [
    "# as we can observe \n",
    "# the conditional probability \n",
    "# of loan fully paid given that its 36 month term is higher then charged off.  \n",
    "\n",
    "# loan fully paid probability when 60 month term is lower than charged off. \n",
    "\n"
   ]
  },
  {
   "cell_type": "code",
   "execution_count": 21,
   "id": "a9f25ccd",
   "metadata": {},
   "outputs": [
    {
     "data": {
      "application/javascript": [
       "\n",
       "        if (window._pyforest_update_imports_cell) { window._pyforest_update_imports_cell('from scipy import stats'); }\n",
       "    "
      ],
      "text/plain": [
       "<IPython.core.display.Javascript object>"
      ]
     },
     "metadata": {},
     "output_type": "display_data"
    },
    {
     "data": {
      "text/plain": [
       "(11885.5372266523,\n",
       " 0.0,\n",
       " 1,\n",
       " array([[ 59231.96314673, 242773.03685327],\n",
       "        [ 18441.03685327,  75583.96314673]]))"
      ]
     },
     "execution_count": 21,
     "metadata": {},
     "output_type": "execute_result"
    }
   ],
   "source": [
    "stats.chi2_contingency(pd.crosstab(index=df[\"term\"],\n",
    "            columns=df[\"loan_status\"]\n",
    "           ))"
   ]
  },
  {
   "cell_type": "code",
   "execution_count": 22,
   "id": "0f664596",
   "metadata": {},
   "outputs": [],
   "source": [
    "# from above chi-square test , we can reject null hypothesis \n",
    "# and conclude that there exists relatioship between loan_status and term ."
   ]
  },
  {
   "cell_type": "code",
   "execution_count": 23,
   "id": "66c418c0",
   "metadata": {},
   "outputs": [
    {
     "data": {
      "text/plain": [
       "<AxesSubplot:xlabel='term'>"
      ]
     },
     "execution_count": 23,
     "metadata": {},
     "output_type": "execute_result"
    },
    {
     "data": {
      "image/png": "[encoded data removed]",
      "text/plain": [
       "<Figure size 432x288 with 1 Axes>"
      ]
     },
     "metadata": {
      "needs_background": "light"
     },
     "output_type": "display_data"
    }
   ],
   "source": [
    "pd.crosstab(index=df[\"term\"],\n",
    "            columns =df[\"loan_status\"], normalize=\"columns\"\n",
    "           ).plot(kind = \"bar\")"
   ]
  },
  {
   "cell_type": "code",
   "execution_count": 24,
   "id": "7433a7b5",
   "metadata": {},
   "outputs": [],
   "source": [
    "# later target_encoding for model "
   ]
  },
  {
   "cell_type": "code",
   "execution_count": null,
   "id": "ac4c2787",
   "metadata": {},
   "outputs": [],
   "source": []
  },
  {
   "cell_type": "markdown",
   "id": "f5f12575",
   "metadata": {},
   "source": [
    "### 3. int_rate : Interest Rate on the loan\n"
   ]
  },
  {
   "cell_type": "code",
   "execution_count": 25,
   "id": "4832a52c",
   "metadata": {},
   "outputs": [
    {
     "data": {
      "text/plain": [
       "<AxesSubplot:xlabel='int_rate', ylabel='Count'>"
      ]
     },
     "execution_count": 25,
     "metadata": {},
     "output_type": "execute_result"
    },
    {
     "data": {
      "image/png": "[encoded data removed]",
      "text/plain": [
       "<Figure size 432x288 with 1 Axes>"
      ]
     },
     "metadata": {
      "needs_background": "light"
     },
     "output_type": "display_data"
    }
   ],
   "source": [
    "sns.histplot(df[\"int_rate\"],bins = 15)"
   ]
  },
  {
   "cell_type": "code",
   "execution_count": 26,
   "id": "9f0e5e40",
   "metadata": {},
   "outputs": [
    {
     "data": {
      "text/plain": [
       "<AxesSubplot:xlabel='int_rate', ylabel='loan_status'>"
      ]
     },
     "execution_count": 26,
     "metadata": {},
     "output_type": "execute_result"
    },
    {
     "data": {
      "image/png": "[encoded data removed]",
      "text/plain": [
       "<Figure size 432x288 with 1 Axes>"
      ]
     },
     "metadata": {
      "needs_background": "light"
     },
     "output_type": "display_data"
    }
   ],
   "source": [
    "sns.boxplot(x=df[\"int_rate\"],\n",
    "            y=df[\"loan_status\"])"
   ]
  },
  {
   "cell_type": "code",
   "execution_count": 27,
   "id": "bd627cfb",
   "metadata": {},
   "outputs": [
    {
     "data": {
      "text/plain": [
       "(15.61, 15.882587256832393)"
      ]
     },
     "execution_count": 27,
     "metadata": {},
     "output_type": "execute_result"
    }
   ],
   "source": [
    "df[df[\"loan_status\"] == \"Charged Off\"][\"int_rate\"].median(),df[df[\"loan_status\"] == \"Charged Off\"][\"int_rate\"].mean()\n"
   ]
  },
  {
   "cell_type": "code",
   "execution_count": 28,
   "id": "7c398d78",
   "metadata": {},
   "outputs": [
    {
     "data": {
      "text/plain": [
       "(12.99, 13.092105403703817)"
      ]
     },
     "execution_count": 28,
     "metadata": {},
     "output_type": "execute_result"
    }
   ],
   "source": [
    "df[df[\"loan_status\"] == \"Fully Paid\"][\"int_rate\"].median(),df[df[\"loan_status\"] == \"Fully Paid\"][\"int_rate\"].mean()"
   ]
  },
  {
   "cell_type": "code",
   "execution_count": 29,
   "id": "1fd46f6c",
   "metadata": {},
   "outputs": [],
   "source": [
    "# for charge_off Loan Status ,\n",
    "# interest_rate median and mean is higher than fully paid."
   ]
  },
  {
   "cell_type": "code",
   "execution_count": null,
   "id": "6f44b44f",
   "metadata": {},
   "outputs": [],
   "source": []
  },
  {
   "cell_type": "code",
   "execution_count": null,
   "id": "cb1bb23b",
   "metadata": {},
   "outputs": [],
   "source": []
  },
  {
   "cell_type": "markdown",
   "id": "50a42a43",
   "metadata": {},
   "source": [
    "### 4. installment : The monthly payment owed by the borrower if the loan originates.\n"
   ]
  },
  {
   "cell_type": "code",
   "execution_count": 30,
   "id": "926e72df",
   "metadata": {},
   "outputs": [
    {
     "data": {
      "text/plain": [
       "Index(['loan_amnt', 'term', 'int_rate', 'installment', 'grade', 'sub_grade', 'emp_title', 'emp_length', 'home_ownership', 'annual_inc', 'verification_status', 'issue_d', 'loan_status', 'purpose', 'title', 'dti', 'earliest_cr_line', 'open_acc', 'pub_rec', 'revol_bal', 'revol_util', 'total_acc', 'initial_list_status', 'application_type', 'mort_acc', 'pub_rec_bankruptcies', 'address'], dtype='object')"
      ]
     },
     "execution_count": 30,
     "metadata": {},
     "output_type": "execute_result"
    }
   ],
   "source": [
    "df.columns\n"
   ]
  },
  {
   "cell_type": "code",
   "execution_count": 31,
   "id": "783665f4",
   "metadata": {},
   "outputs": [
    {
     "data": {
      "text/plain": [
       "<AxesSubplot:xlabel='installment', ylabel='Count'>"
      ]
     },
     "execution_count": 31,
     "metadata": {},
     "output_type": "execute_result"
    },
    {
     "data": {
      "image/png": "[encoded data removed]",
      "text/plain": [
       "<Figure size 432x288 with 1 Axes>"
      ]
     },
     "metadata": {
      "needs_background": "light"
     },
     "output_type": "display_data"
    }
   ],
   "source": [
    "sns.histplot(df[\"installment\"],bins = 50)"
   ]
  },
  {
   "cell_type": "code",
   "execution_count": 32,
   "id": "58244fe3",
   "metadata": {},
   "outputs": [
    {
     "data": {
      "text/plain": [
       "<AxesSubplot:xlabel='installment', ylabel='loan_status'>"
      ]
     },
     "execution_count": 32,
     "metadata": {},
     "output_type": "execute_result"
    },
    {
     "data": {
      "image/png": "[encoded data removed]",
      "text/plain": [
       "<Figure size 432x288 with 1 Axes>"
      ]
     },
     "metadata": {
      "needs_background": "light"
     },
     "output_type": "display_data"
    }
   ],
   "source": [
    "sns.boxplot(x=df[\"installment\"],\n",
    "            y=df[\"loan_status\"])"
   ]
  },
  {
   "cell_type": "code",
   "execution_count": 33,
   "id": "9dfaa11b",
   "metadata": {},
   "outputs": [],
   "source": [
    "# distribution of installment ,\n",
    "# its approximately similar for both loan_status. \n"
   ]
  },
  {
   "cell_type": "code",
   "execution_count": 34,
   "id": "47a4dd46",
   "metadata": {},
   "outputs": [
    {
     "data": {
      "application/javascript": [
       "\n",
       "        if (window._pyforest_update_imports_cell) { window._pyforest_update_imports_cell('from scipy import stats'); }\n",
       "    "
      ],
      "text/plain": [
       "<IPython.core.display.Javascript object>"
      ]
     },
     "metadata": {},
     "output_type": "display_data"
    },
    {
     "data": {
      "text/plain": [
       "Ttest_indResult(statistic=-25.875143861138604, pvalue=1.684401143732544e-147)"
      ]
     },
     "execution_count": 34,
     "metadata": {},
     "output_type": "execute_result"
    }
   ],
   "source": [
    "stats.ttest_ind(a = df[df[\"loan_status\"]==\"Fully Paid\"][\"installment\"],\n",
    "               b = df[df[\"loan_status\"]==\"Charged Off\"][\"installment\"])"
   ]
  },
  {
   "cell_type": "code",
   "execution_count": 35,
   "id": "4720f2b1",
   "metadata": {},
   "outputs": [],
   "source": [
    "# from two sample ttest  , we can observe the p-value to be < 0.05 , \n",
    "# which is not significant ,\n",
    "# hence we reject null hypothesis and can conclude that \n",
    "# installments for fully_paid loan status and charged_off status is not same."
   ]
  },
  {
   "cell_type": "code",
   "execution_count": null,
   "id": "1b092fb4",
   "metadata": {},
   "outputs": [],
   "source": []
  },
  {
   "cell_type": "code",
   "execution_count": null,
   "id": "a5e62468",
   "metadata": {},
   "outputs": [],
   "source": []
  },
  {
   "cell_type": "markdown",
   "id": "5e7bfcb9",
   "metadata": {},
   "source": [
    "### 5. grade : LoanTap assigned loan grade\n",
    "\n",
    "- Loan grades are set based on both the borrower's credit profile and the nature of the contract.\n"
   ]
  },
  {
   "cell_type": "code",
   "execution_count": 36,
   "id": "7a35b092",
   "metadata": {},
   "outputs": [
    {
     "data": {
      "text/plain": [
       "<AxesSubplot:>"
      ]
     },
     "execution_count": 36,
     "metadata": {},
     "output_type": "execute_result"
    },
    {
     "data": {
      "image/png": "[encoded data removed]",
      "text/plain": [
       "<Figure size 432x288 with 1 Axes>"
      ]
     },
     "metadata": {
      "needs_background": "light"
     },
     "output_type": "display_data"
    }
   ],
   "source": [
    "df[\"grade\"].value_counts().sort_values().plot(kind = \"bar\")"
   ]
  },
  {
   "cell_type": "code",
   "execution_count": 37,
   "id": "70a968ff",
   "metadata": {},
   "outputs": [
    {
     "data": {
      "text/plain": [
       "B    116018\n",
       "C    105987\n",
       "A     64187\n",
       "D     63524\n",
       "E     31488\n",
       "F     11772\n",
       "G      3054\n",
       "Name: grade, dtype: int64"
      ]
     },
     "execution_count": 37,
     "metadata": {},
     "output_type": "execute_result"
    }
   ],
   "source": [
    "df[\"grade\"].value_counts(dropna=False)"
   ]
  },
  {
   "cell_type": "code",
   "execution_count": 38,
   "id": "40e190a3",
   "metadata": {},
   "outputs": [
    {
     "data": {
      "text/html": [
       "<div>\n",
       "<style scoped>\n",
       "    .dataframe tbody tr th:only-of-type {\n",
       "        vertical-align: middle;\n",
       "    }\n",
       "\n",
       "    .dataframe tbody tr th {\n",
       "        vertical-align: top;\n",
       "    }\n",
       "\n",
       "    .dataframe thead th {\n",
       "        text-align: right;\n",
       "    }\n",
       "</style>\n",
       "<table border=\"1\" class=\"dataframe\">\n",
       "  <thead>\n",
       "    <tr style=\"text-align: right;\">\n",
       "      <th>loan_status</th>\n",
       "      <th>Charged Off</th>\n",
       "      <th>Fully Paid</th>\n",
       "    </tr>\n",
       "    <tr>\n",
       "      <th>grade</th>\n",
       "      <th></th>\n",
       "      <th></th>\n",
       "    </tr>\n",
       "  </thead>\n",
       "  <tbody>\n",
       "    <tr>\n",
       "      <th>A</th>\n",
       "      <td>0.062879</td>\n",
       "      <td>0.937121</td>\n",
       "    </tr>\n",
       "    <tr>\n",
       "      <th>B</th>\n",
       "      <td>0.125730</td>\n",
       "      <td>0.874270</td>\n",
       "    </tr>\n",
       "    <tr>\n",
       "      <th>C</th>\n",
       "      <td>0.211809</td>\n",
       "      <td>0.788191</td>\n",
       "    </tr>\n",
       "    <tr>\n",
       "      <th>D</th>\n",
       "      <td>0.288678</td>\n",
       "      <td>0.711322</td>\n",
       "    </tr>\n",
       "    <tr>\n",
       "      <th>E</th>\n",
       "      <td>0.373634</td>\n",
       "      <td>0.626366</td>\n",
       "    </tr>\n",
       "    <tr>\n",
       "      <th>F</th>\n",
       "      <td>0.427880</td>\n",
       "      <td>0.572120</td>\n",
       "    </tr>\n",
       "    <tr>\n",
       "      <th>G</th>\n",
       "      <td>0.478389</td>\n",
       "      <td>0.521611</td>\n",
       "    </tr>\n",
       "    <tr>\n",
       "      <th>All</th>\n",
       "      <td>0.196129</td>\n",
       "      <td>0.803871</td>\n",
       "    </tr>\n",
       "  </tbody>\n",
       "</table>\n",
       "</div>"
      ],
      "text/plain": [
       "loan_status  Charged Off  Fully Paid\n",
       "grade                               \n",
       "A               0.062879    0.937121\n",
       "B               0.125730    0.874270\n",
       "C               0.211809    0.788191\n",
       "D               0.288678    0.711322\n",
       "E               0.373634    0.626366\n",
       "F               0.427880    0.572120\n",
       "G               0.478389    0.521611\n",
       "All             0.196129    0.803871"
      ]
     },
     "execution_count": 38,
     "metadata": {},
     "output_type": "execute_result"
    }
   ],
   "source": [
    "pd.crosstab(index = df[\"grade\"],\n",
    "            columns= df[\"loan_status\"],normalize= \"index\", margins = True)"
   ]
  },
  {
   "cell_type": "code",
   "execution_count": 39,
   "id": "a54d71e3",
   "metadata": {},
   "outputs": [],
   "source": [
    "#  probability of loan_status as fully_paid decreases with grade is E,F,G"
   ]
  },
  {
   "cell_type": "code",
   "execution_count": 40,
   "id": "01785937",
   "metadata": {},
   "outputs": [
    {
     "data": {
      "text/plain": [
       "<AxesSubplot:xlabel='grade'>"
      ]
     },
     "execution_count": 40,
     "metadata": {},
     "output_type": "execute_result"
    },
    {
     "data": {
      "image/png": "[encoded data removed]",
      "text/plain": [
       "<Figure size 432x288 with 1 Axes>"
      ]
     },
     "metadata": {
      "needs_background": "light"
     },
     "output_type": "display_data"
    }
   ],
   "source": [
    "pd.crosstab(index = df[\"grade\"],\n",
    "            columns= df[\"loan_status\"]).plot(kind  = \"bar\")"
   ]
  },
  {
   "cell_type": "code",
   "execution_count": 41,
   "id": "b35956e5",
   "metadata": {},
   "outputs": [
    {
     "data": {
      "application/javascript": [
       "\n",
       "        if (window._pyforest_update_imports_cell) { window._pyforest_update_imports_cell('from scipy import stats'); }\n",
       "    "
      ],
      "text/plain": [
       "<IPython.core.display.Javascript object>"
      ]
     },
     "metadata": {},
     "output_type": "display_data"
    },
    {
     "data": {
      "text/plain": [
       "(26338.05812796618,\n",
       " 0.0,\n",
       " 6,\n",
       " array([[12588.93733051, 51598.06266949],\n",
       "        [22754.50373457, 93263.49626543],\n",
       "        [20787.13292175, 85199.86707825],\n",
       "        [12458.90374972, 51065.09625028],\n",
       "        [ 6175.71250663, 25312.28749337],\n",
       "        [ 2308.83154306,  9463.16845694],\n",
       "        [  598.97821377,  2455.02178623]]))"
      ]
     },
     "execution_count": 41,
     "metadata": {},
     "output_type": "execute_result"
    }
   ],
   "source": [
    "stats.chi2_contingency(pd.crosstab(index = df[\"grade\"],\n",
    "            columns= df[\"loan_status\"]))\n"
   ]
  },
  {
   "cell_type": "code",
   "execution_count": null,
   "id": "c1c32ebb",
   "metadata": {},
   "outputs": [],
   "source": []
  },
  {
   "cell_type": "code",
   "execution_count": 42,
   "id": "398c6d0c",
   "metadata": {},
   "outputs": [],
   "source": [
    "## based on chi-square test also , we can conclude the relationship exists \n",
    "## between loan_status and LoanTap assigned loan grade.\n",
    "\n",
    "## later target _encoding "
   ]
  },
  {
   "cell_type": "code",
   "execution_count": null,
   "id": "2275af17",
   "metadata": {},
   "outputs": [],
   "source": []
  },
  {
   "cell_type": "code",
   "execution_count": null,
   "id": "7ad4c8b3",
   "metadata": {},
   "outputs": [],
   "source": []
  },
  {
   "cell_type": "markdown",
   "id": "96eace77",
   "metadata": {},
   "source": [
    "### 6. sub_grade : LoanTap assigned loan subgrade\n"
   ]
  },
  {
   "cell_type": "code",
   "execution_count": 43,
   "id": "51fb64c7",
   "metadata": {},
   "outputs": [
    {
     "data": {
      "text/html": [
       "<div>\n",
       "<style scoped>\n",
       "    .dataframe tbody tr th:only-of-type {\n",
       "        vertical-align: middle;\n",
       "    }\n",
       "\n",
       "    .dataframe tbody tr th {\n",
       "        vertical-align: top;\n",
       "    }\n",
       "\n",
       "    .dataframe thead th {\n",
       "        text-align: right;\n",
       "    }\n",
       "</style>\n",
       "<table border=\"1\" class=\"dataframe\">\n",
       "  <thead>\n",
       "    <tr style=\"text-align: right;\">\n",
       "      <th>loan_status</th>\n",
       "      <th>Charged Off</th>\n",
       "      <th>Fully Paid</th>\n",
       "    </tr>\n",
       "    <tr>\n",
       "      <th>sub_grade</th>\n",
       "      <th></th>\n",
       "      <th></th>\n",
       "    </tr>\n",
       "  </thead>\n",
       "  <tbody>\n",
       "    <tr>\n",
       "      <th>A1</th>\n",
       "      <td>2.867715</td>\n",
       "      <td>97.132285</td>\n",
       "    </tr>\n",
       "    <tr>\n",
       "      <th>A2</th>\n",
       "      <td>4.818647</td>\n",
       "      <td>95.181353</td>\n",
       "    </tr>\n",
       "    <tr>\n",
       "      <th>A3</th>\n",
       "      <td>5.805598</td>\n",
       "      <td>94.194402</td>\n",
       "    </tr>\n",
       "    <tr>\n",
       "      <th>A4</th>\n",
       "      <td>7.023877</td>\n",
       "      <td>92.976123</td>\n",
       "    </tr>\n",
       "    <tr>\n",
       "      <th>A5</th>\n",
       "      <td>8.490770</td>\n",
       "      <td>91.509230</td>\n",
       "    </tr>\n",
       "    <tr>\n",
       "      <th>B1</th>\n",
       "      <td>9.858200</td>\n",
       "      <td>90.141800</td>\n",
       "    </tr>\n",
       "    <tr>\n",
       "      <th>B2</th>\n",
       "      <td>10.851300</td>\n",
       "      <td>89.148700</td>\n",
       "    </tr>\n",
       "    <tr>\n",
       "      <th>B3</th>\n",
       "      <td>12.335397</td>\n",
       "      <td>87.664603</td>\n",
       "    </tr>\n",
       "    <tr>\n",
       "      <th>B4</th>\n",
       "      <td>13.839303</td>\n",
       "      <td>86.160697</td>\n",
       "    </tr>\n",
       "    <tr>\n",
       "      <th>B5</th>\n",
       "      <td>15.503736</td>\n",
       "      <td>84.496264</td>\n",
       "    </tr>\n",
       "    <tr>\n",
       "      <th>C1</th>\n",
       "      <td>17.369622</td>\n",
       "      <td>82.630378</td>\n",
       "    </tr>\n",
       "    <tr>\n",
       "      <th>C2</th>\n",
       "      <td>19.751993</td>\n",
       "      <td>80.248007</td>\n",
       "    </tr>\n",
       "    <tr>\n",
       "      <th>C3</th>\n",
       "      <td>21.841572</td>\n",
       "      <td>78.158428</td>\n",
       "    </tr>\n",
       "    <tr>\n",
       "      <th>C4</th>\n",
       "      <td>23.535503</td>\n",
       "      <td>76.464497</td>\n",
       "    </tr>\n",
       "    <tr>\n",
       "      <th>C5</th>\n",
       "      <td>24.506687</td>\n",
       "      <td>75.493313</td>\n",
       "    </tr>\n",
       "    <tr>\n",
       "      <th>D1</th>\n",
       "      <td>26.380291</td>\n",
       "      <td>73.619709</td>\n",
       "    </tr>\n",
       "    <tr>\n",
       "      <th>D2</th>\n",
       "      <td>28.033833</td>\n",
       "      <td>71.966167</td>\n",
       "    </tr>\n",
       "    <tr>\n",
       "      <th>D3</th>\n",
       "      <td>28.421828</td>\n",
       "      <td>71.578172</td>\n",
       "    </tr>\n",
       "    <tr>\n",
       "      <th>D4</th>\n",
       "      <td>31.131509</td>\n",
       "      <td>68.868491</td>\n",
       "    </tr>\n",
       "    <tr>\n",
       "      <th>D5</th>\n",
       "      <td>32.010309</td>\n",
       "      <td>67.989691</td>\n",
       "    </tr>\n",
       "    <tr>\n",
       "      <th>E1</th>\n",
       "      <td>34.406972</td>\n",
       "      <td>65.593028</td>\n",
       "    </tr>\n",
       "    <tr>\n",
       "      <th>E2</th>\n",
       "      <td>36.737990</td>\n",
       "      <td>63.262010</td>\n",
       "    </tr>\n",
       "    <tr>\n",
       "      <th>E3</th>\n",
       "      <td>38.037699</td>\n",
       "      <td>61.962301</td>\n",
       "    </tr>\n",
       "    <tr>\n",
       "      <th>E4</th>\n",
       "      <td>39.302369</td>\n",
       "      <td>60.697631</td>\n",
       "    </tr>\n",
       "    <tr>\n",
       "      <th>E5</th>\n",
       "      <td>40.310586</td>\n",
       "      <td>59.689414</td>\n",
       "    </tr>\n",
       "    <tr>\n",
       "      <th>F1</th>\n",
       "      <td>38.744344</td>\n",
       "      <td>61.255656</td>\n",
       "    </tr>\n",
       "    <tr>\n",
       "      <th>F2</th>\n",
       "      <td>42.480116</td>\n",
       "      <td>57.519884</td>\n",
       "    </tr>\n",
       "    <tr>\n",
       "      <th>F3</th>\n",
       "      <td>43.613298</td>\n",
       "      <td>56.386702</td>\n",
       "    </tr>\n",
       "    <tr>\n",
       "      <th>F4</th>\n",
       "      <td>45.607163</td>\n",
       "      <td>54.392837</td>\n",
       "    </tr>\n",
       "    <tr>\n",
       "      <th>F5</th>\n",
       "      <td>48.675734</td>\n",
       "      <td>51.324266</td>\n",
       "    </tr>\n",
       "    <tr>\n",
       "      <th>G1</th>\n",
       "      <td>46.124764</td>\n",
       "      <td>53.875236</td>\n",
       "    </tr>\n",
       "    <tr>\n",
       "      <th>G2</th>\n",
       "      <td>48.275862</td>\n",
       "      <td>51.724138</td>\n",
       "    </tr>\n",
       "    <tr>\n",
       "      <th>G3</th>\n",
       "      <td>51.086957</td>\n",
       "      <td>48.913043</td>\n",
       "    </tr>\n",
       "    <tr>\n",
       "      <th>G4</th>\n",
       "      <td>44.919786</td>\n",
       "      <td>55.080214</td>\n",
       "    </tr>\n",
       "    <tr>\n",
       "      <th>G5</th>\n",
       "      <td>50.316456</td>\n",
       "      <td>49.683544</td>\n",
       "    </tr>\n",
       "    <tr>\n",
       "      <th>All</th>\n",
       "      <td>19.612908</td>\n",
       "      <td>80.387092</td>\n",
       "    </tr>\n",
       "  </tbody>\n",
       "</table>\n",
       "</div>"
      ],
      "text/plain": [
       "loan_status  Charged Off  Fully Paid\n",
       "sub_grade                           \n",
       "A1              2.867715   97.132285\n",
       "A2              4.818647   95.181353\n",
       "A3              5.805598   94.194402\n",
       "A4              7.023877   92.976123\n",
       "A5              8.490770   91.509230\n",
       "B1              9.858200   90.141800\n",
       "B2             10.851300   89.148700\n",
       "B3             12.335397   87.664603\n",
       "B4             13.839303   86.160697\n",
       "B5             15.503736   84.496264\n",
       "C1             17.369622   82.630378\n",
       "C2             19.751993   80.248007\n",
       "C3             21.841572   78.158428\n",
       "C4             23.535503   76.464497\n",
       "C5             24.506687   75.493313\n",
       "D1             26.380291   73.619709\n",
       "D2             28.033833   71.966167\n",
       "D3             28.421828   71.578172\n",
       "D4             31.131509   68.868491\n",
       "D5             32.010309   67.989691\n",
       "E1             34.406972   65.593028\n",
       "E2             36.737990   63.262010\n",
       "E3             38.037699   61.962301\n",
       "E4             39.302369   60.697631\n",
       "E5             40.310586   59.689414\n",
       "F1             38.744344   61.255656\n",
       "F2             42.480116   57.519884\n",
       "F3             43.613298   56.386702\n",
       "F4             45.607163   54.392837\n",
       "F5             48.675734   51.324266\n",
       "G1             46.124764   53.875236\n",
       "G2             48.275862   51.724138\n",
       "G3             51.086957   48.913043\n",
       "G4             44.919786   55.080214\n",
       "G5             50.316456   49.683544\n",
       "All            19.612908   80.387092"
      ]
     },
     "execution_count": 43,
     "metadata": {},
     "output_type": "execute_result"
    }
   ],
   "source": [
    "pd.crosstab(index = df[\"sub_grade\"],\n",
    "            columns= df[\"loan_status\"],normalize= \"index\", margins = True)*100"
   ]
  },
  {
   "cell_type": "code",
   "execution_count": 44,
   "id": "c6396bb5",
   "metadata": {
    "scrolled": true
   },
   "outputs": [],
   "source": [
    "# Similar pattern is observed for sub_grade as grade . \n",
    "\n",
    "#  later target encoding "
   ]
  },
  {
   "cell_type": "code",
   "execution_count": null,
   "id": "eb2465eb",
   "metadata": {},
   "outputs": [],
   "source": []
  },
  {
   "cell_type": "code",
   "execution_count": null,
   "id": "d83834c1",
   "metadata": {},
   "outputs": [],
   "source": []
  },
  {
   "cell_type": "code",
   "execution_count": null,
   "id": "038619f0",
   "metadata": {},
   "outputs": [],
   "source": []
  },
  {
   "cell_type": "code",
   "execution_count": null,
   "id": "cc5d8a4a",
   "metadata": {},
   "outputs": [],
   "source": []
  },
  {
   "cell_type": "code",
   "execution_count": null,
   "id": "8c895a94",
   "metadata": {},
   "outputs": [],
   "source": []
  },
  {
   "cell_type": "markdown",
   "id": "eb10c7e0",
   "metadata": {},
   "source": [
    "###  7. emp_title :The job title supplied by the Borrower when applying for the loan.*\n"
   ]
  },
  {
   "cell_type": "code",
   "execution_count": 45,
   "id": "7a897935",
   "metadata": {},
   "outputs": [
    {
     "data": {
      "text/plain": [
       "NaN                 22927\n",
       "Teacher              4389\n",
       "Manager              4250\n",
       "Registered Nurse     1856\n",
       "RN                   1846\n",
       "Supervisor           1830\n",
       "Sales                1638\n",
       "Project Manager      1505\n",
       "Owner                1410\n",
       "Driver               1339\n",
       "Office Manager       1218\n",
       "manager              1145\n",
       "Director             1089\n",
       "General Manager      1074\n",
       "Engineer              995\n",
       "Name: emp_title, dtype: int64"
      ]
     },
     "execution_count": 45,
     "metadata": {},
     "output_type": "execute_result"
    }
   ],
   "source": [
    "df[\"emp_title\"].value_counts(dropna=False).sort_values(ascending=False).head(15)"
   ]
  },
  {
   "cell_type": "code",
   "execution_count": 46,
   "id": "3a05e44d",
   "metadata": {},
   "outputs": [
    {
     "data": {
      "text/plain": [
       "173105"
      ]
     },
     "execution_count": 46,
     "metadata": {},
     "output_type": "execute_result"
    }
   ],
   "source": [
    "df[\"emp_title\"].nunique()"
   ]
  },
  {
   "cell_type": "code",
   "execution_count": 47,
   "id": "40920f75",
   "metadata": {},
   "outputs": [],
   "source": [
    "# missing values need to be treated with model based imputation .\n",
    "\n",
    "\n",
    "# total unique job_titles are 173,105. \n",
    "# we can later do , target encoding while creating model. "
   ]
  },
  {
   "cell_type": "code",
   "execution_count": 48,
   "id": "2ee16ec7",
   "metadata": {},
   "outputs": [
    {
     "data": {
      "text/html": [
       "<div>\n",
       "<style scoped>\n",
       "    .dataframe tbody tr th:only-of-type {\n",
       "        vertical-align: middle;\n",
       "    }\n",
       "\n",
       "    .dataframe tbody tr th {\n",
       "        vertical-align: top;\n",
       "    }\n",
       "\n",
       "    .dataframe thead th {\n",
       "        text-align: right;\n",
       "    }\n",
       "</style>\n",
       "<table border=\"1\" class=\"dataframe\">\n",
       "  <thead>\n",
       "    <tr style=\"text-align: right;\">\n",
       "      <th>loan_status</th>\n",
       "      <th>Charged Off</th>\n",
       "      <th>Fully Paid</th>\n",
       "    </tr>\n",
       "    <tr>\n",
       "      <th>emp_title</th>\n",
       "      <th></th>\n",
       "      <th></th>\n",
       "    </tr>\n",
       "  </thead>\n",
       "  <tbody>\n",
       "    <tr>\n",
       "      <th>Peace Health hospital</th>\n",
       "      <td>1.0</td>\n",
       "      <td>0.0</td>\n",
       "    </tr>\n",
       "    <tr>\n",
       "      <th>Case Planner</th>\n",
       "      <td>1.0</td>\n",
       "      <td>0.0</td>\n",
       "    </tr>\n",
       "    <tr>\n",
       "      <th>Case management director</th>\n",
       "      <td>1.0</td>\n",
       "      <td>0.0</td>\n",
       "    </tr>\n",
       "    <tr>\n",
       "      <th>Case and Associates</th>\n",
       "      <td>1.0</td>\n",
       "      <td>0.0</td>\n",
       "    </tr>\n",
       "    <tr>\n",
       "      <th>dr dale brent,inc</th>\n",
       "      <td>1.0</td>\n",
       "      <td>0.0</td>\n",
       "    </tr>\n",
       "    <tr>\n",
       "      <th>Sr. Officer/loan service rep.</th>\n",
       "      <td>1.0</td>\n",
       "      <td>0.0</td>\n",
       "    </tr>\n",
       "    <tr>\n",
       "      <th>Sr. Office Manager/Legal Administrator</th>\n",
       "      <td>1.0</td>\n",
       "      <td>0.0</td>\n",
       "    </tr>\n",
       "    <tr>\n",
       "      <th>Homeless Coordinator</th>\n",
       "      <td>1.0</td>\n",
       "      <td>0.0</td>\n",
       "    </tr>\n",
       "    <tr>\n",
       "      <th>Homeless and Runaway Youth Case Manager</th>\n",
       "      <td>1.0</td>\n",
       "      <td>0.0</td>\n",
       "    </tr>\n",
       "    <tr>\n",
       "      <th>Sr. Office Asst</th>\n",
       "      <td>1.0</td>\n",
       "      <td>0.0</td>\n",
       "    </tr>\n",
       "  </tbody>\n",
       "</table>\n",
       "</div>"
      ],
      "text/plain": [
       "loan_status                              Charged Off  Fully Paid\n",
       "emp_title                                                       \n",
       "Peace Health hospital                            1.0         0.0\n",
       "Case Planner                                     1.0         0.0\n",
       "Case management director                         1.0         0.0\n",
       "Case and Associates                              1.0         0.0\n",
       "dr dale brent,inc                                1.0         0.0\n",
       "Sr. Officer/loan service rep.                    1.0         0.0\n",
       "Sr. Office Manager/Legal Administrator           1.0         0.0\n",
       "Homeless Coordinator                             1.0         0.0\n",
       "Homeless and Runaway Youth Case Manager          1.0         0.0\n",
       "Sr. Office Asst                                  1.0         0.0"
      ]
     },
     "execution_count": 48,
     "metadata": {},
     "output_type": "execute_result"
    }
   ],
   "source": [
    "pd.crosstab(index = df[\"emp_title\"],\n",
    "            columns= df[\"loan_status\"],normalize= \"index\", margins = True).sort_values(by=\"Charged Off\",ascending=False).head(10)"
   ]
  },
  {
   "cell_type": "code",
   "execution_count": null,
   "id": "7260b0b7",
   "metadata": {},
   "outputs": [],
   "source": []
  },
  {
   "cell_type": "markdown",
   "id": "9aee7faf",
   "metadata": {},
   "source": [
    "### 8. emp_length : Employment length in years. Possible values are between 0 and 10 where 0 means less than one year and 10 means ten or more years.\n"
   ]
  },
  {
   "cell_type": "code",
   "execution_count": 49,
   "id": "4832d88e",
   "metadata": {},
   "outputs": [
    {
     "data": {
      "text/plain": [
       "10+ years    126041\n",
       "2 years       35827\n",
       "< 1 year      31725\n",
       "3 years       31665\n",
       "5 years       26495\n",
       "1 year        25882\n",
       "4 years       23952\n",
       "6 years       20841\n",
       "7 years       20819\n",
       "8 years       19168\n",
       "NaN           18301\n",
       "9 years       15314\n",
       "Name: emp_length, dtype: int64"
      ]
     },
     "execution_count": 49,
     "metadata": {},
     "output_type": "execute_result"
    }
   ],
   "source": [
    "df[\"emp_length\"].value_counts(dropna=False)"
   ]
  },
  {
   "cell_type": "code",
   "execution_count": 50,
   "id": "aecea8bf",
   "metadata": {},
   "outputs": [
    {
     "data": {
      "text/html": [
       "<div>\n",
       "<style scoped>\n",
       "    .dataframe tbody tr th:only-of-type {\n",
       "        vertical-align: middle;\n",
       "    }\n",
       "\n",
       "    .dataframe tbody tr th {\n",
       "        vertical-align: top;\n",
       "    }\n",
       "\n",
       "    .dataframe thead th {\n",
       "        text-align: right;\n",
       "    }\n",
       "</style>\n",
       "<table border=\"1\" class=\"dataframe\">\n",
       "  <thead>\n",
       "    <tr style=\"text-align: right;\">\n",
       "      <th>loan_status</th>\n",
       "      <th>Charged Off</th>\n",
       "      <th>Fully Paid</th>\n",
       "    </tr>\n",
       "    <tr>\n",
       "      <th>emp_length</th>\n",
       "      <th></th>\n",
       "      <th></th>\n",
       "    </tr>\n",
       "  </thead>\n",
       "  <tbody>\n",
       "    <tr>\n",
       "      <th>1 year</th>\n",
       "      <td>19.913453</td>\n",
       "      <td>80.086547</td>\n",
       "    </tr>\n",
       "    <tr>\n",
       "      <th>10+ years</th>\n",
       "      <td>18.418610</td>\n",
       "      <td>81.581390</td>\n",
       "    </tr>\n",
       "    <tr>\n",
       "      <th>2 years</th>\n",
       "      <td>19.326206</td>\n",
       "      <td>80.673794</td>\n",
       "    </tr>\n",
       "    <tr>\n",
       "      <th>3 years</th>\n",
       "      <td>19.523133</td>\n",
       "      <td>80.476867</td>\n",
       "    </tr>\n",
       "    <tr>\n",
       "      <th>4 years</th>\n",
       "      <td>19.238477</td>\n",
       "      <td>80.761523</td>\n",
       "    </tr>\n",
       "    <tr>\n",
       "      <th>5 years</th>\n",
       "      <td>19.218721</td>\n",
       "      <td>80.781279</td>\n",
       "    </tr>\n",
       "    <tr>\n",
       "      <th>6 years</th>\n",
       "      <td>18.919438</td>\n",
       "      <td>81.080562</td>\n",
       "    </tr>\n",
       "    <tr>\n",
       "      <th>7 years</th>\n",
       "      <td>19.477400</td>\n",
       "      <td>80.522600</td>\n",
       "    </tr>\n",
       "    <tr>\n",
       "      <th>8 years</th>\n",
       "      <td>19.976002</td>\n",
       "      <td>80.023998</td>\n",
       "    </tr>\n",
       "    <tr>\n",
       "      <th>9 years</th>\n",
       "      <td>20.047016</td>\n",
       "      <td>79.952984</td>\n",
       "    </tr>\n",
       "    <tr>\n",
       "      <th>&lt; 1 year</th>\n",
       "      <td>20.687155</td>\n",
       "      <td>79.312845</td>\n",
       "    </tr>\n",
       "    <tr>\n",
       "      <th>All</th>\n",
       "      <td>19.229395</td>\n",
       "      <td>80.770605</td>\n",
       "    </tr>\n",
       "  </tbody>\n",
       "</table>\n",
       "</div>"
      ],
      "text/plain": [
       "loan_status  Charged Off  Fully Paid\n",
       "emp_length                          \n",
       "1 year         19.913453   80.086547\n",
       "10+ years      18.418610   81.581390\n",
       "2 years        19.326206   80.673794\n",
       "3 years        19.523133   80.476867\n",
       "4 years        19.238477   80.761523\n",
       "5 years        19.218721   80.781279\n",
       "6 years        18.919438   81.080562\n",
       "7 years        19.477400   80.522600\n",
       "8 years        19.976002   80.023998\n",
       "9 years        20.047016   79.952984\n",
       "< 1 year       20.687155   79.312845\n",
       "All            19.229395   80.770605"
      ]
     },
     "execution_count": 50,
     "metadata": {},
     "output_type": "execute_result"
    }
   ],
   "source": [
    "pd.crosstab(index = df[\"emp_length\"],\n",
    "            columns= df[\"loan_status\"],normalize= \"index\", margins = True)*100"
   ]
  },
  {
   "cell_type": "code",
   "execution_count": 51,
   "id": "f58c0fdc",
   "metadata": {},
   "outputs": [
    {
     "data": {
      "text/plain": [
       "<AxesSubplot:xlabel='emp_length'>"
      ]
     },
     "execution_count": 51,
     "metadata": {},
     "output_type": "execute_result"
    },
    {
     "data": {
      "image/png": "[encoded data removed]",
      "text/plain": [
       "<Figure size 432x288 with 1 Axes>"
      ]
     },
     "metadata": {
      "needs_background": "light"
     },
     "output_type": "display_data"
    }
   ],
   "source": [
    "pd.crosstab(index = df[\"emp_length\"],\n",
    "            columns= df[\"loan_status\"],normalize= \"index\").plot(kind = \"bar\")"
   ]
  },
  {
   "cell_type": "code",
   "execution_count": 52,
   "id": "b84db6e2",
   "metadata": {},
   "outputs": [
    {
     "data": {
      "application/javascript": [
       "\n",
       "        if (window._pyforest_update_imports_cell) { window._pyforest_update_imports_cell('from scipy import stats'); }\n",
       "    "
      ],
      "text/plain": [
       "<IPython.core.display.Javascript object>"
      ]
     },
     "metadata": {},
     "output_type": "display_data"
    },
    {
     "data": {
      "text/plain": [
       "(122.11317384460878,\n",
       " 1.88404995201913e-21,\n",
       " 10,\n",
       " array([[  4976.95191526,  20905.04808474],\n",
       "        [ 24236.9212716 , 101804.0787284 ],\n",
       "        [  6889.31521011,  28937.68478989],\n",
       "        [  6088.98780607,  25576.01219393],\n",
       "        [  4605.82459912,  19346.17540088],\n",
       "        [  5094.82810428,  21400.17189572],\n",
       "        [  4007.59813252,  16833.40186748],\n",
       "        [  4003.36766571,  16815.63233429],\n",
       "        [  3685.89036055,  15482.10963945],\n",
       "        [  2944.78949194,  12369.21050806],\n",
       "        [  6100.52544284,  25624.47455716]]))"
      ]
     },
     "execution_count": 52,
     "metadata": {},
     "output_type": "execute_result"
    }
   ],
   "source": [
    "stats.chi2_contingency(pd.crosstab(index = df[\"emp_length\"],\n",
    "            columns= df[\"loan_status\"]))"
   ]
  },
  {
   "cell_type": "code",
   "execution_count": 53,
   "id": "e7e2c7f0",
   "metadata": {},
   "outputs": [],
   "source": [
    "# visually there doent seems to be much correlation between employement length \n",
    "# and loan_status.\n",
    "# but from chi-sqaure test, we reject that null hypothesis and \n",
    "# hence conclude that there is a relationship exists. \n",
    "\n",
    "# later target encoding or label encoding .\n"
   ]
  },
  {
   "cell_type": "code",
   "execution_count": null,
   "id": "0292a63b",
   "metadata": {},
   "outputs": [],
   "source": []
  },
  {
   "cell_type": "code",
   "execution_count": null,
   "id": "ac6a508b",
   "metadata": {},
   "outputs": [],
   "source": []
  },
  {
   "cell_type": "markdown",
   "id": "04b22ebe",
   "metadata": {},
   "source": [
    "### 9. home_ownership : The home ownership status provided by the borrower during registration or obtained from the credit report.\n"
   ]
  },
  {
   "cell_type": "code",
   "execution_count": 54,
   "id": "754860d5",
   "metadata": {},
   "outputs": [
    {
     "data": {
      "text/plain": [
       "MORTGAGE    198348\n",
       "RENT        159790\n",
       "OWN          37746\n",
       "OTHER          112\n",
       "NONE            31\n",
       "ANY              3\n",
       "Name: home_ownership, dtype: int64"
      ]
     },
     "execution_count": 54,
     "metadata": {},
     "output_type": "execute_result"
    }
   ],
   "source": [
    "df[\"home_ownership\"].value_counts(dropna=False)"
   ]
  },
  {
   "cell_type": "code",
   "execution_count": 55,
   "id": "dc36fd6a",
   "metadata": {},
   "outputs": [
    {
     "data": {
      "text/html": [
       "<div>\n",
       "<style scoped>\n",
       "    .dataframe tbody tr th:only-of-type {\n",
       "        vertical-align: middle;\n",
       "    }\n",
       "\n",
       "    .dataframe tbody tr th {\n",
       "        vertical-align: top;\n",
       "    }\n",
       "\n",
       "    .dataframe thead th {\n",
       "        text-align: right;\n",
       "    }\n",
       "</style>\n",
       "<table border=\"1\" class=\"dataframe\">\n",
       "  <thead>\n",
       "    <tr style=\"text-align: right;\">\n",
       "      <th>loan_status</th>\n",
       "      <th>Charged Off</th>\n",
       "      <th>Fully Paid</th>\n",
       "    </tr>\n",
       "    <tr>\n",
       "      <th>home_ownership</th>\n",
       "      <th></th>\n",
       "      <th></th>\n",
       "    </tr>\n",
       "  </thead>\n",
       "  <tbody>\n",
       "    <tr>\n",
       "      <th>ANY</th>\n",
       "      <td>0.000000</td>\n",
       "      <td>100.000000</td>\n",
       "    </tr>\n",
       "    <tr>\n",
       "      <th>MORTGAGE</th>\n",
       "      <td>16.956057</td>\n",
       "      <td>83.043943</td>\n",
       "    </tr>\n",
       "    <tr>\n",
       "      <th>NONE</th>\n",
       "      <td>22.580645</td>\n",
       "      <td>77.419355</td>\n",
       "    </tr>\n",
       "    <tr>\n",
       "      <th>OTHER</th>\n",
       "      <td>14.285714</td>\n",
       "      <td>85.714286</td>\n",
       "    </tr>\n",
       "    <tr>\n",
       "      <th>OWN</th>\n",
       "      <td>20.680337</td>\n",
       "      <td>79.319663</td>\n",
       "    </tr>\n",
       "    <tr>\n",
       "      <th>RENT</th>\n",
       "      <td>22.662244</td>\n",
       "      <td>77.337756</td>\n",
       "    </tr>\n",
       "    <tr>\n",
       "      <th>All</th>\n",
       "      <td>19.612908</td>\n",
       "      <td>80.387092</td>\n",
       "    </tr>\n",
       "  </tbody>\n",
       "</table>\n",
       "</div>"
      ],
      "text/plain": [
       "loan_status     Charged Off  Fully Paid\n",
       "home_ownership                         \n",
       "ANY                0.000000  100.000000\n",
       "MORTGAGE          16.956057   83.043943\n",
       "NONE              22.580645   77.419355\n",
       "OTHER             14.285714   85.714286\n",
       "OWN               20.680337   79.319663\n",
       "RENT              22.662244   77.337756\n",
       "All               19.612908   80.387092"
      ]
     },
     "execution_count": 55,
     "metadata": {},
     "output_type": "execute_result"
    }
   ],
   "source": [
    "pd.crosstab(index = df[\"home_ownership\"],\n",
    "            columns= df[\"loan_status\"],normalize= \"index\", margins = True)*100"
   ]
  },
  {
   "cell_type": "code",
   "execution_count": 56,
   "id": "273295e6",
   "metadata": {},
   "outputs": [
    {
     "data": {
      "application/javascript": [
       "\n",
       "        if (window._pyforest_update_imports_cell) { window._pyforest_update_imports_cell('from scipy import stats'); }\n",
       "    "
      ],
      "text/plain": [
       "<IPython.core.display.Javascript object>"
      ]
     },
     "metadata": {},
     "output_type": "display_data"
    },
    {
     "data": {
      "text/plain": [
       "(1860.6350953584301,\n",
       " 0.0,\n",
       " 5,\n",
       " array([[5.88387243e-01, 2.41161276e+00],\n",
       "        [3.89018110e+04, 1.59446189e+05],\n",
       "        [6.08000152e+00, 2.49199985e+01],\n",
       "        [2.19664571e+01, 9.00335429e+01],\n",
       "        [7.40308830e+03, 3.03429117e+04],\n",
       "        [3.13394659e+04, 1.28450534e+05]]))"
      ]
     },
     "execution_count": 56,
     "metadata": {},
     "output_type": "execute_result"
    }
   ],
   "source": [
    "stats.chi2_contingency(pd.crosstab(index = df[\"home_ownership\"],\n",
    "            columns= df[\"loan_status\"]))"
   ]
  },
  {
   "cell_type": "code",
   "execution_count": 57,
   "id": "1b3d3ffa",
   "metadata": {},
   "outputs": [],
   "source": [
    "# visually there doent seems to be much correlation between home_ownership \n",
    "# and loan_status.\n",
    "# but from chi-sqaure test, we reject that null hypothesis and \n",
    "# hence conclude that there is a relationship exists. \n",
    "\n",
    "# later target encoding or label encoding .\n"
   ]
  },
  {
   "cell_type": "code",
   "execution_count": null,
   "id": "a3c62949",
   "metadata": {},
   "outputs": [],
   "source": []
  },
  {
   "cell_type": "code",
   "execution_count": null,
   "id": "6b601466",
   "metadata": {},
   "outputs": [],
   "source": []
  },
  {
   "cell_type": "code",
   "execution_count": null,
   "id": "8fee8427",
   "metadata": {},
   "outputs": [],
   "source": []
  },
  {
   "cell_type": "code",
   "execution_count": null,
   "id": "b5dfd485",
   "metadata": {},
   "outputs": [],
   "source": []
  },
  {
   "cell_type": "markdown",
   "id": "b72e5f81",
   "metadata": {},
   "source": [
    "### 10. annual_inc : The self-reported annual income provided by the borrower during registration.\n"
   ]
  },
  {
   "cell_type": "code",
   "execution_count": 58,
   "id": "f171bb73",
   "metadata": {},
   "outputs": [
    {
     "data": {
      "text/plain": [
       "<AxesSubplot:xlabel='annual_inc', ylabel='Density'>"
      ]
     },
     "execution_count": 58,
     "metadata": {},
     "output_type": "execute_result"
    },
    {
     "data": {
      "image/png": "[encoded data removed]",
      "text/plain": [
       "<Figure size 432x288 with 1 Axes>"
      ]
     },
     "metadata": {
      "needs_background": "light"
     },
     "output_type": "display_data"
    }
   ],
   "source": [
    "sns.distplot(df[\"annual_inc\"])"
   ]
  },
  {
   "cell_type": "code",
   "execution_count": 59,
   "id": "0e2a5ea0",
   "metadata": {},
   "outputs": [
    {
     "data": {
      "text/plain": [
       "count    3.960300e+05\n",
       "mean     7.420318e+04\n",
       "std      6.163762e+04\n",
       "min      0.000000e+00\n",
       "25%      4.500000e+04\n",
       "50%      6.400000e+04\n",
       "75%      9.000000e+04\n",
       "max      8.706582e+06\n",
       "Name: annual_inc, dtype: float64"
      ]
     },
     "execution_count": 59,
     "metadata": {},
     "output_type": "execute_result"
    }
   ],
   "source": [
    "df[\"annual_inc\"].describe()"
   ]
  },
  {
   "cell_type": "code",
   "execution_count": 60,
   "id": "c9dfcb7b",
   "metadata": {},
   "outputs": [
    {
     "data": {
      "text/plain": [
       "<AxesSubplot:xlabel='annual_inc', ylabel='Density'>"
      ]
     },
     "execution_count": 60,
     "metadata": {},
     "output_type": "execute_result"
    },
    {
     "data": {
      "image/png": "[encoded data removed]",
      "text/plain": [
       "<Figure size 432x288 with 1 Axes>"
      ]
     },
     "metadata": {
      "needs_background": "light"
     },
     "output_type": "display_data"
    }
   ],
   "source": [
    "sns.distplot(np.log(df[df[\"annual_inc\"]>0][\"annual_inc\"]))"
   ]
  },
  {
   "cell_type": "code",
   "execution_count": 61,
   "id": "0ed28044",
   "metadata": {},
   "outputs": [
    {
     "data": {
      "text/plain": [
       "<AxesSubplot:xlabel='loan_status', ylabel='annual_inc'>"
      ]
     },
     "execution_count": 61,
     "metadata": {},
     "output_type": "execute_result"
    },
    {
     "data": {
      "image/png": "[encoded data removed]",
      "text/plain": [
       "<Figure size 360x504 with 1 Axes>"
      ]
     },
     "metadata": {
      "needs_background": "light"
     },
     "output_type": "display_data"
    }
   ],
   "source": [
    "plt.figure(figsize=(5,7))\n",
    "sns.boxplot(y=np.log(df[df[\"annual_inc\"]>0][\"annual_inc\"]),\n",
    "            x=df[\"loan_status\"])"
   ]
  },
  {
   "cell_type": "code",
   "execution_count": 62,
   "id": "b80c49d5",
   "metadata": {},
   "outputs": [
    {
     "data": {
      "application/javascript": [
       "\n",
       "        if (window._pyforest_update_imports_cell) { window._pyforest_update_imports_cell('from scipy import stats'); }\n",
       "    "
      ],
      "text/plain": [
       "<IPython.core.display.Javascript object>"
      ]
     },
     "metadata": {},
     "output_type": "display_data"
    },
    {
     "data": {
      "text/plain": [
       "Ttest_indResult(statistic=33.673505378969445, pvalue=3.1796418761996623e-248)"
      ]
     },
     "execution_count": 62,
     "metadata": {},
     "output_type": "execute_result"
    }
   ],
   "source": [
    "##from above boxplot, there seems to be no difference between annual income,\n",
    "# for loan status categories \n",
    "\n",
    "stats.ttest_ind(a = df[df[\"loan_status\"]==\"Fully Paid\"][\"annual_inc\"],\n",
    "               b = df[df[\"loan_status\"]==\"Charged Off\"][\"annual_inc\"])"
   ]
  },
  {
   "cell_type": "code",
   "execution_count": 63,
   "id": "5f4c1a7f",
   "metadata": {},
   "outputs": [],
   "source": [
    "# from ttest , we can reject null hypothsis. \n",
    "\n",
    "# concluding annual incomes are not same for both loan_status types."
   ]
  },
  {
   "cell_type": "code",
   "execution_count": null,
   "id": "ab137ac6",
   "metadata": {},
   "outputs": [],
   "source": []
  },
  {
   "cell_type": "code",
   "execution_count": null,
   "id": "98859d0b",
   "metadata": {},
   "outputs": [],
   "source": []
  },
  {
   "cell_type": "code",
   "execution_count": null,
   "id": "df86a83f",
   "metadata": {},
   "outputs": [],
   "source": []
  },
  {
   "cell_type": "code",
   "execution_count": null,
   "id": "15874f61",
   "metadata": {},
   "outputs": [],
   "source": []
  },
  {
   "cell_type": "code",
   "execution_count": null,
   "id": "831f9ae1",
   "metadata": {},
   "outputs": [],
   "source": []
  },
  {
   "cell_type": "markdown",
   "id": "70b290cc",
   "metadata": {},
   "source": [
    "###  11. verification_status : \n",
    "\n",
    "### Indicates if income was verified by LoanTap, not verified, or if the income source was verified\n"
   ]
  },
  {
   "cell_type": "code",
   "execution_count": 64,
   "id": "3bd71a25",
   "metadata": {},
   "outputs": [
    {
     "data": {
      "text/plain": [
       "Verified           139563\n",
       "Source Verified    131385\n",
       "Not Verified       125082\n",
       "Name: verification_status, dtype: int64"
      ]
     },
     "execution_count": 64,
     "metadata": {},
     "output_type": "execute_result"
    }
   ],
   "source": [
    "df[\"verification_status\"].value_counts(dropna=False)"
   ]
  },
  {
   "cell_type": "code",
   "execution_count": 65,
   "id": "1f83e49c",
   "metadata": {},
   "outputs": [
    {
     "data": {
      "text/html": [
       "<div>\n",
       "<style scoped>\n",
       "    .dataframe tbody tr th:only-of-type {\n",
       "        vertical-align: middle;\n",
       "    }\n",
       "\n",
       "    .dataframe tbody tr th {\n",
       "        vertical-align: top;\n",
       "    }\n",
       "\n",
       "    .dataframe thead th {\n",
       "        text-align: right;\n",
       "    }\n",
       "</style>\n",
       "<table border=\"1\" class=\"dataframe\">\n",
       "  <thead>\n",
       "    <tr style=\"text-align: right;\">\n",
       "      <th>loan_status</th>\n",
       "      <th>Charged Off</th>\n",
       "      <th>Fully Paid</th>\n",
       "    </tr>\n",
       "    <tr>\n",
       "      <th>verification_status</th>\n",
       "      <th></th>\n",
       "      <th></th>\n",
       "    </tr>\n",
       "  </thead>\n",
       "  <tbody>\n",
       "    <tr>\n",
       "      <th>Not Verified</th>\n",
       "      <td>14.635999</td>\n",
       "      <td>85.364001</td>\n",
       "    </tr>\n",
       "    <tr>\n",
       "      <th>Source Verified</th>\n",
       "      <td>21.474293</td>\n",
       "      <td>78.525707</td>\n",
       "    </tr>\n",
       "    <tr>\n",
       "      <th>Verified</th>\n",
       "      <td>22.321102</td>\n",
       "      <td>77.678898</td>\n",
       "    </tr>\n",
       "    <tr>\n",
       "      <th>All</th>\n",
       "      <td>19.612908</td>\n",
       "      <td>80.387092</td>\n",
       "    </tr>\n",
       "  </tbody>\n",
       "</table>\n",
       "</div>"
      ],
      "text/plain": [
       "loan_status          Charged Off  Fully Paid\n",
       "verification_status                         \n",
       "Not Verified           14.635999   85.364001\n",
       "Source Verified        21.474293   78.525707\n",
       "Verified               22.321102   77.678898\n",
       "All                    19.612908   80.387092"
      ]
     },
     "execution_count": 65,
     "metadata": {},
     "output_type": "execute_result"
    }
   ],
   "source": [
    "pd.crosstab(index = df[\"verification_status\"],\n",
    "            columns= df[\"loan_status\"],normalize= \"index\", margins = True)*100"
   ]
  },
  {
   "cell_type": "code",
   "execution_count": 66,
   "id": "2f3bbbad",
   "metadata": {},
   "outputs": [
    {
     "data": {
      "text/plain": [
       "<AxesSubplot:xlabel='verification_status'>"
      ]
     },
     "execution_count": 66,
     "metadata": {},
     "output_type": "execute_result"
    },
    {
     "data": {
      "image/png": "[encoded data removed]",
      "text/plain": [
       "<Figure size 432x288 with 1 Axes>"
      ]
     },
     "metadata": {
      "needs_background": "light"
     },
     "output_type": "display_data"
    }
   ],
   "source": [
    "pd.crosstab(index = df[\"verification_status\"],\n",
    "            columns= df[\"loan_status\"],normalize= \"index\").plot(kind = \"bar\")"
   ]
  },
  {
   "cell_type": "code",
   "execution_count": 67,
   "id": "f399f0d5",
   "metadata": {},
   "outputs": [
    {
     "data": {
      "application/javascript": [
       "\n",
       "        if (window._pyforest_update_imports_cell) { window._pyforest_update_imports_cell('from scipy import stats'); }\n",
       "    "
      ],
      "text/plain": [
       "<IPython.core.display.Javascript object>"
      ]
     },
     "metadata": {},
     "output_type": "display_data"
    },
    {
     "data": {
      "text/plain": [
       "(2903.0690673128847,\n",
       " 0.0,\n",
       " 2,\n",
       " array([[ 24532.21772593, 100549.78227407],\n",
       "        [ 25768.41932429, 105616.58067571],\n",
       "        [ 27372.36294978, 112190.63705022]]))"
      ]
     },
     "execution_count": 67,
     "metadata": {},
     "output_type": "execute_result"
    }
   ],
   "source": [
    "stats.chi2_contingency(pd.crosstab(index = df[\"verification_status\"],\n",
    "            columns= df[\"loan_status\"]))"
   ]
  },
  {
   "cell_type": "code",
   "execution_count": 68,
   "id": "57e009b7",
   "metadata": {},
   "outputs": [],
   "source": [
    "# visually there doent seems to be much correlation between verification_status \n",
    "# and loan_status.\n",
    "# but from chi-sqaure test, we reject that null hypothesis and \n",
    "# hence conclude that there is a relationship exists. \n",
    "\n",
    "# later  label encoding  \n",
    "# .\n",
    "# Verified           1\n",
    "# Source Verified    2\n",
    "# Not Verified       0\n"
   ]
  },
  {
   "cell_type": "code",
   "execution_count": null,
   "id": "b2d3d186",
   "metadata": {},
   "outputs": [],
   "source": []
  },
  {
   "cell_type": "code",
   "execution_count": null,
   "id": "63e7c9dd",
   "metadata": {},
   "outputs": [],
   "source": []
  },
  {
   "cell_type": "code",
   "execution_count": null,
   "id": "bde4b9bf",
   "metadata": {},
   "outputs": [],
   "source": []
  },
  {
   "cell_type": "code",
   "execution_count": null,
   "id": "9742b4f5",
   "metadata": {
    "scrolled": false
   },
   "outputs": [],
   "source": []
  },
  {
   "cell_type": "markdown",
   "id": "b5fe7216",
   "metadata": {},
   "source": [
    "### 12. issue_d :\n",
    "### The month which the loan was funded\n"
   ]
  },
  {
   "cell_type": "code",
   "execution_count": 69,
   "id": "75f7c486",
   "metadata": {
    "scrolled": false
   },
   "outputs": [],
   "source": [
    "# df[\"issue_d\"].value_counts(dropna=False)\n",
    "\n",
    "# later use in feature engineering ! \n",
    "\n",
    "\n"
   ]
  },
  {
   "cell_type": "code",
   "execution_count": null,
   "id": "66286f33",
   "metadata": {},
   "outputs": [],
   "source": []
  },
  {
   "cell_type": "code",
   "execution_count": null,
   "id": "226616b3",
   "metadata": {},
   "outputs": [],
   "source": []
  },
  {
   "cell_type": "markdown",
   "id": "11f779d2",
   "metadata": {},
   "source": [
    "### 13. \n",
    "\n",
    "###  loan_status : Current status of the loan - Target Variable\n"
   ]
  },
  {
   "cell_type": "code",
   "execution_count": 70,
   "id": "b2c0dabd",
   "metadata": {},
   "outputs": [
    {
     "data": {
      "text/plain": [
       "<AxesSubplot:>"
      ]
     },
     "execution_count": 70,
     "metadata": {},
     "output_type": "execute_result"
    },
    {
     "data": {
      "image/png": "[encoded data removed]",
      "text/plain": [
       "<Figure size 432x288 with 1 Axes>"
      ]
     },
     "metadata": {
      "needs_background": "light"
     },
     "output_type": "display_data"
    }
   ],
   "source": [
    "df[\"loan_status\"].value_counts(dropna=False).plot(kind = \"bar\")\n"
   ]
  },
  {
   "cell_type": "code",
   "execution_count": 71,
   "id": "fece7b71",
   "metadata": {},
   "outputs": [
    {
     "data": {
      "text/plain": [
       "Fully Paid     80.387092\n",
       "Charged Off    19.612908\n",
       "Name: loan_status, dtype: float64"
      ]
     },
     "execution_count": 71,
     "metadata": {},
     "output_type": "execute_result"
    }
   ],
   "source": [
    "df[\"loan_status\"].value_counts(dropna=False, normalize=True)  * 100"
   ]
  },
  {
   "cell_type": "code",
   "execution_count": 72,
   "id": "154117ca",
   "metadata": {},
   "outputs": [],
   "source": [
    "# Imbalanced data. \n",
    "\n",
    "# 80% loans are fully paid.\n",
    "# 20% loans are charged_off "
   ]
  },
  {
   "cell_type": "code",
   "execution_count": null,
   "id": "200ce475",
   "metadata": {},
   "outputs": [],
   "source": []
  },
  {
   "cell_type": "markdown",
   "id": "f333e6ed",
   "metadata": {},
   "source": [
    "### 14. purpose :\n",
    "### A category provided by the borrower for the loan request.\n"
   ]
  },
  {
   "cell_type": "code",
   "execution_count": 73,
   "id": "cb0fc595",
   "metadata": {},
   "outputs": [
    {
     "data": {
      "text/plain": [
       "14"
      ]
     },
     "execution_count": 73,
     "metadata": {},
     "output_type": "execute_result"
    }
   ],
   "source": [
    "df[\"purpose\"].nunique()"
   ]
  },
  {
   "cell_type": "code",
   "execution_count": 74,
   "id": "1cbd813d",
   "metadata": {},
   "outputs": [
    {
     "name": "stdout",
     "output_type": "stream",
     "text": [
      "debt_consolidation    234507\n",
      "credit_card            83019\n",
      "home_improvement       24030\n",
      "other                  21185\n",
      "major_purchase          8790\n",
      "small_business          5701\n",
      "car                     4697\n",
      "medical                 4196\n",
      "moving                  2854\n",
      "vacation                2452\n",
      "house                   2201\n",
      "wedding                 1812\n",
      "renewable_energy         329\n",
      "educational              257\n",
      "Name: purpose, dtype: int64\n"
     ]
    },
    {
     "data": {
      "application/javascript": [
       "\n",
       "        if (window._pyforest_update_imports_cell) { window._pyforest_update_imports_cell('from scipy import stats'); }\n",
       "    "
      ],
      "text/plain": [
       "<IPython.core.display.Javascript object>"
      ]
     },
     "metadata": {},
     "output_type": "display_data"
    },
    {
     "data": {
      "text/plain": [
       "(1397.0679601784623,\n",
       " 6.573354783158025e-291,\n",
       " 13,\n",
       " array([[9.21218294e+02, 3.77578171e+03],\n",
       "        [1.62824402e+04, 6.67365598e+04],\n",
       "        [4.59936424e+04, 1.88513358e+05],\n",
       "        [5.04051739e+01, 2.06594826e+02],\n",
       "        [4.71298182e+03, 1.93170182e+04],\n",
       "        [4.31680108e+02, 1.76931989e+03],\n",
       "        [1.72397462e+03, 7.06602538e+03],\n",
       "        [8.22957624e+02, 3.37304238e+03],\n",
       "        [5.59752398e+02, 2.29424760e+03],\n",
       "        [4.15499458e+03, 1.70300054e+04],\n",
       "        [6.45264677e+01, 2.64473532e+02],\n",
       "        [1.11813189e+03, 4.58286811e+03],\n",
       "        [4.80908507e+02, 1.97109149e+03],\n",
       "        [3.55385895e+02, 1.45661410e+03]]))"
      ]
     },
     "execution_count": 74,
     "metadata": {},
     "output_type": "execute_result"
    },
    {
     "data": {
      "image/png": "[encoded data removed]",
      "text/plain": [
       "<Figure size 432x288 with 1 Axes>"
      ]
     },
     "metadata": {
      "needs_background": "light"
     },
     "output_type": "display_data"
    }
   ],
   "source": [
    "print(df[\"purpose\"].value_counts(dropna=False))\n",
    "pd.crosstab(index = df[\"purpose\"],\n",
    "            columns= df[\"loan_status\"],normalize= \"index\", margins = True)*100\n",
    "pd.crosstab(index = df[\"purpose\"],\n",
    "            columns= df[\"loan_status\"],normalize= \"index\").plot(kind = \"bar\")\n",
    "stats.chi2_contingency(pd.crosstab(index = df[\"purpose\"],\n",
    "            columns= df[\"loan_status\"]))"
   ]
  },
  {
   "cell_type": "code",
   "execution_count": 75,
   "id": "77d0f2bb",
   "metadata": {},
   "outputs": [
    {
     "data": {
      "text/plain": [
       "<AxesSubplot:>"
      ]
     },
     "execution_count": 75,
     "metadata": {},
     "output_type": "execute_result"
    },
    {
     "data": {
      "image/png": "[encoded data removed]",
      "text/plain": [
       "<Figure size 432x288 with 1 Axes>"
      ]
     },
     "metadata": {
      "needs_background": "light"
     },
     "output_type": "display_data"
    }
   ],
   "source": [
    "(df[\"purpose\"].value_counts(dropna=False,normalize=True)*100).plot(kind = \"bar\")\n"
   ]
  },
  {
   "cell_type": "code",
   "execution_count": 76,
   "id": "1c5e7f09",
   "metadata": {},
   "outputs": [
    {
     "data": {
      "text/plain": [
       "<AxesSubplot:xlabel='purpose'>"
      ]
     },
     "execution_count": 76,
     "metadata": {},
     "output_type": "execute_result"
    },
    {
     "data": {
      "image/png": "[encoded data removed]",
      "text/plain": [
       "<Figure size 432x288 with 1 Axes>"
      ]
     },
     "metadata": {
      "needs_background": "light"
     },
     "output_type": "display_data"
    }
   ],
   "source": [
    "df.groupby([\"purpose\"])[\"loan_amnt\"].sum().plot(kind = \"bar\")"
   ]
  },
  {
   "cell_type": "code",
   "execution_count": 77,
   "id": "449c7302",
   "metadata": {},
   "outputs": [],
   "source": [
    "## most of the loans are taken for debit_card, dept_consolidation , home_improvement and others category. \n",
    "## number of loan applications and amount per purpose category are highest in  above category.\n",
    "\n",
    "# also from chi-sqaure test, we can see the loan_status and loan_purpose are dependnet variables. "
   ]
  },
  {
   "cell_type": "code",
   "execution_count": null,
   "id": "285291aa",
   "metadata": {},
   "outputs": [],
   "source": []
  },
  {
   "cell_type": "code",
   "execution_count": null,
   "id": "a23b383f",
   "metadata": {},
   "outputs": [],
   "source": []
  },
  {
   "cell_type": "code",
   "execution_count": null,
   "id": "b6d876f6",
   "metadata": {},
   "outputs": [],
   "source": []
  },
  {
   "cell_type": "code",
   "execution_count": 78,
   "id": "77696878",
   "metadata": {},
   "outputs": [
    {
     "data": {
      "text/plain": [
       "0               vacation\n",
       "1     debt_consolidation\n",
       "2            credit_card\n",
       "3            credit_card\n",
       "4            credit_card\n",
       "5     debt_consolidation\n",
       "6       home_improvement\n",
       "7            credit_card\n",
       "8     debt_consolidation\n",
       "9     debt_consolidation\n",
       "10    debt_consolidation\n",
       "11           credit_card\n",
       "12    debt_consolidation\n",
       "13    debt_consolidation\n",
       "14        small_business\n",
       "Name: purpose, dtype: object"
      ]
     },
     "execution_count": 78,
     "metadata": {},
     "output_type": "execute_result"
    }
   ],
   "source": [
    "df[\"purpose\"].head(15)"
   ]
  },
  {
   "cell_type": "code",
   "execution_count": null,
   "id": "11a9a337",
   "metadata": {},
   "outputs": [],
   "source": []
  },
  {
   "cell_type": "markdown",
   "id": "f79093ba",
   "metadata": {},
   "source": [
    "### 15. title :\n",
    "\n",
    "### The loan title provided by the borrower\n",
    "\n",
    "\n"
   ]
  },
  {
   "cell_type": "code",
   "execution_count": 79,
   "id": "a7e51d98",
   "metadata": {},
   "outputs": [
    {
     "data": {
      "text/plain": [
       "0                        Vacation\n",
       "1              Debt consolidation\n",
       "2         Credit card refinancing\n",
       "3         Credit card refinancing\n",
       "4           Credit Card Refinance\n",
       "                   ...           \n",
       "396025         Debt consolidation\n",
       "396026         Debt consolidation\n",
       "396027       pay off credit cards\n",
       "396028              Loanforpayoff\n",
       "396029          Toxic Debt Payoff\n",
       "Name: title, Length: 396030, dtype: object"
      ]
     },
     "execution_count": 79,
     "metadata": {},
     "output_type": "execute_result"
    }
   ],
   "source": [
    "df[\"title\"]"
   ]
  },
  {
   "cell_type": "code",
   "execution_count": 80,
   "id": "5eb00761",
   "metadata": {},
   "outputs": [],
   "source": [
    "# title and purpose are in a way same features. \n",
    "# later needs to drop this feature. \n"
   ]
  },
  {
   "cell_type": "code",
   "execution_count": null,
   "id": "bc0b24f9",
   "metadata": {},
   "outputs": [],
   "source": []
  },
  {
   "cell_type": "markdown",
   "id": "9aeea128",
   "metadata": {},
   "source": [
    "    dti = monthly total dept payment / monthly income excluding mortgages"
   ]
  },
  {
   "cell_type": "markdown",
   "id": "5156b382",
   "metadata": {},
   "source": [
    "### 16. dti :\n",
    "### A ratio calculated using the borrower’s total monthly debt payments on the total debt obligations, excluding mortgage and the requested LoanTap loan, divided by the borrower’s self-reported monthly income.\n"
   ]
  },
  {
   "cell_type": "code",
   "execution_count": 81,
   "id": "aaaf82ed",
   "metadata": {},
   "outputs": [
    {
     "data": {
      "text/plain": [
       "count    396030.000000\n",
       "mean         17.379514\n",
       "std          18.019092\n",
       "min           0.000000\n",
       "25%          11.280000\n",
       "50%          16.910000\n",
       "75%          22.980000\n",
       "max        9999.000000\n",
       "Name: dti, dtype: float64"
      ]
     },
     "execution_count": 81,
     "metadata": {},
     "output_type": "execute_result"
    }
   ],
   "source": [
    "df[\"dti\"].describe()"
   ]
  },
  {
   "cell_type": "code",
   "execution_count": 82,
   "id": "698389c7",
   "metadata": {},
   "outputs": [
    {
     "data": {
      "text/plain": [
       "<AxesSubplot:xlabel='dti'>"
      ]
     },
     "execution_count": 82,
     "metadata": {},
     "output_type": "execute_result"
    },
    {
     "data": {
      "image/png": "[encoded data removed]",
      "text/plain": [
       "<Figure size 432x288 with 1 Axes>"
      ]
     },
     "metadata": {
      "needs_background": "light"
     },
     "output_type": "display_data"
    }
   ],
   "source": [
    "sns.boxenplot((df[\"dti\"]))"
   ]
  },
  {
   "cell_type": "code",
   "execution_count": 83,
   "id": "570c8c68",
   "metadata": {},
   "outputs": [],
   "source": [
    "# looks like there are lots of outliers in dti column ."
   ]
  },
  {
   "cell_type": "code",
   "execution_count": 84,
   "id": "109209c5",
   "metadata": {},
   "outputs": [
    {
     "data": {
      "text/plain": [
       "<AxesSubplot:xlabel='loan_status', ylabel='dti'>"
      ]
     },
     "execution_count": 84,
     "metadata": {},
     "output_type": "execute_result"
    },
    {
     "data": {
      "image/png": "[encoded data removed]",
      "text/plain": [
       "<Figure size 360x504 with 1 Axes>"
      ]
     },
     "metadata": {
      "needs_background": "light"
     },
     "output_type": "display_data"
    }
   ],
   "source": [
    "plt.figure(figsize=(5,7))\n",
    "sns.boxplot(y=np.log(df[df[\"dti\"]>0][\"dti\"]),\n",
    "            x=df[\"loan_status\"])"
   ]
  },
  {
   "cell_type": "code",
   "execution_count": null,
   "id": "0590b918",
   "metadata": {},
   "outputs": [],
   "source": []
  },
  {
   "cell_type": "markdown",
   "id": "b0c1d7d4",
   "metadata": {},
   "source": [
    "     issue_d :\n",
    "    The month which the loan was funded¶"
   ]
  },
  {
   "cell_type": "markdown",
   "id": "43fa3caf",
   "metadata": {},
   "source": [
    "### 17. earliest_cr_line :\n",
    "### The month the borrower's earliest reported credit line was opened\n"
   ]
  },
  {
   "cell_type": "code",
   "execution_count": 85,
   "id": "c6824732",
   "metadata": {
    "scrolled": true
   },
   "outputs": [
    {
     "data": {
      "text/plain": [
       "0        1990-06-01\n",
       "1        2004-07-01\n",
       "2        2007-08-01\n",
       "3        2006-09-01\n",
       "4        1999-03-01\n",
       "            ...    \n",
       "396025   2004-11-01\n",
       "396026   2006-02-01\n",
       "396027   1997-03-01\n",
       "396028   1990-11-01\n",
       "396029   1998-09-01\n",
       "Name: earliest_cr_line, Length: 396030, dtype: datetime64[ns]"
      ]
     },
     "execution_count": 85,
     "metadata": {},
     "output_type": "execute_result"
    }
   ],
   "source": [
    "pd.to_datetime(df[\"earliest_cr_line\"])"
   ]
  },
  {
   "cell_type": "code",
   "execution_count": 86,
   "id": "cbd84958",
   "metadata": {},
   "outputs": [],
   "source": [
    "# The month which the loan was funded"
   ]
  },
  {
   "cell_type": "code",
   "execution_count": 87,
   "id": "b76db56c",
   "metadata": {},
   "outputs": [
    {
     "data": {
      "text/plain": [
       "0        2015-01-01\n",
       "1        2015-01-01\n",
       "2        2015-01-01\n",
       "3        2014-11-01\n",
       "4        2013-04-01\n",
       "            ...    \n",
       "396025   2015-10-01\n",
       "396026   2015-02-01\n",
       "396027   2013-10-01\n",
       "396028   2012-08-01\n",
       "396029   2010-06-01\n",
       "Name: issue_d, Length: 396030, dtype: datetime64[ns]"
      ]
     },
     "execution_count": 87,
     "metadata": {},
     "output_type": "execute_result"
    }
   ],
   "source": [
    "pd.to_datetime(df[\"issue_d\"])"
   ]
  },
  {
   "cell_type": "code",
   "execution_count": 88,
   "id": "121261e2",
   "metadata": {},
   "outputs": [],
   "source": [
    "df[\"Loan_Tenure\"] = ((pd.to_datetime(df[\"issue_d\"]) -pd.to_datetime(df[\"earliest_cr_line\"]))/np.timedelta64(1, 'M'))"
   ]
  },
  {
   "cell_type": "code",
   "execution_count": 89,
   "id": "34a0dc9e",
   "metadata": {},
   "outputs": [
    {
     "data": {
      "text/plain": [
       "<AxesSubplot:ylabel='Count'>"
      ]
     },
     "execution_count": 89,
     "metadata": {},
     "output_type": "execute_result"
    },
    {
     "data": {
      "image/png": "[encoded data removed]",
      "text/plain": [
       "<Figure size 432x288 with 1 Axes>"
      ]
     },
     "metadata": {
      "needs_background": "light"
     },
     "output_type": "display_data"
    }
   ],
   "source": [
    " sns.histplot(((pd.to_datetime(df[\"issue_d\"]) -pd.to_datetime(df[\"earliest_cr_line\"]))/np.timedelta64(1, 'M')))\n"
   ]
  },
  {
   "cell_type": "code",
   "execution_count": null,
   "id": "cd03087b",
   "metadata": {},
   "outputs": [],
   "source": []
  },
  {
   "cell_type": "code",
   "execution_count": 90,
   "id": "43c08e26",
   "metadata": {},
   "outputs": [
    {
     "data": {
      "text/plain": [
       "<AxesSubplot:xlabel='loan_status'>"
      ]
     },
     "execution_count": 90,
     "metadata": {},
     "output_type": "execute_result"
    },
    {
     "data": {
      "image/png": "[encoded data removed]",
      "text/plain": [
       "<Figure size 360x504 with 1 Axes>"
      ]
     },
     "metadata": {
      "needs_background": "light"
     },
     "output_type": "display_data"
    }
   ],
   "source": [
    "plt.figure(figsize=(5,7))\n",
    "sns.boxplot(y=np.log(((pd.to_datetime(df[\"issue_d\"]) -pd.to_datetime(df[\"earliest_cr_line\"]))/np.timedelta64(1, 'M'))),\n",
    "            x=df[\"loan_status\"])"
   ]
  },
  {
   "cell_type": "code",
   "execution_count": null,
   "id": "b04c6b0c",
   "metadata": {},
   "outputs": [],
   "source": []
  },
  {
   "cell_type": "code",
   "execution_count": null,
   "id": "cd3dcded",
   "metadata": {},
   "outputs": [],
   "source": []
  },
  {
   "cell_type": "markdown",
   "id": "4bf931f9",
   "metadata": {},
   "source": [
    "18. open_acc : The number of open credit lines in the borrower's credit file.\n"
   ]
  },
  {
   "cell_type": "code",
   "execution_count": 91,
   "id": "1b741503",
   "metadata": {},
   "outputs": [
    {
     "data": {
      "text/plain": [
       "61"
      ]
     },
     "execution_count": 91,
     "metadata": {},
     "output_type": "execute_result"
    }
   ],
   "source": [
    "df[\"open_acc\"].nunique()"
   ]
  },
  {
   "cell_type": "code",
   "execution_count": 92,
   "id": "4c1afaa0",
   "metadata": {},
   "outputs": [
    {
     "data": {
      "text/plain": [
       "<AxesSubplot:xlabel='open_acc', ylabel='Count'>"
      ]
     },
     "execution_count": 92,
     "metadata": {},
     "output_type": "execute_result"
    },
    {
     "data": {
      "image/png": "[encoded data removed]",
      "text/plain": [
       "<Figure size 432x288 with 1 Axes>"
      ]
     },
     "metadata": {
      "needs_background": "light"
     },
     "output_type": "display_data"
    }
   ],
   "source": [
    "sns.histplot(df[\"open_acc\"],bins = 25)\n"
   ]
  },
  {
   "cell_type": "code",
   "execution_count": 93,
   "id": "0dd4cfbf",
   "metadata": {},
   "outputs": [
    {
     "data": {
      "text/plain": [
       "<AxesSubplot:xlabel='loan_status', ylabel='open_acc'>"
      ]
     },
     "execution_count": 93,
     "metadata": {},
     "output_type": "execute_result"
    },
    {
     "data": {
      "image/png": "[encoded data removed]",
      "text/plain": [
       "<Figure size 360x504 with 1 Axes>"
      ]
     },
     "metadata": {
      "needs_background": "light"
     },
     "output_type": "display_data"
    }
   ],
   "source": [
    "plt.figure(figsize=(5,7))\n",
    "sns.boxplot(y= df[\"open_acc\"],\n",
    "            x=df[\"loan_status\"])"
   ]
  },
  {
   "cell_type": "code",
   "execution_count": null,
   "id": "0edcde30",
   "metadata": {},
   "outputs": [],
   "source": []
  },
  {
   "cell_type": "code",
   "execution_count": null,
   "id": "fca9b08f",
   "metadata": {},
   "outputs": [],
   "source": []
  },
  {
   "cell_type": "code",
   "execution_count": null,
   "id": "2478efd1",
   "metadata": {},
   "outputs": [],
   "source": []
  },
  {
   "cell_type": "code",
   "execution_count": null,
   "id": "c6d8d0e2",
   "metadata": {},
   "outputs": [],
   "source": []
  },
  {
   "cell_type": "code",
   "execution_count": null,
   "id": "13c9bcc8",
   "metadata": {},
   "outputs": [],
   "source": []
  },
  {
   "cell_type": "code",
   "execution_count": null,
   "id": "3e0309b0",
   "metadata": {},
   "outputs": [],
   "source": []
  },
  {
   "cell_type": "code",
   "execution_count": null,
   "id": "4187107b",
   "metadata": {},
   "outputs": [],
   "source": []
  },
  {
   "cell_type": "markdown",
   "id": "4597d3e4",
   "metadata": {},
   "source": [
    "### 19.\n",
    "### pub_rec : Number of derogatory public records\n",
    "\n",
    "\n",
    "\n",
    "“Derogatory” is seen as negative to lenders, and can include late payments, collection accounts, bankruptcy, charge-offs and other negative marks on your credit report. This can impact your ability to qualify for new credit."
   ]
  },
  {
   "cell_type": "code",
   "execution_count": 94,
   "id": "a20ba58f",
   "metadata": {},
   "outputs": [
    {
     "data": {
      "text/plain": [
       "count    396030.000000\n",
       "mean          0.178191\n",
       "std           0.530671\n",
       "min           0.000000\n",
       "25%           0.000000\n",
       "50%           0.000000\n",
       "75%           0.000000\n",
       "max          86.000000\n",
       "Name: pub_rec, dtype: float64"
      ]
     },
     "execution_count": 94,
     "metadata": {},
     "output_type": "execute_result"
    }
   ],
   "source": [
    "df[\"pub_rec\"].describe()"
   ]
  },
  {
   "cell_type": "code",
   "execution_count": 95,
   "id": "b90cac02",
   "metadata": {},
   "outputs": [
    {
     "data": {
      "text/plain": [
       "<AxesSubplot:xlabel='loan_status', ylabel='pub_rec'>"
      ]
     },
     "execution_count": 95,
     "metadata": {},
     "output_type": "execute_result"
    },
    {
     "data": {
      "image/png": "[encoded data removed]",
      "text/plain": [
       "<Figure size 360x504 with 1 Axes>"
      ]
     },
     "metadata": {
      "needs_background": "light"
     },
     "output_type": "display_data"
    }
   ],
   "source": [
    "plt.figure(figsize=(5,7))\n",
    "sns.boxplot(y= df[\"pub_rec\"],\n",
    "            x=df[\"loan_status\"])"
   ]
  },
  {
   "cell_type": "code",
   "execution_count": null,
   "id": "c4ccaf09",
   "metadata": {},
   "outputs": [],
   "source": []
  },
  {
   "cell_type": "code",
   "execution_count": null,
   "id": "51bbd630",
   "metadata": {},
   "outputs": [],
   "source": []
  },
  {
   "cell_type": "code",
   "execution_count": null,
   "id": "3373dc91",
   "metadata": {},
   "outputs": [],
   "source": []
  },
  {
   "cell_type": "markdown",
   "id": "6a50bfb6",
   "metadata": {},
   "source": [
    "### 20.\n",
    "\n",
    "### revol_bal : Total credit revolving balance\n",
    "\n",
    "\n",
    "With revolving credit, a consumer has a line of credit he can keep using and repaying over and over. The balance that carries over from one month to the next is the revolving balance on that loan.\n",
    "\n",
    "\n"
   ]
  },
  {
   "cell_type": "code",
   "execution_count": 96,
   "id": "889edc55",
   "metadata": {},
   "outputs": [
    {
     "data": {
      "text/plain": [
       "count     396030.000\n",
       "mean       15844.540\n",
       "std        20591.836\n",
       "min            0.000\n",
       "25%         6025.000\n",
       "50%        11181.000\n",
       "75%        19620.000\n",
       "max      1743266.000\n",
       "Name: revol_bal, dtype: float64"
      ]
     },
     "execution_count": 96,
     "metadata": {},
     "output_type": "execute_result"
    }
   ],
   "source": [
    "df[\"revol_bal\"].describe().round(3)"
   ]
  },
  {
   "cell_type": "code",
   "execution_count": 97,
   "id": "1dbc8605",
   "metadata": {},
   "outputs": [
    {
     "data": {
      "text/plain": [
       "<AxesSubplot:xlabel='revol_bal', ylabel='Count'>"
      ]
     },
     "execution_count": 97,
     "metadata": {},
     "output_type": "execute_result"
    },
    {
     "data": {
      "image/png": "[encoded data removed]",
      "text/plain": [
       "<Figure size 432x288 with 1 Axes>"
      ]
     },
     "metadata": {
      "needs_background": "light"
     },
     "output_type": "display_data"
    }
   ],
   "source": [
    "sns.histplot(np.log(df[\"revol_bal\"]))\n"
   ]
  },
  {
   "cell_type": "code",
   "execution_count": 98,
   "id": "06c8d51c",
   "metadata": {},
   "outputs": [
    {
     "data": {
      "text/plain": [
       "<AxesSubplot:xlabel='loan_status', ylabel='revol_bal'>"
      ]
     },
     "execution_count": 98,
     "metadata": {},
     "output_type": "execute_result"
    },
    {
     "data": {
      "image/png": "[encoded data removed]",
      "text/plain": [
       "<Figure size 360x504 with 1 Axes>"
      ]
     },
     "metadata": {
      "needs_background": "light"
     },
     "output_type": "display_data"
    }
   ],
   "source": [
    "plt.figure(figsize=(5,7))\n",
    "sns.boxplot(y= np.log(df[\"revol_bal\"]),\n",
    "            x=df[\"loan_status\"])"
   ]
  },
  {
   "cell_type": "code",
   "execution_count": null,
   "id": "d3d94925",
   "metadata": {},
   "outputs": [],
   "source": []
  },
  {
   "cell_type": "code",
   "execution_count": null,
   "id": "a365bacd",
   "metadata": {},
   "outputs": [],
   "source": []
  },
  {
   "cell_type": "code",
   "execution_count": null,
   "id": "aa53bce0",
   "metadata": {},
   "outputs": [],
   "source": []
  },
  {
   "cell_type": "code",
   "execution_count": null,
   "id": "a9263569",
   "metadata": {},
   "outputs": [],
   "source": []
  },
  {
   "cell_type": "code",
   "execution_count": null,
   "id": "4f7c0f0d",
   "metadata": {},
   "outputs": [],
   "source": []
  },
  {
   "cell_type": "code",
   "execution_count": null,
   "id": "5c0804ef",
   "metadata": {},
   "outputs": [],
   "source": []
  },
  {
   "cell_type": "code",
   "execution_count": null,
   "id": "e75ba91d",
   "metadata": {},
   "outputs": [],
   "source": []
  },
  {
   "cell_type": "code",
   "execution_count": null,
   "id": "6a8fa03a",
   "metadata": {},
   "outputs": [],
   "source": []
  },
  {
   "cell_type": "code",
   "execution_count": null,
   "id": "86fdcc7b",
   "metadata": {},
   "outputs": [],
   "source": []
  },
  {
   "cell_type": "code",
   "execution_count": null,
   "id": "c0667970",
   "metadata": {},
   "outputs": [],
   "source": []
  },
  {
   "cell_type": "code",
   "execution_count": null,
   "id": "17918277",
   "metadata": {},
   "outputs": [],
   "source": []
  },
  {
   "cell_type": "code",
   "execution_count": null,
   "id": "a3c880aa",
   "metadata": {},
   "outputs": [],
   "source": []
  },
  {
   "cell_type": "code",
   "execution_count": null,
   "id": "e154cd4b",
   "metadata": {},
   "outputs": [],
   "source": []
  },
  {
   "cell_type": "code",
   "execution_count": null,
   "id": "f83efe79",
   "metadata": {},
   "outputs": [],
   "source": []
  },
  {
   "cell_type": "code",
   "execution_count": null,
   "id": "1ce3f823",
   "metadata": {},
   "outputs": [],
   "source": []
  },
  {
   "cell_type": "markdown",
   "id": "db89c1f4",
   "metadata": {},
   "source": [
    "### 21. revol_util :\n",
    "### Revolving line utilization rate, or the amount of credit the borrower is using relative to all available revolving credit.\n",
    "\n",
    "\n",
    "Your credit utilization rate, sometimes called your credit utilization ratio, is the amount of revolving credit you're currently using divided by the total amount of revolving credit you have available. In other words, it's how much you currently owe divided by your credit limit. It is generally expressed as a percent."
   ]
  },
  {
   "cell_type": "code",
   "execution_count": 99,
   "id": "ba03391c",
   "metadata": {},
   "outputs": [
    {
     "data": {
      "text/plain": [
       "<AxesSubplot:xlabel='revol_util', ylabel='Count'>"
      ]
     },
     "execution_count": 99,
     "metadata": {},
     "output_type": "execute_result"
    },
    {
     "data": {
      "image/png": "[encoded data removed]",
      "text/plain": [
       "<Figure size 432x288 with 1 Axes>"
      ]
     },
     "metadata": {
      "needs_background": "light"
     },
     "output_type": "display_data"
    }
   ],
   "source": [
    "sns.histplot(df[\"revol_util\"])"
   ]
  },
  {
   "cell_type": "code",
   "execution_count": 100,
   "id": "a06e19a5",
   "metadata": {},
   "outputs": [
    {
     "data": {
      "text/plain": [
       "count    395754.000000\n",
       "mean         53.791749\n",
       "std          24.452193\n",
       "min           0.000000\n",
       "25%          35.800000\n",
       "50%          54.800000\n",
       "75%          72.900000\n",
       "max         892.300000\n",
       "Name: revol_util, dtype: float64"
      ]
     },
     "execution_count": 100,
     "metadata": {},
     "output_type": "execute_result"
    }
   ],
   "source": [
    "df[\"revol_util\"].describe()"
   ]
  },
  {
   "cell_type": "code",
   "execution_count": null,
   "id": "aa293a3d",
   "metadata": {},
   "outputs": [],
   "source": []
  },
  {
   "cell_type": "code",
   "execution_count": null,
   "id": "d19f9ce0",
   "metadata": {},
   "outputs": [],
   "source": []
  },
  {
   "cell_type": "code",
   "execution_count": null,
   "id": "313b030a",
   "metadata": {},
   "outputs": [],
   "source": []
  },
  {
   "cell_type": "markdown",
   "id": "ea320d72",
   "metadata": {},
   "source": [
    "22. total_acc : The total number of credit lines currently in the borrower's credit file\n"
   ]
  },
  {
   "cell_type": "code",
   "execution_count": 101,
   "id": "ce7925ea",
   "metadata": {
    "scrolled": false
   },
   "outputs": [
    {
     "data": {
      "text/plain": [
       "21.0     14280\n",
       "22.0     14260\n",
       "20.0     14228\n",
       "23.0     13923\n",
       "24.0     13878\n",
       "19.0     13876\n",
       "18.0     13710\n",
       "17.0     13495\n",
       "25.0     13225\n",
       "26.0     12799\n",
       "16.0     12771\n",
       "27.0     12343\n",
       "15.0     12283\n",
       "28.0     11706\n",
       "14.0     11524\n",
       "29.0     11274\n",
       "13.0     10936\n",
       "30.0     10587\n",
       "31.0      9869\n",
       "12.0      9858\n",
       "32.0      9552\n",
       "11.0      8844\n",
       "33.0      8682\n",
       "34.0      8088\n",
       "10.0      7672\n",
       "35.0      7406\n",
       "36.0      6971\n",
       "9.0       6362\n",
       "37.0      6362\n",
       "38.0      5707\n",
       "39.0      5428\n",
       "8.0       5365\n",
       "40.0      4896\n",
       "41.0      4391\n",
       "7.0       4143\n",
       "42.0      4072\n",
       "43.0      3637\n",
       "44.0      3408\n",
       "45.0      2991\n",
       "6.0       2923\n",
       "46.0      2626\n",
       "47.0      2426\n",
       "48.0      2197\n",
       "5.0       2028\n",
       "49.0      1912\n",
       "50.0      1747\n",
       "51.0      1529\n",
       "52.0      1447\n",
       "53.0      1245\n",
       "4.0       1238\n",
       "54.0      1066\n",
       "63.0      1025\n",
       "55.0       993\n",
       "56.0       864\n",
       "57.0       758\n",
       "58.0       715\n",
       "59.0       645\n",
       "60.0       582\n",
       "62.0       556\n",
       "61.0       541\n",
       "3.0        327\n",
       "64.0       234\n",
       "65.0       178\n",
       "66.0       141\n",
       "67.0       136\n",
       "68.0       132\n",
       "69.0       114\n",
       "71.0        80\n",
       "70.0        78\n",
       "74.0        72\n",
       "73.0        69\n",
       "72.0        66\n",
       "75.0        54\n",
       "77.0        47\n",
       "78.0        45\n",
       "76.0        40\n",
       "80.0        37\n",
       "81.0        35\n",
       "79.0        31\n",
       "85.0        25\n",
       "83.0        20\n",
       "2.0         18\n",
       "84.0        17\n",
       "90.0        17\n",
       "87.0        15\n",
       "88.0        14\n",
       "82.0        12\n",
       "91.0        12\n",
       "94.0        11\n",
       "86.0        10\n",
       "89.0        10\n",
       "93.0         9\n",
       "92.0         6\n",
       "95.0         5\n",
       "96.0         5\n",
       "99.0         5\n",
       "107.0        4\n",
       "97.0         4\n",
       "102.0        4\n",
       "105.0        3\n",
       "98.0         2\n",
       "106.0        2\n",
       "101.0        2\n",
       "111.0        2\n",
       "116.0        2\n",
       "100.0        1\n",
       "150.0        1\n",
       "117.0        1\n",
       "115.0        1\n",
       "108.0        1\n",
       "118.0        1\n",
       "151.0        1\n",
       "124.0        1\n",
       "110.0        1\n",
       "129.0        1\n",
       "135.0        1\n",
       "104.0        1\n",
       "103.0        1\n",
       "Name: total_acc, dtype: int64"
      ]
     },
     "execution_count": 101,
     "metadata": {},
     "output_type": "execute_result"
    }
   ],
   "source": [
    "df[\"total_acc\"].value_counts()"
   ]
  },
  {
   "cell_type": "code",
   "execution_count": null,
   "id": "78abc6c8",
   "metadata": {},
   "outputs": [],
   "source": []
  },
  {
   "cell_type": "markdown",
   "id": "4624144e",
   "metadata": {},
   "source": [
    "23. initial_list_status : The initial listing status of the loan. Possible values are – W, F\n"
   ]
  },
  {
   "cell_type": "code",
   "execution_count": 102,
   "id": "a4099cd5",
   "metadata": {},
   "outputs": [
    {
     "data": {
      "text/plain": [
       "f    238066\n",
       "w    157964\n",
       "Name: initial_list_status, dtype: int64"
      ]
     },
     "execution_count": 102,
     "metadata": {},
     "output_type": "execute_result"
    }
   ],
   "source": [
    "df[\"initial_list_status\"].value_counts()"
   ]
  },
  {
   "cell_type": "code",
   "execution_count": 103,
   "id": "09594eef",
   "metadata": {},
   "outputs": [
    {
     "name": "stdout",
     "output_type": "stream",
     "text": [
      "f    238066\n",
      "w    157964\n",
      "Name: initial_list_status, dtype: int64\n"
     ]
    },
    {
     "data": {
      "application/javascript": [
       "\n",
       "        if (window._pyforest_update_imports_cell) { window._pyforest_update_imports_cell('from scipy import stats'); }\n",
       "    "
      ],
      "text/plain": [
       "<IPython.core.display.Javascript object>"
      ]
     },
     "metadata": {},
     "output_type": "display_data"
    },
    {
     "data": {
      "text/plain": [
       "(35.61125549485254,\n",
       " 2.408916483118551e-09,\n",
       " 1,\n",
       " array([[ 46691.66582835, 191374.33417165],\n",
       "        [ 30981.33417165, 126982.66582835]]))"
      ]
     },
     "execution_count": 103,
     "metadata": {},
     "output_type": "execute_result"
    },
    {
     "data": {
      "image/png": "[encoded data removed]",
      "text/plain": [
       "<Figure size 432x288 with 1 Axes>"
      ]
     },
     "metadata": {
      "needs_background": "light"
     },
     "output_type": "display_data"
    }
   ],
   "source": [
    "print(df[\"initial_list_status\"].value_counts(dropna=False))\n",
    "pd.crosstab(index = df[\"initial_list_status\"],\n",
    "            columns= df[\"loan_status\"],normalize= \"index\", margins = True)*100\n",
    "pd.crosstab(index = df[\"initial_list_status\"],\n",
    "            columns= df[\"loan_status\"],normalize= \"index\").plot(kind = \"bar\")\n",
    "stats.chi2_contingency(pd.crosstab(index = df[\"initial_list_status\"],\n",
    "            columns= df[\"loan_status\"]))"
   ]
  },
  {
   "cell_type": "code",
   "execution_count": null,
   "id": "5a4d7e72",
   "metadata": {},
   "outputs": [],
   "source": []
  },
  {
   "cell_type": "code",
   "execution_count": null,
   "id": "28c4045b",
   "metadata": {},
   "outputs": [],
   "source": []
  },
  {
   "cell_type": "code",
   "execution_count": null,
   "id": "8f5059c7",
   "metadata": {},
   "outputs": [],
   "source": []
  },
  {
   "cell_type": "markdown",
   "id": "6982ebab",
   "metadata": {},
   "source": [
    "24. application_type : Indicates whether the loan is an individual application or a joint application with two co-borrowers\n"
   ]
  },
  {
   "cell_type": "code",
   "execution_count": 104,
   "id": "006dc22f",
   "metadata": {},
   "outputs": [
    {
     "data": {
      "text/plain": [
       "INDIVIDUAL    395319\n",
       "JOINT            425\n",
       "DIRECT_PAY       286\n",
       "Name: application_type, dtype: int64"
      ]
     },
     "execution_count": 104,
     "metadata": {},
     "output_type": "execute_result"
    }
   ],
   "source": [
    "df[\"application_type\"].value_counts()"
   ]
  },
  {
   "cell_type": "code",
   "execution_count": 105,
   "id": "a1381301",
   "metadata": {},
   "outputs": [
    {
     "name": "stdout",
     "output_type": "stream",
     "text": [
      "INDIVIDUAL    395319\n",
      "JOINT            425\n",
      "DIRECT_PAY       286\n",
      "Name: application_type, dtype: int64\n"
     ]
    },
    {
     "data": {
      "application/javascript": [
       "\n",
       "        if (window._pyforest_update_imports_cell) { window._pyforest_update_imports_cell('from scipy import stats'); }\n",
       "    "
      ],
      "text/plain": [
       "<IPython.core.display.Javascript object>"
      ]
     },
     "metadata": {},
     "output_type": "display_data"
    },
    {
     "data": {
      "text/plain": [
       "(59.601902791548355,\n",
       " 1.1418557766942247e-13,\n",
       " 2,\n",
       " array([[5.60929172e+01, 2.29907083e+02],\n",
       "        [7.75335522e+04, 3.17785448e+05],\n",
       "        [8.33548595e+01, 3.41645141e+02]]))"
      ]
     },
     "execution_count": 105,
     "metadata": {},
     "output_type": "execute_result"
    },
    {
     "data": {
      "image/png": "[encoded data removed]",
      "text/plain": [
       "<Figure size 432x288 with 1 Axes>"
      ]
     },
     "metadata": {
      "needs_background": "light"
     },
     "output_type": "display_data"
    }
   ],
   "source": [
    "print(df[\"application_type\"].value_counts(dropna=False))\n",
    "pd.crosstab(index = df[\"application_type\"],\n",
    "            columns= df[\"loan_status\"],normalize= \"index\", margins = True)*100\n",
    "pd.crosstab(index = df[\"application_type\"],\n",
    "            columns= df[\"loan_status\"],normalize= \"index\").plot(kind = \"bar\")\n",
    "stats.chi2_contingency(pd.crosstab(index = df[\"application_type\"],\n",
    "            columns= df[\"loan_status\"]))"
   ]
  },
  {
   "cell_type": "markdown",
   "id": "d3d9bf71",
   "metadata": {},
   "source": [
    "25. mort_acc : Number of mortgage accounts.\n"
   ]
  },
  {
   "cell_type": "code",
   "execution_count": 106,
   "id": "5ca03fbf",
   "metadata": {},
   "outputs": [
    {
     "data": {
      "text/plain": [
       "0.0     139777\n",
       "1.0      60416\n",
       "2.0      49948\n",
       "3.0      38049\n",
       "NaN      37795\n",
       "4.0      27887\n",
       "5.0      18194\n",
       "6.0      11069\n",
       "7.0       6052\n",
       "8.0       3121\n",
       "9.0       1656\n",
       "10.0       865\n",
       "11.0       479\n",
       "12.0       264\n",
       "13.0       146\n",
       "14.0       107\n",
       "15.0        61\n",
       "16.0        37\n",
       "17.0        22\n",
       "18.0        18\n",
       "19.0        15\n",
       "20.0        13\n",
       "24.0        10\n",
       "22.0         7\n",
       "21.0         4\n",
       "25.0         4\n",
       "27.0         3\n",
       "32.0         2\n",
       "31.0         2\n",
       "23.0         2\n",
       "26.0         2\n",
       "28.0         1\n",
       "30.0         1\n",
       "34.0         1\n",
       "Name: mort_acc, dtype: int64"
      ]
     },
     "execution_count": 106,
     "metadata": {},
     "output_type": "execute_result"
    }
   ],
   "source": [
    "df[\"mort_acc\"].value_counts(dropna=False)"
   ]
  },
  {
   "cell_type": "code",
   "execution_count": null,
   "id": "8bc303f6",
   "metadata": {},
   "outputs": [],
   "source": []
  },
  {
   "cell_type": "markdown",
   "id": "71f2c3f9",
   "metadata": {},
   "source": [
    "26. pub_rec_bankruptcies : Number of public record bankruptcies\n"
   ]
  },
  {
   "cell_type": "code",
   "execution_count": 107,
   "id": "ac318e98",
   "metadata": {},
   "outputs": [
    {
     "data": {
      "text/plain": [
       "0.0    350380\n",
       "1.0     42790\n",
       "2.0      1847\n",
       "3.0       351\n",
       "4.0        82\n",
       "5.0        32\n",
       "6.0         7\n",
       "7.0         4\n",
       "8.0         2\n",
       "Name: pub_rec_bankruptcies, dtype: int64"
      ]
     },
     "execution_count": 107,
     "metadata": {},
     "output_type": "execute_result"
    }
   ],
   "source": [
    "df[\"pub_rec_bankruptcies\"].value_counts()"
   ]
  },
  {
   "cell_type": "code",
   "execution_count": 108,
   "id": "f3d80090",
   "metadata": {},
   "outputs": [
    {
     "name": "stdout",
     "output_type": "stream",
     "text": [
      "0.0    350380\n",
      "1.0     42790\n",
      "2.0      1847\n",
      "NaN       535\n",
      "3.0       351\n",
      "4.0        82\n",
      "5.0        32\n",
      "6.0         7\n",
      "7.0         4\n",
      "8.0         2\n",
      "Name: pub_rec_bankruptcies, dtype: int64\n",
      "loan_status           Charged Off  Fully Paid\n",
      "pub_rec_bankruptcies                         \n",
      "0.0                     19.499115   80.500885\n",
      "1.0                     20.394952   79.605048\n",
      "2.0                     23.226854   76.773146\n",
      "3.0                     21.082621   78.917379\n",
      "4.0                     31.707317   68.292683\n",
      "5.0                     15.625000   84.375000\n",
      "6.0                     28.571429   71.428571\n",
      "7.0                     25.000000   75.000000\n",
      "8.0                     50.000000   50.000000\n",
      "All                     19.617441   80.382559\n"
     ]
    },
    {
     "data": {
      "application/javascript": [
       "\n",
       "        if (window._pyforest_update_imports_cell) { window._pyforest_update_imports_cell('from scipy import stats'); }\n",
       "    "
      ],
      "text/plain": [
       "<IPython.core.display.Javascript object>"
      ]
     },
     "metadata": {},
     "output_type": "display_data"
    },
    {
     "data": {
      "text/plain": [
       "(44.77652714609038,\n",
       " 4.056824231550618e-07,\n",
       " 8,\n",
       " array([[6.87355913e+04, 2.81644409e+05],\n",
       "        [8.39430319e+03, 3.43956968e+04],\n",
       "        [3.62334143e+02, 1.48466586e+03],\n",
       "        [6.88572194e+01, 2.82142781e+02],\n",
       "        [1.60863020e+01, 6.59136980e+01],\n",
       "        [6.27758126e+00, 2.57224187e+01],\n",
       "        [1.37322090e+00, 5.62677910e+00],\n",
       "        [7.84697657e-01, 3.21530234e+00],\n",
       "        [3.92348829e-01, 1.60765117e+00]]))"
      ]
     },
     "execution_count": 108,
     "metadata": {},
     "output_type": "execute_result"
    },
    {
     "data": {
      "image/png": "[encoded data removed]",
      "text/plain": [
       "<Figure size 432x288 with 1 Axes>"
      ]
     },
     "metadata": {
      "needs_background": "light"
     },
     "output_type": "display_data"
    }
   ],
   "source": [
    "print(df[\"pub_rec_bankruptcies\"].value_counts(dropna=False))\n",
    "print(pd.crosstab(index = df[\"pub_rec_bankruptcies\"],\n",
    "            columns= df[\"loan_status\"],normalize= \"index\", margins = True)*100)\n",
    "pd.crosstab(index = df[\"pub_rec_bankruptcies\"],\n",
    "            columns= df[\"loan_status\"],normalize= \"index\").plot(kind = \"bar\")\n",
    "stats.chi2_contingency(pd.crosstab(index = df[\"pub_rec_bankruptcies\"],\n",
    "            columns= df[\"loan_status\"]))"
   ]
  },
  {
   "cell_type": "code",
   "execution_count": null,
   "id": "f816018d",
   "metadata": {},
   "outputs": [],
   "source": []
  },
  {
   "cell_type": "code",
   "execution_count": null,
   "id": "1703143d",
   "metadata": {},
   "outputs": [],
   "source": []
  },
  {
   "cell_type": "code",
   "execution_count": null,
   "id": "e71eb466",
   "metadata": {},
   "outputs": [],
   "source": []
  },
  {
   "cell_type": "markdown",
   "id": "09345b69",
   "metadata": {},
   "source": [
    "27. Address: Address of the individual"
   ]
  },
  {
   "cell_type": "code",
   "execution_count": 109,
   "id": "131a7b83",
   "metadata": {},
   "outputs": [
    {
     "data": {
      "text/plain": [
       "'40245 Cody Drives\\r\\nBartlettfort, NM 00813'"
      ]
     },
     "execution_count": 109,
     "metadata": {},
     "output_type": "execute_result"
    }
   ],
   "source": [
    "df[\"address\"][10]"
   ]
  },
  {
   "cell_type": "code",
   "execution_count": null,
   "id": "287d9038",
   "metadata": {},
   "outputs": [],
   "source": []
  },
  {
   "cell_type": "markdown",
   "id": "6db33057",
   "metadata": {},
   "source": [
    "    missing values for treatment  are :\n",
    "\n",
    "    emp_title               5.789208\n",
    "    emp_length              4.621115\n",
    "    revol_util              0.069692\n",
    "    mort_acc                9.543469\n",
    "    pub_rec_bankruptcies    0.135091"
   ]
  },
  {
   "cell_type": "code",
   "execution_count": 110,
   "id": "3ba64203",
   "metadata": {},
   "outputs": [
    {
     "data": {
      "text/plain": [
       "0         B4\n",
       "1         B5\n",
       "2         B3\n",
       "3         A2\n",
       "4         C5\n",
       "          ..\n",
       "396025    B4\n",
       "396026    C1\n",
       "396027    B1\n",
       "396028    C2\n",
       "396029    C2\n",
       "Name: sub_grade, Length: 396030, dtype: object"
      ]
     },
     "execution_count": 110,
     "metadata": {},
     "output_type": "execute_result"
    }
   ],
   "source": [
    "data = pd.read_csv(\"logistic_regression.txt\")\n",
    "data[\"sub_grade\"]"
   ]
  },
  {
   "cell_type": "code",
   "execution_count": 111,
   "id": "cbcb4aef",
   "metadata": {},
   "outputs": [
    {
     "data": {
      "text/plain": [
       "B3    26655\n",
       "B4    25601\n",
       "C1    23662\n",
       "C2    22580\n",
       "B2    22495\n",
       "B5    22085\n",
       "C3    21221\n",
       "C4    20280\n",
       "B1    19182\n",
       "A5    18526\n",
       "C5    18244\n",
       "D1    15993\n",
       "A4    15789\n",
       "D2    13951\n",
       "D3    12223\n",
       "D4    11657\n",
       "A3    10576\n",
       "A1     9729\n",
       "D5     9700\n",
       "A2     9567\n",
       "E1     7917\n",
       "E2     7431\n",
       "E3     6207\n",
       "E4     5361\n",
       "E5     4572\n",
       "F1     3536\n",
       "F2     2766\n",
       "F3     2286\n",
       "F4     1787\n",
       "F5     1397\n",
       "G1     1058\n",
       "G2      754\n",
       "G3      552\n",
       "G4      374\n",
       "G5      316\n",
       "Name: sub_grade, dtype: int64"
      ]
     },
     "execution_count": 111,
     "metadata": {},
     "output_type": "execute_result"
    }
   ],
   "source": [
    "data[\"sub_grade\"].value_counts()"
   ]
  },
  {
   "cell_type": "code",
   "execution_count": null,
   "id": "cd36508d",
   "metadata": {},
   "outputs": [],
   "source": []
  },
  {
   "cell_type": "code",
   "execution_count": null,
   "id": "5eeb9b42",
   "metadata": {},
   "outputs": [],
   "source": []
  },
  {
   "cell_type": "code",
   "execution_count": null,
   "id": "5bf2c1b7",
   "metadata": {},
   "outputs": [],
   "source": []
  },
  {
   "cell_type": "code",
   "execution_count": 112,
   "id": "946db078",
   "metadata": {},
   "outputs": [
    {
     "data": {
      "text/plain": [
       "Index(['loan_amnt', 'term', 'int_rate', 'installment', 'grade', 'sub_grade', 'emp_title', 'emp_length', 'home_ownership', 'annual_inc', 'verification_status', 'issue_d', 'loan_status', 'purpose', 'title', 'dti', 'earliest_cr_line', 'open_acc', 'pub_rec', 'revol_bal', 'revol_util', 'total_acc', 'initial_list_status', 'application_type', 'mort_acc', 'pub_rec_bankruptcies', 'address', 'Loan_Tenure'], dtype='object')"
      ]
     },
     "execution_count": 112,
     "metadata": {},
     "output_type": "execute_result"
    }
   ],
   "source": [
    "df.columns\n"
   ]
  },
  {
   "cell_type": "code",
   "execution_count": 113,
   "id": "e18e12c6",
   "metadata": {},
   "outputs": [],
   "source": [
    "# EMi "
   ]
  },
  {
   "cell_type": "code",
   "execution_count": 114,
   "id": "c4f35816",
   "metadata": {},
   "outputs": [],
   "source": [
    "# df[\"term\"] = df[\"term\"].str.split().apply(lambda x:x[0]).astype(\"int\")"
   ]
  },
  {
   "cell_type": "code",
   "execution_count": 115,
   "id": "ccece67d",
   "metadata": {},
   "outputs": [],
   "source": [
    "# EMI \n",
    "# df[\"loan_amnt\"] / df[\"term\"]"
   ]
  },
  {
   "cell_type": "code",
   "execution_count": 116,
   "id": "9d93f89a",
   "metadata": {},
   "outputs": [],
   "source": [
    "# (df[\"loan_amnt\"] / df[\"term\"])/12"
   ]
  },
  {
   "cell_type": "code",
   "execution_count": null,
   "id": "029e08df",
   "metadata": {},
   "outputs": [],
   "source": []
  },
  {
   "cell_type": "code",
   "execution_count": 117,
   "id": "6099acaa",
   "metadata": {},
   "outputs": [],
   "source": [
    "# (((df[\"annual_inc\"]/12)*0.1 ) > ((df[\"loan_amnt\"] / df[\"term\"])/12)).value_counts()"
   ]
  },
  {
   "cell_type": "code",
   "execution_count": 118,
   "id": "cce39b47",
   "metadata": {},
   "outputs": [],
   "source": [
    "# df[\"annual_inc\"]"
   ]
  },
  {
   "cell_type": "markdown",
   "id": "ead4dd5f",
   "metadata": {},
   "source": [
    "# dropping unimportant columns "
   ]
  },
  {
   "cell_type": "code",
   "execution_count": 119,
   "id": "03387c1a",
   "metadata": {},
   "outputs": [],
   "source": [
    "df.drop([\"address\"],axis = 1, inplace=True)"
   ]
  },
  {
   "cell_type": "code",
   "execution_count": 120,
   "id": "0519f9f8",
   "metadata": {},
   "outputs": [],
   "source": [
    "df.drop([\"title\"],axis = 1, inplace=True)"
   ]
  },
  {
   "cell_type": "code",
   "execution_count": 121,
   "id": "0232ba8d",
   "metadata": {},
   "outputs": [],
   "source": [
    "df.drop([\"emp_title\"],axis = 1, inplace=True)"
   ]
  },
  {
   "cell_type": "code",
   "execution_count": 149,
   "id": "4ca895d1",
   "metadata": {},
   "outputs": [],
   "source": [
    "df.drop([\"issue_d\",\"earliest_cr_line\"],axis = 1,inplace=True)"
   ]
  },
  {
   "cell_type": "code",
   "execution_count": null,
   "id": "8e3511f0",
   "metadata": {},
   "outputs": [],
   "source": []
  },
  {
   "cell_type": "markdown",
   "id": "5d1cb1d8",
   "metadata": {},
   "source": [
    "# Missing value imputation : "
   ]
  },
  {
   "cell_type": "code",
   "execution_count": 122,
   "id": "8cd8f9e7",
   "metadata": {},
   "outputs": [],
   "source": [
    "def missing_df(data):\n",
    "    total_missing_df = data.isna().sum().sort_values(ascending = False)\n",
    "    percentage_missing_df = ((data.isna().sum()/len(data)*100)).sort_values(ascending = False)\n",
    "    missingDF = pd.concat([total_missing_df, percentage_missing_df],axis = 1, keys=['Total', 'Percent'])\n",
    "    return missingDF\n",
    "    "
   ]
  },
  {
   "cell_type": "code",
   "execution_count": 123,
   "id": "fe26611c",
   "metadata": {},
   "outputs": [
    {
     "data": {
      "text/html": [
       "<div>\n",
       "<style scoped>\n",
       "    .dataframe tbody tr th:only-of-type {\n",
       "        vertical-align: middle;\n",
       "    }\n",
       "\n",
       "    .dataframe tbody tr th {\n",
       "        vertical-align: top;\n",
       "    }\n",
       "\n",
       "    .dataframe thead th {\n",
       "        text-align: right;\n",
       "    }\n",
       "</style>\n",
       "<table border=\"1\" class=\"dataframe\">\n",
       "  <thead>\n",
       "    <tr style=\"text-align: right;\">\n",
       "      <th></th>\n",
       "      <th>Total</th>\n",
       "      <th>Percent</th>\n",
       "    </tr>\n",
       "  </thead>\n",
       "  <tbody>\n",
       "    <tr>\n",
       "      <th>mort_acc</th>\n",
       "      <td>37795</td>\n",
       "      <td>9.543469</td>\n",
       "    </tr>\n",
       "    <tr>\n",
       "      <th>emp_length</th>\n",
       "      <td>18301</td>\n",
       "      <td>4.621115</td>\n",
       "    </tr>\n",
       "    <tr>\n",
       "      <th>pub_rec_bankruptcies</th>\n",
       "      <td>535</td>\n",
       "      <td>0.135091</td>\n",
       "    </tr>\n",
       "    <tr>\n",
       "      <th>revol_util</th>\n",
       "      <td>276</td>\n",
       "      <td>0.069692</td>\n",
       "    </tr>\n",
       "  </tbody>\n",
       "</table>\n",
       "</div>"
      ],
      "text/plain": [
       "                      Total   Percent\n",
       "mort_acc              37795  9.543469\n",
       "emp_length            18301  4.621115\n",
       "pub_rec_bankruptcies    535  0.135091\n",
       "revol_util              276  0.069692"
      ]
     },
     "execution_count": 123,
     "metadata": {},
     "output_type": "execute_result"
    }
   ],
   "source": [
    "missing_data = missing_df(df)\n",
    "missing_data[missing_data[\"Total\"]>0]\n"
   ]
  },
  {
   "cell_type": "code",
   "execution_count": null,
   "id": "94a1fe15",
   "metadata": {},
   "outputs": [],
   "source": []
  },
  {
   "cell_type": "code",
   "execution_count": 125,
   "id": "a31b305f",
   "metadata": {},
   "outputs": [
    {
     "data": {
      "text/plain": [
       "Index(['mort_acc', 'emp_length', 'pub_rec_bankruptcies', 'revol_util'], dtype='object')"
      ]
     },
     "execution_count": 125,
     "metadata": {},
     "output_type": "execute_result"
    }
   ],
   "source": [
    "missing_data[missing_data[\"Total\"]>0].index"
   ]
  },
  {
   "cell_type": "code",
   "execution_count": 126,
   "id": "5e4241be",
   "metadata": {},
   "outputs": [],
   "source": [
    "from sklearn.impute import SimpleImputer"
   ]
  },
  {
   "cell_type": "code",
   "execution_count": 127,
   "id": "9f7f501e",
   "metadata": {},
   "outputs": [],
   "source": [
    "\n",
    "num_missing = ['mort_acc',   'pub_rec_bankruptcies', 'revol_util']\n",
    "\n",
    "median_imputer = SimpleImputer(strategy= \"median\")"
   ]
  },
  {
   "cell_type": "code",
   "execution_count": 128,
   "id": "6799886a",
   "metadata": {},
   "outputs": [],
   "source": [
    "\n",
    "for i in num_missing:\n",
    "    df[i] = pd.DataFrame(median_imputer.fit_transform(pd.DataFrame(df[i])))\n",
    "    "
   ]
  },
  {
   "cell_type": "code",
   "execution_count": 129,
   "id": "bf83d48a",
   "metadata": {},
   "outputs": [
    {
     "data": {
      "text/html": [
       "<div>\n",
       "<style scoped>\n",
       "    .dataframe tbody tr th:only-of-type {\n",
       "        vertical-align: middle;\n",
       "    }\n",
       "\n",
       "    .dataframe tbody tr th {\n",
       "        vertical-align: top;\n",
       "    }\n",
       "\n",
       "    .dataframe thead th {\n",
       "        text-align: right;\n",
       "    }\n",
       "</style>\n",
       "<table border=\"1\" class=\"dataframe\">\n",
       "  <thead>\n",
       "    <tr style=\"text-align: right;\">\n",
       "      <th></th>\n",
       "      <th>Total</th>\n",
       "      <th>Percent</th>\n",
       "    </tr>\n",
       "  </thead>\n",
       "  <tbody>\n",
       "    <tr>\n",
       "      <th>emp_length</th>\n",
       "      <td>18301</td>\n",
       "      <td>4.621115</td>\n",
       "    </tr>\n",
       "  </tbody>\n",
       "</table>\n",
       "</div>"
      ],
      "text/plain": [
       "            Total   Percent\n",
       "emp_length  18301  4.621115"
      ]
     },
     "execution_count": 129,
     "metadata": {},
     "output_type": "execute_result"
    }
   ],
   "source": [
    "missing_data = missing_df(df)\n",
    "missing_data[missing_data[\"Total\"]>0]\n"
   ]
  },
  {
   "cell_type": "code",
   "execution_count": 130,
   "id": "3486c788",
   "metadata": {},
   "outputs": [],
   "source": [
    "categorical_minssing  = missing_data[missing_data[\"Total\"]>0].index"
   ]
  },
  {
   "cell_type": "code",
   "execution_count": 131,
   "id": "de3bac2d",
   "metadata": {},
   "outputs": [],
   "source": [
    "freq_imputer = SimpleImputer(strategy= \"most_frequent\")\n",
    "for i in categorical_minssing:\n",
    "    df[i] = pd.DataFrame(freq_imputer.fit_transform(pd.DataFrame(df[i])))"
   ]
  },
  {
   "cell_type": "code",
   "execution_count": null,
   "id": "68eb6148",
   "metadata": {},
   "outputs": [],
   "source": []
  },
  {
   "cell_type": "code",
   "execution_count": null,
   "id": "6eff3fac",
   "metadata": {},
   "outputs": [],
   "source": []
  },
  {
   "cell_type": "code",
   "execution_count": null,
   "id": "b6d5ac33",
   "metadata": {},
   "outputs": [],
   "source": []
  },
  {
   "cell_type": "code",
   "execution_count": null,
   "id": "dd2a952d",
   "metadata": {},
   "outputs": [],
   "source": []
  },
  {
   "cell_type": "code",
   "execution_count": 144,
   "id": "a86f3a9e",
   "metadata": {},
   "outputs": [],
   "source": [
    "# df.columns"
   ]
  },
  {
   "cell_type": "code",
   "execution_count": 143,
   "id": "ab58c671",
   "metadata": {},
   "outputs": [],
   "source": [
    "# df.dtypes == \"object\""
   ]
  },
  {
   "cell_type": "code",
   "execution_count": 145,
   "id": "24a297c5",
   "metadata": {},
   "outputs": [],
   "source": [
    "# df[\"grade\"].unique()"
   ]
  },
  {
   "cell_type": "code",
   "execution_count": 146,
   "id": "11ae8206",
   "metadata": {},
   "outputs": [],
   "source": [
    "# df[\"grade\"].value_counts()"
   ]
  },
  {
   "cell_type": "code",
   "execution_count": 136,
   "id": "7e049d7f",
   "metadata": {},
   "outputs": [],
   "source": [
    "# df[\"grade\"].replace({\"A\":1, \"B\":2,\"C\":3,\"D\":4,\"E\":5,\"F\":6,\"G\":7}, inplace=True)"
   ]
  },
  {
   "cell_type": "code",
   "execution_count": 137,
   "id": "470aab35",
   "metadata": {},
   "outputs": [],
   "source": [
    "# df[\"grade\"].value_counts()"
   ]
  },
  {
   "cell_type": "code",
   "execution_count": 138,
   "id": "599d16a3",
   "metadata": {},
   "outputs": [],
   "source": [
    "# len(sorted(df[\"sub_grade\"].unique()))"
   ]
  },
  {
   "cell_type": "code",
   "execution_count": 139,
   "id": "bfd71d84",
   "metadata": {
    "scrolled": false
   },
   "outputs": [],
   "source": [
    "# df[\"sub_grade\"].value_counts()"
   ]
  },
  {
   "cell_type": "code",
   "execution_count": 140,
   "id": "2777cd44",
   "metadata": {},
   "outputs": [],
   "source": [
    "from sklearn.preprocessing import LabelEncoder\n",
    "LabelEncoder = LabelEncoder()"
   ]
  },
  {
   "cell_type": "code",
   "execution_count": 141,
   "id": "a0a9e2bc",
   "metadata": {},
   "outputs": [
    {
     "data": {
      "text/plain": [
       "array([ 8,  9,  7, ...,  5, 11, 11])"
      ]
     },
     "execution_count": 141,
     "metadata": {},
     "output_type": "execute_result"
    }
   ],
   "source": [
    "LabelEncoder.fit_transform(df[\"sub_grade\"])"
   ]
  },
  {
   "cell_type": "code",
   "execution_count": 142,
   "id": "eef4af08",
   "metadata": {},
   "outputs": [],
   "source": [
    "df[\"sub_grade\"] = LabelEncoder.fit_transform(df[\"sub_grade\"])\n",
    "df[\"grade\"] = LabelEncoder.fit_transform(df[\"grade\"])"
   ]
  },
  {
   "cell_type": "code",
   "execution_count": null,
   "id": "4bae35d6",
   "metadata": {},
   "outputs": [],
   "source": []
  },
  {
   "cell_type": "code",
   "execution_count": null,
   "id": "4771837a",
   "metadata": {},
   "outputs": [],
   "source": []
  },
  {
   "cell_type": "code",
   "execution_count": null,
   "id": "5896a5af",
   "metadata": {},
   "outputs": [],
   "source": []
  },
  {
   "cell_type": "code",
   "execution_count": null,
   "id": "8f73e6b3",
   "metadata": {},
   "outputs": [],
   "source": []
  },
  {
   "cell_type": "code",
   "execution_count": 148,
   "id": "0393cbee",
   "metadata": {},
   "outputs": [],
   "source": [
    "df[\"loan_status\"].replace({\"Fully Paid\":0,\n",
    "                          \"Charged Off\" : 1},inplace=True)"
   ]
  },
  {
   "cell_type": "code",
   "execution_count": 147,
   "id": "ce071d71",
   "metadata": {},
   "outputs": [
    {
     "data": {
      "text/plain": [
       "['term',\n",
       " 'emp_length',\n",
       " 'home_ownership',\n",
       " 'verification_status',\n",
       " 'purpose',\n",
       " 'initial_list_status',\n",
       " 'application_type']"
      ]
     },
     "execution_count": 147,
     "metadata": {},
     "output_type": "execute_result"
    }
   ],
   "source": [
    "categorical_target_en  = [\"term\",\"emp_length\",\"home_ownership\",\"verification_status\",\"purpose\",\"initial_list_status\",\"application_type\"]\n",
    "categorical_target_en"
   ]
  },
  {
   "cell_type": "code",
   "execution_count": null,
   "id": "2bd9f493",
   "metadata": {},
   "outputs": [],
   "source": []
  },
  {
   "cell_type": "code",
   "execution_count": null,
   "id": "78a51a80",
   "metadata": {},
   "outputs": [],
   "source": []
  },
  {
   "cell_type": "code",
   "execution_count": 150,
   "id": "415e3682",
   "metadata": {},
   "outputs": [
    {
     "data": {
      "text/html": [
       "<div>\n",
       "<style scoped>\n",
       "    .dataframe tbody tr th:only-of-type {\n",
       "        vertical-align: middle;\n",
       "    }\n",
       "\n",
       "    .dataframe tbody tr th {\n",
       "        vertical-align: top;\n",
       "    }\n",
       "\n",
       "    .dataframe thead th {\n",
       "        text-align: right;\n",
       "    }\n",
       "</style>\n",
       "<table border=\"1\" class=\"dataframe\">\n",
       "  <thead>\n",
       "    <tr style=\"text-align: right;\">\n",
       "      <th></th>\n",
       "      <th>loan_amnt</th>\n",
       "      <th>term</th>\n",
       "      <th>int_rate</th>\n",
       "      <th>installment</th>\n",
       "      <th>grade</th>\n",
       "      <th>sub_grade</th>\n",
       "      <th>emp_length</th>\n",
       "      <th>home_ownership</th>\n",
       "      <th>annual_inc</th>\n",
       "      <th>verification_status</th>\n",
       "      <th>loan_status</th>\n",
       "      <th>purpose</th>\n",
       "      <th>dti</th>\n",
       "      <th>open_acc</th>\n",
       "      <th>pub_rec</th>\n",
       "      <th>revol_bal</th>\n",
       "      <th>revol_util</th>\n",
       "      <th>total_acc</th>\n",
       "      <th>initial_list_status</th>\n",
       "      <th>application_type</th>\n",
       "      <th>mort_acc</th>\n",
       "      <th>pub_rec_bankruptcies</th>\n",
       "      <th>Loan_Tenure</th>\n",
       "    </tr>\n",
       "  </thead>\n",
       "  <tbody>\n",
       "    <tr>\n",
       "      <th>0</th>\n",
       "      <td>10000.0</td>\n",
       "      <td>36 months</td>\n",
       "      <td>11.44</td>\n",
       "      <td>329.48</td>\n",
       "      <td>1</td>\n",
       "      <td>8</td>\n",
       "      <td>10+ years</td>\n",
       "      <td>RENT</td>\n",
       "      <td>117000.0</td>\n",
       "      <td>Not Verified</td>\n",
       "      <td>0</td>\n",
       "      <td>vacation</td>\n",
       "      <td>26.24</td>\n",
       "      <td>16.0</td>\n",
       "      <td>0.0</td>\n",
       "      <td>36369.0</td>\n",
       "      <td>41.8</td>\n",
       "      <td>25.0</td>\n",
       "      <td>w</td>\n",
       "      <td>INDIVIDUAL</td>\n",
       "      <td>0.0</td>\n",
       "      <td>0.0</td>\n",
       "      <td>295.036859</td>\n",
       "    </tr>\n",
       "    <tr>\n",
       "      <th>1</th>\n",
       "      <td>8000.0</td>\n",
       "      <td>36 months</td>\n",
       "      <td>11.99</td>\n",
       "      <td>265.68</td>\n",
       "      <td>1</td>\n",
       "      <td>9</td>\n",
       "      <td>4 years</td>\n",
       "      <td>MORTGAGE</td>\n",
       "      <td>65000.0</td>\n",
       "      <td>Not Verified</td>\n",
       "      <td>0</td>\n",
       "      <td>debt_consolidation</td>\n",
       "      <td>22.05</td>\n",
       "      <td>17.0</td>\n",
       "      <td>0.0</td>\n",
       "      <td>20131.0</td>\n",
       "      <td>53.3</td>\n",
       "      <td>27.0</td>\n",
       "      <td>f</td>\n",
       "      <td>INDIVIDUAL</td>\n",
       "      <td>3.0</td>\n",
       "      <td>0.0</td>\n",
       "      <td>126.031335</td>\n",
       "    </tr>\n",
       "    <tr>\n",
       "      <th>2</th>\n",
       "      <td>15600.0</td>\n",
       "      <td>36 months</td>\n",
       "      <td>10.49</td>\n",
       "      <td>506.97</td>\n",
       "      <td>1</td>\n",
       "      <td>7</td>\n",
       "      <td>&lt; 1 year</td>\n",
       "      <td>RENT</td>\n",
       "      <td>43057.0</td>\n",
       "      <td>Source Verified</td>\n",
       "      <td>0</td>\n",
       "      <td>credit_card</td>\n",
       "      <td>12.79</td>\n",
       "      <td>13.0</td>\n",
       "      <td>0.0</td>\n",
       "      <td>11987.0</td>\n",
       "      <td>92.2</td>\n",
       "      <td>26.0</td>\n",
       "      <td>f</td>\n",
       "      <td>INDIVIDUAL</td>\n",
       "      <td>0.0</td>\n",
       "      <td>0.0</td>\n",
       "      <td>89.036736</td>\n",
       "    </tr>\n",
       "    <tr>\n",
       "      <th>3</th>\n",
       "      <td>7200.0</td>\n",
       "      <td>36 months</td>\n",
       "      <td>6.49</td>\n",
       "      <td>220.65</td>\n",
       "      <td>0</td>\n",
       "      <td>1</td>\n",
       "      <td>6 years</td>\n",
       "      <td>RENT</td>\n",
       "      <td>54000.0</td>\n",
       "      <td>Not Verified</td>\n",
       "      <td>0</td>\n",
       "      <td>credit_card</td>\n",
       "      <td>2.60</td>\n",
       "      <td>6.0</td>\n",
       "      <td>0.0</td>\n",
       "      <td>5472.0</td>\n",
       "      <td>21.5</td>\n",
       "      <td>13.0</td>\n",
       "      <td>f</td>\n",
       "      <td>INDIVIDUAL</td>\n",
       "      <td>0.0</td>\n",
       "      <td>0.0</td>\n",
       "      <td>98.006119</td>\n",
       "    </tr>\n",
       "    <tr>\n",
       "      <th>4</th>\n",
       "      <td>24375.0</td>\n",
       "      <td>60 months</td>\n",
       "      <td>17.27</td>\n",
       "      <td>609.33</td>\n",
       "      <td>2</td>\n",
       "      <td>14</td>\n",
       "      <td>9 years</td>\n",
       "      <td>MORTGAGE</td>\n",
       "      <td>55000.0</td>\n",
       "      <td>Verified</td>\n",
       "      <td>1</td>\n",
       "      <td>credit_card</td>\n",
       "      <td>33.95</td>\n",
       "      <td>13.0</td>\n",
       "      <td>0.0</td>\n",
       "      <td>24584.0</td>\n",
       "      <td>69.8</td>\n",
       "      <td>43.0</td>\n",
       "      <td>f</td>\n",
       "      <td>INDIVIDUAL</td>\n",
       "      <td>1.0</td>\n",
       "      <td>0.0</td>\n",
       "      <td>169.038379</td>\n",
       "    </tr>\n",
       "    <tr>\n",
       "      <th>...</th>\n",
       "      <td>...</td>\n",
       "      <td>...</td>\n",
       "      <td>...</td>\n",
       "      <td>...</td>\n",
       "      <td>...</td>\n",
       "      <td>...</td>\n",
       "      <td>...</td>\n",
       "      <td>...</td>\n",
       "      <td>...</td>\n",
       "      <td>...</td>\n",
       "      <td>...</td>\n",
       "      <td>...</td>\n",
       "      <td>...</td>\n",
       "      <td>...</td>\n",
       "      <td>...</td>\n",
       "      <td>...</td>\n",
       "      <td>...</td>\n",
       "      <td>...</td>\n",
       "      <td>...</td>\n",
       "      <td>...</td>\n",
       "      <td>...</td>\n",
       "      <td>...</td>\n",
       "      <td>...</td>\n",
       "    </tr>\n",
       "    <tr>\n",
       "      <th>396025</th>\n",
       "      <td>10000.0</td>\n",
       "      <td>60 months</td>\n",
       "      <td>10.99</td>\n",
       "      <td>217.38</td>\n",
       "      <td>1</td>\n",
       "      <td>8</td>\n",
       "      <td>2 years</td>\n",
       "      <td>RENT</td>\n",
       "      <td>40000.0</td>\n",
       "      <td>Source Verified</td>\n",
       "      <td>0</td>\n",
       "      <td>debt_consolidation</td>\n",
       "      <td>15.63</td>\n",
       "      <td>6.0</td>\n",
       "      <td>0.0</td>\n",
       "      <td>1990.0</td>\n",
       "      <td>34.3</td>\n",
       "      <td>23.0</td>\n",
       "      <td>w</td>\n",
       "      <td>INDIVIDUAL</td>\n",
       "      <td>0.0</td>\n",
       "      <td>0.0</td>\n",
       "      <td>130.959568</td>\n",
       "    </tr>\n",
       "    <tr>\n",
       "      <th>396026</th>\n",
       "      <td>21000.0</td>\n",
       "      <td>36 months</td>\n",
       "      <td>12.29</td>\n",
       "      <td>700.42</td>\n",
       "      <td>2</td>\n",
       "      <td>10</td>\n",
       "      <td>5 years</td>\n",
       "      <td>MORTGAGE</td>\n",
       "      <td>110000.0</td>\n",
       "      <td>Source Verified</td>\n",
       "      <td>0</td>\n",
       "      <td>debt_consolidation</td>\n",
       "      <td>21.45</td>\n",
       "      <td>6.0</td>\n",
       "      <td>0.0</td>\n",
       "      <td>43263.0</td>\n",
       "      <td>95.7</td>\n",
       "      <td>8.0</td>\n",
       "      <td>f</td>\n",
       "      <td>INDIVIDUAL</td>\n",
       "      <td>1.0</td>\n",
       "      <td>0.0</td>\n",
       "      <td>107.994004</td>\n",
       "    </tr>\n",
       "    <tr>\n",
       "      <th>396027</th>\n",
       "      <td>5000.0</td>\n",
       "      <td>36 months</td>\n",
       "      <td>9.99</td>\n",
       "      <td>161.32</td>\n",
       "      <td>1</td>\n",
       "      <td>5</td>\n",
       "      <td>10+ years</td>\n",
       "      <td>RENT</td>\n",
       "      <td>56500.0</td>\n",
       "      <td>Verified</td>\n",
       "      <td>0</td>\n",
       "      <td>debt_consolidation</td>\n",
       "      <td>17.56</td>\n",
       "      <td>15.0</td>\n",
       "      <td>0.0</td>\n",
       "      <td>32704.0</td>\n",
       "      <td>66.9</td>\n",
       "      <td>23.0</td>\n",
       "      <td>f</td>\n",
       "      <td>INDIVIDUAL</td>\n",
       "      <td>0.0</td>\n",
       "      <td>0.0</td>\n",
       "      <td>199.034888</td>\n",
       "    </tr>\n",
       "    <tr>\n",
       "      <th>396028</th>\n",
       "      <td>21000.0</td>\n",
       "      <td>60 months</td>\n",
       "      <td>15.31</td>\n",
       "      <td>503.02</td>\n",
       "      <td>2</td>\n",
       "      <td>11</td>\n",
       "      <td>10+ years</td>\n",
       "      <td>MORTGAGE</td>\n",
       "      <td>64000.0</td>\n",
       "      <td>Verified</td>\n",
       "      <td>0</td>\n",
       "      <td>debt_consolidation</td>\n",
       "      <td>15.88</td>\n",
       "      <td>9.0</td>\n",
       "      <td>0.0</td>\n",
       "      <td>15704.0</td>\n",
       "      <td>53.8</td>\n",
       "      <td>20.0</td>\n",
       "      <td>f</td>\n",
       "      <td>INDIVIDUAL</td>\n",
       "      <td>5.0</td>\n",
       "      <td>0.0</td>\n",
       "      <td>260.999199</td>\n",
       "    </tr>\n",
       "    <tr>\n",
       "      <th>396029</th>\n",
       "      <td>2000.0</td>\n",
       "      <td>36 months</td>\n",
       "      <td>13.61</td>\n",
       "      <td>67.98</td>\n",
       "      <td>2</td>\n",
       "      <td>11</td>\n",
       "      <td>10+ years</td>\n",
       "      <td>RENT</td>\n",
       "      <td>42996.0</td>\n",
       "      <td>Verified</td>\n",
       "      <td>0</td>\n",
       "      <td>debt_consolidation</td>\n",
       "      <td>8.32</td>\n",
       "      <td>3.0</td>\n",
       "      <td>0.0</td>\n",
       "      <td>4292.0</td>\n",
       "      <td>91.3</td>\n",
       "      <td>19.0</td>\n",
       "      <td>f</td>\n",
       "      <td>INDIVIDUAL</td>\n",
       "      <td>1.0</td>\n",
       "      <td>0.0</td>\n",
       "      <td>140.980308</td>\n",
       "    </tr>\n",
       "  </tbody>\n",
       "</table>\n",
       "<p>396030 rows × 23 columns</p>\n",
       "</div>"
      ],
      "text/plain": [
       "        loan_amnt        term  int_rate  installment  grade  sub_grade emp_length home_ownership  annual_inc verification_status  loan_status             purpose    dti  open_acc  pub_rec  revol_bal  revol_util  total_acc initial_list_status application_type  mort_acc  pub_rec_bankruptcies  Loan_Tenure\n",
       "0         10000.0   36 months     11.44       329.48      1          8  10+ years           RENT    117000.0        Not Verified            0            vacation  26.24      16.0      0.0    36369.0        41.8       25.0                   w       INDIVIDUAL       0.0                   0.0   295.036859\n",
       "1          8000.0   36 months     11.99       265.68      1          9    4 years       MORTGAGE     65000.0        Not Verified            0  debt_consolidation  22.05      17.0      0.0    20131.0        53.3       27.0                   f       INDIVIDUAL       3.0                   0.0   126.031335\n",
       "2         15600.0   36 months     10.49       506.97      1          7   < 1 year           RENT     43057.0     Source Verified            0         credit_card  12.79      13.0      0.0    11987.0        92.2       26.0                   f       INDIVIDUAL       0.0                   0.0    89.036736\n",
       "3          7200.0   36 months      6.49       220.65      0          1    6 years           RENT     54000.0        Not Verified            0         credit_card   2.60       6.0      0.0     5472.0        21.5       13.0                   f       INDIVIDUAL       0.0                   0.0    98.006119\n",
       "4         24375.0   60 months     17.27       609.33      2         14    9 years       MORTGAGE     55000.0            Verified            1         credit_card  33.95      13.0      0.0    24584.0        69.8       43.0                   f       INDIVIDUAL       1.0                   0.0   169.038379\n",
       "...           ...         ...       ...          ...    ...        ...        ...            ...         ...                 ...          ...                 ...    ...       ...      ...        ...         ...        ...                 ...              ...       ...                   ...          ...\n",
       "396025    10000.0   60 months     10.99       217.38      1          8    2 years           RENT     40000.0     Source Verified            0  debt_consolidation  15.63       6.0      0.0     1990.0        34.3       23.0                   w       INDIVIDUAL       0.0                   0.0   130.959568\n",
       "396026    21000.0   36 months     12.29       700.42      2         10    5 years       MORTGAGE    110000.0     Source Verified            0  debt_consolidation  21.45       6.0      0.0    43263.0        95.7        8.0                   f       INDIVIDUAL       1.0                   0.0   107.994004\n",
       "396027     5000.0   36 months      9.99       161.32      1          5  10+ years           RENT     56500.0            Verified            0  debt_consolidation  17.56      15.0      0.0    32704.0        66.9       23.0                   f       INDIVIDUAL       0.0                   0.0   199.034888\n",
       "396028    21000.0   60 months     15.31       503.02      2         11  10+ years       MORTGAGE     64000.0            Verified            0  debt_consolidation  15.88       9.0      0.0    15704.0        53.8       20.0                   f       INDIVIDUAL       5.0                   0.0   260.999199\n",
       "396029     2000.0   36 months     13.61        67.98      2         11  10+ years           RENT     42996.0            Verified            0  debt_consolidation   8.32       3.0      0.0     4292.0        91.3       19.0                   f       INDIVIDUAL       1.0                   0.0   140.980308\n",
       "\n",
       "[396030 rows x 23 columns]"
      ]
     },
     "execution_count": 150,
     "metadata": {},
     "output_type": "execute_result"
    }
   ],
   "source": [
    "df"
   ]
  },
  {
   "cell_type": "code",
   "execution_count": 151,
   "id": "f2e3fed6",
   "metadata": {},
   "outputs": [],
   "source": [
    "from category_encoders import TargetEncoder\n",
    "TEncoder = TargetEncoder()\n"
   ]
  },
  {
   "cell_type": "code",
   "execution_count": null,
   "id": "7b8616c1",
   "metadata": {},
   "outputs": [],
   "source": [
    "\n"
   ]
  },
  {
   "cell_type": "code",
   "execution_count": 152,
   "id": "16da500a",
   "metadata": {},
   "outputs": [],
   "source": [
    "# df[\"loan_status\"]"
   ]
  },
  {
   "cell_type": "code",
   "execution_count": 153,
   "id": "0df8e3c6",
   "metadata": {},
   "outputs": [
    {
     "data": {
      "text/plain": [
       "['term',\n",
       " 'emp_length',\n",
       " 'home_ownership',\n",
       " 'verification_status',\n",
       " 'purpose',\n",
       " 'initial_list_status',\n",
       " 'application_type']"
      ]
     },
     "execution_count": 153,
     "metadata": {},
     "output_type": "execute_result"
    }
   ],
   "source": [
    "categorical_target_en"
   ]
  },
  {
   "cell_type": "code",
   "execution_count": 154,
   "id": "9bf83e59",
   "metadata": {},
   "outputs": [],
   "source": [
    "# TEncoder.fit_transform(df[\"term\"],df[\"loan_status\"])\n"
   ]
  },
  {
   "cell_type": "code",
   "execution_count": 155,
   "id": "edb20cf7",
   "metadata": {},
   "outputs": [],
   "source": [
    "for col in categorical_target_en:\n",
    "    from category_encoders import TargetEncoder\n",
    "    TEncoder = TargetEncoder()\n",
    "    \n",
    "    df[col] = TEncoder.fit_transform(df[col],df[\"loan_status\"])\n"
   ]
  },
  {
   "cell_type": "code",
   "execution_count": 156,
   "id": "797a94c7",
   "metadata": {},
   "outputs": [
    {
     "data": {
      "text/html": [
       "<div>\n",
       "<style scoped>\n",
       "    .dataframe tbody tr th:only-of-type {\n",
       "        vertical-align: middle;\n",
       "    }\n",
       "\n",
       "    .dataframe tbody tr th {\n",
       "        vertical-align: top;\n",
       "    }\n",
       "\n",
       "    .dataframe thead th {\n",
       "        text-align: right;\n",
       "    }\n",
       "</style>\n",
       "<table border=\"1\" class=\"dataframe\">\n",
       "  <thead>\n",
       "    <tr style=\"text-align: right;\">\n",
       "      <th></th>\n",
       "      <th>loan_amnt</th>\n",
       "      <th>term</th>\n",
       "      <th>int_rate</th>\n",
       "      <th>installment</th>\n",
       "      <th>grade</th>\n",
       "      <th>sub_grade</th>\n",
       "      <th>emp_length</th>\n",
       "      <th>home_ownership</th>\n",
       "      <th>annual_inc</th>\n",
       "      <th>verification_status</th>\n",
       "      <th>loan_status</th>\n",
       "      <th>purpose</th>\n",
       "      <th>dti</th>\n",
       "      <th>open_acc</th>\n",
       "      <th>pub_rec</th>\n",
       "      <th>revol_bal</th>\n",
       "      <th>revol_util</th>\n",
       "      <th>total_acc</th>\n",
       "      <th>initial_list_status</th>\n",
       "      <th>application_type</th>\n",
       "      <th>mort_acc</th>\n",
       "      <th>pub_rec_bankruptcies</th>\n",
       "      <th>Loan_Tenure</th>\n",
       "    </tr>\n",
       "  </thead>\n",
       "  <tbody>\n",
       "    <tr>\n",
       "      <th>0</th>\n",
       "      <td>10000.0</td>\n",
       "      <td>0.157746</td>\n",
       "      <td>11.44</td>\n",
       "      <td>329.48</td>\n",
       "      <td>1</td>\n",
       "      <td>8</td>\n",
       "      <td>0.195737</td>\n",
       "      <td>0.226622</td>\n",
       "      <td>117000.0</td>\n",
       "      <td>0.146360</td>\n",
       "      <td>0</td>\n",
       "      <td>0.189233</td>\n",
       "      <td>26.24</td>\n",
       "      <td>16.0</td>\n",
       "      <td>0.0</td>\n",
       "      <td>36369.0</td>\n",
       "      <td>41.8</td>\n",
       "      <td>25.0</td>\n",
       "      <td>0.200755</td>\n",
       "      <td>0.196087</td>\n",
       "      <td>0.0</td>\n",
       "      <td>0.0</td>\n",
       "      <td>295.036859</td>\n",
       "    </tr>\n",
       "    <tr>\n",
       "      <th>1</th>\n",
       "      <td>8000.0</td>\n",
       "      <td>0.157746</td>\n",
       "      <td>11.99</td>\n",
       "      <td>265.68</td>\n",
       "      <td>1</td>\n",
       "      <td>9</td>\n",
       "      <td>0.192385</td>\n",
       "      <td>0.169561</td>\n",
       "      <td>65000.0</td>\n",
       "      <td>0.146360</td>\n",
       "      <td>0</td>\n",
       "      <td>0.207414</td>\n",
       "      <td>22.05</td>\n",
       "      <td>17.0</td>\n",
       "      <td>0.0</td>\n",
       "      <td>20131.0</td>\n",
       "      <td>53.3</td>\n",
       "      <td>27.0</td>\n",
       "      <td>0.193060</td>\n",
       "      <td>0.196087</td>\n",
       "      <td>3.0</td>\n",
       "      <td>0.0</td>\n",
       "      <td>126.031335</td>\n",
       "    </tr>\n",
       "    <tr>\n",
       "      <th>2</th>\n",
       "      <td>15600.0</td>\n",
       "      <td>0.157746</td>\n",
       "      <td>10.49</td>\n",
       "      <td>506.97</td>\n",
       "      <td>1</td>\n",
       "      <td>7</td>\n",
       "      <td>0.206872</td>\n",
       "      <td>0.226622</td>\n",
       "      <td>43057.0</td>\n",
       "      <td>0.214743</td>\n",
       "      <td>0</td>\n",
       "      <td>0.167118</td>\n",
       "      <td>12.79</td>\n",
       "      <td>13.0</td>\n",
       "      <td>0.0</td>\n",
       "      <td>11987.0</td>\n",
       "      <td>92.2</td>\n",
       "      <td>26.0</td>\n",
       "      <td>0.193060</td>\n",
       "      <td>0.196087</td>\n",
       "      <td>0.0</td>\n",
       "      <td>0.0</td>\n",
       "      <td>89.036736</td>\n",
       "    </tr>\n",
       "    <tr>\n",
       "      <th>3</th>\n",
       "      <td>7200.0</td>\n",
       "      <td>0.157746</td>\n",
       "      <td>6.49</td>\n",
       "      <td>220.65</td>\n",
       "      <td>0</td>\n",
       "      <td>1</td>\n",
       "      <td>0.189194</td>\n",
       "      <td>0.226622</td>\n",
       "      <td>54000.0</td>\n",
       "      <td>0.146360</td>\n",
       "      <td>0</td>\n",
       "      <td>0.167118</td>\n",
       "      <td>2.60</td>\n",
       "      <td>6.0</td>\n",
       "      <td>0.0</td>\n",
       "      <td>5472.0</td>\n",
       "      <td>21.5</td>\n",
       "      <td>13.0</td>\n",
       "      <td>0.193060</td>\n",
       "      <td>0.196087</td>\n",
       "      <td>0.0</td>\n",
       "      <td>0.0</td>\n",
       "      <td>98.006119</td>\n",
       "    </tr>\n",
       "    <tr>\n",
       "      <th>4</th>\n",
       "      <td>24375.0</td>\n",
       "      <td>0.319415</td>\n",
       "      <td>17.27</td>\n",
       "      <td>609.33</td>\n",
       "      <td>2</td>\n",
       "      <td>14</td>\n",
       "      <td>0.200470</td>\n",
       "      <td>0.169561</td>\n",
       "      <td>55000.0</td>\n",
       "      <td>0.223211</td>\n",
       "      <td>1</td>\n",
       "      <td>0.167118</td>\n",
       "      <td>33.95</td>\n",
       "      <td>13.0</td>\n",
       "      <td>0.0</td>\n",
       "      <td>24584.0</td>\n",
       "      <td>69.8</td>\n",
       "      <td>43.0</td>\n",
       "      <td>0.193060</td>\n",
       "      <td>0.196087</td>\n",
       "      <td>1.0</td>\n",
       "      <td>0.0</td>\n",
       "      <td>169.038379</td>\n",
       "    </tr>\n",
       "    <tr>\n",
       "      <th>...</th>\n",
       "      <td>...</td>\n",
       "      <td>...</td>\n",
       "      <td>...</td>\n",
       "      <td>...</td>\n",
       "      <td>...</td>\n",
       "      <td>...</td>\n",
       "      <td>...</td>\n",
       "      <td>...</td>\n",
       "      <td>...</td>\n",
       "      <td>...</td>\n",
       "      <td>...</td>\n",
       "      <td>...</td>\n",
       "      <td>...</td>\n",
       "      <td>...</td>\n",
       "      <td>...</td>\n",
       "      <td>...</td>\n",
       "      <td>...</td>\n",
       "      <td>...</td>\n",
       "      <td>...</td>\n",
       "      <td>...</td>\n",
       "      <td>...</td>\n",
       "      <td>...</td>\n",
       "      <td>...</td>\n",
       "    </tr>\n",
       "    <tr>\n",
       "      <th>396025</th>\n",
       "      <td>10000.0</td>\n",
       "      <td>0.319415</td>\n",
       "      <td>10.99</td>\n",
       "      <td>217.38</td>\n",
       "      <td>1</td>\n",
       "      <td>8</td>\n",
       "      <td>0.193262</td>\n",
       "      <td>0.226622</td>\n",
       "      <td>40000.0</td>\n",
       "      <td>0.214743</td>\n",
       "      <td>0</td>\n",
       "      <td>0.207414</td>\n",
       "      <td>15.63</td>\n",
       "      <td>6.0</td>\n",
       "      <td>0.0</td>\n",
       "      <td>1990.0</td>\n",
       "      <td>34.3</td>\n",
       "      <td>23.0</td>\n",
       "      <td>0.200755</td>\n",
       "      <td>0.196087</td>\n",
       "      <td>0.0</td>\n",
       "      <td>0.0</td>\n",
       "      <td>130.959568</td>\n",
       "    </tr>\n",
       "    <tr>\n",
       "      <th>396026</th>\n",
       "      <td>21000.0</td>\n",
       "      <td>0.157746</td>\n",
       "      <td>12.29</td>\n",
       "      <td>700.42</td>\n",
       "      <td>2</td>\n",
       "      <td>10</td>\n",
       "      <td>0.192187</td>\n",
       "      <td>0.169561</td>\n",
       "      <td>110000.0</td>\n",
       "      <td>0.214743</td>\n",
       "      <td>0</td>\n",
       "      <td>0.207414</td>\n",
       "      <td>21.45</td>\n",
       "      <td>6.0</td>\n",
       "      <td>0.0</td>\n",
       "      <td>43263.0</td>\n",
       "      <td>95.7</td>\n",
       "      <td>8.0</td>\n",
       "      <td>0.193060</td>\n",
       "      <td>0.196087</td>\n",
       "      <td>1.0</td>\n",
       "      <td>0.0</td>\n",
       "      <td>107.994004</td>\n",
       "    </tr>\n",
       "    <tr>\n",
       "      <th>396027</th>\n",
       "      <td>5000.0</td>\n",
       "      <td>0.157746</td>\n",
       "      <td>9.99</td>\n",
       "      <td>161.32</td>\n",
       "      <td>1</td>\n",
       "      <td>5</td>\n",
       "      <td>0.195737</td>\n",
       "      <td>0.226622</td>\n",
       "      <td>56500.0</td>\n",
       "      <td>0.223211</td>\n",
       "      <td>0</td>\n",
       "      <td>0.207414</td>\n",
       "      <td>17.56</td>\n",
       "      <td>15.0</td>\n",
       "      <td>0.0</td>\n",
       "      <td>32704.0</td>\n",
       "      <td>66.9</td>\n",
       "      <td>23.0</td>\n",
       "      <td>0.193060</td>\n",
       "      <td>0.196087</td>\n",
       "      <td>0.0</td>\n",
       "      <td>0.0</td>\n",
       "      <td>199.034888</td>\n",
       "    </tr>\n",
       "    <tr>\n",
       "      <th>396028</th>\n",
       "      <td>21000.0</td>\n",
       "      <td>0.319415</td>\n",
       "      <td>15.31</td>\n",
       "      <td>503.02</td>\n",
       "      <td>2</td>\n",
       "      <td>11</td>\n",
       "      <td>0.195737</td>\n",
       "      <td>0.169561</td>\n",
       "      <td>64000.0</td>\n",
       "      <td>0.223211</td>\n",
       "      <td>0</td>\n",
       "      <td>0.207414</td>\n",
       "      <td>15.88</td>\n",
       "      <td>9.0</td>\n",
       "      <td>0.0</td>\n",
       "      <td>15704.0</td>\n",
       "      <td>53.8</td>\n",
       "      <td>20.0</td>\n",
       "      <td>0.193060</td>\n",
       "      <td>0.196087</td>\n",
       "      <td>5.0</td>\n",
       "      <td>0.0</td>\n",
       "      <td>260.999199</td>\n",
       "    </tr>\n",
       "    <tr>\n",
       "      <th>396029</th>\n",
       "      <td>2000.0</td>\n",
       "      <td>0.157746</td>\n",
       "      <td>13.61</td>\n",
       "      <td>67.98</td>\n",
       "      <td>2</td>\n",
       "      <td>11</td>\n",
       "      <td>0.195737</td>\n",
       "      <td>0.226622</td>\n",
       "      <td>42996.0</td>\n",
       "      <td>0.223211</td>\n",
       "      <td>0</td>\n",
       "      <td>0.207414</td>\n",
       "      <td>8.32</td>\n",
       "      <td>3.0</td>\n",
       "      <td>0.0</td>\n",
       "      <td>4292.0</td>\n",
       "      <td>91.3</td>\n",
       "      <td>19.0</td>\n",
       "      <td>0.193060</td>\n",
       "      <td>0.196087</td>\n",
       "      <td>1.0</td>\n",
       "      <td>0.0</td>\n",
       "      <td>140.980308</td>\n",
       "    </tr>\n",
       "  </tbody>\n",
       "</table>\n",
       "<p>396030 rows × 23 columns</p>\n",
       "</div>"
      ],
      "text/plain": [
       "        loan_amnt      term  int_rate  installment  grade  sub_grade  emp_length  home_ownership  annual_inc  verification_status  loan_status   purpose    dti  open_acc  pub_rec  revol_bal  revol_util  total_acc  initial_list_status  application_type  mort_acc  pub_rec_bankruptcies  Loan_Tenure\n",
       "0         10000.0  0.157746     11.44       329.48      1          8    0.195737        0.226622    117000.0             0.146360            0  0.189233  26.24      16.0      0.0    36369.0        41.8       25.0             0.200755          0.196087       0.0                   0.0   295.036859\n",
       "1          8000.0  0.157746     11.99       265.68      1          9    0.192385        0.169561     65000.0             0.146360            0  0.207414  22.05      17.0      0.0    20131.0        53.3       27.0             0.193060          0.196087       3.0                   0.0   126.031335\n",
       "2         15600.0  0.157746     10.49       506.97      1          7    0.206872        0.226622     43057.0             0.214743            0  0.167118  12.79      13.0      0.0    11987.0        92.2       26.0             0.193060          0.196087       0.0                   0.0    89.036736\n",
       "3          7200.0  0.157746      6.49       220.65      0          1    0.189194        0.226622     54000.0             0.146360            0  0.167118   2.60       6.0      0.0     5472.0        21.5       13.0             0.193060          0.196087       0.0                   0.0    98.006119\n",
       "4         24375.0  0.319415     17.27       609.33      2         14    0.200470        0.169561     55000.0             0.223211            1  0.167118  33.95      13.0      0.0    24584.0        69.8       43.0             0.193060          0.196087       1.0                   0.0   169.038379\n",
       "...           ...       ...       ...          ...    ...        ...         ...             ...         ...                  ...          ...       ...    ...       ...      ...        ...         ...        ...                  ...               ...       ...                   ...          ...\n",
       "396025    10000.0  0.319415     10.99       217.38      1          8    0.193262        0.226622     40000.0             0.214743            0  0.207414  15.63       6.0      0.0     1990.0        34.3       23.0             0.200755          0.196087       0.0                   0.0   130.959568\n",
       "396026    21000.0  0.157746     12.29       700.42      2         10    0.192187        0.169561    110000.0             0.214743            0  0.207414  21.45       6.0      0.0    43263.0        95.7        8.0             0.193060          0.196087       1.0                   0.0   107.994004\n",
       "396027     5000.0  0.157746      9.99       161.32      1          5    0.195737        0.226622     56500.0             0.223211            0  0.207414  17.56      15.0      0.0    32704.0        66.9       23.0             0.193060          0.196087       0.0                   0.0   199.034888\n",
       "396028    21000.0  0.319415     15.31       503.02      2         11    0.195737        0.169561     64000.0             0.223211            0  0.207414  15.88       9.0      0.0    15704.0        53.8       20.0             0.193060          0.196087       5.0                   0.0   260.999199\n",
       "396029     2000.0  0.157746     13.61        67.98      2         11    0.195737        0.226622     42996.0             0.223211            0  0.207414   8.32       3.0      0.0     4292.0        91.3       19.0             0.193060          0.196087       1.0                   0.0   140.980308\n",
       "\n",
       "[396030 rows x 23 columns]"
      ]
     },
     "execution_count": 156,
     "metadata": {},
     "output_type": "execute_result"
    }
   ],
   "source": [
    "df"
   ]
  },
  {
   "cell_type": "code",
   "execution_count": 157,
   "id": "8a77c07c",
   "metadata": {},
   "outputs": [],
   "source": [
    "for_scaling = ['loan_amnt', 'term', 'int_rate', 'installment', 'grade', 'sub_grade',  'emp_length', 'home_ownership', 'annual_inc', 'verification_status', 'purpose', 'dti', 'open_acc', 'pub_rec', 'revol_bal', 'revol_util', 'total_acc', 'initial_list_status', 'application_type', 'mort_acc', 'pub_rec_bankruptcies', 'Loan_Tenure']"
   ]
  },
  {
   "cell_type": "code",
   "execution_count": null,
   "id": "a65c1299",
   "metadata": {},
   "outputs": [],
   "source": []
  },
  {
   "cell_type": "code",
   "execution_count": null,
   "id": "247463df",
   "metadata": {},
   "outputs": [],
   "source": []
  },
  {
   "cell_type": "code",
   "execution_count": 158,
   "id": "ac392d9c",
   "metadata": {},
   "outputs": [],
   "source": [
    "from sklearn.preprocessing import StandardScaler\n",
    "StandardScaler = StandardScaler()\n",
    "\n"
   ]
  },
  {
   "cell_type": "code",
   "execution_count": null,
   "id": "15239813",
   "metadata": {},
   "outputs": [],
   "source": []
  },
  {
   "cell_type": "code",
   "execution_count": 159,
   "id": "3ac4a5f7",
   "metadata": {},
   "outputs": [],
   "source": [
    "for col in for_scaling:\n",
    "    from sklearn.preprocessing import StandardScaler\n",
    "    StandardScaler = StandardScaler()\n",
    "    \n",
    "    df[col] = pd.Series(StandardScaler.fit_transform(df[col].values.reshape(-1,1)).ravel())\n"
   ]
  },
  {
   "cell_type": "code",
   "execution_count": null,
   "id": "2e002ee1",
   "metadata": {},
   "outputs": [],
   "source": []
  },
  {
   "cell_type": "code",
   "execution_count": null,
   "id": "e8e30f94",
   "metadata": {},
   "outputs": [],
   "source": []
  },
  {
   "cell_type": "code",
   "execution_count": null,
   "id": "6fc2a785",
   "metadata": {},
   "outputs": [],
   "source": []
  },
  {
   "cell_type": "code",
   "execution_count": 160,
   "id": "eba77a3a",
   "metadata": {},
   "outputs": [
    {
     "data": {
      "text/html": [
       "<div>\n",
       "<style scoped>\n",
       "    .dataframe tbody tr th:only-of-type {\n",
       "        vertical-align: middle;\n",
       "    }\n",
       "\n",
       "    .dataframe tbody tr th {\n",
       "        vertical-align: top;\n",
       "    }\n",
       "\n",
       "    .dataframe thead th {\n",
       "        text-align: right;\n",
       "    }\n",
       "</style>\n",
       "<table border=\"1\" class=\"dataframe\">\n",
       "  <thead>\n",
       "    <tr style=\"text-align: right;\">\n",
       "      <th></th>\n",
       "      <th>loan_amnt</th>\n",
       "      <th>term</th>\n",
       "      <th>int_rate</th>\n",
       "      <th>installment</th>\n",
       "      <th>grade</th>\n",
       "      <th>sub_grade</th>\n",
       "      <th>emp_length</th>\n",
       "      <th>home_ownership</th>\n",
       "      <th>annual_inc</th>\n",
       "      <th>verification_status</th>\n",
       "      <th>loan_status</th>\n",
       "      <th>purpose</th>\n",
       "      <th>dti</th>\n",
       "      <th>open_acc</th>\n",
       "      <th>pub_rec</th>\n",
       "      <th>revol_bal</th>\n",
       "      <th>revol_util</th>\n",
       "      <th>total_acc</th>\n",
       "      <th>initial_list_status</th>\n",
       "      <th>application_type</th>\n",
       "      <th>mort_acc</th>\n",
       "      <th>pub_rec_bankruptcies</th>\n",
       "      <th>Loan_Tenure</th>\n",
       "    </tr>\n",
       "  </thead>\n",
       "  <tbody>\n",
       "    <tr>\n",
       "      <th>0</th>\n",
       "      <td>-0.492243</td>\n",
       "      <td>-0.557975</td>\n",
       "      <td>-0.491799</td>\n",
       "      <td>-0.408291</td>\n",
       "      <td>-0.616534</td>\n",
       "      <td>-0.467127</td>\n",
       "      <td>-0.096408</td>\n",
       "      <td>1.120447</td>\n",
       "      <td>0.694330</td>\n",
       "      <td>-1.463966</td>\n",
       "      <td>0</td>\n",
       "      <td>-0.292399</td>\n",
       "      <td>0.491728</td>\n",
       "      <td>0.912646</td>\n",
       "      <td>-0.335785</td>\n",
       "      <td>0.996729</td>\n",
       "      <td>-0.490616</td>\n",
       "      <td>-0.034891</td>\n",
       "      <td>1.227636</td>\n",
       "      <td>-0.008596</td>\n",
       "      <td>-0.844172</td>\n",
       "      <td>-0.341282</td>\n",
       "      <td>1.226427</td>\n",
       "    </tr>\n",
       "    <tr>\n",
       "      <th>1</th>\n",
       "      <td>-0.731551</td>\n",
       "      <td>-0.557975</td>\n",
       "      <td>-0.368816</td>\n",
       "      <td>-0.662750</td>\n",
       "      <td>-0.616534</td>\n",
       "      <td>-0.315634</td>\n",
       "      <td>-0.919544</td>\n",
       "      <td>-0.976244</td>\n",
       "      <td>-0.149311</td>\n",
       "      <td>-1.463966</td>\n",
       "      <td>0</td>\n",
       "      <td>0.478502</td>\n",
       "      <td>0.259197</td>\n",
       "      <td>1.107287</td>\n",
       "      <td>-0.335785</td>\n",
       "      <td>0.208163</td>\n",
       "      <td>-0.020146</td>\n",
       "      <td>0.133361</td>\n",
       "      <td>-0.814574</td>\n",
       "      <td>-0.008596</td>\n",
       "      <td>0.614392</td>\n",
       "      <td>-0.341282</td>\n",
       "      <td>-0.729327</td>\n",
       "    </tr>\n",
       "    <tr>\n",
       "      <th>2</th>\n",
       "      <td>0.177819</td>\n",
       "      <td>-0.557975</td>\n",
       "      <td>-0.704225</td>\n",
       "      <td>0.299609</td>\n",
       "      <td>-0.616534</td>\n",
       "      <td>-0.618620</td>\n",
       "      <td>2.638182</td>\n",
       "      <td>1.120447</td>\n",
       "      <td>-0.505312</td>\n",
       "      <td>0.547529</td>\n",
       "      <td>0</td>\n",
       "      <td>-1.230126</td>\n",
       "      <td>-0.254703</td>\n",
       "      <td>0.328720</td>\n",
       "      <td>-0.335785</td>\n",
       "      <td>-0.187334</td>\n",
       "      <td>1.571269</td>\n",
       "      <td>0.049235</td>\n",
       "      <td>-0.814574</td>\n",
       "      <td>-0.008596</td>\n",
       "      <td>-0.844172</td>\n",
       "      <td>-0.341282</td>\n",
       "      <td>-1.157433</td>\n",
       "    </tr>\n",
       "    <tr>\n",
       "      <th>3</th>\n",
       "      <td>-0.827274</td>\n",
       "      <td>-0.557975</td>\n",
       "      <td>-1.598649</td>\n",
       "      <td>-0.842348</td>\n",
       "      <td>-1.366267</td>\n",
       "      <td>-1.527580</td>\n",
       "      <td>-1.703055</td>\n",
       "      <td>1.120447</td>\n",
       "      <td>-0.327774</td>\n",
       "      <td>-1.463966</td>\n",
       "      <td>0</td>\n",
       "      <td>-1.230126</td>\n",
       "      <td>-0.820215</td>\n",
       "      <td>-1.033772</td>\n",
       "      <td>-0.335785</td>\n",
       "      <td>-0.503722</td>\n",
       "      <td>-1.321098</td>\n",
       "      <td>-1.044399</td>\n",
       "      <td>-0.814574</td>\n",
       "      <td>-0.008596</td>\n",
       "      <td>-0.844172</td>\n",
       "      <td>-0.341282</td>\n",
       "      <td>-1.053638</td>\n",
       "    </tr>\n",
       "    <tr>\n",
       "      <th>4</th>\n",
       "      <td>1.227783</td>\n",
       "      <td>1.792196</td>\n",
       "      <td>0.811824</td>\n",
       "      <td>0.707861</td>\n",
       "      <td>0.133200</td>\n",
       "      <td>0.441833</td>\n",
       "      <td>1.066100</td>\n",
       "      <td>-0.976244</td>\n",
       "      <td>-0.311550</td>\n",
       "      <td>0.796620</td>\n",
       "      <td>1</td>\n",
       "      <td>-1.230126</td>\n",
       "      <td>0.919608</td>\n",
       "      <td>0.328720</td>\n",
       "      <td>-0.335785</td>\n",
       "      <td>0.424414</td>\n",
       "      <td>0.654875</td>\n",
       "      <td>1.479372</td>\n",
       "      <td>-0.814574</td>\n",
       "      <td>-0.008596</td>\n",
       "      <td>-0.357984</td>\n",
       "      <td>-0.341282</td>\n",
       "      <td>-0.231644</td>\n",
       "    </tr>\n",
       "    <tr>\n",
       "      <th>...</th>\n",
       "      <td>...</td>\n",
       "      <td>...</td>\n",
       "      <td>...</td>\n",
       "      <td>...</td>\n",
       "      <td>...</td>\n",
       "      <td>...</td>\n",
       "      <td>...</td>\n",
       "      <td>...</td>\n",
       "      <td>...</td>\n",
       "      <td>...</td>\n",
       "      <td>...</td>\n",
       "      <td>...</td>\n",
       "      <td>...</td>\n",
       "      <td>...</td>\n",
       "      <td>...</td>\n",
       "      <td>...</td>\n",
       "      <td>...</td>\n",
       "      <td>...</td>\n",
       "      <td>...</td>\n",
       "      <td>...</td>\n",
       "      <td>...</td>\n",
       "      <td>...</td>\n",
       "      <td>...</td>\n",
       "    </tr>\n",
       "    <tr>\n",
       "      <th>396025</th>\n",
       "      <td>-0.492243</td>\n",
       "      <td>1.792196</td>\n",
       "      <td>-0.592422</td>\n",
       "      <td>-0.855390</td>\n",
       "      <td>-0.616534</td>\n",
       "      <td>-0.467127</td>\n",
       "      <td>-0.704094</td>\n",
       "      <td>1.120447</td>\n",
       "      <td>-0.554908</td>\n",
       "      <td>0.547529</td>\n",
       "      <td>0</td>\n",
       "      <td>0.478502</td>\n",
       "      <td>-0.097092</td>\n",
       "      <td>-1.033772</td>\n",
       "      <td>-0.335785</td>\n",
       "      <td>-0.672818</td>\n",
       "      <td>-0.797444</td>\n",
       "      <td>-0.203142</td>\n",
       "      <td>1.227636</td>\n",
       "      <td>-0.008596</td>\n",
       "      <td>-0.844172</td>\n",
       "      <td>-0.341282</td>\n",
       "      <td>-0.672297</td>\n",
       "    </tr>\n",
       "    <tr>\n",
       "      <th>396026</th>\n",
       "      <td>0.823951</td>\n",
       "      <td>-0.557975</td>\n",
       "      <td>-0.301734</td>\n",
       "      <td>1.071164</td>\n",
       "      <td>0.133200</td>\n",
       "      <td>-0.164140</td>\n",
       "      <td>-0.968063</td>\n",
       "      <td>-0.976244</td>\n",
       "      <td>0.580763</td>\n",
       "      <td>0.547529</td>\n",
       "      <td>0</td>\n",
       "      <td>0.478502</td>\n",
       "      <td>0.225899</td>\n",
       "      <td>-1.033772</td>\n",
       "      <td>-0.335785</td>\n",
       "      <td>1.331523</td>\n",
       "      <td>1.714455</td>\n",
       "      <td>-1.465027</td>\n",
       "      <td>-0.814574</td>\n",
       "      <td>-0.008596</td>\n",
       "      <td>-0.357984</td>\n",
       "      <td>-0.341282</td>\n",
       "      <td>-0.938057</td>\n",
       "    </tr>\n",
       "    <tr>\n",
       "      <th>396027</th>\n",
       "      <td>-1.090513</td>\n",
       "      <td>-0.557975</td>\n",
       "      <td>-0.816028</td>\n",
       "      <td>-1.078979</td>\n",
       "      <td>-0.616534</td>\n",
       "      <td>-0.921607</td>\n",
       "      <td>-0.096408</td>\n",
       "      <td>1.120447</td>\n",
       "      <td>-0.287214</td>\n",
       "      <td>0.796620</td>\n",
       "      <td>0</td>\n",
       "      <td>0.478502</td>\n",
       "      <td>0.010016</td>\n",
       "      <td>0.718004</td>\n",
       "      <td>-0.335785</td>\n",
       "      <td>0.818746</td>\n",
       "      <td>0.536235</td>\n",
       "      <td>-0.203142</td>\n",
       "      <td>-0.814574</td>\n",
       "      <td>-0.008596</td>\n",
       "      <td>-0.844172</td>\n",
       "      <td>-0.341282</td>\n",
       "      <td>0.115480</td>\n",
       "    </tr>\n",
       "    <tr>\n",
       "      <th>396028</th>\n",
       "      <td>0.823951</td>\n",
       "      <td>1.792196</td>\n",
       "      <td>0.373556</td>\n",
       "      <td>0.283855</td>\n",
       "      <td>0.133200</td>\n",
       "      <td>-0.012647</td>\n",
       "      <td>-0.096408</td>\n",
       "      <td>-0.976244</td>\n",
       "      <td>-0.165535</td>\n",
       "      <td>0.796620</td>\n",
       "      <td>0</td>\n",
       "      <td>0.478502</td>\n",
       "      <td>-0.083218</td>\n",
       "      <td>-0.449847</td>\n",
       "      <td>-0.335785</td>\n",
       "      <td>-0.006825</td>\n",
       "      <td>0.000309</td>\n",
       "      <td>-0.455519</td>\n",
       "      <td>-0.814574</td>\n",
       "      <td>-0.008596</td>\n",
       "      <td>1.586769</td>\n",
       "      <td>-0.341282</td>\n",
       "      <td>0.832539</td>\n",
       "    </tr>\n",
       "    <tr>\n",
       "      <th>396029</th>\n",
       "      <td>-1.449475</td>\n",
       "      <td>-0.557975</td>\n",
       "      <td>-0.006574</td>\n",
       "      <td>-1.451256</td>\n",
       "      <td>0.133200</td>\n",
       "      <td>-0.012647</td>\n",
       "      <td>-0.096408</td>\n",
       "      <td>1.120447</td>\n",
       "      <td>-0.506301</td>\n",
       "      <td>0.796620</td>\n",
       "      <td>0</td>\n",
       "      <td>0.478502</td>\n",
       "      <td>-0.502774</td>\n",
       "      <td>-1.617698</td>\n",
       "      <td>-0.335785</td>\n",
       "      <td>-0.561026</td>\n",
       "      <td>1.534449</td>\n",
       "      <td>-0.539645</td>\n",
       "      <td>-0.814574</td>\n",
       "      <td>-0.008596</td>\n",
       "      <td>-0.357984</td>\n",
       "      <td>-0.341282</td>\n",
       "      <td>-0.556335</td>\n",
       "    </tr>\n",
       "  </tbody>\n",
       "</table>\n",
       "<p>396030 rows × 23 columns</p>\n",
       "</div>"
      ],
      "text/plain": [
       "        loan_amnt      term  int_rate  installment     grade  sub_grade  emp_length  home_ownership  annual_inc  verification_status  loan_status   purpose       dti  open_acc   pub_rec  revol_bal  revol_util  total_acc  initial_list_status  application_type  mort_acc  pub_rec_bankruptcies  Loan_Tenure\n",
       "0       -0.492243 -0.557975 -0.491799    -0.408291 -0.616534  -0.467127   -0.096408        1.120447    0.694330            -1.463966            0 -0.292399  0.491728  0.912646 -0.335785   0.996729   -0.490616  -0.034891             1.227636         -0.008596 -0.844172             -0.341282     1.226427\n",
       "1       -0.731551 -0.557975 -0.368816    -0.662750 -0.616534  -0.315634   -0.919544       -0.976244   -0.149311            -1.463966            0  0.478502  0.259197  1.107287 -0.335785   0.208163   -0.020146   0.133361            -0.814574         -0.008596  0.614392             -0.341282    -0.729327\n",
       "2        0.177819 -0.557975 -0.704225     0.299609 -0.616534  -0.618620    2.638182        1.120447   -0.505312             0.547529            0 -1.230126 -0.254703  0.328720 -0.335785  -0.187334    1.571269   0.049235            -0.814574         -0.008596 -0.844172             -0.341282    -1.157433\n",
       "3       -0.827274 -0.557975 -1.598649    -0.842348 -1.366267  -1.527580   -1.703055        1.120447   -0.327774            -1.463966            0 -1.230126 -0.820215 -1.033772 -0.335785  -0.503722   -1.321098  -1.044399            -0.814574         -0.008596 -0.844172             -0.341282    -1.053638\n",
       "4        1.227783  1.792196  0.811824     0.707861  0.133200   0.441833    1.066100       -0.976244   -0.311550             0.796620            1 -1.230126  0.919608  0.328720 -0.335785   0.424414    0.654875   1.479372            -0.814574         -0.008596 -0.357984             -0.341282    -0.231644\n",
       "...           ...       ...       ...          ...       ...        ...         ...             ...         ...                  ...          ...       ...       ...       ...       ...        ...         ...        ...                  ...               ...       ...                   ...          ...\n",
       "396025  -0.492243  1.792196 -0.592422    -0.855390 -0.616534  -0.467127   -0.704094        1.120447   -0.554908             0.547529            0  0.478502 -0.097092 -1.033772 -0.335785  -0.672818   -0.797444  -0.203142             1.227636         -0.008596 -0.844172             -0.341282    -0.672297\n",
       "396026   0.823951 -0.557975 -0.301734     1.071164  0.133200  -0.164140   -0.968063       -0.976244    0.580763             0.547529            0  0.478502  0.225899 -1.033772 -0.335785   1.331523    1.714455  -1.465027            -0.814574         -0.008596 -0.357984             -0.341282    -0.938057\n",
       "396027  -1.090513 -0.557975 -0.816028    -1.078979 -0.616534  -0.921607   -0.096408        1.120447   -0.287214             0.796620            0  0.478502  0.010016  0.718004 -0.335785   0.818746    0.536235  -0.203142            -0.814574         -0.008596 -0.844172             -0.341282     0.115480\n",
       "396028   0.823951  1.792196  0.373556     0.283855  0.133200  -0.012647   -0.096408       -0.976244   -0.165535             0.796620            0  0.478502 -0.083218 -0.449847 -0.335785  -0.006825    0.000309  -0.455519            -0.814574         -0.008596  1.586769             -0.341282     0.832539\n",
       "396029  -1.449475 -0.557975 -0.006574    -1.451256  0.133200  -0.012647   -0.096408        1.120447   -0.506301             0.796620            0  0.478502 -0.502774 -1.617698 -0.335785  -0.561026    1.534449  -0.539645            -0.814574         -0.008596 -0.357984             -0.341282    -0.556335\n",
       "\n",
       "[396030 rows x 23 columns]"
      ]
     },
     "execution_count": 160,
     "metadata": {},
     "output_type": "execute_result"
    }
   ],
   "source": [
    "df"
   ]
  },
  {
   "cell_type": "code",
   "execution_count": null,
   "id": "97b4e2c5",
   "metadata": {},
   "outputs": [],
   "source": []
  },
  {
   "cell_type": "code",
   "execution_count": null,
   "id": "32b9c8a2",
   "metadata": {},
   "outputs": [],
   "source": []
  },
  {
   "cell_type": "code",
   "execution_count": null,
   "id": "ed21a766",
   "metadata": {},
   "outputs": [],
   "source": []
  },
  {
   "cell_type": "code",
   "execution_count": null,
   "id": "27e06c40",
   "metadata": {},
   "outputs": [],
   "source": []
  },
  {
   "cell_type": "code",
   "execution_count": 161,
   "id": "30672e7a",
   "metadata": {},
   "outputs": [],
   "source": [
    "from sklearn.model_selection import train_test_split"
   ]
  },
  {
   "cell_type": "code",
   "execution_count": 162,
   "id": "062409bf",
   "metadata": {},
   "outputs": [],
   "source": [
    "X = df.drop([\"loan_status\"], axis = 1).values\n",
    "y = df[\"loan_status\"].values"
   ]
  },
  {
   "cell_type": "code",
   "execution_count": 163,
   "id": "c1683dc3",
   "metadata": {},
   "outputs": [],
   "source": [
    "X_train , X_test , y_train , y_test = train_test_split(X,y,\n",
    "                                                      random_state=2,\n",
    "                                                      test_size=0.2)"
   ]
  },
  {
   "cell_type": "code",
   "execution_count": 164,
   "id": "1a66d2f2",
   "metadata": {},
   "outputs": [],
   "source": [
    "from sklearn.linear_model import LogisticRegression"
   ]
  },
  {
   "cell_type": "code",
   "execution_count": 165,
   "id": "14c6d323",
   "metadata": {},
   "outputs": [],
   "source": [
    "LogisticRegression = LogisticRegression(penalty='l2',\n",
    "    \n",
    "    dual=False,\n",
    "    tol=0.0001,\n",
    "    C=10000,\n",
    "    fit_intercept=True,\n",
    "    intercept_scaling=1,\n",
    "    class_weight=None,\n",
    "    random_state=None,\n",
    "    solver='lbfgs',\n",
    "    max_iter=100,\n",
    "    multi_class='auto',\n",
    "    verbose=0,\n",
    "    warm_start=False,\n",
    "    n_jobs=None,\n",
    "    l1_ratio=None)"
   ]
  },
  {
   "cell_type": "code",
   "execution_count": 166,
   "id": "20af7576",
   "metadata": {
    "scrolled": true
   },
   "outputs": [
    {
     "data": {
      "text/html": [
       "<style>#sk-container-id-1 {color: black;background-color: white;}#sk-container-id-1 pre{padding: 0;}#sk-container-id-1 div.sk-toggleable {background-color: white;}#sk-container-id-1 label.sk-toggleable__label {cursor: pointer;display: block;width: 100%;margin-bottom: 0;padding: 0.3em;box-sizing: border-box;text-align: center;}#sk-container-id-1 label.sk-toggleable__label-arrow:before {content: \"▸\";float: left;margin-right: 0.25em;color: #696969;}#sk-container-id-1 label.sk-toggleable__label-arrow:hover:before {color: black;}#sk-container-id-1 div.sk-estimator:hover label.sk-toggleable__label-arrow:before {color: black;}#sk-container-id-1 div.sk-toggleable__content {max-height: 0;max-width: 0;overflow: hidden;text-align: left;background-color: #f0f8ff;}#sk-container-id-1 div.sk-toggleable__content pre {margin: 0.2em;color: black;border-radius: 0.25em;background-color: #f0f8ff;}#sk-container-id-1 input.sk-toggleable__control:checked~div.sk-toggleable__content {max-height: 200px;max-width: 100%;overflow: auto;}#sk-container-id-1 input.sk-toggleable__control:checked~label.sk-toggleable__label-arrow:before {content: \"▾\";}#sk-container-id-1 div.sk-estimator input.sk-toggleable__control:checked~label.sk-toggleable__label {background-color: #d4ebff;}#sk-container-id-1 div.sk-label input.sk-toggleable__control:checked~label.sk-toggleable__label {background-color: #d4ebff;}#sk-container-id-1 input.sk-hidden--visually {border: 0;clip: rect(1px 1px 1px 1px);clip: rect(1px, 1px, 1px, 1px);height: 1px;margin: -1px;overflow: hidden;padding: 0;position: absolute;width: 1px;}#sk-container-id-1 div.sk-estimator {font-family: monospace;background-color: #f0f8ff;border: 1px dotted black;border-radius: 0.25em;box-sizing: border-box;margin-bottom: 0.5em;}#sk-container-id-1 div.sk-estimator:hover {background-color: #d4ebff;}#sk-container-id-1 div.sk-parallel-item::after {content: \"\";width: 100%;border-bottom: 1px solid gray;flex-grow: 1;}#sk-container-id-1 div.sk-label:hover label.sk-toggleable__label {background-color: #d4ebff;}#sk-container-id-1 div.sk-serial::before {content: \"\";position: absolute;border-left: 1px solid gray;box-sizing: border-box;top: 0;bottom: 0;left: 50%;z-index: 0;}#sk-container-id-1 div.sk-serial {display: flex;flex-direction: column;align-items: center;background-color: white;padding-right: 0.2em;padding-left: 0.2em;position: relative;}#sk-container-id-1 div.sk-item {position: relative;z-index: 1;}#sk-container-id-1 div.sk-parallel {display: flex;align-items: stretch;justify-content: center;background-color: white;position: relative;}#sk-container-id-1 div.sk-item::before, #sk-container-id-1 div.sk-parallel-item::before {content: \"\";position: absolute;border-left: 1px solid gray;box-sizing: border-box;top: 0;bottom: 0;left: 50%;z-index: -1;}#sk-container-id-1 div.sk-parallel-item {display: flex;flex-direction: column;z-index: 1;position: relative;background-color: white;}#sk-container-id-1 div.sk-parallel-item:first-child::after {align-self: flex-end;width: 50%;}#sk-container-id-1 div.sk-parallel-item:last-child::after {align-self: flex-start;width: 50%;}#sk-container-id-1 div.sk-parallel-item:only-child::after {width: 0;}#sk-container-id-1 div.sk-dashed-wrapped {border: 1px dashed gray;margin: 0 0.4em 0.5em 0.4em;box-sizing: border-box;padding-bottom: 0.4em;background-color: white;}#sk-container-id-1 div.sk-label label {font-family: monospace;font-weight: bold;display: inline-block;line-height: 1.2em;}#sk-container-id-1 div.sk-label-container {text-align: center;}#sk-container-id-1 div.sk-container {/* jupyter's `normalize.less` sets `[hidden] { display: none; }` but bootstrap.min.css set `[hidden] { display: none !important; }` so we also need the `!important` here to be able to override the default hidden behavior on the sphinx rendered scikit-learn.org. See: https://github.com/scikit-learn/scikit-learn/issues/21755 */display: inline-block !important;position: relative;}#sk-container-id-1 div.sk-text-repr-fallback {display: none;}</style><div id=\"sk-container-id-1\" class=\"sk-top-container\"><div class=\"sk-text-repr-fallback\"><pre>LogisticRegression(C=10000)</pre><b>In a Jupyter environment, please rerun this cell to show the HTML representation or trust the notebook. <br />On GitHub, the HTML representation is unable to render, please try loading this page with nbviewer.org.</b></div><div class=\"sk-container\" hidden><div class=\"sk-item\"><div class=\"sk-estimator sk-toggleable\"><input class=\"sk-toggleable__control sk-hidden--visually\" id=\"sk-estimator-id-1\" type=\"checkbox\" checked><label for=\"sk-estimator-id-1\" class=\"sk-toggleable__label sk-toggleable__label-arrow\">LogisticRegression</label><div class=\"sk-toggleable__content\"><pre>LogisticRegression(C=10000)</pre></div></div></div></div></div>"
      ],
      "text/plain": [
       "LogisticRegression(C=10000)"
      ]
     },
     "execution_count": 166,
     "metadata": {},
     "output_type": "execute_result"
    }
   ],
   "source": [
    "LogisticRegression.fit(X_train , y_train)"
   ]
  },
  {
   "cell_type": "code",
   "execution_count": 167,
   "id": "ca3681cb",
   "metadata": {},
   "outputs": [
    {
     "data": {
      "text/plain": [
       "array([[-0.01979528,  0.18505113, -0.28583714,  0.07879292, -0.01891271,\n",
       "         0.75379844,  0.01899368,  0.12006474, -0.19777955,  0.06661888,\n",
       "         0.05018158,  0.421953  ,  0.11519821,  0.05420097, -0.06451779,\n",
       "         0.08520967, -0.11397708,  0.00654421,  0.00098199, -0.05894631,\n",
       "        -0.02783981,  0.02614786]])"
      ]
     },
     "execution_count": 167,
     "metadata": {},
     "output_type": "execute_result"
    }
   ],
   "source": [
    "LogisticRegression.coef_"
   ]
  },
  {
   "cell_type": "code",
   "execution_count": 168,
   "id": "68e03125",
   "metadata": {},
   "outputs": [
    {
     "data": {
      "text/plain": [
       "array([-1.57634623])"
      ]
     },
     "execution_count": 168,
     "metadata": {},
     "output_type": "execute_result"
    }
   ],
   "source": [
    "LogisticRegression.intercept_"
   ]
  },
  {
   "cell_type": "code",
   "execution_count": 169,
   "id": "bab8d401",
   "metadata": {},
   "outputs": [
    {
     "data": {
      "text/plain": [
       "array([[-0.01979528,  0.18505113, -0.28583714,  0.07879292, -0.01891271,\n",
       "         0.75379844,  0.01899368,  0.12006474, -0.19777955,  0.06661888,\n",
       "         0.05018158,  0.421953  ,  0.11519821,  0.05420097, -0.06451779,\n",
       "         0.08520967, -0.11397708,  0.00654421,  0.00098199, -0.05894631,\n",
       "        -0.02783981,  0.02614786]])"
      ]
     },
     "execution_count": 169,
     "metadata": {},
     "output_type": "execute_result"
    }
   ],
   "source": [
    "LogisticRegression.coef_"
   ]
  },
  {
   "cell_type": "code",
   "execution_count": 170,
   "id": "990d0789",
   "metadata": {},
   "outputs": [
    {
     "data": {
      "text/plain": [
       "Index(['loan_amnt', 'term', 'int_rate', 'installment', 'grade', 'sub_grade', 'emp_length', 'home_ownership', 'annual_inc', 'verification_status', 'purpose', 'dti', 'open_acc', 'pub_rec', 'revol_bal', 'revol_util', 'total_acc', 'initial_list_status', 'application_type', 'mort_acc', 'pub_rec_bankruptcies', 'Loan_Tenure'], dtype='object')"
      ]
     },
     "execution_count": 170,
     "metadata": {},
     "output_type": "execute_result"
    }
   ],
   "source": [
    "df.drop([\"loan_status\"], axis = 1).columns"
   ]
  },
  {
   "cell_type": "code",
   "execution_count": 171,
   "id": "5d1b737a",
   "metadata": {},
   "outputs": [
    {
     "data": {
      "text/html": [
       "<div>\n",
       "<style scoped>\n",
       "    .dataframe tbody tr th:only-of-type {\n",
       "        vertical-align: middle;\n",
       "    }\n",
       "\n",
       "    .dataframe tbody tr th {\n",
       "        vertical-align: top;\n",
       "    }\n",
       "\n",
       "    .dataframe thead th {\n",
       "        text-align: right;\n",
       "    }\n",
       "</style>\n",
       "<table border=\"1\" class=\"dataframe\">\n",
       "  <thead>\n",
       "    <tr style=\"text-align: right;\">\n",
       "      <th></th>\n",
       "      <th>index</th>\n",
       "      <th>0</th>\n",
       "    </tr>\n",
       "  </thead>\n",
       "  <tbody>\n",
       "    <tr>\n",
       "      <th>0</th>\n",
       "      <td>loan_amnt</td>\n",
       "      <td>-0.019795</td>\n",
       "    </tr>\n",
       "    <tr>\n",
       "      <th>1</th>\n",
       "      <td>term</td>\n",
       "      <td>0.185051</td>\n",
       "    </tr>\n",
       "    <tr>\n",
       "      <th>2</th>\n",
       "      <td>int_rate</td>\n",
       "      <td>-0.285837</td>\n",
       "    </tr>\n",
       "    <tr>\n",
       "      <th>3</th>\n",
       "      <td>installment</td>\n",
       "      <td>0.078793</td>\n",
       "    </tr>\n",
       "    <tr>\n",
       "      <th>4</th>\n",
       "      <td>grade</td>\n",
       "      <td>-0.018913</td>\n",
       "    </tr>\n",
       "    <tr>\n",
       "      <th>5</th>\n",
       "      <td>sub_grade</td>\n",
       "      <td>0.753798</td>\n",
       "    </tr>\n",
       "    <tr>\n",
       "      <th>6</th>\n",
       "      <td>emp_length</td>\n",
       "      <td>0.018994</td>\n",
       "    </tr>\n",
       "    <tr>\n",
       "      <th>7</th>\n",
       "      <td>home_ownership</td>\n",
       "      <td>0.120065</td>\n",
       "    </tr>\n",
       "    <tr>\n",
       "      <th>8</th>\n",
       "      <td>annual_inc</td>\n",
       "      <td>-0.197780</td>\n",
       "    </tr>\n",
       "    <tr>\n",
       "      <th>9</th>\n",
       "      <td>verification_status</td>\n",
       "      <td>0.066619</td>\n",
       "    </tr>\n",
       "    <tr>\n",
       "      <th>10</th>\n",
       "      <td>purpose</td>\n",
       "      <td>0.050182</td>\n",
       "    </tr>\n",
       "    <tr>\n",
       "      <th>11</th>\n",
       "      <td>dti</td>\n",
       "      <td>0.421953</td>\n",
       "    </tr>\n",
       "    <tr>\n",
       "      <th>12</th>\n",
       "      <td>open_acc</td>\n",
       "      <td>0.115198</td>\n",
       "    </tr>\n",
       "    <tr>\n",
       "      <th>13</th>\n",
       "      <td>pub_rec</td>\n",
       "      <td>0.054201</td>\n",
       "    </tr>\n",
       "    <tr>\n",
       "      <th>14</th>\n",
       "      <td>revol_bal</td>\n",
       "      <td>-0.064518</td>\n",
       "    </tr>\n",
       "    <tr>\n",
       "      <th>15</th>\n",
       "      <td>revol_util</td>\n",
       "      <td>0.085210</td>\n",
       "    </tr>\n",
       "    <tr>\n",
       "      <th>16</th>\n",
       "      <td>total_acc</td>\n",
       "      <td>-0.113977</td>\n",
       "    </tr>\n",
       "    <tr>\n",
       "      <th>17</th>\n",
       "      <td>initial_list_status</td>\n",
       "      <td>0.006544</td>\n",
       "    </tr>\n",
       "    <tr>\n",
       "      <th>18</th>\n",
       "      <td>application_type</td>\n",
       "      <td>0.000982</td>\n",
       "    </tr>\n",
       "    <tr>\n",
       "      <th>19</th>\n",
       "      <td>mort_acc</td>\n",
       "      <td>-0.058946</td>\n",
       "    </tr>\n",
       "    <tr>\n",
       "      <th>20</th>\n",
       "      <td>pub_rec_bankruptcies</td>\n",
       "      <td>-0.027840</td>\n",
       "    </tr>\n",
       "    <tr>\n",
       "      <th>21</th>\n",
       "      <td>Loan_Tenure</td>\n",
       "      <td>0.026148</td>\n",
       "    </tr>\n",
       "  </tbody>\n",
       "</table>\n",
       "</div>"
      ],
      "text/plain": [
       "                   index         0\n",
       "0              loan_amnt -0.019795\n",
       "1                   term  0.185051\n",
       "2               int_rate -0.285837\n",
       "3            installment  0.078793\n",
       "4                  grade -0.018913\n",
       "5              sub_grade  0.753798\n",
       "6             emp_length  0.018994\n",
       "7         home_ownership  0.120065\n",
       "8             annual_inc -0.197780\n",
       "9    verification_status  0.066619\n",
       "10               purpose  0.050182\n",
       "11                   dti  0.421953\n",
       "12              open_acc  0.115198\n",
       "13               pub_rec  0.054201\n",
       "14             revol_bal -0.064518\n",
       "15            revol_util  0.085210\n",
       "16             total_acc -0.113977\n",
       "17   initial_list_status  0.006544\n",
       "18      application_type  0.000982\n",
       "19              mort_acc -0.058946\n",
       "20  pub_rec_bankruptcies -0.027840\n",
       "21           Loan_Tenure  0.026148"
      ]
     },
     "execution_count": 171,
     "metadata": {},
     "output_type": "execute_result"
    }
   ],
   "source": [
    "feature_importance = pd.DataFrame(index = df.drop([\"loan_status\"], axis = 1).columns, data = LogisticRegression.coef_.ravel()).reset_index()\n",
    "feature_importance"
   ]
  },
  {
   "cell_type": "code",
   "execution_count": 172,
   "id": "5640edb2",
   "metadata": {},
   "outputs": [
    {
     "data": {
      "text/plain": [
       "<AxesSubplot:xlabel='0', ylabel='index'>"
      ]
     },
     "execution_count": 172,
     "metadata": {},
     "output_type": "execute_result"
    },
    {
     "data": {
      "image/png": "[encoded data removed]",
      "text/plain": [
       "<Figure size 720x1080 with 1 Axes>"
      ]
     },
     "metadata": {
      "needs_background": "light"
     },
     "output_type": "display_data"
    }
   ],
   "source": [
    "plt.figure(figsize=(10,15))\n",
    "sns.barplot(y = feature_importance[\"index\"],\n",
    "           x =  feature_importance[0])"
   ]
  },
  {
   "cell_type": "code",
   "execution_count": 173,
   "id": "0b1ad51e",
   "metadata": {},
   "outputs": [
    {
     "data": {
      "text/plain": [
       "0.8052104638537485"
      ]
     },
     "execution_count": 173,
     "metadata": {},
     "output_type": "execute_result"
    }
   ],
   "source": [
    "LogisticRegression.score(X_train,y_train)"
   ]
  },
  {
   "cell_type": "code",
   "execution_count": 174,
   "id": "1406af60",
   "metadata": {},
   "outputs": [
    {
     "data": {
      "text/plain": [
       "0.8059490442643235"
      ]
     },
     "execution_count": 174,
     "metadata": {},
     "output_type": "execute_result"
    }
   ],
   "source": [
    "LogisticRegression.score(X_test,y_test)"
   ]
  },
  {
   "cell_type": "code",
   "execution_count": 175,
   "id": "c2554d5d",
   "metadata": {},
   "outputs": [
    {
     "data": {
      "text/plain": [
       "<AxesSubplot:>"
      ]
     },
     "execution_count": 175,
     "metadata": {},
     "output_type": "execute_result"
    },
    {
     "data": {
      "image/png": "[encoded data removed]",
      "text/plain": [
       "<Figure size 1080x1080 with 2 Axes>"
      ]
     },
     "metadata": {
      "needs_background": "light"
     },
     "output_type": "display_data"
    }
   ],
   "source": [
    "plt.figure(figsize=(15,15))\n",
    "\n",
    "sns.heatmap(df.corr().round(2),annot=True,square=True)"
   ]
  },
  {
   "cell_type": "markdown",
   "id": "80f854ac",
   "metadata": {},
   "source": [
    "## Metrics : "
   ]
  },
  {
   "cell_type": "code",
   "execution_count": null,
   "id": "1747e6e5",
   "metadata": {},
   "outputs": [],
   "source": []
  },
  {
   "cell_type": "code",
   "execution_count": 176,
   "id": "aa3fb459",
   "metadata": {},
   "outputs": [],
   "source": [
    "from sklearn.metrics  import confusion_matrix, f1_score, precision_score,recall_score"
   ]
  },
  {
   "cell_type": "code",
   "execution_count": null,
   "id": "8c838b6c",
   "metadata": {},
   "outputs": [],
   "source": []
  },
  {
   "cell_type": "code",
   "execution_count": null,
   "id": "0dcc78db",
   "metadata": {},
   "outputs": [],
   "source": []
  },
  {
   "cell_type": "code",
   "execution_count": 177,
   "id": "10833a35",
   "metadata": {},
   "outputs": [
    {
     "data": {
      "text/plain": [
       "array([[62531,  1105],\n",
       "       [14265,  1305]], dtype=int64)"
      ]
     },
     "execution_count": 177,
     "metadata": {},
     "output_type": "execute_result"
    }
   ],
   "source": [
    "confusion_matrix(y_test, LogisticRegression.predict(X_test))"
   ]
  },
  {
   "cell_type": "code",
   "execution_count": 178,
   "id": "c7098982",
   "metadata": {},
   "outputs": [
    {
     "data": {
      "text/html": [
       "<div>\n",
       "<style scoped>\n",
       "    .dataframe tbody tr th:only-of-type {\n",
       "        vertical-align: middle;\n",
       "    }\n",
       "\n",
       "    .dataframe tbody tr th {\n",
       "        vertical-align: top;\n",
       "    }\n",
       "\n",
       "    .dataframe thead th {\n",
       "        text-align: right;\n",
       "    }\n",
       "</style>\n",
       "<table border=\"1\" class=\"dataframe\">\n",
       "  <thead>\n",
       "    <tr style=\"text-align: right;\">\n",
       "      <th>col_0</th>\n",
       "      <th>0</th>\n",
       "      <th>1</th>\n",
       "    </tr>\n",
       "    <tr>\n",
       "      <th>row_0</th>\n",
       "      <th></th>\n",
       "      <th></th>\n",
       "    </tr>\n",
       "  </thead>\n",
       "  <tbody>\n",
       "    <tr>\n",
       "      <th>0</th>\n",
       "      <td>62531</td>\n",
       "      <td>1105</td>\n",
       "    </tr>\n",
       "    <tr>\n",
       "      <th>1</th>\n",
       "      <td>14265</td>\n",
       "      <td>1305</td>\n",
       "    </tr>\n",
       "  </tbody>\n",
       "</table>\n",
       "</div>"
      ],
      "text/plain": [
       "col_0      0     1\n",
       "row_0             \n",
       "0      62531  1105\n",
       "1      14265  1305"
      ]
     },
     "execution_count": 178,
     "metadata": {},
     "output_type": "execute_result"
    }
   ],
   "source": [
    "pd.crosstab(y_test ,LogisticRegression.predict(X_test))"
   ]
  },
  {
   "cell_type": "code",
   "execution_count": 179,
   "id": "6421aa19",
   "metadata": {},
   "outputs": [
    {
     "data": {
      "text/plain": [
       "0.5414937759336099"
      ]
     },
     "execution_count": 179,
     "metadata": {},
     "output_type": "execute_result"
    }
   ],
   "source": [
    "precision_score(y_test ,LogisticRegression.predict(X_test))"
   ]
  },
  {
   "cell_type": "code",
   "execution_count": 180,
   "id": "f7150f8e",
   "metadata": {},
   "outputs": [
    {
     "data": {
      "text/plain": [
       "0.0838150289017341"
      ]
     },
     "execution_count": 180,
     "metadata": {},
     "output_type": "execute_result"
    }
   ],
   "source": [
    "recall_score(y_test ,LogisticRegression.predict(X_test))"
   ]
  },
  {
   "cell_type": "code",
   "execution_count": 181,
   "id": "0011c4ff",
   "metadata": {},
   "outputs": [
    {
     "data": {
      "text/plain": [
       "0.14516129032258063"
      ]
     },
     "execution_count": 181,
     "metadata": {},
     "output_type": "execute_result"
    }
   ],
   "source": [
    "f1_score(y_test ,LogisticRegression.predict(X_test))"
   ]
  },
  {
   "cell_type": "code",
   "execution_count": 182,
   "id": "ec80ab25",
   "metadata": {},
   "outputs": [
    {
     "data": {
      "text/plain": [
       "0.13965872971616572"
      ]
     },
     "execution_count": 182,
     "metadata": {},
     "output_type": "execute_result"
    }
   ],
   "source": [
    "f1_score(y_train ,LogisticRegression.predict(X_train))"
   ]
  },
  {
   "cell_type": "code",
   "execution_count": null,
   "id": "2880e274",
   "metadata": {},
   "outputs": [],
   "source": []
  },
  {
   "cell_type": "code",
   "execution_count": null,
   "id": "b9cfb36a",
   "metadata": {},
   "outputs": [],
   "source": []
  },
  {
   "cell_type": "code",
   "execution_count": null,
   "id": "5ba4f500",
   "metadata": {},
   "outputs": [],
   "source": []
  },
  {
   "cell_type": "code",
   "execution_count": null,
   "id": "dd9eedb8",
   "metadata": {},
   "outputs": [],
   "source": []
  }
 ],
 "metadata": {
  "kernelspec": {
   "display_name": "Python 3 (ipykernel)",
   "language": "python",
   "name": "python3"
  },
  "language_info": {
   "codemirror_mode": {
    "name": "ipython",
    "version": 3
   },
   "file_extension": ".py",
   "mimetype": "text/x-python",
   "name": "python",
   "nbconvert_exporter": "python",
   "pygments_lexer": "ipython3",
   "version": "3.9.7"
  }
 },
 "nbformat": 4,
 "nbformat_minor": 5
}
