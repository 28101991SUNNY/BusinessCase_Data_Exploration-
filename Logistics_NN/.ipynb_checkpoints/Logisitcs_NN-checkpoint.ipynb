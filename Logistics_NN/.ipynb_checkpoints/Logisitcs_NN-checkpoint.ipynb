{
 "cells": [
  {
   "cell_type": "markdown",
   "id": "b64dca50",
   "metadata": {
    "id": "b64dca50"
   },
   "source": [
    "# Problem Statement :\n",
    "- Porter is India's Largest Marketplace for Intra-City Logistics. \n",
    "- Leader in the country's $40 billion intra-city logistics market, Porter strives to improve the lives of 1,50,000+ driver-partners by providing them with consistent earning & independence. \n",
    "- Currently, the company has serviced 5+ million customers.\n",
    "\n",
    "\n",
    "- Porter works with a wide range of restaurants for delivering their items directly to the people.\n",
    "\n",
    "- Porter has a number of delivery partners available for delivering the food, from various restaurants and wants to get an estimated delivery time that it can provide the customers on the basis of what they are ordering, from where and also the delivery partners.\n",
    "- This dataset has the required data to train a regression model that will do the delivery time estimation, based on all those features"
   ]
  },
  {
   "cell_type": "code",
   "execution_count": 1,
   "id": "2d3d1b73",
   "metadata": {
    "executionInfo": {
     "elapsed": 1618,
     "status": "ok",
     "timestamp": 1676761143343,
     "user": {
      "displayName": "Sunny Panchal",
      "userId": "07638778127504651017"
     },
     "user_tz": 300
    },
    "id": "2d3d1b73"
   },
   "outputs": [],
   "source": [
    "import pandas as pd\n",
    "import numpy as np\n",
    "import seaborn as sns\n",
    "import matplotlib.pyplot as plt\n",
    "%matplotlib inline\n",
    "from matplotlib import figure\n",
    "\n",
    "import warnings\n",
    "warnings.filterwarnings('ignore')\n",
    "\n",
    "pd.set_option('display.max_rows',100)\n",
    "pd.set_option('display.max_columns', 500)\n",
    "pd.set_option('display.width', 1000)"
   ]
  },
  {
   "cell_type": "code",
   "execution_count": 2,
   "id": "n-52EmivaatG",
   "metadata": {
    "colab": {
     "base_uri": "https://localhost:8080/"
    },
    "executionInfo": {
     "elapsed": 22290,
     "status": "ok",
     "timestamp": 1676761165628,
     "user": {
      "displayName": "Sunny Panchal",
      "userId": "07638778127504651017"
     },
     "user_tz": 300
    },
    "id": "n-52EmivaatG",
    "outputId": "28b7ada4-c84e-40da-c23c-6c1377af7d46"
   },
   "outputs": [],
   "source": [
    "# from google.colab import drive\n",
    "# drive.mount('/content/drive')"
   ]
  },
  {
   "cell_type": "markdown",
   "id": "sSgwYVM7oXNq",
   "metadata": {
    "id": "sSgwYVM7oXNq"
   },
   "source": [
    "## Data Dictionary\n",
    "\n",
    "- Each row in this file corresponds to one unique delivery. \n",
    "- Each column corresponds to a feature as explained below.\n",
    "\n",
    "\n",
    "        1. market_id : integer id for the market where the restaurant lies\n",
    "        2. created_at : the timestamp at which the order was placed\n",
    "        3. actual_delivery_time : the timestamp when the order was delivered\n",
    "        3. store_id \n",
    "        4. store_primary_category : category for the restaurant\n",
    "        5. order_protocol : integer code value for order protocol\n",
    "          (how the order was placed ie: through porter, call to restaurant, pre booked, third part etc)\n",
    "        6. total_items \n",
    "        6. subtotal : final price of the order\n",
    "        7. num_distinct_items : the number of distinct items in the order\n",
    "        8. min_item_price : price of the cheapest item in the order\n",
    "        9. max_item_price : price of the costliest item in order\n",
    "        10. total_onshift_partners : number of delivery partners on duty at the time order was placed\n",
    "        11. total_busy_partners : number of delivery partners attending to other tasks\n",
    "        12. total_outstanding_orders : total number of orders to be fulfilled at the moment"
   ]
  },
  {
   "cell_type": "code",
   "execution_count": 3,
   "id": "fbeea847",
   "metadata": {
    "colab": {
     "base_uri": "https://localhost:8080/",
     "height": 661
    },
    "executionInfo": {
     "elapsed": 4126,
     "status": "ok",
     "timestamp": 1676761172320,
     "user": {
      "displayName": "Sunny Panchal",
      "userId": "07638778127504651017"
     },
     "user_tz": 300
    },
    "id": "fbeea847",
    "outputId": "42b0aa70-fa3a-402e-8b82-688a1419bc41"
   },
   "outputs": [
    {
     "name": "stdout",
     "output_type": "stream",
     "text": [
      "Wall time: 520 ms\n"
     ]
    },
    {
     "data": {
      "text/html": [
       "<div>\n",
       "<style scoped>\n",
       "    .dataframe tbody tr th:only-of-type {\n",
       "        vertical-align: middle;\n",
       "    }\n",
       "\n",
       "    .dataframe tbody tr th {\n",
       "        vertical-align: top;\n",
       "    }\n",
       "\n",
       "    .dataframe thead th {\n",
       "        text-align: right;\n",
       "    }\n",
       "</style>\n",
       "<table border=\"1\" class=\"dataframe\">\n",
       "  <thead>\n",
       "    <tr style=\"text-align: right;\">\n",
       "      <th></th>\n",
       "      <th>market_id</th>\n",
       "      <th>created_at</th>\n",
       "      <th>actual_delivery_time</th>\n",
       "      <th>store_id</th>\n",
       "      <th>store_primary_category</th>\n",
       "      <th>order_protocol</th>\n",
       "      <th>total_items</th>\n",
       "      <th>subtotal</th>\n",
       "      <th>num_distinct_items</th>\n",
       "      <th>min_item_price</th>\n",
       "      <th>max_item_price</th>\n",
       "      <th>total_onshift_partners</th>\n",
       "      <th>total_busy_partners</th>\n",
       "      <th>total_outstanding_orders</th>\n",
       "    </tr>\n",
       "  </thead>\n",
       "  <tbody>\n",
       "    <tr>\n",
       "      <th>0</th>\n",
       "      <td>1.0</td>\n",
       "      <td>2015-02-06 22:24:17</td>\n",
       "      <td>2015-02-06 23:27:16</td>\n",
       "      <td>df263d996281d984952c07998dc54358</td>\n",
       "      <td>american</td>\n",
       "      <td>1.0</td>\n",
       "      <td>4</td>\n",
       "      <td>3441</td>\n",
       "      <td>4</td>\n",
       "      <td>557</td>\n",
       "      <td>1239</td>\n",
       "      <td>33.0</td>\n",
       "      <td>14.0</td>\n",
       "      <td>21.0</td>\n",
       "    </tr>\n",
       "    <tr>\n",
       "      <th>1</th>\n",
       "      <td>2.0</td>\n",
       "      <td>2015-02-10 21:49:25</td>\n",
       "      <td>2015-02-10 22:56:29</td>\n",
       "      <td>f0ade77b43923b38237db569b016ba25</td>\n",
       "      <td>mexican</td>\n",
       "      <td>2.0</td>\n",
       "      <td>1</td>\n",
       "      <td>1900</td>\n",
       "      <td>1</td>\n",
       "      <td>1400</td>\n",
       "      <td>1400</td>\n",
       "      <td>1.0</td>\n",
       "      <td>2.0</td>\n",
       "      <td>2.0</td>\n",
       "    </tr>\n",
       "    <tr>\n",
       "      <th>2</th>\n",
       "      <td>3.0</td>\n",
       "      <td>2015-01-22 20:39:28</td>\n",
       "      <td>2015-01-22 21:09:09</td>\n",
       "      <td>f0ade77b43923b38237db569b016ba25</td>\n",
       "      <td>NaN</td>\n",
       "      <td>1.0</td>\n",
       "      <td>1</td>\n",
       "      <td>1900</td>\n",
       "      <td>1</td>\n",
       "      <td>1900</td>\n",
       "      <td>1900</td>\n",
       "      <td>1.0</td>\n",
       "      <td>0.0</td>\n",
       "      <td>0.0</td>\n",
       "    </tr>\n",
       "    <tr>\n",
       "      <th>3</th>\n",
       "      <td>3.0</td>\n",
       "      <td>2015-02-03 21:21:45</td>\n",
       "      <td>2015-02-03 22:13:00</td>\n",
       "      <td>f0ade77b43923b38237db569b016ba25</td>\n",
       "      <td>NaN</td>\n",
       "      <td>1.0</td>\n",
       "      <td>6</td>\n",
       "      <td>6900</td>\n",
       "      <td>5</td>\n",
       "      <td>600</td>\n",
       "      <td>1800</td>\n",
       "      <td>1.0</td>\n",
       "      <td>1.0</td>\n",
       "      <td>2.0</td>\n",
       "    </tr>\n",
       "    <tr>\n",
       "      <th>4</th>\n",
       "      <td>3.0</td>\n",
       "      <td>2015-02-15 02:40:36</td>\n",
       "      <td>2015-02-15 03:20:26</td>\n",
       "      <td>f0ade77b43923b38237db569b016ba25</td>\n",
       "      <td>NaN</td>\n",
       "      <td>1.0</td>\n",
       "      <td>3</td>\n",
       "      <td>3900</td>\n",
       "      <td>3</td>\n",
       "      <td>1100</td>\n",
       "      <td>1600</td>\n",
       "      <td>6.0</td>\n",
       "      <td>6.0</td>\n",
       "      <td>9.0</td>\n",
       "    </tr>\n",
       "    <tr>\n",
       "      <th>...</th>\n",
       "      <td>...</td>\n",
       "      <td>...</td>\n",
       "      <td>...</td>\n",
       "      <td>...</td>\n",
       "      <td>...</td>\n",
       "      <td>...</td>\n",
       "      <td>...</td>\n",
       "      <td>...</td>\n",
       "      <td>...</td>\n",
       "      <td>...</td>\n",
       "      <td>...</td>\n",
       "      <td>...</td>\n",
       "      <td>...</td>\n",
       "      <td>...</td>\n",
       "    </tr>\n",
       "    <tr>\n",
       "      <th>197423</th>\n",
       "      <td>1.0</td>\n",
       "      <td>2015-02-17 00:19:41</td>\n",
       "      <td>2015-02-17 01:24:48</td>\n",
       "      <td>a914ecef9c12ffdb9bede64bb703d877</td>\n",
       "      <td>fast</td>\n",
       "      <td>4.0</td>\n",
       "      <td>3</td>\n",
       "      <td>1389</td>\n",
       "      <td>3</td>\n",
       "      <td>345</td>\n",
       "      <td>649</td>\n",
       "      <td>17.0</td>\n",
       "      <td>17.0</td>\n",
       "      <td>23.0</td>\n",
       "    </tr>\n",
       "    <tr>\n",
       "      <th>197424</th>\n",
       "      <td>1.0</td>\n",
       "      <td>2015-02-13 00:01:59</td>\n",
       "      <td>2015-02-13 00:58:22</td>\n",
       "      <td>a914ecef9c12ffdb9bede64bb703d877</td>\n",
       "      <td>fast</td>\n",
       "      <td>4.0</td>\n",
       "      <td>6</td>\n",
       "      <td>3010</td>\n",
       "      <td>4</td>\n",
       "      <td>405</td>\n",
       "      <td>825</td>\n",
       "      <td>12.0</td>\n",
       "      <td>11.0</td>\n",
       "      <td>14.0</td>\n",
       "    </tr>\n",
       "    <tr>\n",
       "      <th>197425</th>\n",
       "      <td>1.0</td>\n",
       "      <td>2015-01-24 04:46:08</td>\n",
       "      <td>2015-01-24 05:36:16</td>\n",
       "      <td>a914ecef9c12ffdb9bede64bb703d877</td>\n",
       "      <td>fast</td>\n",
       "      <td>4.0</td>\n",
       "      <td>5</td>\n",
       "      <td>1836</td>\n",
       "      <td>3</td>\n",
       "      <td>300</td>\n",
       "      <td>399</td>\n",
       "      <td>39.0</td>\n",
       "      <td>41.0</td>\n",
       "      <td>40.0</td>\n",
       "    </tr>\n",
       "    <tr>\n",
       "      <th>197426</th>\n",
       "      <td>1.0</td>\n",
       "      <td>2015-02-01 18:18:15</td>\n",
       "      <td>2015-02-01 19:23:22</td>\n",
       "      <td>c81e155d85dae5430a8cee6f2242e82c</td>\n",
       "      <td>sandwich</td>\n",
       "      <td>1.0</td>\n",
       "      <td>1</td>\n",
       "      <td>1175</td>\n",
       "      <td>1</td>\n",
       "      <td>535</td>\n",
       "      <td>535</td>\n",
       "      <td>7.0</td>\n",
       "      <td>7.0</td>\n",
       "      <td>12.0</td>\n",
       "    </tr>\n",
       "    <tr>\n",
       "      <th>197427</th>\n",
       "      <td>1.0</td>\n",
       "      <td>2015-02-08 19:24:33</td>\n",
       "      <td>2015-02-08 20:01:41</td>\n",
       "      <td>c81e155d85dae5430a8cee6f2242e82c</td>\n",
       "      <td>sandwich</td>\n",
       "      <td>1.0</td>\n",
       "      <td>4</td>\n",
       "      <td>2605</td>\n",
       "      <td>4</td>\n",
       "      <td>425</td>\n",
       "      <td>750</td>\n",
       "      <td>20.0</td>\n",
       "      <td>20.0</td>\n",
       "      <td>23.0</td>\n",
       "    </tr>\n",
       "  </tbody>\n",
       "</table>\n",
       "<p>197428 rows × 14 columns</p>\n",
       "</div>"
      ],
      "text/plain": [
       "        market_id           created_at actual_delivery_time                          store_id store_primary_category  order_protocol  total_items  subtotal  num_distinct_items  min_item_price  max_item_price  total_onshift_partners  total_busy_partners  total_outstanding_orders\n",
       "0             1.0  2015-02-06 22:24:17  2015-02-06 23:27:16  df263d996281d984952c07998dc54358               american             1.0            4      3441                   4             557            1239                    33.0                 14.0                      21.0\n",
       "1             2.0  2015-02-10 21:49:25  2015-02-10 22:56:29  f0ade77b43923b38237db569b016ba25                mexican             2.0            1      1900                   1            1400            1400                     1.0                  2.0                       2.0\n",
       "2             3.0  2015-01-22 20:39:28  2015-01-22 21:09:09  f0ade77b43923b38237db569b016ba25                    NaN             1.0            1      1900                   1            1900            1900                     1.0                  0.0                       0.0\n",
       "3             3.0  2015-02-03 21:21:45  2015-02-03 22:13:00  f0ade77b43923b38237db569b016ba25                    NaN             1.0            6      6900                   5             600            1800                     1.0                  1.0                       2.0\n",
       "4             3.0  2015-02-15 02:40:36  2015-02-15 03:20:26  f0ade77b43923b38237db569b016ba25                    NaN             1.0            3      3900                   3            1100            1600                     6.0                  6.0                       9.0\n",
       "...           ...                  ...                  ...                               ...                    ...             ...          ...       ...                 ...             ...             ...                     ...                  ...                       ...\n",
       "197423        1.0  2015-02-17 00:19:41  2015-02-17 01:24:48  a914ecef9c12ffdb9bede64bb703d877                   fast             4.0            3      1389                   3             345             649                    17.0                 17.0                      23.0\n",
       "197424        1.0  2015-02-13 00:01:59  2015-02-13 00:58:22  a914ecef9c12ffdb9bede64bb703d877                   fast             4.0            6      3010                   4             405             825                    12.0                 11.0                      14.0\n",
       "197425        1.0  2015-01-24 04:46:08  2015-01-24 05:36:16  a914ecef9c12ffdb9bede64bb703d877                   fast             4.0            5      1836                   3             300             399                    39.0                 41.0                      40.0\n",
       "197426        1.0  2015-02-01 18:18:15  2015-02-01 19:23:22  c81e155d85dae5430a8cee6f2242e82c               sandwich             1.0            1      1175                   1             535             535                     7.0                  7.0                      12.0\n",
       "197427        1.0  2015-02-08 19:24:33  2015-02-08 20:01:41  c81e155d85dae5430a8cee6f2242e82c               sandwich             1.0            4      2605                   4             425             750                    20.0                 20.0                      23.0\n",
       "\n",
       "[197428 rows x 14 columns]"
      ]
     },
     "execution_count": 3,
     "metadata": {},
     "output_type": "execute_result"
    }
   ],
   "source": [
    "%%time\n",
    "\n",
    "file_path = 'dataset.csv'\n",
    "df = pd.read_csv(file_path)\n",
    "df"
   ]
  },
  {
   "cell_type": "code",
   "execution_count": 4,
   "id": "31e28bbb",
   "metadata": {
    "colab": {
     "base_uri": "https://localhost:8080/"
    },
    "executionInfo": {
     "elapsed": 38,
     "status": "ok",
     "timestamp": 1676761172321,
     "user": {
      "displayName": "Sunny Panchal",
      "userId": "07638778127504651017"
     },
     "user_tz": 300
    },
    "id": "31e28bbb",
    "outputId": "c3b02292-ff88-47a2-c715-fcd9ae2564d3"
   },
   "outputs": [
    {
     "name": "stdout",
     "output_type": "stream",
     "text": [
      "<class 'pandas.core.frame.DataFrame'>\n",
      "RangeIndex: 197428 entries, 0 to 197427\n",
      "Data columns (total 14 columns):\n",
      " #   Column                    Non-Null Count   Dtype  \n",
      "---  ------                    --------------   -----  \n",
      " 0   market_id                 196441 non-null  float64\n",
      " 1   created_at                197428 non-null  object \n",
      " 2   actual_delivery_time      197421 non-null  object \n",
      " 3   store_id                  197428 non-null  object \n",
      " 4   store_primary_category    192668 non-null  object \n",
      " 5   order_protocol            196433 non-null  float64\n",
      " 6   total_items               197428 non-null  int64  \n",
      " 7   subtotal                  197428 non-null  int64  \n",
      " 8   num_distinct_items        197428 non-null  int64  \n",
      " 9   min_item_price            197428 non-null  int64  \n",
      " 10  max_item_price            197428 non-null  int64  \n",
      " 11  total_onshift_partners    181166 non-null  float64\n",
      " 12  total_busy_partners       181166 non-null  float64\n",
      " 13  total_outstanding_orders  181166 non-null  float64\n",
      "dtypes: float64(5), int64(5), object(4)\n",
      "memory usage: 21.1+ MB\n"
     ]
    }
   ],
   "source": [
    "df.info()"
   ]
  },
  {
   "cell_type": "code",
   "execution_count": null,
   "id": "ad989d49",
   "metadata": {
    "executionInfo": {
     "elapsed": 31,
     "status": "ok",
     "timestamp": 1676761172322,
     "user": {
      "displayName": "Sunny Panchal",
      "userId": "07638778127504651017"
     },
     "user_tz": 300
    },
    "id": "ad989d49"
   },
   "outputs": [],
   "source": []
  },
  {
   "cell_type": "code",
   "execution_count": null,
   "id": "82b834b6",
   "metadata": {
    "executionInfo": {
     "elapsed": 30,
     "status": "ok",
     "timestamp": 1676761172322,
     "user": {
      "displayName": "Sunny Panchal",
      "userId": "07638778127504651017"
     },
     "user_tz": 300
    },
    "id": "82b834b6"
   },
   "outputs": [],
   "source": []
  },
  {
   "cell_type": "code",
   "execution_count": 5,
   "id": "8c42b914",
   "metadata": {
    "colab": {
     "base_uri": "https://localhost:8080/",
     "height": 357
    },
    "executionInfo": {
     "elapsed": 31,
     "status": "ok",
     "timestamp": 1676761172323,
     "user": {
      "displayName": "Sunny Panchal",
      "userId": "07638778127504651017"
     },
     "user_tz": 300
    },
    "id": "8c42b914",
    "outputId": "412d61d2-5f94-4314-8b9c-745fdfe8751e"
   },
   "outputs": [
    {
     "data": {
      "text/html": [
       "<div>\n",
       "<style scoped>\n",
       "    .dataframe tbody tr th:only-of-type {\n",
       "        vertical-align: middle;\n",
       "    }\n",
       "\n",
       "    .dataframe tbody tr th {\n",
       "        vertical-align: top;\n",
       "    }\n",
       "\n",
       "    .dataframe thead th {\n",
       "        text-align: right;\n",
       "    }\n",
       "</style>\n",
       "<table border=\"1\" class=\"dataframe\">\n",
       "  <thead>\n",
       "    <tr style=\"text-align: right;\">\n",
       "      <th></th>\n",
       "      <th>market_id</th>\n",
       "      <th>created_at</th>\n",
       "      <th>actual_delivery_time</th>\n",
       "      <th>store_id</th>\n",
       "      <th>store_primary_category</th>\n",
       "      <th>order_protocol</th>\n",
       "      <th>total_items</th>\n",
       "      <th>subtotal</th>\n",
       "      <th>num_distinct_items</th>\n",
       "      <th>min_item_price</th>\n",
       "      <th>max_item_price</th>\n",
       "      <th>total_onshift_partners</th>\n",
       "      <th>total_busy_partners</th>\n",
       "      <th>total_outstanding_orders</th>\n",
       "    </tr>\n",
       "  </thead>\n",
       "  <tbody>\n",
       "    <tr>\n",
       "      <th>0</th>\n",
       "      <td>1.0</td>\n",
       "      <td>2015-02-06 22:24:17</td>\n",
       "      <td>2015-02-06 23:27:16</td>\n",
       "      <td>df263d996281d984952c07998dc54358</td>\n",
       "      <td>american</td>\n",
       "      <td>1.0</td>\n",
       "      <td>4</td>\n",
       "      <td>3441</td>\n",
       "      <td>4</td>\n",
       "      <td>557</td>\n",
       "      <td>1239</td>\n",
       "      <td>33.0</td>\n",
       "      <td>14.0</td>\n",
       "      <td>21.0</td>\n",
       "    </tr>\n",
       "    <tr>\n",
       "      <th>1</th>\n",
       "      <td>2.0</td>\n",
       "      <td>2015-02-10 21:49:25</td>\n",
       "      <td>2015-02-10 22:56:29</td>\n",
       "      <td>f0ade77b43923b38237db569b016ba25</td>\n",
       "      <td>mexican</td>\n",
       "      <td>2.0</td>\n",
       "      <td>1</td>\n",
       "      <td>1900</td>\n",
       "      <td>1</td>\n",
       "      <td>1400</td>\n",
       "      <td>1400</td>\n",
       "      <td>1.0</td>\n",
       "      <td>2.0</td>\n",
       "      <td>2.0</td>\n",
       "    </tr>\n",
       "    <tr>\n",
       "      <th>2</th>\n",
       "      <td>3.0</td>\n",
       "      <td>2015-01-22 20:39:28</td>\n",
       "      <td>2015-01-22 21:09:09</td>\n",
       "      <td>f0ade77b43923b38237db569b016ba25</td>\n",
       "      <td>NaN</td>\n",
       "      <td>1.0</td>\n",
       "      <td>1</td>\n",
       "      <td>1900</td>\n",
       "      <td>1</td>\n",
       "      <td>1900</td>\n",
       "      <td>1900</td>\n",
       "      <td>1.0</td>\n",
       "      <td>0.0</td>\n",
       "      <td>0.0</td>\n",
       "    </tr>\n",
       "    <tr>\n",
       "      <th>3</th>\n",
       "      <td>3.0</td>\n",
       "      <td>2015-02-03 21:21:45</td>\n",
       "      <td>2015-02-03 22:13:00</td>\n",
       "      <td>f0ade77b43923b38237db569b016ba25</td>\n",
       "      <td>NaN</td>\n",
       "      <td>1.0</td>\n",
       "      <td>6</td>\n",
       "      <td>6900</td>\n",
       "      <td>5</td>\n",
       "      <td>600</td>\n",
       "      <td>1800</td>\n",
       "      <td>1.0</td>\n",
       "      <td>1.0</td>\n",
       "      <td>2.0</td>\n",
       "    </tr>\n",
       "    <tr>\n",
       "      <th>4</th>\n",
       "      <td>3.0</td>\n",
       "      <td>2015-02-15 02:40:36</td>\n",
       "      <td>2015-02-15 03:20:26</td>\n",
       "      <td>f0ade77b43923b38237db569b016ba25</td>\n",
       "      <td>NaN</td>\n",
       "      <td>1.0</td>\n",
       "      <td>3</td>\n",
       "      <td>3900</td>\n",
       "      <td>3</td>\n",
       "      <td>1100</td>\n",
       "      <td>1600</td>\n",
       "      <td>6.0</td>\n",
       "      <td>6.0</td>\n",
       "      <td>9.0</td>\n",
       "    </tr>\n",
       "  </tbody>\n",
       "</table>\n",
       "</div>"
      ],
      "text/plain": [
       "   market_id           created_at actual_delivery_time                          store_id store_primary_category  order_protocol  total_items  subtotal  num_distinct_items  min_item_price  max_item_price  total_onshift_partners  total_busy_partners  total_outstanding_orders\n",
       "0        1.0  2015-02-06 22:24:17  2015-02-06 23:27:16  df263d996281d984952c07998dc54358               american             1.0            4      3441                   4             557            1239                    33.0                 14.0                      21.0\n",
       "1        2.0  2015-02-10 21:49:25  2015-02-10 22:56:29  f0ade77b43923b38237db569b016ba25                mexican             2.0            1      1900                   1            1400            1400                     1.0                  2.0                       2.0\n",
       "2        3.0  2015-01-22 20:39:28  2015-01-22 21:09:09  f0ade77b43923b38237db569b016ba25                    NaN             1.0            1      1900                   1            1900            1900                     1.0                  0.0                       0.0\n",
       "3        3.0  2015-02-03 21:21:45  2015-02-03 22:13:00  f0ade77b43923b38237db569b016ba25                    NaN             1.0            6      6900                   5             600            1800                     1.0                  1.0                       2.0\n",
       "4        3.0  2015-02-15 02:40:36  2015-02-15 03:20:26  f0ade77b43923b38237db569b016ba25                    NaN             1.0            3      3900                   3            1100            1600                     6.0                  6.0                       9.0"
      ]
     },
     "execution_count": 5,
     "metadata": {},
     "output_type": "execute_result"
    }
   ],
   "source": [
    "df.head(5)"
   ]
  },
  {
   "cell_type": "code",
   "execution_count": 6,
   "id": "ed615b96",
   "metadata": {
    "executionInfo": {
     "elapsed": 31,
     "status": "ok",
     "timestamp": 1676761172325,
     "user": {
      "displayName": "Sunny Panchal",
      "userId": "07638778127504651017"
     },
     "user_tz": 300
    },
    "id": "ed615b96"
   },
   "outputs": [],
   "source": [
    "date_format = \"%Y-%m-%d %H:%M:%S\"\n",
    "df[\"created_at\"] = pd.to_datetime(df[\"created_at\"], format= date_format)\n"
   ]
  },
  {
   "cell_type": "code",
   "execution_count": 7,
   "id": "46460e43",
   "metadata": {
    "executionInfo": {
     "elapsed": 33,
     "status": "ok",
     "timestamp": 1676761172327,
     "user": {
      "displayName": "Sunny Panchal",
      "userId": "07638778127504651017"
     },
     "user_tz": 300
    },
    "id": "46460e43"
   },
   "outputs": [],
   "source": [
    "df[\"actual_delivery_time\"] = pd.to_datetime(df[\"actual_delivery_time\"], format= date_format)\n",
    "\n"
   ]
  },
  {
   "cell_type": "code",
   "execution_count": 8,
   "id": "2a5ffa61",
   "metadata": {
    "colab": {
     "base_uri": "https://localhost:8080/"
    },
    "executionInfo": {
     "elapsed": 35,
     "status": "ok",
     "timestamp": 1676761174495,
     "user": {
      "displayName": "Sunny Panchal",
      "userId": "07638778127504651017"
     },
     "user_tz": 300
    },
    "id": "2a5ffa61",
    "outputId": "910285db-4412-492c-f857-304b78198e18"
   },
   "outputs": [
    {
     "name": "stdout",
     "output_type": "stream",
     "text": [
      "<class 'pandas.core.frame.DataFrame'>\n",
      "RangeIndex: 197428 entries, 0 to 197427\n",
      "Data columns (total 14 columns):\n",
      " #   Column                    Non-Null Count   Dtype         \n",
      "---  ------                    --------------   -----         \n",
      " 0   market_id                 196441 non-null  float64       \n",
      " 1   created_at                197428 non-null  datetime64[ns]\n",
      " 2   actual_delivery_time      197421 non-null  datetime64[ns]\n",
      " 3   store_id                  197428 non-null  object        \n",
      " 4   store_primary_category    192668 non-null  object        \n",
      " 5   order_protocol            196433 non-null  float64       \n",
      " 6   total_items               197428 non-null  int64         \n",
      " 7   subtotal                  197428 non-null  int64         \n",
      " 8   num_distinct_items        197428 non-null  int64         \n",
      " 9   min_item_price            197428 non-null  int64         \n",
      " 10  max_item_price            197428 non-null  int64         \n",
      " 11  total_onshift_partners    181166 non-null  float64       \n",
      " 12  total_busy_partners       181166 non-null  float64       \n",
      " 13  total_outstanding_orders  181166 non-null  float64       \n",
      "dtypes: datetime64[ns](2), float64(5), int64(5), object(2)\n",
      "memory usage: 21.1+ MB\n"
     ]
    }
   ],
   "source": [
    "df.info()"
   ]
  },
  {
   "cell_type": "code",
   "execution_count": 9,
   "id": "9521c3e3",
   "metadata": {
    "colab": {
     "base_uri": "https://localhost:8080/",
     "height": 300
    },
    "executionInfo": {
     "elapsed": 32,
     "status": "ok",
     "timestamp": 1676761174496,
     "user": {
      "displayName": "Sunny Panchal",
      "userId": "07638778127504651017"
     },
     "user_tz": 300
    },
    "id": "9521c3e3",
    "outputId": "e35250d1-27f4-4047-be9f-e88c9f0cdb7f"
   },
   "outputs": [
    {
     "data": {
      "text/html": [
       "<div>\n",
       "<style scoped>\n",
       "    .dataframe tbody tr th:only-of-type {\n",
       "        vertical-align: middle;\n",
       "    }\n",
       "\n",
       "    .dataframe tbody tr th {\n",
       "        vertical-align: top;\n",
       "    }\n",
       "\n",
       "    .dataframe thead th {\n",
       "        text-align: right;\n",
       "    }\n",
       "</style>\n",
       "<table border=\"1\" class=\"dataframe\">\n",
       "  <thead>\n",
       "    <tr style=\"text-align: right;\">\n",
       "      <th></th>\n",
       "      <th>market_id</th>\n",
       "      <th>order_protocol</th>\n",
       "      <th>total_items</th>\n",
       "      <th>subtotal</th>\n",
       "      <th>num_distinct_items</th>\n",
       "      <th>min_item_price</th>\n",
       "      <th>max_item_price</th>\n",
       "      <th>total_onshift_partners</th>\n",
       "      <th>total_busy_partners</th>\n",
       "      <th>total_outstanding_orders</th>\n",
       "    </tr>\n",
       "  </thead>\n",
       "  <tbody>\n",
       "    <tr>\n",
       "      <th>count</th>\n",
       "      <td>196441.000000</td>\n",
       "      <td>196433.000000</td>\n",
       "      <td>197428.000000</td>\n",
       "      <td>197428.000000</td>\n",
       "      <td>197428.000000</td>\n",
       "      <td>197428.000000</td>\n",
       "      <td>197428.000000</td>\n",
       "      <td>181166.000000</td>\n",
       "      <td>181166.000000</td>\n",
       "      <td>181166.000000</td>\n",
       "    </tr>\n",
       "    <tr>\n",
       "      <th>mean</th>\n",
       "      <td>2.978706</td>\n",
       "      <td>2.882352</td>\n",
       "      <td>3.196391</td>\n",
       "      <td>2682.331402</td>\n",
       "      <td>2.670791</td>\n",
       "      <td>686.218470</td>\n",
       "      <td>1159.588630</td>\n",
       "      <td>44.808093</td>\n",
       "      <td>41.739747</td>\n",
       "      <td>58.050065</td>\n",
       "    </tr>\n",
       "    <tr>\n",
       "      <th>std</th>\n",
       "      <td>1.524867</td>\n",
       "      <td>1.503771</td>\n",
       "      <td>2.666546</td>\n",
       "      <td>1823.093688</td>\n",
       "      <td>1.630255</td>\n",
       "      <td>522.038648</td>\n",
       "      <td>558.411377</td>\n",
       "      <td>34.526783</td>\n",
       "      <td>32.145733</td>\n",
       "      <td>52.661830</td>\n",
       "    </tr>\n",
       "    <tr>\n",
       "      <th>min</th>\n",
       "      <td>1.000000</td>\n",
       "      <td>1.000000</td>\n",
       "      <td>1.000000</td>\n",
       "      <td>0.000000</td>\n",
       "      <td>1.000000</td>\n",
       "      <td>-86.000000</td>\n",
       "      <td>0.000000</td>\n",
       "      <td>-4.000000</td>\n",
       "      <td>-5.000000</td>\n",
       "      <td>-6.000000</td>\n",
       "    </tr>\n",
       "    <tr>\n",
       "      <th>25%</th>\n",
       "      <td>2.000000</td>\n",
       "      <td>1.000000</td>\n",
       "      <td>2.000000</td>\n",
       "      <td>1400.000000</td>\n",
       "      <td>1.000000</td>\n",
       "      <td>299.000000</td>\n",
       "      <td>800.000000</td>\n",
       "      <td>17.000000</td>\n",
       "      <td>15.000000</td>\n",
       "      <td>17.000000</td>\n",
       "    </tr>\n",
       "    <tr>\n",
       "      <th>50%</th>\n",
       "      <td>3.000000</td>\n",
       "      <td>3.000000</td>\n",
       "      <td>3.000000</td>\n",
       "      <td>2200.000000</td>\n",
       "      <td>2.000000</td>\n",
       "      <td>595.000000</td>\n",
       "      <td>1095.000000</td>\n",
       "      <td>37.000000</td>\n",
       "      <td>34.000000</td>\n",
       "      <td>41.000000</td>\n",
       "    </tr>\n",
       "    <tr>\n",
       "      <th>75%</th>\n",
       "      <td>4.000000</td>\n",
       "      <td>4.000000</td>\n",
       "      <td>4.000000</td>\n",
       "      <td>3395.000000</td>\n",
       "      <td>3.000000</td>\n",
       "      <td>949.000000</td>\n",
       "      <td>1395.000000</td>\n",
       "      <td>65.000000</td>\n",
       "      <td>62.000000</td>\n",
       "      <td>85.000000</td>\n",
       "    </tr>\n",
       "    <tr>\n",
       "      <th>max</th>\n",
       "      <td>6.000000</td>\n",
       "      <td>7.000000</td>\n",
       "      <td>411.000000</td>\n",
       "      <td>27100.000000</td>\n",
       "      <td>20.000000</td>\n",
       "      <td>14700.000000</td>\n",
       "      <td>14700.000000</td>\n",
       "      <td>171.000000</td>\n",
       "      <td>154.000000</td>\n",
       "      <td>285.000000</td>\n",
       "    </tr>\n",
       "  </tbody>\n",
       "</table>\n",
       "</div>"
      ],
      "text/plain": [
       "           market_id  order_protocol    total_items       subtotal  num_distinct_items  min_item_price  max_item_price  total_onshift_partners  total_busy_partners  total_outstanding_orders\n",
       "count  196441.000000   196433.000000  197428.000000  197428.000000       197428.000000   197428.000000   197428.000000           181166.000000        181166.000000             181166.000000\n",
       "mean        2.978706        2.882352       3.196391    2682.331402            2.670791      686.218470     1159.588630               44.808093            41.739747                 58.050065\n",
       "std         1.524867        1.503771       2.666546    1823.093688            1.630255      522.038648      558.411377               34.526783            32.145733                 52.661830\n",
       "min         1.000000        1.000000       1.000000       0.000000            1.000000      -86.000000        0.000000               -4.000000            -5.000000                 -6.000000\n",
       "25%         2.000000        1.000000       2.000000    1400.000000            1.000000      299.000000      800.000000               17.000000            15.000000                 17.000000\n",
       "50%         3.000000        3.000000       3.000000    2200.000000            2.000000      595.000000     1095.000000               37.000000            34.000000                 41.000000\n",
       "75%         4.000000        4.000000       4.000000    3395.000000            3.000000      949.000000     1395.000000               65.000000            62.000000                 85.000000\n",
       "max         6.000000        7.000000     411.000000   27100.000000           20.000000    14700.000000    14700.000000              171.000000           154.000000                285.000000"
      ]
     },
     "execution_count": 9,
     "metadata": {},
     "output_type": "execute_result"
    }
   ],
   "source": [
    "df.describe() "
   ]
  },
  {
   "cell_type": "code",
   "execution_count": 10,
   "id": "wR3CycM4qM7w",
   "metadata": {
    "colab": {
     "base_uri": "https://localhost:8080/"
    },
    "executionInfo": {
     "elapsed": 31,
     "status": "ok",
     "timestamp": 1676761174497,
     "user": {
      "displayName": "Sunny Panchal",
      "userId": "07638778127504651017"
     },
     "user_tz": 300
    },
    "id": "wR3CycM4qM7w",
    "outputId": "9c28a020-6ec6-463d-a76e-6d1d5c7be5f8"
   },
   "outputs": [
    {
     "data": {
      "text/plain": [
       "market_id                          float64\n",
       "created_at                  datetime64[ns]\n",
       "actual_delivery_time        datetime64[ns]\n",
       "store_id                            object\n",
       "store_primary_category              object\n",
       "order_protocol                     float64\n",
       "total_items                          int64\n",
       "subtotal                             int64\n",
       "num_distinct_items                   int64\n",
       "min_item_price                       int64\n",
       "max_item_price                       int64\n",
       "total_onshift_partners             float64\n",
       "total_busy_partners                float64\n",
       "total_outstanding_orders           float64\n",
       "dtype: object"
      ]
     },
     "execution_count": 10,
     "metadata": {},
     "output_type": "execute_result"
    }
   ],
   "source": [
    "df.dtypes\n"
   ]
  },
  {
   "cell_type": "code",
   "execution_count": 11,
   "id": "UGLcsUuEqgz8",
   "metadata": {
    "colab": {
     "base_uri": "https://localhost:8080/",
     "height": 162
    },
    "executionInfo": {
     "elapsed": 27,
     "status": "ok",
     "timestamp": 1676761174497,
     "user": {
      "displayName": "Sunny Panchal",
      "userId": "07638778127504651017"
     },
     "user_tz": 300
    },
    "id": "UGLcsUuEqgz8",
    "outputId": "0ca7cd83-e521-4e39-99cb-b28032b61096"
   },
   "outputs": [
    {
     "data": {
      "text/html": [
       "<div>\n",
       "<style scoped>\n",
       "    .dataframe tbody tr th:only-of-type {\n",
       "        vertical-align: middle;\n",
       "    }\n",
       "\n",
       "    .dataframe tbody tr th {\n",
       "        vertical-align: top;\n",
       "    }\n",
       "\n",
       "    .dataframe thead th {\n",
       "        text-align: right;\n",
       "    }\n",
       "</style>\n",
       "<table border=\"1\" class=\"dataframe\">\n",
       "  <thead>\n",
       "    <tr style=\"text-align: right;\">\n",
       "      <th></th>\n",
       "      <th>market_id</th>\n",
       "      <th>created_at</th>\n",
       "      <th>actual_delivery_time</th>\n",
       "      <th>store_id</th>\n",
       "      <th>store_primary_category</th>\n",
       "      <th>order_protocol</th>\n",
       "      <th>total_items</th>\n",
       "      <th>subtotal</th>\n",
       "      <th>num_distinct_items</th>\n",
       "      <th>min_item_price</th>\n",
       "      <th>max_item_price</th>\n",
       "      <th>total_onshift_partners</th>\n",
       "      <th>total_busy_partners</th>\n",
       "      <th>total_outstanding_orders</th>\n",
       "    </tr>\n",
       "  </thead>\n",
       "  <tbody>\n",
       "    <tr>\n",
       "      <th>52187</th>\n",
       "      <td>6.0</td>\n",
       "      <td>2015-02-15 20:40:24</td>\n",
       "      <td>2015-02-15 21:15:15</td>\n",
       "      <td>5739fb4e82ed5366680b13441c6adeb4</td>\n",
       "      <td>thai</td>\n",
       "      <td>3.0</td>\n",
       "      <td>11</td>\n",
       "      <td>7200</td>\n",
       "      <td>8</td>\n",
       "      <td>200</td>\n",
       "      <td>1300</td>\n",
       "      <td>NaN</td>\n",
       "      <td>NaN</td>\n",
       "      <td>NaN</td>\n",
       "    </tr>\n",
       "  </tbody>\n",
       "</table>\n",
       "</div>"
      ],
      "text/plain": [
       "       market_id          created_at actual_delivery_time                          store_id store_primary_category  order_protocol  total_items  subtotal  num_distinct_items  min_item_price  max_item_price  total_onshift_partners  total_busy_partners  total_outstanding_orders\n",
       "52187        6.0 2015-02-15 20:40:24  2015-02-15 21:15:15  5739fb4e82ed5366680b13441c6adeb4                   thai             3.0           11      7200                   8             200            1300                     NaN                  NaN                       NaN"
      ]
     },
     "execution_count": 11,
     "metadata": {},
     "output_type": "execute_result"
    }
   ],
   "source": [
    "df.sample()"
   ]
  },
  {
   "cell_type": "code",
   "execution_count": 12,
   "id": "v0LJdajBqVRq",
   "metadata": {
    "colab": {
     "base_uri": "https://localhost:8080/"
    },
    "executionInfo": {
     "elapsed": 34,
     "status": "ok",
     "timestamp": 1676761175519,
     "user": {
      "displayName": "Sunny Panchal",
      "userId": "07638778127504651017"
     },
     "user_tz": 300
    },
    "id": "v0LJdajBqVRq",
    "outputId": "0758cced-08a3-4654-82c3-36da4e93d051"
   },
   "outputs": [
    {
     "data": {
      "text/plain": [
       "Index(['market_id', 'created_at', 'actual_delivery_time', 'store_id', 'store_primary_category', 'order_protocol', 'total_items', 'subtotal', 'num_distinct_items', 'min_item_price', 'max_item_price', 'total_onshift_partners', 'total_busy_partners', 'total_outstanding_orders'], dtype='object')"
      ]
     },
     "execution_count": 12,
     "metadata": {},
     "output_type": "execute_result"
    }
   ],
   "source": [
    "df.columns"
   ]
  },
  {
   "cell_type": "code",
   "execution_count": 13,
   "id": "TFEHnFKfqk_9",
   "metadata": {
    "colab": {
     "base_uri": "https://localhost:8080/"
    },
    "executionInfo": {
     "elapsed": 33,
     "status": "ok",
     "timestamp": 1676761175520,
     "user": {
      "displayName": "Sunny Panchal",
      "userId": "07638778127504651017"
     },
     "user_tz": 300
    },
    "id": "TFEHnFKfqk_9",
    "outputId": "dcf61e09-347e-4404-c002-6b37bc6eac2f"
   },
   "outputs": [
    {
     "data": {
      "text/plain": [
       "market_id                        6\n",
       "created_at                  180985\n",
       "actual_delivery_time        178110\n",
       "store_id                      6743\n",
       "store_primary_category          74\n",
       "order_protocol                   7\n",
       "total_items                     57\n",
       "subtotal                      8368\n",
       "num_distinct_items              20\n",
       "min_item_price                2312\n",
       "max_item_price                2652\n",
       "total_onshift_partners         172\n",
       "total_busy_partners            159\n",
       "total_outstanding_orders       281\n",
       "dtype: int64"
      ]
     },
     "execution_count": 13,
     "metadata": {},
     "output_type": "execute_result"
    }
   ],
   "source": [
    "df.nunique()"
   ]
  },
  {
   "cell_type": "code",
   "execution_count": 14,
   "id": "3pNdypOSqXqf",
   "metadata": {
    "executionInfo": {
     "elapsed": 28,
     "status": "ok",
     "timestamp": 1676761175520,
     "user": {
      "displayName": "Sunny Panchal",
      "userId": "07638778127504651017"
     },
     "user_tz": 300
    },
    "id": "3pNdypOSqXqf"
   },
   "outputs": [],
   "source": [
    "categorical_features = [\"market_id\",\"store_id\",\"store_primary_category\",\"order_protocol\",\"total_items\",\"num_distinct_items\"]\n",
    "numerical_features = ['subtotal','min_item_price','max_item_price','total_onshift_partners','total_busy_partners','total_outstanding_orders']\n",
    "date_time_features = ['created_at','actual_delivery_time']"
   ]
  },
  {
   "cell_type": "code",
   "execution_count": 15,
   "id": "4Snu6dVXrmeg",
   "metadata": {
    "colab": {
     "base_uri": "https://localhost:8080/"
    },
    "executionInfo": {
     "elapsed": 29,
     "status": "ok",
     "timestamp": 1676761175521,
     "user": {
      "displayName": "Sunny Panchal",
      "userId": "07638778127504651017"
     },
     "user_tz": 300
    },
    "id": "4Snu6dVXrmeg",
    "outputId": "9cd242fb-717b-40b6-a1ac-874280bf23a5"
   },
   "outputs": [
    {
     "data": {
      "text/plain": [
       "(6, 6, 2)"
      ]
     },
     "execution_count": 15,
     "metadata": {},
     "output_type": "execute_result"
    }
   ],
   "source": [
    "len(categorical_features), len(numerical_features),len(date_time_features)"
   ]
  },
  {
   "cell_type": "code",
   "execution_count": 16,
   "id": "bcffc3ae",
   "metadata": {
    "colab": {
     "base_uri": "https://localhost:8080/",
     "height": 237
    },
    "executionInfo": {
     "elapsed": 23,
     "status": "ok",
     "timestamp": 1676761175521,
     "user": {
      "displayName": "Sunny Panchal",
      "userId": "07638778127504651017"
     },
     "user_tz": 300
    },
    "id": "bcffc3ae",
    "outputId": "cc46f2bc-6611-45cd-d5fb-a917330079f4"
   },
   "outputs": [
    {
     "data": {
      "text/html": [
       "<div>\n",
       "<style scoped>\n",
       "    .dataframe tbody tr th:only-of-type {\n",
       "        vertical-align: middle;\n",
       "    }\n",
       "\n",
       "    .dataframe tbody tr th {\n",
       "        vertical-align: top;\n",
       "    }\n",
       "\n",
       "    .dataframe thead th {\n",
       "        text-align: right;\n",
       "    }\n",
       "</style>\n",
       "<table border=\"1\" class=\"dataframe\">\n",
       "  <thead>\n",
       "    <tr style=\"text-align: right;\">\n",
       "      <th></th>\n",
       "      <th>mean</th>\n",
       "      <th>50%</th>\n",
       "    </tr>\n",
       "  </thead>\n",
       "  <tbody>\n",
       "    <tr>\n",
       "      <th>subtotal</th>\n",
       "      <td>2682.331402</td>\n",
       "      <td>2200.0</td>\n",
       "    </tr>\n",
       "    <tr>\n",
       "      <th>min_item_price</th>\n",
       "      <td>686.218470</td>\n",
       "      <td>595.0</td>\n",
       "    </tr>\n",
       "    <tr>\n",
       "      <th>max_item_price</th>\n",
       "      <td>1159.588630</td>\n",
       "      <td>1095.0</td>\n",
       "    </tr>\n",
       "    <tr>\n",
       "      <th>total_onshift_partners</th>\n",
       "      <td>44.808093</td>\n",
       "      <td>37.0</td>\n",
       "    </tr>\n",
       "    <tr>\n",
       "      <th>total_busy_partners</th>\n",
       "      <td>41.739747</td>\n",
       "      <td>34.0</td>\n",
       "    </tr>\n",
       "    <tr>\n",
       "      <th>total_outstanding_orders</th>\n",
       "      <td>58.050065</td>\n",
       "      <td>41.0</td>\n",
       "    </tr>\n",
       "  </tbody>\n",
       "</table>\n",
       "</div>"
      ],
      "text/plain": [
       "                                 mean     50%\n",
       "subtotal                  2682.331402  2200.0\n",
       "min_item_price             686.218470   595.0\n",
       "max_item_price            1159.588630  1095.0\n",
       "total_onshift_partners      44.808093    37.0\n",
       "total_busy_partners         41.739747    34.0\n",
       "total_outstanding_orders    58.050065    41.0"
      ]
     },
     "execution_count": 16,
     "metadata": {},
     "output_type": "execute_result"
    }
   ],
   "source": [
    "df.describe().loc[[\"mean\",\"50%\"]].T.loc[numerical_features]"
   ]
  },
  {
   "cell_type": "code",
   "execution_count": null,
   "id": "b7lNOIWEuWeu",
   "metadata": {
    "executionInfo": {
     "elapsed": 23,
     "status": "ok",
     "timestamp": 1676761175522,
     "user": {
      "displayName": "Sunny Panchal",
      "userId": "07638778127504651017"
     },
     "user_tz": 300
    },
    "id": "b7lNOIWEuWeu"
   },
   "outputs": [],
   "source": []
  },
  {
   "cell_type": "code",
   "execution_count": 17,
   "id": "p57klbbguXav",
   "metadata": {
    "colab": {
     "base_uri": "https://localhost:8080/",
     "height": 488
    },
    "executionInfo": {
     "elapsed": 18,
     "status": "ok",
     "timestamp": 1676761176762,
     "user": {
      "displayName": "Sunny Panchal",
      "userId": "07638778127504651017"
     },
     "user_tz": 300
    },
    "id": "p57klbbguXav",
    "outputId": "5016999d-1327-48b6-ff90-6ad03b85f9c9"
   },
   "outputs": [
    {
     "data": {
      "text/html": [
       "<div>\n",
       "<style scoped>\n",
       "    .dataframe tbody tr th:only-of-type {\n",
       "        vertical-align: middle;\n",
       "    }\n",
       "\n",
       "    .dataframe tbody tr th {\n",
       "        vertical-align: top;\n",
       "    }\n",
       "\n",
       "    .dataframe thead th {\n",
       "        text-align: right;\n",
       "    }\n",
       "</style>\n",
       "<table border=\"1\" class=\"dataframe\">\n",
       "  <thead>\n",
       "    <tr style=\"text-align: right;\">\n",
       "      <th></th>\n",
       "      <th>Feature</th>\n",
       "      <th>Missing_values</th>\n",
       "      <th>Missing_values_percentage</th>\n",
       "    </tr>\n",
       "  </thead>\n",
       "  <tbody>\n",
       "    <tr>\n",
       "      <th>0</th>\n",
       "      <td>market_id</td>\n",
       "      <td>987</td>\n",
       "      <td>0.499929</td>\n",
       "    </tr>\n",
       "    <tr>\n",
       "      <th>1</th>\n",
       "      <td>created_at</td>\n",
       "      <td>0</td>\n",
       "      <td>0.000000</td>\n",
       "    </tr>\n",
       "    <tr>\n",
       "      <th>2</th>\n",
       "      <td>actual_delivery_time</td>\n",
       "      <td>7</td>\n",
       "      <td>0.003546</td>\n",
       "    </tr>\n",
       "    <tr>\n",
       "      <th>3</th>\n",
       "      <td>store_id</td>\n",
       "      <td>0</td>\n",
       "      <td>0.000000</td>\n",
       "    </tr>\n",
       "    <tr>\n",
       "      <th>4</th>\n",
       "      <td>store_primary_category</td>\n",
       "      <td>4760</td>\n",
       "      <td>2.411006</td>\n",
       "    </tr>\n",
       "    <tr>\n",
       "      <th>5</th>\n",
       "      <td>order_protocol</td>\n",
       "      <td>995</td>\n",
       "      <td>0.503981</td>\n",
       "    </tr>\n",
       "    <tr>\n",
       "      <th>6</th>\n",
       "      <td>total_items</td>\n",
       "      <td>0</td>\n",
       "      <td>0.000000</td>\n",
       "    </tr>\n",
       "    <tr>\n",
       "      <th>7</th>\n",
       "      <td>subtotal</td>\n",
       "      <td>0</td>\n",
       "      <td>0.000000</td>\n",
       "    </tr>\n",
       "    <tr>\n",
       "      <th>8</th>\n",
       "      <td>num_distinct_items</td>\n",
       "      <td>0</td>\n",
       "      <td>0.000000</td>\n",
       "    </tr>\n",
       "    <tr>\n",
       "      <th>9</th>\n",
       "      <td>min_item_price</td>\n",
       "      <td>0</td>\n",
       "      <td>0.000000</td>\n",
       "    </tr>\n",
       "    <tr>\n",
       "      <th>10</th>\n",
       "      <td>max_item_price</td>\n",
       "      <td>0</td>\n",
       "      <td>0.000000</td>\n",
       "    </tr>\n",
       "    <tr>\n",
       "      <th>11</th>\n",
       "      <td>total_onshift_partners</td>\n",
       "      <td>16262</td>\n",
       "      <td>8.236927</td>\n",
       "    </tr>\n",
       "    <tr>\n",
       "      <th>12</th>\n",
       "      <td>total_busy_partners</td>\n",
       "      <td>16262</td>\n",
       "      <td>8.236927</td>\n",
       "    </tr>\n",
       "    <tr>\n",
       "      <th>13</th>\n",
       "      <td>total_outstanding_orders</td>\n",
       "      <td>16262</td>\n",
       "      <td>8.236927</td>\n",
       "    </tr>\n",
       "  </tbody>\n",
       "</table>\n",
       "</div>"
      ],
      "text/plain": [
       "                     Feature  Missing_values  Missing_values_percentage\n",
       "0                  market_id             987                   0.499929\n",
       "1                 created_at               0                   0.000000\n",
       "2       actual_delivery_time               7                   0.003546\n",
       "3                   store_id               0                   0.000000\n",
       "4     store_primary_category            4760                   2.411006\n",
       "5             order_protocol             995                   0.503981\n",
       "6                total_items               0                   0.000000\n",
       "7                   subtotal               0                   0.000000\n",
       "8         num_distinct_items               0                   0.000000\n",
       "9             min_item_price               0                   0.000000\n",
       "10            max_item_price               0                   0.000000\n",
       "11    total_onshift_partners           16262                   8.236927\n",
       "12       total_busy_partners           16262                   8.236927\n",
       "13  total_outstanding_orders           16262                   8.236927"
      ]
     },
     "execution_count": 17,
     "metadata": {},
     "output_type": "execute_result"
    }
   ],
   "source": [
    "missing_values = df.isna().sum().reset_index()\n",
    "missing_values.columns = [\"Feature\", \"Missing_values\"]\n",
    "missing_values[\"Missing_values_percentage\"] = missing_values[\"Missing_values\"]/len(df) * 100\n",
    "missing_values\n"
   ]
  },
  {
   "cell_type": "code",
   "execution_count": null,
   "id": "g0TcwUmcuWZ0",
   "metadata": {
    "executionInfo": {
     "elapsed": 16,
     "status": "ok",
     "timestamp": 1676761176762,
     "user": {
      "displayName": "Sunny Panchal",
      "userId": "07638778127504651017"
     },
     "user_tz": 300
    },
    "id": "g0TcwUmcuWZ0"
   },
   "outputs": [],
   "source": []
  },
  {
   "cell_type": "markdown",
   "id": "n92MHpPduGJe",
   "metadata": {
    "id": "n92MHpPduGJe"
   },
   "source": [
    "## Distribution of final price of the orders."
   ]
  },
  {
   "cell_type": "code",
   "execution_count": 18,
   "id": "S6fuWZGcsPSw",
   "metadata": {
    "colab": {
     "base_uri": "https://localhost:8080/",
     "height": 352
    },
    "executionInfo": {
     "elapsed": 24,
     "status": "ok",
     "timestamp": 1676761178867,
     "user": {
      "displayName": "Sunny Panchal",
      "userId": "07638778127504651017"
     },
     "user_tz": 300
    },
    "id": "S6fuWZGcsPSw",
    "outputId": "588048bd-681a-426c-d957-e8e3fa8e447d"
   },
   "outputs": [
    {
     "data": {
      "text/plain": [
       "<AxesSubplot:xlabel='subtotal', ylabel='Density'>"
      ]
     },
     "execution_count": 18,
     "metadata": {},
     "output_type": "execute_result"
    },
    {
     "data": {
      "image/png": "[encoded data removed]",
      "text/plain": [
       "<Figure size 1080x360 with 2 Axes>"
      ]
     },
     "metadata": {
      "needs_background": "light"
     },
     "output_type": "display_data"
    }
   ],
   "source": [
    "plt.figure(figsize=(15,5))\n",
    "plt.subplot(1,2,1)\n",
    "sns.histplot(df[\"subtotal\"],bins=30)\n",
    "plt.subplot(1,2,2)\n",
    "sns.distplot(df[\"subtotal\"])\n"
   ]
  },
  {
   "cell_type": "code",
   "execution_count": 19,
   "id": "z7-CkBVVsPQb",
   "metadata": {
    "colab": {
     "base_uri": "https://localhost:8080/",
     "height": 297
    },
    "executionInfo": {
     "elapsed": 48,
     "status": "ok",
     "timestamp": 1676761179911,
     "user": {
      "displayName": "Sunny Panchal",
      "userId": "07638778127504651017"
     },
     "user_tz": 300
    },
    "id": "z7-CkBVVsPQb",
    "outputId": "f0583f9e-4c06-45fc-e936-838a4b34fb9f"
   },
   "outputs": [
    {
     "data": {
      "text/plain": [
       "<AxesSubplot:xlabel='subtotal'>"
      ]
     },
     "execution_count": 19,
     "metadata": {},
     "output_type": "execute_result"
    },
    {
     "data": {
      "image/png": "[encoded data removed]",
      "text/plain": [
       "<Figure size 432x288 with 1 Axes>"
      ]
     },
     "metadata": {
      "needs_background": "light"
     },
     "output_type": "display_data"
    }
   ],
   "source": [
    "sns.boxplot(df[\"subtotal\"])"
   ]
  },
  {
   "cell_type": "code",
   "execution_count": null,
   "id": "hnlaLBbIsPJY",
   "metadata": {
    "executionInfo": {
     "elapsed": 44,
     "status": "ok",
     "timestamp": 1676761179912,
     "user": {
      "displayName": "Sunny Panchal",
      "userId": "07638778127504651017"
     },
     "user_tz": 300
    },
    "id": "hnlaLBbIsPJY"
   },
   "outputs": [],
   "source": []
  },
  {
   "cell_type": "code",
   "execution_count": null,
   "id": "SLGBQ0jLwh8F",
   "metadata": {
    "executionInfo": {
     "elapsed": 43,
     "status": "ok",
     "timestamp": 1676761179913,
     "user": {
      "displayName": "Sunny Panchal",
      "userId": "07638778127504651017"
     },
     "user_tz": 300
    },
    "id": "SLGBQ0jLwh8F"
   },
   "outputs": [],
   "source": []
  },
  {
   "cell_type": "markdown",
   "id": "4aP6O3iXx9vg",
   "metadata": {
    "id": "4aP6O3iXx9vg"
   },
   "source": [
    "# Creating the target column:\n",
    "###  time taken in each delivery from order timestamp (created_at) and delivery timestamp (actual_delivery_time)\n",
    "\n",
    "      delivery_time = actual_delivery_time - created_at\n",
    "      in minutes "
   ]
  },
  {
   "cell_type": "code",
   "execution_count": null,
   "id": "qvY62tMYx9iy",
   "metadata": {
    "executionInfo": {
     "elapsed": 3,
     "status": "ok",
     "timestamp": 1676761182064,
     "user": {
      "displayName": "Sunny Panchal",
      "userId": "07638778127504651017"
     },
     "user_tz": 300
    },
    "id": "qvY62tMYx9iy"
   },
   "outputs": [],
   "source": []
  },
  {
   "cell_type": "code",
   "execution_count": 20,
   "id": "LRNirvSZwh5K",
   "metadata": {
    "executionInfo": {
     "elapsed": 2,
     "status": "ok",
     "timestamp": 1676761182646,
     "user": {
      "displayName": "Sunny Panchal",
      "userId": "07638778127504651017"
     },
     "user_tz": 300
    },
    "id": "LRNirvSZwh5K"
   },
   "outputs": [],
   "source": [
    " df[\"delivery_time\"] = (df[\"actual_delivery_time\"]-df[\"created_at\"])/ pd.Timedelta(minutes=1)"
   ]
  },
  {
   "cell_type": "code",
   "execution_count": 21,
   "id": "c5W5HgoCwh2Y",
   "metadata": {
    "colab": {
     "base_uri": "https://localhost:8080/",
     "height": 300
    },
    "executionInfo": {
     "elapsed": 20,
     "status": "ok",
     "timestamp": 1676761183203,
     "user": {
      "displayName": "Sunny Panchal",
      "userId": "07638778127504651017"
     },
     "user_tz": 300
    },
    "id": "c5W5HgoCwh2Y",
    "outputId": "116f0998-d6ad-4ff7-f8db-0a916af63471"
   },
   "outputs": [
    {
     "data": {
      "text/html": [
       "<div>\n",
       "<style scoped>\n",
       "    .dataframe tbody tr th:only-of-type {\n",
       "        vertical-align: middle;\n",
       "    }\n",
       "\n",
       "    .dataframe tbody tr th {\n",
       "        vertical-align: top;\n",
       "    }\n",
       "\n",
       "    .dataframe thead th {\n",
       "        text-align: right;\n",
       "    }\n",
       "</style>\n",
       "<table border=\"1\" class=\"dataframe\">\n",
       "  <thead>\n",
       "    <tr style=\"text-align: right;\">\n",
       "      <th></th>\n",
       "      <th>index</th>\n",
       "      <th>delivery_time</th>\n",
       "    </tr>\n",
       "  </thead>\n",
       "  <tbody>\n",
       "    <tr>\n",
       "      <th>0</th>\n",
       "      <td>count</td>\n",
       "      <td>197421.000000</td>\n",
       "    </tr>\n",
       "    <tr>\n",
       "      <th>1</th>\n",
       "      <td>mean</td>\n",
       "      <td>48.470956</td>\n",
       "    </tr>\n",
       "    <tr>\n",
       "      <th>2</th>\n",
       "      <td>std</td>\n",
       "      <td>320.493482</td>\n",
       "    </tr>\n",
       "    <tr>\n",
       "      <th>3</th>\n",
       "      <td>min</td>\n",
       "      <td>1.683333</td>\n",
       "    </tr>\n",
       "    <tr>\n",
       "      <th>4</th>\n",
       "      <td>25%</td>\n",
       "      <td>35.066667</td>\n",
       "    </tr>\n",
       "    <tr>\n",
       "      <th>5</th>\n",
       "      <td>50%</td>\n",
       "      <td>44.333333</td>\n",
       "    </tr>\n",
       "    <tr>\n",
       "      <th>6</th>\n",
       "      <td>75%</td>\n",
       "      <td>56.350000</td>\n",
       "    </tr>\n",
       "    <tr>\n",
       "      <th>7</th>\n",
       "      <td>max</td>\n",
       "      <td>141947.650000</td>\n",
       "    </tr>\n",
       "  </tbody>\n",
       "</table>\n",
       "</div>"
      ],
      "text/plain": [
       "   index  delivery_time\n",
       "0  count  197421.000000\n",
       "1   mean      48.470956\n",
       "2    std     320.493482\n",
       "3    min       1.683333\n",
       "4    25%      35.066667\n",
       "5    50%      44.333333\n",
       "6    75%      56.350000\n",
       "7    max  141947.650000"
      ]
     },
     "execution_count": 21,
     "metadata": {},
     "output_type": "execute_result"
    }
   ],
   "source": [
    "df[\"delivery_time\"].describe().reset_index()"
   ]
  },
  {
   "cell_type": "code",
   "execution_count": 22,
   "id": "FcLaBPJLy27I",
   "metadata": {
    "colab": {
     "base_uri": "https://localhost:8080/"
    },
    "executionInfo": {
     "elapsed": 18,
     "status": "ok",
     "timestamp": 1676761183203,
     "user": {
      "displayName": "Sunny Panchal",
      "userId": "07638778127504651017"
     },
     "user_tz": 300
    },
    "id": "FcLaBPJLy27I",
    "outputId": "2ab73950-c438-4aca-92dd-7b173f481692"
   },
   "outputs": [
    {
     "data": {
      "text/plain": [
       "0.0100     19.200000\n",
       "0.1000     28.316667\n",
       "0.2500     35.066667\n",
       "0.5000     44.333333\n",
       "0.7500     56.350000\n",
       "0.9000     70.583333\n",
       "0.9900    107.913333\n",
       "0.9950    122.215000\n",
       "0.9990    165.581000\n",
       "0.9995    201.086167\n",
       "Name: delivery_time, dtype: float64"
      ]
     },
     "execution_count": 22,
     "metadata": {},
     "output_type": "execute_result"
    }
   ],
   "source": [
    "df[\"delivery_time\"].quantile([0.01,0.10,0.25,0.50,0.75,0.90,0.99,0.995,0.999,0.9995])"
   ]
  },
  {
   "cell_type": "code",
   "execution_count": 23,
   "id": "209fad1c",
   "metadata": {},
   "outputs": [
    {
     "data": {
      "text/plain": [
       "(197428, 15)"
      ]
     },
     "execution_count": 23,
     "metadata": {},
     "output_type": "execute_result"
    }
   ],
   "source": [
    "df.shape"
   ]
  },
  {
   "cell_type": "code",
   "execution_count": 24,
   "id": "cfe5309e",
   "metadata": {
    "executionInfo": {
     "elapsed": 4,
     "status": "ok",
     "timestamp": 1676761184740,
     "user": {
      "displayName": "Sunny Panchal",
      "userId": "07638778127504651017"
     },
     "user_tz": 300
    },
    "id": "cfe5309e"
   },
   "outputs": [],
   "source": [
    "# considering delivery time > 165 minutes as a complete outlier. hence removing those values from the data. \n",
    "df = df.loc[~(df[\"delivery_time\"]>df[\"delivery_time\"].quantile(0.999))]\n",
    "\n",
    "# further outlier treatment to be done later.\n"
   ]
  },
  {
   "cell_type": "code",
   "execution_count": 25,
   "id": "Q2tbelv3zAO7",
   "metadata": {
    "executionInfo": {
     "elapsed": 25,
     "status": "ok",
     "timestamp": 1676761187108,
     "user": {
      "displayName": "Sunny Panchal",
      "userId": "07638778127504651017"
     },
     "user_tz": 300
    },
    "id": "Q2tbelv3zAO7"
   },
   "outputs": [
    {
     "data": {
      "text/plain": [
       "(197230, 15)"
      ]
     },
     "execution_count": 25,
     "metadata": {},
     "output_type": "execute_result"
    }
   ],
   "source": [
    "df.shape"
   ]
  },
  {
   "cell_type": "markdown",
   "id": "a2DqIOg9DSRr",
   "metadata": {
    "id": "a2DqIOg9DSRr"
   },
   "source": [
    "### Missing value treatment for \"order_protocol\":"
   ]
  },
  {
   "cell_type": "code",
   "execution_count": 26,
   "id": "52b32825",
   "metadata": {
    "colab": {
     "base_uri": "https://localhost:8080/"
    },
    "executionInfo": {
     "elapsed": 25,
     "status": "ok",
     "timestamp": 1676761187110,
     "user": {
      "displayName": "Sunny Panchal",
      "userId": "07638778127504651017"
     },
     "user_tz": 300
    },
    "id": "52b32825",
    "outputId": "0e14e221-5f19-400b-a0c6-32bb9eef7a9b"
   },
   "outputs": [
    {
     "data": {
      "text/plain": [
       "array([ 1.,  2.,  3.,  4., nan,  5.,  6.,  7.])"
      ]
     },
     "execution_count": 26,
     "metadata": {},
     "output_type": "execute_result"
    }
   ],
   "source": [
    "# order_protocol : integer code value for order protocol(how the order was placed ie: through porter, call to restaurant, pre booked, third part etc)\n",
    "df[\"order_protocol\"].unique()"
   ]
  },
  {
   "cell_type": "code",
   "execution_count": 27,
   "id": "vltIjwOvsPYT",
   "metadata": {
    "executionInfo": {
     "elapsed": 23,
     "status": "ok",
     "timestamp": 1676761188775,
     "user": {
      "displayName": "Sunny Panchal",
      "userId": "07638778127504651017"
     },
     "user_tz": 300
    },
    "id": "vltIjwOvsPYT"
   },
   "outputs": [],
   "source": [
    "df[\"order_protocol\"] = df[\"order_protocol\"].astype('object')"
   ]
  },
  {
   "cell_type": "code",
   "execution_count": 28,
   "id": "qjpb1_5PsPVd",
   "metadata": {
    "executionInfo": {
     "elapsed": 23,
     "status": "ok",
     "timestamp": 1676761188775,
     "user": {
      "displayName": "Sunny Panchal",
      "userId": "07638778127504651017"
     },
     "user_tz": 300
    },
    "id": "qjpb1_5PsPVd"
   },
   "outputs": [],
   "source": [
    "\n",
    "# filling NaN category store primary category with Other. \n",
    "df.order_protocol = df.order_protocol.fillna(\"Other\")\n"
   ]
  },
  {
   "cell_type": "code",
   "execution_count": 29,
   "id": "t1IHwSVXDBA2",
   "metadata": {
    "colab": {
     "base_uri": "https://localhost:8080/"
    },
    "executionInfo": {
     "elapsed": 23,
     "status": "ok",
     "timestamp": 1676761188775,
     "user": {
      "displayName": "Sunny Panchal",
      "userId": "07638778127504651017"
     },
     "user_tz": 300
    },
    "id": "t1IHwSVXDBA2",
    "outputId": "6a8c707f-3491-4240-f237-aeda9bb49888"
   },
   "outputs": [
    {
     "data": {
      "text/plain": [
       "array([1.0, 2.0, 3.0, 4.0, 'Other', 5.0, 6.0, 7.0], dtype=object)"
      ]
     },
     "execution_count": 29,
     "metadata": {},
     "output_type": "execute_result"
    }
   ],
   "source": [
    "df[\"order_protocol\"].unique()"
   ]
  },
  {
   "cell_type": "code",
   "execution_count": 30,
   "id": "IwNKtna61O8R",
   "metadata": {
    "colab": {
     "base_uri": "https://localhost:8080/",
     "height": 298
    },
    "executionInfo": {
     "elapsed": 23,
     "status": "ok",
     "timestamp": 1676761188776,
     "user": {
      "displayName": "Sunny Panchal",
      "userId": "07638778127504651017"
     },
     "user_tz": 300
    },
    "id": "IwNKtna61O8R",
    "outputId": "9467ec8b-bfef-4d68-a90d-44e970e6fdca"
   },
   "outputs": [
    {
     "data": {
      "image/png": "[encoded data removed]",
      "text/plain": [
       "<Figure size 432x288 with 1 Axes>"
      ]
     },
     "metadata": {
      "needs_background": "light"
     },
     "output_type": "display_data"
    }
   ],
   "source": [
    "\n",
    "sns.boxplot(x = df[\"order_protocol\"],\n",
    "            y = df[\"delivery_time\"])\n",
    "plt.xticks(rotation = 90)\n",
    "plt.show()"
   ]
  },
  {
   "cell_type": "code",
   "execution_count": 31,
   "id": "HKxbslWbDE7V",
   "metadata": {
    "colab": {
     "base_uri": "https://localhost:8080/",
     "height": 331
    },
    "executionInfo": {
     "elapsed": 21,
     "status": "ok",
     "timestamp": 1676761188776,
     "user": {
      "displayName": "Sunny Panchal",
      "userId": "07638778127504651017"
     },
     "user_tz": 300
    },
    "id": "HKxbslWbDE7V",
    "outputId": "a160ff2a-f70d-49d2-90da-43abe598572e"
   },
   "outputs": [
    {
     "data": {
      "text/html": [
       "<div>\n",
       "<style scoped>\n",
       "    .dataframe tbody tr th:only-of-type {\n",
       "        vertical-align: middle;\n",
       "    }\n",
       "\n",
       "    .dataframe tbody tr th {\n",
       "        vertical-align: top;\n",
       "    }\n",
       "\n",
       "    .dataframe thead th {\n",
       "        text-align: right;\n",
       "    }\n",
       "</style>\n",
       "<table border=\"1\" class=\"dataframe\">\n",
       "  <thead>\n",
       "    <tr style=\"text-align: right;\">\n",
       "      <th></th>\n",
       "      <th>count</th>\n",
       "      <th>mean</th>\n",
       "      <th>std</th>\n",
       "      <th>min</th>\n",
       "      <th>25%</th>\n",
       "      <th>50%</th>\n",
       "      <th>75%</th>\n",
       "      <th>max</th>\n",
       "    </tr>\n",
       "    <tr>\n",
       "      <th>order_protocol</th>\n",
       "      <th></th>\n",
       "      <th></th>\n",
       "      <th></th>\n",
       "      <th></th>\n",
       "      <th></th>\n",
       "      <th></th>\n",
       "      <th></th>\n",
       "      <th></th>\n",
       "    </tr>\n",
       "  </thead>\n",
       "  <tbody>\n",
       "    <tr>\n",
       "      <th>1.0</th>\n",
       "      <td>54671.0</td>\n",
       "      <td>49.748925</td>\n",
       "      <td>18.452947</td>\n",
       "      <td>6.433333</td>\n",
       "      <td>36.766667</td>\n",
       "      <td>46.483333</td>\n",
       "      <td>59.166667</td>\n",
       "      <td>164.900000</td>\n",
       "    </tr>\n",
       "    <tr>\n",
       "      <th>2.0</th>\n",
       "      <td>24018.0</td>\n",
       "      <td>47.106471</td>\n",
       "      <td>17.560518</td>\n",
       "      <td>1.683333</td>\n",
       "      <td>35.016667</td>\n",
       "      <td>44.100000</td>\n",
       "      <td>55.716667</td>\n",
       "      <td>164.200000</td>\n",
       "    </tr>\n",
       "    <tr>\n",
       "      <th>3.0</th>\n",
       "      <td>53154.0</td>\n",
       "      <td>46.690563</td>\n",
       "      <td>16.844630</td>\n",
       "      <td>5.416667</td>\n",
       "      <td>34.983333</td>\n",
       "      <td>43.750000</td>\n",
       "      <td>55.033333</td>\n",
       "      <td>164.650000</td>\n",
       "    </tr>\n",
       "    <tr>\n",
       "      <th>4.0</th>\n",
       "      <td>19325.0</td>\n",
       "      <td>48.144899</td>\n",
       "      <td>20.203254</td>\n",
       "      <td>8.600000</td>\n",
       "      <td>34.100000</td>\n",
       "      <td>44.250000</td>\n",
       "      <td>57.250000</td>\n",
       "      <td>165.233333</td>\n",
       "    </tr>\n",
       "    <tr>\n",
       "      <th>5.0</th>\n",
       "      <td>44252.0</td>\n",
       "      <td>45.409249</td>\n",
       "      <td>17.123764</td>\n",
       "      <td>4.950000</td>\n",
       "      <td>33.550000</td>\n",
       "      <td>42.416667</td>\n",
       "      <td>53.900000</td>\n",
       "      <td>164.966667</td>\n",
       "    </tr>\n",
       "    <tr>\n",
       "      <th>6.0</th>\n",
       "      <td>790.0</td>\n",
       "      <td>59.679388</td>\n",
       "      <td>21.491241</td>\n",
       "      <td>18.316667</td>\n",
       "      <td>43.800000</td>\n",
       "      <td>56.616667</td>\n",
       "      <td>71.887500</td>\n",
       "      <td>160.016667</td>\n",
       "    </tr>\n",
       "    <tr>\n",
       "      <th>7.0</th>\n",
       "      <td>19.0</td>\n",
       "      <td>41.370175</td>\n",
       "      <td>13.797148</td>\n",
       "      <td>18.050000</td>\n",
       "      <td>33.433333</td>\n",
       "      <td>36.166667</td>\n",
       "      <td>47.166667</td>\n",
       "      <td>74.083333</td>\n",
       "    </tr>\n",
       "    <tr>\n",
       "      <th>Other</th>\n",
       "      <td>994.0</td>\n",
       "      <td>46.712056</td>\n",
       "      <td>17.647980</td>\n",
       "      <td>12.916667</td>\n",
       "      <td>34.650000</td>\n",
       "      <td>43.500000</td>\n",
       "      <td>54.966667</td>\n",
       "      <td>165.416667</td>\n",
       "    </tr>\n",
       "  </tbody>\n",
       "</table>\n",
       "</div>"
      ],
      "text/plain": [
       "                  count       mean        std        min        25%        50%        75%         max\n",
       "order_protocol                                                                                       \n",
       "1.0             54671.0  49.748925  18.452947   6.433333  36.766667  46.483333  59.166667  164.900000\n",
       "2.0             24018.0  47.106471  17.560518   1.683333  35.016667  44.100000  55.716667  164.200000\n",
       "3.0             53154.0  46.690563  16.844630   5.416667  34.983333  43.750000  55.033333  164.650000\n",
       "4.0             19325.0  48.144899  20.203254   8.600000  34.100000  44.250000  57.250000  165.233333\n",
       "5.0             44252.0  45.409249  17.123764   4.950000  33.550000  42.416667  53.900000  164.966667\n",
       "6.0               790.0  59.679388  21.491241  18.316667  43.800000  56.616667  71.887500  160.016667\n",
       "7.0                19.0  41.370175  13.797148  18.050000  33.433333  36.166667  47.166667   74.083333\n",
       "Other             994.0  46.712056  17.647980  12.916667  34.650000  43.500000  54.966667  165.416667"
      ]
     },
     "execution_count": 31,
     "metadata": {},
     "output_type": "execute_result"
    }
   ],
   "source": [
    "df.groupby([\"order_protocol\"]).describe()[\"delivery_time\"]"
   ]
  },
  {
   "cell_type": "code",
   "execution_count": null,
   "id": "bCtHIFcADV5h",
   "metadata": {
    "executionInfo": {
     "elapsed": 20,
     "status": "ok",
     "timestamp": 1676761188776,
     "user": {
      "displayName": "Sunny Panchal",
      "userId": "07638778127504651017"
     },
     "user_tz": 300
    },
    "id": "bCtHIFcADV5h"
   },
   "outputs": [],
   "source": []
  },
  {
   "cell_type": "code",
   "execution_count": null,
   "id": "dTmVjnFsDV_I",
   "metadata": {
    "executionInfo": {
     "elapsed": 20,
     "status": "ok",
     "timestamp": 1676761188776,
     "user": {
      "displayName": "Sunny Panchal",
      "userId": "07638778127504651017"
     },
     "user_tz": 300
    },
    "id": "dTmVjnFsDV_I"
   },
   "outputs": [],
   "source": []
  },
  {
   "cell_type": "code",
   "execution_count": 32,
   "id": "ka2HFWvwDV8Z",
   "metadata": {
    "executionInfo": {
     "elapsed": 34,
     "status": "ok",
     "timestamp": 1676761190231,
     "user": {
      "displayName": "Sunny Panchal",
      "userId": "07638778127504651017"
     },
     "user_tz": 300
    },
    "id": "ka2HFWvwDV8Z"
   },
   "outputs": [
    {
     "data": {
      "text/plain": [
       "(197230, 15)"
      ]
     },
     "execution_count": 32,
     "metadata": {},
     "output_type": "execute_result"
    }
   ],
   "source": [
    "df.shape"
   ]
  },
  {
   "cell_type": "code",
   "execution_count": 33,
   "id": "qsHhigDE1adb",
   "metadata": {
    "executionInfo": {
     "elapsed": 34,
     "status": "ok",
     "timestamp": 1676761190232,
     "user": {
      "displayName": "Sunny Panchal",
      "userId": "07638778127504651017"
     },
     "user_tz": 300
    },
    "id": "qsHhigDE1adb"
   },
   "outputs": [],
   "source": [
    "df = df[~df[\"actual_delivery_time\"].isna()]"
   ]
  },
  {
   "cell_type": "code",
   "execution_count": 34,
   "id": "2983e212",
   "metadata": {},
   "outputs": [
    {
     "data": {
      "text/plain": [
       "(197223, 15)"
      ]
     },
     "execution_count": 34,
     "metadata": {},
     "output_type": "execute_result"
    }
   ],
   "source": [
    "df.shape"
   ]
  },
  {
   "cell_type": "code",
   "execution_count": 35,
   "id": "DniUPfq71agJ",
   "metadata": {
    "colab": {
     "base_uri": "https://localhost:8080/",
     "height": 519
    },
    "executionInfo": {
     "elapsed": 34,
     "status": "ok",
     "timestamp": 1676761190232,
     "user": {
      "displayName": "Sunny Panchal",
      "userId": "07638778127504651017"
     },
     "user_tz": 300
    },
    "id": "DniUPfq71agJ",
    "outputId": "53b6b0bf-6cfe-456d-cc33-bd04cc21117e"
   },
   "outputs": [
    {
     "data": {
      "text/html": [
       "<div>\n",
       "<style scoped>\n",
       "    .dataframe tbody tr th:only-of-type {\n",
       "        vertical-align: middle;\n",
       "    }\n",
       "\n",
       "    .dataframe tbody tr th {\n",
       "        vertical-align: top;\n",
       "    }\n",
       "\n",
       "    .dataframe thead th {\n",
       "        text-align: right;\n",
       "    }\n",
       "</style>\n",
       "<table border=\"1\" class=\"dataframe\">\n",
       "  <thead>\n",
       "    <tr style=\"text-align: right;\">\n",
       "      <th></th>\n",
       "      <th>Feature</th>\n",
       "      <th>Missing_values</th>\n",
       "      <th>Missing_values_percentage</th>\n",
       "    </tr>\n",
       "  </thead>\n",
       "  <tbody>\n",
       "    <tr>\n",
       "      <th>0</th>\n",
       "      <td>market_id</td>\n",
       "      <td>986</td>\n",
       "      <td>0.499942</td>\n",
       "    </tr>\n",
       "    <tr>\n",
       "      <th>1</th>\n",
       "      <td>created_at</td>\n",
       "      <td>0</td>\n",
       "      <td>0.000000</td>\n",
       "    </tr>\n",
       "    <tr>\n",
       "      <th>2</th>\n",
       "      <td>actual_delivery_time</td>\n",
       "      <td>0</td>\n",
       "      <td>0.000000</td>\n",
       "    </tr>\n",
       "    <tr>\n",
       "      <th>3</th>\n",
       "      <td>store_id</td>\n",
       "      <td>0</td>\n",
       "      <td>0.000000</td>\n",
       "    </tr>\n",
       "    <tr>\n",
       "      <th>4</th>\n",
       "      <td>store_primary_category</td>\n",
       "      <td>4756</td>\n",
       "      <td>2.411483</td>\n",
       "    </tr>\n",
       "    <tr>\n",
       "      <th>5</th>\n",
       "      <td>order_protocol</td>\n",
       "      <td>0</td>\n",
       "      <td>0.000000</td>\n",
       "    </tr>\n",
       "    <tr>\n",
       "      <th>6</th>\n",
       "      <td>total_items</td>\n",
       "      <td>0</td>\n",
       "      <td>0.000000</td>\n",
       "    </tr>\n",
       "    <tr>\n",
       "      <th>7</th>\n",
       "      <td>subtotal</td>\n",
       "      <td>0</td>\n",
       "      <td>0.000000</td>\n",
       "    </tr>\n",
       "    <tr>\n",
       "      <th>8</th>\n",
       "      <td>num_distinct_items</td>\n",
       "      <td>0</td>\n",
       "      <td>0.000000</td>\n",
       "    </tr>\n",
       "    <tr>\n",
       "      <th>9</th>\n",
       "      <td>min_item_price</td>\n",
       "      <td>0</td>\n",
       "      <td>0.000000</td>\n",
       "    </tr>\n",
       "    <tr>\n",
       "      <th>10</th>\n",
       "      <td>max_item_price</td>\n",
       "      <td>0</td>\n",
       "      <td>0.000000</td>\n",
       "    </tr>\n",
       "    <tr>\n",
       "      <th>11</th>\n",
       "      <td>total_onshift_partners</td>\n",
       "      <td>16245</td>\n",
       "      <td>8.236869</td>\n",
       "    </tr>\n",
       "    <tr>\n",
       "      <th>12</th>\n",
       "      <td>total_busy_partners</td>\n",
       "      <td>16245</td>\n",
       "      <td>8.236869</td>\n",
       "    </tr>\n",
       "    <tr>\n",
       "      <th>13</th>\n",
       "      <td>total_outstanding_orders</td>\n",
       "      <td>16245</td>\n",
       "      <td>8.236869</td>\n",
       "    </tr>\n",
       "    <tr>\n",
       "      <th>14</th>\n",
       "      <td>delivery_time</td>\n",
       "      <td>0</td>\n",
       "      <td>0.000000</td>\n",
       "    </tr>\n",
       "  </tbody>\n",
       "</table>\n",
       "</div>"
      ],
      "text/plain": [
       "                     Feature  Missing_values  Missing_values_percentage\n",
       "0                  market_id             986                   0.499942\n",
       "1                 created_at               0                   0.000000\n",
       "2       actual_delivery_time               0                   0.000000\n",
       "3                   store_id               0                   0.000000\n",
       "4     store_primary_category            4756                   2.411483\n",
       "5             order_protocol               0                   0.000000\n",
       "6                total_items               0                   0.000000\n",
       "7                   subtotal               0                   0.000000\n",
       "8         num_distinct_items               0                   0.000000\n",
       "9             min_item_price               0                   0.000000\n",
       "10            max_item_price               0                   0.000000\n",
       "11    total_onshift_partners           16245                   8.236869\n",
       "12       total_busy_partners           16245                   8.236869\n",
       "13  total_outstanding_orders           16245                   8.236869\n",
       "14             delivery_time               0                   0.000000"
      ]
     },
     "execution_count": 35,
     "metadata": {},
     "output_type": "execute_result"
    }
   ],
   "source": [
    "missing_values = df.isna().sum().reset_index()\n",
    "missing_values.columns = [\"Feature\", \"Missing_values\"]\n",
    "missing_values[\"Missing_values_percentage\"] = missing_values[\"Missing_values\"]/len(df) * 100\n",
    "missing_values\n"
   ]
  },
  {
   "cell_type": "code",
   "execution_count": 36,
   "id": "gT4I2Zi01akF",
   "metadata": {
    "executionInfo": {
     "elapsed": 34,
     "status": "ok",
     "timestamp": 1676761190233,
     "user": {
      "displayName": "Sunny Panchal",
      "userId": "07638778127504651017"
     },
     "user_tz": 300
    },
    "id": "gT4I2Zi01akF"
   },
   "outputs": [],
   "source": [
    "# observing time series of Delivery_time : for seasonality and patern"
   ]
  },
  {
   "cell_type": "code",
   "execution_count": 37,
   "id": "aV7l-lQU2MVr",
   "metadata": {
    "colab": {
     "base_uri": "https://localhost:8080/",
     "height": 255
    },
    "executionInfo": {
     "elapsed": 33,
     "status": "ok",
     "timestamp": 1676761190233,
     "user": {
      "displayName": "Sunny Panchal",
      "userId": "07638778127504651017"
     },
     "user_tz": 300
    },
    "id": "aV7l-lQU2MVr",
    "outputId": "bd2c0744-e3ae-4c24-f205-069943534de1"
   },
   "outputs": [
    {
     "data": {
      "text/plain": [
       "<AxesSubplot:xlabel='created_at'>"
      ]
     },
     "execution_count": 37,
     "metadata": {},
     "output_type": "execute_result"
    },
    {
     "data": {
      "image/png": "[encoded data removed]",
      "text/plain": [
       "<Figure size 1440x216 with 1 Axes>"
      ]
     },
     "metadata": {
      "needs_background": "light"
     },
     "output_type": "display_data"
    }
   ],
   "source": [
    "plt.rcParams['figure.figsize'] = (20, 3)\n",
    "\n",
    "df[[\"created_at\",\"delivery_time\"]].set_index(\"created_at\").head(5000).plot()"
   ]
  },
  {
   "cell_type": "code",
   "execution_count": 38,
   "id": "A3tyYFnq2MTC",
   "metadata": {
    "colab": {
     "base_uri": "https://localhost:8080/",
     "height": 255
    },
    "executionInfo": {
     "elapsed": 28,
     "status": "ok",
     "timestamp": 1676761190234,
     "user": {
      "displayName": "Sunny Panchal",
      "userId": "07638778127504651017"
     },
     "user_tz": 300
    },
    "id": "A3tyYFnq2MTC",
    "outputId": "a29ed94a-b473-473b-ad8b-1276182c6361"
   },
   "outputs": [
    {
     "data": {
      "text/plain": [
       "<AxesSubplot:xlabel='created_at'>"
      ]
     },
     "execution_count": 38,
     "metadata": {},
     "output_type": "execute_result"
    },
    {
     "data": {
      "image/png": "[encoded data removed]",
      "text/plain": [
       "<Figure size 1440x216 with 1 Axes>"
      ]
     },
     "metadata": {
      "needs_background": "light"
     },
     "output_type": "display_data"
    }
   ],
   "source": [
    "df[[\"created_at\",\"total_onshift_partners\"]].set_index(\"created_at\").head(5000).plot()"
   ]
  },
  {
   "cell_type": "code",
   "execution_count": 39,
   "id": "N-CjArId2MI3",
   "metadata": {
    "colab": {
     "base_uri": "https://localhost:8080/",
     "height": 255
    },
    "executionInfo": {
     "elapsed": 31,
     "status": "ok",
     "timestamp": 1676761191914,
     "user": {
      "displayName": "Sunny Panchal",
      "userId": "07638778127504651017"
     },
     "user_tz": 300
    },
    "id": "N-CjArId2MI3",
    "outputId": "756ff797-be50-4d8b-8487-9e531d40d4a5"
   },
   "outputs": [
    {
     "data": {
      "text/plain": [
       "<AxesSubplot:xlabel='created_at'>"
      ]
     },
     "execution_count": 39,
     "metadata": {},
     "output_type": "execute_result"
    },
    {
     "data": {
      "image/png": "[encoded data removed]",
      "text/plain": [
       "<Figure size 1440x216 with 1 Axes>"
      ]
     },
     "metadata": {
      "needs_background": "light"
     },
     "output_type": "display_data"
    }
   ],
   "source": [
    "df[[\"created_at\",\"total_busy_partners\"]].set_index(\"created_at\").head(5000).plot()"
   ]
  },
  {
   "cell_type": "code",
   "execution_count": 40,
   "id": "QiQVJmqJ3lAm",
   "metadata": {
    "colab": {
     "base_uri": "https://localhost:8080/",
     "height": 255
    },
    "executionInfo": {
     "elapsed": 29,
     "status": "ok",
     "timestamp": 1676761191915,
     "user": {
      "displayName": "Sunny Panchal",
      "userId": "07638778127504651017"
     },
     "user_tz": 300
    },
    "id": "QiQVJmqJ3lAm",
    "outputId": "4fd03209-5d5b-4959-c7e0-50c059b76651"
   },
   "outputs": [
    {
     "data": {
      "text/plain": [
       "<AxesSubplot:xlabel='created_at'>"
      ]
     },
     "execution_count": 40,
     "metadata": {},
     "output_type": "execute_result"
    },
    {
     "data": {
      "image/png": "[encoded data removed]",
      "text/plain": [
       "<Figure size 1440x216 with 1 Axes>"
      ]
     },
     "metadata": {
      "needs_background": "light"
     },
     "output_type": "display_data"
    }
   ],
   "source": [
    "df[[\"created_at\",\"total_outstanding_orders\"]].set_index(\"created_at\").head(5000).plot()"
   ]
  },
  {
   "cell_type": "code",
   "execution_count": null,
   "id": "BDmxQnVU3m_p",
   "metadata": {
    "executionInfo": {
     "elapsed": 23,
     "status": "ok",
     "timestamp": 1676761191915,
     "user": {
      "displayName": "Sunny Panchal",
      "userId": "07638778127504651017"
     },
     "user_tz": 300
    },
    "id": "BDmxQnVU3m_p"
   },
   "outputs": [],
   "source": []
  },
  {
   "cell_type": "code",
   "execution_count": null,
   "id": "QNeNet_r4BfG",
   "metadata": {
    "executionInfo": {
     "elapsed": 22,
     "status": "ok",
     "timestamp": 1676761191915,
     "user": {
      "displayName": "Sunny Panchal",
      "userId": "07638778127504651017"
     },
     "user_tz": 300
    },
    "id": "QNeNet_r4BfG"
   },
   "outputs": [],
   "source": []
  },
  {
   "cell_type": "markdown",
   "id": "nynL3lQf4Bt9",
   "metadata": {
    "id": "nynL3lQf4Bt9"
   },
   "source": [
    "## store_primary_category"
   ]
  },
  {
   "cell_type": "code",
   "execution_count": 41,
   "id": "n5RPMd6B3viK",
   "metadata": {
    "colab": {
     "base_uri": "https://localhost:8080/"
    },
    "executionInfo": {
     "elapsed": 17,
     "status": "ok",
     "timestamp": 1676761193111,
     "user": {
      "displayName": "Sunny Panchal",
      "userId": "07638778127504651017"
     },
     "user_tz": 300
    },
    "id": "n5RPMd6B3viK",
    "outputId": "15680ca4-5121-4abf-a8cb-615afee63a9b"
   },
   "outputs": [
    {
     "data": {
      "text/plain": [
       "74"
      ]
     },
     "execution_count": 41,
     "metadata": {},
     "output_type": "execute_result"
    }
   ],
   "source": [
    "df[\"store_primary_category\"].nunique()"
   ]
  },
  {
   "cell_type": "code",
   "execution_count": 43,
   "id": "qfkYECNr3vff",
   "metadata": {
    "colab": {
     "base_uri": "https://localhost:8080/"
    },
    "executionInfo": {
     "elapsed": 23,
     "status": "ok",
     "timestamp": 1676761195736,
     "user": {
      "displayName": "Sunny Panchal",
      "userId": "07638778127504651017"
     },
     "user_tz": 300
    },
    "id": "qfkYECNr3vff",
    "outputId": "36b37660-90f4-4715-d751-626269c42085"
   },
   "outputs": [
    {
     "data": {
      "text/plain": [
       "american             19378\n",
       "pizza                17306\n",
       "mexican              17087\n",
       "burger               10948\n",
       "sandwich             10051\n",
       "chinese               9415\n",
       "japanese              9178\n",
       "dessert               8759\n",
       "fast                  7364\n",
       "indian                7307\n",
       "thai                  7216\n",
       "italian               7168\n",
       "vietnamese            6088\n",
       "mediterranean         5502\n",
       "breakfast             5418\n",
       "NaN                   4756\n",
       "other                 3986\n",
       "salad                 3743\n",
       "greek                 3323\n",
       "seafood               2730\n",
       "barbecue              2722\n",
       "asian                 2445\n",
       "cafe                  2225\n",
       "sushi                 2182\n",
       "alcohol               1848\n",
       "korean                1813\n",
       "smoothie              1657\n",
       "catering              1629\n",
       "middle-eastern        1498\n",
       "hawaiian              1498\n",
       "dim-sum               1112\n",
       "steak                 1092\n",
       "vegetarian             844\n",
       "burmese                821\n",
       "pasta                  632\n",
       "persian                607\n",
       "french                 575\n",
       "latin-american         520\n",
       "bubble-tea             519\n",
       "convenience-store      347\n",
       "cajun                  316\n",
       "brazilian              310\n",
       "nepalese               298\n",
       "vegan                  279\n",
       "filipino               260\n",
       "peruvian               254\n",
       "caribbean              253\n",
       "turkish                237\n",
       "gastropub              184\n",
       "southern               156\n",
       "tapas                  146\n",
       "pakistani              139\n",
       "ethiopian              134\n",
       "british                133\n",
       "afghan                 118\n",
       "malaysian              102\n",
       "soup                    74\n",
       "argentine               72\n",
       "german                  68\n",
       "gluten-free             62\n",
       "irish                   55\n",
       "kosher                  51\n",
       "spanish                 37\n",
       "singaporean             33\n",
       "comfort-food            28\n",
       "moroccan                25\n",
       "cheese                  24\n",
       "european                22\n",
       "russian                 19\n",
       "african                 10\n",
       "lebanese                 9\n",
       "belgian                  2\n",
       "indonesian               2\n",
       "chocolate                1\n",
       "alcohol-plus-food        1\n",
       "Name: store_primary_category, dtype: int64"
      ]
     },
     "execution_count": 43,
     "metadata": {},
     "output_type": "execute_result"
    }
   ],
   "source": [
    "df[\"store_primary_category\"].value_counts(dropna=False)"
   ]
  },
  {
   "cell_type": "code",
   "execution_count": 44,
   "id": "sbymRMJw3vc6",
   "metadata": {
    "colab": {
     "base_uri": "https://localhost:8080/",
     "height": 308
    },
    "executionInfo": {
     "elapsed": 18,
     "status": "ok",
     "timestamp": 1676761195736,
     "user": {
      "displayName": "Sunny Panchal",
      "userId": "07638778127504651017"
     },
     "user_tz": 300
    },
    "id": "sbymRMJw3vc6",
    "outputId": "012d21c3-c287-4317-e5f4-6c157e0fd149"
   },
   "outputs": [
    {
     "data": {
      "image/png": "[encoded data removed]",
      "text/plain": [
       "<Figure size 1440x216 with 1 Axes>"
      ]
     },
     "metadata": {
      "needs_background": "light"
     },
     "output_type": "display_data"
    }
   ],
   "source": [
    "\n",
    "sns.boxplot(x = df[\"store_primary_category\"],\n",
    "            y = df[\"delivery_time\"])\n",
    "plt.xticks(rotation = 90)\n",
    "plt.show()"
   ]
  },
  {
   "cell_type": "code",
   "execution_count": 45,
   "id": "j7VBa8-f4GvW",
   "metadata": {
    "executionInfo": {
     "elapsed": 30,
     "status": "ok",
     "timestamp": 1676761196962,
     "user": {
      "displayName": "Sunny Panchal",
      "userId": "07638778127504651017"
     },
     "user_tz": 300
    },
    "id": "j7VBa8-f4GvW"
   },
   "outputs": [],
   "source": [
    "# filling NaN category store primary category with Other. \n",
    "df.store_primary_category = df.store_primary_category.fillna(\"Other\")\n"
   ]
  },
  {
   "cell_type": "code",
   "execution_count": 46,
   "id": "mEPcpSKxEbhB",
   "metadata": {
    "executionInfo": {
     "elapsed": 30,
     "status": "ok",
     "timestamp": 1676761196963,
     "user": {
      "displayName": "Sunny Panchal",
      "userId": "07638778127504651017"
     },
     "user_tz": 300
    },
    "id": "mEPcpSKxEbhB"
   },
   "outputs": [],
   "source": [
    "plt.rcParams['figure.figsize'] = (15, 5)\n"
   ]
  },
  {
   "cell_type": "markdown",
   "id": "Hqlh_cG04rXc",
   "metadata": {
    "id": "Hqlh_cG04rXc"
   },
   "source": [
    "## Engineering Feature called Ordered_at_hour : at what hour the order was creatd"
   ]
  },
  {
   "cell_type": "code",
   "execution_count": 47,
   "id": "qWoGVD3p4M5o",
   "metadata": {
    "executionInfo": {
     "elapsed": 29,
     "status": "ok",
     "timestamp": 1676761196963,
     "user": {
      "displayName": "Sunny Panchal",
      "userId": "07638778127504651017"
     },
     "user_tz": 300
    },
    "id": "qWoGVD3p4M5o"
   },
   "outputs": [],
   "source": [
    "df[\"order_at_hour\"] = df[\"created_at\"].dt.hour\n"
   ]
  },
  {
   "cell_type": "code",
   "execution_count": 48,
   "id": "zfbW0Yb-4M3P",
   "metadata": {
    "colab": {
     "base_uri": "https://localhost:8080/"
    },
    "executionInfo": {
     "elapsed": 29,
     "status": "ok",
     "timestamp": 1676761196964,
     "user": {
      "displayName": "Sunny Panchal",
      "userId": "07638778127504651017"
     },
     "user_tz": 300
    },
    "id": "zfbW0Yb-4M3P",
    "outputId": "ae76a9ef-e87c-4c07-8bf2-6cb85fbb3f09"
   },
   "outputs": [
    {
     "data": {
      "text/plain": [
       "February    128796\n",
       "January      68427\n",
       "Name: created_at, dtype: int64"
      ]
     },
     "execution_count": 48,
     "metadata": {},
     "output_type": "execute_result"
    }
   ],
   "source": [
    "df[\"created_at\"].dt.month_name().value_counts()"
   ]
  },
  {
   "cell_type": "code",
   "execution_count": 49,
   "id": "w6fkooNF4M0j",
   "metadata": {
    "colab": {
     "base_uri": "https://localhost:8080/",
     "height": 338
    },
    "executionInfo": {
     "elapsed": 18,
     "status": "ok",
     "timestamp": 1676761197209,
     "user": {
      "displayName": "Sunny Panchal",
      "userId": "07638778127504651017"
     },
     "user_tz": 300
    },
    "id": "w6fkooNF4M0j",
    "outputId": "10b9e104-9bbb-447a-d2dd-62370068c6bd"
   },
   "outputs": [
    {
     "data": {
      "text/plain": [
       "<AxesSubplot:ylabel='order_at_hour'>"
      ]
     },
     "execution_count": 49,
     "metadata": {},
     "output_type": "execute_result"
    },
    {
     "data": {
      "image/png": "[encoded data removed]",
      "text/plain": [
       "<Figure size 1080x360 with 1 Axes>"
      ]
     },
     "metadata": {
      "needs_background": "light"
     },
     "output_type": "display_data"
    }
   ],
   "source": [
    "order_time = df[\"order_at_hour\"].value_counts().reset_index().sort_values(by=\"index\")\n",
    "sns.barplot(x =order_time.index,\n",
    "            y = order_time.order_at_hour)"
   ]
  },
  {
   "cell_type": "code",
   "execution_count": 50,
   "id": "EdZ_xb-i4Mx1",
   "metadata": {
    "colab": {
     "base_uri": "https://localhost:8080/",
     "height": 353
    },
    "executionInfo": {
     "elapsed": 805,
     "status": "ok",
     "timestamp": 1676761197999,
     "user": {
      "displayName": "Sunny Panchal",
      "userId": "07638778127504651017"
     },
     "user_tz": 300
    },
    "id": "EdZ_xb-i4Mx1",
    "outputId": "71c48485-555a-46e7-8ec7-59d3723a586c"
   },
   "outputs": [
    {
     "data": {
      "text/plain": [
       "<AxesSubplot:xlabel='order_at_hour', ylabel='delivery_time'>"
      ]
     },
     "execution_count": 50,
     "metadata": {},
     "output_type": "execute_result"
    },
    {
     "data": {
      "image/png": "[encoded data removed]",
      "text/plain": [
       "<Figure size 1080x360 with 1 Axes>"
      ]
     },
     "metadata": {
      "needs_background": "light"
     },
     "output_type": "display_data"
    }
   ],
   "source": [
    "sns.boxplot(x = df[\"order_at_hour\"],\n",
    "            y = df[\"delivery_time\"])"
   ]
  },
  {
   "cell_type": "code",
   "execution_count": 51,
   "id": "pe98BSKp4Mun",
   "metadata": {
    "colab": {
     "base_uri": "https://localhost:8080/",
     "height": 353
    },
    "executionInfo": {
     "elapsed": 439,
     "status": "ok",
     "timestamp": 1676761199593,
     "user": {
      "displayName": "Sunny Panchal",
      "userId": "07638778127504651017"
     },
     "user_tz": 300
    },
    "id": "pe98BSKp4Mun",
    "outputId": "2ce11f17-e8a2-44c5-c8bb-739c1057536c"
   },
   "outputs": [
    {
     "data": {
      "text/plain": [
       "<AxesSubplot:xlabel='order_at_hour'>"
      ]
     },
     "execution_count": 51,
     "metadata": {},
     "output_type": "execute_result"
    },
    {
     "data": {
      "image/png": "[encoded data removed]",
      "text/plain": [
       "<Figure size 1080x360 with 1 Axes>"
      ]
     },
     "metadata": {
      "needs_background": "light"
     },
     "output_type": "display_data"
    }
   ],
   "source": [
    "df.groupby(\"order_at_hour\")[\"delivery_time\"].median().plot()"
   ]
  },
  {
   "cell_type": "code",
   "execution_count": null,
   "id": "RR8wMI4g4MsW",
   "metadata": {
    "executionInfo": {
     "elapsed": 2,
     "status": "ok",
     "timestamp": 1676761200162,
     "user": {
      "displayName": "Sunny Panchal",
      "userId": "07638778127504651017"
     },
     "user_tz": 300
    },
    "id": "RR8wMI4g4MsW"
   },
   "outputs": [],
   "source": []
  },
  {
   "cell_type": "code",
   "execution_count": null,
   "id": "JhezBHCZC5f0",
   "metadata": {
    "executionInfo": {
     "elapsed": 4,
     "status": "ok",
     "timestamp": 1676761202323,
     "user": {
      "displayName": "Sunny Panchal",
      "userId": "07638778127504651017"
     },
     "user_tz": 300
    },
    "id": "JhezBHCZC5f0"
   },
   "outputs": [],
   "source": []
  },
  {
   "cell_type": "code",
   "execution_count": null,
   "id": "Wp26q3a9CgK7",
   "metadata": {
    "executionInfo": {
     "elapsed": 5,
     "status": "ok",
     "timestamp": 1676761204357,
     "user": {
      "displayName": "Sunny Panchal",
      "userId": "07638778127504651017"
     },
     "user_tz": 300
    },
    "id": "Wp26q3a9CgK7"
   },
   "outputs": [],
   "source": []
  },
  {
   "cell_type": "code",
   "execution_count": 52,
   "id": "L19LzkQlCgJj",
   "metadata": {
    "colab": {
     "base_uri": "https://localhost:8080/"
    },
    "executionInfo": {
     "elapsed": 23,
     "status": "ok",
     "timestamp": 1676761205517,
     "user": {
      "displayName": "Sunny Panchal",
      "userId": "07638778127504651017"
     },
     "user_tz": 300
    },
    "id": "L19LzkQlCgJj",
    "outputId": "0b8c5b9f-b615-41b8-cdbe-7822e1d689ea"
   },
   "outputs": [
    {
     "data": {
      "text/plain": [
       "7"
      ]
     },
     "execution_count": 52,
     "metadata": {},
     "output_type": "execute_result"
    }
   ],
   "source": [
    "df[\"market_id\"].nunique(dropna=False)"
   ]
  },
  {
   "cell_type": "code",
   "execution_count": 53,
   "id": "EfiNwFPjEyGU",
   "metadata": {
    "colab": {
     "base_uri": "https://localhost:8080/",
     "height": 463
    },
    "executionInfo": {
     "elapsed": 21,
     "status": "ok",
     "timestamp": 1676761205517,
     "user": {
      "displayName": "Sunny Panchal",
      "userId": "07638778127504651017"
     },
     "user_tz": 300
    },
    "id": "EfiNwFPjEyGU",
    "outputId": "5a540c22-256b-4b3d-9c3e-51e3dbe74c80"
   },
   "outputs": [
    {
     "data": {
      "text/plain": [
       "2.0    28.035997\n",
       "4.0    24.233962\n",
       "1.0    19.348543\n",
       "3.0    11.861168\n",
       "5.0     9.164938\n",
       "6.0     7.355392\n",
       "Name: market_id, dtype: float64"
      ]
     },
     "metadata": {},
     "output_type": "display_data"
    },
    {
     "data": {
      "image/png": "[encoded data removed]",
      "text/plain": [
       "<Figure size 1080x360 with 1 Axes>"
      ]
     },
     "metadata": {
      "needs_background": "light"
     },
     "output_type": "display_data"
    }
   ],
   "source": [
    "from locale import normalize\n",
    "display(df[\"market_id\"].value_counts(normalize=True)*100)\n",
    "df[\"market_id\"] = df[\"market_id\"].fillna(0)\n",
    "df[\"market_id\"] = df[\"market_id\"].astype(\"object\")\n",
    "sns.boxplot(x = df[\"market_id\"],\n",
    "            y = df[\"delivery_time\"])\n",
    "plt.show()"
   ]
  },
  {
   "cell_type": "code",
   "execution_count": null,
   "id": "K4hbYayAEnlM",
   "metadata": {
    "executionInfo": {
     "elapsed": 20,
     "status": "ok",
     "timestamp": 1676761205518,
     "user": {
      "displayName": "Sunny Panchal",
      "userId": "07638778127504651017"
     },
     "user_tz": 300
    },
    "id": "K4hbYayAEnlM"
   },
   "outputs": [],
   "source": []
  },
  {
   "cell_type": "code",
   "execution_count": null,
   "id": "RVV0prYYFFUI",
   "metadata": {
    "executionInfo": {
     "elapsed": 3,
     "status": "ok",
     "timestamp": 1676761206365,
     "user": {
      "displayName": "Sunny Panchal",
      "userId": "07638778127504651017"
     },
     "user_tz": 300
    },
    "id": "RVV0prYYFFUI"
   },
   "outputs": [],
   "source": []
  },
  {
   "cell_type": "code",
   "execution_count": null,
   "id": "VgIgnIsbCgHE",
   "metadata": {
    "executionInfo": {
     "elapsed": 4,
     "status": "ok",
     "timestamp": 1676761206366,
     "user": {
      "displayName": "Sunny Panchal",
      "userId": "07638778127504651017"
     },
     "user_tz": 300
    },
    "id": "VgIgnIsbCgHE"
   },
   "outputs": [],
   "source": []
  },
  {
   "cell_type": "code",
   "execution_count": null,
   "id": "xj6id4UnCgEw",
   "metadata": {
    "executionInfo": {
     "elapsed": 6,
     "status": "ok",
     "timestamp": 1676761207604,
     "user": {
      "displayName": "Sunny Panchal",
      "userId": "07638778127504651017"
     },
     "user_tz": 300
    },
    "id": "xj6id4UnCgEw"
   },
   "outputs": [],
   "source": []
  },
  {
   "cell_type": "code",
   "execution_count": null,
   "id": "xcvbmAaNCgDR",
   "metadata": {
    "executionInfo": {
     "elapsed": 6,
     "status": "ok",
     "timestamp": 1676761207605,
     "user": {
      "displayName": "Sunny Panchal",
      "userId": "07638778127504651017"
     },
     "user_tz": 300
    },
    "id": "xcvbmAaNCgDR"
   },
   "outputs": [],
   "source": []
  },
  {
   "cell_type": "code",
   "execution_count": 54,
   "id": "rlu4M_vyGkYm",
   "metadata": {
    "executionInfo": {
     "elapsed": 6,
     "status": "ok",
     "timestamp": 1676761207606,
     "user": {
      "displayName": "Sunny Panchal",
      "userId": "07638778127504651017"
     },
     "user_tz": 300
    },
    "id": "rlu4M_vyGkYm"
   },
   "outputs": [],
   "source": [
    "# filling null values of Total_onshift_partners , busy partners and outstanding orders as per median of the relevant hour from the data."
   ]
  },
  {
   "cell_type": "code",
   "execution_count": 55,
   "id": "GAevRoCtCgBy",
   "metadata": {
    "executionInfo": {
     "elapsed": 4,
     "status": "ok",
     "timestamp": 1676761208747,
     "user": {
      "displayName": "Sunny Panchal",
      "userId": "07638778127504651017"
     },
     "user_tz": 300
    },
    "id": "GAevRoCtCgBy"
   },
   "outputs": [],
   "source": [
    "df['total_onshift_partners'] = df['total_onshift_partners'].fillna(df.groupby('order_at_hour')['total_onshift_partners'].transform('median'))\n",
    "df['total_busy_partners'] = df['total_busy_partners'].fillna(df.groupby('order_at_hour')['total_busy_partners'].transform('median'))\n",
    "df['total_outstanding_orders'] = df['total_outstanding_orders'].fillna(df.groupby('order_at_hour')['total_outstanding_orders'].transform('median'))"
   ]
  },
  {
   "cell_type": "code",
   "execution_count": 56,
   "id": "eFr2BIjzCf_c",
   "metadata": {
    "executionInfo": {
     "elapsed": 3,
     "status": "ok",
     "timestamp": 1676761208747,
     "user": {
      "displayName": "Sunny Panchal",
      "userId": "07638778127504651017"
     },
     "user_tz": 300
    },
    "id": "eFr2BIjzCf_c"
   },
   "outputs": [],
   "source": [
    "# remaining null values check : "
   ]
  },
  {
   "cell_type": "code",
   "execution_count": 57,
   "id": "XvwcRIhfCf9j",
   "metadata": {
    "colab": {
     "base_uri": "https://localhost:8080/",
     "height": 551
    },
    "executionInfo": {
     "elapsed": 23,
     "status": "ok",
     "timestamp": 1676761209260,
     "user": {
      "displayName": "Sunny Panchal",
      "userId": "07638778127504651017"
     },
     "user_tz": 300
    },
    "id": "XvwcRIhfCf9j",
    "outputId": "cb1406c3-6b6b-4ded-8219-ba8771368cda"
   },
   "outputs": [
    {
     "data": {
      "text/html": [
       "<div>\n",
       "<style scoped>\n",
       "    .dataframe tbody tr th:only-of-type {\n",
       "        vertical-align: middle;\n",
       "    }\n",
       "\n",
       "    .dataframe tbody tr th {\n",
       "        vertical-align: top;\n",
       "    }\n",
       "\n",
       "    .dataframe thead th {\n",
       "        text-align: right;\n",
       "    }\n",
       "</style>\n",
       "<table border=\"1\" class=\"dataframe\">\n",
       "  <thead>\n",
       "    <tr style=\"text-align: right;\">\n",
       "      <th></th>\n",
       "      <th>Feature</th>\n",
       "      <th>Missing_values</th>\n",
       "      <th>Missing_values_percentage</th>\n",
       "    </tr>\n",
       "  </thead>\n",
       "  <tbody>\n",
       "    <tr>\n",
       "      <th>0</th>\n",
       "      <td>market_id</td>\n",
       "      <td>0</td>\n",
       "      <td>0.0</td>\n",
       "    </tr>\n",
       "    <tr>\n",
       "      <th>1</th>\n",
       "      <td>created_at</td>\n",
       "      <td>0</td>\n",
       "      <td>0.0</td>\n",
       "    </tr>\n",
       "    <tr>\n",
       "      <th>2</th>\n",
       "      <td>actual_delivery_time</td>\n",
       "      <td>0</td>\n",
       "      <td>0.0</td>\n",
       "    </tr>\n",
       "    <tr>\n",
       "      <th>3</th>\n",
       "      <td>store_id</td>\n",
       "      <td>0</td>\n",
       "      <td>0.0</td>\n",
       "    </tr>\n",
       "    <tr>\n",
       "      <th>4</th>\n",
       "      <td>store_primary_category</td>\n",
       "      <td>0</td>\n",
       "      <td>0.0</td>\n",
       "    </tr>\n",
       "    <tr>\n",
       "      <th>5</th>\n",
       "      <td>order_protocol</td>\n",
       "      <td>0</td>\n",
       "      <td>0.0</td>\n",
       "    </tr>\n",
       "    <tr>\n",
       "      <th>6</th>\n",
       "      <td>total_items</td>\n",
       "      <td>0</td>\n",
       "      <td>0.0</td>\n",
       "    </tr>\n",
       "    <tr>\n",
       "      <th>7</th>\n",
       "      <td>subtotal</td>\n",
       "      <td>0</td>\n",
       "      <td>0.0</td>\n",
       "    </tr>\n",
       "    <tr>\n",
       "      <th>8</th>\n",
       "      <td>num_distinct_items</td>\n",
       "      <td>0</td>\n",
       "      <td>0.0</td>\n",
       "    </tr>\n",
       "    <tr>\n",
       "      <th>9</th>\n",
       "      <td>min_item_price</td>\n",
       "      <td>0</td>\n",
       "      <td>0.0</td>\n",
       "    </tr>\n",
       "    <tr>\n",
       "      <th>10</th>\n",
       "      <td>max_item_price</td>\n",
       "      <td>0</td>\n",
       "      <td>0.0</td>\n",
       "    </tr>\n",
       "    <tr>\n",
       "      <th>11</th>\n",
       "      <td>total_onshift_partners</td>\n",
       "      <td>0</td>\n",
       "      <td>0.0</td>\n",
       "    </tr>\n",
       "    <tr>\n",
       "      <th>12</th>\n",
       "      <td>total_busy_partners</td>\n",
       "      <td>0</td>\n",
       "      <td>0.0</td>\n",
       "    </tr>\n",
       "    <tr>\n",
       "      <th>13</th>\n",
       "      <td>total_outstanding_orders</td>\n",
       "      <td>0</td>\n",
       "      <td>0.0</td>\n",
       "    </tr>\n",
       "    <tr>\n",
       "      <th>14</th>\n",
       "      <td>delivery_time</td>\n",
       "      <td>0</td>\n",
       "      <td>0.0</td>\n",
       "    </tr>\n",
       "    <tr>\n",
       "      <th>15</th>\n",
       "      <td>order_at_hour</td>\n",
       "      <td>0</td>\n",
       "      <td>0.0</td>\n",
       "    </tr>\n",
       "  </tbody>\n",
       "</table>\n",
       "</div>"
      ],
      "text/plain": [
       "                     Feature  Missing_values  Missing_values_percentage\n",
       "0                  market_id               0                        0.0\n",
       "1                 created_at               0                        0.0\n",
       "2       actual_delivery_time               0                        0.0\n",
       "3                   store_id               0                        0.0\n",
       "4     store_primary_category               0                        0.0\n",
       "5             order_protocol               0                        0.0\n",
       "6                total_items               0                        0.0\n",
       "7                   subtotal               0                        0.0\n",
       "8         num_distinct_items               0                        0.0\n",
       "9             min_item_price               0                        0.0\n",
       "10            max_item_price               0                        0.0\n",
       "11    total_onshift_partners               0                        0.0\n",
       "12       total_busy_partners               0                        0.0\n",
       "13  total_outstanding_orders               0                        0.0\n",
       "14             delivery_time               0                        0.0\n",
       "15             order_at_hour               0                        0.0"
      ]
     },
     "execution_count": 57,
     "metadata": {},
     "output_type": "execute_result"
    }
   ],
   "source": [
    "missing_values = df.isna().sum().reset_index()\n",
    "missing_values.columns = [\"Feature\", \"Missing_values\"]\n",
    "missing_values[\"Missing_values_percentage\"] = missing_values[\"Missing_values\"]/len(df) * 100\n",
    "missing_values\n"
   ]
  },
  {
   "cell_type": "code",
   "execution_count": null,
   "id": "r52Z5Wh0Cf4M",
   "metadata": {
    "executionInfo": {
     "elapsed": 22,
     "status": "ok",
     "timestamp": 1676761209261,
     "user": {
      "displayName": "Sunny Panchal",
      "userId": "07638778127504651017"
     },
     "user_tz": 300
    },
    "id": "r52Z5Wh0Cf4M"
   },
   "outputs": [],
   "source": []
  },
  {
   "cell_type": "code",
   "execution_count": 58,
   "id": "pw9UnvjdCf2G",
   "metadata": {
    "colab": {
     "base_uri": "https://localhost:8080/"
    },
    "executionInfo": {
     "elapsed": 17,
     "status": "ok",
     "timestamp": 1676761209978,
     "user": {
      "displayName": "Sunny Panchal",
      "userId": "07638778127504651017"
     },
     "user_tz": 300
    },
    "id": "pw9UnvjdCf2G",
    "outputId": "15a74c04-9492-4ad5-dd70-1a7c6b747fd0"
   },
   "outputs": [
    {
     "data": {
      "text/plain": [
       "0"
      ]
     },
     "execution_count": 58,
     "metadata": {},
     "output_type": "execute_result"
    }
   ],
   "source": [
    "df.isna().sum().sum()"
   ]
  },
  {
   "cell_type": "code",
   "execution_count": null,
   "id": "lAxG04qVCf0q",
   "metadata": {
    "executionInfo": {
     "elapsed": 5,
     "status": "ok",
     "timestamp": 1676761210737,
     "user": {
      "displayName": "Sunny Panchal",
      "userId": "07638778127504651017"
     },
     "user_tz": 300
    },
    "id": "lAxG04qVCf0q"
   },
   "outputs": [],
   "source": []
  },
  {
   "cell_type": "code",
   "execution_count": null,
   "id": "ZQz23vN2ID-2",
   "metadata": {
    "executionInfo": {
     "elapsed": 6,
     "status": "ok",
     "timestamp": 1676761210739,
     "user": {
      "displayName": "Sunny Panchal",
      "userId": "07638778127504651017"
     },
     "user_tz": 300
    },
    "id": "ZQz23vN2ID-2"
   },
   "outputs": [],
   "source": []
  },
  {
   "cell_type": "code",
   "execution_count": 59,
   "id": "CCRhN94aID8g",
   "metadata": {
    "colab": {
     "base_uri": "https://localhost:8080/",
     "height": 162
    },
    "executionInfo": {
     "elapsed": 32,
     "status": "ok",
     "timestamp": 1676761211552,
     "user": {
      "displayName": "Sunny Panchal",
      "userId": "07638778127504651017"
     },
     "user_tz": 300
    },
    "id": "CCRhN94aID8g",
    "outputId": "db1eba1a-d93c-4dbf-b07e-211c483136c3"
   },
   "outputs": [
    {
     "data": {
      "text/html": [
       "<div>\n",
       "<style scoped>\n",
       "    .dataframe tbody tr th:only-of-type {\n",
       "        vertical-align: middle;\n",
       "    }\n",
       "\n",
       "    .dataframe tbody tr th {\n",
       "        vertical-align: top;\n",
       "    }\n",
       "\n",
       "    .dataframe thead th {\n",
       "        text-align: right;\n",
       "    }\n",
       "</style>\n",
       "<table border=\"1\" class=\"dataframe\">\n",
       "  <thead>\n",
       "    <tr style=\"text-align: right;\">\n",
       "      <th></th>\n",
       "      <th>market_id</th>\n",
       "      <th>created_at</th>\n",
       "      <th>actual_delivery_time</th>\n",
       "      <th>store_id</th>\n",
       "      <th>store_primary_category</th>\n",
       "      <th>order_protocol</th>\n",
       "      <th>total_items</th>\n",
       "      <th>subtotal</th>\n",
       "      <th>num_distinct_items</th>\n",
       "      <th>min_item_price</th>\n",
       "      <th>max_item_price</th>\n",
       "      <th>total_onshift_partners</th>\n",
       "      <th>total_busy_partners</th>\n",
       "      <th>total_outstanding_orders</th>\n",
       "      <th>delivery_time</th>\n",
       "      <th>order_at_hour</th>\n",
       "    </tr>\n",
       "  </thead>\n",
       "  <tbody>\n",
       "    <tr>\n",
       "      <th>6278</th>\n",
       "      <td>4.0</td>\n",
       "      <td>2015-02-11 02:47:44</td>\n",
       "      <td>2015-02-11 03:37:34</td>\n",
       "      <td>d0cbf1a1aa1726784df15a81ead214f7</td>\n",
       "      <td>greek</td>\n",
       "      <td>5.0</td>\n",
       "      <td>3</td>\n",
       "      <td>3897</td>\n",
       "      <td>3</td>\n",
       "      <td>799</td>\n",
       "      <td>1599</td>\n",
       "      <td>99.0</td>\n",
       "      <td>96.0</td>\n",
       "      <td>165.0</td>\n",
       "      <td>49.833333</td>\n",
       "      <td>2</td>\n",
       "    </tr>\n",
       "  </tbody>\n",
       "</table>\n",
       "</div>"
      ],
      "text/plain": [
       "     market_id          created_at actual_delivery_time                          store_id store_primary_category order_protocol  total_items  subtotal  num_distinct_items  min_item_price  max_item_price  total_onshift_partners  total_busy_partners  total_outstanding_orders  delivery_time  order_at_hour\n",
       "6278       4.0 2015-02-11 02:47:44  2015-02-11 03:37:34  d0cbf1a1aa1726784df15a81ead214f7                  greek            5.0            3      3897                   3             799            1599                    99.0                 96.0                     165.0      49.833333              2"
      ]
     },
     "execution_count": 59,
     "metadata": {},
     "output_type": "execute_result"
    }
   ],
   "source": [
    "df.sample()"
   ]
  },
  {
   "cell_type": "code",
   "execution_count": 60,
   "id": "jgh2V82ZIKv3",
   "metadata": {
    "colab": {
     "base_uri": "https://localhost:8080/",
     "height": 176
    },
    "executionInfo": {
     "elapsed": 30,
     "status": "ok",
     "timestamp": 1676761211553,
     "user": {
      "displayName": "Sunny Panchal",
      "userId": "07638778127504651017"
     },
     "user_tz": 300
    },
    "id": "jgh2V82ZIKv3",
    "outputId": "614bbd0d-a150-4134-ce65-3227decd6f90"
   },
   "outputs": [
    {
     "data": {
      "text/html": [
       "<div>\n",
       "<style scoped>\n",
       "    .dataframe tbody tr th:only-of-type {\n",
       "        vertical-align: middle;\n",
       "    }\n",
       "\n",
       "    .dataframe tbody tr th {\n",
       "        vertical-align: top;\n",
       "    }\n",
       "\n",
       "    .dataframe thead th {\n",
       "        text-align: right;\n",
       "    }\n",
       "</style>\n",
       "<table border=\"1\" class=\"dataframe\">\n",
       "  <thead>\n",
       "    <tr style=\"text-align: right;\">\n",
       "      <th></th>\n",
       "      <th>0</th>\n",
       "      <th>1</th>\n",
       "      <th>2</th>\n",
       "      <th>3</th>\n",
       "      <th>4</th>\n",
       "      <th>5</th>\n",
       "      <th>6</th>\n",
       "      <th>7</th>\n",
       "      <th>8</th>\n",
       "      <th>9</th>\n",
       "      <th>10</th>\n",
       "      <th>11</th>\n",
       "      <th>12</th>\n",
       "      <th>13</th>\n",
       "      <th>14</th>\n",
       "      <th>15</th>\n",
       "    </tr>\n",
       "  </thead>\n",
       "  <tbody>\n",
       "    <tr>\n",
       "      <th>index</th>\n",
       "      <td>market_id</td>\n",
       "      <td>created_at</td>\n",
       "      <td>actual_delivery_time</td>\n",
       "      <td>store_id</td>\n",
       "      <td>store_primary_category</td>\n",
       "      <td>order_protocol</td>\n",
       "      <td>total_items</td>\n",
       "      <td>subtotal</td>\n",
       "      <td>num_distinct_items</td>\n",
       "      <td>min_item_price</td>\n",
       "      <td>max_item_price</td>\n",
       "      <td>total_onshift_partners</td>\n",
       "      <td>total_busy_partners</td>\n",
       "      <td>total_outstanding_orders</td>\n",
       "      <td>delivery_time</td>\n",
       "      <td>order_at_hour</td>\n",
       "    </tr>\n",
       "    <tr>\n",
       "      <th>0</th>\n",
       "      <td>7</td>\n",
       "      <td>180820</td>\n",
       "      <td>177930</td>\n",
       "      <td>6742</td>\n",
       "      <td>75</td>\n",
       "      <td>8</td>\n",
       "      <td>57</td>\n",
       "      <td>8366</td>\n",
       "      <td>20</td>\n",
       "      <td>2312</td>\n",
       "      <td>2651</td>\n",
       "      <td>172</td>\n",
       "      <td>159</td>\n",
       "      <td>281</td>\n",
       "      <td>6940</td>\n",
       "      <td>18</td>\n",
       "    </tr>\n",
       "  </tbody>\n",
       "</table>\n",
       "</div>"
      ],
      "text/plain": [
       "              0           1                     2         3                       4               5            6         7                   8               9               10                      11                   12                        13             14             15\n",
       "index  market_id  created_at  actual_delivery_time  store_id  store_primary_category  order_protocol  total_items  subtotal  num_distinct_items  min_item_price  max_item_price  total_onshift_partners  total_busy_partners  total_outstanding_orders  delivery_time  order_at_hour\n",
       "0              7      180820                177930      6742                      75               8           57      8366                  20            2312            2651                     172                  159                       281           6940             18"
      ]
     },
     "execution_count": 60,
     "metadata": {},
     "output_type": "execute_result"
    }
   ],
   "source": [
    "df.nunique().reset_index().T"
   ]
  },
  {
   "cell_type": "code",
   "execution_count": 61,
   "id": "39GAt4brJNL3",
   "metadata": {
    "executionInfo": {
     "elapsed": 4,
     "status": "ok",
     "timestamp": 1676761211802,
     "user": {
      "displayName": "Sunny Panchal",
      "userId": "07638778127504651017"
     },
     "user_tz": 300
    },
    "id": "39GAt4brJNL3"
   },
   "outputs": [],
   "source": [
    "df.order_at_hour = df.order_at_hour.astype(\"object\")"
   ]
  },
  {
   "cell_type": "code",
   "execution_count": 62,
   "id": "AeOQRC2tID5o",
   "metadata": {
    "colab": {
     "base_uri": "https://localhost:8080/",
     "height": 175
    },
    "executionInfo": {
     "elapsed": 16,
     "status": "ok",
     "timestamp": 1676761213448,
     "user": {
      "displayName": "Sunny Panchal",
      "userId": "07638778127504651017"
     },
     "user_tz": 300
    },
    "id": "AeOQRC2tID5o",
    "outputId": "f78b9fa5-aa80-4cb0-f8b8-c61d42daa022"
   },
   "outputs": [
    {
     "data": {
      "text/html": [
       "<div>\n",
       "<style scoped>\n",
       "    .dataframe tbody tr th:only-of-type {\n",
       "        vertical-align: middle;\n",
       "    }\n",
       "\n",
       "    .dataframe tbody tr th {\n",
       "        vertical-align: top;\n",
       "    }\n",
       "\n",
       "    .dataframe thead th {\n",
       "        text-align: right;\n",
       "    }\n",
       "</style>\n",
       "<table border=\"1\" class=\"dataframe\">\n",
       "  <thead>\n",
       "    <tr style=\"text-align: right;\">\n",
       "      <th></th>\n",
       "      <th>market_id</th>\n",
       "      <th>store_id</th>\n",
       "      <th>store_primary_category</th>\n",
       "      <th>order_protocol</th>\n",
       "      <th>order_at_hour</th>\n",
       "    </tr>\n",
       "  </thead>\n",
       "  <tbody>\n",
       "    <tr>\n",
       "      <th>count</th>\n",
       "      <td>197223.0</td>\n",
       "      <td>197223</td>\n",
       "      <td>197223</td>\n",
       "      <td>197223.0</td>\n",
       "      <td>197223</td>\n",
       "    </tr>\n",
       "    <tr>\n",
       "      <th>unique</th>\n",
       "      <td>7.0</td>\n",
       "      <td>6742</td>\n",
       "      <td>75</td>\n",
       "      <td>8.0</td>\n",
       "      <td>18</td>\n",
       "    </tr>\n",
       "    <tr>\n",
       "      <th>top</th>\n",
       "      <td>2.0</td>\n",
       "      <td>d43ab110ab2489d6b9b2caa394bf920f</td>\n",
       "      <td>american</td>\n",
       "      <td>1.0</td>\n",
       "      <td>2</td>\n",
       "    </tr>\n",
       "    <tr>\n",
       "      <th>freq</th>\n",
       "      <td>55017.0</td>\n",
       "      <td>936</td>\n",
       "      <td>19378</td>\n",
       "      <td>54671.0</td>\n",
       "      <td>36932</td>\n",
       "    </tr>\n",
       "  </tbody>\n",
       "</table>\n",
       "</div>"
      ],
      "text/plain": [
       "        market_id                          store_id store_primary_category  order_protocol  order_at_hour\n",
       "count    197223.0                            197223                 197223        197223.0         197223\n",
       "unique        7.0                              6742                     75             8.0             18\n",
       "top           2.0  d43ab110ab2489d6b9b2caa394bf920f               american             1.0              2\n",
       "freq      55017.0                               936                  19378         54671.0          36932"
      ]
     },
     "execution_count": 62,
     "metadata": {},
     "output_type": "execute_result"
    }
   ],
   "source": [
    "df.describe(include=\"object\")"
   ]
  },
  {
   "cell_type": "code",
   "execution_count": null,
   "id": "llOEMepRID3I",
   "metadata": {
    "executionInfo": {
     "elapsed": 13,
     "status": "ok",
     "timestamp": 1676761214182,
     "user": {
      "displayName": "Sunny Panchal",
      "userId": "07638778127504651017"
     },
     "user_tz": 300
    },
    "id": "llOEMepRID3I"
   },
   "outputs": [],
   "source": []
  },
  {
   "cell_type": "code",
   "execution_count": 63,
   "id": "vf1oB1UFID0m",
   "metadata": {
    "colab": {
     "base_uri": "https://localhost:8080/",
     "height": 619
    },
    "executionInfo": {
     "elapsed": 1017,
     "status": "ok",
     "timestamp": 1676761215187,
     "user": {
      "displayName": "Sunny Panchal",
      "userId": "07638778127504651017"
     },
     "user_tz": 300
    },
    "id": "vf1oB1UFID0m",
    "outputId": "50992065-f686-442b-de23-fb6f830c5991"
   },
   "outputs": [
    {
     "data": {
      "text/plain": [
       "<AxesSubplot:>"
      ]
     },
     "execution_count": 63,
     "metadata": {},
     "output_type": "execute_result"
    },
    {
     "data": {
      "image/png": "[encoded data removed]",
      "text/plain": [
       "<Figure size 864x576 with 2 Axes>"
      ]
     },
     "metadata": {
      "needs_background": "light"
     },
     "output_type": "display_data"
    }
   ],
   "source": [
    " plt.rcParams['figure.figsize'] = (12, 8)\n",
    "\n",
    " sns.heatmap(df.corr(),annot=True)\n"
   ]
  },
  {
   "cell_type": "code",
   "execution_count": null,
   "id": "5e967a88",
   "metadata": {},
   "outputs": [],
   "source": []
  },
  {
   "cell_type": "code",
   "execution_count": 64,
   "id": "20949941",
   "metadata": {},
   "outputs": [
    {
     "data": {
      "text/html": [
       "<div>\n",
       "<style scoped>\n",
       "    .dataframe tbody tr th:only-of-type {\n",
       "        vertical-align: middle;\n",
       "    }\n",
       "\n",
       "    .dataframe tbody tr th {\n",
       "        vertical-align: top;\n",
       "    }\n",
       "\n",
       "    .dataframe thead th {\n",
       "        text-align: right;\n",
       "    }\n",
       "</style>\n",
       "<table border=\"1\" class=\"dataframe\">\n",
       "  <thead>\n",
       "    <tr style=\"text-align: right;\">\n",
       "      <th></th>\n",
       "      <th>market_id</th>\n",
       "      <th>created_at</th>\n",
       "      <th>actual_delivery_time</th>\n",
       "      <th>store_id</th>\n",
       "      <th>store_primary_category</th>\n",
       "      <th>order_protocol</th>\n",
       "      <th>total_items</th>\n",
       "      <th>subtotal</th>\n",
       "      <th>num_distinct_items</th>\n",
       "      <th>min_item_price</th>\n",
       "      <th>max_item_price</th>\n",
       "      <th>total_onshift_partners</th>\n",
       "      <th>total_busy_partners</th>\n",
       "      <th>total_outstanding_orders</th>\n",
       "      <th>delivery_time</th>\n",
       "      <th>order_at_hour</th>\n",
       "    </tr>\n",
       "  </thead>\n",
       "  <tbody>\n",
       "    <tr>\n",
       "      <th>0</th>\n",
       "      <td>1.0</td>\n",
       "      <td>2015-02-06 22:24:17</td>\n",
       "      <td>2015-02-06 23:27:16</td>\n",
       "      <td>df263d996281d984952c07998dc54358</td>\n",
       "      <td>american</td>\n",
       "      <td>1.0</td>\n",
       "      <td>4</td>\n",
       "      <td>3441</td>\n",
       "      <td>4</td>\n",
       "      <td>557</td>\n",
       "      <td>1239</td>\n",
       "      <td>33.0</td>\n",
       "      <td>14.0</td>\n",
       "      <td>21.0</td>\n",
       "      <td>62.983333</td>\n",
       "      <td>22</td>\n",
       "    </tr>\n",
       "    <tr>\n",
       "      <th>1</th>\n",
       "      <td>2.0</td>\n",
       "      <td>2015-02-10 21:49:25</td>\n",
       "      <td>2015-02-10 22:56:29</td>\n",
       "      <td>f0ade77b43923b38237db569b016ba25</td>\n",
       "      <td>mexican</td>\n",
       "      <td>2.0</td>\n",
       "      <td>1</td>\n",
       "      <td>1900</td>\n",
       "      <td>1</td>\n",
       "      <td>1400</td>\n",
       "      <td>1400</td>\n",
       "      <td>1.0</td>\n",
       "      <td>2.0</td>\n",
       "      <td>2.0</td>\n",
       "      <td>67.066667</td>\n",
       "      <td>21</td>\n",
       "    </tr>\n",
       "    <tr>\n",
       "      <th>2</th>\n",
       "      <td>3.0</td>\n",
       "      <td>2015-01-22 20:39:28</td>\n",
       "      <td>2015-01-22 21:09:09</td>\n",
       "      <td>f0ade77b43923b38237db569b016ba25</td>\n",
       "      <td>Other</td>\n",
       "      <td>1.0</td>\n",
       "      <td>1</td>\n",
       "      <td>1900</td>\n",
       "      <td>1</td>\n",
       "      <td>1900</td>\n",
       "      <td>1900</td>\n",
       "      <td>1.0</td>\n",
       "      <td>0.0</td>\n",
       "      <td>0.0</td>\n",
       "      <td>29.683333</td>\n",
       "      <td>20</td>\n",
       "    </tr>\n",
       "    <tr>\n",
       "      <th>3</th>\n",
       "      <td>3.0</td>\n",
       "      <td>2015-02-03 21:21:45</td>\n",
       "      <td>2015-02-03 22:13:00</td>\n",
       "      <td>f0ade77b43923b38237db569b016ba25</td>\n",
       "      <td>Other</td>\n",
       "      <td>1.0</td>\n",
       "      <td>6</td>\n",
       "      <td>6900</td>\n",
       "      <td>5</td>\n",
       "      <td>600</td>\n",
       "      <td>1800</td>\n",
       "      <td>1.0</td>\n",
       "      <td>1.0</td>\n",
       "      <td>2.0</td>\n",
       "      <td>51.250000</td>\n",
       "      <td>21</td>\n",
       "    </tr>\n",
       "    <tr>\n",
       "      <th>4</th>\n",
       "      <td>3.0</td>\n",
       "      <td>2015-02-15 02:40:36</td>\n",
       "      <td>2015-02-15 03:20:26</td>\n",
       "      <td>f0ade77b43923b38237db569b016ba25</td>\n",
       "      <td>Other</td>\n",
       "      <td>1.0</td>\n",
       "      <td>3</td>\n",
       "      <td>3900</td>\n",
       "      <td>3</td>\n",
       "      <td>1100</td>\n",
       "      <td>1600</td>\n",
       "      <td>6.0</td>\n",
       "      <td>6.0</td>\n",
       "      <td>9.0</td>\n",
       "      <td>39.833333</td>\n",
       "      <td>2</td>\n",
       "    </tr>\n",
       "    <tr>\n",
       "      <th>...</th>\n",
       "      <td>...</td>\n",
       "      <td>...</td>\n",
       "      <td>...</td>\n",
       "      <td>...</td>\n",
       "      <td>...</td>\n",
       "      <td>...</td>\n",
       "      <td>...</td>\n",
       "      <td>...</td>\n",
       "      <td>...</td>\n",
       "      <td>...</td>\n",
       "      <td>...</td>\n",
       "      <td>...</td>\n",
       "      <td>...</td>\n",
       "      <td>...</td>\n",
       "      <td>...</td>\n",
       "      <td>...</td>\n",
       "    </tr>\n",
       "    <tr>\n",
       "      <th>197423</th>\n",
       "      <td>1.0</td>\n",
       "      <td>2015-02-17 00:19:41</td>\n",
       "      <td>2015-02-17 01:24:48</td>\n",
       "      <td>a914ecef9c12ffdb9bede64bb703d877</td>\n",
       "      <td>fast</td>\n",
       "      <td>4.0</td>\n",
       "      <td>3</td>\n",
       "      <td>1389</td>\n",
       "      <td>3</td>\n",
       "      <td>345</td>\n",
       "      <td>649</td>\n",
       "      <td>17.0</td>\n",
       "      <td>17.0</td>\n",
       "      <td>23.0</td>\n",
       "      <td>65.116667</td>\n",
       "      <td>0</td>\n",
       "    </tr>\n",
       "    <tr>\n",
       "      <th>197424</th>\n",
       "      <td>1.0</td>\n",
       "      <td>2015-02-13 00:01:59</td>\n",
       "      <td>2015-02-13 00:58:22</td>\n",
       "      <td>a914ecef9c12ffdb9bede64bb703d877</td>\n",
       "      <td>fast</td>\n",
       "      <td>4.0</td>\n",
       "      <td>6</td>\n",
       "      <td>3010</td>\n",
       "      <td>4</td>\n",
       "      <td>405</td>\n",
       "      <td>825</td>\n",
       "      <td>12.0</td>\n",
       "      <td>11.0</td>\n",
       "      <td>14.0</td>\n",
       "      <td>56.383333</td>\n",
       "      <td>0</td>\n",
       "    </tr>\n",
       "    <tr>\n",
       "      <th>197425</th>\n",
       "      <td>1.0</td>\n",
       "      <td>2015-01-24 04:46:08</td>\n",
       "      <td>2015-01-24 05:36:16</td>\n",
       "      <td>a914ecef9c12ffdb9bede64bb703d877</td>\n",
       "      <td>fast</td>\n",
       "      <td>4.0</td>\n",
       "      <td>5</td>\n",
       "      <td>1836</td>\n",
       "      <td>3</td>\n",
       "      <td>300</td>\n",
       "      <td>399</td>\n",
       "      <td>39.0</td>\n",
       "      <td>41.0</td>\n",
       "      <td>40.0</td>\n",
       "      <td>50.133333</td>\n",
       "      <td>4</td>\n",
       "    </tr>\n",
       "    <tr>\n",
       "      <th>197426</th>\n",
       "      <td>1.0</td>\n",
       "      <td>2015-02-01 18:18:15</td>\n",
       "      <td>2015-02-01 19:23:22</td>\n",
       "      <td>c81e155d85dae5430a8cee6f2242e82c</td>\n",
       "      <td>sandwich</td>\n",
       "      <td>1.0</td>\n",
       "      <td>1</td>\n",
       "      <td>1175</td>\n",
       "      <td>1</td>\n",
       "      <td>535</td>\n",
       "      <td>535</td>\n",
       "      <td>7.0</td>\n",
       "      <td>7.0</td>\n",
       "      <td>12.0</td>\n",
       "      <td>65.116667</td>\n",
       "      <td>18</td>\n",
       "    </tr>\n",
       "    <tr>\n",
       "      <th>197427</th>\n",
       "      <td>1.0</td>\n",
       "      <td>2015-02-08 19:24:33</td>\n",
       "      <td>2015-02-08 20:01:41</td>\n",
       "      <td>c81e155d85dae5430a8cee6f2242e82c</td>\n",
       "      <td>sandwich</td>\n",
       "      <td>1.0</td>\n",
       "      <td>4</td>\n",
       "      <td>2605</td>\n",
       "      <td>4</td>\n",
       "      <td>425</td>\n",
       "      <td>750</td>\n",
       "      <td>20.0</td>\n",
       "      <td>20.0</td>\n",
       "      <td>23.0</td>\n",
       "      <td>37.133333</td>\n",
       "      <td>19</td>\n",
       "    </tr>\n",
       "  </tbody>\n",
       "</table>\n",
       "<p>197223 rows × 16 columns</p>\n",
       "</div>"
      ],
      "text/plain": [
       "       market_id          created_at actual_delivery_time                          store_id store_primary_category order_protocol  total_items  subtotal  num_distinct_items  min_item_price  max_item_price  total_onshift_partners  total_busy_partners  total_outstanding_orders  delivery_time order_at_hour\n",
       "0            1.0 2015-02-06 22:24:17  2015-02-06 23:27:16  df263d996281d984952c07998dc54358               american            1.0            4      3441                   4             557            1239                    33.0                 14.0                      21.0      62.983333            22\n",
       "1            2.0 2015-02-10 21:49:25  2015-02-10 22:56:29  f0ade77b43923b38237db569b016ba25                mexican            2.0            1      1900                   1            1400            1400                     1.0                  2.0                       2.0      67.066667            21\n",
       "2            3.0 2015-01-22 20:39:28  2015-01-22 21:09:09  f0ade77b43923b38237db569b016ba25                  Other            1.0            1      1900                   1            1900            1900                     1.0                  0.0                       0.0      29.683333            20\n",
       "3            3.0 2015-02-03 21:21:45  2015-02-03 22:13:00  f0ade77b43923b38237db569b016ba25                  Other            1.0            6      6900                   5             600            1800                     1.0                  1.0                       2.0      51.250000            21\n",
       "4            3.0 2015-02-15 02:40:36  2015-02-15 03:20:26  f0ade77b43923b38237db569b016ba25                  Other            1.0            3      3900                   3            1100            1600                     6.0                  6.0                       9.0      39.833333             2\n",
       "...          ...                 ...                  ...                               ...                    ...            ...          ...       ...                 ...             ...             ...                     ...                  ...                       ...            ...           ...\n",
       "197423       1.0 2015-02-17 00:19:41  2015-02-17 01:24:48  a914ecef9c12ffdb9bede64bb703d877                   fast            4.0            3      1389                   3             345             649                    17.0                 17.0                      23.0      65.116667             0\n",
       "197424       1.0 2015-02-13 00:01:59  2015-02-13 00:58:22  a914ecef9c12ffdb9bede64bb703d877                   fast            4.0            6      3010                   4             405             825                    12.0                 11.0                      14.0      56.383333             0\n",
       "197425       1.0 2015-01-24 04:46:08  2015-01-24 05:36:16  a914ecef9c12ffdb9bede64bb703d877                   fast            4.0            5      1836                   3             300             399                    39.0                 41.0                      40.0      50.133333             4\n",
       "197426       1.0 2015-02-01 18:18:15  2015-02-01 19:23:22  c81e155d85dae5430a8cee6f2242e82c               sandwich            1.0            1      1175                   1             535             535                     7.0                  7.0                      12.0      65.116667            18\n",
       "197427       1.0 2015-02-08 19:24:33  2015-02-08 20:01:41  c81e155d85dae5430a8cee6f2242e82c               sandwich            1.0            4      2605                   4             425             750                    20.0                 20.0                      23.0      37.133333            19\n",
       "\n",
       "[197223 rows x 16 columns]"
      ]
     },
     "execution_count": 64,
     "metadata": {},
     "output_type": "execute_result"
    }
   ],
   "source": [
    "df"
   ]
  },
  {
   "cell_type": "code",
   "execution_count": null,
   "id": "92e75647",
   "metadata": {},
   "outputs": [],
   "source": []
  },
  {
   "cell_type": "code",
   "execution_count": 91,
   "id": "be9de381",
   "metadata": {},
   "outputs": [
    {
     "data": {
      "text/plain": [
       "<AxesSubplot:>"
      ]
     },
     "execution_count": 91,
     "metadata": {},
     "output_type": "execute_result"
    },
    {
     "data": {
      "image/png": "[encoded data removed]",
      "text/plain": [
       "<Figure size 864x576 with 1 Axes>"
      ]
     },
     "metadata": {
      "needs_background": "light"
     },
     "output_type": "display_data"
    }
   ],
   "source": [
    "df.boxplot()"
   ]
  },
  {
   "cell_type": "code",
   "execution_count": null,
   "id": "377922ab",
   "metadata": {},
   "outputs": [],
   "source": []
  },
  {
   "cell_type": "code",
   "execution_count": null,
   "id": "f5a2073a",
   "metadata": {},
   "outputs": [],
   "source": []
  },
  {
   "cell_type": "code",
   "execution_count": null,
   "id": "c0e8ea2b",
   "metadata": {},
   "outputs": [],
   "source": []
  },
  {
   "cell_type": "code",
   "execution_count": null,
   "id": "67779838",
   "metadata": {},
   "outputs": [],
   "source": []
  },
  {
   "cell_type": "code",
   "execution_count": null,
   "id": "944f7e6f",
   "metadata": {},
   "outputs": [],
   "source": []
  },
  {
   "cell_type": "code",
   "execution_count": null,
   "id": "2835bf70",
   "metadata": {},
   "outputs": [],
   "source": []
  },
  {
   "cell_type": "code",
   "execution_count": null,
   "id": "3e0fc5a2",
   "metadata": {},
   "outputs": [],
   "source": []
  },
  {
   "cell_type": "code",
   "execution_count": null,
   "id": "7841c037",
   "metadata": {},
   "outputs": [],
   "source": []
  },
  {
   "cell_type": "code",
   "execution_count": null,
   "id": "pSLCfvgoCfzW",
   "metadata": {
    "executionInfo": {
     "elapsed": 20,
     "status": "ok",
     "timestamp": 1676761215189,
     "user": {
      "displayName": "Sunny Panchal",
      "userId": "07638778127504651017"
     },
     "user_tz": 300
    },
    "id": "pSLCfvgoCfzW"
   },
   "outputs": [],
   "source": []
  },
  {
   "cell_type": "markdown",
   "id": "pFUpT0p5Hsnh",
   "metadata": {
    "id": "pFUpT0p5Hsnh"
   },
   "source": [
    "# Encoding : "
   ]
  },
  {
   "cell_type": "code",
   "execution_count": null,
   "id": "YPVw5EKdHsdU",
   "metadata": {
    "executionInfo": {
     "elapsed": 3,
     "status": "ok",
     "timestamp": 1676761217181,
     "user": {
      "displayName": "Sunny Panchal",
      "userId": "07638778127504651017"
     },
     "user_tz": 300
    },
    "id": "YPVw5EKdHsdU"
   },
   "outputs": [],
   "source": []
  },
  {
   "cell_type": "code",
   "execution_count": 92,
   "id": "RGotJ1ghHsaz",
   "metadata": {
    "executionInfo": {
     "elapsed": 13,
     "status": "ok",
     "timestamp": 1676761218030,
     "user": {
      "displayName": "Sunny Panchal",
      "userId": "07638778127504651017"
     },
     "user_tz": 300
    },
    "id": "RGotJ1ghHsaz"
   },
   "outputs": [],
   "source": [
    "data = df.copy(deep = True)"
   ]
  },
  {
   "cell_type": "code",
   "execution_count": 93,
   "id": "M0gylh0aHsYQ",
   "metadata": {
    "executionInfo": {
     "elapsed": 25,
     "status": "ok",
     "timestamp": 1676761219657,
     "user": {
      "displayName": "Sunny Panchal",
      "userId": "07638778127504651017"
     },
     "user_tz": 300
    },
    "id": "M0gylh0aHsYQ"
   },
   "outputs": [],
   "source": [
    "data.drop([\"created_at\",\"actual_delivery_time\"],axis = 1, inplace = True)"
   ]
  },
  {
   "cell_type": "code",
   "execution_count": 94,
   "id": "eMyt4CbNHsP3",
   "metadata": {
    "colab": {
     "base_uri": "https://localhost:8080/",
     "height": 270
    },
    "executionInfo": {
     "elapsed": 26,
     "status": "ok",
     "timestamp": 1676761219659,
     "user": {
      "displayName": "Sunny Panchal",
      "userId": "07638778127504651017"
     },
     "user_tz": 300
    },
    "id": "eMyt4CbNHsP3",
    "outputId": "56c741f3-c2bf-4c62-b417-d6058a92055c"
   },
   "outputs": [
    {
     "data": {
      "text/html": [
       "<div>\n",
       "<style scoped>\n",
       "    .dataframe tbody tr th:only-of-type {\n",
       "        vertical-align: middle;\n",
       "    }\n",
       "\n",
       "    .dataframe tbody tr th {\n",
       "        vertical-align: top;\n",
       "    }\n",
       "\n",
       "    .dataframe thead th {\n",
       "        text-align: right;\n",
       "    }\n",
       "</style>\n",
       "<table border=\"1\" class=\"dataframe\">\n",
       "  <thead>\n",
       "    <tr style=\"text-align: right;\">\n",
       "      <th></th>\n",
       "      <th>market_id</th>\n",
       "      <th>store_id</th>\n",
       "      <th>store_primary_category</th>\n",
       "      <th>order_protocol</th>\n",
       "      <th>total_items</th>\n",
       "      <th>subtotal</th>\n",
       "      <th>num_distinct_items</th>\n",
       "      <th>min_item_price</th>\n",
       "      <th>max_item_price</th>\n",
       "      <th>total_onshift_partners</th>\n",
       "      <th>total_busy_partners</th>\n",
       "      <th>total_outstanding_orders</th>\n",
       "      <th>delivery_time</th>\n",
       "      <th>order_at_hour</th>\n",
       "    </tr>\n",
       "  </thead>\n",
       "  <tbody>\n",
       "    <tr>\n",
       "      <th>0</th>\n",
       "      <td>1.0</td>\n",
       "      <td>df263d996281d984952c07998dc54358</td>\n",
       "      <td>american</td>\n",
       "      <td>1.0</td>\n",
       "      <td>4</td>\n",
       "      <td>3441</td>\n",
       "      <td>4</td>\n",
       "      <td>557</td>\n",
       "      <td>1239</td>\n",
       "      <td>33.0</td>\n",
       "      <td>14.0</td>\n",
       "      <td>21.0</td>\n",
       "      <td>62.983333</td>\n",
       "      <td>22</td>\n",
       "    </tr>\n",
       "    <tr>\n",
       "      <th>1</th>\n",
       "      <td>2.0</td>\n",
       "      <td>f0ade77b43923b38237db569b016ba25</td>\n",
       "      <td>mexican</td>\n",
       "      <td>2.0</td>\n",
       "      <td>1</td>\n",
       "      <td>1900</td>\n",
       "      <td>1</td>\n",
       "      <td>1400</td>\n",
       "      <td>1400</td>\n",
       "      <td>1.0</td>\n",
       "      <td>2.0</td>\n",
       "      <td>2.0</td>\n",
       "      <td>67.066667</td>\n",
       "      <td>21</td>\n",
       "    </tr>\n",
       "    <tr>\n",
       "      <th>2</th>\n",
       "      <td>3.0</td>\n",
       "      <td>f0ade77b43923b38237db569b016ba25</td>\n",
       "      <td>Other</td>\n",
       "      <td>1.0</td>\n",
       "      <td>1</td>\n",
       "      <td>1900</td>\n",
       "      <td>1</td>\n",
       "      <td>1900</td>\n",
       "      <td>1900</td>\n",
       "      <td>1.0</td>\n",
       "      <td>0.0</td>\n",
       "      <td>0.0</td>\n",
       "      <td>29.683333</td>\n",
       "      <td>20</td>\n",
       "    </tr>\n",
       "    <tr>\n",
       "      <th>3</th>\n",
       "      <td>3.0</td>\n",
       "      <td>f0ade77b43923b38237db569b016ba25</td>\n",
       "      <td>Other</td>\n",
       "      <td>1.0</td>\n",
       "      <td>6</td>\n",
       "      <td>6900</td>\n",
       "      <td>5</td>\n",
       "      <td>600</td>\n",
       "      <td>1800</td>\n",
       "      <td>1.0</td>\n",
       "      <td>1.0</td>\n",
       "      <td>2.0</td>\n",
       "      <td>51.250000</td>\n",
       "      <td>21</td>\n",
       "    </tr>\n",
       "    <tr>\n",
       "      <th>4</th>\n",
       "      <td>3.0</td>\n",
       "      <td>f0ade77b43923b38237db569b016ba25</td>\n",
       "      <td>Other</td>\n",
       "      <td>1.0</td>\n",
       "      <td>3</td>\n",
       "      <td>3900</td>\n",
       "      <td>3</td>\n",
       "      <td>1100</td>\n",
       "      <td>1600</td>\n",
       "      <td>6.0</td>\n",
       "      <td>6.0</td>\n",
       "      <td>9.0</td>\n",
       "      <td>39.833333</td>\n",
       "      <td>2</td>\n",
       "    </tr>\n",
       "  </tbody>\n",
       "</table>\n",
       "</div>"
      ],
      "text/plain": [
       "  market_id                          store_id store_primary_category order_protocol  total_items  subtotal  num_distinct_items  min_item_price  max_item_price  total_onshift_partners  total_busy_partners  total_outstanding_orders  delivery_time order_at_hour\n",
       "0       1.0  df263d996281d984952c07998dc54358               american            1.0            4      3441                   4             557            1239                    33.0                 14.0                      21.0      62.983333            22\n",
       "1       2.0  f0ade77b43923b38237db569b016ba25                mexican            2.0            1      1900                   1            1400            1400                     1.0                  2.0                       2.0      67.066667            21\n",
       "2       3.0  f0ade77b43923b38237db569b016ba25                  Other            1.0            1      1900                   1            1900            1900                     1.0                  0.0                       0.0      29.683333            20\n",
       "3       3.0  f0ade77b43923b38237db569b016ba25                  Other            1.0            6      6900                   5             600            1800                     1.0                  1.0                       2.0      51.250000            21\n",
       "4       3.0  f0ade77b43923b38237db569b016ba25                  Other            1.0            3      3900                   3            1100            1600                     6.0                  6.0                       9.0      39.833333             2"
      ]
     },
     "execution_count": 94,
     "metadata": {},
     "output_type": "execute_result"
    }
   ],
   "source": [
    "data.head()"
   ]
  },
  {
   "cell_type": "code",
   "execution_count": 95,
   "id": "rVlZ5-taCfxz",
   "metadata": {
    "executionInfo": {
     "elapsed": 25,
     "status": "ok",
     "timestamp": 1676761219660,
     "user": {
      "displayName": "Sunny Panchal",
      "userId": "07638778127504651017"
     },
     "user_tz": 300
    },
    "id": "rVlZ5-taCfxz"
   },
   "outputs": [],
   "source": [
    "data['store_id'] = data.groupby('store_id')['delivery_time'].transform('median')\n",
    "data['store_primary_category'] = data.groupby('store_primary_category')['delivery_time'].transform('median')\n",
    "\n",
    "data['order_at_hour'] = data.groupby('order_at_hour')['delivery_time'].transform('median')\n"
   ]
  },
  {
   "cell_type": "code",
   "execution_count": 96,
   "id": "EGG6i2LQCfwH",
   "metadata": {
    "colab": {
     "base_uri": "https://localhost:8080/",
     "height": 270
    },
    "executionInfo": {
     "elapsed": 18,
     "status": "ok",
     "timestamp": 1676761219965,
     "user": {
      "displayName": "Sunny Panchal",
      "userId": "07638778127504651017"
     },
     "user_tz": 300
    },
    "id": "EGG6i2LQCfwH",
    "outputId": "dde0d148-14b3-47b2-e121-51a482f37053"
   },
   "outputs": [
    {
     "data": {
      "text/html": [
       "<div>\n",
       "<style scoped>\n",
       "    .dataframe tbody tr th:only-of-type {\n",
       "        vertical-align: middle;\n",
       "    }\n",
       "\n",
       "    .dataframe tbody tr th {\n",
       "        vertical-align: top;\n",
       "    }\n",
       "\n",
       "    .dataframe thead th {\n",
       "        text-align: right;\n",
       "    }\n",
       "</style>\n",
       "<table border=\"1\" class=\"dataframe\">\n",
       "  <thead>\n",
       "    <tr style=\"text-align: right;\">\n",
       "      <th></th>\n",
       "      <th>market_id</th>\n",
       "      <th>store_id</th>\n",
       "      <th>store_primary_category</th>\n",
       "      <th>order_protocol</th>\n",
       "      <th>total_items</th>\n",
       "      <th>subtotal</th>\n",
       "      <th>num_distinct_items</th>\n",
       "      <th>min_item_price</th>\n",
       "      <th>max_item_price</th>\n",
       "      <th>total_onshift_partners</th>\n",
       "      <th>total_busy_partners</th>\n",
       "      <th>total_outstanding_orders</th>\n",
       "      <th>delivery_time</th>\n",
       "      <th>order_at_hour</th>\n",
       "    </tr>\n",
       "  </thead>\n",
       "  <tbody>\n",
       "    <tr>\n",
       "      <th>0</th>\n",
       "      <td>1.0</td>\n",
       "      <td>62.983333</td>\n",
       "      <td>44.350000</td>\n",
       "      <td>1.0</td>\n",
       "      <td>4</td>\n",
       "      <td>3441</td>\n",
       "      <td>4</td>\n",
       "      <td>557</td>\n",
       "      <td>1239</td>\n",
       "      <td>33.0</td>\n",
       "      <td>14.0</td>\n",
       "      <td>21.0</td>\n",
       "      <td>62.983333</td>\n",
       "      <td>38.916667</td>\n",
       "    </tr>\n",
       "    <tr>\n",
       "      <th>1</th>\n",
       "      <td>2.0</td>\n",
       "      <td>39.833333</td>\n",
       "      <td>41.333333</td>\n",
       "      <td>2.0</td>\n",
       "      <td>1</td>\n",
       "      <td>1900</td>\n",
       "      <td>1</td>\n",
       "      <td>1400</td>\n",
       "      <td>1400</td>\n",
       "      <td>1.0</td>\n",
       "      <td>2.0</td>\n",
       "      <td>2.0</td>\n",
       "      <td>67.066667</td>\n",
       "      <td>38.133333</td>\n",
       "    </tr>\n",
       "    <tr>\n",
       "      <th>2</th>\n",
       "      <td>3.0</td>\n",
       "      <td>39.833333</td>\n",
       "      <td>44.816667</td>\n",
       "      <td>1.0</td>\n",
       "      <td>1</td>\n",
       "      <td>1900</td>\n",
       "      <td>1</td>\n",
       "      <td>1900</td>\n",
       "      <td>1900</td>\n",
       "      <td>1.0</td>\n",
       "      <td>0.0</td>\n",
       "      <td>0.0</td>\n",
       "      <td>29.683333</td>\n",
       "      <td>41.266667</td>\n",
       "    </tr>\n",
       "    <tr>\n",
       "      <th>3</th>\n",
       "      <td>3.0</td>\n",
       "      <td>39.833333</td>\n",
       "      <td>44.816667</td>\n",
       "      <td>1.0</td>\n",
       "      <td>6</td>\n",
       "      <td>6900</td>\n",
       "      <td>5</td>\n",
       "      <td>600</td>\n",
       "      <td>1800</td>\n",
       "      <td>1.0</td>\n",
       "      <td>1.0</td>\n",
       "      <td>2.0</td>\n",
       "      <td>51.250000</td>\n",
       "      <td>38.133333</td>\n",
       "    </tr>\n",
       "    <tr>\n",
       "      <th>4</th>\n",
       "      <td>3.0</td>\n",
       "      <td>39.833333</td>\n",
       "      <td>44.816667</td>\n",
       "      <td>1.0</td>\n",
       "      <td>3</td>\n",
       "      <td>3900</td>\n",
       "      <td>3</td>\n",
       "      <td>1100</td>\n",
       "      <td>1600</td>\n",
       "      <td>6.0</td>\n",
       "      <td>6.0</td>\n",
       "      <td>9.0</td>\n",
       "      <td>39.833333</td>\n",
       "      <td>51.200000</td>\n",
       "    </tr>\n",
       "  </tbody>\n",
       "</table>\n",
       "</div>"
      ],
      "text/plain": [
       "  market_id   store_id  store_primary_category order_protocol  total_items  subtotal  num_distinct_items  min_item_price  max_item_price  total_onshift_partners  total_busy_partners  total_outstanding_orders  delivery_time  order_at_hour\n",
       "0       1.0  62.983333               44.350000            1.0            4      3441                   4             557            1239                    33.0                 14.0                      21.0      62.983333      38.916667\n",
       "1       2.0  39.833333               41.333333            2.0            1      1900                   1            1400            1400                     1.0                  2.0                       2.0      67.066667      38.133333\n",
       "2       3.0  39.833333               44.816667            1.0            1      1900                   1            1900            1900                     1.0                  0.0                       0.0      29.683333      41.266667\n",
       "3       3.0  39.833333               44.816667            1.0            6      6900                   5             600            1800                     1.0                  1.0                       2.0      51.250000      38.133333\n",
       "4       3.0  39.833333               44.816667            1.0            3      3900                   3            1100            1600                     6.0                  6.0                       9.0      39.833333      51.200000"
      ]
     },
     "execution_count": 96,
     "metadata": {},
     "output_type": "execute_result"
    }
   ],
   "source": [
    "data.head()"
   ]
  },
  {
   "cell_type": "code",
   "execution_count": 97,
   "id": "dec55a93",
   "metadata": {},
   "outputs": [],
   "source": [
    "data['market_id'] = data.groupby('market_id')['delivery_time'].transform('median')\n",
    "data['order_protocol'] = data.groupby('order_protocol')['delivery_time'].transform('median')\n"
   ]
  },
  {
   "cell_type": "code",
   "execution_count": null,
   "id": "73ed59f3",
   "metadata": {},
   "outputs": [],
   "source": []
  },
  {
   "cell_type": "code",
   "execution_count": 98,
   "id": "rAvufzuICfso",
   "metadata": {
    "executionInfo": {
     "elapsed": 4,
     "status": "ok",
     "timestamp": 1676761222254,
     "user": {
      "displayName": "Sunny Panchal",
      "userId": "07638778127504651017"
     },
     "user_tz": 300
    },
    "id": "rAvufzuICfso"
   },
   "outputs": [],
   "source": [
    "# encoded_data = pd.get_dummies(data,columns=[\"market_id\",\"order_protocol\"])"
   ]
  },
  {
   "cell_type": "code",
   "execution_count": 99,
   "id": "ivUdUiF6LU3v",
   "metadata": {
    "colab": {
     "base_uri": "https://localhost:8080/",
     "height": 270
    },
    "executionInfo": {
     "elapsed": 18,
     "status": "ok",
     "timestamp": 1676761222533,
     "user": {
      "displayName": "Sunny Panchal",
      "userId": "07638778127504651017"
     },
     "user_tz": 300
    },
    "id": "ivUdUiF6LU3v",
    "outputId": "0257c688-e2c0-4577-ab91-54bea87bdbe3"
   },
   "outputs": [],
   "source": [
    "# encoded_data.head()"
   ]
  },
  {
   "cell_type": "code",
   "execution_count": 100,
   "id": "qwwnc42YLi18",
   "metadata": {
    "colab": {
     "base_uri": "https://localhost:8080/",
     "height": 1000
    },
    "executionInfo": {
     "elapsed": 2898,
     "status": "ok",
     "timestamp": 1676761225414,
     "user": {
      "displayName": "Sunny Panchal",
      "userId": "07638778127504651017"
     },
     "user_tz": 300
    },
    "id": "qwwnc42YLi18",
    "outputId": "0b383c83-9496-41c3-8804-dbbe2041481a"
   },
   "outputs": [
    {
     "data": {
      "text/plain": [
       "<AxesSubplot:>"
      ]
     },
     "execution_count": 100,
     "metadata": {},
     "output_type": "execute_result"
    },
    {
     "data": {
      "image/png": "[encoded data removed]",
      "text/plain": [
       "<Figure size 1152x1008 with 2 Axes>"
      ]
     },
     "metadata": {
      "needs_background": "light"
     },
     "output_type": "display_data"
    }
   ],
   "source": [
    " plt.rcParams['figure.figsize'] = (16, 14)\n",
    "\n",
    "sns.heatmap(data.corr().round(2),annot=True)\n"
   ]
  },
  {
   "cell_type": "code",
   "execution_count": 101,
   "id": "6cc56141",
   "metadata": {},
   "outputs": [],
   "source": [
    "correlations = data.corr()[\"delivery_time\"]\n"
   ]
  },
  {
   "cell_type": "code",
   "execution_count": 102,
   "id": "147b09a7",
   "metadata": {},
   "outputs": [
    {
     "data": {
      "text/plain": [
       "<AxesSubplot:>"
      ]
     },
     "execution_count": 102,
     "metadata": {},
     "output_type": "execute_result"
    },
    {
     "data": {
      "image/png": "[encoded data removed]",
      "text/plain": [
       "<Figure size 864x432 with 1 Axes>"
      ]
     },
     "metadata": {
      "needs_background": "light"
     },
     "output_type": "display_data"
    }
   ],
   "source": [
    "plt.rcParams['figure.figsize'] = (12, 6)\n",
    "\n",
    "\n",
    "correlations.drop([\"delivery_time\"]).plot(kind=\"bar\")"
   ]
  },
  {
   "cell_type": "code",
   "execution_count": null,
   "id": "4b4ef4b7",
   "metadata": {},
   "outputs": [],
   "source": []
  },
  {
   "cell_type": "code",
   "execution_count": 103,
   "id": "91193a8a",
   "metadata": {},
   "outputs": [
    {
     "data": {
      "text/html": [
       "<div>\n",
       "<style scoped>\n",
       "    .dataframe tbody tr th:only-of-type {\n",
       "        vertical-align: middle;\n",
       "    }\n",
       "\n",
       "    .dataframe tbody tr th {\n",
       "        vertical-align: top;\n",
       "    }\n",
       "\n",
       "    .dataframe thead th {\n",
       "        text-align: right;\n",
       "    }\n",
       "</style>\n",
       "<table border=\"1\" class=\"dataframe\">\n",
       "  <thead>\n",
       "    <tr style=\"text-align: right;\">\n",
       "      <th></th>\n",
       "      <th>market_id</th>\n",
       "      <th>store_id</th>\n",
       "      <th>store_primary_category</th>\n",
       "      <th>order_protocol</th>\n",
       "      <th>total_items</th>\n",
       "      <th>subtotal</th>\n",
       "      <th>num_distinct_items</th>\n",
       "      <th>min_item_price</th>\n",
       "      <th>max_item_price</th>\n",
       "      <th>total_onshift_partners</th>\n",
       "      <th>total_busy_partners</th>\n",
       "      <th>total_outstanding_orders</th>\n",
       "      <th>delivery_time</th>\n",
       "      <th>order_at_hour</th>\n",
       "    </tr>\n",
       "  </thead>\n",
       "  <tbody>\n",
       "    <tr>\n",
       "      <th>0</th>\n",
       "      <td>46.850000</td>\n",
       "      <td>62.983333</td>\n",
       "      <td>44.350000</td>\n",
       "      <td>46.483333</td>\n",
       "      <td>4</td>\n",
       "      <td>3441</td>\n",
       "      <td>4</td>\n",
       "      <td>557</td>\n",
       "      <td>1239</td>\n",
       "      <td>33.0</td>\n",
       "      <td>14.0</td>\n",
       "      <td>21.0</td>\n",
       "      <td>62.983333</td>\n",
       "      <td>38.916667</td>\n",
       "    </tr>\n",
       "    <tr>\n",
       "      <th>1</th>\n",
       "      <td>43.333333</td>\n",
       "      <td>39.833333</td>\n",
       "      <td>41.333333</td>\n",
       "      <td>44.100000</td>\n",
       "      <td>1</td>\n",
       "      <td>1900</td>\n",
       "      <td>1</td>\n",
       "      <td>1400</td>\n",
       "      <td>1400</td>\n",
       "      <td>1.0</td>\n",
       "      <td>2.0</td>\n",
       "      <td>2.0</td>\n",
       "      <td>67.066667</td>\n",
       "      <td>38.133333</td>\n",
       "    </tr>\n",
       "    <tr>\n",
       "      <th>2</th>\n",
       "      <td>44.083333</td>\n",
       "      <td>39.833333</td>\n",
       "      <td>44.816667</td>\n",
       "      <td>46.483333</td>\n",
       "      <td>1</td>\n",
       "      <td>1900</td>\n",
       "      <td>1</td>\n",
       "      <td>1900</td>\n",
       "      <td>1900</td>\n",
       "      <td>1.0</td>\n",
       "      <td>0.0</td>\n",
       "      <td>0.0</td>\n",
       "      <td>29.683333</td>\n",
       "      <td>41.266667</td>\n",
       "    </tr>\n",
       "    <tr>\n",
       "      <th>3</th>\n",
       "      <td>44.083333</td>\n",
       "      <td>39.833333</td>\n",
       "      <td>44.816667</td>\n",
       "      <td>46.483333</td>\n",
       "      <td>6</td>\n",
       "      <td>6900</td>\n",
       "      <td>5</td>\n",
       "      <td>600</td>\n",
       "      <td>1800</td>\n",
       "      <td>1.0</td>\n",
       "      <td>1.0</td>\n",
       "      <td>2.0</td>\n",
       "      <td>51.250000</td>\n",
       "      <td>38.133333</td>\n",
       "    </tr>\n",
       "    <tr>\n",
       "      <th>4</th>\n",
       "      <td>44.083333</td>\n",
       "      <td>39.833333</td>\n",
       "      <td>44.816667</td>\n",
       "      <td>46.483333</td>\n",
       "      <td>3</td>\n",
       "      <td>3900</td>\n",
       "      <td>3</td>\n",
       "      <td>1100</td>\n",
       "      <td>1600</td>\n",
       "      <td>6.0</td>\n",
       "      <td>6.0</td>\n",
       "      <td>9.0</td>\n",
       "      <td>39.833333</td>\n",
       "      <td>51.200000</td>\n",
       "    </tr>\n",
       "    <tr>\n",
       "      <th>...</th>\n",
       "      <td>...</td>\n",
       "      <td>...</td>\n",
       "      <td>...</td>\n",
       "      <td>...</td>\n",
       "      <td>...</td>\n",
       "      <td>...</td>\n",
       "      <td>...</td>\n",
       "      <td>...</td>\n",
       "      <td>...</td>\n",
       "      <td>...</td>\n",
       "      <td>...</td>\n",
       "      <td>...</td>\n",
       "      <td>...</td>\n",
       "      <td>...</td>\n",
       "    </tr>\n",
       "    <tr>\n",
       "      <th>197423</th>\n",
       "      <td>46.850000</td>\n",
       "      <td>50.916667</td>\n",
       "      <td>40.183333</td>\n",
       "      <td>44.250000</td>\n",
       "      <td>3</td>\n",
       "      <td>1389</td>\n",
       "      <td>3</td>\n",
       "      <td>345</td>\n",
       "      <td>649</td>\n",
       "      <td>17.0</td>\n",
       "      <td>17.0</td>\n",
       "      <td>23.0</td>\n",
       "      <td>65.116667</td>\n",
       "      <td>40.933333</td>\n",
       "    </tr>\n",
       "    <tr>\n",
       "      <th>197424</th>\n",
       "      <td>46.850000</td>\n",
       "      <td>50.916667</td>\n",
       "      <td>40.183333</td>\n",
       "      <td>44.250000</td>\n",
       "      <td>6</td>\n",
       "      <td>3010</td>\n",
       "      <td>4</td>\n",
       "      <td>405</td>\n",
       "      <td>825</td>\n",
       "      <td>12.0</td>\n",
       "      <td>11.0</td>\n",
       "      <td>14.0</td>\n",
       "      <td>56.383333</td>\n",
       "      <td>40.933333</td>\n",
       "    </tr>\n",
       "    <tr>\n",
       "      <th>197425</th>\n",
       "      <td>46.850000</td>\n",
       "      <td>50.916667</td>\n",
       "      <td>40.183333</td>\n",
       "      <td>44.250000</td>\n",
       "      <td>5</td>\n",
       "      <td>1836</td>\n",
       "      <td>3</td>\n",
       "      <td>300</td>\n",
       "      <td>399</td>\n",
       "      <td>39.0</td>\n",
       "      <td>41.0</td>\n",
       "      <td>40.0</td>\n",
       "      <td>50.133333</td>\n",
       "      <td>41.016667</td>\n",
       "    </tr>\n",
       "    <tr>\n",
       "      <th>197426</th>\n",
       "      <td>46.850000</td>\n",
       "      <td>51.125000</td>\n",
       "      <td>41.366667</td>\n",
       "      <td>46.483333</td>\n",
       "      <td>1</td>\n",
       "      <td>1175</td>\n",
       "      <td>1</td>\n",
       "      <td>535</td>\n",
       "      <td>535</td>\n",
       "      <td>7.0</td>\n",
       "      <td>7.0</td>\n",
       "      <td>12.0</td>\n",
       "      <td>65.116667</td>\n",
       "      <td>37.691667</td>\n",
       "    </tr>\n",
       "    <tr>\n",
       "      <th>197427</th>\n",
       "      <td>46.850000</td>\n",
       "      <td>51.125000</td>\n",
       "      <td>41.366667</td>\n",
       "      <td>46.483333</td>\n",
       "      <td>4</td>\n",
       "      <td>2605</td>\n",
       "      <td>4</td>\n",
       "      <td>425</td>\n",
       "      <td>750</td>\n",
       "      <td>20.0</td>\n",
       "      <td>20.0</td>\n",
       "      <td>23.0</td>\n",
       "      <td>37.133333</td>\n",
       "      <td>43.133333</td>\n",
       "    </tr>\n",
       "  </tbody>\n",
       "</table>\n",
       "<p>197223 rows × 14 columns</p>\n",
       "</div>"
      ],
      "text/plain": [
       "        market_id   store_id  store_primary_category  order_protocol  total_items  subtotal  num_distinct_items  min_item_price  max_item_price  total_onshift_partners  total_busy_partners  total_outstanding_orders  delivery_time  order_at_hour\n",
       "0       46.850000  62.983333               44.350000       46.483333            4      3441                   4             557            1239                    33.0                 14.0                      21.0      62.983333      38.916667\n",
       "1       43.333333  39.833333               41.333333       44.100000            1      1900                   1            1400            1400                     1.0                  2.0                       2.0      67.066667      38.133333\n",
       "2       44.083333  39.833333               44.816667       46.483333            1      1900                   1            1900            1900                     1.0                  0.0                       0.0      29.683333      41.266667\n",
       "3       44.083333  39.833333               44.816667       46.483333            6      6900                   5             600            1800                     1.0                  1.0                       2.0      51.250000      38.133333\n",
       "4       44.083333  39.833333               44.816667       46.483333            3      3900                   3            1100            1600                     6.0                  6.0                       9.0      39.833333      51.200000\n",
       "...           ...        ...                     ...             ...          ...       ...                 ...             ...             ...                     ...                  ...                       ...            ...            ...\n",
       "197423  46.850000  50.916667               40.183333       44.250000            3      1389                   3             345             649                    17.0                 17.0                      23.0      65.116667      40.933333\n",
       "197424  46.850000  50.916667               40.183333       44.250000            6      3010                   4             405             825                    12.0                 11.0                      14.0      56.383333      40.933333\n",
       "197425  46.850000  50.916667               40.183333       44.250000            5      1836                   3             300             399                    39.0                 41.0                      40.0      50.133333      41.016667\n",
       "197426  46.850000  51.125000               41.366667       46.483333            1      1175                   1             535             535                     7.0                  7.0                      12.0      65.116667      37.691667\n",
       "197427  46.850000  51.125000               41.366667       46.483333            4      2605                   4             425             750                    20.0                 20.0                      23.0      37.133333      43.133333\n",
       "\n",
       "[197223 rows x 14 columns]"
      ]
     },
     "execution_count": 103,
     "metadata": {},
     "output_type": "execute_result"
    }
   ],
   "source": [
    "data"
   ]
  },
  {
   "cell_type": "code",
   "execution_count": 112,
   "id": "c378484d",
   "metadata": {},
   "outputs": [],
   "source": [
    "# from sklearn.neighbors import LocalOutlierFactor\n",
    "# from sklearn.metrics.pairwise import cosine_distances\n"
   ]
  },
  {
   "cell_type": "code",
   "execution_count": 113,
   "id": "71969212",
   "metadata": {},
   "outputs": [],
   "source": [
    "# # Define cosine distance metric function\n",
    "# def cosine_distance(x, y):\n",
    "#     return cosine_distances([x], [y])[0][0]"
   ]
  },
  {
   "cell_type": "code",
   "execution_count": 114,
   "id": "8ee77e4f",
   "metadata": {},
   "outputs": [],
   "source": [
    "from sklearn.neighbors import LocalOutlierFactor\n",
    "\n",
    "# create an LOF object\n",
    "lof = LocalOutlierFactor(n_neighbors=20, contamination=0.15)\n",
    "\n",
    "# fit the LOF object to your data\n",
    "lof.fit(data)\n",
    "\n",
    "# predict the outlier scores for each data point\n",
    "outlier_scores = lof.negative_outlier_factor_"
   ]
  },
  {
   "cell_type": "code",
   "execution_count": 117,
   "id": "0b8f8012",
   "metadata": {},
   "outputs": [],
   "source": [
    "outliers = lof.fit_predict(data)"
   ]
  },
  {
   "cell_type": "code",
   "execution_count": 118,
   "id": "98374dd7",
   "metadata": {},
   "outputs": [
    {
     "data": {
      "text/plain": [
       "(197223,)"
      ]
     },
     "execution_count": 118,
     "metadata": {},
     "output_type": "execute_result"
    }
   ],
   "source": [
    "outliers.shape"
   ]
  },
  {
   "cell_type": "code",
   "execution_count": 119,
   "id": "c1f03576",
   "metadata": {},
   "outputs": [
    {
     "data": {
      "text/plain": [
       "(197223, 14)"
      ]
     },
     "execution_count": 119,
     "metadata": {},
     "output_type": "execute_result"
    }
   ],
   "source": [
    "data.shape"
   ]
  },
  {
   "cell_type": "code",
   "execution_count": 124,
   "id": "27552eb7",
   "metadata": {},
   "outputs": [],
   "source": [
    "after_outlier = data.loc[np.where(outliers==-1,False,True)]"
   ]
  },
  {
   "cell_type": "code",
   "execution_count": null,
   "id": "b2a3b44f",
   "metadata": {},
   "outputs": [],
   "source": []
  },
  {
   "cell_type": "code",
   "execution_count": null,
   "id": "abf078e3",
   "metadata": {},
   "outputs": [],
   "source": []
  },
  {
   "cell_type": "code",
   "execution_count": null,
   "id": "ce92a902",
   "metadata": {},
   "outputs": [],
   "source": []
  },
  {
   "cell_type": "code",
   "execution_count": null,
   "id": "ac260ced",
   "metadata": {},
   "outputs": [],
   "source": []
  },
  {
   "cell_type": "code",
   "execution_count": null,
   "id": "a2471c5e",
   "metadata": {},
   "outputs": [],
   "source": []
  },
  {
   "cell_type": "code",
   "execution_count": null,
   "id": "7a549ae0",
   "metadata": {},
   "outputs": [],
   "source": []
  },
  {
   "cell_type": "code",
   "execution_count": null,
   "id": "NCgLnW3hL6iD",
   "metadata": {
    "colab": {
     "base_uri": "https://localhost:8080/",
     "height": 507
    },
    "executionInfo": {
     "elapsed": 659,
     "status": "ok",
     "timestamp": 1676761226044,
     "user": {
      "displayName": "Sunny Panchal",
      "userId": "07638778127504651017"
     },
     "user_tz": 300
    },
    "id": "NCgLnW3hL6iD",
    "outputId": "ebbe0399-f037-4bc6-82d3-a4af85a3991a"
   },
   "outputs": [],
   "source": []
  },
  {
   "cell_type": "code",
   "execution_count": 125,
   "id": "qrkk1U_dLUvH",
   "metadata": {
    "executionInfo": {
     "elapsed": 2,
     "status": "ok",
     "timestamp": 1676761227202,
     "user": {
      "displayName": "Sunny Panchal",
      "userId": "07638778127504651017"
     },
     "user_tz": 300
    },
    "id": "qrkk1U_dLUvH"
   },
   "outputs": [],
   "source": [
    "X = after_outlier.drop(['delivery_time'],axis = 1)\n",
    "y = after_outlier[\"delivery_time\"]"
   ]
  },
  {
   "cell_type": "code",
   "execution_count": 126,
   "id": "GAusbPArMbT7",
   "metadata": {
    "executionInfo": {
     "elapsed": 7,
     "status": "ok",
     "timestamp": 1676761243828,
     "user": {
      "displayName": "Sunny Panchal",
      "userId": "07638778127504651017"
     },
     "user_tz": 300
    },
    "id": "GAusbPArMbT7"
   },
   "outputs": [
    {
     "data": {
      "text/plain": [
       "Index(['market_id', 'store_id', 'store_primary_category', 'order_protocol', 'total_items', 'subtotal', 'num_distinct_items', 'min_item_price', 'max_item_price', 'total_onshift_partners', 'total_busy_partners', 'total_outstanding_orders', 'order_at_hour'], dtype='object')"
      ]
     },
     "execution_count": 126,
     "metadata": {},
     "output_type": "execute_result"
    }
   ],
   "source": [
    "X.columns"
   ]
  },
  {
   "cell_type": "code",
   "execution_count": null,
   "id": "db0e5af8",
   "metadata": {},
   "outputs": [],
   "source": []
  },
  {
   "cell_type": "code",
   "execution_count": null,
   "id": "1c5834d0",
   "metadata": {},
   "outputs": [],
   "source": []
  },
  {
   "cell_type": "code",
   "execution_count": null,
   "id": "db2a4ce3",
   "metadata": {},
   "outputs": [],
   "source": []
  },
  {
   "cell_type": "code",
   "execution_count": 127,
   "id": "xRQxZ0wCMbxm",
   "metadata": {
    "executionInfo": {
     "elapsed": 200,
     "status": "ok",
     "timestamp": 1676761244810,
     "user": {
      "displayName": "Sunny Panchal",
      "userId": "07638778127504651017"
     },
     "user_tz": 300
    },
    "id": "xRQxZ0wCMbxm"
   },
   "outputs": [],
   "source": [
    "from sklearn.model_selection import train_test_split\n",
    "X_train , X_test, y_train , y_test = train_test_split(X,\n",
    "                                                      y,\n",
    "                                                      test_size = 0.20,\n",
    "                                                      random_state=225)"
   ]
  },
  {
   "cell_type": "code",
   "execution_count": null,
   "id": "L_TzhO-RMbHq",
   "metadata": {
    "executionInfo": {
     "elapsed": 2,
     "status": "ok",
     "timestamp": 1676761245036,
     "user": {
      "displayName": "Sunny Panchal",
      "userId": "07638778127504651017"
     },
     "user_tz": 300
    },
    "id": "L_TzhO-RMbHq"
   },
   "outputs": [],
   "source": []
  },
  {
   "cell_type": "code",
   "execution_count": 128,
   "id": "2DAXPf-4Cfj4",
   "metadata": {
    "colab": {
     "base_uri": "https://localhost:8080/"
    },
    "executionInfo": {
     "elapsed": 123,
     "status": "ok",
     "timestamp": 1676761246388,
     "user": {
      "displayName": "Sunny Panchal",
      "userId": "07638778127504651017"
     },
     "user_tz": 300
    },
    "id": "2DAXPf-4Cfj4",
    "outputId": "b929e96c-bd49-4fae-f725-1cf9534c0288"
   },
   "outputs": [
    {
     "data": {
      "text/html": [
       "<style>#sk-container-id-1 {color: black;background-color: white;}#sk-container-id-1 pre{padding: 0;}#sk-container-id-1 div.sk-toggleable {background-color: white;}#sk-container-id-1 label.sk-toggleable__label {cursor: pointer;display: block;width: 100%;margin-bottom: 0;padding: 0.3em;box-sizing: border-box;text-align: center;}#sk-container-id-1 label.sk-toggleable__label-arrow:before {content: \"▸\";float: left;margin-right: 0.25em;color: #696969;}#sk-container-id-1 label.sk-toggleable__label-arrow:hover:before {color: black;}#sk-container-id-1 div.sk-estimator:hover label.sk-toggleable__label-arrow:before {color: black;}#sk-container-id-1 div.sk-toggleable__content {max-height: 0;max-width: 0;overflow: hidden;text-align: left;background-color: #f0f8ff;}#sk-container-id-1 div.sk-toggleable__content pre {margin: 0.2em;color: black;border-radius: 0.25em;background-color: #f0f8ff;}#sk-container-id-1 input.sk-toggleable__control:checked~div.sk-toggleable__content {max-height: 200px;max-width: 100%;overflow: auto;}#sk-container-id-1 input.sk-toggleable__control:checked~label.sk-toggleable__label-arrow:before {content: \"▾\";}#sk-container-id-1 div.sk-estimator input.sk-toggleable__control:checked~label.sk-toggleable__label {background-color: #d4ebff;}#sk-container-id-1 div.sk-label input.sk-toggleable__control:checked~label.sk-toggleable__label {background-color: #d4ebff;}#sk-container-id-1 input.sk-hidden--visually {border: 0;clip: rect(1px 1px 1px 1px);clip: rect(1px, 1px, 1px, 1px);height: 1px;margin: -1px;overflow: hidden;padding: 0;position: absolute;width: 1px;}#sk-container-id-1 div.sk-estimator {font-family: monospace;background-color: #f0f8ff;border: 1px dotted black;border-radius: 0.25em;box-sizing: border-box;margin-bottom: 0.5em;}#sk-container-id-1 div.sk-estimator:hover {background-color: #d4ebff;}#sk-container-id-1 div.sk-parallel-item::after {content: \"\";width: 100%;border-bottom: 1px solid gray;flex-grow: 1;}#sk-container-id-1 div.sk-label:hover label.sk-toggleable__label {background-color: #d4ebff;}#sk-container-id-1 div.sk-serial::before {content: \"\";position: absolute;border-left: 1px solid gray;box-sizing: border-box;top: 0;bottom: 0;left: 50%;z-index: 0;}#sk-container-id-1 div.sk-serial {display: flex;flex-direction: column;align-items: center;background-color: white;padding-right: 0.2em;padding-left: 0.2em;position: relative;}#sk-container-id-1 div.sk-item {position: relative;z-index: 1;}#sk-container-id-1 div.sk-parallel {display: flex;align-items: stretch;justify-content: center;background-color: white;position: relative;}#sk-container-id-1 div.sk-item::before, #sk-container-id-1 div.sk-parallel-item::before {content: \"\";position: absolute;border-left: 1px solid gray;box-sizing: border-box;top: 0;bottom: 0;left: 50%;z-index: -1;}#sk-container-id-1 div.sk-parallel-item {display: flex;flex-direction: column;z-index: 1;position: relative;background-color: white;}#sk-container-id-1 div.sk-parallel-item:first-child::after {align-self: flex-end;width: 50%;}#sk-container-id-1 div.sk-parallel-item:last-child::after {align-self: flex-start;width: 50%;}#sk-container-id-1 div.sk-parallel-item:only-child::after {width: 0;}#sk-container-id-1 div.sk-dashed-wrapped {border: 1px dashed gray;margin: 0 0.4em 0.5em 0.4em;box-sizing: border-box;padding-bottom: 0.4em;background-color: white;}#sk-container-id-1 div.sk-label label {font-family: monospace;font-weight: bold;display: inline-block;line-height: 1.2em;}#sk-container-id-1 div.sk-label-container {text-align: center;}#sk-container-id-1 div.sk-container {/* jupyter's `normalize.less` sets `[hidden] { display: none; }` but bootstrap.min.css set `[hidden] { display: none !important; }` so we also need the `!important` here to be able to override the default hidden behavior on the sphinx rendered scikit-learn.org. See: https://github.com/scikit-learn/scikit-learn/issues/21755 */display: inline-block !important;position: relative;}#sk-container-id-1 div.sk-text-repr-fallback {display: none;}</style><div id=\"sk-container-id-1\" class=\"sk-top-container\"><div class=\"sk-text-repr-fallback\"><pre>StandardScaler()</pre><b>In a Jupyter environment, please rerun this cell to show the HTML representation or trust the notebook. <br />On GitHub, the HTML representation is unable to render, please try loading this page with nbviewer.org.</b></div><div class=\"sk-container\" hidden><div class=\"sk-item\"><div class=\"sk-estimator sk-toggleable\"><input class=\"sk-toggleable__control sk-hidden--visually\" id=\"sk-estimator-id-1\" type=\"checkbox\" checked><label for=\"sk-estimator-id-1\" class=\"sk-toggleable__label sk-toggleable__label-arrow\">StandardScaler</label><div class=\"sk-toggleable__content\"><pre>StandardScaler()</pre></div></div></div></div></div>"
      ],
      "text/plain": [
       "StandardScaler()"
      ]
     },
     "execution_count": 128,
     "metadata": {},
     "output_type": "execute_result"
    }
   ],
   "source": [
    "from sklearn.preprocessing import StandardScaler\n",
    "scaler = StandardScaler()\n",
    "scaler.fit(X_train)"
   ]
  },
  {
   "cell_type": "code",
   "execution_count": 129,
   "id": "1C1jbkHSCfiB",
   "metadata": {
    "executionInfo": {
     "elapsed": 282,
     "status": "ok",
     "timestamp": 1676761247963,
     "user": {
      "displayName": "Sunny Panchal",
      "userId": "07638778127504651017"
     },
     "user_tz": 300
    },
    "id": "1C1jbkHSCfiB"
   },
   "outputs": [],
   "source": [
    "X_train = scaler.transform(X_train)\n",
    "X_test = scaler.transform(X_test)"
   ]
  },
  {
   "cell_type": "code",
   "execution_count": 136,
   "id": "Qzp9Yvu8Cfgl",
   "metadata": {
    "colab": {
     "base_uri": "https://localhost:8080/",
     "height": 487
    },
    "executionInfo": {
     "elapsed": 141,
     "status": "ok",
     "timestamp": 1676761328882,
     "user": {
      "displayName": "Sunny Panchal",
      "userId": "07638778127504651017"
     },
     "user_tz": 300
    },
    "id": "Qzp9Yvu8Cfgl",
    "outputId": "2229a16d-3e32-4926-e8c6-b31481b35b39"
   },
   "outputs": [],
   "source": [
    "# pd.DataFrame(X_test,columns=X.columns)"
   ]
  },
  {
   "cell_type": "code",
   "execution_count": 131,
   "id": "TKDzvOxyCfel",
   "metadata": {
    "id": "TKDzvOxyCfel"
   },
   "outputs": [],
   "source": [
    "from sklearn.metrics import mean_absolute_error, mean_absolute_percentage_error, mean_squared_error, median_absolute_error, r2_score, adjusted_mutual_info_score"
   ]
  },
  {
   "cell_type": "code",
   "execution_count": 132,
   "id": "n_UCDKtaCfcf",
   "metadata": {
    "id": "n_UCDKtaCfcf"
   },
   "outputs": [],
   "source": [
    "from sklearn.ensemble import RandomForestRegressor"
   ]
  },
  {
   "cell_type": "code",
   "execution_count": 133,
   "id": "P3LX0oUaCfaM",
   "metadata": {
    "id": "P3LX0oUaCfaM"
   },
   "outputs": [],
   "source": [
    "RFR = RandomForestRegressor(n_estimators = 20)"
   ]
  },
  {
   "cell_type": "code",
   "execution_count": 134,
   "id": "sl2Xx5z8CfYM",
   "metadata": {
    "id": "sl2Xx5z8CfYM"
   },
   "outputs": [],
   "source": [
    "from sklearn.model_selection import cross_validate"
   ]
  },
  {
   "cell_type": "code",
   "execution_count": 135,
   "id": "RHYCqmCnCfVG",
   "metadata": {
    "id": "RHYCqmCnCfVG"
   },
   "outputs": [],
   "source": [
    "scores = cross_validate(RFR, \n",
    "                        X_train,\n",
    "                        y_train,\n",
    "                        scoring=\"r2\",\n",
    "                     cv=4, return_train_score=True)\n"
   ]
  },
  {
   "cell_type": "code",
   "execution_count": 137,
   "id": "TuXCGLJdCfTQ",
   "metadata": {
    "id": "TuXCGLJdCfTQ"
   },
   "outputs": [],
   "source": [
    "# >>> sorted(scores.keys())\n",
    "# ['fit_time', 'score_time', 'test_prec_macro', 'test_rec_macro',\n",
    "#  'train_prec_macro', 'train_rec_macro']\n",
    "# >>> scores['train_rec_macro']\n",
    "# array([0.97..., 0.97..., 0.99..., 0.98..., 0.98...])"
   ]
  },
  {
   "cell_type": "code",
   "execution_count": 138,
   "id": "61337b04",
   "metadata": {},
   "outputs": [
    {
     "data": {
      "text/plain": [
       "{'fit_time': array([18.21100879, 17.61668301, 17.67042756, 17.59089589]),\n",
       " 'score_time': array([0.30209827, 0.33820128, 0.28596878, 0.28363299]),\n",
       " 'test_score': array([0.297713  , 0.30004146, 0.30419447, 0.30333587]),\n",
       " 'train_score': array([0.88848169, 0.88938792, 0.88781237, 0.88754026])}"
      ]
     },
     "execution_count": 138,
     "metadata": {},
     "output_type": "execute_result"
    }
   ],
   "source": [
    "scores"
   ]
  },
  {
   "cell_type": "code",
   "execution_count": null,
   "id": "089b0ff7",
   "metadata": {},
   "outputs": [],
   "source": []
  },
  {
   "cell_type": "code",
   "execution_count": null,
   "id": "950b53bc",
   "metadata": {},
   "outputs": [],
   "source": []
  },
  {
   "cell_type": "code",
   "execution_count": null,
   "id": "b5154783",
   "metadata": {},
   "outputs": [],
   "source": []
  },
  {
   "cell_type": "code",
   "execution_count": null,
   "id": "f3477dcb",
   "metadata": {},
   "outputs": [],
   "source": []
  },
  {
   "cell_type": "code",
   "execution_count": null,
   "id": "c73a4c74",
   "metadata": {},
   "outputs": [],
   "source": []
  },
  {
   "cell_type": "code",
   "execution_count": null,
   "id": "yMC7MGcBCfRi",
   "metadata": {
    "colab": {
     "base_uri": "https://localhost:8080/"
    },
    "executionInfo": {
     "elapsed": 738733,
     "status": "ok",
     "timestamp": 1676682148656,
     "user": {
      "displayName": "Sunny Panchal",
      "userId": "07638778127504651017"
     },
     "user_tz": 300
    },
    "id": "yMC7MGcBCfRi",
    "outputId": "3623fe9e-defa-405e-ec36-37d9f7466607"
   },
   "outputs": [],
   "source": [
    "RF = RandomForestRegressor(max_depth=20, \n",
    "                             random_state=42,\n",
    "                             bootstrap =True,\n",
    "                             n_estimators=100,\n",
    "                             n_jobs=-1,\n",
    "                              ccp_alpha=0.001)\n",
    "RF.fit(X_train,y_train)"
   ]
  },
  {
   "cell_type": "code",
   "execution_count": 90,
   "id": "Z0wq0ybhCfPD",
   "metadata": {
    "id": "Z0wq0ybhCfPD"
   },
   "outputs": [],
   "source": [
    "y_test_pred = RF.predict(X_test)\n"
   ]
  },
  {
   "cell_type": "code",
   "execution_count": 91,
   "id": "4_euo-WvCfM9",
   "metadata": {
    "id": "4_euo-WvCfM9",
    "outputId": "41c0d213-93ed-4541-a594-90e081e95f68"
   },
   "outputs": [
    {
     "data": {
      "text/plain": [
       "0.2448983954567456"
      ]
     },
     "execution_count": 91,
     "metadata": {},
     "output_type": "execute_result"
    }
   ],
   "source": [
    "mean_absolute_percentage_error(y_test,y_test_pred)"
   ]
  },
  {
   "cell_type": "code",
   "execution_count": 92,
   "id": "a96cc08a",
   "metadata": {
    "id": "a96cc08a",
    "outputId": "26ae6ca5-db8b-4985-c6b3-3b1fbc1c382e"
   },
   "outputs": [
    {
     "data": {
      "text/plain": [
       "0.15511441715026994"
      ]
     },
     "execution_count": 92,
     "metadata": {},
     "output_type": "execute_result"
    }
   ],
   "source": [
    "mean_absolute_percentage_error(y_train,RF.predict(X_train))"
   ]
  },
  {
   "cell_type": "code",
   "execution_count": 93,
   "id": "UM_GBUrUCfKc",
   "metadata": {
    "id": "UM_GBUrUCfKc",
    "outputId": "bf1f8f44-6f39-4dbc-face-82556aa06321"
   },
   "outputs": [
    {
     "data": {
      "text/plain": [
       "14.734728471983345"
      ]
     },
     "execution_count": 93,
     "metadata": {},
     "output_type": "execute_result"
    }
   ],
   "source": [
    "np.sqrt(mean_squared_error(y_test,y_test_pred))"
   ]
  },
  {
   "cell_type": "code",
   "execution_count": null,
   "id": "44ee4662",
   "metadata": {
    "id": "44ee4662"
   },
   "outputs": [],
   "source": []
  },
  {
   "cell_type": "code",
   "execution_count": 94,
   "id": "7EzRj9_CCfH7",
   "metadata": {
    "id": "7EzRj9_CCfH7",
    "outputId": "56e28e13-4b21-4a3b-9da2-d80cd2be25a6"
   },
   "outputs": [
    {
     "data": {
      "text/plain": [
       "10.757710887454119"
      ]
     },
     "execution_count": 94,
     "metadata": {},
     "output_type": "execute_result"
    }
   ],
   "source": [
    "mean_absolute_error(y_test,y_test_pred)"
   ]
  },
  {
   "cell_type": "code",
   "execution_count": 95,
   "id": "a8cMwpHUCfFc",
   "metadata": {
    "id": "a8cMwpHUCfFc",
    "outputId": "30dd0c61-dc91-4e32-bd37-4788bce850d4"
   },
   "outputs": [
    {
     "data": {
      "text/plain": [
       "(0.3313056427655301, 0.7707092871179118)"
      ]
     },
     "execution_count": 95,
     "metadata": {},
     "output_type": "execute_result"
    }
   ],
   "source": [
    "r2_score(y_test,y_test_pred),r2_score(y_train,RF.predict(X_train))"
   ]
  },
  {
   "cell_type": "code",
   "execution_count": null,
   "id": "Fckpb3D7CfAA",
   "metadata": {
    "id": "Fckpb3D7CfAA"
   },
   "outputs": [],
   "source": []
  },
  {
   "cell_type": "code",
   "execution_count": null,
   "id": "0980d2fb",
   "metadata": {
    "id": "0980d2fb"
   },
   "outputs": [],
   "source": []
  },
  {
   "cell_type": "code",
   "execution_count": 96,
   "id": "ef7ce41e",
   "metadata": {
    "id": "ef7ce41e"
   },
   "outputs": [
    {
     "data": {
      "image/png": "[encoded data removed]",
      "text/plain": [
       "<Figure size 864x432 with 1 Axes>"
      ]
     },
     "metadata": {
      "needs_background": "light"
     },
     "output_type": "display_data"
    }
   ],
   "source": [
    "sns.boxplot(data=X)\n",
    "\n",
    "plt.xticks(rotation=90);"
   ]
  },
  {
   "cell_type": "code",
   "execution_count": 97,
   "id": "78a54fd9",
   "metadata": {
    "id": "78a54fd9"
   },
   "outputs": [],
   "source": []
  },
  {
   "cell_type": "code",
   "execution_count": null,
   "id": "bf6e502b",
   "metadata": {
    "id": "bf6e502b"
   },
   "outputs": [],
   "source": []
  },
  {
   "cell_type": "code",
   "execution_count": null,
   "id": "cdb0c7bb",
   "metadata": {
    "id": "cdb0c7bb"
   },
   "outputs": [],
   "source": []
  },
  {
   "cell_type": "code",
   "execution_count": null,
   "id": "c252ec37",
   "metadata": {
    "id": "c252ec37"
   },
   "outputs": [],
   "source": []
  },
  {
   "cell_type": "code",
   "execution_count": null,
   "id": "944e6001",
   "metadata": {
    "id": "944e6001"
   },
   "outputs": [],
   "source": []
  },
  {
   "cell_type": "code",
   "execution_count": null,
   "id": "cffa84d0",
   "metadata": {
    "id": "cffa84d0"
   },
   "outputs": [],
   "source": []
  },
  {
   "cell_type": "code",
   "execution_count": null,
   "id": "6d24e91d",
   "metadata": {
    "id": "6d24e91d"
   },
   "outputs": [],
   "source": []
  },
  {
   "cell_type": "code",
   "execution_count": null,
   "id": "8ee5563e",
   "metadata": {
    "id": "8ee5563e"
   },
   "outputs": [],
   "source": []
  },
  {
   "cell_type": "code",
   "execution_count": null,
   "id": "e00c03a4",
   "metadata": {
    "id": "e00c03a4"
   },
   "outputs": [],
   "source": []
  },
  {
   "cell_type": "code",
   "execution_count": null,
   "id": "11c28971",
   "metadata": {
    "id": "11c28971"
   },
   "outputs": [],
   "source": []
  },
  {
   "cell_type": "code",
   "execution_count": null,
   "id": "5b964ac7",
   "metadata": {
    "id": "5b964ac7"
   },
   "outputs": [],
   "source": []
  }
 ],
 "metadata": {
  "colab": {
   "provenance": []
  },
  "kernelspec": {
   "display_name": "Python 3 (ipykernel)",
   "language": "python",
   "name": "python3"
  },
  "language_info": {
   "codemirror_mode": {
    "name": "ipython",
    "version": 3
   },
   "file_extension": ".py",
   "mimetype": "text/x-python",
   "name": "python",
   "nbconvert_exporter": "python",
   "pygments_lexer": "ipython3",
   "version": "3.9.7"
  }
 },
 "nbformat": 4,
 "nbformat_minor": 5
}
