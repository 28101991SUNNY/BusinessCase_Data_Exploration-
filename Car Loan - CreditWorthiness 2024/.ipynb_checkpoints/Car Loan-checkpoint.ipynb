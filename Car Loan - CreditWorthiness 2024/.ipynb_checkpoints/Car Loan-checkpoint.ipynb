{
 "cells": [
  {
   "cell_type": "code",
   "execution_count": 1,
   "id": "2e9a814d",
   "metadata": {},
   "outputs": [],
   "source": [
    "import os\n",
    "import pandas as pd\n",
    "import numpy as np\n",
    "import warnings\n",
    "warnings.filterwarnings(\"ignore\")\n",
    "import matplotlib.pyplot as plt\n",
    "import seaborn as sns\n",
    "\n",
    "\n",
    "import datetime\n",
    "\n",
    "from sklearn.preprocessing import StandardScaler\n",
    "from sklearn.pipeline import Pipeline\n",
    "\n",
    "from sklearn.model_selection import train_test_split\n",
    "\n",
    "from sklearn.svm import SVC\n",
    "from sklearn.linear_model import LogisticRegression\n",
    "\n",
    "from sklearn.svm import SVC\n",
    "from sklearn.metrics import roc_curve, auc,RocCurveDisplay\n",
    "import datetime\n",
    "\n",
    "\n",
    "from sklearn.metrics import classification_report, confusion_matrix, roc_auc_score, roc_curve\n",
    "from sklearn.metrics import accuracy_score, precision_score, recall_score,confusion_matrix, ConfusionMatrixDisplay\n",
    "from sklearn.metrics import make_scorer ,auc\n",
    "from sklearn.metrics import f1_score,fbeta_score,f1_score, confusion_matrix, precision_score, recall_score, roc_auc_score, roc_curve\n",
    "from sklearn.metrics import precision_recall_curve\n",
    "\n",
    "\n",
    "def precision_recall_curve_plot(X,y,model):\n",
    "#     plt.rcParams['figure.dpi'] = 300\n",
    "    y_scores = model.predict_proba(X)[:, 1]\n",
    "    y_true = y.copy()\n",
    "    def get_pr_curve(y_true, y_scores):\n",
    "        thresholds = np.linspace(0, 1, 101)  # 101 thresholds between 0 and 1\n",
    "        precision_values = []\n",
    "        recall_values = []\n",
    "\n",
    "        for threshold in thresholds:\n",
    "            y_pred = [1 if score >= threshold else 0 for score in y_scores]\n",
    "            true_positives = sum((yt == 1 and yp == 1) for yt, yp in zip(y_true, y_pred))\n",
    "            false_positives = sum((yt == 0 and yp == 1) for yt, yp in zip(y_true, y_pred))\n",
    "            false_negatives = sum((yt == 1 and yp == 0) for yt, yp in zip(y_true, y_pred))\n",
    "\n",
    "            if true_positives + false_positives == 0:\n",
    "                precision = 1.0  # Handle the case of zero false positives\n",
    "            else:\n",
    "                precision = true_positives / (true_positives + false_positives)\n",
    "\n",
    "            if true_positives + false_negatives == 0:\n",
    "                recall = 1.0  # Handle the case of zero false negatives\n",
    "            else:\n",
    "                recall = true_positives / (true_positives + false_negatives)\n",
    "\n",
    "            precision_values.append(precision)\n",
    "            recall_values.append(recall)\n",
    "\n",
    "        # Find the threshold where precision and recall intersect (F1 score maximization)\n",
    "        f1_scores = 2 * (np.array(precision_values) * np.array(recall_values)) / (np.array(precision_values) + np.array(recall_values))\n",
    "        best_threshold_index = np.argmax(f1_scores)\n",
    "        best_threshold = thresholds[best_threshold_index]\n",
    "\n",
    "        return thresholds, precision_values, recall_values, best_threshold\n",
    "\n",
    "\n",
    "    thresholds, precision_values, recall_values, best_threshold = get_pr_curve(y_true, y_scores)\n",
    "\n",
    "    # Plot the Precision-Recall curve with threshold on the x-axis and intersection point\n",
    "    \n",
    "    plt.plot(thresholds, precision_values, label='Precision', marker='o', linestyle='-',linewidth=1, markersize=3)\n",
    "    plt.plot(thresholds, recall_values, label='Recall', marker='o', linestyle='-',linewidth=1, markersize=3)\n",
    "    plt.xlabel('Threshold')\n",
    "    plt.ylabel('Precision and Recall')\n",
    "    plt.title('Precision-Recall Curve')\n",
    "    plt.grid(True)\n",
    "    plt.legend()\n",
    "    plt.show()\n",
    "\n",
    "\n",
    "    \n",
    "def Binary_Classification_Function(model, X_train, X_test, y_train, y_test, class_names=None):\n",
    "    if class_names == None:\n",
    "        class_names = list(np.unique(y_train))\n",
    "\n",
    "    # Train the model\n",
    "    model.fit(X_train, y_train)\n",
    "    ###########################################################################\n",
    "    \n",
    "    # Predictions on train and test data\n",
    "    y_train_pred = model.predict(X_train)\n",
    "    y_test_pred = model.predict(X_test)\n",
    "    ###########################################################################\n",
    "    \n",
    "    # Metrics\n",
    "    precision_train = precision_score(y_train, y_train_pred)\n",
    "    recall_train = recall_score(y_train, y_train_pred)\n",
    "    accuracy_train = accuracy_score(y_train, y_train_pred)\n",
    "    precision_test = precision_score(y_test, y_test_pred)\n",
    "    recall_test = recall_score(y_test, y_test_pred)\n",
    "    accuracy_test = accuracy_score(y_test, y_test_pred)\n",
    "    ###########################################################################\n",
    "    \n",
    "    # ROC and AUC\n",
    "    y_train_score = model.predict_proba(X_train)[:, 1]\n",
    "    fpr_train, tpr_train, _ = roc_curve(y_train, y_train_score)\n",
    "    roc_auc_train = roc_auc_score(y_train, y_train_score)\n",
    "    \n",
    "    y_test_score = model.predict_proba(X_test)[:, 1]\n",
    "    fpr_test, tpr_test, _ = roc_curve(y_test, y_test_score)\n",
    "    roc_auc_test = roc_auc_score(y_test, y_test_score)\n",
    "    \n",
    "    #########################\n",
    "    \n",
    "    # Plot ROC curves\n",
    "    plt.figure(figsize=(9, 4))\n",
    "    plt.subplot(1, 2, 1)\n",
    "    plt.plot(fpr_train, tpr_train, label='ROC curve (area = {:.4f})'.format(roc_auc_train))\n",
    "    plt.plot([0, 1], [0, 1], 'k--')\n",
    "    plt.xlabel('False Positive Rate')\n",
    "    plt.ylabel('True Positive Rate')\n",
    "    plt.title('ROC Curve - Train')\n",
    "    plt.legend(loc='lower right')\n",
    "    \n",
    "    plt.subplot(1, 2, 2)\n",
    "    plt.plot(fpr_test, tpr_test, label='ROC curve (area = {:.4f})'.format(roc_auc_test))\n",
    "    plt.plot([0, 1], [0, 1], 'k--')\n",
    "    plt.xlabel('False Positive Rate')\n",
    "    plt.ylabel('True Positive Rate')\n",
    "    plt.title('ROC Curve - Test')\n",
    "    plt.legend(loc='lower right')\n",
    "    \n",
    "    plt.tight_layout()\n",
    "    plt.show()\n",
    "    \n",
    "    ###########################################################################\n",
    "    \n",
    "    # Confusion matrix\n",
    "    cm_train = confusion_matrix(y_train, y_train_pred)\n",
    "    cm_test = confusion_matrix(y_test, y_test_pred)\n",
    "    \n",
    "    ############\n",
    "    # Plot confusion matrices\n",
    "    plt.figure(figsize=(8, 4))\n",
    "    plt.subplot(1, 2, 1)\n",
    "    sns.heatmap(cm_train, annot=True, fmt='d', cmap='Greys', \n",
    "                xticklabels=[\"Predicted \" + str(x) for x in class_names], \n",
    "                yticklabels=[\"Actual \" + str(x) for x in class_names])\n",
    "    plt.title('Confusion Matrix - Train')\n",
    "    plt.xlabel('Predicted label')\n",
    "    plt.ylabel('True label')\n",
    "    \n",
    "    plt.subplot(1, 2, 2)\n",
    "    sns.heatmap(cm_test, annot=True, fmt='d', cmap='Blues', \n",
    "                xticklabels=[\"Predicted \" + str(x) for x in class_names], \n",
    "                yticklabels=[\"Actual \" + str(x) for x in class_names])\n",
    "    plt.title('Confusion Matrix - Test')\n",
    "    plt.xlabel('Predicted label')\n",
    "    plt.ylabel('True label')\n",
    "    \n",
    "    plt.tight_layout()\n",
    "    plt.show()\n",
    "    \n",
    "    ###########################################################################\n",
    "    \n",
    "    # Create DataFrame for metrics\n",
    "    metrics_df = pd.DataFrame({\n",
    "        'Metric': ['Precision', 'Recall', 'Accuracy', 'ROC AUC'],\n",
    "        'Train': [precision_train, recall_train, accuracy_train, roc_auc_train],\n",
    "        'Test': [precision_test, recall_test, accuracy_test, roc_auc_test]\n",
    "    })\n",
    "    \n",
    "    ###########################################################################\n",
    "    return metrics_df\n",
    "\n",
    "\n",
    "\n"
   ]
  },
  {
   "cell_type": "code",
   "execution_count": 2,
   "id": "8ceda099",
   "metadata": {},
   "outputs": [],
   "source": [
    "df = pd.read_csv(\"Car Ownership.csv\")"
   ]
  },
  {
   "cell_type": "code",
   "execution_count": 3,
   "id": "78a78aa3",
   "metadata": {},
   "outputs": [],
   "source": [
    "df[\"Monthly Income\"] = df[\"Monthly Income\"].str.replace(r'[\\D\\s]', '')\n",
    "df[\"Monthly Income\"] = pd.to_numeric(df[\"Monthly Income\"], errors='coerce')\n",
    "\n",
    "df[\"Years of Employment\"]= pd.to_numeric(df[\"Years of Employment\"].str.replace(r'[\\D\\s]', ''))"
   ]
  },
  {
   "cell_type": "code",
   "execution_count": 4,
   "id": "2deb673e",
   "metadata": {},
   "outputs": [
    {
     "data": {
      "text/plain": [
       "Stable       304\n",
       "Unstable      87\n",
       "Fair          28\n",
       "Good          26\n",
       "Unknown       25\n",
       "Excellent     22\n",
       "Poor           8\n",
       "Name: Finance Status, dtype: int64"
      ]
     },
     "execution_count": 4,
     "metadata": {},
     "output_type": "execute_result"
    }
   ],
   "source": [
    "df[\"Finance Status\"] = df[\"Finance Status\"].fillna(\"Unknow\")\n",
    "df[\"Finance Status\"] = df[\"Finance Status\"].replace({\"Unkonw\":\"Unknown\",\"Unknow\":\"Unknown\"})\n",
    "df[\"Finance Status\"].value_counts(dropna=False)"
   ]
  },
  {
   "cell_type": "code",
   "execution_count": null,
   "id": "ea69e73d",
   "metadata": {},
   "outputs": [],
   "source": []
  },
  {
   "cell_type": "code",
   "execution_count": 5,
   "id": "56dfe23d",
   "metadata": {},
   "outputs": [
    {
     "data": {
      "text/plain": [
       "No issues          326\n",
       "Late payment        57\n",
       "Missed payments     53\n",
       "unknown             28\n",
       "Poor                12\n",
       "Excellent           10\n",
       "Good                 8\n",
       "Fair                 6\n",
       "Name: Finance History, dtype: int64"
      ]
     },
     "execution_count": 5,
     "metadata": {},
     "output_type": "execute_result"
    }
   ],
   "source": [
    "df[\"Finance History\"]=df[\"Finance History\"].fillna(\"nan\")\n",
    "df[\"Finance History\"] = df[\"Finance History\"].replace({\n",
    "    'No issues':'No issues',\n",
    "    'Late payment 2 months ago':'Late payment',\n",
    "    'Late payment 6 months ago':'Late payment',\n",
    "    'Late payment 3 months ago':'Late payment',\n",
    "    'Late payment 1 month ago':'Late payment',\n",
    "    'nan':\"unknown\",\n",
    "#     'Excellent':\n",
    "#     'Poor':\n",
    "#     'Good':\n",
    "#     'Fair':\n",
    "    'No significant issues':'No issues',\n",
    "    'Missed payments in the past':'Missed payments',\n",
    "    'Late payments':'Late payment',\n",
    "    'Late payment':'Late payment',\n",
    "    'No significant issue':'No issues',\n",
    "    'Late payments, collections':'Late payment',\n",
    "    'Missed payments, collections, charge-offs':'Missed payments'\n",
    "    \n",
    "})\n",
    "df[\"Finance History\"].value_counts(dropna=False)"
   ]
  },
  {
   "cell_type": "code",
   "execution_count": null,
   "id": "f1d1c507",
   "metadata": {},
   "outputs": [],
   "source": []
  },
  {
   "cell_type": "code",
   "execution_count": 6,
   "id": "0fac0f03",
   "metadata": {},
   "outputs": [
    {
     "data": {
      "text/plain": [
       "Index(['Occupation', 'Monthly Income', 'Credit Score', 'Years of Employment',\n",
       "       'Finance Status', 'Finance History', 'Car', 'Number of Children'],\n",
       "      dtype='object')"
      ]
     },
     "execution_count": 6,
     "metadata": {},
     "output_type": "execute_result"
    }
   ],
   "source": [
    "df.columns"
   ]
  },
  {
   "cell_type": "code",
   "execution_count": 7,
   "id": "83e1cf24",
   "metadata": {},
   "outputs": [
    {
     "data": {
      "text/plain": [
       "Yes    301\n",
       "No     179\n",
       "NaN     20\n",
       "Name: Car, dtype: int64"
      ]
     },
     "execution_count": 7,
     "metadata": {},
     "output_type": "execute_result"
    }
   ],
   "source": [
    "df[\"Car\"].value_counts(dropna=False)"
   ]
  },
  {
   "cell_type": "code",
   "execution_count": 8,
   "id": "84edaa04",
   "metadata": {},
   "outputs": [],
   "source": [
    "df['Number of Children'] = pd.to_numeric(df['Number of Children'].str.replace(r'[\\D\\s]', '')).fillna(0)\n"
   ]
  },
  {
   "cell_type": "code",
   "execution_count": 9,
   "id": "ac40d98a",
   "metadata": {},
   "outputs": [
    {
     "data": {
      "text/plain": [
       "(430, 8)"
      ]
     },
     "execution_count": 9,
     "metadata": {},
     "output_type": "execute_result"
    }
   ],
   "source": [
    "df.dropna().shape"
   ]
  },
  {
   "cell_type": "code",
   "execution_count": 10,
   "id": "53606fc5",
   "metadata": {},
   "outputs": [],
   "source": [
    "df = df.dropna()"
   ]
  },
  {
   "cell_type": "code",
   "execution_count": 11,
   "id": "b4339dd2",
   "metadata": {},
   "outputs": [],
   "source": [
    "# pip install category_encoders"
   ]
  },
  {
   "cell_type": "code",
   "execution_count": 12,
   "id": "56fceb94",
   "metadata": {},
   "outputs": [],
   "source": [
    "from category_encoders import TargetEncoder\n"
   ]
  },
  {
   "cell_type": "code",
   "execution_count": 13,
   "id": "4bc720e4",
   "metadata": {},
   "outputs": [],
   "source": [
    "df[\"Car\"] = df[\"Car\"].replace({\n",
    "    \"Yes\":1, \"No\":0\n",
    "})"
   ]
  },
  {
   "cell_type": "code",
   "execution_count": null,
   "id": "f5711465",
   "metadata": {},
   "outputs": [],
   "source": []
  },
  {
   "cell_type": "code",
   "execution_count": 14,
   "id": "4c9eb921",
   "metadata": {},
   "outputs": [],
   "source": [
    "mappings = {}\n",
    "\n",
    "# Loop through each categorical column to target encode\n",
    "for column in ['Occupation','Finance Status','Finance History']:\n",
    "    # Initialize the target encoder\n",
    "    encoder = TargetEncoder(cols=[column])\n",
    "\n",
    "    # Fit the encoder to your data\n",
    "    encoder.fit(df[column], df['Car'])\n",
    "\n",
    "    # Perform target encoding\n",
    "    encoded_values = encoder.transform(df[column])\n",
    "\n",
    "    # Create a mapping dictionary for the current column\n",
    "    mapping = dict(zip(df[column], encoded_values.values.ravel()))\n",
    "  \n",
    "    # Store the mapping in the mappings dictionary\n",
    "    mappings[column] = mapping\n",
    "\n",
    "# Print the mappings\n"
   ]
  },
  {
   "cell_type": "code",
   "execution_count": 15,
   "id": "fe09c38b",
   "metadata": {
    "scrolled": true
   },
   "outputs": [],
   "source": [
    "# mappings"
   ]
  },
  {
   "cell_type": "code",
   "execution_count": 16,
   "id": "e5cf8176",
   "metadata": {},
   "outputs": [
    {
     "data": {
      "text/plain": [
       "dict_keys(['Occupation', 'Finance Status', 'Finance History'])"
      ]
     },
     "execution_count": 16,
     "metadata": {},
     "output_type": "execute_result"
    }
   ],
   "source": [
    "(mappings.keys())"
   ]
  },
  {
   "cell_type": "code",
   "execution_count": 17,
   "id": "49d44539",
   "metadata": {},
   "outputs": [],
   "source": [
    "df[\"Occupation\"]  = df[\"Occupation\"].replace(mappings[\"Occupation\"])\n",
    "df[\"Finance Status\"]  = df[\"Finance Status\"].replace(mappings[\"Finance Status\"])\n",
    "df[\"Finance History\"]  = df[\"Finance History\"].replace(mappings[\"Finance History\"])"
   ]
  },
  {
   "cell_type": "code",
   "execution_count": 18,
   "id": "6143fb28",
   "metadata": {},
   "outputs": [
    {
     "data": {
      "text/html": [
       "<div>\n",
       "<style scoped>\n",
       "    .dataframe tbody tr th:only-of-type {\n",
       "        vertical-align: middle;\n",
       "    }\n",
       "\n",
       "    .dataframe tbody tr th {\n",
       "        vertical-align: top;\n",
       "    }\n",
       "\n",
       "    .dataframe thead th {\n",
       "        text-align: right;\n",
       "    }\n",
       "</style>\n",
       "<table border=\"1\" class=\"dataframe\">\n",
       "  <thead>\n",
       "    <tr style=\"text-align: right;\">\n",
       "      <th></th>\n",
       "      <th>Occupation</th>\n",
       "      <th>Monthly Income</th>\n",
       "      <th>Credit Score</th>\n",
       "      <th>Years of Employment</th>\n",
       "      <th>Finance Status</th>\n",
       "      <th>Finance History</th>\n",
       "      <th>Car</th>\n",
       "      <th>Number of Children</th>\n",
       "    </tr>\n",
       "  </thead>\n",
       "  <tbody>\n",
       "    <tr>\n",
       "      <th>0</th>\n",
       "      <td>0.680990</td>\n",
       "      <td>40000.0</td>\n",
       "      <td>750.0</td>\n",
       "      <td>10.0</td>\n",
       "      <td>0.722450</td>\n",
       "      <td>0.821918</td>\n",
       "      <td>1</td>\n",
       "      <td>2.0</td>\n",
       "    </tr>\n",
       "    <tr>\n",
       "      <th>1</th>\n",
       "      <td>0.672315</td>\n",
       "      <td>60000.0</td>\n",
       "      <td>800.0</td>\n",
       "      <td>8.0</td>\n",
       "      <td>0.722450</td>\n",
       "      <td>0.821918</td>\n",
       "      <td>1</td>\n",
       "      <td>1.0</td>\n",
       "    </tr>\n",
       "    <tr>\n",
       "      <th>2</th>\n",
       "      <td>0.597992</td>\n",
       "      <td>25000.0</td>\n",
       "      <td>650.0</td>\n",
       "      <td>5.0</td>\n",
       "      <td>0.394687</td>\n",
       "      <td>0.201684</td>\n",
       "      <td>0</td>\n",
       "      <td>0.0</td>\n",
       "    </tr>\n",
       "    <tr>\n",
       "      <th>3</th>\n",
       "      <td>0.708975</td>\n",
       "      <td>80000.0</td>\n",
       "      <td>900.0</td>\n",
       "      <td>12.0</td>\n",
       "      <td>0.686729</td>\n",
       "      <td>0.821918</td>\n",
       "      <td>1</td>\n",
       "      <td>3.0</td>\n",
       "    </tr>\n",
       "    <tr>\n",
       "      <th>4</th>\n",
       "      <td>0.698151</td>\n",
       "      <td>100000.0</td>\n",
       "      <td>700.0</td>\n",
       "      <td>15.0</td>\n",
       "      <td>0.722450</td>\n",
       "      <td>0.201684</td>\n",
       "      <td>1</td>\n",
       "      <td>2.0</td>\n",
       "    </tr>\n",
       "    <tr>\n",
       "      <th>...</th>\n",
       "      <td>...</td>\n",
       "      <td>...</td>\n",
       "      <td>...</td>\n",
       "      <td>...</td>\n",
       "      <td>...</td>\n",
       "      <td>...</td>\n",
       "      <td>...</td>\n",
       "      <td>...</td>\n",
       "    </tr>\n",
       "    <tr>\n",
       "      <th>495</th>\n",
       "      <td>0.698151</td>\n",
       "      <td>7000.0</td>\n",
       "      <td>730.0</td>\n",
       "      <td>5.0</td>\n",
       "      <td>0.825279</td>\n",
       "      <td>0.821918</td>\n",
       "      <td>1</td>\n",
       "      <td>0.0</td>\n",
       "    </tr>\n",
       "    <tr>\n",
       "      <th>496</th>\n",
       "      <td>0.233217</td>\n",
       "      <td>4500.0</td>\n",
       "      <td>680.0</td>\n",
       "      <td>4.0</td>\n",
       "      <td>0.825279</td>\n",
       "      <td>0.821918</td>\n",
       "      <td>1</td>\n",
       "      <td>0.0</td>\n",
       "    </tr>\n",
       "    <tr>\n",
       "      <th>497</th>\n",
       "      <td>0.693248</td>\n",
       "      <td>5500.0</td>\n",
       "      <td>690.0</td>\n",
       "      <td>4.0</td>\n",
       "      <td>0.825279</td>\n",
       "      <td>0.821918</td>\n",
       "      <td>1</td>\n",
       "      <td>1.0</td>\n",
       "    </tr>\n",
       "    <tr>\n",
       "      <th>498</th>\n",
       "      <td>0.538783</td>\n",
       "      <td>3500.0</td>\n",
       "      <td>640.0</td>\n",
       "      <td>3.0</td>\n",
       "      <td>0.825279</td>\n",
       "      <td>0.821918</td>\n",
       "      <td>0</td>\n",
       "      <td>1.0</td>\n",
       "    </tr>\n",
       "    <tr>\n",
       "      <th>499</th>\n",
       "      <td>0.500741</td>\n",
       "      <td>3200.0</td>\n",
       "      <td>641.0</td>\n",
       "      <td>4.0</td>\n",
       "      <td>0.825279</td>\n",
       "      <td>0.821918</td>\n",
       "      <td>0</td>\n",
       "      <td>2.0</td>\n",
       "    </tr>\n",
       "  </tbody>\n",
       "</table>\n",
       "<p>430 rows × 8 columns</p>\n",
       "</div>"
      ],
      "text/plain": [
       "     Occupation  Monthly Income  Credit Score  Years of Employment  \\\n",
       "0      0.680990         40000.0         750.0                 10.0   \n",
       "1      0.672315         60000.0         800.0                  8.0   \n",
       "2      0.597992         25000.0         650.0                  5.0   \n",
       "3      0.708975         80000.0         900.0                 12.0   \n",
       "4      0.698151        100000.0         700.0                 15.0   \n",
       "..          ...             ...           ...                  ...   \n",
       "495    0.698151          7000.0         730.0                  5.0   \n",
       "496    0.233217          4500.0         680.0                  4.0   \n",
       "497    0.693248          5500.0         690.0                  4.0   \n",
       "498    0.538783          3500.0         640.0                  3.0   \n",
       "499    0.500741          3200.0         641.0                  4.0   \n",
       "\n",
       "     Finance Status  Finance History  Car  Number of Children  \n",
       "0          0.722450         0.821918    1                 2.0  \n",
       "1          0.722450         0.821918    1                 1.0  \n",
       "2          0.394687         0.201684    0                 0.0  \n",
       "3          0.686729         0.821918    1                 3.0  \n",
       "4          0.722450         0.201684    1                 2.0  \n",
       "..              ...              ...  ...                 ...  \n",
       "495        0.825279         0.821918    1                 0.0  \n",
       "496        0.825279         0.821918    1                 0.0  \n",
       "497        0.825279         0.821918    1                 1.0  \n",
       "498        0.825279         0.821918    0                 1.0  \n",
       "499        0.825279         0.821918    0                 2.0  \n",
       "\n",
       "[430 rows x 8 columns]"
      ]
     },
     "execution_count": 18,
     "metadata": {},
     "output_type": "execute_result"
    }
   ],
   "source": [
    "df"
   ]
  },
  {
   "cell_type": "code",
   "execution_count": 19,
   "id": "63e6e61b",
   "metadata": {},
   "outputs": [],
   "source": [
    "X = df.drop([\"Car\"],axis=1)\n",
    "y = df[\"Car\"]\n",
    "\n",
    "\n",
    "random_state  = 2\n",
    "X_train, X_test, y_train, y_test = train_test_split(X, y, test_size=0.15, random_state=random_state)\n"
   ]
  },
  {
   "cell_type": "code",
   "execution_count": null,
   "id": "edfcad62",
   "metadata": {},
   "outputs": [],
   "source": []
  },
  {
   "cell_type": "code",
   "execution_count": null,
   "id": "23b14076",
   "metadata": {},
   "outputs": [],
   "source": []
  },
  {
   "cell_type": "code",
   "execution_count": null,
   "id": "fa1481a1",
   "metadata": {},
   "outputs": [],
   "source": []
  },
  {
   "cell_type": "code",
   "execution_count": 20,
   "id": "a7ac2994",
   "metadata": {},
   "outputs": [],
   "source": [
    "from sklearn.linear_model import LogisticRegression\n"
   ]
  },
  {
   "cell_type": "code",
   "execution_count": 21,
   "id": "6884d879",
   "metadata": {},
   "outputs": [],
   "source": [
    "model = Pipeline([\n",
    "    ('scaler', StandardScaler()),\n",
    "    ('LR', LogisticRegression(random_state=0)\n",
    "    )\n",
    "])\n"
   ]
  },
  {
   "cell_type": "code",
   "execution_count": 22,
   "id": "dcbfaf47",
   "metadata": {},
   "outputs": [
    {
     "data": {
      "image/png": "[encoded data removed]",
      "text/plain": [
       "<Figure size 900x400 with 2 Axes>"
      ]
     },
     "metadata": {},
     "output_type": "display_data"
    },
    {
     "data": {
      "image/png": "[encoded data removed]",
      "text/plain": [
       "<Figure size 800x400 with 4 Axes>"
      ]
     },
     "metadata": {},
     "output_type": "display_data"
    },
    {
     "data": {
      "text/html": [
       "<div>\n",
       "<style scoped>\n",
       "    .dataframe tbody tr th:only-of-type {\n",
       "        vertical-align: middle;\n",
       "    }\n",
       "\n",
       "    .dataframe tbody tr th {\n",
       "        vertical-align: top;\n",
       "    }\n",
       "\n",
       "    .dataframe thead th {\n",
       "        text-align: right;\n",
       "    }\n",
       "</style>\n",
       "<table border=\"1\" class=\"dataframe\">\n",
       "  <thead>\n",
       "    <tr style=\"text-align: right;\">\n",
       "      <th></th>\n",
       "      <th>Metric</th>\n",
       "      <th>Train</th>\n",
       "      <th>Test</th>\n",
       "    </tr>\n",
       "  </thead>\n",
       "  <tbody>\n",
       "    <tr>\n",
       "      <th>0</th>\n",
       "      <td>Precision</td>\n",
       "      <td>0.917355</td>\n",
       "      <td>0.954545</td>\n",
       "    </tr>\n",
       "    <tr>\n",
       "      <th>1</th>\n",
       "      <td>Recall</td>\n",
       "      <td>0.961039</td>\n",
       "      <td>0.976744</td>\n",
       "    </tr>\n",
       "    <tr>\n",
       "      <th>2</th>\n",
       "      <td>Accuracy</td>\n",
       "      <td>0.920548</td>\n",
       "      <td>0.953846</td>\n",
       "    </tr>\n",
       "    <tr>\n",
       "      <th>3</th>\n",
       "      <td>ROC AUC</td>\n",
       "      <td>0.976029</td>\n",
       "      <td>0.984144</td>\n",
       "    </tr>\n",
       "  </tbody>\n",
       "</table>\n",
       "</div>"
      ],
      "text/plain": [
       "      Metric     Train      Test\n",
       "0  Precision  0.917355  0.954545\n",
       "1     Recall  0.961039  0.976744\n",
       "2   Accuracy  0.920548  0.953846\n",
       "3    ROC AUC  0.976029  0.984144"
      ]
     },
     "execution_count": 22,
     "metadata": {},
     "output_type": "execute_result"
    }
   ],
   "source": [
    "Binary_Classification_Function(model, X_train, X_test, y_train, y_test)\n"
   ]
  },
  {
   "cell_type": "code",
   "execution_count": 23,
   "id": "91f2caf5",
   "metadata": {},
   "outputs": [],
   "source": [
    "import pickle\n"
   ]
  },
  {
   "cell_type": "code",
   "execution_count": 24,
   "id": "820abcb3",
   "metadata": {},
   "outputs": [],
   "source": [
    "with open('model_and_mappings.pkl', 'wb') as file:\n",
    "    pickle.dump((model, mappings), file)"
   ]
  },
  {
   "cell_type": "code",
   "execution_count": null,
   "id": "43582e35",
   "metadata": {},
   "outputs": [],
   "source": []
  },
  {
   "cell_type": "code",
   "execution_count": null,
   "id": "873c9c0a",
   "metadata": {},
   "outputs": [],
   "source": []
  },
  {
   "cell_type": "code",
   "execution_count": null,
   "id": "602839ea",
   "metadata": {},
   "outputs": [],
   "source": []
  },
  {
   "cell_type": "code",
   "execution_count": 25,
   "id": "7489cb95",
   "metadata": {},
   "outputs": [
    {
     "name": "stdout",
     "output_type": "stream",
     "text": [
      "Loaded model: Pipeline(steps=[('scaler', StandardScaler()),\n",
      "                ('LR', LogisticRegression(random_state=0))])\n"
     ]
    }
   ],
   "source": [
    "import pickle\n",
    "\n",
    "# Load the model and mappings from the pickle file\n",
    "with open('model_and_mappings.pkl', 'rb') as file:\n",
    "    model, mappings = pickle.load(file)\n",
    "\n",
    "# Now you can use the loaded model and mappings as needed\n",
    "print(\"Loaded model:\", model)\n",
    "\n"
   ]
  },
  {
   "cell_type": "code",
   "execution_count": 26,
   "id": "86e486a0",
   "metadata": {
    "scrolled": true
   },
   "outputs": [
    {
     "data": {
      "text/plain": [
       "{'Occupation': {'Teacher': 0.6809904639439527,\n",
       "  'Engineer': 0.6723148585416683,\n",
       "  'Nurse': 0.5979918995201926,\n",
       "  'Doctor': 0.7089751474066539,\n",
       "  'Businessman': 0.6981514695793204,\n",
       "  'Salesperson': 0.5209660615745543,\n",
       "  'Entrepreneur': 0.693247863611701,\n",
       "  'Lawyer': 0.7089751474066539,\n",
       "  'Accountant': 0.6809904639439527,\n",
       "  'Software Dev': 0.6886715491266886,\n",
       "  'Electrician': 0.6004515615376598,\n",
       "  'Architect': 0.7347787482179517,\n",
       "  'Marketing Exec': 0.5468204842262008,\n",
       "  'Chef': 0.23321666595021828,\n",
       "  'Police Officer': 0.5902710202226777,\n",
       "  'Real Estate Ag': 0.6886715491266886,\n",
       "  'Pilot': 0.6886715491266886,\n",
       "  'Graphic Design': 0.5468204842262008,\n",
       "  'Writer': 0.5007413612875838,\n",
       "  'Software Developer': 0.6981514695793204,\n",
       "  'Mechanic': 0.5387825985281662,\n",
       "  'Marketing': 0.6886715491266886,\n",
       "  'Graphic Designer': 0.5023475167023387,\n",
       "  'Financial Advisor': 0.7089751474066539,\n",
       "  'Real Estate Agent': 0.7278126128538643,\n",
       "  'Construction Worker': 0.5574511663358256,\n",
       "  'Designer': 0.5468204842262008,\n",
       "  'Web Developer': 0.6760057954997509,\n",
       "  'Account Manager': 0.693247863611701,\n",
       "  'Financial Analyst': 0.7089751474066539,\n",
       "  'Human Resources': 0.6981514695793204,\n",
       "  'Plumber': 0.5209660615745543,\n",
       "  'Social Worker': 0.5301698547132448,\n",
       "  'Data Scientist': 0.7089751474066539,\n",
       "  'Customer Service': 0.5387825985281662,\n",
       "  'Veterinarian': 0.7089751474066539,\n",
       "  'Web Designer': 0.5925263685550587,\n",
       "  'Insurance Agent': 0.7211863576143099,\n",
       "  'Sales Representative': 0.6231213709775504,\n",
       "  'Musician': 0.5387825985281662,\n",
       "  'Marketing Manager': 0.7149063782450252,\n",
       "  'Software Engineer': 0.7089751474066539,\n",
       "  'Dental Hygienist': 0.7149063782450252,\n",
       "  'Retail Manager': 0.693247863611701,\n",
       "  'Personal Trainer': 0.5387825985281662,\n",
       "  'Pharmacist': 0.693247863611701,\n",
       "  'Computer Programmer': 0.6844114465130876,\n",
       "  'Physical Therapist': 0.7278126128538643,\n",
       "  'Physician': 0.693247863611701,\n",
       "  'Project Manager': 0.6981514695793204,\n",
       "  'Hairdresser': 0.5543029721500897,\n",
       "  'Mechanical Engineer': 0.6981514695793204,\n",
       "  'IT Manager': 0.7033915853809106,\n",
       "  'Marketing Specialist': 0.6844114465130876,\n",
       "  'Carpenter': 0.6177460166764447,\n",
       "  'Optometrist': 0.6844114465130876,\n",
       "  'Graphic Artist': 0.6177460166764447,\n",
       "  'Dental Assistant': 0.5387825985281662,\n",
       "  'Fashion Designer': 0.5468204842262008,\n",
       "  'Business Owner': 0.6844114465130876,\n",
       "  'Barista': 0.5543029721500897,\n",
       "  'Physical Education Teacher': 0.6141606621462826,\n",
       "  'Human Resources Manager': 0.6981514695793204,\n",
       "  'Photographer': 0.5387825985281662,\n",
       "  'Waiter/Waitress': 0.5543029721500897,\n",
       "  'Hair Stylist': 0.5468204842262008,\n",
       "  'Psychologist': 0.6886715491266886,\n",
       "  'Medical Assistant': 0.5387825985281662,\n",
       "  'Bartender': 0.5543029721500897,\n",
       "  'Physician Assistant': 0.693247863611701,\n",
       "  'Customer Service Rep': 0.5007413612875838,\n",
       "  'Elementary School Teacher': 0.5543029721500897,\n",
       "  'Retail Salesperson': 0.5543029721500897,\n",
       "  'Executive Assistant': 0.6417594419171894,\n",
       "  'Automotive Mechanic': 0.5543029721500897,\n",
       "  'Flight Attendant': 0.6844114465130876,\n",
       "  'Physical Therapist Assistant': 0.5543029721500897,\n",
       "  'Financial Manager': 0.6844114465130876,\n",
       "  'Veterinarian Technician': 0.5543029721500897,\n",
       "  'Marketing Coordinator': 0.5939362710970968,\n",
       "  'Bank Teller': 0.5387825985281662,\n",
       "  'Event Planner': 0.5902710202226777,\n",
       "  'Office Manager': 0.6886715491266886,\n",
       "  'Business Analyst': 0.693247863611701,\n",
       "  'Insurance Underwriter': 0.6844114465130876,\n",
       "  'Marketing Analyst': 0.6844114465130876,\n",
       "  'IT Support Specialist': 0.6844114465130876,\n",
       "  'Data Analyst': 0.6886715491266886,\n",
       "  'Mechanical Technician': 0.6177460166764447,\n",
       "  'Account Executive': 0.6981514695793204,\n",
       "  'HR Generalist': 0.6886715491266886,\n",
       "  'Attorney': 0.693247863611701,\n",
       "  'Sales Manager': 0.7211863576143099,\n",
       "  'HR Specialist': 0.6844114465130876,\n",
       "  'Nurse Practitioner': 0.6844114465130876,\n",
       "  'Physical Trainer': 0.6886715491266886,\n",
       "  'Interior Designer': 0.693247863611701,\n",
       "  'Computer Technician': 0.6844114465130876,\n",
       "  'Dentist': 0.6844114465130876,\n",
       "  'Fitness Instructor': 0.5543029721500897,\n",
       "  'Software Architect': 0.6844114465130876,\n",
       "  'IT Consultant': 0.6844114465130876,\n",
       "  'Electrical Engineer': 0.6844114465130876,\n",
       "  'Investment Banker': 0.6844114465130876,\n",
       "  'Registered Nurse': 0.6844114465130876,\n",
       "  'Art Director': 0.6844114465130876,\n",
       "  'Mechanical Designer': 0.6844114465130876,\n",
       "  'Civil Engineer': 0.6844114465130876,\n",
       "  'Social Media Manager': 0.6844114465130876,\n",
       "  'Financial Planner': 0.6844114465130876,\n",
       "  'Public Relations': 0.6844114465130876,\n",
       "  'HR Manager': 0.6844114465130876,\n",
       "  'Management Consultant': 0.6844114465130876,\n",
       "  'Customer Support': 0.5543029721500897},\n",
       " 'Finance Status': {'Good': 0.7224497949900961,\n",
       "  'Fair': 0.3946867106202611,\n",
       "  'Excellent': 0.6867292352759229,\n",
       "  'Poor': 0.48971114111332753,\n",
       "  'Stable': 0.8252788104060353,\n",
       "  'Unstable': 0.07385715050803715,\n",
       "  'Unknown': 0.6100670916859449},\n",
       " 'Finance History': {'No issues': 0.8219178082188938,\n",
       "  'Late payment': 0.20168355038769673,\n",
       "  'Excellent': 0.7347787482179517,\n",
       "  'Poor': 0.43965815774178096,\n",
       "  'Good': 0.7211863576143099,\n",
       "  'Fair': 0.5111590359652357,\n",
       "  'Missed payments': 0.05299841590542958,\n",
       "  'unknown': 0.6922519555516871}}"
      ]
     },
     "execution_count": 26,
     "metadata": {},
     "output_type": "execute_result"
    }
   ],
   "source": [
    "mappings"
   ]
  },
  {
   "cell_type": "code",
   "execution_count": null,
   "id": "cd5b3a05",
   "metadata": {},
   "outputs": [],
   "source": []
  },
  {
   "cell_type": "code",
   "execution_count": 27,
   "id": "34620f80",
   "metadata": {},
   "outputs": [
    {
     "data": {
      "text/plain": [
       "Index(['Occupation', 'Monthly Income', 'Credit Score', 'Years of Employment',\n",
       "       'Finance Status', 'Finance History', 'Car', 'Number of Children'],\n",
       "      dtype='object')"
      ]
     },
     "execution_count": 27,
     "metadata": {},
     "output_type": "execute_result"
    }
   ],
   "source": [
    "df.columns"
   ]
  },
  {
   "cell_type": "code",
   "execution_count": null,
   "id": "e1156f7d",
   "metadata": {},
   "outputs": [],
   "source": []
  },
  {
   "cell_type": "code",
   "execution_count": null,
   "id": "1745000b",
   "metadata": {},
   "outputs": [],
   "source": []
  },
  {
   "cell_type": "code",
   "execution_count": 28,
   "id": "8f6398cf",
   "metadata": {},
   "outputs": [],
   "source": [
    "def predict_with_mapping(input_data, model_path='model_and_mappings.pkl'):\n",
    "    # Load the model and mappings from the pickle file\n",
    "    with open(model_path, 'rb') as file:\n",
    "        model, mappings = pickle.load(file)\n",
    "    \n",
    "    # Initialize an empty DataFrame to store the encoded input data\n",
    "    encoded_data = pd.DataFrame(index=input_data.index)\n",
    "    # Loop through each column in the input data\n",
    "    for column in input_data.columns:\n",
    "#         print(column,end=\" \")\n",
    "        # Check if the column is categorical and has a mapping\n",
    "        if column in mappings:\n",
    "            # Map input data to encoded values using the precomputed mapping\n",
    "            encoded_data[column] = input_data[column].map(mappings[column])\n",
    "#             print(input_data[column].map(mappings[column])[0])\n",
    "        else:\n",
    "            # If the column is not categorical or has no mapping, simply copy it\n",
    "            encoded_data[column] = input_data[column]\n",
    "#             print(input_data[column][0])\n",
    "    # Use the model to make predictions on the encoded input data\n",
    "    predictions = model.predict(encoded_data)\n",
    "    \n",
    "    return predictions\n"
   ]
  },
  {
   "cell_type": "code",
   "execution_count": 47,
   "id": "ccb546d8",
   "metadata": {},
   "outputs": [
    {
     "data": {
      "text/html": [
       "<div>\n",
       "<style scoped>\n",
       "    .dataframe tbody tr th:only-of-type {\n",
       "        vertical-align: middle;\n",
       "    }\n",
       "\n",
       "    .dataframe tbody tr th {\n",
       "        vertical-align: top;\n",
       "    }\n",
       "\n",
       "    .dataframe thead th {\n",
       "        text-align: right;\n",
       "    }\n",
       "</style>\n",
       "<table border=\"1\" class=\"dataframe\">\n",
       "  <thead>\n",
       "    <tr style=\"text-align: right;\">\n",
       "      <th></th>\n",
       "      <th>Occupation</th>\n",
       "      <th>Monthly Income</th>\n",
       "      <th>Credit Score</th>\n",
       "      <th>Years of Employment</th>\n",
       "      <th>Finance Status</th>\n",
       "      <th>Finance History</th>\n",
       "      <th>Number of Children</th>\n",
       "    </tr>\n",
       "  </thead>\n",
       "  <tbody>\n",
       "    <tr>\n",
       "      <th>0</th>\n",
       "      <td>Designer</td>\n",
       "      <td>6000</td>\n",
       "      <td>800</td>\n",
       "      <td>5</td>\n",
       "      <td>Excellent</td>\n",
       "      <td>Excellent</td>\n",
       "      <td>3</td>\n",
       "    </tr>\n",
       "    <tr>\n",
       "      <th>1</th>\n",
       "      <td>Hairdresser</td>\n",
       "      <td>2000</td>\n",
       "      <td>800</td>\n",
       "      <td>5</td>\n",
       "      <td>Unknown</td>\n",
       "      <td>unknown</td>\n",
       "      <td>0</td>\n",
       "    </tr>\n",
       "    <tr>\n",
       "      <th>2</th>\n",
       "      <td>Chef</td>\n",
       "      <td>2000</td>\n",
       "      <td>300</td>\n",
       "      <td>9</td>\n",
       "      <td>Unknown</td>\n",
       "      <td>unknown</td>\n",
       "      <td>0</td>\n",
       "    </tr>\n",
       "  </tbody>\n",
       "</table>\n",
       "</div>"
      ],
      "text/plain": [
       "    Occupation  Monthly Income  Credit Score  Years of Employment  \\\n",
       "0     Designer            6000           800                    5   \n",
       "1  Hairdresser            2000           800                    5   \n",
       "2         Chef            2000           300                    9   \n",
       "\n",
       "  Finance Status Finance History  Number of Children  \n",
       "0      Excellent       Excellent                   3  \n",
       "1        Unknown         unknown                   0  \n",
       "2        Unknown         unknown                   0  "
      ]
     },
     "metadata": {},
     "output_type": "display_data"
    },
    {
     "data": {
      "text/plain": [
       "array([1, 1, 0])"
      ]
     },
     "execution_count": 47,
     "metadata": {},
     "output_type": "execute_result"
    }
   ],
   "source": [
    "input_data = pd.DataFrame({\n",
    "    'Occupation': ['Designer','Hairdresser','Chef'],\n",
    "    'Monthly Income': [6000,2000,2000],\n",
    "    'Credit Score': [800,800,300],\n",
    "    'Years of Employment': [5,5,9],\n",
    "    'Finance Status': ['Excellent',\"Unknown\",'Unknown'],\n",
    "    'Finance History': ['Excellent',\"unknown\",'unknown'],\n",
    "    'Number of Children': [3,0,0]\n",
    "})\n",
    "display(input_data)\n",
    "predict_with_mapping(input_data, model_path='model_and_mappings.pkl')"
   ]
  },
  {
   "cell_type": "code",
   "execution_count": null,
   "id": "71487522",
   "metadata": {
    "scrolled": false
   },
   "outputs": [],
   "source": [
    "\n"
   ]
  },
  {
   "cell_type": "code",
   "execution_count": null,
   "id": "c7463910",
   "metadata": {},
   "outputs": [],
   "source": []
  },
  {
   "cell_type": "code",
   "execution_count": 30,
   "id": "ab5411aa",
   "metadata": {},
   "outputs": [
    {
     "data": {
      "text/plain": [
       "array([0])"
      ]
     },
     "execution_count": 30,
     "metadata": {},
     "output_type": "execute_result"
    }
   ],
   "source": [
    "input_data = pd.DataFrame({\n",
    "    'Occupation': ['Hairdresser'],\n",
    "    'Monthly Income': [20],\n",
    "    'Credit Score': [300],\n",
    "    'Years of Employment': [0.5],\n",
    "    'Finance Status': ['Unknown'],\n",
    "    'Finance History': ['unknown'],\n",
    "    'Number of Children': [3]\n",
    "})\n",
    "input_data\n",
    "predict_with_mapping(input_data, model_path='model_and_mappings.pkl')"
   ]
  },
  {
   "cell_type": "code",
   "execution_count": 31,
   "id": "6b6d9272",
   "metadata": {},
   "outputs": [
    {
     "data": {
      "text/plain": [
       "{'Good': 0.7224497949900961,\n",
       " 'Fair': 0.3946867106202611,\n",
       " 'Excellent': 0.6867292352759229,\n",
       " 'Poor': 0.48971114111332753,\n",
       " 'Stable': 0.8252788104060353,\n",
       " 'Unstable': 0.07385715050803715,\n",
       " 'Unknown': 0.6100670916859449}"
      ]
     },
     "execution_count": 31,
     "metadata": {},
     "output_type": "execute_result"
    }
   ],
   "source": [
    "mappings[\"Finance Status\"]"
   ]
  },
  {
   "cell_type": "code",
   "execution_count": 32,
   "id": "6600cd33",
   "metadata": {},
   "outputs": [
    {
     "data": {
      "text/plain": [
       "{'No issues': 0.8219178082188938,\n",
       " 'Late payment': 0.20168355038769673,\n",
       " 'Excellent': 0.7347787482179517,\n",
       " 'Poor': 0.43965815774178096,\n",
       " 'Good': 0.7211863576143099,\n",
       " 'Fair': 0.5111590359652357,\n",
       " 'Missed payments': 0.05299841590542958,\n",
       " 'unknown': 0.6922519555516871}"
      ]
     },
     "execution_count": 32,
     "metadata": {},
     "output_type": "execute_result"
    }
   ],
   "source": [
    "mappings[\"Finance History\"]"
   ]
  },
  {
   "cell_type": "code",
   "execution_count": 33,
   "id": "4408b6c7",
   "metadata": {
    "scrolled": false
   },
   "outputs": [
    {
     "data": {
      "text/plain": [
       "{'Chef': 0.23321666595021828,\n",
       " 'Writer': 0.5007413612875838,\n",
       " 'Customer Service Rep': 0.5007413612875838,\n",
       " 'Graphic Designer': 0.5023475167023387,\n",
       " 'Salesperson': 0.5209660615745543,\n",
       " 'Plumber': 0.5209660615745543,\n",
       " 'Social Worker': 0.5301698547132448,\n",
       " 'Mechanic': 0.5387825985281662,\n",
       " 'Customer Service': 0.5387825985281662,\n",
       " 'Musician': 0.5387825985281662,\n",
       " 'Personal Trainer': 0.5387825985281662,\n",
       " 'Dental Assistant': 0.5387825985281662,\n",
       " 'Photographer': 0.5387825985281662,\n",
       " 'Medical Assistant': 0.5387825985281662,\n",
       " 'Bank Teller': 0.5387825985281662,\n",
       " 'Marketing Exec': 0.5468204842262008,\n",
       " 'Graphic Design': 0.5468204842262008,\n",
       " 'Designer': 0.5468204842262008,\n",
       " 'Fashion Designer': 0.5468204842262008,\n",
       " 'Hair Stylist': 0.5468204842262008,\n",
       " 'Hairdresser': 0.5543029721500897,\n",
       " 'Barista': 0.5543029721500897,\n",
       " 'Waiter/Waitress': 0.5543029721500897,\n",
       " 'Bartender': 0.5543029721500897,\n",
       " 'Elementary School Teacher': 0.5543029721500897,\n",
       " 'Retail Salesperson': 0.5543029721500897,\n",
       " 'Automotive Mechanic': 0.5543029721500897,\n",
       " 'Physical Therapist Assistant': 0.5543029721500897,\n",
       " 'Veterinarian Technician': 0.5543029721500897,\n",
       " 'Fitness Instructor': 0.5543029721500897,\n",
       " 'Customer Support': 0.5543029721500897,\n",
       " 'Construction Worker': 0.5574511663358256,\n",
       " 'Police Officer': 0.5902710202226777,\n",
       " 'Event Planner': 0.5902710202226777,\n",
       " 'Web Designer': 0.5925263685550587,\n",
       " 'Marketing Coordinator': 0.5939362710970968,\n",
       " 'Nurse': 0.5979918995201926,\n",
       " 'Electrician': 0.6004515615376598,\n",
       " 'Physical Education Teacher': 0.6141606621462826,\n",
       " 'Carpenter': 0.6177460166764447,\n",
       " 'Graphic Artist': 0.6177460166764447,\n",
       " 'Mechanical Technician': 0.6177460166764447,\n",
       " 'Sales Representative': 0.6231213709775504,\n",
       " 'Executive Assistant': 0.6417594419171894,\n",
       " 'Engineer': 0.6723148585416683,\n",
       " 'Web Developer': 0.6760057954997509,\n",
       " 'Teacher': 0.6809904639439527,\n",
       " 'Accountant': 0.6809904639439527,\n",
       " 'Computer Programmer': 0.6844114465130876,\n",
       " 'Marketing Specialist': 0.6844114465130876,\n",
       " 'Optometrist': 0.6844114465130876,\n",
       " 'Business Owner': 0.6844114465130876,\n",
       " 'Flight Attendant': 0.6844114465130876,\n",
       " 'Financial Manager': 0.6844114465130876,\n",
       " 'Insurance Underwriter': 0.6844114465130876,\n",
       " 'Marketing Analyst': 0.6844114465130876,\n",
       " 'IT Support Specialist': 0.6844114465130876,\n",
       " 'HR Specialist': 0.6844114465130876,\n",
       " 'Nurse Practitioner': 0.6844114465130876,\n",
       " 'Computer Technician': 0.6844114465130876,\n",
       " 'Dentist': 0.6844114465130876,\n",
       " 'Software Architect': 0.6844114465130876,\n",
       " 'IT Consultant': 0.6844114465130876,\n",
       " 'Electrical Engineer': 0.6844114465130876,\n",
       " 'Investment Banker': 0.6844114465130876,\n",
       " 'Registered Nurse': 0.6844114465130876,\n",
       " 'Art Director': 0.6844114465130876,\n",
       " 'Mechanical Designer': 0.6844114465130876,\n",
       " 'Civil Engineer': 0.6844114465130876,\n",
       " 'Social Media Manager': 0.6844114465130876,\n",
       " 'Financial Planner': 0.6844114465130876,\n",
       " 'Public Relations': 0.6844114465130876,\n",
       " 'HR Manager': 0.6844114465130876,\n",
       " 'Management Consultant': 0.6844114465130876,\n",
       " 'Software Dev': 0.6886715491266886,\n",
       " 'Real Estate Ag': 0.6886715491266886,\n",
       " 'Pilot': 0.6886715491266886,\n",
       " 'Marketing': 0.6886715491266886,\n",
       " 'Psychologist': 0.6886715491266886,\n",
       " 'Office Manager': 0.6886715491266886,\n",
       " 'Data Analyst': 0.6886715491266886,\n",
       " 'HR Generalist': 0.6886715491266886,\n",
       " 'Physical Trainer': 0.6886715491266886,\n",
       " 'Entrepreneur': 0.693247863611701,\n",
       " 'Account Manager': 0.693247863611701,\n",
       " 'Retail Manager': 0.693247863611701,\n",
       " 'Pharmacist': 0.693247863611701,\n",
       " 'Physician': 0.693247863611701,\n",
       " 'Physician Assistant': 0.693247863611701,\n",
       " 'Business Analyst': 0.693247863611701,\n",
       " 'Attorney': 0.693247863611701,\n",
       " 'Interior Designer': 0.693247863611701,\n",
       " 'Businessman': 0.6981514695793204,\n",
       " 'Software Developer': 0.6981514695793204,\n",
       " 'Human Resources': 0.6981514695793204,\n",
       " 'Project Manager': 0.6981514695793204,\n",
       " 'Mechanical Engineer': 0.6981514695793204,\n",
       " 'Human Resources Manager': 0.6981514695793204,\n",
       " 'Account Executive': 0.6981514695793204,\n",
       " 'IT Manager': 0.7033915853809106,\n",
       " 'Doctor': 0.7089751474066539,\n",
       " 'Lawyer': 0.7089751474066539,\n",
       " 'Financial Advisor': 0.7089751474066539,\n",
       " 'Financial Analyst': 0.7089751474066539,\n",
       " 'Data Scientist': 0.7089751474066539,\n",
       " 'Veterinarian': 0.7089751474066539,\n",
       " 'Software Engineer': 0.7089751474066539,\n",
       " 'Marketing Manager': 0.7149063782450252,\n",
       " 'Dental Hygienist': 0.7149063782450252,\n",
       " 'Insurance Agent': 0.7211863576143099,\n",
       " 'Sales Manager': 0.7211863576143099,\n",
       " 'Real Estate Agent': 0.7278126128538643,\n",
       " 'Physical Therapist': 0.7278126128538643,\n",
       " 'Architect': 0.7347787482179517}"
      ]
     },
     "execution_count": 33,
     "metadata": {},
     "output_type": "execute_result"
    }
   ],
   "source": [
    "dict(sorted(mappings[\"Occupation\"].items(), key=lambda item: item[1]))"
   ]
  },
  {
   "cell_type": "code",
   "execution_count": null,
   "id": "9e406ae8",
   "metadata": {},
   "outputs": [],
   "source": []
  },
  {
   "cell_type": "code",
   "execution_count": null,
   "id": "7b1070ad",
   "metadata": {},
   "outputs": [],
   "source": []
  },
  {
   "cell_type": "code",
   "execution_count": null,
   "id": "8c793567",
   "metadata": {},
   "outputs": [],
   "source": []
  },
  {
   "cell_type": "code",
   "execution_count": null,
   "id": "5db2cd0f",
   "metadata": {},
   "outputs": [],
   "source": []
  },
  {
   "cell_type": "code",
   "execution_count": 34,
   "id": "381a1a7f",
   "metadata": {},
   "outputs": [
    {
     "data": {
      "image/png": "[encoded data removed]",
      "text/plain": [
       "<Figure size 1000x600 with 1 Axes>"
      ]
     },
     "metadata": {},
     "output_type": "display_data"
    }
   ],
   "source": [
    "from sklearn.inspection import permutation_importance\n",
    "\n",
    "perm_importance = permutation_importance(model, X_test, y_test, n_repeats=50, random_state=random_state)\n",
    "\n",
    "# Get feature importances\n",
    "feature_importances = (perm_importance.importances_mean)\n",
    "\n",
    "\n",
    "\n",
    "# Normalize feature importances\n",
    "total_importance = np.sum(feature_importances)\n",
    "normalized_importances = (feature_importances / total_importance) * 100\n",
    "\n",
    "# Create a DataFrame to store feature names and normalized importances\n",
    "importance_df = pd.DataFrame({'Feature': X.columns, 'Importance': normalized_importances})\n",
    "\n",
    "# Sort the DataFrame by importance\n",
    "importance_df = importance_df.sort_values(by='Importance', ascending=False)\n",
    "importance_df_SVM = importance_df.copy()\n",
    "\n",
    "\n",
    "# Plot the feature importances\n",
    "plt.figure(figsize=(10, 6))\n",
    "plt.barh(importance_df['Feature'], importance_df['Importance'])\n",
    "plt.xlabel('Permutation Importance (%)')  # Updated xlabel\n",
    "plt.ylabel('Feature')\n",
    "plt.title('Feature Importance (Permutation Importance - SVM)')\n",
    "plt.xticks(np.arange(0, 50, 2))  # Set x-ticks to range from 0 to 100 with a step of 10\n",
    "plt.gca().invert_yaxis()  # Invert y-axis to display feature with highest importance at the top\n",
    "plt.show()\n"
   ]
  },
  {
   "cell_type": "code",
   "execution_count": null,
   "id": "ee746789",
   "metadata": {},
   "outputs": [],
   "source": []
  },
  {
   "cell_type": "code",
   "execution_count": 52,
   "id": "0b95556e",
   "metadata": {},
   "outputs": [
    {
     "data": {
      "text/plain": [
       "['Teacher',\n",
       " 'Engineer',\n",
       " 'Nurse',\n",
       " 'Doctor',\n",
       " 'Businessman',\n",
       " 'Salesperson',\n",
       " 'Entrepreneur',\n",
       " 'Lawyer',\n",
       " 'Accountant',\n",
       " 'Software Dev',\n",
       " 'Electrician',\n",
       " 'Architect',\n",
       " 'Marketing Exec',\n",
       " 'Chef',\n",
       " 'Police Officer',\n",
       " 'Real Estate Ag',\n",
       " 'Pilot',\n",
       " 'Graphic Design',\n",
       " 'Writer',\n",
       " 'Software Developer',\n",
       " 'Mechanic',\n",
       " 'Marketing',\n",
       " 'Graphic Designer',\n",
       " 'Financial Advisor',\n",
       " 'Real Estate Agent',\n",
       " 'Construction Worker',\n",
       " 'Designer',\n",
       " 'Web Developer',\n",
       " 'Account Manager',\n",
       " 'Financial Analyst',\n",
       " 'Human Resources',\n",
       " 'Plumber',\n",
       " 'Social Worker',\n",
       " 'Data Scientist',\n",
       " 'Customer Service',\n",
       " 'Veterinarian',\n",
       " 'Web Designer',\n",
       " 'Insurance Agent',\n",
       " 'Sales Representative',\n",
       " 'Musician',\n",
       " 'Marketing Manager',\n",
       " 'Software Engineer',\n",
       " 'Dental Hygienist',\n",
       " 'Retail Manager',\n",
       " 'Personal Trainer',\n",
       " 'Pharmacist',\n",
       " 'Computer Programmer',\n",
       " 'Physical Therapist',\n",
       " 'Physician',\n",
       " 'Project Manager',\n",
       " 'Hairdresser',\n",
       " 'Mechanical Engineer',\n",
       " 'IT Manager',\n",
       " 'Marketing Specialist',\n",
       " 'Carpenter',\n",
       " 'Optometrist',\n",
       " 'Graphic Artist',\n",
       " 'Dental Assistant',\n",
       " 'Fashion Designer',\n",
       " 'Business Owner',\n",
       " 'Barista',\n",
       " 'Physical Education Teacher',\n",
       " 'Human Resources Manager',\n",
       " 'Photographer',\n",
       " 'Waiter/Waitress',\n",
       " 'Hair Stylist',\n",
       " 'Psychologist',\n",
       " 'Medical Assistant',\n",
       " 'Bartender',\n",
       " 'Physician Assistant',\n",
       " 'Customer Service Rep',\n",
       " 'Elementary School Teacher',\n",
       " 'Retail Salesperson',\n",
       " 'Executive Assistant',\n",
       " 'Automotive Mechanic',\n",
       " 'Flight Attendant',\n",
       " 'Physical Therapist Assistant',\n",
       " 'Financial Manager',\n",
       " 'Veterinarian Technician',\n",
       " 'Marketing Coordinator',\n",
       " 'Bank Teller',\n",
       " 'Event Planner',\n",
       " 'Office Manager',\n",
       " 'Business Analyst',\n",
       " 'Insurance Underwriter',\n",
       " 'Marketing Analyst',\n",
       " 'IT Support Specialist',\n",
       " 'Data Analyst',\n",
       " 'Mechanical Technician',\n",
       " 'Account Executive',\n",
       " 'HR Generalist',\n",
       " 'Attorney',\n",
       " 'Sales Manager',\n",
       " 'HR Specialist',\n",
       " 'Nurse Practitioner',\n",
       " 'Physical Trainer',\n",
       " 'Interior Designer',\n",
       " 'Computer Technician',\n",
       " 'Dentist',\n",
       " 'Fitness Instructor',\n",
       " 'Software Architect',\n",
       " 'IT Consultant',\n",
       " 'Electrical Engineer',\n",
       " 'Investment Banker',\n",
       " 'Registered Nurse',\n",
       " 'Art Director',\n",
       " 'Mechanical Designer',\n",
       " 'Civil Engineer',\n",
       " 'Social Media Manager',\n",
       " 'Financial Planner',\n",
       " 'Public Relations',\n",
       " 'HR Manager',\n",
       " 'Management Consultant',\n",
       " 'Customer Support']"
      ]
     },
     "execution_count": 52,
     "metadata": {},
     "output_type": "execute_result"
    }
   ],
   "source": [
    "list(mappings[\"Occupation\"].keys())"
   ]
  },
  {
   "cell_type": "code",
   "execution_count": null,
   "id": "65d58ed7",
   "metadata": {},
   "outputs": [],
   "source": []
  },
  {
   "cell_type": "code",
   "execution_count": null,
   "id": "daf9019e",
   "metadata": {},
   "outputs": [],
   "source": []
  },
  {
   "cell_type": "code",
   "execution_count": 53,
   "id": "879deaef",
   "metadata": {},
   "outputs": [],
   "source": [
    "from flask import Flask, request, jsonify\n",
    "import pandas as pd\n",
    "import pickle\n",
    "import logging\n",
    "\n",
    "# app = Flask(__name__)"
   ]
  },
  {
   "cell_type": "code",
   "execution_count": null,
   "id": "1cd1827f",
   "metadata": {},
   "outputs": [],
   "source": []
  },
  {
   "cell_type": "code",
   "execution_count": null,
   "id": "e6ca77e1",
   "metadata": {},
   "outputs": [],
   "source": [
    "\n",
    "def predict_with_mapping(input_data, model, mappings):\n",
    "    # Create a DataFrame with a single row using input data\n",
    "    input_df = pd.DataFrame.from_dict(input_data, orient='index').T\n",
    "\n",
    "    # Initialize an empty DataFrame for encoded data\n",
    "    encoded_data = pd.DataFrame(index=input_df.index)\n",
    "\n",
    "    # Apply mappings to categorical columns\n",
    "    for column in input_df.columns:\n",
    "        if column in mappings:\n",
    "            encoded_data[column] = input_df[column].map(mappings[column])\n",
    "        else:\n",
    "            encoded_data[column] = input_df[column]\n",
    "\n",
    "    # Perform prediction\n",
    "    prediction = model.predict(encoded_data)\n",
    "\n",
    "    return prediction\n"
   ]
  },
  {
   "cell_type": "code",
   "execution_count": null,
   "id": "1b438e71",
   "metadata": {},
   "outputs": [],
   "source": []
  },
  {
   "cell_type": "code",
   "execution_count": null,
   "id": "4b4b5b2b",
   "metadata": {},
   "outputs": [],
   "source": []
  },
  {
   "cell_type": "code",
   "execution_count": null,
   "id": "a40fccc0",
   "metadata": {},
   "outputs": [],
   "source": []
  },
  {
   "cell_type": "code",
   "execution_count": null,
   "id": "93bdcce6",
   "metadata": {},
   "outputs": [],
   "source": [
    "@app.route('/predict', methods=['POST'])\n",
    "def predict():\n",
    "    try:\n",
    "        # Get JSON input data from request\n",
    "        input_data = request.get_json()\n",
    "\n",
    "        # Extract input features\n",
    "        occupation = input_data['Occupation']\n",
    "        monthly_income = input_data['Monthly Income']\n",
    "        credit_score = input_data['Credit Score']\n",
    "        years_of_employment = input_data['Years of Employment']\n",
    "        finance_status = input_data['Finance Status']\n",
    "        finance_history = input_data['Finance History']\n",
    "        num_children = input_data['Number of Children']\n",
    "\n",
    "        # Perform prediction\n",
    "        input_data_df = pd.DataFrame({\n",
    "            'Occupation': [occupation],\n",
    "            'Monthly Income': [monthly_income],\n",
    "            'Credit Score': [credit_score],\n",
    "            'Years of Employment': [years_of_employment],\n",
    "            'Finance Status': [finance_status],\n",
    "            'Finance History': [finance_history],\n",
    "            'Number of Children': [num_children]\n",
    "        })\n",
    "\n",
    "        prediction = predict_with_mapping(input_data_df, model, mappings)\n",
    "\n",
    "        logger.info(\"Prediction successful\")\n",
    "        return jsonify({'prediction': prediction.tolist()}), 200\n",
    "\n",
    "    except Exception as e:\n",
    "        logger.error(\"An error occurred during prediction: %s\", str(e))\n",
    "        return jsonify({'error': True, 'message': 'Internal Server Error'}), 500\n",
    "\n",
    "@app.route(\"/ping\", methods=[\"GET\"])\n",
    "def ping():\n",
    "    return jsonify({\"message\": \"SUCCESS\"})\n",
    "\n",
    "if __name__ == '__main__':\n",
    "    app.run(debug=True)\n"
   ]
  },
  {
   "cell_type": "code",
   "execution_count": null,
   "id": "2eae3635",
   "metadata": {},
   "outputs": [],
   "source": []
  },
  {
   "cell_type": "code",
   "execution_count": null,
   "id": "c53e13d7",
   "metadata": {},
   "outputs": [],
   "source": []
  },
  {
   "cell_type": "code",
   "execution_count": null,
   "id": "fd2ecb7e",
   "metadata": {},
   "outputs": [],
   "source": []
  },
  {
   "cell_type": "code",
   "execution_count": null,
   "id": "f7f18872",
   "metadata": {},
   "outputs": [],
   "source": []
  }
 ],
 "metadata": {
  "kernelspec": {
   "display_name": "myenv",
   "language": "python",
   "name": "myenv"
  },
  "language_info": {
   "codemirror_mode": {
    "name": "ipython",
    "version": 3
   },
   "file_extension": ".py",
   "mimetype": "text/x-python",
   "name": "python",
   "nbconvert_exporter": "python",
   "pygments_lexer": "ipython3",
   "version": "3.10.9"
  }
 },
 "nbformat": 4,
 "nbformat_minor": 5
}
