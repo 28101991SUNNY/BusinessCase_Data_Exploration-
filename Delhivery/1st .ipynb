{
 "cells": [
  {
   "cell_type": "markdown",
   "id": "faee9e70",
   "metadata": {},
   "source": [
    "\n",
    "# About Delhivery : \n",
    "\n",
    "- Delhivery is the largest and fastest-growing fully integrated player in India by revenue in Fiscal 2021. They aim to build the operating system for commerce, through a combination of world-class infrastructure, logistics operations of the highest quality, and cutting-edge engineering and technology capabilities.\n",
    "\n",
    "\n",
    "- The Data team builds intelligence and capabilities using this data that helps them to widen the gap between the quality, efficiency, and profitability of their business versus their competitors.\n",
    "\n",
    "\n",
    "# Business Problem Statement  :\n",
    "\n",
    "\n",
    "- The company wants to understand and process the data coming out of data engineering pipelines:\n",
    "\n",
    ">• Clean, sanitize and manipulate data to get useful features out of raw fields\n",
    "\n",
    ">• Make sense out of the raw data and help the data science team to build forecasting models on it.\n",
    "\n",
    "\n",
    "### Column Profiling:\n",
    "\n",
    "- data :  tells whether the data is testing or training data\n",
    "\n",
    "\n",
    "- trip_creation_time : Timestamp of trip creation\n",
    "- route_schedule_uuid : Unique Id for a particular route schedule\n",
    "- route_type : Transportation type \n",
    "    - FTL – Full Truck Load: FTL shipments get to the destination sooner, as the truck is making no other pickups or drop-offs along the way\n",
    "    - Carting: Handling system consisting of small vehicles (carts)\n",
    "    \n",
    "- trip_uuid : Unique ID given to a particular trip (A trip may include different source and destination centers)\n",
    "- source_center : Source ID of trip origin\n",
    "- source_name : Source Name of trip origin\n",
    "- destination_cente : Destination ID\n",
    "- destination_name : Destination Name\n",
    "- od_start_time : Trip start time\n",
    "- od_end_time : Trip end time\n",
    "- start_scan_to_end_scan : Time taken to deliver from source to destination\n",
    "- is_cutoff : Unknown field\n",
    "- cutoff_factor : Unknown field\n",
    "- cutoff_timestamp : Unknown field\n",
    "- actual_distance_to_destination : Distance in Kms between source and destination warehouse\n",
    "- actual_time : Actual time taken to complete the delivery (Cumulative)\n",
    "- osrm_time : An open-source routing engine time calculator which computes the shortest path between points in a given map (Includes usual traffic, distance through major and minor roads) and gives the time (Cumulative)\n",
    "- osrm_distance : An open-source routing engine which computes the shortest path between points in a given map (Includes usual traffic, distance through major and minor roads) (Cumulative)\n",
    "- factor : Unknown field\n",
    "- segment_actual_time : This is a segment time. Time taken by the subset of the package delivery\n",
    "- segment_osrm_time : This is the OSRM segment time. Time taken by the subset of the package delivery\n",
    "- segment_osrm_distance : This is the OSRM distance. Distance covered by subset of the package delivery\n",
    "- segment_factor : Unknown field\n",
    "\n",
    "\n",
    "\n",
    "\n",
    "\n",
    "\n",
    "\n",
    "##### Concept Used:\n",
    "\n",
    "    Feature Creation\n",
    "    Relationship between Features\n",
    "    Column Normalization /Column Standardization\n",
    "    Handling categorical values\n",
    "    Missing values - Outlier treatment / Types of outliers\n",
    "    \n",
    "    \n",
    "\n",
    "\n",
    "- Since delivery details of one package are divided into several rows (think of it as connecting flights to reach a particular destination).\n",
    "- Now think about how we should treat their fields if we combine these rows? What aggregation would make sense if we merge. What would happen to the numeric fields if we merge the rows?\n",
    "\n",
    "\n",
    "- Hint: You can use inbuilt functions like groupby and aggregations like sum(), cumsum() to merge some rows based on their \n",
    "1. Trip_uuid, Source ID and Destination ID \n",
    "2. Further aggregate on the basis of just Trip_uuid.\n",
    "- You can also keep the first and last values for some numeric/categorical fields if aggregating them won’t make sense.\n",
    "\n",
    "\n",
    "- #### Basic data cleaning and exploration:\n",
    "\n",
    "    > - Handle missing values in the data.\n",
    "    > - Analyze the structure of the data.\n",
    "    > - Try merging the rows using the hint mentioned above.\n",
    "    \n",
    "    \n",
    "- #### Build some features to prepare the data for actual analysis. Extract features from the below fields:\n",
    "    > - Destination Name: Split and extract features out of destination. City-place-code (State)\n",
    "    > - Source Name: Split and extract features out of destination. City-place-code (State)\n",
    "    > - Trip_creation_time: Extract features like month, year and day etc\n",
    "    \n",
    "- #### In-depth analysis and feature engineering:\n",
    "    > - Calculate the time taken between od_start_time and od_end_time and keep it as a feature. Drop the original columns, if required\n",
    "    > - Compare the difference between Point a. and start_scan_to_end_scan. Do hypothesis testing/ Visual analysis to check.\n",
    "    > - Do hypothesis testing/ visual analysis between actual_time aggregated value and OSRM time aggregated value (aggregated values are the values you’ll get after merging the rows on the basis of trip_uuid)\n",
    "    > -  Do hypothesis testing/ visual analysis between actual_time aggregated value and segment actual time aggregated value (aggregated values are the values you’ll get after merging the rows on the basis of trip_uuid)\n",
    "    > - Do hypothesis testing/ visual analysis between osrm distance aggregated value and segment osrm distance aggregated value (aggregated values are the values you’ll get after merging the rows on the basis of trip_uuid)\n",
    "    > - Do hypothesis testing/ visual analysis between osrm time aggregated value and segment osrm time aggregated value (aggregated values are the values you’ll get after merging the rows on the basis of trip_uuid)\n",
    "    > - Find outliers in the numerical variables (you might find outliers in almost all the variables), and check it using visual analysis\n",
    "    > - Handle the outliers using the IQR method.\n",
    "    > - Do one-hot encoding of categorical variables (like route_type)\n",
    "    > - Normalize/ Standardize the numerical features using MinMaxScaler or StandardScaler.\n",
    "\n",
    "\n",
    "    Define Problem Statement and perform Exploratory Data Analysis (10 points)\n",
    "\n",
    "            Definition of problem (as per given problem statement with additional views)\n",
    "\n",
    "            Observations on shape of data, data types of all the attributes,\n",
    "            conversion of categorical attributes to 'category' (If required),\n",
    "            missing value detection, statistical summary.\n",
    "\n",
    "            Visual Analysis \n",
    "            (distribution plots of all the continuous variable(s),\n",
    "            boxplots of all the categorical variables)\n",
    "\n",
    "            Insights based on EDA\n",
    "\n",
    "                Comments on range of attributes, outliers of various attributes\n",
    "                Comments on the distribution of the variables and relationship between them\n",
    "                Comments for each univariate and bivariate plot\n",
    "\n",
    "    Feature Creation (10 Points)\n",
    "\n",
    "    Merging of rows and aggregation of fields (10 Points)\n",
    "\n",
    "    Comparison & Visualization of time and distance fields (10 Points)\n",
    "\n",
    "    Missing values Treatment & Outlier treatment (10 Points)\n",
    "\n",
    "    Checking relationship between aggregated fields (10 Points)\n",
    "\n",
    "    Handling categorical values (10 Points)\n",
    "\n",
    "    Column Normalization /Column Standardization (10 Points)\n",
    "\n",
    "    Business Insights (10 Points) - \n",
    "        Should include patterns observed in the data along with what you can infer from it. Eg:\n",
    "            Check from where most orders are coming from (State, Corridor etc)\n",
    "            Busiest corridor, avg distance between them, avg time taken\n",
    "            \n",
    "            \n",
    "    Recommendations (10 Points) -\n",
    "    Actionable items for business."
   ]
  },
  {
   "cell_type": "code",
   "execution_count": null,
   "id": "89761623",
   "metadata": {},
   "outputs": [],
   "source": []
  },
  {
   "cell_type": "code",
   "execution_count": null,
   "id": "539c9b1b",
   "metadata": {},
   "outputs": [],
   "source": []
  },
  {
   "cell_type": "code",
   "execution_count": null,
   "id": "0965a5ee",
   "metadata": {},
   "outputs": [],
   "source": []
  },
  {
   "cell_type": "code",
   "execution_count": 1,
   "id": "ab67c343",
   "metadata": {},
   "outputs": [],
   "source": [
    "import pandas as pd\n",
    "import numpy as np\n",
    "import seaborn as sns\n",
    "import matplotlib.pyplot as plt\n",
    "%matplotlib inline\n",
    "from matplotlib import figure\n",
    "import warnings\n",
    "warnings.filterwarnings('ignore')\n",
    "import statsmodels.api as sm\n",
    "from scipy.stats import norm\n",
    "from scipy.stats import t\n",
    "# import plotly.express as px"
   ]
  },
  {
   "cell_type": "code",
   "execution_count": 2,
   "id": "e320b7e8",
   "metadata": {},
   "outputs": [],
   "source": [
    "pd.set_option('display.max_columns', None)"
   ]
  },
  {
   "cell_type": "code",
   "execution_count": null,
   "id": "d8d2cea5",
   "metadata": {},
   "outputs": [],
   "source": []
  },
  {
   "cell_type": "code",
   "execution_count": 3,
   "id": "82843c9d",
   "metadata": {},
   "outputs": [],
   "source": [
    "df = pd.read_csv(\"delhivery_data.txt\")"
   ]
  },
  {
   "cell_type": "code",
   "execution_count": null,
   "id": "626aeac1",
   "metadata": {},
   "outputs": [],
   "source": []
  },
  {
   "cell_type": "code",
   "execution_count": 4,
   "id": "97e86be9",
   "metadata": {},
   "outputs": [
    {
     "data": {
      "text/html": [
       "<div>\n",
       "<style scoped>\n",
       "    .dataframe tbody tr th:only-of-type {\n",
       "        vertical-align: middle;\n",
       "    }\n",
       "\n",
       "    .dataframe tbody tr th {\n",
       "        vertical-align: top;\n",
       "    }\n",
       "\n",
       "    .dataframe thead th {\n",
       "        text-align: right;\n",
       "    }\n",
       "</style>\n",
       "<table border=\"1\" class=\"dataframe\">\n",
       "  <thead>\n",
       "    <tr style=\"text-align: right;\">\n",
       "      <th></th>\n",
       "      <th>data</th>\n",
       "      <th>trip_creation_time</th>\n",
       "      <th>route_schedule_uuid</th>\n",
       "      <th>route_type</th>\n",
       "      <th>trip_uuid</th>\n",
       "      <th>source_center</th>\n",
       "      <th>source_name</th>\n",
       "      <th>destination_center</th>\n",
       "      <th>destination_name</th>\n",
       "      <th>od_start_time</th>\n",
       "      <th>od_end_time</th>\n",
       "      <th>start_scan_to_end_scan</th>\n",
       "      <th>is_cutoff</th>\n",
       "      <th>cutoff_factor</th>\n",
       "      <th>cutoff_timestamp</th>\n",
       "      <th>actual_distance_to_destination</th>\n",
       "      <th>actual_time</th>\n",
       "      <th>osrm_time</th>\n",
       "      <th>osrm_distance</th>\n",
       "      <th>factor</th>\n",
       "      <th>segment_actual_time</th>\n",
       "      <th>segment_osrm_time</th>\n",
       "      <th>segment_osrm_distance</th>\n",
       "      <th>segment_factor</th>\n",
       "    </tr>\n",
       "  </thead>\n",
       "  <tbody>\n",
       "    <tr>\n",
       "      <th>121744</th>\n",
       "      <td>training</td>\n",
       "      <td>2018-09-13 01:52:41.309789</td>\n",
       "      <td>thanos::sroute:de5e208e-7641-45e6-8100-4d9fb1e...</td>\n",
       "      <td>FTL</td>\n",
       "      <td>trip-153680356130952302</td>\n",
       "      <td>IND562132AAA</td>\n",
       "      <td>Bangalore_Nelmngla_H (Karnataka)</td>\n",
       "      <td>IND000000ACB</td>\n",
       "      <td>Gurgaon_Bilaspur_HB (Haryana)</td>\n",
       "      <td>2018-09-13 01:52:41.309789</td>\n",
       "      <td>2018-09-15 03:14:00.210257</td>\n",
       "      <td>2961.0</td>\n",
       "      <td>True</td>\n",
       "      <td>968</td>\n",
       "      <td>2018-09-13 22:18:30</td>\n",
       "      <td>974.970870</td>\n",
       "      <td>1728.0</td>\n",
       "      <td>957.0</td>\n",
       "      <td>1315.6505</td>\n",
       "      <td>1.805643</td>\n",
       "      <td>48.0</td>\n",
       "      <td>22.0</td>\n",
       "      <td>31.9122</td>\n",
       "      <td>2.181818</td>\n",
       "    </tr>\n",
       "    <tr>\n",
       "      <th>61190</th>\n",
       "      <td>training</td>\n",
       "      <td>2018-09-26 17:39:34.330564</td>\n",
       "      <td>thanos::sroute:0456b740-1dad-4929-bbe0-87d8843...</td>\n",
       "      <td>FTL</td>\n",
       "      <td>trip-153798357433033219</td>\n",
       "      <td>IND000000ACB</td>\n",
       "      <td>Gurgaon_Bilaspur_HB (Haryana)</td>\n",
       "      <td>IND562132AAA</td>\n",
       "      <td>Bangalore_Nelmngla_H (Karnataka)</td>\n",
       "      <td>2018-09-26 17:39:34.330564</td>\n",
       "      <td>2018-09-28 22:58:54.947592</td>\n",
       "      <td>3199.0</td>\n",
       "      <td>True</td>\n",
       "      <td>1210</td>\n",
       "      <td>2018-09-27 13:35:38</td>\n",
       "      <td>1210.441856</td>\n",
       "      <td>1997.0</td>\n",
       "      <td>1119.0</td>\n",
       "      <td>1491.4392</td>\n",
       "      <td>1.784629</td>\n",
       "      <td>41.0</td>\n",
       "      <td>28.0</td>\n",
       "      <td>39.8020</td>\n",
       "      <td>1.464286</td>\n",
       "    </tr>\n",
       "    <tr>\n",
       "      <th>101846</th>\n",
       "      <td>training</td>\n",
       "      <td>2018-09-14 11:39:11.273491</td>\n",
       "      <td>thanos::sroute:727b9433-49db-4b56-b560-c7c8fe2...</td>\n",
       "      <td>FTL</td>\n",
       "      <td>trip-153692515127324069</td>\n",
       "      <td>IND144001AAC</td>\n",
       "      <td>Jalandhar_Sodal Road (Punjab)</td>\n",
       "      <td>IND000000ACA</td>\n",
       "      <td>Ludhiana_MilrGanj_HB (Punjab)</td>\n",
       "      <td>2018-09-14 23:40:11.792119</td>\n",
       "      <td>2018-09-15 04:01:24.477113</td>\n",
       "      <td>261.0</td>\n",
       "      <td>True</td>\n",
       "      <td>22</td>\n",
       "      <td>2018-09-15 02:04:15</td>\n",
       "      <td>22.151358</td>\n",
       "      <td>34.0</td>\n",
       "      <td>22.0</td>\n",
       "      <td>31.0609</td>\n",
       "      <td>1.545455</td>\n",
       "      <td>34.0</td>\n",
       "      <td>22.0</td>\n",
       "      <td>31.0609</td>\n",
       "      <td>1.545455</td>\n",
       "    </tr>\n",
       "    <tr>\n",
       "      <th>42593</th>\n",
       "      <td>training</td>\n",
       "      <td>2018-09-19 17:34:56.509698</td>\n",
       "      <td>thanos::sroute:a1b25549-1e77-498f-8538-00292e5...</td>\n",
       "      <td>FTL</td>\n",
       "      <td>trip-153737849650943585</td>\n",
       "      <td>IND562132AAA</td>\n",
       "      <td>Bangalore_Nelmngla_H (Karnataka)</td>\n",
       "      <td>IND751002AAB</td>\n",
       "      <td>Bhubaneshwar_Hub (Orissa)</td>\n",
       "      <td>2018-09-19 17:34:56.509698</td>\n",
       "      <td>2018-09-21 11:48:48.982970</td>\n",
       "      <td>2533.0</td>\n",
       "      <td>True</td>\n",
       "      <td>792</td>\n",
       "      <td>2018-09-20 13:59:17</td>\n",
       "      <td>793.131965</td>\n",
       "      <td>1278.0</td>\n",
       "      <td>625.0</td>\n",
       "      <td>883.6370</td>\n",
       "      <td>2.044800</td>\n",
       "      <td>26.0</td>\n",
       "      <td>18.0</td>\n",
       "      <td>26.5933</td>\n",
       "      <td>1.444444</td>\n",
       "    </tr>\n",
       "    <tr>\n",
       "      <th>135386</th>\n",
       "      <td>training</td>\n",
       "      <td>2018-09-18 03:40:52.436626</td>\n",
       "      <td>thanos::sroute:3be4a224-4b1e-447a-a0da-a71d27f...</td>\n",
       "      <td>Carting</td>\n",
       "      <td>trip-153724205243639560</td>\n",
       "      <td>IND560099AAB</td>\n",
       "      <td>Bengaluru_Bomsndra_HB (Karnataka)</td>\n",
       "      <td>IND560002AAA</td>\n",
       "      <td>Bengaluru_KHRoad_I (Karnataka)</td>\n",
       "      <td>2018-09-18 03:40:52.436626</td>\n",
       "      <td>2018-09-18 05:48:50.191282</td>\n",
       "      <td>127.0</td>\n",
       "      <td>True</td>\n",
       "      <td>9</td>\n",
       "      <td>2018-09-18 04:51:19</td>\n",
       "      <td>11.557796</td>\n",
       "      <td>42.0</td>\n",
       "      <td>19.0</td>\n",
       "      <td>17.9902</td>\n",
       "      <td>2.210526</td>\n",
       "      <td>42.0</td>\n",
       "      <td>19.0</td>\n",
       "      <td>17.9902</td>\n",
       "      <td>2.210526</td>\n",
       "    </tr>\n",
       "    <tr>\n",
       "      <th>121835</th>\n",
       "      <td>test</td>\n",
       "      <td>2018-09-30 06:43:02.404973</td>\n",
       "      <td>thanos::sroute:45807192-ccd2-4f20-a7af-efa3524...</td>\n",
       "      <td>FTL</td>\n",
       "      <td>trip-153828978240471019</td>\n",
       "      <td>IND244901AAB</td>\n",
       "      <td>Rampur_RoshnBgh_I (Uttar Pradesh)</td>\n",
       "      <td>IND244221AAA</td>\n",
       "      <td>Amroha_SamitiRd_D (Uttar Pradesh)</td>\n",
       "      <td>2018-09-30 18:03:51.048846</td>\n",
       "      <td>2018-10-01 01:14:58.088735</td>\n",
       "      <td>431.0</td>\n",
       "      <td>False</td>\n",
       "      <td>56</td>\n",
       "      <td>2018-09-30 23:08:31</td>\n",
       "      <td>56.051444</td>\n",
       "      <td>102.0</td>\n",
       "      <td>99.0</td>\n",
       "      <td>90.0937</td>\n",
       "      <td>1.030303</td>\n",
       "      <td>41.0</td>\n",
       "      <td>64.0</td>\n",
       "      <td>56.2937</td>\n",
       "      <td>0.640625</td>\n",
       "    </tr>\n",
       "    <tr>\n",
       "      <th>119796</th>\n",
       "      <td>training</td>\n",
       "      <td>2018-09-20 18:05:21.039566</td>\n",
       "      <td>thanos::sroute:49f6ef3a-a09b-4eb4-8166-0a846a1...</td>\n",
       "      <td>Carting</td>\n",
       "      <td>trip-153746672103930999</td>\n",
       "      <td>IND683511AAA</td>\n",
       "      <td>Aluva_Peedika_H (Kerala)</td>\n",
       "      <td>IND680012AAA</td>\n",
       "      <td>Arimbur_Veluthur_D (Kerala)</td>\n",
       "      <td>2018-09-20 18:05:21.039566</td>\n",
       "      <td>2018-09-21 01:02:36.281922</td>\n",
       "      <td>417.0</td>\n",
       "      <td>True</td>\n",
       "      <td>27</td>\n",
       "      <td>2018-09-21 00:01:22</td>\n",
       "      <td>27.975411</td>\n",
       "      <td>54.0</td>\n",
       "      <td>38.0</td>\n",
       "      <td>37.6001</td>\n",
       "      <td>1.421053</td>\n",
       "      <td>10.0</td>\n",
       "      <td>8.0</td>\n",
       "      <td>10.7457</td>\n",
       "      <td>1.250000</td>\n",
       "    </tr>\n",
       "    <tr>\n",
       "      <th>16762</th>\n",
       "      <td>training</td>\n",
       "      <td>2018-09-15 02:48:34.107030</td>\n",
       "      <td>thanos::sroute:2d2cdf5e-6ea1-4525-833e-cae6a1a...</td>\n",
       "      <td>Carting</td>\n",
       "      <td>trip-153697971410675506</td>\n",
       "      <td>IND000000ACB</td>\n",
       "      <td>Gurgaon_Bilaspur_HB (Haryana)</td>\n",
       "      <td>IND110064AAA</td>\n",
       "      <td>Delhi_Mayapuri_PC (Delhi)</td>\n",
       "      <td>2018-09-15 02:48:34.107030</td>\n",
       "      <td>2018-09-15 06:11:56.747933</td>\n",
       "      <td>203.0</td>\n",
       "      <td>True</td>\n",
       "      <td>27</td>\n",
       "      <td>2018-09-15 04:54:32</td>\n",
       "      <td>27.111016</td>\n",
       "      <td>69.0</td>\n",
       "      <td>39.0</td>\n",
       "      <td>36.7208</td>\n",
       "      <td>1.769231</td>\n",
       "      <td>14.0</td>\n",
       "      <td>14.0</td>\n",
       "      <td>15.0087</td>\n",
       "      <td>1.000000</td>\n",
       "    </tr>\n",
       "    <tr>\n",
       "      <th>25612</th>\n",
       "      <td>test</td>\n",
       "      <td>2018-10-03 22:46:43.685043</td>\n",
       "      <td>thanos::sroute:bf427bc4-6fe3-4868-bc71-5c55d4c...</td>\n",
       "      <td>Carting</td>\n",
       "      <td>trip-153860680368478736</td>\n",
       "      <td>IND210501AAB</td>\n",
       "      <td>Bewar_BndhuTRH_D (Uttar Pradesh)</td>\n",
       "      <td>IND209304AAA</td>\n",
       "      <td>Kanpur_Central_H_6 (Uttar Pradesh)</td>\n",
       "      <td>2018-10-04 05:08:20.521723</td>\n",
       "      <td>2018-10-04 08:43:01.076036</td>\n",
       "      <td>214.0</td>\n",
       "      <td>True</td>\n",
       "      <td>54</td>\n",
       "      <td>2018-10-04 06:32:42</td>\n",
       "      <td>57.325220</td>\n",
       "      <td>125.0</td>\n",
       "      <td>69.0</td>\n",
       "      <td>92.1242</td>\n",
       "      <td>1.811594</td>\n",
       "      <td>29.0</td>\n",
       "      <td>14.0</td>\n",
       "      <td>17.4717</td>\n",
       "      <td>2.071429</td>\n",
       "    </tr>\n",
       "    <tr>\n",
       "      <th>96355</th>\n",
       "      <td>training</td>\n",
       "      <td>2018-09-12 06:58:14.851871</td>\n",
       "      <td>thanos::sroute:f41c4e69-9b78-4737-81ce-58442d6...</td>\n",
       "      <td>Carting</td>\n",
       "      <td>trip-153673549485156899</td>\n",
       "      <td>IND560099AAB</td>\n",
       "      <td>Bengaluru_Bomsndra_HB (Karnataka)</td>\n",
       "      <td>IND560300AAA</td>\n",
       "      <td>Bengaluru_KGAirprt_HB (Karnataka)</td>\n",
       "      <td>2018-09-12 06:58:14.851871</td>\n",
       "      <td>2018-09-12 11:15:35.062340</td>\n",
       "      <td>257.0</td>\n",
       "      <td>False</td>\n",
       "      <td>42</td>\n",
       "      <td>2018-09-12 08:31:29</td>\n",
       "      <td>42.600070</td>\n",
       "      <td>164.0</td>\n",
       "      <td>58.0</td>\n",
       "      <td>53.1946</td>\n",
       "      <td>2.827586</td>\n",
       "      <td>38.0</td>\n",
       "      <td>13.0</td>\n",
       "      <td>11.5684</td>\n",
       "      <td>2.923077</td>\n",
       "    </tr>\n",
       "  </tbody>\n",
       "</table>\n",
       "</div>"
      ],
      "text/plain": [
       "            data          trip_creation_time  \\\n",
       "121744  training  2018-09-13 01:52:41.309789   \n",
       "61190   training  2018-09-26 17:39:34.330564   \n",
       "101846  training  2018-09-14 11:39:11.273491   \n",
       "42593   training  2018-09-19 17:34:56.509698   \n",
       "135386  training  2018-09-18 03:40:52.436626   \n",
       "121835      test  2018-09-30 06:43:02.404973   \n",
       "119796  training  2018-09-20 18:05:21.039566   \n",
       "16762   training  2018-09-15 02:48:34.107030   \n",
       "25612       test  2018-10-03 22:46:43.685043   \n",
       "96355   training  2018-09-12 06:58:14.851871   \n",
       "\n",
       "                                      route_schedule_uuid route_type  \\\n",
       "121744  thanos::sroute:de5e208e-7641-45e6-8100-4d9fb1e...        FTL   \n",
       "61190   thanos::sroute:0456b740-1dad-4929-bbe0-87d8843...        FTL   \n",
       "101846  thanos::sroute:727b9433-49db-4b56-b560-c7c8fe2...        FTL   \n",
       "42593   thanos::sroute:a1b25549-1e77-498f-8538-00292e5...        FTL   \n",
       "135386  thanos::sroute:3be4a224-4b1e-447a-a0da-a71d27f...    Carting   \n",
       "121835  thanos::sroute:45807192-ccd2-4f20-a7af-efa3524...        FTL   \n",
       "119796  thanos::sroute:49f6ef3a-a09b-4eb4-8166-0a846a1...    Carting   \n",
       "16762   thanos::sroute:2d2cdf5e-6ea1-4525-833e-cae6a1a...    Carting   \n",
       "25612   thanos::sroute:bf427bc4-6fe3-4868-bc71-5c55d4c...    Carting   \n",
       "96355   thanos::sroute:f41c4e69-9b78-4737-81ce-58442d6...    Carting   \n",
       "\n",
       "                      trip_uuid source_center  \\\n",
       "121744  trip-153680356130952302  IND562132AAA   \n",
       "61190   trip-153798357433033219  IND000000ACB   \n",
       "101846  trip-153692515127324069  IND144001AAC   \n",
       "42593   trip-153737849650943585  IND562132AAA   \n",
       "135386  trip-153724205243639560  IND560099AAB   \n",
       "121835  trip-153828978240471019  IND244901AAB   \n",
       "119796  trip-153746672103930999  IND683511AAA   \n",
       "16762   trip-153697971410675506  IND000000ACB   \n",
       "25612   trip-153860680368478736  IND210501AAB   \n",
       "96355   trip-153673549485156899  IND560099AAB   \n",
       "\n",
       "                              source_name destination_center  \\\n",
       "121744   Bangalore_Nelmngla_H (Karnataka)       IND000000ACB   \n",
       "61190       Gurgaon_Bilaspur_HB (Haryana)       IND562132AAA   \n",
       "101846      Jalandhar_Sodal Road (Punjab)       IND000000ACA   \n",
       "42593    Bangalore_Nelmngla_H (Karnataka)       IND751002AAB   \n",
       "135386  Bengaluru_Bomsndra_HB (Karnataka)       IND560002AAA   \n",
       "121835  Rampur_RoshnBgh_I (Uttar Pradesh)       IND244221AAA   \n",
       "119796           Aluva_Peedika_H (Kerala)       IND680012AAA   \n",
       "16762       Gurgaon_Bilaspur_HB (Haryana)       IND110064AAA   \n",
       "25612    Bewar_BndhuTRH_D (Uttar Pradesh)       IND209304AAA   \n",
       "96355   Bengaluru_Bomsndra_HB (Karnataka)       IND560300AAA   \n",
       "\n",
       "                          destination_name               od_start_time  \\\n",
       "121744       Gurgaon_Bilaspur_HB (Haryana)  2018-09-13 01:52:41.309789   \n",
       "61190     Bangalore_Nelmngla_H (Karnataka)  2018-09-26 17:39:34.330564   \n",
       "101846       Ludhiana_MilrGanj_HB (Punjab)  2018-09-14 23:40:11.792119   \n",
       "42593            Bhubaneshwar_Hub (Orissa)  2018-09-19 17:34:56.509698   \n",
       "135386      Bengaluru_KHRoad_I (Karnataka)  2018-09-18 03:40:52.436626   \n",
       "121835   Amroha_SamitiRd_D (Uttar Pradesh)  2018-09-30 18:03:51.048846   \n",
       "119796         Arimbur_Veluthur_D (Kerala)  2018-09-20 18:05:21.039566   \n",
       "16762            Delhi_Mayapuri_PC (Delhi)  2018-09-15 02:48:34.107030   \n",
       "25612   Kanpur_Central_H_6 (Uttar Pradesh)  2018-10-04 05:08:20.521723   \n",
       "96355    Bengaluru_KGAirprt_HB (Karnataka)  2018-09-12 06:58:14.851871   \n",
       "\n",
       "                       od_end_time  start_scan_to_end_scan  is_cutoff  \\\n",
       "121744  2018-09-15 03:14:00.210257                  2961.0       True   \n",
       "61190   2018-09-28 22:58:54.947592                  3199.0       True   \n",
       "101846  2018-09-15 04:01:24.477113                   261.0       True   \n",
       "42593   2018-09-21 11:48:48.982970                  2533.0       True   \n",
       "135386  2018-09-18 05:48:50.191282                   127.0       True   \n",
       "121835  2018-10-01 01:14:58.088735                   431.0      False   \n",
       "119796  2018-09-21 01:02:36.281922                   417.0       True   \n",
       "16762   2018-09-15 06:11:56.747933                   203.0       True   \n",
       "25612   2018-10-04 08:43:01.076036                   214.0       True   \n",
       "96355   2018-09-12 11:15:35.062340                   257.0      False   \n",
       "\n",
       "        cutoff_factor     cutoff_timestamp  actual_distance_to_destination  \\\n",
       "121744            968  2018-09-13 22:18:30                      974.970870   \n",
       "61190            1210  2018-09-27 13:35:38                     1210.441856   \n",
       "101846             22  2018-09-15 02:04:15                       22.151358   \n",
       "42593             792  2018-09-20 13:59:17                      793.131965   \n",
       "135386              9  2018-09-18 04:51:19                       11.557796   \n",
       "121835             56  2018-09-30 23:08:31                       56.051444   \n",
       "119796             27  2018-09-21 00:01:22                       27.975411   \n",
       "16762              27  2018-09-15 04:54:32                       27.111016   \n",
       "25612              54  2018-10-04 06:32:42                       57.325220   \n",
       "96355              42  2018-09-12 08:31:29                       42.600070   \n",
       "\n",
       "        actual_time  osrm_time  osrm_distance    factor  segment_actual_time  \\\n",
       "121744       1728.0      957.0      1315.6505  1.805643                 48.0   \n",
       "61190        1997.0     1119.0      1491.4392  1.784629                 41.0   \n",
       "101846         34.0       22.0        31.0609  1.545455                 34.0   \n",
       "42593        1278.0      625.0       883.6370  2.044800                 26.0   \n",
       "135386         42.0       19.0        17.9902  2.210526                 42.0   \n",
       "121835        102.0       99.0        90.0937  1.030303                 41.0   \n",
       "119796         54.0       38.0        37.6001  1.421053                 10.0   \n",
       "16762          69.0       39.0        36.7208  1.769231                 14.0   \n",
       "25612         125.0       69.0        92.1242  1.811594                 29.0   \n",
       "96355         164.0       58.0        53.1946  2.827586                 38.0   \n",
       "\n",
       "        segment_osrm_time  segment_osrm_distance  segment_factor  \n",
       "121744               22.0                31.9122        2.181818  \n",
       "61190                28.0                39.8020        1.464286  \n",
       "101846               22.0                31.0609        1.545455  \n",
       "42593                18.0                26.5933        1.444444  \n",
       "135386               19.0                17.9902        2.210526  \n",
       "121835               64.0                56.2937        0.640625  \n",
       "119796                8.0                10.7457        1.250000  \n",
       "16762                14.0                15.0087        1.000000  \n",
       "25612                14.0                17.4717        2.071429  \n",
       "96355                13.0                11.5684        2.923077  "
      ]
     },
     "execution_count": 4,
     "metadata": {},
     "output_type": "execute_result"
    }
   ],
   "source": [
    "df.sample(10)"
   ]
  },
  {
   "cell_type": "code",
   "execution_count": 5,
   "id": "0a7a59d9",
   "metadata": {},
   "outputs": [
    {
     "data": {
      "text/plain": [
       "(144867, 24)"
      ]
     },
     "execution_count": 5,
     "metadata": {},
     "output_type": "execute_result"
    }
   ],
   "source": [
    "df.shape"
   ]
  },
  {
   "cell_type": "code",
   "execution_count": 6,
   "id": "487e4a8f",
   "metadata": {},
   "outputs": [],
   "source": [
    "# 144,867 total Records \n",
    "# 24 columns "
   ]
  },
  {
   "cell_type": "code",
   "execution_count": 7,
   "id": "5703489d",
   "metadata": {},
   "outputs": [
    {
     "name": "stdout",
     "output_type": "stream",
     "text": [
      "<class 'pandas.core.frame.DataFrame'>\n",
      "RangeIndex: 144867 entries, 0 to 144866\n",
      "Data columns (total 24 columns):\n",
      " #   Column                          Non-Null Count   Dtype  \n",
      "---  ------                          --------------   -----  \n",
      " 0   data                            144867 non-null  object \n",
      " 1   trip_creation_time              144867 non-null  object \n",
      " 2   route_schedule_uuid             144867 non-null  object \n",
      " 3   route_type                      144867 non-null  object \n",
      " 4   trip_uuid                       144867 non-null  object \n",
      " 5   source_center                   144867 non-null  object \n",
      " 6   source_name                     144574 non-null  object \n",
      " 7   destination_center              144867 non-null  object \n",
      " 8   destination_name                144606 non-null  object \n",
      " 9   od_start_time                   144867 non-null  object \n",
      " 10  od_end_time                     144867 non-null  object \n",
      " 11  start_scan_to_end_scan          144867 non-null  float64\n",
      " 12  is_cutoff                       144867 non-null  bool   \n",
      " 13  cutoff_factor                   144867 non-null  int64  \n",
      " 14  cutoff_timestamp                144867 non-null  object \n",
      " 15  actual_distance_to_destination  144867 non-null  float64\n",
      " 16  actual_time                     144867 non-null  float64\n",
      " 17  osrm_time                       144867 non-null  float64\n",
      " 18  osrm_distance                   144867 non-null  float64\n",
      " 19  factor                          144867 non-null  float64\n",
      " 20  segment_actual_time             144867 non-null  float64\n",
      " 21  segment_osrm_time               144867 non-null  float64\n",
      " 22  segment_osrm_distance           144867 non-null  float64\n",
      " 23  segment_factor                  144867 non-null  float64\n",
      "dtypes: bool(1), float64(10), int64(1), object(12)\n",
      "memory usage: 25.6+ MB\n"
     ]
    }
   ],
   "source": [
    "df.info()"
   ]
  },
  {
   "cell_type": "markdown",
   "id": "eacfb8d4",
   "metadata": {},
   "source": [
    "## changing datatype of date and time columns "
   ]
  },
  {
   "cell_type": "code",
   "execution_count": 8,
   "id": "3cacc652",
   "metadata": {},
   "outputs": [],
   "source": [
    "df[\"od_end_time\"] = pd.to_datetime(df[\"od_end_time\"])\n",
    "df[\"od_start_time\"] = pd.to_datetime(df[\"od_start_time\"])\n",
    "df[\"trip_creation_time\"] = pd.to_datetime(df[\"trip_creation_time\"])"
   ]
  },
  {
   "cell_type": "markdown",
   "id": "bfceef8c",
   "metadata": {},
   "source": [
    "## Extracting Trip Creation day from Trip Creation time : "
   ]
  },
  {
   "cell_type": "code",
   "execution_count": null,
   "id": "4ed6e312",
   "metadata": {},
   "outputs": [],
   "source": []
  },
  {
   "cell_type": "code",
   "execution_count": 9,
   "id": "ce652d80",
   "metadata": {},
   "outputs": [],
   "source": [
    "# data is given from Septemebr and October 2018."
   ]
  },
  {
   "cell_type": "code",
   "execution_count": 10,
   "id": "80b5be56",
   "metadata": {},
   "outputs": [
    {
     "data": {
      "text/plain": [
       "September    127349\n",
       "October       17518\n",
       "Name: trip_creation_time, dtype: int64"
      ]
     },
     "execution_count": 10,
     "metadata": {},
     "output_type": "execute_result"
    }
   ],
   "source": [
    "df[\"trip_creation_time\"].dt.month_name().value_counts()"
   ]
  },
  {
   "cell_type": "code",
   "execution_count": 11,
   "id": "d2ba4a54",
   "metadata": {},
   "outputs": [
    {
     "data": {
      "text/plain": [
       "2018    144867\n",
       "Name: trip_creation_time, dtype: int64"
      ]
     },
     "execution_count": 11,
     "metadata": {},
     "output_type": "execute_result"
    }
   ],
   "source": [
    "df[\"trip_creation_time\"].dt.year.value_counts()"
   ]
  },
  {
   "cell_type": "code",
   "execution_count": null,
   "id": "4a8a2ec7",
   "metadata": {},
   "outputs": [],
   "source": []
  },
  {
   "cell_type": "code",
   "execution_count": 12,
   "id": "547cd5fd",
   "metadata": {},
   "outputs": [],
   "source": [
    "df[\"trip_creation_day\"] = (df[\"trip_creation_time\"].dt.day_name())"
   ]
  },
  {
   "cell_type": "code",
   "execution_count": 13,
   "id": "8d554fd7",
   "metadata": {},
   "outputs": [
    {
     "data": {
      "text/plain": [
       "Wednesday    26732\n",
       "Thursday     20481\n",
       "Friday       20242\n",
       "Tuesday      19961\n",
       "Saturday     19936\n",
       "Monday       19645\n",
       "Sunday       17870\n",
       "Name: trip_creation_day, dtype: int64"
      ]
     },
     "execution_count": 13,
     "metadata": {},
     "output_type": "execute_result"
    }
   ],
   "source": [
    "df[\"trip_creation_day\"].value_counts()"
   ]
  },
  {
   "cell_type": "code",
   "execution_count": 14,
   "id": "26b2ab66",
   "metadata": {
    "scrolled": false
   },
   "outputs": [
    {
     "data": {
      "text/plain": [
       "<AxesSubplot:>"
      ]
     },
     "execution_count": 14,
     "metadata": {},
     "output_type": "execute_result"
    },
    {
     "data": {
      "image/png": "[encoded data removed]",
      "text/plain": [
       "<Figure size 432x288 with 1 Axes>"
      ]
     },
     "metadata": {
      "needs_background": "light"
     },
     "output_type": "display_data"
    }
   ],
   "source": [
    "df[\"trip_creation_day\"].value_counts().plot(kind = \"bar\")"
   ]
  },
  {
   "cell_type": "code",
   "execution_count": 15,
   "id": "96e8962c",
   "metadata": {},
   "outputs": [
    {
     "data": {
      "text/plain": [
       "49.455000000000005"
      ]
     },
     "execution_count": 15,
     "metadata": {},
     "output_type": "execute_result"
    }
   ],
   "source": [
    "11.96+9.75+10.81+13.02+3.915"
   ]
  },
  {
   "cell_type": "code",
   "execution_count": 16,
   "id": "38496e57",
   "metadata": {},
   "outputs": [
    {
     "data": {
      "text/html": [
       "<div>\n",
       "<style scoped>\n",
       "    .dataframe tbody tr th:only-of-type {\n",
       "        vertical-align: middle;\n",
       "    }\n",
       "\n",
       "    .dataframe tbody tr th {\n",
       "        vertical-align: top;\n",
       "    }\n",
       "\n",
       "    .dataframe thead th {\n",
       "        text-align: right;\n",
       "    }\n",
       "</style>\n",
       "<table border=\"1\" class=\"dataframe\">\n",
       "  <thead>\n",
       "    <tr style=\"text-align: right;\">\n",
       "      <th></th>\n",
       "      <th>data</th>\n",
       "      <th>trip_creation_time</th>\n",
       "      <th>route_schedule_uuid</th>\n",
       "      <th>route_type</th>\n",
       "      <th>trip_uuid</th>\n",
       "      <th>source_center</th>\n",
       "      <th>source_name</th>\n",
       "      <th>destination_center</th>\n",
       "      <th>destination_name</th>\n",
       "      <th>od_start_time</th>\n",
       "      <th>od_end_time</th>\n",
       "      <th>start_scan_to_end_scan</th>\n",
       "      <th>is_cutoff</th>\n",
       "      <th>cutoff_factor</th>\n",
       "      <th>cutoff_timestamp</th>\n",
       "      <th>actual_distance_to_destination</th>\n",
       "      <th>actual_time</th>\n",
       "      <th>osrm_time</th>\n",
       "      <th>osrm_distance</th>\n",
       "      <th>factor</th>\n",
       "      <th>segment_actual_time</th>\n",
       "      <th>segment_osrm_time</th>\n",
       "      <th>segment_osrm_distance</th>\n",
       "      <th>segment_factor</th>\n",
       "      <th>trip_creation_day</th>\n",
       "    </tr>\n",
       "  </thead>\n",
       "  <tbody>\n",
       "    <tr>\n",
       "      <th>0</th>\n",
       "      <td>training</td>\n",
       "      <td>2018-09-20 02:35:36.476840</td>\n",
       "      <td>thanos::sroute:eb7bfc78-b351-4c0e-a951-fa3d5c3...</td>\n",
       "      <td>Carting</td>\n",
       "      <td>trip-153741093647649320</td>\n",
       "      <td>IND388121AAA</td>\n",
       "      <td>Anand_VUNagar_DC (Gujarat)</td>\n",
       "      <td>IND388620AAB</td>\n",
       "      <td>Khambhat_MotvdDPP_D (Gujarat)</td>\n",
       "      <td>2018-09-20 03:21:32.418600</td>\n",
       "      <td>2018-09-20 04:47:45.236797</td>\n",
       "      <td>86.0</td>\n",
       "      <td>True</td>\n",
       "      <td>9</td>\n",
       "      <td>2018-09-20 04:27:55</td>\n",
       "      <td>10.435660</td>\n",
       "      <td>14.0</td>\n",
       "      <td>11.0</td>\n",
       "      <td>11.9653</td>\n",
       "      <td>1.272727</td>\n",
       "      <td>14.0</td>\n",
       "      <td>11.0</td>\n",
       "      <td>11.9653</td>\n",
       "      <td>1.272727</td>\n",
       "      <td>Thursday</td>\n",
       "    </tr>\n",
       "    <tr>\n",
       "      <th>1</th>\n",
       "      <td>training</td>\n",
       "      <td>2018-09-20 02:35:36.476840</td>\n",
       "      <td>thanos::sroute:eb7bfc78-b351-4c0e-a951-fa3d5c3...</td>\n",
       "      <td>Carting</td>\n",
       "      <td>trip-153741093647649320</td>\n",
       "      <td>IND388121AAA</td>\n",
       "      <td>Anand_VUNagar_DC (Gujarat)</td>\n",
       "      <td>IND388620AAB</td>\n",
       "      <td>Khambhat_MotvdDPP_D (Gujarat)</td>\n",
       "      <td>2018-09-20 03:21:32.418600</td>\n",
       "      <td>2018-09-20 04:47:45.236797</td>\n",
       "      <td>86.0</td>\n",
       "      <td>True</td>\n",
       "      <td>18</td>\n",
       "      <td>2018-09-20 04:17:55</td>\n",
       "      <td>18.936842</td>\n",
       "      <td>24.0</td>\n",
       "      <td>20.0</td>\n",
       "      <td>21.7243</td>\n",
       "      <td>1.200000</td>\n",
       "      <td>10.0</td>\n",
       "      <td>9.0</td>\n",
       "      <td>9.7590</td>\n",
       "      <td>1.111111</td>\n",
       "      <td>Thursday</td>\n",
       "    </tr>\n",
       "    <tr>\n",
       "      <th>2</th>\n",
       "      <td>training</td>\n",
       "      <td>2018-09-20 02:35:36.476840</td>\n",
       "      <td>thanos::sroute:eb7bfc78-b351-4c0e-a951-fa3d5c3...</td>\n",
       "      <td>Carting</td>\n",
       "      <td>trip-153741093647649320</td>\n",
       "      <td>IND388121AAA</td>\n",
       "      <td>Anand_VUNagar_DC (Gujarat)</td>\n",
       "      <td>IND388620AAB</td>\n",
       "      <td>Khambhat_MotvdDPP_D (Gujarat)</td>\n",
       "      <td>2018-09-20 03:21:32.418600</td>\n",
       "      <td>2018-09-20 04:47:45.236797</td>\n",
       "      <td>86.0</td>\n",
       "      <td>True</td>\n",
       "      <td>27</td>\n",
       "      <td>2018-09-20 04:01:19.505586</td>\n",
       "      <td>27.637279</td>\n",
       "      <td>40.0</td>\n",
       "      <td>28.0</td>\n",
       "      <td>32.5395</td>\n",
       "      <td>1.428571</td>\n",
       "      <td>16.0</td>\n",
       "      <td>7.0</td>\n",
       "      <td>10.8152</td>\n",
       "      <td>2.285714</td>\n",
       "      <td>Thursday</td>\n",
       "    </tr>\n",
       "    <tr>\n",
       "      <th>3</th>\n",
       "      <td>training</td>\n",
       "      <td>2018-09-20 02:35:36.476840</td>\n",
       "      <td>thanos::sroute:eb7bfc78-b351-4c0e-a951-fa3d5c3...</td>\n",
       "      <td>Carting</td>\n",
       "      <td>trip-153741093647649320</td>\n",
       "      <td>IND388121AAA</td>\n",
       "      <td>Anand_VUNagar_DC (Gujarat)</td>\n",
       "      <td>IND388620AAB</td>\n",
       "      <td>Khambhat_MotvdDPP_D (Gujarat)</td>\n",
       "      <td>2018-09-20 03:21:32.418600</td>\n",
       "      <td>2018-09-20 04:47:45.236797</td>\n",
       "      <td>86.0</td>\n",
       "      <td>True</td>\n",
       "      <td>36</td>\n",
       "      <td>2018-09-20 03:39:57</td>\n",
       "      <td>36.118028</td>\n",
       "      <td>62.0</td>\n",
       "      <td>40.0</td>\n",
       "      <td>45.5620</td>\n",
       "      <td>1.550000</td>\n",
       "      <td>21.0</td>\n",
       "      <td>12.0</td>\n",
       "      <td>13.0224</td>\n",
       "      <td>1.750000</td>\n",
       "      <td>Thursday</td>\n",
       "    </tr>\n",
       "    <tr>\n",
       "      <th>4</th>\n",
       "      <td>training</td>\n",
       "      <td>2018-09-20 02:35:36.476840</td>\n",
       "      <td>thanos::sroute:eb7bfc78-b351-4c0e-a951-fa3d5c3...</td>\n",
       "      <td>Carting</td>\n",
       "      <td>trip-153741093647649320</td>\n",
       "      <td>IND388121AAA</td>\n",
       "      <td>Anand_VUNagar_DC (Gujarat)</td>\n",
       "      <td>IND388620AAB</td>\n",
       "      <td>Khambhat_MotvdDPP_D (Gujarat)</td>\n",
       "      <td>2018-09-20 03:21:32.418600</td>\n",
       "      <td>2018-09-20 04:47:45.236797</td>\n",
       "      <td>86.0</td>\n",
       "      <td>False</td>\n",
       "      <td>39</td>\n",
       "      <td>2018-09-20 03:33:55</td>\n",
       "      <td>39.386040</td>\n",
       "      <td>68.0</td>\n",
       "      <td>44.0</td>\n",
       "      <td>54.2181</td>\n",
       "      <td>1.545455</td>\n",
       "      <td>6.0</td>\n",
       "      <td>5.0</td>\n",
       "      <td>3.9153</td>\n",
       "      <td>1.200000</td>\n",
       "      <td>Thursday</td>\n",
       "    </tr>\n",
       "    <tr>\n",
       "      <th>5</th>\n",
       "      <td>training</td>\n",
       "      <td>2018-09-20 02:35:36.476840</td>\n",
       "      <td>thanos::sroute:eb7bfc78-b351-4c0e-a951-fa3d5c3...</td>\n",
       "      <td>Carting</td>\n",
       "      <td>trip-153741093647649320</td>\n",
       "      <td>IND388620AAB</td>\n",
       "      <td>Khambhat_MotvdDPP_D (Gujarat)</td>\n",
       "      <td>IND388320AAA</td>\n",
       "      <td>Anand_Vaghasi_IP (Gujarat)</td>\n",
       "      <td>2018-09-20 04:47:45.236797</td>\n",
       "      <td>2018-09-20 06:36:55.627764</td>\n",
       "      <td>109.0</td>\n",
       "      <td>True</td>\n",
       "      <td>9</td>\n",
       "      <td>2018-09-20 06:15:58</td>\n",
       "      <td>10.403038</td>\n",
       "      <td>15.0</td>\n",
       "      <td>11.0</td>\n",
       "      <td>12.1171</td>\n",
       "      <td>1.363636</td>\n",
       "      <td>15.0</td>\n",
       "      <td>11.0</td>\n",
       "      <td>12.1171</td>\n",
       "      <td>1.363636</td>\n",
       "      <td>Thursday</td>\n",
       "    </tr>\n",
       "    <tr>\n",
       "      <th>6</th>\n",
       "      <td>training</td>\n",
       "      <td>2018-09-20 02:35:36.476840</td>\n",
       "      <td>thanos::sroute:eb7bfc78-b351-4c0e-a951-fa3d5c3...</td>\n",
       "      <td>Carting</td>\n",
       "      <td>trip-153741093647649320</td>\n",
       "      <td>IND388620AAB</td>\n",
       "      <td>Khambhat_MotvdDPP_D (Gujarat)</td>\n",
       "      <td>IND388320AAA</td>\n",
       "      <td>Anand_Vaghasi_IP (Gujarat)</td>\n",
       "      <td>2018-09-20 04:47:45.236797</td>\n",
       "      <td>2018-09-20 06:36:55.627764</td>\n",
       "      <td>109.0</td>\n",
       "      <td>True</td>\n",
       "      <td>18</td>\n",
       "      <td>2018-09-20 05:47:29</td>\n",
       "      <td>18.045481</td>\n",
       "      <td>44.0</td>\n",
       "      <td>17.0</td>\n",
       "      <td>21.2890</td>\n",
       "      <td>2.588235</td>\n",
       "      <td>28.0</td>\n",
       "      <td>6.0</td>\n",
       "      <td>9.1719</td>\n",
       "      <td>4.666667</td>\n",
       "      <td>Thursday</td>\n",
       "    </tr>\n",
       "    <tr>\n",
       "      <th>7</th>\n",
       "      <td>training</td>\n",
       "      <td>2018-09-20 02:35:36.476840</td>\n",
       "      <td>thanos::sroute:eb7bfc78-b351-4c0e-a951-fa3d5c3...</td>\n",
       "      <td>Carting</td>\n",
       "      <td>trip-153741093647649320</td>\n",
       "      <td>IND388620AAB</td>\n",
       "      <td>Khambhat_MotvdDPP_D (Gujarat)</td>\n",
       "      <td>IND388320AAA</td>\n",
       "      <td>Anand_Vaghasi_IP (Gujarat)</td>\n",
       "      <td>2018-09-20 04:47:45.236797</td>\n",
       "      <td>2018-09-20 06:36:55.627764</td>\n",
       "      <td>109.0</td>\n",
       "      <td>True</td>\n",
       "      <td>27</td>\n",
       "      <td>2018-09-20 05:25:58</td>\n",
       "      <td>28.061896</td>\n",
       "      <td>65.0</td>\n",
       "      <td>29.0</td>\n",
       "      <td>35.8252</td>\n",
       "      <td>2.241379</td>\n",
       "      <td>21.0</td>\n",
       "      <td>11.0</td>\n",
       "      <td>14.5362</td>\n",
       "      <td>1.909091</td>\n",
       "      <td>Thursday</td>\n",
       "    </tr>\n",
       "    <tr>\n",
       "      <th>8</th>\n",
       "      <td>training</td>\n",
       "      <td>2018-09-20 02:35:36.476840</td>\n",
       "      <td>thanos::sroute:eb7bfc78-b351-4c0e-a951-fa3d5c3...</td>\n",
       "      <td>Carting</td>\n",
       "      <td>trip-153741093647649320</td>\n",
       "      <td>IND388620AAB</td>\n",
       "      <td>Khambhat_MotvdDPP_D (Gujarat)</td>\n",
       "      <td>IND388320AAA</td>\n",
       "      <td>Anand_Vaghasi_IP (Gujarat)</td>\n",
       "      <td>2018-09-20 04:47:45.236797</td>\n",
       "      <td>2018-09-20 06:36:55.627764</td>\n",
       "      <td>109.0</td>\n",
       "      <td>True</td>\n",
       "      <td>36</td>\n",
       "      <td>2018-09-20 05:15:56</td>\n",
       "      <td>38.939167</td>\n",
       "      <td>76.0</td>\n",
       "      <td>39.0</td>\n",
       "      <td>47.1900</td>\n",
       "      <td>1.948718</td>\n",
       "      <td>10.0</td>\n",
       "      <td>10.0</td>\n",
       "      <td>11.3648</td>\n",
       "      <td>1.000000</td>\n",
       "      <td>Thursday</td>\n",
       "    </tr>\n",
       "    <tr>\n",
       "      <th>9</th>\n",
       "      <td>training</td>\n",
       "      <td>2018-09-20 02:35:36.476840</td>\n",
       "      <td>thanos::sroute:eb7bfc78-b351-4c0e-a951-fa3d5c3...</td>\n",
       "      <td>Carting</td>\n",
       "      <td>trip-153741093647649320</td>\n",
       "      <td>IND388620AAB</td>\n",
       "      <td>Khambhat_MotvdDPP_D (Gujarat)</td>\n",
       "      <td>IND388320AAA</td>\n",
       "      <td>Anand_Vaghasi_IP (Gujarat)</td>\n",
       "      <td>2018-09-20 04:47:45.236797</td>\n",
       "      <td>2018-09-20 06:36:55.627764</td>\n",
       "      <td>109.0</td>\n",
       "      <td>False</td>\n",
       "      <td>43</td>\n",
       "      <td>2018-09-20 04:49:20</td>\n",
       "      <td>43.595802</td>\n",
       "      <td>102.0</td>\n",
       "      <td>45.0</td>\n",
       "      <td>53.2334</td>\n",
       "      <td>2.266667</td>\n",
       "      <td>26.0</td>\n",
       "      <td>6.0</td>\n",
       "      <td>6.0434</td>\n",
       "      <td>4.333333</td>\n",
       "      <td>Thursday</td>\n",
       "    </tr>\n",
       "  </tbody>\n",
       "</table>\n",
       "</div>"
      ],
      "text/plain": [
       "       data         trip_creation_time  \\\n",
       "0  training 2018-09-20 02:35:36.476840   \n",
       "1  training 2018-09-20 02:35:36.476840   \n",
       "2  training 2018-09-20 02:35:36.476840   \n",
       "3  training 2018-09-20 02:35:36.476840   \n",
       "4  training 2018-09-20 02:35:36.476840   \n",
       "5  training 2018-09-20 02:35:36.476840   \n",
       "6  training 2018-09-20 02:35:36.476840   \n",
       "7  training 2018-09-20 02:35:36.476840   \n",
       "8  training 2018-09-20 02:35:36.476840   \n",
       "9  training 2018-09-20 02:35:36.476840   \n",
       "\n",
       "                                 route_schedule_uuid route_type  \\\n",
       "0  thanos::sroute:eb7bfc78-b351-4c0e-a951-fa3d5c3...    Carting   \n",
       "1  thanos::sroute:eb7bfc78-b351-4c0e-a951-fa3d5c3...    Carting   \n",
       "2  thanos::sroute:eb7bfc78-b351-4c0e-a951-fa3d5c3...    Carting   \n",
       "3  thanos::sroute:eb7bfc78-b351-4c0e-a951-fa3d5c3...    Carting   \n",
       "4  thanos::sroute:eb7bfc78-b351-4c0e-a951-fa3d5c3...    Carting   \n",
       "5  thanos::sroute:eb7bfc78-b351-4c0e-a951-fa3d5c3...    Carting   \n",
       "6  thanos::sroute:eb7bfc78-b351-4c0e-a951-fa3d5c3...    Carting   \n",
       "7  thanos::sroute:eb7bfc78-b351-4c0e-a951-fa3d5c3...    Carting   \n",
       "8  thanos::sroute:eb7bfc78-b351-4c0e-a951-fa3d5c3...    Carting   \n",
       "9  thanos::sroute:eb7bfc78-b351-4c0e-a951-fa3d5c3...    Carting   \n",
       "\n",
       "                 trip_uuid source_center                    source_name  \\\n",
       "0  trip-153741093647649320  IND388121AAA     Anand_VUNagar_DC (Gujarat)   \n",
       "1  trip-153741093647649320  IND388121AAA     Anand_VUNagar_DC (Gujarat)   \n",
       "2  trip-153741093647649320  IND388121AAA     Anand_VUNagar_DC (Gujarat)   \n",
       "3  trip-153741093647649320  IND388121AAA     Anand_VUNagar_DC (Gujarat)   \n",
       "4  trip-153741093647649320  IND388121AAA     Anand_VUNagar_DC (Gujarat)   \n",
       "5  trip-153741093647649320  IND388620AAB  Khambhat_MotvdDPP_D (Gujarat)   \n",
       "6  trip-153741093647649320  IND388620AAB  Khambhat_MotvdDPP_D (Gujarat)   \n",
       "7  trip-153741093647649320  IND388620AAB  Khambhat_MotvdDPP_D (Gujarat)   \n",
       "8  trip-153741093647649320  IND388620AAB  Khambhat_MotvdDPP_D (Gujarat)   \n",
       "9  trip-153741093647649320  IND388620AAB  Khambhat_MotvdDPP_D (Gujarat)   \n",
       "\n",
       "  destination_center               destination_name  \\\n",
       "0       IND388620AAB  Khambhat_MotvdDPP_D (Gujarat)   \n",
       "1       IND388620AAB  Khambhat_MotvdDPP_D (Gujarat)   \n",
       "2       IND388620AAB  Khambhat_MotvdDPP_D (Gujarat)   \n",
       "3       IND388620AAB  Khambhat_MotvdDPP_D (Gujarat)   \n",
       "4       IND388620AAB  Khambhat_MotvdDPP_D (Gujarat)   \n",
       "5       IND388320AAA     Anand_Vaghasi_IP (Gujarat)   \n",
       "6       IND388320AAA     Anand_Vaghasi_IP (Gujarat)   \n",
       "7       IND388320AAA     Anand_Vaghasi_IP (Gujarat)   \n",
       "8       IND388320AAA     Anand_Vaghasi_IP (Gujarat)   \n",
       "9       IND388320AAA     Anand_Vaghasi_IP (Gujarat)   \n",
       "\n",
       "               od_start_time                od_end_time  \\\n",
       "0 2018-09-20 03:21:32.418600 2018-09-20 04:47:45.236797   \n",
       "1 2018-09-20 03:21:32.418600 2018-09-20 04:47:45.236797   \n",
       "2 2018-09-20 03:21:32.418600 2018-09-20 04:47:45.236797   \n",
       "3 2018-09-20 03:21:32.418600 2018-09-20 04:47:45.236797   \n",
       "4 2018-09-20 03:21:32.418600 2018-09-20 04:47:45.236797   \n",
       "5 2018-09-20 04:47:45.236797 2018-09-20 06:36:55.627764   \n",
       "6 2018-09-20 04:47:45.236797 2018-09-20 06:36:55.627764   \n",
       "7 2018-09-20 04:47:45.236797 2018-09-20 06:36:55.627764   \n",
       "8 2018-09-20 04:47:45.236797 2018-09-20 06:36:55.627764   \n",
       "9 2018-09-20 04:47:45.236797 2018-09-20 06:36:55.627764   \n",
       "\n",
       "   start_scan_to_end_scan  is_cutoff  cutoff_factor  \\\n",
       "0                    86.0       True              9   \n",
       "1                    86.0       True             18   \n",
       "2                    86.0       True             27   \n",
       "3                    86.0       True             36   \n",
       "4                    86.0      False             39   \n",
       "5                   109.0       True              9   \n",
       "6                   109.0       True             18   \n",
       "7                   109.0       True             27   \n",
       "8                   109.0       True             36   \n",
       "9                   109.0      False             43   \n",
       "\n",
       "             cutoff_timestamp  actual_distance_to_destination  actual_time  \\\n",
       "0         2018-09-20 04:27:55                       10.435660         14.0   \n",
       "1         2018-09-20 04:17:55                       18.936842         24.0   \n",
       "2  2018-09-20 04:01:19.505586                       27.637279         40.0   \n",
       "3         2018-09-20 03:39:57                       36.118028         62.0   \n",
       "4         2018-09-20 03:33:55                       39.386040         68.0   \n",
       "5         2018-09-20 06:15:58                       10.403038         15.0   \n",
       "6         2018-09-20 05:47:29                       18.045481         44.0   \n",
       "7         2018-09-20 05:25:58                       28.061896         65.0   \n",
       "8         2018-09-20 05:15:56                       38.939167         76.0   \n",
       "9         2018-09-20 04:49:20                       43.595802        102.0   \n",
       "\n",
       "   osrm_time  osrm_distance    factor  segment_actual_time  segment_osrm_time  \\\n",
       "0       11.0        11.9653  1.272727                 14.0               11.0   \n",
       "1       20.0        21.7243  1.200000                 10.0                9.0   \n",
       "2       28.0        32.5395  1.428571                 16.0                7.0   \n",
       "3       40.0        45.5620  1.550000                 21.0               12.0   \n",
       "4       44.0        54.2181  1.545455                  6.0                5.0   \n",
       "5       11.0        12.1171  1.363636                 15.0               11.0   \n",
       "6       17.0        21.2890  2.588235                 28.0                6.0   \n",
       "7       29.0        35.8252  2.241379                 21.0               11.0   \n",
       "8       39.0        47.1900  1.948718                 10.0               10.0   \n",
       "9       45.0        53.2334  2.266667                 26.0                6.0   \n",
       "\n",
       "   segment_osrm_distance  segment_factor trip_creation_day  \n",
       "0                11.9653        1.272727          Thursday  \n",
       "1                 9.7590        1.111111          Thursday  \n",
       "2                10.8152        2.285714          Thursday  \n",
       "3                13.0224        1.750000          Thursday  \n",
       "4                 3.9153        1.200000          Thursday  \n",
       "5                12.1171        1.363636          Thursday  \n",
       "6                 9.1719        4.666667          Thursday  \n",
       "7                14.5362        1.909091          Thursday  \n",
       "8                11.3648        1.000000          Thursday  \n",
       "9                 6.0434        4.333333          Thursday  "
      ]
     },
     "execution_count": 16,
     "metadata": {},
     "output_type": "execute_result"
    }
   ],
   "source": [
    "df[df[\"trip_uuid\"]==\"trip-153741093647649320\"]"
   ]
  },
  {
   "cell_type": "markdown",
   "id": "30ba5e1c",
   "metadata": {},
   "source": [
    " # Understanding Feature importance and designing Flow of Analysis : \n",
    "    \n",
    "\n",
    "    factor : actual_time / osrm time \n",
    "\n",
    "    \n",
    "    \n",
    "\n",
    "    start_time_to_end_time is the time taken when scanned at particular hub after pick-up and before the delivery.\n",
    "    (given in minutes) : conver into hours. \n",
    "\n",
    "    od-start-time : time noted when trip was started \n",
    "    od-end-time : time noted when trip was ended .\n",
    "    (HYPOTHESIS  if time_taken odend-odstart VS start-time-to-end-time)\n",
    "    \n",
    "    \n",
    "    if_cutoff : is the boolean value, becomes False when the order changes from connecting junction.\n",
    "    \n",
    "    \n",
    "    actual_time : actual time taken to complete the delivery (given cumulative )\n",
    "    OSRM time : expected time given by OSRM engine. (cumulative)\n",
    "    (cuts off when is-cutoff = false)\n",
    "    (HYPOTHESIS : if actualtime(observed) is same as OSRM time(expected time))\n",
    "    \n",
    "    \n",
    "    \n",
    "    segment_actual_time : actual time taken between each trip stops between trip from source to junctions to destinations. \n",
    "    segment_osrm_time : OSRM time given \n",
    "    (segment times are not cumulative )\n",
    "    (HYPOTHESIS : if segment actual time is same as segment osrm time)\n",
    "    \n",
    "    \n",
    "    segment factor = segment_actual_time\t/   segment_osrm_time\n",
    "    \n",
    "                \n",
    "    \n",
    "    \n",
    "    \n",
    "       \n",
    "    Actual Distance to destination : given cumulative\n",
    "    osrm_distance : given cumulative \n",
    "    (HYPOTHESIS : if above both are equal )\n",
    "    \n",
    "    \n",
    "    \n",
    "    \n",
    "    actual_distance_to_destination\n",
    "    osrm distnace\n",
    "    segment osrm distance \n",
    "    \n",
    "    \n",
    "    \n",
    "\n",
    "\n",
    "\n"
   ]
  },
  {
   "cell_type": "code",
   "execution_count": null,
   "id": "67a00273",
   "metadata": {},
   "outputs": [],
   "source": []
  },
  {
   "cell_type": "markdown",
   "id": "3f868309",
   "metadata": {},
   "source": [
    "# Extracting Features like city - place - code -state from source and destination name columns : "
   ]
  },
  {
   "cell_type": "code",
   "execution_count": null,
   "id": "4286e558",
   "metadata": {},
   "outputs": [],
   "source": []
  },
  {
   "cell_type": "code",
   "execution_count": 17,
   "id": "ba59688a",
   "metadata": {},
   "outputs": [],
   "source": [
    "df[\"source_city\"] = df[\"source_name\"].str.extract(r'([^_]+)')"
   ]
  },
  {
   "cell_type": "code",
   "execution_count": 18,
   "id": "861316a5",
   "metadata": {},
   "outputs": [],
   "source": [
    "df[\"source_state\"] = df[\"source_name\"].str.extract(r'.*\\((.*)\\).*')"
   ]
  },
  {
   "cell_type": "code",
   "execution_count": 19,
   "id": "c378dfcf",
   "metadata": {},
   "outputs": [],
   "source": [
    "df[\"source_code\"] = (df[\"source_name\"].str.split(\"_\",n=2,expand = True)[2]).str.split(\" \",n = 1, expand = True)[0]"
   ]
  },
  {
   "cell_type": "code",
   "execution_count": 20,
   "id": "648f95b3",
   "metadata": {},
   "outputs": [],
   "source": [
    "df[\"source_place\"] = df[\"source_name\"].str.split(\"_\",n=2,expand = True)[1]"
   ]
  },
  {
   "cell_type": "code",
   "execution_count": 21,
   "id": "c9a89428",
   "metadata": {},
   "outputs": [],
   "source": [
    "df[\"destination_city\"] = df[\"destination_name\"].str.extract(r'([^_]+)')"
   ]
  },
  {
   "cell_type": "code",
   "execution_count": 22,
   "id": "ebccd8a1",
   "metadata": {},
   "outputs": [],
   "source": [
    "df[\"destination_state\"] = df[\"destination_name\"].str.extract(r'.*\\((.*)\\).*')"
   ]
  },
  {
   "cell_type": "code",
   "execution_count": 23,
   "id": "30d701d8",
   "metadata": {},
   "outputs": [],
   "source": [
    "df[\"destination_code\"] = (df[\"destination_name\"].str.split(\"_\",n=2,expand = True)[2]).str.split(\" \",n = 1, expand = True)[0]"
   ]
  },
  {
   "cell_type": "code",
   "execution_count": 24,
   "id": "fe94fb63",
   "metadata": {},
   "outputs": [],
   "source": [
    "df[\"destination_place\"] = df[\"destination_name\"].str.split(\"_\",n=2,expand = True)[1]"
   ]
  },
  {
   "cell_type": "code",
   "execution_count": null,
   "id": "eecfb007",
   "metadata": {},
   "outputs": [],
   "source": []
  },
  {
   "cell_type": "code",
   "execution_count": 25,
   "id": "0275db68",
   "metadata": {},
   "outputs": [],
   "source": [
    "# Bengaluru                            \n",
    "# Bangalore"
   ]
  },
  {
   "cell_type": "code",
   "execution_count": 26,
   "id": "19f30f79",
   "metadata": {},
   "outputs": [],
   "source": [
    "df[\"source_city\"].replace({\n",
    "    \"Bangalore\":\"Bengaluru\"\n",
    "},inplace=True)"
   ]
  },
  {
   "cell_type": "code",
   "execution_count": 27,
   "id": "904ab412",
   "metadata": {},
   "outputs": [],
   "source": [
    "df[\"destination_city\"].replace({\n",
    "    \"Bangalore\":\"Bengaluru\"\n",
    "},inplace=True)"
   ]
  },
  {
   "cell_type": "markdown",
   "id": "12f1ba14",
   "metadata": {},
   "source": []
  },
  {
   "cell_type": "code",
   "execution_count": 28,
   "id": "9c15042d",
   "metadata": {},
   "outputs": [],
   "source": [
    "df[\"destination_city\"].replace({\n",
    "    \"AMD\":\"Ahmedabad\"\n",
    "},inplace=True)\n",
    "df[\"destination_city\"].replace({\n",
    "    \"Amdavad\":\"Ahmedabad\"\n",
    "},inplace=True)"
   ]
  },
  {
   "cell_type": "code",
   "execution_count": 29,
   "id": "339f4665",
   "metadata": {},
   "outputs": [],
   "source": [
    "df[\"source_city\"].replace({\n",
    "    \"AMD\":\"Ahmedabad\"\n",
    "},inplace=True)\n",
    "df[\"source_city\"].replace({\n",
    "    \"Amdavad\":\"Ahmedabad\"\n",
    "},inplace=True)"
   ]
  },
  {
   "cell_type": "code",
   "execution_count": null,
   "id": "ebf01fb6",
   "metadata": {},
   "outputs": [],
   "source": []
  },
  {
   "cell_type": "code",
   "execution_count": 30,
   "id": "077538e6",
   "metadata": {},
   "outputs": [],
   "source": [
    "df[\"source_city_state\"] = df[\"source_city\"] + \" \" + df[\"source_state\"]"
   ]
  },
  {
   "cell_type": "code",
   "execution_count": 31,
   "id": "9e71a453",
   "metadata": {},
   "outputs": [],
   "source": [
    "df[\"destination_city_state\"] = df[\"destination_city\"] + \" \" + df[\"destination_state\"]"
   ]
  },
  {
   "cell_type": "code",
   "execution_count": 32,
   "id": "1ba42bff",
   "metadata": {},
   "outputs": [
    {
     "data": {
      "text/html": [
       "<div>\n",
       "<style scoped>\n",
       "    .dataframe tbody tr th:only-of-type {\n",
       "        vertical-align: middle;\n",
       "    }\n",
       "\n",
       "    .dataframe tbody tr th {\n",
       "        vertical-align: top;\n",
       "    }\n",
       "\n",
       "    .dataframe thead th {\n",
       "        text-align: right;\n",
       "    }\n",
       "</style>\n",
       "<table border=\"1\" class=\"dataframe\">\n",
       "  <thead>\n",
       "    <tr style=\"text-align: right;\">\n",
       "      <th></th>\n",
       "      <th>data</th>\n",
       "      <th>trip_creation_time</th>\n",
       "      <th>route_schedule_uuid</th>\n",
       "      <th>route_type</th>\n",
       "      <th>trip_uuid</th>\n",
       "      <th>source_center</th>\n",
       "      <th>source_name</th>\n",
       "      <th>destination_center</th>\n",
       "      <th>destination_name</th>\n",
       "      <th>od_start_time</th>\n",
       "      <th>od_end_time</th>\n",
       "      <th>start_scan_to_end_scan</th>\n",
       "      <th>is_cutoff</th>\n",
       "      <th>cutoff_factor</th>\n",
       "      <th>cutoff_timestamp</th>\n",
       "      <th>actual_distance_to_destination</th>\n",
       "      <th>actual_time</th>\n",
       "      <th>osrm_time</th>\n",
       "      <th>osrm_distance</th>\n",
       "      <th>factor</th>\n",
       "      <th>segment_actual_time</th>\n",
       "      <th>segment_osrm_time</th>\n",
       "      <th>segment_osrm_distance</th>\n",
       "      <th>segment_factor</th>\n",
       "      <th>trip_creation_day</th>\n",
       "      <th>source_city</th>\n",
       "      <th>source_state</th>\n",
       "      <th>source_code</th>\n",
       "      <th>source_place</th>\n",
       "      <th>destination_city</th>\n",
       "      <th>destination_state</th>\n",
       "      <th>destination_code</th>\n",
       "      <th>destination_place</th>\n",
       "      <th>source_city_state</th>\n",
       "      <th>destination_city_state</th>\n",
       "    </tr>\n",
       "  </thead>\n",
       "  <tbody>\n",
       "    <tr>\n",
       "      <th>0</th>\n",
       "      <td>training</td>\n",
       "      <td>2018-09-20 02:35:36.476840</td>\n",
       "      <td>thanos::sroute:eb7bfc78-b351-4c0e-a951-fa3d5c3...</td>\n",
       "      <td>Carting</td>\n",
       "      <td>trip-153741093647649320</td>\n",
       "      <td>IND388121AAA</td>\n",
       "      <td>Anand_VUNagar_DC (Gujarat)</td>\n",
       "      <td>IND388620AAB</td>\n",
       "      <td>Khambhat_MotvdDPP_D (Gujarat)</td>\n",
       "      <td>2018-09-20 03:21:32.418600</td>\n",
       "      <td>2018-09-20 04:47:45.236797</td>\n",
       "      <td>86.0</td>\n",
       "      <td>True</td>\n",
       "      <td>9</td>\n",
       "      <td>2018-09-20 04:27:55</td>\n",
       "      <td>10.435660</td>\n",
       "      <td>14.0</td>\n",
       "      <td>11.0</td>\n",
       "      <td>11.9653</td>\n",
       "      <td>1.272727</td>\n",
       "      <td>14.0</td>\n",
       "      <td>11.0</td>\n",
       "      <td>11.9653</td>\n",
       "      <td>1.272727</td>\n",
       "      <td>Thursday</td>\n",
       "      <td>Anand</td>\n",
       "      <td>Gujarat</td>\n",
       "      <td>DC</td>\n",
       "      <td>VUNagar</td>\n",
       "      <td>Khambhat</td>\n",
       "      <td>Gujarat</td>\n",
       "      <td>D</td>\n",
       "      <td>MotvdDPP</td>\n",
       "      <td>Anand Gujarat</td>\n",
       "      <td>Khambhat Gujarat</td>\n",
       "    </tr>\n",
       "    <tr>\n",
       "      <th>1</th>\n",
       "      <td>training</td>\n",
       "      <td>2018-09-20 02:35:36.476840</td>\n",
       "      <td>thanos::sroute:eb7bfc78-b351-4c0e-a951-fa3d5c3...</td>\n",
       "      <td>Carting</td>\n",
       "      <td>trip-153741093647649320</td>\n",
       "      <td>IND388121AAA</td>\n",
       "      <td>Anand_VUNagar_DC (Gujarat)</td>\n",
       "      <td>IND388620AAB</td>\n",
       "      <td>Khambhat_MotvdDPP_D (Gujarat)</td>\n",
       "      <td>2018-09-20 03:21:32.418600</td>\n",
       "      <td>2018-09-20 04:47:45.236797</td>\n",
       "      <td>86.0</td>\n",
       "      <td>True</td>\n",
       "      <td>18</td>\n",
       "      <td>2018-09-20 04:17:55</td>\n",
       "      <td>18.936842</td>\n",
       "      <td>24.0</td>\n",
       "      <td>20.0</td>\n",
       "      <td>21.7243</td>\n",
       "      <td>1.200000</td>\n",
       "      <td>10.0</td>\n",
       "      <td>9.0</td>\n",
       "      <td>9.7590</td>\n",
       "      <td>1.111111</td>\n",
       "      <td>Thursday</td>\n",
       "      <td>Anand</td>\n",
       "      <td>Gujarat</td>\n",
       "      <td>DC</td>\n",
       "      <td>VUNagar</td>\n",
       "      <td>Khambhat</td>\n",
       "      <td>Gujarat</td>\n",
       "      <td>D</td>\n",
       "      <td>MotvdDPP</td>\n",
       "      <td>Anand Gujarat</td>\n",
       "      <td>Khambhat Gujarat</td>\n",
       "    </tr>\n",
       "    <tr>\n",
       "      <th>2</th>\n",
       "      <td>training</td>\n",
       "      <td>2018-09-20 02:35:36.476840</td>\n",
       "      <td>thanos::sroute:eb7bfc78-b351-4c0e-a951-fa3d5c3...</td>\n",
       "      <td>Carting</td>\n",
       "      <td>trip-153741093647649320</td>\n",
       "      <td>IND388121AAA</td>\n",
       "      <td>Anand_VUNagar_DC (Gujarat)</td>\n",
       "      <td>IND388620AAB</td>\n",
       "      <td>Khambhat_MotvdDPP_D (Gujarat)</td>\n",
       "      <td>2018-09-20 03:21:32.418600</td>\n",
       "      <td>2018-09-20 04:47:45.236797</td>\n",
       "      <td>86.0</td>\n",
       "      <td>True</td>\n",
       "      <td>27</td>\n",
       "      <td>2018-09-20 04:01:19.505586</td>\n",
       "      <td>27.637279</td>\n",
       "      <td>40.0</td>\n",
       "      <td>28.0</td>\n",
       "      <td>32.5395</td>\n",
       "      <td>1.428571</td>\n",
       "      <td>16.0</td>\n",
       "      <td>7.0</td>\n",
       "      <td>10.8152</td>\n",
       "      <td>2.285714</td>\n",
       "      <td>Thursday</td>\n",
       "      <td>Anand</td>\n",
       "      <td>Gujarat</td>\n",
       "      <td>DC</td>\n",
       "      <td>VUNagar</td>\n",
       "      <td>Khambhat</td>\n",
       "      <td>Gujarat</td>\n",
       "      <td>D</td>\n",
       "      <td>MotvdDPP</td>\n",
       "      <td>Anand Gujarat</td>\n",
       "      <td>Khambhat Gujarat</td>\n",
       "    </tr>\n",
       "    <tr>\n",
       "      <th>3</th>\n",
       "      <td>training</td>\n",
       "      <td>2018-09-20 02:35:36.476840</td>\n",
       "      <td>thanos::sroute:eb7bfc78-b351-4c0e-a951-fa3d5c3...</td>\n",
       "      <td>Carting</td>\n",
       "      <td>trip-153741093647649320</td>\n",
       "      <td>IND388121AAA</td>\n",
       "      <td>Anand_VUNagar_DC (Gujarat)</td>\n",
       "      <td>IND388620AAB</td>\n",
       "      <td>Khambhat_MotvdDPP_D (Gujarat)</td>\n",
       "      <td>2018-09-20 03:21:32.418600</td>\n",
       "      <td>2018-09-20 04:47:45.236797</td>\n",
       "      <td>86.0</td>\n",
       "      <td>True</td>\n",
       "      <td>36</td>\n",
       "      <td>2018-09-20 03:39:57</td>\n",
       "      <td>36.118028</td>\n",
       "      <td>62.0</td>\n",
       "      <td>40.0</td>\n",
       "      <td>45.5620</td>\n",
       "      <td>1.550000</td>\n",
       "      <td>21.0</td>\n",
       "      <td>12.0</td>\n",
       "      <td>13.0224</td>\n",
       "      <td>1.750000</td>\n",
       "      <td>Thursday</td>\n",
       "      <td>Anand</td>\n",
       "      <td>Gujarat</td>\n",
       "      <td>DC</td>\n",
       "      <td>VUNagar</td>\n",
       "      <td>Khambhat</td>\n",
       "      <td>Gujarat</td>\n",
       "      <td>D</td>\n",
       "      <td>MotvdDPP</td>\n",
       "      <td>Anand Gujarat</td>\n",
       "      <td>Khambhat Gujarat</td>\n",
       "    </tr>\n",
       "    <tr>\n",
       "      <th>4</th>\n",
       "      <td>training</td>\n",
       "      <td>2018-09-20 02:35:36.476840</td>\n",
       "      <td>thanos::sroute:eb7bfc78-b351-4c0e-a951-fa3d5c3...</td>\n",
       "      <td>Carting</td>\n",
       "      <td>trip-153741093647649320</td>\n",
       "      <td>IND388121AAA</td>\n",
       "      <td>Anand_VUNagar_DC (Gujarat)</td>\n",
       "      <td>IND388620AAB</td>\n",
       "      <td>Khambhat_MotvdDPP_D (Gujarat)</td>\n",
       "      <td>2018-09-20 03:21:32.418600</td>\n",
       "      <td>2018-09-20 04:47:45.236797</td>\n",
       "      <td>86.0</td>\n",
       "      <td>False</td>\n",
       "      <td>39</td>\n",
       "      <td>2018-09-20 03:33:55</td>\n",
       "      <td>39.386040</td>\n",
       "      <td>68.0</td>\n",
       "      <td>44.0</td>\n",
       "      <td>54.2181</td>\n",
       "      <td>1.545455</td>\n",
       "      <td>6.0</td>\n",
       "      <td>5.0</td>\n",
       "      <td>3.9153</td>\n",
       "      <td>1.200000</td>\n",
       "      <td>Thursday</td>\n",
       "      <td>Anand</td>\n",
       "      <td>Gujarat</td>\n",
       "      <td>DC</td>\n",
       "      <td>VUNagar</td>\n",
       "      <td>Khambhat</td>\n",
       "      <td>Gujarat</td>\n",
       "      <td>D</td>\n",
       "      <td>MotvdDPP</td>\n",
       "      <td>Anand Gujarat</td>\n",
       "      <td>Khambhat Gujarat</td>\n",
       "    </tr>\n",
       "  </tbody>\n",
       "</table>\n",
       "</div>"
      ],
      "text/plain": [
       "       data         trip_creation_time  \\\n",
       "0  training 2018-09-20 02:35:36.476840   \n",
       "1  training 2018-09-20 02:35:36.476840   \n",
       "2  training 2018-09-20 02:35:36.476840   \n",
       "3  training 2018-09-20 02:35:36.476840   \n",
       "4  training 2018-09-20 02:35:36.476840   \n",
       "\n",
       "                                 route_schedule_uuid route_type  \\\n",
       "0  thanos::sroute:eb7bfc78-b351-4c0e-a951-fa3d5c3...    Carting   \n",
       "1  thanos::sroute:eb7bfc78-b351-4c0e-a951-fa3d5c3...    Carting   \n",
       "2  thanos::sroute:eb7bfc78-b351-4c0e-a951-fa3d5c3...    Carting   \n",
       "3  thanos::sroute:eb7bfc78-b351-4c0e-a951-fa3d5c3...    Carting   \n",
       "4  thanos::sroute:eb7bfc78-b351-4c0e-a951-fa3d5c3...    Carting   \n",
       "\n",
       "                 trip_uuid source_center                 source_name  \\\n",
       "0  trip-153741093647649320  IND388121AAA  Anand_VUNagar_DC (Gujarat)   \n",
       "1  trip-153741093647649320  IND388121AAA  Anand_VUNagar_DC (Gujarat)   \n",
       "2  trip-153741093647649320  IND388121AAA  Anand_VUNagar_DC (Gujarat)   \n",
       "3  trip-153741093647649320  IND388121AAA  Anand_VUNagar_DC (Gujarat)   \n",
       "4  trip-153741093647649320  IND388121AAA  Anand_VUNagar_DC (Gujarat)   \n",
       "\n",
       "  destination_center               destination_name  \\\n",
       "0       IND388620AAB  Khambhat_MotvdDPP_D (Gujarat)   \n",
       "1       IND388620AAB  Khambhat_MotvdDPP_D (Gujarat)   \n",
       "2       IND388620AAB  Khambhat_MotvdDPP_D (Gujarat)   \n",
       "3       IND388620AAB  Khambhat_MotvdDPP_D (Gujarat)   \n",
       "4       IND388620AAB  Khambhat_MotvdDPP_D (Gujarat)   \n",
       "\n",
       "               od_start_time                od_end_time  \\\n",
       "0 2018-09-20 03:21:32.418600 2018-09-20 04:47:45.236797   \n",
       "1 2018-09-20 03:21:32.418600 2018-09-20 04:47:45.236797   \n",
       "2 2018-09-20 03:21:32.418600 2018-09-20 04:47:45.236797   \n",
       "3 2018-09-20 03:21:32.418600 2018-09-20 04:47:45.236797   \n",
       "4 2018-09-20 03:21:32.418600 2018-09-20 04:47:45.236797   \n",
       "\n",
       "   start_scan_to_end_scan  is_cutoff  cutoff_factor  \\\n",
       "0                    86.0       True              9   \n",
       "1                    86.0       True             18   \n",
       "2                    86.0       True             27   \n",
       "3                    86.0       True             36   \n",
       "4                    86.0      False             39   \n",
       "\n",
       "             cutoff_timestamp  actual_distance_to_destination  actual_time  \\\n",
       "0         2018-09-20 04:27:55                       10.435660         14.0   \n",
       "1         2018-09-20 04:17:55                       18.936842         24.0   \n",
       "2  2018-09-20 04:01:19.505586                       27.637279         40.0   \n",
       "3         2018-09-20 03:39:57                       36.118028         62.0   \n",
       "4         2018-09-20 03:33:55                       39.386040         68.0   \n",
       "\n",
       "   osrm_time  osrm_distance    factor  segment_actual_time  segment_osrm_time  \\\n",
       "0       11.0        11.9653  1.272727                 14.0               11.0   \n",
       "1       20.0        21.7243  1.200000                 10.0                9.0   \n",
       "2       28.0        32.5395  1.428571                 16.0                7.0   \n",
       "3       40.0        45.5620  1.550000                 21.0               12.0   \n",
       "4       44.0        54.2181  1.545455                  6.0                5.0   \n",
       "\n",
       "   segment_osrm_distance  segment_factor trip_creation_day source_city  \\\n",
       "0                11.9653        1.272727          Thursday       Anand   \n",
       "1                 9.7590        1.111111          Thursday       Anand   \n",
       "2                10.8152        2.285714          Thursday       Anand   \n",
       "3                13.0224        1.750000          Thursday       Anand   \n",
       "4                 3.9153        1.200000          Thursday       Anand   \n",
       "\n",
       "  source_state source_code source_place destination_city destination_state  \\\n",
       "0      Gujarat          DC      VUNagar         Khambhat           Gujarat   \n",
       "1      Gujarat          DC      VUNagar         Khambhat           Gujarat   \n",
       "2      Gujarat          DC      VUNagar         Khambhat           Gujarat   \n",
       "3      Gujarat          DC      VUNagar         Khambhat           Gujarat   \n",
       "4      Gujarat          DC      VUNagar         Khambhat           Gujarat   \n",
       "\n",
       "  destination_code destination_place source_city_state destination_city_state  \n",
       "0                D          MotvdDPP     Anand Gujarat       Khambhat Gujarat  \n",
       "1                D          MotvdDPP     Anand Gujarat       Khambhat Gujarat  \n",
       "2                D          MotvdDPP     Anand Gujarat       Khambhat Gujarat  \n",
       "3                D          MotvdDPP     Anand Gujarat       Khambhat Gujarat  \n",
       "4                D          MotvdDPP     Anand Gujarat       Khambhat Gujarat  "
      ]
     },
     "execution_count": 32,
     "metadata": {},
     "output_type": "execute_result"
    }
   ],
   "source": [
    "df.head()"
   ]
  },
  {
   "cell_type": "code",
   "execution_count": 33,
   "id": "7030c3d8",
   "metadata": {},
   "outputs": [
    {
     "data": {
      "text/plain": [
       "0         [IND388121AAA]\n",
       "1         [IND388121AAA]\n",
       "2         [IND388121AAA]\n",
       "3         [IND388121AAA]\n",
       "4         [IND388121AAA]\n",
       "               ...      \n",
       "144862    [IND131028AAB]\n",
       "144863    [IND131028AAB]\n",
       "144864    [IND131028AAB]\n",
       "144865    [IND131028AAB]\n",
       "144866    [IND131028AAB]\n",
       "Name: source_center, Length: 144867, dtype: object"
      ]
     },
     "execution_count": 33,
     "metadata": {},
     "output_type": "execute_result"
    }
   ],
   "source": [
    "df[\"source_center\"].str.split()"
   ]
  },
  {
   "cell_type": "code",
   "execution_count": 34,
   "id": "ad94eb91",
   "metadata": {},
   "outputs": [],
   "source": [
    "df[\"source_pincode\"] = df[\"source_center\"].apply(lambda x : x[3:9] )"
   ]
  },
  {
   "cell_type": "code",
   "execution_count": 35,
   "id": "ca3154c7",
   "metadata": {},
   "outputs": [],
   "source": [
    "df[\"destination_pincode\"] = df[\"destination_center\"].apply(lambda x : x[3:9] )"
   ]
  },
  {
   "cell_type": "code",
   "execution_count": null,
   "id": "8ed3182f",
   "metadata": {},
   "outputs": [],
   "source": []
  },
  {
   "cell_type": "code",
   "execution_count": null,
   "id": "7287bd8c",
   "metadata": {},
   "outputs": [],
   "source": []
  },
  {
   "cell_type": "code",
   "execution_count": null,
   "id": "29163b38",
   "metadata": {},
   "outputs": [],
   "source": []
  },
  {
   "cell_type": "code",
   "execution_count": null,
   "id": "97ea7ee7",
   "metadata": {},
   "outputs": [],
   "source": []
  },
  {
   "cell_type": "markdown",
   "id": "93e6b105",
   "metadata": {},
   "source": [
    "### converting start_scan_to_end_scan into hours. "
   ]
  },
  {
   "cell_type": "code",
   "execution_count": 36,
   "id": "e6d958b7",
   "metadata": {},
   "outputs": [],
   "source": [
    "df[\"start_scan_to_end_scan\"] = df[\"start_scan_to_end_scan\"]/60"
   ]
  },
  {
   "cell_type": "code",
   "execution_count": null,
   "id": "3f60336f",
   "metadata": {},
   "outputs": [],
   "source": []
  },
  {
   "cell_type": "code",
   "execution_count": null,
   "id": "5189d6ce",
   "metadata": {},
   "outputs": [],
   "source": []
  },
  {
   "cell_type": "code",
   "execution_count": null,
   "id": "c295a935",
   "metadata": {},
   "outputs": [],
   "source": []
  },
  {
   "cell_type": "code",
   "execution_count": 37,
   "id": "2c589920",
   "metadata": {},
   "outputs": [
    {
     "data": {
      "text/html": [
       "<div>\n",
       "<style scoped>\n",
       "    .dataframe tbody tr th:only-of-type {\n",
       "        vertical-align: middle;\n",
       "    }\n",
       "\n",
       "    .dataframe tbody tr th {\n",
       "        vertical-align: top;\n",
       "    }\n",
       "\n",
       "    .dataframe thead th {\n",
       "        text-align: right;\n",
       "    }\n",
       "</style>\n",
       "<table border=\"1\" class=\"dataframe\">\n",
       "  <thead>\n",
       "    <tr style=\"text-align: right;\">\n",
       "      <th></th>\n",
       "      <th>data</th>\n",
       "      <th>trip_creation_time</th>\n",
       "      <th>route_schedule_uuid</th>\n",
       "      <th>route_type</th>\n",
       "      <th>trip_uuid</th>\n",
       "      <th>source_center</th>\n",
       "      <th>source_name</th>\n",
       "      <th>destination_center</th>\n",
       "      <th>destination_name</th>\n",
       "      <th>od_start_time</th>\n",
       "      <th>od_end_time</th>\n",
       "      <th>start_scan_to_end_scan</th>\n",
       "      <th>is_cutoff</th>\n",
       "      <th>cutoff_factor</th>\n",
       "      <th>cutoff_timestamp</th>\n",
       "      <th>actual_distance_to_destination</th>\n",
       "      <th>actual_time</th>\n",
       "      <th>osrm_time</th>\n",
       "      <th>osrm_distance</th>\n",
       "      <th>factor</th>\n",
       "      <th>segment_actual_time</th>\n",
       "      <th>segment_osrm_time</th>\n",
       "      <th>segment_osrm_distance</th>\n",
       "      <th>segment_factor</th>\n",
       "      <th>trip_creation_day</th>\n",
       "      <th>source_city</th>\n",
       "      <th>source_state</th>\n",
       "      <th>source_code</th>\n",
       "      <th>source_place</th>\n",
       "      <th>destination_city</th>\n",
       "      <th>destination_state</th>\n",
       "      <th>destination_code</th>\n",
       "      <th>destination_place</th>\n",
       "      <th>source_city_state</th>\n",
       "      <th>destination_city_state</th>\n",
       "      <th>source_pincode</th>\n",
       "      <th>destination_pincode</th>\n",
       "    </tr>\n",
       "  </thead>\n",
       "  <tbody>\n",
       "    <tr>\n",
       "      <th>99006</th>\n",
       "      <td>training</td>\n",
       "      <td>2018-09-21 00:50:32.483699</td>\n",
       "      <td>thanos::sroute:9ded028c-c5e5-48f8-90f4-1669fef...</td>\n",
       "      <td>FTL</td>\n",
       "      <td>trip-153749103248348878</td>\n",
       "      <td>IND533106AAA</td>\n",
       "      <td>Rajamundry_AtoNgrRd_I (Andhra Pradesh)</td>\n",
       "      <td>IND501359AAE</td>\n",
       "      <td>Hyderabad_Shamshbd_H (Telangana)</td>\n",
       "      <td>2018-09-22 05:31:20.113888</td>\n",
       "      <td>2018-09-23 07:58:22.045999</td>\n",
       "      <td>26.450000</td>\n",
       "      <td>True</td>\n",
       "      <td>242</td>\n",
       "      <td>2018-09-22 10:19:24</td>\n",
       "      <td>246.505824</td>\n",
       "      <td>907.0</td>\n",
       "      <td>199.0</td>\n",
       "      <td>280.2364</td>\n",
       "      <td>4.557789</td>\n",
       "      <td>421.0</td>\n",
       "      <td>18.0</td>\n",
       "      <td>26.3254</td>\n",
       "      <td>23.388889</td>\n",
       "      <td>Friday</td>\n",
       "      <td>Rajamundry</td>\n",
       "      <td>Andhra Pradesh</td>\n",
       "      <td>I</td>\n",
       "      <td>AtoNgrRd</td>\n",
       "      <td>Hyderabad</td>\n",
       "      <td>Telangana</td>\n",
       "      <td>H</td>\n",
       "      <td>Shamshbd</td>\n",
       "      <td>Rajamundry Andhra Pradesh</td>\n",
       "      <td>Hyderabad Telangana</td>\n",
       "      <td>533106</td>\n",
       "      <td>501359</td>\n",
       "    </tr>\n",
       "    <tr>\n",
       "      <th>127446</th>\n",
       "      <td>training</td>\n",
       "      <td>2018-09-16 16:55:12.917962</td>\n",
       "      <td>thanos::sroute:d55366e7-ab8c-4502-b81a-db3bb65...</td>\n",
       "      <td>FTL</td>\n",
       "      <td>trip-153711691516777328</td>\n",
       "      <td>IND560099AAB</td>\n",
       "      <td>Bengaluru_Bomsndra_HB (Karnataka)</td>\n",
       "      <td>IND562132AAA</td>\n",
       "      <td>Bangalore_Nelmngla_H (Karnataka)</td>\n",
       "      <td>2018-09-17 01:28:32.881083</td>\n",
       "      <td>2018-09-17 05:38:39.280476</td>\n",
       "      <td>4.166667</td>\n",
       "      <td>False</td>\n",
       "      <td>39</td>\n",
       "      <td>2018-09-17 02:13:24</td>\n",
       "      <td>39.619626</td>\n",
       "      <td>69.0</td>\n",
       "      <td>57.0</td>\n",
       "      <td>46.1407</td>\n",
       "      <td>1.210526</td>\n",
       "      <td>33.0</td>\n",
       "      <td>26.0</td>\n",
       "      <td>24.5270</td>\n",
       "      <td>1.269231</td>\n",
       "      <td>Sunday</td>\n",
       "      <td>Bengaluru</td>\n",
       "      <td>Karnataka</td>\n",
       "      <td>HB</td>\n",
       "      <td>Bomsndra</td>\n",
       "      <td>Bengaluru</td>\n",
       "      <td>Karnataka</td>\n",
       "      <td>H</td>\n",
       "      <td>Nelmngla</td>\n",
       "      <td>Bengaluru Karnataka</td>\n",
       "      <td>Bengaluru Karnataka</td>\n",
       "      <td>560099</td>\n",
       "      <td>562132</td>\n",
       "    </tr>\n",
       "    <tr>\n",
       "      <th>33309</th>\n",
       "      <td>test</td>\n",
       "      <td>2018-09-30 19:03:22.959552</td>\n",
       "      <td>thanos::sroute:69409580-4bf0-4bbf-96fe-9e7bc65...</td>\n",
       "      <td>FTL</td>\n",
       "      <td>trip-153833420295929830</td>\n",
       "      <td>IND000000ACB</td>\n",
       "      <td>Gurgaon_Bilaspur_HB (Haryana)</td>\n",
       "      <td>IND411033AAA</td>\n",
       "      <td>Pune_Tathawde_H (Maharashtra)</td>\n",
       "      <td>2018-09-30 23:27:10.849320</td>\n",
       "      <td>2018-10-02 07:37:39.836185</td>\n",
       "      <td>32.166667</td>\n",
       "      <td>True</td>\n",
       "      <td>352</td>\n",
       "      <td>2018-10-01 21:41:57</td>\n",
       "      <td>353.340017</td>\n",
       "      <td>590.0</td>\n",
       "      <td>321.0</td>\n",
       "      <td>425.0489</td>\n",
       "      <td>1.838006</td>\n",
       "      <td>104.0</td>\n",
       "      <td>18.0</td>\n",
       "      <td>25.4658</td>\n",
       "      <td>5.777778</td>\n",
       "      <td>Sunday</td>\n",
       "      <td>Gurgaon</td>\n",
       "      <td>Haryana</td>\n",
       "      <td>HB</td>\n",
       "      <td>Bilaspur</td>\n",
       "      <td>Pune</td>\n",
       "      <td>Maharashtra</td>\n",
       "      <td>H</td>\n",
       "      <td>Tathawde</td>\n",
       "      <td>Gurgaon Haryana</td>\n",
       "      <td>Pune Maharashtra</td>\n",
       "      <td>000000</td>\n",
       "      <td>411033</td>\n",
       "    </tr>\n",
       "    <tr>\n",
       "      <th>112623</th>\n",
       "      <td>training</td>\n",
       "      <td>2018-09-21 03:20:10.213665</td>\n",
       "      <td>thanos::sroute:e9b2d11d-a4ff-4744-bff5-cdabe54...</td>\n",
       "      <td>Carting</td>\n",
       "      <td>trip-153750001021330601</td>\n",
       "      <td>IND212402AAA</td>\n",
       "      <td>Phulpur_Shekhpur_D (Uttar Pradesh)</td>\n",
       "      <td>IND211002AAB</td>\n",
       "      <td>Allahabad_Central_H_1 (Uttar Pradesh)</td>\n",
       "      <td>2018-09-21 07:50:49.025574</td>\n",
       "      <td>2018-09-22 02:27:49.208934</td>\n",
       "      <td>18.616667</td>\n",
       "      <td>False</td>\n",
       "      <td>42</td>\n",
       "      <td>2018-09-21 08:23:26</td>\n",
       "      <td>42.039107</td>\n",
       "      <td>1071.0</td>\n",
       "      <td>36.0</td>\n",
       "      <td>49.3971</td>\n",
       "      <td>29.750000</td>\n",
       "      <td>22.0</td>\n",
       "      <td>3.0</td>\n",
       "      <td>5.2074</td>\n",
       "      <td>7.333333</td>\n",
       "      <td>Friday</td>\n",
       "      <td>Phulpur</td>\n",
       "      <td>Uttar Pradesh</td>\n",
       "      <td>D</td>\n",
       "      <td>Shekhpur</td>\n",
       "      <td>Allahabad</td>\n",
       "      <td>Uttar Pradesh</td>\n",
       "      <td>H_1</td>\n",
       "      <td>Central</td>\n",
       "      <td>Phulpur Uttar Pradesh</td>\n",
       "      <td>Allahabad Uttar Pradesh</td>\n",
       "      <td>212402</td>\n",
       "      <td>211002</td>\n",
       "    </tr>\n",
       "    <tr>\n",
       "      <th>53137</th>\n",
       "      <td>training</td>\n",
       "      <td>2018-09-18 18:00:47.866400</td>\n",
       "      <td>thanos::sroute:ef440d0b-5e79-4fe0-a7de-1cfa8c2...</td>\n",
       "      <td>FTL</td>\n",
       "      <td>trip-153729364786613267</td>\n",
       "      <td>IND462022AAA</td>\n",
       "      <td>Bhopal_Trnsport_H (Madhya Pradesh)</td>\n",
       "      <td>IND000000ACB</td>\n",
       "      <td>Gurgaon_Bilaspur_HB (Haryana)</td>\n",
       "      <td>2018-09-20 18:48:31.176194</td>\n",
       "      <td>2018-09-21 12:53:41.422123</td>\n",
       "      <td>18.083333</td>\n",
       "      <td>True</td>\n",
       "      <td>308</td>\n",
       "      <td>2018-09-21 03:13:52</td>\n",
       "      <td>308.008167</td>\n",
       "      <td>578.0</td>\n",
       "      <td>375.0</td>\n",
       "      <td>409.4421</td>\n",
       "      <td>1.541333</td>\n",
       "      <td>25.0</td>\n",
       "      <td>28.0</td>\n",
       "      <td>22.5007</td>\n",
       "      <td>0.892857</td>\n",
       "      <td>Tuesday</td>\n",
       "      <td>Bhopal</td>\n",
       "      <td>Madhya Pradesh</td>\n",
       "      <td>H</td>\n",
       "      <td>Trnsport</td>\n",
       "      <td>Gurgaon</td>\n",
       "      <td>Haryana</td>\n",
       "      <td>HB</td>\n",
       "      <td>Bilaspur</td>\n",
       "      <td>Bhopal Madhya Pradesh</td>\n",
       "      <td>Gurgaon Haryana</td>\n",
       "      <td>462022</td>\n",
       "      <td>000000</td>\n",
       "    </tr>\n",
       "  </tbody>\n",
       "</table>\n",
       "</div>"
      ],
      "text/plain": [
       "            data         trip_creation_time  \\\n",
       "99006   training 2018-09-21 00:50:32.483699   \n",
       "127446  training 2018-09-16 16:55:12.917962   \n",
       "33309       test 2018-09-30 19:03:22.959552   \n",
       "112623  training 2018-09-21 03:20:10.213665   \n",
       "53137   training 2018-09-18 18:00:47.866400   \n",
       "\n",
       "                                      route_schedule_uuid route_type  \\\n",
       "99006   thanos::sroute:9ded028c-c5e5-48f8-90f4-1669fef...        FTL   \n",
       "127446  thanos::sroute:d55366e7-ab8c-4502-b81a-db3bb65...        FTL   \n",
       "33309   thanos::sroute:69409580-4bf0-4bbf-96fe-9e7bc65...        FTL   \n",
       "112623  thanos::sroute:e9b2d11d-a4ff-4744-bff5-cdabe54...    Carting   \n",
       "53137   thanos::sroute:ef440d0b-5e79-4fe0-a7de-1cfa8c2...        FTL   \n",
       "\n",
       "                      trip_uuid source_center  \\\n",
       "99006   trip-153749103248348878  IND533106AAA   \n",
       "127446  trip-153711691516777328  IND560099AAB   \n",
       "33309   trip-153833420295929830  IND000000ACB   \n",
       "112623  trip-153750001021330601  IND212402AAA   \n",
       "53137   trip-153729364786613267  IND462022AAA   \n",
       "\n",
       "                                   source_name destination_center  \\\n",
       "99006   Rajamundry_AtoNgrRd_I (Andhra Pradesh)       IND501359AAE   \n",
       "127446       Bengaluru_Bomsndra_HB (Karnataka)       IND562132AAA   \n",
       "33309            Gurgaon_Bilaspur_HB (Haryana)       IND411033AAA   \n",
       "112623      Phulpur_Shekhpur_D (Uttar Pradesh)       IND211002AAB   \n",
       "53137       Bhopal_Trnsport_H (Madhya Pradesh)       IND000000ACB   \n",
       "\n",
       "                             destination_name              od_start_time  \\\n",
       "99006        Hyderabad_Shamshbd_H (Telangana) 2018-09-22 05:31:20.113888   \n",
       "127446       Bangalore_Nelmngla_H (Karnataka) 2018-09-17 01:28:32.881083   \n",
       "33309           Pune_Tathawde_H (Maharashtra) 2018-09-30 23:27:10.849320   \n",
       "112623  Allahabad_Central_H_1 (Uttar Pradesh) 2018-09-21 07:50:49.025574   \n",
       "53137           Gurgaon_Bilaspur_HB (Haryana) 2018-09-20 18:48:31.176194   \n",
       "\n",
       "                      od_end_time  start_scan_to_end_scan  is_cutoff  \\\n",
       "99006  2018-09-23 07:58:22.045999               26.450000       True   \n",
       "127446 2018-09-17 05:38:39.280476                4.166667      False   \n",
       "33309  2018-10-02 07:37:39.836185               32.166667       True   \n",
       "112623 2018-09-22 02:27:49.208934               18.616667      False   \n",
       "53137  2018-09-21 12:53:41.422123               18.083333       True   \n",
       "\n",
       "        cutoff_factor     cutoff_timestamp  actual_distance_to_destination  \\\n",
       "99006             242  2018-09-22 10:19:24                      246.505824   \n",
       "127446             39  2018-09-17 02:13:24                       39.619626   \n",
       "33309             352  2018-10-01 21:41:57                      353.340017   \n",
       "112623             42  2018-09-21 08:23:26                       42.039107   \n",
       "53137             308  2018-09-21 03:13:52                      308.008167   \n",
       "\n",
       "        actual_time  osrm_time  osrm_distance     factor  segment_actual_time  \\\n",
       "99006         907.0      199.0       280.2364   4.557789                421.0   \n",
       "127446         69.0       57.0        46.1407   1.210526                 33.0   \n",
       "33309         590.0      321.0       425.0489   1.838006                104.0   \n",
       "112623       1071.0       36.0        49.3971  29.750000                 22.0   \n",
       "53137         578.0      375.0       409.4421   1.541333                 25.0   \n",
       "\n",
       "        segment_osrm_time  segment_osrm_distance  segment_factor  \\\n",
       "99006                18.0                26.3254       23.388889   \n",
       "127446               26.0                24.5270        1.269231   \n",
       "33309                18.0                25.4658        5.777778   \n",
       "112623                3.0                 5.2074        7.333333   \n",
       "53137                28.0                22.5007        0.892857   \n",
       "\n",
       "       trip_creation_day source_city    source_state source_code source_place  \\\n",
       "99006             Friday  Rajamundry  Andhra Pradesh           I     AtoNgrRd   \n",
       "127446            Sunday   Bengaluru       Karnataka          HB     Bomsndra   \n",
       "33309             Sunday     Gurgaon         Haryana          HB     Bilaspur   \n",
       "112623            Friday     Phulpur   Uttar Pradesh           D     Shekhpur   \n",
       "53137            Tuesday      Bhopal  Madhya Pradesh           H     Trnsport   \n",
       "\n",
       "       destination_city destination_state destination_code destination_place  \\\n",
       "99006         Hyderabad         Telangana                H          Shamshbd   \n",
       "127446        Bengaluru         Karnataka                H          Nelmngla   \n",
       "33309              Pune       Maharashtra                H          Tathawde   \n",
       "112623        Allahabad     Uttar Pradesh              H_1           Central   \n",
       "53137           Gurgaon           Haryana               HB          Bilaspur   \n",
       "\n",
       "                source_city_state   destination_city_state source_pincode  \\\n",
       "99006   Rajamundry Andhra Pradesh      Hyderabad Telangana         533106   \n",
       "127446        Bengaluru Karnataka      Bengaluru Karnataka         560099   \n",
       "33309             Gurgaon Haryana         Pune Maharashtra         000000   \n",
       "112623      Phulpur Uttar Pradesh  Allahabad Uttar Pradesh         212402   \n",
       "53137       Bhopal Madhya Pradesh          Gurgaon Haryana         462022   \n",
       "\n",
       "       destination_pincode  \n",
       "99006               501359  \n",
       "127446              562132  \n",
       "33309               411033  \n",
       "112623              211002  \n",
       "53137               000000  "
      ]
     },
     "execution_count": 37,
     "metadata": {},
     "output_type": "execute_result"
    }
   ],
   "source": [
    "df.sample(5)"
   ]
  },
  {
   "cell_type": "code",
   "execution_count": 38,
   "id": "a5251d1b",
   "metadata": {},
   "outputs": [
    {
     "data": {
      "text/plain": [
       "data                                  0\n",
       "trip_creation_time                    0\n",
       "route_schedule_uuid                   0\n",
       "route_type                            0\n",
       "trip_uuid                             0\n",
       "source_center                         0\n",
       "source_name                         293\n",
       "destination_center                    0\n",
       "destination_name                    261\n",
       "od_start_time                         0\n",
       "od_end_time                           0\n",
       "start_scan_to_end_scan                0\n",
       "is_cutoff                             0\n",
       "cutoff_factor                         0\n",
       "cutoff_timestamp                      0\n",
       "actual_distance_to_destination        0\n",
       "actual_time                           0\n",
       "osrm_time                             0\n",
       "osrm_distance                         0\n",
       "factor                                0\n",
       "segment_actual_time                   0\n",
       "segment_osrm_time                     0\n",
       "segment_osrm_distance                 0\n",
       "segment_factor                        0\n",
       "trip_creation_day                     0\n",
       "source_city                         293\n",
       "source_state                        293\n",
       "source_code                       14943\n",
       "source_place                       2400\n",
       "destination_city                    261\n",
       "destination_state                   261\n",
       "destination_code                  15829\n",
       "destination_place                  2702\n",
       "source_city_state                   293\n",
       "destination_city_state              261\n",
       "source_pincode                        0\n",
       "destination_pincode                   0\n",
       "dtype: int64"
      ]
     },
     "execution_count": 38,
     "metadata": {},
     "output_type": "execute_result"
    }
   ],
   "source": [
    "df.isna().sum()"
   ]
  },
  {
   "cell_type": "markdown",
   "id": "0be740a9",
   "metadata": {},
   "source": [
    "## Top 10 source and destination city : "
   ]
  },
  {
   "cell_type": "code",
   "execution_count": 39,
   "id": "f76a1803",
   "metadata": {},
   "outputs": [],
   "source": [
    "# df[\"destination_city\"].value_counts().sort_values(ascending=False).head(10)"
   ]
  },
  {
   "cell_type": "code",
   "execution_count": 40,
   "id": "d61be63d",
   "metadata": {},
   "outputs": [],
   "source": [
    "# df[\"source_city\"].value_counts().sort_values(ascending=False).head(10)"
   ]
  },
  {
   "cell_type": "markdown",
   "id": "a73af1e5",
   "metadata": {},
   "source": [
    "## Top 10 source and Destination States :                         "
   ]
  },
  {
   "cell_type": "code",
   "execution_count": 41,
   "id": "057dd79d",
   "metadata": {},
   "outputs": [],
   "source": [
    "# df[\"source_state\"].value_counts().sort_values(ascending=False).head(10)"
   ]
  },
  {
   "cell_type": "code",
   "execution_count": 42,
   "id": "97f4f113",
   "metadata": {},
   "outputs": [],
   "source": [
    "# df[\"destination_state\"].value_counts().sort_values(ascending=False).head(10)"
   ]
  },
  {
   "cell_type": "markdown",
   "id": "42f59867",
   "metadata": {},
   "source": [
    "## Top 10 source and Destination Code :                         "
   ]
  },
  {
   "cell_type": "code",
   "execution_count": 43,
   "id": "42ee90ba",
   "metadata": {},
   "outputs": [],
   "source": [
    "# df[\"source_code\"].value_counts().sort_values(ascending=False).head(10)"
   ]
  },
  {
   "cell_type": "code",
   "execution_count": 44,
   "id": "dffd1ad9",
   "metadata": {},
   "outputs": [],
   "source": [
    "# df[\"destination_code\"].value_counts().sort_values(ascending=False).head(10)"
   ]
  },
  {
   "cell_type": "code",
   "execution_count": null,
   "id": "678c06c3",
   "metadata": {},
   "outputs": [],
   "source": []
  },
  {
   "cell_type": "code",
   "execution_count": null,
   "id": "1166d219",
   "metadata": {},
   "outputs": [],
   "source": []
  },
  {
   "cell_type": "code",
   "execution_count": 45,
   "id": "03896571",
   "metadata": {},
   "outputs": [
    {
     "data": {
      "text/html": [
       "<div>\n",
       "<style scoped>\n",
       "    .dataframe tbody tr th:only-of-type {\n",
       "        vertical-align: middle;\n",
       "    }\n",
       "\n",
       "    .dataframe tbody tr th {\n",
       "        vertical-align: top;\n",
       "    }\n",
       "\n",
       "    .dataframe thead th {\n",
       "        text-align: right;\n",
       "    }\n",
       "</style>\n",
       "<table border=\"1\" class=\"dataframe\">\n",
       "  <thead>\n",
       "    <tr style=\"text-align: right;\">\n",
       "      <th></th>\n",
       "      <th>start_scan_to_end_scan</th>\n",
       "      <th>cutoff_factor</th>\n",
       "      <th>actual_distance_to_destination</th>\n",
       "      <th>actual_time</th>\n",
       "      <th>osrm_time</th>\n",
       "      <th>osrm_distance</th>\n",
       "      <th>factor</th>\n",
       "      <th>segment_actual_time</th>\n",
       "      <th>segment_osrm_time</th>\n",
       "      <th>segment_osrm_distance</th>\n",
       "      <th>segment_factor</th>\n",
       "    </tr>\n",
       "  </thead>\n",
       "  <tbody>\n",
       "    <tr>\n",
       "      <th>count</th>\n",
       "      <td>144867.000000</td>\n",
       "      <td>144867.000000</td>\n",
       "      <td>144867.000000</td>\n",
       "      <td>144867.000000</td>\n",
       "      <td>144867.000000</td>\n",
       "      <td>144867.000000</td>\n",
       "      <td>144867.000000</td>\n",
       "      <td>144867.000000</td>\n",
       "      <td>144867.000000</td>\n",
       "      <td>144867.00000</td>\n",
       "      <td>144867.000000</td>\n",
       "    </tr>\n",
       "    <tr>\n",
       "      <th>mean</th>\n",
       "      <td>16.021050</td>\n",
       "      <td>232.926567</td>\n",
       "      <td>234.073372</td>\n",
       "      <td>416.927527</td>\n",
       "      <td>213.868272</td>\n",
       "      <td>284.771297</td>\n",
       "      <td>2.120107</td>\n",
       "      <td>36.196111</td>\n",
       "      <td>18.507548</td>\n",
       "      <td>22.82902</td>\n",
       "      <td>2.218368</td>\n",
       "    </tr>\n",
       "    <tr>\n",
       "      <th>std</th>\n",
       "      <td>17.283546</td>\n",
       "      <td>344.755577</td>\n",
       "      <td>344.990009</td>\n",
       "      <td>598.103621</td>\n",
       "      <td>308.011085</td>\n",
       "      <td>421.119294</td>\n",
       "      <td>1.715421</td>\n",
       "      <td>53.571158</td>\n",
       "      <td>14.775960</td>\n",
       "      <td>17.86066</td>\n",
       "      <td>4.847530</td>\n",
       "    </tr>\n",
       "    <tr>\n",
       "      <th>min</th>\n",
       "      <td>0.333333</td>\n",
       "      <td>9.000000</td>\n",
       "      <td>9.000045</td>\n",
       "      <td>9.000000</td>\n",
       "      <td>6.000000</td>\n",
       "      <td>9.008200</td>\n",
       "      <td>0.144000</td>\n",
       "      <td>-244.000000</td>\n",
       "      <td>0.000000</td>\n",
       "      <td>0.00000</td>\n",
       "      <td>-23.444444</td>\n",
       "    </tr>\n",
       "    <tr>\n",
       "      <th>25%</th>\n",
       "      <td>2.683333</td>\n",
       "      <td>22.000000</td>\n",
       "      <td>23.355874</td>\n",
       "      <td>51.000000</td>\n",
       "      <td>27.000000</td>\n",
       "      <td>29.914700</td>\n",
       "      <td>1.604264</td>\n",
       "      <td>20.000000</td>\n",
       "      <td>11.000000</td>\n",
       "      <td>12.07010</td>\n",
       "      <td>1.347826</td>\n",
       "    </tr>\n",
       "    <tr>\n",
       "      <th>50%</th>\n",
       "      <td>7.483333</td>\n",
       "      <td>66.000000</td>\n",
       "      <td>66.126571</td>\n",
       "      <td>132.000000</td>\n",
       "      <td>64.000000</td>\n",
       "      <td>78.525800</td>\n",
       "      <td>1.857143</td>\n",
       "      <td>29.000000</td>\n",
       "      <td>17.000000</td>\n",
       "      <td>23.51300</td>\n",
       "      <td>1.684211</td>\n",
       "    </tr>\n",
       "    <tr>\n",
       "      <th>75%</th>\n",
       "      <td>27.233333</td>\n",
       "      <td>286.000000</td>\n",
       "      <td>286.708875</td>\n",
       "      <td>513.000000</td>\n",
       "      <td>257.000000</td>\n",
       "      <td>343.193250</td>\n",
       "      <td>2.213483</td>\n",
       "      <td>40.000000</td>\n",
       "      <td>22.000000</td>\n",
       "      <td>27.81325</td>\n",
       "      <td>2.250000</td>\n",
       "    </tr>\n",
       "    <tr>\n",
       "      <th>max</th>\n",
       "      <td>131.633333</td>\n",
       "      <td>1927.000000</td>\n",
       "      <td>1927.447705</td>\n",
       "      <td>4532.000000</td>\n",
       "      <td>1686.000000</td>\n",
       "      <td>2326.199100</td>\n",
       "      <td>77.387097</td>\n",
       "      <td>3051.000000</td>\n",
       "      <td>1611.000000</td>\n",
       "      <td>2191.40370</td>\n",
       "      <td>574.250000</td>\n",
       "    </tr>\n",
       "  </tbody>\n",
       "</table>\n",
       "</div>"
      ],
      "text/plain": [
       "       start_scan_to_end_scan  cutoff_factor  actual_distance_to_destination  \\\n",
       "count           144867.000000  144867.000000                   144867.000000   \n",
       "mean                16.021050     232.926567                      234.073372   \n",
       "std                 17.283546     344.755577                      344.990009   \n",
       "min                  0.333333       9.000000                        9.000045   \n",
       "25%                  2.683333      22.000000                       23.355874   \n",
       "50%                  7.483333      66.000000                       66.126571   \n",
       "75%                 27.233333     286.000000                      286.708875   \n",
       "max                131.633333    1927.000000                     1927.447705   \n",
       "\n",
       "         actual_time      osrm_time  osrm_distance         factor  \\\n",
       "count  144867.000000  144867.000000  144867.000000  144867.000000   \n",
       "mean      416.927527     213.868272     284.771297       2.120107   \n",
       "std       598.103621     308.011085     421.119294       1.715421   \n",
       "min         9.000000       6.000000       9.008200       0.144000   \n",
       "25%        51.000000      27.000000      29.914700       1.604264   \n",
       "50%       132.000000      64.000000      78.525800       1.857143   \n",
       "75%       513.000000     257.000000     343.193250       2.213483   \n",
       "max      4532.000000    1686.000000    2326.199100      77.387097   \n",
       "\n",
       "       segment_actual_time  segment_osrm_time  segment_osrm_distance  \\\n",
       "count        144867.000000      144867.000000           144867.00000   \n",
       "mean             36.196111          18.507548               22.82902   \n",
       "std              53.571158          14.775960               17.86066   \n",
       "min            -244.000000           0.000000                0.00000   \n",
       "25%              20.000000          11.000000               12.07010   \n",
       "50%              29.000000          17.000000               23.51300   \n",
       "75%              40.000000          22.000000               27.81325   \n",
       "max            3051.000000        1611.000000             2191.40370   \n",
       "\n",
       "       segment_factor  \n",
       "count   144867.000000  \n",
       "mean         2.218368  \n",
       "std          4.847530  \n",
       "min        -23.444444  \n",
       "25%          1.347826  \n",
       "50%          1.684211  \n",
       "75%          2.250000  \n",
       "max        574.250000  "
      ]
     },
     "execution_count": 45,
     "metadata": {},
     "output_type": "execute_result"
    }
   ],
   "source": [
    "df.describe()"
   ]
  },
  {
   "cell_type": "code",
   "execution_count": 46,
   "id": "d9bdb447",
   "metadata": {},
   "outputs": [
    {
     "data": {
      "text/html": [
       "<div>\n",
       "<style scoped>\n",
       "    .dataframe tbody tr th:only-of-type {\n",
       "        vertical-align: middle;\n",
       "    }\n",
       "\n",
       "    .dataframe tbody tr th {\n",
       "        vertical-align: top;\n",
       "    }\n",
       "\n",
       "    .dataframe thead th {\n",
       "        text-align: right;\n",
       "    }\n",
       "</style>\n",
       "<table border=\"1\" class=\"dataframe\">\n",
       "  <thead>\n",
       "    <tr style=\"text-align: right;\">\n",
       "      <th></th>\n",
       "      <th>data</th>\n",
       "      <th>route_schedule_uuid</th>\n",
       "      <th>route_type</th>\n",
       "      <th>trip_uuid</th>\n",
       "      <th>source_center</th>\n",
       "      <th>source_name</th>\n",
       "      <th>destination_center</th>\n",
       "      <th>destination_name</th>\n",
       "      <th>cutoff_timestamp</th>\n",
       "      <th>trip_creation_day</th>\n",
       "      <th>source_city</th>\n",
       "      <th>source_state</th>\n",
       "      <th>source_code</th>\n",
       "      <th>source_place</th>\n",
       "      <th>destination_city</th>\n",
       "      <th>destination_state</th>\n",
       "      <th>destination_code</th>\n",
       "      <th>destination_place</th>\n",
       "      <th>source_city_state</th>\n",
       "      <th>destination_city_state</th>\n",
       "      <th>source_pincode</th>\n",
       "      <th>destination_pincode</th>\n",
       "    </tr>\n",
       "  </thead>\n",
       "  <tbody>\n",
       "    <tr>\n",
       "      <th>count</th>\n",
       "      <td>144867</td>\n",
       "      <td>144867</td>\n",
       "      <td>144867</td>\n",
       "      <td>144867</td>\n",
       "      <td>144867</td>\n",
       "      <td>144574</td>\n",
       "      <td>144867</td>\n",
       "      <td>144606</td>\n",
       "      <td>144867</td>\n",
       "      <td>144867</td>\n",
       "      <td>144574</td>\n",
       "      <td>144574</td>\n",
       "      <td>129924</td>\n",
       "      <td>142467</td>\n",
       "      <td>144606</td>\n",
       "      <td>144606</td>\n",
       "      <td>129038</td>\n",
       "      <td>142165</td>\n",
       "      <td>144574</td>\n",
       "      <td>144606</td>\n",
       "      <td>144867</td>\n",
       "      <td>144867</td>\n",
       "    </tr>\n",
       "    <tr>\n",
       "      <th>unique</th>\n",
       "      <td>2</td>\n",
       "      <td>1504</td>\n",
       "      <td>2</td>\n",
       "      <td>14817</td>\n",
       "      <td>1508</td>\n",
       "      <td>1498</td>\n",
       "      <td>1481</td>\n",
       "      <td>1468</td>\n",
       "      <td>93180</td>\n",
       "      <td>7</td>\n",
       "      <td>1260</td>\n",
       "      <td>31</td>\n",
       "      <td>48</td>\n",
       "      <td>1178</td>\n",
       "      <td>1255</td>\n",
       "      <td>32</td>\n",
       "      <td>48</td>\n",
       "      <td>1154</td>\n",
       "      <td>1268</td>\n",
       "      <td>1261</td>\n",
       "      <td>1390</td>\n",
       "      <td>1384</td>\n",
       "    </tr>\n",
       "    <tr>\n",
       "      <th>top</th>\n",
       "      <td>training</td>\n",
       "      <td>thanos::sroute:4029a8a2-6c74-4b7e-a6d8-f9e069f...</td>\n",
       "      <td>FTL</td>\n",
       "      <td>trip-153811219535896559</td>\n",
       "      <td>IND000000ACB</td>\n",
       "      <td>Gurgaon_Bilaspur_HB (Haryana)</td>\n",
       "      <td>IND000000ACB</td>\n",
       "      <td>Gurgaon_Bilaspur_HB (Haryana)</td>\n",
       "      <td>2018-09-24 05:19:20</td>\n",
       "      <td>Wednesday</td>\n",
       "      <td>Gurgaon</td>\n",
       "      <td>Haryana</td>\n",
       "      <td>HB</td>\n",
       "      <td>Bilaspur</td>\n",
       "      <td>Gurgaon</td>\n",
       "      <td>Karnataka</td>\n",
       "      <td>H</td>\n",
       "      <td>Bilaspur</td>\n",
       "      <td>Gurgaon Haryana</td>\n",
       "      <td>Gurgaon Haryana</td>\n",
       "      <td>000000</td>\n",
       "      <td>000000</td>\n",
       "    </tr>\n",
       "    <tr>\n",
       "      <th>freq</th>\n",
       "      <td>104858</td>\n",
       "      <td>1812</td>\n",
       "      <td>99660</td>\n",
       "      <td>101</td>\n",
       "      <td>23347</td>\n",
       "      <td>23347</td>\n",
       "      <td>15192</td>\n",
       "      <td>15192</td>\n",
       "      <td>40</td>\n",
       "      <td>26732</td>\n",
       "      <td>23665</td>\n",
       "      <td>27499</td>\n",
       "      <td>41177</td>\n",
       "      <td>23464</td>\n",
       "      <td>15393</td>\n",
       "      <td>21065</td>\n",
       "      <td>34584</td>\n",
       "      <td>15363</td>\n",
       "      <td>23665</td>\n",
       "      <td>15393</td>\n",
       "      <td>25460</td>\n",
       "      <td>16382</td>\n",
       "    </tr>\n",
       "  </tbody>\n",
       "</table>\n",
       "</div>"
      ],
      "text/plain": [
       "            data                                route_schedule_uuid  \\\n",
       "count     144867                                             144867   \n",
       "unique         2                                               1504   \n",
       "top     training  thanos::sroute:4029a8a2-6c74-4b7e-a6d8-f9e069f...   \n",
       "freq      104858                                               1812   \n",
       "\n",
       "       route_type                trip_uuid source_center  \\\n",
       "count      144867                   144867        144867   \n",
       "unique          2                    14817          1508   \n",
       "top           FTL  trip-153811219535896559  IND000000ACB   \n",
       "freq        99660                      101         23347   \n",
       "\n",
       "                          source_name destination_center  \\\n",
       "count                          144574             144867   \n",
       "unique                           1498               1481   \n",
       "top     Gurgaon_Bilaspur_HB (Haryana)       IND000000ACB   \n",
       "freq                            23347              15192   \n",
       "\n",
       "                     destination_name     cutoff_timestamp trip_creation_day  \\\n",
       "count                          144606               144867            144867   \n",
       "unique                           1468                93180                 7   \n",
       "top     Gurgaon_Bilaspur_HB (Haryana)  2018-09-24 05:19:20         Wednesday   \n",
       "freq                            15192                   40             26732   \n",
       "\n",
       "       source_city source_state source_code source_place destination_city  \\\n",
       "count       144574       144574      129924       142467           144606   \n",
       "unique        1260           31          48         1178             1255   \n",
       "top        Gurgaon      Haryana          HB     Bilaspur          Gurgaon   \n",
       "freq         23665        27499       41177        23464            15393   \n",
       "\n",
       "       destination_state destination_code destination_place source_city_state  \\\n",
       "count             144606           129038            142165            144574   \n",
       "unique                32               48              1154              1268   \n",
       "top            Karnataka                H          Bilaspur   Gurgaon Haryana   \n",
       "freq               21065            34584             15363             23665   \n",
       "\n",
       "       destination_city_state source_pincode destination_pincode  \n",
       "count                  144606         144867              144867  \n",
       "unique                   1261           1390                1384  \n",
       "top           Gurgaon Haryana         000000              000000  \n",
       "freq                    15393          25460               16382  "
      ]
     },
     "execution_count": 46,
     "metadata": {},
     "output_type": "execute_result"
    }
   ],
   "source": [
    "df.describe(include=\"object\")"
   ]
  },
  {
   "cell_type": "code",
   "execution_count": null,
   "id": "d11db736",
   "metadata": {},
   "outputs": [],
   "source": []
  },
  {
   "cell_type": "code",
   "execution_count": null,
   "id": "a9520b11",
   "metadata": {},
   "outputs": [],
   "source": []
  },
  {
   "cell_type": "code",
   "execution_count": null,
   "id": "63719902",
   "metadata": {},
   "outputs": [],
   "source": []
  },
  {
   "cell_type": "code",
   "execution_count": 47,
   "id": "d2ff8e89",
   "metadata": {},
   "outputs": [],
   "source": [
    "data = df.copy()"
   ]
  },
  {
   "cell_type": "code",
   "execution_count": 48,
   "id": "1c83f404",
   "metadata": {},
   "outputs": [
    {
     "data": {
      "text/plain": [
       "Index(['data', 'trip_creation_time', 'route_schedule_uuid', 'route_type',\n",
       "       'trip_uuid', 'source_center', 'source_name', 'destination_center',\n",
       "       'destination_name', 'od_start_time', 'od_end_time',\n",
       "       'start_scan_to_end_scan', 'is_cutoff', 'cutoff_factor',\n",
       "       'cutoff_timestamp', 'actual_distance_to_destination', 'actual_time',\n",
       "       'osrm_time', 'osrm_distance', 'factor', 'segment_actual_time',\n",
       "       'segment_osrm_time', 'segment_osrm_distance', 'segment_factor',\n",
       "       'trip_creation_day', 'source_city', 'source_state', 'source_code',\n",
       "       'source_place', 'destination_city', 'destination_state',\n",
       "       'destination_code', 'destination_place', 'source_city_state',\n",
       "       'destination_city_state', 'source_pincode', 'destination_pincode'],\n",
       "      dtype='object')"
      ]
     },
     "execution_count": 48,
     "metadata": {},
     "output_type": "execute_result"
    }
   ],
   "source": [
    "data.columns"
   ]
  },
  {
   "cell_type": "code",
   "execution_count": 49,
   "id": "88def95c",
   "metadata": {},
   "outputs": [
    {
     "data": {
      "text/html": [
       "<div>\n",
       "<style scoped>\n",
       "    .dataframe tbody tr th:only-of-type {\n",
       "        vertical-align: middle;\n",
       "    }\n",
       "\n",
       "    .dataframe tbody tr th {\n",
       "        vertical-align: top;\n",
       "    }\n",
       "\n",
       "    .dataframe thead th {\n",
       "        text-align: right;\n",
       "    }\n",
       "</style>\n",
       "<table border=\"1\" class=\"dataframe\">\n",
       "  <thead>\n",
       "    <tr style=\"text-align: right;\">\n",
       "      <th></th>\n",
       "      <th>data</th>\n",
       "      <th>trip_creation_time</th>\n",
       "      <th>route_schedule_uuid</th>\n",
       "      <th>route_type</th>\n",
       "      <th>trip_uuid</th>\n",
       "      <th>source_center</th>\n",
       "      <th>source_name</th>\n",
       "      <th>destination_center</th>\n",
       "      <th>destination_name</th>\n",
       "      <th>od_start_time</th>\n",
       "      <th>od_end_time</th>\n",
       "      <th>start_scan_to_end_scan</th>\n",
       "      <th>is_cutoff</th>\n",
       "      <th>cutoff_factor</th>\n",
       "      <th>cutoff_timestamp</th>\n",
       "      <th>actual_distance_to_destination</th>\n",
       "      <th>actual_time</th>\n",
       "      <th>osrm_time</th>\n",
       "      <th>osrm_distance</th>\n",
       "      <th>factor</th>\n",
       "      <th>segment_actual_time</th>\n",
       "      <th>segment_osrm_time</th>\n",
       "      <th>segment_osrm_distance</th>\n",
       "      <th>segment_factor</th>\n",
       "      <th>trip_creation_day</th>\n",
       "      <th>source_city</th>\n",
       "      <th>source_state</th>\n",
       "      <th>source_code</th>\n",
       "      <th>source_place</th>\n",
       "      <th>destination_city</th>\n",
       "      <th>destination_state</th>\n",
       "      <th>destination_code</th>\n",
       "      <th>destination_place</th>\n",
       "      <th>source_city_state</th>\n",
       "      <th>destination_city_state</th>\n",
       "      <th>source_pincode</th>\n",
       "      <th>destination_pincode</th>\n",
       "    </tr>\n",
       "  </thead>\n",
       "  <tbody>\n",
       "    <tr>\n",
       "      <th>0</th>\n",
       "      <td>training</td>\n",
       "      <td>2018-09-20 02:35:36.476840</td>\n",
       "      <td>thanos::sroute:eb7bfc78-b351-4c0e-a951-fa3d5c3...</td>\n",
       "      <td>Carting</td>\n",
       "      <td>trip-153741093647649320</td>\n",
       "      <td>IND388121AAA</td>\n",
       "      <td>Anand_VUNagar_DC (Gujarat)</td>\n",
       "      <td>IND388620AAB</td>\n",
       "      <td>Khambhat_MotvdDPP_D (Gujarat)</td>\n",
       "      <td>2018-09-20 03:21:32.418600</td>\n",
       "      <td>2018-09-20 04:47:45.236797</td>\n",
       "      <td>1.433333</td>\n",
       "      <td>True</td>\n",
       "      <td>9</td>\n",
       "      <td>2018-09-20 04:27:55</td>\n",
       "      <td>10.435660</td>\n",
       "      <td>14.0</td>\n",
       "      <td>11.0</td>\n",
       "      <td>11.9653</td>\n",
       "      <td>1.272727</td>\n",
       "      <td>14.0</td>\n",
       "      <td>11.0</td>\n",
       "      <td>11.9653</td>\n",
       "      <td>1.272727</td>\n",
       "      <td>Thursday</td>\n",
       "      <td>Anand</td>\n",
       "      <td>Gujarat</td>\n",
       "      <td>DC</td>\n",
       "      <td>VUNagar</td>\n",
       "      <td>Khambhat</td>\n",
       "      <td>Gujarat</td>\n",
       "      <td>D</td>\n",
       "      <td>MotvdDPP</td>\n",
       "      <td>Anand Gujarat</td>\n",
       "      <td>Khambhat Gujarat</td>\n",
       "      <td>388121</td>\n",
       "      <td>388620</td>\n",
       "    </tr>\n",
       "    <tr>\n",
       "      <th>1</th>\n",
       "      <td>training</td>\n",
       "      <td>2018-09-20 02:35:36.476840</td>\n",
       "      <td>thanos::sroute:eb7bfc78-b351-4c0e-a951-fa3d5c3...</td>\n",
       "      <td>Carting</td>\n",
       "      <td>trip-153741093647649320</td>\n",
       "      <td>IND388121AAA</td>\n",
       "      <td>Anand_VUNagar_DC (Gujarat)</td>\n",
       "      <td>IND388620AAB</td>\n",
       "      <td>Khambhat_MotvdDPP_D (Gujarat)</td>\n",
       "      <td>2018-09-20 03:21:32.418600</td>\n",
       "      <td>2018-09-20 04:47:45.236797</td>\n",
       "      <td>1.433333</td>\n",
       "      <td>True</td>\n",
       "      <td>18</td>\n",
       "      <td>2018-09-20 04:17:55</td>\n",
       "      <td>18.936842</td>\n",
       "      <td>24.0</td>\n",
       "      <td>20.0</td>\n",
       "      <td>21.7243</td>\n",
       "      <td>1.200000</td>\n",
       "      <td>10.0</td>\n",
       "      <td>9.0</td>\n",
       "      <td>9.7590</td>\n",
       "      <td>1.111111</td>\n",
       "      <td>Thursday</td>\n",
       "      <td>Anand</td>\n",
       "      <td>Gujarat</td>\n",
       "      <td>DC</td>\n",
       "      <td>VUNagar</td>\n",
       "      <td>Khambhat</td>\n",
       "      <td>Gujarat</td>\n",
       "      <td>D</td>\n",
       "      <td>MotvdDPP</td>\n",
       "      <td>Anand Gujarat</td>\n",
       "      <td>Khambhat Gujarat</td>\n",
       "      <td>388121</td>\n",
       "      <td>388620</td>\n",
       "    </tr>\n",
       "  </tbody>\n",
       "</table>\n",
       "</div>"
      ],
      "text/plain": [
       "       data         trip_creation_time  \\\n",
       "0  training 2018-09-20 02:35:36.476840   \n",
       "1  training 2018-09-20 02:35:36.476840   \n",
       "\n",
       "                                 route_schedule_uuid route_type  \\\n",
       "0  thanos::sroute:eb7bfc78-b351-4c0e-a951-fa3d5c3...    Carting   \n",
       "1  thanos::sroute:eb7bfc78-b351-4c0e-a951-fa3d5c3...    Carting   \n",
       "\n",
       "                 trip_uuid source_center                 source_name  \\\n",
       "0  trip-153741093647649320  IND388121AAA  Anand_VUNagar_DC (Gujarat)   \n",
       "1  trip-153741093647649320  IND388121AAA  Anand_VUNagar_DC (Gujarat)   \n",
       "\n",
       "  destination_center               destination_name  \\\n",
       "0       IND388620AAB  Khambhat_MotvdDPP_D (Gujarat)   \n",
       "1       IND388620AAB  Khambhat_MotvdDPP_D (Gujarat)   \n",
       "\n",
       "               od_start_time                od_end_time  \\\n",
       "0 2018-09-20 03:21:32.418600 2018-09-20 04:47:45.236797   \n",
       "1 2018-09-20 03:21:32.418600 2018-09-20 04:47:45.236797   \n",
       "\n",
       "   start_scan_to_end_scan  is_cutoff  cutoff_factor     cutoff_timestamp  \\\n",
       "0                1.433333       True              9  2018-09-20 04:27:55   \n",
       "1                1.433333       True             18  2018-09-20 04:17:55   \n",
       "\n",
       "   actual_distance_to_destination  actual_time  osrm_time  osrm_distance  \\\n",
       "0                       10.435660         14.0       11.0        11.9653   \n",
       "1                       18.936842         24.0       20.0        21.7243   \n",
       "\n",
       "     factor  segment_actual_time  segment_osrm_time  segment_osrm_distance  \\\n",
       "0  1.272727                 14.0               11.0                11.9653   \n",
       "1  1.200000                 10.0                9.0                 9.7590   \n",
       "\n",
       "   segment_factor trip_creation_day source_city source_state source_code  \\\n",
       "0        1.272727          Thursday       Anand      Gujarat          DC   \n",
       "1        1.111111          Thursday       Anand      Gujarat          DC   \n",
       "\n",
       "  source_place destination_city destination_state destination_code  \\\n",
       "0      VUNagar         Khambhat           Gujarat                D   \n",
       "1      VUNagar         Khambhat           Gujarat                D   \n",
       "\n",
       "  destination_place source_city_state destination_city_state source_pincode  \\\n",
       "0          MotvdDPP     Anand Gujarat       Khambhat Gujarat         388121   \n",
       "1          MotvdDPP     Anand Gujarat       Khambhat Gujarat         388121   \n",
       "\n",
       "  destination_pincode  \n",
       "0              388620  \n",
       "1              388620  "
      ]
     },
     "execution_count": 49,
     "metadata": {},
     "output_type": "execute_result"
    }
   ],
   "source": [
    "data.head(2)"
   ]
  },
  {
   "cell_type": "code",
   "execution_count": 50,
   "id": "3c85e582",
   "metadata": {},
   "outputs": [],
   "source": [
    "data.drop([\"trip_creation_time\",'source_center',\"source_name\",\"destination_center\",\"destination_name\",\"cutoff_timestamp\"],axis = 1,inplace=True)"
   ]
  },
  {
   "cell_type": "code",
   "execution_count": 51,
   "id": "4ba7c6d1",
   "metadata": {},
   "outputs": [
    {
     "name": "stdout",
     "output_type": "stream",
     "text": [
      "<class 'pandas.core.frame.DataFrame'>\n",
      "RangeIndex: 144867 entries, 0 to 144866\n",
      "Data columns (total 31 columns):\n",
      " #   Column                          Non-Null Count   Dtype         \n",
      "---  ------                          --------------   -----         \n",
      " 0   data                            144867 non-null  object        \n",
      " 1   route_schedule_uuid             144867 non-null  object        \n",
      " 2   route_type                      144867 non-null  object        \n",
      " 3   trip_uuid                       144867 non-null  object        \n",
      " 4   od_start_time                   144867 non-null  datetime64[ns]\n",
      " 5   od_end_time                     144867 non-null  datetime64[ns]\n",
      " 6   start_scan_to_end_scan          144867 non-null  float64       \n",
      " 7   is_cutoff                       144867 non-null  bool          \n",
      " 8   cutoff_factor                   144867 non-null  int64         \n",
      " 9   actual_distance_to_destination  144867 non-null  float64       \n",
      " 10  actual_time                     144867 non-null  float64       \n",
      " 11  osrm_time                       144867 non-null  float64       \n",
      " 12  osrm_distance                   144867 non-null  float64       \n",
      " 13  factor                          144867 non-null  float64       \n",
      " 14  segment_actual_time             144867 non-null  float64       \n",
      " 15  segment_osrm_time               144867 non-null  float64       \n",
      " 16  segment_osrm_distance           144867 non-null  float64       \n",
      " 17  segment_factor                  144867 non-null  float64       \n",
      " 18  trip_creation_day               144867 non-null  object        \n",
      " 19  source_city                     144574 non-null  object        \n",
      " 20  source_state                    144574 non-null  object        \n",
      " 21  source_code                     129924 non-null  object        \n",
      " 22  source_place                    142467 non-null  object        \n",
      " 23  destination_city                144606 non-null  object        \n",
      " 24  destination_state               144606 non-null  object        \n",
      " 25  destination_code                129038 non-null  object        \n",
      " 26  destination_place               142165 non-null  object        \n",
      " 27  source_city_state               144574 non-null  object        \n",
      " 28  destination_city_state          144606 non-null  object        \n",
      " 29  source_pincode                  144867 non-null  object        \n",
      " 30  destination_pincode             144867 non-null  object        \n",
      "dtypes: bool(1), datetime64[ns](2), float64(10), int64(1), object(17)\n",
      "memory usage: 33.3+ MB\n"
     ]
    }
   ],
   "source": [
    "data.info()"
   ]
  },
  {
   "cell_type": "code",
   "execution_count": 52,
   "id": "2dfda5b5",
   "metadata": {
    "scrolled": false
   },
   "outputs": [
    {
     "data": {
      "text/plain": [
       "data                               0.000000\n",
       "route_schedule_uuid                0.000000\n",
       "route_type                         0.000000\n",
       "trip_uuid                          0.000000\n",
       "od_start_time                      0.000000\n",
       "od_end_time                        0.000000\n",
       "start_scan_to_end_scan             0.000000\n",
       "is_cutoff                          0.000000\n",
       "cutoff_factor                      0.000000\n",
       "actual_distance_to_destination     0.000000\n",
       "actual_time                        0.000000\n",
       "osrm_time                          0.000000\n",
       "osrm_distance                      0.000000\n",
       "factor                             0.000000\n",
       "segment_actual_time                0.000000\n",
       "segment_osrm_time                  0.000000\n",
       "segment_osrm_distance              0.000000\n",
       "segment_factor                     0.000000\n",
       "trip_creation_day                  0.000000\n",
       "source_city                        0.202254\n",
       "source_state                       0.202254\n",
       "source_code                       10.314979\n",
       "source_place                       1.656692\n",
       "destination_city                   0.180165\n",
       "destination_state                  0.180165\n",
       "destination_code                  10.926574\n",
       "destination_place                  1.865159\n",
       "source_city_state                  0.202254\n",
       "destination_city_state             0.180165\n",
       "source_pincode                     0.000000\n",
       "destination_pincode                0.000000\n",
       "dtype: float64"
      ]
     },
     "execution_count": 52,
     "metadata": {},
     "output_type": "execute_result"
    }
   ],
   "source": [
    "((data.isna().sum())/len(data))*100"
   ]
  },
  {
   "cell_type": "code",
   "execution_count": 53,
   "id": "a7f3a3c0",
   "metadata": {},
   "outputs": [
    {
     "data": {
      "text/plain": [
       "data                                   2\n",
       "route_schedule_uuid                 1504\n",
       "route_type                             2\n",
       "trip_uuid                          14817\n",
       "od_start_time                      26369\n",
       "od_end_time                        26369\n",
       "start_scan_to_end_scan              1915\n",
       "is_cutoff                              2\n",
       "cutoff_factor                        501\n",
       "actual_distance_to_destination    144515\n",
       "actual_time                         3182\n",
       "osrm_time                           1531\n",
       "osrm_distance                     138046\n",
       "factor                             45641\n",
       "segment_actual_time                  747\n",
       "segment_osrm_time                    214\n",
       "segment_osrm_distance             113799\n",
       "segment_factor                      5675\n",
       "trip_creation_day                      7\n",
       "source_city                         1260\n",
       "source_state                          31\n",
       "source_code                           48\n",
       "source_place                        1178\n",
       "destination_city                    1255\n",
       "destination_state                     32\n",
       "destination_code                      48\n",
       "destination_place                   1154\n",
       "source_city_state                   1268\n",
       "destination_city_state              1261\n",
       "source_pincode                      1390\n",
       "destination_pincode                 1384\n",
       "dtype: int64"
      ]
     },
     "execution_count": 53,
     "metadata": {},
     "output_type": "execute_result"
    }
   ],
   "source": [
    "\n",
    "data.nunique()"
   ]
  },
  {
   "cell_type": "code",
   "execution_count": 54,
   "id": "3bc24f83",
   "metadata": {},
   "outputs": [],
   "source": [
    "# data.count()"
   ]
  },
  {
   "cell_type": "code",
   "execution_count": null,
   "id": "22209a7e",
   "metadata": {},
   "outputs": [],
   "source": []
  },
  {
   "cell_type": "code",
   "execution_count": 55,
   "id": "f169fe73",
   "metadata": {},
   "outputs": [
    {
     "data": {
      "text/plain": [
       "Index(['data', 'route_schedule_uuid', 'route_type', 'trip_uuid',\n",
       "       'od_start_time', 'od_end_time', 'start_scan_to_end_scan', 'is_cutoff',\n",
       "       'cutoff_factor', 'actual_distance_to_destination', 'actual_time',\n",
       "       'osrm_time', 'osrm_distance', 'factor', 'segment_actual_time',\n",
       "       'segment_osrm_time', 'segment_osrm_distance', 'segment_factor',\n",
       "       'trip_creation_day', 'source_city', 'source_state', 'source_code',\n",
       "       'source_place', 'destination_city', 'destination_state',\n",
       "       'destination_code', 'destination_place', 'source_city_state',\n",
       "       'destination_city_state', 'source_pincode', 'destination_pincode'],\n",
       "      dtype='object')"
      ]
     },
     "execution_count": 55,
     "metadata": {},
     "output_type": "execute_result"
    }
   ],
   "source": [
    "data.columns"
   ]
  },
  {
   "cell_type": "code",
   "execution_count": 56,
   "id": "d505db44",
   "metadata": {},
   "outputs": [],
   "source": [
    "# data.drop([\"trip_creation_time\",\"source_name\",\"destination_name\"],axis=1,inplace=True)"
   ]
  },
  {
   "cell_type": "code",
   "execution_count": 57,
   "id": "e59aaed8",
   "metadata": {},
   "outputs": [
    {
     "data": {
      "text/html": [
       "<div>\n",
       "<style scoped>\n",
       "    .dataframe tbody tr th:only-of-type {\n",
       "        vertical-align: middle;\n",
       "    }\n",
       "\n",
       "    .dataframe tbody tr th {\n",
       "        vertical-align: top;\n",
       "    }\n",
       "\n",
       "    .dataframe thead th {\n",
       "        text-align: right;\n",
       "    }\n",
       "</style>\n",
       "<table border=\"1\" class=\"dataframe\">\n",
       "  <thead>\n",
       "    <tr style=\"text-align: right;\">\n",
       "      <th></th>\n",
       "      <th>data</th>\n",
       "      <th>route_schedule_uuid</th>\n",
       "      <th>route_type</th>\n",
       "      <th>trip_uuid</th>\n",
       "      <th>od_start_time</th>\n",
       "      <th>od_end_time</th>\n",
       "      <th>start_scan_to_end_scan</th>\n",
       "      <th>is_cutoff</th>\n",
       "      <th>cutoff_factor</th>\n",
       "      <th>actual_distance_to_destination</th>\n",
       "      <th>actual_time</th>\n",
       "      <th>osrm_time</th>\n",
       "      <th>osrm_distance</th>\n",
       "      <th>factor</th>\n",
       "      <th>segment_actual_time</th>\n",
       "      <th>segment_osrm_time</th>\n",
       "      <th>segment_osrm_distance</th>\n",
       "      <th>segment_factor</th>\n",
       "      <th>trip_creation_day</th>\n",
       "      <th>source_city</th>\n",
       "      <th>source_state</th>\n",
       "      <th>source_code</th>\n",
       "      <th>source_place</th>\n",
       "      <th>destination_city</th>\n",
       "      <th>destination_state</th>\n",
       "      <th>destination_code</th>\n",
       "      <th>destination_place</th>\n",
       "      <th>source_city_state</th>\n",
       "      <th>destination_city_state</th>\n",
       "      <th>source_pincode</th>\n",
       "      <th>destination_pincode</th>\n",
       "    </tr>\n",
       "  </thead>\n",
       "  <tbody>\n",
       "    <tr>\n",
       "      <th>0</th>\n",
       "      <td>training</td>\n",
       "      <td>thanos::sroute:eb7bfc78-b351-4c0e-a951-fa3d5c3...</td>\n",
       "      <td>Carting</td>\n",
       "      <td>trip-153741093647649320</td>\n",
       "      <td>2018-09-20 03:21:32.418600</td>\n",
       "      <td>2018-09-20 04:47:45.236797</td>\n",
       "      <td>1.433333</td>\n",
       "      <td>True</td>\n",
       "      <td>9</td>\n",
       "      <td>10.43566</td>\n",
       "      <td>14.0</td>\n",
       "      <td>11.0</td>\n",
       "      <td>11.9653</td>\n",
       "      <td>1.272727</td>\n",
       "      <td>14.0</td>\n",
       "      <td>11.0</td>\n",
       "      <td>11.9653</td>\n",
       "      <td>1.272727</td>\n",
       "      <td>Thursday</td>\n",
       "      <td>Anand</td>\n",
       "      <td>Gujarat</td>\n",
       "      <td>DC</td>\n",
       "      <td>VUNagar</td>\n",
       "      <td>Khambhat</td>\n",
       "      <td>Gujarat</td>\n",
       "      <td>D</td>\n",
       "      <td>MotvdDPP</td>\n",
       "      <td>Anand Gujarat</td>\n",
       "      <td>Khambhat Gujarat</td>\n",
       "      <td>388121</td>\n",
       "      <td>388620</td>\n",
       "    </tr>\n",
       "  </tbody>\n",
       "</table>\n",
       "</div>"
      ],
      "text/plain": [
       "       data                                route_schedule_uuid route_type  \\\n",
       "0  training  thanos::sroute:eb7bfc78-b351-4c0e-a951-fa3d5c3...    Carting   \n",
       "\n",
       "                 trip_uuid              od_start_time  \\\n",
       "0  trip-153741093647649320 2018-09-20 03:21:32.418600   \n",
       "\n",
       "                 od_end_time  start_scan_to_end_scan  is_cutoff  \\\n",
       "0 2018-09-20 04:47:45.236797                1.433333       True   \n",
       "\n",
       "   cutoff_factor  actual_distance_to_destination  actual_time  osrm_time  \\\n",
       "0              9                        10.43566         14.0       11.0   \n",
       "\n",
       "   osrm_distance    factor  segment_actual_time  segment_osrm_time  \\\n",
       "0        11.9653  1.272727                 14.0               11.0   \n",
       "\n",
       "   segment_osrm_distance  segment_factor trip_creation_day source_city  \\\n",
       "0                11.9653        1.272727          Thursday       Anand   \n",
       "\n",
       "  source_state source_code source_place destination_city destination_state  \\\n",
       "0      Gujarat          DC      VUNagar         Khambhat           Gujarat   \n",
       "\n",
       "  destination_code destination_place source_city_state destination_city_state  \\\n",
       "0                D          MotvdDPP     Anand Gujarat       Khambhat Gujarat   \n",
       "\n",
       "  source_pincode destination_pincode  \n",
       "0         388121              388620  "
      ]
     },
     "execution_count": 57,
     "metadata": {},
     "output_type": "execute_result"
    }
   ],
   "source": [
    "data.head(1)"
   ]
  },
  {
   "cell_type": "code",
   "execution_count": 58,
   "id": "5ff53334",
   "metadata": {},
   "outputs": [],
   "source": [
    "# uuid :  Universally unique identifier"
   ]
  },
  {
   "cell_type": "code",
   "execution_count": 59,
   "id": "2cdb43d9",
   "metadata": {},
   "outputs": [
    {
     "data": {
      "text/plain": [
       "FTL        99660\n",
       "Carting    45207\n",
       "Name: route_type, dtype: int64"
      ]
     },
     "execution_count": 59,
     "metadata": {},
     "output_type": "execute_result"
    }
   ],
   "source": [
    "#  Transportation type\n",
    "data[\"route_type\"].value_counts()\n",
    "\n",
    "# FTL – Full Truck Load: FTL shipments get to the destination sooner, \n",
    "   #  as the truck is making no other pickups or drop-offs along the way\n",
    "#Carting: Handling system consisting of small vehicles (carts)"
   ]
  },
  {
   "cell_type": "code",
   "execution_count": 60,
   "id": "23588c6c",
   "metadata": {},
   "outputs": [
    {
     "data": {
      "text/plain": [
       "<AxesSubplot:>"
      ]
     },
     "execution_count": 60,
     "metadata": {},
     "output_type": "execute_result"
    },
    {
     "data": {
      "image/png": "[encoded data removed]",
      "text/plain": [
       "<Figure size 432x288 with 1 Axes>"
      ]
     },
     "metadata": {
      "needs_background": "light"
     },
     "output_type": "display_data"
    }
   ],
   "source": [
    "data[\"route_type\"].value_counts(normalize=True).plot(kind = \"bar\")"
   ]
  },
  {
   "cell_type": "code",
   "execution_count": null,
   "id": "3aca1b26",
   "metadata": {},
   "outputs": [],
   "source": []
  },
  {
   "cell_type": "markdown",
   "id": "1abff013",
   "metadata": {},
   "source": [
    "### trip  : souce - destination centres"
   ]
  },
  {
   "cell_type": "code",
   "execution_count": 61,
   "id": "337f8902",
   "metadata": {},
   "outputs": [
    {
     "data": {
      "text/plain": [
       "trip-153811219535896559    101\n",
       "trip-153846035308581166    101\n",
       "trip-153802363942560700    101\n",
       "trip-153759210483476123    101\n",
       "trip-153819749763881430    101\n",
       "                          ... \n",
       "trip-153807169820740041      1\n",
       "trip-153815586768995663      1\n",
       "trip-153823299365493206      1\n",
       "trip-153733174477629450      1\n",
       "trip-153694467298919626      1\n",
       "Name: trip_uuid, Length: 14817, dtype: int64"
      ]
     },
     "execution_count": 61,
     "metadata": {},
     "output_type": "execute_result"
    }
   ],
   "source": [
    "data[\"trip_uuid\"].value_counts()\n",
    "# Unique ID given to a particular trip (A trip may include different source and destination centers)"
   ]
  },
  {
   "cell_type": "code",
   "execution_count": 62,
   "id": "34fd59bf",
   "metadata": {},
   "outputs": [],
   "source": [
    "# total 14817 unique trip_uuid are given in dataset : "
   ]
  },
  {
   "cell_type": "markdown",
   "id": "7089e202",
   "metadata": {},
   "source": [
    "### perticular route schedule"
   ]
  },
  {
   "cell_type": "code",
   "execution_count": 63,
   "id": "f915164e",
   "metadata": {
    "scrolled": true
   },
   "outputs": [
    {
     "data": {
      "text/plain": [
       "thanos::sroute:4029a8a2-6c74-4b7e-a6d8-f9e069fbcea9    1812\n",
       "thanos::sroute:0456b740-1dad-4929-bbe0-87d8843f5a10    1608\n",
       "thanos::sroute:dca6268f-741a-4d1a-b1b0-aab13095a366    1605\n",
       "thanos::sroute:a1b25549-1e77-498f-8538-00292e5bd5a2    1285\n",
       "thanos::sroute:de5e208e-7641-45e6-8100-4d9fb1e5720d    1280\n",
       "                                                       ... \n",
       "thanos::sroute:d563d17e-2123-40a4-9eec-40018966caba       1\n",
       "thanos::sroute:036f372d-28d8-4d19-877c-6277077ad09e       1\n",
       "thanos::sroute:e00eb6aa-d792-4b28-81fa-fdee413ef326       1\n",
       "thanos::sroute:889b9cf5-da6a-48ce-b3bd-6983c8090164       1\n",
       "thanos::sroute:404cbabf-d2a5-4e46-bf79-8b3c518f082b       1\n",
       "Name: route_schedule_uuid, Length: 1504, dtype: int64"
      ]
     },
     "execution_count": 63,
     "metadata": {},
     "output_type": "execute_result"
    }
   ],
   "source": [
    "data[\"route_schedule_uuid\"].value_counts()\n",
    "# Unique Id for a particular route schedule"
   ]
  },
  {
   "cell_type": "code",
   "execution_count": 64,
   "id": "db38f01a",
   "metadata": {},
   "outputs": [],
   "source": [
    "# total 1504 unique routes are there. "
   ]
  },
  {
   "cell_type": "code",
   "execution_count": null,
   "id": "22f4640f",
   "metadata": {},
   "outputs": [],
   "source": []
  },
  {
   "cell_type": "code",
   "execution_count": null,
   "id": "055fa515",
   "metadata": {},
   "outputs": [],
   "source": []
  },
  {
   "cell_type": "markdown",
   "id": "cd30bfc3",
   "metadata": {},
   "source": [
    "# time_taken_btwn_odstart_and_od_end VS start_scan_to_end_scan"
   ]
  },
  {
   "cell_type": "code",
   "execution_count": 65,
   "id": "0d009fd3",
   "metadata": {},
   "outputs": [],
   "source": [
    "data[\"time_taken_btwn_odstart_and_od_end\"] = ((data[\"od_end_time\"]-data[\"od_start_time\"])/pd.Timedelta(1,unit=\"hour\"))"
   ]
  },
  {
   "cell_type": "code",
   "execution_count": 66,
   "id": "0f38a442",
   "metadata": {},
   "outputs": [],
   "source": [
    "# (data[\"od_end_time\"]-data[\"od_start_time\"])"
   ]
  },
  {
   "cell_type": "code",
   "execution_count": 67,
   "id": "716cd39b",
   "metadata": {},
   "outputs": [],
   "source": [
    "data.drop([\"od_end_time\",\"od_start_time\"],axis = 1 , inplace=True)"
   ]
  },
  {
   "cell_type": "code",
   "execution_count": 68,
   "id": "d31a8eac",
   "metadata": {},
   "outputs": [
    {
     "data": {
      "text/plain": [
       "0         1.436894\n",
       "1         1.436894\n",
       "2         1.436894\n",
       "3         1.436894\n",
       "4         1.436894\n",
       "            ...   \n",
       "144862    7.128106\n",
       "144863    7.128106\n",
       "144864    7.128106\n",
       "144865    7.128106\n",
       "144866    7.128106\n",
       "Name: time_taken_btwn_odstart_and_od_end, Length: 144867, dtype: float64"
      ]
     },
     "execution_count": 68,
     "metadata": {},
     "output_type": "execute_result"
    }
   ],
   "source": [
    "data[\"time_taken_btwn_odstart_and_od_end\"]"
   ]
  },
  {
   "cell_type": "markdown",
   "id": "97a9ce49",
   "metadata": {},
   "source": [
    "\n",
    "### Comparing the difference between `od_start_time - od_end_time`  and `start_scan_to_end_scan`.\n",
    "### hypothesis testing/ Visual analysis :\n",
    "\n",
    "    H0:  mean od-start-time and end time difference =   start_scan_to_end_scan \n",
    "    H0:  mean od-start-time and end time difference !=  start_scan_to_end_scan "
   ]
  },
  {
   "cell_type": "markdown",
   "id": "370f3395",
   "metadata": {},
   "source": [
    "##### aggregating the data as per trip_uuid amd summing up the  all od_durations from different stops during trip : "
   ]
  },
  {
   "cell_type": "code",
   "execution_count": 69,
   "id": "d964a573",
   "metadata": {
    "scrolled": true
   },
   "outputs": [
    {
     "data": {
      "text/plain": [
       "trip_uuid\n",
       "trip-153671041653548748                         [16.65842298, 21.0100736875]\n",
       "trip-153671042288605164             [2.0463247669444447, 0.9805397955555556]\n",
       "trip-153671043369099517             [51.662059856388886, 13.910648811388889]\n",
       "trip-153671046011330457                                 [1.6749155866666667]\n",
       "trip-153671052974046625    [2.5335485744444446, 1.3423885633333332, 8.096...\n",
       "                                                 ...                        \n",
       "trip-153861095625827784                    [2.546464057777778, 1.7540180775]\n",
       "trip-153861104386292051                                 [1.0098420219444444]\n",
       "trip-153861106442901555                    [2.895179575833333, 4.1401515375]\n",
       "trip-153861115439069069    [1.7609491794444445, 0.7362400538888889, 1.035...\n",
       "trip-153861118270144424                   [1.1155594141666667, 4.7912334425]\n",
       "Name: time_taken_btwn_odstart_and_od_end, Length: 14817, dtype: object"
      ]
     },
     "execution_count": 69,
     "metadata": {},
     "output_type": "execute_result"
    }
   ],
   "source": [
    "(data.groupby(\"trip_uuid\")[\"time_taken_btwn_odstart_and_od_end\"].unique())"
   ]
  },
  {
   "cell_type": "code",
   "execution_count": null,
   "id": "62d7e228",
   "metadata": {},
   "outputs": [],
   "source": []
  },
  {
   "cell_type": "code",
   "execution_count": 70,
   "id": "3858e15e",
   "metadata": {},
   "outputs": [],
   "source": [
    "od_duration = (data.groupby(\"trip_uuid\")[\"time_taken_btwn_odstart_and_od_end\"].unique()).reset_index()"
   ]
  },
  {
   "cell_type": "code",
   "execution_count": 71,
   "id": "d8734968",
   "metadata": {},
   "outputs": [],
   "source": [
    "# od_duration"
   ]
  },
  {
   "cell_type": "code",
   "execution_count": 72,
   "id": "95fbdf5f",
   "metadata": {},
   "outputs": [],
   "source": [
    "od_duration[\"time_taken_btwn_odstart_and_od_end\"] = od_duration[\"time_taken_btwn_odstart_and_od_end\"].apply(sum) "
   ]
  },
  {
   "cell_type": "code",
   "execution_count": 73,
   "id": "5a5e9f5a",
   "metadata": {},
   "outputs": [
    {
     "data": {
      "text/html": [
       "<div>\n",
       "<style scoped>\n",
       "    .dataframe tbody tr th:only-of-type {\n",
       "        vertical-align: middle;\n",
       "    }\n",
       "\n",
       "    .dataframe tbody tr th {\n",
       "        vertical-align: top;\n",
       "    }\n",
       "\n",
       "    .dataframe thead th {\n",
       "        text-align: right;\n",
       "    }\n",
       "</style>\n",
       "<table border=\"1\" class=\"dataframe\">\n",
       "  <thead>\n",
       "    <tr style=\"text-align: right;\">\n",
       "      <th></th>\n",
       "      <th>trip_uuid</th>\n",
       "      <th>time_taken_btwn_odstart_and_od_end</th>\n",
       "    </tr>\n",
       "  </thead>\n",
       "  <tbody>\n",
       "    <tr>\n",
       "      <th>0</th>\n",
       "      <td>trip-153671041653548748</td>\n",
       "      <td>37.668497</td>\n",
       "    </tr>\n",
       "    <tr>\n",
       "      <th>1</th>\n",
       "      <td>trip-153671042288605164</td>\n",
       "      <td>3.026865</td>\n",
       "    </tr>\n",
       "    <tr>\n",
       "      <th>2</th>\n",
       "      <td>trip-153671043369099517</td>\n",
       "      <td>65.572709</td>\n",
       "    </tr>\n",
       "    <tr>\n",
       "      <th>3</th>\n",
       "      <td>trip-153671046011330457</td>\n",
       "      <td>1.674916</td>\n",
       "    </tr>\n",
       "    <tr>\n",
       "      <th>4</th>\n",
       "      <td>trip-153671052974046625</td>\n",
       "      <td>11.972484</td>\n",
       "    </tr>\n",
       "    <tr>\n",
       "      <th>...</th>\n",
       "      <td>...</td>\n",
       "      <td>...</td>\n",
       "    </tr>\n",
       "    <tr>\n",
       "      <th>14812</th>\n",
       "      <td>trip-153861095625827784</td>\n",
       "      <td>4.300482</td>\n",
       "    </tr>\n",
       "    <tr>\n",
       "      <th>14813</th>\n",
       "      <td>trip-153861104386292051</td>\n",
       "      <td>1.009842</td>\n",
       "    </tr>\n",
       "    <tr>\n",
       "      <th>14814</th>\n",
       "      <td>trip-153861106442901555</td>\n",
       "      <td>7.035331</td>\n",
       "    </tr>\n",
       "    <tr>\n",
       "      <th>14815</th>\n",
       "      <td>trip-153861115439069069</td>\n",
       "      <td>5.808548</td>\n",
       "    </tr>\n",
       "    <tr>\n",
       "      <th>14816</th>\n",
       "      <td>trip-153861118270144424</td>\n",
       "      <td>5.906793</td>\n",
       "    </tr>\n",
       "  </tbody>\n",
       "</table>\n",
       "<p>14817 rows × 2 columns</p>\n",
       "</div>"
      ],
      "text/plain": [
       "                     trip_uuid  time_taken_btwn_odstart_and_od_end\n",
       "0      trip-153671041653548748                           37.668497\n",
       "1      trip-153671042288605164                            3.026865\n",
       "2      trip-153671043369099517                           65.572709\n",
       "3      trip-153671046011330457                            1.674916\n",
       "4      trip-153671052974046625                           11.972484\n",
       "...                        ...                                 ...\n",
       "14812  trip-153861095625827784                            4.300482\n",
       "14813  trip-153861104386292051                            1.009842\n",
       "14814  trip-153861106442901555                            7.035331\n",
       "14815  trip-153861115439069069                            5.808548\n",
       "14816  trip-153861118270144424                            5.906793\n",
       "\n",
       "[14817 rows x 2 columns]"
      ]
     },
     "execution_count": 73,
     "metadata": {},
     "output_type": "execute_result"
    }
   ],
   "source": [
    "od_duration"
   ]
  },
  {
   "cell_type": "code",
   "execution_count": 74,
   "id": "7df98981",
   "metadata": {},
   "outputs": [],
   "source": [
    "start_scan_to_end_scan = ((data.groupby(\"trip_uuid\")[\"start_scan_to_end_scan\"].unique())).reset_index()\n",
    "# start_scan_to_end_scan"
   ]
  },
  {
   "cell_type": "code",
   "execution_count": 75,
   "id": "ba84b26c",
   "metadata": {},
   "outputs": [],
   "source": [
    "start_scan_to_end_scan[\"start_scan_to_end_scan\"] = start_scan_to_end_scan[\"start_scan_to_end_scan\"].apply(sum) "
   ]
  },
  {
   "cell_type": "code",
   "execution_count": 76,
   "id": "f636d63b",
   "metadata": {},
   "outputs": [
    {
     "data": {
      "text/html": [
       "<div>\n",
       "<style scoped>\n",
       "    .dataframe tbody tr th:only-of-type {\n",
       "        vertical-align: middle;\n",
       "    }\n",
       "\n",
       "    .dataframe tbody tr th {\n",
       "        vertical-align: top;\n",
       "    }\n",
       "\n",
       "    .dataframe thead th {\n",
       "        text-align: right;\n",
       "    }\n",
       "</style>\n",
       "<table border=\"1\" class=\"dataframe\">\n",
       "  <thead>\n",
       "    <tr style=\"text-align: right;\">\n",
       "      <th></th>\n",
       "      <th>trip_uuid</th>\n",
       "      <th>start_scan_to_end_scan</th>\n",
       "    </tr>\n",
       "  </thead>\n",
       "  <tbody>\n",
       "    <tr>\n",
       "      <th>0</th>\n",
       "      <td>trip-153671041653548748</td>\n",
       "      <td>37.650000</td>\n",
       "    </tr>\n",
       "    <tr>\n",
       "      <th>1</th>\n",
       "      <td>trip-153671042288605164</td>\n",
       "      <td>3.000000</td>\n",
       "    </tr>\n",
       "    <tr>\n",
       "      <th>2</th>\n",
       "      <td>trip-153671043369099517</td>\n",
       "      <td>65.550000</td>\n",
       "    </tr>\n",
       "    <tr>\n",
       "      <th>3</th>\n",
       "      <td>trip-153671046011330457</td>\n",
       "      <td>1.666667</td>\n",
       "    </tr>\n",
       "    <tr>\n",
       "      <th>4</th>\n",
       "      <td>trip-153671052974046625</td>\n",
       "      <td>11.950000</td>\n",
       "    </tr>\n",
       "    <tr>\n",
       "      <th>...</th>\n",
       "      <td>...</td>\n",
       "      <td>...</td>\n",
       "    </tr>\n",
       "    <tr>\n",
       "      <th>14812</th>\n",
       "      <td>trip-153861095625827784</td>\n",
       "      <td>4.283333</td>\n",
       "    </tr>\n",
       "    <tr>\n",
       "      <th>14813</th>\n",
       "      <td>trip-153861104386292051</td>\n",
       "      <td>1.000000</td>\n",
       "    </tr>\n",
       "    <tr>\n",
       "      <th>14814</th>\n",
       "      <td>trip-153861106442901555</td>\n",
       "      <td>7.016667</td>\n",
       "    </tr>\n",
       "    <tr>\n",
       "      <th>14815</th>\n",
       "      <td>trip-153861115439069069</td>\n",
       "      <td>5.783333</td>\n",
       "    </tr>\n",
       "    <tr>\n",
       "      <th>14816</th>\n",
       "      <td>trip-153861118270144424</td>\n",
       "      <td>5.883333</td>\n",
       "    </tr>\n",
       "  </tbody>\n",
       "</table>\n",
       "<p>14817 rows × 2 columns</p>\n",
       "</div>"
      ],
      "text/plain": [
       "                     trip_uuid  start_scan_to_end_scan\n",
       "0      trip-153671041653548748               37.650000\n",
       "1      trip-153671042288605164                3.000000\n",
       "2      trip-153671043369099517               65.550000\n",
       "3      trip-153671046011330457                1.666667\n",
       "4      trip-153671052974046625               11.950000\n",
       "...                        ...                     ...\n",
       "14812  trip-153861095625827784                4.283333\n",
       "14813  trip-153861104386292051                1.000000\n",
       "14814  trip-153861106442901555                7.016667\n",
       "14815  trip-153861115439069069                5.783333\n",
       "14816  trip-153861118270144424                5.883333\n",
       "\n",
       "[14817 rows x 2 columns]"
      ]
     },
     "execution_count": 76,
     "metadata": {},
     "output_type": "execute_result"
    }
   ],
   "source": [
    "start_scan_to_end_scan"
   ]
  },
  {
   "cell_type": "code",
   "execution_count": 77,
   "id": "6c3c93d2",
   "metadata": {},
   "outputs": [
    {
     "data": {
      "text/plain": [
       "<AxesSubplot:xlabel='time_taken_btwn_odstart_and_od_end', ylabel='Density'>"
      ]
     },
     "execution_count": 77,
     "metadata": {},
     "output_type": "execute_result"
    },
    {
     "data": {
      "image/png": "[encoded data removed]",
      "text/plain": [
       "<Figure size 432x288 with 1 Axes>"
      ]
     },
     "metadata": {
      "needs_background": "light"
     },
     "output_type": "display_data"
    }
   ],
   "source": [
    "sns.distplot(np.log(od_duration[\"time_taken_btwn_odstart_and_od_end\"]))"
   ]
  },
  {
   "cell_type": "code",
   "execution_count": 78,
   "id": "1f6265cd",
   "metadata": {},
   "outputs": [
    {
     "data": {
      "text/plain": [
       "<AxesSubplot:xlabel='start_scan_to_end_scan', ylabel='Density'>"
      ]
     },
     "execution_count": 78,
     "metadata": {},
     "output_type": "execute_result"
    },
    {
     "data": {
      "image/png": "[encoded data removed]",
      "text/plain": [
       "<Figure size 432x288 with 1 Axes>"
      ]
     },
     "metadata": {
      "needs_background": "light"
     },
     "output_type": "display_data"
    }
   ],
   "source": [
    "sns.distplot(np.log(start_scan_to_end_scan[\"start_scan_to_end_scan\"]))"
   ]
  },
  {
   "cell_type": "code",
   "execution_count": 79,
   "id": "683c05cb",
   "metadata": {},
   "outputs": [],
   "source": [
    "# stats.ttest_ind(od_duration[\"od_duration\"],start_scan_to_end_scan[\"start_scan_to_end_scan\"])"
   ]
  },
  {
   "cell_type": "code",
   "execution_count": 80,
   "id": "b208df81",
   "metadata": {},
   "outputs": [
    {
     "data": {
      "application/javascript": [
       "\n",
       "        if (window._pyforest_update_imports_cell) { window._pyforest_update_imports_cell('from scipy import stats'); }\n",
       "    "
      ],
      "text/plain": [
       "<IPython.core.display.Javascript object>"
      ]
     },
     "metadata": {},
     "output_type": "display_data"
    },
    {
     "data": {
      "text/plain": [
       "Ttest_indResult(statistic=0.4066930332152617, pvalue=0.6842363952379178)"
      ]
     },
     "execution_count": 80,
     "metadata": {},
     "output_type": "execute_result"
    }
   ],
   "source": [
    "stats.ttest_ind(np.log(od_duration[\"time_taken_btwn_odstart_and_od_end\"]),np.log(start_scan_to_end_scan[\"start_scan_to_end_scan\"]))"
   ]
  },
  {
   "cell_type": "code",
   "execution_count": 81,
   "id": "53f4059b",
   "metadata": {},
   "outputs": [],
   "source": [
    "# pvalue  = 0.68 which is way higher than the significance level of 0.05\n",
    "# we are faild to reject null Hypothesis . \n",
    "# we can conclude the od_start and end time difference and Start_scan_to_end_scan times are same. "
   ]
  },
  {
   "cell_type": "code",
   "execution_count": null,
   "id": "3186bf2e",
   "metadata": {},
   "outputs": [],
   "source": []
  },
  {
   "cell_type": "code",
   "execution_count": 82,
   "id": "dffdc30f",
   "metadata": {},
   "outputs": [
    {
     "data": {
      "text/plain": [
       "0          1.436894\n",
       "5          1.819553\n",
       "10         5.039540\n",
       "15         1.816370\n",
       "17         3.260177\n",
       "            ...    \n",
       "144834    10.379174\n",
       "144847     6.564614\n",
       "144849    10.239925\n",
       "144854     1.947858\n",
       "144858     7.128106\n",
       "Name: time_taken_btwn_odstart_and_od_end, Length: 26369, dtype: float64"
      ]
     },
     "execution_count": 82,
     "metadata": {},
     "output_type": "execute_result"
    }
   ],
   "source": [
    "data[[\"trip_uuid\",\"time_taken_btwn_odstart_and_od_end\"]].drop_duplicates()[\"time_taken_btwn_odstart_and_od_end\"]"
   ]
  },
  {
   "cell_type": "code",
   "execution_count": null,
   "id": "9554567f",
   "metadata": {},
   "outputs": [],
   "source": []
  },
  {
   "cell_type": "code",
   "execution_count": null,
   "id": "65973c62",
   "metadata": {},
   "outputs": [],
   "source": []
  },
  {
   "cell_type": "code",
   "execution_count": null,
   "id": "5e16eb85",
   "metadata": {},
   "outputs": [],
   "source": []
  },
  {
   "cell_type": "code",
   "execution_count": 83,
   "id": "783ec5fd",
   "metadata": {},
   "outputs": [
    {
     "data": {
      "text/plain": [
       "Index(['data', 'route_schedule_uuid', 'route_type', 'trip_uuid',\n",
       "       'start_scan_to_end_scan', 'is_cutoff', 'cutoff_factor',\n",
       "       'actual_distance_to_destination', 'actual_time', 'osrm_time',\n",
       "       'osrm_distance', 'factor', 'segment_actual_time', 'segment_osrm_time',\n",
       "       'segment_osrm_distance', 'segment_factor', 'trip_creation_day',\n",
       "       'source_city', 'source_state', 'source_code', 'source_place',\n",
       "       'destination_city', 'destination_state', 'destination_code',\n",
       "       'destination_place', 'source_city_state', 'destination_city_state',\n",
       "       'source_pincode', 'destination_pincode',\n",
       "       'time_taken_btwn_odstart_and_od_end'],\n",
       "      dtype='object')"
      ]
     },
     "execution_count": 83,
     "metadata": {},
     "output_type": "execute_result"
    }
   ],
   "source": [
    "data.columns"
   ]
  },
  {
   "cell_type": "markdown",
   "id": "8f3898cb",
   "metadata": {},
   "source": [
    "# actual time VS start-scan-end-scan "
   ]
  },
  {
   "cell_type": "code",
   "execution_count": 84,
   "id": "b063e9c4",
   "metadata": {},
   "outputs": [
    {
     "data": {
      "text/plain": [
       "trip_uuid\n",
       "trip-153671041653548748    26.033333\n",
       "trip-153671042288605164     2.383333\n",
       "trip-153671043369099517    55.783333\n",
       "trip-153671046011330457     0.983333\n",
       "trip-153671052974046625     5.683333\n",
       "                             ...    \n",
       "trip-153861095625827784     1.383333\n",
       "trip-153861104386292051     0.350000\n",
       "trip-153861106442901555     4.700000\n",
       "trip-153861115439069069     4.400000\n",
       "trip-153861118270144424     4.583333\n",
       "Name: actual_time, Length: 14703, dtype: float64"
      ]
     },
     "execution_count": 84,
     "metadata": {},
     "output_type": "execute_result"
    }
   ],
   "source": [
    "actual_time = (data[data[\"is_cutoff\"]==False][[\"trip_uuid\",\"actual_time\"]].groupby(\"trip_uuid\")[\"actual_time\"].sum())/60\n",
    "actual_time"
   ]
  },
  {
   "cell_type": "code",
   "execution_count": 85,
   "id": "31118538",
   "metadata": {},
   "outputs": [
    {
     "data": {
      "text/plain": [
       "trip_uuid\n",
       "trip-153671041653548748    37.650000\n",
       "trip-153671042288605164     3.000000\n",
       "trip-153671043369099517    65.550000\n",
       "trip-153671046011330457     1.666667\n",
       "trip-153671052974046625    11.950000\n",
       "                             ...    \n",
       "trip-153861095625827784     4.283333\n",
       "trip-153861104386292051     1.000000\n",
       "trip-153861106442901555     7.016667\n",
       "trip-153861115439069069     5.783333\n",
       "trip-153861118270144424     5.883333\n",
       "Name: start_scan_to_end_scan, Length: 14703, dtype: float64"
      ]
     },
     "execution_count": 85,
     "metadata": {},
     "output_type": "execute_result"
    }
   ],
   "source": [
    "start_scan_to_end_scan = data[data[\"is_cutoff\"]==False][[\"trip_uuid\",\"start_scan_to_end_scan\"]].groupby(\"trip_uuid\")[\"start_scan_to_end_scan\"].sum()\n",
    "start_scan_to_end_scan"
   ]
  },
  {
   "cell_type": "code",
   "execution_count": 86,
   "id": "a50150d7",
   "metadata": {},
   "outputs": [
    {
     "data": {
      "application/javascript": [
       "\n",
       "        if (window._pyforest_update_imports_cell) { window._pyforest_update_imports_cell('from scipy import stats'); }\n",
       "    "
      ],
      "text/plain": [
       "<IPython.core.display.Javascript object>"
      ]
     },
     "metadata": {},
     "output_type": "display_data"
    },
    {
     "data": {
      "text/plain": [
       "Ttest_indResult(statistic=24.2274192024015, pvalue=2.0808010118053942e-128)"
      ]
     },
     "execution_count": 86,
     "metadata": {},
     "output_type": "execute_result"
    }
   ],
   "source": [
    "stats.ttest_ind(start_scan_to_end_scan,actual_time)"
   ]
  },
  {
   "cell_type": "code",
   "execution_count": 87,
   "id": "37dfa3ee",
   "metadata": {},
   "outputs": [],
   "source": [
    "# start_scan_to_end_scan is higher than actual time "
   ]
  },
  {
   "cell_type": "code",
   "execution_count": null,
   "id": "f61378c1",
   "metadata": {},
   "outputs": [],
   "source": []
  },
  {
   "cell_type": "code",
   "execution_count": null,
   "id": "43a9f345",
   "metadata": {},
   "outputs": [],
   "source": []
  },
  {
   "cell_type": "markdown",
   "id": "515e7002",
   "metadata": {},
   "source": [
    "# actual_time VS time_taken_btwn_odstart_and_od_end"
   ]
  },
  {
   "cell_type": "code",
   "execution_count": null,
   "id": "896b3c8c",
   "metadata": {},
   "outputs": [],
   "source": []
  },
  {
   "cell_type": "code",
   "execution_count": 88,
   "id": "6e4f810c",
   "metadata": {},
   "outputs": [
    {
     "data": {
      "application/javascript": [
       "\n",
       "        if (window._pyforest_update_imports_cell) { window._pyforest_update_imports_cell('from scipy import stats'); }\n",
       "    "
      ],
      "text/plain": [
       "<IPython.core.display.Javascript object>"
      ]
     },
     "metadata": {},
     "output_type": "display_data"
    },
    {
     "data": {
      "text/plain": [
       "Ttest_indResult(statistic=24.14602236875122, pvalue=1.4231365890426307e-127)"
      ]
     },
     "execution_count": 88,
     "metadata": {},
     "output_type": "execute_result"
    }
   ],
   "source": [
    "stats.ttest_ind(od_duration[\"time_taken_btwn_odstart_and_od_end\"],actual_time)"
   ]
  },
  {
   "cell_type": "code",
   "execution_count": 89,
   "id": "a7800021",
   "metadata": {},
   "outputs": [],
   "source": [
    "# timetaken between odstart and end time is   >  higher than actual time "
   ]
  },
  {
   "cell_type": "code",
   "execution_count": null,
   "id": "5be9cbff",
   "metadata": {},
   "outputs": [],
   "source": []
  },
  {
   "cell_type": "code",
   "execution_count": null,
   "id": "3e7cc9dd",
   "metadata": {},
   "outputs": [],
   "source": []
  },
  {
   "cell_type": "code",
   "execution_count": null,
   "id": "459cea44",
   "metadata": {},
   "outputs": [],
   "source": []
  },
  {
   "cell_type": "markdown",
   "id": "68adb730",
   "metadata": {},
   "source": [
    "# `Actual_Time` AND `OSRM time`"
   ]
  },
  {
   "cell_type": "markdown",
   "id": "97249d38",
   "metadata": {},
   "source": [
    "## Do hypothesis testing/ visual analysis between actual_time aggregated value and OSRM time aggregated value (aggregated values are the values you’ll get after merging the rows on the basis of trip_uuid)"
   ]
  },
  {
   "cell_type": "code",
   "execution_count": 90,
   "id": "da7d888a",
   "metadata": {},
   "outputs": [
    {
     "data": {
      "text/html": [
       "<div>\n",
       "<style scoped>\n",
       "    .dataframe tbody tr th:only-of-type {\n",
       "        vertical-align: middle;\n",
       "    }\n",
       "\n",
       "    .dataframe tbody tr th {\n",
       "        vertical-align: top;\n",
       "    }\n",
       "\n",
       "    .dataframe thead th {\n",
       "        text-align: right;\n",
       "    }\n",
       "</style>\n",
       "<table border=\"1\" class=\"dataframe\">\n",
       "  <thead>\n",
       "    <tr style=\"text-align: right;\">\n",
       "      <th></th>\n",
       "      <th>data</th>\n",
       "      <th>route_schedule_uuid</th>\n",
       "      <th>route_type</th>\n",
       "      <th>trip_uuid</th>\n",
       "      <th>start_scan_to_end_scan</th>\n",
       "      <th>is_cutoff</th>\n",
       "      <th>cutoff_factor</th>\n",
       "      <th>actual_distance_to_destination</th>\n",
       "      <th>actual_time</th>\n",
       "      <th>osrm_time</th>\n",
       "      <th>osrm_distance</th>\n",
       "      <th>factor</th>\n",
       "      <th>segment_actual_time</th>\n",
       "      <th>segment_osrm_time</th>\n",
       "      <th>segment_osrm_distance</th>\n",
       "      <th>segment_factor</th>\n",
       "      <th>trip_creation_day</th>\n",
       "      <th>source_city</th>\n",
       "      <th>source_state</th>\n",
       "      <th>source_code</th>\n",
       "      <th>source_place</th>\n",
       "      <th>destination_city</th>\n",
       "      <th>destination_state</th>\n",
       "      <th>destination_code</th>\n",
       "      <th>destination_place</th>\n",
       "      <th>source_city_state</th>\n",
       "      <th>destination_city_state</th>\n",
       "      <th>source_pincode</th>\n",
       "      <th>destination_pincode</th>\n",
       "      <th>time_taken_btwn_odstart_and_od_end</th>\n",
       "    </tr>\n",
       "  </thead>\n",
       "  <tbody>\n",
       "    <tr>\n",
       "      <th>0</th>\n",
       "      <td>training</td>\n",
       "      <td>thanos::sroute:eb7bfc78-b351-4c0e-a951-fa3d5c3...</td>\n",
       "      <td>Carting</td>\n",
       "      <td>trip-153741093647649320</td>\n",
       "      <td>1.433333</td>\n",
       "      <td>True</td>\n",
       "      <td>9</td>\n",
       "      <td>10.43566</td>\n",
       "      <td>14.0</td>\n",
       "      <td>11.0</td>\n",
       "      <td>11.9653</td>\n",
       "      <td>1.272727</td>\n",
       "      <td>14.0</td>\n",
       "      <td>11.0</td>\n",
       "      <td>11.9653</td>\n",
       "      <td>1.272727</td>\n",
       "      <td>Thursday</td>\n",
       "      <td>Anand</td>\n",
       "      <td>Gujarat</td>\n",
       "      <td>DC</td>\n",
       "      <td>VUNagar</td>\n",
       "      <td>Khambhat</td>\n",
       "      <td>Gujarat</td>\n",
       "      <td>D</td>\n",
       "      <td>MotvdDPP</td>\n",
       "      <td>Anand Gujarat</td>\n",
       "      <td>Khambhat Gujarat</td>\n",
       "      <td>388121</td>\n",
       "      <td>388620</td>\n",
       "      <td>1.436894</td>\n",
       "    </tr>\n",
       "  </tbody>\n",
       "</table>\n",
       "</div>"
      ],
      "text/plain": [
       "       data                                route_schedule_uuid route_type  \\\n",
       "0  training  thanos::sroute:eb7bfc78-b351-4c0e-a951-fa3d5c3...    Carting   \n",
       "\n",
       "                 trip_uuid  start_scan_to_end_scan  is_cutoff  cutoff_factor  \\\n",
       "0  trip-153741093647649320                1.433333       True              9   \n",
       "\n",
       "   actual_distance_to_destination  actual_time  osrm_time  osrm_distance  \\\n",
       "0                        10.43566         14.0       11.0        11.9653   \n",
       "\n",
       "     factor  segment_actual_time  segment_osrm_time  segment_osrm_distance  \\\n",
       "0  1.272727                 14.0               11.0                11.9653   \n",
       "\n",
       "   segment_factor trip_creation_day source_city source_state source_code  \\\n",
       "0        1.272727          Thursday       Anand      Gujarat          DC   \n",
       "\n",
       "  source_place destination_city destination_state destination_code  \\\n",
       "0      VUNagar         Khambhat           Gujarat                D   \n",
       "\n",
       "  destination_place source_city_state destination_city_state source_pincode  \\\n",
       "0          MotvdDPP     Anand Gujarat       Khambhat Gujarat         388121   \n",
       "\n",
       "  destination_pincode  time_taken_btwn_odstart_and_od_end  \n",
       "0              388620                            1.436894  "
      ]
     },
     "execution_count": 90,
     "metadata": {},
     "output_type": "execute_result"
    }
   ],
   "source": [
    "data.head(1)"
   ]
  },
  {
   "cell_type": "code",
   "execution_count": null,
   "id": "48f0fdc0",
   "metadata": {},
   "outputs": [],
   "source": []
  },
  {
   "cell_type": "code",
   "execution_count": 91,
   "id": "498b5bb0",
   "metadata": {},
   "outputs": [
    {
     "data": {
      "text/plain": [
       "trip_uuid                time_taken_btwn_odstart_and_od_end\n",
       "trip-153671041653548748  16.658423                             830.0\n",
       "                         21.010074                             732.0\n",
       "trip-153671042288605164  0.980540                               47.0\n",
       "                         2.046325                               96.0\n",
       "trip-153671043369099517  13.910649                             611.0\n",
       "                                                               ...  \n",
       "trip-153861115439069069  1.035253                               51.0\n",
       "                         1.518130                               90.0\n",
       "                         1.760949                               60.0\n",
       "trip-153861118270144424  1.115559                               42.0\n",
       "                         4.791233                              233.0\n",
       "Name: actual_time, Length: 26369, dtype: float64"
      ]
     },
     "execution_count": 91,
     "metadata": {},
     "output_type": "execute_result"
    }
   ],
   "source": [
    "data.groupby([\"trip_uuid\",\"time_taken_btwn_odstart_and_od_end\"])[\"actual_time\"].max()"
   ]
  },
  {
   "cell_type": "code",
   "execution_count": 92,
   "id": "e7ec848e",
   "metadata": {},
   "outputs": [
    {
     "data": {
      "text/html": [
       "<div>\n",
       "<style scoped>\n",
       "    .dataframe tbody tr th:only-of-type {\n",
       "        vertical-align: middle;\n",
       "    }\n",
       "\n",
       "    .dataframe tbody tr th {\n",
       "        vertical-align: top;\n",
       "    }\n",
       "\n",
       "    .dataframe thead th {\n",
       "        text-align: right;\n",
       "    }\n",
       "</style>\n",
       "<table border=\"1\" class=\"dataframe\">\n",
       "  <thead>\n",
       "    <tr style=\"text-align: right;\">\n",
       "      <th></th>\n",
       "      <th>trip_uuid</th>\n",
       "      <th>time_taken_btwn_odstart_and_od_end</th>\n",
       "      <th>actual_time</th>\n",
       "    </tr>\n",
       "  </thead>\n",
       "  <tbody>\n",
       "    <tr>\n",
       "      <th>0</th>\n",
       "      <td>trip-153671041653548748</td>\n",
       "      <td>16.658423</td>\n",
       "      <td>830.0</td>\n",
       "    </tr>\n",
       "    <tr>\n",
       "      <th>1</th>\n",
       "      <td>trip-153671041653548748</td>\n",
       "      <td>21.010074</td>\n",
       "      <td>732.0</td>\n",
       "    </tr>\n",
       "    <tr>\n",
       "      <th>2</th>\n",
       "      <td>trip-153671042288605164</td>\n",
       "      <td>0.980540</td>\n",
       "      <td>47.0</td>\n",
       "    </tr>\n",
       "    <tr>\n",
       "      <th>3</th>\n",
       "      <td>trip-153671042288605164</td>\n",
       "      <td>2.046325</td>\n",
       "      <td>96.0</td>\n",
       "    </tr>\n",
       "    <tr>\n",
       "      <th>4</th>\n",
       "      <td>trip-153671043369099517</td>\n",
       "      <td>13.910649</td>\n",
       "      <td>611.0</td>\n",
       "    </tr>\n",
       "    <tr>\n",
       "      <th>...</th>\n",
       "      <td>...</td>\n",
       "      <td>...</td>\n",
       "      <td>...</td>\n",
       "    </tr>\n",
       "    <tr>\n",
       "      <th>26364</th>\n",
       "      <td>trip-153861115439069069</td>\n",
       "      <td>1.035253</td>\n",
       "      <td>51.0</td>\n",
       "    </tr>\n",
       "    <tr>\n",
       "      <th>26365</th>\n",
       "      <td>trip-153861115439069069</td>\n",
       "      <td>1.518130</td>\n",
       "      <td>90.0</td>\n",
       "    </tr>\n",
       "    <tr>\n",
       "      <th>26366</th>\n",
       "      <td>trip-153861115439069069</td>\n",
       "      <td>1.760949</td>\n",
       "      <td>60.0</td>\n",
       "    </tr>\n",
       "    <tr>\n",
       "      <th>26367</th>\n",
       "      <td>trip-153861118270144424</td>\n",
       "      <td>1.115559</td>\n",
       "      <td>42.0</td>\n",
       "    </tr>\n",
       "    <tr>\n",
       "      <th>26368</th>\n",
       "      <td>trip-153861118270144424</td>\n",
       "      <td>4.791233</td>\n",
       "      <td>233.0</td>\n",
       "    </tr>\n",
       "  </tbody>\n",
       "</table>\n",
       "<p>26369 rows × 3 columns</p>\n",
       "</div>"
      ],
      "text/plain": [
       "                     trip_uuid  time_taken_btwn_odstart_and_od_end  \\\n",
       "0      trip-153671041653548748                           16.658423   \n",
       "1      trip-153671041653548748                           21.010074   \n",
       "2      trip-153671042288605164                            0.980540   \n",
       "3      trip-153671042288605164                            2.046325   \n",
       "4      trip-153671043369099517                           13.910649   \n",
       "...                        ...                                 ...   \n",
       "26364  trip-153861115439069069                            1.035253   \n",
       "26365  trip-153861115439069069                            1.518130   \n",
       "26366  trip-153861115439069069                            1.760949   \n",
       "26367  trip-153861118270144424                            1.115559   \n",
       "26368  trip-153861118270144424                            4.791233   \n",
       "\n",
       "       actual_time  \n",
       "0            830.0  \n",
       "1            732.0  \n",
       "2             47.0  \n",
       "3             96.0  \n",
       "4            611.0  \n",
       "...            ...  \n",
       "26364         51.0  \n",
       "26365         90.0  \n",
       "26366         60.0  \n",
       "26367         42.0  \n",
       "26368        233.0  \n",
       "\n",
       "[26369 rows x 3 columns]"
      ]
     },
     "execution_count": 92,
     "metadata": {},
     "output_type": "execute_result"
    }
   ],
   "source": [
    "((data.groupby([\"trip_uuid\",\"time_taken_btwn_odstart_and_od_end\"])[\"actual_time\"].max()).reset_index())"
   ]
  },
  {
   "cell_type": "code",
   "execution_count": 93,
   "id": "6ecc8c37",
   "metadata": {},
   "outputs": [
    {
     "data": {
      "text/plain": [
       "trip_uuid\n",
       "trip-153671041653548748    1562.0\n",
       "trip-153671042288605164     143.0\n",
       "trip-153671043369099517    3347.0\n",
       "trip-153671046011330457      59.0\n",
       "trip-153671052974046625     341.0\n",
       "                            ...  \n",
       "trip-153861095625827784      83.0\n",
       "trip-153861104386292051      21.0\n",
       "trip-153861106442901555     282.0\n",
       "trip-153861115439069069     264.0\n",
       "trip-153861118270144424     275.0\n",
       "Name: actual_time, Length: 14817, dtype: float64"
      ]
     },
     "execution_count": 93,
     "metadata": {},
     "output_type": "execute_result"
    }
   ],
   "source": [
    "((data.groupby([\"trip_uuid\",\"time_taken_btwn_odstart_and_od_end\"])[\"actual_time\"].max()).reset_index()).groupby(\"trip_uuid\")[\"actual_time\"].sum()"
   ]
  },
  {
   "cell_type": "code",
   "execution_count": 94,
   "id": "5510d5e1",
   "metadata": {},
   "outputs": [
    {
     "data": {
      "text/plain": [
       "trip_uuid\n",
       "trip-153671041653548748     743.0\n",
       "trip-153671042288605164      68.0\n",
       "trip-153671043369099517    1741.0\n",
       "trip-153671046011330457      15.0\n",
       "trip-153671052974046625     117.0\n",
       "                            ...  \n",
       "trip-153861095625827784      62.0\n",
       "trip-153861104386292051      12.0\n",
       "trip-153861106442901555      54.0\n",
       "trip-153861115439069069     184.0\n",
       "trip-153861118270144424      68.0\n",
       "Name: osrm_time, Length: 14817, dtype: float64"
      ]
     },
     "execution_count": 94,
     "metadata": {},
     "output_type": "execute_result"
    }
   ],
   "source": [
    "((data.groupby([\"trip_uuid\",\"time_taken_btwn_odstart_and_od_end\"])[\"osrm_time\"].max()).reset_index()).groupby(\"trip_uuid\")[\"osrm_time\"].sum()"
   ]
  },
  {
   "cell_type": "code",
   "execution_count": 95,
   "id": "cd703744",
   "metadata": {},
   "outputs": [
    {
     "data": {
      "text/plain": [
       "<AxesSubplot:xlabel='actual_time', ylabel='Density'>"
      ]
     },
     "execution_count": 95,
     "metadata": {},
     "output_type": "execute_result"
    },
    {
     "data": {
      "image/png": "[encoded data removed]",
      "text/plain": [
       "<Figure size 432x288 with 1 Axes>"
      ]
     },
     "metadata": {
      "needs_background": "light"
     },
     "output_type": "display_data"
    }
   ],
   "source": [
    "sns.distplot(((data.groupby([\"trip_uuid\",\"time_taken_btwn_odstart_and_od_end\"])[\"actual_time\"].max()).reset_index()).groupby(\"trip_uuid\")[\"actual_time\"].sum())"
   ]
  },
  {
   "cell_type": "code",
   "execution_count": null,
   "id": "25721fbb",
   "metadata": {},
   "outputs": [],
   "source": []
  },
  {
   "cell_type": "code",
   "execution_count": 96,
   "id": "67de14da",
   "metadata": {},
   "outputs": [],
   "source": [
    "osrm_time = ((data.groupby([\"trip_uuid\",\"time_taken_btwn_odstart_and_od_end\"])[\"osrm_time\"].max()).reset_index()).groupby(\"trip_uuid\")[\"osrm_time\"].sum()"
   ]
  },
  {
   "cell_type": "code",
   "execution_count": 97,
   "id": "2dd3e8ab",
   "metadata": {},
   "outputs": [],
   "source": [
    "actual_time = ((data.groupby([\"trip_uuid\",\"time_taken_btwn_odstart_and_od_end\"])[\"actual_time\"].max()).reset_index()).groupby(\"trip_uuid\")[\"actual_time\"].sum()"
   ]
  },
  {
   "cell_type": "code",
   "execution_count": 98,
   "id": "b0ed2774",
   "metadata": {},
   "outputs": [
    {
     "data": {
      "text/plain": [
       "trip_uuid\n",
       "trip-153671041653548748    1562.0\n",
       "trip-153671042288605164     143.0\n",
       "trip-153671043369099517    3347.0\n",
       "trip-153671046011330457      59.0\n",
       "trip-153671052974046625     341.0\n",
       "                            ...  \n",
       "trip-153861095625827784      83.0\n",
       "trip-153861104386292051      21.0\n",
       "trip-153861106442901555     282.0\n",
       "trip-153861115439069069     264.0\n",
       "trip-153861118270144424     275.0\n",
       "Name: actual_time, Length: 14817, dtype: float64"
      ]
     },
     "execution_count": 98,
     "metadata": {},
     "output_type": "execute_result"
    }
   ],
   "source": [
    "actual_time"
   ]
  },
  {
   "cell_type": "code",
   "execution_count": 99,
   "id": "9b42076b",
   "metadata": {
    "scrolled": true
   },
   "outputs": [
    {
     "data": {
      "text/plain": [
       "trip_uuid\n",
       "trip-153671041653548748     743.0\n",
       "trip-153671042288605164      68.0\n",
       "trip-153671043369099517    1741.0\n",
       "trip-153671046011330457      15.0\n",
       "trip-153671052974046625     117.0\n",
       "                            ...  \n",
       "trip-153861095625827784      62.0\n",
       "trip-153861104386292051      12.0\n",
       "trip-153861106442901555      54.0\n",
       "trip-153861115439069069     184.0\n",
       "trip-153861118270144424      68.0\n",
       "Name: osrm_time, Length: 14817, dtype: float64"
      ]
     },
     "execution_count": 99,
     "metadata": {},
     "output_type": "execute_result"
    }
   ],
   "source": [
    "osrm_time"
   ]
  },
  {
   "cell_type": "markdown",
   "id": "98a41383",
   "metadata": {},
   "source": [
    "> H0 : actual time <= osrm time\n",
    "\n",
    "> Ha : actual time > osrm time"
   ]
  },
  {
   "cell_type": "code",
   "execution_count": 100,
   "id": "a07d482d",
   "metadata": {},
   "outputs": [
    {
     "data": {
      "application/javascript": [
       "\n",
       "        if (window._pyforest_update_imports_cell) { window._pyforest_update_imports_cell('from scipy import stats'); }\n",
       "    "
      ],
      "text/plain": [
       "<IPython.core.display.Javascript object>"
      ]
     },
     "metadata": {},
     "output_type": "display_data"
    },
    {
     "data": {
      "text/plain": [
       "Ttest_indResult(statistic=21.574141504096733, pvalue=3.077211166693448e-101)"
      ]
     },
     "execution_count": 100,
     "metadata": {},
     "output_type": "execute_result"
    }
   ],
   "source": [
    "stats.ttest_ind(actual_time.sample(5000),osrm_time.sample(5000),alternative='greater')"
   ]
  },
  {
   "cell_type": "code",
   "execution_count": 101,
   "id": "f95bd45e",
   "metadata": {},
   "outputs": [],
   "source": [
    "# stats.ttest_ind(osrm_time.sample(5000),actual_time.sample(5000),alternative='less')"
   ]
  },
  {
   "cell_type": "code",
   "execution_count": null,
   "id": "d837e083",
   "metadata": {},
   "outputs": [],
   "source": []
  },
  {
   "cell_type": "code",
   "execution_count": null,
   "id": "fc1f0f07",
   "metadata": {},
   "outputs": [],
   "source": []
  },
  {
   "cell_type": "markdown",
   "id": "699320ba",
   "metadata": {},
   "source": [
    "# actual_time VS segment_actual_time"
   ]
  },
  {
   "cell_type": "markdown",
   "id": "1b0f0510",
   "metadata": {},
   "source": [
    "#### Do hypothesis testing/ visual analysis between actual_time aggregated value and segment actual time aggregated value (aggregated values are the values you’ll get after merging the rows on the basis of trip_uuid)"
   ]
  },
  {
   "cell_type": "code",
   "execution_count": null,
   "id": "29efc6ef",
   "metadata": {},
   "outputs": [],
   "source": []
  },
  {
   "cell_type": "code",
   "execution_count": 102,
   "id": "1a052778",
   "metadata": {},
   "outputs": [],
   "source": [
    "actual_time = (data.groupby([\"trip_uuid\",\"time_taken_btwn_odstart_and_od_end\"])[\"actual_time\"].max().reset_index()).groupby(\"trip_uuid\")[\"actual_time\"].sum()"
   ]
  },
  {
   "cell_type": "code",
   "execution_count": 103,
   "id": "d0c96c27",
   "metadata": {},
   "outputs": [
    {
     "data": {
      "text/plain": [
       "trip_uuid\n",
       "trip-153671041653548748    1562.0\n",
       "trip-153671042288605164     143.0\n",
       "trip-153671043369099517    3347.0\n",
       "trip-153671046011330457      59.0\n",
       "trip-153671052974046625     341.0\n",
       "                            ...  \n",
       "trip-153861095625827784      83.0\n",
       "trip-153861104386292051      21.0\n",
       "trip-153861106442901555     282.0\n",
       "trip-153861115439069069     264.0\n",
       "trip-153861118270144424     275.0\n",
       "Name: actual_time, Length: 14817, dtype: float64"
      ]
     },
     "execution_count": 103,
     "metadata": {},
     "output_type": "execute_result"
    }
   ],
   "source": [
    "actual_time"
   ]
  },
  {
   "cell_type": "code",
   "execution_count": 104,
   "id": "2a052ba0",
   "metadata": {},
   "outputs": [],
   "source": [
    "segment_actual_time=data.groupby(\"trip_uuid\")[\"segment_actual_time\"].sum()"
   ]
  },
  {
   "cell_type": "code",
   "execution_count": 105,
   "id": "1f00bc54",
   "metadata": {},
   "outputs": [
    {
     "data": {
      "text/plain": [
       "trip_uuid\n",
       "trip-153671041653548748    1548.0\n",
       "trip-153671042288605164     141.0\n",
       "trip-153671043369099517    3308.0\n",
       "trip-153671046011330457      59.0\n",
       "trip-153671052974046625     340.0\n",
       "                            ...  \n",
       "trip-153861095625827784      82.0\n",
       "trip-153861104386292051      21.0\n",
       "trip-153861106442901555     281.0\n",
       "trip-153861115439069069     258.0\n",
       "trip-153861118270144424     274.0\n",
       "Name: segment_actual_time, Length: 14817, dtype: float64"
      ]
     },
     "execution_count": 105,
     "metadata": {},
     "output_type": "execute_result"
    }
   ],
   "source": [
    "segment_actual_time"
   ]
  },
  {
   "cell_type": "code",
   "execution_count": 106,
   "id": "cf6f15d7",
   "metadata": {},
   "outputs": [
    {
     "data": {
      "text/plain": [
       "<AxesSubplot:xlabel='actual_time', ylabel='Density'>"
      ]
     },
     "execution_count": 106,
     "metadata": {},
     "output_type": "execute_result"
    },
    {
     "data": {
      "image/png": "[encoded data removed]",
      "text/plain": [
       "<Figure size 432x288 with 1 Axes>"
      ]
     },
     "metadata": {
      "needs_background": "light"
     },
     "output_type": "display_data"
    }
   ],
   "source": [
    "sns.distplot(np.log(actual_time))"
   ]
  },
  {
   "cell_type": "code",
   "execution_count": 107,
   "id": "bc2d8158",
   "metadata": {},
   "outputs": [
    {
     "data": {
      "text/plain": [
       "<AxesSubplot:xlabel='segment_actual_time', ylabel='Density'>"
      ]
     },
     "execution_count": 107,
     "metadata": {},
     "output_type": "execute_result"
    },
    {
     "data": {
      "image/png": "[encoded data removed]",
      "text/plain": [
       "<Figure size 432x288 with 1 Axes>"
      ]
     },
     "metadata": {
      "needs_background": "light"
     },
     "output_type": "display_data"
    }
   ],
   "source": [
    "sns.distplot(np.log(segment_actual_time))"
   ]
  },
  {
   "cell_type": "code",
   "execution_count": 108,
   "id": "6ecadaed",
   "metadata": {},
   "outputs": [
    {
     "data": {
      "application/javascript": [
       "\n",
       "        if (window._pyforest_update_imports_cell) { window._pyforest_update_imports_cell('from scipy import stats'); }\n",
       "    "
      ],
      "text/plain": [
       "<IPython.core.display.Javascript object>"
      ]
     },
     "metadata": {},
     "output_type": "display_data"
    },
    {
     "data": {
      "text/plain": [
       "Ttest_indResult(statistic=0.7701458929626459, pvalue=0.4412194950197108)"
      ]
     },
     "execution_count": 108,
     "metadata": {},
     "output_type": "execute_result"
    }
   ],
   "source": [
    "stats.ttest_ind(np.log(actual_time),np.log(segment_actual_time))"
   ]
  },
  {
   "cell_type": "code",
   "execution_count": null,
   "id": "a5e7d6ea",
   "metadata": {},
   "outputs": [],
   "source": []
  },
  {
   "cell_type": "code",
   "execution_count": null,
   "id": "dab03046",
   "metadata": {},
   "outputs": [],
   "source": []
  },
  {
   "cell_type": "code",
   "execution_count": null,
   "id": "07c3fc1d",
   "metadata": {},
   "outputs": [],
   "source": []
  },
  {
   "cell_type": "code",
   "execution_count": null,
   "id": "85a31216",
   "metadata": {},
   "outputs": [],
   "source": []
  },
  {
   "cell_type": "markdown",
   "id": "82e092cd",
   "metadata": {},
   "source": [
    "# osrm distance VS segment_osrm_distance"
   ]
  },
  {
   "cell_type": "markdown",
   "id": "6cd916bd",
   "metadata": {},
   "source": [
    "#### Do hypothesis testing/ visual analysis between osrm distance aggregated value and segment osrm distance aggregated value (aggregated values are the values you’ll get after merging the rows on the basis of trip_uuid)"
   ]
  },
  {
   "cell_type": "code",
   "execution_count": 109,
   "id": "3cc487f4",
   "metadata": {},
   "outputs": [],
   "source": [
    "osrm_distance = (data.groupby([\"trip_uuid\",\"time_taken_btwn_odstart_and_od_end\"])[\"osrm_distance\"].max().reset_index()).groupby(\"trip_uuid\")[\"osrm_distance\"].sum()"
   ]
  },
  {
   "cell_type": "code",
   "execution_count": 110,
   "id": "34e35a2a",
   "metadata": {},
   "outputs": [],
   "source": [
    "segment_osrm_distance = data.groupby(\"trip_uuid\")[\"segment_osrm_distance\"].sum()"
   ]
  },
  {
   "cell_type": "code",
   "execution_count": 111,
   "id": "a0173ea6",
   "metadata": {},
   "outputs": [
    {
     "data": {
      "text/plain": [
       "trip_uuid\n",
       "trip-153671041653548748     991.3523\n",
       "trip-153671042288605164      85.1110\n",
       "trip-153671043369099517    2372.0852\n",
       "trip-153671046011330457      19.6800\n",
       "trip-153671052974046625     146.7918\n",
       "                             ...    \n",
       "trip-153861095625827784      73.4630\n",
       "trip-153861104386292051      16.0882\n",
       "trip-153861106442901555      63.2841\n",
       "trip-153861115439069069     177.6635\n",
       "trip-153861118270144424      80.5787\n",
       "Name: osrm_distance, Length: 14817, dtype: float64"
      ]
     },
     "execution_count": 111,
     "metadata": {},
     "output_type": "execute_result"
    }
   ],
   "source": [
    "osrm_distance"
   ]
  },
  {
   "cell_type": "code",
   "execution_count": 112,
   "id": "148493e7",
   "metadata": {},
   "outputs": [
    {
     "data": {
      "text/plain": [
       "trip_uuid\n",
       "trip-153671041653548748    1320.4733\n",
       "trip-153671042288605164      84.1894\n",
       "trip-153671043369099517    2545.2678\n",
       "trip-153671046011330457      19.8766\n",
       "trip-153671052974046625     146.7919\n",
       "                             ...    \n",
       "trip-153861095625827784      64.8551\n",
       "trip-153861104386292051      16.0883\n",
       "trip-153861106442901555     104.8866\n",
       "trip-153861115439069069     223.5324\n",
       "trip-153861118270144424      80.5787\n",
       "Name: segment_osrm_distance, Length: 14817, dtype: float64"
      ]
     },
     "execution_count": 112,
     "metadata": {},
     "output_type": "execute_result"
    }
   ],
   "source": [
    "segment_osrm_distance"
   ]
  },
  {
   "cell_type": "code",
   "execution_count": 113,
   "id": "37f8d497",
   "metadata": {},
   "outputs": [
    {
     "data": {
      "text/plain": [
       "<AxesSubplot:xlabel='osrm_distance', ylabel='Density'>"
      ]
     },
     "execution_count": 113,
     "metadata": {},
     "output_type": "execute_result"
    },
    {
     "data": {
      "image/png": "[encoded data removed]",
      "text/plain": [
       "<Figure size 432x288 with 1 Axes>"
      ]
     },
     "metadata": {
      "needs_background": "light"
     },
     "output_type": "display_data"
    }
   ],
   "source": [
    "sns.distplot(np.log(osrm_distance))"
   ]
  },
  {
   "cell_type": "code",
   "execution_count": 114,
   "id": "82aa8d0b",
   "metadata": {},
   "outputs": [
    {
     "data": {
      "text/plain": [
       "<AxesSubplot:xlabel='segment_osrm_distance', ylabel='Density'>"
      ]
     },
     "execution_count": 114,
     "metadata": {},
     "output_type": "execute_result"
    },
    {
     "data": {
      "image/png": "[encoded data removed]",
      "text/plain": [
       "<Figure size 432x288 with 1 Axes>"
      ]
     },
     "metadata": {
      "needs_background": "light"
     },
     "output_type": "display_data"
    }
   ],
   "source": [
    "sns.distplot(np.log(segment_osrm_distance))"
   ]
  },
  {
   "cell_type": "code",
   "execution_count": 115,
   "id": "b33f1584",
   "metadata": {},
   "outputs": [
    {
     "data": {
      "application/javascript": [
       "\n",
       "        if (window._pyforest_update_imports_cell) { window._pyforest_update_imports_cell('from scipy import stats'); }\n",
       "    "
      ],
      "text/plain": [
       "<IPython.core.display.Javascript object>"
      ]
     },
     "metadata": {},
     "output_type": "display_data"
    },
    {
     "data": {
      "text/plain": [
       "Ttest_indResult(statistic=-1.5367910480969527, pvalue=0.12442361841385416)"
      ]
     },
     "execution_count": 115,
     "metadata": {},
     "output_type": "execute_result"
    }
   ],
   "source": [
    "stats.ttest_ind(np.log(osrm_distance.sample(2000)),np.log(segment_osrm_distance.sample(2000)))"
   ]
  },
  {
   "cell_type": "code",
   "execution_count": null,
   "id": "83ea01d8",
   "metadata": {},
   "outputs": [],
   "source": []
  },
  {
   "cell_type": "code",
   "execution_count": 116,
   "id": "ea2c40f9",
   "metadata": {},
   "outputs": [
    {
     "data": {
      "application/javascript": [
       "\n",
       "        if (window._pyforest_update_imports_cell) { window._pyforest_update_imports_cell('from scipy import stats'); }\n",
       "    "
      ],
      "text/plain": [
       "<IPython.core.display.Javascript object>"
      ]
     },
     "metadata": {},
     "output_type": "display_data"
    },
    {
     "data": {
      "text/plain": [
       "Ttest_indResult(statistic=-0.8577997908380889, pvalue=0.39105444414555934)"
      ]
     },
     "execution_count": 116,
     "metadata": {},
     "output_type": "execute_result"
    }
   ],
   "source": [
    "stats.ttest_ind(osrm_distance.sample(2000),segment_osrm_distance.sample(2000))"
   ]
  },
  {
   "cell_type": "code",
   "execution_count": null,
   "id": "d7438701",
   "metadata": {},
   "outputs": [],
   "source": []
  },
  {
   "cell_type": "code",
   "execution_count": null,
   "id": "d80cb5bc",
   "metadata": {},
   "outputs": [],
   "source": []
  },
  {
   "cell_type": "markdown",
   "id": "53953d31",
   "metadata": {},
   "source": [
    "## osrm_time VS segment_osrm_time"
   ]
  },
  {
   "cell_type": "markdown",
   "id": "0fd92ff7",
   "metadata": {},
   "source": [
    "#### Do hypothesis testing/ visual analysis between osrm time aggregated value and segment osrm time aggregated value (aggregated values are the values you’ll get after merging the rows on the basis of trip_uuid)"
   ]
  },
  {
   "cell_type": "code",
   "execution_count": null,
   "id": "d7da0a35",
   "metadata": {},
   "outputs": [],
   "source": []
  },
  {
   "cell_type": "code",
   "execution_count": 117,
   "id": "93f09c5f",
   "metadata": {},
   "outputs": [],
   "source": [
    "osrm_time = ((data.groupby([\"trip_uuid\",\"time_taken_btwn_odstart_and_od_end\"])[\"osrm_time\"].max()).reset_index()).groupby(\"trip_uuid\")[\"osrm_time\"].sum()"
   ]
  },
  {
   "cell_type": "code",
   "execution_count": 118,
   "id": "218f3080",
   "metadata": {},
   "outputs": [],
   "source": [
    "segment_osrm_time = data.groupby(\"trip_uuid\")[\"segment_osrm_time\"].sum()"
   ]
  },
  {
   "cell_type": "code",
   "execution_count": 119,
   "id": "e4dafbee",
   "metadata": {},
   "outputs": [
    {
     "data": {
      "text/plain": [
       "trip_uuid\n",
       "trip-153671041653548748     743.0\n",
       "trip-153671042288605164      68.0\n",
       "trip-153671043369099517    1741.0\n",
       "trip-153671046011330457      15.0\n",
       "trip-153671052974046625     117.0\n",
       "                            ...  \n",
       "trip-153861095625827784      62.0\n",
       "trip-153861104386292051      12.0\n",
       "trip-153861106442901555      54.0\n",
       "trip-153861115439069069     184.0\n",
       "trip-153861118270144424      68.0\n",
       "Name: osrm_time, Length: 14817, dtype: float64"
      ]
     },
     "execution_count": 119,
     "metadata": {},
     "output_type": "execute_result"
    }
   ],
   "source": [
    "osrm_time"
   ]
  },
  {
   "cell_type": "code",
   "execution_count": 120,
   "id": "c91bfe66",
   "metadata": {},
   "outputs": [
    {
     "data": {
      "text/plain": [
       "trip_uuid\n",
       "trip-153671041653548748    1008.0\n",
       "trip-153671042288605164      65.0\n",
       "trip-153671043369099517    1941.0\n",
       "trip-153671046011330457      16.0\n",
       "trip-153671052974046625     115.0\n",
       "                            ...  \n",
       "trip-153861095625827784      62.0\n",
       "trip-153861104386292051      11.0\n",
       "trip-153861106442901555      88.0\n",
       "trip-153861115439069069     221.0\n",
       "trip-153861118270144424      67.0\n",
       "Name: segment_osrm_time, Length: 14817, dtype: float64"
      ]
     },
     "execution_count": 120,
     "metadata": {},
     "output_type": "execute_result"
    }
   ],
   "source": [
    "segment_osrm_time"
   ]
  },
  {
   "cell_type": "code",
   "execution_count": 121,
   "id": "a70b9f9b",
   "metadata": {},
   "outputs": [
    {
     "data": {
      "text/plain": [
       "<AxesSubplot:xlabel='osrm_time', ylabel='Density'>"
      ]
     },
     "execution_count": 121,
     "metadata": {},
     "output_type": "execute_result"
    },
    {
     "data": {
      "image/png": "[encoded data removed]",
      "text/plain": [
       "<Figure size 432x288 with 1 Axes>"
      ]
     },
     "metadata": {
      "needs_background": "light"
     },
     "output_type": "display_data"
    }
   ],
   "source": [
    "sns.distplot(np.log(osrm_time))"
   ]
  },
  {
   "cell_type": "code",
   "execution_count": 122,
   "id": "cebb7c04",
   "metadata": {},
   "outputs": [
    {
     "data": {
      "text/plain": [
       "<AxesSubplot:xlabel='segment_osrm_time', ylabel='Density'>"
      ]
     },
     "execution_count": 122,
     "metadata": {},
     "output_type": "execute_result"
    },
    {
     "data": {
      "image/png": "[encoded data removed]",
      "text/plain": [
       "<Figure size 432x288 with 1 Axes>"
      ]
     },
     "metadata": {
      "needs_background": "light"
     },
     "output_type": "display_data"
    }
   ],
   "source": [
    "sns.distplot(np.log(segment_osrm_time))"
   ]
  },
  {
   "cell_type": "code",
   "execution_count": 123,
   "id": "5482aa19",
   "metadata": {},
   "outputs": [
    {
     "data": {
      "application/javascript": [
       "\n",
       "        if (window._pyforest_update_imports_cell) { window._pyforest_update_imports_cell('from scipy import stats'); }\n",
       "    "
      ],
      "text/plain": [
       "<IPython.core.display.Javascript object>"
      ]
     },
     "metadata": {},
     "output_type": "display_data"
    },
    {
     "data": {
      "text/plain": [
       "Ttest_indResult(statistic=-2.3197867218886206, pvalue=0.02045274609245179)"
      ]
     },
     "execution_count": 123,
     "metadata": {},
     "output_type": "execute_result"
    }
   ],
   "source": [
    "stats.ttest_ind(osrm_time.sample(1000),segment_osrm_time.sample(1000))"
   ]
  },
  {
   "cell_type": "code",
   "execution_count": null,
   "id": "4f339b87",
   "metadata": {},
   "outputs": [],
   "source": []
  },
  {
   "cell_type": "code",
   "execution_count": null,
   "id": "31ff95eb",
   "metadata": {},
   "outputs": [],
   "source": []
  },
  {
   "cell_type": "code",
   "execution_count": null,
   "id": "900e86e2",
   "metadata": {},
   "outputs": [],
   "source": []
  },
  {
   "cell_type": "code",
   "execution_count": null,
   "id": "e2d660ee",
   "metadata": {},
   "outputs": [],
   "source": []
  },
  {
   "cell_type": "code",
   "execution_count": null,
   "id": "a72951d9",
   "metadata": {},
   "outputs": [],
   "source": []
  },
  {
   "cell_type": "code",
   "execution_count": null,
   "id": "53f56fae",
   "metadata": {},
   "outputs": [],
   "source": []
  },
  {
   "cell_type": "code",
   "execution_count": null,
   "id": "11ddb952",
   "metadata": {},
   "outputs": [],
   "source": []
  },
  {
   "cell_type": "code",
   "execution_count": null,
   "id": "ab6be6bb",
   "metadata": {},
   "outputs": [],
   "source": []
  },
  {
   "cell_type": "code",
   "execution_count": null,
   "id": "6ea27fc3",
   "metadata": {},
   "outputs": [],
   "source": []
  },
  {
   "cell_type": "code",
   "execution_count": null,
   "id": "9189f031",
   "metadata": {},
   "outputs": [],
   "source": []
  },
  {
   "cell_type": "code",
   "execution_count": null,
   "id": "03753018",
   "metadata": {},
   "outputs": [],
   "source": []
  },
  {
   "cell_type": "code",
   "execution_count": null,
   "id": "da7df485",
   "metadata": {},
   "outputs": [],
   "source": []
  },
  {
   "cell_type": "code",
   "execution_count": null,
   "id": "a5426666",
   "metadata": {},
   "outputs": [],
   "source": []
  },
  {
   "cell_type": "code",
   "execution_count": null,
   "id": "f9c5a475",
   "metadata": {},
   "outputs": [],
   "source": []
  },
  {
   "cell_type": "code",
   "execution_count": null,
   "id": "625c11d1",
   "metadata": {},
   "outputs": [],
   "source": []
  },
  {
   "cell_type": "code",
   "execution_count": null,
   "id": "b78658f0",
   "metadata": {},
   "outputs": [],
   "source": []
  },
  {
   "cell_type": "code",
   "execution_count": null,
   "id": "bd9e335c",
   "metadata": {},
   "outputs": [],
   "source": []
  },
  {
   "cell_type": "code",
   "execution_count": null,
   "id": "484c7727",
   "metadata": {},
   "outputs": [],
   "source": []
  },
  {
   "cell_type": "code",
   "execution_count": null,
   "id": "da2ea24a",
   "metadata": {},
   "outputs": [],
   "source": []
  },
  {
   "cell_type": "code",
   "execution_count": null,
   "id": "88cdcd10",
   "metadata": {},
   "outputs": [],
   "source": []
  },
  {
   "cell_type": "code",
   "execution_count": null,
   "id": "692ef3af",
   "metadata": {},
   "outputs": [],
   "source": []
  },
  {
   "cell_type": "code",
   "execution_count": null,
   "id": "908b7a72",
   "metadata": {},
   "outputs": [],
   "source": []
  },
  {
   "cell_type": "code",
   "execution_count": null,
   "id": "5429de22",
   "metadata": {},
   "outputs": [],
   "source": []
  },
  {
   "cell_type": "code",
   "execution_count": null,
   "id": "38939258",
   "metadata": {},
   "outputs": [],
   "source": []
  },
  {
   "cell_type": "code",
   "execution_count": null,
   "id": "257fd3dd",
   "metadata": {
    "scrolled": true
   },
   "outputs": [],
   "source": []
  },
  {
   "cell_type": "code",
   "execution_count": null,
   "id": "984534c1",
   "metadata": {},
   "outputs": [],
   "source": []
  },
  {
   "cell_type": "code",
   "execution_count": null,
   "id": "f39dfa5b",
   "metadata": {},
   "outputs": [],
   "source": []
  },
  {
   "cell_type": "code",
   "execution_count": null,
   "id": "85681458",
   "metadata": {},
   "outputs": [],
   "source": []
  },
  {
   "cell_type": "code",
   "execution_count": null,
   "id": "f6faecb8",
   "metadata": {},
   "outputs": [],
   "source": []
  },
  {
   "cell_type": "code",
   "execution_count": null,
   "id": "791ff4f0",
   "metadata": {},
   "outputs": [],
   "source": []
  },
  {
   "cell_type": "code",
   "execution_count": null,
   "id": "db6d2256",
   "metadata": {},
   "outputs": [],
   "source": []
  },
  {
   "cell_type": "code",
   "execution_count": null,
   "id": "25e58b77",
   "metadata": {},
   "outputs": [],
   "source": []
  },
  {
   "cell_type": "code",
   "execution_count": null,
   "id": "844ef5e0",
   "metadata": {},
   "outputs": [],
   "source": []
  },
  {
   "cell_type": "code",
   "execution_count": 124,
   "id": "ff365817",
   "metadata": {},
   "outputs": [],
   "source": [
    "# data[\"route_schedule_uuid\"].value_counts()[600:650]"
   ]
  },
  {
   "cell_type": "code",
   "execution_count": null,
   "id": "f65c5c2b",
   "metadata": {},
   "outputs": [],
   "source": []
  },
  {
   "cell_type": "code",
   "execution_count": 125,
   "id": "b310afd3",
   "metadata": {},
   "outputs": [],
   "source": [
    "# t = data[data[\"route_schedule_uuid\"]==\"thanos::sroute:4029a8a2-6c74-4b7e-a6d8-f9e069fbcea9\"]"
   ]
  },
  {
   "cell_type": "code",
   "execution_count": 126,
   "id": "0711c6bb",
   "metadata": {
    "scrolled": false
   },
   "outputs": [],
   "source": [
    "# t"
   ]
  },
  {
   "cell_type": "code",
   "execution_count": 127,
   "id": "263faed4",
   "metadata": {},
   "outputs": [],
   "source": [
    "# data.columns"
   ]
  },
  {
   "cell_type": "code",
   "execution_count": null,
   "id": "73013851",
   "metadata": {},
   "outputs": [],
   "source": []
  },
  {
   "cell_type": "code",
   "execution_count": null,
   "id": "0b5e1f68",
   "metadata": {},
   "outputs": [],
   "source": []
  },
  {
   "cell_type": "code",
   "execution_count": 128,
   "id": "a0a776a9",
   "metadata": {},
   "outputs": [],
   "source": [
    "# data[\"route_schedule_uuid\"][0]"
   ]
  },
  {
   "cell_type": "code",
   "execution_count": 129,
   "id": "d0e49472",
   "metadata": {},
   "outputs": [],
   "source": [
    "# data[\"route_schedule_uuid\"].value_counts().sort_values(ascending=False)"
   ]
  },
  {
   "cell_type": "code",
   "execution_count": null,
   "id": "5c21e421",
   "metadata": {},
   "outputs": [],
   "source": []
  },
  {
   "cell_type": "code",
   "execution_count": 130,
   "id": "cf17d120",
   "metadata": {},
   "outputs": [
    {
     "data": {
      "text/html": [
       "<div>\n",
       "<style scoped>\n",
       "    .dataframe tbody tr th:only-of-type {\n",
       "        vertical-align: middle;\n",
       "    }\n",
       "\n",
       "    .dataframe tbody tr th {\n",
       "        vertical-align: top;\n",
       "    }\n",
       "\n",
       "    .dataframe thead th {\n",
       "        text-align: right;\n",
       "    }\n",
       "</style>\n",
       "<table border=\"1\" class=\"dataframe\">\n",
       "  <thead>\n",
       "    <tr style=\"text-align: right;\">\n",
       "      <th></th>\n",
       "      <th></th>\n",
       "      <th>source_state</th>\n",
       "      <th>destination_state</th>\n",
       "      <th>segment_actual_time</th>\n",
       "    </tr>\n",
       "    <tr>\n",
       "      <th>route_schedule_uuid</th>\n",
       "      <th>trip_uuid</th>\n",
       "      <th></th>\n",
       "      <th></th>\n",
       "      <th></th>\n",
       "    </tr>\n",
       "  </thead>\n",
       "  <tbody>\n",
       "    <tr>\n",
       "      <th rowspan=\"5\" valign=\"top\">thanos::sroute:0007affd-fd01-4cf0-8a4f-90419df059f7</th>\n",
       "      <th>trip-153673978559739191</th>\n",
       "      <td>Maharashtra</td>\n",
       "      <td>Maharashtra</td>\n",
       "      <td>201.0</td>\n",
       "    </tr>\n",
       "    <tr>\n",
       "      <th>trip-153708949529986248</th>\n",
       "      <td>Maharashtra</td>\n",
       "      <td>Maharashtra</td>\n",
       "      <td>459.0</td>\n",
       "    </tr>\n",
       "    <tr>\n",
       "      <th>trip-153716205423269821</th>\n",
       "      <td>Maharashtra</td>\n",
       "      <td>Maharashtra</td>\n",
       "      <td>53.0</td>\n",
       "    </tr>\n",
       "    <tr>\n",
       "      <th>trip-153725872900441053</th>\n",
       "      <td>Maharashtra</td>\n",
       "      <td>Maharashtra</td>\n",
       "      <td>161.0</td>\n",
       "    </tr>\n",
       "    <tr>\n",
       "      <th>trip-153734009199403563</th>\n",
       "      <td>Maharashtra</td>\n",
       "      <td>Maharashtra</td>\n",
       "      <td>157.0</td>\n",
       "    </tr>\n",
       "    <tr>\n",
       "      <th>...</th>\n",
       "      <th>...</th>\n",
       "      <td>...</td>\n",
       "      <td>...</td>\n",
       "      <td>...</td>\n",
       "    </tr>\n",
       "    <tr>\n",
       "      <th rowspan=\"3\" valign=\"top\">thanos::sroute:ffaf85f1-2f23-4367-aef7-c58044806911</th>\n",
       "      <th>trip-153762673254298526</th>\n",
       "      <td>Punjab</td>\n",
       "      <td>Punjab</td>\n",
       "      <td>146.0</td>\n",
       "    </tr>\n",
       "    <tr>\n",
       "      <th>trip-153788646927839254</th>\n",
       "      <td>Punjab</td>\n",
       "      <td>Punjab</td>\n",
       "      <td>134.0</td>\n",
       "    </tr>\n",
       "    <tr>\n",
       "      <th>trip-153840968499181497</th>\n",
       "      <td>Punjab</td>\n",
       "      <td>Punjab</td>\n",
       "      <td>133.0</td>\n",
       "    </tr>\n",
       "    <tr>\n",
       "      <th rowspan=\"2\" valign=\"top\">thanos::sroute:fffa2622-a170-4d08-b60b-38dfbae83869</th>\n",
       "      <th>trip-153773775882509697</th>\n",
       "      <td>Uttar Pradesh</td>\n",
       "      <td>Uttar Pradesh</td>\n",
       "      <td>168.0</td>\n",
       "    </tr>\n",
       "    <tr>\n",
       "      <th>trip-153791383335737867</th>\n",
       "      <td>Uttar Pradesh</td>\n",
       "      <td>Uttar Pradesh</td>\n",
       "      <td>532.0</td>\n",
       "    </tr>\n",
       "  </tbody>\n",
       "</table>\n",
       "<p>14817 rows × 3 columns</p>\n",
       "</div>"
      ],
      "text/plain": [
       "                                                                             source_state  \\\n",
       "route_schedule_uuid                                trip_uuid                                \n",
       "thanos::sroute:0007affd-fd01-4cf0-8a4f-90419df0... trip-153673978559739191    Maharashtra   \n",
       "                                                   trip-153708949529986248    Maharashtra   \n",
       "                                                   trip-153716205423269821    Maharashtra   \n",
       "                                                   trip-153725872900441053    Maharashtra   \n",
       "                                                   trip-153734009199403563    Maharashtra   \n",
       "...                                                                                   ...   \n",
       "thanos::sroute:ffaf85f1-2f23-4367-aef7-c5804480... trip-153762673254298526         Punjab   \n",
       "                                                   trip-153788646927839254         Punjab   \n",
       "                                                   trip-153840968499181497         Punjab   \n",
       "thanos::sroute:fffa2622-a170-4d08-b60b-38dfbae8... trip-153773775882509697  Uttar Pradesh   \n",
       "                                                   trip-153791383335737867  Uttar Pradesh   \n",
       "\n",
       "                                                                           destination_state  \\\n",
       "route_schedule_uuid                                trip_uuid                                   \n",
       "thanos::sroute:0007affd-fd01-4cf0-8a4f-90419df0... trip-153673978559739191       Maharashtra   \n",
       "                                                   trip-153708949529986248       Maharashtra   \n",
       "                                                   trip-153716205423269821       Maharashtra   \n",
       "                                                   trip-153725872900441053       Maharashtra   \n",
       "                                                   trip-153734009199403563       Maharashtra   \n",
       "...                                                                                      ...   \n",
       "thanos::sroute:ffaf85f1-2f23-4367-aef7-c5804480... trip-153762673254298526            Punjab   \n",
       "                                                   trip-153788646927839254            Punjab   \n",
       "                                                   trip-153840968499181497            Punjab   \n",
       "thanos::sroute:fffa2622-a170-4d08-b60b-38dfbae8... trip-153773775882509697     Uttar Pradesh   \n",
       "                                                   trip-153791383335737867     Uttar Pradesh   \n",
       "\n",
       "                                                                            segment_actual_time  \n",
       "route_schedule_uuid                                trip_uuid                                     \n",
       "thanos::sroute:0007affd-fd01-4cf0-8a4f-90419df0... trip-153673978559739191                201.0  \n",
       "                                                   trip-153708949529986248                459.0  \n",
       "                                                   trip-153716205423269821                 53.0  \n",
       "                                                   trip-153725872900441053                161.0  \n",
       "                                                   trip-153734009199403563                157.0  \n",
       "...                                                                                         ...  \n",
       "thanos::sroute:ffaf85f1-2f23-4367-aef7-c5804480... trip-153762673254298526                146.0  \n",
       "                                                   trip-153788646927839254                134.0  \n",
       "                                                   trip-153840968499181497                133.0  \n",
       "thanos::sroute:fffa2622-a170-4d08-b60b-38dfbae8... trip-153773775882509697                168.0  \n",
       "                                                   trip-153791383335737867                532.0  \n",
       "\n",
       "[14817 rows x 3 columns]"
      ]
     },
     "execution_count": 130,
     "metadata": {},
     "output_type": "execute_result"
    }
   ],
   "source": [
    "data.groupby([\"route_schedule_uuid\",\"trip_uuid\"])[[\"source_state\",\"destination_state\",\"segment_actual_time\"]].aggregate({\"source_state\":pd.unique,\n",
    "                                                                                              \"destination_state\":pd.unique,\n",
    "                                                                                                    \"segment_actual_time\":np.sum\n",
    "                                                                                              })"
   ]
  },
  {
   "cell_type": "markdown",
   "id": "1a5ded13",
   "metadata": {},
   "source": [
    "### number of orders between cities , sorted highest to lowest"
   ]
  },
  {
   "cell_type": "code",
   "execution_count": 131,
   "id": "bd48d493",
   "metadata": {},
   "outputs": [
    {
     "data": {
      "text/html": [
       "<div>\n",
       "<style scoped>\n",
       "    .dataframe tbody tr th:only-of-type {\n",
       "        vertical-align: middle;\n",
       "    }\n",
       "\n",
       "    .dataframe tbody tr th {\n",
       "        vertical-align: top;\n",
       "    }\n",
       "\n",
       "    .dataframe thead th {\n",
       "        text-align: right;\n",
       "    }\n",
       "</style>\n",
       "<table border=\"1\" class=\"dataframe\">\n",
       "  <thead>\n",
       "    <tr style=\"text-align: right;\">\n",
       "      <th></th>\n",
       "      <th>source_city_state</th>\n",
       "      <th>destination_city_state</th>\n",
       "      <th>trip_uuid</th>\n",
       "    </tr>\n",
       "  </thead>\n",
       "  <tbody>\n",
       "    <tr>\n",
       "      <th>0</th>\n",
       "      <td>Bengaluru Karnataka</td>\n",
       "      <td>Bengaluru Karnataka</td>\n",
       "      <td>1369</td>\n",
       "    </tr>\n",
       "    <tr>\n",
       "      <th>1</th>\n",
       "      <td>Bhiwandi Maharashtra</td>\n",
       "      <td>Mumbai Maharashtra</td>\n",
       "      <td>407</td>\n",
       "    </tr>\n",
       "    <tr>\n",
       "      <th>2</th>\n",
       "      <td>Hyderabad Telangana</td>\n",
       "      <td>Hyderabad Telangana</td>\n",
       "      <td>308</td>\n",
       "    </tr>\n",
       "    <tr>\n",
       "      <th>3</th>\n",
       "      <td>Mumbai Maharashtra</td>\n",
       "      <td>Bhiwandi Maharashtra</td>\n",
       "      <td>282</td>\n",
       "    </tr>\n",
       "    <tr>\n",
       "      <th>4</th>\n",
       "      <td>Mumbai Maharashtra</td>\n",
       "      <td>Mumbai Maharashtra</td>\n",
       "      <td>252</td>\n",
       "    </tr>\n",
       "    <tr>\n",
       "      <th>...</th>\n",
       "      <td>...</td>\n",
       "      <td>...</td>\n",
       "      <td>...</td>\n",
       "    </tr>\n",
       "    <tr>\n",
       "      <th>2335</th>\n",
       "      <td>Hyderabad Telangana</td>\n",
       "      <td>Gurgaon Haryana</td>\n",
       "      <td>1</td>\n",
       "    </tr>\n",
       "    <tr>\n",
       "      <th>2336</th>\n",
       "      <td>Ranikhet Uttarakhand</td>\n",
       "      <td>Pithorgarh Uttarakhand</td>\n",
       "      <td>1</td>\n",
       "    </tr>\n",
       "    <tr>\n",
       "      <th>2337</th>\n",
       "      <td>Hyderabad Telangana</td>\n",
       "      <td>Shamshabad Telangana</td>\n",
       "      <td>1</td>\n",
       "    </tr>\n",
       "    <tr>\n",
       "      <th>2338</th>\n",
       "      <td>Ranchi Jharkhand</td>\n",
       "      <td>Guwahati Assam</td>\n",
       "      <td>1</td>\n",
       "    </tr>\n",
       "    <tr>\n",
       "      <th>2339</th>\n",
       "      <td>Abohar Punjab</td>\n",
       "      <td>Malout Punjab</td>\n",
       "      <td>1</td>\n",
       "    </tr>\n",
       "  </tbody>\n",
       "</table>\n",
       "<p>2340 rows × 3 columns</p>\n",
       "</div>"
      ],
      "text/plain": [
       "         source_city_state  destination_city_state  trip_uuid\n",
       "0      Bengaluru Karnataka     Bengaluru Karnataka       1369\n",
       "1     Bhiwandi Maharashtra      Mumbai Maharashtra        407\n",
       "2      Hyderabad Telangana     Hyderabad Telangana        308\n",
       "3       Mumbai Maharashtra    Bhiwandi Maharashtra        282\n",
       "4       Mumbai Maharashtra      Mumbai Maharashtra        252\n",
       "...                    ...                     ...        ...\n",
       "2335   Hyderabad Telangana         Gurgaon Haryana          1\n",
       "2336  Ranikhet Uttarakhand  Pithorgarh Uttarakhand          1\n",
       "2337   Hyderabad Telangana    Shamshabad Telangana          1\n",
       "2338      Ranchi Jharkhand          Guwahati Assam          1\n",
       "2339         Abohar Punjab           Malout Punjab          1\n",
       "\n",
       "[2340 rows x 3 columns]"
      ]
     },
     "execution_count": 131,
     "metadata": {},
     "output_type": "execute_result"
    }
   ],
   "source": [
    "No_of_packages_between_cities = data.groupby([\"source_city_state\",\"destination_city_state\"])[\"trip_uuid\"].nunique().sort_values(ascending=False).reset_index()\n",
    "No_of_packages_between_cities"
   ]
  },
  {
   "cell_type": "code",
   "execution_count": 132,
   "id": "cc0bf094",
   "metadata": {},
   "outputs": [
    {
     "data": {
      "text/html": [
       "<div>\n",
       "<style scoped>\n",
       "    .dataframe tbody tr th:only-of-type {\n",
       "        vertical-align: middle;\n",
       "    }\n",
       "\n",
       "    .dataframe tbody tr th {\n",
       "        vertical-align: top;\n",
       "    }\n",
       "\n",
       "    .dataframe thead th {\n",
       "        text-align: right;\n",
       "    }\n",
       "</style>\n",
       "<table border=\"1\" class=\"dataframe\">\n",
       "  <thead>\n",
       "    <tr style=\"text-align: right;\">\n",
       "      <th></th>\n",
       "      <th>source_city_state</th>\n",
       "      <th>destination_city_state</th>\n",
       "      <th>trip_uuid</th>\n",
       "    </tr>\n",
       "  </thead>\n",
       "  <tbody>\n",
       "    <tr>\n",
       "      <th>0</th>\n",
       "      <td>Bengaluru Karnataka</td>\n",
       "      <td>Bengaluru Karnataka</td>\n",
       "      <td>1369</td>\n",
       "    </tr>\n",
       "    <tr>\n",
       "      <th>2</th>\n",
       "      <td>Hyderabad Telangana</td>\n",
       "      <td>Hyderabad Telangana</td>\n",
       "      <td>308</td>\n",
       "    </tr>\n",
       "    <tr>\n",
       "      <th>4</th>\n",
       "      <td>Mumbai Maharashtra</td>\n",
       "      <td>Mumbai Maharashtra</td>\n",
       "      <td>252</td>\n",
       "    </tr>\n",
       "    <tr>\n",
       "      <th>8</th>\n",
       "      <td>Chennai Tamil Nadu</td>\n",
       "      <td>Chennai Tamil Nadu</td>\n",
       "      <td>205</td>\n",
       "    </tr>\n",
       "    <tr>\n",
       "      <th>12</th>\n",
       "      <td>Ahmedabad Gujarat</td>\n",
       "      <td>Ahmedabad Gujarat</td>\n",
       "      <td>131</td>\n",
       "    </tr>\n",
       "    <tr>\n",
       "      <th>13</th>\n",
       "      <td>Delhi Delhi</td>\n",
       "      <td>Delhi Delhi</td>\n",
       "      <td>109</td>\n",
       "    </tr>\n",
       "    <tr>\n",
       "      <th>16</th>\n",
       "      <td>Pune Maharashtra</td>\n",
       "      <td>Pune Maharashtra</td>\n",
       "      <td>101</td>\n",
       "    </tr>\n",
       "    <tr>\n",
       "      <th>21</th>\n",
       "      <td>Jaipur Rajasthan</td>\n",
       "      <td>Jaipur Rajasthan</td>\n",
       "      <td>87</td>\n",
       "    </tr>\n",
       "    <tr>\n",
       "      <th>26</th>\n",
       "      <td>Surat Gujarat</td>\n",
       "      <td>Surat Gujarat</td>\n",
       "      <td>77</td>\n",
       "    </tr>\n",
       "    <tr>\n",
       "      <th>33</th>\n",
       "      <td>Kolkata West Bengal</td>\n",
       "      <td>Kolkata West Bengal</td>\n",
       "      <td>63</td>\n",
       "    </tr>\n",
       "    <tr>\n",
       "      <th>36</th>\n",
       "      <td>Sonipat Haryana</td>\n",
       "      <td>Sonipat Haryana</td>\n",
       "      <td>58</td>\n",
       "    </tr>\n",
       "    <tr>\n",
       "      <th>39</th>\n",
       "      <td>Kanpur Uttar Pradesh</td>\n",
       "      <td>Kanpur Uttar Pradesh</td>\n",
       "      <td>55</td>\n",
       "    </tr>\n",
       "    <tr>\n",
       "      <th>40</th>\n",
       "      <td>Gurgaon Haryana</td>\n",
       "      <td>Gurgaon Haryana</td>\n",
       "      <td>54</td>\n",
       "    </tr>\n",
       "    <tr>\n",
       "      <th>43</th>\n",
       "      <td>Guwahati Assam</td>\n",
       "      <td>Guwahati Assam</td>\n",
       "      <td>49</td>\n",
       "    </tr>\n",
       "    <tr>\n",
       "      <th>44</th>\n",
       "      <td>Bhopal Madhya Pradesh</td>\n",
       "      <td>Bhopal Madhya Pradesh</td>\n",
       "      <td>48</td>\n",
       "    </tr>\n",
       "  </tbody>\n",
       "</table>\n",
       "</div>"
      ],
      "text/plain": [
       "        source_city_state destination_city_state  trip_uuid\n",
       "0     Bengaluru Karnataka    Bengaluru Karnataka       1369\n",
       "2     Hyderabad Telangana    Hyderabad Telangana        308\n",
       "4      Mumbai Maharashtra     Mumbai Maharashtra        252\n",
       "8      Chennai Tamil Nadu     Chennai Tamil Nadu        205\n",
       "12      Ahmedabad Gujarat      Ahmedabad Gujarat        131\n",
       "13            Delhi Delhi            Delhi Delhi        109\n",
       "16       Pune Maharashtra       Pune Maharashtra        101\n",
       "21       Jaipur Rajasthan       Jaipur Rajasthan         87\n",
       "26          Surat Gujarat          Surat Gujarat         77\n",
       "33    Kolkata West Bengal    Kolkata West Bengal         63\n",
       "36        Sonipat Haryana        Sonipat Haryana         58\n",
       "39   Kanpur Uttar Pradesh   Kanpur Uttar Pradesh         55\n",
       "40        Gurgaon Haryana        Gurgaon Haryana         54\n",
       "43         Guwahati Assam         Guwahati Assam         49\n",
       "44  Bhopal Madhya Pradesh  Bhopal Madhya Pradesh         48"
      ]
     },
     "execution_count": 132,
     "metadata": {},
     "output_type": "execute_result"
    }
   ],
   "source": [
    "No_of_packages_between_cities[No_of_packages_between_cities[\"source_city_state\"]==No_of_packages_between_cities[\"destination_city_state\"]].head(15)"
   ]
  },
  {
   "cell_type": "code",
   "execution_count": null,
   "id": "262a0751",
   "metadata": {},
   "outputs": [],
   "source": []
  },
  {
   "cell_type": "markdown",
   "id": "633adaa1",
   "metadata": {},
   "source": [
    "## number of routes between two cities (sorted from highest to lowest )"
   ]
  },
  {
   "cell_type": "code",
   "execution_count": 133,
   "id": "5f17c056",
   "metadata": {},
   "outputs": [
    {
     "data": {
      "text/plain": [
       "source_city_state                     destination_city_state              \n",
       "Bengaluru Karnataka                   Bengaluru Karnataka                     142\n",
       "Delhi Delhi                           Gurgaon Haryana                          38\n",
       "Mumbai Maharashtra                    Bhiwandi Maharashtra                     38\n",
       "Bhiwandi Maharashtra                  Mumbai Maharashtra                       37\n",
       "Hyderabad Telangana                   Hyderabad Telangana                      33\n",
       "Chennai Tamil Nadu                    Chennai Tamil Nadu                       32\n",
       "Gurgaon Haryana                       Delhi Delhi                              25\n",
       "Mumbai Maharashtra                    Mumbai Maharashtra                       23\n",
       "Chennai Tamil Nadu                    MAA Tamil Nadu                           21\n",
       "MAA Tamil Nadu                        Chennai Tamil Nadu                       20\n",
       "Delhi Delhi                           Delhi Delhi                              17\n",
       "Surat Gujarat                         Surat Gujarat                            14\n",
       "Pune Maharashtra                      Bhiwandi Maharashtra                     13\n",
       "Del Delhi                             Gurgaon Haryana                          13\n",
       "Bengaluru Karnataka                   BLR Karnataka                            13\n",
       "Kolkata West Bengal                   CCU West Bengal                          13\n",
       "Pune Maharashtra                      Pune Maharashtra                         12\n",
       "Bengaluru Karnataka                   HBR Layout PC (Karnataka) Karnataka      11\n",
       "Mumbai Maharashtra                    Mumbai Hub (Maharashtra) Maharashtra     11\n",
       "Jaipur Rajasthan                      Jaipur Rajasthan                         11\n",
       "Mumbai Hub (Maharashtra) Maharashtra  Mumbai Maharashtra                       11\n",
       "Ahmedabad Gujarat                     Ahmedabad Gujarat                         8\n",
       "Kolkata West Bengal                   Kolkata West Bengal                       8\n",
       "Chandigarh Chandigarh                 Chandigarh Punjab                         8\n",
       "Delhi Delhi                           Sonipat Haryana                           7\n",
       "Name: route_schedule_uuid, dtype: int64"
      ]
     },
     "execution_count": 133,
     "metadata": {},
     "output_type": "execute_result"
    }
   ],
   "source": [
    "data.groupby([\"source_city_state\",\"destination_city_state\"])[\"route_schedule_uuid\"].nunique().sort_values(ascending=False).head(25)"
   ]
  },
  {
   "cell_type": "code",
   "execution_count": null,
   "id": "a78b208c",
   "metadata": {},
   "outputs": [],
   "source": []
  },
  {
   "cell_type": "code",
   "execution_count": null,
   "id": "be91c46f",
   "metadata": {},
   "outputs": [],
   "source": []
  },
  {
   "cell_type": "code",
   "execution_count": 134,
   "id": "7a0a5871",
   "metadata": {},
   "outputs": [
    {
     "data": {
      "text/plain": [
       "Index(['data', 'route_schedule_uuid', 'route_type', 'trip_uuid',\n",
       "       'start_scan_to_end_scan', 'is_cutoff', 'cutoff_factor',\n",
       "       'actual_distance_to_destination', 'actual_time', 'osrm_time',\n",
       "       'osrm_distance', 'factor', 'segment_actual_time', 'segment_osrm_time',\n",
       "       'segment_osrm_distance', 'segment_factor', 'trip_creation_day',\n",
       "       'source_city', 'source_state', 'source_code', 'source_place',\n",
       "       'destination_city', 'destination_state', 'destination_code',\n",
       "       'destination_place', 'source_city_state', 'destination_city_state',\n",
       "       'source_pincode', 'destination_pincode',\n",
       "       'time_taken_btwn_odstart_and_od_end'],\n",
       "      dtype='object')"
      ]
     },
     "execution_count": 134,
     "metadata": {},
     "output_type": "execute_result"
    }
   ],
   "source": [
    "data.columns"
   ]
  },
  {
   "cell_type": "markdown",
   "id": "bda3e8c1",
   "metadata": {},
   "source": [
    "## average actual time taken from one city to another city : "
   ]
  },
  {
   "cell_type": "code",
   "execution_count": 135,
   "id": "5fc7cf09",
   "metadata": {
    "scrolled": true
   },
   "outputs": [
    {
     "data": {
      "text/plain": [
       "source_city_state    destination_city_state\n",
       "Chandigarh Punjab    Bengaluru Karnataka       62.516667\n",
       "Guwahati Assam       Delhi Delhi               55.696078\n",
       "Delhi Delhi          Guwahati Assam            54.683333\n",
       "Kolkata West Bengal  Bhiwandi Maharashtra      52.353333\n",
       "Gurgaon Haryana      MAA Tamil Nadu            51.514286\n",
       "                                                 ...    \n",
       "Attingal Kerala      Kalluvathukal Kerala       0.295000\n",
       "Sonipat Haryana      Sonipat Haryana            0.286494\n",
       "Nabarangpr Orissa    Pappadahandi Orissa        0.277778\n",
       "Bhubaneshwar Orissa  Bhubaneshwar Orissa        0.254167\n",
       "Khurdha Orissa       Khurdha Orissa             0.250000\n",
       "Name: segment_actual_time, Length: 2340, dtype: float64"
      ]
     },
     "execution_count": 135,
     "metadata": {},
     "output_type": "execute_result"
    }
   ],
   "source": [
    "(((data.groupby([\"source_city_state\",\n",
    "                 \"destination_city_state\",\n",
    "                 \"trip_uuid\"])[\"segment_actual_time\"].sum()).reset_index()).groupby([\"source_city_state\",\n",
    "                                                                                     \"destination_city_state\"])[\"segment_actual_time\"].mean()/60).sort_values(ascending=False)"
   ]
  },
  {
   "cell_type": "code",
   "execution_count": null,
   "id": "75c74ca0",
   "metadata": {},
   "outputs": [],
   "source": []
  },
  {
   "cell_type": "code",
   "execution_count": null,
   "id": "5933e3e9",
   "metadata": {},
   "outputs": [],
   "source": []
  },
  {
   "cell_type": "code",
   "execution_count": null,
   "id": "68ccfebc",
   "metadata": {},
   "outputs": [],
   "source": []
  },
  {
   "cell_type": "code",
   "execution_count": null,
   "id": "78cf5997",
   "metadata": {},
   "outputs": [],
   "source": []
  },
  {
   "cell_type": "code",
   "execution_count": null,
   "id": "74e5b713",
   "metadata": {},
   "outputs": [],
   "source": []
  },
  {
   "cell_type": "code",
   "execution_count": null,
   "id": "5281fc9f",
   "metadata": {},
   "outputs": [],
   "source": []
  },
  {
   "cell_type": "code",
   "execution_count": null,
   "id": "b156e1c5",
   "metadata": {
    "scrolled": true
   },
   "outputs": [],
   "source": []
  },
  {
   "cell_type": "code",
   "execution_count": null,
   "id": "e795a6bc",
   "metadata": {},
   "outputs": [],
   "source": []
  },
  {
   "cell_type": "code",
   "execution_count": null,
   "id": "fa691eae",
   "metadata": {},
   "outputs": [],
   "source": []
  },
  {
   "cell_type": "code",
   "execution_count": null,
   "id": "9c62ce7a",
   "metadata": {},
   "outputs": [],
   "source": []
  },
  {
   "cell_type": "markdown",
   "id": "711b4393",
   "metadata": {},
   "source": [
    "## highest number  of orders between two states : "
   ]
  },
  {
   "cell_type": "code",
   "execution_count": 136,
   "id": "3c33e326",
   "metadata": {},
   "outputs": [
    {
     "data": {
      "text/html": [
       "<div>\n",
       "<style scoped>\n",
       "    .dataframe tbody tr th:only-of-type {\n",
       "        vertical-align: middle;\n",
       "    }\n",
       "\n",
       "    .dataframe tbody tr th {\n",
       "        vertical-align: top;\n",
       "    }\n",
       "\n",
       "    .dataframe thead th {\n",
       "        text-align: right;\n",
       "    }\n",
       "</style>\n",
       "<table border=\"1\" class=\"dataframe\">\n",
       "  <thead>\n",
       "    <tr style=\"text-align: right;\">\n",
       "      <th></th>\n",
       "      <th>source_state</th>\n",
       "      <th>destination_state</th>\n",
       "      <th>trip_uuid</th>\n",
       "    </tr>\n",
       "  </thead>\n",
       "  <tbody>\n",
       "    <tr>\n",
       "      <th>0</th>\n",
       "      <td>Maharashtra</td>\n",
       "      <td>Maharashtra</td>\n",
       "      <td>2487</td>\n",
       "    </tr>\n",
       "    <tr>\n",
       "      <th>1</th>\n",
       "      <td>Karnataka</td>\n",
       "      <td>Karnataka</td>\n",
       "      <td>2129</td>\n",
       "    </tr>\n",
       "    <tr>\n",
       "      <th>2</th>\n",
       "      <td>Tamil Nadu</td>\n",
       "      <td>Tamil Nadu</td>\n",
       "      <td>1048</td>\n",
       "    </tr>\n",
       "    <tr>\n",
       "      <th>3</th>\n",
       "      <td>Haryana</td>\n",
       "      <td>Haryana</td>\n",
       "      <td>806</td>\n",
       "    </tr>\n",
       "    <tr>\n",
       "      <th>4</th>\n",
       "      <td>Gujarat</td>\n",
       "      <td>Gujarat</td>\n",
       "      <td>697</td>\n",
       "    </tr>\n",
       "    <tr>\n",
       "      <th>...</th>\n",
       "      <td>...</td>\n",
       "      <td>...</td>\n",
       "      <td>...</td>\n",
       "    </tr>\n",
       "    <tr>\n",
       "      <th>150</th>\n",
       "      <td>Punjab</td>\n",
       "      <td>Karnataka</td>\n",
       "      <td>1</td>\n",
       "    </tr>\n",
       "    <tr>\n",
       "      <th>151</th>\n",
       "      <td>Maharashtra</td>\n",
       "      <td>Punjab</td>\n",
       "      <td>1</td>\n",
       "    </tr>\n",
       "    <tr>\n",
       "      <th>152</th>\n",
       "      <td>Telangana</td>\n",
       "      <td>Haryana</td>\n",
       "      <td>1</td>\n",
       "    </tr>\n",
       "    <tr>\n",
       "      <th>153</th>\n",
       "      <td>Mizoram</td>\n",
       "      <td>Assam</td>\n",
       "      <td>1</td>\n",
       "    </tr>\n",
       "    <tr>\n",
       "      <th>154</th>\n",
       "      <td>Assam</td>\n",
       "      <td>Nagaland</td>\n",
       "      <td>1</td>\n",
       "    </tr>\n",
       "  </tbody>\n",
       "</table>\n",
       "<p>155 rows × 3 columns</p>\n",
       "</div>"
      ],
      "text/plain": [
       "    source_state destination_state  trip_uuid\n",
       "0    Maharashtra       Maharashtra       2487\n",
       "1      Karnataka         Karnataka       2129\n",
       "2     Tamil Nadu        Tamil Nadu       1048\n",
       "3        Haryana           Haryana        806\n",
       "4        Gujarat           Gujarat        697\n",
       "..           ...               ...        ...\n",
       "150       Punjab         Karnataka          1\n",
       "151  Maharashtra            Punjab          1\n",
       "152    Telangana           Haryana          1\n",
       "153      Mizoram             Assam          1\n",
       "154        Assam          Nagaland          1\n",
       "\n",
       "[155 rows x 3 columns]"
      ]
     },
     "execution_count": 136,
     "metadata": {},
     "output_type": "execute_result"
    }
   ],
   "source": [
    "highest_order_between_states = data.groupby([\"source_state\",\"destination_state\"])[\"trip_uuid\"].nunique().sort_values(ascending=False).reset_index()\n",
    "highest_order_between_states"
   ]
  },
  {
   "cell_type": "code",
   "execution_count": 137,
   "id": "a2d808b2",
   "metadata": {},
   "outputs": [
    {
     "data": {
      "text/html": [
       "<div>\n",
       "<style scoped>\n",
       "    .dataframe tbody tr th:only-of-type {\n",
       "        vertical-align: middle;\n",
       "    }\n",
       "\n",
       "    .dataframe tbody tr th {\n",
       "        vertical-align: top;\n",
       "    }\n",
       "\n",
       "    .dataframe thead th {\n",
       "        text-align: right;\n",
       "    }\n",
       "</style>\n",
       "<table border=\"1\" class=\"dataframe\">\n",
       "  <thead>\n",
       "    <tr style=\"text-align: right;\">\n",
       "      <th></th>\n",
       "      <th>source_state</th>\n",
       "      <th>destination_state</th>\n",
       "      <th>trip_uuid</th>\n",
       "    </tr>\n",
       "  </thead>\n",
       "  <tbody>\n",
       "    <tr>\n",
       "      <th>9</th>\n",
       "      <td>Delhi</td>\n",
       "      <td>Haryana</td>\n",
       "      <td>451</td>\n",
       "    </tr>\n",
       "    <tr>\n",
       "      <th>13</th>\n",
       "      <td>Haryana</td>\n",
       "      <td>Delhi</td>\n",
       "      <td>315</td>\n",
       "    </tr>\n",
       "    <tr>\n",
       "      <th>19</th>\n",
       "      <td>Haryana</td>\n",
       "      <td>Uttar Pradesh</td>\n",
       "      <td>140</td>\n",
       "    </tr>\n",
       "    <tr>\n",
       "      <th>20</th>\n",
       "      <td>Uttar Pradesh</td>\n",
       "      <td>Haryana</td>\n",
       "      <td>130</td>\n",
       "    </tr>\n",
       "    <tr>\n",
       "      <th>22</th>\n",
       "      <td>Chandigarh</td>\n",
       "      <td>Punjab</td>\n",
       "      <td>121</td>\n",
       "    </tr>\n",
       "    <tr>\n",
       "      <th>23</th>\n",
       "      <td>Delhi</td>\n",
       "      <td>Uttar Pradesh</td>\n",
       "      <td>110</td>\n",
       "    </tr>\n",
       "    <tr>\n",
       "      <th>25</th>\n",
       "      <td>Haryana</td>\n",
       "      <td>Punjab</td>\n",
       "      <td>103</td>\n",
       "    </tr>\n",
       "    <tr>\n",
       "      <th>26</th>\n",
       "      <td>Uttar Pradesh</td>\n",
       "      <td>Delhi</td>\n",
       "      <td>93</td>\n",
       "    </tr>\n",
       "    <tr>\n",
       "      <th>27</th>\n",
       "      <td>Andhra Pradesh</td>\n",
       "      <td>Telangana</td>\n",
       "      <td>91</td>\n",
       "    </tr>\n",
       "    <tr>\n",
       "      <th>28</th>\n",
       "      <td>Haryana</td>\n",
       "      <td>Rajasthan</td>\n",
       "      <td>84</td>\n",
       "    </tr>\n",
       "  </tbody>\n",
       "</table>\n",
       "</div>"
      ],
      "text/plain": [
       "      source_state destination_state  trip_uuid\n",
       "9            Delhi           Haryana        451\n",
       "13         Haryana             Delhi        315\n",
       "19         Haryana     Uttar Pradesh        140\n",
       "20   Uttar Pradesh           Haryana        130\n",
       "22      Chandigarh            Punjab        121\n",
       "23           Delhi     Uttar Pradesh        110\n",
       "25         Haryana            Punjab        103\n",
       "26   Uttar Pradesh             Delhi         93\n",
       "27  Andhra Pradesh         Telangana         91\n",
       "28         Haryana         Rajasthan         84"
      ]
     },
     "execution_count": 137,
     "metadata": {},
     "output_type": "execute_result"
    }
   ],
   "source": [
    "highest_order_between_states[highest_order_between_states[\"source_state\"]!=highest_order_between_states[\"destination_state\"]].head(10)"
   ]
  },
  {
   "cell_type": "code",
   "execution_count": null,
   "id": "3926862f",
   "metadata": {
    "scrolled": false
   },
   "outputs": [],
   "source": []
  },
  {
   "cell_type": "code",
   "execution_count": null,
   "id": "20f1c38b",
   "metadata": {},
   "outputs": [],
   "source": []
  },
  {
   "cell_type": "code",
   "execution_count": null,
   "id": "a642cc8b",
   "metadata": {},
   "outputs": [],
   "source": []
  },
  {
   "cell_type": "code",
   "execution_count": null,
   "id": "17c41e1a",
   "metadata": {},
   "outputs": [],
   "source": []
  },
  {
   "cell_type": "markdown",
   "id": "ceea2ea5",
   "metadata": {},
   "source": [
    "# mean segment actual time taken between two cities "
   ]
  },
  {
   "cell_type": "code",
   "execution_count": 138,
   "id": "94784e68",
   "metadata": {},
   "outputs": [],
   "source": [
    "City_time_durations = (((data.groupby([\"source_city_state\",\n",
    "               \"destination_city_state\",\n",
    "               \"trip_uuid\"])[\"segment_actual_time\"].sum().reset_index()).groupby([\"source_city_state\",\"destination_city_state\"])[\"segment_actual_time\"].mean())/60).reset_index()"
   ]
  },
  {
   "cell_type": "code",
   "execution_count": 139,
   "id": "ca34b295",
   "metadata": {},
   "outputs": [],
   "source": [
    "City_time_durations.columns = [\"source_city_state\",\"destination_city_state\",\"average_time_between_cities\"]\n"
   ]
  },
  {
   "cell_type": "code",
   "execution_count": 140,
   "id": "c0ffe546",
   "metadata": {},
   "outputs": [
    {
     "data": {
      "text/html": [
       "<div>\n",
       "<style scoped>\n",
       "    .dataframe tbody tr th:only-of-type {\n",
       "        vertical-align: middle;\n",
       "    }\n",
       "\n",
       "    .dataframe tbody tr th {\n",
       "        vertical-align: top;\n",
       "    }\n",
       "\n",
       "    .dataframe thead th {\n",
       "        text-align: right;\n",
       "    }\n",
       "</style>\n",
       "<table border=\"1\" class=\"dataframe\">\n",
       "  <thead>\n",
       "    <tr style=\"text-align: right;\">\n",
       "      <th></th>\n",
       "      <th>source_city_state</th>\n",
       "      <th>destination_city_state</th>\n",
       "      <th>average_time_between_cities</th>\n",
       "    </tr>\n",
       "  </thead>\n",
       "  <tbody>\n",
       "    <tr>\n",
       "      <th>439</th>\n",
       "      <td>Chandigarh Punjab</td>\n",
       "      <td>Bengaluru Karnataka</td>\n",
       "      <td>62.516667</td>\n",
       "    </tr>\n",
       "    <tr>\n",
       "      <th>838</th>\n",
       "      <td>Guwahati Assam</td>\n",
       "      <td>Delhi Delhi</td>\n",
       "      <td>55.696078</td>\n",
       "    </tr>\n",
       "    <tr>\n",
       "      <th>569</th>\n",
       "      <td>Delhi Delhi</td>\n",
       "      <td>Guwahati Assam</td>\n",
       "      <td>54.683333</td>\n",
       "    </tr>\n",
       "    <tr>\n",
       "      <th>1251</th>\n",
       "      <td>Kolkata West Bengal</td>\n",
       "      <td>Bhiwandi Maharashtra</td>\n",
       "      <td>52.353333</td>\n",
       "    </tr>\n",
       "    <tr>\n",
       "      <th>821</th>\n",
       "      <td>Gurgaon Haryana</td>\n",
       "      <td>MAA Tamil Nadu</td>\n",
       "      <td>51.514286</td>\n",
       "    </tr>\n",
       "    <tr>\n",
       "      <th>255</th>\n",
       "      <td>Bengaluru Karnataka</td>\n",
       "      <td>Kolkata West Bengal</td>\n",
       "      <td>50.172222</td>\n",
       "    </tr>\n",
       "    <tr>\n",
       "      <th>322</th>\n",
       "      <td>Bhiwandi Maharashtra</td>\n",
       "      <td>Kolkata West Bengal</td>\n",
       "      <td>48.366667</td>\n",
       "    </tr>\n",
       "    <tr>\n",
       "      <th>441</th>\n",
       "      <td>Chandigarh Punjab</td>\n",
       "      <td>Bhiwandi Maharashtra</td>\n",
       "      <td>47.783333</td>\n",
       "    </tr>\n",
       "    <tr>\n",
       "      <th>797</th>\n",
       "      <td>Gurgaon Haryana</td>\n",
       "      <td>Bengaluru Karnataka</td>\n",
       "      <td>47.735606</td>\n",
       "    </tr>\n",
       "    <tr>\n",
       "      <th>244</th>\n",
       "      <td>Bengaluru Karnataka</td>\n",
       "      <td>Gurgaon Haryana</td>\n",
       "      <td>46.076667</td>\n",
       "    </tr>\n",
       "  </tbody>\n",
       "</table>\n",
       "</div>"
      ],
      "text/plain": [
       "         source_city_state destination_city_state  average_time_between_cities\n",
       "439      Chandigarh Punjab    Bengaluru Karnataka                    62.516667\n",
       "838         Guwahati Assam            Delhi Delhi                    55.696078\n",
       "569            Delhi Delhi         Guwahati Assam                    54.683333\n",
       "1251   Kolkata West Bengal   Bhiwandi Maharashtra                    52.353333\n",
       "821        Gurgaon Haryana         MAA Tamil Nadu                    51.514286\n",
       "255    Bengaluru Karnataka    Kolkata West Bengal                    50.172222\n",
       "322   Bhiwandi Maharashtra    Kolkata West Bengal                    48.366667\n",
       "441      Chandigarh Punjab   Bhiwandi Maharashtra                    47.783333\n",
       "797        Gurgaon Haryana    Bengaluru Karnataka                    47.735606\n",
       "244    Bengaluru Karnataka        Gurgaon Haryana                    46.076667"
      ]
     },
     "execution_count": 140,
     "metadata": {},
     "output_type": "execute_result"
    }
   ],
   "source": [
    "City_time_durations.sort_values(by=\"average_time_between_cities\",ascending=False).head(10)"
   ]
  },
  {
   "cell_type": "code",
   "execution_count": null,
   "id": "424f2783",
   "metadata": {},
   "outputs": [],
   "source": []
  },
  {
   "cell_type": "markdown",
   "id": "a4041ece",
   "metadata": {},
   "source": [
    "## highers orders delivered from and to : "
   ]
  },
  {
   "cell_type": "code",
   "execution_count": 141,
   "id": "6c87429c",
   "metadata": {},
   "outputs": [
    {
     "data": {
      "text/plain": [
       "source_city_state                     destination_city_state                         \n",
       "Bengaluru Karnataka                   Bengaluru Karnataka                                1369\n",
       "Bhiwandi Maharashtra                  Mumbai Maharashtra                                  407\n",
       "Hyderabad Telangana                   Hyderabad Telangana                                 308\n",
       "Mumbai Maharashtra                    Bhiwandi Maharashtra                                282\n",
       "                                      Mumbai Maharashtra                                  252\n",
       "Delhi Delhi                           Gurgaon Haryana                                     248\n",
       "Gurgaon Haryana                       Delhi Delhi                                         237\n",
       "Mumbai Hub (Maharashtra) Maharashtra  Mumbai Maharashtra                                  227\n",
       "Chennai Tamil Nadu                    Chennai Tamil Nadu                                  205\n",
       "MAA Tamil Nadu                        Chennai Tamil Nadu                                  204\n",
       "Chennai Tamil Nadu                    MAA Tamil Nadu                                      141\n",
       "Bengaluru Karnataka                   HBR Layout PC (Karnataka) Karnataka                 133\n",
       "Ahmedabad Gujarat                     Ahmedabad Gujarat                                   131\n",
       "Delhi Delhi                           Delhi Delhi                                         109\n",
       "Pune Maharashtra                      Bhiwandi Maharashtra                                107\n",
       "Bhiwandi Maharashtra                  Mumbai Hub (Maharashtra) Maharashtra                105\n",
       "Pune Maharashtra                      Pune Maharashtra                                    101\n",
       "Chandigarh Chandigarh                 Chandigarh Punjab                                    99\n",
       "Kolkata West Bengal                   CCU West Bengal                                      96\n",
       "Mumbai Maharashtra                    Mumbai Hub (Maharashtra) Maharashtra                 93\n",
       "Gurgaon Haryana                       Sonipat Haryana                                      92\n",
       "Jaipur Rajasthan                      Jaipur Rajasthan                                     87\n",
       "Sonipat Haryana                       Gurgaon Haryana                                      86\n",
       "Chandigarh Punjab                     Chandigarh Chandigarh                                83\n",
       "HBR Layout PC (Karnataka) Karnataka   Bengaluru Karnataka                                  79\n",
       "Bengaluru Karnataka                   BLR Karnataka                                        78\n",
       "Surat Gujarat                         Surat Gujarat                                        77\n",
       "Del Delhi                             Gurgaon Haryana                                      76\n",
       "Bhiwandi Maharashtra                  Pune Maharashtra                                     72\n",
       "Ludhiana Punjab                       Chandigarh Punjab                                    71\n",
       "Chandigarh Punjab                     Gurgaon Haryana                                      66\n",
       "Gurgaon Haryana                       Bengaluru Karnataka                                  66\n",
       "Mumbai Hub (Maharashtra) Maharashtra  Bhiwandi Maharashtra                                 63\n",
       "Kolkata West Bengal                   Kolkata West Bengal                                  63\n",
       "CCU West Bengal                       Kolkata West Bengal                                  61\n",
       "Gurgaon Haryana                       Chandigarh Punjab                                    58\n",
       "Sonipat Haryana                       Sonipat Haryana                                      58\n",
       "Gurgaon Haryana                       Faridabad Haryana                                    57\n",
       "                                      GGN Haryana                                          57\n",
       "Kanpur Uttar Pradesh                  Kanpur Uttar Pradesh                                 55\n",
       "Gurgaon Haryana                       Gurgaon Haryana                                      54\n",
       "LowerParel Maharashtra                Mumbai Maharashtra                                   53\n",
       "Gurgaon Haryana                       Jaipur Rajasthan                                     50\n",
       "Guwahati Assam                        Guwahati Assam                                       49\n",
       "Bhopal Madhya Pradesh                 Bhopal Madhya Pradesh                                48\n",
       "Gurgaon Haryana                       Kolkata West Bengal                                  48\n",
       "                                      Noida Uttar Pradesh                                  48\n",
       "Delhi Delhi                           FBD Haryana                                          46\n",
       "Bengaluru Karnataka                   Gurgaon Haryana                                      45\n",
       "Pune Maharashtra                      PNQ Vadgaon Sheri DPC (Maharashtra) Maharashtra      45\n",
       "Name: trip_uuid, dtype: int64"
      ]
     },
     "execution_count": 141,
     "metadata": {},
     "output_type": "execute_result"
    }
   ],
   "source": [
    "data.groupby([\"source_city_state\",\"destination_city_state\"])[\"trip_uuid\"].nunique().sort_values(ascending =False).head(50)"
   ]
  },
  {
   "cell_type": "code",
   "execution_count": null,
   "id": "33c3ef2e",
   "metadata": {},
   "outputs": [],
   "source": []
  },
  {
   "cell_type": "code",
   "execution_count": null,
   "id": "69b1b1c2",
   "metadata": {},
   "outputs": [],
   "source": []
  },
  {
   "cell_type": "code",
   "execution_count": null,
   "id": "e2811168",
   "metadata": {},
   "outputs": [],
   "source": []
  },
  {
   "cell_type": "code",
   "execution_count": null,
   "id": "950331e3",
   "metadata": {},
   "outputs": [],
   "source": []
  },
  {
   "cell_type": "markdown",
   "id": "e043961d",
   "metadata": {},
   "source": [
    "## busiest Junction"
   ]
  },
  {
   "cell_type": "code",
   "execution_count": 142,
   "id": "3a79ffc2",
   "metadata": {},
   "outputs": [],
   "source": [
    "source_traffic = data.groupby([\"source_city_state\"])[\"trip_uuid\"].count().reset_index()"
   ]
  },
  {
   "cell_type": "code",
   "execution_count": 143,
   "id": "600e41c5",
   "metadata": {},
   "outputs": [],
   "source": [
    "destination_traffic = data.groupby([\"destination_city_state\"])[\"trip_uuid\"].count().reset_index()"
   ]
  },
  {
   "cell_type": "code",
   "execution_count": 144,
   "id": "987d5048",
   "metadata": {},
   "outputs": [],
   "source": [
    "traffic = source_traffic.merge(destination_traffic,\n",
    "                               left_on=\"source_city_state\"\n",
    "                               ,right_on=\"destination_city_state\")"
   ]
  },
  {
   "cell_type": "code",
   "execution_count": 145,
   "id": "e5ae8439",
   "metadata": {},
   "outputs": [
    {
     "data": {
      "text/html": [
       "<div>\n",
       "<style scoped>\n",
       "    .dataframe tbody tr th:only-of-type {\n",
       "        vertical-align: middle;\n",
       "    }\n",
       "\n",
       "    .dataframe tbody tr th {\n",
       "        vertical-align: top;\n",
       "    }\n",
       "\n",
       "    .dataframe thead th {\n",
       "        text-align: right;\n",
       "    }\n",
       "</style>\n",
       "<table border=\"1\" class=\"dataframe\">\n",
       "  <thead>\n",
       "    <tr style=\"text-align: right;\">\n",
       "      <th></th>\n",
       "      <th>source_city_state</th>\n",
       "      <th>trip_uuid_x</th>\n",
       "      <th>destination_city_state</th>\n",
       "      <th>trip_uuid_y</th>\n",
       "    </tr>\n",
       "  </thead>\n",
       "  <tbody>\n",
       "    <tr>\n",
       "      <th>383</th>\n",
       "      <td>Gurgaon Haryana</td>\n",
       "      <td>23665</td>\n",
       "      <td>Gurgaon Haryana</td>\n",
       "      <td>15393</td>\n",
       "    </tr>\n",
       "    <tr>\n",
       "      <th>124</th>\n",
       "      <td>Bengaluru Karnataka</td>\n",
       "      <td>14341</td>\n",
       "      <td>Bengaluru Karnataka</td>\n",
       "      <td>15283</td>\n",
       "    </tr>\n",
       "    <tr>\n",
       "      <th>152</th>\n",
       "      <td>Bhiwandi Maharashtra</td>\n",
       "      <td>9088</td>\n",
       "      <td>Bhiwandi Maharashtra</td>\n",
       "      <td>5586</td>\n",
       "    </tr>\n",
       "    <tr>\n",
       "      <th>885</th>\n",
       "      <td>Pune Maharashtra</td>\n",
       "      <td>4269</td>\n",
       "      <td>Pune Maharashtra</td>\n",
       "      <td>3845</td>\n",
       "    </tr>\n",
       "    <tr>\n",
       "      <th>424</th>\n",
       "      <td>Hyderabad Telangana</td>\n",
       "      <td>4023</td>\n",
       "      <td>Hyderabad Telangana</td>\n",
       "      <td>5838</td>\n",
       "    </tr>\n",
       "    <tr>\n",
       "      <th>270</th>\n",
       "      <td>Delhi Delhi</td>\n",
       "      <td>3587</td>\n",
       "      <td>Delhi Delhi</td>\n",
       "      <td>5429</td>\n",
       "    </tr>\n",
       "    <tr>\n",
       "      <th>580</th>\n",
       "      <td>Kolkata West Bengal</td>\n",
       "      <td>2844</td>\n",
       "      <td>Kolkata West Bengal</td>\n",
       "      <td>5221</td>\n",
       "    </tr>\n",
       "    <tr>\n",
       "      <th>209</th>\n",
       "      <td>Chandigarh Punjab</td>\n",
       "      <td>2450</td>\n",
       "      <td>Chandigarh Punjab</td>\n",
       "      <td>2886</td>\n",
       "    </tr>\n",
       "    <tr>\n",
       "      <th>1066</th>\n",
       "      <td>Surat Gujarat</td>\n",
       "      <td>2362</td>\n",
       "      <td>Surat Gujarat</td>\n",
       "      <td>1185</td>\n",
       "    </tr>\n",
       "    <tr>\n",
       "      <th>6</th>\n",
       "      <td>Ahmedabad Gujarat</td>\n",
       "      <td>1961</td>\n",
       "      <td>Ahmedabad Gujarat</td>\n",
       "      <td>2168</td>\n",
       "    </tr>\n",
       "  </tbody>\n",
       "</table>\n",
       "</div>"
      ],
      "text/plain": [
       "         source_city_state  trip_uuid_x destination_city_state  trip_uuid_y\n",
       "383        Gurgaon Haryana        23665        Gurgaon Haryana        15393\n",
       "124    Bengaluru Karnataka        14341    Bengaluru Karnataka        15283\n",
       "152   Bhiwandi Maharashtra         9088   Bhiwandi Maharashtra         5586\n",
       "885       Pune Maharashtra         4269       Pune Maharashtra         3845\n",
       "424    Hyderabad Telangana         4023    Hyderabad Telangana         5838\n",
       "270            Delhi Delhi         3587            Delhi Delhi         5429\n",
       "580    Kolkata West Bengal         2844    Kolkata West Bengal         5221\n",
       "209      Chandigarh Punjab         2450      Chandigarh Punjab         2886\n",
       "1066         Surat Gujarat         2362          Surat Gujarat         1185\n",
       "6        Ahmedabad Gujarat         1961      Ahmedabad Gujarat         2168"
      ]
     },
     "execution_count": 145,
     "metadata": {},
     "output_type": "execute_result"
    }
   ],
   "source": [
    "traffic.sort_values(by=[\"trip_uuid_x\",\"trip_uuid_y\"],ascending=False).head(10)"
   ]
  },
  {
   "cell_type": "code",
   "execution_count": null,
   "id": "42252557",
   "metadata": {},
   "outputs": [],
   "source": []
  },
  {
   "cell_type": "code",
   "execution_count": null,
   "id": "6c412f28",
   "metadata": {},
   "outputs": [],
   "source": []
  },
  {
   "cell_type": "code",
   "execution_count": null,
   "id": "271b6dcb",
   "metadata": {},
   "outputs": [],
   "source": []
  },
  {
   "cell_type": "code",
   "execution_count": null,
   "id": "ec9061d5",
   "metadata": {},
   "outputs": [],
   "source": []
  },
  {
   "cell_type": "code",
   "execution_count": null,
   "id": "0fab1ce5",
   "metadata": {},
   "outputs": [],
   "source": []
  },
  {
   "cell_type": "code",
   "execution_count": null,
   "id": "1e715249",
   "metadata": {},
   "outputs": [],
   "source": []
  },
  {
   "cell_type": "code",
   "execution_count": null,
   "id": "f448da95",
   "metadata": {},
   "outputs": [],
   "source": []
  },
  {
   "cell_type": "markdown",
   "id": "9f0a91fd",
   "metadata": {},
   "source": [
    "# per trip_uuid analysis: "
   ]
  },
  {
   "cell_type": "code",
   "execution_count": 146,
   "id": "95ddd982",
   "metadata": {},
   "outputs": [
    {
     "data": {
      "text/plain": [
       "Index(['data', 'route_schedule_uuid', 'route_type', 'trip_uuid',\n",
       "       'start_scan_to_end_scan', 'is_cutoff', 'cutoff_factor',\n",
       "       'actual_distance_to_destination', 'actual_time', 'osrm_time',\n",
       "       'osrm_distance', 'factor', 'segment_actual_time', 'segment_osrm_time',\n",
       "       'segment_osrm_distance', 'segment_factor', 'trip_creation_day',\n",
       "       'source_city', 'source_state', 'source_code', 'source_place',\n",
       "       'destination_city', 'destination_state', 'destination_code',\n",
       "       'destination_place', 'source_city_state', 'destination_city_state',\n",
       "       'source_pincode', 'destination_pincode',\n",
       "       'time_taken_btwn_odstart_and_od_end'],\n",
       "      dtype='object')"
      ]
     },
     "execution_count": 146,
     "metadata": {},
     "output_type": "execute_result"
    }
   ],
   "source": [
    "data.columns"
   ]
  },
  {
   "cell_type": "code",
   "execution_count": 147,
   "id": "7d7061c5",
   "metadata": {},
   "outputs": [],
   "source": [
    "w = data.groupby([\"trip_uuid\"])[[\"source_city\",\"destination_city\"]].aggregate({\n",
    "    \"source_city\":pd.unique,\n",
    "    \"destination_city\":pd.unique\n",
    "}).reset_index()"
   ]
  },
  {
   "cell_type": "code",
   "execution_count": 148,
   "id": "77e43e72",
   "metadata": {},
   "outputs": [],
   "source": [
    "x = data.groupby([\"trip_uuid\"])[[\"source_state\",\"destination_state\"]].aggregate({\n",
    "    \"source_state\":pd.unique,\n",
    "    \"destination_state\":pd.unique\n",
    "}).reset_index()"
   ]
  },
  {
   "cell_type": "code",
   "execution_count": 149,
   "id": "d7234f5f",
   "metadata": {},
   "outputs": [],
   "source": [
    "y = (((data.groupby([\"trip_uuid\",\n",
    "                     \"start_scan_to_end_scan\"])[\"actual_distance_to_destination\"].max()).reset_index()).groupby(\"trip_uuid\")[\"actual_distance_to_destination\"].sum()).reset_index()"
   ]
  },
  {
   "cell_type": "code",
   "execution_count": 150,
   "id": "c65757c4",
   "metadata": {},
   "outputs": [],
   "source": [
    "z = ((((data.groupby([\"trip_uuid\",\n",
    "                      \"start_scan_to_end_scan\"])[\"actual_time\"].max()).reset_index()).groupby(\"trip_uuid\")[\"actual_time\"].sum())/60).reset_index()"
   ]
  },
  {
   "cell_type": "code",
   "execution_count": 151,
   "id": "223a7a9c",
   "metadata": {
    "scrolled": false
   },
   "outputs": [],
   "source": [
    "final = z.merge(y.merge((w.merge(x,on = \"trip_uuid\")),on=\"trip_uuid\"),on=\"trip_uuid\")\n"
   ]
  },
  {
   "cell_type": "code",
   "execution_count": 152,
   "id": "70046c0a",
   "metadata": {},
   "outputs": [],
   "source": [
    "routid = (data.groupby(\"trip_uuid\")[\"route_schedule_uuid\"].unique()).apply(lambda x:x[0])"
   ]
  },
  {
   "cell_type": "code",
   "execution_count": 153,
   "id": "a9b33c4a",
   "metadata": {
    "scrolled": false
   },
   "outputs": [],
   "source": [
    "final = routid.reset_index().merge(final,on=\"trip_uuid\")"
   ]
  },
  {
   "cell_type": "code",
   "execution_count": 154,
   "id": "2b289c73",
   "metadata": {},
   "outputs": [
    {
     "data": {
      "text/html": [
       "<div>\n",
       "<style scoped>\n",
       "    .dataframe tbody tr th:only-of-type {\n",
       "        vertical-align: middle;\n",
       "    }\n",
       "\n",
       "    .dataframe tbody tr th {\n",
       "        vertical-align: top;\n",
       "    }\n",
       "\n",
       "    .dataframe thead th {\n",
       "        text-align: right;\n",
       "    }\n",
       "</style>\n",
       "<table border=\"1\" class=\"dataframe\">\n",
       "  <thead>\n",
       "    <tr style=\"text-align: right;\">\n",
       "      <th></th>\n",
       "      <th>trip_uuid</th>\n",
       "      <th>route_schedule_uuid</th>\n",
       "      <th>actual_time</th>\n",
       "      <th>actual_distance_to_destination</th>\n",
       "      <th>source_city</th>\n",
       "      <th>destination_city</th>\n",
       "      <th>source_state</th>\n",
       "      <th>destination_state</th>\n",
       "    </tr>\n",
       "  </thead>\n",
       "  <tbody>\n",
       "    <tr>\n",
       "      <th>0</th>\n",
       "      <td>trip-153671041653548748</td>\n",
       "      <td>thanos::sroute:d7c989ba-a29b-4a0b-b2f4-288cdc6...</td>\n",
       "      <td>26.033333</td>\n",
       "      <td>824.732854</td>\n",
       "      <td>[Bhopal, Kanpur]</td>\n",
       "      <td>[Kanpur, Gurgaon]</td>\n",
       "      <td>[Madhya Pradesh, Uttar Pradesh]</td>\n",
       "      <td>[Uttar Pradesh, Haryana]</td>\n",
       "    </tr>\n",
       "    <tr>\n",
       "      <th>1</th>\n",
       "      <td>trip-153671042288605164</td>\n",
       "      <td>thanos::sroute:3a1b0ab2-bb0b-4c53-8c59-eb2a2c0...</td>\n",
       "      <td>2.383333</td>\n",
       "      <td>73.186911</td>\n",
       "      <td>[Tumkur, Doddablpur]</td>\n",
       "      <td>[Doddablpur, Chikblapur]</td>\n",
       "      <td>Karnataka</td>\n",
       "      <td>Karnataka</td>\n",
       "    </tr>\n",
       "    <tr>\n",
       "      <th>2</th>\n",
       "      <td>trip-153671043369099517</td>\n",
       "      <td>thanos::sroute:de5e208e-7641-45e6-8100-4d9fb1e...</td>\n",
       "      <td>55.783333</td>\n",
       "      <td>1932.273969</td>\n",
       "      <td>[Bengaluru, Gurgaon]</td>\n",
       "      <td>[Gurgaon, Chandigarh]</td>\n",
       "      <td>[Karnataka, Haryana]</td>\n",
       "      <td>[Haryana, Punjab]</td>\n",
       "    </tr>\n",
       "    <tr>\n",
       "      <th>3</th>\n",
       "      <td>trip-153671046011330457</td>\n",
       "      <td>thanos::sroute:f0176492-a679-4597-8332-bbd1c7f...</td>\n",
       "      <td>0.983333</td>\n",
       "      <td>17.175274</td>\n",
       "      <td>Mumbai Hub (Maharashtra)</td>\n",
       "      <td>Mumbai</td>\n",
       "      <td>Maharashtra</td>\n",
       "      <td>Maharashtra</td>\n",
       "    </tr>\n",
       "    <tr>\n",
       "      <th>4</th>\n",
       "      <td>trip-153671052974046625</td>\n",
       "      <td>thanos::sroute:d9f07b12-65e0-4f3b-bec8-df06134...</td>\n",
       "      <td>5.683333</td>\n",
       "      <td>127.448500</td>\n",
       "      <td>[Bellary, Hospet (Karnataka), Sandur]</td>\n",
       "      <td>[Hospet (Karnataka), Sandur, Bellary]</td>\n",
       "      <td>Karnataka</td>\n",
       "      <td>Karnataka</td>\n",
       "    </tr>\n",
       "    <tr>\n",
       "      <th>5</th>\n",
       "      <td>trip-153671055416136166</td>\n",
       "      <td>thanos::sroute:9bf03170-d0a2-4a3f-aa4d-9aaab3d...</td>\n",
       "      <td>1.016667</td>\n",
       "      <td>24.597048</td>\n",
       "      <td>Chennai</td>\n",
       "      <td>Chennai</td>\n",
       "      <td>Tamil Nadu</td>\n",
       "      <td>Tamil Nadu</td>\n",
       "    </tr>\n",
       "    <tr>\n",
       "      <th>6</th>\n",
       "      <td>trip-153671066201138152</td>\n",
       "      <td>thanos::sroute:a97698cc-846e-41a7-916b-88b1741...</td>\n",
       "      <td>0.400000</td>\n",
       "      <td>9.100510</td>\n",
       "      <td>Chennai</td>\n",
       "      <td>Chennai</td>\n",
       "      <td>Tamil Nadu</td>\n",
       "      <td>Tamil Nadu</td>\n",
       "    </tr>\n",
       "    <tr>\n",
       "      <th>7</th>\n",
       "      <td>trip-153671066826362165</td>\n",
       "      <td>thanos::sroute:d5b71ae9-a11a-4f52-bcb7-274b65e...</td>\n",
       "      <td>1.066667</td>\n",
       "      <td>22.424210</td>\n",
       "      <td>[HBR Layout PC (Karnataka), Bengaluru]</td>\n",
       "      <td>[Bengaluru, HBR Layout PC (Karnataka)]</td>\n",
       "      <td>Karnataka</td>\n",
       "      <td>Karnataka</td>\n",
       "    </tr>\n",
       "    <tr>\n",
       "      <th>8</th>\n",
       "      <td>trip-153671074033284934</td>\n",
       "      <td>thanos::sroute:a0e60427-16ad-4b17-b3b0-6a06643...</td>\n",
       "      <td>2.683333</td>\n",
       "      <td>25.454848</td>\n",
       "      <td>Surat</td>\n",
       "      <td>Surat</td>\n",
       "      <td>Gujarat</td>\n",
       "      <td>Gujarat</td>\n",
       "    </tr>\n",
       "    <tr>\n",
       "      <th>9</th>\n",
       "      <td>trip-153671079956500691</td>\n",
       "      <td>thanos::sroute:a10888ff-f794-41e1-9b7a-7f62ef6...</td>\n",
       "      <td>0.383333</td>\n",
       "      <td>9.872146</td>\n",
       "      <td>Delhi</td>\n",
       "      <td>Delhi</td>\n",
       "      <td>Delhi</td>\n",
       "      <td>Delhi</td>\n",
       "    </tr>\n",
       "  </tbody>\n",
       "</table>\n",
       "</div>"
      ],
      "text/plain": [
       "                 trip_uuid                                route_schedule_uuid  \\\n",
       "0  trip-153671041653548748  thanos::sroute:d7c989ba-a29b-4a0b-b2f4-288cdc6...   \n",
       "1  trip-153671042288605164  thanos::sroute:3a1b0ab2-bb0b-4c53-8c59-eb2a2c0...   \n",
       "2  trip-153671043369099517  thanos::sroute:de5e208e-7641-45e6-8100-4d9fb1e...   \n",
       "3  trip-153671046011330457  thanos::sroute:f0176492-a679-4597-8332-bbd1c7f...   \n",
       "4  trip-153671052974046625  thanos::sroute:d9f07b12-65e0-4f3b-bec8-df06134...   \n",
       "5  trip-153671055416136166  thanos::sroute:9bf03170-d0a2-4a3f-aa4d-9aaab3d...   \n",
       "6  trip-153671066201138152  thanos::sroute:a97698cc-846e-41a7-916b-88b1741...   \n",
       "7  trip-153671066826362165  thanos::sroute:d5b71ae9-a11a-4f52-bcb7-274b65e...   \n",
       "8  trip-153671074033284934  thanos::sroute:a0e60427-16ad-4b17-b3b0-6a06643...   \n",
       "9  trip-153671079956500691  thanos::sroute:a10888ff-f794-41e1-9b7a-7f62ef6...   \n",
       "\n",
       "   actual_time  actual_distance_to_destination  \\\n",
       "0    26.033333                      824.732854   \n",
       "1     2.383333                       73.186911   \n",
       "2    55.783333                     1932.273969   \n",
       "3     0.983333                       17.175274   \n",
       "4     5.683333                      127.448500   \n",
       "5     1.016667                       24.597048   \n",
       "6     0.400000                        9.100510   \n",
       "7     1.066667                       22.424210   \n",
       "8     2.683333                       25.454848   \n",
       "9     0.383333                        9.872146   \n",
       "\n",
       "                              source_city  \\\n",
       "0                        [Bhopal, Kanpur]   \n",
       "1                    [Tumkur, Doddablpur]   \n",
       "2                    [Bengaluru, Gurgaon]   \n",
       "3                Mumbai Hub (Maharashtra)   \n",
       "4   [Bellary, Hospet (Karnataka), Sandur]   \n",
       "5                                 Chennai   \n",
       "6                                 Chennai   \n",
       "7  [HBR Layout PC (Karnataka), Bengaluru]   \n",
       "8                                   Surat   \n",
       "9                                   Delhi   \n",
       "\n",
       "                         destination_city                     source_state  \\\n",
       "0                       [Kanpur, Gurgaon]  [Madhya Pradesh, Uttar Pradesh]   \n",
       "1                [Doddablpur, Chikblapur]                        Karnataka   \n",
       "2                   [Gurgaon, Chandigarh]             [Karnataka, Haryana]   \n",
       "3                                  Mumbai                      Maharashtra   \n",
       "4   [Hospet (Karnataka), Sandur, Bellary]                        Karnataka   \n",
       "5                                 Chennai                       Tamil Nadu   \n",
       "6                                 Chennai                       Tamil Nadu   \n",
       "7  [Bengaluru, HBR Layout PC (Karnataka)]                        Karnataka   \n",
       "8                                   Surat                          Gujarat   \n",
       "9                                   Delhi                            Delhi   \n",
       "\n",
       "          destination_state  \n",
       "0  [Uttar Pradesh, Haryana]  \n",
       "1                 Karnataka  \n",
       "2         [Haryana, Punjab]  \n",
       "3               Maharashtra  \n",
       "4                 Karnataka  \n",
       "5                Tamil Nadu  \n",
       "6                Tamil Nadu  \n",
       "7                 Karnataka  \n",
       "8                   Gujarat  \n",
       "9                     Delhi  "
      ]
     },
     "execution_count": 154,
     "metadata": {},
     "output_type": "execute_result"
    }
   ],
   "source": [
    "final.head(10)"
   ]
  },
  {
   "cell_type": "code",
   "execution_count": null,
   "id": "f2efe18e",
   "metadata": {},
   "outputs": [],
   "source": []
  },
  {
   "cell_type": "code",
   "execution_count": null,
   "id": "b5befbd0",
   "metadata": {},
   "outputs": [],
   "source": []
  },
  {
   "cell_type": "code",
   "execution_count": null,
   "id": "c5b2ea3b",
   "metadata": {},
   "outputs": [],
   "source": []
  },
  {
   "cell_type": "code",
   "execution_count": null,
   "id": "78900459",
   "metadata": {},
   "outputs": [],
   "source": []
  },
  {
   "cell_type": "code",
   "execution_count": null,
   "id": "5ee4e0cd",
   "metadata": {},
   "outputs": [],
   "source": []
  },
  {
   "cell_type": "code",
   "execution_count": null,
   "id": "ec782cbc",
   "metadata": {},
   "outputs": [],
   "source": []
  },
  {
   "cell_type": "markdown",
   "id": "59503e72",
   "metadata": {},
   "source": [
    "## Route analysis : "
   ]
  },
  {
   "cell_type": "code",
   "execution_count": null,
   "id": "26e1788b",
   "metadata": {},
   "outputs": [],
   "source": []
  },
  {
   "cell_type": "code",
   "execution_count": null,
   "id": "b5ef193c",
   "metadata": {},
   "outputs": [],
   "source": []
  },
  {
   "cell_type": "code",
   "execution_count": 173,
   "id": "0fc9254a",
   "metadata": {},
   "outputs": [],
   "source": [
    "A = data.groupby(\"route_schedule_uuid\")[\"route_type\"].unique().reset_index()"
   ]
  },
  {
   "cell_type": "code",
   "execution_count": 174,
   "id": "65d401b7",
   "metadata": {},
   "outputs": [
    {
     "data": {
      "text/html": [
       "<div>\n",
       "<style scoped>\n",
       "    .dataframe tbody tr th:only-of-type {\n",
       "        vertical-align: middle;\n",
       "    }\n",
       "\n",
       "    .dataframe tbody tr th {\n",
       "        vertical-align: top;\n",
       "    }\n",
       "\n",
       "    .dataframe thead th {\n",
       "        text-align: right;\n",
       "    }\n",
       "</style>\n",
       "<table border=\"1\" class=\"dataframe\">\n",
       "  <thead>\n",
       "    <tr style=\"text-align: right;\">\n",
       "      <th></th>\n",
       "      <th>route_schedule_uuid</th>\n",
       "      <th>route_type</th>\n",
       "    </tr>\n",
       "  </thead>\n",
       "  <tbody>\n",
       "    <tr>\n",
       "      <th>0</th>\n",
       "      <td>thanos::sroute:0007affd-fd01-4cf0-8a4f-90419df...</td>\n",
       "      <td>[Carting]</td>\n",
       "    </tr>\n",
       "    <tr>\n",
       "      <th>1</th>\n",
       "      <td>thanos::sroute:00435307-de7f-4439-bd6a-5a2a9a3...</td>\n",
       "      <td>[Carting]</td>\n",
       "    </tr>\n",
       "    <tr>\n",
       "      <th>2</th>\n",
       "      <td>thanos::sroute:00a74fab-a3ac-44df-b83a-cbf181b...</td>\n",
       "      <td>[FTL]</td>\n",
       "    </tr>\n",
       "    <tr>\n",
       "      <th>3</th>\n",
       "      <td>thanos::sroute:00b294b8-d2c3-4bca-a3be-684f462...</td>\n",
       "      <td>[Carting]</td>\n",
       "    </tr>\n",
       "    <tr>\n",
       "      <th>4</th>\n",
       "      <td>thanos::sroute:01164881-301e-45f8-bacd-ee21c37...</td>\n",
       "      <td>[FTL]</td>\n",
       "    </tr>\n",
       "    <tr>\n",
       "      <th>...</th>\n",
       "      <td>...</td>\n",
       "      <td>...</td>\n",
       "    </tr>\n",
       "    <tr>\n",
       "      <th>1499</th>\n",
       "      <td>thanos::sroute:ff52ef7a-4d0d-4063-9bfe-cc21172...</td>\n",
       "      <td>[FTL]</td>\n",
       "    </tr>\n",
       "    <tr>\n",
       "      <th>1500</th>\n",
       "      <td>thanos::sroute:ff6d6662-580b-43c3-810c-ba30270...</td>\n",
       "      <td>[Carting]</td>\n",
       "    </tr>\n",
       "    <tr>\n",
       "      <th>1501</th>\n",
       "      <td>thanos::sroute:ff9b1c17-a70d-412a-acd1-5ab51d8...</td>\n",
       "      <td>[FTL]</td>\n",
       "    </tr>\n",
       "    <tr>\n",
       "      <th>1502</th>\n",
       "      <td>thanos::sroute:ffaf85f1-2f23-4367-aef7-c580448...</td>\n",
       "      <td>[FTL]</td>\n",
       "    </tr>\n",
       "    <tr>\n",
       "      <th>1503</th>\n",
       "      <td>thanos::sroute:fffa2622-a170-4d08-b60b-38dfbae...</td>\n",
       "      <td>[FTL]</td>\n",
       "    </tr>\n",
       "  </tbody>\n",
       "</table>\n",
       "<p>1504 rows × 2 columns</p>\n",
       "</div>"
      ],
      "text/plain": [
       "                                    route_schedule_uuid route_type\n",
       "0     thanos::sroute:0007affd-fd01-4cf0-8a4f-90419df...  [Carting]\n",
       "1     thanos::sroute:00435307-de7f-4439-bd6a-5a2a9a3...  [Carting]\n",
       "2     thanos::sroute:00a74fab-a3ac-44df-b83a-cbf181b...      [FTL]\n",
       "3     thanos::sroute:00b294b8-d2c3-4bca-a3be-684f462...  [Carting]\n",
       "4     thanos::sroute:01164881-301e-45f8-bacd-ee21c37...      [FTL]\n",
       "...                                                 ...        ...\n",
       "1499  thanos::sroute:ff52ef7a-4d0d-4063-9bfe-cc21172...      [FTL]\n",
       "1500  thanos::sroute:ff6d6662-580b-43c3-810c-ba30270...  [Carting]\n",
       "1501  thanos::sroute:ff9b1c17-a70d-412a-acd1-5ab51d8...      [FTL]\n",
       "1502  thanos::sroute:ffaf85f1-2f23-4367-aef7-c580448...      [FTL]\n",
       "1503  thanos::sroute:fffa2622-a170-4d08-b60b-38dfbae...      [FTL]\n",
       "\n",
       "[1504 rows x 2 columns]"
      ]
     },
     "execution_count": 174,
     "metadata": {},
     "output_type": "execute_result"
    }
   ],
   "source": [
    "A"
   ]
  },
  {
   "cell_type": "code",
   "execution_count": 175,
   "id": "021d1eda",
   "metadata": {},
   "outputs": [],
   "source": [
    "B = data.groupby(\"route_schedule_uuid\")[[\"source_city\",\"destination_city\"]].nunique().sort_values(by=\"source_city\",ascending=False).reset_index()\n"
   ]
  },
  {
   "cell_type": "code",
   "execution_count": 176,
   "id": "fc0cd754",
   "metadata": {},
   "outputs": [],
   "source": [
    "B.columns = [\"route_schedule_uuid\",\"#source_city\",\"#destination_city\"]"
   ]
  },
  {
   "cell_type": "code",
   "execution_count": 177,
   "id": "f8745e55",
   "metadata": {},
   "outputs": [],
   "source": [
    "C = data.groupby(\"route_schedule_uuid\")[\"destination_city\"].unique().reset_index()\n",
    "C.columns = [\"route_schedule_uuid\",\"destination_cities\"]"
   ]
  },
  {
   "cell_type": "code",
   "execution_count": 178,
   "id": "baa84744",
   "metadata": {},
   "outputs": [],
   "source": [
    "D = data.groupby(\"route_schedule_uuid\")[\"source_city\"].unique().reset_index()\n",
    "D.columns = [\"route_schedule_uuid\",\"source_cities\"]\n"
   ]
  },
  {
   "cell_type": "code",
   "execution_count": 179,
   "id": "196d09a5",
   "metadata": {},
   "outputs": [],
   "source": [
    "E = data.groupby(\"route_schedule_uuid\")[\"source_state\"].unique().reset_index()\n",
    "E.columns = [\"route_schedule_uuid\",\"source_states\"]\n",
    "F = data.groupby(\"route_schedule_uuid\")[\"destination_state\"].unique().reset_index()\n",
    "F.columns = [\"route_schedule_uuid\",\"destination_states\"]\n",
    "G = data.groupby(\"route_schedule_uuid\")[[\"source_state\",\n",
    "                                         \"destination_state\"]].nunique().sort_values(by=\"source_state\",\n",
    "                                                                                     ascending=False).reset_index()\n",
    "G.columns = [\"route_schedule_uuid\",\"#source_states\"\n",
    "             ,\"#destination_states\"]\n"
   ]
  },
  {
   "cell_type": "code",
   "execution_count": 180,
   "id": "163d306d",
   "metadata": {},
   "outputs": [],
   "source": [
    "routes = G.merge(F.merge(E.merge(D.merge(C.merge(A.merge(B,\n",
    "                                                         on=\"route_schedule_uuid\"),\n",
    "                                                 on=\"route_schedule_uuid\"),\n",
    "                                         on=\"route_schedule_uuid\"),\n",
    "                                 on=\"route_schedule_uuid\"),\n",
    "                         on=\"route_schedule_uuid\"),\n",
    "                 on=\"route_schedule_uuid\")"
   ]
  },
  {
   "cell_type": "code",
   "execution_count": 181,
   "id": "33a69d66",
   "metadata": {},
   "outputs": [],
   "source": [
    "H = final.groupby(\"route_schedule_uuid\")[\"actual_distance_to_destination\"].mean().reset_index()\n",
    "# H.sort_values(by=\"actual_distance_to_destination\",ascending=False)\n",
    "H.columns = [\"route_schedule_uuid\",\n",
    "             \"average_actual_distance_covered\"]"
   ]
  },
  {
   "cell_type": "code",
   "execution_count": 182,
   "id": "27996967",
   "metadata": {},
   "outputs": [],
   "source": [
    "I = data.groupby(\"route_schedule_uuid\")[\"trip_uuid\"].count().reset_index()\n",
    "I.columns = [\"route_schedule_uuid\",\"Total_Orders\"]"
   ]
  },
  {
   "cell_type": "code",
   "execution_count": 183,
   "id": "d9c897c3",
   "metadata": {},
   "outputs": [],
   "source": [
    "routes = routes.merge(I.merge(H,on=\"route_schedule_uuid\"),on=\"route_schedule_uuid\")"
   ]
  },
  {
   "cell_type": "markdown",
   "id": "e3c67643",
   "metadata": {},
   "source": [
    "## Most Ordered route : "
   ]
  },
  {
   "cell_type": "code",
   "execution_count": 184,
   "id": "6eeee8c5",
   "metadata": {
    "scrolled": false
   },
   "outputs": [
    {
     "data": {
      "text/html": [
       "<div>\n",
       "<style scoped>\n",
       "    .dataframe tbody tr th:only-of-type {\n",
       "        vertical-align: middle;\n",
       "    }\n",
       "\n",
       "    .dataframe tbody tr th {\n",
       "        vertical-align: top;\n",
       "    }\n",
       "\n",
       "    .dataframe thead th {\n",
       "        text-align: right;\n",
       "    }\n",
       "</style>\n",
       "<table border=\"1\" class=\"dataframe\">\n",
       "  <thead>\n",
       "    <tr style=\"text-align: right;\">\n",
       "      <th></th>\n",
       "      <th>route_schedule_uuid</th>\n",
       "      <th>#source_states</th>\n",
       "      <th>#destination_states</th>\n",
       "      <th>destination_states</th>\n",
       "      <th>source_states</th>\n",
       "      <th>source_cities</th>\n",
       "      <th>destination_cities</th>\n",
       "      <th>route_type</th>\n",
       "      <th>#source_city</th>\n",
       "      <th>#destination_city</th>\n",
       "      <th>Total_Orders</th>\n",
       "      <th>average_actual_distance_covered</th>\n",
       "    </tr>\n",
       "  </thead>\n",
       "  <tbody>\n",
       "    <tr>\n",
       "      <th>19</th>\n",
       "      <td>thanos::sroute:4029a8a2-6c74-4b7e-a6d8-f9e069f...</td>\n",
       "      <td>2</td>\n",
       "      <td>2</td>\n",
       "      <td>[Haryana, Karnataka]</td>\n",
       "      <td>[Punjab, Haryana]</td>\n",
       "      <td>[Chandigarh, Gurgaon]</td>\n",
       "      <td>[Gurgaon, Bengaluru]</td>\n",
       "      <td>[FTL]</td>\n",
       "      <td>2</td>\n",
       "      <td>2</td>\n",
       "      <td>1812</td>\n",
       "      <td>1905.766051</td>\n",
       "    </tr>\n",
       "    <tr>\n",
       "      <th>1054</th>\n",
       "      <td>thanos::sroute:0456b740-1dad-4929-bbe0-87d8843...</td>\n",
       "      <td>1</td>\n",
       "      <td>1</td>\n",
       "      <td>[Karnataka]</td>\n",
       "      <td>[Haryana]</td>\n",
       "      <td>[Gurgaon]</td>\n",
       "      <td>[Bengaluru]</td>\n",
       "      <td>[FTL]</td>\n",
       "      <td>1</td>\n",
       "      <td>1</td>\n",
       "      <td>1608</td>\n",
       "      <td>1689.791894</td>\n",
       "    </tr>\n",
       "    <tr>\n",
       "      <th>722</th>\n",
       "      <td>thanos::sroute:dca6268f-741a-4d1a-b1b0-aab1309...</td>\n",
       "      <td>1</td>\n",
       "      <td>1</td>\n",
       "      <td>[Karnataka]</td>\n",
       "      <td>[Haryana]</td>\n",
       "      <td>[Gurgaon]</td>\n",
       "      <td>[Bengaluru]</td>\n",
       "      <td>[FTL]</td>\n",
       "      <td>1</td>\n",
       "      <td>1</td>\n",
       "      <td>1605</td>\n",
       "      <td>1689.873158</td>\n",
       "    </tr>\n",
       "    <tr>\n",
       "      <th>21</th>\n",
       "      <td>thanos::sroute:a1b25549-1e77-498f-8538-00292e5...</td>\n",
       "      <td>2</td>\n",
       "      <td>2</td>\n",
       "      <td>[Orissa, West Bengal]</td>\n",
       "      <td>[Karnataka, Orissa]</td>\n",
       "      <td>[Bengaluru, Bhubaneshwar]</td>\n",
       "      <td>[Bhubaneshwar, Kolkata]</td>\n",
       "      <td>[FTL]</td>\n",
       "      <td>2</td>\n",
       "      <td>2</td>\n",
       "      <td>1285</td>\n",
       "      <td>1567.577507</td>\n",
       "    </tr>\n",
       "    <tr>\n",
       "      <th>75</th>\n",
       "      <td>thanos::sroute:de5e208e-7641-45e6-8100-4d9fb1e...</td>\n",
       "      <td>2</td>\n",
       "      <td>2</td>\n",
       "      <td>[Haryana, Punjab]</td>\n",
       "      <td>[Karnataka, Haryana]</td>\n",
       "      <td>[Bengaluru, Gurgaon]</td>\n",
       "      <td>[Gurgaon, Chandigarh]</td>\n",
       "      <td>[FTL]</td>\n",
       "      <td>2</td>\n",
       "      <td>2</td>\n",
       "      <td>1280</td>\n",
       "      <td>1869.546650</td>\n",
       "    </tr>\n",
       "    <tr>\n",
       "      <th>117</th>\n",
       "      <td>thanos::sroute:96a80600-40e1-436b-9161-fa68f9e...</td>\n",
       "      <td>2</td>\n",
       "      <td>2</td>\n",
       "      <td>[Bihar, Haryana]</td>\n",
       "      <td>[Haryana, Bihar]</td>\n",
       "      <td>[Gurgaon, Muzaffrpur, Purnia]</td>\n",
       "      <td>[Muzaffrpur, Purnia, Gurgaon]</td>\n",
       "      <td>[FTL]</td>\n",
       "      <td>3</td>\n",
       "      <td>3</td>\n",
       "      <td>1211</td>\n",
       "      <td>2016.941915</td>\n",
       "    </tr>\n",
       "    <tr>\n",
       "      <th>216</th>\n",
       "      <td>thanos::sroute:bcce7b68-e962-4a29-af24-167e3e9...</td>\n",
       "      <td>1</td>\n",
       "      <td>2</td>\n",
       "      <td>[West Bengal, Delhi]</td>\n",
       "      <td>[Assam]</td>\n",
       "      <td>[Guwahati]</td>\n",
       "      <td>[Kolkata, Delhi]</td>\n",
       "      <td>[FTL]</td>\n",
       "      <td>1</td>\n",
       "      <td>2</td>\n",
       "      <td>1162</td>\n",
       "      <td>1411.208424</td>\n",
       "    </tr>\n",
       "    <tr>\n",
       "      <th>70</th>\n",
       "      <td>thanos::sroute:69409580-4bf0-4bbf-96fe-9e7bc65...</td>\n",
       "      <td>2</td>\n",
       "      <td>2</td>\n",
       "      <td>[Haryana, Maharashtra]</td>\n",
       "      <td>[Delhi, Haryana]</td>\n",
       "      <td>[Delhi, Gurgaon]</td>\n",
       "      <td>[Gurgaon, Pune]</td>\n",
       "      <td>[FTL]</td>\n",
       "      <td>2</td>\n",
       "      <td>2</td>\n",
       "      <td>1158</td>\n",
       "      <td>1151.514940</td>\n",
       "    </tr>\n",
       "    <tr>\n",
       "      <th>1301</th>\n",
       "      <td>thanos::sroute:7af51efd-ae4d-49bc-9b68-345abe6...</td>\n",
       "      <td>1</td>\n",
       "      <td>1</td>\n",
       "      <td>[Haryana]</td>\n",
       "      <td>[Karnataka]</td>\n",
       "      <td>[Bengaluru]</td>\n",
       "      <td>[Gurgaon]</td>\n",
       "      <td>[FTL]</td>\n",
       "      <td>1</td>\n",
       "      <td>1</td>\n",
       "      <td>1085</td>\n",
       "      <td>1694.584389</td>\n",
       "    </tr>\n",
       "    <tr>\n",
       "      <th>65</th>\n",
       "      <td>thanos::sroute:e2f5faaa-455a-494b-a501-549c3e3...</td>\n",
       "      <td>2</td>\n",
       "      <td>2</td>\n",
       "      <td>[Haryana, Maharashtra]</td>\n",
       "      <td>[Punjab, Haryana]</td>\n",
       "      <td>[Chandigarh, Gurgaon]</td>\n",
       "      <td>[Gurgaon, Bhiwandi]</td>\n",
       "      <td>[FTL]</td>\n",
       "      <td>2</td>\n",
       "      <td>2</td>\n",
       "      <td>1069</td>\n",
       "      <td>1170.817927</td>\n",
       "    </tr>\n",
       "  </tbody>\n",
       "</table>\n",
       "</div>"
      ],
      "text/plain": [
       "                                    route_schedule_uuid  #source_states  \\\n",
       "19    thanos::sroute:4029a8a2-6c74-4b7e-a6d8-f9e069f...               2   \n",
       "1054  thanos::sroute:0456b740-1dad-4929-bbe0-87d8843...               1   \n",
       "722   thanos::sroute:dca6268f-741a-4d1a-b1b0-aab1309...               1   \n",
       "21    thanos::sroute:a1b25549-1e77-498f-8538-00292e5...               2   \n",
       "75    thanos::sroute:de5e208e-7641-45e6-8100-4d9fb1e...               2   \n",
       "117   thanos::sroute:96a80600-40e1-436b-9161-fa68f9e...               2   \n",
       "216   thanos::sroute:bcce7b68-e962-4a29-af24-167e3e9...               1   \n",
       "70    thanos::sroute:69409580-4bf0-4bbf-96fe-9e7bc65...               2   \n",
       "1301  thanos::sroute:7af51efd-ae4d-49bc-9b68-345abe6...               1   \n",
       "65    thanos::sroute:e2f5faaa-455a-494b-a501-549c3e3...               2   \n",
       "\n",
       "      #destination_states      destination_states         source_states  \\\n",
       "19                      2    [Haryana, Karnataka]     [Punjab, Haryana]   \n",
       "1054                    1             [Karnataka]             [Haryana]   \n",
       "722                     1             [Karnataka]             [Haryana]   \n",
       "21                      2   [Orissa, West Bengal]   [Karnataka, Orissa]   \n",
       "75                      2       [Haryana, Punjab]  [Karnataka, Haryana]   \n",
       "117                     2        [Bihar, Haryana]      [Haryana, Bihar]   \n",
       "216                     2    [West Bengal, Delhi]               [Assam]   \n",
       "70                      2  [Haryana, Maharashtra]      [Delhi, Haryana]   \n",
       "1301                    1               [Haryana]           [Karnataka]   \n",
       "65                      2  [Haryana, Maharashtra]     [Punjab, Haryana]   \n",
       "\n",
       "                      source_cities             destination_cities route_type  \\\n",
       "19            [Chandigarh, Gurgaon]           [Gurgaon, Bengaluru]      [FTL]   \n",
       "1054                      [Gurgaon]                    [Bengaluru]      [FTL]   \n",
       "722                       [Gurgaon]                    [Bengaluru]      [FTL]   \n",
       "21        [Bengaluru, Bhubaneshwar]        [Bhubaneshwar, Kolkata]      [FTL]   \n",
       "75             [Bengaluru, Gurgaon]          [Gurgaon, Chandigarh]      [FTL]   \n",
       "117   [Gurgaon, Muzaffrpur, Purnia]  [Muzaffrpur, Purnia, Gurgaon]      [FTL]   \n",
       "216                      [Guwahati]               [Kolkata, Delhi]      [FTL]   \n",
       "70                 [Delhi, Gurgaon]                [Gurgaon, Pune]      [FTL]   \n",
       "1301                    [Bengaluru]                      [Gurgaon]      [FTL]   \n",
       "65            [Chandigarh, Gurgaon]            [Gurgaon, Bhiwandi]      [FTL]   \n",
       "\n",
       "      #source_city  #destination_city  Total_Orders  \\\n",
       "19               2                  2          1812   \n",
       "1054             1                  1          1608   \n",
       "722              1                  1          1605   \n",
       "21               2                  2          1285   \n",
       "75               2                  2          1280   \n",
       "117              3                  3          1211   \n",
       "216              1                  2          1162   \n",
       "70               2                  2          1158   \n",
       "1301             1                  1          1085   \n",
       "65               2                  2          1069   \n",
       "\n",
       "      average_actual_distance_covered  \n",
       "19                        1905.766051  \n",
       "1054                      1689.791894  \n",
       "722                       1689.873158  \n",
       "21                        1567.577507  \n",
       "75                        1869.546650  \n",
       "117                       2016.941915  \n",
       "216                       1411.208424  \n",
       "70                        1151.514940  \n",
       "1301                      1694.584389  \n",
       "65                        1170.817927  "
      ]
     },
     "execution_count": 184,
     "metadata": {},
     "output_type": "execute_result"
    }
   ],
   "source": [
    "routes.sort_values(by=\"Total_Orders\",ascending=False).head(10)"
   ]
  },
  {
   "cell_type": "markdown",
   "id": "37fc9dc7",
   "metadata": {},
   "source": [
    "## Maximum City Covering routes : "
   ]
  },
  {
   "cell_type": "code",
   "execution_count": 168,
   "id": "5b3b504e",
   "metadata": {},
   "outputs": [
    {
     "data": {
      "text/html": [
       "<div>\n",
       "<style scoped>\n",
       "    .dataframe tbody tr th:only-of-type {\n",
       "        vertical-align: middle;\n",
       "    }\n",
       "\n",
       "    .dataframe tbody tr th {\n",
       "        vertical-align: top;\n",
       "    }\n",
       "\n",
       "    .dataframe thead th {\n",
       "        text-align: right;\n",
       "    }\n",
       "</style>\n",
       "<table border=\"1\" class=\"dataframe\">\n",
       "  <thead>\n",
       "    <tr style=\"text-align: right;\">\n",
       "      <th></th>\n",
       "      <th>route_schedule_uuid</th>\n",
       "      <th>#source_states</th>\n",
       "      <th>#destination_states</th>\n",
       "      <th>destination_states</th>\n",
       "      <th>source_states</th>\n",
       "      <th>source_cities</th>\n",
       "      <th>destination_cities</th>\n",
       "      <th>route_type</th>\n",
       "      <th>#source_city</th>\n",
       "      <th>#destination_city</th>\n",
       "      <th>Total_Orders</th>\n",
       "      <th>average_actual_distance_covered</th>\n",
       "    </tr>\n",
       "  </thead>\n",
       "  <tbody>\n",
       "    <tr>\n",
       "      <th>102</th>\n",
       "      <td>thanos::sroute:d010efca-d90d-4977-b987-eae68c5...</td>\n",
       "      <td>2</td>\n",
       "      <td>2</td>\n",
       "      <td>[Assam, Arunachal Pradesh]</td>\n",
       "      <td>[Assam, Arunachal Pradesh]</td>\n",
       "      <td>[Guwahati, LakhimpurN, Dhemaji, Likabali, Tezp...</td>\n",
       "      <td>[Tezpur, Dhemaji, Silapathar, Pasighat, Mangal...</td>\n",
       "      <td>[FTL]</td>\n",
       "      <td>13</td>\n",
       "      <td>11</td>\n",
       "      <td>204</td>\n",
       "      <td>281.596486</td>\n",
       "    </tr>\n",
       "    <tr>\n",
       "      <th>105</th>\n",
       "      <td>thanos::sroute:4cbecb35-356b-4b68-bf3c-6225b5e...</td>\n",
       "      <td>2</td>\n",
       "      <td>2</td>\n",
       "      <td>[Assam, Meghalaya]</td>\n",
       "      <td>[Assam, Meghalaya]</td>\n",
       "      <td>[Guwahati, Rangia, Kokrajhar, Dhubri, Bilasipa...</td>\n",
       "      <td>[Rangia, Nalbari, Dhubri, Bilasipara, Lakhipur...</td>\n",
       "      <td>[FTL]</td>\n",
       "      <td>10</td>\n",
       "      <td>10</td>\n",
       "      <td>230</td>\n",
       "      <td>332.602225</td>\n",
       "    </tr>\n",
       "    <tr>\n",
       "      <th>151</th>\n",
       "      <td>thanos::sroute:ae5c430f-6153-48d1-8fe5-d5f0bbc...</td>\n",
       "      <td>1</td>\n",
       "      <td>1</td>\n",
       "      <td>[Rajasthan]</td>\n",
       "      <td>[Rajasthan]</td>\n",
       "      <td>[Jaipur, Chomu, Reengus, Sikar, Bikaner, Didwa...</td>\n",
       "      <td>[Chomu, Reengus, Sikar, Bikaner, Nokha, Sujang...</td>\n",
       "      <td>[FTL]</td>\n",
       "      <td>10</td>\n",
       "      <td>10</td>\n",
       "      <td>372</td>\n",
       "      <td>351.611796</td>\n",
       "    </tr>\n",
       "    <tr>\n",
       "      <th>601</th>\n",
       "      <td>thanos::sroute:f8968c72-5222-4d81-9eed-8a6d88f...</td>\n",
       "      <td>1</td>\n",
       "      <td>2</td>\n",
       "      <td>[Karnataka, Goa]</td>\n",
       "      <td>[Karnataka]</td>\n",
       "      <td>[Mangalore, Udupi (Karnataka), Kundapura, Bhat...</td>\n",
       "      <td>[Uchila, Kundapura, Bhatkal, Honnavar, Kumta, ...</td>\n",
       "      <td>[FTL]</td>\n",
       "      <td>9</td>\n",
       "      <td>9</td>\n",
       "      <td>100</td>\n",
       "      <td>195.257193</td>\n",
       "    </tr>\n",
       "    <tr>\n",
       "      <th>452</th>\n",
       "      <td>thanos::sroute:ed5b80be-7abf-424d-b8cd-d81556a...</td>\n",
       "      <td>1</td>\n",
       "      <td>1</td>\n",
       "      <td>[Rajasthan]</td>\n",
       "      <td>[Rajasthan]</td>\n",
       "      <td>[Ajmer, Beawar, Bilara, Bijainagar, Kekri, Nas...</td>\n",
       "      <td>[Beawar, Bilara, Badnaur, Kekri, Nasirabad, Aj...</td>\n",
       "      <td>[FTL]</td>\n",
       "      <td>9</td>\n",
       "      <td>8</td>\n",
       "      <td>204</td>\n",
       "      <td>178.737233</td>\n",
       "    </tr>\n",
       "    <tr>\n",
       "      <th>568</th>\n",
       "      <td>thanos::sroute:fcd09ac0-86d2-44d0-92ee-11c0e0b...</td>\n",
       "      <td>1</td>\n",
       "      <td>1</td>\n",
       "      <td>[Uttar Pradesh]</td>\n",
       "      <td>[Uttar Pradesh]</td>\n",
       "      <td>[Mainpuri, Farrukhbad, Shahabad, Tilhar, Jalal...</td>\n",
       "      <td>[Farrukhbad, Shahabad, Shahjhnpur, Jalalabad, ...</td>\n",
       "      <td>[FTL]</td>\n",
       "      <td>8</td>\n",
       "      <td>8</td>\n",
       "      <td>153</td>\n",
       "      <td>207.247057</td>\n",
       "    </tr>\n",
       "    <tr>\n",
       "      <th>33</th>\n",
       "      <td>thanos::sroute:449c95d6-7baf-4c59-ac16-180c22a...</td>\n",
       "      <td>2</td>\n",
       "      <td>2</td>\n",
       "      <td>[Telangana, Andhra Pradesh]</td>\n",
       "      <td>[Telangana, Andhra Pradesh]</td>\n",
       "      <td>[Hyderabad, Vijayawada, Khammam, Suryapet, Nal...</td>\n",
       "      <td>[Choutuppal, Khammam, Suryapet, Nalgonda, Hyde...</td>\n",
       "      <td>[FTL]</td>\n",
       "      <td>7</td>\n",
       "      <td>7</td>\n",
       "      <td>152</td>\n",
       "      <td>420.603709</td>\n",
       "    </tr>\n",
       "  </tbody>\n",
       "</table>\n",
       "</div>"
      ],
      "text/plain": [
       "                                   route_schedule_uuid  #source_states  \\\n",
       "102  thanos::sroute:d010efca-d90d-4977-b987-eae68c5...               2   \n",
       "105  thanos::sroute:4cbecb35-356b-4b68-bf3c-6225b5e...               2   \n",
       "151  thanos::sroute:ae5c430f-6153-48d1-8fe5-d5f0bbc...               1   \n",
       "601  thanos::sroute:f8968c72-5222-4d81-9eed-8a6d88f...               1   \n",
       "452  thanos::sroute:ed5b80be-7abf-424d-b8cd-d81556a...               1   \n",
       "568  thanos::sroute:fcd09ac0-86d2-44d0-92ee-11c0e0b...               1   \n",
       "33   thanos::sroute:449c95d6-7baf-4c59-ac16-180c22a...               2   \n",
       "\n",
       "     #destination_states           destination_states  \\\n",
       "102                    2   [Assam, Arunachal Pradesh]   \n",
       "105                    2           [Assam, Meghalaya]   \n",
       "151                    1                  [Rajasthan]   \n",
       "601                    2             [Karnataka, Goa]   \n",
       "452                    1                  [Rajasthan]   \n",
       "568                    1              [Uttar Pradesh]   \n",
       "33                     2  [Telangana, Andhra Pradesh]   \n",
       "\n",
       "                   source_states  \\\n",
       "102   [Assam, Arunachal Pradesh]   \n",
       "105           [Assam, Meghalaya]   \n",
       "151                  [Rajasthan]   \n",
       "601                  [Karnataka]   \n",
       "452                  [Rajasthan]   \n",
       "568              [Uttar Pradesh]   \n",
       "33   [Telangana, Andhra Pradesh]   \n",
       "\n",
       "                                         source_cities  \\\n",
       "102  [Guwahati, LakhimpurN, Dhemaji, Likabali, Tezp...   \n",
       "105  [Guwahati, Rangia, Kokrajhar, Dhubri, Bilasipa...   \n",
       "151  [Jaipur, Chomu, Reengus, Sikar, Bikaner, Didwa...   \n",
       "601  [Mangalore, Udupi (Karnataka), Kundapura, Bhat...   \n",
       "452  [Ajmer, Beawar, Bilara, Bijainagar, Kekri, Nas...   \n",
       "568  [Mainpuri, Farrukhbad, Shahabad, Tilhar, Jalal...   \n",
       "33   [Hyderabad, Vijayawada, Khammam, Suryapet, Nal...   \n",
       "\n",
       "                                    destination_cities route_type  \\\n",
       "102  [Tezpur, Dhemaji, Silapathar, Pasighat, Mangal...      [FTL]   \n",
       "105  [Rangia, Nalbari, Dhubri, Bilasipara, Lakhipur...      [FTL]   \n",
       "151  [Chomu, Reengus, Sikar, Bikaner, Nokha, Sujang...      [FTL]   \n",
       "601  [Uchila, Kundapura, Bhatkal, Honnavar, Kumta, ...      [FTL]   \n",
       "452  [Beawar, Bilara, Badnaur, Kekri, Nasirabad, Aj...      [FTL]   \n",
       "568  [Farrukhbad, Shahabad, Shahjhnpur, Jalalabad, ...      [FTL]   \n",
       "33   [Choutuppal, Khammam, Suryapet, Nalgonda, Hyde...      [FTL]   \n",
       "\n",
       "     #source_city  #destination_city  Total_Orders  \\\n",
       "102            13                 11           204   \n",
       "105            10                 10           230   \n",
       "151            10                 10           372   \n",
       "601             9                  9           100   \n",
       "452             9                  8           204   \n",
       "568             8                  8           153   \n",
       "33              7                  7           152   \n",
       "\n",
       "     average_actual_distance_covered  \n",
       "102                       281.596486  \n",
       "105                       332.602225  \n",
       "151                       351.611796  \n",
       "601                       195.257193  \n",
       "452                       178.737233  \n",
       "568                       207.247057  \n",
       "33                        420.603709  "
      ]
     },
     "execution_count": 168,
     "metadata": {},
     "output_type": "execute_result"
    }
   ],
   "source": [
    "routes.sort_values(by=[\"#source_city\",\"#destination_city\"],ascending=False).head(7)"
   ]
  },
  {
   "cell_type": "markdown",
   "id": "ad29d860",
   "metadata": {},
   "source": [
    "# longest route : average distance of a route "
   ]
  },
  {
   "cell_type": "code",
   "execution_count": 169,
   "id": "acec98b6",
   "metadata": {},
   "outputs": [
    {
     "data": {
      "text/html": [
       "<div>\n",
       "<style scoped>\n",
       "    .dataframe tbody tr th:only-of-type {\n",
       "        vertical-align: middle;\n",
       "    }\n",
       "\n",
       "    .dataframe tbody tr th {\n",
       "        vertical-align: top;\n",
       "    }\n",
       "\n",
       "    .dataframe thead th {\n",
       "        text-align: right;\n",
       "    }\n",
       "</style>\n",
       "<table border=\"1\" class=\"dataframe\">\n",
       "  <thead>\n",
       "    <tr style=\"text-align: right;\">\n",
       "      <th></th>\n",
       "      <th>route_schedule_uuid</th>\n",
       "      <th>#source_states</th>\n",
       "      <th>#destination_states</th>\n",
       "      <th>destination_states</th>\n",
       "      <th>source_states</th>\n",
       "      <th>source_cities</th>\n",
       "      <th>destination_cities</th>\n",
       "      <th>route_type</th>\n",
       "      <th>#source_city</th>\n",
       "      <th>#destination_city</th>\n",
       "      <th>Total_Orders</th>\n",
       "      <th>average_actual_distance_covered</th>\n",
       "    </tr>\n",
       "  </thead>\n",
       "  <tbody>\n",
       "    <tr>\n",
       "      <th>60</th>\n",
       "      <td>thanos::sroute:3592c86e-c3d1-429b-917a-ebe9051...</td>\n",
       "      <td>2</td>\n",
       "      <td>2</td>\n",
       "      <td>[West Bengal, Maharashtra]</td>\n",
       "      <td>[Assam, West Bengal]</td>\n",
       "      <td>[Guwahati, Kolkata]</td>\n",
       "      <td>[Kolkata, Bhiwandi]</td>\n",
       "      <td>[FTL]</td>\n",
       "      <td>2</td>\n",
       "      <td>2</td>\n",
       "      <td>498</td>\n",
       "      <td>2157.968312</td>\n",
       "    </tr>\n",
       "    <tr>\n",
       "      <th>117</th>\n",
       "      <td>thanos::sroute:96a80600-40e1-436b-9161-fa68f9e...</td>\n",
       "      <td>2</td>\n",
       "      <td>2</td>\n",
       "      <td>[Bihar, Haryana]</td>\n",
       "      <td>[Haryana, Bihar]</td>\n",
       "      <td>[Gurgaon, Muzaffrpur, Purnia]</td>\n",
       "      <td>[Muzaffrpur, Purnia, Gurgaon]</td>\n",
       "      <td>[FTL]</td>\n",
       "      <td>3</td>\n",
       "      <td>3</td>\n",
       "      <td>1211</td>\n",
       "      <td>2016.941915</td>\n",
       "    </tr>\n",
       "    <tr>\n",
       "      <th>85</th>\n",
       "      <td>thanos::sroute:b3fd32d8-4027-4dc5-a425-eb8ccb8...</td>\n",
       "      <td>2</td>\n",
       "      <td>2</td>\n",
       "      <td>[Haryana, Punjab]</td>\n",
       "      <td>[Karnataka, Haryana]</td>\n",
       "      <td>[Bengaluru, Gurgaon]</td>\n",
       "      <td>[Gurgaon, Chandigarh]</td>\n",
       "      <td>[FTL]</td>\n",
       "      <td>2</td>\n",
       "      <td>2</td>\n",
       "      <td>135</td>\n",
       "      <td>1939.975142</td>\n",
       "    </tr>\n",
       "    <tr>\n",
       "      <th>19</th>\n",
       "      <td>thanos::sroute:4029a8a2-6c74-4b7e-a6d8-f9e069f...</td>\n",
       "      <td>2</td>\n",
       "      <td>2</td>\n",
       "      <td>[Haryana, Karnataka]</td>\n",
       "      <td>[Punjab, Haryana]</td>\n",
       "      <td>[Chandigarh, Gurgaon]</td>\n",
       "      <td>[Gurgaon, Bengaluru]</td>\n",
       "      <td>[FTL]</td>\n",
       "      <td>2</td>\n",
       "      <td>2</td>\n",
       "      <td>1812</td>\n",
       "      <td>1905.766051</td>\n",
       "    </tr>\n",
       "    <tr>\n",
       "      <th>75</th>\n",
       "      <td>thanos::sroute:de5e208e-7641-45e6-8100-4d9fb1e...</td>\n",
       "      <td>2</td>\n",
       "      <td>2</td>\n",
       "      <td>[Haryana, Punjab]</td>\n",
       "      <td>[Karnataka, Haryana]</td>\n",
       "      <td>[Bengaluru, Gurgaon]</td>\n",
       "      <td>[Gurgaon, Chandigarh]</td>\n",
       "      <td>[FTL]</td>\n",
       "      <td>2</td>\n",
       "      <td>2</td>\n",
       "      <td>1280</td>\n",
       "      <td>1869.546650</td>\n",
       "    </tr>\n",
       "    <tr>\n",
       "      <th>114</th>\n",
       "      <td>thanos::sroute:824ae884-8323-4beb-b955-27c6772...</td>\n",
       "      <td>2</td>\n",
       "      <td>2</td>\n",
       "      <td>[Bihar, Haryana]</td>\n",
       "      <td>[Haryana, Bihar]</td>\n",
       "      <td>[Gurgaon, Muzaffrpur, Purnia]</td>\n",
       "      <td>[Muzaffrpur, Purnia, Gurgaon]</td>\n",
       "      <td>[FTL]</td>\n",
       "      <td>3</td>\n",
       "      <td>3</td>\n",
       "      <td>617</td>\n",
       "      <td>1775.691335</td>\n",
       "    </tr>\n",
       "    <tr>\n",
       "      <th>78</th>\n",
       "      <td>thanos::sroute:65298ce5-d9ee-4614-80fe-0b619cf...</td>\n",
       "      <td>2</td>\n",
       "      <td>2</td>\n",
       "      <td>[Rajasthan, Delhi]</td>\n",
       "      <td>[Karnataka, Rajasthan]</td>\n",
       "      <td>[Bengaluru, Jaipur]</td>\n",
       "      <td>[Jaipur, Delhi]</td>\n",
       "      <td>[FTL]</td>\n",
       "      <td>2</td>\n",
       "      <td>2</td>\n",
       "      <td>648</td>\n",
       "      <td>1765.535376</td>\n",
       "    </tr>\n",
       "  </tbody>\n",
       "</table>\n",
       "</div>"
      ],
      "text/plain": [
       "                                   route_schedule_uuid  #source_states  \\\n",
       "60   thanos::sroute:3592c86e-c3d1-429b-917a-ebe9051...               2   \n",
       "117  thanos::sroute:96a80600-40e1-436b-9161-fa68f9e...               2   \n",
       "85   thanos::sroute:b3fd32d8-4027-4dc5-a425-eb8ccb8...               2   \n",
       "19   thanos::sroute:4029a8a2-6c74-4b7e-a6d8-f9e069f...               2   \n",
       "75   thanos::sroute:de5e208e-7641-45e6-8100-4d9fb1e...               2   \n",
       "114  thanos::sroute:824ae884-8323-4beb-b955-27c6772...               2   \n",
       "78   thanos::sroute:65298ce5-d9ee-4614-80fe-0b619cf...               2   \n",
       "\n",
       "     #destination_states          destination_states           source_states  \\\n",
       "60                     2  [West Bengal, Maharashtra]    [Assam, West Bengal]   \n",
       "117                    2            [Bihar, Haryana]        [Haryana, Bihar]   \n",
       "85                     2           [Haryana, Punjab]    [Karnataka, Haryana]   \n",
       "19                     2        [Haryana, Karnataka]       [Punjab, Haryana]   \n",
       "75                     2           [Haryana, Punjab]    [Karnataka, Haryana]   \n",
       "114                    2            [Bihar, Haryana]        [Haryana, Bihar]   \n",
       "78                     2          [Rajasthan, Delhi]  [Karnataka, Rajasthan]   \n",
       "\n",
       "                     source_cities             destination_cities route_type  \\\n",
       "60             [Guwahati, Kolkata]            [Kolkata, Bhiwandi]      [FTL]   \n",
       "117  [Gurgaon, Muzaffrpur, Purnia]  [Muzaffrpur, Purnia, Gurgaon]      [FTL]   \n",
       "85            [Bengaluru, Gurgaon]          [Gurgaon, Chandigarh]      [FTL]   \n",
       "19           [Chandigarh, Gurgaon]           [Gurgaon, Bengaluru]      [FTL]   \n",
       "75            [Bengaluru, Gurgaon]          [Gurgaon, Chandigarh]      [FTL]   \n",
       "114  [Gurgaon, Muzaffrpur, Purnia]  [Muzaffrpur, Purnia, Gurgaon]      [FTL]   \n",
       "78             [Bengaluru, Jaipur]                [Jaipur, Delhi]      [FTL]   \n",
       "\n",
       "     #source_city  #destination_city  Total_Orders  \\\n",
       "60              2                  2           498   \n",
       "117             3                  3          1211   \n",
       "85              2                  2           135   \n",
       "19              2                  2          1812   \n",
       "75              2                  2          1280   \n",
       "114             3                  3           617   \n",
       "78              2                  2           648   \n",
       "\n",
       "     average_actual_distance_covered  \n",
       "60                       2157.968312  \n",
       "117                      2016.941915  \n",
       "85                       1939.975142  \n",
       "19                       1905.766051  \n",
       "75                       1869.546650  \n",
       "114                      1775.691335  \n",
       "78                       1765.535376  "
      ]
     },
     "execution_count": 169,
     "metadata": {},
     "output_type": "execute_result"
    }
   ],
   "source": [
    "routes.sort_values(by=[\"average_actual_distance_covered\"],ascending=False).head(7)"
   ]
  },
  {
   "cell_type": "code",
   "execution_count": 170,
   "id": "762d8a87",
   "metadata": {},
   "outputs": [],
   "source": [
    "routes[\"route_type\"] = routes[\"route_type\"].apply(lambda x:x[0])"
   ]
  },
  {
   "cell_type": "code",
   "execution_count": 171,
   "id": "a4e32e74",
   "metadata": {},
   "outputs": [
    {
     "data": {
      "text/plain": [
       "<AxesSubplot:>"
      ]
     },
     "execution_count": 171,
     "metadata": {},
     "output_type": "execute_result"
    },
    {
     "data": {
      "image/png": "[encoded data removed]",
      "text/plain": [
       "<Figure size 432x288 with 1 Axes>"
      ]
     },
     "metadata": {
      "needs_background": "light"
     },
     "output_type": "display_data"
    }
   ],
   "source": [
    "routes[\"route_type\"].value_counts(normalize=True).plot(kind = \"bar\")"
   ]
  },
  {
   "cell_type": "code",
   "execution_count": 172,
   "id": "b54a99e9",
   "metadata": {},
   "outputs": [],
   "source": [
    "# routes[routes[\"route_type\"]!=\"FTL\"].sort_values(by=[\"average_actual_distance_covered\"],ascending=False).head(7)"
   ]
  },
  {
   "cell_type": "code",
   "execution_count": null,
   "id": "7d7a5e59",
   "metadata": {},
   "outputs": [],
   "source": []
  },
  {
   "cell_type": "code",
   "execution_count": null,
   "id": "d424c856",
   "metadata": {},
   "outputs": [],
   "source": []
  },
  {
   "cell_type": "code",
   "execution_count": null,
   "id": "6c93c733",
   "metadata": {},
   "outputs": [],
   "source": []
  },
  {
   "cell_type": "code",
   "execution_count": null,
   "id": "31d1cd67",
   "metadata": {},
   "outputs": [],
   "source": []
  },
  {
   "cell_type": "code",
   "execution_count": null,
   "id": "e067ad98",
   "metadata": {},
   "outputs": [],
   "source": []
  },
  {
   "cell_type": "code",
   "execution_count": null,
   "id": "a8880c31",
   "metadata": {},
   "outputs": [],
   "source": []
  },
  {
   "cell_type": "code",
   "execution_count": null,
   "id": "7d046c02",
   "metadata": {},
   "outputs": [],
   "source": []
  }
 ],
 "metadata": {
  "kernelspec": {
   "display_name": "Python 3 (ipykernel)",
   "language": "python",
   "name": "python3"
  },
  "language_info": {
   "codemirror_mode": {
    "name": "ipython",
    "version": 3
   },
   "file_extension": ".py",
   "mimetype": "text/x-python",
   "name": "python",
   "nbconvert_exporter": "python",
   "pygments_lexer": "ipython3",
   "version": "3.9.7"
  }
 },
 "nbformat": 4,
 "nbformat_minor": 5
}
