{
 "cells": [
  {
   "cell_type": "markdown",
   "id": "1ea567ec",
   "metadata": {},
   "source": [
    "\n",
    "# About Delhivery : \n",
    "\n",
    "- Delhivery is the largest and fastest-growing fully integrated player in India by revenue in Fiscal 2021. They aim to build the operating system for commerce, through a combination of world-class infrastructure, logistics operations of the highest quality, and cutting-edge engineering and technology capabilities.\n",
    "\n",
    "\n",
    "- The Data team builds intelligence and capabilities using this data that helps them to widen the gap between the quality, efficiency, and profitability of their business versus their competitors.\n",
    "\n",
    "\n",
    "# Business Problem Statement  :\n",
    "\n",
    "\n",
    "- The company wants to understand and process the data coming out of data engineering pipelines:\n",
    "\n",
    ">• Clean, sanitize and manipulate data to get useful features out of raw fields\n",
    "\n",
    ">• Make sense out of the raw data and help the data science team to build forecasting models on it.\n",
    "\n",
    "\n",
    "### Column Profiling:\n",
    "\n",
    "- data :  tells whether the data is testing or training data\n",
    "\n",
    "\n",
    "- trip_creation_time : Timestamp of trip creation\n",
    "- route_schedule_uuid : Unique Id for a particular route schedule\n",
    "- route_type : Transportation type \n",
    "    - FTL – Full Truck Load: FTL shipments get to the destination sooner, as the truck is making no other pickups or drop-offs along the way\n",
    "    - Carting: Handling system consisting of small vehicles (carts)\n",
    "    \n",
    "- trip_uuid : Unique ID given to a particular trip (A trip may include different source and destination centers)\n",
    "- source_center : Source ID of trip origin\n",
    "- source_name : Source Name of trip origin\n",
    "- destination_cente : Destination ID\n",
    "- destination_name : Destination Name\n",
    "- od_start_time : Trip start time\n",
    "- od_end_time : Trip end time\n",
    "- start_scan_to_end_scan : Time taken to deliver from source to destination\n",
    "- is_cutoff : Unknown field\n",
    "- cutoff_factor : Unknown field\n",
    "- cutoff_timestamp : Unknown field\n",
    "- actual_distance_to_destination : Distance in Kms between source and destination warehouse\n",
    "- actual_time : Actual time taken to complete the delivery (Cumulative)\n",
    "- osrm_time : An open-source routing engine time calculator which computes the shortest path between points in a given map (Includes usual traffic, distance through major and minor roads) and gives the time (Cumulative)\n",
    "- osrm_distance : An open-source routing engine which computes the shortest path between points in a given map (Includes usual traffic, distance through major and minor roads) (Cumulative)\n",
    "- factor : Unknown field\n",
    "- segment_actual_time : This is a segment time. Time taken by the subset of the package delivery\n",
    "- segment_osrm_time : This is the OSRM segment time. Time taken by the subset of the package delivery\n",
    "- segment_osrm_distance : This is the OSRM distance. Distance covered by subset of the package delivery\n",
    "- segment_factor : Unknown field\n",
    "\n",
    "\n",
    "\n",
    "\n",
    "\n",
    "- #### In-depth analysis and feature engineering to be done : \n",
    "    \n",
    "    > - time taken between od_start_time and od_end_time \n",
    "    \n",
    "    > - hypothesis testing/ Visual analysis : population mean of start_scan_to_end_scan & time taken between od_start_time and od_end_time\n",
    "    > - hypothesis testing/ visual analysis :\n",
    "            - actual_time aggregated value and OSRM time aggregated value \n",
    "            \n",
    "    > - hypothesis testing/ visual analysis :\n",
    "            - actual_time aggregated value and segment actual time \n",
    "            \n",
    "    > - hypothesis testing/ visual analysis : \n",
    "            - osrm distance aggregated value and segment osrm distance \n",
    "            \n",
    "    > - hypothesis testing/ visual analysis :\n",
    "            - osrm time aggregated value and segment osrm time aggregated value\n",
    "            \n",
    "            \n",
    "    > - outliers in the numerical variables \n",
    "    \n",
    "    > - outliers using the IQR method.\n",
    "    \n",
    "    > - one-hot encoding of categorical variables (like route_type)\n",
    "    \n",
    "    > - Normalize/ Standardize the numerical features using MinMaxScaler or StandardScaler.\n",
    "\n"
   ]
  },
  {
   "cell_type": "code",
   "execution_count": 1,
   "id": "906a9b54",
   "metadata": {},
   "outputs": [],
   "source": [
    "import pandas as pd\n",
    "import numpy as np\n",
    "import seaborn as sns\n",
    "import matplotlib.pyplot as plt\n",
    "%matplotlib inline\n",
    "from matplotlib import figure\n",
    "import warnings\n",
    "warnings.filterwarnings('ignore')\n",
    "import statsmodels.api as sm\n",
    "from scipy.stats import norm\n",
    "from scipy.stats import t\n",
    "import plotly.express as px"
   ]
  },
  {
   "cell_type": "code",
   "execution_count": 2,
   "id": "15ef6660",
   "metadata": {},
   "outputs": [],
   "source": [
    "pd.set_option('display.max_columns', None)"
   ]
  },
  {
   "cell_type": "code",
   "execution_count": null,
   "id": "6fd5133f",
   "metadata": {},
   "outputs": [],
   "source": []
  },
  {
   "cell_type": "code",
   "execution_count": 3,
   "id": "e3f15ae5",
   "metadata": {},
   "outputs": [],
   "source": [
    "df = pd.read_csv(\"delhivery_data.txt\")"
   ]
  },
  {
   "cell_type": "code",
   "execution_count": 4,
   "id": "026a1880",
   "metadata": {},
   "outputs": [
    {
     "data": {
      "text/html": [
       "<div>\n",
       "<style scoped>\n",
       "    .dataframe tbody tr th:only-of-type {\n",
       "        vertical-align: middle;\n",
       "    }\n",
       "\n",
       "    .dataframe tbody tr th {\n",
       "        vertical-align: top;\n",
       "    }\n",
       "\n",
       "    .dataframe thead th {\n",
       "        text-align: right;\n",
       "    }\n",
       "</style>\n",
       "<table border=\"1\" class=\"dataframe\">\n",
       "  <thead>\n",
       "    <tr style=\"text-align: right;\">\n",
       "      <th></th>\n",
       "      <th>data</th>\n",
       "      <th>trip_creation_time</th>\n",
       "      <th>route_schedule_uuid</th>\n",
       "      <th>route_type</th>\n",
       "      <th>trip_uuid</th>\n",
       "      <th>source_center</th>\n",
       "      <th>source_name</th>\n",
       "      <th>destination_center</th>\n",
       "      <th>destination_name</th>\n",
       "      <th>od_start_time</th>\n",
       "      <th>od_end_time</th>\n",
       "      <th>start_scan_to_end_scan</th>\n",
       "      <th>is_cutoff</th>\n",
       "      <th>cutoff_factor</th>\n",
       "      <th>cutoff_timestamp</th>\n",
       "      <th>actual_distance_to_destination</th>\n",
       "      <th>actual_time</th>\n",
       "      <th>osrm_time</th>\n",
       "      <th>osrm_distance</th>\n",
       "      <th>factor</th>\n",
       "      <th>segment_actual_time</th>\n",
       "      <th>segment_osrm_time</th>\n",
       "      <th>segment_osrm_distance</th>\n",
       "      <th>segment_factor</th>\n",
       "    </tr>\n",
       "  </thead>\n",
       "  <tbody>\n",
       "    <tr>\n",
       "      <th>0</th>\n",
       "      <td>training</td>\n",
       "      <td>2018-09-20 02:35:36.476840</td>\n",
       "      <td>thanos::sroute:eb7bfc78-b351-4c0e-a951-fa3d5c3...</td>\n",
       "      <td>Carting</td>\n",
       "      <td>trip-153741093647649320</td>\n",
       "      <td>IND388121AAA</td>\n",
       "      <td>Anand_VUNagar_DC (Gujarat)</td>\n",
       "      <td>IND388620AAB</td>\n",
       "      <td>Khambhat_MotvdDPP_D (Gujarat)</td>\n",
       "      <td>2018-09-20 03:21:32.418600</td>\n",
       "      <td>2018-09-20 04:47:45.236797</td>\n",
       "      <td>86.0</td>\n",
       "      <td>True</td>\n",
       "      <td>9</td>\n",
       "      <td>2018-09-20 04:27:55</td>\n",
       "      <td>10.435660</td>\n",
       "      <td>14.0</td>\n",
       "      <td>11.0</td>\n",
       "      <td>11.9653</td>\n",
       "      <td>1.272727</td>\n",
       "      <td>14.0</td>\n",
       "      <td>11.0</td>\n",
       "      <td>11.9653</td>\n",
       "      <td>1.272727</td>\n",
       "    </tr>\n",
       "    <tr>\n",
       "      <th>1</th>\n",
       "      <td>training</td>\n",
       "      <td>2018-09-20 02:35:36.476840</td>\n",
       "      <td>thanos::sroute:eb7bfc78-b351-4c0e-a951-fa3d5c3...</td>\n",
       "      <td>Carting</td>\n",
       "      <td>trip-153741093647649320</td>\n",
       "      <td>IND388121AAA</td>\n",
       "      <td>Anand_VUNagar_DC (Gujarat)</td>\n",
       "      <td>IND388620AAB</td>\n",
       "      <td>Khambhat_MotvdDPP_D (Gujarat)</td>\n",
       "      <td>2018-09-20 03:21:32.418600</td>\n",
       "      <td>2018-09-20 04:47:45.236797</td>\n",
       "      <td>86.0</td>\n",
       "      <td>True</td>\n",
       "      <td>18</td>\n",
       "      <td>2018-09-20 04:17:55</td>\n",
       "      <td>18.936842</td>\n",
       "      <td>24.0</td>\n",
       "      <td>20.0</td>\n",
       "      <td>21.7243</td>\n",
       "      <td>1.200000</td>\n",
       "      <td>10.0</td>\n",
       "      <td>9.0</td>\n",
       "      <td>9.7590</td>\n",
       "      <td>1.111111</td>\n",
       "    </tr>\n",
       "    <tr>\n",
       "      <th>2</th>\n",
       "      <td>training</td>\n",
       "      <td>2018-09-20 02:35:36.476840</td>\n",
       "      <td>thanos::sroute:eb7bfc78-b351-4c0e-a951-fa3d5c3...</td>\n",
       "      <td>Carting</td>\n",
       "      <td>trip-153741093647649320</td>\n",
       "      <td>IND388121AAA</td>\n",
       "      <td>Anand_VUNagar_DC (Gujarat)</td>\n",
       "      <td>IND388620AAB</td>\n",
       "      <td>Khambhat_MotvdDPP_D (Gujarat)</td>\n",
       "      <td>2018-09-20 03:21:32.418600</td>\n",
       "      <td>2018-09-20 04:47:45.236797</td>\n",
       "      <td>86.0</td>\n",
       "      <td>True</td>\n",
       "      <td>27</td>\n",
       "      <td>2018-09-20 04:01:19.505586</td>\n",
       "      <td>27.637279</td>\n",
       "      <td>40.0</td>\n",
       "      <td>28.0</td>\n",
       "      <td>32.5395</td>\n",
       "      <td>1.428571</td>\n",
       "      <td>16.0</td>\n",
       "      <td>7.0</td>\n",
       "      <td>10.8152</td>\n",
       "      <td>2.285714</td>\n",
       "    </tr>\n",
       "    <tr>\n",
       "      <th>3</th>\n",
       "      <td>training</td>\n",
       "      <td>2018-09-20 02:35:36.476840</td>\n",
       "      <td>thanos::sroute:eb7bfc78-b351-4c0e-a951-fa3d5c3...</td>\n",
       "      <td>Carting</td>\n",
       "      <td>trip-153741093647649320</td>\n",
       "      <td>IND388121AAA</td>\n",
       "      <td>Anand_VUNagar_DC (Gujarat)</td>\n",
       "      <td>IND388620AAB</td>\n",
       "      <td>Khambhat_MotvdDPP_D (Gujarat)</td>\n",
       "      <td>2018-09-20 03:21:32.418600</td>\n",
       "      <td>2018-09-20 04:47:45.236797</td>\n",
       "      <td>86.0</td>\n",
       "      <td>True</td>\n",
       "      <td>36</td>\n",
       "      <td>2018-09-20 03:39:57</td>\n",
       "      <td>36.118028</td>\n",
       "      <td>62.0</td>\n",
       "      <td>40.0</td>\n",
       "      <td>45.5620</td>\n",
       "      <td>1.550000</td>\n",
       "      <td>21.0</td>\n",
       "      <td>12.0</td>\n",
       "      <td>13.0224</td>\n",
       "      <td>1.750000</td>\n",
       "    </tr>\n",
       "    <tr>\n",
       "      <th>4</th>\n",
       "      <td>training</td>\n",
       "      <td>2018-09-20 02:35:36.476840</td>\n",
       "      <td>thanos::sroute:eb7bfc78-b351-4c0e-a951-fa3d5c3...</td>\n",
       "      <td>Carting</td>\n",
       "      <td>trip-153741093647649320</td>\n",
       "      <td>IND388121AAA</td>\n",
       "      <td>Anand_VUNagar_DC (Gujarat)</td>\n",
       "      <td>IND388620AAB</td>\n",
       "      <td>Khambhat_MotvdDPP_D (Gujarat)</td>\n",
       "      <td>2018-09-20 03:21:32.418600</td>\n",
       "      <td>2018-09-20 04:47:45.236797</td>\n",
       "      <td>86.0</td>\n",
       "      <td>False</td>\n",
       "      <td>39</td>\n",
       "      <td>2018-09-20 03:33:55</td>\n",
       "      <td>39.386040</td>\n",
       "      <td>68.0</td>\n",
       "      <td>44.0</td>\n",
       "      <td>54.2181</td>\n",
       "      <td>1.545455</td>\n",
       "      <td>6.0</td>\n",
       "      <td>5.0</td>\n",
       "      <td>3.9153</td>\n",
       "      <td>1.200000</td>\n",
       "    </tr>\n",
       "  </tbody>\n",
       "</table>\n",
       "</div>"
      ],
      "text/plain": [
       "       data          trip_creation_time  \\\n",
       "0  training  2018-09-20 02:35:36.476840   \n",
       "1  training  2018-09-20 02:35:36.476840   \n",
       "2  training  2018-09-20 02:35:36.476840   \n",
       "3  training  2018-09-20 02:35:36.476840   \n",
       "4  training  2018-09-20 02:35:36.476840   \n",
       "\n",
       "                                 route_schedule_uuid route_type  \\\n",
       "0  thanos::sroute:eb7bfc78-b351-4c0e-a951-fa3d5c3...    Carting   \n",
       "1  thanos::sroute:eb7bfc78-b351-4c0e-a951-fa3d5c3...    Carting   \n",
       "2  thanos::sroute:eb7bfc78-b351-4c0e-a951-fa3d5c3...    Carting   \n",
       "3  thanos::sroute:eb7bfc78-b351-4c0e-a951-fa3d5c3...    Carting   \n",
       "4  thanos::sroute:eb7bfc78-b351-4c0e-a951-fa3d5c3...    Carting   \n",
       "\n",
       "                 trip_uuid source_center                 source_name  \\\n",
       "0  trip-153741093647649320  IND388121AAA  Anand_VUNagar_DC (Gujarat)   \n",
       "1  trip-153741093647649320  IND388121AAA  Anand_VUNagar_DC (Gujarat)   \n",
       "2  trip-153741093647649320  IND388121AAA  Anand_VUNagar_DC (Gujarat)   \n",
       "3  trip-153741093647649320  IND388121AAA  Anand_VUNagar_DC (Gujarat)   \n",
       "4  trip-153741093647649320  IND388121AAA  Anand_VUNagar_DC (Gujarat)   \n",
       "\n",
       "  destination_center               destination_name  \\\n",
       "0       IND388620AAB  Khambhat_MotvdDPP_D (Gujarat)   \n",
       "1       IND388620AAB  Khambhat_MotvdDPP_D (Gujarat)   \n",
       "2       IND388620AAB  Khambhat_MotvdDPP_D (Gujarat)   \n",
       "3       IND388620AAB  Khambhat_MotvdDPP_D (Gujarat)   \n",
       "4       IND388620AAB  Khambhat_MotvdDPP_D (Gujarat)   \n",
       "\n",
       "                od_start_time                 od_end_time  \\\n",
       "0  2018-09-20 03:21:32.418600  2018-09-20 04:47:45.236797   \n",
       "1  2018-09-20 03:21:32.418600  2018-09-20 04:47:45.236797   \n",
       "2  2018-09-20 03:21:32.418600  2018-09-20 04:47:45.236797   \n",
       "3  2018-09-20 03:21:32.418600  2018-09-20 04:47:45.236797   \n",
       "4  2018-09-20 03:21:32.418600  2018-09-20 04:47:45.236797   \n",
       "\n",
       "   start_scan_to_end_scan  is_cutoff  cutoff_factor  \\\n",
       "0                    86.0       True              9   \n",
       "1                    86.0       True             18   \n",
       "2                    86.0       True             27   \n",
       "3                    86.0       True             36   \n",
       "4                    86.0      False             39   \n",
       "\n",
       "             cutoff_timestamp  actual_distance_to_destination  actual_time  \\\n",
       "0         2018-09-20 04:27:55                       10.435660         14.0   \n",
       "1         2018-09-20 04:17:55                       18.936842         24.0   \n",
       "2  2018-09-20 04:01:19.505586                       27.637279         40.0   \n",
       "3         2018-09-20 03:39:57                       36.118028         62.0   \n",
       "4         2018-09-20 03:33:55                       39.386040         68.0   \n",
       "\n",
       "   osrm_time  osrm_distance    factor  segment_actual_time  segment_osrm_time  \\\n",
       "0       11.0        11.9653  1.272727                 14.0               11.0   \n",
       "1       20.0        21.7243  1.200000                 10.0                9.0   \n",
       "2       28.0        32.5395  1.428571                 16.0                7.0   \n",
       "3       40.0        45.5620  1.550000                 21.0               12.0   \n",
       "4       44.0        54.2181  1.545455                  6.0                5.0   \n",
       "\n",
       "   segment_osrm_distance  segment_factor  \n",
       "0                11.9653        1.272727  \n",
       "1                 9.7590        1.111111  \n",
       "2                10.8152        2.285714  \n",
       "3                13.0224        1.750000  \n",
       "4                 3.9153        1.200000  "
      ]
     },
     "execution_count": 4,
     "metadata": {},
     "output_type": "execute_result"
    }
   ],
   "source": [
    "df.head(5)"
   ]
  },
  {
   "cell_type": "markdown",
   "id": "9f492e24",
   "metadata": {},
   "source": [
    "# Understanding shape and structure of data : "
   ]
  },
  {
   "cell_type": "code",
   "execution_count": 5,
   "id": "717cbf31",
   "metadata": {},
   "outputs": [
    {
     "data": {
      "text/plain": [
       "(144867, 24)"
      ]
     },
     "execution_count": 5,
     "metadata": {},
     "output_type": "execute_result"
    }
   ],
   "source": [
    "df.shape"
   ]
  },
  {
   "cell_type": "code",
   "execution_count": 6,
   "id": "24a9a1e4",
   "metadata": {},
   "outputs": [],
   "source": [
    "# 144,867 total Records \n",
    "# 24 columns "
   ]
  },
  {
   "cell_type": "code",
   "execution_count": 7,
   "id": "57ec3515",
   "metadata": {},
   "outputs": [
    {
     "name": "stdout",
     "output_type": "stream",
     "text": [
      "<class 'pandas.core.frame.DataFrame'>\n",
      "RangeIndex: 144867 entries, 0 to 144866\n",
      "Data columns (total 24 columns):\n",
      " #   Column                          Non-Null Count   Dtype  \n",
      "---  ------                          --------------   -----  \n",
      " 0   data                            144867 non-null  object \n",
      " 1   trip_creation_time              144867 non-null  object \n",
      " 2   route_schedule_uuid             144867 non-null  object \n",
      " 3   route_type                      144867 non-null  object \n",
      " 4   trip_uuid                       144867 non-null  object \n",
      " 5   source_center                   144867 non-null  object \n",
      " 6   source_name                     144574 non-null  object \n",
      " 7   destination_center              144867 non-null  object \n",
      " 8   destination_name                144606 non-null  object \n",
      " 9   od_start_time                   144867 non-null  object \n",
      " 10  od_end_time                     144867 non-null  object \n",
      " 11  start_scan_to_end_scan          144867 non-null  float64\n",
      " 12  is_cutoff                       144867 non-null  bool   \n",
      " 13  cutoff_factor                   144867 non-null  int64  \n",
      " 14  cutoff_timestamp                144867 non-null  object \n",
      " 15  actual_distance_to_destination  144867 non-null  float64\n",
      " 16  actual_time                     144867 non-null  float64\n",
      " 17  osrm_time                       144867 non-null  float64\n",
      " 18  osrm_distance                   144867 non-null  float64\n",
      " 19  factor                          144867 non-null  float64\n",
      " 20  segment_actual_time             144867 non-null  float64\n",
      " 21  segment_osrm_time               144867 non-null  float64\n",
      " 22  segment_osrm_distance           144867 non-null  float64\n",
      " 23  segment_factor                  144867 non-null  float64\n",
      "dtypes: bool(1), float64(10), int64(1), object(12)\n",
      "memory usage: 25.6+ MB\n"
     ]
    }
   ],
   "source": [
    "df.info()"
   ]
  },
  {
   "cell_type": "code",
   "execution_count": 8,
   "id": "3e0f9357",
   "metadata": {},
   "outputs": [
    {
     "data": {
      "text/plain": [
       "data                                0\n",
       "trip_creation_time                  0\n",
       "route_schedule_uuid                 0\n",
       "route_type                          0\n",
       "trip_uuid                           0\n",
       "source_center                       0\n",
       "source_name                       293\n",
       "destination_center                  0\n",
       "destination_name                  261\n",
       "od_start_time                       0\n",
       "od_end_time                         0\n",
       "start_scan_to_end_scan              0\n",
       "is_cutoff                           0\n",
       "cutoff_factor                       0\n",
       "cutoff_timestamp                    0\n",
       "actual_distance_to_destination      0\n",
       "actual_time                         0\n",
       "osrm_time                           0\n",
       "osrm_distance                       0\n",
       "factor                              0\n",
       "segment_actual_time                 0\n",
       "segment_osrm_time                   0\n",
       "segment_osrm_distance               0\n",
       "segment_factor                      0\n",
       "dtype: int64"
      ]
     },
     "execution_count": 8,
     "metadata": {},
     "output_type": "execute_result"
    }
   ],
   "source": [
    "df.isna().sum()"
   ]
  },
  {
   "cell_type": "code",
   "execution_count": 9,
   "id": "4cacb86d",
   "metadata": {},
   "outputs": [],
   "source": [
    "# features : source_name and destination_name having few missing values"
   ]
  },
  {
   "cell_type": "markdown",
   "id": "d6ca3a45",
   "metadata": {},
   "source": [
    "## Changing data type for data and time related features : \n"
   ]
  },
  {
   "cell_type": "code",
   "execution_count": 10,
   "id": "69fdb2f4",
   "metadata": {},
   "outputs": [],
   "source": [
    "df[\"od_end_time\"] = pd.to_datetime(df[\"od_end_time\"])\n",
    "df[\"od_start_time\"] = pd.to_datetime(df[\"od_start_time\"])\n",
    "df[\"trip_creation_time\"] = pd.to_datetime(df[\"trip_creation_time\"])"
   ]
  },
  {
   "cell_type": "markdown",
   "id": "08dbfba8",
   "metadata": {},
   "source": [
    "## Extracting Trip Creation Informations from Trip Creation time : "
   ]
  },
  {
   "cell_type": "code",
   "execution_count": 11,
   "id": "d968b228",
   "metadata": {},
   "outputs": [
    {
     "data": {
      "text/plain": [
       "September    127349\n",
       "October       17518\n",
       "Name: trip_creation_time, dtype: int64"
      ]
     },
     "execution_count": 11,
     "metadata": {},
     "output_type": "execute_result"
    }
   ],
   "source": [
    "df[\"trip_creation_time\"].dt.month_name().value_counts()"
   ]
  },
  {
   "cell_type": "code",
   "execution_count": 12,
   "id": "360d400e",
   "metadata": {},
   "outputs": [
    {
     "data": {
      "text/plain": [
       "2018    144867\n",
       "Name: trip_creation_time, dtype: int64"
      ]
     },
     "execution_count": 12,
     "metadata": {},
     "output_type": "execute_result"
    }
   ],
   "source": [
    "df[\"trip_creation_time\"].dt.year.value_counts()"
   ]
  },
  {
   "cell_type": "code",
   "execution_count": 13,
   "id": "e500abf7",
   "metadata": {},
   "outputs": [],
   "source": [
    "# delivery trip data is given from Septemebr and October 2018."
   ]
  },
  {
   "cell_type": "code",
   "execution_count": 14,
   "id": "79b5ccf2",
   "metadata": {},
   "outputs": [],
   "source": [
    "df[\"trip_creation_day\"] = (df[\"trip_creation_time\"].dt.day_name())"
   ]
  },
  {
   "cell_type": "code",
   "execution_count": 15,
   "id": "dabfd1ae",
   "metadata": {},
   "outputs": [
    {
     "data": {
      "text/plain": [
       "<AxesSubplot:>"
      ]
     },
     "execution_count": 15,
     "metadata": {},
     "output_type": "execute_result"
    },
    {
     "data": {
      "image/png": "[encoded data removed]",
      "text/plain": [
       "<Figure size 432x288 with 1 Axes>"
      ]
     },
     "metadata": {
      "needs_background": "light"
     },
     "output_type": "display_data"
    }
   ],
   "source": [
    "df[\"trip_creation_day\"].value_counts().plot(kind = \"bar\")"
   ]
  },
  {
   "cell_type": "code",
   "execution_count": 16,
   "id": "1266e14d",
   "metadata": {},
   "outputs": [
    {
     "data": {
      "text/plain": [
       "Wednesday    18.452788\n",
       "Thursday     14.137795\n",
       "Friday       13.972816\n",
       "Tuesday      13.778845\n",
       "Saturday     13.761588\n",
       "Monday       13.560714\n",
       "Sunday       12.335453\n",
       "Name: trip_creation_day, dtype: float64"
      ]
     },
     "execution_count": 16,
     "metadata": {},
     "output_type": "execute_result"
    }
   ],
   "source": [
    "# wednesday seems to have relatively higher records of data compare to other days . \n",
    "df[\"trip_creation_day\"].value_counts(normalize=True)*100"
   ]
  },
  {
   "cell_type": "code",
   "execution_count": null,
   "id": "11870402",
   "metadata": {},
   "outputs": [],
   "source": []
  },
  {
   "cell_type": "markdown",
   "id": "1c75bf24",
   "metadata": {},
   "source": [
    "# Understanding the structure : "
   ]
  },
  {
   "cell_type": "code",
   "execution_count": 17,
   "id": "cd3b20ec",
   "metadata": {},
   "outputs": [
    {
     "data": {
      "text/plain": [
       "data                                   2\n",
       "trip_creation_time                 14817\n",
       "route_schedule_uuid                 1504\n",
       "route_type                             2\n",
       "trip_uuid                          14817\n",
       "source_center                       1508\n",
       "source_name                         1498\n",
       "destination_center                  1481\n",
       "destination_name                    1468\n",
       "od_start_time                      26369\n",
       "od_end_time                        26369\n",
       "start_scan_to_end_scan              1915\n",
       "is_cutoff                              2\n",
       "cutoff_factor                        501\n",
       "cutoff_timestamp                   93180\n",
       "actual_distance_to_destination    144515\n",
       "actual_time                         3182\n",
       "osrm_time                           1531\n",
       "osrm_distance                     138046\n",
       "factor                             45641\n",
       "segment_actual_time                  747\n",
       "segment_osrm_time                    214\n",
       "segment_osrm_distance             113799\n",
       "segment_factor                      5675\n",
       "trip_creation_day                      7\n",
       "dtype: int64"
      ]
     },
     "execution_count": 17,
     "metadata": {},
     "output_type": "execute_result"
    }
   ],
   "source": [
    "df.nunique()"
   ]
  },
  {
   "cell_type": "markdown",
   "id": "8cb261a0",
   "metadata": {},
   "source": [
    "### we have `14817 different trips happended between source to destinations.` \n",
    "### total ` 1504 delivery routes` we have.\n",
    "\n",
    "#### 1508 unique source centers \n",
    "#### 1481 unique destination centres \n",
    "\n",
    "\n",
    "## There are two different kind of routes are there : "
   ]
  },
  {
   "cell_type": "code",
   "execution_count": 18,
   "id": "04d27a2e",
   "metadata": {},
   "outputs": [
    {
     "data": {
      "text/plain": [
       "Carting    922\n",
       "FTL        582\n",
       "Name: route_type, dtype: int64"
      ]
     },
     "execution_count": 18,
     "metadata": {},
     "output_type": "execute_result"
    }
   ],
   "source": [
    "df.groupby(\"route_schedule_uuid\")[\"route_type\"].unique().reset_index()[\"route_type\"].apply(lambda x:x[0]).value_counts()"
   ]
  },
  {
   "cell_type": "code",
   "execution_count": 19,
   "id": "2794e54f",
   "metadata": {},
   "outputs": [
    {
     "data": {
      "text/plain": [
       "Carting    61.303191\n",
       "FTL        38.696809\n",
       "Name: route_type, dtype: float64"
      ]
     },
     "execution_count": 19,
     "metadata": {},
     "output_type": "execute_result"
    }
   ],
   "source": [
    "df.groupby(\"route_schedule_uuid\")[\"route_type\"].unique().reset_index()[\"route_type\"].apply(lambda x:x[0]).value_counts(normalize = True)*100"
   ]
  },
  {
   "cell_type": "code",
   "execution_count": 20,
   "id": "46addeae",
   "metadata": {},
   "outputs": [
    {
     "data": {
      "text/plain": [
       "Carting    61.303191\n",
       "FTL        38.696809\n",
       "Name: route_type, dtype: float64"
      ]
     },
     "execution_count": 20,
     "metadata": {},
     "output_type": "execute_result"
    }
   ],
   "source": [
    "routeType_plot= (df.groupby(\"route_schedule_uuid\")[\"route_type\"].unique().reset_index()[\"route_type\"].apply(lambda x:x[0]).value_counts(normalize = True)*100)\n",
    "routeType_plot"
   ]
  },
  {
   "cell_type": "code",
   "execution_count": 21,
   "id": "58ff6241",
   "metadata": {},
   "outputs": [
    {
     "data": {
      "text/plain": [
       "<AxesSubplot:ylabel='route_type'>"
      ]
     },
     "execution_count": 21,
     "metadata": {},
     "output_type": "execute_result"
    },
    {
     "data": {
      "image/png": "[encoded data removed]",
      "text/plain": [
       "<Figure size 432x288 with 1 Axes>"
      ]
     },
     "metadata": {
      "needs_background": "light"
     },
     "output_type": "display_data"
    }
   ],
   "source": [
    "sns.barplot(x= routeType_plot.index,\n",
    "           y = routeType_plot)"
   ]
  },
  {
   "cell_type": "markdown",
   "id": "2bf891d0",
   "metadata": {},
   "source": [
    "#### From `1504 total different routes` , we have \n",
    "#### 922 `(61%)` of the routes are `Carting` , which consists of small vehicles and \n",
    "#### 582 `(38.69%)` of total routes are `FTL` : which are Full Truck Load get to the destination sooner.  as no otther pickups  or drop offs along the way . "
   ]
  },
  {
   "cell_type": "code",
   "execution_count": null,
   "id": "3a0415dd",
   "metadata": {},
   "outputs": [],
   "source": []
  },
  {
   "cell_type": "code",
   "execution_count": 22,
   "id": "a8dd076b",
   "metadata": {
    "scrolled": true
   },
   "outputs": [],
   "source": [
    "# df.groupby(\"trip_uuid\")[\"route_type\"].unique().value_counts()"
   ]
  },
  {
   "cell_type": "code",
   "execution_count": null,
   "id": "cda20c97",
   "metadata": {},
   "outputs": [],
   "source": []
  },
  {
   "cell_type": "markdown",
   "id": "12982469",
   "metadata": {},
   "source": [
    "# Undestanding Features and Feature Engineering  :\n",
    "\n",
    "## Analyzing records for one particular trip id : \n"
   ]
  },
  {
   "cell_type": "code",
   "execution_count": 23,
   "id": "11dce1e8",
   "metadata": {
    "scrolled": false
   },
   "outputs": [
    {
     "data": {
      "text/html": [
       "<div>\n",
       "<style scoped>\n",
       "    .dataframe tbody tr th:only-of-type {\n",
       "        vertical-align: middle;\n",
       "    }\n",
       "\n",
       "    .dataframe tbody tr th {\n",
       "        vertical-align: top;\n",
       "    }\n",
       "\n",
       "    .dataframe thead th {\n",
       "        text-align: right;\n",
       "    }\n",
       "</style>\n",
       "<table border=\"1\" class=\"dataframe\">\n",
       "  <thead>\n",
       "    <tr style=\"text-align: right;\">\n",
       "      <th></th>\n",
       "      <th>data</th>\n",
       "      <th>trip_creation_time</th>\n",
       "      <th>route_schedule_uuid</th>\n",
       "      <th>route_type</th>\n",
       "      <th>trip_uuid</th>\n",
       "      <th>source_center</th>\n",
       "      <th>source_name</th>\n",
       "      <th>destination_center</th>\n",
       "      <th>destination_name</th>\n",
       "      <th>od_start_time</th>\n",
       "      <th>od_end_time</th>\n",
       "      <th>start_scan_to_end_scan</th>\n",
       "      <th>is_cutoff</th>\n",
       "      <th>cutoff_factor</th>\n",
       "      <th>cutoff_timestamp</th>\n",
       "      <th>actual_distance_to_destination</th>\n",
       "      <th>actual_time</th>\n",
       "      <th>osrm_time</th>\n",
       "      <th>osrm_distance</th>\n",
       "      <th>factor</th>\n",
       "      <th>segment_actual_time</th>\n",
       "      <th>segment_osrm_time</th>\n",
       "      <th>segment_osrm_distance</th>\n",
       "      <th>segment_factor</th>\n",
       "      <th>trip_creation_day</th>\n",
       "    </tr>\n",
       "  </thead>\n",
       "  <tbody>\n",
       "    <tr>\n",
       "      <th>0</th>\n",
       "      <td>training</td>\n",
       "      <td>2018-09-20 02:35:36.476840</td>\n",
       "      <td>thanos::sroute:eb7bfc78-b351-4c0e-a951-fa3d5c3...</td>\n",
       "      <td>Carting</td>\n",
       "      <td>trip-153741093647649320</td>\n",
       "      <td>IND388121AAA</td>\n",
       "      <td>Anand_VUNagar_DC (Gujarat)</td>\n",
       "      <td>IND388620AAB</td>\n",
       "      <td>Khambhat_MotvdDPP_D (Gujarat)</td>\n",
       "      <td>2018-09-20 03:21:32.418600</td>\n",
       "      <td>2018-09-20 04:47:45.236797</td>\n",
       "      <td>86.0</td>\n",
       "      <td>True</td>\n",
       "      <td>9</td>\n",
       "      <td>2018-09-20 04:27:55</td>\n",
       "      <td>10.435660</td>\n",
       "      <td>14.0</td>\n",
       "      <td>11.0</td>\n",
       "      <td>11.9653</td>\n",
       "      <td>1.272727</td>\n",
       "      <td>14.0</td>\n",
       "      <td>11.0</td>\n",
       "      <td>11.9653</td>\n",
       "      <td>1.272727</td>\n",
       "      <td>Thursday</td>\n",
       "    </tr>\n",
       "    <tr>\n",
       "      <th>1</th>\n",
       "      <td>training</td>\n",
       "      <td>2018-09-20 02:35:36.476840</td>\n",
       "      <td>thanos::sroute:eb7bfc78-b351-4c0e-a951-fa3d5c3...</td>\n",
       "      <td>Carting</td>\n",
       "      <td>trip-153741093647649320</td>\n",
       "      <td>IND388121AAA</td>\n",
       "      <td>Anand_VUNagar_DC (Gujarat)</td>\n",
       "      <td>IND388620AAB</td>\n",
       "      <td>Khambhat_MotvdDPP_D (Gujarat)</td>\n",
       "      <td>2018-09-20 03:21:32.418600</td>\n",
       "      <td>2018-09-20 04:47:45.236797</td>\n",
       "      <td>86.0</td>\n",
       "      <td>True</td>\n",
       "      <td>18</td>\n",
       "      <td>2018-09-20 04:17:55</td>\n",
       "      <td>18.936842</td>\n",
       "      <td>24.0</td>\n",
       "      <td>20.0</td>\n",
       "      <td>21.7243</td>\n",
       "      <td>1.200000</td>\n",
       "      <td>10.0</td>\n",
       "      <td>9.0</td>\n",
       "      <td>9.7590</td>\n",
       "      <td>1.111111</td>\n",
       "      <td>Thursday</td>\n",
       "    </tr>\n",
       "    <tr>\n",
       "      <th>2</th>\n",
       "      <td>training</td>\n",
       "      <td>2018-09-20 02:35:36.476840</td>\n",
       "      <td>thanos::sroute:eb7bfc78-b351-4c0e-a951-fa3d5c3...</td>\n",
       "      <td>Carting</td>\n",
       "      <td>trip-153741093647649320</td>\n",
       "      <td>IND388121AAA</td>\n",
       "      <td>Anand_VUNagar_DC (Gujarat)</td>\n",
       "      <td>IND388620AAB</td>\n",
       "      <td>Khambhat_MotvdDPP_D (Gujarat)</td>\n",
       "      <td>2018-09-20 03:21:32.418600</td>\n",
       "      <td>2018-09-20 04:47:45.236797</td>\n",
       "      <td>86.0</td>\n",
       "      <td>True</td>\n",
       "      <td>27</td>\n",
       "      <td>2018-09-20 04:01:19.505586</td>\n",
       "      <td>27.637279</td>\n",
       "      <td>40.0</td>\n",
       "      <td>28.0</td>\n",
       "      <td>32.5395</td>\n",
       "      <td>1.428571</td>\n",
       "      <td>16.0</td>\n",
       "      <td>7.0</td>\n",
       "      <td>10.8152</td>\n",
       "      <td>2.285714</td>\n",
       "      <td>Thursday</td>\n",
       "    </tr>\n",
       "    <tr>\n",
       "      <th>3</th>\n",
       "      <td>training</td>\n",
       "      <td>2018-09-20 02:35:36.476840</td>\n",
       "      <td>thanos::sroute:eb7bfc78-b351-4c0e-a951-fa3d5c3...</td>\n",
       "      <td>Carting</td>\n",
       "      <td>trip-153741093647649320</td>\n",
       "      <td>IND388121AAA</td>\n",
       "      <td>Anand_VUNagar_DC (Gujarat)</td>\n",
       "      <td>IND388620AAB</td>\n",
       "      <td>Khambhat_MotvdDPP_D (Gujarat)</td>\n",
       "      <td>2018-09-20 03:21:32.418600</td>\n",
       "      <td>2018-09-20 04:47:45.236797</td>\n",
       "      <td>86.0</td>\n",
       "      <td>True</td>\n",
       "      <td>36</td>\n",
       "      <td>2018-09-20 03:39:57</td>\n",
       "      <td>36.118028</td>\n",
       "      <td>62.0</td>\n",
       "      <td>40.0</td>\n",
       "      <td>45.5620</td>\n",
       "      <td>1.550000</td>\n",
       "      <td>21.0</td>\n",
       "      <td>12.0</td>\n",
       "      <td>13.0224</td>\n",
       "      <td>1.750000</td>\n",
       "      <td>Thursday</td>\n",
       "    </tr>\n",
       "    <tr>\n",
       "      <th>4</th>\n",
       "      <td>training</td>\n",
       "      <td>2018-09-20 02:35:36.476840</td>\n",
       "      <td>thanos::sroute:eb7bfc78-b351-4c0e-a951-fa3d5c3...</td>\n",
       "      <td>Carting</td>\n",
       "      <td>trip-153741093647649320</td>\n",
       "      <td>IND388121AAA</td>\n",
       "      <td>Anand_VUNagar_DC (Gujarat)</td>\n",
       "      <td>IND388620AAB</td>\n",
       "      <td>Khambhat_MotvdDPP_D (Gujarat)</td>\n",
       "      <td>2018-09-20 03:21:32.418600</td>\n",
       "      <td>2018-09-20 04:47:45.236797</td>\n",
       "      <td>86.0</td>\n",
       "      <td>False</td>\n",
       "      <td>39</td>\n",
       "      <td>2018-09-20 03:33:55</td>\n",
       "      <td>39.386040</td>\n",
       "      <td>68.0</td>\n",
       "      <td>44.0</td>\n",
       "      <td>54.2181</td>\n",
       "      <td>1.545455</td>\n",
       "      <td>6.0</td>\n",
       "      <td>5.0</td>\n",
       "      <td>3.9153</td>\n",
       "      <td>1.200000</td>\n",
       "      <td>Thursday</td>\n",
       "    </tr>\n",
       "    <tr>\n",
       "      <th>5</th>\n",
       "      <td>training</td>\n",
       "      <td>2018-09-20 02:35:36.476840</td>\n",
       "      <td>thanos::sroute:eb7bfc78-b351-4c0e-a951-fa3d5c3...</td>\n",
       "      <td>Carting</td>\n",
       "      <td>trip-153741093647649320</td>\n",
       "      <td>IND388620AAB</td>\n",
       "      <td>Khambhat_MotvdDPP_D (Gujarat)</td>\n",
       "      <td>IND388320AAA</td>\n",
       "      <td>Anand_Vaghasi_IP (Gujarat)</td>\n",
       "      <td>2018-09-20 04:47:45.236797</td>\n",
       "      <td>2018-09-20 06:36:55.627764</td>\n",
       "      <td>109.0</td>\n",
       "      <td>True</td>\n",
       "      <td>9</td>\n",
       "      <td>2018-09-20 06:15:58</td>\n",
       "      <td>10.403038</td>\n",
       "      <td>15.0</td>\n",
       "      <td>11.0</td>\n",
       "      <td>12.1171</td>\n",
       "      <td>1.363636</td>\n",
       "      <td>15.0</td>\n",
       "      <td>11.0</td>\n",
       "      <td>12.1171</td>\n",
       "      <td>1.363636</td>\n",
       "      <td>Thursday</td>\n",
       "    </tr>\n",
       "    <tr>\n",
       "      <th>6</th>\n",
       "      <td>training</td>\n",
       "      <td>2018-09-20 02:35:36.476840</td>\n",
       "      <td>thanos::sroute:eb7bfc78-b351-4c0e-a951-fa3d5c3...</td>\n",
       "      <td>Carting</td>\n",
       "      <td>trip-153741093647649320</td>\n",
       "      <td>IND388620AAB</td>\n",
       "      <td>Khambhat_MotvdDPP_D (Gujarat)</td>\n",
       "      <td>IND388320AAA</td>\n",
       "      <td>Anand_Vaghasi_IP (Gujarat)</td>\n",
       "      <td>2018-09-20 04:47:45.236797</td>\n",
       "      <td>2018-09-20 06:36:55.627764</td>\n",
       "      <td>109.0</td>\n",
       "      <td>True</td>\n",
       "      <td>18</td>\n",
       "      <td>2018-09-20 05:47:29</td>\n",
       "      <td>18.045481</td>\n",
       "      <td>44.0</td>\n",
       "      <td>17.0</td>\n",
       "      <td>21.2890</td>\n",
       "      <td>2.588235</td>\n",
       "      <td>28.0</td>\n",
       "      <td>6.0</td>\n",
       "      <td>9.1719</td>\n",
       "      <td>4.666667</td>\n",
       "      <td>Thursday</td>\n",
       "    </tr>\n",
       "    <tr>\n",
       "      <th>7</th>\n",
       "      <td>training</td>\n",
       "      <td>2018-09-20 02:35:36.476840</td>\n",
       "      <td>thanos::sroute:eb7bfc78-b351-4c0e-a951-fa3d5c3...</td>\n",
       "      <td>Carting</td>\n",
       "      <td>trip-153741093647649320</td>\n",
       "      <td>IND388620AAB</td>\n",
       "      <td>Khambhat_MotvdDPP_D (Gujarat)</td>\n",
       "      <td>IND388320AAA</td>\n",
       "      <td>Anand_Vaghasi_IP (Gujarat)</td>\n",
       "      <td>2018-09-20 04:47:45.236797</td>\n",
       "      <td>2018-09-20 06:36:55.627764</td>\n",
       "      <td>109.0</td>\n",
       "      <td>True</td>\n",
       "      <td>27</td>\n",
       "      <td>2018-09-20 05:25:58</td>\n",
       "      <td>28.061896</td>\n",
       "      <td>65.0</td>\n",
       "      <td>29.0</td>\n",
       "      <td>35.8252</td>\n",
       "      <td>2.241379</td>\n",
       "      <td>21.0</td>\n",
       "      <td>11.0</td>\n",
       "      <td>14.5362</td>\n",
       "      <td>1.909091</td>\n",
       "      <td>Thursday</td>\n",
       "    </tr>\n",
       "    <tr>\n",
       "      <th>8</th>\n",
       "      <td>training</td>\n",
       "      <td>2018-09-20 02:35:36.476840</td>\n",
       "      <td>thanos::sroute:eb7bfc78-b351-4c0e-a951-fa3d5c3...</td>\n",
       "      <td>Carting</td>\n",
       "      <td>trip-153741093647649320</td>\n",
       "      <td>IND388620AAB</td>\n",
       "      <td>Khambhat_MotvdDPP_D (Gujarat)</td>\n",
       "      <td>IND388320AAA</td>\n",
       "      <td>Anand_Vaghasi_IP (Gujarat)</td>\n",
       "      <td>2018-09-20 04:47:45.236797</td>\n",
       "      <td>2018-09-20 06:36:55.627764</td>\n",
       "      <td>109.0</td>\n",
       "      <td>True</td>\n",
       "      <td>36</td>\n",
       "      <td>2018-09-20 05:15:56</td>\n",
       "      <td>38.939167</td>\n",
       "      <td>76.0</td>\n",
       "      <td>39.0</td>\n",
       "      <td>47.1900</td>\n",
       "      <td>1.948718</td>\n",
       "      <td>10.0</td>\n",
       "      <td>10.0</td>\n",
       "      <td>11.3648</td>\n",
       "      <td>1.000000</td>\n",
       "      <td>Thursday</td>\n",
       "    </tr>\n",
       "    <tr>\n",
       "      <th>9</th>\n",
       "      <td>training</td>\n",
       "      <td>2018-09-20 02:35:36.476840</td>\n",
       "      <td>thanos::sroute:eb7bfc78-b351-4c0e-a951-fa3d5c3...</td>\n",
       "      <td>Carting</td>\n",
       "      <td>trip-153741093647649320</td>\n",
       "      <td>IND388620AAB</td>\n",
       "      <td>Khambhat_MotvdDPP_D (Gujarat)</td>\n",
       "      <td>IND388320AAA</td>\n",
       "      <td>Anand_Vaghasi_IP (Gujarat)</td>\n",
       "      <td>2018-09-20 04:47:45.236797</td>\n",
       "      <td>2018-09-20 06:36:55.627764</td>\n",
       "      <td>109.0</td>\n",
       "      <td>False</td>\n",
       "      <td>43</td>\n",
       "      <td>2018-09-20 04:49:20</td>\n",
       "      <td>43.595802</td>\n",
       "      <td>102.0</td>\n",
       "      <td>45.0</td>\n",
       "      <td>53.2334</td>\n",
       "      <td>2.266667</td>\n",
       "      <td>26.0</td>\n",
       "      <td>6.0</td>\n",
       "      <td>6.0434</td>\n",
       "      <td>4.333333</td>\n",
       "      <td>Thursday</td>\n",
       "    </tr>\n",
       "  </tbody>\n",
       "</table>\n",
       "</div>"
      ],
      "text/plain": [
       "       data         trip_creation_time  \\\n",
       "0  training 2018-09-20 02:35:36.476840   \n",
       "1  training 2018-09-20 02:35:36.476840   \n",
       "2  training 2018-09-20 02:35:36.476840   \n",
       "3  training 2018-09-20 02:35:36.476840   \n",
       "4  training 2018-09-20 02:35:36.476840   \n",
       "5  training 2018-09-20 02:35:36.476840   \n",
       "6  training 2018-09-20 02:35:36.476840   \n",
       "7  training 2018-09-20 02:35:36.476840   \n",
       "8  training 2018-09-20 02:35:36.476840   \n",
       "9  training 2018-09-20 02:35:36.476840   \n",
       "\n",
       "                                 route_schedule_uuid route_type  \\\n",
       "0  thanos::sroute:eb7bfc78-b351-4c0e-a951-fa3d5c3...    Carting   \n",
       "1  thanos::sroute:eb7bfc78-b351-4c0e-a951-fa3d5c3...    Carting   \n",
       "2  thanos::sroute:eb7bfc78-b351-4c0e-a951-fa3d5c3...    Carting   \n",
       "3  thanos::sroute:eb7bfc78-b351-4c0e-a951-fa3d5c3...    Carting   \n",
       "4  thanos::sroute:eb7bfc78-b351-4c0e-a951-fa3d5c3...    Carting   \n",
       "5  thanos::sroute:eb7bfc78-b351-4c0e-a951-fa3d5c3...    Carting   \n",
       "6  thanos::sroute:eb7bfc78-b351-4c0e-a951-fa3d5c3...    Carting   \n",
       "7  thanos::sroute:eb7bfc78-b351-4c0e-a951-fa3d5c3...    Carting   \n",
       "8  thanos::sroute:eb7bfc78-b351-4c0e-a951-fa3d5c3...    Carting   \n",
       "9  thanos::sroute:eb7bfc78-b351-4c0e-a951-fa3d5c3...    Carting   \n",
       "\n",
       "                 trip_uuid source_center                    source_name  \\\n",
       "0  trip-153741093647649320  IND388121AAA     Anand_VUNagar_DC (Gujarat)   \n",
       "1  trip-153741093647649320  IND388121AAA     Anand_VUNagar_DC (Gujarat)   \n",
       "2  trip-153741093647649320  IND388121AAA     Anand_VUNagar_DC (Gujarat)   \n",
       "3  trip-153741093647649320  IND388121AAA     Anand_VUNagar_DC (Gujarat)   \n",
       "4  trip-153741093647649320  IND388121AAA     Anand_VUNagar_DC (Gujarat)   \n",
       "5  trip-153741093647649320  IND388620AAB  Khambhat_MotvdDPP_D (Gujarat)   \n",
       "6  trip-153741093647649320  IND388620AAB  Khambhat_MotvdDPP_D (Gujarat)   \n",
       "7  trip-153741093647649320  IND388620AAB  Khambhat_MotvdDPP_D (Gujarat)   \n",
       "8  trip-153741093647649320  IND388620AAB  Khambhat_MotvdDPP_D (Gujarat)   \n",
       "9  trip-153741093647649320  IND388620AAB  Khambhat_MotvdDPP_D (Gujarat)   \n",
       "\n",
       "  destination_center               destination_name  \\\n",
       "0       IND388620AAB  Khambhat_MotvdDPP_D (Gujarat)   \n",
       "1       IND388620AAB  Khambhat_MotvdDPP_D (Gujarat)   \n",
       "2       IND388620AAB  Khambhat_MotvdDPP_D (Gujarat)   \n",
       "3       IND388620AAB  Khambhat_MotvdDPP_D (Gujarat)   \n",
       "4       IND388620AAB  Khambhat_MotvdDPP_D (Gujarat)   \n",
       "5       IND388320AAA     Anand_Vaghasi_IP (Gujarat)   \n",
       "6       IND388320AAA     Anand_Vaghasi_IP (Gujarat)   \n",
       "7       IND388320AAA     Anand_Vaghasi_IP (Gujarat)   \n",
       "8       IND388320AAA     Anand_Vaghasi_IP (Gujarat)   \n",
       "9       IND388320AAA     Anand_Vaghasi_IP (Gujarat)   \n",
       "\n",
       "               od_start_time                od_end_time  \\\n",
       "0 2018-09-20 03:21:32.418600 2018-09-20 04:47:45.236797   \n",
       "1 2018-09-20 03:21:32.418600 2018-09-20 04:47:45.236797   \n",
       "2 2018-09-20 03:21:32.418600 2018-09-20 04:47:45.236797   \n",
       "3 2018-09-20 03:21:32.418600 2018-09-20 04:47:45.236797   \n",
       "4 2018-09-20 03:21:32.418600 2018-09-20 04:47:45.236797   \n",
       "5 2018-09-20 04:47:45.236797 2018-09-20 06:36:55.627764   \n",
       "6 2018-09-20 04:47:45.236797 2018-09-20 06:36:55.627764   \n",
       "7 2018-09-20 04:47:45.236797 2018-09-20 06:36:55.627764   \n",
       "8 2018-09-20 04:47:45.236797 2018-09-20 06:36:55.627764   \n",
       "9 2018-09-20 04:47:45.236797 2018-09-20 06:36:55.627764   \n",
       "\n",
       "   start_scan_to_end_scan  is_cutoff  cutoff_factor  \\\n",
       "0                    86.0       True              9   \n",
       "1                    86.0       True             18   \n",
       "2                    86.0       True             27   \n",
       "3                    86.0       True             36   \n",
       "4                    86.0      False             39   \n",
       "5                   109.0       True              9   \n",
       "6                   109.0       True             18   \n",
       "7                   109.0       True             27   \n",
       "8                   109.0       True             36   \n",
       "9                   109.0      False             43   \n",
       "\n",
       "             cutoff_timestamp  actual_distance_to_destination  actual_time  \\\n",
       "0         2018-09-20 04:27:55                       10.435660         14.0   \n",
       "1         2018-09-20 04:17:55                       18.936842         24.0   \n",
       "2  2018-09-20 04:01:19.505586                       27.637279         40.0   \n",
       "3         2018-09-20 03:39:57                       36.118028         62.0   \n",
       "4         2018-09-20 03:33:55                       39.386040         68.0   \n",
       "5         2018-09-20 06:15:58                       10.403038         15.0   \n",
       "6         2018-09-20 05:47:29                       18.045481         44.0   \n",
       "7         2018-09-20 05:25:58                       28.061896         65.0   \n",
       "8         2018-09-20 05:15:56                       38.939167         76.0   \n",
       "9         2018-09-20 04:49:20                       43.595802        102.0   \n",
       "\n",
       "   osrm_time  osrm_distance    factor  segment_actual_time  segment_osrm_time  \\\n",
       "0       11.0        11.9653  1.272727                 14.0               11.0   \n",
       "1       20.0        21.7243  1.200000                 10.0                9.0   \n",
       "2       28.0        32.5395  1.428571                 16.0                7.0   \n",
       "3       40.0        45.5620  1.550000                 21.0               12.0   \n",
       "4       44.0        54.2181  1.545455                  6.0                5.0   \n",
       "5       11.0        12.1171  1.363636                 15.0               11.0   \n",
       "6       17.0        21.2890  2.588235                 28.0                6.0   \n",
       "7       29.0        35.8252  2.241379                 21.0               11.0   \n",
       "8       39.0        47.1900  1.948718                 10.0               10.0   \n",
       "9       45.0        53.2334  2.266667                 26.0                6.0   \n",
       "\n",
       "   segment_osrm_distance  segment_factor trip_creation_day  \n",
       "0                11.9653        1.272727          Thursday  \n",
       "1                 9.7590        1.111111          Thursday  \n",
       "2                10.8152        2.285714          Thursday  \n",
       "3                13.0224        1.750000          Thursday  \n",
       "4                 3.9153        1.200000          Thursday  \n",
       "5                12.1171        1.363636          Thursday  \n",
       "6                 9.1719        4.666667          Thursday  \n",
       "7                14.5362        1.909091          Thursday  \n",
       "8                11.3648        1.000000          Thursday  \n",
       "9                 6.0434        4.333333          Thursday  "
      ]
     },
     "execution_count": 23,
     "metadata": {},
     "output_type": "execute_result"
    }
   ],
   "source": [
    "df[df[\"trip_uuid\"]==\"trip-153741093647649320\"]"
   ]
  },
  {
   "cell_type": "markdown",
   "id": "48f29772",
   "metadata": {},
   "source": [
    "    from above one particular trip record , \n",
    "    trip is segmented between different drop locations .\n",
    "\n",
    "    we can observe \n",
    "    trip is taking stops between mentioned source and destination centers(warehouses).\n",
    "    od-end-tiem and od-start-time are the time when the that particular trip was ended and started .\n",
    "\n",
    "    start-scan-to-end-scan is the time duration of trips are being scanned when start and end. \n",
    "    start-scan-to-end-scan time is given cummulative. which is not given per trip segments.\n",
    "\n",
    "\n",
    "    trip cut off False ,shows the record of trip when trip changes from one warehouse to another. between source to destination. \n",
    "\n",
    "\n",
    "    Actual-time given is the time to complete the entire delivery from source to destination (given cumulatively )\n",
    "\n",
    "\n",
    "\n",
    "\n",
    "    osrm -time is an open rourse routing engine time calculator which computes the shortest path between points in a given map and gives the time and osrm distance gives the shortest distance (given cumulatively )\n",
    "\n",
    "\n",
    "    Actual-distnace-to-destination is the actual distance between warehouses , given cummulative during the trip . \n",
    "    every time cutoff is False , distance count starts from begining. \n",
    "\n",
    "    Segmment actual time,  is the actual time taken between two stops in between trips. given per each segment (taken between subset of package delivery)\n",
    "\n",
    "    segment osrm time is the osrm segment time , taken between subset of package delivery\n",
    "\n",
    "\n"
   ]
  },
  {
   "cell_type": "markdown",
   "id": "80363552",
   "metadata": {},
   "source": [
    "### Extracting Features like city - place - code -state from source and destination name columns : "
   ]
  },
  {
   "cell_type": "code",
   "execution_count": 24,
   "id": "b0d19f52",
   "metadata": {},
   "outputs": [],
   "source": [
    "df[\"source_city\"] = df[\"source_name\"].str.split(\" \",n=1,expand=True)[0].str.split(\"_\",n=1,expand=True)[0]\n",
    "df[\"source_state\"] = df[\"source_name\"].str.split(\" \",n=1,expand=True)[1].str.replace(\"(\",\"\").str.replace(\")\",\"\")\n",
    "\n",
    "df[\"destination_city\"] = df[\"destination_name\"].str.split(\" \",n=1,expand=True)[0].str.split(\"_\",n=1,expand=True)[0]\n",
    "df[\"destination_state\"] = df[\"destination_name\"].str.split(\" \",n=1,expand=True)[1].str.replace(\"(\",\"\").str.replace(\")\",\"\")\n"
   ]
  },
  {
   "cell_type": "code",
   "execution_count": 25,
   "id": "29aea0e1",
   "metadata": {},
   "outputs": [],
   "source": [
    "df[\"source_place\"] = df[\"source_name\"].str.split(\"_\",n=2,expand=True)[1]\n",
    "df[\"destination_place\"] = df[\"destination_name\"].str.split(\"_\",n=2,expand=True)[1]\n",
    "\n"
   ]
  },
  {
   "cell_type": "code",
   "execution_count": null,
   "id": "4177ab72",
   "metadata": {},
   "outputs": [],
   "source": []
  },
  {
   "cell_type": "code",
   "execution_count": 26,
   "id": "a30fe6e6",
   "metadata": {},
   "outputs": [],
   "source": [
    "df[\"source_pincode\"] = df[\"source_center\"].apply(lambda x : x[3:9] )\n",
    "df[\"destination_pincode\"] = df[\"destination_center\"].apply(lambda x : x[3:9] )"
   ]
  },
  {
   "cell_type": "code",
   "execution_count": 27,
   "id": "6e5e6292",
   "metadata": {},
   "outputs": [
    {
     "data": {
      "text/html": [
       "<div>\n",
       "<style scoped>\n",
       "    .dataframe tbody tr th:only-of-type {\n",
       "        vertical-align: middle;\n",
       "    }\n",
       "\n",
       "    .dataframe tbody tr th {\n",
       "        vertical-align: top;\n",
       "    }\n",
       "\n",
       "    .dataframe thead th {\n",
       "        text-align: right;\n",
       "    }\n",
       "</style>\n",
       "<table border=\"1\" class=\"dataframe\">\n",
       "  <thead>\n",
       "    <tr style=\"text-align: right;\">\n",
       "      <th></th>\n",
       "      <th>data</th>\n",
       "      <th>trip_creation_time</th>\n",
       "      <th>route_schedule_uuid</th>\n",
       "      <th>route_type</th>\n",
       "      <th>trip_uuid</th>\n",
       "      <th>source_center</th>\n",
       "      <th>source_name</th>\n",
       "      <th>destination_center</th>\n",
       "      <th>destination_name</th>\n",
       "      <th>od_start_time</th>\n",
       "      <th>od_end_time</th>\n",
       "      <th>start_scan_to_end_scan</th>\n",
       "      <th>is_cutoff</th>\n",
       "      <th>cutoff_factor</th>\n",
       "      <th>cutoff_timestamp</th>\n",
       "      <th>actual_distance_to_destination</th>\n",
       "      <th>actual_time</th>\n",
       "      <th>osrm_time</th>\n",
       "      <th>osrm_distance</th>\n",
       "      <th>factor</th>\n",
       "      <th>segment_actual_time</th>\n",
       "      <th>segment_osrm_time</th>\n",
       "      <th>segment_osrm_distance</th>\n",
       "      <th>segment_factor</th>\n",
       "      <th>trip_creation_day</th>\n",
       "      <th>source_city</th>\n",
       "      <th>source_state</th>\n",
       "      <th>destination_city</th>\n",
       "      <th>destination_state</th>\n",
       "      <th>source_place</th>\n",
       "      <th>destination_place</th>\n",
       "      <th>source_pincode</th>\n",
       "      <th>destination_pincode</th>\n",
       "    </tr>\n",
       "  </thead>\n",
       "  <tbody>\n",
       "    <tr>\n",
       "      <th>0</th>\n",
       "      <td>training</td>\n",
       "      <td>2018-09-20 02:35:36.476840</td>\n",
       "      <td>thanos::sroute:eb7bfc78-b351-4c0e-a951-fa3d5c3...</td>\n",
       "      <td>Carting</td>\n",
       "      <td>trip-153741093647649320</td>\n",
       "      <td>IND388121AAA</td>\n",
       "      <td>Anand_VUNagar_DC (Gujarat)</td>\n",
       "      <td>IND388620AAB</td>\n",
       "      <td>Khambhat_MotvdDPP_D (Gujarat)</td>\n",
       "      <td>2018-09-20 03:21:32.418600</td>\n",
       "      <td>2018-09-20 04:47:45.236797</td>\n",
       "      <td>86.0</td>\n",
       "      <td>True</td>\n",
       "      <td>9</td>\n",
       "      <td>2018-09-20 04:27:55</td>\n",
       "      <td>10.435660</td>\n",
       "      <td>14.0</td>\n",
       "      <td>11.0</td>\n",
       "      <td>11.9653</td>\n",
       "      <td>1.272727</td>\n",
       "      <td>14.0</td>\n",
       "      <td>11.0</td>\n",
       "      <td>11.9653</td>\n",
       "      <td>1.272727</td>\n",
       "      <td>Thursday</td>\n",
       "      <td>Anand</td>\n",
       "      <td>Gujarat</td>\n",
       "      <td>Khambhat</td>\n",
       "      <td>Gujarat</td>\n",
       "      <td>VUNagar</td>\n",
       "      <td>MotvdDPP</td>\n",
       "      <td>388121</td>\n",
       "      <td>388620</td>\n",
       "    </tr>\n",
       "    <tr>\n",
       "      <th>1</th>\n",
       "      <td>training</td>\n",
       "      <td>2018-09-20 02:35:36.476840</td>\n",
       "      <td>thanos::sroute:eb7bfc78-b351-4c0e-a951-fa3d5c3...</td>\n",
       "      <td>Carting</td>\n",
       "      <td>trip-153741093647649320</td>\n",
       "      <td>IND388121AAA</td>\n",
       "      <td>Anand_VUNagar_DC (Gujarat)</td>\n",
       "      <td>IND388620AAB</td>\n",
       "      <td>Khambhat_MotvdDPP_D (Gujarat)</td>\n",
       "      <td>2018-09-20 03:21:32.418600</td>\n",
       "      <td>2018-09-20 04:47:45.236797</td>\n",
       "      <td>86.0</td>\n",
       "      <td>True</td>\n",
       "      <td>18</td>\n",
       "      <td>2018-09-20 04:17:55</td>\n",
       "      <td>18.936842</td>\n",
       "      <td>24.0</td>\n",
       "      <td>20.0</td>\n",
       "      <td>21.7243</td>\n",
       "      <td>1.200000</td>\n",
       "      <td>10.0</td>\n",
       "      <td>9.0</td>\n",
       "      <td>9.7590</td>\n",
       "      <td>1.111111</td>\n",
       "      <td>Thursday</td>\n",
       "      <td>Anand</td>\n",
       "      <td>Gujarat</td>\n",
       "      <td>Khambhat</td>\n",
       "      <td>Gujarat</td>\n",
       "      <td>VUNagar</td>\n",
       "      <td>MotvdDPP</td>\n",
       "      <td>388121</td>\n",
       "      <td>388620</td>\n",
       "    </tr>\n",
       "    <tr>\n",
       "      <th>2</th>\n",
       "      <td>training</td>\n",
       "      <td>2018-09-20 02:35:36.476840</td>\n",
       "      <td>thanos::sroute:eb7bfc78-b351-4c0e-a951-fa3d5c3...</td>\n",
       "      <td>Carting</td>\n",
       "      <td>trip-153741093647649320</td>\n",
       "      <td>IND388121AAA</td>\n",
       "      <td>Anand_VUNagar_DC (Gujarat)</td>\n",
       "      <td>IND388620AAB</td>\n",
       "      <td>Khambhat_MotvdDPP_D (Gujarat)</td>\n",
       "      <td>2018-09-20 03:21:32.418600</td>\n",
       "      <td>2018-09-20 04:47:45.236797</td>\n",
       "      <td>86.0</td>\n",
       "      <td>True</td>\n",
       "      <td>27</td>\n",
       "      <td>2018-09-20 04:01:19.505586</td>\n",
       "      <td>27.637279</td>\n",
       "      <td>40.0</td>\n",
       "      <td>28.0</td>\n",
       "      <td>32.5395</td>\n",
       "      <td>1.428571</td>\n",
       "      <td>16.0</td>\n",
       "      <td>7.0</td>\n",
       "      <td>10.8152</td>\n",
       "      <td>2.285714</td>\n",
       "      <td>Thursday</td>\n",
       "      <td>Anand</td>\n",
       "      <td>Gujarat</td>\n",
       "      <td>Khambhat</td>\n",
       "      <td>Gujarat</td>\n",
       "      <td>VUNagar</td>\n",
       "      <td>MotvdDPP</td>\n",
       "      <td>388121</td>\n",
       "      <td>388620</td>\n",
       "    </tr>\n",
       "    <tr>\n",
       "      <th>3</th>\n",
       "      <td>training</td>\n",
       "      <td>2018-09-20 02:35:36.476840</td>\n",
       "      <td>thanos::sroute:eb7bfc78-b351-4c0e-a951-fa3d5c3...</td>\n",
       "      <td>Carting</td>\n",
       "      <td>trip-153741093647649320</td>\n",
       "      <td>IND388121AAA</td>\n",
       "      <td>Anand_VUNagar_DC (Gujarat)</td>\n",
       "      <td>IND388620AAB</td>\n",
       "      <td>Khambhat_MotvdDPP_D (Gujarat)</td>\n",
       "      <td>2018-09-20 03:21:32.418600</td>\n",
       "      <td>2018-09-20 04:47:45.236797</td>\n",
       "      <td>86.0</td>\n",
       "      <td>True</td>\n",
       "      <td>36</td>\n",
       "      <td>2018-09-20 03:39:57</td>\n",
       "      <td>36.118028</td>\n",
       "      <td>62.0</td>\n",
       "      <td>40.0</td>\n",
       "      <td>45.5620</td>\n",
       "      <td>1.550000</td>\n",
       "      <td>21.0</td>\n",
       "      <td>12.0</td>\n",
       "      <td>13.0224</td>\n",
       "      <td>1.750000</td>\n",
       "      <td>Thursday</td>\n",
       "      <td>Anand</td>\n",
       "      <td>Gujarat</td>\n",
       "      <td>Khambhat</td>\n",
       "      <td>Gujarat</td>\n",
       "      <td>VUNagar</td>\n",
       "      <td>MotvdDPP</td>\n",
       "      <td>388121</td>\n",
       "      <td>388620</td>\n",
       "    </tr>\n",
       "    <tr>\n",
       "      <th>4</th>\n",
       "      <td>training</td>\n",
       "      <td>2018-09-20 02:35:36.476840</td>\n",
       "      <td>thanos::sroute:eb7bfc78-b351-4c0e-a951-fa3d5c3...</td>\n",
       "      <td>Carting</td>\n",
       "      <td>trip-153741093647649320</td>\n",
       "      <td>IND388121AAA</td>\n",
       "      <td>Anand_VUNagar_DC (Gujarat)</td>\n",
       "      <td>IND388620AAB</td>\n",
       "      <td>Khambhat_MotvdDPP_D (Gujarat)</td>\n",
       "      <td>2018-09-20 03:21:32.418600</td>\n",
       "      <td>2018-09-20 04:47:45.236797</td>\n",
       "      <td>86.0</td>\n",
       "      <td>False</td>\n",
       "      <td>39</td>\n",
       "      <td>2018-09-20 03:33:55</td>\n",
       "      <td>39.386040</td>\n",
       "      <td>68.0</td>\n",
       "      <td>44.0</td>\n",
       "      <td>54.2181</td>\n",
       "      <td>1.545455</td>\n",
       "      <td>6.0</td>\n",
       "      <td>5.0</td>\n",
       "      <td>3.9153</td>\n",
       "      <td>1.200000</td>\n",
       "      <td>Thursday</td>\n",
       "      <td>Anand</td>\n",
       "      <td>Gujarat</td>\n",
       "      <td>Khambhat</td>\n",
       "      <td>Gujarat</td>\n",
       "      <td>VUNagar</td>\n",
       "      <td>MotvdDPP</td>\n",
       "      <td>388121</td>\n",
       "      <td>388620</td>\n",
       "    </tr>\n",
       "    <tr>\n",
       "      <th>...</th>\n",
       "      <td>...</td>\n",
       "      <td>...</td>\n",
       "      <td>...</td>\n",
       "      <td>...</td>\n",
       "      <td>...</td>\n",
       "      <td>...</td>\n",
       "      <td>...</td>\n",
       "      <td>...</td>\n",
       "      <td>...</td>\n",
       "      <td>...</td>\n",
       "      <td>...</td>\n",
       "      <td>...</td>\n",
       "      <td>...</td>\n",
       "      <td>...</td>\n",
       "      <td>...</td>\n",
       "      <td>...</td>\n",
       "      <td>...</td>\n",
       "      <td>...</td>\n",
       "      <td>...</td>\n",
       "      <td>...</td>\n",
       "      <td>...</td>\n",
       "      <td>...</td>\n",
       "      <td>...</td>\n",
       "      <td>...</td>\n",
       "      <td>...</td>\n",
       "      <td>...</td>\n",
       "      <td>...</td>\n",
       "      <td>...</td>\n",
       "      <td>...</td>\n",
       "      <td>...</td>\n",
       "      <td>...</td>\n",
       "      <td>...</td>\n",
       "      <td>...</td>\n",
       "    </tr>\n",
       "    <tr>\n",
       "      <th>144862</th>\n",
       "      <td>training</td>\n",
       "      <td>2018-09-20 16:24:28.436231</td>\n",
       "      <td>thanos::sroute:f0569d2f-4e20-4c31-8542-67b86d5...</td>\n",
       "      <td>Carting</td>\n",
       "      <td>trip-153746066843555182</td>\n",
       "      <td>IND131028AAB</td>\n",
       "      <td>Sonipat_Kundli_H (Haryana)</td>\n",
       "      <td>IND000000ACB</td>\n",
       "      <td>Gurgaon_Bilaspur_HB (Haryana)</td>\n",
       "      <td>2018-09-20 16:24:28.436231</td>\n",
       "      <td>2018-09-20 23:32:09.618069</td>\n",
       "      <td>427.0</td>\n",
       "      <td>True</td>\n",
       "      <td>45</td>\n",
       "      <td>2018-09-20 21:57:20</td>\n",
       "      <td>45.258278</td>\n",
       "      <td>94.0</td>\n",
       "      <td>60.0</td>\n",
       "      <td>67.9280</td>\n",
       "      <td>1.566667</td>\n",
       "      <td>12.0</td>\n",
       "      <td>12.0</td>\n",
       "      <td>8.1858</td>\n",
       "      <td>1.000000</td>\n",
       "      <td>Thursday</td>\n",
       "      <td>Sonipat</td>\n",
       "      <td>Haryana</td>\n",
       "      <td>Gurgaon</td>\n",
       "      <td>Haryana</td>\n",
       "      <td>Kundli</td>\n",
       "      <td>Bilaspur</td>\n",
       "      <td>131028</td>\n",
       "      <td>000000</td>\n",
       "    </tr>\n",
       "    <tr>\n",
       "      <th>144863</th>\n",
       "      <td>training</td>\n",
       "      <td>2018-09-20 16:24:28.436231</td>\n",
       "      <td>thanos::sroute:f0569d2f-4e20-4c31-8542-67b86d5...</td>\n",
       "      <td>Carting</td>\n",
       "      <td>trip-153746066843555182</td>\n",
       "      <td>IND131028AAB</td>\n",
       "      <td>Sonipat_Kundli_H (Haryana)</td>\n",
       "      <td>IND000000ACB</td>\n",
       "      <td>Gurgaon_Bilaspur_HB (Haryana)</td>\n",
       "      <td>2018-09-20 16:24:28.436231</td>\n",
       "      <td>2018-09-20 23:32:09.618069</td>\n",
       "      <td>427.0</td>\n",
       "      <td>True</td>\n",
       "      <td>54</td>\n",
       "      <td>2018-09-20 21:31:18</td>\n",
       "      <td>54.092531</td>\n",
       "      <td>120.0</td>\n",
       "      <td>76.0</td>\n",
       "      <td>85.6829</td>\n",
       "      <td>1.578947</td>\n",
       "      <td>26.0</td>\n",
       "      <td>21.0</td>\n",
       "      <td>17.3725</td>\n",
       "      <td>1.238095</td>\n",
       "      <td>Thursday</td>\n",
       "      <td>Sonipat</td>\n",
       "      <td>Haryana</td>\n",
       "      <td>Gurgaon</td>\n",
       "      <td>Haryana</td>\n",
       "      <td>Kundli</td>\n",
       "      <td>Bilaspur</td>\n",
       "      <td>131028</td>\n",
       "      <td>000000</td>\n",
       "    </tr>\n",
       "    <tr>\n",
       "      <th>144864</th>\n",
       "      <td>training</td>\n",
       "      <td>2018-09-20 16:24:28.436231</td>\n",
       "      <td>thanos::sroute:f0569d2f-4e20-4c31-8542-67b86d5...</td>\n",
       "      <td>Carting</td>\n",
       "      <td>trip-153746066843555182</td>\n",
       "      <td>IND131028AAB</td>\n",
       "      <td>Sonipat_Kundli_H (Haryana)</td>\n",
       "      <td>IND000000ACB</td>\n",
       "      <td>Gurgaon_Bilaspur_HB (Haryana)</td>\n",
       "      <td>2018-09-20 16:24:28.436231</td>\n",
       "      <td>2018-09-20 23:32:09.618069</td>\n",
       "      <td>427.0</td>\n",
       "      <td>True</td>\n",
       "      <td>63</td>\n",
       "      <td>2018-09-20 21:11:18</td>\n",
       "      <td>66.163591</td>\n",
       "      <td>140.0</td>\n",
       "      <td>88.0</td>\n",
       "      <td>97.0933</td>\n",
       "      <td>1.590909</td>\n",
       "      <td>20.0</td>\n",
       "      <td>34.0</td>\n",
       "      <td>20.7053</td>\n",
       "      <td>0.588235</td>\n",
       "      <td>Thursday</td>\n",
       "      <td>Sonipat</td>\n",
       "      <td>Haryana</td>\n",
       "      <td>Gurgaon</td>\n",
       "      <td>Haryana</td>\n",
       "      <td>Kundli</td>\n",
       "      <td>Bilaspur</td>\n",
       "      <td>131028</td>\n",
       "      <td>000000</td>\n",
       "    </tr>\n",
       "    <tr>\n",
       "      <th>144865</th>\n",
       "      <td>training</td>\n",
       "      <td>2018-09-20 16:24:28.436231</td>\n",
       "      <td>thanos::sroute:f0569d2f-4e20-4c31-8542-67b86d5...</td>\n",
       "      <td>Carting</td>\n",
       "      <td>trip-153746066843555182</td>\n",
       "      <td>IND131028AAB</td>\n",
       "      <td>Sonipat_Kundli_H (Haryana)</td>\n",
       "      <td>IND000000ACB</td>\n",
       "      <td>Gurgaon_Bilaspur_HB (Haryana)</td>\n",
       "      <td>2018-09-20 16:24:28.436231</td>\n",
       "      <td>2018-09-20 23:32:09.618069</td>\n",
       "      <td>427.0</td>\n",
       "      <td>True</td>\n",
       "      <td>72</td>\n",
       "      <td>2018-09-20 20:53:19</td>\n",
       "      <td>73.680667</td>\n",
       "      <td>158.0</td>\n",
       "      <td>98.0</td>\n",
       "      <td>111.2709</td>\n",
       "      <td>1.612245</td>\n",
       "      <td>17.0</td>\n",
       "      <td>27.0</td>\n",
       "      <td>18.8885</td>\n",
       "      <td>0.629630</td>\n",
       "      <td>Thursday</td>\n",
       "      <td>Sonipat</td>\n",
       "      <td>Haryana</td>\n",
       "      <td>Gurgaon</td>\n",
       "      <td>Haryana</td>\n",
       "      <td>Kundli</td>\n",
       "      <td>Bilaspur</td>\n",
       "      <td>131028</td>\n",
       "      <td>000000</td>\n",
       "    </tr>\n",
       "    <tr>\n",
       "      <th>144866</th>\n",
       "      <td>training</td>\n",
       "      <td>2018-09-20 16:24:28.436231</td>\n",
       "      <td>thanos::sroute:f0569d2f-4e20-4c31-8542-67b86d5...</td>\n",
       "      <td>Carting</td>\n",
       "      <td>trip-153746066843555182</td>\n",
       "      <td>IND131028AAB</td>\n",
       "      <td>Sonipat_Kundli_H (Haryana)</td>\n",
       "      <td>IND000000ACB</td>\n",
       "      <td>Gurgaon_Bilaspur_HB (Haryana)</td>\n",
       "      <td>2018-09-20 16:24:28.436231</td>\n",
       "      <td>2018-09-20 23:32:09.618069</td>\n",
       "      <td>427.0</td>\n",
       "      <td>False</td>\n",
       "      <td>70</td>\n",
       "      <td>2018-09-20 16:24:28.436231</td>\n",
       "      <td>70.039010</td>\n",
       "      <td>426.0</td>\n",
       "      <td>95.0</td>\n",
       "      <td>88.7319</td>\n",
       "      <td>4.484211</td>\n",
       "      <td>268.0</td>\n",
       "      <td>9.0</td>\n",
       "      <td>8.8088</td>\n",
       "      <td>29.777778</td>\n",
       "      <td>Thursday</td>\n",
       "      <td>Sonipat</td>\n",
       "      <td>Haryana</td>\n",
       "      <td>Gurgaon</td>\n",
       "      <td>Haryana</td>\n",
       "      <td>Kundli</td>\n",
       "      <td>Bilaspur</td>\n",
       "      <td>131028</td>\n",
       "      <td>000000</td>\n",
       "    </tr>\n",
       "  </tbody>\n",
       "</table>\n",
       "<p>144867 rows × 33 columns</p>\n",
       "</div>"
      ],
      "text/plain": [
       "            data         trip_creation_time  \\\n",
       "0       training 2018-09-20 02:35:36.476840   \n",
       "1       training 2018-09-20 02:35:36.476840   \n",
       "2       training 2018-09-20 02:35:36.476840   \n",
       "3       training 2018-09-20 02:35:36.476840   \n",
       "4       training 2018-09-20 02:35:36.476840   \n",
       "...          ...                        ...   \n",
       "144862  training 2018-09-20 16:24:28.436231   \n",
       "144863  training 2018-09-20 16:24:28.436231   \n",
       "144864  training 2018-09-20 16:24:28.436231   \n",
       "144865  training 2018-09-20 16:24:28.436231   \n",
       "144866  training 2018-09-20 16:24:28.436231   \n",
       "\n",
       "                                      route_schedule_uuid route_type  \\\n",
       "0       thanos::sroute:eb7bfc78-b351-4c0e-a951-fa3d5c3...    Carting   \n",
       "1       thanos::sroute:eb7bfc78-b351-4c0e-a951-fa3d5c3...    Carting   \n",
       "2       thanos::sroute:eb7bfc78-b351-4c0e-a951-fa3d5c3...    Carting   \n",
       "3       thanos::sroute:eb7bfc78-b351-4c0e-a951-fa3d5c3...    Carting   \n",
       "4       thanos::sroute:eb7bfc78-b351-4c0e-a951-fa3d5c3...    Carting   \n",
       "...                                                   ...        ...   \n",
       "144862  thanos::sroute:f0569d2f-4e20-4c31-8542-67b86d5...    Carting   \n",
       "144863  thanos::sroute:f0569d2f-4e20-4c31-8542-67b86d5...    Carting   \n",
       "144864  thanos::sroute:f0569d2f-4e20-4c31-8542-67b86d5...    Carting   \n",
       "144865  thanos::sroute:f0569d2f-4e20-4c31-8542-67b86d5...    Carting   \n",
       "144866  thanos::sroute:f0569d2f-4e20-4c31-8542-67b86d5...    Carting   \n",
       "\n",
       "                      trip_uuid source_center                 source_name  \\\n",
       "0       trip-153741093647649320  IND388121AAA  Anand_VUNagar_DC (Gujarat)   \n",
       "1       trip-153741093647649320  IND388121AAA  Anand_VUNagar_DC (Gujarat)   \n",
       "2       trip-153741093647649320  IND388121AAA  Anand_VUNagar_DC (Gujarat)   \n",
       "3       trip-153741093647649320  IND388121AAA  Anand_VUNagar_DC (Gujarat)   \n",
       "4       trip-153741093647649320  IND388121AAA  Anand_VUNagar_DC (Gujarat)   \n",
       "...                         ...           ...                         ...   \n",
       "144862  trip-153746066843555182  IND131028AAB  Sonipat_Kundli_H (Haryana)   \n",
       "144863  trip-153746066843555182  IND131028AAB  Sonipat_Kundli_H (Haryana)   \n",
       "144864  trip-153746066843555182  IND131028AAB  Sonipat_Kundli_H (Haryana)   \n",
       "144865  trip-153746066843555182  IND131028AAB  Sonipat_Kundli_H (Haryana)   \n",
       "144866  trip-153746066843555182  IND131028AAB  Sonipat_Kundli_H (Haryana)   \n",
       "\n",
       "       destination_center               destination_name  \\\n",
       "0            IND388620AAB  Khambhat_MotvdDPP_D (Gujarat)   \n",
       "1            IND388620AAB  Khambhat_MotvdDPP_D (Gujarat)   \n",
       "2            IND388620AAB  Khambhat_MotvdDPP_D (Gujarat)   \n",
       "3            IND388620AAB  Khambhat_MotvdDPP_D (Gujarat)   \n",
       "4            IND388620AAB  Khambhat_MotvdDPP_D (Gujarat)   \n",
       "...                   ...                            ...   \n",
       "144862       IND000000ACB  Gurgaon_Bilaspur_HB (Haryana)   \n",
       "144863       IND000000ACB  Gurgaon_Bilaspur_HB (Haryana)   \n",
       "144864       IND000000ACB  Gurgaon_Bilaspur_HB (Haryana)   \n",
       "144865       IND000000ACB  Gurgaon_Bilaspur_HB (Haryana)   \n",
       "144866       IND000000ACB  Gurgaon_Bilaspur_HB (Haryana)   \n",
       "\n",
       "                    od_start_time                od_end_time  \\\n",
       "0      2018-09-20 03:21:32.418600 2018-09-20 04:47:45.236797   \n",
       "1      2018-09-20 03:21:32.418600 2018-09-20 04:47:45.236797   \n",
       "2      2018-09-20 03:21:32.418600 2018-09-20 04:47:45.236797   \n",
       "3      2018-09-20 03:21:32.418600 2018-09-20 04:47:45.236797   \n",
       "4      2018-09-20 03:21:32.418600 2018-09-20 04:47:45.236797   \n",
       "...                           ...                        ...   \n",
       "144862 2018-09-20 16:24:28.436231 2018-09-20 23:32:09.618069   \n",
       "144863 2018-09-20 16:24:28.436231 2018-09-20 23:32:09.618069   \n",
       "144864 2018-09-20 16:24:28.436231 2018-09-20 23:32:09.618069   \n",
       "144865 2018-09-20 16:24:28.436231 2018-09-20 23:32:09.618069   \n",
       "144866 2018-09-20 16:24:28.436231 2018-09-20 23:32:09.618069   \n",
       "\n",
       "        start_scan_to_end_scan  is_cutoff  cutoff_factor  \\\n",
       "0                         86.0       True              9   \n",
       "1                         86.0       True             18   \n",
       "2                         86.0       True             27   \n",
       "3                         86.0       True             36   \n",
       "4                         86.0      False             39   \n",
       "...                        ...        ...            ...   \n",
       "144862                   427.0       True             45   \n",
       "144863                   427.0       True             54   \n",
       "144864                   427.0       True             63   \n",
       "144865                   427.0       True             72   \n",
       "144866                   427.0      False             70   \n",
       "\n",
       "                  cutoff_timestamp  actual_distance_to_destination  \\\n",
       "0              2018-09-20 04:27:55                       10.435660   \n",
       "1              2018-09-20 04:17:55                       18.936842   \n",
       "2       2018-09-20 04:01:19.505586                       27.637279   \n",
       "3              2018-09-20 03:39:57                       36.118028   \n",
       "4              2018-09-20 03:33:55                       39.386040   \n",
       "...                            ...                             ...   \n",
       "144862         2018-09-20 21:57:20                       45.258278   \n",
       "144863         2018-09-20 21:31:18                       54.092531   \n",
       "144864         2018-09-20 21:11:18                       66.163591   \n",
       "144865         2018-09-20 20:53:19                       73.680667   \n",
       "144866  2018-09-20 16:24:28.436231                       70.039010   \n",
       "\n",
       "        actual_time  osrm_time  osrm_distance    factor  segment_actual_time  \\\n",
       "0              14.0       11.0        11.9653  1.272727                 14.0   \n",
       "1              24.0       20.0        21.7243  1.200000                 10.0   \n",
       "2              40.0       28.0        32.5395  1.428571                 16.0   \n",
       "3              62.0       40.0        45.5620  1.550000                 21.0   \n",
       "4              68.0       44.0        54.2181  1.545455                  6.0   \n",
       "...             ...        ...            ...       ...                  ...   \n",
       "144862         94.0       60.0        67.9280  1.566667                 12.0   \n",
       "144863        120.0       76.0        85.6829  1.578947                 26.0   \n",
       "144864        140.0       88.0        97.0933  1.590909                 20.0   \n",
       "144865        158.0       98.0       111.2709  1.612245                 17.0   \n",
       "144866        426.0       95.0        88.7319  4.484211                268.0   \n",
       "\n",
       "        segment_osrm_time  segment_osrm_distance  segment_factor  \\\n",
       "0                    11.0                11.9653        1.272727   \n",
       "1                     9.0                 9.7590        1.111111   \n",
       "2                     7.0                10.8152        2.285714   \n",
       "3                    12.0                13.0224        1.750000   \n",
       "4                     5.0                 3.9153        1.200000   \n",
       "...                   ...                    ...             ...   \n",
       "144862               12.0                 8.1858        1.000000   \n",
       "144863               21.0                17.3725        1.238095   \n",
       "144864               34.0                20.7053        0.588235   \n",
       "144865               27.0                18.8885        0.629630   \n",
       "144866                9.0                 8.8088       29.777778   \n",
       "\n",
       "       trip_creation_day source_city source_state destination_city  \\\n",
       "0               Thursday       Anand      Gujarat         Khambhat   \n",
       "1               Thursday       Anand      Gujarat         Khambhat   \n",
       "2               Thursday       Anand      Gujarat         Khambhat   \n",
       "3               Thursday       Anand      Gujarat         Khambhat   \n",
       "4               Thursday       Anand      Gujarat         Khambhat   \n",
       "...                  ...         ...          ...              ...   \n",
       "144862          Thursday     Sonipat      Haryana          Gurgaon   \n",
       "144863          Thursday     Sonipat      Haryana          Gurgaon   \n",
       "144864          Thursday     Sonipat      Haryana          Gurgaon   \n",
       "144865          Thursday     Sonipat      Haryana          Gurgaon   \n",
       "144866          Thursday     Sonipat      Haryana          Gurgaon   \n",
       "\n",
       "       destination_state source_place destination_place source_pincode  \\\n",
       "0                Gujarat      VUNagar          MotvdDPP         388121   \n",
       "1                Gujarat      VUNagar          MotvdDPP         388121   \n",
       "2                Gujarat      VUNagar          MotvdDPP         388121   \n",
       "3                Gujarat      VUNagar          MotvdDPP         388121   \n",
       "4                Gujarat      VUNagar          MotvdDPP         388121   \n",
       "...                  ...          ...               ...            ...   \n",
       "144862           Haryana       Kundli          Bilaspur         131028   \n",
       "144863           Haryana       Kundli          Bilaspur         131028   \n",
       "144864           Haryana       Kundli          Bilaspur         131028   \n",
       "144865           Haryana       Kundli          Bilaspur         131028   \n",
       "144866           Haryana       Kundli          Bilaspur         131028   \n",
       "\n",
       "       destination_pincode  \n",
       "0                   388620  \n",
       "1                   388620  \n",
       "2                   388620  \n",
       "3                   388620  \n",
       "4                   388620  \n",
       "...                    ...  \n",
       "144862              000000  \n",
       "144863              000000  \n",
       "144864              000000  \n",
       "144865              000000  \n",
       "144866              000000  \n",
       "\n",
       "[144867 rows x 33 columns]"
      ]
     },
     "execution_count": 27,
     "metadata": {},
     "output_type": "execute_result"
    }
   ],
   "source": [
    "df"
   ]
  },
  {
   "cell_type": "markdown",
   "id": "dd018181",
   "metadata": {},
   "source": [
    "\n",
    "####  Time_taken_btwn_odstart_and_od_end VS start_scan_to_end_scan : "
   ]
  },
  {
   "cell_type": "code",
   "execution_count": 28,
   "id": "64cd5221",
   "metadata": {},
   "outputs": [],
   "source": [
    "df[\"time_taken_btwn_odstart_and_od_end\"] = ((df[\"od_end_time\"]-df[\"od_start_time\"])/pd.Timedelta(1,unit=\"hour\"))"
   ]
  },
  {
   "cell_type": "markdown",
   "id": "3f657dab",
   "metadata": {},
   "source": [
    "#### Converting given time duration features into hours . \n",
    "    start_scan_to_end_scan\n",
    "    actual_time\n",
    "    osrm_time\n",
    "    segment_actual_time\n",
    "    segment_osrm_time\n",
    "    "
   ]
  },
  {
   "cell_type": "markdown",
   "id": "107ee540",
   "metadata": {},
   "source": []
  },
  {
   "cell_type": "code",
   "execution_count": 29,
   "id": "128642db",
   "metadata": {},
   "outputs": [],
   "source": [
    "df[\"start_scan_to_end_scan\"] = df[\"start_scan_to_end_scan\"]/60\n",
    "df[\"actual_time\"] = df[\"actual_time\"]/60\n",
    "df[\"osrm_time\"] = df[\"osrm_time\"]/60\n",
    "df[\"segment_actual_time\"] = df[\"segment_actual_time\"]/60\n",
    "df[\"segment_osrm_time\"] = df[\"segment_osrm_time\"]/60\n"
   ]
  },
  {
   "cell_type": "code",
   "execution_count": 30,
   "id": "ca1e9ce4",
   "metadata": {},
   "outputs": [
    {
     "data": {
      "text/html": [
       "<div>\n",
       "<style scoped>\n",
       "    .dataframe tbody tr th:only-of-type {\n",
       "        vertical-align: middle;\n",
       "    }\n",
       "\n",
       "    .dataframe tbody tr th {\n",
       "        vertical-align: top;\n",
       "    }\n",
       "\n",
       "    .dataframe thead th {\n",
       "        text-align: right;\n",
       "    }\n",
       "</style>\n",
       "<table border=\"1\" class=\"dataframe\">\n",
       "  <thead>\n",
       "    <tr style=\"text-align: right;\">\n",
       "      <th></th>\n",
       "      <th>data</th>\n",
       "      <th>trip_creation_time</th>\n",
       "      <th>route_schedule_uuid</th>\n",
       "      <th>route_type</th>\n",
       "      <th>trip_uuid</th>\n",
       "      <th>source_center</th>\n",
       "      <th>source_name</th>\n",
       "      <th>destination_center</th>\n",
       "      <th>destination_name</th>\n",
       "      <th>od_start_time</th>\n",
       "      <th>od_end_time</th>\n",
       "      <th>start_scan_to_end_scan</th>\n",
       "      <th>is_cutoff</th>\n",
       "      <th>cutoff_factor</th>\n",
       "      <th>cutoff_timestamp</th>\n",
       "      <th>actual_distance_to_destination</th>\n",
       "      <th>actual_time</th>\n",
       "      <th>osrm_time</th>\n",
       "      <th>osrm_distance</th>\n",
       "      <th>factor</th>\n",
       "      <th>segment_actual_time</th>\n",
       "      <th>segment_osrm_time</th>\n",
       "      <th>segment_osrm_distance</th>\n",
       "      <th>segment_factor</th>\n",
       "      <th>trip_creation_day</th>\n",
       "      <th>source_city</th>\n",
       "      <th>source_state</th>\n",
       "      <th>destination_city</th>\n",
       "      <th>destination_state</th>\n",
       "      <th>source_place</th>\n",
       "      <th>destination_place</th>\n",
       "      <th>source_pincode</th>\n",
       "      <th>destination_pincode</th>\n",
       "      <th>time_taken_btwn_odstart_and_od_end</th>\n",
       "    </tr>\n",
       "  </thead>\n",
       "  <tbody>\n",
       "    <tr>\n",
       "      <th>0</th>\n",
       "      <td>training</td>\n",
       "      <td>2018-09-20 02:35:36.476840</td>\n",
       "      <td>thanos::sroute:eb7bfc78-b351-4c0e-a951-fa3d5c3...</td>\n",
       "      <td>Carting</td>\n",
       "      <td>trip-153741093647649320</td>\n",
       "      <td>IND388121AAA</td>\n",
       "      <td>Anand_VUNagar_DC (Gujarat)</td>\n",
       "      <td>IND388620AAB</td>\n",
       "      <td>Khambhat_MotvdDPP_D (Gujarat)</td>\n",
       "      <td>2018-09-20 03:21:32.418600</td>\n",
       "      <td>2018-09-20 04:47:45.236797</td>\n",
       "      <td>1.433333</td>\n",
       "      <td>True</td>\n",
       "      <td>9</td>\n",
       "      <td>2018-09-20 04:27:55</td>\n",
       "      <td>10.435660</td>\n",
       "      <td>0.233333</td>\n",
       "      <td>0.183333</td>\n",
       "      <td>11.9653</td>\n",
       "      <td>1.272727</td>\n",
       "      <td>0.233333</td>\n",
       "      <td>0.183333</td>\n",
       "      <td>11.9653</td>\n",
       "      <td>1.272727</td>\n",
       "      <td>Thursday</td>\n",
       "      <td>Anand</td>\n",
       "      <td>Gujarat</td>\n",
       "      <td>Khambhat</td>\n",
       "      <td>Gujarat</td>\n",
       "      <td>VUNagar</td>\n",
       "      <td>MotvdDPP</td>\n",
       "      <td>388121</td>\n",
       "      <td>388620</td>\n",
       "      <td>1.436894</td>\n",
       "    </tr>\n",
       "    <tr>\n",
       "      <th>1</th>\n",
       "      <td>training</td>\n",
       "      <td>2018-09-20 02:35:36.476840</td>\n",
       "      <td>thanos::sroute:eb7bfc78-b351-4c0e-a951-fa3d5c3...</td>\n",
       "      <td>Carting</td>\n",
       "      <td>trip-153741093647649320</td>\n",
       "      <td>IND388121AAA</td>\n",
       "      <td>Anand_VUNagar_DC (Gujarat)</td>\n",
       "      <td>IND388620AAB</td>\n",
       "      <td>Khambhat_MotvdDPP_D (Gujarat)</td>\n",
       "      <td>2018-09-20 03:21:32.418600</td>\n",
       "      <td>2018-09-20 04:47:45.236797</td>\n",
       "      <td>1.433333</td>\n",
       "      <td>True</td>\n",
       "      <td>18</td>\n",
       "      <td>2018-09-20 04:17:55</td>\n",
       "      <td>18.936842</td>\n",
       "      <td>0.400000</td>\n",
       "      <td>0.333333</td>\n",
       "      <td>21.7243</td>\n",
       "      <td>1.200000</td>\n",
       "      <td>0.166667</td>\n",
       "      <td>0.150000</td>\n",
       "      <td>9.7590</td>\n",
       "      <td>1.111111</td>\n",
       "      <td>Thursday</td>\n",
       "      <td>Anand</td>\n",
       "      <td>Gujarat</td>\n",
       "      <td>Khambhat</td>\n",
       "      <td>Gujarat</td>\n",
       "      <td>VUNagar</td>\n",
       "      <td>MotvdDPP</td>\n",
       "      <td>388121</td>\n",
       "      <td>388620</td>\n",
       "      <td>1.436894</td>\n",
       "    </tr>\n",
       "    <tr>\n",
       "      <th>2</th>\n",
       "      <td>training</td>\n",
       "      <td>2018-09-20 02:35:36.476840</td>\n",
       "      <td>thanos::sroute:eb7bfc78-b351-4c0e-a951-fa3d5c3...</td>\n",
       "      <td>Carting</td>\n",
       "      <td>trip-153741093647649320</td>\n",
       "      <td>IND388121AAA</td>\n",
       "      <td>Anand_VUNagar_DC (Gujarat)</td>\n",
       "      <td>IND388620AAB</td>\n",
       "      <td>Khambhat_MotvdDPP_D (Gujarat)</td>\n",
       "      <td>2018-09-20 03:21:32.418600</td>\n",
       "      <td>2018-09-20 04:47:45.236797</td>\n",
       "      <td>1.433333</td>\n",
       "      <td>True</td>\n",
       "      <td>27</td>\n",
       "      <td>2018-09-20 04:01:19.505586</td>\n",
       "      <td>27.637279</td>\n",
       "      <td>0.666667</td>\n",
       "      <td>0.466667</td>\n",
       "      <td>32.5395</td>\n",
       "      <td>1.428571</td>\n",
       "      <td>0.266667</td>\n",
       "      <td>0.116667</td>\n",
       "      <td>10.8152</td>\n",
       "      <td>2.285714</td>\n",
       "      <td>Thursday</td>\n",
       "      <td>Anand</td>\n",
       "      <td>Gujarat</td>\n",
       "      <td>Khambhat</td>\n",
       "      <td>Gujarat</td>\n",
       "      <td>VUNagar</td>\n",
       "      <td>MotvdDPP</td>\n",
       "      <td>388121</td>\n",
       "      <td>388620</td>\n",
       "      <td>1.436894</td>\n",
       "    </tr>\n",
       "    <tr>\n",
       "      <th>3</th>\n",
       "      <td>training</td>\n",
       "      <td>2018-09-20 02:35:36.476840</td>\n",
       "      <td>thanos::sroute:eb7bfc78-b351-4c0e-a951-fa3d5c3...</td>\n",
       "      <td>Carting</td>\n",
       "      <td>trip-153741093647649320</td>\n",
       "      <td>IND388121AAA</td>\n",
       "      <td>Anand_VUNagar_DC (Gujarat)</td>\n",
       "      <td>IND388620AAB</td>\n",
       "      <td>Khambhat_MotvdDPP_D (Gujarat)</td>\n",
       "      <td>2018-09-20 03:21:32.418600</td>\n",
       "      <td>2018-09-20 04:47:45.236797</td>\n",
       "      <td>1.433333</td>\n",
       "      <td>True</td>\n",
       "      <td>36</td>\n",
       "      <td>2018-09-20 03:39:57</td>\n",
       "      <td>36.118028</td>\n",
       "      <td>1.033333</td>\n",
       "      <td>0.666667</td>\n",
       "      <td>45.5620</td>\n",
       "      <td>1.550000</td>\n",
       "      <td>0.350000</td>\n",
       "      <td>0.200000</td>\n",
       "      <td>13.0224</td>\n",
       "      <td>1.750000</td>\n",
       "      <td>Thursday</td>\n",
       "      <td>Anand</td>\n",
       "      <td>Gujarat</td>\n",
       "      <td>Khambhat</td>\n",
       "      <td>Gujarat</td>\n",
       "      <td>VUNagar</td>\n",
       "      <td>MotvdDPP</td>\n",
       "      <td>388121</td>\n",
       "      <td>388620</td>\n",
       "      <td>1.436894</td>\n",
       "    </tr>\n",
       "    <tr>\n",
       "      <th>4</th>\n",
       "      <td>training</td>\n",
       "      <td>2018-09-20 02:35:36.476840</td>\n",
       "      <td>thanos::sroute:eb7bfc78-b351-4c0e-a951-fa3d5c3...</td>\n",
       "      <td>Carting</td>\n",
       "      <td>trip-153741093647649320</td>\n",
       "      <td>IND388121AAA</td>\n",
       "      <td>Anand_VUNagar_DC (Gujarat)</td>\n",
       "      <td>IND388620AAB</td>\n",
       "      <td>Khambhat_MotvdDPP_D (Gujarat)</td>\n",
       "      <td>2018-09-20 03:21:32.418600</td>\n",
       "      <td>2018-09-20 04:47:45.236797</td>\n",
       "      <td>1.433333</td>\n",
       "      <td>False</td>\n",
       "      <td>39</td>\n",
       "      <td>2018-09-20 03:33:55</td>\n",
       "      <td>39.386040</td>\n",
       "      <td>1.133333</td>\n",
       "      <td>0.733333</td>\n",
       "      <td>54.2181</td>\n",
       "      <td>1.545455</td>\n",
       "      <td>0.100000</td>\n",
       "      <td>0.083333</td>\n",
       "      <td>3.9153</td>\n",
       "      <td>1.200000</td>\n",
       "      <td>Thursday</td>\n",
       "      <td>Anand</td>\n",
       "      <td>Gujarat</td>\n",
       "      <td>Khambhat</td>\n",
       "      <td>Gujarat</td>\n",
       "      <td>VUNagar</td>\n",
       "      <td>MotvdDPP</td>\n",
       "      <td>388121</td>\n",
       "      <td>388620</td>\n",
       "      <td>1.436894</td>\n",
       "    </tr>\n",
       "    <tr>\n",
       "      <th>...</th>\n",
       "      <td>...</td>\n",
       "      <td>...</td>\n",
       "      <td>...</td>\n",
       "      <td>...</td>\n",
       "      <td>...</td>\n",
       "      <td>...</td>\n",
       "      <td>...</td>\n",
       "      <td>...</td>\n",
       "      <td>...</td>\n",
       "      <td>...</td>\n",
       "      <td>...</td>\n",
       "      <td>...</td>\n",
       "      <td>...</td>\n",
       "      <td>...</td>\n",
       "      <td>...</td>\n",
       "      <td>...</td>\n",
       "      <td>...</td>\n",
       "      <td>...</td>\n",
       "      <td>...</td>\n",
       "      <td>...</td>\n",
       "      <td>...</td>\n",
       "      <td>...</td>\n",
       "      <td>...</td>\n",
       "      <td>...</td>\n",
       "      <td>...</td>\n",
       "      <td>...</td>\n",
       "      <td>...</td>\n",
       "      <td>...</td>\n",
       "      <td>...</td>\n",
       "      <td>...</td>\n",
       "      <td>...</td>\n",
       "      <td>...</td>\n",
       "      <td>...</td>\n",
       "      <td>...</td>\n",
       "    </tr>\n",
       "    <tr>\n",
       "      <th>144862</th>\n",
       "      <td>training</td>\n",
       "      <td>2018-09-20 16:24:28.436231</td>\n",
       "      <td>thanos::sroute:f0569d2f-4e20-4c31-8542-67b86d5...</td>\n",
       "      <td>Carting</td>\n",
       "      <td>trip-153746066843555182</td>\n",
       "      <td>IND131028AAB</td>\n",
       "      <td>Sonipat_Kundli_H (Haryana)</td>\n",
       "      <td>IND000000ACB</td>\n",
       "      <td>Gurgaon_Bilaspur_HB (Haryana)</td>\n",
       "      <td>2018-09-20 16:24:28.436231</td>\n",
       "      <td>2018-09-20 23:32:09.618069</td>\n",
       "      <td>7.116667</td>\n",
       "      <td>True</td>\n",
       "      <td>45</td>\n",
       "      <td>2018-09-20 21:57:20</td>\n",
       "      <td>45.258278</td>\n",
       "      <td>1.566667</td>\n",
       "      <td>1.000000</td>\n",
       "      <td>67.9280</td>\n",
       "      <td>1.566667</td>\n",
       "      <td>0.200000</td>\n",
       "      <td>0.200000</td>\n",
       "      <td>8.1858</td>\n",
       "      <td>1.000000</td>\n",
       "      <td>Thursday</td>\n",
       "      <td>Sonipat</td>\n",
       "      <td>Haryana</td>\n",
       "      <td>Gurgaon</td>\n",
       "      <td>Haryana</td>\n",
       "      <td>Kundli</td>\n",
       "      <td>Bilaspur</td>\n",
       "      <td>131028</td>\n",
       "      <td>000000</td>\n",
       "      <td>7.128106</td>\n",
       "    </tr>\n",
       "    <tr>\n",
       "      <th>144863</th>\n",
       "      <td>training</td>\n",
       "      <td>2018-09-20 16:24:28.436231</td>\n",
       "      <td>thanos::sroute:f0569d2f-4e20-4c31-8542-67b86d5...</td>\n",
       "      <td>Carting</td>\n",
       "      <td>trip-153746066843555182</td>\n",
       "      <td>IND131028AAB</td>\n",
       "      <td>Sonipat_Kundli_H (Haryana)</td>\n",
       "      <td>IND000000ACB</td>\n",
       "      <td>Gurgaon_Bilaspur_HB (Haryana)</td>\n",
       "      <td>2018-09-20 16:24:28.436231</td>\n",
       "      <td>2018-09-20 23:32:09.618069</td>\n",
       "      <td>7.116667</td>\n",
       "      <td>True</td>\n",
       "      <td>54</td>\n",
       "      <td>2018-09-20 21:31:18</td>\n",
       "      <td>54.092531</td>\n",
       "      <td>2.000000</td>\n",
       "      <td>1.266667</td>\n",
       "      <td>85.6829</td>\n",
       "      <td>1.578947</td>\n",
       "      <td>0.433333</td>\n",
       "      <td>0.350000</td>\n",
       "      <td>17.3725</td>\n",
       "      <td>1.238095</td>\n",
       "      <td>Thursday</td>\n",
       "      <td>Sonipat</td>\n",
       "      <td>Haryana</td>\n",
       "      <td>Gurgaon</td>\n",
       "      <td>Haryana</td>\n",
       "      <td>Kundli</td>\n",
       "      <td>Bilaspur</td>\n",
       "      <td>131028</td>\n",
       "      <td>000000</td>\n",
       "      <td>7.128106</td>\n",
       "    </tr>\n",
       "    <tr>\n",
       "      <th>144864</th>\n",
       "      <td>training</td>\n",
       "      <td>2018-09-20 16:24:28.436231</td>\n",
       "      <td>thanos::sroute:f0569d2f-4e20-4c31-8542-67b86d5...</td>\n",
       "      <td>Carting</td>\n",
       "      <td>trip-153746066843555182</td>\n",
       "      <td>IND131028AAB</td>\n",
       "      <td>Sonipat_Kundli_H (Haryana)</td>\n",
       "      <td>IND000000ACB</td>\n",
       "      <td>Gurgaon_Bilaspur_HB (Haryana)</td>\n",
       "      <td>2018-09-20 16:24:28.436231</td>\n",
       "      <td>2018-09-20 23:32:09.618069</td>\n",
       "      <td>7.116667</td>\n",
       "      <td>True</td>\n",
       "      <td>63</td>\n",
       "      <td>2018-09-20 21:11:18</td>\n",
       "      <td>66.163591</td>\n",
       "      <td>2.333333</td>\n",
       "      <td>1.466667</td>\n",
       "      <td>97.0933</td>\n",
       "      <td>1.590909</td>\n",
       "      <td>0.333333</td>\n",
       "      <td>0.566667</td>\n",
       "      <td>20.7053</td>\n",
       "      <td>0.588235</td>\n",
       "      <td>Thursday</td>\n",
       "      <td>Sonipat</td>\n",
       "      <td>Haryana</td>\n",
       "      <td>Gurgaon</td>\n",
       "      <td>Haryana</td>\n",
       "      <td>Kundli</td>\n",
       "      <td>Bilaspur</td>\n",
       "      <td>131028</td>\n",
       "      <td>000000</td>\n",
       "      <td>7.128106</td>\n",
       "    </tr>\n",
       "    <tr>\n",
       "      <th>144865</th>\n",
       "      <td>training</td>\n",
       "      <td>2018-09-20 16:24:28.436231</td>\n",
       "      <td>thanos::sroute:f0569d2f-4e20-4c31-8542-67b86d5...</td>\n",
       "      <td>Carting</td>\n",
       "      <td>trip-153746066843555182</td>\n",
       "      <td>IND131028AAB</td>\n",
       "      <td>Sonipat_Kundli_H (Haryana)</td>\n",
       "      <td>IND000000ACB</td>\n",
       "      <td>Gurgaon_Bilaspur_HB (Haryana)</td>\n",
       "      <td>2018-09-20 16:24:28.436231</td>\n",
       "      <td>2018-09-20 23:32:09.618069</td>\n",
       "      <td>7.116667</td>\n",
       "      <td>True</td>\n",
       "      <td>72</td>\n",
       "      <td>2018-09-20 20:53:19</td>\n",
       "      <td>73.680667</td>\n",
       "      <td>2.633333</td>\n",
       "      <td>1.633333</td>\n",
       "      <td>111.2709</td>\n",
       "      <td>1.612245</td>\n",
       "      <td>0.283333</td>\n",
       "      <td>0.450000</td>\n",
       "      <td>18.8885</td>\n",
       "      <td>0.629630</td>\n",
       "      <td>Thursday</td>\n",
       "      <td>Sonipat</td>\n",
       "      <td>Haryana</td>\n",
       "      <td>Gurgaon</td>\n",
       "      <td>Haryana</td>\n",
       "      <td>Kundli</td>\n",
       "      <td>Bilaspur</td>\n",
       "      <td>131028</td>\n",
       "      <td>000000</td>\n",
       "      <td>7.128106</td>\n",
       "    </tr>\n",
       "    <tr>\n",
       "      <th>144866</th>\n",
       "      <td>training</td>\n",
       "      <td>2018-09-20 16:24:28.436231</td>\n",
       "      <td>thanos::sroute:f0569d2f-4e20-4c31-8542-67b86d5...</td>\n",
       "      <td>Carting</td>\n",
       "      <td>trip-153746066843555182</td>\n",
       "      <td>IND131028AAB</td>\n",
       "      <td>Sonipat_Kundli_H (Haryana)</td>\n",
       "      <td>IND000000ACB</td>\n",
       "      <td>Gurgaon_Bilaspur_HB (Haryana)</td>\n",
       "      <td>2018-09-20 16:24:28.436231</td>\n",
       "      <td>2018-09-20 23:32:09.618069</td>\n",
       "      <td>7.116667</td>\n",
       "      <td>False</td>\n",
       "      <td>70</td>\n",
       "      <td>2018-09-20 16:24:28.436231</td>\n",
       "      <td>70.039010</td>\n",
       "      <td>7.100000</td>\n",
       "      <td>1.583333</td>\n",
       "      <td>88.7319</td>\n",
       "      <td>4.484211</td>\n",
       "      <td>4.466667</td>\n",
       "      <td>0.150000</td>\n",
       "      <td>8.8088</td>\n",
       "      <td>29.777778</td>\n",
       "      <td>Thursday</td>\n",
       "      <td>Sonipat</td>\n",
       "      <td>Haryana</td>\n",
       "      <td>Gurgaon</td>\n",
       "      <td>Haryana</td>\n",
       "      <td>Kundli</td>\n",
       "      <td>Bilaspur</td>\n",
       "      <td>131028</td>\n",
       "      <td>000000</td>\n",
       "      <td>7.128106</td>\n",
       "    </tr>\n",
       "  </tbody>\n",
       "</table>\n",
       "<p>144867 rows × 34 columns</p>\n",
       "</div>"
      ],
      "text/plain": [
       "            data         trip_creation_time  \\\n",
       "0       training 2018-09-20 02:35:36.476840   \n",
       "1       training 2018-09-20 02:35:36.476840   \n",
       "2       training 2018-09-20 02:35:36.476840   \n",
       "3       training 2018-09-20 02:35:36.476840   \n",
       "4       training 2018-09-20 02:35:36.476840   \n",
       "...          ...                        ...   \n",
       "144862  training 2018-09-20 16:24:28.436231   \n",
       "144863  training 2018-09-20 16:24:28.436231   \n",
       "144864  training 2018-09-20 16:24:28.436231   \n",
       "144865  training 2018-09-20 16:24:28.436231   \n",
       "144866  training 2018-09-20 16:24:28.436231   \n",
       "\n",
       "                                      route_schedule_uuid route_type  \\\n",
       "0       thanos::sroute:eb7bfc78-b351-4c0e-a951-fa3d5c3...    Carting   \n",
       "1       thanos::sroute:eb7bfc78-b351-4c0e-a951-fa3d5c3...    Carting   \n",
       "2       thanos::sroute:eb7bfc78-b351-4c0e-a951-fa3d5c3...    Carting   \n",
       "3       thanos::sroute:eb7bfc78-b351-4c0e-a951-fa3d5c3...    Carting   \n",
       "4       thanos::sroute:eb7bfc78-b351-4c0e-a951-fa3d5c3...    Carting   \n",
       "...                                                   ...        ...   \n",
       "144862  thanos::sroute:f0569d2f-4e20-4c31-8542-67b86d5...    Carting   \n",
       "144863  thanos::sroute:f0569d2f-4e20-4c31-8542-67b86d5...    Carting   \n",
       "144864  thanos::sroute:f0569d2f-4e20-4c31-8542-67b86d5...    Carting   \n",
       "144865  thanos::sroute:f0569d2f-4e20-4c31-8542-67b86d5...    Carting   \n",
       "144866  thanos::sroute:f0569d2f-4e20-4c31-8542-67b86d5...    Carting   \n",
       "\n",
       "                      trip_uuid source_center                 source_name  \\\n",
       "0       trip-153741093647649320  IND388121AAA  Anand_VUNagar_DC (Gujarat)   \n",
       "1       trip-153741093647649320  IND388121AAA  Anand_VUNagar_DC (Gujarat)   \n",
       "2       trip-153741093647649320  IND388121AAA  Anand_VUNagar_DC (Gujarat)   \n",
       "3       trip-153741093647649320  IND388121AAA  Anand_VUNagar_DC (Gujarat)   \n",
       "4       trip-153741093647649320  IND388121AAA  Anand_VUNagar_DC (Gujarat)   \n",
       "...                         ...           ...                         ...   \n",
       "144862  trip-153746066843555182  IND131028AAB  Sonipat_Kundli_H (Haryana)   \n",
       "144863  trip-153746066843555182  IND131028AAB  Sonipat_Kundli_H (Haryana)   \n",
       "144864  trip-153746066843555182  IND131028AAB  Sonipat_Kundli_H (Haryana)   \n",
       "144865  trip-153746066843555182  IND131028AAB  Sonipat_Kundli_H (Haryana)   \n",
       "144866  trip-153746066843555182  IND131028AAB  Sonipat_Kundli_H (Haryana)   \n",
       "\n",
       "       destination_center               destination_name  \\\n",
       "0            IND388620AAB  Khambhat_MotvdDPP_D (Gujarat)   \n",
       "1            IND388620AAB  Khambhat_MotvdDPP_D (Gujarat)   \n",
       "2            IND388620AAB  Khambhat_MotvdDPP_D (Gujarat)   \n",
       "3            IND388620AAB  Khambhat_MotvdDPP_D (Gujarat)   \n",
       "4            IND388620AAB  Khambhat_MotvdDPP_D (Gujarat)   \n",
       "...                   ...                            ...   \n",
       "144862       IND000000ACB  Gurgaon_Bilaspur_HB (Haryana)   \n",
       "144863       IND000000ACB  Gurgaon_Bilaspur_HB (Haryana)   \n",
       "144864       IND000000ACB  Gurgaon_Bilaspur_HB (Haryana)   \n",
       "144865       IND000000ACB  Gurgaon_Bilaspur_HB (Haryana)   \n",
       "144866       IND000000ACB  Gurgaon_Bilaspur_HB (Haryana)   \n",
       "\n",
       "                    od_start_time                od_end_time  \\\n",
       "0      2018-09-20 03:21:32.418600 2018-09-20 04:47:45.236797   \n",
       "1      2018-09-20 03:21:32.418600 2018-09-20 04:47:45.236797   \n",
       "2      2018-09-20 03:21:32.418600 2018-09-20 04:47:45.236797   \n",
       "3      2018-09-20 03:21:32.418600 2018-09-20 04:47:45.236797   \n",
       "4      2018-09-20 03:21:32.418600 2018-09-20 04:47:45.236797   \n",
       "...                           ...                        ...   \n",
       "144862 2018-09-20 16:24:28.436231 2018-09-20 23:32:09.618069   \n",
       "144863 2018-09-20 16:24:28.436231 2018-09-20 23:32:09.618069   \n",
       "144864 2018-09-20 16:24:28.436231 2018-09-20 23:32:09.618069   \n",
       "144865 2018-09-20 16:24:28.436231 2018-09-20 23:32:09.618069   \n",
       "144866 2018-09-20 16:24:28.436231 2018-09-20 23:32:09.618069   \n",
       "\n",
       "        start_scan_to_end_scan  is_cutoff  cutoff_factor  \\\n",
       "0                     1.433333       True              9   \n",
       "1                     1.433333       True             18   \n",
       "2                     1.433333       True             27   \n",
       "3                     1.433333       True             36   \n",
       "4                     1.433333      False             39   \n",
       "...                        ...        ...            ...   \n",
       "144862                7.116667       True             45   \n",
       "144863                7.116667       True             54   \n",
       "144864                7.116667       True             63   \n",
       "144865                7.116667       True             72   \n",
       "144866                7.116667      False             70   \n",
       "\n",
       "                  cutoff_timestamp  actual_distance_to_destination  \\\n",
       "0              2018-09-20 04:27:55                       10.435660   \n",
       "1              2018-09-20 04:17:55                       18.936842   \n",
       "2       2018-09-20 04:01:19.505586                       27.637279   \n",
       "3              2018-09-20 03:39:57                       36.118028   \n",
       "4              2018-09-20 03:33:55                       39.386040   \n",
       "...                            ...                             ...   \n",
       "144862         2018-09-20 21:57:20                       45.258278   \n",
       "144863         2018-09-20 21:31:18                       54.092531   \n",
       "144864         2018-09-20 21:11:18                       66.163591   \n",
       "144865         2018-09-20 20:53:19                       73.680667   \n",
       "144866  2018-09-20 16:24:28.436231                       70.039010   \n",
       "\n",
       "        actual_time  osrm_time  osrm_distance    factor  segment_actual_time  \\\n",
       "0          0.233333   0.183333        11.9653  1.272727             0.233333   \n",
       "1          0.400000   0.333333        21.7243  1.200000             0.166667   \n",
       "2          0.666667   0.466667        32.5395  1.428571             0.266667   \n",
       "3          1.033333   0.666667        45.5620  1.550000             0.350000   \n",
       "4          1.133333   0.733333        54.2181  1.545455             0.100000   \n",
       "...             ...        ...            ...       ...                  ...   \n",
       "144862     1.566667   1.000000        67.9280  1.566667             0.200000   \n",
       "144863     2.000000   1.266667        85.6829  1.578947             0.433333   \n",
       "144864     2.333333   1.466667        97.0933  1.590909             0.333333   \n",
       "144865     2.633333   1.633333       111.2709  1.612245             0.283333   \n",
       "144866     7.100000   1.583333        88.7319  4.484211             4.466667   \n",
       "\n",
       "        segment_osrm_time  segment_osrm_distance  segment_factor  \\\n",
       "0                0.183333                11.9653        1.272727   \n",
       "1                0.150000                 9.7590        1.111111   \n",
       "2                0.116667                10.8152        2.285714   \n",
       "3                0.200000                13.0224        1.750000   \n",
       "4                0.083333                 3.9153        1.200000   \n",
       "...                   ...                    ...             ...   \n",
       "144862           0.200000                 8.1858        1.000000   \n",
       "144863           0.350000                17.3725        1.238095   \n",
       "144864           0.566667                20.7053        0.588235   \n",
       "144865           0.450000                18.8885        0.629630   \n",
       "144866           0.150000                 8.8088       29.777778   \n",
       "\n",
       "       trip_creation_day source_city source_state destination_city  \\\n",
       "0               Thursday       Anand      Gujarat         Khambhat   \n",
       "1               Thursday       Anand      Gujarat         Khambhat   \n",
       "2               Thursday       Anand      Gujarat         Khambhat   \n",
       "3               Thursday       Anand      Gujarat         Khambhat   \n",
       "4               Thursday       Anand      Gujarat         Khambhat   \n",
       "...                  ...         ...          ...              ...   \n",
       "144862          Thursday     Sonipat      Haryana          Gurgaon   \n",
       "144863          Thursday     Sonipat      Haryana          Gurgaon   \n",
       "144864          Thursday     Sonipat      Haryana          Gurgaon   \n",
       "144865          Thursday     Sonipat      Haryana          Gurgaon   \n",
       "144866          Thursday     Sonipat      Haryana          Gurgaon   \n",
       "\n",
       "       destination_state source_place destination_place source_pincode  \\\n",
       "0                Gujarat      VUNagar          MotvdDPP         388121   \n",
       "1                Gujarat      VUNagar          MotvdDPP         388121   \n",
       "2                Gujarat      VUNagar          MotvdDPP         388121   \n",
       "3                Gujarat      VUNagar          MotvdDPP         388121   \n",
       "4                Gujarat      VUNagar          MotvdDPP         388121   \n",
       "...                  ...          ...               ...            ...   \n",
       "144862           Haryana       Kundli          Bilaspur         131028   \n",
       "144863           Haryana       Kundli          Bilaspur         131028   \n",
       "144864           Haryana       Kundli          Bilaspur         131028   \n",
       "144865           Haryana       Kundli          Bilaspur         131028   \n",
       "144866           Haryana       Kundli          Bilaspur         131028   \n",
       "\n",
       "       destination_pincode  time_taken_btwn_odstart_and_od_end  \n",
       "0                   388620                            1.436894  \n",
       "1                   388620                            1.436894  \n",
       "2                   388620                            1.436894  \n",
       "3                   388620                            1.436894  \n",
       "4                   388620                            1.436894  \n",
       "...                    ...                                 ...  \n",
       "144862              000000                            7.128106  \n",
       "144863              000000                            7.128106  \n",
       "144864              000000                            7.128106  \n",
       "144865              000000                            7.128106  \n",
       "144866              000000                            7.128106  \n",
       "\n",
       "[144867 rows x 34 columns]"
      ]
     },
     "execution_count": 30,
     "metadata": {},
     "output_type": "execute_result"
    }
   ],
   "source": [
    "df"
   ]
  },
  {
   "cell_type": "code",
   "execution_count": 31,
   "id": "a91e9e49",
   "metadata": {},
   "outputs": [
    {
     "name": "stdout",
     "output_type": "stream",
     "text": [
      "<class 'pandas.core.frame.DataFrame'>\n",
      "RangeIndex: 144867 entries, 0 to 144866\n",
      "Data columns (total 34 columns):\n",
      " #   Column                              Non-Null Count   Dtype         \n",
      "---  ------                              --------------   -----         \n",
      " 0   data                                144867 non-null  object        \n",
      " 1   trip_creation_time                  144867 non-null  datetime64[ns]\n",
      " 2   route_schedule_uuid                 144867 non-null  object        \n",
      " 3   route_type                          144867 non-null  object        \n",
      " 4   trip_uuid                           144867 non-null  object        \n",
      " 5   source_center                       144867 non-null  object        \n",
      " 6   source_name                         144574 non-null  object        \n",
      " 7   destination_center                  144867 non-null  object        \n",
      " 8   destination_name                    144606 non-null  object        \n",
      " 9   od_start_time                       144867 non-null  datetime64[ns]\n",
      " 10  od_end_time                         144867 non-null  datetime64[ns]\n",
      " 11  start_scan_to_end_scan              144867 non-null  float64       \n",
      " 12  is_cutoff                           144867 non-null  bool          \n",
      " 13  cutoff_factor                       144867 non-null  int64         \n",
      " 14  cutoff_timestamp                    144867 non-null  object        \n",
      " 15  actual_distance_to_destination      144867 non-null  float64       \n",
      " 16  actual_time                         144867 non-null  float64       \n",
      " 17  osrm_time                           144867 non-null  float64       \n",
      " 18  osrm_distance                       144867 non-null  float64       \n",
      " 19  factor                              144867 non-null  float64       \n",
      " 20  segment_actual_time                 144867 non-null  float64       \n",
      " 21  segment_osrm_time                   144867 non-null  float64       \n",
      " 22  segment_osrm_distance               144867 non-null  float64       \n",
      " 23  segment_factor                      144867 non-null  float64       \n",
      " 24  trip_creation_day                   144867 non-null  object        \n",
      " 25  source_city                         144574 non-null  object        \n",
      " 26  source_state                        144574 non-null  object        \n",
      " 27  destination_city                    144606 non-null  object        \n",
      " 28  destination_state                   144606 non-null  object        \n",
      " 29  source_place                        142467 non-null  object        \n",
      " 30  destination_place                   142165 non-null  object        \n",
      " 31  source_pincode                      144867 non-null  object        \n",
      " 32  destination_pincode                 144867 non-null  object        \n",
      " 33  time_taken_btwn_odstart_and_od_end  144867 non-null  float64       \n",
      "dtypes: bool(1), datetime64[ns](3), float64(11), int64(1), object(18)\n",
      "memory usage: 36.6+ MB\n"
     ]
    }
   ],
   "source": [
    "df.info()"
   ]
  },
  {
   "cell_type": "code",
   "execution_count": 32,
   "id": "8f6760d3",
   "metadata": {},
   "outputs": [
    {
     "data": {
      "text/plain": [
       "data                                     0\n",
       "trip_creation_time                       0\n",
       "route_schedule_uuid                      0\n",
       "route_type                               0\n",
       "trip_uuid                                0\n",
       "source_center                            0\n",
       "source_name                            293\n",
       "destination_center                       0\n",
       "destination_name                       261\n",
       "od_start_time                            0\n",
       "od_end_time                              0\n",
       "start_scan_to_end_scan                   0\n",
       "is_cutoff                                0\n",
       "cutoff_factor                            0\n",
       "cutoff_timestamp                         0\n",
       "actual_distance_to_destination           0\n",
       "actual_time                              0\n",
       "osrm_time                                0\n",
       "osrm_distance                            0\n",
       "factor                                   0\n",
       "segment_actual_time                      0\n",
       "segment_osrm_time                        0\n",
       "segment_osrm_distance                    0\n",
       "segment_factor                           0\n",
       "trip_creation_day                        0\n",
       "source_city                            293\n",
       "source_state                           293\n",
       "destination_city                       261\n",
       "destination_state                      261\n",
       "source_place                          2400\n",
       "destination_place                     2702\n",
       "source_pincode                           0\n",
       "destination_pincode                      0\n",
       "time_taken_btwn_odstart_and_od_end       0\n",
       "dtype: int64"
      ]
     },
     "execution_count": 32,
     "metadata": {},
     "output_type": "execute_result"
    }
   ],
   "source": [
    "df.isna().sum()"
   ]
  },
  {
   "cell_type": "code",
   "execution_count": 33,
   "id": "c5e6355f",
   "metadata": {},
   "outputs": [
    {
     "data": {
      "text/plain": [
       "(144867, 34)"
      ]
     },
     "execution_count": 33,
     "metadata": {},
     "output_type": "execute_result"
    }
   ],
   "source": [
    "df.shape"
   ]
  },
  {
   "cell_type": "markdown",
   "id": "bb09ecab",
   "metadata": {},
   "source": [
    "## Data cleaning : "
   ]
  },
  {
   "cell_type": "code",
   "execution_count": 34,
   "id": "415fea51",
   "metadata": {},
   "outputs": [],
   "source": [
    "df[\"source_state\"] = df[\"source_state\"].replace({\"Goa Goa\":\"Goa\",\n",
    "                           \"Layout PC Karnataka\":\"Karnataka\",\n",
    "                           \"Vadgaon Sheri DPC Maharashtra\":\"Maharashtra\",\n",
    "                           \"Pashan DPC Maharashtra\":\"Maharashtra\",\n",
    "                           \"City Madhya Pradesh\":\"Madhya Pradesh\",\n",
    "                           \"02_DPC Uttar Pradesh\":\"Uttar Pradesh\",\n",
    "                           \"Nagar_DC Rajasthan\":\"Rajasthan\",\n",
    "                           \"Alipore_DPC West Bengal\":\"West Bengal\",\n",
    "                            \"Mandakni Madhya Pradesh\":\"Madhya Pradesh\",\n",
    "                            \"West _Dc Maharashtra\":\"Maharashtra\",\n",
    "                            \"DC Rajasthan\":\"Rajasthan\",\n",
    "                            \"MP Nagar Madhya Pradesh\":\"Madhya Pradesh\",\n",
    "                            \"Antop Hill Maharashtra\":\"Maharashtra\",\n",
    "                            \"Avenue_DPC West Bengal\":\"West Bengal\",\n",
    "                            \"Nagar Uttar Pradesh\":\"Uttar Pradesh\",\n",
    "                            \"Balaji Nagar Maharashtra\":\"Maharashtra\",\n",
    "                            \"Kothanur_L Karnataka\":\"Karnataka\",\n",
    "                            \"Rahatani DPC Maharashtra\":\"Maharashtra\",\n",
    "                            \"Mahim Maharashtra\":\"Maharashtra\",\n",
    "                            \"DC Maharashtra\":\"Maharashtra\",\n",
    "                            \"_NAD Andhra Pradesh\":\"Andhra Pradesh\",\n",
    "                                                       })"
   ]
  },
  {
   "cell_type": "code",
   "execution_count": 35,
   "id": "16f1fa4a",
   "metadata": {},
   "outputs": [],
   "source": [
    "df[\"destination_state\"] = df[\"destination_state\"].replace({\"Goa Goa\":\"Goa\",\n",
    "                           \"Layout PC Karnataka\":\"Karnataka\",\n",
    "                           \"Vadgaon Sheri DPC Maharashtra\":\"Maharashtra\",\n",
    "                           \"Pashan DPC Maharashtra\":\"Maharashtra\",\n",
    "                           \"City Madhya Pradesh\":\"Madhya Pradesh\",\n",
    "                           \"02_DPC Uttar Pradesh\":\"Uttar Pradesh\",\n",
    "                           \"Nagar_DC Rajasthan\":\"Rajasthan\",\n",
    "                           \"Alipore_DPC West Bengal\":\"West Bengal\",\n",
    "                            \"Mandakni Madhya Pradesh\":\"Madhya Pradesh\",\n",
    "                            \"West _Dc Maharashtra\":\"Maharashtra\",\n",
    "                            \"DC Rajasthan\":\"Rajasthan\",\n",
    "                            \"MP Nagar Madhya Pradesh\":\"Madhya Pradesh\",\n",
    "                            \"Antop Hill Maharashtra\":\"Maharashtra\",\n",
    "                            \"Avenue_DPC West Bengal\":\"West Bengal\",\n",
    "                            \"Nagar Uttar Pradesh\":\"Uttar Pradesh\",\n",
    "                            \"Balaji Nagar Maharashtra\":\"Maharashtra\",\n",
    "                            \"Kothanur_L Karnataka\":\"Karnataka\",\n",
    "                            \"Rahatani DPC Maharashtra\":\"Maharashtra\",\n",
    "                            \"Mahim Maharashtra\":\"Maharashtra\",\n",
    "                            \"DC Maharashtra\":\"Maharashtra\",\n",
    "                            \"_NAD Andhra Pradesh\":\"Andhra Pradesh\",\n",
    "                           \"Delhi Delhi\":\"Delhi\",\n",
    "                           \"West_Dc Maharashtra\":\"Maharashtra\",\n",
    "                           \"Hub Maharashtra\":\"Maharashtra\"\n",
    "                                                       })"
   ]
  },
  {
   "cell_type": "code",
   "execution_count": null,
   "id": "b36b7c11",
   "metadata": {},
   "outputs": [],
   "source": []
  },
  {
   "cell_type": "code",
   "execution_count": 36,
   "id": "a8b9b04e",
   "metadata": {},
   "outputs": [],
   "source": [
    "df[\"source_city\"].replace({\n",
    "    \"Bangalore\":\"Bengaluru\"\n",
    "        },inplace=True)\n",
    "df[\"destination_city\"].replace({\n",
    "    \"Bangalore\":\"Bengaluru\"\n",
    "        },inplace=True)\n",
    "df[\"destination_city\"].replace({\n",
    "    \"AMD\":\"Ahmedabad\"\n",
    "        },inplace=True)\n",
    "df[\"destination_city\"].replace({\n",
    "    \"Amdavad\":\"Ahmedabad\"\n",
    "        },inplace=True)\n",
    "df[\"source_city\"].replace({\n",
    "    \"AMD\":\"Ahmedabad\"\n",
    "        },inplace=True)\n",
    "df[\"source_city\"].replace({\n",
    "    \"Amdavad\":\"Ahmedabad\"\n",
    "        },inplace=True)\n"
   ]
  },
  {
   "cell_type": "code",
   "execution_count": 37,
   "id": "6e14724e",
   "metadata": {},
   "outputs": [],
   "source": [
    "df[\"source_city_state\"] = df[\"source_city\"] + \" \" + df[\"source_state\"]\n",
    "df[\"destination_city_state\"] = df[\"destination_city\"] + \" \" + df[\"destination_state\"]"
   ]
  },
  {
   "cell_type": "code",
   "execution_count": 38,
   "id": "7f6bbba4",
   "metadata": {},
   "outputs": [
    {
     "data": {
      "text/plain": [
       "1249"
      ]
     },
     "execution_count": 38,
     "metadata": {},
     "output_type": "execute_result"
    }
   ],
   "source": [
    "df[\"source_city_state\"].nunique()"
   ]
  },
  {
   "cell_type": "code",
   "execution_count": 39,
   "id": "de5c68f3",
   "metadata": {},
   "outputs": [
    {
     "data": {
      "text/plain": [
       "1242"
      ]
     },
     "execution_count": 39,
     "metadata": {},
     "output_type": "execute_result"
    }
   ],
   "source": [
    "df[\"destination_city_state\"].nunique()"
   ]
  },
  {
   "cell_type": "code",
   "execution_count": 40,
   "id": "0e3d5f45",
   "metadata": {},
   "outputs": [
    {
     "data": {
      "text/plain": [
       "33"
      ]
     },
     "execution_count": 40,
     "metadata": {},
     "output_type": "execute_result"
    }
   ],
   "source": [
    "df[\"source_state\"].nunique()"
   ]
  },
  {
   "cell_type": "code",
   "execution_count": 41,
   "id": "94438094",
   "metadata": {},
   "outputs": [
    {
     "data": {
      "text/plain": [
       "32"
      ]
     },
     "execution_count": 41,
     "metadata": {},
     "output_type": "execute_result"
    }
   ],
   "source": [
    "df[\"destination_state\"].nunique()"
   ]
  },
  {
   "cell_type": "markdown",
   "id": "093b0d09",
   "metadata": {},
   "source": [
    "from source : https://worldpopulationreview.com/countries/cities/india\n",
    "\n",
    "\n",
    "India has 48 cities with more than a million people, 405 cities with between 100,000 and 1 million people, and 2500 cities with between 10,000 and 100,000 people. The largest city in India is Mumbai, with a population of people."
   ]
  },
  {
   "cell_type": "code",
   "execution_count": 42,
   "id": "02d9791e",
   "metadata": {},
   "outputs": [],
   "source": [
    "## Delhivery delivered in approdimately 1250 cities and almost all the states all over in india. "
   ]
  },
  {
   "cell_type": "code",
   "execution_count": 43,
   "id": "780c6998",
   "metadata": {},
   "outputs": [],
   "source": [
    "data = df.copy()"
   ]
  },
  {
   "cell_type": "code",
   "execution_count": 44,
   "id": "ff8b4acd",
   "metadata": {},
   "outputs": [
    {
     "data": {
      "text/plain": [
       "Index(['data', 'trip_creation_time', 'route_schedule_uuid', 'route_type',\n",
       "       'trip_uuid', 'source_center', 'source_name', 'destination_center',\n",
       "       'destination_name', 'od_start_time', 'od_end_time',\n",
       "       'start_scan_to_end_scan', 'is_cutoff', 'cutoff_factor',\n",
       "       'cutoff_timestamp', 'actual_distance_to_destination', 'actual_time',\n",
       "       'osrm_time', 'osrm_distance', 'factor', 'segment_actual_time',\n",
       "       'segment_osrm_time', 'segment_osrm_distance', 'segment_factor',\n",
       "       'trip_creation_day', 'source_city', 'source_state', 'destination_city',\n",
       "       'destination_state', 'source_place', 'destination_place',\n",
       "       'source_pincode', 'destination_pincode',\n",
       "       'time_taken_btwn_odstart_and_od_end', 'source_city_state',\n",
       "       'destination_city_state'],\n",
       "      dtype='object')"
      ]
     },
     "execution_count": 44,
     "metadata": {},
     "output_type": "execute_result"
    }
   ],
   "source": [
    "data.columns"
   ]
  },
  {
   "cell_type": "code",
   "execution_count": 45,
   "id": "9ddb458e",
   "metadata": {},
   "outputs": [],
   "source": [
    "# data[[\"source_city\",\"source_state\",\"destination_city\",\"destination_state\",\"source_city_state\",\"destination_city_state\"]].fillna()"
   ]
  },
  {
   "cell_type": "code",
   "execution_count": 46,
   "id": "257b65d9",
   "metadata": {},
   "outputs": [],
   "source": [
    "# above data we impute after aggregating as per tripIDs. "
   ]
  },
  {
   "cell_type": "code",
   "execution_count": 47,
   "id": "e586c4b6",
   "metadata": {},
   "outputs": [
    {
     "data": {
      "text/plain": [
       "Index(['data', 'trip_creation_time', 'route_schedule_uuid', 'route_type',\n",
       "       'trip_uuid', 'source_center', 'source_name', 'destination_center',\n",
       "       'destination_name', 'od_start_time', 'od_end_time',\n",
       "       'start_scan_to_end_scan', 'is_cutoff', 'cutoff_factor',\n",
       "       'cutoff_timestamp', 'actual_distance_to_destination', 'actual_time',\n",
       "       'osrm_time', 'osrm_distance', 'factor', 'segment_actual_time',\n",
       "       'segment_osrm_time', 'segment_osrm_distance', 'segment_factor',\n",
       "       'trip_creation_day', 'source_city', 'source_state', 'destination_city',\n",
       "       'destination_state', 'source_place', 'destination_place',\n",
       "       'source_pincode', 'destination_pincode',\n",
       "       'time_taken_btwn_odstart_and_od_end', 'source_city_state',\n",
       "       'destination_city_state'],\n",
       "      dtype='object')"
      ]
     },
     "execution_count": 47,
     "metadata": {},
     "output_type": "execute_result"
    }
   ],
   "source": [
    "data.columns"
   ]
  },
  {
   "cell_type": "code",
   "execution_count": 48,
   "id": "f8583dd9",
   "metadata": {},
   "outputs": [],
   "source": [
    "data.drop(['source_center',\"source_name\",\"destination_center\",\"destination_name\",\"cutoff_timestamp\"],axis = 1,inplace=True)"
   ]
  },
  {
   "cell_type": "code",
   "execution_count": 49,
   "id": "f3209d9d",
   "metadata": {},
   "outputs": [],
   "source": [
    "data.drop([\"od_end_time\",\"od_start_time\"],axis = 1 , inplace=True)"
   ]
  },
  {
   "cell_type": "code",
   "execution_count": 50,
   "id": "3ad58964",
   "metadata": {},
   "outputs": [
    {
     "data": {
      "text/html": [
       "<div>\n",
       "<style scoped>\n",
       "    .dataframe tbody tr th:only-of-type {\n",
       "        vertical-align: middle;\n",
       "    }\n",
       "\n",
       "    .dataframe tbody tr th {\n",
       "        vertical-align: top;\n",
       "    }\n",
       "\n",
       "    .dataframe thead th {\n",
       "        text-align: right;\n",
       "    }\n",
       "</style>\n",
       "<table border=\"1\" class=\"dataframe\">\n",
       "  <thead>\n",
       "    <tr style=\"text-align: right;\">\n",
       "      <th></th>\n",
       "      <th>data</th>\n",
       "      <th>trip_creation_time</th>\n",
       "      <th>route_schedule_uuid</th>\n",
       "      <th>route_type</th>\n",
       "      <th>trip_uuid</th>\n",
       "      <th>start_scan_to_end_scan</th>\n",
       "      <th>is_cutoff</th>\n",
       "      <th>cutoff_factor</th>\n",
       "      <th>actual_distance_to_destination</th>\n",
       "      <th>actual_time</th>\n",
       "      <th>osrm_time</th>\n",
       "      <th>osrm_distance</th>\n",
       "      <th>factor</th>\n",
       "      <th>segment_actual_time</th>\n",
       "      <th>segment_osrm_time</th>\n",
       "      <th>segment_osrm_distance</th>\n",
       "      <th>segment_factor</th>\n",
       "      <th>trip_creation_day</th>\n",
       "      <th>source_city</th>\n",
       "      <th>source_state</th>\n",
       "      <th>destination_city</th>\n",
       "      <th>destination_state</th>\n",
       "      <th>source_place</th>\n",
       "      <th>destination_place</th>\n",
       "      <th>source_pincode</th>\n",
       "      <th>destination_pincode</th>\n",
       "      <th>time_taken_btwn_odstart_and_od_end</th>\n",
       "      <th>source_city_state</th>\n",
       "      <th>destination_city_state</th>\n",
       "    </tr>\n",
       "  </thead>\n",
       "  <tbody>\n",
       "    <tr>\n",
       "      <th>0</th>\n",
       "      <td>training</td>\n",
       "      <td>2018-09-20 02:35:36.476840</td>\n",
       "      <td>thanos::sroute:eb7bfc78-b351-4c0e-a951-fa3d5c3...</td>\n",
       "      <td>Carting</td>\n",
       "      <td>trip-153741093647649320</td>\n",
       "      <td>1.433333</td>\n",
       "      <td>True</td>\n",
       "      <td>9</td>\n",
       "      <td>10.435660</td>\n",
       "      <td>0.233333</td>\n",
       "      <td>0.183333</td>\n",
       "      <td>11.9653</td>\n",
       "      <td>1.272727</td>\n",
       "      <td>0.233333</td>\n",
       "      <td>0.183333</td>\n",
       "      <td>11.9653</td>\n",
       "      <td>1.272727</td>\n",
       "      <td>Thursday</td>\n",
       "      <td>Anand</td>\n",
       "      <td>Gujarat</td>\n",
       "      <td>Khambhat</td>\n",
       "      <td>Gujarat</td>\n",
       "      <td>VUNagar</td>\n",
       "      <td>MotvdDPP</td>\n",
       "      <td>388121</td>\n",
       "      <td>388620</td>\n",
       "      <td>1.436894</td>\n",
       "      <td>Anand Gujarat</td>\n",
       "      <td>Khambhat Gujarat</td>\n",
       "    </tr>\n",
       "    <tr>\n",
       "      <th>1</th>\n",
       "      <td>training</td>\n",
       "      <td>2018-09-20 02:35:36.476840</td>\n",
       "      <td>thanos::sroute:eb7bfc78-b351-4c0e-a951-fa3d5c3...</td>\n",
       "      <td>Carting</td>\n",
       "      <td>trip-153741093647649320</td>\n",
       "      <td>1.433333</td>\n",
       "      <td>True</td>\n",
       "      <td>18</td>\n",
       "      <td>18.936842</td>\n",
       "      <td>0.400000</td>\n",
       "      <td>0.333333</td>\n",
       "      <td>21.7243</td>\n",
       "      <td>1.200000</td>\n",
       "      <td>0.166667</td>\n",
       "      <td>0.150000</td>\n",
       "      <td>9.7590</td>\n",
       "      <td>1.111111</td>\n",
       "      <td>Thursday</td>\n",
       "      <td>Anand</td>\n",
       "      <td>Gujarat</td>\n",
       "      <td>Khambhat</td>\n",
       "      <td>Gujarat</td>\n",
       "      <td>VUNagar</td>\n",
       "      <td>MotvdDPP</td>\n",
       "      <td>388121</td>\n",
       "      <td>388620</td>\n",
       "      <td>1.436894</td>\n",
       "      <td>Anand Gujarat</td>\n",
       "      <td>Khambhat Gujarat</td>\n",
       "    </tr>\n",
       "    <tr>\n",
       "      <th>2</th>\n",
       "      <td>training</td>\n",
       "      <td>2018-09-20 02:35:36.476840</td>\n",
       "      <td>thanos::sroute:eb7bfc78-b351-4c0e-a951-fa3d5c3...</td>\n",
       "      <td>Carting</td>\n",
       "      <td>trip-153741093647649320</td>\n",
       "      <td>1.433333</td>\n",
       "      <td>True</td>\n",
       "      <td>27</td>\n",
       "      <td>27.637279</td>\n",
       "      <td>0.666667</td>\n",
       "      <td>0.466667</td>\n",
       "      <td>32.5395</td>\n",
       "      <td>1.428571</td>\n",
       "      <td>0.266667</td>\n",
       "      <td>0.116667</td>\n",
       "      <td>10.8152</td>\n",
       "      <td>2.285714</td>\n",
       "      <td>Thursday</td>\n",
       "      <td>Anand</td>\n",
       "      <td>Gujarat</td>\n",
       "      <td>Khambhat</td>\n",
       "      <td>Gujarat</td>\n",
       "      <td>VUNagar</td>\n",
       "      <td>MotvdDPP</td>\n",
       "      <td>388121</td>\n",
       "      <td>388620</td>\n",
       "      <td>1.436894</td>\n",
       "      <td>Anand Gujarat</td>\n",
       "      <td>Khambhat Gujarat</td>\n",
       "    </tr>\n",
       "    <tr>\n",
       "      <th>3</th>\n",
       "      <td>training</td>\n",
       "      <td>2018-09-20 02:35:36.476840</td>\n",
       "      <td>thanos::sroute:eb7bfc78-b351-4c0e-a951-fa3d5c3...</td>\n",
       "      <td>Carting</td>\n",
       "      <td>trip-153741093647649320</td>\n",
       "      <td>1.433333</td>\n",
       "      <td>True</td>\n",
       "      <td>36</td>\n",
       "      <td>36.118028</td>\n",
       "      <td>1.033333</td>\n",
       "      <td>0.666667</td>\n",
       "      <td>45.5620</td>\n",
       "      <td>1.550000</td>\n",
       "      <td>0.350000</td>\n",
       "      <td>0.200000</td>\n",
       "      <td>13.0224</td>\n",
       "      <td>1.750000</td>\n",
       "      <td>Thursday</td>\n",
       "      <td>Anand</td>\n",
       "      <td>Gujarat</td>\n",
       "      <td>Khambhat</td>\n",
       "      <td>Gujarat</td>\n",
       "      <td>VUNagar</td>\n",
       "      <td>MotvdDPP</td>\n",
       "      <td>388121</td>\n",
       "      <td>388620</td>\n",
       "      <td>1.436894</td>\n",
       "      <td>Anand Gujarat</td>\n",
       "      <td>Khambhat Gujarat</td>\n",
       "    </tr>\n",
       "    <tr>\n",
       "      <th>4</th>\n",
       "      <td>training</td>\n",
       "      <td>2018-09-20 02:35:36.476840</td>\n",
       "      <td>thanos::sroute:eb7bfc78-b351-4c0e-a951-fa3d5c3...</td>\n",
       "      <td>Carting</td>\n",
       "      <td>trip-153741093647649320</td>\n",
       "      <td>1.433333</td>\n",
       "      <td>False</td>\n",
       "      <td>39</td>\n",
       "      <td>39.386040</td>\n",
       "      <td>1.133333</td>\n",
       "      <td>0.733333</td>\n",
       "      <td>54.2181</td>\n",
       "      <td>1.545455</td>\n",
       "      <td>0.100000</td>\n",
       "      <td>0.083333</td>\n",
       "      <td>3.9153</td>\n",
       "      <td>1.200000</td>\n",
       "      <td>Thursday</td>\n",
       "      <td>Anand</td>\n",
       "      <td>Gujarat</td>\n",
       "      <td>Khambhat</td>\n",
       "      <td>Gujarat</td>\n",
       "      <td>VUNagar</td>\n",
       "      <td>MotvdDPP</td>\n",
       "      <td>388121</td>\n",
       "      <td>388620</td>\n",
       "      <td>1.436894</td>\n",
       "      <td>Anand Gujarat</td>\n",
       "      <td>Khambhat Gujarat</td>\n",
       "    </tr>\n",
       "    <tr>\n",
       "      <th>5</th>\n",
       "      <td>training</td>\n",
       "      <td>2018-09-20 02:35:36.476840</td>\n",
       "      <td>thanos::sroute:eb7bfc78-b351-4c0e-a951-fa3d5c3...</td>\n",
       "      <td>Carting</td>\n",
       "      <td>trip-153741093647649320</td>\n",
       "      <td>1.816667</td>\n",
       "      <td>True</td>\n",
       "      <td>9</td>\n",
       "      <td>10.403038</td>\n",
       "      <td>0.250000</td>\n",
       "      <td>0.183333</td>\n",
       "      <td>12.1171</td>\n",
       "      <td>1.363636</td>\n",
       "      <td>0.250000</td>\n",
       "      <td>0.183333</td>\n",
       "      <td>12.1171</td>\n",
       "      <td>1.363636</td>\n",
       "      <td>Thursday</td>\n",
       "      <td>Khambhat</td>\n",
       "      <td>Gujarat</td>\n",
       "      <td>Anand</td>\n",
       "      <td>Gujarat</td>\n",
       "      <td>MotvdDPP</td>\n",
       "      <td>Vaghasi</td>\n",
       "      <td>388620</td>\n",
       "      <td>388320</td>\n",
       "      <td>1.819553</td>\n",
       "      <td>Khambhat Gujarat</td>\n",
       "      <td>Anand Gujarat</td>\n",
       "    </tr>\n",
       "    <tr>\n",
       "      <th>6</th>\n",
       "      <td>training</td>\n",
       "      <td>2018-09-20 02:35:36.476840</td>\n",
       "      <td>thanos::sroute:eb7bfc78-b351-4c0e-a951-fa3d5c3...</td>\n",
       "      <td>Carting</td>\n",
       "      <td>trip-153741093647649320</td>\n",
       "      <td>1.816667</td>\n",
       "      <td>True</td>\n",
       "      <td>18</td>\n",
       "      <td>18.045481</td>\n",
       "      <td>0.733333</td>\n",
       "      <td>0.283333</td>\n",
       "      <td>21.2890</td>\n",
       "      <td>2.588235</td>\n",
       "      <td>0.466667</td>\n",
       "      <td>0.100000</td>\n",
       "      <td>9.1719</td>\n",
       "      <td>4.666667</td>\n",
       "      <td>Thursday</td>\n",
       "      <td>Khambhat</td>\n",
       "      <td>Gujarat</td>\n",
       "      <td>Anand</td>\n",
       "      <td>Gujarat</td>\n",
       "      <td>MotvdDPP</td>\n",
       "      <td>Vaghasi</td>\n",
       "      <td>388620</td>\n",
       "      <td>388320</td>\n",
       "      <td>1.819553</td>\n",
       "      <td>Khambhat Gujarat</td>\n",
       "      <td>Anand Gujarat</td>\n",
       "    </tr>\n",
       "    <tr>\n",
       "      <th>7</th>\n",
       "      <td>training</td>\n",
       "      <td>2018-09-20 02:35:36.476840</td>\n",
       "      <td>thanos::sroute:eb7bfc78-b351-4c0e-a951-fa3d5c3...</td>\n",
       "      <td>Carting</td>\n",
       "      <td>trip-153741093647649320</td>\n",
       "      <td>1.816667</td>\n",
       "      <td>True</td>\n",
       "      <td>27</td>\n",
       "      <td>28.061896</td>\n",
       "      <td>1.083333</td>\n",
       "      <td>0.483333</td>\n",
       "      <td>35.8252</td>\n",
       "      <td>2.241379</td>\n",
       "      <td>0.350000</td>\n",
       "      <td>0.183333</td>\n",
       "      <td>14.5362</td>\n",
       "      <td>1.909091</td>\n",
       "      <td>Thursday</td>\n",
       "      <td>Khambhat</td>\n",
       "      <td>Gujarat</td>\n",
       "      <td>Anand</td>\n",
       "      <td>Gujarat</td>\n",
       "      <td>MotvdDPP</td>\n",
       "      <td>Vaghasi</td>\n",
       "      <td>388620</td>\n",
       "      <td>388320</td>\n",
       "      <td>1.819553</td>\n",
       "      <td>Khambhat Gujarat</td>\n",
       "      <td>Anand Gujarat</td>\n",
       "    </tr>\n",
       "    <tr>\n",
       "      <th>8</th>\n",
       "      <td>training</td>\n",
       "      <td>2018-09-20 02:35:36.476840</td>\n",
       "      <td>thanos::sroute:eb7bfc78-b351-4c0e-a951-fa3d5c3...</td>\n",
       "      <td>Carting</td>\n",
       "      <td>trip-153741093647649320</td>\n",
       "      <td>1.816667</td>\n",
       "      <td>True</td>\n",
       "      <td>36</td>\n",
       "      <td>38.939167</td>\n",
       "      <td>1.266667</td>\n",
       "      <td>0.650000</td>\n",
       "      <td>47.1900</td>\n",
       "      <td>1.948718</td>\n",
       "      <td>0.166667</td>\n",
       "      <td>0.166667</td>\n",
       "      <td>11.3648</td>\n",
       "      <td>1.000000</td>\n",
       "      <td>Thursday</td>\n",
       "      <td>Khambhat</td>\n",
       "      <td>Gujarat</td>\n",
       "      <td>Anand</td>\n",
       "      <td>Gujarat</td>\n",
       "      <td>MotvdDPP</td>\n",
       "      <td>Vaghasi</td>\n",
       "      <td>388620</td>\n",
       "      <td>388320</td>\n",
       "      <td>1.819553</td>\n",
       "      <td>Khambhat Gujarat</td>\n",
       "      <td>Anand Gujarat</td>\n",
       "    </tr>\n",
       "    <tr>\n",
       "      <th>9</th>\n",
       "      <td>training</td>\n",
       "      <td>2018-09-20 02:35:36.476840</td>\n",
       "      <td>thanos::sroute:eb7bfc78-b351-4c0e-a951-fa3d5c3...</td>\n",
       "      <td>Carting</td>\n",
       "      <td>trip-153741093647649320</td>\n",
       "      <td>1.816667</td>\n",
       "      <td>False</td>\n",
       "      <td>43</td>\n",
       "      <td>43.595802</td>\n",
       "      <td>1.700000</td>\n",
       "      <td>0.750000</td>\n",
       "      <td>53.2334</td>\n",
       "      <td>2.266667</td>\n",
       "      <td>0.433333</td>\n",
       "      <td>0.100000</td>\n",
       "      <td>6.0434</td>\n",
       "      <td>4.333333</td>\n",
       "      <td>Thursday</td>\n",
       "      <td>Khambhat</td>\n",
       "      <td>Gujarat</td>\n",
       "      <td>Anand</td>\n",
       "      <td>Gujarat</td>\n",
       "      <td>MotvdDPP</td>\n",
       "      <td>Vaghasi</td>\n",
       "      <td>388620</td>\n",
       "      <td>388320</td>\n",
       "      <td>1.819553</td>\n",
       "      <td>Khambhat Gujarat</td>\n",
       "      <td>Anand Gujarat</td>\n",
       "    </tr>\n",
       "    <tr>\n",
       "      <th>10</th>\n",
       "      <td>training</td>\n",
       "      <td>2018-09-23 06:42:06.021680</td>\n",
       "      <td>thanos::sroute:ff52ef7a-4d0d-4063-9bfe-cc21172...</td>\n",
       "      <td>FTL</td>\n",
       "      <td>trip-153768492602129387</td>\n",
       "      <td>5.033333</td>\n",
       "      <td>True</td>\n",
       "      <td>22</td>\n",
       "      <td>23.194334</td>\n",
       "      <td>0.633333</td>\n",
       "      <td>0.400000</td>\n",
       "      <td>26.8622</td>\n",
       "      <td>1.583333</td>\n",
       "      <td>0.633333</td>\n",
       "      <td>0.400000</td>\n",
       "      <td>26.8622</td>\n",
       "      <td>1.583333</td>\n",
       "      <td>Sunday</td>\n",
       "      <td>Bhiwandi</td>\n",
       "      <td>Maharashtra</td>\n",
       "      <td>Pune</td>\n",
       "      <td>Maharashtra</td>\n",
       "      <td>Mankoli</td>\n",
       "      <td>Tathawde</td>\n",
       "      <td>421302</td>\n",
       "      <td>411033</td>\n",
       "      <td>5.039540</td>\n",
       "      <td>Bhiwandi Maharashtra</td>\n",
       "      <td>Pune Maharashtra</td>\n",
       "    </tr>\n",
       "    <tr>\n",
       "      <th>11</th>\n",
       "      <td>training</td>\n",
       "      <td>2018-09-23 06:42:06.021680</td>\n",
       "      <td>thanos::sroute:ff52ef7a-4d0d-4063-9bfe-cc21172...</td>\n",
       "      <td>FTL</td>\n",
       "      <td>trip-153768492602129387</td>\n",
       "      <td>5.033333</td>\n",
       "      <td>True</td>\n",
       "      <td>44</td>\n",
       "      <td>44.045659</td>\n",
       "      <td>1.266667</td>\n",
       "      <td>0.683333</td>\n",
       "      <td>54.4326</td>\n",
       "      <td>1.853659</td>\n",
       "      <td>0.616667</td>\n",
       "      <td>0.450000</td>\n",
       "      <td>30.1058</td>\n",
       "      <td>1.370370</td>\n",
       "      <td>Sunday</td>\n",
       "      <td>Bhiwandi</td>\n",
       "      <td>Maharashtra</td>\n",
       "      <td>Pune</td>\n",
       "      <td>Maharashtra</td>\n",
       "      <td>Mankoli</td>\n",
       "      <td>Tathawde</td>\n",
       "      <td>421302</td>\n",
       "      <td>411033</td>\n",
       "      <td>5.039540</td>\n",
       "      <td>Bhiwandi Maharashtra</td>\n",
       "      <td>Pune Maharashtra</td>\n",
       "    </tr>\n",
       "    <tr>\n",
       "      <th>12</th>\n",
       "      <td>training</td>\n",
       "      <td>2018-09-23 06:42:06.021680</td>\n",
       "      <td>thanos::sroute:ff52ef7a-4d0d-4063-9bfe-cc21172...</td>\n",
       "      <td>FTL</td>\n",
       "      <td>trip-153768492602129387</td>\n",
       "      <td>5.033333</td>\n",
       "      <td>True</td>\n",
       "      <td>66</td>\n",
       "      <td>72.849327</td>\n",
       "      <td>1.950000</td>\n",
       "      <td>1.133333</td>\n",
       "      <td>89.6680</td>\n",
       "      <td>1.720588</td>\n",
       "      <td>0.683333</td>\n",
       "      <td>0.433333</td>\n",
       "      <td>35.2353</td>\n",
       "      <td>1.576923</td>\n",
       "      <td>Sunday</td>\n",
       "      <td>Bhiwandi</td>\n",
       "      <td>Maharashtra</td>\n",
       "      <td>Pune</td>\n",
       "      <td>Maharashtra</td>\n",
       "      <td>Mankoli</td>\n",
       "      <td>Tathawde</td>\n",
       "      <td>421302</td>\n",
       "      <td>411033</td>\n",
       "      <td>5.039540</td>\n",
       "      <td>Bhiwandi Maharashtra</td>\n",
       "      <td>Pune Maharashtra</td>\n",
       "    </tr>\n",
       "    <tr>\n",
       "      <th>13</th>\n",
       "      <td>training</td>\n",
       "      <td>2018-09-23 06:42:06.021680</td>\n",
       "      <td>thanos::sroute:ff52ef7a-4d0d-4063-9bfe-cc21172...</td>\n",
       "      <td>FTL</td>\n",
       "      <td>trip-153768492602129387</td>\n",
       "      <td>5.033333</td>\n",
       "      <td>True</td>\n",
       "      <td>88</td>\n",
       "      <td>88.076599</td>\n",
       "      <td>2.350000</td>\n",
       "      <td>1.333333</td>\n",
       "      <td>108.3939</td>\n",
       "      <td>1.762500</td>\n",
       "      <td>0.383333</td>\n",
       "      <td>0.233333</td>\n",
       "      <td>17.2476</td>\n",
       "      <td>1.642857</td>\n",
       "      <td>Sunday</td>\n",
       "      <td>Bhiwandi</td>\n",
       "      <td>Maharashtra</td>\n",
       "      <td>Pune</td>\n",
       "      <td>Maharashtra</td>\n",
       "      <td>Mankoli</td>\n",
       "      <td>Tathawde</td>\n",
       "      <td>421302</td>\n",
       "      <td>411033</td>\n",
       "      <td>5.039540</td>\n",
       "      <td>Bhiwandi Maharashtra</td>\n",
       "      <td>Pune Maharashtra</td>\n",
       "    </tr>\n",
       "    <tr>\n",
       "      <th>14</th>\n",
       "      <td>training</td>\n",
       "      <td>2018-09-23 06:42:06.021680</td>\n",
       "      <td>thanos::sroute:ff52ef7a-4d0d-4063-9bfe-cc21172...</td>\n",
       "      <td>FTL</td>\n",
       "      <td>trip-153768492602129387</td>\n",
       "      <td>5.033333</td>\n",
       "      <td>False</td>\n",
       "      <td>100</td>\n",
       "      <td>100.708423</td>\n",
       "      <td>3.050000</td>\n",
       "      <td>1.583333</td>\n",
       "      <td>129.3519</td>\n",
       "      <td>1.926316</td>\n",
       "      <td>0.683333</td>\n",
       "      <td>0.250000</td>\n",
       "      <td>20.9580</td>\n",
       "      <td>2.733333</td>\n",
       "      <td>Sunday</td>\n",
       "      <td>Bhiwandi</td>\n",
       "      <td>Maharashtra</td>\n",
       "      <td>Pune</td>\n",
       "      <td>Maharashtra</td>\n",
       "      <td>Mankoli</td>\n",
       "      <td>Tathawde</td>\n",
       "      <td>421302</td>\n",
       "      <td>411033</td>\n",
       "      <td>5.039540</td>\n",
       "      <td>Bhiwandi Maharashtra</td>\n",
       "      <td>Pune Maharashtra</td>\n",
       "    </tr>\n",
       "  </tbody>\n",
       "</table>\n",
       "</div>"
      ],
      "text/plain": [
       "        data         trip_creation_time  \\\n",
       "0   training 2018-09-20 02:35:36.476840   \n",
       "1   training 2018-09-20 02:35:36.476840   \n",
       "2   training 2018-09-20 02:35:36.476840   \n",
       "3   training 2018-09-20 02:35:36.476840   \n",
       "4   training 2018-09-20 02:35:36.476840   \n",
       "5   training 2018-09-20 02:35:36.476840   \n",
       "6   training 2018-09-20 02:35:36.476840   \n",
       "7   training 2018-09-20 02:35:36.476840   \n",
       "8   training 2018-09-20 02:35:36.476840   \n",
       "9   training 2018-09-20 02:35:36.476840   \n",
       "10  training 2018-09-23 06:42:06.021680   \n",
       "11  training 2018-09-23 06:42:06.021680   \n",
       "12  training 2018-09-23 06:42:06.021680   \n",
       "13  training 2018-09-23 06:42:06.021680   \n",
       "14  training 2018-09-23 06:42:06.021680   \n",
       "\n",
       "                                  route_schedule_uuid route_type  \\\n",
       "0   thanos::sroute:eb7bfc78-b351-4c0e-a951-fa3d5c3...    Carting   \n",
       "1   thanos::sroute:eb7bfc78-b351-4c0e-a951-fa3d5c3...    Carting   \n",
       "2   thanos::sroute:eb7bfc78-b351-4c0e-a951-fa3d5c3...    Carting   \n",
       "3   thanos::sroute:eb7bfc78-b351-4c0e-a951-fa3d5c3...    Carting   \n",
       "4   thanos::sroute:eb7bfc78-b351-4c0e-a951-fa3d5c3...    Carting   \n",
       "5   thanos::sroute:eb7bfc78-b351-4c0e-a951-fa3d5c3...    Carting   \n",
       "6   thanos::sroute:eb7bfc78-b351-4c0e-a951-fa3d5c3...    Carting   \n",
       "7   thanos::sroute:eb7bfc78-b351-4c0e-a951-fa3d5c3...    Carting   \n",
       "8   thanos::sroute:eb7bfc78-b351-4c0e-a951-fa3d5c3...    Carting   \n",
       "9   thanos::sroute:eb7bfc78-b351-4c0e-a951-fa3d5c3...    Carting   \n",
       "10  thanos::sroute:ff52ef7a-4d0d-4063-9bfe-cc21172...        FTL   \n",
       "11  thanos::sroute:ff52ef7a-4d0d-4063-9bfe-cc21172...        FTL   \n",
       "12  thanos::sroute:ff52ef7a-4d0d-4063-9bfe-cc21172...        FTL   \n",
       "13  thanos::sroute:ff52ef7a-4d0d-4063-9bfe-cc21172...        FTL   \n",
       "14  thanos::sroute:ff52ef7a-4d0d-4063-9bfe-cc21172...        FTL   \n",
       "\n",
       "                  trip_uuid  start_scan_to_end_scan  is_cutoff  cutoff_factor  \\\n",
       "0   trip-153741093647649320                1.433333       True              9   \n",
       "1   trip-153741093647649320                1.433333       True             18   \n",
       "2   trip-153741093647649320                1.433333       True             27   \n",
       "3   trip-153741093647649320                1.433333       True             36   \n",
       "4   trip-153741093647649320                1.433333      False             39   \n",
       "5   trip-153741093647649320                1.816667       True              9   \n",
       "6   trip-153741093647649320                1.816667       True             18   \n",
       "7   trip-153741093647649320                1.816667       True             27   \n",
       "8   trip-153741093647649320                1.816667       True             36   \n",
       "9   trip-153741093647649320                1.816667      False             43   \n",
       "10  trip-153768492602129387                5.033333       True             22   \n",
       "11  trip-153768492602129387                5.033333       True             44   \n",
       "12  trip-153768492602129387                5.033333       True             66   \n",
       "13  trip-153768492602129387                5.033333       True             88   \n",
       "14  trip-153768492602129387                5.033333      False            100   \n",
       "\n",
       "    actual_distance_to_destination  actual_time  osrm_time  osrm_distance  \\\n",
       "0                        10.435660     0.233333   0.183333        11.9653   \n",
       "1                        18.936842     0.400000   0.333333        21.7243   \n",
       "2                        27.637279     0.666667   0.466667        32.5395   \n",
       "3                        36.118028     1.033333   0.666667        45.5620   \n",
       "4                        39.386040     1.133333   0.733333        54.2181   \n",
       "5                        10.403038     0.250000   0.183333        12.1171   \n",
       "6                        18.045481     0.733333   0.283333        21.2890   \n",
       "7                        28.061896     1.083333   0.483333        35.8252   \n",
       "8                        38.939167     1.266667   0.650000        47.1900   \n",
       "9                        43.595802     1.700000   0.750000        53.2334   \n",
       "10                       23.194334     0.633333   0.400000        26.8622   \n",
       "11                       44.045659     1.266667   0.683333        54.4326   \n",
       "12                       72.849327     1.950000   1.133333        89.6680   \n",
       "13                       88.076599     2.350000   1.333333       108.3939   \n",
       "14                      100.708423     3.050000   1.583333       129.3519   \n",
       "\n",
       "      factor  segment_actual_time  segment_osrm_time  segment_osrm_distance  \\\n",
       "0   1.272727             0.233333           0.183333                11.9653   \n",
       "1   1.200000             0.166667           0.150000                 9.7590   \n",
       "2   1.428571             0.266667           0.116667                10.8152   \n",
       "3   1.550000             0.350000           0.200000                13.0224   \n",
       "4   1.545455             0.100000           0.083333                 3.9153   \n",
       "5   1.363636             0.250000           0.183333                12.1171   \n",
       "6   2.588235             0.466667           0.100000                 9.1719   \n",
       "7   2.241379             0.350000           0.183333                14.5362   \n",
       "8   1.948718             0.166667           0.166667                11.3648   \n",
       "9   2.266667             0.433333           0.100000                 6.0434   \n",
       "10  1.583333             0.633333           0.400000                26.8622   \n",
       "11  1.853659             0.616667           0.450000                30.1058   \n",
       "12  1.720588             0.683333           0.433333                35.2353   \n",
       "13  1.762500             0.383333           0.233333                17.2476   \n",
       "14  1.926316             0.683333           0.250000                20.9580   \n",
       "\n",
       "    segment_factor trip_creation_day source_city source_state  \\\n",
       "0         1.272727          Thursday       Anand      Gujarat   \n",
       "1         1.111111          Thursday       Anand      Gujarat   \n",
       "2         2.285714          Thursday       Anand      Gujarat   \n",
       "3         1.750000          Thursday       Anand      Gujarat   \n",
       "4         1.200000          Thursday       Anand      Gujarat   \n",
       "5         1.363636          Thursday    Khambhat      Gujarat   \n",
       "6         4.666667          Thursday    Khambhat      Gujarat   \n",
       "7         1.909091          Thursday    Khambhat      Gujarat   \n",
       "8         1.000000          Thursday    Khambhat      Gujarat   \n",
       "9         4.333333          Thursday    Khambhat      Gujarat   \n",
       "10        1.583333            Sunday    Bhiwandi  Maharashtra   \n",
       "11        1.370370            Sunday    Bhiwandi  Maharashtra   \n",
       "12        1.576923            Sunday    Bhiwandi  Maharashtra   \n",
       "13        1.642857            Sunday    Bhiwandi  Maharashtra   \n",
       "14        2.733333            Sunday    Bhiwandi  Maharashtra   \n",
       "\n",
       "   destination_city destination_state source_place destination_place  \\\n",
       "0          Khambhat           Gujarat      VUNagar          MotvdDPP   \n",
       "1          Khambhat           Gujarat      VUNagar          MotvdDPP   \n",
       "2          Khambhat           Gujarat      VUNagar          MotvdDPP   \n",
       "3          Khambhat           Gujarat      VUNagar          MotvdDPP   \n",
       "4          Khambhat           Gujarat      VUNagar          MotvdDPP   \n",
       "5             Anand           Gujarat     MotvdDPP           Vaghasi   \n",
       "6             Anand           Gujarat     MotvdDPP           Vaghasi   \n",
       "7             Anand           Gujarat     MotvdDPP           Vaghasi   \n",
       "8             Anand           Gujarat     MotvdDPP           Vaghasi   \n",
       "9             Anand           Gujarat     MotvdDPP           Vaghasi   \n",
       "10             Pune       Maharashtra      Mankoli          Tathawde   \n",
       "11             Pune       Maharashtra      Mankoli          Tathawde   \n",
       "12             Pune       Maharashtra      Mankoli          Tathawde   \n",
       "13             Pune       Maharashtra      Mankoli          Tathawde   \n",
       "14             Pune       Maharashtra      Mankoli          Tathawde   \n",
       "\n",
       "   source_pincode destination_pincode  time_taken_btwn_odstart_and_od_end  \\\n",
       "0          388121              388620                            1.436894   \n",
       "1          388121              388620                            1.436894   \n",
       "2          388121              388620                            1.436894   \n",
       "3          388121              388620                            1.436894   \n",
       "4          388121              388620                            1.436894   \n",
       "5          388620              388320                            1.819553   \n",
       "6          388620              388320                            1.819553   \n",
       "7          388620              388320                            1.819553   \n",
       "8          388620              388320                            1.819553   \n",
       "9          388620              388320                            1.819553   \n",
       "10         421302              411033                            5.039540   \n",
       "11         421302              411033                            5.039540   \n",
       "12         421302              411033                            5.039540   \n",
       "13         421302              411033                            5.039540   \n",
       "14         421302              411033                            5.039540   \n",
       "\n",
       "       source_city_state destination_city_state  \n",
       "0          Anand Gujarat       Khambhat Gujarat  \n",
       "1          Anand Gujarat       Khambhat Gujarat  \n",
       "2          Anand Gujarat       Khambhat Gujarat  \n",
       "3          Anand Gujarat       Khambhat Gujarat  \n",
       "4          Anand Gujarat       Khambhat Gujarat  \n",
       "5       Khambhat Gujarat          Anand Gujarat  \n",
       "6       Khambhat Gujarat          Anand Gujarat  \n",
       "7       Khambhat Gujarat          Anand Gujarat  \n",
       "8       Khambhat Gujarat          Anand Gujarat  \n",
       "9       Khambhat Gujarat          Anand Gujarat  \n",
       "10  Bhiwandi Maharashtra       Pune Maharashtra  \n",
       "11  Bhiwandi Maharashtra       Pune Maharashtra  \n",
       "12  Bhiwandi Maharashtra       Pune Maharashtra  \n",
       "13  Bhiwandi Maharashtra       Pune Maharashtra  \n",
       "14  Bhiwandi Maharashtra       Pune Maharashtra  "
      ]
     },
     "execution_count": 50,
     "metadata": {},
     "output_type": "execute_result"
    }
   ],
   "source": [
    "data.head(15)"
   ]
  },
  {
   "cell_type": "markdown",
   "id": "35fa9c0c",
   "metadata": {},
   "source": [
    "# Aggregating Data : "
   ]
  },
  {
   "cell_type": "code",
   "execution_count": 51,
   "id": "c349528d",
   "metadata": {},
   "outputs": [],
   "source": [
    "actual_time = data.groupby([\"trip_uuid\",\n",
    "              \"start_scan_to_end_scan\"])[\"actual_time\"].max().reset_index().groupby(\"trip_uuid\")[\"actual_time\"].sum().reset_index()"
   ]
  },
  {
   "cell_type": "code",
   "execution_count": 52,
   "id": "d94313be",
   "metadata": {},
   "outputs": [
    {
     "data": {
      "text/html": [
       "<div>\n",
       "<style scoped>\n",
       "    .dataframe tbody tr th:only-of-type {\n",
       "        vertical-align: middle;\n",
       "    }\n",
       "\n",
       "    .dataframe tbody tr th {\n",
       "        vertical-align: top;\n",
       "    }\n",
       "\n",
       "    .dataframe thead th {\n",
       "        text-align: right;\n",
       "    }\n",
       "</style>\n",
       "<table border=\"1\" class=\"dataframe\">\n",
       "  <thead>\n",
       "    <tr style=\"text-align: right;\">\n",
       "      <th></th>\n",
       "      <th>trip_uuid</th>\n",
       "      <th>actual_time</th>\n",
       "    </tr>\n",
       "  </thead>\n",
       "  <tbody>\n",
       "    <tr>\n",
       "      <th>0</th>\n",
       "      <td>trip-153671041653548748</td>\n",
       "      <td>26.033333</td>\n",
       "    </tr>\n",
       "    <tr>\n",
       "      <th>1</th>\n",
       "      <td>trip-153671042288605164</td>\n",
       "      <td>2.383333</td>\n",
       "    </tr>\n",
       "    <tr>\n",
       "      <th>2</th>\n",
       "      <td>trip-153671043369099517</td>\n",
       "      <td>55.783333</td>\n",
       "    </tr>\n",
       "    <tr>\n",
       "      <th>3</th>\n",
       "      <td>trip-153671046011330457</td>\n",
       "      <td>0.983333</td>\n",
       "    </tr>\n",
       "    <tr>\n",
       "      <th>4</th>\n",
       "      <td>trip-153671052974046625</td>\n",
       "      <td>5.683333</td>\n",
       "    </tr>\n",
       "    <tr>\n",
       "      <th>...</th>\n",
       "      <td>...</td>\n",
       "      <td>...</td>\n",
       "    </tr>\n",
       "    <tr>\n",
       "      <th>14812</th>\n",
       "      <td>trip-153861095625827784</td>\n",
       "      <td>1.383333</td>\n",
       "    </tr>\n",
       "    <tr>\n",
       "      <th>14813</th>\n",
       "      <td>trip-153861104386292051</td>\n",
       "      <td>0.350000</td>\n",
       "    </tr>\n",
       "    <tr>\n",
       "      <th>14814</th>\n",
       "      <td>trip-153861106442901555</td>\n",
       "      <td>4.700000</td>\n",
       "    </tr>\n",
       "    <tr>\n",
       "      <th>14815</th>\n",
       "      <td>trip-153861115439069069</td>\n",
       "      <td>4.400000</td>\n",
       "    </tr>\n",
       "    <tr>\n",
       "      <th>14816</th>\n",
       "      <td>trip-153861118270144424</td>\n",
       "      <td>4.583333</td>\n",
       "    </tr>\n",
       "  </tbody>\n",
       "</table>\n",
       "<p>14817 rows × 2 columns</p>\n",
       "</div>"
      ],
      "text/plain": [
       "                     trip_uuid  actual_time\n",
       "0      trip-153671041653548748    26.033333\n",
       "1      trip-153671042288605164     2.383333\n",
       "2      trip-153671043369099517    55.783333\n",
       "3      trip-153671046011330457     0.983333\n",
       "4      trip-153671052974046625     5.683333\n",
       "...                        ...          ...\n",
       "14812  trip-153861095625827784     1.383333\n",
       "14813  trip-153861104386292051     0.350000\n",
       "14814  trip-153861106442901555     4.700000\n",
       "14815  trip-153861115439069069     4.400000\n",
       "14816  trip-153861118270144424     4.583333\n",
       "\n",
       "[14817 rows x 2 columns]"
      ]
     },
     "execution_count": 52,
     "metadata": {},
     "output_type": "execute_result"
    }
   ],
   "source": [
    "actual_time"
   ]
  },
  {
   "cell_type": "code",
   "execution_count": 53,
   "id": "d45d9351",
   "metadata": {},
   "outputs": [],
   "source": [
    "segment_osrm_time = data[[\"trip_uuid\",\"segment_osrm_time\"]].groupby(\"trip_uuid\")[\"segment_osrm_time\"].sum().reset_index()\n"
   ]
  },
  {
   "cell_type": "code",
   "execution_count": 54,
   "id": "30b726a8",
   "metadata": {},
   "outputs": [],
   "source": [
    "segment_actual_time = data.groupby(\"trip_uuid\")[\"segment_actual_time\"].sum().reset_index()\n"
   ]
  },
  {
   "cell_type": "code",
   "execution_count": null,
   "id": "d7ba64d6",
   "metadata": {},
   "outputs": [],
   "source": []
  },
  {
   "cell_type": "code",
   "execution_count": 55,
   "id": "dbbbc419",
   "metadata": {},
   "outputs": [],
   "source": [
    "osrm_time = data.groupby([\"trip_uuid\",\n",
    "              \"start_scan_to_end_scan\"])[\"osrm_time\"].max().reset_index().groupby(\"trip_uuid\")[\"osrm_time\"].sum().reset_index()"
   ]
  },
  {
   "cell_type": "code",
   "execution_count": 56,
   "id": "6998d58c",
   "metadata": {},
   "outputs": [],
   "source": [
    "time_taken_btwn_odstart_and_od_end = data.groupby(\"trip_uuid\")[\"time_taken_btwn_odstart_and_od_end\"].unique().reset_index()\n"
   ]
  },
  {
   "cell_type": "code",
   "execution_count": 57,
   "id": "ce9e3877",
   "metadata": {},
   "outputs": [],
   "source": [
    "time_taken_btwn_odstart_and_od_end[\"time_taken_btwn_odstart_and_od_end\"] = time_taken_btwn_odstart_and_od_end[\"time_taken_btwn_odstart_and_od_end\"].apply(sum)"
   ]
  },
  {
   "cell_type": "code",
   "execution_count": 58,
   "id": "6e132304",
   "metadata": {},
   "outputs": [],
   "source": [
    "start_scan_to_end_scan = ((data.groupby(\"trip_uuid\")[\"start_scan_to_end_scan\"].unique())).reset_index()\n",
    "start_scan_to_end_scan[\"start_scan_to_end_scan\"] = start_scan_to_end_scan[\"start_scan_to_end_scan\"].apply(sum) \n"
   ]
  },
  {
   "cell_type": "code",
   "execution_count": null,
   "id": "26379efb",
   "metadata": {},
   "outputs": [],
   "source": []
  },
  {
   "cell_type": "code",
   "execution_count": 59,
   "id": "c52a38b1",
   "metadata": {},
   "outputs": [],
   "source": [
    "osrm_distance = data.groupby([\"trip_uuid\",\n",
    "              \"start_scan_to_end_scan\"])[\"osrm_distance\"].max().reset_index().groupby(\"trip_uuid\")[\"osrm_distance\"].sum().reset_index()\n",
    "actual_distance_to_destination = data.groupby([\"trip_uuid\",\n",
    "              \"start_scan_to_end_scan\"])[\"actual_distance_to_destination\"].max().reset_index().groupby(\"trip_uuid\")[\"actual_distance_to_destination\"].sum().reset_index()\n",
    "segment_osrm_distance = data[[\"trip_uuid\",\n",
    "                              \"segment_osrm_distance\"]].groupby(\"trip_uuid\")[\"segment_osrm_distance\"].sum().reset_index()\n"
   ]
  },
  {
   "cell_type": "code",
   "execution_count": null,
   "id": "2e9635bf",
   "metadata": {},
   "outputs": [],
   "source": []
  },
  {
   "cell_type": "code",
   "execution_count": 60,
   "id": "a9088e12",
   "metadata": {},
   "outputs": [
    {
     "data": {
      "text/html": [
       "<div>\n",
       "<style scoped>\n",
       "    .dataframe tbody tr th:only-of-type {\n",
       "        vertical-align: middle;\n",
       "    }\n",
       "\n",
       "    .dataframe tbody tr th {\n",
       "        vertical-align: top;\n",
       "    }\n",
       "\n",
       "    .dataframe thead th {\n",
       "        text-align: right;\n",
       "    }\n",
       "</style>\n",
       "<table border=\"1\" class=\"dataframe\">\n",
       "  <thead>\n",
       "    <tr style=\"text-align: right;\">\n",
       "      <th></th>\n",
       "      <th>trip_uuid</th>\n",
       "      <th>actual_distance_to_destination</th>\n",
       "    </tr>\n",
       "  </thead>\n",
       "  <tbody>\n",
       "    <tr>\n",
       "      <th>0</th>\n",
       "      <td>trip-153671041653548748</td>\n",
       "      <td>824.732854</td>\n",
       "    </tr>\n",
       "    <tr>\n",
       "      <th>1</th>\n",
       "      <td>trip-153671042288605164</td>\n",
       "      <td>73.186911</td>\n",
       "    </tr>\n",
       "    <tr>\n",
       "      <th>2</th>\n",
       "      <td>trip-153671043369099517</td>\n",
       "      <td>1932.273969</td>\n",
       "    </tr>\n",
       "    <tr>\n",
       "      <th>3</th>\n",
       "      <td>trip-153671046011330457</td>\n",
       "      <td>17.175274</td>\n",
       "    </tr>\n",
       "    <tr>\n",
       "      <th>4</th>\n",
       "      <td>trip-153671052974046625</td>\n",
       "      <td>127.448500</td>\n",
       "    </tr>\n",
       "    <tr>\n",
       "      <th>...</th>\n",
       "      <td>...</td>\n",
       "      <td>...</td>\n",
       "    </tr>\n",
       "    <tr>\n",
       "      <th>14812</th>\n",
       "      <td>trip-153861095625827784</td>\n",
       "      <td>57.762332</td>\n",
       "    </tr>\n",
       "    <tr>\n",
       "      <th>14813</th>\n",
       "      <td>trip-153861104386292051</td>\n",
       "      <td>15.513784</td>\n",
       "    </tr>\n",
       "    <tr>\n",
       "      <th>14814</th>\n",
       "      <td>trip-153861106442901555</td>\n",
       "      <td>38.684839</td>\n",
       "    </tr>\n",
       "    <tr>\n",
       "      <th>14815</th>\n",
       "      <td>trip-153861115439069069</td>\n",
       "      <td>134.723836</td>\n",
       "    </tr>\n",
       "    <tr>\n",
       "      <th>14816</th>\n",
       "      <td>trip-153861118270144424</td>\n",
       "      <td>66.081533</td>\n",
       "    </tr>\n",
       "  </tbody>\n",
       "</table>\n",
       "<p>14817 rows × 2 columns</p>\n",
       "</div>"
      ],
      "text/plain": [
       "                     trip_uuid  actual_distance_to_destination\n",
       "0      trip-153671041653548748                      824.732854\n",
       "1      trip-153671042288605164                       73.186911\n",
       "2      trip-153671043369099517                     1932.273969\n",
       "3      trip-153671046011330457                       17.175274\n",
       "4      trip-153671052974046625                      127.448500\n",
       "...                        ...                             ...\n",
       "14812  trip-153861095625827784                       57.762332\n",
       "14813  trip-153861104386292051                       15.513784\n",
       "14814  trip-153861106442901555                       38.684839\n",
       "14815  trip-153861115439069069                      134.723836\n",
       "14816  trip-153861118270144424                       66.081533\n",
       "\n",
       "[14817 rows x 2 columns]"
      ]
     },
     "execution_count": 60,
     "metadata": {},
     "output_type": "execute_result"
    }
   ],
   "source": [
    "actual_distance_to_destination"
   ]
  },
  {
   "cell_type": "code",
   "execution_count": null,
   "id": "8bff3e9b",
   "metadata": {},
   "outputs": [],
   "source": []
  },
  {
   "cell_type": "markdown",
   "id": "82efb412",
   "metadata": {},
   "source": [
    "## Analysing TimeTaken Between OdStart and OdEnd time & StartScanToEndScan : "
   ]
  },
  {
   "cell_type": "code",
   "execution_count": null,
   "id": "f86170d3",
   "metadata": {},
   "outputs": [],
   "source": []
  },
  {
   "cell_type": "code",
   "execution_count": 61,
   "id": "0852ff44",
   "metadata": {},
   "outputs": [],
   "source": [
    "# As we can observe , time taken between od-start and od-end time , remains same till trip reaches to the next warehouse \n",
    "# We can take unique values of time taken per trip_uuid , \n",
    "# and then we can take sum to calulate total time taken \n",
    "\n",
    "\n",
    "# repeating same summation process for Start_scan_end_scan , \n",
    "# then we can visulize together both distribution,and perform hypotheis test if both time actual means are same "
   ]
  },
  {
   "cell_type": "code",
   "execution_count": 62,
   "id": "b077abc9",
   "metadata": {},
   "outputs": [
    {
     "data": {
      "text/html": [
       "<div>\n",
       "<style scoped>\n",
       "    .dataframe tbody tr th:only-of-type {\n",
       "        vertical-align: middle;\n",
       "    }\n",
       "\n",
       "    .dataframe tbody tr th {\n",
       "        vertical-align: top;\n",
       "    }\n",
       "\n",
       "    .dataframe thead th {\n",
       "        text-align: right;\n",
       "    }\n",
       "</style>\n",
       "<table border=\"1\" class=\"dataframe\">\n",
       "  <thead>\n",
       "    <tr style=\"text-align: right;\">\n",
       "      <th></th>\n",
       "      <th>trip_uuid</th>\n",
       "      <th>time_taken_btwn_odstart_and_od_end</th>\n",
       "    </tr>\n",
       "  </thead>\n",
       "  <tbody>\n",
       "    <tr>\n",
       "      <th>0</th>\n",
       "      <td>trip-153671041653548748</td>\n",
       "      <td>37.668497</td>\n",
       "    </tr>\n",
       "    <tr>\n",
       "      <th>1</th>\n",
       "      <td>trip-153671042288605164</td>\n",
       "      <td>3.026865</td>\n",
       "    </tr>\n",
       "    <tr>\n",
       "      <th>2</th>\n",
       "      <td>trip-153671043369099517</td>\n",
       "      <td>65.572709</td>\n",
       "    </tr>\n",
       "    <tr>\n",
       "      <th>3</th>\n",
       "      <td>trip-153671046011330457</td>\n",
       "      <td>1.674916</td>\n",
       "    </tr>\n",
       "    <tr>\n",
       "      <th>4</th>\n",
       "      <td>trip-153671052974046625</td>\n",
       "      <td>11.972484</td>\n",
       "    </tr>\n",
       "    <tr>\n",
       "      <th>...</th>\n",
       "      <td>...</td>\n",
       "      <td>...</td>\n",
       "    </tr>\n",
       "    <tr>\n",
       "      <th>14812</th>\n",
       "      <td>trip-153861095625827784</td>\n",
       "      <td>4.300482</td>\n",
       "    </tr>\n",
       "    <tr>\n",
       "      <th>14813</th>\n",
       "      <td>trip-153861104386292051</td>\n",
       "      <td>1.009842</td>\n",
       "    </tr>\n",
       "    <tr>\n",
       "      <th>14814</th>\n",
       "      <td>trip-153861106442901555</td>\n",
       "      <td>7.035331</td>\n",
       "    </tr>\n",
       "    <tr>\n",
       "      <th>14815</th>\n",
       "      <td>trip-153861115439069069</td>\n",
       "      <td>5.808548</td>\n",
       "    </tr>\n",
       "    <tr>\n",
       "      <th>14816</th>\n",
       "      <td>trip-153861118270144424</td>\n",
       "      <td>5.906793</td>\n",
       "    </tr>\n",
       "  </tbody>\n",
       "</table>\n",
       "<p>14817 rows × 2 columns</p>\n",
       "</div>"
      ],
      "text/plain": [
       "                     trip_uuid  time_taken_btwn_odstart_and_od_end\n",
       "0      trip-153671041653548748                           37.668497\n",
       "1      trip-153671042288605164                            3.026865\n",
       "2      trip-153671043369099517                           65.572709\n",
       "3      trip-153671046011330457                            1.674916\n",
       "4      trip-153671052974046625                           11.972484\n",
       "...                        ...                                 ...\n",
       "14812  trip-153861095625827784                            4.300482\n",
       "14813  trip-153861104386292051                            1.009842\n",
       "14814  trip-153861106442901555                            7.035331\n",
       "14815  trip-153861115439069069                            5.808548\n",
       "14816  trip-153861118270144424                            5.906793\n",
       "\n",
       "[14817 rows x 2 columns]"
      ]
     },
     "execution_count": 62,
     "metadata": {},
     "output_type": "execute_result"
    }
   ],
   "source": [
    "time_taken_btwn_odstart_and_od_end"
   ]
  },
  {
   "cell_type": "code",
   "execution_count": 63,
   "id": "d310004a",
   "metadata": {},
   "outputs": [
    {
     "data": {
      "text/plain": [
       "<AxesSubplot:xlabel='start_scan_to_end_scan', ylabel='Density'>"
      ]
     },
     "execution_count": 63,
     "metadata": {},
     "output_type": "execute_result"
    },
    {
     "data": {
      "image/png": "[encoded data removed]",
      "text/plain": [
       "<Figure size 1080x360 with 2 Axes>"
      ]
     },
     "metadata": {
      "needs_background": "light"
     },
     "output_type": "display_data"
    }
   ],
   "source": [
    "plt.figure(figsize=(15,5))\n",
    "plt.subplot(121)\n",
    "sns.distplot((time_taken_btwn_odstart_and_od_end[\"time_taken_btwn_odstart_and_od_end\"]))\n",
    "plt.subplot(122)\n",
    "sns.distplot((start_scan_to_end_scan[\"start_scan_to_end_scan\"]))"
   ]
  },
  {
   "cell_type": "code",
   "execution_count": 64,
   "id": "77649421",
   "metadata": {},
   "outputs": [],
   "source": [
    "# KS-test : checking the distributions how closly equal thy are : "
   ]
  },
  {
   "cell_type": "code",
   "execution_count": 65,
   "id": "37179dee",
   "metadata": {},
   "outputs": [
    {
     "data": {
      "application/javascript": [
       "\n",
       "        if (window._pyforest_update_imports_cell) { window._pyforest_update_imports_cell('from scipy import stats'); }\n",
       "    "
      ],
      "text/plain": [
       "<IPython.core.display.Javascript object>"
      ]
     },
     "metadata": {},
     "output_type": "display_data"
    },
    {
     "data": {
      "text/plain": [
       "KstestResult(statistic=0.004184382803536474, pvalue=0.9994337058695081)"
      ]
     },
     "execution_count": 65,
     "metadata": {},
     "output_type": "execute_result"
    }
   ],
   "source": [
    "stats.ks_2samp(time_taken_btwn_odstart_and_od_end[\"time_taken_btwn_odstart_and_od_end\"],start_scan_to_end_scan[\"start_scan_to_end_scan\"])"
   ]
  },
  {
   "cell_type": "code",
   "execution_count": 66,
   "id": "d62c6661",
   "metadata": {},
   "outputs": [],
   "source": [
    "# Transforming Data to log normal and plotting : "
   ]
  },
  {
   "cell_type": "code",
   "execution_count": 67,
   "id": "232f50f7",
   "metadata": {
    "scrolled": true
   },
   "outputs": [
    {
     "data": {
      "text/plain": [
       "<AxesSubplot:xlabel='start_scan_to_end_scan', ylabel='Density'>"
      ]
     },
     "execution_count": 67,
     "metadata": {},
     "output_type": "execute_result"
    },
    {
     "data": {
      "image/png": "[encoded data removed]",
      "text/plain": [
       "<Figure size 720x288 with 2 Axes>"
      ]
     },
     "metadata": {
      "needs_background": "light"
     },
     "output_type": "display_data"
    }
   ],
   "source": [
    "plt.figure(figsize=(10,4))\n",
    "plt.subplot(121)\n",
    "sns.distplot((np.log(time_taken_btwn_odstart_and_od_end[\"time_taken_btwn_odstart_and_od_end\"])))\n",
    "plt.subplot(122)\n",
    "sns.distplot((np.log(start_scan_to_end_scan[\"start_scan_to_end_scan\"])))"
   ]
  },
  {
   "cell_type": "code",
   "execution_count": 68,
   "id": "6d3eee48",
   "metadata": {},
   "outputs": [
    {
     "data": {
      "application/javascript": [
       "\n",
       "        if (window._pyforest_update_imports_cell) { window._pyforest_update_imports_cell('from scipy import stats'); }\n",
       "    "
      ],
      "text/plain": [
       "<IPython.core.display.Javascript object>"
      ]
     },
     "metadata": {},
     "output_type": "display_data"
    },
    {
     "name": "stdout",
     "output_type": "stream",
     "text": [
      "Ttest_indResult(statistic=-0.41089659846544946, pvalue=0.6811924200745696)\n"
     ]
    },
    {
     "data": {
      "application/javascript": [
       "\n",
       "        if (window._pyforest_update_imports_cell) { window._pyforest_update_imports_cell('from scipy import stats'); }\n",
       "    "
      ],
      "text/plain": [
       "<IPython.core.display.Javascript object>"
      ]
     },
     "metadata": {},
     "output_type": "display_data"
    },
    {
     "name": "stdout",
     "output_type": "stream",
     "text": [
      "Ttest_indResult(statistic=0.6040792852527938, pvalue=0.545859512314295)\n"
     ]
    },
    {
     "data": {
      "application/javascript": [
       "\n",
       "        if (window._pyforest_update_imports_cell) { window._pyforest_update_imports_cell('from scipy import stats'); }\n",
       "    "
      ],
      "text/plain": [
       "<IPython.core.display.Javascript object>"
      ]
     },
     "metadata": {},
     "output_type": "display_data"
    },
    {
     "name": "stdout",
     "output_type": "stream",
     "text": [
      "Ttest_indResult(statistic=-0.4738549956399013, pvalue=0.6356550878284704)\n"
     ]
    },
    {
     "data": {
      "application/javascript": [
       "\n",
       "        if (window._pyforest_update_imports_cell) { window._pyforest_update_imports_cell('from scipy import stats'); }\n",
       "    "
      ],
      "text/plain": [
       "<IPython.core.display.Javascript object>"
      ]
     },
     "metadata": {},
     "output_type": "display_data"
    },
    {
     "name": "stdout",
     "output_type": "stream",
     "text": [
      "Ttest_indResult(statistic=0.1996763306069841, pvalue=0.8417540455250604)\n"
     ]
    },
    {
     "data": {
      "application/javascript": [
       "\n",
       "        if (window._pyforest_update_imports_cell) { window._pyforest_update_imports_cell('from scipy import stats'); }\n",
       "    "
      ],
      "text/plain": [
       "<IPython.core.display.Javascript object>"
      ]
     },
     "metadata": {},
     "output_type": "display_data"
    },
    {
     "name": "stdout",
     "output_type": "stream",
     "text": [
      "Ttest_indResult(statistic=0.1444544389103227, pvalue=0.8851562003792304)\n"
     ]
    }
   ],
   "source": [
    "for i in range(5):\n",
    "    print(stats.ttest_ind(np.log(time_taken_btwn_odstart_and_od_end[\"time_taken_btwn_odstart_and_od_end\"].sample(1000))\n",
    "                ,np.log(start_scan_to_end_scan[\"start_scan_to_end_scan\"].sample(1000))))"
   ]
  },
  {
   "cell_type": "markdown",
   "id": "e4657fd9",
   "metadata": {},
   "source": [
    "    # from Kolmogorov–Smirnov test , p-value is 0.9943 , from which we can conclude  tht both the distributions\n",
    "    # (time_taken_btwn_odstart_and_od_end and start_scan_to_end_scan) are closly similar.\n",
    "    # from 2 sample t-test ,\n",
    "    # we can also conclude that Average time_taken_btwn_odstart_and_od_end for population is \n",
    "    # also equal to Average start_scan_to_end_scan for population."
   ]
  },
  {
   "cell_type": "code",
   "execution_count": 69,
   "id": "2d477846",
   "metadata": {},
   "outputs": [
    {
     "data": {
      "text/plain": [
       "8.861857235305067"
      ]
     },
     "execution_count": 69,
     "metadata": {},
     "output_type": "execute_result"
    }
   ],
   "source": [
    "time_taken_btwn_odstart_and_od_end[\"time_taken_btwn_odstart_and_od_end\"].mean()"
   ]
  },
  {
   "cell_type": "code",
   "execution_count": 70,
   "id": "3abcfd1c",
   "metadata": {},
   "outputs": [
    {
     "data": {
      "text/plain": [
       "8.835777597804325"
      ]
     },
     "execution_count": 70,
     "metadata": {},
     "output_type": "execute_result"
    }
   ],
   "source": [
    "start_scan_to_end_scan[\"start_scan_to_end_scan\"].mean()"
   ]
  },
  {
   "cell_type": "code",
   "execution_count": null,
   "id": "c7237a8b",
   "metadata": {},
   "outputs": [],
   "source": []
  },
  {
   "cell_type": "code",
   "execution_count": null,
   "id": "d6702d5d",
   "metadata": {},
   "outputs": [],
   "source": []
  },
  {
   "cell_type": "markdown",
   "id": "64d28e9e",
   "metadata": {},
   "source": [
    "## Analysing `Actual Time` taken to complete the delivery per trip &  `start-scan-end-scan`"
   ]
  },
  {
   "cell_type": "code",
   "execution_count": 71,
   "id": "523287aa",
   "metadata": {},
   "outputs": [
    {
     "data": {
      "text/html": [
       "<div>\n",
       "<style scoped>\n",
       "    .dataframe tbody tr th:only-of-type {\n",
       "        vertical-align: middle;\n",
       "    }\n",
       "\n",
       "    .dataframe tbody tr th {\n",
       "        vertical-align: top;\n",
       "    }\n",
       "\n",
       "    .dataframe thead th {\n",
       "        text-align: right;\n",
       "    }\n",
       "</style>\n",
       "<table border=\"1\" class=\"dataframe\">\n",
       "  <thead>\n",
       "    <tr style=\"text-align: right;\">\n",
       "      <th></th>\n",
       "      <th>trip_uuid</th>\n",
       "      <th>start_scan_to_end_scan</th>\n",
       "    </tr>\n",
       "  </thead>\n",
       "  <tbody>\n",
       "    <tr>\n",
       "      <th>0</th>\n",
       "      <td>trip-153671041653548748</td>\n",
       "      <td>37.650000</td>\n",
       "    </tr>\n",
       "    <tr>\n",
       "      <th>1</th>\n",
       "      <td>trip-153671042288605164</td>\n",
       "      <td>3.000000</td>\n",
       "    </tr>\n",
       "    <tr>\n",
       "      <th>2</th>\n",
       "      <td>trip-153671043369099517</td>\n",
       "      <td>65.550000</td>\n",
       "    </tr>\n",
       "    <tr>\n",
       "      <th>3</th>\n",
       "      <td>trip-153671046011330457</td>\n",
       "      <td>1.666667</td>\n",
       "    </tr>\n",
       "    <tr>\n",
       "      <th>4</th>\n",
       "      <td>trip-153671052974046625</td>\n",
       "      <td>11.950000</td>\n",
       "    </tr>\n",
       "    <tr>\n",
       "      <th>...</th>\n",
       "      <td>...</td>\n",
       "      <td>...</td>\n",
       "    </tr>\n",
       "    <tr>\n",
       "      <th>14812</th>\n",
       "      <td>trip-153861095625827784</td>\n",
       "      <td>4.283333</td>\n",
       "    </tr>\n",
       "    <tr>\n",
       "      <th>14813</th>\n",
       "      <td>trip-153861104386292051</td>\n",
       "      <td>1.000000</td>\n",
       "    </tr>\n",
       "    <tr>\n",
       "      <th>14814</th>\n",
       "      <td>trip-153861106442901555</td>\n",
       "      <td>7.016667</td>\n",
       "    </tr>\n",
       "    <tr>\n",
       "      <th>14815</th>\n",
       "      <td>trip-153861115439069069</td>\n",
       "      <td>5.783333</td>\n",
       "    </tr>\n",
       "    <tr>\n",
       "      <th>14816</th>\n",
       "      <td>trip-153861118270144424</td>\n",
       "      <td>5.883333</td>\n",
       "    </tr>\n",
       "  </tbody>\n",
       "</table>\n",
       "<p>14817 rows × 2 columns</p>\n",
       "</div>"
      ],
      "text/plain": [
       "                     trip_uuid  start_scan_to_end_scan\n",
       "0      trip-153671041653548748               37.650000\n",
       "1      trip-153671042288605164                3.000000\n",
       "2      trip-153671043369099517               65.550000\n",
       "3      trip-153671046011330457                1.666667\n",
       "4      trip-153671052974046625               11.950000\n",
       "...                        ...                     ...\n",
       "14812  trip-153861095625827784                4.283333\n",
       "14813  trip-153861104386292051                1.000000\n",
       "14814  trip-153861106442901555                7.016667\n",
       "14815  trip-153861115439069069                5.783333\n",
       "14816  trip-153861118270144424                5.883333\n",
       "\n",
       "[14817 rows x 2 columns]"
      ]
     },
     "execution_count": 71,
     "metadata": {},
     "output_type": "execute_result"
    }
   ],
   "source": [
    "start_scan_to_end_scan"
   ]
  },
  {
   "cell_type": "code",
   "execution_count": 72,
   "id": "33b06a38",
   "metadata": {},
   "outputs": [
    {
     "data": {
      "text/plain": [
       "<AxesSubplot:xlabel='start_scan_to_end_scan', ylabel='Density'>"
      ]
     },
     "execution_count": 72,
     "metadata": {},
     "output_type": "execute_result"
    },
    {
     "data": {
      "image/png": "[encoded data removed]",
      "text/plain": [
       "<Figure size 1080x360 with 2 Axes>"
      ]
     },
     "metadata": {
      "needs_background": "light"
     },
     "output_type": "display_data"
    }
   ],
   "source": [
    "plt.figure(figsize=(15,5))\n",
    "plt.subplot(121)\n",
    "sns.distplot((actual_time[\"actual_time\"]))\n",
    "plt.subplot(122)\n",
    "sns.distplot((start_scan_to_end_scan[\"start_scan_to_end_scan\"]))"
   ]
  },
  {
   "cell_type": "code",
   "execution_count": 73,
   "id": "c0c3985f",
   "metadata": {},
   "outputs": [
    {
     "data": {
      "text/plain": [
       "<AxesSubplot:xlabel='start_scan_to_end_scan', ylabel='Density'>"
      ]
     },
     "execution_count": 73,
     "metadata": {},
     "output_type": "execute_result"
    },
    {
     "data": {
      "image/png": "[encoded data removed]",
      "text/plain": [
       "<Figure size 720x288 with 2 Axes>"
      ]
     },
     "metadata": {
      "needs_background": "light"
     },
     "output_type": "display_data"
    }
   ],
   "source": [
    "plt.figure(figsize=(10,4))\n",
    "plt.subplot(121)\n",
    "sns.distplot((np.log(actual_time[\"actual_time\"])))\n",
    "plt.subplot(122)\n",
    "sns.distplot((np.log(start_scan_to_end_scan[\"start_scan_to_end_scan\"])))"
   ]
  },
  {
   "cell_type": "code",
   "execution_count": 74,
   "id": "8f5876fb",
   "metadata": {},
   "outputs": [
    {
     "data": {
      "application/javascript": [
       "\n",
       "        if (window._pyforest_update_imports_cell) { window._pyforest_update_imports_cell('from scipy import stats'); }\n",
       "    "
      ],
      "text/plain": [
       "<IPython.core.display.Javascript object>"
      ]
     },
     "metadata": {},
     "output_type": "display_data"
    },
    {
     "data": {
      "text/plain": [
       "KstestResult(statistic=0.27387460349598436, pvalue=0.0)"
      ]
     },
     "execution_count": 74,
     "metadata": {},
     "output_type": "execute_result"
    }
   ],
   "source": [
    "stats.ks_2samp(actual_time[\"actual_time\"],start_scan_to_end_scan[\"start_scan_to_end_scan\"])"
   ]
  },
  {
   "cell_type": "code",
   "execution_count": 75,
   "id": "93a0a66c",
   "metadata": {},
   "outputs": [
    {
     "data": {
      "application/javascript": [
       "\n",
       "        if (window._pyforest_update_imports_cell) { window._pyforest_update_imports_cell('from scipy import stats'); }\n",
       "    "
      ],
      "text/plain": [
       "<IPython.core.display.Javascript object>"
      ]
     },
     "metadata": {},
     "output_type": "display_data"
    },
    {
     "data": {
      "text/plain": [
       "Ttest_indResult(statistic=-11.289468346129413, pvalue=1.0723063686870985e-28)"
      ]
     },
     "execution_count": 75,
     "metadata": {},
     "output_type": "execute_result"
    }
   ],
   "source": [
    "stats.ttest_ind(np.log(actual_time[\"actual_time\"].sample(1000))\n",
    "                ,np.log(start_scan_to_end_scan[\"start_scan_to_end_scan\"].sample(1000)))"
   ]
  },
  {
   "cell_type": "markdown",
   "id": "ffc5185e",
   "metadata": {},
   "source": [
    "    # from KS test for actual-time and start_scan_to_end_scan \n",
    "    # from ttest of population average actual_time & population average start_scan_to_end_scan are not same."
   ]
  },
  {
   "cell_type": "code",
   "execution_count": null,
   "id": "32a2ddd2",
   "metadata": {},
   "outputs": [],
   "source": []
  },
  {
   "cell_type": "code",
   "execution_count": null,
   "id": "9035f4f9",
   "metadata": {},
   "outputs": [],
   "source": []
  },
  {
   "cell_type": "markdown",
   "id": "3aaf291b",
   "metadata": {},
   "source": [
    "## Analysing `Actual Time` & `TimeTaken between start and end trip time`. "
   ]
  },
  {
   "cell_type": "code",
   "execution_count": 76,
   "id": "5be684e9",
   "metadata": {},
   "outputs": [
    {
     "data": {
      "application/javascript": [
       "\n",
       "        if (window._pyforest_update_imports_cell) { window._pyforest_update_imports_cell('from scipy import stats'); }\n",
       "    "
      ],
      "text/plain": [
       "<IPython.core.display.Javascript object>"
      ]
     },
     "metadata": {},
     "output_type": "display_data"
    },
    {
     "data": {
      "text/plain": [
       "KstestResult(statistic=0.2765067152594992, pvalue=0.0)"
      ]
     },
     "execution_count": 76,
     "metadata": {},
     "output_type": "execute_result"
    }
   ],
   "source": [
    "stats.ks_2samp(actual_time[\"actual_time\"],time_taken_btwn_odstart_and_od_end[\"time_taken_btwn_odstart_and_od_end\"])"
   ]
  },
  {
   "cell_type": "code",
   "execution_count": 77,
   "id": "72e5b495",
   "metadata": {},
   "outputs": [
    {
     "data": {
      "application/javascript": [
       "\n",
       "        if (window._pyforest_update_imports_cell) { window._pyforest_update_imports_cell('from scipy import stats'); }\n",
       "    "
      ],
      "text/plain": [
       "<IPython.core.display.Javascript object>"
      ]
     },
     "metadata": {},
     "output_type": "display_data"
    },
    {
     "data": {
      "text/plain": [
       "Ttest_indResult(statistic=-12.749237153192919, pvalue=7.538470866535931e-36)"
      ]
     },
     "execution_count": 77,
     "metadata": {},
     "output_type": "execute_result"
    }
   ],
   "source": [
    "stats.ttest_ind(np.log(actual_time[\"actual_time\"].sample(1000))\n",
    "                ,np.log(time_taken_btwn_odstart_and_od_end[\"time_taken_btwn_odstart_and_od_end\"].sample(1000)))"
   ]
  },
  {
   "cell_type": "markdown",
   "id": "2c9b0960",
   "metadata": {},
   "source": [
    "    # from above kstest of distribution and two sample ttest , \n",
    "    # we can conclude that population mean Actualtime taken to complete delivery and population mean time_taken_btwn_odstart_and_od_end are also not same."
   ]
  },
  {
   "cell_type": "code",
   "execution_count": null,
   "id": "f307207e",
   "metadata": {},
   "outputs": [],
   "source": []
  },
  {
   "cell_type": "markdown",
   "id": "a67baa40",
   "metadata": {},
   "source": [
    "## Analysing` Actual Time` taken to complete delivery from source to destination hub & `OSRM measured time` : "
   ]
  },
  {
   "cell_type": "code",
   "execution_count": 78,
   "id": "a1167a98",
   "metadata": {},
   "outputs": [
    {
     "data": {
      "text/html": [
       "<div>\n",
       "<style scoped>\n",
       "    .dataframe tbody tr th:only-of-type {\n",
       "        vertical-align: middle;\n",
       "    }\n",
       "\n",
       "    .dataframe tbody tr th {\n",
       "        vertical-align: top;\n",
       "    }\n",
       "\n",
       "    .dataframe thead th {\n",
       "        text-align: right;\n",
       "    }\n",
       "</style>\n",
       "<table border=\"1\" class=\"dataframe\">\n",
       "  <thead>\n",
       "    <tr style=\"text-align: right;\">\n",
       "      <th></th>\n",
       "      <th>trip_uuid</th>\n",
       "      <th>actual_time</th>\n",
       "    </tr>\n",
       "  </thead>\n",
       "  <tbody>\n",
       "    <tr>\n",
       "      <th>0</th>\n",
       "      <td>trip-153671041653548748</td>\n",
       "      <td>26.033333</td>\n",
       "    </tr>\n",
       "    <tr>\n",
       "      <th>1</th>\n",
       "      <td>trip-153671042288605164</td>\n",
       "      <td>2.383333</td>\n",
       "    </tr>\n",
       "    <tr>\n",
       "      <th>2</th>\n",
       "      <td>trip-153671043369099517</td>\n",
       "      <td>55.783333</td>\n",
       "    </tr>\n",
       "    <tr>\n",
       "      <th>3</th>\n",
       "      <td>trip-153671046011330457</td>\n",
       "      <td>0.983333</td>\n",
       "    </tr>\n",
       "    <tr>\n",
       "      <th>4</th>\n",
       "      <td>trip-153671052974046625</td>\n",
       "      <td>5.683333</td>\n",
       "    </tr>\n",
       "    <tr>\n",
       "      <th>...</th>\n",
       "      <td>...</td>\n",
       "      <td>...</td>\n",
       "    </tr>\n",
       "    <tr>\n",
       "      <th>14812</th>\n",
       "      <td>trip-153861095625827784</td>\n",
       "      <td>1.383333</td>\n",
       "    </tr>\n",
       "    <tr>\n",
       "      <th>14813</th>\n",
       "      <td>trip-153861104386292051</td>\n",
       "      <td>0.350000</td>\n",
       "    </tr>\n",
       "    <tr>\n",
       "      <th>14814</th>\n",
       "      <td>trip-153861106442901555</td>\n",
       "      <td>4.700000</td>\n",
       "    </tr>\n",
       "    <tr>\n",
       "      <th>14815</th>\n",
       "      <td>trip-153861115439069069</td>\n",
       "      <td>4.400000</td>\n",
       "    </tr>\n",
       "    <tr>\n",
       "      <th>14816</th>\n",
       "      <td>trip-153861118270144424</td>\n",
       "      <td>4.583333</td>\n",
       "    </tr>\n",
       "  </tbody>\n",
       "</table>\n",
       "<p>14817 rows × 2 columns</p>\n",
       "</div>"
      ],
      "text/plain": [
       "                     trip_uuid  actual_time\n",
       "0      trip-153671041653548748    26.033333\n",
       "1      trip-153671042288605164     2.383333\n",
       "2      trip-153671043369099517    55.783333\n",
       "3      trip-153671046011330457     0.983333\n",
       "4      trip-153671052974046625     5.683333\n",
       "...                        ...          ...\n",
       "14812  trip-153861095625827784     1.383333\n",
       "14813  trip-153861104386292051     0.350000\n",
       "14814  trip-153861106442901555     4.700000\n",
       "14815  trip-153861115439069069     4.400000\n",
       "14816  trip-153861118270144424     4.583333\n",
       "\n",
       "[14817 rows x 2 columns]"
      ]
     },
     "execution_count": 78,
     "metadata": {},
     "output_type": "execute_result"
    }
   ],
   "source": [
    "actual_time"
   ]
  },
  {
   "cell_type": "code",
   "execution_count": 79,
   "id": "e2bbd539",
   "metadata": {},
   "outputs": [
    {
     "data": {
      "text/plain": [
       "<AxesSubplot:xlabel='osrm_time', ylabel='Density'>"
      ]
     },
     "execution_count": 79,
     "metadata": {},
     "output_type": "execute_result"
    },
    {
     "data": {
      "image/png": "[encoded data removed]",
      "text/plain": [
       "<Figure size 720x288 with 2 Axes>"
      ]
     },
     "metadata": {
      "needs_background": "light"
     },
     "output_type": "display_data"
    }
   ],
   "source": [
    "plt.figure(figsize=(10,4))\n",
    "plt.subplot(121)\n",
    "sns.distplot(((actual_time[\"actual_time\"])))\n",
    "plt.subplot(122)\n",
    "sns.distplot(((osrm_time[\"osrm_time\"])))"
   ]
  },
  {
   "cell_type": "code",
   "execution_count": 80,
   "id": "e71fa086",
   "metadata": {},
   "outputs": [
    {
     "data": {
      "text/plain": [
       "<AxesSubplot:xlabel='osrm_time', ylabel='Density'>"
      ]
     },
     "execution_count": 80,
     "metadata": {},
     "output_type": "execute_result"
    },
    {
     "data": {
      "image/png": "[encoded data removed]",
      "text/plain": [
       "<Figure size 720x288 with 2 Axes>"
      ]
     },
     "metadata": {
      "needs_background": "light"
     },
     "output_type": "display_data"
    }
   ],
   "source": [
    "plt.figure(figsize=(10,4))\n",
    "plt.subplot(121)\n",
    "sns.distplot((np.log(actual_time[\"actual_time\"])))\n",
    "plt.subplot(122)\n",
    "sns.distplot((np.log(osrm_time[\"osrm_time\"])))"
   ]
  },
  {
   "cell_type": "code",
   "execution_count": 81,
   "id": "3739f31d",
   "metadata": {},
   "outputs": [
    {
     "data": {
      "application/javascript": [
       "\n",
       "        if (window._pyforest_update_imports_cell) { window._pyforest_update_imports_cell('from scipy import stats'); }\n",
       "    "
      ],
      "text/plain": [
       "<IPython.core.display.Javascript object>"
      ]
     },
     "metadata": {},
     "output_type": "display_data"
    },
    {
     "data": {
      "text/plain": [
       "Ttest_indResult(statistic=11.076195316749095, pvalue=1.0298184078549056e-27)"
      ]
     },
     "execution_count": 81,
     "metadata": {},
     "output_type": "execute_result"
    }
   ],
   "source": [
    "stats.ttest_ind(actual_time[\"actual_time\"].sample(1000),\n",
    "               osrm_time[\"osrm_time\"].sample(1000))"
   ]
  },
  {
   "cell_type": "code",
   "execution_count": 82,
   "id": "605ae524",
   "metadata": {},
   "outputs": [
    {
     "data": {
      "application/javascript": [
       "\n",
       "        if (window._pyforest_update_imports_cell) { window._pyforest_update_imports_cell('from scipy import stats'); }\n",
       "    "
      ],
      "text/plain": [
       "<IPython.core.display.Javascript object>"
      ]
     },
     "metadata": {},
     "output_type": "display_data"
    },
    {
     "data": {
      "text/plain": [
       "Ttest_indResult(statistic=10.215143203833728, pvalue=3.2460309661812173e-24)"
      ]
     },
     "execution_count": 82,
     "metadata": {},
     "output_type": "execute_result"
    }
   ],
   "source": [
    "stats.ttest_ind(actual_time[\"actual_time\"].sample(1000),\n",
    "               osrm_time[\"osrm_time\"].sample(1000),alternative='greater')"
   ]
  },
  {
   "cell_type": "markdown",
   "id": "aaeffbe2",
   "metadata": {},
   "source": [
    "    # from ttestwe can conclude , tht population mean actual time taken to complete delivert from source to warehouse \n",
    "    # and orsm estimate mean time for population are not same. \n",
    "    # actual time is higher than the osrm estimated time for delivery."
   ]
  },
  {
   "cell_type": "code",
   "execution_count": null,
   "id": "439748ff",
   "metadata": {},
   "outputs": [],
   "source": []
  },
  {
   "cell_type": "code",
   "execution_count": null,
   "id": "85e02aab",
   "metadata": {},
   "outputs": [],
   "source": []
  },
  {
   "cell_type": "markdown",
   "id": "e170ca0e",
   "metadata": {},
   "source": [
    "## Analysing Actual Time taken to complete delivery from source to destination hub & Segment Actual Time :  "
   ]
  },
  {
   "cell_type": "code",
   "execution_count": 83,
   "id": "ef342870",
   "metadata": {},
   "outputs": [
    {
     "data": {
      "text/html": [
       "<div>\n",
       "<style scoped>\n",
       "    .dataframe tbody tr th:only-of-type {\n",
       "        vertical-align: middle;\n",
       "    }\n",
       "\n",
       "    .dataframe tbody tr th {\n",
       "        vertical-align: top;\n",
       "    }\n",
       "\n",
       "    .dataframe thead th {\n",
       "        text-align: right;\n",
       "    }\n",
       "</style>\n",
       "<table border=\"1\" class=\"dataframe\">\n",
       "  <thead>\n",
       "    <tr style=\"text-align: right;\">\n",
       "      <th></th>\n",
       "      <th>trip_uuid</th>\n",
       "      <th>actual_time</th>\n",
       "    </tr>\n",
       "  </thead>\n",
       "  <tbody>\n",
       "    <tr>\n",
       "      <th>0</th>\n",
       "      <td>trip-153671041653548748</td>\n",
       "      <td>26.033333</td>\n",
       "    </tr>\n",
       "    <tr>\n",
       "      <th>1</th>\n",
       "      <td>trip-153671042288605164</td>\n",
       "      <td>2.383333</td>\n",
       "    </tr>\n",
       "    <tr>\n",
       "      <th>2</th>\n",
       "      <td>trip-153671043369099517</td>\n",
       "      <td>55.783333</td>\n",
       "    </tr>\n",
       "    <tr>\n",
       "      <th>3</th>\n",
       "      <td>trip-153671046011330457</td>\n",
       "      <td>0.983333</td>\n",
       "    </tr>\n",
       "    <tr>\n",
       "      <th>4</th>\n",
       "      <td>trip-153671052974046625</td>\n",
       "      <td>5.683333</td>\n",
       "    </tr>\n",
       "    <tr>\n",
       "      <th>...</th>\n",
       "      <td>...</td>\n",
       "      <td>...</td>\n",
       "    </tr>\n",
       "    <tr>\n",
       "      <th>14812</th>\n",
       "      <td>trip-153861095625827784</td>\n",
       "      <td>1.383333</td>\n",
       "    </tr>\n",
       "    <tr>\n",
       "      <th>14813</th>\n",
       "      <td>trip-153861104386292051</td>\n",
       "      <td>0.350000</td>\n",
       "    </tr>\n",
       "    <tr>\n",
       "      <th>14814</th>\n",
       "      <td>trip-153861106442901555</td>\n",
       "      <td>4.700000</td>\n",
       "    </tr>\n",
       "    <tr>\n",
       "      <th>14815</th>\n",
       "      <td>trip-153861115439069069</td>\n",
       "      <td>4.400000</td>\n",
       "    </tr>\n",
       "    <tr>\n",
       "      <th>14816</th>\n",
       "      <td>trip-153861118270144424</td>\n",
       "      <td>4.583333</td>\n",
       "    </tr>\n",
       "  </tbody>\n",
       "</table>\n",
       "<p>14817 rows × 2 columns</p>\n",
       "</div>"
      ],
      "text/plain": [
       "                     trip_uuid  actual_time\n",
       "0      trip-153671041653548748    26.033333\n",
       "1      trip-153671042288605164     2.383333\n",
       "2      trip-153671043369099517    55.783333\n",
       "3      trip-153671046011330457     0.983333\n",
       "4      trip-153671052974046625     5.683333\n",
       "...                        ...          ...\n",
       "14812  trip-153861095625827784     1.383333\n",
       "14813  trip-153861104386292051     0.350000\n",
       "14814  trip-153861106442901555     4.700000\n",
       "14815  trip-153861115439069069     4.400000\n",
       "14816  trip-153861118270144424     4.583333\n",
       "\n",
       "[14817 rows x 2 columns]"
      ]
     },
     "execution_count": 83,
     "metadata": {},
     "output_type": "execute_result"
    }
   ],
   "source": [
    "actual_time"
   ]
  },
  {
   "cell_type": "code",
   "execution_count": 84,
   "id": "19950f06",
   "metadata": {},
   "outputs": [
    {
     "data": {
      "text/plain": [
       "<AxesSubplot:xlabel='segment_actual_time', ylabel='Density'>"
      ]
     },
     "execution_count": 84,
     "metadata": {},
     "output_type": "execute_result"
    },
    {
     "data": {
      "image/png": "[encoded data removed]",
      "text/plain": [
       "<Figure size 720x288 with 2 Axes>"
      ]
     },
     "metadata": {
      "needs_background": "light"
     },
     "output_type": "display_data"
    }
   ],
   "source": [
    "plt.figure(figsize=(10,4))\n",
    "plt.subplot(121)\n",
    "sns.distplot(((actual_time[\"actual_time\"])))\n",
    "plt.subplot(122)\n",
    "sns.distplot(((segment_actual_time[\"segment_actual_time\"])))"
   ]
  },
  {
   "cell_type": "code",
   "execution_count": 85,
   "id": "00d6711c",
   "metadata": {},
   "outputs": [
    {
     "data": {
      "text/plain": [
       "<AxesSubplot:xlabel='segment_actual_time', ylabel='Density'>"
      ]
     },
     "execution_count": 85,
     "metadata": {},
     "output_type": "execute_result"
    },
    {
     "data": {
      "image/png": "[encoded data removed]",
      "text/plain": [
       "<Figure size 720x288 with 2 Axes>"
      ]
     },
     "metadata": {
      "needs_background": "light"
     },
     "output_type": "display_data"
    }
   ],
   "source": [
    "plt.figure(figsize=(10,4))\n",
    "plt.subplot(121)\n",
    "sns.distplot((np.log(actual_time[\"actual_time\"])))\n",
    "plt.subplot(122)\n",
    "sns.distplot((np.log(segment_actual_time[\"segment_actual_time\"])))"
   ]
  },
  {
   "cell_type": "code",
   "execution_count": 86,
   "id": "6361c6fa",
   "metadata": {},
   "outputs": [
    {
     "data": {
      "application/javascript": [
       "\n",
       "        if (window._pyforest_update_imports_cell) { window._pyforest_update_imports_cell('from scipy import stats'); }\n",
       "    "
      ],
      "text/plain": [
       "<IPython.core.display.Javascript object>"
      ]
     },
     "metadata": {},
     "output_type": "display_data"
    },
    {
     "name": "stdout",
     "output_type": "stream",
     "text": [
      "Ttest_indResult(statistic=1.5666300674566564, pvalue=0.11735953977218339)\n"
     ]
    },
    {
     "data": {
      "application/javascript": [
       "\n",
       "        if (window._pyforest_update_imports_cell) { window._pyforest_update_imports_cell('from scipy import stats'); }\n",
       "    "
      ],
      "text/plain": [
       "<IPython.core.display.Javascript object>"
      ]
     },
     "metadata": {},
     "output_type": "display_data"
    },
    {
     "name": "stdout",
     "output_type": "stream",
     "text": [
      "Ttest_indResult(statistic=0.8530994452170468, pvalue=0.39370641511866744)\n"
     ]
    },
    {
     "data": {
      "application/javascript": [
       "\n",
       "        if (window._pyforest_update_imports_cell) { window._pyforest_update_imports_cell('from scipy import stats'); }\n",
       "    "
      ],
      "text/plain": [
       "<IPython.core.display.Javascript object>"
      ]
     },
     "metadata": {},
     "output_type": "display_data"
    },
    {
     "name": "stdout",
     "output_type": "stream",
     "text": [
      "Ttest_indResult(statistic=-0.7511491158388213, pvalue=0.45265137939123123)\n"
     ]
    },
    {
     "data": {
      "application/javascript": [
       "\n",
       "        if (window._pyforest_update_imports_cell) { window._pyforest_update_imports_cell('from scipy import stats'); }\n",
       "    "
      ],
      "text/plain": [
       "<IPython.core.display.Javascript object>"
      ]
     },
     "metadata": {},
     "output_type": "display_data"
    },
    {
     "name": "stdout",
     "output_type": "stream",
     "text": [
      "Ttest_indResult(statistic=0.5937518217819315, pvalue=0.5527453293718834)\n"
     ]
    },
    {
     "data": {
      "application/javascript": [
       "\n",
       "        if (window._pyforest_update_imports_cell) { window._pyforest_update_imports_cell('from scipy import stats'); }\n",
       "    "
      ],
      "text/plain": [
       "<IPython.core.display.Javascript object>"
      ]
     },
     "metadata": {},
     "output_type": "display_data"
    },
    {
     "name": "stdout",
     "output_type": "stream",
     "text": [
      "Ttest_indResult(statistic=-0.5038308323707604, pvalue=0.6144358058527604)\n"
     ]
    }
   ],
   "source": [
    "for i in range(5):\n",
    "    print(stats.ttest_ind((actual_time[\"actual_time\"].sample(1000)),\n",
    "                (segment_actual_time[\"segment_actual_time\"].sample(1000))))"
   ]
  },
  {
   "cell_type": "markdown",
   "id": "baee543e",
   "metadata": {},
   "source": [
    "    # from two sample ttest , we can conclude that\n",
    "    Population average for\n",
    "    Actual Time taken to complete delivery trip \n",
    "    and \n",
    "    segment actual time \n",
    "    are same. \n",
    "    "
   ]
  },
  {
   "cell_type": "markdown",
   "id": "2b567d00",
   "metadata": {},
   "source": [
    "## Analysing osrm Time  & segment-osrm-time :  "
   ]
  },
  {
   "cell_type": "code",
   "execution_count": 87,
   "id": "c31f4998",
   "metadata": {},
   "outputs": [
    {
     "data": {
      "text/plain": [
       "<AxesSubplot:xlabel='segment_osrm_time', ylabel='Density'>"
      ]
     },
     "execution_count": 87,
     "metadata": {},
     "output_type": "execute_result"
    },
    {
     "data": {
      "image/png": "[encoded data removed]",
      "text/plain": [
       "<Figure size 720x288 with 2 Axes>"
      ]
     },
     "metadata": {
      "needs_background": "light"
     },
     "output_type": "display_data"
    }
   ],
   "source": [
    "plt.figure(figsize=(10,4))\n",
    "plt.subplot(121)\n",
    "sns.distplot(((osrm_time[\"osrm_time\"])))\n",
    "plt.subplot(122)\n",
    "sns.distplot(((segment_osrm_time[\"segment_osrm_time\"])))"
   ]
  },
  {
   "cell_type": "code",
   "execution_count": 88,
   "id": "25520849",
   "metadata": {},
   "outputs": [
    {
     "data": {
      "application/javascript": [
       "\n",
       "        if (window._pyforest_update_imports_cell) { window._pyforest_update_imports_cell('from scipy import stats'); }\n",
       "    "
      ],
      "text/plain": [
       "<IPython.core.display.Javascript object>"
      ]
     },
     "metadata": {},
     "output_type": "display_data"
    },
    {
     "name": "stdout",
     "output_type": "stream",
     "text": [
      "Ttest_indResult(statistic=-1.1626513638348075, pvalue=0.24501723780806178)\n"
     ]
    },
    {
     "data": {
      "application/javascript": [
       "\n",
       "        if (window._pyforest_update_imports_cell) { window._pyforest_update_imports_cell('from scipy import stats'); }\n",
       "    "
      ],
      "text/plain": [
       "<IPython.core.display.Javascript object>"
      ]
     },
     "metadata": {},
     "output_type": "display_data"
    },
    {
     "name": "stdout",
     "output_type": "stream",
     "text": [
      "Ttest_indResult(statistic=-2.290670510833273, pvalue=0.0220170087190278)\n"
     ]
    },
    {
     "data": {
      "application/javascript": [
       "\n",
       "        if (window._pyforest_update_imports_cell) { window._pyforest_update_imports_cell('from scipy import stats'); }\n",
       "    "
      ],
      "text/plain": [
       "<IPython.core.display.Javascript object>"
      ]
     },
     "metadata": {},
     "output_type": "display_data"
    },
    {
     "name": "stdout",
     "output_type": "stream",
     "text": [
      "Ttest_indResult(statistic=-1.1584777237776336, pvalue=0.2467152598958736)\n"
     ]
    },
    {
     "data": {
      "application/javascript": [
       "\n",
       "        if (window._pyforest_update_imports_cell) { window._pyforest_update_imports_cell('from scipy import stats'); }\n",
       "    "
      ],
      "text/plain": [
       "<IPython.core.display.Javascript object>"
      ]
     },
     "metadata": {},
     "output_type": "display_data"
    },
    {
     "name": "stdout",
     "output_type": "stream",
     "text": [
      "Ttest_indResult(statistic=-3.028319011997966, pvalue=0.00246964325081954)\n"
     ]
    },
    {
     "data": {
      "application/javascript": [
       "\n",
       "        if (window._pyforest_update_imports_cell) { window._pyforest_update_imports_cell('from scipy import stats'); }\n",
       "    "
      ],
      "text/plain": [
       "<IPython.core.display.Javascript object>"
      ]
     },
     "metadata": {},
     "output_type": "display_data"
    },
    {
     "name": "stdout",
     "output_type": "stream",
     "text": [
      "Ttest_indResult(statistic=-1.9237989537219058, pvalue=0.05442705841614627)\n"
     ]
    },
    {
     "data": {
      "application/javascript": [
       "\n",
       "        if (window._pyforest_update_imports_cell) { window._pyforest_update_imports_cell('from scipy import stats'); }\n",
       "    "
      ],
      "text/plain": [
       "<IPython.core.display.Javascript object>"
      ]
     },
     "metadata": {},
     "output_type": "display_data"
    },
    {
     "name": "stdout",
     "output_type": "stream",
     "text": [
      "Ttest_indResult(statistic=-1.5106971799942281, pvalue=0.13091829910010466)\n"
     ]
    },
    {
     "data": {
      "application/javascript": [
       "\n",
       "        if (window._pyforest_update_imports_cell) { window._pyforest_update_imports_cell('from scipy import stats'); }\n",
       "    "
      ],
      "text/plain": [
       "<IPython.core.display.Javascript object>"
      ]
     },
     "metadata": {},
     "output_type": "display_data"
    },
    {
     "name": "stdout",
     "output_type": "stream",
     "text": [
      "Ttest_indResult(statistic=-3.0812288371129197, pvalue=0.00207082455575731)\n"
     ]
    }
   ],
   "source": [
    "for i in range(7):\n",
    "    print(stats.ttest_ind((osrm_time[\"osrm_time\"].sample(3000)),\n",
    "                (segment_osrm_time[\"segment_osrm_time\"].sample(3000))))"
   ]
  },
  {
   "cell_type": "markdown",
   "id": "5fc2ecff",
   "metadata": {},
   "source": [
    "    # from ttest , we can conclude tht \n",
    "    average of osrm Time & segment-osrm-time for population is not same. "
   ]
  },
  {
   "cell_type": "code",
   "execution_count": null,
   "id": "e2f1eb87",
   "metadata": {},
   "outputs": [],
   "source": []
  },
  {
   "cell_type": "code",
   "execution_count": null,
   "id": "04c9236c",
   "metadata": {},
   "outputs": [],
   "source": []
  },
  {
   "cell_type": "markdown",
   "id": "92b0a677",
   "metadata": {},
   "source": [
    "# Analysing Distances measures : "
   ]
  },
  {
   "cell_type": "code",
   "execution_count": 89,
   "id": "f58528f8",
   "metadata": {},
   "outputs": [],
   "source": [
    "# osrm_distance – An open-source routing engine which computes the shortest path between points \n",
    "# in a given map (Includes usual traffic, distance through major and minor roads) (Cumulative)"
   ]
  },
  {
   "cell_type": "code",
   "execution_count": 90,
   "id": "d3593b40",
   "metadata": {},
   "outputs": [],
   "source": [
    "# segment_osrm_distance – This is the OSRM distance. Distance covered by subset of the package delivery"
   ]
  },
  {
   "cell_type": "code",
   "execution_count": 91,
   "id": "92ec940e",
   "metadata": {},
   "outputs": [],
   "source": [
    "# actual_distance_to_destination – Distance in Kms between source and destination warehouse"
   ]
  },
  {
   "cell_type": "code",
   "execution_count": null,
   "id": "5213387b",
   "metadata": {},
   "outputs": [],
   "source": []
  },
  {
   "cell_type": "code",
   "execution_count": 92,
   "id": "987ca1b6",
   "metadata": {},
   "outputs": [],
   "source": [
    "# osrm_distance = data[data[\"is_cutoff\"]==False][[\"trip_uuid\",\n",
    "#                                                 \"osrm_distance\"]].groupby(\"trip_uuid\")[\"osrm_distance\"].sum().reset_index()\n",
    "# actual_distance_to_destination = data[data[\"is_cutoff\"]==False][[\"trip_uuid\",\n",
    "#                                                                  \"actual_distance_to_destination\"]].groupby(\"trip_uuid\")[\"actual_distance_to_destination\"].sum().reset_index()\n",
    "# segment_osrm_distance = data[[\"trip_uuid\",\n",
    "#                               \"segment_osrm_distance\"]].groupby(\"trip_uuid\")[\"segment_osrm_distance\"].sum().reset_index()\n"
   ]
  },
  {
   "cell_type": "markdown",
   "id": "177a56f7",
   "metadata": {},
   "source": [
    "## Analysing and Visulizing OSRM Estimated distance and Segment_osrm_distance  :"
   ]
  },
  {
   "cell_type": "code",
   "execution_count": 93,
   "id": "d7193299",
   "metadata": {},
   "outputs": [
    {
     "data": {
      "text/plain": [
       "<AxesSubplot:xlabel='segment_osrm_distance', ylabel='Density'>"
      ]
     },
     "execution_count": 93,
     "metadata": {},
     "output_type": "execute_result"
    },
    {
     "data": {
      "image/png": "[encoded data removed]",
      "text/plain": [
       "<Figure size 720x288 with 2 Axes>"
      ]
     },
     "metadata": {
      "needs_background": "light"
     },
     "output_type": "display_data"
    }
   ],
   "source": [
    "plt.figure(figsize=(10,4))\n",
    "plt.subplot(121)\n",
    "sns.distplot(((osrm_distance[\"osrm_distance\"])))\n",
    "plt.subplot(122)\n",
    "sns.distplot(((segment_osrm_distance[\"segment_osrm_distance\"])))"
   ]
  },
  {
   "cell_type": "code",
   "execution_count": 94,
   "id": "910daf7b",
   "metadata": {},
   "outputs": [
    {
     "data": {
      "application/javascript": [
       "\n",
       "        if (window._pyforest_update_imports_cell) { window._pyforest_update_imports_cell('from scipy import stats'); }\n",
       "    "
      ],
      "text/plain": [
       "<IPython.core.display.Javascript object>"
      ]
     },
     "metadata": {},
     "output_type": "display_data"
    },
    {
     "data": {
      "text/plain": [
       "KstestResult(statistic=0.03948167645272321, pvalue=1.8042208791084262e-10)"
      ]
     },
     "execution_count": 94,
     "metadata": {},
     "output_type": "execute_result"
    }
   ],
   "source": [
    "stats.ks_2samp(osrm_distance[\"osrm_distance\"],segment_osrm_distance[\"segment_osrm_distance\"])"
   ]
  },
  {
   "cell_type": "code",
   "execution_count": 95,
   "id": "cfcf344a",
   "metadata": {},
   "outputs": [
    {
     "data": {
      "application/javascript": [
       "\n",
       "        if (window._pyforest_update_imports_cell) { window._pyforest_update_imports_cell('from scipy import stats'); }\n",
       "    "
      ],
      "text/plain": [
       "<IPython.core.display.Javascript object>"
      ]
     },
     "metadata": {},
     "output_type": "display_data"
    },
    {
     "name": "stdout",
     "output_type": "stream",
     "text": [
      "Ttest_indResult(statistic=-2.1873885987496813, pvalue=0.028771894195906242)\n"
     ]
    },
    {
     "data": {
      "application/javascript": [
       "\n",
       "        if (window._pyforest_update_imports_cell) { window._pyforest_update_imports_cell('from scipy import stats'); }\n",
       "    "
      ],
      "text/plain": [
       "<IPython.core.display.Javascript object>"
      ]
     },
     "metadata": {},
     "output_type": "display_data"
    },
    {
     "name": "stdout",
     "output_type": "stream",
     "text": [
      "Ttest_indResult(statistic=-2.381811740002089, pvalue=0.01727421612436872)\n"
     ]
    },
    {
     "data": {
      "application/javascript": [
       "\n",
       "        if (window._pyforest_update_imports_cell) { window._pyforest_update_imports_cell('from scipy import stats'); }\n",
       "    "
      ],
      "text/plain": [
       "<IPython.core.display.Javascript object>"
      ]
     },
     "metadata": {},
     "output_type": "display_data"
    },
    {
     "name": "stdout",
     "output_type": "stream",
     "text": [
      "Ttest_indResult(statistic=-1.5757129830421657, pvalue=0.11517108408936179)\n"
     ]
    },
    {
     "data": {
      "application/javascript": [
       "\n",
       "        if (window._pyforest_update_imports_cell) { window._pyforest_update_imports_cell('from scipy import stats'); }\n",
       "    "
      ],
      "text/plain": [
       "<IPython.core.display.Javascript object>"
      ]
     },
     "metadata": {},
     "output_type": "display_data"
    },
    {
     "name": "stdout",
     "output_type": "stream",
     "text": [
      "Ttest_indResult(statistic=-2.7657229733387303, pvalue=0.0057057545885974194)\n"
     ]
    },
    {
     "data": {
      "application/javascript": [
       "\n",
       "        if (window._pyforest_update_imports_cell) { window._pyforest_update_imports_cell('from scipy import stats'); }\n",
       "    "
      ],
      "text/plain": [
       "<IPython.core.display.Javascript object>"
      ]
     },
     "metadata": {},
     "output_type": "display_data"
    },
    {
     "name": "stdout",
     "output_type": "stream",
     "text": [
      "Ttest_indResult(statistic=-1.1957605371701168, pvalue=0.23186093582937595)\n"
     ]
    }
   ],
   "source": [
    "for i in range(5):\n",
    "    print(stats.ttest_ind(osrm_distance[\"osrm_distance\"].sample(2000),\n",
    "               segment_osrm_distance[\"segment_osrm_distance\"].sample(2000)))"
   ]
  },
  {
   "cell_type": "markdown",
   "id": "24fe0360",
   "metadata": {},
   "source": [
    "    # from KS test , we can conclude the distributions of segment osrm distance and osrm distnace are not same! \n",
    "    # but Average of osrm distance for population is same as average of segment osrm distnace "
   ]
  },
  {
   "cell_type": "markdown",
   "id": "f55a2ae0",
   "metadata": {},
   "source": [
    "## Analysing and Visulizing OSRM Estimated distance and Distance between source and destination warehouse :"
   ]
  },
  {
   "cell_type": "code",
   "execution_count": 96,
   "id": "5a9e63b1",
   "metadata": {},
   "outputs": [
    {
     "data": {
      "text/html": [
       "<div>\n",
       "<style scoped>\n",
       "    .dataframe tbody tr th:only-of-type {\n",
       "        vertical-align: middle;\n",
       "    }\n",
       "\n",
       "    .dataframe tbody tr th {\n",
       "        vertical-align: top;\n",
       "    }\n",
       "\n",
       "    .dataframe thead th {\n",
       "        text-align: right;\n",
       "    }\n",
       "</style>\n",
       "<table border=\"1\" class=\"dataframe\">\n",
       "  <thead>\n",
       "    <tr style=\"text-align: right;\">\n",
       "      <th></th>\n",
       "      <th>trip_uuid</th>\n",
       "      <th>actual_distance_to_destination</th>\n",
       "    </tr>\n",
       "  </thead>\n",
       "  <tbody>\n",
       "    <tr>\n",
       "      <th>0</th>\n",
       "      <td>trip-153671041653548748</td>\n",
       "      <td>824.732854</td>\n",
       "    </tr>\n",
       "    <tr>\n",
       "      <th>1</th>\n",
       "      <td>trip-153671042288605164</td>\n",
       "      <td>73.186911</td>\n",
       "    </tr>\n",
       "    <tr>\n",
       "      <th>2</th>\n",
       "      <td>trip-153671043369099517</td>\n",
       "      <td>1932.273969</td>\n",
       "    </tr>\n",
       "    <tr>\n",
       "      <th>3</th>\n",
       "      <td>trip-153671046011330457</td>\n",
       "      <td>17.175274</td>\n",
       "    </tr>\n",
       "    <tr>\n",
       "      <th>4</th>\n",
       "      <td>trip-153671052974046625</td>\n",
       "      <td>127.448500</td>\n",
       "    </tr>\n",
       "    <tr>\n",
       "      <th>...</th>\n",
       "      <td>...</td>\n",
       "      <td>...</td>\n",
       "    </tr>\n",
       "    <tr>\n",
       "      <th>14812</th>\n",
       "      <td>trip-153861095625827784</td>\n",
       "      <td>57.762332</td>\n",
       "    </tr>\n",
       "    <tr>\n",
       "      <th>14813</th>\n",
       "      <td>trip-153861104386292051</td>\n",
       "      <td>15.513784</td>\n",
       "    </tr>\n",
       "    <tr>\n",
       "      <th>14814</th>\n",
       "      <td>trip-153861106442901555</td>\n",
       "      <td>38.684839</td>\n",
       "    </tr>\n",
       "    <tr>\n",
       "      <th>14815</th>\n",
       "      <td>trip-153861115439069069</td>\n",
       "      <td>134.723836</td>\n",
       "    </tr>\n",
       "    <tr>\n",
       "      <th>14816</th>\n",
       "      <td>trip-153861118270144424</td>\n",
       "      <td>66.081533</td>\n",
       "    </tr>\n",
       "  </tbody>\n",
       "</table>\n",
       "<p>14817 rows × 2 columns</p>\n",
       "</div>"
      ],
      "text/plain": [
       "                     trip_uuid  actual_distance_to_destination\n",
       "0      trip-153671041653548748                      824.732854\n",
       "1      trip-153671042288605164                       73.186911\n",
       "2      trip-153671043369099517                     1932.273969\n",
       "3      trip-153671046011330457                       17.175274\n",
       "4      trip-153671052974046625                      127.448500\n",
       "...                        ...                             ...\n",
       "14812  trip-153861095625827784                       57.762332\n",
       "14813  trip-153861104386292051                       15.513784\n",
       "14814  trip-153861106442901555                       38.684839\n",
       "14815  trip-153861115439069069                      134.723836\n",
       "14816  trip-153861118270144424                       66.081533\n",
       "\n",
       "[14817 rows x 2 columns]"
      ]
     },
     "execution_count": 96,
     "metadata": {},
     "output_type": "execute_result"
    }
   ],
   "source": [
    "actual_distance_to_destination"
   ]
  },
  {
   "cell_type": "code",
   "execution_count": 97,
   "id": "70ac01dd",
   "metadata": {},
   "outputs": [
    {
     "data": {
      "text/html": [
       "<div>\n",
       "<style scoped>\n",
       "    .dataframe tbody tr th:only-of-type {\n",
       "        vertical-align: middle;\n",
       "    }\n",
       "\n",
       "    .dataframe tbody tr th {\n",
       "        vertical-align: top;\n",
       "    }\n",
       "\n",
       "    .dataframe thead th {\n",
       "        text-align: right;\n",
       "    }\n",
       "</style>\n",
       "<table border=\"1\" class=\"dataframe\">\n",
       "  <thead>\n",
       "    <tr style=\"text-align: right;\">\n",
       "      <th></th>\n",
       "      <th>trip_uuid</th>\n",
       "      <th>osrm_distance</th>\n",
       "    </tr>\n",
       "  </thead>\n",
       "  <tbody>\n",
       "    <tr>\n",
       "      <th>0</th>\n",
       "      <td>trip-153671041653548748</td>\n",
       "      <td>991.3523</td>\n",
       "    </tr>\n",
       "    <tr>\n",
       "      <th>1</th>\n",
       "      <td>trip-153671042288605164</td>\n",
       "      <td>85.1110</td>\n",
       "    </tr>\n",
       "    <tr>\n",
       "      <th>2</th>\n",
       "      <td>trip-153671043369099517</td>\n",
       "      <td>2372.0852</td>\n",
       "    </tr>\n",
       "    <tr>\n",
       "      <th>3</th>\n",
       "      <td>trip-153671046011330457</td>\n",
       "      <td>19.6800</td>\n",
       "    </tr>\n",
       "    <tr>\n",
       "      <th>4</th>\n",
       "      <td>trip-153671052974046625</td>\n",
       "      <td>146.7918</td>\n",
       "    </tr>\n",
       "    <tr>\n",
       "      <th>...</th>\n",
       "      <td>...</td>\n",
       "      <td>...</td>\n",
       "    </tr>\n",
       "    <tr>\n",
       "      <th>14812</th>\n",
       "      <td>trip-153861095625827784</td>\n",
       "      <td>73.4630</td>\n",
       "    </tr>\n",
       "    <tr>\n",
       "      <th>14813</th>\n",
       "      <td>trip-153861104386292051</td>\n",
       "      <td>16.0882</td>\n",
       "    </tr>\n",
       "    <tr>\n",
       "      <th>14814</th>\n",
       "      <td>trip-153861106442901555</td>\n",
       "      <td>63.2841</td>\n",
       "    </tr>\n",
       "    <tr>\n",
       "      <th>14815</th>\n",
       "      <td>trip-153861115439069069</td>\n",
       "      <td>177.6635</td>\n",
       "    </tr>\n",
       "    <tr>\n",
       "      <th>14816</th>\n",
       "      <td>trip-153861118270144424</td>\n",
       "      <td>80.5787</td>\n",
       "    </tr>\n",
       "  </tbody>\n",
       "</table>\n",
       "<p>14817 rows × 2 columns</p>\n",
       "</div>"
      ],
      "text/plain": [
       "                     trip_uuid  osrm_distance\n",
       "0      trip-153671041653548748       991.3523\n",
       "1      trip-153671042288605164        85.1110\n",
       "2      trip-153671043369099517      2372.0852\n",
       "3      trip-153671046011330457        19.6800\n",
       "4      trip-153671052974046625       146.7918\n",
       "...                        ...            ...\n",
       "14812  trip-153861095625827784        73.4630\n",
       "14813  trip-153861104386292051        16.0882\n",
       "14814  trip-153861106442901555        63.2841\n",
       "14815  trip-153861115439069069       177.6635\n",
       "14816  trip-153861118270144424        80.5787\n",
       "\n",
       "[14817 rows x 2 columns]"
      ]
     },
     "execution_count": 97,
     "metadata": {},
     "output_type": "execute_result"
    }
   ],
   "source": [
    "osrm_distance"
   ]
  },
  {
   "cell_type": "code",
   "execution_count": 98,
   "id": "4f86ec3f",
   "metadata": {},
   "outputs": [
    {
     "data": {
      "text/plain": [
       "<AxesSubplot:xlabel='actual_distance_to_destination', ylabel='Density'>"
      ]
     },
     "execution_count": 98,
     "metadata": {},
     "output_type": "execute_result"
    },
    {
     "data": {
      "image/png": "[encoded data removed]",
      "text/plain": [
       "<Figure size 720x288 with 2 Axes>"
      ]
     },
     "metadata": {
      "needs_background": "light"
     },
     "output_type": "display_data"
    }
   ],
   "source": [
    "plt.figure(figsize=(10,4))\n",
    "plt.subplot(121)\n",
    "sns.distplot(((osrm_distance[\"osrm_distance\"])))\n",
    "plt.subplot(122)\n",
    "sns.distplot(((actual_distance_to_destination[\"actual_distance_to_destination\"])))"
   ]
  },
  {
   "cell_type": "code",
   "execution_count": 99,
   "id": "45af42d1",
   "metadata": {},
   "outputs": [
    {
     "data": {
      "application/javascript": [
       "\n",
       "        if (window._pyforest_update_imports_cell) { window._pyforest_update_imports_cell('from scipy import stats'); }\n",
       "    "
      ],
      "text/plain": [
       "<IPython.core.display.Javascript object>"
      ]
     },
     "metadata": {},
     "output_type": "display_data"
    },
    {
     "data": {
      "text/plain": [
       "KstestResult(statistic=0.11837753931295136, pvalue=6.578385372142345e-91)"
      ]
     },
     "execution_count": 99,
     "metadata": {},
     "output_type": "execute_result"
    }
   ],
   "source": [
    "stats.ks_2samp(osrm_distance[\"osrm_distance\"],actual_distance_to_destination[\"actual_distance_to_destination\"])"
   ]
  },
  {
   "cell_type": "code",
   "execution_count": 100,
   "id": "f502546f",
   "metadata": {},
   "outputs": [
    {
     "data": {
      "application/javascript": [
       "\n",
       "        if (window._pyforest_update_imports_cell) { window._pyforest_update_imports_cell('from scipy import stats'); }\n",
       "    "
      ],
      "text/plain": [
       "<IPython.core.display.Javascript object>"
      ]
     },
     "metadata": {},
     "output_type": "display_data"
    },
    {
     "name": "stdout",
     "output_type": "stream",
     "text": [
      "Ttest_indResult(statistic=3.7531753183885592, pvalue=0.9999110400578114)\n"
     ]
    },
    {
     "data": {
      "application/javascript": [
       "\n",
       "        if (window._pyforest_update_imports_cell) { window._pyforest_update_imports_cell('from scipy import stats'); }\n",
       "    "
      ],
      "text/plain": [
       "<IPython.core.display.Javascript object>"
      ]
     },
     "metadata": {},
     "output_type": "display_data"
    },
    {
     "name": "stdout",
     "output_type": "stream",
     "text": [
      "Ttest_indResult(statistic=4.248487288331556, pvalue=0.9999889113079355)\n"
     ]
    },
    {
     "data": {
      "application/javascript": [
       "\n",
       "        if (window._pyforest_update_imports_cell) { window._pyforest_update_imports_cell('from scipy import stats'); }\n",
       "    "
      ],
      "text/plain": [
       "<IPython.core.display.Javascript object>"
      ]
     },
     "metadata": {},
     "output_type": "display_data"
    },
    {
     "name": "stdout",
     "output_type": "stream",
     "text": [
      "Ttest_indResult(statistic=2.889983108167827, pvalue=0.9980598521078065)\n"
     ]
    },
    {
     "data": {
      "application/javascript": [
       "\n",
       "        if (window._pyforest_update_imports_cell) { window._pyforest_update_imports_cell('from scipy import stats'); }\n",
       "    "
      ],
      "text/plain": [
       "<IPython.core.display.Javascript object>"
      ]
     },
     "metadata": {},
     "output_type": "display_data"
    },
    {
     "name": "stdout",
     "output_type": "stream",
     "text": [
      "Ttest_indResult(statistic=3.12920121538572, pvalue=0.9991151664491871)\n"
     ]
    },
    {
     "data": {
      "application/javascript": [
       "\n",
       "        if (window._pyforest_update_imports_cell) { window._pyforest_update_imports_cell('from scipy import stats'); }\n",
       "    "
      ],
      "text/plain": [
       "<IPython.core.display.Javascript object>"
      ]
     },
     "metadata": {},
     "output_type": "display_data"
    },
    {
     "name": "stdout",
     "output_type": "stream",
     "text": [
      "Ttest_indResult(statistic=3.7708796554758193, pvalue=0.9999170932380239)\n"
     ]
    }
   ],
   "source": [
    "for i in range(5):\n",
    "    print(stats.ttest_ind(osrm_distance[\"osrm_distance\"].sample(1500),\n",
    "               actual_distance_to_destination[\"actual_distance_to_destination\"].sample(1500),alternative=\"less\"))"
   ]
  },
  {
   "cell_type": "markdown",
   "id": "9f252388",
   "metadata": {},
   "source": [
    "    # From left sided ttest , we can conclude \n",
    "    for population \n",
    "    osrm estimated distance is higher than the actual distacne from source to destination warehouse. "
   ]
  },
  {
   "cell_type": "code",
   "execution_count": null,
   "id": "7c761367",
   "metadata": {},
   "outputs": [],
   "source": []
  },
  {
   "cell_type": "code",
   "execution_count": null,
   "id": "c1515533",
   "metadata": {},
   "outputs": [],
   "source": []
  },
  {
   "cell_type": "code",
   "execution_count": null,
   "id": "821fc8e6",
   "metadata": {},
   "outputs": [],
   "source": []
  },
  {
   "cell_type": "code",
   "execution_count": null,
   "id": "18956124",
   "metadata": {},
   "outputs": [],
   "source": []
  },
  {
   "cell_type": "code",
   "execution_count": null,
   "id": "520ce349",
   "metadata": {},
   "outputs": [],
   "source": []
  },
  {
   "cell_type": "markdown",
   "id": "e5b5d271",
   "metadata": {},
   "source": [
    "# Merging All the numerical Fields as per TripID: "
   ]
  },
  {
   "cell_type": "raw",
   "id": "48b9a0d7",
   "metadata": {},
   "source": [
    "actual_distance_to_destination\n",
    "osrm_distance\n",
    "segment_osrm_distance"
   ]
  },
  {
   "cell_type": "raw",
   "id": "028f4ec6",
   "metadata": {},
   "source": [
    "time_taken_btwn_odstart_and_od_end\n",
    "start_scan_to_end_scan\n",
    "actual_time\n",
    "segment_actual_time\n",
    "osrm_time\n",
    "segment_osrm_time\n",
    "\n"
   ]
  },
  {
   "cell_type": "code",
   "execution_count": 101,
   "id": "ab04709c",
   "metadata": {},
   "outputs": [],
   "source": [
    "distances = segment_osrm_distance.merge(actual_distance_to_destination.merge(osrm_distance,\n",
    "                                                                             on=\"trip_uuid\"),\n",
    "                                                                            on=\"trip_uuid\")"
   ]
  },
  {
   "cell_type": "code",
   "execution_count": 102,
   "id": "73df3578",
   "metadata": {},
   "outputs": [],
   "source": [
    "time = segment_osrm_time.merge(osrm_time.merge(segment_actual_time.merge(actual_time.merge(time_taken_btwn_odstart_and_od_end.merge(start_scan_to_end_scan,\n",
    "                                         on=\"trip_uuid\",\n",
    "                                         ),on=\"trip_uuid\"),on=\"trip_uuid\"),on=\"trip_uuid\"),on=\"trip_uuid\")"
   ]
  },
  {
   "cell_type": "code",
   "execution_count": 103,
   "id": "9c8f14a4",
   "metadata": {},
   "outputs": [],
   "source": [
    "Merge1 = time.merge(distances,on=\"trip_uuid\",\n",
    "                                        )"
   ]
  },
  {
   "cell_type": "code",
   "execution_count": null,
   "id": "c7ebcd23",
   "metadata": {},
   "outputs": [],
   "source": []
  },
  {
   "cell_type": "code",
   "execution_count": 104,
   "id": "81e75254",
   "metadata": {},
   "outputs": [
    {
     "data": {
      "text/html": [
       "<div>\n",
       "<style scoped>\n",
       "    .dataframe tbody tr th:only-of-type {\n",
       "        vertical-align: middle;\n",
       "    }\n",
       "\n",
       "    .dataframe tbody tr th {\n",
       "        vertical-align: top;\n",
       "    }\n",
       "\n",
       "    .dataframe thead th {\n",
       "        text-align: right;\n",
       "    }\n",
       "</style>\n",
       "<table border=\"1\" class=\"dataframe\">\n",
       "  <thead>\n",
       "    <tr style=\"text-align: right;\">\n",
       "      <th></th>\n",
       "      <th>trip_uuid</th>\n",
       "      <th>segment_osrm_time</th>\n",
       "      <th>osrm_time</th>\n",
       "      <th>segment_actual_time</th>\n",
       "      <th>actual_time</th>\n",
       "      <th>time_taken_btwn_odstart_and_od_end</th>\n",
       "      <th>start_scan_to_end_scan</th>\n",
       "      <th>segment_osrm_distance</th>\n",
       "      <th>actual_distance_to_destination</th>\n",
       "      <th>osrm_distance</th>\n",
       "    </tr>\n",
       "  </thead>\n",
       "  <tbody>\n",
       "    <tr>\n",
       "      <th>0</th>\n",
       "      <td>trip-153671041653548748</td>\n",
       "      <td>16.800000</td>\n",
       "      <td>12.383333</td>\n",
       "      <td>25.800000</td>\n",
       "      <td>26.033333</td>\n",
       "      <td>37.668497</td>\n",
       "      <td>37.650000</td>\n",
       "      <td>1320.4733</td>\n",
       "      <td>824.732854</td>\n",
       "      <td>991.3523</td>\n",
       "    </tr>\n",
       "    <tr>\n",
       "      <th>1</th>\n",
       "      <td>trip-153671042288605164</td>\n",
       "      <td>1.083333</td>\n",
       "      <td>1.133333</td>\n",
       "      <td>2.350000</td>\n",
       "      <td>2.383333</td>\n",
       "      <td>3.026865</td>\n",
       "      <td>3.000000</td>\n",
       "      <td>84.1894</td>\n",
       "      <td>73.186911</td>\n",
       "      <td>85.1110</td>\n",
       "    </tr>\n",
       "    <tr>\n",
       "      <th>2</th>\n",
       "      <td>trip-153671043369099517</td>\n",
       "      <td>32.350000</td>\n",
       "      <td>29.016667</td>\n",
       "      <td>55.133333</td>\n",
       "      <td>55.783333</td>\n",
       "      <td>65.572709</td>\n",
       "      <td>65.550000</td>\n",
       "      <td>2545.2678</td>\n",
       "      <td>1932.273969</td>\n",
       "      <td>2372.0852</td>\n",
       "    </tr>\n",
       "    <tr>\n",
       "      <th>3</th>\n",
       "      <td>trip-153671046011330457</td>\n",
       "      <td>0.266667</td>\n",
       "      <td>0.250000</td>\n",
       "      <td>0.983333</td>\n",
       "      <td>0.983333</td>\n",
       "      <td>1.674916</td>\n",
       "      <td>1.666667</td>\n",
       "      <td>19.8766</td>\n",
       "      <td>17.175274</td>\n",
       "      <td>19.6800</td>\n",
       "    </tr>\n",
       "    <tr>\n",
       "      <th>4</th>\n",
       "      <td>trip-153671052974046625</td>\n",
       "      <td>1.916667</td>\n",
       "      <td>1.950000</td>\n",
       "      <td>5.666667</td>\n",
       "      <td>5.683333</td>\n",
       "      <td>11.972484</td>\n",
       "      <td>11.950000</td>\n",
       "      <td>146.7919</td>\n",
       "      <td>127.448500</td>\n",
       "      <td>146.7918</td>\n",
       "    </tr>\n",
       "    <tr>\n",
       "      <th>...</th>\n",
       "      <td>...</td>\n",
       "      <td>...</td>\n",
       "      <td>...</td>\n",
       "      <td>...</td>\n",
       "      <td>...</td>\n",
       "      <td>...</td>\n",
       "      <td>...</td>\n",
       "      <td>...</td>\n",
       "      <td>...</td>\n",
       "      <td>...</td>\n",
       "    </tr>\n",
       "    <tr>\n",
       "      <th>14812</th>\n",
       "      <td>trip-153861095625827784</td>\n",
       "      <td>1.033333</td>\n",
       "      <td>1.033333</td>\n",
       "      <td>1.366667</td>\n",
       "      <td>1.383333</td>\n",
       "      <td>4.300482</td>\n",
       "      <td>4.283333</td>\n",
       "      <td>64.8551</td>\n",
       "      <td>57.762332</td>\n",
       "      <td>73.4630</td>\n",
       "    </tr>\n",
       "    <tr>\n",
       "      <th>14813</th>\n",
       "      <td>trip-153861104386292051</td>\n",
       "      <td>0.183333</td>\n",
       "      <td>0.200000</td>\n",
       "      <td>0.350000</td>\n",
       "      <td>0.350000</td>\n",
       "      <td>1.009842</td>\n",
       "      <td>1.000000</td>\n",
       "      <td>16.0883</td>\n",
       "      <td>15.513784</td>\n",
       "      <td>16.0882</td>\n",
       "    </tr>\n",
       "    <tr>\n",
       "      <th>14814</th>\n",
       "      <td>trip-153861106442901555</td>\n",
       "      <td>1.466667</td>\n",
       "      <td>0.900000</td>\n",
       "      <td>4.683333</td>\n",
       "      <td>4.700000</td>\n",
       "      <td>7.035331</td>\n",
       "      <td>7.016667</td>\n",
       "      <td>104.8866</td>\n",
       "      <td>38.684839</td>\n",
       "      <td>63.2841</td>\n",
       "    </tr>\n",
       "    <tr>\n",
       "      <th>14815</th>\n",
       "      <td>trip-153861115439069069</td>\n",
       "      <td>3.683333</td>\n",
       "      <td>3.066667</td>\n",
       "      <td>4.300000</td>\n",
       "      <td>4.400000</td>\n",
       "      <td>5.808548</td>\n",
       "      <td>5.783333</td>\n",
       "      <td>223.5324</td>\n",
       "      <td>134.723836</td>\n",
       "      <td>177.6635</td>\n",
       "    </tr>\n",
       "    <tr>\n",
       "      <th>14816</th>\n",
       "      <td>trip-153861118270144424</td>\n",
       "      <td>1.116667</td>\n",
       "      <td>1.133333</td>\n",
       "      <td>4.566667</td>\n",
       "      <td>4.583333</td>\n",
       "      <td>5.906793</td>\n",
       "      <td>5.883333</td>\n",
       "      <td>80.5787</td>\n",
       "      <td>66.081533</td>\n",
       "      <td>80.5787</td>\n",
       "    </tr>\n",
       "  </tbody>\n",
       "</table>\n",
       "<p>14817 rows × 10 columns</p>\n",
       "</div>"
      ],
      "text/plain": [
       "                     trip_uuid  segment_osrm_time  osrm_time  \\\n",
       "0      trip-153671041653548748          16.800000  12.383333   \n",
       "1      trip-153671042288605164           1.083333   1.133333   \n",
       "2      trip-153671043369099517          32.350000  29.016667   \n",
       "3      trip-153671046011330457           0.266667   0.250000   \n",
       "4      trip-153671052974046625           1.916667   1.950000   \n",
       "...                        ...                ...        ...   \n",
       "14812  trip-153861095625827784           1.033333   1.033333   \n",
       "14813  trip-153861104386292051           0.183333   0.200000   \n",
       "14814  trip-153861106442901555           1.466667   0.900000   \n",
       "14815  trip-153861115439069069           3.683333   3.066667   \n",
       "14816  trip-153861118270144424           1.116667   1.133333   \n",
       "\n",
       "       segment_actual_time  actual_time  time_taken_btwn_odstart_and_od_end  \\\n",
       "0                25.800000    26.033333                           37.668497   \n",
       "1                 2.350000     2.383333                            3.026865   \n",
       "2                55.133333    55.783333                           65.572709   \n",
       "3                 0.983333     0.983333                            1.674916   \n",
       "4                 5.666667     5.683333                           11.972484   \n",
       "...                    ...          ...                                 ...   \n",
       "14812             1.366667     1.383333                            4.300482   \n",
       "14813             0.350000     0.350000                            1.009842   \n",
       "14814             4.683333     4.700000                            7.035331   \n",
       "14815             4.300000     4.400000                            5.808548   \n",
       "14816             4.566667     4.583333                            5.906793   \n",
       "\n",
       "       start_scan_to_end_scan  segment_osrm_distance  \\\n",
       "0                   37.650000              1320.4733   \n",
       "1                    3.000000                84.1894   \n",
       "2                   65.550000              2545.2678   \n",
       "3                    1.666667                19.8766   \n",
       "4                   11.950000               146.7919   \n",
       "...                       ...                    ...   \n",
       "14812                4.283333                64.8551   \n",
       "14813                1.000000                16.0883   \n",
       "14814                7.016667               104.8866   \n",
       "14815                5.783333               223.5324   \n",
       "14816                5.883333                80.5787   \n",
       "\n",
       "       actual_distance_to_destination  osrm_distance  \n",
       "0                          824.732854       991.3523  \n",
       "1                           73.186911        85.1110  \n",
       "2                         1932.273969      2372.0852  \n",
       "3                           17.175274        19.6800  \n",
       "4                          127.448500       146.7918  \n",
       "...                               ...            ...  \n",
       "14812                       57.762332        73.4630  \n",
       "14813                       15.513784        16.0882  \n",
       "14814                       38.684839        63.2841  \n",
       "14815                      134.723836       177.6635  \n",
       "14816                       66.081533        80.5787  \n",
       "\n",
       "[14817 rows x 10 columns]"
      ]
     },
     "execution_count": 104,
     "metadata": {},
     "output_type": "execute_result"
    }
   ],
   "source": [
    "Merge1"
   ]
  },
  {
   "cell_type": "code",
   "execution_count": null,
   "id": "78b8939a",
   "metadata": {},
   "outputs": [],
   "source": []
  },
  {
   "cell_type": "code",
   "execution_count": null,
   "id": "069da9d4",
   "metadata": {},
   "outputs": [],
   "source": []
  },
  {
   "cell_type": "code",
   "execution_count": null,
   "id": "0491c65c",
   "metadata": {},
   "outputs": [],
   "source": []
  },
  {
   "cell_type": "code",
   "execution_count": null,
   "id": "d06ada85",
   "metadata": {},
   "outputs": [],
   "source": []
  },
  {
   "cell_type": "code",
   "execution_count": null,
   "id": "5fc618c0",
   "metadata": {},
   "outputs": [],
   "source": []
  },
  {
   "cell_type": "code",
   "execution_count": null,
   "id": "c784fb43",
   "metadata": {},
   "outputs": [],
   "source": []
  },
  {
   "cell_type": "code",
   "execution_count": 105,
   "id": "f40c858f",
   "metadata": {},
   "outputs": [
    {
     "data": {
      "text/plain": [
       "Index(['data', 'trip_creation_time', 'route_schedule_uuid', 'route_type',\n",
       "       'trip_uuid', 'start_scan_to_end_scan', 'is_cutoff', 'cutoff_factor',\n",
       "       'actual_distance_to_destination', 'actual_time', 'osrm_time',\n",
       "       'osrm_distance', 'factor', 'segment_actual_time', 'segment_osrm_time',\n",
       "       'segment_osrm_distance', 'segment_factor', 'trip_creation_day',\n",
       "       'source_city', 'source_state', 'destination_city', 'destination_state',\n",
       "       'source_place', 'destination_place', 'source_pincode',\n",
       "       'destination_pincode', 'time_taken_btwn_odstart_and_od_end',\n",
       "       'source_city_state', 'destination_city_state'],\n",
       "      dtype='object')"
      ]
     },
     "execution_count": 105,
     "metadata": {},
     "output_type": "execute_result"
    }
   ],
   "source": [
    "data.columns"
   ]
  },
  {
   "cell_type": "markdown",
   "id": "9f719e4d",
   "metadata": {},
   "source": [
    "### Number of Trips between cities , sorted highest to lowest"
   ]
  },
  {
   "cell_type": "code",
   "execution_count": 106,
   "id": "804d9b1e",
   "metadata": {},
   "outputs": [
    {
     "data": {
      "text/html": [
       "<div>\n",
       "<style scoped>\n",
       "    .dataframe tbody tr th:only-of-type {\n",
       "        vertical-align: middle;\n",
       "    }\n",
       "\n",
       "    .dataframe tbody tr th {\n",
       "        vertical-align: top;\n",
       "    }\n",
       "\n",
       "    .dataframe thead th {\n",
       "        text-align: right;\n",
       "    }\n",
       "</style>\n",
       "<table border=\"1\" class=\"dataframe\">\n",
       "  <thead>\n",
       "    <tr style=\"text-align: right;\">\n",
       "      <th></th>\n",
       "      <th>source_city_state</th>\n",
       "      <th>destination_city_state</th>\n",
       "      <th>trip_uuid</th>\n",
       "    </tr>\n",
       "  </thead>\n",
       "  <tbody>\n",
       "    <tr>\n",
       "      <th>0</th>\n",
       "      <td>Bengaluru Karnataka</td>\n",
       "      <td>Bengaluru Karnataka</td>\n",
       "      <td>1369</td>\n",
       "    </tr>\n",
       "    <tr>\n",
       "      <th>1</th>\n",
       "      <td>Bhiwandi Maharashtra</td>\n",
       "      <td>Mumbai Maharashtra</td>\n",
       "      <td>512</td>\n",
       "    </tr>\n",
       "    <tr>\n",
       "      <th>2</th>\n",
       "      <td>Mumbai Maharashtra</td>\n",
       "      <td>Mumbai Maharashtra</td>\n",
       "      <td>361</td>\n",
       "    </tr>\n",
       "    <tr>\n",
       "      <th>3</th>\n",
       "      <td>Hyderabad Telangana</td>\n",
       "      <td>Hyderabad Telangana</td>\n",
       "      <td>308</td>\n",
       "    </tr>\n",
       "    <tr>\n",
       "      <th>4</th>\n",
       "      <td>Mumbai Maharashtra</td>\n",
       "      <td>Bhiwandi Maharashtra</td>\n",
       "      <td>282</td>\n",
       "    </tr>\n",
       "    <tr>\n",
       "      <th>...</th>\n",
       "      <td>...</td>\n",
       "      <td>...</td>\n",
       "      <td>...</td>\n",
       "    </tr>\n",
       "    <tr>\n",
       "      <th>2298</th>\n",
       "      <td>Jamui Bihar</td>\n",
       "      <td>Munger Bihar</td>\n",
       "      <td>1</td>\n",
       "    </tr>\n",
       "    <tr>\n",
       "      <th>2299</th>\n",
       "      <td>Shahjhnpur Uttar Pradesh</td>\n",
       "      <td>Tilhar Uttar Pradesh</td>\n",
       "      <td>1</td>\n",
       "    </tr>\n",
       "    <tr>\n",
       "      <th>2300</th>\n",
       "      <td>Nashik Maharashtra</td>\n",
       "      <td>Shrirampur Maharashtra</td>\n",
       "      <td>1</td>\n",
       "    </tr>\n",
       "    <tr>\n",
       "      <th>2301</th>\n",
       "      <td>Jamui Bihar</td>\n",
       "      <td>KharagpurBR Bihar</td>\n",
       "      <td>1</td>\n",
       "    </tr>\n",
       "    <tr>\n",
       "      <th>2302</th>\n",
       "      <td>Abohar Punjab</td>\n",
       "      <td>Malout Punjab</td>\n",
       "      <td>1</td>\n",
       "    </tr>\n",
       "  </tbody>\n",
       "</table>\n",
       "<p>2303 rows × 3 columns</p>\n",
       "</div>"
      ],
      "text/plain": [
       "             source_city_state  destination_city_state  trip_uuid\n",
       "0          Bengaluru Karnataka     Bengaluru Karnataka       1369\n",
       "1         Bhiwandi Maharashtra      Mumbai Maharashtra        512\n",
       "2           Mumbai Maharashtra      Mumbai Maharashtra        361\n",
       "3          Hyderabad Telangana     Hyderabad Telangana        308\n",
       "4           Mumbai Maharashtra    Bhiwandi Maharashtra        282\n",
       "...                        ...                     ...        ...\n",
       "2298               Jamui Bihar            Munger Bihar          1\n",
       "2299  Shahjhnpur Uttar Pradesh    Tilhar Uttar Pradesh          1\n",
       "2300        Nashik Maharashtra  Shrirampur Maharashtra          1\n",
       "2301               Jamui Bihar       KharagpurBR Bihar          1\n",
       "2302             Abohar Punjab           Malout Punjab          1\n",
       "\n",
       "[2303 rows x 3 columns]"
      ]
     },
     "execution_count": 106,
     "metadata": {},
     "output_type": "execute_result"
    }
   ],
   "source": [
    "Number_of_trips_between_cities = data.groupby([\"source_city_state\",\"destination_city_state\"])[\"trip_uuid\"].nunique().sort_values(ascending=False).reset_index()\n",
    "Number_of_trips_between_cities"
   ]
  },
  {
   "cell_type": "code",
   "execution_count": 107,
   "id": "472fec42",
   "metadata": {},
   "outputs": [
    {
     "data": {
      "text/html": [
       "<div>\n",
       "<style scoped>\n",
       "    .dataframe tbody tr th:only-of-type {\n",
       "        vertical-align: middle;\n",
       "    }\n",
       "\n",
       "    .dataframe tbody tr th {\n",
       "        vertical-align: top;\n",
       "    }\n",
       "\n",
       "    .dataframe thead th {\n",
       "        text-align: right;\n",
       "    }\n",
       "</style>\n",
       "<table border=\"1\" class=\"dataframe\">\n",
       "  <thead>\n",
       "    <tr style=\"text-align: right;\">\n",
       "      <th></th>\n",
       "      <th>source_city_state</th>\n",
       "      <th>destination_city_state</th>\n",
       "      <th>trip_uuid</th>\n",
       "    </tr>\n",
       "  </thead>\n",
       "  <tbody>\n",
       "    <tr>\n",
       "      <th>1</th>\n",
       "      <td>Bhiwandi Maharashtra</td>\n",
       "      <td>Mumbai Maharashtra</td>\n",
       "      <td>512</td>\n",
       "    </tr>\n",
       "    <tr>\n",
       "      <th>4</th>\n",
       "      <td>Mumbai Maharashtra</td>\n",
       "      <td>Bhiwandi Maharashtra</td>\n",
       "      <td>282</td>\n",
       "    </tr>\n",
       "    <tr>\n",
       "      <th>5</th>\n",
       "      <td>Delhi Delhi</td>\n",
       "      <td>Gurgaon Haryana</td>\n",
       "      <td>248</td>\n",
       "    </tr>\n",
       "    <tr>\n",
       "      <th>6</th>\n",
       "      <td>Gurgaon Haryana</td>\n",
       "      <td>Delhi Delhi</td>\n",
       "      <td>237</td>\n",
       "    </tr>\n",
       "    <tr>\n",
       "      <th>7</th>\n",
       "      <td>Mumbai Hub Maharashtra</td>\n",
       "      <td>Mumbai Maharashtra</td>\n",
       "      <td>227</td>\n",
       "    </tr>\n",
       "    <tr>\n",
       "      <th>9</th>\n",
       "      <td>MAA Tamil Nadu</td>\n",
       "      <td>Chennai Tamil Nadu</td>\n",
       "      <td>204</td>\n",
       "    </tr>\n",
       "    <tr>\n",
       "      <th>10</th>\n",
       "      <td>Chennai Tamil Nadu</td>\n",
       "      <td>MAA Tamil Nadu</td>\n",
       "      <td>141</td>\n",
       "    </tr>\n",
       "    <tr>\n",
       "      <th>11</th>\n",
       "      <td>Bengaluru Karnataka</td>\n",
       "      <td>HBR Karnataka</td>\n",
       "      <td>133</td>\n",
       "    </tr>\n",
       "    <tr>\n",
       "      <th>13</th>\n",
       "      <td>Pune Maharashtra</td>\n",
       "      <td>PNQ Maharashtra</td>\n",
       "      <td>122</td>\n",
       "    </tr>\n",
       "    <tr>\n",
       "      <th>16</th>\n",
       "      <td>Pune Maharashtra</td>\n",
       "      <td>Bhiwandi Maharashtra</td>\n",
       "      <td>107</td>\n",
       "    </tr>\n",
       "    <tr>\n",
       "      <th>18</th>\n",
       "      <td>Chandigarh Chandigarh</td>\n",
       "      <td>Chandigarh Punjab</td>\n",
       "      <td>100</td>\n",
       "    </tr>\n",
       "    <tr>\n",
       "      <th>19</th>\n",
       "      <td>Kolkata West Bengal</td>\n",
       "      <td>CCU West Bengal</td>\n",
       "      <td>96</td>\n",
       "    </tr>\n",
       "    <tr>\n",
       "      <th>20</th>\n",
       "      <td>Gurgaon Haryana</td>\n",
       "      <td>Sonipat Haryana</td>\n",
       "      <td>92</td>\n",
       "    </tr>\n",
       "    <tr>\n",
       "      <th>21</th>\n",
       "      <td>Sonipat Haryana</td>\n",
       "      <td>Gurgaon Haryana</td>\n",
       "      <td>86</td>\n",
       "    </tr>\n",
       "    <tr>\n",
       "      <th>22</th>\n",
       "      <td>Chandigarh Punjab</td>\n",
       "      <td>Chandigarh Chandigarh</td>\n",
       "      <td>84</td>\n",
       "    </tr>\n",
       "  </tbody>\n",
       "</table>\n",
       "</div>"
      ],
      "text/plain": [
       "         source_city_state destination_city_state  trip_uuid\n",
       "1     Bhiwandi Maharashtra     Mumbai Maharashtra        512\n",
       "4       Mumbai Maharashtra   Bhiwandi Maharashtra        282\n",
       "5              Delhi Delhi        Gurgaon Haryana        248\n",
       "6          Gurgaon Haryana            Delhi Delhi        237\n",
       "7   Mumbai Hub Maharashtra     Mumbai Maharashtra        227\n",
       "9           MAA Tamil Nadu     Chennai Tamil Nadu        204\n",
       "10      Chennai Tamil Nadu         MAA Tamil Nadu        141\n",
       "11     Bengaluru Karnataka          HBR Karnataka        133\n",
       "13        Pune Maharashtra        PNQ Maharashtra        122\n",
       "16        Pune Maharashtra   Bhiwandi Maharashtra        107\n",
       "18   Chandigarh Chandigarh      Chandigarh Punjab        100\n",
       "19     Kolkata West Bengal        CCU West Bengal         96\n",
       "20         Gurgaon Haryana        Sonipat Haryana         92\n",
       "21         Sonipat Haryana        Gurgaon Haryana         86\n",
       "22       Chandigarh Punjab  Chandigarh Chandigarh         84"
      ]
     },
     "execution_count": 107,
     "metadata": {},
     "output_type": "execute_result"
    }
   ],
   "source": [
    "Number_of_trips_between_cities.loc[Number_of_trips_between_cities[\"source_city_state\"] != Number_of_trips_between_cities[\"destination_city_state\"]].head(15)"
   ]
  },
  {
   "cell_type": "markdown",
   "id": "6164d836",
   "metadata": {},
   "source": [
    "## Number of Routes between Cities : "
   ]
  },
  {
   "cell_type": "code",
   "execution_count": 108,
   "id": "9b1fa5a1",
   "metadata": {},
   "outputs": [
    {
     "data": {
      "text/html": [
       "<div>\n",
       "<style scoped>\n",
       "    .dataframe tbody tr th:only-of-type {\n",
       "        vertical-align: middle;\n",
       "    }\n",
       "\n",
       "    .dataframe tbody tr th {\n",
       "        vertical-align: top;\n",
       "    }\n",
       "\n",
       "    .dataframe thead th {\n",
       "        text-align: right;\n",
       "    }\n",
       "</style>\n",
       "<table border=\"1\" class=\"dataframe\">\n",
       "  <thead>\n",
       "    <tr style=\"text-align: right;\">\n",
       "      <th></th>\n",
       "      <th>source_city_state</th>\n",
       "      <th>destination_city_state</th>\n",
       "      <th>route_schedule_uuid</th>\n",
       "    </tr>\n",
       "  </thead>\n",
       "  <tbody>\n",
       "    <tr>\n",
       "      <th>0</th>\n",
       "      <td>Bengaluru Karnataka</td>\n",
       "      <td>Bengaluru Karnataka</td>\n",
       "      <td>142</td>\n",
       "    </tr>\n",
       "    <tr>\n",
       "      <th>1</th>\n",
       "      <td>Bhiwandi Maharashtra</td>\n",
       "      <td>Mumbai Maharashtra</td>\n",
       "      <td>39</td>\n",
       "    </tr>\n",
       "    <tr>\n",
       "      <th>2</th>\n",
       "      <td>Mumbai Maharashtra</td>\n",
       "      <td>Mumbai Maharashtra</td>\n",
       "      <td>38</td>\n",
       "    </tr>\n",
       "    <tr>\n",
       "      <th>3</th>\n",
       "      <td>Delhi Delhi</td>\n",
       "      <td>Gurgaon Haryana</td>\n",
       "      <td>38</td>\n",
       "    </tr>\n",
       "    <tr>\n",
       "      <th>4</th>\n",
       "      <td>Mumbai Maharashtra</td>\n",
       "      <td>Bhiwandi Maharashtra</td>\n",
       "      <td>38</td>\n",
       "    </tr>\n",
       "    <tr>\n",
       "      <th>5</th>\n",
       "      <td>Hyderabad Telangana</td>\n",
       "      <td>Hyderabad Telangana</td>\n",
       "      <td>33</td>\n",
       "    </tr>\n",
       "    <tr>\n",
       "      <th>6</th>\n",
       "      <td>Chennai Tamil Nadu</td>\n",
       "      <td>Chennai Tamil Nadu</td>\n",
       "      <td>32</td>\n",
       "    </tr>\n",
       "    <tr>\n",
       "      <th>7</th>\n",
       "      <td>Gurgaon Haryana</td>\n",
       "      <td>Delhi Delhi</td>\n",
       "      <td>25</td>\n",
       "    </tr>\n",
       "    <tr>\n",
       "      <th>8</th>\n",
       "      <td>Chennai Tamil Nadu</td>\n",
       "      <td>MAA Tamil Nadu</td>\n",
       "      <td>21</td>\n",
       "    </tr>\n",
       "    <tr>\n",
       "      <th>9</th>\n",
       "      <td>MAA Tamil Nadu</td>\n",
       "      <td>Chennai Tamil Nadu</td>\n",
       "      <td>20</td>\n",
       "    </tr>\n",
       "    <tr>\n",
       "      <th>10</th>\n",
       "      <td>Delhi Delhi</td>\n",
       "      <td>Delhi Delhi</td>\n",
       "      <td>17</td>\n",
       "    </tr>\n",
       "    <tr>\n",
       "      <th>11</th>\n",
       "      <td>PNQ Maharashtra</td>\n",
       "      <td>Pune Maharashtra</td>\n",
       "      <td>16</td>\n",
       "    </tr>\n",
       "    <tr>\n",
       "      <th>12</th>\n",
       "      <td>Pune Maharashtra</td>\n",
       "      <td>PNQ Maharashtra</td>\n",
       "      <td>15</td>\n",
       "    </tr>\n",
       "    <tr>\n",
       "      <th>13</th>\n",
       "      <td>Surat Gujarat</td>\n",
       "      <td>Surat Gujarat</td>\n",
       "      <td>14</td>\n",
       "    </tr>\n",
       "    <tr>\n",
       "      <th>14</th>\n",
       "      <td>Bengaluru Karnataka</td>\n",
       "      <td>BLR Karnataka</td>\n",
       "      <td>13</td>\n",
       "    </tr>\n",
       "  </tbody>\n",
       "</table>\n",
       "</div>"
      ],
      "text/plain": [
       "       source_city_state destination_city_state  route_schedule_uuid\n",
       "0    Bengaluru Karnataka    Bengaluru Karnataka                  142\n",
       "1   Bhiwandi Maharashtra     Mumbai Maharashtra                   39\n",
       "2     Mumbai Maharashtra     Mumbai Maharashtra                   38\n",
       "3            Delhi Delhi        Gurgaon Haryana                   38\n",
       "4     Mumbai Maharashtra   Bhiwandi Maharashtra                   38\n",
       "5    Hyderabad Telangana    Hyderabad Telangana                   33\n",
       "6     Chennai Tamil Nadu     Chennai Tamil Nadu                   32\n",
       "7        Gurgaon Haryana            Delhi Delhi                   25\n",
       "8     Chennai Tamil Nadu         MAA Tamil Nadu                   21\n",
       "9         MAA Tamil Nadu     Chennai Tamil Nadu                   20\n",
       "10           Delhi Delhi            Delhi Delhi                   17\n",
       "11       PNQ Maharashtra       Pune Maharashtra                   16\n",
       "12      Pune Maharashtra        PNQ Maharashtra                   15\n",
       "13         Surat Gujarat          Surat Gujarat                   14\n",
       "14   Bengaluru Karnataka          BLR Karnataka                   13"
      ]
     },
     "execution_count": 108,
     "metadata": {},
     "output_type": "execute_result"
    }
   ],
   "source": [
    "Number_of_routes_between_cities = data.groupby([\"source_city_state\",\"destination_city_state\"])[\"route_schedule_uuid\"].nunique().sort_values(ascending=False).reset_index()\n",
    "Number_of_routes_between_cities.head(15)"
   ]
  },
  {
   "cell_type": "code",
   "execution_count": 109,
   "id": "568a965b",
   "metadata": {},
   "outputs": [
    {
     "data": {
      "text/html": [
       "<div>\n",
       "<style scoped>\n",
       "    .dataframe tbody tr th:only-of-type {\n",
       "        vertical-align: middle;\n",
       "    }\n",
       "\n",
       "    .dataframe tbody tr th {\n",
       "        vertical-align: top;\n",
       "    }\n",
       "\n",
       "    .dataframe thead th {\n",
       "        text-align: right;\n",
       "    }\n",
       "</style>\n",
       "<table border=\"1\" class=\"dataframe\">\n",
       "  <thead>\n",
       "    <tr style=\"text-align: right;\">\n",
       "      <th></th>\n",
       "      <th>source_city_state</th>\n",
       "      <th>destination_city_state</th>\n",
       "      <th>route_schedule_uuid</th>\n",
       "    </tr>\n",
       "  </thead>\n",
       "  <tbody>\n",
       "    <tr>\n",
       "      <th>1</th>\n",
       "      <td>Bhiwandi Maharashtra</td>\n",
       "      <td>Mumbai Maharashtra</td>\n",
       "      <td>39</td>\n",
       "    </tr>\n",
       "    <tr>\n",
       "      <th>3</th>\n",
       "      <td>Delhi Delhi</td>\n",
       "      <td>Gurgaon Haryana</td>\n",
       "      <td>38</td>\n",
       "    </tr>\n",
       "    <tr>\n",
       "      <th>4</th>\n",
       "      <td>Mumbai Maharashtra</td>\n",
       "      <td>Bhiwandi Maharashtra</td>\n",
       "      <td>38</td>\n",
       "    </tr>\n",
       "    <tr>\n",
       "      <th>7</th>\n",
       "      <td>Gurgaon Haryana</td>\n",
       "      <td>Delhi Delhi</td>\n",
       "      <td>25</td>\n",
       "    </tr>\n",
       "    <tr>\n",
       "      <th>8</th>\n",
       "      <td>Chennai Tamil Nadu</td>\n",
       "      <td>MAA Tamil Nadu</td>\n",
       "      <td>21</td>\n",
       "    </tr>\n",
       "    <tr>\n",
       "      <th>9</th>\n",
       "      <td>MAA Tamil Nadu</td>\n",
       "      <td>Chennai Tamil Nadu</td>\n",
       "      <td>20</td>\n",
       "    </tr>\n",
       "    <tr>\n",
       "      <th>11</th>\n",
       "      <td>PNQ Maharashtra</td>\n",
       "      <td>Pune Maharashtra</td>\n",
       "      <td>16</td>\n",
       "    </tr>\n",
       "    <tr>\n",
       "      <th>12</th>\n",
       "      <td>Pune Maharashtra</td>\n",
       "      <td>PNQ Maharashtra</td>\n",
       "      <td>15</td>\n",
       "    </tr>\n",
       "    <tr>\n",
       "      <th>14</th>\n",
       "      <td>Bengaluru Karnataka</td>\n",
       "      <td>BLR Karnataka</td>\n",
       "      <td>13</td>\n",
       "    </tr>\n",
       "    <tr>\n",
       "      <th>15</th>\n",
       "      <td>Kolkata West Bengal</td>\n",
       "      <td>CCU West Bengal</td>\n",
       "      <td>13</td>\n",
       "    </tr>\n",
       "    <tr>\n",
       "      <th>16</th>\n",
       "      <td>Del Delhi</td>\n",
       "      <td>Gurgaon Haryana</td>\n",
       "      <td>13</td>\n",
       "    </tr>\n",
       "    <tr>\n",
       "      <th>17</th>\n",
       "      <td>Pune Maharashtra</td>\n",
       "      <td>Bhiwandi Maharashtra</td>\n",
       "      <td>13</td>\n",
       "    </tr>\n",
       "    <tr>\n",
       "      <th>19</th>\n",
       "      <td>Mumbai Hub Maharashtra</td>\n",
       "      <td>Mumbai Maharashtra</td>\n",
       "      <td>11</td>\n",
       "    </tr>\n",
       "    <tr>\n",
       "      <th>21</th>\n",
       "      <td>Bengaluru Karnataka</td>\n",
       "      <td>HBR Karnataka</td>\n",
       "      <td>11</td>\n",
       "    </tr>\n",
       "    <tr>\n",
       "      <th>24</th>\n",
       "      <td>Chandigarh Chandigarh</td>\n",
       "      <td>Chandigarh Punjab</td>\n",
       "      <td>8</td>\n",
       "    </tr>\n",
       "  </tbody>\n",
       "</table>\n",
       "</div>"
      ],
      "text/plain": [
       "         source_city_state destination_city_state  route_schedule_uuid\n",
       "1     Bhiwandi Maharashtra     Mumbai Maharashtra                   39\n",
       "3              Delhi Delhi        Gurgaon Haryana                   38\n",
       "4       Mumbai Maharashtra   Bhiwandi Maharashtra                   38\n",
       "7          Gurgaon Haryana            Delhi Delhi                   25\n",
       "8       Chennai Tamil Nadu         MAA Tamil Nadu                   21\n",
       "9           MAA Tamil Nadu     Chennai Tamil Nadu                   20\n",
       "11         PNQ Maharashtra       Pune Maharashtra                   16\n",
       "12        Pune Maharashtra        PNQ Maharashtra                   15\n",
       "14     Bengaluru Karnataka          BLR Karnataka                   13\n",
       "15     Kolkata West Bengal        CCU West Bengal                   13\n",
       "16               Del Delhi        Gurgaon Haryana                   13\n",
       "17        Pune Maharashtra   Bhiwandi Maharashtra                   13\n",
       "19  Mumbai Hub Maharashtra     Mumbai Maharashtra                   11\n",
       "21     Bengaluru Karnataka          HBR Karnataka                   11\n",
       "24   Chandigarh Chandigarh      Chandigarh Punjab                    8"
      ]
     },
     "execution_count": 109,
     "metadata": {},
     "output_type": "execute_result"
    }
   ],
   "source": [
    "Number_of_routes_between_cities.loc[Number_of_routes_between_cities[\"source_city_state\"] != Number_of_routes_between_cities[\"destination_city_state\"]].head(15)"
   ]
  },
  {
   "cell_type": "code",
   "execution_count": null,
   "id": "65d55309",
   "metadata": {},
   "outputs": [],
   "source": []
  },
  {
   "cell_type": "code",
   "execution_count": null,
   "id": "a698f5da",
   "metadata": {},
   "outputs": [],
   "source": []
  },
  {
   "cell_type": "code",
   "execution_count": null,
   "id": "3d339d25",
   "metadata": {},
   "outputs": [],
   "source": []
  },
  {
   "cell_type": "markdown",
   "id": "95191534",
   "metadata": {},
   "source": [
    "#  Merging Location details and route_type and Numerical data on TripID : "
   ]
  },
  {
   "cell_type": "code",
   "execution_count": 110,
   "id": "acb9d7b5",
   "metadata": {},
   "outputs": [],
   "source": [
    "city = data.groupby(\"trip_uuid\")[[\"source_city\",\"destination_city\"]].aggregate({\n",
    "        \"source_city\":pd.unique,\n",
    "    \"destination_city\":pd.unique,\n",
    "})"
   ]
  },
  {
   "cell_type": "code",
   "execution_count": 111,
   "id": "9634e773",
   "metadata": {},
   "outputs": [],
   "source": [
    "state = data.groupby(\"trip_uuid\")[[\"source_state\",\"destination_state\"]].aggregate({\n",
    "        \"source_state\":pd.unique,\n",
    "    \"destination_state\":pd.unique,\n",
    "})"
   ]
  },
  {
   "cell_type": "code",
   "execution_count": 112,
   "id": "dc90e838",
   "metadata": {},
   "outputs": [],
   "source": [
    "city_state = data.groupby(\"trip_uuid\")[[\"source_city_state\",\"destination_city_state\"]].aggregate({\n",
    "        \"source_city_state\":pd.unique,\n",
    "    \"destination_city_state\":pd.unique,\n",
    "})"
   ]
  },
  {
   "cell_type": "code",
   "execution_count": 113,
   "id": "630592fe",
   "metadata": {},
   "outputs": [],
   "source": [
    "locations = city.merge(city_state.merge(state,on=\"trip_uuid\"\n",
    "                            ,how=\"outer\"),\n",
    "           on=\"trip_uuid\",\n",
    "           how=\"outer\")"
   ]
  },
  {
   "cell_type": "code",
   "execution_count": 114,
   "id": "84249151",
   "metadata": {},
   "outputs": [],
   "source": [
    "route_type = data.groupby(\"trip_uuid\")[\"route_type\"].unique().reset_index()"
   ]
  },
  {
   "cell_type": "code",
   "execution_count": 115,
   "id": "dafb7bf7",
   "metadata": {},
   "outputs": [],
   "source": [
    "Merged = route_type.merge(locations.merge(Merge1,on=\"trip_uuid\",), on=\"trip_uuid\",   )"
   ]
  },
  {
   "cell_type": "code",
   "execution_count": 116,
   "id": "2e9ed5fa",
   "metadata": {},
   "outputs": [],
   "source": [
    "trip_records = Merged.copy()"
   ]
  },
  {
   "cell_type": "code",
   "execution_count": null,
   "id": "4f4ed4af",
   "metadata": {},
   "outputs": [],
   "source": []
  },
  {
   "cell_type": "code",
   "execution_count": 117,
   "id": "52414302",
   "metadata": {},
   "outputs": [],
   "source": [
    "trip_records[\"route_type\"] = trip_records[\"route_type\"].apply(lambda x:x[0])"
   ]
  },
  {
   "cell_type": "code",
   "execution_count": null,
   "id": "33aa84cd",
   "metadata": {},
   "outputs": [],
   "source": []
  },
  {
   "cell_type": "code",
   "execution_count": 118,
   "id": "c6957918",
   "metadata": {},
   "outputs": [],
   "source": [
    "route_to_merge = data.groupby(\"trip_uuid\")[\"route_schedule_uuid\"].unique().reset_index()"
   ]
  },
  {
   "cell_type": "code",
   "execution_count": 119,
   "id": "3ea2f0d7",
   "metadata": {},
   "outputs": [],
   "source": [
    "trip_records = trip_records.merge(route_to_merge,on=\"trip_uuid\")"
   ]
  },
  {
   "cell_type": "code",
   "execution_count": 120,
   "id": "2350f4e4",
   "metadata": {},
   "outputs": [],
   "source": [
    "trip_records[\"route_schedule_uuid\"] = trip_records[\"route_schedule_uuid\"].apply(lambda x:x[0])"
   ]
  },
  {
   "cell_type": "code",
   "execution_count": 121,
   "id": "614851df",
   "metadata": {},
   "outputs": [
    {
     "data": {
      "text/html": [
       "<div>\n",
       "<style scoped>\n",
       "    .dataframe tbody tr th:only-of-type {\n",
       "        vertical-align: middle;\n",
       "    }\n",
       "\n",
       "    .dataframe tbody tr th {\n",
       "        vertical-align: top;\n",
       "    }\n",
       "\n",
       "    .dataframe thead th {\n",
       "        text-align: right;\n",
       "    }\n",
       "</style>\n",
       "<table border=\"1\" class=\"dataframe\">\n",
       "  <thead>\n",
       "    <tr style=\"text-align: right;\">\n",
       "      <th></th>\n",
       "      <th>trip_uuid</th>\n",
       "      <th>route_type</th>\n",
       "      <th>source_city</th>\n",
       "      <th>destination_city</th>\n",
       "      <th>source_city_state</th>\n",
       "      <th>destination_city_state</th>\n",
       "      <th>source_state</th>\n",
       "      <th>destination_state</th>\n",
       "      <th>segment_osrm_time</th>\n",
       "      <th>osrm_time</th>\n",
       "      <th>segment_actual_time</th>\n",
       "      <th>actual_time</th>\n",
       "      <th>time_taken_btwn_odstart_and_od_end</th>\n",
       "      <th>start_scan_to_end_scan</th>\n",
       "      <th>segment_osrm_distance</th>\n",
       "      <th>actual_distance_to_destination</th>\n",
       "      <th>osrm_distance</th>\n",
       "      <th>route_schedule_uuid</th>\n",
       "    </tr>\n",
       "  </thead>\n",
       "  <tbody>\n",
       "    <tr>\n",
       "      <th>0</th>\n",
       "      <td>trip-153671041653548748</td>\n",
       "      <td>FTL</td>\n",
       "      <td>[Bhopal, Kanpur]</td>\n",
       "      <td>[Kanpur, Gurgaon]</td>\n",
       "      <td>[Bhopal Madhya Pradesh, Kanpur Uttar Pradesh]</td>\n",
       "      <td>[Kanpur Uttar Pradesh, Gurgaon Haryana]</td>\n",
       "      <td>[Madhya Pradesh, Uttar Pradesh]</td>\n",
       "      <td>[Uttar Pradesh, Haryana]</td>\n",
       "      <td>16.800000</td>\n",
       "      <td>12.383333</td>\n",
       "      <td>25.800000</td>\n",
       "      <td>26.033333</td>\n",
       "      <td>37.668497</td>\n",
       "      <td>37.650000</td>\n",
       "      <td>1320.4733</td>\n",
       "      <td>824.732854</td>\n",
       "      <td>991.3523</td>\n",
       "      <td>thanos::sroute:d7c989ba-a29b-4a0b-b2f4-288cdc6...</td>\n",
       "    </tr>\n",
       "    <tr>\n",
       "      <th>1</th>\n",
       "      <td>trip-153671042288605164</td>\n",
       "      <td>Carting</td>\n",
       "      <td>[Tumkur, Doddablpur]</td>\n",
       "      <td>[Doddablpur, Chikblapur]</td>\n",
       "      <td>[Tumkur Karnataka, Doddablpur Karnataka]</td>\n",
       "      <td>[Doddablpur Karnataka, Chikblapur Karnataka]</td>\n",
       "      <td>Karnataka</td>\n",
       "      <td>Karnataka</td>\n",
       "      <td>1.083333</td>\n",
       "      <td>1.133333</td>\n",
       "      <td>2.350000</td>\n",
       "      <td>2.383333</td>\n",
       "      <td>3.026865</td>\n",
       "      <td>3.000000</td>\n",
       "      <td>84.1894</td>\n",
       "      <td>73.186911</td>\n",
       "      <td>85.1110</td>\n",
       "      <td>thanos::sroute:3a1b0ab2-bb0b-4c53-8c59-eb2a2c0...</td>\n",
       "    </tr>\n",
       "    <tr>\n",
       "      <th>2</th>\n",
       "      <td>trip-153671043369099517</td>\n",
       "      <td>FTL</td>\n",
       "      <td>[Bengaluru, Gurgaon]</td>\n",
       "      <td>[Gurgaon, Chandigarh]</td>\n",
       "      <td>[Bengaluru Karnataka, Gurgaon Haryana]</td>\n",
       "      <td>[Gurgaon Haryana, Chandigarh Punjab]</td>\n",
       "      <td>[Karnataka, Haryana]</td>\n",
       "      <td>[Haryana, Punjab]</td>\n",
       "      <td>32.350000</td>\n",
       "      <td>29.016667</td>\n",
       "      <td>55.133333</td>\n",
       "      <td>55.783333</td>\n",
       "      <td>65.572709</td>\n",
       "      <td>65.550000</td>\n",
       "      <td>2545.2678</td>\n",
       "      <td>1932.273969</td>\n",
       "      <td>2372.0852</td>\n",
       "      <td>thanos::sroute:de5e208e-7641-45e6-8100-4d9fb1e...</td>\n",
       "    </tr>\n",
       "    <tr>\n",
       "      <th>3</th>\n",
       "      <td>trip-153671046011330457</td>\n",
       "      <td>Carting</td>\n",
       "      <td>Mumbai</td>\n",
       "      <td>Mumbai</td>\n",
       "      <td>Mumbai Hub Maharashtra</td>\n",
       "      <td>Mumbai Maharashtra</td>\n",
       "      <td>Hub Maharashtra</td>\n",
       "      <td>Maharashtra</td>\n",
       "      <td>0.266667</td>\n",
       "      <td>0.250000</td>\n",
       "      <td>0.983333</td>\n",
       "      <td>0.983333</td>\n",
       "      <td>1.674916</td>\n",
       "      <td>1.666667</td>\n",
       "      <td>19.8766</td>\n",
       "      <td>17.175274</td>\n",
       "      <td>19.6800</td>\n",
       "      <td>thanos::sroute:f0176492-a679-4597-8332-bbd1c7f...</td>\n",
       "    </tr>\n",
       "    <tr>\n",
       "      <th>4</th>\n",
       "      <td>trip-153671052974046625</td>\n",
       "      <td>FTL</td>\n",
       "      <td>[Bellary, Hospet, Sandur]</td>\n",
       "      <td>[Hospet, Sandur, Bellary]</td>\n",
       "      <td>[Bellary Karnataka, Hospet Karnataka, Sandur K...</td>\n",
       "      <td>[Hospet Karnataka, Sandur Karnataka, Bellary K...</td>\n",
       "      <td>Karnataka</td>\n",
       "      <td>Karnataka</td>\n",
       "      <td>1.916667</td>\n",
       "      <td>1.950000</td>\n",
       "      <td>5.666667</td>\n",
       "      <td>5.683333</td>\n",
       "      <td>11.972484</td>\n",
       "      <td>11.950000</td>\n",
       "      <td>146.7919</td>\n",
       "      <td>127.448500</td>\n",
       "      <td>146.7918</td>\n",
       "      <td>thanos::sroute:d9f07b12-65e0-4f3b-bec8-df06134...</td>\n",
       "    </tr>\n",
       "    <tr>\n",
       "      <th>...</th>\n",
       "      <td>...</td>\n",
       "      <td>...</td>\n",
       "      <td>...</td>\n",
       "      <td>...</td>\n",
       "      <td>...</td>\n",
       "      <td>...</td>\n",
       "      <td>...</td>\n",
       "      <td>...</td>\n",
       "      <td>...</td>\n",
       "      <td>...</td>\n",
       "      <td>...</td>\n",
       "      <td>...</td>\n",
       "      <td>...</td>\n",
       "      <td>...</td>\n",
       "      <td>...</td>\n",
       "      <td>...</td>\n",
       "      <td>...</td>\n",
       "      <td>...</td>\n",
       "    </tr>\n",
       "    <tr>\n",
       "      <th>14812</th>\n",
       "      <td>trip-153861095625827784</td>\n",
       "      <td>Carting</td>\n",
       "      <td>Chandigarh</td>\n",
       "      <td>[Zirakpur, Chandigarh]</td>\n",
       "      <td>[Chandigarh Punjab, Chandigarh Chandigarh]</td>\n",
       "      <td>[Zirakpur Punjab, Chandigarh Punjab]</td>\n",
       "      <td>[Punjab, Chandigarh]</td>\n",
       "      <td>Punjab</td>\n",
       "      <td>1.033333</td>\n",
       "      <td>1.033333</td>\n",
       "      <td>1.366667</td>\n",
       "      <td>1.383333</td>\n",
       "      <td>4.300482</td>\n",
       "      <td>4.283333</td>\n",
       "      <td>64.8551</td>\n",
       "      <td>57.762332</td>\n",
       "      <td>73.4630</td>\n",
       "      <td>thanos::sroute:8a120994-f577-4491-9e4b-b7e4a14...</td>\n",
       "    </tr>\n",
       "    <tr>\n",
       "      <th>14813</th>\n",
       "      <td>trip-153861104386292051</td>\n",
       "      <td>Carting</td>\n",
       "      <td>FBD</td>\n",
       "      <td>Faridabad</td>\n",
       "      <td>FBD Haryana</td>\n",
       "      <td>Faridabad Haryana</td>\n",
       "      <td>Haryana</td>\n",
       "      <td>Haryana</td>\n",
       "      <td>0.183333</td>\n",
       "      <td>0.200000</td>\n",
       "      <td>0.350000</td>\n",
       "      <td>0.350000</td>\n",
       "      <td>1.009842</td>\n",
       "      <td>1.000000</td>\n",
       "      <td>16.0883</td>\n",
       "      <td>15.513784</td>\n",
       "      <td>16.0882</td>\n",
       "      <td>thanos::sroute:b30e1ec3-3bfa-4bd2-a7fb-3b75769...</td>\n",
       "    </tr>\n",
       "    <tr>\n",
       "      <th>14814</th>\n",
       "      <td>trip-153861106442901555</td>\n",
       "      <td>Carting</td>\n",
       "      <td>Kanpur</td>\n",
       "      <td>Kanpur</td>\n",
       "      <td>Kanpur Uttar Pradesh</td>\n",
       "      <td>Kanpur Uttar Pradesh</td>\n",
       "      <td>Uttar Pradesh</td>\n",
       "      <td>Uttar Pradesh</td>\n",
       "      <td>1.466667</td>\n",
       "      <td>0.900000</td>\n",
       "      <td>4.683333</td>\n",
       "      <td>4.700000</td>\n",
       "      <td>7.035331</td>\n",
       "      <td>7.016667</td>\n",
       "      <td>104.8866</td>\n",
       "      <td>38.684839</td>\n",
       "      <td>63.2841</td>\n",
       "      <td>thanos::sroute:5609c268-e436-4e0a-8180-3db4a74...</td>\n",
       "    </tr>\n",
       "    <tr>\n",
       "      <th>14815</th>\n",
       "      <td>trip-153861115439069069</td>\n",
       "      <td>Carting</td>\n",
       "      <td>[Tirunelveli, Eral, Tirchchndr, Thisayanvilai,...</td>\n",
       "      <td>[Eral, Tirchchndr, Thisayanvilai, Peikulam, Ti...</td>\n",
       "      <td>[Tirunelveli Tamil Nadu, Eral Tamil Nadu, Tirc...</td>\n",
       "      <td>[Eral Tamil Nadu, Tirchchndr Tamil Nadu, Thisa...</td>\n",
       "      <td>Tamil Nadu</td>\n",
       "      <td>Tamil Nadu</td>\n",
       "      <td>3.683333</td>\n",
       "      <td>3.066667</td>\n",
       "      <td>4.300000</td>\n",
       "      <td>4.400000</td>\n",
       "      <td>5.808548</td>\n",
       "      <td>5.783333</td>\n",
       "      <td>223.5324</td>\n",
       "      <td>134.723836</td>\n",
       "      <td>177.6635</td>\n",
       "      <td>thanos::sroute:c5f2ba2c-8486-4940-8af6-d1d2a6a...</td>\n",
       "    </tr>\n",
       "    <tr>\n",
       "      <th>14816</th>\n",
       "      <td>trip-153861118270144424</td>\n",
       "      <td>FTL</td>\n",
       "      <td>[Hospet, Sandur]</td>\n",
       "      <td>[Sandur, Bellary]</td>\n",
       "      <td>[Hospet Karnataka, Sandur Karnataka]</td>\n",
       "      <td>[Sandur Karnataka, Bellary Karnataka]</td>\n",
       "      <td>Karnataka</td>\n",
       "      <td>Karnataka</td>\n",
       "      <td>1.116667</td>\n",
       "      <td>1.133333</td>\n",
       "      <td>4.566667</td>\n",
       "      <td>4.583333</td>\n",
       "      <td>5.906793</td>\n",
       "      <td>5.883333</td>\n",
       "      <td>80.5787</td>\n",
       "      <td>66.081533</td>\n",
       "      <td>80.5787</td>\n",
       "      <td>thanos::sroute:412fea14-6d1f-4222-8a5f-a517042...</td>\n",
       "    </tr>\n",
       "  </tbody>\n",
       "</table>\n",
       "<p>14817 rows × 18 columns</p>\n",
       "</div>"
      ],
      "text/plain": [
       "                     trip_uuid route_type  \\\n",
       "0      trip-153671041653548748        FTL   \n",
       "1      trip-153671042288605164    Carting   \n",
       "2      trip-153671043369099517        FTL   \n",
       "3      trip-153671046011330457    Carting   \n",
       "4      trip-153671052974046625        FTL   \n",
       "...                        ...        ...   \n",
       "14812  trip-153861095625827784    Carting   \n",
       "14813  trip-153861104386292051    Carting   \n",
       "14814  trip-153861106442901555    Carting   \n",
       "14815  trip-153861115439069069    Carting   \n",
       "14816  trip-153861118270144424        FTL   \n",
       "\n",
       "                                             source_city  \\\n",
       "0                                       [Bhopal, Kanpur]   \n",
       "1                                   [Tumkur, Doddablpur]   \n",
       "2                                   [Bengaluru, Gurgaon]   \n",
       "3                                                 Mumbai   \n",
       "4                              [Bellary, Hospet, Sandur]   \n",
       "...                                                  ...   \n",
       "14812                                         Chandigarh   \n",
       "14813                                                FBD   \n",
       "14814                                             Kanpur   \n",
       "14815  [Tirunelveli, Eral, Tirchchndr, Thisayanvilai,...   \n",
       "14816                                   [Hospet, Sandur]   \n",
       "\n",
       "                                        destination_city  \\\n",
       "0                                      [Kanpur, Gurgaon]   \n",
       "1                               [Doddablpur, Chikblapur]   \n",
       "2                                  [Gurgaon, Chandigarh]   \n",
       "3                                                 Mumbai   \n",
       "4                              [Hospet, Sandur, Bellary]   \n",
       "...                                                  ...   \n",
       "14812                             [Zirakpur, Chandigarh]   \n",
       "14813                                          Faridabad   \n",
       "14814                                             Kanpur   \n",
       "14815  [Eral, Tirchchndr, Thisayanvilai, Peikulam, Ti...   \n",
       "14816                                  [Sandur, Bellary]   \n",
       "\n",
       "                                       source_city_state  \\\n",
       "0          [Bhopal Madhya Pradesh, Kanpur Uttar Pradesh]   \n",
       "1               [Tumkur Karnataka, Doddablpur Karnataka]   \n",
       "2                 [Bengaluru Karnataka, Gurgaon Haryana]   \n",
       "3                                 Mumbai Hub Maharashtra   \n",
       "4      [Bellary Karnataka, Hospet Karnataka, Sandur K...   \n",
       "...                                                  ...   \n",
       "14812         [Chandigarh Punjab, Chandigarh Chandigarh]   \n",
       "14813                                        FBD Haryana   \n",
       "14814                               Kanpur Uttar Pradesh   \n",
       "14815  [Tirunelveli Tamil Nadu, Eral Tamil Nadu, Tirc...   \n",
       "14816               [Hospet Karnataka, Sandur Karnataka]   \n",
       "\n",
       "                                  destination_city_state  \\\n",
       "0                [Kanpur Uttar Pradesh, Gurgaon Haryana]   \n",
       "1           [Doddablpur Karnataka, Chikblapur Karnataka]   \n",
       "2                   [Gurgaon Haryana, Chandigarh Punjab]   \n",
       "3                                     Mumbai Maharashtra   \n",
       "4      [Hospet Karnataka, Sandur Karnataka, Bellary K...   \n",
       "...                                                  ...   \n",
       "14812               [Zirakpur Punjab, Chandigarh Punjab]   \n",
       "14813                                  Faridabad Haryana   \n",
       "14814                               Kanpur Uttar Pradesh   \n",
       "14815  [Eral Tamil Nadu, Tirchchndr Tamil Nadu, Thisa...   \n",
       "14816              [Sandur Karnataka, Bellary Karnataka]   \n",
       "\n",
       "                          source_state         destination_state  \\\n",
       "0      [Madhya Pradesh, Uttar Pradesh]  [Uttar Pradesh, Haryana]   \n",
       "1                            Karnataka                 Karnataka   \n",
       "2                 [Karnataka, Haryana]         [Haryana, Punjab]   \n",
       "3                      Hub Maharashtra               Maharashtra   \n",
       "4                            Karnataka                 Karnataka   \n",
       "...                                ...                       ...   \n",
       "14812             [Punjab, Chandigarh]                    Punjab   \n",
       "14813                          Haryana                   Haryana   \n",
       "14814                    Uttar Pradesh             Uttar Pradesh   \n",
       "14815                       Tamil Nadu                Tamil Nadu   \n",
       "14816                        Karnataka                 Karnataka   \n",
       "\n",
       "       segment_osrm_time  osrm_time  segment_actual_time  actual_time  \\\n",
       "0              16.800000  12.383333            25.800000    26.033333   \n",
       "1               1.083333   1.133333             2.350000     2.383333   \n",
       "2              32.350000  29.016667            55.133333    55.783333   \n",
       "3               0.266667   0.250000             0.983333     0.983333   \n",
       "4               1.916667   1.950000             5.666667     5.683333   \n",
       "...                  ...        ...                  ...          ...   \n",
       "14812           1.033333   1.033333             1.366667     1.383333   \n",
       "14813           0.183333   0.200000             0.350000     0.350000   \n",
       "14814           1.466667   0.900000             4.683333     4.700000   \n",
       "14815           3.683333   3.066667             4.300000     4.400000   \n",
       "14816           1.116667   1.133333             4.566667     4.583333   \n",
       "\n",
       "       time_taken_btwn_odstart_and_od_end  start_scan_to_end_scan  \\\n",
       "0                               37.668497               37.650000   \n",
       "1                                3.026865                3.000000   \n",
       "2                               65.572709               65.550000   \n",
       "3                                1.674916                1.666667   \n",
       "4                               11.972484               11.950000   \n",
       "...                                   ...                     ...   \n",
       "14812                            4.300482                4.283333   \n",
       "14813                            1.009842                1.000000   \n",
       "14814                            7.035331                7.016667   \n",
       "14815                            5.808548                5.783333   \n",
       "14816                            5.906793                5.883333   \n",
       "\n",
       "       segment_osrm_distance  actual_distance_to_destination  osrm_distance  \\\n",
       "0                  1320.4733                      824.732854       991.3523   \n",
       "1                    84.1894                       73.186911        85.1110   \n",
       "2                  2545.2678                     1932.273969      2372.0852   \n",
       "3                    19.8766                       17.175274        19.6800   \n",
       "4                   146.7919                      127.448500       146.7918   \n",
       "...                      ...                             ...            ...   \n",
       "14812                64.8551                       57.762332        73.4630   \n",
       "14813                16.0883                       15.513784        16.0882   \n",
       "14814               104.8866                       38.684839        63.2841   \n",
       "14815               223.5324                      134.723836       177.6635   \n",
       "14816                80.5787                       66.081533        80.5787   \n",
       "\n",
       "                                     route_schedule_uuid  \n",
       "0      thanos::sroute:d7c989ba-a29b-4a0b-b2f4-288cdc6...  \n",
       "1      thanos::sroute:3a1b0ab2-bb0b-4c53-8c59-eb2a2c0...  \n",
       "2      thanos::sroute:de5e208e-7641-45e6-8100-4d9fb1e...  \n",
       "3      thanos::sroute:f0176492-a679-4597-8332-bbd1c7f...  \n",
       "4      thanos::sroute:d9f07b12-65e0-4f3b-bec8-df06134...  \n",
       "...                                                  ...  \n",
       "14812  thanos::sroute:8a120994-f577-4491-9e4b-b7e4a14...  \n",
       "14813  thanos::sroute:b30e1ec3-3bfa-4bd2-a7fb-3b75769...  \n",
       "14814  thanos::sroute:5609c268-e436-4e0a-8180-3db4a74...  \n",
       "14815  thanos::sroute:c5f2ba2c-8486-4940-8af6-d1d2a6a...  \n",
       "14816  thanos::sroute:412fea14-6d1f-4222-8a5f-a517042...  \n",
       "\n",
       "[14817 rows x 18 columns]"
      ]
     },
     "execution_count": 121,
     "metadata": {},
     "output_type": "execute_result"
    }
   ],
   "source": [
    "trip_records"
   ]
  },
  {
   "cell_type": "code",
   "execution_count": null,
   "id": "95710583",
   "metadata": {},
   "outputs": [],
   "source": []
  },
  {
   "cell_type": "code",
   "execution_count": 122,
   "id": "f3294db5",
   "metadata": {},
   "outputs": [
    {
     "data": {
      "text/plain": [
       "data                                     0\n",
       "trip_creation_time                       0\n",
       "route_schedule_uuid                      0\n",
       "route_type                               0\n",
       "trip_uuid                                0\n",
       "source_center                            0\n",
       "source_name                            293\n",
       "destination_center                       0\n",
       "destination_name                       261\n",
       "od_start_time                            0\n",
       "od_end_time                              0\n",
       "start_scan_to_end_scan                   0\n",
       "is_cutoff                                0\n",
       "cutoff_factor                            0\n",
       "cutoff_timestamp                         0\n",
       "actual_distance_to_destination           0\n",
       "actual_time                              0\n",
       "osrm_time                                0\n",
       "osrm_distance                            0\n",
       "factor                                   0\n",
       "segment_actual_time                      0\n",
       "segment_osrm_time                        0\n",
       "segment_osrm_distance                    0\n",
       "segment_factor                           0\n",
       "trip_creation_day                        0\n",
       "source_city                            293\n",
       "source_state                           293\n",
       "destination_city                       261\n",
       "destination_state                      261\n",
       "source_place                          2400\n",
       "destination_place                     2702\n",
       "source_pincode                           0\n",
       "destination_pincode                      0\n",
       "time_taken_btwn_odstart_and_od_end       0\n",
       "source_city_state                      293\n",
       "destination_city_state                 261\n",
       "dtype: int64"
      ]
     },
     "execution_count": 122,
     "metadata": {},
     "output_type": "execute_result"
    }
   ],
   "source": [
    "df.isna().sum()"
   ]
  },
  {
   "cell_type": "code",
   "execution_count": 123,
   "id": "ae464c45",
   "metadata": {},
   "outputs": [],
   "source": [
    "# route_df['source'] = route_df['source'].str.strip(\"{''}\")"
   ]
  },
  {
   "cell_type": "code",
   "execution_count": null,
   "id": "4a6a2c7f",
   "metadata": {},
   "outputs": [],
   "source": []
  },
  {
   "cell_type": "code",
   "execution_count": 124,
   "id": "df052bf6",
   "metadata": {},
   "outputs": [
    {
     "data": {
      "text/html": [
       "<div>\n",
       "<style scoped>\n",
       "    .dataframe tbody tr th:only-of-type {\n",
       "        vertical-align: middle;\n",
       "    }\n",
       "\n",
       "    .dataframe tbody tr th {\n",
       "        vertical-align: top;\n",
       "    }\n",
       "\n",
       "    .dataframe thead th {\n",
       "        text-align: right;\n",
       "    }\n",
       "</style>\n",
       "<table border=\"1\" class=\"dataframe\">\n",
       "  <thead>\n",
       "    <tr style=\"text-align: right;\">\n",
       "      <th></th>\n",
       "      <th>trip_uuid</th>\n",
       "      <th>route_type</th>\n",
       "      <th>source_city</th>\n",
       "      <th>destination_city</th>\n",
       "      <th>source_city_state</th>\n",
       "      <th>destination_city_state</th>\n",
       "      <th>source_state</th>\n",
       "      <th>destination_state</th>\n",
       "      <th>segment_osrm_time</th>\n",
       "      <th>osrm_time</th>\n",
       "      <th>segment_actual_time</th>\n",
       "      <th>actual_time</th>\n",
       "      <th>time_taken_btwn_odstart_and_od_end</th>\n",
       "      <th>start_scan_to_end_scan</th>\n",
       "      <th>segment_osrm_distance</th>\n",
       "      <th>actual_distance_to_destination</th>\n",
       "      <th>osrm_distance</th>\n",
       "      <th>route_schedule_uuid</th>\n",
       "    </tr>\n",
       "  </thead>\n",
       "  <tbody>\n",
       "    <tr>\n",
       "      <th>11200</th>\n",
       "      <td>trip-153808568861396733</td>\n",
       "      <td>Carting</td>\n",
       "      <td>Del</td>\n",
       "      <td>Gurgaon</td>\n",
       "      <td>Del Delhi</td>\n",
       "      <td>Gurgaon Haryana</td>\n",
       "      <td>Delhi</td>\n",
       "      <td>Haryana</td>\n",
       "      <td>1.016667</td>\n",
       "      <td>1.0</td>\n",
       "      <td>1.85</td>\n",
       "      <td>1.9</td>\n",
       "      <td>2.995013</td>\n",
       "      <td>2.983333</td>\n",
       "      <td>69.4593</td>\n",
       "      <td>48.939472</td>\n",
       "      <td>64.7789</td>\n",
       "      <td>thanos::sroute:42dfc300-8119-4595-a41a-98e8a19...</td>\n",
       "    </tr>\n",
       "  </tbody>\n",
       "</table>\n",
       "</div>"
      ],
      "text/plain": [
       "                     trip_uuid route_type source_city destination_city  \\\n",
       "11200  trip-153808568861396733    Carting         Del          Gurgaon   \n",
       "\n",
       "      source_city_state destination_city_state source_state destination_state  \\\n",
       "11200         Del Delhi        Gurgaon Haryana        Delhi           Haryana   \n",
       "\n",
       "       segment_osrm_time  osrm_time  segment_actual_time  actual_time  \\\n",
       "11200           1.016667        1.0                 1.85          1.9   \n",
       "\n",
       "       time_taken_btwn_odstart_and_od_end  start_scan_to_end_scan  \\\n",
       "11200                            2.995013                2.983333   \n",
       "\n",
       "       segment_osrm_distance  actual_distance_to_destination  osrm_distance  \\\n",
       "11200                69.4593                       48.939472        64.7789   \n",
       "\n",
       "                                     route_schedule_uuid  \n",
       "11200  thanos::sroute:42dfc300-8119-4595-a41a-98e8a19...  "
      ]
     },
     "execution_count": 124,
     "metadata": {},
     "output_type": "execute_result"
    }
   ],
   "source": [
    "trip_records.sample()"
   ]
  },
  {
   "cell_type": "code",
   "execution_count": 125,
   "id": "fefcecdb",
   "metadata": {},
   "outputs": [
    {
     "data": {
      "text/html": [
       "<div>\n",
       "<style scoped>\n",
       "    .dataframe tbody tr th:only-of-type {\n",
       "        vertical-align: middle;\n",
       "    }\n",
       "\n",
       "    .dataframe tbody tr th {\n",
       "        vertical-align: top;\n",
       "    }\n",
       "\n",
       "    .dataframe thead th {\n",
       "        text-align: right;\n",
       "    }\n",
       "</style>\n",
       "<table border=\"1\" class=\"dataframe\">\n",
       "  <thead>\n",
       "    <tr style=\"text-align: right;\">\n",
       "      <th></th>\n",
       "      <th>source_state</th>\n",
       "      <th>destination_state</th>\n",
       "    </tr>\n",
       "  </thead>\n",
       "  <tbody>\n",
       "    <tr>\n",
       "      <th>0</th>\n",
       "      <td>[Madhya Pradesh, Uttar Pradesh]</td>\n",
       "      <td>[Uttar Pradesh, Haryana]</td>\n",
       "    </tr>\n",
       "    <tr>\n",
       "      <th>1</th>\n",
       "      <td>Karnataka</td>\n",
       "      <td>Karnataka</td>\n",
       "    </tr>\n",
       "    <tr>\n",
       "      <th>2</th>\n",
       "      <td>[Karnataka, Haryana]</td>\n",
       "      <td>[Haryana, Punjab]</td>\n",
       "    </tr>\n",
       "    <tr>\n",
       "      <th>3</th>\n",
       "      <td>Hub Maharashtra</td>\n",
       "      <td>Maharashtra</td>\n",
       "    </tr>\n",
       "    <tr>\n",
       "      <th>4</th>\n",
       "      <td>Karnataka</td>\n",
       "      <td>Karnataka</td>\n",
       "    </tr>\n",
       "    <tr>\n",
       "      <th>...</th>\n",
       "      <td>...</td>\n",
       "      <td>...</td>\n",
       "    </tr>\n",
       "    <tr>\n",
       "      <th>14812</th>\n",
       "      <td>[Punjab, Chandigarh]</td>\n",
       "      <td>Punjab</td>\n",
       "    </tr>\n",
       "    <tr>\n",
       "      <th>14813</th>\n",
       "      <td>Haryana</td>\n",
       "      <td>Haryana</td>\n",
       "    </tr>\n",
       "    <tr>\n",
       "      <th>14814</th>\n",
       "      <td>Uttar Pradesh</td>\n",
       "      <td>Uttar Pradesh</td>\n",
       "    </tr>\n",
       "    <tr>\n",
       "      <th>14815</th>\n",
       "      <td>Tamil Nadu</td>\n",
       "      <td>Tamil Nadu</td>\n",
       "    </tr>\n",
       "    <tr>\n",
       "      <th>14816</th>\n",
       "      <td>Karnataka</td>\n",
       "      <td>Karnataka</td>\n",
       "    </tr>\n",
       "  </tbody>\n",
       "</table>\n",
       "<p>14817 rows × 2 columns</p>\n",
       "</div>"
      ],
      "text/plain": [
       "                          source_state         destination_state\n",
       "0      [Madhya Pradesh, Uttar Pradesh]  [Uttar Pradesh, Haryana]\n",
       "1                            Karnataka                 Karnataka\n",
       "2                 [Karnataka, Haryana]         [Haryana, Punjab]\n",
       "3                      Hub Maharashtra               Maharashtra\n",
       "4                            Karnataka                 Karnataka\n",
       "...                                ...                       ...\n",
       "14812             [Punjab, Chandigarh]                    Punjab\n",
       "14813                          Haryana                   Haryana\n",
       "14814                    Uttar Pradesh             Uttar Pradesh\n",
       "14815                       Tamil Nadu                Tamil Nadu\n",
       "14816                        Karnataka                 Karnataka\n",
       "\n",
       "[14817 rows x 2 columns]"
      ]
     },
     "execution_count": 125,
     "metadata": {},
     "output_type": "execute_result"
    }
   ],
   "source": [
    "trip_records[[\"source_state\",\"destination_state\"]]"
   ]
  },
  {
   "cell_type": "code",
   "execution_count": 126,
   "id": "4ef69515",
   "metadata": {},
   "outputs": [],
   "source": [
    "# data.groupby([\"source_city\",\"destination_city\",\"source_city_state\",\"destination_city_state\",\"source_state\",\"destination_state\"])[\"trip_uuid\"].nunique().sort_values(ascending= False)"
   ]
  },
  {
   "cell_type": "code",
   "execution_count": 127,
   "id": "26131b5e",
   "metadata": {},
   "outputs": [
    {
     "data": {
      "text/plain": [
       "Index(['trip_uuid', 'route_type', 'source_city', 'destination_city',\n",
       "       'source_city_state', 'destination_city_state', 'source_state',\n",
       "       'destination_state', 'segment_osrm_time', 'osrm_time',\n",
       "       'segment_actual_time', 'actual_time',\n",
       "       'time_taken_btwn_odstart_and_od_end', 'start_scan_to_end_scan',\n",
       "       'segment_osrm_distance', 'actual_distance_to_destination',\n",
       "       'osrm_distance', 'route_schedule_uuid'],\n",
       "      dtype='object')"
      ]
     },
     "execution_count": 127,
     "metadata": {},
     "output_type": "execute_result"
    }
   ],
   "source": [
    "trip_records.columns"
   ]
  },
  {
   "cell_type": "code",
   "execution_count": 128,
   "id": "ed1f9907",
   "metadata": {},
   "outputs": [],
   "source": [
    "trip_records[\"source_city\"] = trip_records[\"source_city\"].astype(\"str\").str.strip(\"[]\").str.replace(\"'\",\"\")\n",
    "trip_records[\"destination_city\"] = trip_records[\"destination_city\"].astype(\"str\").str.strip(\"[]\").str.replace(\"'\",\"\")\n",
    "trip_records[\"source_city_state\"] = trip_records[\"source_city_state\"].astype(\"str\").str.strip(\"[]\").str.replace(\"'\",\"\")\n",
    "trip_records[\"destination_city_state\"] = trip_records[\"destination_city_state\"].astype(\"str\").str.strip(\"[]\").str.replace(\"'\",\"\")\n",
    "\n",
    "trip_records[\"source_state\"] = trip_records[\"source_state\"].astype(\"str\").str.strip(\"[]\").str.replace(\"'\",\"\")\n",
    "trip_records[\"destination_state\"] = trip_records[\"destination_state\"].astype(\"str\").str.strip(\"[]\").str.replace(\"'\",\"\")"
   ]
  },
  {
   "cell_type": "code",
   "execution_count": 129,
   "id": "dfd93a22",
   "metadata": {},
   "outputs": [
    {
     "data": {
      "text/html": [
       "<div>\n",
       "<style scoped>\n",
       "    .dataframe tbody tr th:only-of-type {\n",
       "        vertical-align: middle;\n",
       "    }\n",
       "\n",
       "    .dataframe tbody tr th {\n",
       "        vertical-align: top;\n",
       "    }\n",
       "\n",
       "    .dataframe thead th {\n",
       "        text-align: right;\n",
       "    }\n",
       "</style>\n",
       "<table border=\"1\" class=\"dataframe\">\n",
       "  <thead>\n",
       "    <tr style=\"text-align: right;\">\n",
       "      <th></th>\n",
       "      <th>trip_uuid</th>\n",
       "      <th>route_type</th>\n",
       "      <th>source_city</th>\n",
       "      <th>destination_city</th>\n",
       "      <th>source_city_state</th>\n",
       "      <th>destination_city_state</th>\n",
       "      <th>source_state</th>\n",
       "      <th>destination_state</th>\n",
       "      <th>segment_osrm_time</th>\n",
       "      <th>osrm_time</th>\n",
       "      <th>segment_actual_time</th>\n",
       "      <th>actual_time</th>\n",
       "      <th>time_taken_btwn_odstart_and_od_end</th>\n",
       "      <th>start_scan_to_end_scan</th>\n",
       "      <th>segment_osrm_distance</th>\n",
       "      <th>actual_distance_to_destination</th>\n",
       "      <th>osrm_distance</th>\n",
       "      <th>route_schedule_uuid</th>\n",
       "    </tr>\n",
       "  </thead>\n",
       "  <tbody>\n",
       "    <tr>\n",
       "      <th>0</th>\n",
       "      <td>trip-153671041653548748</td>\n",
       "      <td>FTL</td>\n",
       "      <td>Bhopal Kanpur</td>\n",
       "      <td>Kanpur Gurgaon</td>\n",
       "      <td>Bhopal Madhya Pradesh Kanpur Uttar Pradesh</td>\n",
       "      <td>Kanpur Uttar Pradesh Gurgaon Haryana</td>\n",
       "      <td>Madhya Pradesh Uttar Pradesh</td>\n",
       "      <td>Uttar Pradesh Haryana</td>\n",
       "      <td>16.800000</td>\n",
       "      <td>12.383333</td>\n",
       "      <td>25.800000</td>\n",
       "      <td>26.033333</td>\n",
       "      <td>37.668497</td>\n",
       "      <td>37.650000</td>\n",
       "      <td>1320.4733</td>\n",
       "      <td>824.732854</td>\n",
       "      <td>991.3523</td>\n",
       "      <td>thanos::sroute:d7c989ba-a29b-4a0b-b2f4-288cdc6...</td>\n",
       "    </tr>\n",
       "    <tr>\n",
       "      <th>1</th>\n",
       "      <td>trip-153671042288605164</td>\n",
       "      <td>Carting</td>\n",
       "      <td>Tumkur Doddablpur</td>\n",
       "      <td>Doddablpur Chikblapur</td>\n",
       "      <td>Tumkur Karnataka Doddablpur Karnataka</td>\n",
       "      <td>Doddablpur Karnataka Chikblapur Karnataka</td>\n",
       "      <td>Karnataka</td>\n",
       "      <td>Karnataka</td>\n",
       "      <td>1.083333</td>\n",
       "      <td>1.133333</td>\n",
       "      <td>2.350000</td>\n",
       "      <td>2.383333</td>\n",
       "      <td>3.026865</td>\n",
       "      <td>3.000000</td>\n",
       "      <td>84.1894</td>\n",
       "      <td>73.186911</td>\n",
       "      <td>85.1110</td>\n",
       "      <td>thanos::sroute:3a1b0ab2-bb0b-4c53-8c59-eb2a2c0...</td>\n",
       "    </tr>\n",
       "    <tr>\n",
       "      <th>2</th>\n",
       "      <td>trip-153671043369099517</td>\n",
       "      <td>FTL</td>\n",
       "      <td>Bengaluru Gurgaon</td>\n",
       "      <td>Gurgaon Chandigarh</td>\n",
       "      <td>Bengaluru Karnataka Gurgaon Haryana</td>\n",
       "      <td>Gurgaon Haryana Chandigarh Punjab</td>\n",
       "      <td>Karnataka Haryana</td>\n",
       "      <td>Haryana Punjab</td>\n",
       "      <td>32.350000</td>\n",
       "      <td>29.016667</td>\n",
       "      <td>55.133333</td>\n",
       "      <td>55.783333</td>\n",
       "      <td>65.572709</td>\n",
       "      <td>65.550000</td>\n",
       "      <td>2545.2678</td>\n",
       "      <td>1932.273969</td>\n",
       "      <td>2372.0852</td>\n",
       "      <td>thanos::sroute:de5e208e-7641-45e6-8100-4d9fb1e...</td>\n",
       "    </tr>\n",
       "    <tr>\n",
       "      <th>3</th>\n",
       "      <td>trip-153671046011330457</td>\n",
       "      <td>Carting</td>\n",
       "      <td>Mumbai</td>\n",
       "      <td>Mumbai</td>\n",
       "      <td>Mumbai Hub Maharashtra</td>\n",
       "      <td>Mumbai Maharashtra</td>\n",
       "      <td>Hub Maharashtra</td>\n",
       "      <td>Maharashtra</td>\n",
       "      <td>0.266667</td>\n",
       "      <td>0.250000</td>\n",
       "      <td>0.983333</td>\n",
       "      <td>0.983333</td>\n",
       "      <td>1.674916</td>\n",
       "      <td>1.666667</td>\n",
       "      <td>19.8766</td>\n",
       "      <td>17.175274</td>\n",
       "      <td>19.6800</td>\n",
       "      <td>thanos::sroute:f0176492-a679-4597-8332-bbd1c7f...</td>\n",
       "    </tr>\n",
       "    <tr>\n",
       "      <th>4</th>\n",
       "      <td>trip-153671052974046625</td>\n",
       "      <td>FTL</td>\n",
       "      <td>Bellary Hospet Sandur</td>\n",
       "      <td>Hospet Sandur Bellary</td>\n",
       "      <td>Bellary Karnataka Hospet Karnataka Sandur Karn...</td>\n",
       "      <td>Hospet Karnataka Sandur Karnataka Bellary Karn...</td>\n",
       "      <td>Karnataka</td>\n",
       "      <td>Karnataka</td>\n",
       "      <td>1.916667</td>\n",
       "      <td>1.950000</td>\n",
       "      <td>5.666667</td>\n",
       "      <td>5.683333</td>\n",
       "      <td>11.972484</td>\n",
       "      <td>11.950000</td>\n",
       "      <td>146.7919</td>\n",
       "      <td>127.448500</td>\n",
       "      <td>146.7918</td>\n",
       "      <td>thanos::sroute:d9f07b12-65e0-4f3b-bec8-df06134...</td>\n",
       "    </tr>\n",
       "    <tr>\n",
       "      <th>...</th>\n",
       "      <td>...</td>\n",
       "      <td>...</td>\n",
       "      <td>...</td>\n",
       "      <td>...</td>\n",
       "      <td>...</td>\n",
       "      <td>...</td>\n",
       "      <td>...</td>\n",
       "      <td>...</td>\n",
       "      <td>...</td>\n",
       "      <td>...</td>\n",
       "      <td>...</td>\n",
       "      <td>...</td>\n",
       "      <td>...</td>\n",
       "      <td>...</td>\n",
       "      <td>...</td>\n",
       "      <td>...</td>\n",
       "      <td>...</td>\n",
       "      <td>...</td>\n",
       "    </tr>\n",
       "    <tr>\n",
       "      <th>14812</th>\n",
       "      <td>trip-153861095625827784</td>\n",
       "      <td>Carting</td>\n",
       "      <td>Chandigarh</td>\n",
       "      <td>Zirakpur Chandigarh</td>\n",
       "      <td>Chandigarh Punjab Chandigarh Chandigarh</td>\n",
       "      <td>Zirakpur Punjab Chandigarh Punjab</td>\n",
       "      <td>Punjab Chandigarh</td>\n",
       "      <td>Punjab</td>\n",
       "      <td>1.033333</td>\n",
       "      <td>1.033333</td>\n",
       "      <td>1.366667</td>\n",
       "      <td>1.383333</td>\n",
       "      <td>4.300482</td>\n",
       "      <td>4.283333</td>\n",
       "      <td>64.8551</td>\n",
       "      <td>57.762332</td>\n",
       "      <td>73.4630</td>\n",
       "      <td>thanos::sroute:8a120994-f577-4491-9e4b-b7e4a14...</td>\n",
       "    </tr>\n",
       "    <tr>\n",
       "      <th>14813</th>\n",
       "      <td>trip-153861104386292051</td>\n",
       "      <td>Carting</td>\n",
       "      <td>FBD</td>\n",
       "      <td>Faridabad</td>\n",
       "      <td>FBD Haryana</td>\n",
       "      <td>Faridabad Haryana</td>\n",
       "      <td>Haryana</td>\n",
       "      <td>Haryana</td>\n",
       "      <td>0.183333</td>\n",
       "      <td>0.200000</td>\n",
       "      <td>0.350000</td>\n",
       "      <td>0.350000</td>\n",
       "      <td>1.009842</td>\n",
       "      <td>1.000000</td>\n",
       "      <td>16.0883</td>\n",
       "      <td>15.513784</td>\n",
       "      <td>16.0882</td>\n",
       "      <td>thanos::sroute:b30e1ec3-3bfa-4bd2-a7fb-3b75769...</td>\n",
       "    </tr>\n",
       "    <tr>\n",
       "      <th>14814</th>\n",
       "      <td>trip-153861106442901555</td>\n",
       "      <td>Carting</td>\n",
       "      <td>Kanpur</td>\n",
       "      <td>Kanpur</td>\n",
       "      <td>Kanpur Uttar Pradesh</td>\n",
       "      <td>Kanpur Uttar Pradesh</td>\n",
       "      <td>Uttar Pradesh</td>\n",
       "      <td>Uttar Pradesh</td>\n",
       "      <td>1.466667</td>\n",
       "      <td>0.900000</td>\n",
       "      <td>4.683333</td>\n",
       "      <td>4.700000</td>\n",
       "      <td>7.035331</td>\n",
       "      <td>7.016667</td>\n",
       "      <td>104.8866</td>\n",
       "      <td>38.684839</td>\n",
       "      <td>63.2841</td>\n",
       "      <td>thanos::sroute:5609c268-e436-4e0a-8180-3db4a74...</td>\n",
       "    </tr>\n",
       "    <tr>\n",
       "      <th>14815</th>\n",
       "      <td>trip-153861115439069069</td>\n",
       "      <td>Carting</td>\n",
       "      <td>Tirunelveli Eral Tirchchndr Thisayanvilai Peik...</td>\n",
       "      <td>Eral Tirchchndr Thisayanvilai Peikulam Tirunel...</td>\n",
       "      <td>Tirunelveli Tamil Nadu Eral Tamil Nadu Tirchch...</td>\n",
       "      <td>Eral Tamil Nadu Tirchchndr Tamil Nadu Thisayan...</td>\n",
       "      <td>Tamil Nadu</td>\n",
       "      <td>Tamil Nadu</td>\n",
       "      <td>3.683333</td>\n",
       "      <td>3.066667</td>\n",
       "      <td>4.300000</td>\n",
       "      <td>4.400000</td>\n",
       "      <td>5.808548</td>\n",
       "      <td>5.783333</td>\n",
       "      <td>223.5324</td>\n",
       "      <td>134.723836</td>\n",
       "      <td>177.6635</td>\n",
       "      <td>thanos::sroute:c5f2ba2c-8486-4940-8af6-d1d2a6a...</td>\n",
       "    </tr>\n",
       "    <tr>\n",
       "      <th>14816</th>\n",
       "      <td>trip-153861118270144424</td>\n",
       "      <td>FTL</td>\n",
       "      <td>Hospet Sandur</td>\n",
       "      <td>Sandur Bellary</td>\n",
       "      <td>Hospet Karnataka Sandur Karnataka</td>\n",
       "      <td>Sandur Karnataka Bellary Karnataka</td>\n",
       "      <td>Karnataka</td>\n",
       "      <td>Karnataka</td>\n",
       "      <td>1.116667</td>\n",
       "      <td>1.133333</td>\n",
       "      <td>4.566667</td>\n",
       "      <td>4.583333</td>\n",
       "      <td>5.906793</td>\n",
       "      <td>5.883333</td>\n",
       "      <td>80.5787</td>\n",
       "      <td>66.081533</td>\n",
       "      <td>80.5787</td>\n",
       "      <td>thanos::sroute:412fea14-6d1f-4222-8a5f-a517042...</td>\n",
       "    </tr>\n",
       "  </tbody>\n",
       "</table>\n",
       "<p>14817 rows × 18 columns</p>\n",
       "</div>"
      ],
      "text/plain": [
       "                     trip_uuid route_type  \\\n",
       "0      trip-153671041653548748        FTL   \n",
       "1      trip-153671042288605164    Carting   \n",
       "2      trip-153671043369099517        FTL   \n",
       "3      trip-153671046011330457    Carting   \n",
       "4      trip-153671052974046625        FTL   \n",
       "...                        ...        ...   \n",
       "14812  trip-153861095625827784    Carting   \n",
       "14813  trip-153861104386292051    Carting   \n",
       "14814  trip-153861106442901555    Carting   \n",
       "14815  trip-153861115439069069    Carting   \n",
       "14816  trip-153861118270144424        FTL   \n",
       "\n",
       "                                             source_city  \\\n",
       "0                                          Bhopal Kanpur   \n",
       "1                                      Tumkur Doddablpur   \n",
       "2                                      Bengaluru Gurgaon   \n",
       "3                                                 Mumbai   \n",
       "4                                  Bellary Hospet Sandur   \n",
       "...                                                  ...   \n",
       "14812                                         Chandigarh   \n",
       "14813                                                FBD   \n",
       "14814                                             Kanpur   \n",
       "14815  Tirunelveli Eral Tirchchndr Thisayanvilai Peik...   \n",
       "14816                                      Hospet Sandur   \n",
       "\n",
       "                                        destination_city  \\\n",
       "0                                         Kanpur Gurgaon   \n",
       "1                                  Doddablpur Chikblapur   \n",
       "2                                     Gurgaon Chandigarh   \n",
       "3                                                 Mumbai   \n",
       "4                                  Hospet Sandur Bellary   \n",
       "...                                                  ...   \n",
       "14812                                Zirakpur Chandigarh   \n",
       "14813                                          Faridabad   \n",
       "14814                                             Kanpur   \n",
       "14815  Eral Tirchchndr Thisayanvilai Peikulam Tirunel...   \n",
       "14816                                     Sandur Bellary   \n",
       "\n",
       "                                       source_city_state  \\\n",
       "0             Bhopal Madhya Pradesh Kanpur Uttar Pradesh   \n",
       "1                  Tumkur Karnataka Doddablpur Karnataka   \n",
       "2                    Bengaluru Karnataka Gurgaon Haryana   \n",
       "3                                 Mumbai Hub Maharashtra   \n",
       "4      Bellary Karnataka Hospet Karnataka Sandur Karn...   \n",
       "...                                                  ...   \n",
       "14812            Chandigarh Punjab Chandigarh Chandigarh   \n",
       "14813                                        FBD Haryana   \n",
       "14814                               Kanpur Uttar Pradesh   \n",
       "14815  Tirunelveli Tamil Nadu Eral Tamil Nadu Tirchch...   \n",
       "14816                  Hospet Karnataka Sandur Karnataka   \n",
       "\n",
       "                                  destination_city_state  \\\n",
       "0                   Kanpur Uttar Pradesh Gurgaon Haryana   \n",
       "1              Doddablpur Karnataka Chikblapur Karnataka   \n",
       "2                      Gurgaon Haryana Chandigarh Punjab   \n",
       "3                                     Mumbai Maharashtra   \n",
       "4      Hospet Karnataka Sandur Karnataka Bellary Karn...   \n",
       "...                                                  ...   \n",
       "14812                  Zirakpur Punjab Chandigarh Punjab   \n",
       "14813                                  Faridabad Haryana   \n",
       "14814                               Kanpur Uttar Pradesh   \n",
       "14815  Eral Tamil Nadu Tirchchndr Tamil Nadu Thisayan...   \n",
       "14816                 Sandur Karnataka Bellary Karnataka   \n",
       "\n",
       "                       source_state      destination_state  segment_osrm_time  \\\n",
       "0      Madhya Pradesh Uttar Pradesh  Uttar Pradesh Haryana          16.800000   \n",
       "1                         Karnataka              Karnataka           1.083333   \n",
       "2                 Karnataka Haryana         Haryana Punjab          32.350000   \n",
       "3                   Hub Maharashtra            Maharashtra           0.266667   \n",
       "4                         Karnataka              Karnataka           1.916667   \n",
       "...                             ...                    ...                ...   \n",
       "14812             Punjab Chandigarh                 Punjab           1.033333   \n",
       "14813                       Haryana                Haryana           0.183333   \n",
       "14814                 Uttar Pradesh          Uttar Pradesh           1.466667   \n",
       "14815                    Tamil Nadu             Tamil Nadu           3.683333   \n",
       "14816                     Karnataka              Karnataka           1.116667   \n",
       "\n",
       "       osrm_time  segment_actual_time  actual_time  \\\n",
       "0      12.383333            25.800000    26.033333   \n",
       "1       1.133333             2.350000     2.383333   \n",
       "2      29.016667            55.133333    55.783333   \n",
       "3       0.250000             0.983333     0.983333   \n",
       "4       1.950000             5.666667     5.683333   \n",
       "...          ...                  ...          ...   \n",
       "14812   1.033333             1.366667     1.383333   \n",
       "14813   0.200000             0.350000     0.350000   \n",
       "14814   0.900000             4.683333     4.700000   \n",
       "14815   3.066667             4.300000     4.400000   \n",
       "14816   1.133333             4.566667     4.583333   \n",
       "\n",
       "       time_taken_btwn_odstart_and_od_end  start_scan_to_end_scan  \\\n",
       "0                               37.668497               37.650000   \n",
       "1                                3.026865                3.000000   \n",
       "2                               65.572709               65.550000   \n",
       "3                                1.674916                1.666667   \n",
       "4                               11.972484               11.950000   \n",
       "...                                   ...                     ...   \n",
       "14812                            4.300482                4.283333   \n",
       "14813                            1.009842                1.000000   \n",
       "14814                            7.035331                7.016667   \n",
       "14815                            5.808548                5.783333   \n",
       "14816                            5.906793                5.883333   \n",
       "\n",
       "       segment_osrm_distance  actual_distance_to_destination  osrm_distance  \\\n",
       "0                  1320.4733                      824.732854       991.3523   \n",
       "1                    84.1894                       73.186911        85.1110   \n",
       "2                  2545.2678                     1932.273969      2372.0852   \n",
       "3                    19.8766                       17.175274        19.6800   \n",
       "4                   146.7919                      127.448500       146.7918   \n",
       "...                      ...                             ...            ...   \n",
       "14812                64.8551                       57.762332        73.4630   \n",
       "14813                16.0883                       15.513784        16.0882   \n",
       "14814               104.8866                       38.684839        63.2841   \n",
       "14815               223.5324                      134.723836       177.6635   \n",
       "14816                80.5787                       66.081533        80.5787   \n",
       "\n",
       "                                     route_schedule_uuid  \n",
       "0      thanos::sroute:d7c989ba-a29b-4a0b-b2f4-288cdc6...  \n",
       "1      thanos::sroute:3a1b0ab2-bb0b-4c53-8c59-eb2a2c0...  \n",
       "2      thanos::sroute:de5e208e-7641-45e6-8100-4d9fb1e...  \n",
       "3      thanos::sroute:f0176492-a679-4597-8332-bbd1c7f...  \n",
       "4      thanos::sroute:d9f07b12-65e0-4f3b-bec8-df06134...  \n",
       "...                                                  ...  \n",
       "14812  thanos::sroute:8a120994-f577-4491-9e4b-b7e4a14...  \n",
       "14813  thanos::sroute:b30e1ec3-3bfa-4bd2-a7fb-3b75769...  \n",
       "14814  thanos::sroute:5609c268-e436-4e0a-8180-3db4a74...  \n",
       "14815  thanos::sroute:c5f2ba2c-8486-4940-8af6-d1d2a6a...  \n",
       "14816  thanos::sroute:412fea14-6d1f-4222-8a5f-a517042...  \n",
       "\n",
       "[14817 rows x 18 columns]"
      ]
     },
     "execution_count": 129,
     "metadata": {},
     "output_type": "execute_result"
    }
   ],
   "source": [
    "trip_records"
   ]
  },
  {
   "cell_type": "code",
   "execution_count": 130,
   "id": "79f0ce7a",
   "metadata": {},
   "outputs": [
    {
     "data": {
      "text/plain": [
       "trip_uuid                             0\n",
       "route_type                            0\n",
       "source_city                           0\n",
       "destination_city                      0\n",
       "source_city_state                     0\n",
       "destination_city_state                0\n",
       "source_state                          0\n",
       "destination_state                     0\n",
       "segment_osrm_time                     0\n",
       "osrm_time                             0\n",
       "segment_actual_time                   0\n",
       "actual_time                           0\n",
       "time_taken_btwn_odstart_and_od_end    0\n",
       "start_scan_to_end_scan                0\n",
       "segment_osrm_distance                 0\n",
       "actual_distance_to_destination        0\n",
       "osrm_distance                         0\n",
       "route_schedule_uuid                   0\n",
       "dtype: int64"
      ]
     },
     "execution_count": 130,
     "metadata": {},
     "output_type": "execute_result"
    }
   ],
   "source": [
    "trip_records.isna().sum()"
   ]
  },
  {
   "cell_type": "code",
   "execution_count": 156,
   "id": "9596839f",
   "metadata": {},
   "outputs": [
    {
     "data": {
      "text/html": [
       "<div>\n",
       "<style scoped>\n",
       "    .dataframe tbody tr th:only-of-type {\n",
       "        vertical-align: middle;\n",
       "    }\n",
       "\n",
       "    .dataframe tbody tr th {\n",
       "        vertical-align: top;\n",
       "    }\n",
       "\n",
       "    .dataframe thead th {\n",
       "        text-align: right;\n",
       "    }\n",
       "</style>\n",
       "<table border=\"1\" class=\"dataframe\">\n",
       "  <thead>\n",
       "    <tr style=\"text-align: right;\">\n",
       "      <th></th>\n",
       "      <th>trip_uuid</th>\n",
       "      <th>route_type</th>\n",
       "      <th>source_city</th>\n",
       "      <th>destination_city</th>\n",
       "      <th>source_city_state</th>\n",
       "      <th>destination_city_state</th>\n",
       "      <th>source_state</th>\n",
       "      <th>destination_state</th>\n",
       "      <th>segment_osrm_time</th>\n",
       "      <th>osrm_time</th>\n",
       "      <th>segment_actual_time</th>\n",
       "      <th>actual_time</th>\n",
       "      <th>time_taken_btwn_odstart_and_od_end</th>\n",
       "      <th>start_scan_to_end_scan</th>\n",
       "      <th>segment_osrm_distance</th>\n",
       "      <th>actual_distance_to_destination</th>\n",
       "      <th>osrm_distance</th>\n",
       "      <th>route_schedule_uuid</th>\n",
       "    </tr>\n",
       "  </thead>\n",
       "  <tbody>\n",
       "  </tbody>\n",
       "</table>\n",
       "</div>"
      ],
      "text/plain": [
       "Empty DataFrame\n",
       "Columns: [trip_uuid, route_type, source_city, destination_city, source_city_state, destination_city_state, source_state, destination_state, segment_osrm_time, osrm_time, segment_actual_time, actual_time, time_taken_btwn_odstart_and_od_end, start_scan_to_end_scan, segment_osrm_distance, actual_distance_to_destination, osrm_distance, route_schedule_uuid]\n",
       "Index: []"
      ]
     },
     "execution_count": 156,
     "metadata": {},
     "output_type": "execute_result"
    }
   ],
   "source": [
    "# trip_records[trip_records[\"destination_city\"]==\"\"]"
   ]
  },
  {
   "cell_type": "code",
   "execution_count": null,
   "id": "a812a6dd",
   "metadata": {},
   "outputs": [],
   "source": []
  },
  {
   "cell_type": "code",
   "execution_count": null,
   "id": "2c72abb3",
   "metadata": {},
   "outputs": [],
   "source": []
  },
  {
   "cell_type": "code",
   "execution_count": null,
   "id": "9a8a51d3",
   "metadata": {},
   "outputs": [],
   "source": []
  },
  {
   "cell_type": "code",
   "execution_count": null,
   "id": "16ce6233",
   "metadata": {},
   "outputs": [],
   "source": []
  },
  {
   "cell_type": "code",
   "execution_count": null,
   "id": "d6975eea",
   "metadata": {},
   "outputs": [],
   "source": []
  },
  {
   "cell_type": "code",
   "execution_count": null,
   "id": "b59927f3",
   "metadata": {},
   "outputs": [],
   "source": []
  },
  {
   "cell_type": "code",
   "execution_count": null,
   "id": "6f1b7a29",
   "metadata": {},
   "outputs": [],
   "source": []
  },
  {
   "cell_type": "code",
   "execution_count": null,
   "id": "eb840b88",
   "metadata": {},
   "outputs": [],
   "source": []
  },
  {
   "cell_type": "markdown",
   "id": "ed7794a9",
   "metadata": {},
   "source": [
    "# Route analysis : "
   ]
  },
  {
   "cell_type": "code",
   "execution_count": 131,
   "id": "20b63942",
   "metadata": {},
   "outputs": [],
   "source": [
    "A = data.groupby(\"route_schedule_uuid\")[\"route_type\"].unique().reset_index()"
   ]
  },
  {
   "cell_type": "code",
   "execution_count": 132,
   "id": "08e6d3da",
   "metadata": {},
   "outputs": [],
   "source": [
    "B = data.groupby(\"route_schedule_uuid\")[\"destination_city\"].unique().reset_index()\n",
    "B.columns = [\"route_schedule_uuid\",\"destination_cities\"]"
   ]
  },
  {
   "cell_type": "code",
   "execution_count": 133,
   "id": "fc91700d",
   "metadata": {},
   "outputs": [],
   "source": [
    "C = data.groupby(\"route_schedule_uuid\")[\"source_city\"].unique().reset_index()\n",
    "C.columns = [\"route_schedule_uuid\",\"source_cities\"]"
   ]
  },
  {
   "cell_type": "code",
   "execution_count": 134,
   "id": "bebb9cac",
   "metadata": {},
   "outputs": [],
   "source": [
    "D = data.groupby(\"route_schedule_uuid\")[\"source_state\"].unique().reset_index()\n",
    "D.columns = [\"route_schedule_uuid\",\"source_states\"]\n",
    "E = data.groupby(\"route_schedule_uuid\")[\"destination_state\"].unique().reset_index()\n",
    "E.columns = [\"route_schedule_uuid\",\"destination_states\"]\n"
   ]
  },
  {
   "cell_type": "code",
   "execution_count": null,
   "id": "07b4a8b2",
   "metadata": {},
   "outputs": [],
   "source": []
  },
  {
   "cell_type": "code",
   "execution_count": null,
   "id": "1d5c265b",
   "metadata": {},
   "outputs": [],
   "source": []
  },
  {
   "cell_type": "code",
   "execution_count": 135,
   "id": "3b6d6cf9",
   "metadata": {},
   "outputs": [],
   "source": [
    "F = data.groupby(\"route_schedule_uuid\")[[\"source_state\",\n",
    "                                         \"destination_state\"]].nunique().sort_values(by=\"source_state\",\n",
    "                                                                                     ascending=False).reset_index()\n",
    "F.columns = [\"route_schedule_uuid\",\"#source_states\"\n",
    "             ,\"#destination_states\"]\n"
   ]
  },
  {
   "cell_type": "code",
   "execution_count": null,
   "id": "c4e16a4a",
   "metadata": {},
   "outputs": [],
   "source": []
  },
  {
   "cell_type": "code",
   "execution_count": 136,
   "id": "467f7d94",
   "metadata": {},
   "outputs": [],
   "source": [
    "G = trip_records.groupby(\"route_schedule_uuid\")[\"actual_distance_to_destination\"].mean().reset_index()\n",
    "G.columns = [\"route_schedule_uuid\",\"Average_Actual_distance_to_destination\"]\n"
   ]
  },
  {
   "cell_type": "code",
   "execution_count": null,
   "id": "00d832cc",
   "metadata": {},
   "outputs": [],
   "source": []
  },
  {
   "cell_type": "code",
   "execution_count": 137,
   "id": "f0b6c12e",
   "metadata": {},
   "outputs": [],
   "source": [
    "H = trip_records[\"route_schedule_uuid\"].value_counts().reset_index()\n",
    "H.columns = [\"route_schedule_uuid\",\"Number_of_Trips\"]\n"
   ]
  },
  {
   "cell_type": "code",
   "execution_count": 138,
   "id": "794e7346",
   "metadata": {},
   "outputs": [],
   "source": [
    "route_records = H.merge(G.merge(F.merge(E.merge(D.merge(C.merge(A.merge(B,\n",
    "        on =\"route_schedule_uuid\",\n",
    "        how = \"outer\"),on =\"route_schedule_uuid\",\n",
    "        how = \"outer\"),\n",
    "       on =\"route_schedule_uuid\",\n",
    "        how = \"outer\"),\n",
    "       on =\"route_schedule_uuid\",\n",
    "        how = \"outer\"),\n",
    "       on =\"route_schedule_uuid\",\n",
    "        how = \"outer\"),\n",
    "       on =\"route_schedule_uuid\",\n",
    "        how = \"outer\"),\n",
    "       on =\"route_schedule_uuid\",\n",
    "        how = \"outer\")"
   ]
  },
  {
   "cell_type": "code",
   "execution_count": 139,
   "id": "76d00094",
   "metadata": {},
   "outputs": [
    {
     "data": {
      "text/html": [
       "<div>\n",
       "<style scoped>\n",
       "    .dataframe tbody tr th:only-of-type {\n",
       "        vertical-align: middle;\n",
       "    }\n",
       "\n",
       "    .dataframe tbody tr th {\n",
       "        vertical-align: top;\n",
       "    }\n",
       "\n",
       "    .dataframe thead th {\n",
       "        text-align: right;\n",
       "    }\n",
       "</style>\n",
       "<table border=\"1\" class=\"dataframe\">\n",
       "  <thead>\n",
       "    <tr style=\"text-align: right;\">\n",
       "      <th></th>\n",
       "      <th>route_schedule_uuid</th>\n",
       "      <th>Number_of_Trips</th>\n",
       "      <th>Average_Actual_distance_to_destination</th>\n",
       "      <th>#source_states</th>\n",
       "      <th>#destination_states</th>\n",
       "      <th>destination_states</th>\n",
       "      <th>source_states</th>\n",
       "      <th>source_cities</th>\n",
       "      <th>route_type</th>\n",
       "      <th>destination_cities</th>\n",
       "    </tr>\n",
       "  </thead>\n",
       "  <tbody>\n",
       "    <tr>\n",
       "      <th>1046</th>\n",
       "      <td>thanos::sroute:3592c86e-c3d1-429b-917a-ebe9051...</td>\n",
       "      <td>5</td>\n",
       "      <td>2157.968312</td>\n",
       "      <td>2</td>\n",
       "      <td>2</td>\n",
       "      <td>[West Bengal, Maharashtra]</td>\n",
       "      <td>[Assam, West Bengal]</td>\n",
       "      <td>[Guwahati, Kolkata]</td>\n",
       "      <td>[FTL]</td>\n",
       "      <td>[Kolkata, Bhiwandi]</td>\n",
       "    </tr>\n",
       "    <tr>\n",
       "      <th>461</th>\n",
       "      <td>thanos::sroute:96a80600-40e1-436b-9161-fa68f9e...</td>\n",
       "      <td>13</td>\n",
       "      <td>2016.941915</td>\n",
       "      <td>2</td>\n",
       "      <td>2</td>\n",
       "      <td>[Bihar, Haryana]</td>\n",
       "      <td>[Haryana, Bihar]</td>\n",
       "      <td>[Gurgaon, Muzaffrpur, Purnia]</td>\n",
       "      <td>[FTL]</td>\n",
       "      <td>[Muzaffrpur, Purnia, Gurgaon]</td>\n",
       "    </tr>\n",
       "    <tr>\n",
       "      <th>1252</th>\n",
       "      <td>thanos::sroute:b3fd32d8-4027-4dc5-a425-eb8ccb8...</td>\n",
       "      <td>2</td>\n",
       "      <td>1939.975142</td>\n",
       "      <td>2</td>\n",
       "      <td>2</td>\n",
       "      <td>[Haryana, Punjab]</td>\n",
       "      <td>[Karnataka, Haryana]</td>\n",
       "      <td>[Bengaluru, Gurgaon]</td>\n",
       "      <td>[FTL]</td>\n",
       "      <td>[Gurgaon, Chandigarh]</td>\n",
       "    </tr>\n",
       "    <tr>\n",
       "      <th>55</th>\n",
       "      <td>thanos::sroute:4029a8a2-6c74-4b7e-a6d8-f9e069f...</td>\n",
       "      <td>22</td>\n",
       "      <td>1905.766051</td>\n",
       "      <td>2</td>\n",
       "      <td>2</td>\n",
       "      <td>[Haryana, Karnataka]</td>\n",
       "      <td>[Punjab, Haryana]</td>\n",
       "      <td>[Chandigarh, Gurgaon]</td>\n",
       "      <td>[FTL]</td>\n",
       "      <td>[Gurgaon, Bengaluru]</td>\n",
       "    </tr>\n",
       "    <tr>\n",
       "      <th>372</th>\n",
       "      <td>thanos::sroute:de5e208e-7641-45e6-8100-4d9fb1e...</td>\n",
       "      <td>15</td>\n",
       "      <td>1869.546650</td>\n",
       "      <td>2</td>\n",
       "      <td>2</td>\n",
       "      <td>[Haryana, Punjab]</td>\n",
       "      <td>[Karnataka, Haryana]</td>\n",
       "      <td>[Bengaluru, Gurgaon]</td>\n",
       "      <td>[FTL]</td>\n",
       "      <td>[Gurgaon, Chandigarh]</td>\n",
       "    </tr>\n",
       "    <tr>\n",
       "      <th>...</th>\n",
       "      <td>...</td>\n",
       "      <td>...</td>\n",
       "      <td>...</td>\n",
       "      <td>...</td>\n",
       "      <td>...</td>\n",
       "      <td>...</td>\n",
       "      <td>...</td>\n",
       "      <td>...</td>\n",
       "      <td>...</td>\n",
       "      <td>...</td>\n",
       "    </tr>\n",
       "    <tr>\n",
       "      <th>1385</th>\n",
       "      <td>thanos::sroute:50fd07d6-9217-49dd-b510-3a68bf6...</td>\n",
       "      <td>1</td>\n",
       "      <td>9.042020</td>\n",
       "      <td>1</td>\n",
       "      <td>1</td>\n",
       "      <td>[Karnataka]</td>\n",
       "      <td>[Karnataka]</td>\n",
       "      <td>[Bengaluru]</td>\n",
       "      <td>[Carting]</td>\n",
       "      <td>[Bengaluru]</td>\n",
       "    </tr>\n",
       "    <tr>\n",
       "      <th>1463</th>\n",
       "      <td>thanos::sroute:dff6e62a-3e95-42e9-9794-b5125f8...</td>\n",
       "      <td>1</td>\n",
       "      <td>9.040986</td>\n",
       "      <td>1</td>\n",
       "      <td>1</td>\n",
       "      <td>[Tamil Nadu]</td>\n",
       "      <td>[Tamil Nadu]</td>\n",
       "      <td>[Salem]</td>\n",
       "      <td>[Carting]</td>\n",
       "      <td>[Salem]</td>\n",
       "    </tr>\n",
       "    <tr>\n",
       "      <th>1266</th>\n",
       "      <td>thanos::sroute:62545fd8-0a6d-4ede-87c9-71fdc9a...</td>\n",
       "      <td>2</td>\n",
       "      <td>9.032299</td>\n",
       "      <td>1</td>\n",
       "      <td>1</td>\n",
       "      <td>[Tamil Nadu]</td>\n",
       "      <td>[Tamil Nadu]</td>\n",
       "      <td>[Chennai]</td>\n",
       "      <td>[Carting]</td>\n",
       "      <td>[Chennai]</td>\n",
       "    </tr>\n",
       "    <tr>\n",
       "      <th>1365</th>\n",
       "      <td>thanos::sroute:fb962457-a420-4283-b216-55fd2ba...</td>\n",
       "      <td>1</td>\n",
       "      <td>9.027513</td>\n",
       "      <td>1</td>\n",
       "      <td>1</td>\n",
       "      <td>[Uttar Pradesh]</td>\n",
       "      <td>[Uttar Pradesh]</td>\n",
       "      <td>[Varanasi]</td>\n",
       "      <td>[Carting]</td>\n",
       "      <td>[Varanasi]</td>\n",
       "    </tr>\n",
       "    <tr>\n",
       "      <th>1427</th>\n",
       "      <td>thanos::sroute:e00eb6aa-d792-4b28-81fa-fdee413...</td>\n",
       "      <td>1</td>\n",
       "      <td>9.006827</td>\n",
       "      <td>1</td>\n",
       "      <td>1</td>\n",
       "      <td>[Tamil Nadu]</td>\n",
       "      <td>[Tamil Nadu]</td>\n",
       "      <td>[Chennai]</td>\n",
       "      <td>[Carting]</td>\n",
       "      <td>[Chennai]</td>\n",
       "    </tr>\n",
       "  </tbody>\n",
       "</table>\n",
       "<p>1504 rows × 10 columns</p>\n",
       "</div>"
      ],
      "text/plain": [
       "                                    route_schedule_uuid  Number_of_Trips  \\\n",
       "1046  thanos::sroute:3592c86e-c3d1-429b-917a-ebe9051...                5   \n",
       "461   thanos::sroute:96a80600-40e1-436b-9161-fa68f9e...               13   \n",
       "1252  thanos::sroute:b3fd32d8-4027-4dc5-a425-eb8ccb8...                2   \n",
       "55    thanos::sroute:4029a8a2-6c74-4b7e-a6d8-f9e069f...               22   \n",
       "372   thanos::sroute:de5e208e-7641-45e6-8100-4d9fb1e...               15   \n",
       "...                                                 ...              ...   \n",
       "1385  thanos::sroute:50fd07d6-9217-49dd-b510-3a68bf6...                1   \n",
       "1463  thanos::sroute:dff6e62a-3e95-42e9-9794-b5125f8...                1   \n",
       "1266  thanos::sroute:62545fd8-0a6d-4ede-87c9-71fdc9a...                2   \n",
       "1365  thanos::sroute:fb962457-a420-4283-b216-55fd2ba...                1   \n",
       "1427  thanos::sroute:e00eb6aa-d792-4b28-81fa-fdee413...                1   \n",
       "\n",
       "      Average_Actual_distance_to_destination  #source_states  \\\n",
       "1046                             2157.968312               2   \n",
       "461                              2016.941915               2   \n",
       "1252                             1939.975142               2   \n",
       "55                               1905.766051               2   \n",
       "372                              1869.546650               2   \n",
       "...                                      ...             ...   \n",
       "1385                                9.042020               1   \n",
       "1463                                9.040986               1   \n",
       "1266                                9.032299               1   \n",
       "1365                                9.027513               1   \n",
       "1427                                9.006827               1   \n",
       "\n",
       "      #destination_states          destination_states         source_states  \\\n",
       "1046                    2  [West Bengal, Maharashtra]  [Assam, West Bengal]   \n",
       "461                     2            [Bihar, Haryana]      [Haryana, Bihar]   \n",
       "1252                    2           [Haryana, Punjab]  [Karnataka, Haryana]   \n",
       "55                      2        [Haryana, Karnataka]     [Punjab, Haryana]   \n",
       "372                     2           [Haryana, Punjab]  [Karnataka, Haryana]   \n",
       "...                   ...                         ...                   ...   \n",
       "1385                    1                 [Karnataka]           [Karnataka]   \n",
       "1463                    1                [Tamil Nadu]          [Tamil Nadu]   \n",
       "1266                    1                [Tamil Nadu]          [Tamil Nadu]   \n",
       "1365                    1             [Uttar Pradesh]       [Uttar Pradesh]   \n",
       "1427                    1                [Tamil Nadu]          [Tamil Nadu]   \n",
       "\n",
       "                      source_cities route_type             destination_cities  \n",
       "1046            [Guwahati, Kolkata]      [FTL]            [Kolkata, Bhiwandi]  \n",
       "461   [Gurgaon, Muzaffrpur, Purnia]      [FTL]  [Muzaffrpur, Purnia, Gurgaon]  \n",
       "1252           [Bengaluru, Gurgaon]      [FTL]          [Gurgaon, Chandigarh]  \n",
       "55            [Chandigarh, Gurgaon]      [FTL]           [Gurgaon, Bengaluru]  \n",
       "372            [Bengaluru, Gurgaon]      [FTL]          [Gurgaon, Chandigarh]  \n",
       "...                             ...        ...                            ...  \n",
       "1385                    [Bengaluru]  [Carting]                    [Bengaluru]  \n",
       "1463                        [Salem]  [Carting]                        [Salem]  \n",
       "1266                      [Chennai]  [Carting]                      [Chennai]  \n",
       "1365                     [Varanasi]  [Carting]                     [Varanasi]  \n",
       "1427                      [Chennai]  [Carting]                      [Chennai]  \n",
       "\n",
       "[1504 rows x 10 columns]"
      ]
     },
     "execution_count": 139,
     "metadata": {},
     "output_type": "execute_result"
    }
   ],
   "source": [
    "route_records.sort_values(by=\"Average_Actual_distance_to_destination\",ascending=False)"
   ]
  },
  {
   "cell_type": "code",
   "execution_count": null,
   "id": "133c3e47",
   "metadata": {},
   "outputs": [],
   "source": []
  },
  {
   "cell_type": "code",
   "execution_count": null,
   "id": "f7e3b91b",
   "metadata": {},
   "outputs": [],
   "source": []
  },
  {
   "cell_type": "code",
   "execution_count": null,
   "id": "902dea7b",
   "metadata": {},
   "outputs": [],
   "source": []
  },
  {
   "cell_type": "code",
   "execution_count": null,
   "id": "7c2bacff",
   "metadata": {},
   "outputs": [],
   "source": []
  },
  {
   "cell_type": "code",
   "execution_count": null,
   "id": "c22e8993",
   "metadata": {},
   "outputs": [],
   "source": []
  },
  {
   "cell_type": "code",
   "execution_count": null,
   "id": "704353e1",
   "metadata": {},
   "outputs": [],
   "source": []
  },
  {
   "cell_type": "code",
   "execution_count": null,
   "id": "154eeacf",
   "metadata": {},
   "outputs": [],
   "source": []
  },
  {
   "cell_type": "code",
   "execution_count": null,
   "id": "d838f7cd",
   "metadata": {},
   "outputs": [],
   "source": []
  },
  {
   "cell_type": "code",
   "execution_count": null,
   "id": "cdbeaced",
   "metadata": {},
   "outputs": [],
   "source": [
    "# df.loc[df.isnull().any(axis=1)]\n",
    "# "
   ]
  },
  {
   "cell_type": "code",
   "execution_count": null,
   "id": "687ab6a6",
   "metadata": {},
   "outputs": [],
   "source": []
  },
  {
   "cell_type": "code",
   "execution_count": null,
   "id": "817e4522",
   "metadata": {},
   "outputs": [],
   "source": []
  },
  {
   "cell_type": "code",
   "execution_count": null,
   "id": "63cf91b0",
   "metadata": {},
   "outputs": [],
   "source": []
  },
  {
   "cell_type": "code",
   "execution_count": null,
   "id": "ae7837a2",
   "metadata": {},
   "outputs": [],
   "source": []
  },
  {
   "cell_type": "code",
   "execution_count": null,
   "id": "c9193064",
   "metadata": {},
   "outputs": [],
   "source": []
  },
  {
   "cell_type": "code",
   "execution_count": null,
   "id": "9b77a50d",
   "metadata": {},
   "outputs": [],
   "source": []
  },
  {
   "cell_type": "code",
   "execution_count": null,
   "id": "56b5034d",
   "metadata": {},
   "outputs": [],
   "source": []
  },
  {
   "cell_type": "code",
   "execution_count": null,
   "id": "414cf842",
   "metadata": {},
   "outputs": [],
   "source": []
  },
  {
   "cell_type": "code",
   "execution_count": null,
   "id": "f50e8dd8",
   "metadata": {},
   "outputs": [],
   "source": []
  }
 ],
 "metadata": {
  "kernelspec": {
   "display_name": "Python 3 (ipykernel)",
   "language": "python",
   "name": "python3"
  },
  "language_info": {
   "codemirror_mode": {
    "name": "ipython",
    "version": 3
   },
   "file_extension": ".py",
   "mimetype": "text/x-python",
   "name": "python",
   "nbconvert_exporter": "python",
   "pygments_lexer": "ipython3",
   "version": "3.9.7"
  }
 },
 "nbformat": 4,
 "nbformat_minor": 5
}
