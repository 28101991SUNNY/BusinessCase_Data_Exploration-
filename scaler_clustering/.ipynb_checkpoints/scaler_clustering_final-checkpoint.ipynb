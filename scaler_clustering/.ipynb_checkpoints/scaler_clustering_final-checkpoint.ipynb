{
 "cells": [
  {
   "cell_type": "markdown",
   "id": "213c546d",
   "metadata": {},
   "source": [
    "## Problem Statement\n",
    "\n",
    "\n",
    "- Scaler is an online tech-versity offering intensive computer science & Data Science courses through live classes delivered by tech leaders and subject matter experts. \n",
    "- The meticulously structured program enhances the skills of software professionals by offering a modern curriculum with exposure to the latest technologies. It is a product by InterviewBit.\n",
    "\n",
    "\n",
    "- You are working as a data scientist with the analytics vertical of Scaler, focused on profiling the best companies and job positions to work for from the Scaler database.\n",
    "- You are provided with the information for a segment of learners and tasked to cluster them on the basis of their job profile, company, and other features. Ideally, these clusters should have similar characteristics.\n",
    "\n",
    "\n",
    "\n",
    "\n",
    "## Data Dictionary:\n",
    "\n",
    "- ‘Unnamed 0’- Index of the dataset\n",
    "- Email_hash- Anonymised Personal Identifiable Information (PII)\n",
    "- Company_hash- Current employer of the learner\n",
    "- orgyear- Employment start date\n",
    "- CTC- Current CTC\n",
    "- Job_position- Job profile in the company\n",
    "- CTC_updated_year: Year in which CTC got updated (Yearly increments, Promotions)\n",
    "\n",
    "\n",
    "#### Concept Used:\n",
    "\n",
    "- Manual Clustering\n",
    "- Unsupervised Clustering - K- means, Hierarchical Clustering\n",
    "\n",
    "\n"
   ]
  },
  {
   "cell_type": "code",
   "execution_count": 127,
   "id": "e71bdbf5",
   "metadata": {},
   "outputs": [],
   "source": [
    "import re\n",
    "import numpy as np\n",
    "import pandas as pd\n",
    "\n",
    "import matplotlib.pyplot as plt\n",
    "plt.rcParams[\"figure.figsize\"] = (12,8)"
   ]
  },
  {
   "cell_type": "code",
   "execution_count": 128,
   "id": "c23e06d7",
   "metadata": {},
   "outputs": [],
   "source": [
    "import warnings\n",
    "warnings.filterwarnings(\"ignore\")\n"
   ]
  },
  {
   "cell_type": "code",
   "execution_count": 129,
   "id": "c25348a8",
   "metadata": {},
   "outputs": [],
   "source": [
    "df = pd.read_csv(\"scaler_clustering.csv\",index_col=0)"
   ]
  },
  {
   "cell_type": "code",
   "execution_count": 130,
   "id": "afc3e35d",
   "metadata": {
    "scrolled": false
   },
   "outputs": [
    {
     "data": {
      "text/html": [
       "<div>\n",
       "<style scoped>\n",
       "    .dataframe tbody tr th:only-of-type {\n",
       "        vertical-align: middle;\n",
       "    }\n",
       "\n",
       "    .dataframe tbody tr th {\n",
       "        vertical-align: top;\n",
       "    }\n",
       "\n",
       "    .dataframe thead th {\n",
       "        text-align: right;\n",
       "    }\n",
       "</style>\n",
       "<table border=\"1\" class=\"dataframe\">\n",
       "  <thead>\n",
       "    <tr style=\"text-align: right;\">\n",
       "      <th></th>\n",
       "      <th>company_hash</th>\n",
       "      <th>email_hash</th>\n",
       "      <th>orgyear</th>\n",
       "      <th>ctc</th>\n",
       "      <th>job_position</th>\n",
       "      <th>ctc_updated_year</th>\n",
       "    </tr>\n",
       "  </thead>\n",
       "  <tbody>\n",
       "    <tr>\n",
       "      <th>17621</th>\n",
       "      <td>bvi ogenfvqt</td>\n",
       "      <td>e93abc6cafbd171f08953540ecf510f10dd3c29698fe2d...</td>\n",
       "      <td>2015.0</td>\n",
       "      <td>200000</td>\n",
       "      <td>Frontend Engineer</td>\n",
       "      <td>2021.0</td>\n",
       "    </tr>\n",
       "    <tr>\n",
       "      <th>43264</th>\n",
       "      <td>qfo</td>\n",
       "      <td>95359fcf297402a0fd09a5d467e90647494e1820fb4091...</td>\n",
       "      <td>2018.0</td>\n",
       "      <td>600000</td>\n",
       "      <td>NaN</td>\n",
       "      <td>2021.0</td>\n",
       "    </tr>\n",
       "    <tr>\n",
       "      <th>6416</th>\n",
       "      <td>zgzt</td>\n",
       "      <td>fb69e1bf6d85b39e4759ad3db8a1a55c1175c240108cca...</td>\n",
       "      <td>2016.0</td>\n",
       "      <td>450000</td>\n",
       "      <td>Devops Engineer</td>\n",
       "      <td>2020.0</td>\n",
       "    </tr>\n",
       "    <tr>\n",
       "      <th>35431</th>\n",
       "      <td>fyttrotjt ntwyzgrgsj</td>\n",
       "      <td>21f6b7f3bd41a215b0fff15baf9a2253a8eba2fd0127b7...</td>\n",
       "      <td>2018.0</td>\n",
       "      <td>200000</td>\n",
       "      <td>NaN</td>\n",
       "      <td>2021.0</td>\n",
       "    </tr>\n",
       "    <tr>\n",
       "      <th>109059</th>\n",
       "      <td>xzegojo</td>\n",
       "      <td>630b0d4ce7833b3a0f4985f36ea19b76c483523be204b6...</td>\n",
       "      <td>2020.0</td>\n",
       "      <td>525000</td>\n",
       "      <td>FullStack Engineer</td>\n",
       "      <td>2021.0</td>\n",
       "    </tr>\n",
       "    <tr>\n",
       "      <th>2417</th>\n",
       "      <td>qxv vacxogqj</td>\n",
       "      <td>adf6018a5bdfcd819beb86808e9c3ed2ea954a543f7dbf...</td>\n",
       "      <td>2020.0</td>\n",
       "      <td>700000</td>\n",
       "      <td>NaN</td>\n",
       "      <td>2021.0</td>\n",
       "    </tr>\n",
       "    <tr>\n",
       "      <th>175594</th>\n",
       "      <td>sggsrt</td>\n",
       "      <td>8e4b39577f3b328db8ef87cbc841a9fa18be0983157416...</td>\n",
       "      <td>2018.0</td>\n",
       "      <td>1950000</td>\n",
       "      <td>Frontend Engineer</td>\n",
       "      <td>2020.0</td>\n",
       "    </tr>\n",
       "    <tr>\n",
       "      <th>47541</th>\n",
       "      <td>hztburgjta</td>\n",
       "      <td>b4a2b543479e569cbb4591e4490f7685b0856540c08094...</td>\n",
       "      <td>2018.0</td>\n",
       "      <td>24000</td>\n",
       "      <td>NaN</td>\n",
       "      <td>2020.0</td>\n",
       "    </tr>\n",
       "    <tr>\n",
       "      <th>84285</th>\n",
       "      <td>ovu</td>\n",
       "      <td>08a1ffc2306b7b84edb7081c030c34df39858269cdcd2a...</td>\n",
       "      <td>2015.0</td>\n",
       "      <td>930000</td>\n",
       "      <td>Frontend Engineer</td>\n",
       "      <td>2018.0</td>\n",
       "    </tr>\n",
       "    <tr>\n",
       "      <th>134205</th>\n",
       "      <td>gzbgmxrt srgmvr rxbxnta</td>\n",
       "      <td>491c9b3c8df401e916538f4d9d39c8a3fee1a39d7db834...</td>\n",
       "      <td>2012.0</td>\n",
       "      <td>1700000</td>\n",
       "      <td>FullStack Engineer</td>\n",
       "      <td>2018.0</td>\n",
       "    </tr>\n",
       "  </tbody>\n",
       "</table>\n",
       "</div>"
      ],
      "text/plain": [
       "                   company_hash  \\\n",
       "17621              bvi ogenfvqt   \n",
       "43264                       qfo   \n",
       "6416                       zgzt   \n",
       "35431      fyttrotjt ntwyzgrgsj   \n",
       "109059                  xzegojo   \n",
       "2417               qxv vacxogqj   \n",
       "175594                   sggsrt   \n",
       "47541                hztburgjta   \n",
       "84285                       ovu   \n",
       "134205  gzbgmxrt srgmvr rxbxnta   \n",
       "\n",
       "                                               email_hash  orgyear      ctc  \\\n",
       "17621   e93abc6cafbd171f08953540ecf510f10dd3c29698fe2d...   2015.0   200000   \n",
       "43264   95359fcf297402a0fd09a5d467e90647494e1820fb4091...   2018.0   600000   \n",
       "6416    fb69e1bf6d85b39e4759ad3db8a1a55c1175c240108cca...   2016.0   450000   \n",
       "35431   21f6b7f3bd41a215b0fff15baf9a2253a8eba2fd0127b7...   2018.0   200000   \n",
       "109059  630b0d4ce7833b3a0f4985f36ea19b76c483523be204b6...   2020.0   525000   \n",
       "2417    adf6018a5bdfcd819beb86808e9c3ed2ea954a543f7dbf...   2020.0   700000   \n",
       "175594  8e4b39577f3b328db8ef87cbc841a9fa18be0983157416...   2018.0  1950000   \n",
       "47541   b4a2b543479e569cbb4591e4490f7685b0856540c08094...   2018.0    24000   \n",
       "84285   08a1ffc2306b7b84edb7081c030c34df39858269cdcd2a...   2015.0   930000   \n",
       "134205  491c9b3c8df401e916538f4d9d39c8a3fee1a39d7db834...   2012.0  1700000   \n",
       "\n",
       "              job_position  ctc_updated_year  \n",
       "17621    Frontend Engineer            2021.0  \n",
       "43264                  NaN            2021.0  \n",
       "6416       Devops Engineer            2020.0  \n",
       "35431                  NaN            2021.0  \n",
       "109059  FullStack Engineer            2021.0  \n",
       "2417                   NaN            2021.0  \n",
       "175594   Frontend Engineer            2020.0  \n",
       "47541                  NaN            2020.0  \n",
       "84285    Frontend Engineer            2018.0  \n",
       "134205  FullStack Engineer            2018.0  "
      ]
     },
     "execution_count": 130,
     "metadata": {},
     "output_type": "execute_result"
    }
   ],
   "source": [
    "df.sample(10)"
   ]
  },
  {
   "cell_type": "code",
   "execution_count": null,
   "id": "0030aef7",
   "metadata": {},
   "outputs": [],
   "source": []
  },
  {
   "cell_type": "code",
   "execution_count": 131,
   "id": "35ffbd24",
   "metadata": {},
   "outputs": [
    {
     "data": {
      "text/plain": [
       "(205843, 6)"
      ]
     },
     "execution_count": 131,
     "metadata": {},
     "output_type": "execute_result"
    }
   ],
   "source": [
    "df.shape"
   ]
  },
  {
   "cell_type": "code",
   "execution_count": 132,
   "id": "5648000f",
   "metadata": {},
   "outputs": [
    {
     "name": "stdout",
     "output_type": "stream",
     "text": [
      "<class 'pandas.core.frame.DataFrame'>\n",
      "Int64Index: 205843 entries, 0 to 206922\n",
      "Data columns (total 6 columns):\n",
      " #   Column            Non-Null Count   Dtype  \n",
      "---  ------            --------------   -----  \n",
      " 0   company_hash      205799 non-null  object \n",
      " 1   email_hash        205843 non-null  object \n",
      " 2   orgyear           205757 non-null  float64\n",
      " 3   ctc               205843 non-null  int64  \n",
      " 4   job_position      153281 non-null  object \n",
      " 5   ctc_updated_year  205843 non-null  float64\n",
      "dtypes: float64(2), int64(1), object(3)\n",
      "memory usage: 11.0+ MB\n"
     ]
    }
   ],
   "source": [
    "df.info()"
   ]
  },
  {
   "cell_type": "code",
   "execution_count": 133,
   "id": "fcb32dfa",
   "metadata": {},
   "outputs": [
    {
     "data": {
      "text/plain": [
       "company_hash           44\n",
       "email_hash              0\n",
       "orgyear                86\n",
       "ctc                     0\n",
       "job_position        52562\n",
       "ctc_updated_year        0\n",
       "dtype: int64"
      ]
     },
     "execution_count": 133,
     "metadata": {},
     "output_type": "execute_result"
    }
   ],
   "source": [
    "df.isna().sum()"
   ]
  },
  {
   "cell_type": "code",
   "execution_count": 134,
   "id": "18b52c47",
   "metadata": {},
   "outputs": [
    {
     "data": {
      "text/plain": [
       "company_hash         0.021376\n",
       "email_hash           0.000000\n",
       "orgyear              0.041779\n",
       "ctc                  0.000000\n",
       "job_position        25.534995\n",
       "ctc_updated_year     0.000000\n",
       "dtype: float64"
      ]
     },
     "execution_count": 134,
     "metadata": {},
     "output_type": "execute_result"
    }
   ],
   "source": [
    "(df.isna().sum()/ len(df))*100"
   ]
  },
  {
   "cell_type": "code",
   "execution_count": null,
   "id": "083ac187",
   "metadata": {},
   "outputs": [],
   "source": []
  },
  {
   "cell_type": "code",
   "execution_count": 135,
   "id": "7c535b78",
   "metadata": {},
   "outputs": [
    {
     "data": {
      "text/html": [
       "<div>\n",
       "<style scoped>\n",
       "    .dataframe tbody tr th:only-of-type {\n",
       "        vertical-align: middle;\n",
       "    }\n",
       "\n",
       "    .dataframe tbody tr th {\n",
       "        vertical-align: top;\n",
       "    }\n",
       "\n",
       "    .dataframe thead th {\n",
       "        text-align: right;\n",
       "    }\n",
       "</style>\n",
       "<table border=\"1\" class=\"dataframe\">\n",
       "  <thead>\n",
       "    <tr style=\"text-align: right;\">\n",
       "      <th></th>\n",
       "      <th>orgyear</th>\n",
       "      <th>ctc</th>\n",
       "      <th>ctc_updated_year</th>\n",
       "    </tr>\n",
       "  </thead>\n",
       "  <tbody>\n",
       "    <tr>\n",
       "      <th>count</th>\n",
       "      <td>205757.000000</td>\n",
       "      <td>2.058430e+05</td>\n",
       "      <td>205843.000000</td>\n",
       "    </tr>\n",
       "    <tr>\n",
       "      <th>mean</th>\n",
       "      <td>2014.882750</td>\n",
       "      <td>2.271685e+06</td>\n",
       "      <td>2019.628231</td>\n",
       "    </tr>\n",
       "    <tr>\n",
       "      <th>std</th>\n",
       "      <td>63.571115</td>\n",
       "      <td>1.180091e+07</td>\n",
       "      <td>1.325104</td>\n",
       "    </tr>\n",
       "    <tr>\n",
       "      <th>min</th>\n",
       "      <td>0.000000</td>\n",
       "      <td>2.000000e+00</td>\n",
       "      <td>2015.000000</td>\n",
       "    </tr>\n",
       "    <tr>\n",
       "      <th>25%</th>\n",
       "      <td>2013.000000</td>\n",
       "      <td>5.300000e+05</td>\n",
       "      <td>2019.000000</td>\n",
       "    </tr>\n",
       "    <tr>\n",
       "      <th>50%</th>\n",
       "      <td>2016.000000</td>\n",
       "      <td>9.500000e+05</td>\n",
       "      <td>2020.000000</td>\n",
       "    </tr>\n",
       "    <tr>\n",
       "      <th>75%</th>\n",
       "      <td>2018.000000</td>\n",
       "      <td>1.700000e+06</td>\n",
       "      <td>2021.000000</td>\n",
       "    </tr>\n",
       "    <tr>\n",
       "      <th>max</th>\n",
       "      <td>20165.000000</td>\n",
       "      <td>1.000150e+09</td>\n",
       "      <td>2021.000000</td>\n",
       "    </tr>\n",
       "  </tbody>\n",
       "</table>\n",
       "</div>"
      ],
      "text/plain": [
       "             orgyear           ctc  ctc_updated_year\n",
       "count  205757.000000  2.058430e+05     205843.000000\n",
       "mean     2014.882750  2.271685e+06       2019.628231\n",
       "std        63.571115  1.180091e+07          1.325104\n",
       "min         0.000000  2.000000e+00       2015.000000\n",
       "25%      2013.000000  5.300000e+05       2019.000000\n",
       "50%      2016.000000  9.500000e+05       2020.000000\n",
       "75%      2018.000000  1.700000e+06       2021.000000\n",
       "max     20165.000000  1.000150e+09       2021.000000"
      ]
     },
     "execution_count": 135,
     "metadata": {},
     "output_type": "execute_result"
    }
   ],
   "source": [
    "df.describe()"
   ]
  },
  {
   "cell_type": "code",
   "execution_count": 136,
   "id": "19446cb2",
   "metadata": {},
   "outputs": [],
   "source": [
    "# based on above information , noticing some unusual outliers in the data  "
   ]
  },
  {
   "cell_type": "code",
   "execution_count": null,
   "id": "3b7a614c",
   "metadata": {},
   "outputs": [],
   "source": []
  },
  {
   "cell_type": "code",
   "execution_count": 137,
   "id": "a76e61a0",
   "metadata": {},
   "outputs": [
    {
     "data": {
      "text/html": [
       "<div>\n",
       "<style scoped>\n",
       "    .dataframe tbody tr th:only-of-type {\n",
       "        vertical-align: middle;\n",
       "    }\n",
       "\n",
       "    .dataframe tbody tr th {\n",
       "        vertical-align: top;\n",
       "    }\n",
       "\n",
       "    .dataframe thead th {\n",
       "        text-align: right;\n",
       "    }\n",
       "</style>\n",
       "<table border=\"1\" class=\"dataframe\">\n",
       "  <thead>\n",
       "    <tr style=\"text-align: right;\">\n",
       "      <th></th>\n",
       "      <th>company_hash</th>\n",
       "      <th>email_hash</th>\n",
       "      <th>job_position</th>\n",
       "    </tr>\n",
       "  </thead>\n",
       "  <tbody>\n",
       "    <tr>\n",
       "      <th>count</th>\n",
       "      <td>205799</td>\n",
       "      <td>205843</td>\n",
       "      <td>153281</td>\n",
       "    </tr>\n",
       "    <tr>\n",
       "      <th>unique</th>\n",
       "      <td>37299</td>\n",
       "      <td>153443</td>\n",
       "      <td>1017</td>\n",
       "    </tr>\n",
       "    <tr>\n",
       "      <th>top</th>\n",
       "      <td>nvnv wgzohrnvzwj otqcxwto</td>\n",
       "      <td>bbace3cc586400bbc65765bc6a16b77d8913836cfc98b7...</td>\n",
       "      <td>Backend Engineer</td>\n",
       "    </tr>\n",
       "    <tr>\n",
       "      <th>freq</th>\n",
       "      <td>8337</td>\n",
       "      <td>10</td>\n",
       "      <td>43554</td>\n",
       "    </tr>\n",
       "  </tbody>\n",
       "</table>\n",
       "</div>"
      ],
      "text/plain": [
       "                     company_hash  \\\n",
       "count                      205799   \n",
       "unique                      37299   \n",
       "top     nvnv wgzohrnvzwj otqcxwto   \n",
       "freq                         8337   \n",
       "\n",
       "                                               email_hash      job_position  \n",
       "count                                              205843            153281  \n",
       "unique                                             153443              1017  \n",
       "top     bbace3cc586400bbc65765bc6a16b77d8913836cfc98b7...  Backend Engineer  \n",
       "freq                                                   10             43554  "
      ]
     },
     "execution_count": 137,
     "metadata": {},
     "output_type": "execute_result"
    }
   ],
   "source": [
    "df.describe(include=\"object\")"
   ]
  },
  {
   "cell_type": "code",
   "execution_count": null,
   "id": "f0d80fcf",
   "metadata": {},
   "outputs": [],
   "source": []
  },
  {
   "cell_type": "code",
   "execution_count": 138,
   "id": "774aab35",
   "metadata": {},
   "outputs": [
    {
     "data": {
      "text/plain": [
       "'airtel x labs'"
      ]
     },
     "execution_count": 138,
     "metadata": {},
     "output_type": "execute_result"
    }
   ],
   "source": [
    "def preprocess_string(string):\n",
    "    new_string= re.sub('[^A-Za-z ]+', '', string).lower().strip()\n",
    "    return new_string\n",
    "    \n",
    "mystring='\\tAirtel\\\\\\\\&&**() X Labs'\n",
    "preprocess_string(mystring)"
   ]
  },
  {
   "cell_type": "code",
   "execution_count": 139,
   "id": "630e9a6a",
   "metadata": {},
   "outputs": [
    {
     "data": {
      "text/plain": [
       "37299"
      ]
     },
     "execution_count": 139,
     "metadata": {},
     "output_type": "execute_result"
    }
   ],
   "source": [
    "df[\"company_hash\"].nunique()"
   ]
  },
  {
   "cell_type": "code",
   "execution_count": 140,
   "id": "bf59b8fd",
   "metadata": {},
   "outputs": [
    {
     "data": {
      "text/plain": [
       "37208"
      ]
     },
     "execution_count": 140,
     "metadata": {},
     "output_type": "execute_result"
    }
   ],
   "source": [
    "df[\"company_hash\"] = df[\"company_hash\"].apply(lambda x: preprocess_string(str(x))) \n",
    "df[\"company_hash\"].nunique()"
   ]
  },
  {
   "cell_type": "code",
   "execution_count": null,
   "id": "cbe7044c",
   "metadata": {},
   "outputs": [],
   "source": []
  },
  {
   "cell_type": "code",
   "execution_count": 141,
   "id": "7d2a33b3",
   "metadata": {},
   "outputs": [
    {
     "data": {
      "text/plain": [
       "1017"
      ]
     },
     "execution_count": 141,
     "metadata": {},
     "output_type": "execute_result"
    }
   ],
   "source": [
    "df[\"job_position\"].nunique()\n",
    "# 1017 unique job positions are there in the dataset "
   ]
  },
  {
   "cell_type": "code",
   "execution_count": 142,
   "id": "cefa6a62",
   "metadata": {},
   "outputs": [
    {
     "data": {
      "text/plain": [
       "857"
      ]
     },
     "execution_count": 142,
     "metadata": {},
     "output_type": "execute_result"
    }
   ],
   "source": [
    "df[\"job_position\"] = df[\"job_position\"].apply(lambda x: preprocess_string(str(x))) \n",
    "df[\"job_position\"].nunique()\n",
    "\n",
    "# 857 unique job positions are there in the dataset after preprocessing strings "
   ]
  },
  {
   "cell_type": "code",
   "execution_count": null,
   "id": "66ca5104",
   "metadata": {},
   "outputs": [],
   "source": []
  },
  {
   "cell_type": "code",
   "execution_count": 143,
   "id": "6155df2b",
   "metadata": {},
   "outputs": [],
   "source": [
    "# removing the email_hash\n",
    "df.drop(\"email_hash\",axis = 1,inplace=True)"
   ]
  },
  {
   "cell_type": "code",
   "execution_count": null,
   "id": "dba27443",
   "metadata": {},
   "outputs": [],
   "source": []
  },
  {
   "cell_type": "code",
   "execution_count": 144,
   "id": "1e206b87",
   "metadata": {},
   "outputs": [
    {
     "data": {
      "text/html": [
       "<div>\n",
       "<style scoped>\n",
       "    .dataframe tbody tr th:only-of-type {\n",
       "        vertical-align: middle;\n",
       "    }\n",
       "\n",
       "    .dataframe tbody tr th {\n",
       "        vertical-align: top;\n",
       "    }\n",
       "\n",
       "    .dataframe thead th {\n",
       "        text-align: right;\n",
       "    }\n",
       "</style>\n",
       "<table border=\"1\" class=\"dataframe\">\n",
       "  <thead>\n",
       "    <tr style=\"text-align: right;\">\n",
       "      <th></th>\n",
       "      <th>company_hash</th>\n",
       "      <th>orgyear</th>\n",
       "      <th>ctc</th>\n",
       "      <th>job_position</th>\n",
       "      <th>ctc_updated_year</th>\n",
       "    </tr>\n",
       "  </thead>\n",
       "  <tbody>\n",
       "    <tr>\n",
       "      <th>135202</th>\n",
       "      <td>nxmwg ogenfvqt xzw</td>\n",
       "      <td>2014.0</td>\n",
       "      <td>270000</td>\n",
       "      <td>backend engineer</td>\n",
       "      <td>2016.0</td>\n",
       "    </tr>\n",
       "    <tr>\n",
       "      <th>8043</th>\n",
       "      <td>st</td>\n",
       "      <td>2012.0</td>\n",
       "      <td>1320000</td>\n",
       "      <td>backend engineer</td>\n",
       "      <td>2019.0</td>\n",
       "    </tr>\n",
       "    <tr>\n",
       "      <th>191058</th>\n",
       "      <td>vbvkgz rvm</td>\n",
       "      <td>2010.0</td>\n",
       "      <td>220000</td>\n",
       "      <td>fullstack engineer</td>\n",
       "      <td>2019.0</td>\n",
       "    </tr>\n",
       "    <tr>\n",
       "      <th>190577</th>\n",
       "      <td>vagmt</td>\n",
       "      <td>2016.0</td>\n",
       "      <td>2200000</td>\n",
       "      <td>devops engineer</td>\n",
       "      <td>2019.0</td>\n",
       "    </tr>\n",
       "    <tr>\n",
       "      <th>64059</th>\n",
       "      <td>obvqnqgz</td>\n",
       "      <td>2014.0</td>\n",
       "      <td>650000</td>\n",
       "      <td>android engineer</td>\n",
       "      <td>2019.0</td>\n",
       "    </tr>\n",
       "  </tbody>\n",
       "</table>\n",
       "</div>"
      ],
      "text/plain": [
       "              company_hash  orgyear      ctc        job_position  \\\n",
       "135202  nxmwg ogenfvqt xzw   2014.0   270000    backend engineer   \n",
       "8043                    st   2012.0  1320000    backend engineer   \n",
       "191058          vbvkgz rvm   2010.0   220000  fullstack engineer   \n",
       "190577               vagmt   2016.0  2200000     devops engineer   \n",
       "64059             obvqnqgz   2014.0   650000    android engineer   \n",
       "\n",
       "        ctc_updated_year  \n",
       "135202            2016.0  \n",
       "8043              2019.0  \n",
       "191058            2019.0  \n",
       "190577            2019.0  \n",
       "64059             2019.0  "
      ]
     },
     "execution_count": 144,
     "metadata": {},
     "output_type": "execute_result"
    }
   ],
   "source": [
    "df.sample(5)"
   ]
  },
  {
   "cell_type": "code",
   "execution_count": 145,
   "id": "9d5154d8",
   "metadata": {},
   "outputs": [
    {
     "data": {
      "text/plain": [
       "17597"
      ]
     },
     "execution_count": 145,
     "metadata": {},
     "output_type": "execute_result"
    }
   ],
   "source": [
    "df.duplicated().sum() # 17597 duplicated records"
   ]
  },
  {
   "cell_type": "code",
   "execution_count": null,
   "id": "941132ca",
   "metadata": {},
   "outputs": [],
   "source": []
  },
  {
   "cell_type": "code",
   "execution_count": null,
   "id": "87c6556f",
   "metadata": {},
   "outputs": [],
   "source": []
  },
  {
   "cell_type": "code",
   "execution_count": 146,
   "id": "2ecec3bd",
   "metadata": {},
   "outputs": [
    {
     "data": {
      "text/plain": [
       "company_hash         0\n",
       "orgyear             86\n",
       "ctc                  0\n",
       "job_position         0\n",
       "ctc_updated_year     0\n",
       "dtype: int64"
      ]
     },
     "execution_count": 146,
     "metadata": {},
     "output_type": "execute_result"
    }
   ],
   "source": [
    "df.isna().sum()"
   ]
  },
  {
   "cell_type": "code",
   "execution_count": 147,
   "id": "586bc8a5",
   "metadata": {},
   "outputs": [
    {
     "data": {
      "text/plain": [
       "89"
      ]
     },
     "execution_count": 147,
     "metadata": {},
     "output_type": "execute_result"
    }
   ],
   "source": [
    "(df[\"company_hash\"] == \"\").sum()"
   ]
  },
  {
   "cell_type": "code",
   "execution_count": 148,
   "id": "84e74bf3",
   "metadata": {},
   "outputs": [
    {
     "data": {
      "text/plain": [
       "44"
      ]
     },
     "execution_count": 148,
     "metadata": {},
     "output_type": "execute_result"
    }
   ],
   "source": [
    "(df[\"company_hash\"] == \"nan\").sum()"
   ]
  },
  {
   "cell_type": "code",
   "execution_count": 149,
   "id": "f110912e",
   "metadata": {},
   "outputs": [
    {
     "data": {
      "text/plain": [
       "9"
      ]
     },
     "execution_count": 149,
     "metadata": {},
     "output_type": "execute_result"
    }
   ],
   "source": [
    "(df[\"job_position\"] == \"\").sum()"
   ]
  },
  {
   "cell_type": "code",
   "execution_count": 150,
   "id": "5688a684",
   "metadata": {},
   "outputs": [
    {
     "data": {
      "text/plain": [
       "52562"
      ]
     },
     "execution_count": 150,
     "metadata": {},
     "output_type": "execute_result"
    }
   ],
   "source": [
    "(df[\"job_position\"] == \"nan\").sum()"
   ]
  },
  {
   "cell_type": "code",
   "execution_count": 151,
   "id": "e68b7501",
   "metadata": {},
   "outputs": [],
   "source": [
    "# removing the records where company or job_position reocords are not available "
   ]
  },
  {
   "cell_type": "code",
   "execution_count": 152,
   "id": "459fe39f",
   "metadata": {},
   "outputs": [
    {
     "data": {
      "text/html": [
       "<div>\n",
       "<style scoped>\n",
       "    .dataframe tbody tr th:only-of-type {\n",
       "        vertical-align: middle;\n",
       "    }\n",
       "\n",
       "    .dataframe tbody tr th {\n",
       "        vertical-align: top;\n",
       "    }\n",
       "\n",
       "    .dataframe thead th {\n",
       "        text-align: right;\n",
       "    }\n",
       "</style>\n",
       "<table border=\"1\" class=\"dataframe\">\n",
       "  <thead>\n",
       "    <tr style=\"text-align: right;\">\n",
       "      <th></th>\n",
       "      <th>company_hash</th>\n",
       "      <th>orgyear</th>\n",
       "      <th>ctc</th>\n",
       "      <th>job_position</th>\n",
       "      <th>ctc_updated_year</th>\n",
       "    </tr>\n",
       "  </thead>\n",
       "  <tbody>\n",
       "    <tr>\n",
       "      <th>167717</th>\n",
       "      <td></td>\n",
       "      <td>2018.0</td>\n",
       "      <td>1500000</td>\n",
       "      <td>backend engineer</td>\n",
       "      <td>2020.0</td>\n",
       "    </tr>\n",
       "    <tr>\n",
       "      <th>76907</th>\n",
       "      <td></td>\n",
       "      <td>2021.0</td>\n",
       "      <td>800000</td>\n",
       "      <td>nan</td>\n",
       "      <td>2021.0</td>\n",
       "    </tr>\n",
       "    <tr>\n",
       "      <th>25333</th>\n",
       "      <td></td>\n",
       "      <td>2019.0</td>\n",
       "      <td>2000000</td>\n",
       "      <td>nan</td>\n",
       "      <td>2021.0</td>\n",
       "    </tr>\n",
       "    <tr>\n",
       "      <th>202179</th>\n",
       "      <td></td>\n",
       "      <td>2016.0</td>\n",
       "      <td>500000</td>\n",
       "      <td>nan</td>\n",
       "      <td>2017.0</td>\n",
       "    </tr>\n",
       "    <tr>\n",
       "      <th>84192</th>\n",
       "      <td></td>\n",
       "      <td>2018.0</td>\n",
       "      <td>1400000</td>\n",
       "      <td>backend engineer</td>\n",
       "      <td>2019.0</td>\n",
       "    </tr>\n",
       "    <tr>\n",
       "      <th>197978</th>\n",
       "      <td></td>\n",
       "      <td>2020.0</td>\n",
       "      <td>1000000</td>\n",
       "      <td>nan</td>\n",
       "      <td>2019.0</td>\n",
       "    </tr>\n",
       "    <tr>\n",
       "      <th>50414</th>\n",
       "      <td></td>\n",
       "      <td>2020.0</td>\n",
       "      <td>720000</td>\n",
       "      <td>nan</td>\n",
       "      <td>2019.0</td>\n",
       "    </tr>\n",
       "    <tr>\n",
       "      <th>117571</th>\n",
       "      <td></td>\n",
       "      <td>2010.0</td>\n",
       "      <td>4500000</td>\n",
       "      <td>nan</td>\n",
       "      <td>2019.0</td>\n",
       "    </tr>\n",
       "    <tr>\n",
       "      <th>127679</th>\n",
       "      <td></td>\n",
       "      <td>2019.0</td>\n",
       "      <td>1400000</td>\n",
       "      <td>backend engineer</td>\n",
       "      <td>2019.0</td>\n",
       "    </tr>\n",
       "    <tr>\n",
       "      <th>80668</th>\n",
       "      <td></td>\n",
       "      <td>2019.0</td>\n",
       "      <td>850000</td>\n",
       "      <td>nan</td>\n",
       "      <td>2019.0</td>\n",
       "    </tr>\n",
       "  </tbody>\n",
       "</table>\n",
       "</div>"
      ],
      "text/plain": [
       "       company_hash  orgyear      ctc      job_position  ctc_updated_year\n",
       "167717                2018.0  1500000  backend engineer            2020.0\n",
       "76907                 2021.0   800000               nan            2021.0\n",
       "25333                 2019.0  2000000               nan            2021.0\n",
       "202179                2016.0   500000               nan            2017.0\n",
       "84192                 2018.0  1400000  backend engineer            2019.0\n",
       "197978                2020.0  1000000               nan            2019.0\n",
       "50414                 2020.0   720000               nan            2019.0\n",
       "117571                2010.0  4500000               nan            2019.0\n",
       "127679                2019.0  1400000  backend engineer            2019.0\n",
       "80668                 2019.0   850000               nan            2019.0"
      ]
     },
     "execution_count": 152,
     "metadata": {},
     "output_type": "execute_result"
    }
   ],
   "source": [
    "df[(df[\"company_hash\"] == \"\") | (df[\"job_position\"] == \"\")].sample(10)"
   ]
  },
  {
   "cell_type": "code",
   "execution_count": 153,
   "id": "430f9042",
   "metadata": {},
   "outputs": [
    {
     "data": {
      "text/plain": [
       "98"
      ]
     },
     "execution_count": 153,
     "metadata": {},
     "output_type": "execute_result"
    }
   ],
   "source": [
    "len(df[(df[\"company_hash\"] == \"\") | (df[\"job_position\"] == \"\")])"
   ]
  },
  {
   "cell_type": "code",
   "execution_count": 154,
   "id": "15830c78",
   "metadata": {},
   "outputs": [],
   "source": [
    "# df[((df[\"company_hash\"] != \"\") & (df[\"job_position\"] != \"\"))]"
   ]
  },
  {
   "cell_type": "code",
   "execution_count": 155,
   "id": "5b066ca8",
   "metadata": {},
   "outputs": [
    {
     "data": {
      "text/html": [
       "<div>\n",
       "<style scoped>\n",
       "    .dataframe tbody tr th:only-of-type {\n",
       "        vertical-align: middle;\n",
       "    }\n",
       "\n",
       "    .dataframe tbody tr th {\n",
       "        vertical-align: top;\n",
       "    }\n",
       "\n",
       "    .dataframe thead th {\n",
       "        text-align: right;\n",
       "    }\n",
       "</style>\n",
       "<table border=\"1\" class=\"dataframe\">\n",
       "  <thead>\n",
       "    <tr style=\"text-align: right;\">\n",
       "      <th></th>\n",
       "      <th>company_hash</th>\n",
       "      <th>orgyear</th>\n",
       "      <th>ctc</th>\n",
       "      <th>job_position</th>\n",
       "      <th>ctc_updated_year</th>\n",
       "    </tr>\n",
       "  </thead>\n",
       "  <tbody>\n",
       "    <tr>\n",
       "      <th>0</th>\n",
       "      <td>atrgxnnt xzaxv</td>\n",
       "      <td>2016.0</td>\n",
       "      <td>1100000</td>\n",
       "      <td>other</td>\n",
       "      <td>2020.0</td>\n",
       "    </tr>\n",
       "    <tr>\n",
       "      <th>1</th>\n",
       "      <td>qtrxvzwt xzegwgbb rxbxnta</td>\n",
       "      <td>2018.0</td>\n",
       "      <td>449999</td>\n",
       "      <td>fullstack engineer</td>\n",
       "      <td>2019.0</td>\n",
       "    </tr>\n",
       "    <tr>\n",
       "      <th>2</th>\n",
       "      <td>ojzwnvwnxw vx</td>\n",
       "      <td>2015.0</td>\n",
       "      <td>2000000</td>\n",
       "      <td>backend engineer</td>\n",
       "      <td>2020.0</td>\n",
       "    </tr>\n",
       "    <tr>\n",
       "      <th>3</th>\n",
       "      <td>ngpgutaxv</td>\n",
       "      <td>2017.0</td>\n",
       "      <td>700000</td>\n",
       "      <td>backend engineer</td>\n",
       "      <td>2019.0</td>\n",
       "    </tr>\n",
       "    <tr>\n",
       "      <th>4</th>\n",
       "      <td>qxen sqghu</td>\n",
       "      <td>2017.0</td>\n",
       "      <td>1400000</td>\n",
       "      <td>fullstack engineer</td>\n",
       "      <td>2019.0</td>\n",
       "    </tr>\n",
       "    <tr>\n",
       "      <th>...</th>\n",
       "      <td>...</td>\n",
       "      <td>...</td>\n",
       "      <td>...</td>\n",
       "      <td>...</td>\n",
       "      <td>...</td>\n",
       "    </tr>\n",
       "    <tr>\n",
       "      <th>206918</th>\n",
       "      <td>vuurt xzw</td>\n",
       "      <td>2008.0</td>\n",
       "      <td>220000</td>\n",
       "      <td>nan</td>\n",
       "      <td>2019.0</td>\n",
       "    </tr>\n",
       "    <tr>\n",
       "      <th>206919</th>\n",
       "      <td>husqvawgb</td>\n",
       "      <td>2017.0</td>\n",
       "      <td>500000</td>\n",
       "      <td>nan</td>\n",
       "      <td>2020.0</td>\n",
       "    </tr>\n",
       "    <tr>\n",
       "      <th>206920</th>\n",
       "      <td>vwwgrxnt</td>\n",
       "      <td>2021.0</td>\n",
       "      <td>700000</td>\n",
       "      <td>nan</td>\n",
       "      <td>2021.0</td>\n",
       "    </tr>\n",
       "    <tr>\n",
       "      <th>206921</th>\n",
       "      <td>zgn vuurxwvmrt</td>\n",
       "      <td>2019.0</td>\n",
       "      <td>5100000</td>\n",
       "      <td>nan</td>\n",
       "      <td>2019.0</td>\n",
       "    </tr>\n",
       "    <tr>\n",
       "      <th>206922</th>\n",
       "      <td>bgqsvz onvzrtj</td>\n",
       "      <td>2014.0</td>\n",
       "      <td>1240000</td>\n",
       "      <td>nan</td>\n",
       "      <td>2016.0</td>\n",
       "    </tr>\n",
       "  </tbody>\n",
       "</table>\n",
       "<p>205745 rows × 5 columns</p>\n",
       "</div>"
      ],
      "text/plain": [
       "                     company_hash  orgyear      ctc        job_position  \\\n",
       "0                  atrgxnnt xzaxv   2016.0  1100000               other   \n",
       "1       qtrxvzwt xzegwgbb rxbxnta   2018.0   449999  fullstack engineer   \n",
       "2                   ojzwnvwnxw vx   2015.0  2000000    backend engineer   \n",
       "3                       ngpgutaxv   2017.0   700000    backend engineer   \n",
       "4                      qxen sqghu   2017.0  1400000  fullstack engineer   \n",
       "...                           ...      ...      ...                 ...   \n",
       "206918                  vuurt xzw   2008.0   220000                 nan   \n",
       "206919                  husqvawgb   2017.0   500000                 nan   \n",
       "206920                   vwwgrxnt   2021.0   700000                 nan   \n",
       "206921             zgn vuurxwvmrt   2019.0  5100000                 nan   \n",
       "206922             bgqsvz onvzrtj   2014.0  1240000                 nan   \n",
       "\n",
       "        ctc_updated_year  \n",
       "0                 2020.0  \n",
       "1                 2019.0  \n",
       "2                 2020.0  \n",
       "3                 2019.0  \n",
       "4                 2019.0  \n",
       "...                  ...  \n",
       "206918            2019.0  \n",
       "206919            2020.0  \n",
       "206920            2021.0  \n",
       "206921            2019.0  \n",
       "206922            2016.0  \n",
       "\n",
       "[205745 rows x 5 columns]"
      ]
     },
     "execution_count": 155,
     "metadata": {},
     "output_type": "execute_result"
    }
   ],
   "source": [
    "df = df[~((df[\"company_hash\"] == \"\") | (df[\"job_position\"] == \"\"))]\n",
    "df"
   ]
  },
  {
   "cell_type": "code",
   "execution_count": null,
   "id": "7adb5829",
   "metadata": {},
   "outputs": [],
   "source": []
  },
  {
   "cell_type": "code",
   "execution_count": 156,
   "id": "8aaaa93f",
   "metadata": {},
   "outputs": [
    {
     "data": {
      "text/plain": [
       "86"
      ]
     },
     "execution_count": 156,
     "metadata": {},
     "output_type": "execute_result"
    }
   ],
   "source": [
    "df[\"orgyear\"].isna().sum()"
   ]
  },
  {
   "cell_type": "code",
   "execution_count": 157,
   "id": "9c57e6d8",
   "metadata": {},
   "outputs": [
    {
     "data": {
      "text/plain": [
       "0         2014.0\n",
       "1         2016.0\n",
       "2         2015.0\n",
       "3         2016.0\n",
       "4         2017.0\n",
       "           ...  \n",
       "206918    2018.0\n",
       "206919    2017.0\n",
       "206920    2016.0\n",
       "206921    2020.0\n",
       "206922    2015.0\n",
       "Name: orgyear, Length: 205745, dtype: float64"
      ]
     },
     "execution_count": 157,
     "metadata": {},
     "output_type": "execute_result"
    }
   ],
   "source": [
    "df.groupby(\"company_hash\")[\"orgyear\"].transform(\"median\")"
   ]
  },
  {
   "cell_type": "code",
   "execution_count": 158,
   "id": "ebabc382",
   "metadata": {},
   "outputs": [],
   "source": [
    "df[\"orgyear\"].fillna(df['orgyear'].isnull().sum(),inplace=True)"
   ]
  },
  {
   "cell_type": "code",
   "execution_count": 159,
   "id": "6e77c32d",
   "metadata": {},
   "outputs": [
    {
     "data": {
      "text/plain": [
       "0"
      ]
     },
     "execution_count": 159,
     "metadata": {},
     "output_type": "execute_result"
    }
   ],
   "source": [
    "df[\"orgyear\"].isna().sum()"
   ]
  },
  {
   "cell_type": "code",
   "execution_count": 160,
   "id": "257b0f44",
   "metadata": {},
   "outputs": [
    {
     "data": {
      "text/html": [
       "<div>\n",
       "<style scoped>\n",
       "    .dataframe tbody tr th:only-of-type {\n",
       "        vertical-align: middle;\n",
       "    }\n",
       "\n",
       "    .dataframe tbody tr th {\n",
       "        vertical-align: top;\n",
       "    }\n",
       "\n",
       "    .dataframe thead th {\n",
       "        text-align: right;\n",
       "    }\n",
       "</style>\n",
       "<table border=\"1\" class=\"dataframe\">\n",
       "  <thead>\n",
       "    <tr style=\"text-align: right;\">\n",
       "      <th></th>\n",
       "      <th>company_hash</th>\n",
       "      <th>orgyear</th>\n",
       "      <th>ctc</th>\n",
       "      <th>job_position</th>\n",
       "      <th>ctc_updated_year</th>\n",
       "    </tr>\n",
       "  </thead>\n",
       "  <tbody>\n",
       "    <tr>\n",
       "      <th>175831</th>\n",
       "      <td>bxqtrk</td>\n",
       "      <td>2013.0</td>\n",
       "      <td>2500000</td>\n",
       "      <td>fullstack engineer</td>\n",
       "      <td>2019.0</td>\n",
       "    </tr>\n",
       "    <tr>\n",
       "      <th>49006</th>\n",
       "      <td>wxnx</td>\n",
       "      <td>2018.0</td>\n",
       "      <td>1500000</td>\n",
       "      <td>backend engineer</td>\n",
       "      <td>2021.0</td>\n",
       "    </tr>\n",
       "    <tr>\n",
       "      <th>21098</th>\n",
       "      <td>tdr</td>\n",
       "      <td>2015.0</td>\n",
       "      <td>730000</td>\n",
       "      <td>other</td>\n",
       "      <td>2020.0</td>\n",
       "    </tr>\n",
       "    <tr>\n",
       "      <th>151312</th>\n",
       "      <td>nvnv wgzohrnvzwj otqcxwto</td>\n",
       "      <td>2020.0</td>\n",
       "      <td>700000</td>\n",
       "      <td>fullstack engineer</td>\n",
       "      <td>2020.0</td>\n",
       "    </tr>\n",
       "    <tr>\n",
       "      <th>153058</th>\n",
       "      <td>vwwtznhqt</td>\n",
       "      <td>2016.0</td>\n",
       "      <td>700000</td>\n",
       "      <td>nan</td>\n",
       "      <td>2021.0</td>\n",
       "    </tr>\n",
       "  </tbody>\n",
       "</table>\n",
       "</div>"
      ],
      "text/plain": [
       "                     company_hash  orgyear      ctc        job_position  \\\n",
       "175831                     bxqtrk   2013.0  2500000  fullstack engineer   \n",
       "49006                        wxnx   2018.0  1500000    backend engineer   \n",
       "21098                         tdr   2015.0   730000               other   \n",
       "151312  nvnv wgzohrnvzwj otqcxwto   2020.0   700000  fullstack engineer   \n",
       "153058                  vwwtznhqt   2016.0   700000                 nan   \n",
       "\n",
       "        ctc_updated_year  \n",
       "175831            2019.0  \n",
       "49006             2021.0  \n",
       "21098             2020.0  \n",
       "151312            2020.0  \n",
       "153058            2021.0  "
      ]
     },
     "execution_count": 160,
     "metadata": {},
     "output_type": "execute_result"
    }
   ],
   "source": [
    "df.sample(5)"
   ]
  },
  {
   "cell_type": "code",
   "execution_count": null,
   "id": "1f421051",
   "metadata": {},
   "outputs": [],
   "source": []
  },
  {
   "cell_type": "code",
   "execution_count": null,
   "id": "0856ab33",
   "metadata": {},
   "outputs": [],
   "source": []
  },
  {
   "cell_type": "markdown",
   "id": "53c0eae7",
   "metadata": {},
   "source": [
    "# outliers : "
   ]
  },
  {
   "cell_type": "code",
   "execution_count": 161,
   "id": "659f7a58",
   "metadata": {},
   "outputs": [
    {
     "data": {
      "text/plain": [
       "2018.0    25240\n",
       "2019.0    23402\n",
       "2017.0    23237\n",
       "2016.0    23038\n",
       "2015.0    20602\n",
       "          ...  \n",
       "2107.0        1\n",
       "1972.0        1\n",
       "2101.0        1\n",
       "208.0         1\n",
       "200.0         1\n",
       "Name: orgyear, Length: 78, dtype: int64"
      ]
     },
     "execution_count": 161,
     "metadata": {},
     "output_type": "execute_result"
    }
   ],
   "source": [
    "df[\"orgyear\"].value_counts()"
   ]
  },
  {
   "cell_type": "code",
   "execution_count": 162,
   "id": "20087861",
   "metadata": {},
   "outputs": [
    {
     "data": {
      "application/javascript": [
       "\n",
       "        if (window._pyforest_update_imports_cell) { window._pyforest_update_imports_cell('import seaborn as sns'); }\n",
       "    "
      ],
      "text/plain": [
       "<IPython.core.display.Javascript object>"
      ]
     },
     "metadata": {},
     "output_type": "display_data"
    },
    {
     "data": {
      "image/png": "[encoded data removed]",
      "text/plain": [
       "<Figure size 864x576 with 1 Axes>"
      ]
     },
     "metadata": {
      "needs_background": "light"
     },
     "output_type": "display_data"
    }
   ],
   "source": [
    "sns.countplot(df[\"orgyear\"])\n",
    "plt.xticks(rotation = 90)\n",
    "plt.show()"
   ]
  },
  {
   "cell_type": "code",
   "execution_count": 163,
   "id": "477dd941",
   "metadata": {},
   "outputs": [],
   "source": [
    "# sns.histplot(np.log(df[\"orgyear\"]))"
   ]
  },
  {
   "cell_type": "code",
   "execution_count": 164,
   "id": "8d548df7",
   "metadata": {},
   "outputs": [
    {
     "data": {
      "text/plain": [
       "1990.0"
      ]
     },
     "execution_count": 164,
     "metadata": {},
     "output_type": "execute_result"
    }
   ],
   "source": [
    "df[\"orgyear\"].quantile(0.001)"
   ]
  },
  {
   "cell_type": "code",
   "execution_count": 165,
   "id": "e653a97d",
   "metadata": {},
   "outputs": [
    {
     "data": {
      "text/plain": [
       "2023.0"
      ]
     },
     "execution_count": 165,
     "metadata": {},
     "output_type": "execute_result"
    }
   ],
   "source": [
    "df[\"orgyear\"].quantile(0.999)"
   ]
  },
  {
   "cell_type": "code",
   "execution_count": 166,
   "id": "90c74663",
   "metadata": {},
   "outputs": [],
   "source": [
    "df[\"orgyear\"] = df[\"orgyear\"].clip(1990,2022)"
   ]
  },
  {
   "cell_type": "code",
   "execution_count": 167,
   "id": "b6df5daf",
   "metadata": {},
   "outputs": [
    {
     "data": {
      "application/javascript": [
       "\n",
       "        if (window._pyforest_update_imports_cell) { window._pyforest_update_imports_cell('import seaborn as sns'); }\n",
       "    "
      ],
      "text/plain": [
       "<IPython.core.display.Javascript object>"
      ]
     },
     "metadata": {},
     "output_type": "display_data"
    },
    {
     "data": {
      "image/png": "[encoded data removed]",
      "text/plain": [
       "<Figure size 864x576 with 1 Axes>"
      ]
     },
     "metadata": {
      "needs_background": "light"
     },
     "output_type": "display_data"
    }
   ],
   "source": [
    "sns.countplot(df[\"orgyear\"])\n",
    "plt.xticks(rotation = 90)\n",
    "plt.show()"
   ]
  },
  {
   "cell_type": "code",
   "execution_count": null,
   "id": "7580c145",
   "metadata": {},
   "outputs": [],
   "source": []
  },
  {
   "cell_type": "code",
   "execution_count": null,
   "id": "d7371571",
   "metadata": {},
   "outputs": [],
   "source": []
  },
  {
   "cell_type": "code",
   "execution_count": 168,
   "id": "0ef98526",
   "metadata": {},
   "outputs": [
    {
     "data": {
      "text/plain": [
       "2015.0"
      ]
     },
     "execution_count": 168,
     "metadata": {},
     "output_type": "execute_result"
    }
   ],
   "source": [
    "df[\"ctc_updated_year\"].quantile(0.001)"
   ]
  },
  {
   "cell_type": "code",
   "execution_count": 169,
   "id": "9f88ab60",
   "metadata": {},
   "outputs": [
    {
     "data": {
      "text/plain": [
       "2021.0"
      ]
     },
     "execution_count": 169,
     "metadata": {},
     "output_type": "execute_result"
    }
   ],
   "source": [
    "df[\"ctc_updated_year\"].quantile(0.99)"
   ]
  },
  {
   "cell_type": "code",
   "execution_count": 170,
   "id": "5efcf866",
   "metadata": {},
   "outputs": [
    {
     "data": {
      "application/javascript": [
       "\n",
       "        if (window._pyforest_update_imports_cell) { window._pyforest_update_imports_cell('import seaborn as sns'); }\n",
       "    "
      ],
      "text/plain": [
       "<IPython.core.display.Javascript object>"
      ]
     },
     "metadata": {},
     "output_type": "display_data"
    },
    {
     "data": {
      "image/png": "[encoded data removed]",
      "text/plain": [
       "<Figure size 864x576 with 1 Axes>"
      ]
     },
     "metadata": {
      "needs_background": "light"
     },
     "output_type": "display_data"
    }
   ],
   "source": [
    "sns.countplot(df[\"ctc_updated_year\"])\n",
    "plt.xticks(rotation = 90)\n",
    "plt.show()"
   ]
  },
  {
   "cell_type": "code",
   "execution_count": null,
   "id": "f252310d",
   "metadata": {},
   "outputs": [],
   "source": []
  },
  {
   "cell_type": "code",
   "execution_count": null,
   "id": "dac05781",
   "metadata": {},
   "outputs": [],
   "source": []
  },
  {
   "cell_type": "code",
   "execution_count": 171,
   "id": "97219404",
   "metadata": {},
   "outputs": [
    {
     "data": {
      "text/plain": [
       "37000.0"
      ]
     },
     "execution_count": 171,
     "metadata": {},
     "output_type": "execute_result"
    }
   ],
   "source": [
    "df[\"ctc\"].quantile(0.01)"
   ]
  },
  {
   "cell_type": "code",
   "execution_count": 172,
   "id": "a89e675e",
   "metadata": {},
   "outputs": [
    {
     "data": {
      "text/plain": [
       "200000000.0"
      ]
     },
     "execution_count": 172,
     "metadata": {},
     "output_type": "execute_result"
    }
   ],
   "source": [
    "df[\"ctc\"].quantile(0.999)"
   ]
  },
  {
   "cell_type": "code",
   "execution_count": 173,
   "id": "76df2304",
   "metadata": {},
   "outputs": [],
   "source": [
    "df = df.loc[((df.ctc) > df.ctc.quantile(0.01)) & ((df.ctc) < df.ctc.quantile(0.99))]"
   ]
  },
  {
   "cell_type": "code",
   "execution_count": 174,
   "id": "653c9176",
   "metadata": {},
   "outputs": [
    {
     "data": {
      "text/html": [
       "<div>\n",
       "<style scoped>\n",
       "    .dataframe tbody tr th:only-of-type {\n",
       "        vertical-align: middle;\n",
       "    }\n",
       "\n",
       "    .dataframe tbody tr th {\n",
       "        vertical-align: top;\n",
       "    }\n",
       "\n",
       "    .dataframe thead th {\n",
       "        text-align: right;\n",
       "    }\n",
       "</style>\n",
       "<table border=\"1\" class=\"dataframe\">\n",
       "  <thead>\n",
       "    <tr style=\"text-align: right;\">\n",
       "      <th></th>\n",
       "      <th>company_hash</th>\n",
       "      <th>orgyear</th>\n",
       "      <th>ctc</th>\n",
       "      <th>job_position</th>\n",
       "      <th>ctc_updated_year</th>\n",
       "    </tr>\n",
       "  </thead>\n",
       "  <tbody>\n",
       "    <tr>\n",
       "      <th>0</th>\n",
       "      <td>atrgxnnt xzaxv</td>\n",
       "      <td>2016.0</td>\n",
       "      <td>1100000</td>\n",
       "      <td>other</td>\n",
       "      <td>2020.0</td>\n",
       "    </tr>\n",
       "    <tr>\n",
       "      <th>1</th>\n",
       "      <td>qtrxvzwt xzegwgbb rxbxnta</td>\n",
       "      <td>2018.0</td>\n",
       "      <td>449999</td>\n",
       "      <td>fullstack engineer</td>\n",
       "      <td>2019.0</td>\n",
       "    </tr>\n",
       "    <tr>\n",
       "      <th>2</th>\n",
       "      <td>ojzwnvwnxw vx</td>\n",
       "      <td>2015.0</td>\n",
       "      <td>2000000</td>\n",
       "      <td>backend engineer</td>\n",
       "      <td>2020.0</td>\n",
       "    </tr>\n",
       "    <tr>\n",
       "      <th>3</th>\n",
       "      <td>ngpgutaxv</td>\n",
       "      <td>2017.0</td>\n",
       "      <td>700000</td>\n",
       "      <td>backend engineer</td>\n",
       "      <td>2019.0</td>\n",
       "    </tr>\n",
       "    <tr>\n",
       "      <th>4</th>\n",
       "      <td>qxen sqghu</td>\n",
       "      <td>2017.0</td>\n",
       "      <td>1400000</td>\n",
       "      <td>fullstack engineer</td>\n",
       "      <td>2019.0</td>\n",
       "    </tr>\n",
       "    <tr>\n",
       "      <th>...</th>\n",
       "      <td>...</td>\n",
       "      <td>...</td>\n",
       "      <td>...</td>\n",
       "      <td>...</td>\n",
       "      <td>...</td>\n",
       "    </tr>\n",
       "    <tr>\n",
       "      <th>206918</th>\n",
       "      <td>vuurt xzw</td>\n",
       "      <td>2008.0</td>\n",
       "      <td>220000</td>\n",
       "      <td>nan</td>\n",
       "      <td>2019.0</td>\n",
       "    </tr>\n",
       "    <tr>\n",
       "      <th>206919</th>\n",
       "      <td>husqvawgb</td>\n",
       "      <td>2017.0</td>\n",
       "      <td>500000</td>\n",
       "      <td>nan</td>\n",
       "      <td>2020.0</td>\n",
       "    </tr>\n",
       "    <tr>\n",
       "      <th>206920</th>\n",
       "      <td>vwwgrxnt</td>\n",
       "      <td>2021.0</td>\n",
       "      <td>700000</td>\n",
       "      <td>nan</td>\n",
       "      <td>2021.0</td>\n",
       "    </tr>\n",
       "    <tr>\n",
       "      <th>206921</th>\n",
       "      <td>zgn vuurxwvmrt</td>\n",
       "      <td>2019.0</td>\n",
       "      <td>5100000</td>\n",
       "      <td>nan</td>\n",
       "      <td>2019.0</td>\n",
       "    </tr>\n",
       "    <tr>\n",
       "      <th>206922</th>\n",
       "      <td>bgqsvz onvzrtj</td>\n",
       "      <td>2014.0</td>\n",
       "      <td>1240000</td>\n",
       "      <td>nan</td>\n",
       "      <td>2016.0</td>\n",
       "    </tr>\n",
       "  </tbody>\n",
       "</table>\n",
       "<p>201625 rows × 5 columns</p>\n",
       "</div>"
      ],
      "text/plain": [
       "                     company_hash  orgyear      ctc        job_position  \\\n",
       "0                  atrgxnnt xzaxv   2016.0  1100000               other   \n",
       "1       qtrxvzwt xzegwgbb rxbxnta   2018.0   449999  fullstack engineer   \n",
       "2                   ojzwnvwnxw vx   2015.0  2000000    backend engineer   \n",
       "3                       ngpgutaxv   2017.0   700000    backend engineer   \n",
       "4                      qxen sqghu   2017.0  1400000  fullstack engineer   \n",
       "...                           ...      ...      ...                 ...   \n",
       "206918                  vuurt xzw   2008.0   220000                 nan   \n",
       "206919                  husqvawgb   2017.0   500000                 nan   \n",
       "206920                   vwwgrxnt   2021.0   700000                 nan   \n",
       "206921             zgn vuurxwvmrt   2019.0  5100000                 nan   \n",
       "206922             bgqsvz onvzrtj   2014.0  1240000                 nan   \n",
       "\n",
       "        ctc_updated_year  \n",
       "0                 2020.0  \n",
       "1                 2019.0  \n",
       "2                 2020.0  \n",
       "3                 2019.0  \n",
       "4                 2019.0  \n",
       "...                  ...  \n",
       "206918            2019.0  \n",
       "206919            2020.0  \n",
       "206920            2021.0  \n",
       "206921            2019.0  \n",
       "206922            2016.0  \n",
       "\n",
       "[201625 rows x 5 columns]"
      ]
     },
     "execution_count": 174,
     "metadata": {},
     "output_type": "execute_result"
    }
   ],
   "source": [
    "df"
   ]
  },
  {
   "cell_type": "code",
   "execution_count": 175,
   "id": "1f8498f2",
   "metadata": {},
   "outputs": [
    {
     "data": {
      "application/javascript": [
       "\n",
       "        if (window._pyforest_update_imports_cell) { window._pyforest_update_imports_cell('import seaborn as sns'); }\n",
       "    "
      ],
      "text/plain": [
       "<IPython.core.display.Javascript object>"
      ]
     },
     "metadata": {},
     "output_type": "display_data"
    },
    {
     "data": {
      "text/plain": [
       "<AxesSubplot:xlabel='ctc', ylabel='Density'>"
      ]
     },
     "execution_count": 175,
     "metadata": {},
     "output_type": "execute_result"
    },
    {
     "data": {
      "image/png": "[encoded data removed]",
      "text/plain": [
       "<Figure size 864x576 with 1 Axes>"
      ]
     },
     "metadata": {
      "needs_background": "light"
     },
     "output_type": "display_data"
    }
   ],
   "source": [
    "sns.distplot(df[\"ctc\"])"
   ]
  },
  {
   "cell_type": "code",
   "execution_count": null,
   "id": "45f9a9e9",
   "metadata": {},
   "outputs": [],
   "source": []
  },
  {
   "cell_type": "code",
   "execution_count": 176,
   "id": "9deb8dce",
   "metadata": {},
   "outputs": [],
   "source": [
    "df.loc[df['job_position']=='nan', 'job_position']=np.nan"
   ]
  },
  {
   "cell_type": "code",
   "execution_count": 177,
   "id": "4ec52169",
   "metadata": {},
   "outputs": [],
   "source": [
    "df.loc[df[\"company_hash\"]==\"nan\",\"company_hash\"] = np.nan"
   ]
  },
  {
   "cell_type": "code",
   "execution_count": null,
   "id": "e742370e",
   "metadata": {},
   "outputs": [],
   "source": []
  },
  {
   "cell_type": "code",
   "execution_count": null,
   "id": "b82a9957",
   "metadata": {},
   "outputs": [],
   "source": []
  },
  {
   "cell_type": "code",
   "execution_count": null,
   "id": "ce87c594",
   "metadata": {},
   "outputs": [],
   "source": []
  },
  {
   "cell_type": "code",
   "execution_count": null,
   "id": "88c5ef28",
   "metadata": {},
   "outputs": [],
   "source": []
  },
  {
   "cell_type": "code",
   "execution_count": 178,
   "id": "dd1620db",
   "metadata": {},
   "outputs": [
    {
     "data": {
      "text/plain": [
       "nvnv wgzohrnvzwj otqcxwto    8215\n",
       "xzegojo                      5319\n",
       "vbvkgz                       3409\n",
       "zgn vuurxwvmrt vwwghzn       3332\n",
       "wgszxkvzn                    3189\n",
       "                             ... \n",
       "wrgha xzegntwy                  1\n",
       "eghznvxz ucn rxbxnta            1\n",
       "lgjj                            1\n",
       "obw xzegntwy                    1\n",
       "bvptbjnqxu td vbvkgz            1\n",
       "Name: company_hash, Length: 36094, dtype: int64"
      ]
     },
     "execution_count": 178,
     "metadata": {},
     "output_type": "execute_result"
    }
   ],
   "source": [
    "df.company_hash.value_counts(dropna=False)"
   ]
  },
  {
   "cell_type": "code",
   "execution_count": 179,
   "id": "ccb7b731",
   "metadata": {},
   "outputs": [
    {
     "data": {
      "text/plain": [
       "NaN                   51691\n",
       "backend engineer      42753\n",
       "fullstack engineer    25422\n",
       "other                 17350\n",
       "frontend engineer     10253\n",
       "                      ...  \n",
       "lead engineer ii          1\n",
       "sales manager             1\n",
       "associate l               1\n",
       "traineeintern             1\n",
       "azure data factory        1\n",
       "Name: job_position, Length: 834, dtype: int64"
      ]
     },
     "execution_count": 179,
     "metadata": {},
     "output_type": "execute_result"
    }
   ],
   "source": [
    "df.job_position.value_counts(dropna=False)"
   ]
  },
  {
   "cell_type": "code",
   "execution_count": null,
   "id": "8e1863a9",
   "metadata": {},
   "outputs": [],
   "source": []
  },
  {
   "cell_type": "markdown",
   "id": "a7b606ce",
   "metadata": {},
   "source": [
    "## masked company name to \"Others\" having count less than 5 "
   ]
  },
  {
   "cell_type": "code",
   "execution_count": 180,
   "id": "ead4e1d2",
   "metadata": {},
   "outputs": [],
   "source": [
    "df.loc[df.groupby(\"company_hash\")[\"ctc\"].transform(\"count\") < 5,\"company_hash\"] = \"Others\""
   ]
  },
  {
   "cell_type": "code",
   "execution_count": 181,
   "id": "7fad46de",
   "metadata": {},
   "outputs": [
    {
     "data": {
      "text/plain": [
       "46434"
      ]
     },
     "execution_count": 181,
     "metadata": {},
     "output_type": "execute_result"
    }
   ],
   "source": [
    "(df[\"company_hash\"] == \"Others\").sum()"
   ]
  },
  {
   "cell_type": "code",
   "execution_count": 182,
   "id": "0a7ac762",
   "metadata": {},
   "outputs": [
    {
     "data": {
      "text/plain": [
       "Others                           46434\n",
       "nvnv wgzohrnvzwj otqcxwto         8215\n",
       "xzegojo                           5319\n",
       "vbvkgz                            3409\n",
       "zgn vuurxwvmrt vwwghzn            3332\n",
       "                                 ...  \n",
       "sgaxsxn stztqvr xzohqvzwt            5\n",
       "gmotoogqj                            5\n",
       "lvrvz ntwyzgrgsxto wgzohrnxzs        5\n",
       "bxwqgonqvntsj                        5\n",
       "fxuqg                                5\n",
       "Name: company_hash, Length: 3730, dtype: int64"
      ]
     },
     "execution_count": 182,
     "metadata": {},
     "output_type": "execute_result"
    }
   ],
   "source": [
    "df.company_hash.value_counts(dropna=False)"
   ]
  },
  {
   "cell_type": "code",
   "execution_count": null,
   "id": "445a7814",
   "metadata": {},
   "outputs": [],
   "source": []
  },
  {
   "cell_type": "code",
   "execution_count": 183,
   "id": "63def45a",
   "metadata": {},
   "outputs": [
    {
     "data": {
      "text/plain": [
       "count    201625.000000\n",
       "mean       2015.104769\n",
       "std           4.256063\n",
       "min        1990.000000\n",
       "25%        2013.000000\n",
       "50%        2016.000000\n",
       "75%        2018.000000\n",
       "max        2022.000000\n",
       "Name: orgyear, dtype: float64"
      ]
     },
     "execution_count": 183,
     "metadata": {},
     "output_type": "execute_result"
    }
   ],
   "source": [
    "df['orgyear'].describe()"
   ]
  },
  {
   "cell_type": "code",
   "execution_count": 184,
   "id": "aef12dc8",
   "metadata": {},
   "outputs": [],
   "source": [
    "# years of experience \n",
    "df[\"years_of_experience_in_organization\"] = 2023 - df[\"orgyear\"] \n"
   ]
  },
  {
   "cell_type": "code",
   "execution_count": 185,
   "id": "8a49504e",
   "metadata": {},
   "outputs": [
    {
     "data": {
      "text/html": [
       "<div>\n",
       "<style scoped>\n",
       "    .dataframe tbody tr th:only-of-type {\n",
       "        vertical-align: middle;\n",
       "    }\n",
       "\n",
       "    .dataframe tbody tr th {\n",
       "        vertical-align: top;\n",
       "    }\n",
       "\n",
       "    .dataframe thead th {\n",
       "        text-align: right;\n",
       "    }\n",
       "</style>\n",
       "<table border=\"1\" class=\"dataframe\">\n",
       "  <thead>\n",
       "    <tr style=\"text-align: right;\">\n",
       "      <th></th>\n",
       "      <th>company_hash</th>\n",
       "      <th>orgyear</th>\n",
       "      <th>ctc</th>\n",
       "      <th>job_position</th>\n",
       "      <th>ctc_updated_year</th>\n",
       "      <th>years_of_experience_in_organization</th>\n",
       "    </tr>\n",
       "  </thead>\n",
       "  <tbody>\n",
       "    <tr>\n",
       "      <th>157723</th>\n",
       "      <td>Others</td>\n",
       "      <td>2019.0</td>\n",
       "      <td>480999</td>\n",
       "      <td>NaN</td>\n",
       "      <td>2018.0</td>\n",
       "      <td>4.0</td>\n",
       "    </tr>\n",
       "    <tr>\n",
       "      <th>85654</th>\n",
       "      <td>xzegojo</td>\n",
       "      <td>2018.0</td>\n",
       "      <td>900000</td>\n",
       "      <td>other</td>\n",
       "      <td>2020.0</td>\n",
       "      <td>5.0</td>\n",
       "    </tr>\n",
       "  </tbody>\n",
       "</table>\n",
       "</div>"
      ],
      "text/plain": [
       "       company_hash  orgyear     ctc job_position  ctc_updated_year  \\\n",
       "157723       Others   2019.0  480999          NaN            2018.0   \n",
       "85654       xzegojo   2018.0  900000        other            2020.0   \n",
       "\n",
       "        years_of_experience_in_organization  \n",
       "157723                                  4.0  \n",
       "85654                                   5.0  "
      ]
     },
     "execution_count": 185,
     "metadata": {},
     "output_type": "execute_result"
    }
   ],
   "source": [
    "df.sample(2)"
   ]
  },
  {
   "cell_type": "code",
   "execution_count": 186,
   "id": "e6acb9d1",
   "metadata": {},
   "outputs": [
    {
     "data": {
      "application/javascript": [
       "\n",
       "        if (window._pyforest_update_imports_cell) { window._pyforest_update_imports_cell('import seaborn as sns'); }\n",
       "    "
      ],
      "text/plain": [
       "<IPython.core.display.Javascript object>"
      ]
     },
     "metadata": {},
     "output_type": "display_data"
    },
    {
     "data": {
      "text/plain": [
       "<AxesSubplot:xlabel='years_of_experience_in_organization', ylabel='count'>"
      ]
     },
     "execution_count": 186,
     "metadata": {},
     "output_type": "execute_result"
    },
    {
     "data": {
      "image/png": "[encoded data removed]",
      "text/plain": [
       "<Figure size 864x576 with 1 Axes>"
      ]
     },
     "metadata": {
      "needs_background": "light"
     },
     "output_type": "display_data"
    }
   ],
   "source": [
    "sns.countplot(df[\"years_of_experience_in_organization\"])"
   ]
  },
  {
   "cell_type": "code",
   "execution_count": null,
   "id": "2c345755",
   "metadata": {},
   "outputs": [],
   "source": []
  },
  {
   "cell_type": "code",
   "execution_count": null,
   "id": "9a586286",
   "metadata": {},
   "outputs": [],
   "source": []
  },
  {
   "cell_type": "code",
   "execution_count": 187,
   "id": "e6cb6061",
   "metadata": {},
   "outputs": [
    {
     "data": {
      "text/plain": [
       "37683"
      ]
     },
     "execution_count": 187,
     "metadata": {},
     "output_type": "execute_result"
    }
   ],
   "source": [
    "df.duplicated().sum()\n"
   ]
  },
  {
   "cell_type": "code",
   "execution_count": 188,
   "id": "9e1a53a2",
   "metadata": {},
   "outputs": [
    {
     "data": {
      "text/plain": [
       "(163942, 6)"
      ]
     },
     "execution_count": 188,
     "metadata": {},
     "output_type": "execute_result"
    }
   ],
   "source": [
    "df.drop_duplicates(inplace=True)\n",
    "df.shape"
   ]
  },
  {
   "cell_type": "code",
   "execution_count": 189,
   "id": "0e6a2ed9",
   "metadata": {},
   "outputs": [
    {
     "data": {
      "text/plain": [
       "company_hash                              42\n",
       "orgyear                                    0\n",
       "ctc                                        0\n",
       "job_position                           36745\n",
       "ctc_updated_year                           0\n",
       "years_of_experience_in_organization        0\n",
       "dtype: int64"
      ]
     },
     "execution_count": 189,
     "metadata": {},
     "output_type": "execute_result"
    }
   ],
   "source": [
    "df.isna().sum()\n"
   ]
  },
  {
   "cell_type": "code",
   "execution_count": null,
   "id": "2104d643",
   "metadata": {},
   "outputs": [],
   "source": []
  },
  {
   "cell_type": "code",
   "execution_count": 190,
   "id": "9e36825c",
   "metadata": {},
   "outputs": [
    {
     "data": {
      "text/plain": [
       "7181"
      ]
     },
     "execution_count": 190,
     "metadata": {},
     "output_type": "execute_result"
    }
   ],
   "source": [
    "# records having ctc_updated_year higher than their organization joining year\n",
    "(df[\"ctc_updated_year\"] < df[\"orgyear\"]).sum()"
   ]
  },
  {
   "cell_type": "code",
   "execution_count": 191,
   "id": "8c5312c0",
   "metadata": {},
   "outputs": [],
   "source": [
    "df.ctc_updated_year = df[[\"ctc_updated_year\",\"orgyear\"]].max(axis = 1)"
   ]
  },
  {
   "cell_type": "code",
   "execution_count": 192,
   "id": "f0f14e56",
   "metadata": {},
   "outputs": [
    {
     "data": {
      "text/plain": [
       "0"
      ]
     },
     "execution_count": 192,
     "metadata": {},
     "output_type": "execute_result"
    }
   ],
   "source": [
    "(df[\"ctc_updated_year\"] < df[\"orgyear\"]).sum()"
   ]
  },
  {
   "cell_type": "code",
   "execution_count": 193,
   "id": "83a3c5cd",
   "metadata": {},
   "outputs": [
    {
     "data": {
      "text/html": [
       "<div>\n",
       "<style scoped>\n",
       "    .dataframe tbody tr th:only-of-type {\n",
       "        vertical-align: middle;\n",
       "    }\n",
       "\n",
       "    .dataframe tbody tr th {\n",
       "        vertical-align: top;\n",
       "    }\n",
       "\n",
       "    .dataframe thead th {\n",
       "        text-align: right;\n",
       "    }\n",
       "</style>\n",
       "<table border=\"1\" class=\"dataframe\">\n",
       "  <thead>\n",
       "    <tr style=\"text-align: right;\">\n",
       "      <th></th>\n",
       "      <th>company_hash</th>\n",
       "      <th>orgyear</th>\n",
       "      <th>ctc</th>\n",
       "      <th>job_position</th>\n",
       "      <th>ctc_updated_year</th>\n",
       "      <th>years_of_experience_in_organization</th>\n",
       "    </tr>\n",
       "  </thead>\n",
       "  <tbody>\n",
       "    <tr>\n",
       "      <th>198803</th>\n",
       "      <td>bgqsvz onvzrtj</td>\n",
       "      <td>2017.0</td>\n",
       "      <td>1600000</td>\n",
       "      <td>NaN</td>\n",
       "      <td>2019.0</td>\n",
       "      <td>6.0</td>\n",
       "    </tr>\n",
       "    <tr>\n",
       "      <th>178348</th>\n",
       "      <td>bjznqvlvmgzs</td>\n",
       "      <td>2017.0</td>\n",
       "      <td>1970000</td>\n",
       "      <td>NaN</td>\n",
       "      <td>2017.0</td>\n",
       "      <td>6.0</td>\n",
       "    </tr>\n",
       "  </tbody>\n",
       "</table>\n",
       "</div>"
      ],
      "text/plain": [
       "          company_hash  orgyear      ctc job_position  ctc_updated_year  \\\n",
       "198803  bgqsvz onvzrtj   2017.0  1600000          NaN            2019.0   \n",
       "178348    bjznqvlvmgzs   2017.0  1970000          NaN            2017.0   \n",
       "\n",
       "        years_of_experience_in_organization  \n",
       "198803                                  6.0  \n",
       "178348                                  6.0  "
      ]
     },
     "execution_count": 193,
     "metadata": {},
     "output_type": "execute_result"
    }
   ],
   "source": [
    "df.sample(2)"
   ]
  },
  {
   "cell_type": "code",
   "execution_count": null,
   "id": "68d98889",
   "metadata": {},
   "outputs": [],
   "source": []
  },
  {
   "cell_type": "code",
   "execution_count": 194,
   "id": "cfb99a4a",
   "metadata": {},
   "outputs": [],
   "source": [
    "#Filling null values with others  -- if not done before\n",
    "df['job_position'] = df['job_position'].fillna('Others')\n",
    "df['company_hash'] = df['company_hash'].fillna('Others')"
   ]
  },
  {
   "cell_type": "code",
   "execution_count": null,
   "id": "d36a8e7f",
   "metadata": {},
   "outputs": [],
   "source": []
  },
  {
   "cell_type": "code",
   "execution_count": 195,
   "id": "fc00506f",
   "metadata": {},
   "outputs": [
    {
     "data": {
      "text/plain": [
       "company_hash                           0\n",
       "orgyear                                0\n",
       "ctc                                    0\n",
       "job_position                           0\n",
       "ctc_updated_year                       0\n",
       "years_of_experience_in_organization    0\n",
       "dtype: int64"
      ]
     },
     "execution_count": 195,
     "metadata": {},
     "output_type": "execute_result"
    }
   ],
   "source": [
    "df.isna().sum()\n"
   ]
  },
  {
   "cell_type": "code",
   "execution_count": null,
   "id": "8e42d55f",
   "metadata": {},
   "outputs": [],
   "source": []
  },
  {
   "cell_type": "code",
   "execution_count": null,
   "id": "7779b60b",
   "metadata": {},
   "outputs": [],
   "source": []
  },
  {
   "cell_type": "code",
   "execution_count": 196,
   "id": "fc07afe1",
   "metadata": {},
   "outputs": [
    {
     "data": {
      "text/plain": [
       "1061"
      ]
     },
     "execution_count": 196,
     "metadata": {},
     "output_type": "execute_result"
    }
   ],
   "source": [
    "df.duplicated().sum()\n"
   ]
  },
  {
   "cell_type": "code",
   "execution_count": 197,
   "id": "8926838c",
   "metadata": {},
   "outputs": [],
   "source": [
    "# df.drop_duplicates(inplace=True)\n"
   ]
  },
  {
   "cell_type": "code",
   "execution_count": null,
   "id": "0cf25da2",
   "metadata": {},
   "outputs": [],
   "source": []
  },
  {
   "cell_type": "code",
   "execution_count": 198,
   "id": "1634f072",
   "metadata": {},
   "outputs": [
    {
     "data": {
      "text/html": [
       "<div>\n",
       "<style scoped>\n",
       "    .dataframe tbody tr th:only-of-type {\n",
       "        vertical-align: middle;\n",
       "    }\n",
       "\n",
       "    .dataframe tbody tr th {\n",
       "        vertical-align: top;\n",
       "    }\n",
       "\n",
       "    .dataframe thead th {\n",
       "        text-align: right;\n",
       "    }\n",
       "</style>\n",
       "<table border=\"1\" class=\"dataframe\">\n",
       "  <thead>\n",
       "    <tr style=\"text-align: right;\">\n",
       "      <th></th>\n",
       "      <th>orgyear</th>\n",
       "      <th>ctc</th>\n",
       "      <th>ctc_updated_year</th>\n",
       "      <th>years_of_experience_in_organization</th>\n",
       "    </tr>\n",
       "  </thead>\n",
       "  <tbody>\n",
       "    <tr>\n",
       "      <th>count</th>\n",
       "      <td>163942.000000</td>\n",
       "      <td>1.639420e+05</td>\n",
       "      <td>163942.000000</td>\n",
       "      <td>163942.000000</td>\n",
       "    </tr>\n",
       "    <tr>\n",
       "      <th>mean</th>\n",
       "      <td>2014.772218</td>\n",
       "      <td>1.425498e+06</td>\n",
       "      <td>2019.595540</td>\n",
       "      <td>8.227782</td>\n",
       "    </tr>\n",
       "    <tr>\n",
       "      <th>std</th>\n",
       "      <td>4.402053</td>\n",
       "      <td>1.303985e+06</td>\n",
       "      <td>1.334962</td>\n",
       "      <td>4.402053</td>\n",
       "    </tr>\n",
       "    <tr>\n",
       "      <th>min</th>\n",
       "      <td>1990.000000</td>\n",
       "      <td>3.800000e+04</td>\n",
       "      <td>2015.000000</td>\n",
       "      <td>1.000000</td>\n",
       "    </tr>\n",
       "    <tr>\n",
       "      <th>25%</th>\n",
       "      <td>2013.000000</td>\n",
       "      <td>6.000000e+05</td>\n",
       "      <td>2019.000000</td>\n",
       "      <td>5.000000</td>\n",
       "    </tr>\n",
       "    <tr>\n",
       "      <th>50%</th>\n",
       "      <td>2016.000000</td>\n",
       "      <td>1.039999e+06</td>\n",
       "      <td>2020.000000</td>\n",
       "      <td>7.000000</td>\n",
       "    </tr>\n",
       "    <tr>\n",
       "      <th>75%</th>\n",
       "      <td>2018.000000</td>\n",
       "      <td>1.800000e+06</td>\n",
       "      <td>2021.000000</td>\n",
       "      <td>10.000000</td>\n",
       "    </tr>\n",
       "    <tr>\n",
       "      <th>max</th>\n",
       "      <td>2022.000000</td>\n",
       "      <td>1.250000e+07</td>\n",
       "      <td>2022.000000</td>\n",
       "      <td>33.000000</td>\n",
       "    </tr>\n",
       "  </tbody>\n",
       "</table>\n",
       "</div>"
      ],
      "text/plain": [
       "             orgyear           ctc  ctc_updated_year  \\\n",
       "count  163942.000000  1.639420e+05     163942.000000   \n",
       "mean     2014.772218  1.425498e+06       2019.595540   \n",
       "std         4.402053  1.303985e+06          1.334962   \n",
       "min      1990.000000  3.800000e+04       2015.000000   \n",
       "25%      2013.000000  6.000000e+05       2019.000000   \n",
       "50%      2016.000000  1.039999e+06       2020.000000   \n",
       "75%      2018.000000  1.800000e+06       2021.000000   \n",
       "max      2022.000000  1.250000e+07       2022.000000   \n",
       "\n",
       "       years_of_experience_in_organization  \n",
       "count                        163942.000000  \n",
       "mean                              8.227782  \n",
       "std                               4.402053  \n",
       "min                               1.000000  \n",
       "25%                               5.000000  \n",
       "50%                               7.000000  \n",
       "75%                              10.000000  \n",
       "max                              33.000000  "
      ]
     },
     "execution_count": 198,
     "metadata": {},
     "output_type": "execute_result"
    }
   ],
   "source": [
    "df.describe()"
   ]
  },
  {
   "cell_type": "code",
   "execution_count": null,
   "id": "dbc40048",
   "metadata": {},
   "outputs": [],
   "source": []
  },
  {
   "cell_type": "code",
   "execution_count": 199,
   "id": "b28186a1",
   "metadata": {},
   "outputs": [
    {
     "name": "stdout",
     "output_type": "stream",
     "text": [
      "<class 'pandas.core.frame.DataFrame'>\n",
      "Int64Index: 163942 entries, 0 to 206922\n",
      "Data columns (total 6 columns):\n",
      " #   Column                               Non-Null Count   Dtype  \n",
      "---  ------                               --------------   -----  \n",
      " 0   company_hash                         163942 non-null  object \n",
      " 1   orgyear                              163942 non-null  float64\n",
      " 2   ctc                                  163942 non-null  int64  \n",
      " 3   job_position                         163942 non-null  object \n",
      " 4   ctc_updated_year                     163942 non-null  float64\n",
      " 5   years_of_experience_in_organization  163942 non-null  float64\n",
      "dtypes: float64(3), int64(1), object(2)\n",
      "memory usage: 8.8+ MB\n"
     ]
    }
   ],
   "source": [
    "df.info()"
   ]
  },
  {
   "cell_type": "code",
   "execution_count": 200,
   "id": "a14b99c5",
   "metadata": {},
   "outputs": [
    {
     "data": {
      "application/javascript": [
       "\n",
       "        if (window._pyforest_update_imports_cell) { window._pyforest_update_imports_cell('import seaborn as sns'); }\n",
       "    "
      ],
      "text/plain": [
       "<IPython.core.display.Javascript object>"
      ]
     },
     "metadata": {},
     "output_type": "display_data"
    },
    {
     "data": {
      "text/plain": [
       "<AxesSubplot:xlabel='ctc', ylabel='years_of_experience_in_organization'>"
      ]
     },
     "execution_count": 200,
     "metadata": {},
     "output_type": "execute_result"
    },
    {
     "data": {
      "image/png": "[encoded data removed]",
      "text/plain": [
       "<Figure size 864x576 with 1 Axes>"
      ]
     },
     "metadata": {
      "needs_background": "light"
     },
     "output_type": "display_data"
    }
   ],
   "source": [
    "sns.scatterplot(df.ctc,df.years_of_experience_in_organization)"
   ]
  },
  {
   "cell_type": "code",
   "execution_count": null,
   "id": "e29ec93c",
   "metadata": {},
   "outputs": [],
   "source": []
  },
  {
   "cell_type": "code",
   "execution_count": 201,
   "id": "ba4ce778",
   "metadata": {},
   "outputs": [
    {
     "data": {
      "text/plain": [
       "Index(['company_hash', 'orgyear', 'ctc', 'job_position', 'ctc_updated_year',\n",
       "       'years_of_experience_in_organization'],\n",
       "      dtype='object')"
      ]
     },
     "execution_count": 201,
     "metadata": {},
     "output_type": "execute_result"
    }
   ],
   "source": [
    "df.columns\n"
   ]
  },
  {
   "cell_type": "markdown",
   "id": "841fc333",
   "metadata": {},
   "source": [
    "## Manual Clustering based on Company , Job position and Years of experience"
   ]
  },
  {
   "cell_type": "code",
   "execution_count": null,
   "id": "9d2f6f09",
   "metadata": {},
   "outputs": [],
   "source": []
  },
  {
   "cell_type": "code",
   "execution_count": null,
   "id": "48a70fdb",
   "metadata": {},
   "outputs": [],
   "source": []
  },
  {
   "cell_type": "code",
   "execution_count": 202,
   "id": "69acc001",
   "metadata": {},
   "outputs": [],
   "source": [
    "GROUPED_CTC = df.groupby([\"years_of_experience_in_organization\",\n",
    "                                                         \"job_position\",\n",
    "                                                         \"company_hash\"])[\"ctc\"].describe() "
   ]
  },
  {
   "cell_type": "code",
   "execution_count": null,
   "id": "5a85f72d",
   "metadata": {},
   "outputs": [],
   "source": []
  },
  {
   "cell_type": "code",
   "execution_count": 203,
   "id": "575d771c",
   "metadata": {},
   "outputs": [
    {
     "data": {
      "text/html": [
       "<div>\n",
       "<style scoped>\n",
       "    .dataframe tbody tr th:only-of-type {\n",
       "        vertical-align: middle;\n",
       "    }\n",
       "\n",
       "    .dataframe tbody tr th {\n",
       "        vertical-align: top;\n",
       "    }\n",
       "\n",
       "    .dataframe thead th {\n",
       "        text-align: right;\n",
       "    }\n",
       "</style>\n",
       "<table border=\"1\" class=\"dataframe\">\n",
       "  <thead>\n",
       "    <tr style=\"text-align: right;\">\n",
       "      <th></th>\n",
       "      <th></th>\n",
       "      <th></th>\n",
       "      <th>count</th>\n",
       "      <th>mean</th>\n",
       "      <th>std</th>\n",
       "      <th>min</th>\n",
       "      <th>25%</th>\n",
       "      <th>50%</th>\n",
       "      <th>75%</th>\n",
       "      <th>max</th>\n",
       "    </tr>\n",
       "    <tr>\n",
       "      <th>years_of_experience_in_organization</th>\n",
       "      <th>job_position</th>\n",
       "      <th>company_hash</th>\n",
       "      <th></th>\n",
       "      <th></th>\n",
       "      <th></th>\n",
       "      <th></th>\n",
       "      <th></th>\n",
       "      <th></th>\n",
       "      <th></th>\n",
       "      <th></th>\n",
       "    </tr>\n",
       "  </thead>\n",
       "  <tbody>\n",
       "    <tr>\n",
       "      <th rowspan=\"5\" valign=\"top\">1.0</th>\n",
       "      <th rowspan=\"5\" valign=\"top\">Others</th>\n",
       "      <th>Others</th>\n",
       "      <td>58.0</td>\n",
       "      <td>1.586207e+06</td>\n",
       "      <td>2.080212e+06</td>\n",
       "      <td>60000.0</td>\n",
       "      <td>407500.0</td>\n",
       "      <td>750000.0</td>\n",
       "      <td>1575000.0</td>\n",
       "      <td>10000000.0</td>\n",
       "    </tr>\n",
       "    <tr>\n",
       "      <th>agzn fgqp xz vzj gqsvzxkvnxgz</th>\n",
       "      <td>1.0</td>\n",
       "      <td>1.600000e+06</td>\n",
       "      <td>NaN</td>\n",
       "      <td>1600000.0</td>\n",
       "      <td>1600000.0</td>\n",
       "      <td>1600000.0</td>\n",
       "      <td>1600000.0</td>\n",
       "      <td>1600000.0</td>\n",
       "    </tr>\n",
       "    <tr>\n",
       "      <th>atrgxnnt</th>\n",
       "      <td>1.0</td>\n",
       "      <td>1.000000e+06</td>\n",
       "      <td>NaN</td>\n",
       "      <td>1000000.0</td>\n",
       "      <td>1000000.0</td>\n",
       "      <td>1000000.0</td>\n",
       "      <td>1000000.0</td>\n",
       "      <td>1000000.0</td>\n",
       "    </tr>\n",
       "    <tr>\n",
       "      <th>atrr</th>\n",
       "      <td>1.0</td>\n",
       "      <td>1.000000e+06</td>\n",
       "      <td>NaN</td>\n",
       "      <td>1000000.0</td>\n",
       "      <td>1000000.0</td>\n",
       "      <td>1000000.0</td>\n",
       "      <td>1000000.0</td>\n",
       "      <td>1000000.0</td>\n",
       "    </tr>\n",
       "    <tr>\n",
       "      <th>atrr ntwyzgrgsxto</th>\n",
       "      <td>2.0</td>\n",
       "      <td>1.000000e+06</td>\n",
       "      <td>2.828427e+05</td>\n",
       "      <td>800000.0</td>\n",
       "      <td>900000.0</td>\n",
       "      <td>1000000.0</td>\n",
       "      <td>1100000.0</td>\n",
       "      <td>1200000.0</td>\n",
       "    </tr>\n",
       "    <tr>\n",
       "      <th>...</th>\n",
       "      <th>...</th>\n",
       "      <th>...</th>\n",
       "      <td>...</td>\n",
       "      <td>...</td>\n",
       "      <td>...</td>\n",
       "      <td>...</td>\n",
       "      <td>...</td>\n",
       "      <td>...</td>\n",
       "      <td>...</td>\n",
       "      <td>...</td>\n",
       "    </tr>\n",
       "    <tr>\n",
       "      <th rowspan=\"5\" valign=\"top\">33.0</th>\n",
       "      <th rowspan=\"3\" valign=\"top\">qa engineer</th>\n",
       "      <th>hzxntaytvrny sqghu</th>\n",
       "      <td>1.0</td>\n",
       "      <td>5.400000e+05</td>\n",
       "      <td>NaN</td>\n",
       "      <td>540000.0</td>\n",
       "      <td>540000.0</td>\n",
       "      <td>540000.0</td>\n",
       "      <td>540000.0</td>\n",
       "      <td>540000.0</td>\n",
       "    </tr>\n",
       "    <tr>\n",
       "      <th>tmxd ogenfvqt xzaxv ucn rna</th>\n",
       "      <td>1.0</td>\n",
       "      <td>1.220000e+06</td>\n",
       "      <td>NaN</td>\n",
       "      <td>1220000.0</td>\n",
       "      <td>1220000.0</td>\n",
       "      <td>1220000.0</td>\n",
       "      <td>1220000.0</td>\n",
       "      <td>1220000.0</td>\n",
       "    </tr>\n",
       "    <tr>\n",
       "      <th>utrvnqg ogrhnxgzo ucnrna</th>\n",
       "      <td>1.0</td>\n",
       "      <td>6.000000e+05</td>\n",
       "      <td>NaN</td>\n",
       "      <td>600000.0</td>\n",
       "      <td>600000.0</td>\n",
       "      <td>600000.0</td>\n",
       "      <td>600000.0</td>\n",
       "      <td>600000.0</td>\n",
       "    </tr>\n",
       "    <tr>\n",
       "      <th>research engineers</th>\n",
       "      <th>ovbohzs qa xzonxnhnt xzaxv  atryx</th>\n",
       "      <td>1.0</td>\n",
       "      <td>1.400000e+06</td>\n",
       "      <td>NaN</td>\n",
       "      <td>1400000.0</td>\n",
       "      <td>1400000.0</td>\n",
       "      <td>1400000.0</td>\n",
       "      <td>1400000.0</td>\n",
       "      <td>1400000.0</td>\n",
       "    </tr>\n",
       "    <tr>\n",
       "      <th>support engineer</th>\n",
       "      <th>Others</th>\n",
       "      <td>2.0</td>\n",
       "      <td>3.700000e+05</td>\n",
       "      <td>3.252691e+05</td>\n",
       "      <td>140000.0</td>\n",
       "      <td>255000.0</td>\n",
       "      <td>370000.0</td>\n",
       "      <td>485000.0</td>\n",
       "      <td>600000.0</td>\n",
       "    </tr>\n",
       "  </tbody>\n",
       "</table>\n",
       "<p>66191 rows × 8 columns</p>\n",
       "</div>"
      ],
      "text/plain": [
       "                                                                                          count  \\\n",
       "years_of_experience_in_organization job_position       company_hash                               \n",
       "1.0                                 Others             Others                              58.0   \n",
       "                                                       agzn fgqp xz vzj gqsvzxkvnxgz        1.0   \n",
       "                                                       atrgxnnt                             1.0   \n",
       "                                                       atrr                                 1.0   \n",
       "                                                       atrr ntwyzgrgsxto                    2.0   \n",
       "...                                                                                         ...   \n",
       "33.0                                qa engineer        hzxntaytvrny sqghu                   1.0   \n",
       "                                                       tmxd ogenfvqt xzaxv ucn rna          1.0   \n",
       "                                                       utrvnqg ogrhnxgzo ucnrna             1.0   \n",
       "                                    research engineers ovbohzs qa xzonxnhnt xzaxv  atryx    1.0   \n",
       "                                    support engineer   Others                               2.0   \n",
       "\n",
       "                                                                                                  mean  \\\n",
       "years_of_experience_in_organization job_position       company_hash                                      \n",
       "1.0                                 Others             Others                             1.586207e+06   \n",
       "                                                       agzn fgqp xz vzj gqsvzxkvnxgz      1.600000e+06   \n",
       "                                                       atrgxnnt                           1.000000e+06   \n",
       "                                                       atrr                               1.000000e+06   \n",
       "                                                       atrr ntwyzgrgsxto                  1.000000e+06   \n",
       "...                                                                                                ...   \n",
       "33.0                                qa engineer        hzxntaytvrny sqghu                 5.400000e+05   \n",
       "                                                       tmxd ogenfvqt xzaxv ucn rna        1.220000e+06   \n",
       "                                                       utrvnqg ogrhnxgzo ucnrna           6.000000e+05   \n",
       "                                    research engineers ovbohzs qa xzonxnhnt xzaxv  atryx  1.400000e+06   \n",
       "                                    support engineer   Others                             3.700000e+05   \n",
       "\n",
       "                                                                                                   std  \\\n",
       "years_of_experience_in_organization job_position       company_hash                                      \n",
       "1.0                                 Others             Others                             2.080212e+06   \n",
       "                                                       agzn fgqp xz vzj gqsvzxkvnxgz               NaN   \n",
       "                                                       atrgxnnt                                    NaN   \n",
       "                                                       atrr                                        NaN   \n",
       "                                                       atrr ntwyzgrgsxto                  2.828427e+05   \n",
       "...                                                                                                ...   \n",
       "33.0                                qa engineer        hzxntaytvrny sqghu                          NaN   \n",
       "                                                       tmxd ogenfvqt xzaxv ucn rna                 NaN   \n",
       "                                                       utrvnqg ogrhnxgzo ucnrna                    NaN   \n",
       "                                    research engineers ovbohzs qa xzonxnhnt xzaxv  atryx           NaN   \n",
       "                                    support engineer   Others                             3.252691e+05   \n",
       "\n",
       "                                                                                                min  \\\n",
       "years_of_experience_in_organization job_position       company_hash                                   \n",
       "1.0                                 Others             Others                               60000.0   \n",
       "                                                       agzn fgqp xz vzj gqsvzxkvnxgz      1600000.0   \n",
       "                                                       atrgxnnt                           1000000.0   \n",
       "                                                       atrr                               1000000.0   \n",
       "                                                       atrr ntwyzgrgsxto                   800000.0   \n",
       "...                                                                                             ...   \n",
       "33.0                                qa engineer        hzxntaytvrny sqghu                  540000.0   \n",
       "                                                       tmxd ogenfvqt xzaxv ucn rna        1220000.0   \n",
       "                                                       utrvnqg ogrhnxgzo ucnrna            600000.0   \n",
       "                                    research engineers ovbohzs qa xzonxnhnt xzaxv  atryx  1400000.0   \n",
       "                                    support engineer   Others                              140000.0   \n",
       "\n",
       "                                                                                                25%  \\\n",
       "years_of_experience_in_organization job_position       company_hash                                   \n",
       "1.0                                 Others             Others                              407500.0   \n",
       "                                                       agzn fgqp xz vzj gqsvzxkvnxgz      1600000.0   \n",
       "                                                       atrgxnnt                           1000000.0   \n",
       "                                                       atrr                               1000000.0   \n",
       "                                                       atrr ntwyzgrgsxto                   900000.0   \n",
       "...                                                                                             ...   \n",
       "33.0                                qa engineer        hzxntaytvrny sqghu                  540000.0   \n",
       "                                                       tmxd ogenfvqt xzaxv ucn rna        1220000.0   \n",
       "                                                       utrvnqg ogrhnxgzo ucnrna            600000.0   \n",
       "                                    research engineers ovbohzs qa xzonxnhnt xzaxv  atryx  1400000.0   \n",
       "                                    support engineer   Others                              255000.0   \n",
       "\n",
       "                                                                                                50%  \\\n",
       "years_of_experience_in_organization job_position       company_hash                                   \n",
       "1.0                                 Others             Others                              750000.0   \n",
       "                                                       agzn fgqp xz vzj gqsvzxkvnxgz      1600000.0   \n",
       "                                                       atrgxnnt                           1000000.0   \n",
       "                                                       atrr                               1000000.0   \n",
       "                                                       atrr ntwyzgrgsxto                  1000000.0   \n",
       "...                                                                                             ...   \n",
       "33.0                                qa engineer        hzxntaytvrny sqghu                  540000.0   \n",
       "                                                       tmxd ogenfvqt xzaxv ucn rna        1220000.0   \n",
       "                                                       utrvnqg ogrhnxgzo ucnrna            600000.0   \n",
       "                                    research engineers ovbohzs qa xzonxnhnt xzaxv  atryx  1400000.0   \n",
       "                                    support engineer   Others                              370000.0   \n",
       "\n",
       "                                                                                                75%  \\\n",
       "years_of_experience_in_organization job_position       company_hash                                   \n",
       "1.0                                 Others             Others                             1575000.0   \n",
       "                                                       agzn fgqp xz vzj gqsvzxkvnxgz      1600000.0   \n",
       "                                                       atrgxnnt                           1000000.0   \n",
       "                                                       atrr                               1000000.0   \n",
       "                                                       atrr ntwyzgrgsxto                  1100000.0   \n",
       "...                                                                                             ...   \n",
       "33.0                                qa engineer        hzxntaytvrny sqghu                  540000.0   \n",
       "                                                       tmxd ogenfvqt xzaxv ucn rna        1220000.0   \n",
       "                                                       utrvnqg ogrhnxgzo ucnrna            600000.0   \n",
       "                                    research engineers ovbohzs qa xzonxnhnt xzaxv  atryx  1400000.0   \n",
       "                                    support engineer   Others                              485000.0   \n",
       "\n",
       "                                                                                                 max  \n",
       "years_of_experience_in_organization job_position       company_hash                                   \n",
       "1.0                                 Others             Others                             10000000.0  \n",
       "                                                       agzn fgqp xz vzj gqsvzxkvnxgz       1600000.0  \n",
       "                                                       atrgxnnt                            1000000.0  \n",
       "                                                       atrr                                1000000.0  \n",
       "                                                       atrr ntwyzgrgsxto                   1200000.0  \n",
       "...                                                                                              ...  \n",
       "33.0                                qa engineer        hzxntaytvrny sqghu                   540000.0  \n",
       "                                                       tmxd ogenfvqt xzaxv ucn rna         1220000.0  \n",
       "                                                       utrvnqg ogrhnxgzo ucnrna             600000.0  \n",
       "                                    research engineers ovbohzs qa xzonxnhnt xzaxv  atryx   1400000.0  \n",
       "                                    support engineer   Others                               600000.0  \n",
       "\n",
       "[66191 rows x 8 columns]"
      ]
     },
     "execution_count": 203,
     "metadata": {},
     "output_type": "execute_result"
    }
   ],
   "source": [
    "GROUPED_CTC"
   ]
  },
  {
   "cell_type": "code",
   "execution_count": null,
   "id": "8a80a310",
   "metadata": {},
   "outputs": [],
   "source": []
  },
  {
   "cell_type": "code",
   "execution_count": 204,
   "id": "31bf08bc",
   "metadata": {},
   "outputs": [],
   "source": [
    "df_GROUPED_CTC_BY_E_P_C = df.merge(GROUPED_CTC,\n",
    "        on = [\"years_of_experience_in_organization\",\n",
    "              \"job_position\",\n",
    "              \"company_hash\"],\n",
    "        how = \"left\")"
   ]
  },
  {
   "cell_type": "code",
   "execution_count": 205,
   "id": "e79baef4",
   "metadata": {},
   "outputs": [
    {
     "data": {
      "text/html": [
       "<div>\n",
       "<style scoped>\n",
       "    .dataframe tbody tr th:only-of-type {\n",
       "        vertical-align: middle;\n",
       "    }\n",
       "\n",
       "    .dataframe tbody tr th {\n",
       "        vertical-align: top;\n",
       "    }\n",
       "\n",
       "    .dataframe thead th {\n",
       "        text-align: right;\n",
       "    }\n",
       "</style>\n",
       "<table border=\"1\" class=\"dataframe\">\n",
       "  <thead>\n",
       "    <tr style=\"text-align: right;\">\n",
       "      <th></th>\n",
       "      <th>company_hash</th>\n",
       "      <th>orgyear</th>\n",
       "      <th>ctc</th>\n",
       "      <th>job_position</th>\n",
       "      <th>ctc_updated_year</th>\n",
       "      <th>years_of_experience_in_organization</th>\n",
       "      <th>count</th>\n",
       "      <th>mean</th>\n",
       "      <th>std</th>\n",
       "      <th>min</th>\n",
       "      <th>25%</th>\n",
       "      <th>50%</th>\n",
       "      <th>75%</th>\n",
       "      <th>max</th>\n",
       "    </tr>\n",
       "  </thead>\n",
       "  <tbody>\n",
       "    <tr>\n",
       "      <th>0</th>\n",
       "      <td>atrgxnnt xzaxv</td>\n",
       "      <td>2016.0</td>\n",
       "      <td>1100000</td>\n",
       "      <td>other</td>\n",
       "      <td>2020.0</td>\n",
       "      <td>7.0</td>\n",
       "      <td>1.0</td>\n",
       "      <td>1.100000e+06</td>\n",
       "      <td>NaN</td>\n",
       "      <td>1100000.0</td>\n",
       "      <td>1100000.0</td>\n",
       "      <td>1100000.0</td>\n",
       "      <td>1100000.0</td>\n",
       "      <td>1100000.0</td>\n",
       "    </tr>\n",
       "    <tr>\n",
       "      <th>1</th>\n",
       "      <td>qtrxvzwt xzegwgbb rxbxnta</td>\n",
       "      <td>2018.0</td>\n",
       "      <td>449999</td>\n",
       "      <td>fullstack engineer</td>\n",
       "      <td>2019.0</td>\n",
       "      <td>5.0</td>\n",
       "      <td>7.0</td>\n",
       "      <td>7.742856e+05</td>\n",
       "      <td>2.509223e+05</td>\n",
       "      <td>449999.0</td>\n",
       "      <td>610000.0</td>\n",
       "      <td>750000.0</td>\n",
       "      <td>900000.0</td>\n",
       "      <td>1200000.0</td>\n",
       "    </tr>\n",
       "    <tr>\n",
       "      <th>2</th>\n",
       "      <td>Others</td>\n",
       "      <td>2015.0</td>\n",
       "      <td>2000000</td>\n",
       "      <td>backend engineer</td>\n",
       "      <td>2020.0</td>\n",
       "      <td>8.0</td>\n",
       "      <td>440.0</td>\n",
       "      <td>1.269393e+06</td>\n",
       "      <td>1.405136e+06</td>\n",
       "      <td>41000.0</td>\n",
       "      <td>400000.0</td>\n",
       "      <td>900000.0</td>\n",
       "      <td>1600000.0</td>\n",
       "      <td>10000000.0</td>\n",
       "    </tr>\n",
       "    <tr>\n",
       "      <th>3</th>\n",
       "      <td>ngpgutaxv</td>\n",
       "      <td>2017.0</td>\n",
       "      <td>700000</td>\n",
       "      <td>backend engineer</td>\n",
       "      <td>2019.0</td>\n",
       "      <td>6.0</td>\n",
       "      <td>7.0</td>\n",
       "      <td>1.158571e+06</td>\n",
       "      <td>4.047810e+05</td>\n",
       "      <td>700000.0</td>\n",
       "      <td>825000.0</td>\n",
       "      <td>1200000.0</td>\n",
       "      <td>1405000.0</td>\n",
       "      <td>1750000.0</td>\n",
       "    </tr>\n",
       "    <tr>\n",
       "      <th>4</th>\n",
       "      <td>qxen sqghu</td>\n",
       "      <td>2017.0</td>\n",
       "      <td>1400000</td>\n",
       "      <td>fullstack engineer</td>\n",
       "      <td>2019.0</td>\n",
       "      <td>6.0</td>\n",
       "      <td>1.0</td>\n",
       "      <td>1.400000e+06</td>\n",
       "      <td>NaN</td>\n",
       "      <td>1400000.0</td>\n",
       "      <td>1400000.0</td>\n",
       "      <td>1400000.0</td>\n",
       "      <td>1400000.0</td>\n",
       "      <td>1400000.0</td>\n",
       "    </tr>\n",
       "    <tr>\n",
       "      <th>...</th>\n",
       "      <td>...</td>\n",
       "      <td>...</td>\n",
       "      <td>...</td>\n",
       "      <td>...</td>\n",
       "      <td>...</td>\n",
       "      <td>...</td>\n",
       "      <td>...</td>\n",
       "      <td>...</td>\n",
       "      <td>...</td>\n",
       "      <td>...</td>\n",
       "      <td>...</td>\n",
       "      <td>...</td>\n",
       "      <td>...</td>\n",
       "      <td>...</td>\n",
       "    </tr>\n",
       "    <tr>\n",
       "      <th>163937</th>\n",
       "      <td>vuurt xzw</td>\n",
       "      <td>2008.0</td>\n",
       "      <td>220000</td>\n",
       "      <td>Others</td>\n",
       "      <td>2019.0</td>\n",
       "      <td>15.0</td>\n",
       "      <td>1.0</td>\n",
       "      <td>2.200000e+05</td>\n",
       "      <td>NaN</td>\n",
       "      <td>220000.0</td>\n",
       "      <td>220000.0</td>\n",
       "      <td>220000.0</td>\n",
       "      <td>220000.0</td>\n",
       "      <td>220000.0</td>\n",
       "    </tr>\n",
       "    <tr>\n",
       "      <th>163938</th>\n",
       "      <td>husqvawgb</td>\n",
       "      <td>2017.0</td>\n",
       "      <td>500000</td>\n",
       "      <td>Others</td>\n",
       "      <td>2020.0</td>\n",
       "      <td>6.0</td>\n",
       "      <td>3.0</td>\n",
       "      <td>1.150000e+06</td>\n",
       "      <td>5.634714e+05</td>\n",
       "      <td>500000.0</td>\n",
       "      <td>975000.0</td>\n",
       "      <td>1450000.0</td>\n",
       "      <td>1475000.0</td>\n",
       "      <td>1500000.0</td>\n",
       "    </tr>\n",
       "    <tr>\n",
       "      <th>163939</th>\n",
       "      <td>vwwgrxnt</td>\n",
       "      <td>2021.0</td>\n",
       "      <td>700000</td>\n",
       "      <td>Others</td>\n",
       "      <td>2021.0</td>\n",
       "      <td>2.0</td>\n",
       "      <td>3.0</td>\n",
       "      <td>6.666667e+05</td>\n",
       "      <td>3.511885e+05</td>\n",
       "      <td>300000.0</td>\n",
       "      <td>500000.0</td>\n",
       "      <td>700000.0</td>\n",
       "      <td>850000.0</td>\n",
       "      <td>1000000.0</td>\n",
       "    </tr>\n",
       "    <tr>\n",
       "      <th>163940</th>\n",
       "      <td>zgn vuurxwvmrt</td>\n",
       "      <td>2019.0</td>\n",
       "      <td>5100000</td>\n",
       "      <td>Others</td>\n",
       "      <td>2019.0</td>\n",
       "      <td>4.0</td>\n",
       "      <td>118.0</td>\n",
       "      <td>1.412015e+06</td>\n",
       "      <td>1.715935e+06</td>\n",
       "      <td>45000.0</td>\n",
       "      <td>400000.0</td>\n",
       "      <td>735000.0</td>\n",
       "      <td>1725250.0</td>\n",
       "      <td>10000000.0</td>\n",
       "    </tr>\n",
       "    <tr>\n",
       "      <th>163941</th>\n",
       "      <td>bgqsvz onvzrtj</td>\n",
       "      <td>2014.0</td>\n",
       "      <td>1240000</td>\n",
       "      <td>Others</td>\n",
       "      <td>2016.0</td>\n",
       "      <td>9.0</td>\n",
       "      <td>9.0</td>\n",
       "      <td>1.693333e+06</td>\n",
       "      <td>3.484250e+05</td>\n",
       "      <td>1200000.0</td>\n",
       "      <td>1500000.0</td>\n",
       "      <td>1700000.0</td>\n",
       "      <td>1900000.0</td>\n",
       "      <td>2200000.0</td>\n",
       "    </tr>\n",
       "  </tbody>\n",
       "</table>\n",
       "<p>163942 rows × 14 columns</p>\n",
       "</div>"
      ],
      "text/plain": [
       "                     company_hash  orgyear      ctc        job_position  \\\n",
       "0                  atrgxnnt xzaxv   2016.0  1100000               other   \n",
       "1       qtrxvzwt xzegwgbb rxbxnta   2018.0   449999  fullstack engineer   \n",
       "2                          Others   2015.0  2000000    backend engineer   \n",
       "3                       ngpgutaxv   2017.0   700000    backend engineer   \n",
       "4                      qxen sqghu   2017.0  1400000  fullstack engineer   \n",
       "...                           ...      ...      ...                 ...   \n",
       "163937                  vuurt xzw   2008.0   220000              Others   \n",
       "163938                  husqvawgb   2017.0   500000              Others   \n",
       "163939                   vwwgrxnt   2021.0   700000              Others   \n",
       "163940             zgn vuurxwvmrt   2019.0  5100000              Others   \n",
       "163941             bgqsvz onvzrtj   2014.0  1240000              Others   \n",
       "\n",
       "        ctc_updated_year  years_of_experience_in_organization  count  \\\n",
       "0                 2020.0                                  7.0    1.0   \n",
       "1                 2019.0                                  5.0    7.0   \n",
       "2                 2020.0                                  8.0  440.0   \n",
       "3                 2019.0                                  6.0    7.0   \n",
       "4                 2019.0                                  6.0    1.0   \n",
       "...                  ...                                  ...    ...   \n",
       "163937            2019.0                                 15.0    1.0   \n",
       "163938            2020.0                                  6.0    3.0   \n",
       "163939            2021.0                                  2.0    3.0   \n",
       "163940            2019.0                                  4.0  118.0   \n",
       "163941            2016.0                                  9.0    9.0   \n",
       "\n",
       "                mean           std        min        25%        50%  \\\n",
       "0       1.100000e+06           NaN  1100000.0  1100000.0  1100000.0   \n",
       "1       7.742856e+05  2.509223e+05   449999.0   610000.0   750000.0   \n",
       "2       1.269393e+06  1.405136e+06    41000.0   400000.0   900000.0   \n",
       "3       1.158571e+06  4.047810e+05   700000.0   825000.0  1200000.0   \n",
       "4       1.400000e+06           NaN  1400000.0  1400000.0  1400000.0   \n",
       "...              ...           ...        ...        ...        ...   \n",
       "163937  2.200000e+05           NaN   220000.0   220000.0   220000.0   \n",
       "163938  1.150000e+06  5.634714e+05   500000.0   975000.0  1450000.0   \n",
       "163939  6.666667e+05  3.511885e+05   300000.0   500000.0   700000.0   \n",
       "163940  1.412015e+06  1.715935e+06    45000.0   400000.0   735000.0   \n",
       "163941  1.693333e+06  3.484250e+05  1200000.0  1500000.0  1700000.0   \n",
       "\n",
       "              75%         max  \n",
       "0       1100000.0   1100000.0  \n",
       "1        900000.0   1200000.0  \n",
       "2       1600000.0  10000000.0  \n",
       "3       1405000.0   1750000.0  \n",
       "4       1400000.0   1400000.0  \n",
       "...           ...         ...  \n",
       "163937   220000.0    220000.0  \n",
       "163938  1475000.0   1500000.0  \n",
       "163939   850000.0   1000000.0  \n",
       "163940  1725250.0  10000000.0  \n",
       "163941  1900000.0   2200000.0  \n",
       "\n",
       "[163942 rows x 14 columns]"
      ]
     },
     "execution_count": 205,
     "metadata": {},
     "output_type": "execute_result"
    }
   ],
   "source": [
    "df_GROUPED_CTC_BY_E_P_C"
   ]
  },
  {
   "cell_type": "code",
   "execution_count": 206,
   "id": "78179436",
   "metadata": {},
   "outputs": [],
   "source": [
    "def classification(x,ctc_50,ctc_75):\n",
    "    if x < ctc_50:\n",
    "        return 3\n",
    "    elif x >= ctc_50 and x <= ctc_75:\n",
    "        return 2\n",
    "    elif  x >= ctc_75:\n",
    "        return 1"
   ]
  },
  {
   "cell_type": "code",
   "execution_count": null,
   "id": "ef8b2f23",
   "metadata": {},
   "outputs": [],
   "source": []
  },
  {
   "cell_type": "code",
   "execution_count": 207,
   "id": "c8160b84",
   "metadata": {},
   "outputs": [],
   "source": [
    "df_GROUPED_CTC_BY_E_P_C[\"designation_in_organization\"] = df_GROUPED_CTC_BY_E_P_C.apply(lambda x:classification(x[\"ctc\"],x[\"50%\"],x[\"75%\"]),axis = 1)"
   ]
  },
  {
   "cell_type": "code",
   "execution_count": 208,
   "id": "294f1e3a",
   "metadata": {},
   "outputs": [
    {
     "data": {
      "text/html": [
       "<div>\n",
       "<style scoped>\n",
       "    .dataframe tbody tr th:only-of-type {\n",
       "        vertical-align: middle;\n",
       "    }\n",
       "\n",
       "    .dataframe tbody tr th {\n",
       "        vertical-align: top;\n",
       "    }\n",
       "\n",
       "    .dataframe thead th {\n",
       "        text-align: right;\n",
       "    }\n",
       "</style>\n",
       "<table border=\"1\" class=\"dataframe\">\n",
       "  <thead>\n",
       "    <tr style=\"text-align: right;\">\n",
       "      <th></th>\n",
       "      <th>company_hash</th>\n",
       "      <th>orgyear</th>\n",
       "      <th>ctc</th>\n",
       "      <th>job_position</th>\n",
       "      <th>ctc_updated_year</th>\n",
       "      <th>years_of_experience_in_organization</th>\n",
       "      <th>count</th>\n",
       "      <th>mean</th>\n",
       "      <th>std</th>\n",
       "      <th>min</th>\n",
       "      <th>25%</th>\n",
       "      <th>50%</th>\n",
       "      <th>75%</th>\n",
       "      <th>max</th>\n",
       "      <th>designation_in_organization</th>\n",
       "    </tr>\n",
       "  </thead>\n",
       "  <tbody>\n",
       "    <tr>\n",
       "      <th>0</th>\n",
       "      <td>atrgxnnt xzaxv</td>\n",
       "      <td>2016.0</td>\n",
       "      <td>1100000</td>\n",
       "      <td>other</td>\n",
       "      <td>2020.0</td>\n",
       "      <td>7.0</td>\n",
       "      <td>1.0</td>\n",
       "      <td>1.100000e+06</td>\n",
       "      <td>NaN</td>\n",
       "      <td>1100000.0</td>\n",
       "      <td>1100000.0</td>\n",
       "      <td>1100000.0</td>\n",
       "      <td>1100000.0</td>\n",
       "      <td>1100000.0</td>\n",
       "      <td>2</td>\n",
       "    </tr>\n",
       "    <tr>\n",
       "      <th>1</th>\n",
       "      <td>qtrxvzwt xzegwgbb rxbxnta</td>\n",
       "      <td>2018.0</td>\n",
       "      <td>449999</td>\n",
       "      <td>fullstack engineer</td>\n",
       "      <td>2019.0</td>\n",
       "      <td>5.0</td>\n",
       "      <td>7.0</td>\n",
       "      <td>7.742856e+05</td>\n",
       "      <td>2.509223e+05</td>\n",
       "      <td>449999.0</td>\n",
       "      <td>610000.0</td>\n",
       "      <td>750000.0</td>\n",
       "      <td>900000.0</td>\n",
       "      <td>1200000.0</td>\n",
       "      <td>3</td>\n",
       "    </tr>\n",
       "    <tr>\n",
       "      <th>2</th>\n",
       "      <td>Others</td>\n",
       "      <td>2015.0</td>\n",
       "      <td>2000000</td>\n",
       "      <td>backend engineer</td>\n",
       "      <td>2020.0</td>\n",
       "      <td>8.0</td>\n",
       "      <td>440.0</td>\n",
       "      <td>1.269393e+06</td>\n",
       "      <td>1.405136e+06</td>\n",
       "      <td>41000.0</td>\n",
       "      <td>400000.0</td>\n",
       "      <td>900000.0</td>\n",
       "      <td>1600000.0</td>\n",
       "      <td>10000000.0</td>\n",
       "      <td>1</td>\n",
       "    </tr>\n",
       "    <tr>\n",
       "      <th>3</th>\n",
       "      <td>ngpgutaxv</td>\n",
       "      <td>2017.0</td>\n",
       "      <td>700000</td>\n",
       "      <td>backend engineer</td>\n",
       "      <td>2019.0</td>\n",
       "      <td>6.0</td>\n",
       "      <td>7.0</td>\n",
       "      <td>1.158571e+06</td>\n",
       "      <td>4.047810e+05</td>\n",
       "      <td>700000.0</td>\n",
       "      <td>825000.0</td>\n",
       "      <td>1200000.0</td>\n",
       "      <td>1405000.0</td>\n",
       "      <td>1750000.0</td>\n",
       "      <td>3</td>\n",
       "    </tr>\n",
       "    <tr>\n",
       "      <th>4</th>\n",
       "      <td>qxen sqghu</td>\n",
       "      <td>2017.0</td>\n",
       "      <td>1400000</td>\n",
       "      <td>fullstack engineer</td>\n",
       "      <td>2019.0</td>\n",
       "      <td>6.0</td>\n",
       "      <td>1.0</td>\n",
       "      <td>1.400000e+06</td>\n",
       "      <td>NaN</td>\n",
       "      <td>1400000.0</td>\n",
       "      <td>1400000.0</td>\n",
       "      <td>1400000.0</td>\n",
       "      <td>1400000.0</td>\n",
       "      <td>1400000.0</td>\n",
       "      <td>2</td>\n",
       "    </tr>\n",
       "    <tr>\n",
       "      <th>...</th>\n",
       "      <td>...</td>\n",
       "      <td>...</td>\n",
       "      <td>...</td>\n",
       "      <td>...</td>\n",
       "      <td>...</td>\n",
       "      <td>...</td>\n",
       "      <td>...</td>\n",
       "      <td>...</td>\n",
       "      <td>...</td>\n",
       "      <td>...</td>\n",
       "      <td>...</td>\n",
       "      <td>...</td>\n",
       "      <td>...</td>\n",
       "      <td>...</td>\n",
       "      <td>...</td>\n",
       "    </tr>\n",
       "    <tr>\n",
       "      <th>163937</th>\n",
       "      <td>vuurt xzw</td>\n",
       "      <td>2008.0</td>\n",
       "      <td>220000</td>\n",
       "      <td>Others</td>\n",
       "      <td>2019.0</td>\n",
       "      <td>15.0</td>\n",
       "      <td>1.0</td>\n",
       "      <td>2.200000e+05</td>\n",
       "      <td>NaN</td>\n",
       "      <td>220000.0</td>\n",
       "      <td>220000.0</td>\n",
       "      <td>220000.0</td>\n",
       "      <td>220000.0</td>\n",
       "      <td>220000.0</td>\n",
       "      <td>2</td>\n",
       "    </tr>\n",
       "    <tr>\n",
       "      <th>163938</th>\n",
       "      <td>husqvawgb</td>\n",
       "      <td>2017.0</td>\n",
       "      <td>500000</td>\n",
       "      <td>Others</td>\n",
       "      <td>2020.0</td>\n",
       "      <td>6.0</td>\n",
       "      <td>3.0</td>\n",
       "      <td>1.150000e+06</td>\n",
       "      <td>5.634714e+05</td>\n",
       "      <td>500000.0</td>\n",
       "      <td>975000.0</td>\n",
       "      <td>1450000.0</td>\n",
       "      <td>1475000.0</td>\n",
       "      <td>1500000.0</td>\n",
       "      <td>3</td>\n",
       "    </tr>\n",
       "    <tr>\n",
       "      <th>163939</th>\n",
       "      <td>vwwgrxnt</td>\n",
       "      <td>2021.0</td>\n",
       "      <td>700000</td>\n",
       "      <td>Others</td>\n",
       "      <td>2021.0</td>\n",
       "      <td>2.0</td>\n",
       "      <td>3.0</td>\n",
       "      <td>6.666667e+05</td>\n",
       "      <td>3.511885e+05</td>\n",
       "      <td>300000.0</td>\n",
       "      <td>500000.0</td>\n",
       "      <td>700000.0</td>\n",
       "      <td>850000.0</td>\n",
       "      <td>1000000.0</td>\n",
       "      <td>2</td>\n",
       "    </tr>\n",
       "    <tr>\n",
       "      <th>163940</th>\n",
       "      <td>zgn vuurxwvmrt</td>\n",
       "      <td>2019.0</td>\n",
       "      <td>5100000</td>\n",
       "      <td>Others</td>\n",
       "      <td>2019.0</td>\n",
       "      <td>4.0</td>\n",
       "      <td>118.0</td>\n",
       "      <td>1.412015e+06</td>\n",
       "      <td>1.715935e+06</td>\n",
       "      <td>45000.0</td>\n",
       "      <td>400000.0</td>\n",
       "      <td>735000.0</td>\n",
       "      <td>1725250.0</td>\n",
       "      <td>10000000.0</td>\n",
       "      <td>1</td>\n",
       "    </tr>\n",
       "    <tr>\n",
       "      <th>163941</th>\n",
       "      <td>bgqsvz onvzrtj</td>\n",
       "      <td>2014.0</td>\n",
       "      <td>1240000</td>\n",
       "      <td>Others</td>\n",
       "      <td>2016.0</td>\n",
       "      <td>9.0</td>\n",
       "      <td>9.0</td>\n",
       "      <td>1.693333e+06</td>\n",
       "      <td>3.484250e+05</td>\n",
       "      <td>1200000.0</td>\n",
       "      <td>1500000.0</td>\n",
       "      <td>1700000.0</td>\n",
       "      <td>1900000.0</td>\n",
       "      <td>2200000.0</td>\n",
       "      <td>3</td>\n",
       "    </tr>\n",
       "  </tbody>\n",
       "</table>\n",
       "<p>163942 rows × 15 columns</p>\n",
       "</div>"
      ],
      "text/plain": [
       "                     company_hash  orgyear      ctc        job_position  \\\n",
       "0                  atrgxnnt xzaxv   2016.0  1100000               other   \n",
       "1       qtrxvzwt xzegwgbb rxbxnta   2018.0   449999  fullstack engineer   \n",
       "2                          Others   2015.0  2000000    backend engineer   \n",
       "3                       ngpgutaxv   2017.0   700000    backend engineer   \n",
       "4                      qxen sqghu   2017.0  1400000  fullstack engineer   \n",
       "...                           ...      ...      ...                 ...   \n",
       "163937                  vuurt xzw   2008.0   220000              Others   \n",
       "163938                  husqvawgb   2017.0   500000              Others   \n",
       "163939                   vwwgrxnt   2021.0   700000              Others   \n",
       "163940             zgn vuurxwvmrt   2019.0  5100000              Others   \n",
       "163941             bgqsvz onvzrtj   2014.0  1240000              Others   \n",
       "\n",
       "        ctc_updated_year  years_of_experience_in_organization  count  \\\n",
       "0                 2020.0                                  7.0    1.0   \n",
       "1                 2019.0                                  5.0    7.0   \n",
       "2                 2020.0                                  8.0  440.0   \n",
       "3                 2019.0                                  6.0    7.0   \n",
       "4                 2019.0                                  6.0    1.0   \n",
       "...                  ...                                  ...    ...   \n",
       "163937            2019.0                                 15.0    1.0   \n",
       "163938            2020.0                                  6.0    3.0   \n",
       "163939            2021.0                                  2.0    3.0   \n",
       "163940            2019.0                                  4.0  118.0   \n",
       "163941            2016.0                                  9.0    9.0   \n",
       "\n",
       "                mean           std        min        25%        50%  \\\n",
       "0       1.100000e+06           NaN  1100000.0  1100000.0  1100000.0   \n",
       "1       7.742856e+05  2.509223e+05   449999.0   610000.0   750000.0   \n",
       "2       1.269393e+06  1.405136e+06    41000.0   400000.0   900000.0   \n",
       "3       1.158571e+06  4.047810e+05   700000.0   825000.0  1200000.0   \n",
       "4       1.400000e+06           NaN  1400000.0  1400000.0  1400000.0   \n",
       "...              ...           ...        ...        ...        ...   \n",
       "163937  2.200000e+05           NaN   220000.0   220000.0   220000.0   \n",
       "163938  1.150000e+06  5.634714e+05   500000.0   975000.0  1450000.0   \n",
       "163939  6.666667e+05  3.511885e+05   300000.0   500000.0   700000.0   \n",
       "163940  1.412015e+06  1.715935e+06    45000.0   400000.0   735000.0   \n",
       "163941  1.693333e+06  3.484250e+05  1200000.0  1500000.0  1700000.0   \n",
       "\n",
       "              75%         max  designation_in_organization  \n",
       "0       1100000.0   1100000.0                            2  \n",
       "1        900000.0   1200000.0                            3  \n",
       "2       1600000.0  10000000.0                            1  \n",
       "3       1405000.0   1750000.0                            3  \n",
       "4       1400000.0   1400000.0                            2  \n",
       "...           ...         ...                          ...  \n",
       "163937   220000.0    220000.0                            2  \n",
       "163938  1475000.0   1500000.0                            3  \n",
       "163939   850000.0   1000000.0                            2  \n",
       "163940  1725250.0  10000000.0                            1  \n",
       "163941  1900000.0   2200000.0                            3  \n",
       "\n",
       "[163942 rows x 15 columns]"
      ]
     },
     "execution_count": 208,
     "metadata": {},
     "output_type": "execute_result"
    }
   ],
   "source": [
    "df_GROUPED_CTC_BY_E_P_C"
   ]
  },
  {
   "cell_type": "code",
   "execution_count": 209,
   "id": "0dc3bf61",
   "metadata": {},
   "outputs": [
    {
     "data": {
      "text/plain": [
       "2    0.456393\n",
       "3    0.331660\n",
       "1    0.211947\n",
       "Name: designation_in_organization, dtype: float64"
      ]
     },
     "execution_count": 209,
     "metadata": {},
     "output_type": "execute_result"
    }
   ],
   "source": [
    "df_GROUPED_CTC_BY_E_P_C.designation_in_organization.value_counts(normalize=True)"
   ]
  },
  {
   "cell_type": "code",
   "execution_count": null,
   "id": "fc1cd315",
   "metadata": {},
   "outputs": [],
   "source": []
  },
  {
   "cell_type": "code",
   "execution_count": 210,
   "id": "0d1d1455",
   "metadata": {
    "scrolled": false
   },
   "outputs": [],
   "source": [
    "# df_GROUPED_CTC_BY_EXPERIENCE_POSITION_COMPANY[df_GROUPED_CTC_BY_EXPERIENCE_POSITION_COMPANY['designation_in_organization']==2][['job_position','ctc']].groupby('job_position')['ctc'].describe().sort_values(by=['count','mean'],ascending=False)"
   ]
  },
  {
   "cell_type": "code",
   "execution_count": 211,
   "id": "232c9e52",
   "metadata": {},
   "outputs": [
    {
     "data": {
      "text/html": [
       "<div>\n",
       "<style scoped>\n",
       "    .dataframe tbody tr th:only-of-type {\n",
       "        vertical-align: middle;\n",
       "    }\n",
       "\n",
       "    .dataframe tbody tr th {\n",
       "        vertical-align: top;\n",
       "    }\n",
       "\n",
       "    .dataframe thead th {\n",
       "        text-align: right;\n",
       "    }\n",
       "</style>\n",
       "<table border=\"1\" class=\"dataframe\">\n",
       "  <thead>\n",
       "    <tr style=\"text-align: right;\">\n",
       "      <th></th>\n",
       "      <th>company_hash</th>\n",
       "      <th>orgyear</th>\n",
       "      <th>ctc</th>\n",
       "      <th>job_position</th>\n",
       "      <th>ctc_updated_year</th>\n",
       "      <th>years_of_experience_in_organization</th>\n",
       "      <th>count</th>\n",
       "      <th>mean</th>\n",
       "      <th>std</th>\n",
       "      <th>min</th>\n",
       "      <th>25%</th>\n",
       "      <th>50%</th>\n",
       "      <th>75%</th>\n",
       "      <th>max</th>\n",
       "      <th>designation_in_organization</th>\n",
       "    </tr>\n",
       "  </thead>\n",
       "  <tbody>\n",
       "    <tr>\n",
       "      <th>0</th>\n",
       "      <td>atrgxnnt xzaxv</td>\n",
       "      <td>2016.0</td>\n",
       "      <td>1100000</td>\n",
       "      <td>other</td>\n",
       "      <td>2020.0</td>\n",
       "      <td>7.0</td>\n",
       "      <td>1.0</td>\n",
       "      <td>1.100000e+06</td>\n",
       "      <td>NaN</td>\n",
       "      <td>1100000.0</td>\n",
       "      <td>1100000.0</td>\n",
       "      <td>1100000.0</td>\n",
       "      <td>1100000.0</td>\n",
       "      <td>1100000.0</td>\n",
       "      <td>2</td>\n",
       "    </tr>\n",
       "    <tr>\n",
       "      <th>1</th>\n",
       "      <td>qtrxvzwt xzegwgbb rxbxnta</td>\n",
       "      <td>2018.0</td>\n",
       "      <td>449999</td>\n",
       "      <td>fullstack engineer</td>\n",
       "      <td>2019.0</td>\n",
       "      <td>5.0</td>\n",
       "      <td>7.0</td>\n",
       "      <td>7.742856e+05</td>\n",
       "      <td>2.509223e+05</td>\n",
       "      <td>449999.0</td>\n",
       "      <td>610000.0</td>\n",
       "      <td>750000.0</td>\n",
       "      <td>900000.0</td>\n",
       "      <td>1200000.0</td>\n",
       "      <td>3</td>\n",
       "    </tr>\n",
       "    <tr>\n",
       "      <th>2</th>\n",
       "      <td>Others</td>\n",
       "      <td>2015.0</td>\n",
       "      <td>2000000</td>\n",
       "      <td>backend engineer</td>\n",
       "      <td>2020.0</td>\n",
       "      <td>8.0</td>\n",
       "      <td>440.0</td>\n",
       "      <td>1.269393e+06</td>\n",
       "      <td>1.405136e+06</td>\n",
       "      <td>41000.0</td>\n",
       "      <td>400000.0</td>\n",
       "      <td>900000.0</td>\n",
       "      <td>1600000.0</td>\n",
       "      <td>10000000.0</td>\n",
       "      <td>1</td>\n",
       "    </tr>\n",
       "    <tr>\n",
       "      <th>3</th>\n",
       "      <td>ngpgutaxv</td>\n",
       "      <td>2017.0</td>\n",
       "      <td>700000</td>\n",
       "      <td>backend engineer</td>\n",
       "      <td>2019.0</td>\n",
       "      <td>6.0</td>\n",
       "      <td>7.0</td>\n",
       "      <td>1.158571e+06</td>\n",
       "      <td>4.047810e+05</td>\n",
       "      <td>700000.0</td>\n",
       "      <td>825000.0</td>\n",
       "      <td>1200000.0</td>\n",
       "      <td>1405000.0</td>\n",
       "      <td>1750000.0</td>\n",
       "      <td>3</td>\n",
       "    </tr>\n",
       "    <tr>\n",
       "      <th>4</th>\n",
       "      <td>qxen sqghu</td>\n",
       "      <td>2017.0</td>\n",
       "      <td>1400000</td>\n",
       "      <td>fullstack engineer</td>\n",
       "      <td>2019.0</td>\n",
       "      <td>6.0</td>\n",
       "      <td>1.0</td>\n",
       "      <td>1.400000e+06</td>\n",
       "      <td>NaN</td>\n",
       "      <td>1400000.0</td>\n",
       "      <td>1400000.0</td>\n",
       "      <td>1400000.0</td>\n",
       "      <td>1400000.0</td>\n",
       "      <td>1400000.0</td>\n",
       "      <td>2</td>\n",
       "    </tr>\n",
       "    <tr>\n",
       "      <th>...</th>\n",
       "      <td>...</td>\n",
       "      <td>...</td>\n",
       "      <td>...</td>\n",
       "      <td>...</td>\n",
       "      <td>...</td>\n",
       "      <td>...</td>\n",
       "      <td>...</td>\n",
       "      <td>...</td>\n",
       "      <td>...</td>\n",
       "      <td>...</td>\n",
       "      <td>...</td>\n",
       "      <td>...</td>\n",
       "      <td>...</td>\n",
       "      <td>...</td>\n",
       "      <td>...</td>\n",
       "    </tr>\n",
       "    <tr>\n",
       "      <th>163937</th>\n",
       "      <td>vuurt xzw</td>\n",
       "      <td>2008.0</td>\n",
       "      <td>220000</td>\n",
       "      <td>Others</td>\n",
       "      <td>2019.0</td>\n",
       "      <td>15.0</td>\n",
       "      <td>1.0</td>\n",
       "      <td>2.200000e+05</td>\n",
       "      <td>NaN</td>\n",
       "      <td>220000.0</td>\n",
       "      <td>220000.0</td>\n",
       "      <td>220000.0</td>\n",
       "      <td>220000.0</td>\n",
       "      <td>220000.0</td>\n",
       "      <td>2</td>\n",
       "    </tr>\n",
       "    <tr>\n",
       "      <th>163938</th>\n",
       "      <td>husqvawgb</td>\n",
       "      <td>2017.0</td>\n",
       "      <td>500000</td>\n",
       "      <td>Others</td>\n",
       "      <td>2020.0</td>\n",
       "      <td>6.0</td>\n",
       "      <td>3.0</td>\n",
       "      <td>1.150000e+06</td>\n",
       "      <td>5.634714e+05</td>\n",
       "      <td>500000.0</td>\n",
       "      <td>975000.0</td>\n",
       "      <td>1450000.0</td>\n",
       "      <td>1475000.0</td>\n",
       "      <td>1500000.0</td>\n",
       "      <td>3</td>\n",
       "    </tr>\n",
       "    <tr>\n",
       "      <th>163939</th>\n",
       "      <td>vwwgrxnt</td>\n",
       "      <td>2021.0</td>\n",
       "      <td>700000</td>\n",
       "      <td>Others</td>\n",
       "      <td>2021.0</td>\n",
       "      <td>2.0</td>\n",
       "      <td>3.0</td>\n",
       "      <td>6.666667e+05</td>\n",
       "      <td>3.511885e+05</td>\n",
       "      <td>300000.0</td>\n",
       "      <td>500000.0</td>\n",
       "      <td>700000.0</td>\n",
       "      <td>850000.0</td>\n",
       "      <td>1000000.0</td>\n",
       "      <td>2</td>\n",
       "    </tr>\n",
       "    <tr>\n",
       "      <th>163940</th>\n",
       "      <td>zgn vuurxwvmrt</td>\n",
       "      <td>2019.0</td>\n",
       "      <td>5100000</td>\n",
       "      <td>Others</td>\n",
       "      <td>2019.0</td>\n",
       "      <td>4.0</td>\n",
       "      <td>118.0</td>\n",
       "      <td>1.412015e+06</td>\n",
       "      <td>1.715935e+06</td>\n",
       "      <td>45000.0</td>\n",
       "      <td>400000.0</td>\n",
       "      <td>735000.0</td>\n",
       "      <td>1725250.0</td>\n",
       "      <td>10000000.0</td>\n",
       "      <td>1</td>\n",
       "    </tr>\n",
       "    <tr>\n",
       "      <th>163941</th>\n",
       "      <td>bgqsvz onvzrtj</td>\n",
       "      <td>2014.0</td>\n",
       "      <td>1240000</td>\n",
       "      <td>Others</td>\n",
       "      <td>2016.0</td>\n",
       "      <td>9.0</td>\n",
       "      <td>9.0</td>\n",
       "      <td>1.693333e+06</td>\n",
       "      <td>3.484250e+05</td>\n",
       "      <td>1200000.0</td>\n",
       "      <td>1500000.0</td>\n",
       "      <td>1700000.0</td>\n",
       "      <td>1900000.0</td>\n",
       "      <td>2200000.0</td>\n",
       "      <td>3</td>\n",
       "    </tr>\n",
       "  </tbody>\n",
       "</table>\n",
       "<p>163942 rows × 15 columns</p>\n",
       "</div>"
      ],
      "text/plain": [
       "                     company_hash  orgyear      ctc        job_position  \\\n",
       "0                  atrgxnnt xzaxv   2016.0  1100000               other   \n",
       "1       qtrxvzwt xzegwgbb rxbxnta   2018.0   449999  fullstack engineer   \n",
       "2                          Others   2015.0  2000000    backend engineer   \n",
       "3                       ngpgutaxv   2017.0   700000    backend engineer   \n",
       "4                      qxen sqghu   2017.0  1400000  fullstack engineer   \n",
       "...                           ...      ...      ...                 ...   \n",
       "163937                  vuurt xzw   2008.0   220000              Others   \n",
       "163938                  husqvawgb   2017.0   500000              Others   \n",
       "163939                   vwwgrxnt   2021.0   700000              Others   \n",
       "163940             zgn vuurxwvmrt   2019.0  5100000              Others   \n",
       "163941             bgqsvz onvzrtj   2014.0  1240000              Others   \n",
       "\n",
       "        ctc_updated_year  years_of_experience_in_organization  count  \\\n",
       "0                 2020.0                                  7.0    1.0   \n",
       "1                 2019.0                                  5.0    7.0   \n",
       "2                 2020.0                                  8.0  440.0   \n",
       "3                 2019.0                                  6.0    7.0   \n",
       "4                 2019.0                                  6.0    1.0   \n",
       "...                  ...                                  ...    ...   \n",
       "163937            2019.0                                 15.0    1.0   \n",
       "163938            2020.0                                  6.0    3.0   \n",
       "163939            2021.0                                  2.0    3.0   \n",
       "163940            2019.0                                  4.0  118.0   \n",
       "163941            2016.0                                  9.0    9.0   \n",
       "\n",
       "                mean           std        min        25%        50%  \\\n",
       "0       1.100000e+06           NaN  1100000.0  1100000.0  1100000.0   \n",
       "1       7.742856e+05  2.509223e+05   449999.0   610000.0   750000.0   \n",
       "2       1.269393e+06  1.405136e+06    41000.0   400000.0   900000.0   \n",
       "3       1.158571e+06  4.047810e+05   700000.0   825000.0  1200000.0   \n",
       "4       1.400000e+06           NaN  1400000.0  1400000.0  1400000.0   \n",
       "...              ...           ...        ...        ...        ...   \n",
       "163937  2.200000e+05           NaN   220000.0   220000.0   220000.0   \n",
       "163938  1.150000e+06  5.634714e+05   500000.0   975000.0  1450000.0   \n",
       "163939  6.666667e+05  3.511885e+05   300000.0   500000.0   700000.0   \n",
       "163940  1.412015e+06  1.715935e+06    45000.0   400000.0   735000.0   \n",
       "163941  1.693333e+06  3.484250e+05  1200000.0  1500000.0  1700000.0   \n",
       "\n",
       "              75%         max  designation_in_organization  \n",
       "0       1100000.0   1100000.0                            2  \n",
       "1        900000.0   1200000.0                            3  \n",
       "2       1600000.0  10000000.0                            1  \n",
       "3       1405000.0   1750000.0                            3  \n",
       "4       1400000.0   1400000.0                            2  \n",
       "...           ...         ...                          ...  \n",
       "163937   220000.0    220000.0                            2  \n",
       "163938  1475000.0   1500000.0                            3  \n",
       "163939   850000.0   1000000.0                            2  \n",
       "163940  1725250.0  10000000.0                            1  \n",
       "163941  1900000.0   2200000.0                            3  \n",
       "\n",
       "[163942 rows x 15 columns]"
      ]
     },
     "execution_count": 211,
     "metadata": {},
     "output_type": "execute_result"
    }
   ],
   "source": [
    "df_GROUPED_CTC_BY_E_P_C"
   ]
  },
  {
   "cell_type": "code",
   "execution_count": 212,
   "id": "0842cae2",
   "metadata": {
    "scrolled": true
   },
   "outputs": [],
   "source": [
    "df_GROUPED_CTC_BY_E_P_C.drop(columns=['count',\n",
    "                                     'mean',\n",
    "                                    'std',\n",
    "                                    'min',\n",
    "                                    '25%',\n",
    "                                    '50%',\n",
    "                                    '75%',\n",
    "                                    'max'],axis = 1,inplace=True)\n"
   ]
  },
  {
   "cell_type": "code",
   "execution_count": 213,
   "id": "0e697977",
   "metadata": {
    "scrolled": false
   },
   "outputs": [
    {
     "data": {
      "text/html": [
       "<div>\n",
       "<style scoped>\n",
       "    .dataframe tbody tr th:only-of-type {\n",
       "        vertical-align: middle;\n",
       "    }\n",
       "\n",
       "    .dataframe tbody tr th {\n",
       "        vertical-align: top;\n",
       "    }\n",
       "\n",
       "    .dataframe thead th {\n",
       "        text-align: right;\n",
       "    }\n",
       "</style>\n",
       "<table border=\"1\" class=\"dataframe\">\n",
       "  <thead>\n",
       "    <tr style=\"text-align: right;\">\n",
       "      <th></th>\n",
       "      <th>company_hash</th>\n",
       "      <th>orgyear</th>\n",
       "      <th>ctc</th>\n",
       "      <th>job_position</th>\n",
       "      <th>ctc_updated_year</th>\n",
       "      <th>years_of_experience_in_organization</th>\n",
       "      <th>designation_in_organization</th>\n",
       "    </tr>\n",
       "  </thead>\n",
       "  <tbody>\n",
       "    <tr>\n",
       "      <th>0</th>\n",
       "      <td>atrgxnnt xzaxv</td>\n",
       "      <td>2016.0</td>\n",
       "      <td>1100000</td>\n",
       "      <td>other</td>\n",
       "      <td>2020.0</td>\n",
       "      <td>7.0</td>\n",
       "      <td>2</td>\n",
       "    </tr>\n",
       "    <tr>\n",
       "      <th>1</th>\n",
       "      <td>qtrxvzwt xzegwgbb rxbxnta</td>\n",
       "      <td>2018.0</td>\n",
       "      <td>449999</td>\n",
       "      <td>fullstack engineer</td>\n",
       "      <td>2019.0</td>\n",
       "      <td>5.0</td>\n",
       "      <td>3</td>\n",
       "    </tr>\n",
       "    <tr>\n",
       "      <th>2</th>\n",
       "      <td>Others</td>\n",
       "      <td>2015.0</td>\n",
       "      <td>2000000</td>\n",
       "      <td>backend engineer</td>\n",
       "      <td>2020.0</td>\n",
       "      <td>8.0</td>\n",
       "      <td>1</td>\n",
       "    </tr>\n",
       "    <tr>\n",
       "      <th>3</th>\n",
       "      <td>ngpgutaxv</td>\n",
       "      <td>2017.0</td>\n",
       "      <td>700000</td>\n",
       "      <td>backend engineer</td>\n",
       "      <td>2019.0</td>\n",
       "      <td>6.0</td>\n",
       "      <td>3</td>\n",
       "    </tr>\n",
       "    <tr>\n",
       "      <th>4</th>\n",
       "      <td>qxen sqghu</td>\n",
       "      <td>2017.0</td>\n",
       "      <td>1400000</td>\n",
       "      <td>fullstack engineer</td>\n",
       "      <td>2019.0</td>\n",
       "      <td>6.0</td>\n",
       "      <td>2</td>\n",
       "    </tr>\n",
       "    <tr>\n",
       "      <th>...</th>\n",
       "      <td>...</td>\n",
       "      <td>...</td>\n",
       "      <td>...</td>\n",
       "      <td>...</td>\n",
       "      <td>...</td>\n",
       "      <td>...</td>\n",
       "      <td>...</td>\n",
       "    </tr>\n",
       "    <tr>\n",
       "      <th>163937</th>\n",
       "      <td>vuurt xzw</td>\n",
       "      <td>2008.0</td>\n",
       "      <td>220000</td>\n",
       "      <td>Others</td>\n",
       "      <td>2019.0</td>\n",
       "      <td>15.0</td>\n",
       "      <td>2</td>\n",
       "    </tr>\n",
       "    <tr>\n",
       "      <th>163938</th>\n",
       "      <td>husqvawgb</td>\n",
       "      <td>2017.0</td>\n",
       "      <td>500000</td>\n",
       "      <td>Others</td>\n",
       "      <td>2020.0</td>\n",
       "      <td>6.0</td>\n",
       "      <td>3</td>\n",
       "    </tr>\n",
       "    <tr>\n",
       "      <th>163939</th>\n",
       "      <td>vwwgrxnt</td>\n",
       "      <td>2021.0</td>\n",
       "      <td>700000</td>\n",
       "      <td>Others</td>\n",
       "      <td>2021.0</td>\n",
       "      <td>2.0</td>\n",
       "      <td>2</td>\n",
       "    </tr>\n",
       "    <tr>\n",
       "      <th>163940</th>\n",
       "      <td>zgn vuurxwvmrt</td>\n",
       "      <td>2019.0</td>\n",
       "      <td>5100000</td>\n",
       "      <td>Others</td>\n",
       "      <td>2019.0</td>\n",
       "      <td>4.0</td>\n",
       "      <td>1</td>\n",
       "    </tr>\n",
       "    <tr>\n",
       "      <th>163941</th>\n",
       "      <td>bgqsvz onvzrtj</td>\n",
       "      <td>2014.0</td>\n",
       "      <td>1240000</td>\n",
       "      <td>Others</td>\n",
       "      <td>2016.0</td>\n",
       "      <td>9.0</td>\n",
       "      <td>3</td>\n",
       "    </tr>\n",
       "  </tbody>\n",
       "</table>\n",
       "<p>163942 rows × 7 columns</p>\n",
       "</div>"
      ],
      "text/plain": [
       "                     company_hash  orgyear      ctc        job_position  \\\n",
       "0                  atrgxnnt xzaxv   2016.0  1100000               other   \n",
       "1       qtrxvzwt xzegwgbb rxbxnta   2018.0   449999  fullstack engineer   \n",
       "2                          Others   2015.0  2000000    backend engineer   \n",
       "3                       ngpgutaxv   2017.0   700000    backend engineer   \n",
       "4                      qxen sqghu   2017.0  1400000  fullstack engineer   \n",
       "...                           ...      ...      ...                 ...   \n",
       "163937                  vuurt xzw   2008.0   220000              Others   \n",
       "163938                  husqvawgb   2017.0   500000              Others   \n",
       "163939                   vwwgrxnt   2021.0   700000              Others   \n",
       "163940             zgn vuurxwvmrt   2019.0  5100000              Others   \n",
       "163941             bgqsvz onvzrtj   2014.0  1240000              Others   \n",
       "\n",
       "        ctc_updated_year  years_of_experience_in_organization  \\\n",
       "0                 2020.0                                  7.0   \n",
       "1                 2019.0                                  5.0   \n",
       "2                 2020.0                                  8.0   \n",
       "3                 2019.0                                  6.0   \n",
       "4                 2019.0                                  6.0   \n",
       "...                  ...                                  ...   \n",
       "163937            2019.0                                 15.0   \n",
       "163938            2020.0                                  6.0   \n",
       "163939            2021.0                                  2.0   \n",
       "163940            2019.0                                  4.0   \n",
       "163941            2016.0                                  9.0   \n",
       "\n",
       "        designation_in_organization  \n",
       "0                                 2  \n",
       "1                                 3  \n",
       "2                                 1  \n",
       "3                                 3  \n",
       "4                                 2  \n",
       "...                             ...  \n",
       "163937                            2  \n",
       "163938                            3  \n",
       "163939                            2  \n",
       "163940                            1  \n",
       "163941                            3  \n",
       "\n",
       "[163942 rows x 7 columns]"
      ]
     },
     "execution_count": 213,
     "metadata": {},
     "output_type": "execute_result"
    }
   ],
   "source": [
    "df_GROUPED_CTC_BY_E_P_C"
   ]
  },
  {
   "cell_type": "code",
   "execution_count": 214,
   "id": "89cb2109",
   "metadata": {},
   "outputs": [
    {
     "data": {
      "text/plain": [
       "(163942, 7)"
      ]
     },
     "execution_count": 214,
     "metadata": {},
     "output_type": "execute_result"
    }
   ],
   "source": [
    "df_GROUPED_CTC_BY_E_P_C.shape"
   ]
  },
  {
   "cell_type": "markdown",
   "id": "1fe434e2",
   "metadata": {},
   "source": [
    "## Manual Clustering on company and job position "
   ]
  },
  {
   "cell_type": "code",
   "execution_count": 215,
   "id": "eea5741d",
   "metadata": {},
   "outputs": [
    {
     "data": {
      "text/html": [
       "<div>\n",
       "<style scoped>\n",
       "    .dataframe tbody tr th:only-of-type {\n",
       "        vertical-align: middle;\n",
       "    }\n",
       "\n",
       "    .dataframe tbody tr th {\n",
       "        vertical-align: top;\n",
       "    }\n",
       "\n",
       "    .dataframe thead th {\n",
       "        text-align: right;\n",
       "    }\n",
       "</style>\n",
       "<table border=\"1\" class=\"dataframe\">\n",
       "  <thead>\n",
       "    <tr style=\"text-align: right;\">\n",
       "      <th></th>\n",
       "      <th></th>\n",
       "      <th>count</th>\n",
       "      <th>mean</th>\n",
       "      <th>std</th>\n",
       "      <th>min</th>\n",
       "      <th>25%</th>\n",
       "      <th>50%</th>\n",
       "      <th>75%</th>\n",
       "      <th>max</th>\n",
       "    </tr>\n",
       "    <tr>\n",
       "      <th>job_position</th>\n",
       "      <th>company_hash</th>\n",
       "      <th></th>\n",
       "      <th></th>\n",
       "      <th></th>\n",
       "      <th></th>\n",
       "      <th></th>\n",
       "      <th></th>\n",
       "      <th></th>\n",
       "      <th></th>\n",
       "    </tr>\n",
       "  </thead>\n",
       "  <tbody>\n",
       "    <tr>\n",
       "      <th rowspan=\"5\" valign=\"top\">Others</th>\n",
       "      <th>Others</th>\n",
       "      <td>3520.0</td>\n",
       "      <td>1.366188e+06</td>\n",
       "      <td>1.445330e+06</td>\n",
       "      <td>40000.0</td>\n",
       "      <td>409999.0</td>\n",
       "      <td>900000.0</td>\n",
       "      <td>1842499.25</td>\n",
       "      <td>12500000.0</td>\n",
       "    </tr>\n",
       "    <tr>\n",
       "      <th>a ntwyzgrgsxto</th>\n",
       "      <td>6.0</td>\n",
       "      <td>1.229167e+06</td>\n",
       "      <td>1.401465e+06</td>\n",
       "      <td>350000.0</td>\n",
       "      <td>518750.0</td>\n",
       "      <td>587500.0</td>\n",
       "      <td>1162500.00</td>\n",
       "      <td>4000000.0</td>\n",
       "    </tr>\n",
       "    <tr>\n",
       "      <th>aaqxctz avnv owxtzwto  vzvrjnxwo ucn rna</th>\n",
       "      <td>1.0</td>\n",
       "      <td>5.000000e+05</td>\n",
       "      <td>NaN</td>\n",
       "      <td>500000.0</td>\n",
       "      <td>500000.0</td>\n",
       "      <td>500000.0</td>\n",
       "      <td>500000.00</td>\n",
       "      <td>500000.0</td>\n",
       "    </tr>\n",
       "    <tr>\n",
       "      <th>abwavnv ojontb</th>\n",
       "      <td>1.0</td>\n",
       "      <td>7.000000e+05</td>\n",
       "      <td>NaN</td>\n",
       "      <td>700000.0</td>\n",
       "      <td>700000.0</td>\n",
       "      <td>700000.0</td>\n",
       "      <td>700000.00</td>\n",
       "      <td>700000.0</td>\n",
       "    </tr>\n",
       "    <tr>\n",
       "      <th>adw ntwyzgrgsj</th>\n",
       "      <td>69.0</td>\n",
       "      <td>8.502319e+05</td>\n",
       "      <td>1.036041e+06</td>\n",
       "      <td>80000.0</td>\n",
       "      <td>380000.0</td>\n",
       "      <td>500000.0</td>\n",
       "      <td>1000000.00</td>\n",
       "      <td>8000000.0</td>\n",
       "    </tr>\n",
       "    <tr>\n",
       "      <th>...</th>\n",
       "      <th>...</th>\n",
       "      <td>...</td>\n",
       "      <td>...</td>\n",
       "      <td>...</td>\n",
       "      <td>...</td>\n",
       "      <td>...</td>\n",
       "      <td>...</td>\n",
       "      <td>...</td>\n",
       "      <td>...</td>\n",
       "    </tr>\n",
       "    <tr>\n",
       "      <th>wordpress developer</th>\n",
       "      <th>Others</th>\n",
       "      <td>1.0</td>\n",
       "      <td>6.000000e+05</td>\n",
       "      <td>NaN</td>\n",
       "      <td>600000.0</td>\n",
       "      <td>600000.0</td>\n",
       "      <td>600000.0</td>\n",
       "      <td>600000.00</td>\n",
       "      <td>600000.0</td>\n",
       "    </tr>\n",
       "    <tr>\n",
       "      <th>worker</th>\n",
       "      <th>zgn vuurxwvmrt vwwghzn</th>\n",
       "      <td>1.0</td>\n",
       "      <td>2.000000e+05</td>\n",
       "      <td>NaN</td>\n",
       "      <td>200000.0</td>\n",
       "      <td>200000.0</td>\n",
       "      <td>200000.0</td>\n",
       "      <td>200000.00</td>\n",
       "      <td>200000.0</td>\n",
       "    </tr>\n",
       "    <tr>\n",
       "      <th>x</th>\n",
       "      <th>Others</th>\n",
       "      <td>1.0</td>\n",
       "      <td>4.000000e+05</td>\n",
       "      <td>NaN</td>\n",
       "      <td>400000.0</td>\n",
       "      <td>400000.0</td>\n",
       "      <td>400000.0</td>\n",
       "      <td>400000.00</td>\n",
       "      <td>400000.0</td>\n",
       "    </tr>\n",
       "    <tr>\n",
       "      <th>young professional ii</th>\n",
       "      <th>sgctqzbtzn ge xzaxv</th>\n",
       "      <td>1.0</td>\n",
       "      <td>5.000000e+05</td>\n",
       "      <td>NaN</td>\n",
       "      <td>500000.0</td>\n",
       "      <td>500000.0</td>\n",
       "      <td>500000.0</td>\n",
       "      <td>500000.00</td>\n",
       "      <td>500000.0</td>\n",
       "    </tr>\n",
       "    <tr>\n",
       "      <th>zomato</th>\n",
       "      <th>kgbvng</th>\n",
       "      <td>2.0</td>\n",
       "      <td>3.000000e+05</td>\n",
       "      <td>2.828427e+05</td>\n",
       "      <td>100000.0</td>\n",
       "      <td>200000.0</td>\n",
       "      <td>300000.0</td>\n",
       "      <td>400000.00</td>\n",
       "      <td>500000.0</td>\n",
       "    </tr>\n",
       "  </tbody>\n",
       "</table>\n",
       "<p>25593 rows × 8 columns</p>\n",
       "</div>"
      ],
      "text/plain": [
       "                                                                 count  \\\n",
       "job_position          company_hash                                       \n",
       "Others                Others                                    3520.0   \n",
       "                      a ntwyzgrgsxto                               6.0   \n",
       "                      aaqxctz avnv owxtzwto  vzvrjnxwo ucn rna     1.0   \n",
       "                      abwavnv ojontb                               1.0   \n",
       "                      adw ntwyzgrgsj                              69.0   \n",
       "...                                                                ...   \n",
       "wordpress developer   Others                                       1.0   \n",
       "worker                zgn vuurxwvmrt vwwghzn                       1.0   \n",
       "x                     Others                                       1.0   \n",
       "young professional ii sgctqzbtzn ge xzaxv                          1.0   \n",
       "zomato                kgbvng                                       2.0   \n",
       "\n",
       "                                                                        mean  \\\n",
       "job_position          company_hash                                             \n",
       "Others                Others                                    1.366188e+06   \n",
       "                      a ntwyzgrgsxto                            1.229167e+06   \n",
       "                      aaqxctz avnv owxtzwto  vzvrjnxwo ucn rna  5.000000e+05   \n",
       "                      abwavnv ojontb                            7.000000e+05   \n",
       "                      adw ntwyzgrgsj                            8.502319e+05   \n",
       "...                                                                      ...   \n",
       "wordpress developer   Others                                    6.000000e+05   \n",
       "worker                zgn vuurxwvmrt vwwghzn                    2.000000e+05   \n",
       "x                     Others                                    4.000000e+05   \n",
       "young professional ii sgctqzbtzn ge xzaxv                       5.000000e+05   \n",
       "zomato                kgbvng                                    3.000000e+05   \n",
       "\n",
       "                                                                         std  \\\n",
       "job_position          company_hash                                             \n",
       "Others                Others                                    1.445330e+06   \n",
       "                      a ntwyzgrgsxto                            1.401465e+06   \n",
       "                      aaqxctz avnv owxtzwto  vzvrjnxwo ucn rna           NaN   \n",
       "                      abwavnv ojontb                                     NaN   \n",
       "                      adw ntwyzgrgsj                            1.036041e+06   \n",
       "...                                                                      ...   \n",
       "wordpress developer   Others                                             NaN   \n",
       "worker                zgn vuurxwvmrt vwwghzn                             NaN   \n",
       "x                     Others                                             NaN   \n",
       "young professional ii sgctqzbtzn ge xzaxv                                NaN   \n",
       "zomato                kgbvng                                    2.828427e+05   \n",
       "\n",
       "                                                                     min  \\\n",
       "job_position          company_hash                                         \n",
       "Others                Others                                     40000.0   \n",
       "                      a ntwyzgrgsxto                            350000.0   \n",
       "                      aaqxctz avnv owxtzwto  vzvrjnxwo ucn rna  500000.0   \n",
       "                      abwavnv ojontb                            700000.0   \n",
       "                      adw ntwyzgrgsj                             80000.0   \n",
       "...                                                                  ...   \n",
       "wordpress developer   Others                                    600000.0   \n",
       "worker                zgn vuurxwvmrt vwwghzn                    200000.0   \n",
       "x                     Others                                    400000.0   \n",
       "young professional ii sgctqzbtzn ge xzaxv                       500000.0   \n",
       "zomato                kgbvng                                    100000.0   \n",
       "\n",
       "                                                                     25%  \\\n",
       "job_position          company_hash                                         \n",
       "Others                Others                                    409999.0   \n",
       "                      a ntwyzgrgsxto                            518750.0   \n",
       "                      aaqxctz avnv owxtzwto  vzvrjnxwo ucn rna  500000.0   \n",
       "                      abwavnv ojontb                            700000.0   \n",
       "                      adw ntwyzgrgsj                            380000.0   \n",
       "...                                                                  ...   \n",
       "wordpress developer   Others                                    600000.0   \n",
       "worker                zgn vuurxwvmrt vwwghzn                    200000.0   \n",
       "x                     Others                                    400000.0   \n",
       "young professional ii sgctqzbtzn ge xzaxv                       500000.0   \n",
       "zomato                kgbvng                                    200000.0   \n",
       "\n",
       "                                                                     50%  \\\n",
       "job_position          company_hash                                         \n",
       "Others                Others                                    900000.0   \n",
       "                      a ntwyzgrgsxto                            587500.0   \n",
       "                      aaqxctz avnv owxtzwto  vzvrjnxwo ucn rna  500000.0   \n",
       "                      abwavnv ojontb                            700000.0   \n",
       "                      adw ntwyzgrgsj                            500000.0   \n",
       "...                                                                  ...   \n",
       "wordpress developer   Others                                    600000.0   \n",
       "worker                zgn vuurxwvmrt vwwghzn                    200000.0   \n",
       "x                     Others                                    400000.0   \n",
       "young professional ii sgctqzbtzn ge xzaxv                       500000.0   \n",
       "zomato                kgbvng                                    300000.0   \n",
       "\n",
       "                                                                       75%  \\\n",
       "job_position          company_hash                                           \n",
       "Others                Others                                    1842499.25   \n",
       "                      a ntwyzgrgsxto                            1162500.00   \n",
       "                      aaqxctz avnv owxtzwto  vzvrjnxwo ucn rna   500000.00   \n",
       "                      abwavnv ojontb                             700000.00   \n",
       "                      adw ntwyzgrgsj                            1000000.00   \n",
       "...                                                                    ...   \n",
       "wordpress developer   Others                                     600000.00   \n",
       "worker                zgn vuurxwvmrt vwwghzn                     200000.00   \n",
       "x                     Others                                     400000.00   \n",
       "young professional ii sgctqzbtzn ge xzaxv                        500000.00   \n",
       "zomato                kgbvng                                     400000.00   \n",
       "\n",
       "                                                                       max  \n",
       "job_position          company_hash                                          \n",
       "Others                Others                                    12500000.0  \n",
       "                      a ntwyzgrgsxto                             4000000.0  \n",
       "                      aaqxctz avnv owxtzwto  vzvrjnxwo ucn rna    500000.0  \n",
       "                      abwavnv ojontb                              700000.0  \n",
       "                      adw ntwyzgrgsj                             8000000.0  \n",
       "...                                                                    ...  \n",
       "wordpress developer   Others                                      600000.0  \n",
       "worker                zgn vuurxwvmrt vwwghzn                      200000.0  \n",
       "x                     Others                                      400000.0  \n",
       "young professional ii sgctqzbtzn ge xzaxv                         500000.0  \n",
       "zomato                kgbvng                                      500000.0  \n",
       "\n",
       "[25593 rows x 8 columns]"
      ]
     },
     "execution_count": 215,
     "metadata": {},
     "output_type": "execute_result"
    }
   ],
   "source": [
    "GROUPED_C_J=df.groupby(['job_position','company_hash'])['ctc'].describe()\n",
    "GROUPED_C_J"
   ]
  },
  {
   "cell_type": "code",
   "execution_count": 216,
   "id": "66526dbb",
   "metadata": {},
   "outputs": [],
   "source": [
    "df_GROUPED_C_J=df.merge(GROUPED_C_J, on=['job_position','company_hash'], how='left')\n"
   ]
  },
  {
   "cell_type": "code",
   "execution_count": 217,
   "id": "13747944",
   "metadata": {},
   "outputs": [
    {
     "data": {
      "text/html": [
       "<div>\n",
       "<style scoped>\n",
       "    .dataframe tbody tr th:only-of-type {\n",
       "        vertical-align: middle;\n",
       "    }\n",
       "\n",
       "    .dataframe tbody tr th {\n",
       "        vertical-align: top;\n",
       "    }\n",
       "\n",
       "    .dataframe thead th {\n",
       "        text-align: right;\n",
       "    }\n",
       "</style>\n",
       "<table border=\"1\" class=\"dataframe\">\n",
       "  <thead>\n",
       "    <tr style=\"text-align: right;\">\n",
       "      <th></th>\n",
       "      <th>company_hash</th>\n",
       "      <th>orgyear</th>\n",
       "      <th>ctc</th>\n",
       "      <th>job_position</th>\n",
       "      <th>ctc_updated_year</th>\n",
       "      <th>years_of_experience_in_organization</th>\n",
       "      <th>count</th>\n",
       "      <th>mean</th>\n",
       "      <th>std</th>\n",
       "      <th>min</th>\n",
       "      <th>25%</th>\n",
       "      <th>50%</th>\n",
       "      <th>75%</th>\n",
       "      <th>max</th>\n",
       "    </tr>\n",
       "  </thead>\n",
       "  <tbody>\n",
       "    <tr>\n",
       "      <th>126677</th>\n",
       "      <td>zvz</td>\n",
       "      <td>2019.0</td>\n",
       "      <td>3200000</td>\n",
       "      <td>data scientist</td>\n",
       "      <td>2019.0</td>\n",
       "      <td>4.0</td>\n",
       "      <td>39.0</td>\n",
       "      <td>1.211500e+06</td>\n",
       "      <td>7.584555e+05</td>\n",
       "      <td>46500.0</td>\n",
       "      <td>647500.0</td>\n",
       "      <td>1000000.0</td>\n",
       "      <td>1650000.0</td>\n",
       "      <td>3200000.0</td>\n",
       "    </tr>\n",
       "    <tr>\n",
       "      <th>93215</th>\n",
       "      <td>nvnv wgzohrnvzwj otqcxwto</td>\n",
       "      <td>2012.0</td>\n",
       "      <td>850000</td>\n",
       "      <td>ios engineer</td>\n",
       "      <td>2019.0</td>\n",
       "      <td>11.0</td>\n",
       "      <td>19.0</td>\n",
       "      <td>6.852632e+05</td>\n",
       "      <td>3.520475e+05</td>\n",
       "      <td>70000.0</td>\n",
       "      <td>425000.0</td>\n",
       "      <td>600000.0</td>\n",
       "      <td>850000.0</td>\n",
       "      <td>1550000.0</td>\n",
       "    </tr>\n",
       "    <tr>\n",
       "      <th>29447</th>\n",
       "      <td>wvustbxzx</td>\n",
       "      <td>2013.0</td>\n",
       "      <td>910000</td>\n",
       "      <td>backend engineer</td>\n",
       "      <td>2021.0</td>\n",
       "      <td>10.0</td>\n",
       "      <td>247.0</td>\n",
       "      <td>8.295992e+05</td>\n",
       "      <td>4.891276e+05</td>\n",
       "      <td>40000.0</td>\n",
       "      <td>475000.0</td>\n",
       "      <td>700000.0</td>\n",
       "      <td>1070000.0</td>\n",
       "      <td>3000000.0</td>\n",
       "    </tr>\n",
       "    <tr>\n",
       "      <th>41080</th>\n",
       "      <td>znn avnv otqcxwto</td>\n",
       "      <td>2019.0</td>\n",
       "      <td>700000</td>\n",
       "      <td>Others</td>\n",
       "      <td>2019.0</td>\n",
       "      <td>4.0</td>\n",
       "      <td>62.0</td>\n",
       "      <td>1.142984e+06</td>\n",
       "      <td>1.738646e+06</td>\n",
       "      <td>300000.0</td>\n",
       "      <td>400000.0</td>\n",
       "      <td>690000.0</td>\n",
       "      <td>1275000.0</td>\n",
       "      <td>10000000.0</td>\n",
       "    </tr>\n",
       "    <tr>\n",
       "      <th>76917</th>\n",
       "      <td>Others</td>\n",
       "      <td>2013.0</td>\n",
       "      <td>1100000</td>\n",
       "      <td>other</td>\n",
       "      <td>2021.0</td>\n",
       "      <td>10.0</td>\n",
       "      <td>2367.0</td>\n",
       "      <td>1.117373e+06</td>\n",
       "      <td>1.423744e+06</td>\n",
       "      <td>38000.0</td>\n",
       "      <td>350000.0</td>\n",
       "      <td>700000.0</td>\n",
       "      <td>1326000.0</td>\n",
       "      <td>12000000.0</td>\n",
       "    </tr>\n",
       "  </tbody>\n",
       "</table>\n",
       "</div>"
      ],
      "text/plain": [
       "                     company_hash  orgyear      ctc      job_position  \\\n",
       "126677                        zvz   2019.0  3200000    data scientist   \n",
       "93215   nvnv wgzohrnvzwj otqcxwto   2012.0   850000      ios engineer   \n",
       "29447                   wvustbxzx   2013.0   910000  backend engineer   \n",
       "41080           znn avnv otqcxwto   2019.0   700000            Others   \n",
       "76917                      Others   2013.0  1100000             other   \n",
       "\n",
       "        ctc_updated_year  years_of_experience_in_organization   count  \\\n",
       "126677            2019.0                                  4.0    39.0   \n",
       "93215             2019.0                                 11.0    19.0   \n",
       "29447             2021.0                                 10.0   247.0   \n",
       "41080             2019.0                                  4.0    62.0   \n",
       "76917             2021.0                                 10.0  2367.0   \n",
       "\n",
       "                mean           std       min       25%        50%        75%  \\\n",
       "126677  1.211500e+06  7.584555e+05   46500.0  647500.0  1000000.0  1650000.0   \n",
       "93215   6.852632e+05  3.520475e+05   70000.0  425000.0   600000.0   850000.0   \n",
       "29447   8.295992e+05  4.891276e+05   40000.0  475000.0   700000.0  1070000.0   \n",
       "41080   1.142984e+06  1.738646e+06  300000.0  400000.0   690000.0  1275000.0   \n",
       "76917   1.117373e+06  1.423744e+06   38000.0  350000.0   700000.0  1326000.0   \n",
       "\n",
       "               max  \n",
       "126677   3200000.0  \n",
       "93215    1550000.0  \n",
       "29447    3000000.0  \n",
       "41080   10000000.0  \n",
       "76917   12000000.0  "
      ]
     },
     "execution_count": 217,
     "metadata": {},
     "output_type": "execute_result"
    }
   ],
   "source": [
    "df_GROUPED_C_J.sample(5)"
   ]
  },
  {
   "cell_type": "code",
   "execution_count": 218,
   "id": "b947b59f",
   "metadata": {},
   "outputs": [],
   "source": [
    "# creating classes basis on the salary in their respective company"
   ]
  },
  {
   "cell_type": "code",
   "execution_count": 219,
   "id": "59c089f5",
   "metadata": {},
   "outputs": [],
   "source": [
    "df_GROUPED_C_J['classs'] = df_GROUPED_C_J.apply(lambda x: classification(x['ctc'],x['50%'],x['75%']),axis=1)\n"
   ]
  },
  {
   "cell_type": "code",
   "execution_count": 220,
   "id": "263f4d64",
   "metadata": {},
   "outputs": [
    {
     "data": {
      "text/html": [
       "<div>\n",
       "<style scoped>\n",
       "    .dataframe tbody tr th:only-of-type {\n",
       "        vertical-align: middle;\n",
       "    }\n",
       "\n",
       "    .dataframe tbody tr th {\n",
       "        vertical-align: top;\n",
       "    }\n",
       "\n",
       "    .dataframe thead th {\n",
       "        text-align: right;\n",
       "    }\n",
       "</style>\n",
       "<table border=\"1\" class=\"dataframe\">\n",
       "  <thead>\n",
       "    <tr style=\"text-align: right;\">\n",
       "      <th></th>\n",
       "      <th>company_hash</th>\n",
       "      <th>orgyear</th>\n",
       "      <th>ctc</th>\n",
       "      <th>job_position</th>\n",
       "      <th>ctc_updated_year</th>\n",
       "      <th>years_of_experience_in_organization</th>\n",
       "      <th>count</th>\n",
       "      <th>mean</th>\n",
       "      <th>std</th>\n",
       "      <th>min</th>\n",
       "      <th>25%</th>\n",
       "      <th>50%</th>\n",
       "      <th>75%</th>\n",
       "      <th>max</th>\n",
       "      <th>classs</th>\n",
       "    </tr>\n",
       "  </thead>\n",
       "  <tbody>\n",
       "    <tr>\n",
       "      <th>79071</th>\n",
       "      <td>ohnytqrvza</td>\n",
       "      <td>2017.0</td>\n",
       "      <td>710000</td>\n",
       "      <td>data scientist</td>\n",
       "      <td>2019.0</td>\n",
       "      <td>6.0</td>\n",
       "      <td>2.0</td>\n",
       "      <td>6.155000e+06</td>\n",
       "      <td>7.700393e+06</td>\n",
       "      <td>710000.0</td>\n",
       "      <td>3432500.0</td>\n",
       "      <td>6155000.0</td>\n",
       "      <td>8877500.0</td>\n",
       "      <td>11600000.0</td>\n",
       "      <td>3</td>\n",
       "    </tr>\n",
       "    <tr>\n",
       "      <th>122059</th>\n",
       "      <td>Others</td>\n",
       "      <td>2019.0</td>\n",
       "      <td>130000</td>\n",
       "      <td>fullstack engineer</td>\n",
       "      <td>2020.0</td>\n",
       "      <td>4.0</td>\n",
       "      <td>3181.0</td>\n",
       "      <td>1.193104e+06</td>\n",
       "      <td>1.532888e+06</td>\n",
       "      <td>40000.0</td>\n",
       "      <td>350000.0</td>\n",
       "      <td>775000.0</td>\n",
       "      <td>1450000.0</td>\n",
       "      <td>12000000.0</td>\n",
       "      <td>3</td>\n",
       "    </tr>\n",
       "    <tr>\n",
       "      <th>35726</th>\n",
       "      <td>wvwnho wgbbhzxwvnxgzo</td>\n",
       "      <td>2013.0</td>\n",
       "      <td>400000</td>\n",
       "      <td>Others</td>\n",
       "      <td>2020.0</td>\n",
       "      <td>10.0</td>\n",
       "      <td>3.0</td>\n",
       "      <td>7.333333e+05</td>\n",
       "      <td>5.773503e+05</td>\n",
       "      <td>400000.0</td>\n",
       "      <td>400000.0</td>\n",
       "      <td>400000.0</td>\n",
       "      <td>900000.0</td>\n",
       "      <td>1400000.0</td>\n",
       "      <td>2</td>\n",
       "    </tr>\n",
       "    <tr>\n",
       "      <th>68461</th>\n",
       "      <td>vau</td>\n",
       "      <td>2015.0</td>\n",
       "      <td>819999</td>\n",
       "      <td>backend engineer</td>\n",
       "      <td>2019.0</td>\n",
       "      <td>8.0</td>\n",
       "      <td>51.0</td>\n",
       "      <td>1.124500e+06</td>\n",
       "      <td>9.053526e+05</td>\n",
       "      <td>105000.0</td>\n",
       "      <td>690000.0</td>\n",
       "      <td>820000.0</td>\n",
       "      <td>1325000.0</td>\n",
       "      <td>6000000.0</td>\n",
       "      <td>3</td>\n",
       "    </tr>\n",
       "    <tr>\n",
       "      <th>42240</th>\n",
       "      <td>wgszxkvzn</td>\n",
       "      <td>2015.0</td>\n",
       "      <td>800000</td>\n",
       "      <td>frontend engineer</td>\n",
       "      <td>2021.0</td>\n",
       "      <td>8.0</td>\n",
       "      <td>105.0</td>\n",
       "      <td>7.959143e+05</td>\n",
       "      <td>5.380693e+05</td>\n",
       "      <td>65000.0</td>\n",
       "      <td>450000.0</td>\n",
       "      <td>600000.0</td>\n",
       "      <td>1000000.0</td>\n",
       "      <td>4298000.0</td>\n",
       "      <td>2</td>\n",
       "    </tr>\n",
       "  </tbody>\n",
       "</table>\n",
       "</div>"
      ],
      "text/plain": [
       "                 company_hash  orgyear     ctc        job_position  \\\n",
       "79071              ohnytqrvza   2017.0  710000      data scientist   \n",
       "122059                 Others   2019.0  130000  fullstack engineer   \n",
       "35726   wvwnho wgbbhzxwvnxgzo   2013.0  400000              Others   \n",
       "68461                     vau   2015.0  819999    backend engineer   \n",
       "42240               wgszxkvzn   2015.0  800000   frontend engineer   \n",
       "\n",
       "        ctc_updated_year  years_of_experience_in_organization   count  \\\n",
       "79071             2019.0                                  6.0     2.0   \n",
       "122059            2020.0                                  4.0  3181.0   \n",
       "35726             2020.0                                 10.0     3.0   \n",
       "68461             2019.0                                  8.0    51.0   \n",
       "42240             2021.0                                  8.0   105.0   \n",
       "\n",
       "                mean           std       min        25%        50%        75%  \\\n",
       "79071   6.155000e+06  7.700393e+06  710000.0  3432500.0  6155000.0  8877500.0   \n",
       "122059  1.193104e+06  1.532888e+06   40000.0   350000.0   775000.0  1450000.0   \n",
       "35726   7.333333e+05  5.773503e+05  400000.0   400000.0   400000.0   900000.0   \n",
       "68461   1.124500e+06  9.053526e+05  105000.0   690000.0   820000.0  1325000.0   \n",
       "42240   7.959143e+05  5.380693e+05   65000.0   450000.0   600000.0  1000000.0   \n",
       "\n",
       "               max  classs  \n",
       "79071   11600000.0       3  \n",
       "122059  12000000.0       3  \n",
       "35726    1400000.0       2  \n",
       "68461    6000000.0       3  \n",
       "42240    4298000.0       2  "
      ]
     },
     "execution_count": 220,
     "metadata": {},
     "output_type": "execute_result"
    }
   ],
   "source": [
    "df_GROUPED_C_J.sample(5)"
   ]
  },
  {
   "cell_type": "code",
   "execution_count": 221,
   "id": "bd9cba33",
   "metadata": {},
   "outputs": [
    {
     "data": {
      "text/plain": [
       "3    0.435373\n",
       "2    0.320101\n",
       "1    0.244526\n",
       "Name: classs, dtype: float64"
      ]
     },
     "execution_count": 221,
     "metadata": {},
     "output_type": "execute_result"
    }
   ],
   "source": [
    "df_GROUPED_C_J.classs.value_counts(normalize=True)"
   ]
  },
  {
   "cell_type": "code",
   "execution_count": 222,
   "id": "9e237285",
   "metadata": {},
   "outputs": [],
   "source": [
    "df_GROUPED_C_J.drop(columns=['count',\n",
    "                                     'mean',\n",
    "                                    'std',\n",
    "                                    'min',\n",
    "                                    '25%',\n",
    "                                    '50%',\n",
    "                                    '75%',\n",
    "                                    'max'],axis = 1,inplace=True)\n"
   ]
  },
  {
   "cell_type": "code",
   "execution_count": 223,
   "id": "ebacd7cb",
   "metadata": {},
   "outputs": [
    {
     "data": {
      "text/plain": [
       "company_hash                           atrgxnnt xzaxv\n",
       "orgyear                                        2016.0\n",
       "ctc                                           1100000\n",
       "job_position                                    other\n",
       "ctc_updated_year                               2020.0\n",
       "years_of_experience_in_organization               7.0\n",
       "designation_in_organization                         2\n",
       "Name: 0, dtype: object"
      ]
     },
     "execution_count": 223,
     "metadata": {},
     "output_type": "execute_result"
    }
   ],
   "source": [
    "df_GROUPED_CTC_BY_E_P_C.iloc[0]"
   ]
  },
  {
   "cell_type": "code",
   "execution_count": null,
   "id": "70c940d3",
   "metadata": {},
   "outputs": [],
   "source": []
  },
  {
   "cell_type": "code",
   "execution_count": 224,
   "id": "4cfde41a",
   "metadata": {},
   "outputs": [
    {
     "data": {
      "text/plain": [
       "company_hash                           atrgxnnt xzaxv\n",
       "orgyear                                        2016.0\n",
       "ctc                                           1100000\n",
       "job_position                                    other\n",
       "ctc_updated_year                               2020.0\n",
       "years_of_experience_in_organization               7.0\n",
       "classs                                              1\n",
       "Name: 0, dtype: object"
      ]
     },
     "execution_count": 224,
     "metadata": {},
     "output_type": "execute_result"
    }
   ],
   "source": [
    "df_GROUPED_C_J.iloc[0]"
   ]
  },
  {
   "cell_type": "code",
   "execution_count": null,
   "id": "62bfedd1",
   "metadata": {},
   "outputs": [],
   "source": []
  },
  {
   "cell_type": "code",
   "execution_count": 225,
   "id": "0628eda4",
   "metadata": {},
   "outputs": [],
   "source": [
    "df_Grouped = df_GROUPED_CTC_BY_E_P_C.merge(df_GROUPED_C_J, on=['company_hash',\n",
    "                                                      'orgyear',\n",
    "                                                      'ctc',\n",
    "                                                      'job_position',\n",
    "                                                      'years_of_experience_in_organization',\n",
    "                                                      'ctc_updated_year'], how='left')\n"
   ]
  },
  {
   "cell_type": "code",
   "execution_count": 226,
   "id": "f1e4727d",
   "metadata": {},
   "outputs": [
    {
     "data": {
      "text/html": [
       "<div>\n",
       "<style scoped>\n",
       "    .dataframe tbody tr th:only-of-type {\n",
       "        vertical-align: middle;\n",
       "    }\n",
       "\n",
       "    .dataframe tbody tr th {\n",
       "        vertical-align: top;\n",
       "    }\n",
       "\n",
       "    .dataframe thead th {\n",
       "        text-align: right;\n",
       "    }\n",
       "</style>\n",
       "<table border=\"1\" class=\"dataframe\">\n",
       "  <thead>\n",
       "    <tr style=\"text-align: right;\">\n",
       "      <th></th>\n",
       "      <th>company_hash</th>\n",
       "      <th>orgyear</th>\n",
       "      <th>ctc</th>\n",
       "      <th>job_position</th>\n",
       "      <th>ctc_updated_year</th>\n",
       "      <th>years_of_experience_in_organization</th>\n",
       "      <th>designation_in_organization</th>\n",
       "      <th>classs</th>\n",
       "    </tr>\n",
       "  </thead>\n",
       "  <tbody>\n",
       "    <tr>\n",
       "      <th>107145</th>\n",
       "      <td>cgjrrv evoyxgzo ucn rna</td>\n",
       "      <td>2018.0</td>\n",
       "      <td>900000</td>\n",
       "      <td>fullstack engineer</td>\n",
       "      <td>2018.0</td>\n",
       "      <td>5.0</td>\n",
       "      <td>2</td>\n",
       "      <td>3</td>\n",
       "    </tr>\n",
       "    <tr>\n",
       "      <th>100926</th>\n",
       "      <td>ztw ntwyzgrgsxto xzaxv rna</td>\n",
       "      <td>2019.0</td>\n",
       "      <td>540000</td>\n",
       "      <td>Others</td>\n",
       "      <td>2021.0</td>\n",
       "      <td>4.0</td>\n",
       "      <td>2</td>\n",
       "      <td>3</td>\n",
       "    </tr>\n",
       "    <tr>\n",
       "      <th>62274</th>\n",
       "      <td>eoo</td>\n",
       "      <td>2019.0</td>\n",
       "      <td>500000</td>\n",
       "      <td>backend engineer</td>\n",
       "      <td>2021.0</td>\n",
       "      <td>4.0</td>\n",
       "      <td>2</td>\n",
       "      <td>2</td>\n",
       "    </tr>\n",
       "    <tr>\n",
       "      <th>10909</th>\n",
       "      <td>vqwtoxhb</td>\n",
       "      <td>2019.0</td>\n",
       "      <td>1500000</td>\n",
       "      <td>Others</td>\n",
       "      <td>2020.0</td>\n",
       "      <td>4.0</td>\n",
       "      <td>3</td>\n",
       "      <td>3</td>\n",
       "    </tr>\n",
       "    <tr>\n",
       "      <th>60338</th>\n",
       "      <td>bxzanqtt</td>\n",
       "      <td>2017.0</td>\n",
       "      <td>488000</td>\n",
       "      <td>support engineer</td>\n",
       "      <td>2020.0</td>\n",
       "      <td>6.0</td>\n",
       "      <td>2</td>\n",
       "      <td>3</td>\n",
       "    </tr>\n",
       "  </tbody>\n",
       "</table>\n",
       "</div>"
      ],
      "text/plain": [
       "                      company_hash  orgyear      ctc        job_position  \\\n",
       "107145     cgjrrv evoyxgzo ucn rna   2018.0   900000  fullstack engineer   \n",
       "100926  ztw ntwyzgrgsxto xzaxv rna   2019.0   540000              Others   \n",
       "62274                          eoo   2019.0   500000    backend engineer   \n",
       "10909                     vqwtoxhb   2019.0  1500000              Others   \n",
       "60338                     bxzanqtt   2017.0   488000    support engineer   \n",
       "\n",
       "        ctc_updated_year  years_of_experience_in_organization  \\\n",
       "107145            2018.0                                  5.0   \n",
       "100926            2021.0                                  4.0   \n",
       "62274             2021.0                                  4.0   \n",
       "10909             2020.0                                  4.0   \n",
       "60338             2020.0                                  6.0   \n",
       "\n",
       "        designation_in_organization  classs  \n",
       "107145                            2       3  \n",
       "100926                            2       3  \n",
       "62274                             2       2  \n",
       "10909                             3       3  \n",
       "60338                             2       3  "
      ]
     },
     "execution_count": 226,
     "metadata": {},
     "output_type": "execute_result"
    }
   ],
   "source": [
    "df_Grouped.sample(5)"
   ]
  },
  {
   "cell_type": "code",
   "execution_count": 227,
   "id": "34c60bfe",
   "metadata": {},
   "outputs": [
    {
     "data": {
      "text/plain": [
       "(166228, 8)"
      ]
     },
     "execution_count": 227,
     "metadata": {},
     "output_type": "execute_result"
    }
   ],
   "source": [
    "df_Grouped.shape"
   ]
  },
  {
   "cell_type": "markdown",
   "id": "284a15ec",
   "metadata": {},
   "source": [
    "## Manual Clustering based on comapny"
   ]
  },
  {
   "cell_type": "code",
   "execution_count": 228,
   "id": "11566142",
   "metadata": {},
   "outputs": [],
   "source": [
    "GROUPED_C = df.groupby(['company_hash'])['ctc'].describe()\n",
    "df_company = df.merge(GROUPED_C, on=['company_hash'], how='left')\n"
   ]
  },
  {
   "cell_type": "code",
   "execution_count": 229,
   "id": "852f541f",
   "metadata": {},
   "outputs": [
    {
     "data": {
      "text/html": [
       "<div>\n",
       "<style scoped>\n",
       "    .dataframe tbody tr th:only-of-type {\n",
       "        vertical-align: middle;\n",
       "    }\n",
       "\n",
       "    .dataframe tbody tr th {\n",
       "        vertical-align: top;\n",
       "    }\n",
       "\n",
       "    .dataframe thead th {\n",
       "        text-align: right;\n",
       "    }\n",
       "</style>\n",
       "<table border=\"1\" class=\"dataframe\">\n",
       "  <thead>\n",
       "    <tr style=\"text-align: right;\">\n",
       "      <th></th>\n",
       "      <th>company_hash</th>\n",
       "      <th>orgyear</th>\n",
       "      <th>ctc</th>\n",
       "      <th>job_position</th>\n",
       "      <th>ctc_updated_year</th>\n",
       "      <th>years_of_experience_in_organization</th>\n",
       "      <th>count</th>\n",
       "      <th>mean</th>\n",
       "      <th>std</th>\n",
       "      <th>min</th>\n",
       "      <th>25%</th>\n",
       "      <th>50%</th>\n",
       "      <th>75%</th>\n",
       "      <th>max</th>\n",
       "    </tr>\n",
       "  </thead>\n",
       "  <tbody>\n",
       "    <tr>\n",
       "      <th>46717</th>\n",
       "      <td>Others</td>\n",
       "      <td>2012.0</td>\n",
       "      <td>700000</td>\n",
       "      <td>ios engineer</td>\n",
       "      <td>2019.0</td>\n",
       "      <td>11.0</td>\n",
       "      <td>26256.0</td>\n",
       "      <td>1.311366e+06</td>\n",
       "      <td>1.436286e+06</td>\n",
       "      <td>38000.0</td>\n",
       "      <td>440000.0</td>\n",
       "      <td>900000.0</td>\n",
       "      <td>1650000.0</td>\n",
       "      <td>12500000.0</td>\n",
       "    </tr>\n",
       "    <tr>\n",
       "      <th>93680</th>\n",
       "      <td>vwwgrxnt</td>\n",
       "      <td>2013.0</td>\n",
       "      <td>1900000</td>\n",
       "      <td>backend engineer</td>\n",
       "      <td>2018.0</td>\n",
       "      <td>10.0</td>\n",
       "      <td>165.0</td>\n",
       "      <td>1.414836e+06</td>\n",
       "      <td>6.917496e+05</td>\n",
       "      <td>200000.0</td>\n",
       "      <td>1000000.0</td>\n",
       "      <td>1300000.0</td>\n",
       "      <td>1500000.0</td>\n",
       "      <td>4800000.0</td>\n",
       "    </tr>\n",
       "    <tr>\n",
       "      <th>136812</th>\n",
       "      <td>x vb v onhatzn</td>\n",
       "      <td>2018.0</td>\n",
       "      <td>600000</td>\n",
       "      <td>other</td>\n",
       "      <td>2018.0</td>\n",
       "      <td>5.0</td>\n",
       "      <td>49.0</td>\n",
       "      <td>1.206531e+06</td>\n",
       "      <td>1.115764e+06</td>\n",
       "      <td>100000.0</td>\n",
       "      <td>500000.0</td>\n",
       "      <td>900000.0</td>\n",
       "      <td>1700000.0</td>\n",
       "      <td>6500000.0</td>\n",
       "    </tr>\n",
       "    <tr>\n",
       "      <th>111948</th>\n",
       "      <td>nguuq</td>\n",
       "      <td>2018.0</td>\n",
       "      <td>1600000</td>\n",
       "      <td>Others</td>\n",
       "      <td>2019.0</td>\n",
       "      <td>5.0</td>\n",
       "      <td>72.0</td>\n",
       "      <td>1.707083e+06</td>\n",
       "      <td>1.085002e+06</td>\n",
       "      <td>350000.0</td>\n",
       "      <td>900000.0</td>\n",
       "      <td>1560000.0</td>\n",
       "      <td>2070000.0</td>\n",
       "      <td>5000000.0</td>\n",
       "    </tr>\n",
       "    <tr>\n",
       "      <th>9856</th>\n",
       "      <td>Others</td>\n",
       "      <td>2016.0</td>\n",
       "      <td>1440000</td>\n",
       "      <td>frontend engineer</td>\n",
       "      <td>2019.0</td>\n",
       "      <td>7.0</td>\n",
       "      <td>26256.0</td>\n",
       "      <td>1.311366e+06</td>\n",
       "      <td>1.436286e+06</td>\n",
       "      <td>38000.0</td>\n",
       "      <td>440000.0</td>\n",
       "      <td>900000.0</td>\n",
       "      <td>1650000.0</td>\n",
       "      <td>12500000.0</td>\n",
       "    </tr>\n",
       "  </tbody>\n",
       "</table>\n",
       "</div>"
      ],
      "text/plain": [
       "          company_hash  orgyear      ctc       job_position  ctc_updated_year  \\\n",
       "46717           Others   2012.0   700000       ios engineer            2019.0   \n",
       "93680         vwwgrxnt   2013.0  1900000   backend engineer            2018.0   \n",
       "136812  x vb v onhatzn   2018.0   600000              other            2018.0   \n",
       "111948           nguuq   2018.0  1600000             Others            2019.0   \n",
       "9856            Others   2016.0  1440000  frontend engineer            2019.0   \n",
       "\n",
       "        years_of_experience_in_organization    count          mean  \\\n",
       "46717                                  11.0  26256.0  1.311366e+06   \n",
       "93680                                  10.0    165.0  1.414836e+06   \n",
       "136812                                  5.0     49.0  1.206531e+06   \n",
       "111948                                  5.0     72.0  1.707083e+06   \n",
       "9856                                    7.0  26256.0  1.311366e+06   \n",
       "\n",
       "                 std       min        25%        50%        75%         max  \n",
       "46717   1.436286e+06   38000.0   440000.0   900000.0  1650000.0  12500000.0  \n",
       "93680   6.917496e+05  200000.0  1000000.0  1300000.0  1500000.0   4800000.0  \n",
       "136812  1.115764e+06  100000.0   500000.0   900000.0  1700000.0   6500000.0  \n",
       "111948  1.085002e+06  350000.0   900000.0  1560000.0  2070000.0   5000000.0  \n",
       "9856    1.436286e+06   38000.0   440000.0   900000.0  1650000.0  12500000.0  "
      ]
     },
     "execution_count": 229,
     "metadata": {},
     "output_type": "execute_result"
    }
   ],
   "source": [
    "df_company.sample(5)"
   ]
  },
  {
   "cell_type": "code",
   "execution_count": 230,
   "id": "aadfeea3",
   "metadata": {},
   "outputs": [],
   "source": [
    "df_company['tier'] =df_company.apply(lambda x: classification(x['ctc'],x['50%'],x['75%']),axis=1)\n"
   ]
  },
  {
   "cell_type": "code",
   "execution_count": 231,
   "id": "fff883b4",
   "metadata": {},
   "outputs": [],
   "source": [
    "# df_company.sample(5)"
   ]
  },
  {
   "cell_type": "code",
   "execution_count": 232,
   "id": "45d830d1",
   "metadata": {},
   "outputs": [
    {
     "data": {
      "text/plain": [
       "3    0.477364\n",
       "2    0.282911\n",
       "1    0.239725\n",
       "Name: tier, dtype: float64"
      ]
     },
     "execution_count": 232,
     "metadata": {},
     "output_type": "execute_result"
    }
   ],
   "source": [
    "df_company.tier.value_counts(normalize=True)"
   ]
  },
  {
   "cell_type": "code",
   "execution_count": null,
   "id": "9dd822cb",
   "metadata": {},
   "outputs": [],
   "source": []
  },
  {
   "cell_type": "code",
   "execution_count": null,
   "id": "d86ae1cf",
   "metadata": {},
   "outputs": [],
   "source": []
  },
  {
   "cell_type": "code",
   "execution_count": null,
   "id": "7cfbbe18",
   "metadata": {},
   "outputs": [],
   "source": []
  },
  {
   "cell_type": "code",
   "execution_count": 233,
   "id": "91a7a7ea",
   "metadata": {},
   "outputs": [],
   "source": [
    "df_company.drop(['count','mean','std','min','25%','50%','75%','max'],\n",
    "               axis = 1,\n",
    "               inplace=True)"
   ]
  },
  {
   "cell_type": "code",
   "execution_count": 234,
   "id": "e9e77421",
   "metadata": {},
   "outputs": [
    {
     "data": {
      "text/plain": [
       "company_hash                           atrgxnnt xzaxv\n",
       "orgyear                                        2016.0\n",
       "ctc                                           1100000\n",
       "job_position                                    other\n",
       "ctc_updated_year                               2020.0\n",
       "years_of_experience_in_organization               7.0\n",
       "tier                                                2\n",
       "Name: 0, dtype: object"
      ]
     },
     "execution_count": 234,
     "metadata": {},
     "output_type": "execute_result"
    }
   ],
   "source": [
    "df_company.iloc[0]"
   ]
  },
  {
   "cell_type": "code",
   "execution_count": 235,
   "id": "a913218a",
   "metadata": {},
   "outputs": [
    {
     "data": {
      "text/plain": [
       "company_hash                           atrgxnnt xzaxv\n",
       "orgyear                                        2016.0\n",
       "ctc                                           1100000\n",
       "job_position                                    other\n",
       "ctc_updated_year                               2020.0\n",
       "years_of_experience_in_organization               7.0\n",
       "designation_in_organization                         2\n",
       "classs                                              1\n",
       "Name: 0, dtype: object"
      ]
     },
     "execution_count": 235,
     "metadata": {},
     "output_type": "execute_result"
    }
   ],
   "source": [
    "df_Grouped.iloc[0]"
   ]
  },
  {
   "cell_type": "code",
   "execution_count": 236,
   "id": "23d9e723",
   "metadata": {},
   "outputs": [],
   "source": [
    "df_Grouped = df_Grouped.merge(df_company,\n",
    "                 on=['company_hash',\n",
    "                     'orgyear','ctc',\n",
    "                     'job_position',\n",
    "                     'years_of_experience_in_organization',\n",
    "                     'ctc_updated_year'\n",
    "                    ])"
   ]
  },
  {
   "cell_type": "code",
   "execution_count": 237,
   "id": "65f02a55",
   "metadata": {},
   "outputs": [
    {
     "data": {
      "text/html": [
       "<div>\n",
       "<style scoped>\n",
       "    .dataframe tbody tr th:only-of-type {\n",
       "        vertical-align: middle;\n",
       "    }\n",
       "\n",
       "    .dataframe tbody tr th {\n",
       "        vertical-align: top;\n",
       "    }\n",
       "\n",
       "    .dataframe thead th {\n",
       "        text-align: right;\n",
       "    }\n",
       "</style>\n",
       "<table border=\"1\" class=\"dataframe\">\n",
       "  <thead>\n",
       "    <tr style=\"text-align: right;\">\n",
       "      <th></th>\n",
       "      <th>company_hash</th>\n",
       "      <th>orgyear</th>\n",
       "      <th>ctc</th>\n",
       "      <th>job_position</th>\n",
       "      <th>ctc_updated_year</th>\n",
       "      <th>years_of_experience_in_organization</th>\n",
       "      <th>designation_in_organization</th>\n",
       "      <th>classs</th>\n",
       "      <th>tier</th>\n",
       "    </tr>\n",
       "  </thead>\n",
       "  <tbody>\n",
       "    <tr>\n",
       "      <th>0</th>\n",
       "      <td>atrgxnnt xzaxv</td>\n",
       "      <td>2016.0</td>\n",
       "      <td>1100000</td>\n",
       "      <td>other</td>\n",
       "      <td>2020.0</td>\n",
       "      <td>7.0</td>\n",
       "      <td>2</td>\n",
       "      <td>1</td>\n",
       "      <td>2</td>\n",
       "    </tr>\n",
       "    <tr>\n",
       "      <th>1</th>\n",
       "      <td>qtrxvzwt xzegwgbb rxbxnta</td>\n",
       "      <td>2018.0</td>\n",
       "      <td>449999</td>\n",
       "      <td>fullstack engineer</td>\n",
       "      <td>2019.0</td>\n",
       "      <td>5.0</td>\n",
       "      <td>3</td>\n",
       "      <td>3</td>\n",
       "      <td>3</td>\n",
       "    </tr>\n",
       "    <tr>\n",
       "      <th>2</th>\n",
       "      <td>Others</td>\n",
       "      <td>2015.0</td>\n",
       "      <td>2000000</td>\n",
       "      <td>backend engineer</td>\n",
       "      <td>2020.0</td>\n",
       "      <td>8.0</td>\n",
       "      <td>1</td>\n",
       "      <td>1</td>\n",
       "      <td>1</td>\n",
       "    </tr>\n",
       "    <tr>\n",
       "      <th>3</th>\n",
       "      <td>ngpgutaxv</td>\n",
       "      <td>2017.0</td>\n",
       "      <td>700000</td>\n",
       "      <td>backend engineer</td>\n",
       "      <td>2019.0</td>\n",
       "      <td>6.0</td>\n",
       "      <td>3</td>\n",
       "      <td>3</td>\n",
       "      <td>3</td>\n",
       "    </tr>\n",
       "    <tr>\n",
       "      <th>4</th>\n",
       "      <td>qxen sqghu</td>\n",
       "      <td>2017.0</td>\n",
       "      <td>1400000</td>\n",
       "      <td>fullstack engineer</td>\n",
       "      <td>2019.0</td>\n",
       "      <td>6.0</td>\n",
       "      <td>2</td>\n",
       "      <td>1</td>\n",
       "      <td>1</td>\n",
       "    </tr>\n",
       "    <tr>\n",
       "      <th>...</th>\n",
       "      <td>...</td>\n",
       "      <td>...</td>\n",
       "      <td>...</td>\n",
       "      <td>...</td>\n",
       "      <td>...</td>\n",
       "      <td>...</td>\n",
       "      <td>...</td>\n",
       "      <td>...</td>\n",
       "      <td>...</td>\n",
       "    </tr>\n",
       "    <tr>\n",
       "      <th>171311</th>\n",
       "      <td>vuurt xzw</td>\n",
       "      <td>2008.0</td>\n",
       "      <td>220000</td>\n",
       "      <td>Others</td>\n",
       "      <td>2019.0</td>\n",
       "      <td>15.0</td>\n",
       "      <td>2</td>\n",
       "      <td>3</td>\n",
       "      <td>3</td>\n",
       "    </tr>\n",
       "    <tr>\n",
       "      <th>171312</th>\n",
       "      <td>husqvawgb</td>\n",
       "      <td>2017.0</td>\n",
       "      <td>500000</td>\n",
       "      <td>Others</td>\n",
       "      <td>2020.0</td>\n",
       "      <td>6.0</td>\n",
       "      <td>3</td>\n",
       "      <td>3</td>\n",
       "      <td>3</td>\n",
       "    </tr>\n",
       "    <tr>\n",
       "      <th>171313</th>\n",
       "      <td>vwwgrxnt</td>\n",
       "      <td>2021.0</td>\n",
       "      <td>700000</td>\n",
       "      <td>Others</td>\n",
       "      <td>2021.0</td>\n",
       "      <td>2.0</td>\n",
       "      <td>2</td>\n",
       "      <td>3</td>\n",
       "      <td>3</td>\n",
       "    </tr>\n",
       "    <tr>\n",
       "      <th>171314</th>\n",
       "      <td>zgn vuurxwvmrt</td>\n",
       "      <td>2019.0</td>\n",
       "      <td>5100000</td>\n",
       "      <td>Others</td>\n",
       "      <td>2019.0</td>\n",
       "      <td>4.0</td>\n",
       "      <td>1</td>\n",
       "      <td>1</td>\n",
       "      <td>1</td>\n",
       "    </tr>\n",
       "    <tr>\n",
       "      <th>171315</th>\n",
       "      <td>bgqsvz onvzrtj</td>\n",
       "      <td>2014.0</td>\n",
       "      <td>1240000</td>\n",
       "      <td>Others</td>\n",
       "      <td>2016.0</td>\n",
       "      <td>9.0</td>\n",
       "      <td>3</td>\n",
       "      <td>3</td>\n",
       "      <td>3</td>\n",
       "    </tr>\n",
       "  </tbody>\n",
       "</table>\n",
       "<p>171316 rows × 9 columns</p>\n",
       "</div>"
      ],
      "text/plain": [
       "                     company_hash  orgyear      ctc        job_position  \\\n",
       "0                  atrgxnnt xzaxv   2016.0  1100000               other   \n",
       "1       qtrxvzwt xzegwgbb rxbxnta   2018.0   449999  fullstack engineer   \n",
       "2                          Others   2015.0  2000000    backend engineer   \n",
       "3                       ngpgutaxv   2017.0   700000    backend engineer   \n",
       "4                      qxen sqghu   2017.0  1400000  fullstack engineer   \n",
       "...                           ...      ...      ...                 ...   \n",
       "171311                  vuurt xzw   2008.0   220000              Others   \n",
       "171312                  husqvawgb   2017.0   500000              Others   \n",
       "171313                   vwwgrxnt   2021.0   700000              Others   \n",
       "171314             zgn vuurxwvmrt   2019.0  5100000              Others   \n",
       "171315             bgqsvz onvzrtj   2014.0  1240000              Others   \n",
       "\n",
       "        ctc_updated_year  years_of_experience_in_organization  \\\n",
       "0                 2020.0                                  7.0   \n",
       "1                 2019.0                                  5.0   \n",
       "2                 2020.0                                  8.0   \n",
       "3                 2019.0                                  6.0   \n",
       "4                 2019.0                                  6.0   \n",
       "...                  ...                                  ...   \n",
       "171311            2019.0                                 15.0   \n",
       "171312            2020.0                                  6.0   \n",
       "171313            2021.0                                  2.0   \n",
       "171314            2019.0                                  4.0   \n",
       "171315            2016.0                                  9.0   \n",
       "\n",
       "        designation_in_organization  classs  tier  \n",
       "0                                 2       1     2  \n",
       "1                                 3       3     3  \n",
       "2                                 1       1     1  \n",
       "3                                 3       3     3  \n",
       "4                                 2       1     1  \n",
       "...                             ...     ...   ...  \n",
       "171311                            2       3     3  \n",
       "171312                            3       3     3  \n",
       "171313                            2       3     3  \n",
       "171314                            1       1     1  \n",
       "171315                            3       3     3  \n",
       "\n",
       "[171316 rows x 9 columns]"
      ]
     },
     "execution_count": 237,
     "metadata": {},
     "output_type": "execute_result"
    }
   ],
   "source": [
    "df_Grouped"
   ]
  },
  {
   "cell_type": "code",
   "execution_count": 238,
   "id": "f5840d72",
   "metadata": {},
   "outputs": [],
   "source": [
    "X = df_Grouped.copy()"
   ]
  },
  {
   "cell_type": "code",
   "execution_count": null,
   "id": "31810e55",
   "metadata": {},
   "outputs": [],
   "source": []
  },
  {
   "cell_type": "code",
   "execution_count": 239,
   "id": "bf692d54",
   "metadata": {},
   "outputs": [
    {
     "data": {
      "text/plain": [
       "(171316, 9)"
      ]
     },
     "execution_count": 239,
     "metadata": {},
     "output_type": "execute_result"
    }
   ],
   "source": [
    "X.shape"
   ]
  },
  {
   "cell_type": "code",
   "execution_count": 240,
   "id": "64fba336",
   "metadata": {},
   "outputs": [],
   "source": [
    "X_data = X.drop([\"company_hash\",\"job_position\"],axis  = 1)"
   ]
  },
  {
   "cell_type": "code",
   "execution_count": 241,
   "id": "8284b05a",
   "metadata": {},
   "outputs": [
    {
     "data": {
      "text/html": [
       "<div>\n",
       "<style scoped>\n",
       "    .dataframe tbody tr th:only-of-type {\n",
       "        vertical-align: middle;\n",
       "    }\n",
       "\n",
       "    .dataframe tbody tr th {\n",
       "        vertical-align: top;\n",
       "    }\n",
       "\n",
       "    .dataframe thead th {\n",
       "        text-align: right;\n",
       "    }\n",
       "</style>\n",
       "<table border=\"1\" class=\"dataframe\">\n",
       "  <thead>\n",
       "    <tr style=\"text-align: right;\">\n",
       "      <th></th>\n",
       "      <th>orgyear</th>\n",
       "      <th>ctc</th>\n",
       "      <th>ctc_updated_year</th>\n",
       "      <th>years_of_experience_in_organization</th>\n",
       "      <th>designation_in_organization</th>\n",
       "      <th>classs</th>\n",
       "      <th>tier</th>\n",
       "    </tr>\n",
       "  </thead>\n",
       "  <tbody>\n",
       "    <tr>\n",
       "      <th>0</th>\n",
       "      <td>2016.0</td>\n",
       "      <td>1100000</td>\n",
       "      <td>2020.0</td>\n",
       "      <td>7.0</td>\n",
       "      <td>2</td>\n",
       "      <td>1</td>\n",
       "      <td>2</td>\n",
       "    </tr>\n",
       "    <tr>\n",
       "      <th>1</th>\n",
       "      <td>2018.0</td>\n",
       "      <td>449999</td>\n",
       "      <td>2019.0</td>\n",
       "      <td>5.0</td>\n",
       "      <td>3</td>\n",
       "      <td>3</td>\n",
       "      <td>3</td>\n",
       "    </tr>\n",
       "    <tr>\n",
       "      <th>2</th>\n",
       "      <td>2015.0</td>\n",
       "      <td>2000000</td>\n",
       "      <td>2020.0</td>\n",
       "      <td>8.0</td>\n",
       "      <td>1</td>\n",
       "      <td>1</td>\n",
       "      <td>1</td>\n",
       "    </tr>\n",
       "    <tr>\n",
       "      <th>3</th>\n",
       "      <td>2017.0</td>\n",
       "      <td>700000</td>\n",
       "      <td>2019.0</td>\n",
       "      <td>6.0</td>\n",
       "      <td>3</td>\n",
       "      <td>3</td>\n",
       "      <td>3</td>\n",
       "    </tr>\n",
       "    <tr>\n",
       "      <th>4</th>\n",
       "      <td>2017.0</td>\n",
       "      <td>1400000</td>\n",
       "      <td>2019.0</td>\n",
       "      <td>6.0</td>\n",
       "      <td>2</td>\n",
       "      <td>1</td>\n",
       "      <td>1</td>\n",
       "    </tr>\n",
       "    <tr>\n",
       "      <th>...</th>\n",
       "      <td>...</td>\n",
       "      <td>...</td>\n",
       "      <td>...</td>\n",
       "      <td>...</td>\n",
       "      <td>...</td>\n",
       "      <td>...</td>\n",
       "      <td>...</td>\n",
       "    </tr>\n",
       "    <tr>\n",
       "      <th>171311</th>\n",
       "      <td>2008.0</td>\n",
       "      <td>220000</td>\n",
       "      <td>2019.0</td>\n",
       "      <td>15.0</td>\n",
       "      <td>2</td>\n",
       "      <td>3</td>\n",
       "      <td>3</td>\n",
       "    </tr>\n",
       "    <tr>\n",
       "      <th>171312</th>\n",
       "      <td>2017.0</td>\n",
       "      <td>500000</td>\n",
       "      <td>2020.0</td>\n",
       "      <td>6.0</td>\n",
       "      <td>3</td>\n",
       "      <td>3</td>\n",
       "      <td>3</td>\n",
       "    </tr>\n",
       "    <tr>\n",
       "      <th>171313</th>\n",
       "      <td>2021.0</td>\n",
       "      <td>700000</td>\n",
       "      <td>2021.0</td>\n",
       "      <td>2.0</td>\n",
       "      <td>2</td>\n",
       "      <td>3</td>\n",
       "      <td>3</td>\n",
       "    </tr>\n",
       "    <tr>\n",
       "      <th>171314</th>\n",
       "      <td>2019.0</td>\n",
       "      <td>5100000</td>\n",
       "      <td>2019.0</td>\n",
       "      <td>4.0</td>\n",
       "      <td>1</td>\n",
       "      <td>1</td>\n",
       "      <td>1</td>\n",
       "    </tr>\n",
       "    <tr>\n",
       "      <th>171315</th>\n",
       "      <td>2014.0</td>\n",
       "      <td>1240000</td>\n",
       "      <td>2016.0</td>\n",
       "      <td>9.0</td>\n",
       "      <td>3</td>\n",
       "      <td>3</td>\n",
       "      <td>3</td>\n",
       "    </tr>\n",
       "  </tbody>\n",
       "</table>\n",
       "<p>171316 rows × 7 columns</p>\n",
       "</div>"
      ],
      "text/plain": [
       "        orgyear      ctc  ctc_updated_year  \\\n",
       "0        2016.0  1100000            2020.0   \n",
       "1        2018.0   449999            2019.0   \n",
       "2        2015.0  2000000            2020.0   \n",
       "3        2017.0   700000            2019.0   \n",
       "4        2017.0  1400000            2019.0   \n",
       "...         ...      ...               ...   \n",
       "171311   2008.0   220000            2019.0   \n",
       "171312   2017.0   500000            2020.0   \n",
       "171313   2021.0   700000            2021.0   \n",
       "171314   2019.0  5100000            2019.0   \n",
       "171315   2014.0  1240000            2016.0   \n",
       "\n",
       "        years_of_experience_in_organization  designation_in_organization  \\\n",
       "0                                       7.0                            2   \n",
       "1                                       5.0                            3   \n",
       "2                                       8.0                            1   \n",
       "3                                       6.0                            3   \n",
       "4                                       6.0                            2   \n",
       "...                                     ...                          ...   \n",
       "171311                                 15.0                            2   \n",
       "171312                                  6.0                            3   \n",
       "171313                                  2.0                            2   \n",
       "171314                                  4.0                            1   \n",
       "171315                                  9.0                            3   \n",
       "\n",
       "        classs  tier  \n",
       "0            1     2  \n",
       "1            3     3  \n",
       "2            1     1  \n",
       "3            3     3  \n",
       "4            1     1  \n",
       "...        ...   ...  \n",
       "171311       3     3  \n",
       "171312       3     3  \n",
       "171313       3     3  \n",
       "171314       1     1  \n",
       "171315       3     3  \n",
       "\n",
       "[171316 rows x 7 columns]"
      ]
     },
     "execution_count": 241,
     "metadata": {},
     "output_type": "execute_result"
    }
   ],
   "source": [
    "X_data"
   ]
  },
  {
   "cell_type": "code",
   "execution_count": null,
   "id": "2e72341d",
   "metadata": {},
   "outputs": [],
   "source": []
  },
  {
   "cell_type": "code",
   "execution_count": 242,
   "id": "605bcbf2",
   "metadata": {},
   "outputs": [],
   "source": [
    "from sklearn.preprocessing import StandardScaler\n",
    "\n",
    "scaler = StandardScaler()\n",
    "scaler.fit(X_data)\n",
    "X_sc = pd.DataFrame(scaler.transform(X_data), columns=X_data.columns, index=X_data.index)"
   ]
  },
  {
   "cell_type": "code",
   "execution_count": null,
   "id": "76a87fb1",
   "metadata": {},
   "outputs": [],
   "source": []
  },
  {
   "cell_type": "code",
   "execution_count": 243,
   "id": "5819a33e",
   "metadata": {},
   "outputs": [
    {
     "data": {
      "text/html": [
       "<div>\n",
       "<style scoped>\n",
       "    .dataframe tbody tr th:only-of-type {\n",
       "        vertical-align: middle;\n",
       "    }\n",
       "\n",
       "    .dataframe tbody tr th {\n",
       "        vertical-align: top;\n",
       "    }\n",
       "\n",
       "    .dataframe thead th {\n",
       "        text-align: right;\n",
       "    }\n",
       "</style>\n",
       "<table border=\"1\" class=\"dataframe\">\n",
       "  <thead>\n",
       "    <tr style=\"text-align: right;\">\n",
       "      <th></th>\n",
       "      <th>orgyear</th>\n",
       "      <th>ctc</th>\n",
       "      <th>ctc_updated_year</th>\n",
       "      <th>years_of_experience_in_organization</th>\n",
       "      <th>designation_in_organization</th>\n",
       "      <th>classs</th>\n",
       "      <th>tier</th>\n",
       "    </tr>\n",
       "  </thead>\n",
       "  <tbody>\n",
       "    <tr>\n",
       "      <th>0</th>\n",
       "      <td>0.229439</td>\n",
       "      <td>-0.238430</td>\n",
       "      <td>0.298195</td>\n",
       "      <td>-0.229439</td>\n",
       "      <td>-0.175910</td>\n",
       "      <td>-1.497105</td>\n",
       "      <td>-0.300556</td>\n",
       "    </tr>\n",
       "    <tr>\n",
       "      <th>1</th>\n",
       "      <td>0.680950</td>\n",
       "      <td>-0.741765</td>\n",
       "      <td>-0.452799</td>\n",
       "      <td>-0.680950</td>\n",
       "      <td>1.196414</td>\n",
       "      <td>1.001707</td>\n",
       "      <td>0.933655</td>\n",
       "    </tr>\n",
       "    <tr>\n",
       "      <th>2</th>\n",
       "      <td>0.003683</td>\n",
       "      <td>0.458493</td>\n",
       "      <td>0.298195</td>\n",
       "      <td>-0.003683</td>\n",
       "      <td>-1.548235</td>\n",
       "      <td>-1.497105</td>\n",
       "      <td>-1.534766</td>\n",
       "    </tr>\n",
       "    <tr>\n",
       "      <th>3</th>\n",
       "      <td>0.455194</td>\n",
       "      <td>-0.548174</td>\n",
       "      <td>-0.452799</td>\n",
       "      <td>-0.455194</td>\n",
       "      <td>1.196414</td>\n",
       "      <td>1.001707</td>\n",
       "      <td>0.933655</td>\n",
       "    </tr>\n",
       "    <tr>\n",
       "      <th>4</th>\n",
       "      <td>0.455194</td>\n",
       "      <td>-0.006122</td>\n",
       "      <td>-0.452799</td>\n",
       "      <td>-0.455194</td>\n",
       "      <td>-0.175910</td>\n",
       "      <td>-1.497105</td>\n",
       "      <td>-1.534766</td>\n",
       "    </tr>\n",
       "    <tr>\n",
       "      <th>...</th>\n",
       "      <td>...</td>\n",
       "      <td>...</td>\n",
       "      <td>...</td>\n",
       "      <td>...</td>\n",
       "      <td>...</td>\n",
       "      <td>...</td>\n",
       "      <td>...</td>\n",
       "    </tr>\n",
       "    <tr>\n",
       "      <th>171311</th>\n",
       "      <td>-1.576605</td>\n",
       "      <td>-0.919866</td>\n",
       "      <td>-0.452799</td>\n",
       "      <td>1.576605</td>\n",
       "      <td>-0.175910</td>\n",
       "      <td>1.001707</td>\n",
       "      <td>0.933655</td>\n",
       "    </tr>\n",
       "    <tr>\n",
       "      <th>171312</th>\n",
       "      <td>0.455194</td>\n",
       "      <td>-0.703046</td>\n",
       "      <td>0.298195</td>\n",
       "      <td>-0.455194</td>\n",
       "      <td>1.196414</td>\n",
       "      <td>1.001707</td>\n",
       "      <td>0.933655</td>\n",
       "    </tr>\n",
       "    <tr>\n",
       "      <th>171313</th>\n",
       "      <td>1.358216</td>\n",
       "      <td>-0.548174</td>\n",
       "      <td>1.049190</td>\n",
       "      <td>-1.358216</td>\n",
       "      <td>-0.175910</td>\n",
       "      <td>1.001707</td>\n",
       "      <td>0.933655</td>\n",
       "    </tr>\n",
       "    <tr>\n",
       "      <th>171314</th>\n",
       "      <td>0.906705</td>\n",
       "      <td>2.859008</td>\n",
       "      <td>-0.452799</td>\n",
       "      <td>-0.906705</td>\n",
       "      <td>-1.548235</td>\n",
       "      <td>-1.497105</td>\n",
       "      <td>-1.534766</td>\n",
       "    </tr>\n",
       "    <tr>\n",
       "      <th>171315</th>\n",
       "      <td>-0.222072</td>\n",
       "      <td>-0.130020</td>\n",
       "      <td>-2.705782</td>\n",
       "      <td>0.222072</td>\n",
       "      <td>1.196414</td>\n",
       "      <td>1.001707</td>\n",
       "      <td>0.933655</td>\n",
       "    </tr>\n",
       "  </tbody>\n",
       "</table>\n",
       "<p>171316 rows × 7 columns</p>\n",
       "</div>"
      ],
      "text/plain": [
       "         orgyear       ctc  ctc_updated_year  \\\n",
       "0       0.229439 -0.238430          0.298195   \n",
       "1       0.680950 -0.741765         -0.452799   \n",
       "2       0.003683  0.458493          0.298195   \n",
       "3       0.455194 -0.548174         -0.452799   \n",
       "4       0.455194 -0.006122         -0.452799   \n",
       "...          ...       ...               ...   \n",
       "171311 -1.576605 -0.919866         -0.452799   \n",
       "171312  0.455194 -0.703046          0.298195   \n",
       "171313  1.358216 -0.548174          1.049190   \n",
       "171314  0.906705  2.859008         -0.452799   \n",
       "171315 -0.222072 -0.130020         -2.705782   \n",
       "\n",
       "        years_of_experience_in_organization  designation_in_organization  \\\n",
       "0                                 -0.229439                    -0.175910   \n",
       "1                                 -0.680950                     1.196414   \n",
       "2                                 -0.003683                    -1.548235   \n",
       "3                                 -0.455194                     1.196414   \n",
       "4                                 -0.455194                    -0.175910   \n",
       "...                                     ...                          ...   \n",
       "171311                             1.576605                    -0.175910   \n",
       "171312                            -0.455194                     1.196414   \n",
       "171313                            -1.358216                    -0.175910   \n",
       "171314                            -0.906705                    -1.548235   \n",
       "171315                             0.222072                     1.196414   \n",
       "\n",
       "          classs      tier  \n",
       "0      -1.497105 -0.300556  \n",
       "1       1.001707  0.933655  \n",
       "2      -1.497105 -1.534766  \n",
       "3       1.001707  0.933655  \n",
       "4      -1.497105 -1.534766  \n",
       "...          ...       ...  \n",
       "171311  1.001707  0.933655  \n",
       "171312  1.001707  0.933655  \n",
       "171313  1.001707  0.933655  \n",
       "171314 -1.497105 -1.534766  \n",
       "171315  1.001707  0.933655  \n",
       "\n",
       "[171316 rows x 7 columns]"
      ]
     },
     "execution_count": 243,
     "metadata": {},
     "output_type": "execute_result"
    }
   ],
   "source": [
    "X_sc"
   ]
  },
  {
   "cell_type": "code",
   "execution_count": null,
   "id": "69468fb5",
   "metadata": {},
   "outputs": [],
   "source": []
  },
  {
   "cell_type": "code",
   "execution_count": 244,
   "id": "2633487f",
   "metadata": {},
   "outputs": [
    {
     "data": {
      "image/png": "[encoded data removed]",
      "text/plain": [
       "<Figure size 1440x864 with 1 Axes>"
      ]
     },
     "metadata": {
      "needs_background": "light"
     },
     "output_type": "display_data"
    },
    {
     "data": {
      "image/png": "[encoded data removed]",
      "text/plain": [
       "<Figure size 1440x864 with 1 Axes>"
      ]
     },
     "metadata": {
      "needs_background": "light"
     },
     "output_type": "display_data"
    },
    {
     "data": {
      "image/png": "[encoded data removed]",
      "text/plain": [
       "<Figure size 1440x864 with 1 Axes>"
      ]
     },
     "metadata": {
      "needs_background": "light"
     },
     "output_type": "display_data"
    }
   ],
   "source": [
    "import scipy.cluster.hierarchy as sch\n",
    "import matplotlib.pyplot as plt\n",
    "\n",
    "sample = X_sc.sample(500)\n",
    "Z = sch.linkage(sample, method='ward')\n",
    "\n",
    "fig, ax1 = plt.subplots(figsize=(20, 12))\n",
    "sch.dendrogram(Z, labels=sample.index, ax=ax1, color_threshold=2)\n",
    "plt.xticks(rotation=90)\n",
    "ax1.set_ylabel('distance')\n",
    "plt.show()\n",
    "\n",
    "import scipy.cluster.hierarchy as sch\n",
    "import matplotlib.pyplot as plt\n",
    "\n",
    "sample = X_sc.sample(500)\n",
    "Z = sch.linkage(sample, method='ward')\n",
    "\n",
    "fig, ax2 = plt.subplots(figsize=(20, 12))\n",
    "sch.dendrogram(Z, labels=sample.index, ax=ax2, color_threshold=2)\n",
    "plt.xticks(rotation=90)\n",
    "ax2.set_ylabel('distance')\n",
    "plt.show()\n",
    "\n",
    "\n",
    "\n",
    "import scipy.cluster.hierarchy as sch\n",
    "import matplotlib.pyplot as plt\n",
    "\n",
    "sample = X_sc.sample(500)\n",
    "Z = sch.linkage(sample, method='ward')\n",
    "\n",
    "fig, ax3 = plt.subplots(figsize=(20, 12))\n",
    "sch.dendrogram(Z, labels=sample.index, ax=ax3, color_threshold=2)\n",
    "plt.xticks(rotation=90)\n",
    "ax3.set_ylabel('distance')\n",
    "plt.show()"
   ]
  },
  {
   "cell_type": "code",
   "execution_count": null,
   "id": "a0dd075b",
   "metadata": {},
   "outputs": [],
   "source": []
  },
  {
   "cell_type": "code",
   "execution_count": null,
   "id": "3f45af52",
   "metadata": {},
   "outputs": [],
   "source": []
  },
  {
   "cell_type": "code",
   "execution_count": null,
   "id": "56e9ff9f",
   "metadata": {},
   "outputs": [],
   "source": []
  },
  {
   "cell_type": "code",
   "execution_count": null,
   "id": "02173a46",
   "metadata": {},
   "outputs": [],
   "source": []
  },
  {
   "cell_type": "code",
   "execution_count": null,
   "id": "6522cad8",
   "metadata": {},
   "outputs": [],
   "source": [
    "for i in range(1,10):\n",
    "    from sklearn.cluster import KMeans\n",
    "\n",
    "    k = 4\n",
    "\n",
    "    kM = KMeans(n_clusters=k,\n",
    "               random_state=654)\n",
    "    y_pred = kM.fit_predict(X_sc)\n"
   ]
  },
  {
   "cell_type": "code",
   "execution_count": 254,
   "id": "402ca909",
   "metadata": {},
   "outputs": [
    {
     "data": {
      "text/plain": [
       "[1199211.9999999972,\n",
       " 812618.2236265242,\n",
       " 663951.3689564556,\n",
       " 577020.6292578052,\n",
       " 517714.4060221886,\n",
       " 476402.90178635635,\n",
       " 439357.96141059144,\n",
       " 410144.6171733509,\n",
       " 383988.5907258121]"
      ]
     },
     "execution_count": 254,
     "metadata": {},
     "output_type": "execute_result"
    }
   ],
   "source": [
    "kmeans_per_k = [KMeans(n_clusters=k, random_state=42).fit(X_sc)\n",
    "                for k in range(1, 10)]\n",
    "\n",
    "inertias = [model.inertia_ for model in kmeans_per_k]\n",
    "inertias"
   ]
  },
  {
   "cell_type": "code",
   "execution_count": 255,
   "id": "54cc0baf",
   "metadata": {},
   "outputs": [
    {
     "data": {
      "image/png": "[encoded data removed]",
      "text/plain": [
       "<Figure size 864x576 with 1 Axes>"
      ]
     },
     "metadata": {
      "needs_background": "light"
     },
     "output_type": "display_data"
    }
   ],
   "source": [
    "plt.figure(figsize=(12, 8))\n",
    "plt.plot(range(1, 10), inertias, \"bo-\")\n",
    "plt.xlabel(\"$k$\", fontsize=14)\n",
    "plt.ylabel(\"Inertia\", fontsize=14)\n",
    "plt.annotate('Elbow',\n",
    "             xy=(3, inertias[2]),\n",
    "             xytext=(0.55, 0.55),\n",
    "             textcoords='figure fraction',\n",
    "             fontsize=16,\n",
    "             arrowprops=dict(facecolor='black', shrink=0.1)\n",
    "            )\n",
    "plt.show()"
   ]
  },
  {
   "cell_type": "code",
   "execution_count": null,
   "id": "013df0bd",
   "metadata": {},
   "outputs": [],
   "source": []
  },
  {
   "cell_type": "code",
   "execution_count": 256,
   "id": "4d614e31",
   "metadata": {},
   "outputs": [],
   "source": [
    "from sklearn.cluster import KMeans\n",
    "\n",
    "k = 3\n",
    "\n",
    "kM = KMeans(n_clusters=k,\n",
    "           random_state=654)\n",
    "y_pred = kM.fit_predict(X_sc)\n"
   ]
  },
  {
   "cell_type": "code",
   "execution_count": 257,
   "id": "8cd80ce1",
   "metadata": {},
   "outputs": [],
   "source": [
    "clusters = pd.DataFrame(X, columns=X.columns)\n",
    "clusters['label'] = kM.labels_"
   ]
  },
  {
   "cell_type": "code",
   "execution_count": 258,
   "id": "8db5f5e2",
   "metadata": {},
   "outputs": [
    {
     "data": {
      "text/html": [
       "<div>\n",
       "<style scoped>\n",
       "    .dataframe tbody tr th:only-of-type {\n",
       "        vertical-align: middle;\n",
       "    }\n",
       "\n",
       "    .dataframe tbody tr th {\n",
       "        vertical-align: top;\n",
       "    }\n",
       "\n",
       "    .dataframe thead th {\n",
       "        text-align: right;\n",
       "    }\n",
       "</style>\n",
       "<table border=\"1\" class=\"dataframe\">\n",
       "  <thead>\n",
       "    <tr style=\"text-align: right;\">\n",
       "      <th></th>\n",
       "      <th>company_hash</th>\n",
       "      <th>orgyear</th>\n",
       "      <th>ctc</th>\n",
       "      <th>job_position</th>\n",
       "      <th>ctc_updated_year</th>\n",
       "      <th>years_of_experience_in_organization</th>\n",
       "      <th>designation_in_organization</th>\n",
       "      <th>classs</th>\n",
       "      <th>tier</th>\n",
       "      <th>label</th>\n",
       "    </tr>\n",
       "  </thead>\n",
       "  <tbody>\n",
       "    <tr>\n",
       "      <th>69989</th>\n",
       "      <td>Others</td>\n",
       "      <td>2020.0</td>\n",
       "      <td>360000</td>\n",
       "      <td>support engineer</td>\n",
       "      <td>2020.0</td>\n",
       "      <td>3.0</td>\n",
       "      <td>3</td>\n",
       "      <td>3</td>\n",
       "      <td>3</td>\n",
       "      <td>2</td>\n",
       "    </tr>\n",
       "    <tr>\n",
       "      <th>160236</th>\n",
       "      <td>otvqo ygraxzso wgqugqvnxgz</td>\n",
       "      <td>2017.0</td>\n",
       "      <td>8000000</td>\n",
       "      <td>data scientist</td>\n",
       "      <td>2019.0</td>\n",
       "      <td>6.0</td>\n",
       "      <td>1</td>\n",
       "      <td>1</td>\n",
       "      <td>1</td>\n",
       "      <td>1</td>\n",
       "    </tr>\n",
       "    <tr>\n",
       "      <th>101242</th>\n",
       "      <td>mvqwrvjo</td>\n",
       "      <td>2001.0</td>\n",
       "      <td>3350000</td>\n",
       "      <td>Others</td>\n",
       "      <td>2019.0</td>\n",
       "      <td>22.0</td>\n",
       "      <td>1</td>\n",
       "      <td>1</td>\n",
       "      <td>1</td>\n",
       "      <td>0</td>\n",
       "    </tr>\n",
       "    <tr>\n",
       "      <th>136293</th>\n",
       "      <td>nvnv wgzohrnvzwj otqcxwto</td>\n",
       "      <td>2015.0</td>\n",
       "      <td>1220000</td>\n",
       "      <td>fullstack engineer</td>\n",
       "      <td>2021.0</td>\n",
       "      <td>8.0</td>\n",
       "      <td>1</td>\n",
       "      <td>1</td>\n",
       "      <td>1</td>\n",
       "      <td>1</td>\n",
       "    </tr>\n",
       "    <tr>\n",
       "      <th>27089</th>\n",
       "      <td>wbt sqghu</td>\n",
       "      <td>2011.0</td>\n",
       "      <td>1600000</td>\n",
       "      <td>Others</td>\n",
       "      <td>2019.0</td>\n",
       "      <td>12.0</td>\n",
       "      <td>2</td>\n",
       "      <td>3</td>\n",
       "      <td>3</td>\n",
       "      <td>2</td>\n",
       "    </tr>\n",
       "  </tbody>\n",
       "</table>\n",
       "</div>"
      ],
      "text/plain": [
       "                      company_hash  orgyear      ctc        job_position  \\\n",
       "69989                       Others   2020.0   360000    support engineer   \n",
       "160236  otvqo ygraxzso wgqugqvnxgz   2017.0  8000000      data scientist   \n",
       "101242                    mvqwrvjo   2001.0  3350000              Others   \n",
       "136293   nvnv wgzohrnvzwj otqcxwto   2015.0  1220000  fullstack engineer   \n",
       "27089                    wbt sqghu   2011.0  1600000              Others   \n",
       "\n",
       "        ctc_updated_year  years_of_experience_in_organization  \\\n",
       "69989             2020.0                                  3.0   \n",
       "160236            2019.0                                  6.0   \n",
       "101242            2019.0                                 22.0   \n",
       "136293            2021.0                                  8.0   \n",
       "27089             2019.0                                 12.0   \n",
       "\n",
       "        designation_in_organization  classs  tier  label  \n",
       "69989                             3       3     3      2  \n",
       "160236                            1       1     1      1  \n",
       "101242                            1       1     1      0  \n",
       "136293                            1       1     1      1  \n",
       "27089                             2       3     3      2  "
      ]
     },
     "execution_count": 258,
     "metadata": {},
     "output_type": "execute_result"
    }
   ],
   "source": [
    "clusters.sample(5)"
   ]
  },
  {
   "cell_type": "code",
   "execution_count": 259,
   "id": "0bc6b72c",
   "metadata": {},
   "outputs": [
    {
     "data": {
      "text/plain": [
       "(171316, 10)"
      ]
     },
     "execution_count": 259,
     "metadata": {},
     "output_type": "execute_result"
    }
   ],
   "source": [
    "clusters.shape"
   ]
  },
  {
   "cell_type": "code",
   "execution_count": null,
   "id": "6c3e8d34",
   "metadata": {},
   "outputs": [],
   "source": []
  },
  {
   "cell_type": "code",
   "execution_count": 260,
   "id": "80d04fe5",
   "metadata": {},
   "outputs": [
    {
     "data": {
      "application/javascript": [
       "\n",
       "        if (window._pyforest_update_imports_cell) { window._pyforest_update_imports_cell('import seaborn as sns'); }\n",
       "    "
      ],
      "text/plain": [
       "<IPython.core.display.Javascript object>"
      ]
     },
     "metadata": {},
     "output_type": "display_data"
    },
    {
     "data": {
      "text/plain": [
       "<AxesSubplot:xlabel='orgyear', ylabel='ctc'>"
      ]
     },
     "execution_count": 260,
     "metadata": {},
     "output_type": "execute_result"
    },
    {
     "data": {
      "image/png": "[encoded data removed]",
      "text/plain": [
       "<Figure size 864x576 with 1 Axes>"
      ]
     },
     "metadata": {
      "needs_background": "light"
     },
     "output_type": "display_data"
    }
   ],
   "source": [
    "sns.scatterplot(clusters[\"orgyear\"],\n",
    "               clusters[\"ctc\"],\n",
    "               hue = clusters[\"label\"])"
   ]
  },
  {
   "cell_type": "code",
   "execution_count": null,
   "id": "725c4ca0",
   "metadata": {},
   "outputs": [],
   "source": []
  },
  {
   "cell_type": "code",
   "execution_count": 261,
   "id": "d6a4f1f9",
   "metadata": {},
   "outputs": [
    {
     "data": {
      "text/plain": [
       "<AxesSubplot:xlabel='label'>"
      ]
     },
     "execution_count": 261,
     "metadata": {},
     "output_type": "execute_result"
    },
    {
     "data": {
      "image/png": "[encoded data removed]",
      "text/plain": [
       "<Figure size 864x576 with 1 Axes>"
      ]
     },
     "metadata": {
      "needs_background": "light"
     },
     "output_type": "display_data"
    }
   ],
   "source": [
    "pd.crosstab(index = clusters[\"label\"],\n",
    "    columns = clusters[\"tier\"],values=clusters[\"ctc\"],aggfunc= np.mean\n",
    "       ).plot(kind = \"bar\")"
   ]
  },
  {
   "cell_type": "code",
   "execution_count": 262,
   "id": "c5822d1d",
   "metadata": {},
   "outputs": [
    {
     "data": {
      "text/plain": [
       "<AxesSubplot:xlabel='label'>"
      ]
     },
     "execution_count": 262,
     "metadata": {},
     "output_type": "execute_result"
    },
    {
     "data": {
      "image/png": "[encoded data removed]",
      "text/plain": [
       "<Figure size 864x576 with 1 Axes>"
      ]
     },
     "metadata": {
      "needs_background": "light"
     },
     "output_type": "display_data"
    }
   ],
   "source": [
    "pd.crosstab(index = clusters[\"label\"],\n",
    "    columns = clusters[\"classs\"],values=clusters[\"ctc\"],aggfunc= np.mean\n",
    "       ).plot(kind = \"bar\")"
   ]
  },
  {
   "cell_type": "code",
   "execution_count": 263,
   "id": "9e34b4de",
   "metadata": {},
   "outputs": [
    {
     "data": {
      "text/plain": [
       "<AxesSubplot:xlabel='label'>"
      ]
     },
     "execution_count": 263,
     "metadata": {},
     "output_type": "execute_result"
    },
    {
     "data": {
      "image/png": "[encoded data removed]",
      "text/plain": [
       "<Figure size 864x576 with 1 Axes>"
      ]
     },
     "metadata": {
      "needs_background": "light"
     },
     "output_type": "display_data"
    }
   ],
   "source": [
    "pd.crosstab(index = clusters[\"label\"],\n",
    "    columns = clusters[\"designation_in_organization\"],\n",
    "            values=clusters[\"ctc\"],aggfunc= np.mean\n",
    "       ).plot(kind = \"bar\")"
   ]
  },
  {
   "cell_type": "code",
   "execution_count": 264,
   "id": "0a2ac273",
   "metadata": {},
   "outputs": [
    {
     "data": {
      "text/plain": [
       "<AxesSubplot:xlabel='years_of_experience_in_organization'>"
      ]
     },
     "execution_count": 264,
     "metadata": {},
     "output_type": "execute_result"
    },
    {
     "data": {
      "image/png": "[encoded data removed]",
      "text/plain": [
       "<Figure size 864x576 with 1 Axes>"
      ]
     },
     "metadata": {
      "needs_background": "light"
     },
     "output_type": "display_data"
    }
   ],
   "source": [
    "pd.crosstab(columns = clusters[\"label\"],\n",
    "    index = clusters[\"years_of_experience_in_organization\"],\n",
    "            values=clusters[\"ctc\"],aggfunc= np.mean\n",
    "       ).plot(kind = \"bar\")"
   ]
  },
  {
   "cell_type": "code",
   "execution_count": 266,
   "id": "26dfcf70",
   "metadata": {},
   "outputs": [
    {
     "data": {
      "text/plain": [
       "<AxesSubplot:xlabel='years_of_experience_in_organization'>"
      ]
     },
     "execution_count": 266,
     "metadata": {},
     "output_type": "execute_result"
    },
    {
     "data": {
      "image/png": "[encoded data removed]",
      "text/plain": [
       "<Figure size 864x576 with 1 Axes>"
      ]
     },
     "metadata": {
      "needs_background": "light"
     },
     "output_type": "display_data"
    }
   ],
   "source": [
    "pd.crosstab(columns = clusters[\"label\"],\n",
    "    index = clusters[\"years_of_experience_in_organization\"],\n",
    "            \n",
    "       ).plot(kind = \"bar\")"
   ]
  },
  {
   "cell_type": "code",
   "execution_count": 269,
   "id": "6d26fef7",
   "metadata": {},
   "outputs": [
    {
     "data": {
      "text/plain": [
       "<AxesSubplot:xlabel='label'>"
      ]
     },
     "execution_count": 269,
     "metadata": {},
     "output_type": "execute_result"
    },
    {
     "data": {
      "image/png": "[encoded data removed]",
      "text/plain": [
       "<Figure size 864x576 with 1 Axes>"
      ]
     },
     "metadata": {
      "needs_background": "light"
     },
     "output_type": "display_data"
    }
   ],
   "source": [
    "pd.crosstab(index = clusters[\"label\"],\n",
    "    columns = clusters[\"tier\"],\n",
    "            values=clusters[\"years_of_experience_in_organization\"],\n",
    "            aggfunc=np.mean\n",
    "       ).plot(kind = \"bar\")"
   ]
  },
  {
   "cell_type": "code",
   "execution_count": null,
   "id": "db1b3aa1",
   "metadata": {},
   "outputs": [],
   "source": []
  }
 ],
 "metadata": {
  "kernelspec": {
   "display_name": "Python 3 (ipykernel)",
   "language": "python",
   "name": "python3"
  },
  "language_info": {
   "codemirror_mode": {
    "name": "ipython",
    "version": 3
   },
   "file_extension": ".py",
   "mimetype": "text/x-python",
   "name": "python",
   "nbconvert_exporter": "python",
   "pygments_lexer": "ipython3",
   "version": "3.9.7"
  }
 },
 "nbformat": 4,
 "nbformat_minor": 5
}
