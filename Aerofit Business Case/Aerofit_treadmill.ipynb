{
 "cells": [
  {
   "cell_type": "markdown",
   "id": "a8e8e971",
   "metadata": {},
   "source": [
    "###### Aerofit is a leading brand in the field of fitness equipment. Aerofit provides a product range including machines such as treadmills, exercise bikes, gym equipment, and fitness accessories to cater to the needs of all categories of people."
   ]
  },
  {
   "cell_type": "markdown",
   "id": "a7232873",
   "metadata": {},
   "source": [
    "# Business Problem:\n",
    "`Identify the characteristics of the target audience for each type of treadmill offered by the company, to provide a better recommendation of the treadmills to the new customers. `"
   ]
  },
  {
   "cell_type": "markdown",
   "id": "dd48c9d0",
   "metadata": {},
   "source": [
    "- investigate whether there are differences across the product with respect to customer characteristics."
   ]
  },
  {
   "cell_type": "markdown",
   "id": "e4cfc012",
   "metadata": {},
   "source": [
    "1. Descriptive analytics to create a customer profile for each AeroFit treadmill product.\n",
    "2. For each AeroFit treadmill product, construct two-way contingency tables and compute all conditional and marginal probabilities along with their insights/impact on the business."
   ]
  },
  {
   "cell_type": "code",
   "execution_count": 1,
   "id": "4a00da2e",
   "metadata": {},
   "outputs": [],
   "source": [
    "# About given Dataset : "
   ]
  },
  {
   "cell_type": "markdown",
   "id": "bbac60af",
   "metadata": {},
   "source": [
    "- Product Purchased :\tKP281, KP481, or KP781\n",
    "- Age :\tIn years\n",
    "- Gender :\tMale/Female\n",
    "- Education :\tIn years\n",
    "- MaritalStatus :\tSingle or partnered\n",
    "- Usage :\tThe average number of times the customer plans to use the treadmill each week.\n",
    "- Income :\tAnnual income (in USD)\n",
    "- Fitness :\tSelf-rated fitness on a 1-to-5 scale, where 1 is the poor shape and 5 is the excellent shape.\n",
    "- Miles :\tThe average number of miles the customer expects to walk/run each week"
   ]
  },
  {
   "cell_type": "code",
   "execution_count": null,
   "id": "48d4b28a",
   "metadata": {},
   "outputs": [],
   "source": []
  },
  {
   "cell_type": "markdown",
   "id": "9bcd1dd0",
   "metadata": {},
   "source": [
    "Product Portfolio:\n",
    "\n",
    "The KP281 is an entry-level treadmill that sells for $1,500.\n",
    "\n",
    "The KP481 is for mid-level runners that sell for $1,750.\n",
    "\n",
    "The KP781 treadmill is having advanced features that sell for $2,500."
   ]
  },
  {
   "cell_type": "code",
   "execution_count": null,
   "id": "171b9550",
   "metadata": {},
   "outputs": [],
   "source": []
  },
  {
   "cell_type": "code",
   "execution_count": null,
   "id": "da6dcc66",
   "metadata": {},
   "outputs": [],
   "source": []
  },
  {
   "cell_type": "code",
   "execution_count": null,
   "id": "0249b577",
   "metadata": {},
   "outputs": [],
   "source": []
  },
  {
   "cell_type": "code",
   "execution_count": 2,
   "id": "038fd42f",
   "metadata": {},
   "outputs": [],
   "source": [
    "import pandas as pd\n",
    "import numpy as np\n",
    "import seaborn as sns\n",
    "import matplotlib.pyplot as plt\n",
    "from matplotlib import figure\n",
    "import warnings\n",
    "warnings.filterwarnings('ignore')\n",
    "\n",
    "sns.set(font_scale= 1)"
   ]
  },
  {
   "cell_type": "code",
   "execution_count": 3,
   "id": "b78d82db",
   "metadata": {},
   "outputs": [],
   "source": [
    "df = pd.read_csv(\"aerofit_treadmill.txt\")"
   ]
  },
  {
   "cell_type": "code",
   "execution_count": 4,
   "id": "905575d9",
   "metadata": {},
   "outputs": [
    {
     "data": {
      "text/plain": [
       "(180, 9)"
      ]
     },
     "execution_count": 4,
     "metadata": {},
     "output_type": "execute_result"
    }
   ],
   "source": [
    "df.shape"
   ]
  },
  {
   "cell_type": "code",
   "execution_count": 5,
   "id": "b640267b",
   "metadata": {
    "scrolled": false
   },
   "outputs": [
    {
     "data": {
      "text/html": [
       "<div>\n",
       "<style scoped>\n",
       "    .dataframe tbody tr th:only-of-type {\n",
       "        vertical-align: middle;\n",
       "    }\n",
       "\n",
       "    .dataframe tbody tr th {\n",
       "        vertical-align: top;\n",
       "    }\n",
       "\n",
       "    .dataframe thead th {\n",
       "        text-align: right;\n",
       "    }\n",
       "</style>\n",
       "<table border=\"1\" class=\"dataframe\">\n",
       "  <thead>\n",
       "    <tr style=\"text-align: right;\">\n",
       "      <th></th>\n",
       "      <th>Product</th>\n",
       "      <th>Age</th>\n",
       "      <th>Gender</th>\n",
       "      <th>Education</th>\n",
       "      <th>MaritalStatus</th>\n",
       "      <th>Usage</th>\n",
       "      <th>Fitness</th>\n",
       "      <th>Income</th>\n",
       "      <th>Miles</th>\n",
       "    </tr>\n",
       "  </thead>\n",
       "  <tbody>\n",
       "    <tr>\n",
       "      <th>0</th>\n",
       "      <td>KP281</td>\n",
       "      <td>18</td>\n",
       "      <td>Male</td>\n",
       "      <td>14</td>\n",
       "      <td>Single</td>\n",
       "      <td>3</td>\n",
       "      <td>4</td>\n",
       "      <td>29562</td>\n",
       "      <td>112</td>\n",
       "    </tr>\n",
       "    <tr>\n",
       "      <th>1</th>\n",
       "      <td>KP281</td>\n",
       "      <td>19</td>\n",
       "      <td>Male</td>\n",
       "      <td>15</td>\n",
       "      <td>Single</td>\n",
       "      <td>2</td>\n",
       "      <td>3</td>\n",
       "      <td>31836</td>\n",
       "      <td>75</td>\n",
       "    </tr>\n",
       "    <tr>\n",
       "      <th>2</th>\n",
       "      <td>KP281</td>\n",
       "      <td>19</td>\n",
       "      <td>Female</td>\n",
       "      <td>14</td>\n",
       "      <td>Partnered</td>\n",
       "      <td>4</td>\n",
       "      <td>3</td>\n",
       "      <td>30699</td>\n",
       "      <td>66</td>\n",
       "    </tr>\n",
       "    <tr>\n",
       "      <th>3</th>\n",
       "      <td>KP281</td>\n",
       "      <td>19</td>\n",
       "      <td>Male</td>\n",
       "      <td>12</td>\n",
       "      <td>Single</td>\n",
       "      <td>3</td>\n",
       "      <td>3</td>\n",
       "      <td>32973</td>\n",
       "      <td>85</td>\n",
       "    </tr>\n",
       "    <tr>\n",
       "      <th>4</th>\n",
       "      <td>KP281</td>\n",
       "      <td>20</td>\n",
       "      <td>Male</td>\n",
       "      <td>13</td>\n",
       "      <td>Partnered</td>\n",
       "      <td>4</td>\n",
       "      <td>2</td>\n",
       "      <td>35247</td>\n",
       "      <td>47</td>\n",
       "    </tr>\n",
       "  </tbody>\n",
       "</table>\n",
       "</div>"
      ],
      "text/plain": [
       "  Product  Age  Gender  Education MaritalStatus  Usage  Fitness  Income  Miles\n",
       "0   KP281   18    Male         14        Single      3        4   29562    112\n",
       "1   KP281   19    Male         15        Single      2        3   31836     75\n",
       "2   KP281   19  Female         14     Partnered      4        3   30699     66\n",
       "3   KP281   19    Male         12        Single      3        3   32973     85\n",
       "4   KP281   20    Male         13     Partnered      4        2   35247     47"
      ]
     },
     "execution_count": 5,
     "metadata": {},
     "output_type": "execute_result"
    }
   ],
   "source": [
    "df.head(5)"
   ]
  },
  {
   "cell_type": "code",
   "execution_count": 6,
   "id": "44a5a1eb",
   "metadata": {},
   "outputs": [
    {
     "data": {
      "text/html": [
       "<div>\n",
       "<style scoped>\n",
       "    .dataframe tbody tr th:only-of-type {\n",
       "        vertical-align: middle;\n",
       "    }\n",
       "\n",
       "    .dataframe tbody tr th {\n",
       "        vertical-align: top;\n",
       "    }\n",
       "\n",
       "    .dataframe thead th {\n",
       "        text-align: right;\n",
       "    }\n",
       "</style>\n",
       "<table border=\"1\" class=\"dataframe\">\n",
       "  <thead>\n",
       "    <tr style=\"text-align: right;\">\n",
       "      <th></th>\n",
       "      <th>Product</th>\n",
       "      <th>Age</th>\n",
       "      <th>Gender</th>\n",
       "      <th>Education</th>\n",
       "      <th>MaritalStatus</th>\n",
       "      <th>Usage</th>\n",
       "      <th>Fitness</th>\n",
       "      <th>Income</th>\n",
       "      <th>Miles</th>\n",
       "    </tr>\n",
       "  </thead>\n",
       "  <tbody>\n",
       "    <tr>\n",
       "      <th>175</th>\n",
       "      <td>KP781</td>\n",
       "      <td>40</td>\n",
       "      <td>Male</td>\n",
       "      <td>21</td>\n",
       "      <td>Single</td>\n",
       "      <td>6</td>\n",
       "      <td>5</td>\n",
       "      <td>83416</td>\n",
       "      <td>200</td>\n",
       "    </tr>\n",
       "    <tr>\n",
       "      <th>176</th>\n",
       "      <td>KP781</td>\n",
       "      <td>42</td>\n",
       "      <td>Male</td>\n",
       "      <td>18</td>\n",
       "      <td>Single</td>\n",
       "      <td>5</td>\n",
       "      <td>4</td>\n",
       "      <td>89641</td>\n",
       "      <td>200</td>\n",
       "    </tr>\n",
       "    <tr>\n",
       "      <th>177</th>\n",
       "      <td>KP781</td>\n",
       "      <td>45</td>\n",
       "      <td>Male</td>\n",
       "      <td>16</td>\n",
       "      <td>Single</td>\n",
       "      <td>5</td>\n",
       "      <td>5</td>\n",
       "      <td>90886</td>\n",
       "      <td>160</td>\n",
       "    </tr>\n",
       "    <tr>\n",
       "      <th>178</th>\n",
       "      <td>KP781</td>\n",
       "      <td>47</td>\n",
       "      <td>Male</td>\n",
       "      <td>18</td>\n",
       "      <td>Partnered</td>\n",
       "      <td>4</td>\n",
       "      <td>5</td>\n",
       "      <td>104581</td>\n",
       "      <td>120</td>\n",
       "    </tr>\n",
       "    <tr>\n",
       "      <th>179</th>\n",
       "      <td>KP781</td>\n",
       "      <td>48</td>\n",
       "      <td>Male</td>\n",
       "      <td>18</td>\n",
       "      <td>Partnered</td>\n",
       "      <td>4</td>\n",
       "      <td>5</td>\n",
       "      <td>95508</td>\n",
       "      <td>180</td>\n",
       "    </tr>\n",
       "  </tbody>\n",
       "</table>\n",
       "</div>"
      ],
      "text/plain": [
       "    Product  Age Gender  Education MaritalStatus  Usage  Fitness  Income  \\\n",
       "175   KP781   40   Male         21        Single      6        5   83416   \n",
       "176   KP781   42   Male         18        Single      5        4   89641   \n",
       "177   KP781   45   Male         16        Single      5        5   90886   \n",
       "178   KP781   47   Male         18     Partnered      4        5  104581   \n",
       "179   KP781   48   Male         18     Partnered      4        5   95508   \n",
       "\n",
       "     Miles  \n",
       "175    200  \n",
       "176    200  \n",
       "177    160  \n",
       "178    120  \n",
       "179    180  "
      ]
     },
     "execution_count": 6,
     "metadata": {},
     "output_type": "execute_result"
    }
   ],
   "source": [
    "df.tail(5)"
   ]
  },
  {
   "cell_type": "code",
   "execution_count": 7,
   "id": "3b20b121",
   "metadata": {},
   "outputs": [],
   "source": [
    "# info about data/ columns and their datatypes: "
   ]
  },
  {
   "cell_type": "code",
   "execution_count": 8,
   "id": "9b9c156a",
   "metadata": {},
   "outputs": [
    {
     "name": "stdout",
     "output_type": "stream",
     "text": [
      "<class 'pandas.core.frame.DataFrame'>\n",
      "RangeIndex: 180 entries, 0 to 179\n",
      "Data columns (total 9 columns):\n",
      " #   Column         Non-Null Count  Dtype \n",
      "---  ------         --------------  ----- \n",
      " 0   Product        180 non-null    object\n",
      " 1   Age            180 non-null    int64 \n",
      " 2   Gender         180 non-null    object\n",
      " 3   Education      180 non-null    int64 \n",
      " 4   MaritalStatus  180 non-null    object\n",
      " 5   Usage          180 non-null    int64 \n",
      " 6   Fitness        180 non-null    int64 \n",
      " 7   Income         180 non-null    int64 \n",
      " 8   Miles          180 non-null    int64 \n",
      "dtypes: int64(6), object(3)\n",
      "memory usage: 12.8+ KB\n"
     ]
    }
   ],
   "source": [
    "df.info()"
   ]
  },
  {
   "cell_type": "code",
   "execution_count": null,
   "id": "613b0944",
   "metadata": {},
   "outputs": [],
   "source": []
  },
  {
   "cell_type": "markdown",
   "id": "47f12197",
   "metadata": {},
   "source": [
    "### checking for Null Values in each columns"
   ]
  },
  {
   "cell_type": "code",
   "execution_count": null,
   "id": "026ed62b",
   "metadata": {},
   "outputs": [],
   "source": []
  },
  {
   "cell_type": "code",
   "execution_count": 9,
   "id": "8c109cf5",
   "metadata": {},
   "outputs": [
    {
     "data": {
      "text/plain": [
       "Product          0\n",
       "Age              0\n",
       "Gender           0\n",
       "Education        0\n",
       "MaritalStatus    0\n",
       "Usage            0\n",
       "Fitness          0\n",
       "Income           0\n",
       "Miles            0\n",
       "dtype: int64"
      ]
     },
     "execution_count": 9,
     "metadata": {},
     "output_type": "execute_result"
    }
   ],
   "source": [
    "df.isna().sum()"
   ]
  },
  {
   "cell_type": "code",
   "execution_count": 10,
   "id": "6344c328",
   "metadata": {},
   "outputs": [],
   "source": [
    "# No null values found in dataset. "
   ]
  },
  {
   "cell_type": "code",
   "execution_count": null,
   "id": "14e8b8fa",
   "metadata": {},
   "outputs": [],
   "source": []
  },
  {
   "cell_type": "code",
   "execution_count": null,
   "id": "64386b3c",
   "metadata": {},
   "outputs": [],
   "source": []
  },
  {
   "cell_type": "code",
   "execution_count": null,
   "id": "7392dffc",
   "metadata": {},
   "outputs": [],
   "source": []
  },
  {
   "cell_type": "code",
   "execution_count": null,
   "id": "28f63209",
   "metadata": {},
   "outputs": [],
   "source": []
  },
  {
   "cell_type": "code",
   "execution_count": null,
   "id": "f901cba7",
   "metadata": {},
   "outputs": [],
   "source": []
  },
  {
   "cell_type": "markdown",
   "id": "fe171997",
   "metadata": {},
   "source": [
    "# Pre-Processing Data for Analysis: \n",
    "\n",
    "#### `Fitness Category `"
   ]
  },
  {
   "cell_type": "code",
   "execution_count": 11,
   "id": "3178e1fa",
   "metadata": {},
   "outputs": [],
   "source": [
    "# Converted fitness rating from Int to Object ! : \n"
   ]
  },
  {
   "cell_type": "code",
   "execution_count": 12,
   "id": "5c2aa689",
   "metadata": {},
   "outputs": [],
   "source": [
    "df[\"Fitness_category\"] = df[\"Fitness\"]"
   ]
  },
  {
   "cell_type": "code",
   "execution_count": 13,
   "id": "7f9ba258",
   "metadata": {},
   "outputs": [
    {
     "data": {
      "text/plain": [
       "3    97\n",
       "5    31\n",
       "2    26\n",
       "4    24\n",
       "1     2\n",
       "Name: Fitness_category, dtype: int64"
      ]
     },
     "execution_count": 13,
     "metadata": {},
     "output_type": "execute_result"
    }
   ],
   "source": [
    "df[\"Fitness_category\"].value_counts()"
   ]
  },
  {
   "cell_type": "code",
   "execution_count": 14,
   "id": "a4e52a5a",
   "metadata": {},
   "outputs": [],
   "source": [
    "df[\"Fitness_category\"].replace({1:\"Poor Shape\",\n",
    "                               5:\"Excellent Shape\",\n",
    "                               4:\"Good Shape\",\n",
    "                               3:\"Average Shape\",\n",
    "                               2:\"Bad Shape\"},inplace=True)"
   ]
  },
  {
   "cell_type": "code",
   "execution_count": null,
   "id": "3a1ce078",
   "metadata": {
    "scrolled": true
   },
   "outputs": [],
   "source": []
  },
  {
   "cell_type": "code",
   "execution_count": 15,
   "id": "ed08f4c8",
   "metadata": {},
   "outputs": [],
   "source": [
    "# Product Portfolio:\n",
    "\n",
    "# The KP281 is an entry-level treadmill that sells for $1,500.\n",
    "# The KP481 is for mid-level runners that sell for $1,750.\n",
    "# The KP781 treadmill is having advanced features that sell for $2,500."
   ]
  },
  {
   "cell_type": "markdown",
   "id": "a00c6481",
   "metadata": {},
   "source": [
    "#### `Merging Price data with original DataSet `"
   ]
  },
  {
   "cell_type": "code",
   "execution_count": 16,
   "id": "acf89dbc",
   "metadata": {},
   "outputs": [
    {
     "data": {
      "text/html": [
       "<div>\n",
       "<style scoped>\n",
       "    .dataframe tbody tr th:only-of-type {\n",
       "        vertical-align: middle;\n",
       "    }\n",
       "\n",
       "    .dataframe tbody tr th {\n",
       "        vertical-align: top;\n",
       "    }\n",
       "\n",
       "    .dataframe thead th {\n",
       "        text-align: right;\n",
       "    }\n",
       "</style>\n",
       "<table border=\"1\" class=\"dataframe\">\n",
       "  <thead>\n",
       "    <tr style=\"text-align: right;\">\n",
       "      <th></th>\n",
       "      <th>Product</th>\n",
       "      <th>Product_price</th>\n",
       "    </tr>\n",
       "  </thead>\n",
       "  <tbody>\n",
       "    <tr>\n",
       "      <th>0</th>\n",
       "      <td>KP281</td>\n",
       "      <td>1500</td>\n",
       "    </tr>\n",
       "    <tr>\n",
       "      <th>1</th>\n",
       "      <td>KP481</td>\n",
       "      <td>1750</td>\n",
       "    </tr>\n",
       "    <tr>\n",
       "      <th>2</th>\n",
       "      <td>KP781</td>\n",
       "      <td>2500</td>\n",
       "    </tr>\n",
       "  </tbody>\n",
       "</table>\n",
       "</div>"
      ],
      "text/plain": [
       "  Product  Product_price\n",
       "0   KP281           1500\n",
       "1   KP481           1750\n",
       "2   KP781           2500"
      ]
     },
     "execution_count": 16,
     "metadata": {},
     "output_type": "execute_result"
    }
   ],
   "source": [
    "product_price = pd.DataFrame({\n",
    "    \"Product\":[\"KP281\",\"KP481\",\"KP781\"],\n",
    "    \"Product_price\":[1500,1750,2500]\n",
    "    \n",
    "})\n",
    "product_price"
   ]
  },
  {
   "cell_type": "code",
   "execution_count": 17,
   "id": "77ef1f55",
   "metadata": {},
   "outputs": [],
   "source": [
    "data = df.merge(product_price,on=\"Product\",how = \"left\")"
   ]
  },
  {
   "cell_type": "markdown",
   "id": "883418f6",
   "metadata": {},
   "source": [
    "#### `Segmentising Age groups `"
   ]
  },
  {
   "cell_type": "code",
   "execution_count": 18,
   "id": "2960bb30",
   "metadata": {},
   "outputs": [],
   "source": [
    "data[\"Age_category\"] = data[\"Age\"]"
   ]
  },
  {
   "cell_type": "code",
   "execution_count": 19,
   "id": "98f8f7be",
   "metadata": {},
   "outputs": [],
   "source": [
    "data[\"Age_category\"] = pd.cut(data[\"Age_category\"], bins =[0,21,35,45,60], include_lowest=True, labels=[\"Teen(0-21)\",\"Adult(22-35)\",\"mid_age(36-45)\",\"Towards_old-age(>46)\"])"
   ]
  },
  {
   "cell_type": "code",
   "execution_count": 20,
   "id": "50b22e76",
   "metadata": {},
   "outputs": [],
   "source": [
    "data[\"Age_category\"] =data[\"Age_category\"].astype(\"object\")"
   ]
  },
  {
   "cell_type": "markdown",
   "id": "031f0530",
   "metadata": {},
   "source": [
    "# `Data Ready for Analysis :`"
   ]
  },
  {
   "cell_type": "code",
   "execution_count": 21,
   "id": "0cf7d5d4",
   "metadata": {},
   "outputs": [
    {
     "data": {
      "text/html": [
       "<div>\n",
       "<style scoped>\n",
       "    .dataframe tbody tr th:only-of-type {\n",
       "        vertical-align: middle;\n",
       "    }\n",
       "\n",
       "    .dataframe tbody tr th {\n",
       "        vertical-align: top;\n",
       "    }\n",
       "\n",
       "    .dataframe thead th {\n",
       "        text-align: right;\n",
       "    }\n",
       "</style>\n",
       "<table border=\"1\" class=\"dataframe\">\n",
       "  <thead>\n",
       "    <tr style=\"text-align: right;\">\n",
       "      <th></th>\n",
       "      <th>Product</th>\n",
       "      <th>Age</th>\n",
       "      <th>Gender</th>\n",
       "      <th>Education</th>\n",
       "      <th>MaritalStatus</th>\n",
       "      <th>Usage</th>\n",
       "      <th>Fitness</th>\n",
       "      <th>Income</th>\n",
       "      <th>Miles</th>\n",
       "      <th>Fitness_category</th>\n",
       "      <th>Product_price</th>\n",
       "      <th>Age_category</th>\n",
       "    </tr>\n",
       "  </thead>\n",
       "  <tbody>\n",
       "    <tr>\n",
       "      <th>0</th>\n",
       "      <td>KP281</td>\n",
       "      <td>18</td>\n",
       "      <td>Male</td>\n",
       "      <td>14</td>\n",
       "      <td>Single</td>\n",
       "      <td>3</td>\n",
       "      <td>4</td>\n",
       "      <td>29562</td>\n",
       "      <td>112</td>\n",
       "      <td>Good Shape</td>\n",
       "      <td>1500</td>\n",
       "      <td>Teen(0-21)</td>\n",
       "    </tr>\n",
       "    <tr>\n",
       "      <th>1</th>\n",
       "      <td>KP281</td>\n",
       "      <td>19</td>\n",
       "      <td>Male</td>\n",
       "      <td>15</td>\n",
       "      <td>Single</td>\n",
       "      <td>2</td>\n",
       "      <td>3</td>\n",
       "      <td>31836</td>\n",
       "      <td>75</td>\n",
       "      <td>Average Shape</td>\n",
       "      <td>1500</td>\n",
       "      <td>Teen(0-21)</td>\n",
       "    </tr>\n",
       "    <tr>\n",
       "      <th>2</th>\n",
       "      <td>KP281</td>\n",
       "      <td>19</td>\n",
       "      <td>Female</td>\n",
       "      <td>14</td>\n",
       "      <td>Partnered</td>\n",
       "      <td>4</td>\n",
       "      <td>3</td>\n",
       "      <td>30699</td>\n",
       "      <td>66</td>\n",
       "      <td>Average Shape</td>\n",
       "      <td>1500</td>\n",
       "      <td>Teen(0-21)</td>\n",
       "    </tr>\n",
       "    <tr>\n",
       "      <th>3</th>\n",
       "      <td>KP281</td>\n",
       "      <td>19</td>\n",
       "      <td>Male</td>\n",
       "      <td>12</td>\n",
       "      <td>Single</td>\n",
       "      <td>3</td>\n",
       "      <td>3</td>\n",
       "      <td>32973</td>\n",
       "      <td>85</td>\n",
       "      <td>Average Shape</td>\n",
       "      <td>1500</td>\n",
       "      <td>Teen(0-21)</td>\n",
       "    </tr>\n",
       "    <tr>\n",
       "      <th>4</th>\n",
       "      <td>KP281</td>\n",
       "      <td>20</td>\n",
       "      <td>Male</td>\n",
       "      <td>13</td>\n",
       "      <td>Partnered</td>\n",
       "      <td>4</td>\n",
       "      <td>2</td>\n",
       "      <td>35247</td>\n",
       "      <td>47</td>\n",
       "      <td>Bad Shape</td>\n",
       "      <td>1500</td>\n",
       "      <td>Teen(0-21)</td>\n",
       "    </tr>\n",
       "    <tr>\n",
       "      <th>...</th>\n",
       "      <td>...</td>\n",
       "      <td>...</td>\n",
       "      <td>...</td>\n",
       "      <td>...</td>\n",
       "      <td>...</td>\n",
       "      <td>...</td>\n",
       "      <td>...</td>\n",
       "      <td>...</td>\n",
       "      <td>...</td>\n",
       "      <td>...</td>\n",
       "      <td>...</td>\n",
       "      <td>...</td>\n",
       "    </tr>\n",
       "    <tr>\n",
       "      <th>175</th>\n",
       "      <td>KP781</td>\n",
       "      <td>40</td>\n",
       "      <td>Male</td>\n",
       "      <td>21</td>\n",
       "      <td>Single</td>\n",
       "      <td>6</td>\n",
       "      <td>5</td>\n",
       "      <td>83416</td>\n",
       "      <td>200</td>\n",
       "      <td>Excellent Shape</td>\n",
       "      <td>2500</td>\n",
       "      <td>mid_age(36-45)</td>\n",
       "    </tr>\n",
       "    <tr>\n",
       "      <th>176</th>\n",
       "      <td>KP781</td>\n",
       "      <td>42</td>\n",
       "      <td>Male</td>\n",
       "      <td>18</td>\n",
       "      <td>Single</td>\n",
       "      <td>5</td>\n",
       "      <td>4</td>\n",
       "      <td>89641</td>\n",
       "      <td>200</td>\n",
       "      <td>Good Shape</td>\n",
       "      <td>2500</td>\n",
       "      <td>mid_age(36-45)</td>\n",
       "    </tr>\n",
       "    <tr>\n",
       "      <th>177</th>\n",
       "      <td>KP781</td>\n",
       "      <td>45</td>\n",
       "      <td>Male</td>\n",
       "      <td>16</td>\n",
       "      <td>Single</td>\n",
       "      <td>5</td>\n",
       "      <td>5</td>\n",
       "      <td>90886</td>\n",
       "      <td>160</td>\n",
       "      <td>Excellent Shape</td>\n",
       "      <td>2500</td>\n",
       "      <td>mid_age(36-45)</td>\n",
       "    </tr>\n",
       "    <tr>\n",
       "      <th>178</th>\n",
       "      <td>KP781</td>\n",
       "      <td>47</td>\n",
       "      <td>Male</td>\n",
       "      <td>18</td>\n",
       "      <td>Partnered</td>\n",
       "      <td>4</td>\n",
       "      <td>5</td>\n",
       "      <td>104581</td>\n",
       "      <td>120</td>\n",
       "      <td>Excellent Shape</td>\n",
       "      <td>2500</td>\n",
       "      <td>Towards_old-age(&gt;46)</td>\n",
       "    </tr>\n",
       "    <tr>\n",
       "      <th>179</th>\n",
       "      <td>KP781</td>\n",
       "      <td>48</td>\n",
       "      <td>Male</td>\n",
       "      <td>18</td>\n",
       "      <td>Partnered</td>\n",
       "      <td>4</td>\n",
       "      <td>5</td>\n",
       "      <td>95508</td>\n",
       "      <td>180</td>\n",
       "      <td>Excellent Shape</td>\n",
       "      <td>2500</td>\n",
       "      <td>Towards_old-age(&gt;46)</td>\n",
       "    </tr>\n",
       "  </tbody>\n",
       "</table>\n",
       "<p>180 rows × 12 columns</p>\n",
       "</div>"
      ],
      "text/plain": [
       "    Product  Age  Gender  Education MaritalStatus  Usage  Fitness  Income  \\\n",
       "0     KP281   18    Male         14        Single      3        4   29562   \n",
       "1     KP281   19    Male         15        Single      2        3   31836   \n",
       "2     KP281   19  Female         14     Partnered      4        3   30699   \n",
       "3     KP281   19    Male         12        Single      3        3   32973   \n",
       "4     KP281   20    Male         13     Partnered      4        2   35247   \n",
       "..      ...  ...     ...        ...           ...    ...      ...     ...   \n",
       "175   KP781   40    Male         21        Single      6        5   83416   \n",
       "176   KP781   42    Male         18        Single      5        4   89641   \n",
       "177   KP781   45    Male         16        Single      5        5   90886   \n",
       "178   KP781   47    Male         18     Partnered      4        5  104581   \n",
       "179   KP781   48    Male         18     Partnered      4        5   95508   \n",
       "\n",
       "     Miles Fitness_category  Product_price          Age_category  \n",
       "0      112       Good Shape           1500            Teen(0-21)  \n",
       "1       75    Average Shape           1500            Teen(0-21)  \n",
       "2       66    Average Shape           1500            Teen(0-21)  \n",
       "3       85    Average Shape           1500            Teen(0-21)  \n",
       "4       47        Bad Shape           1500            Teen(0-21)  \n",
       "..     ...              ...            ...                   ...  \n",
       "175    200  Excellent Shape           2500        mid_age(36-45)  \n",
       "176    200       Good Shape           2500        mid_age(36-45)  \n",
       "177    160  Excellent Shape           2500        mid_age(36-45)  \n",
       "178    120  Excellent Shape           2500  Towards_old-age(>46)  \n",
       "179    180  Excellent Shape           2500  Towards_old-age(>46)  \n",
       "\n",
       "[180 rows x 12 columns]"
      ]
     },
     "execution_count": 21,
     "metadata": {},
     "output_type": "execute_result"
    }
   ],
   "source": [
    "data"
   ]
  },
  {
   "cell_type": "code",
   "execution_count": null,
   "id": "ca3f65b9",
   "metadata": {},
   "outputs": [],
   "source": []
  },
  {
   "cell_type": "markdown",
   "id": "7eba6b3d",
   "metadata": {},
   "source": [
    "### describing categorical features : : "
   ]
  },
  {
   "cell_type": "code",
   "execution_count": 22,
   "id": "ce8cf5cc",
   "metadata": {
    "scrolled": false
   },
   "outputs": [
    {
     "data": {
      "text/html": [
       "<div>\n",
       "<style scoped>\n",
       "    .dataframe tbody tr th:only-of-type {\n",
       "        vertical-align: middle;\n",
       "    }\n",
       "\n",
       "    .dataframe tbody tr th {\n",
       "        vertical-align: top;\n",
       "    }\n",
       "\n",
       "    .dataframe thead th {\n",
       "        text-align: right;\n",
       "    }\n",
       "</style>\n",
       "<table border=\"1\" class=\"dataframe\">\n",
       "  <thead>\n",
       "    <tr style=\"text-align: right;\">\n",
       "      <th></th>\n",
       "      <th>count</th>\n",
       "      <th>unique</th>\n",
       "      <th>top</th>\n",
       "      <th>freq</th>\n",
       "    </tr>\n",
       "  </thead>\n",
       "  <tbody>\n",
       "    <tr>\n",
       "      <th>Product</th>\n",
       "      <td>180</td>\n",
       "      <td>3</td>\n",
       "      <td>KP281</td>\n",
       "      <td>80</td>\n",
       "    </tr>\n",
       "    <tr>\n",
       "      <th>Gender</th>\n",
       "      <td>180</td>\n",
       "      <td>2</td>\n",
       "      <td>Male</td>\n",
       "      <td>104</td>\n",
       "    </tr>\n",
       "    <tr>\n",
       "      <th>MaritalStatus</th>\n",
       "      <td>180</td>\n",
       "      <td>2</td>\n",
       "      <td>Partnered</td>\n",
       "      <td>107</td>\n",
       "    </tr>\n",
       "    <tr>\n",
       "      <th>Fitness_category</th>\n",
       "      <td>180</td>\n",
       "      <td>5</td>\n",
       "      <td>Average Shape</td>\n",
       "      <td>97</td>\n",
       "    </tr>\n",
       "    <tr>\n",
       "      <th>Age_category</th>\n",
       "      <td>180</td>\n",
       "      <td>4</td>\n",
       "      <td>Adult(22-35)</td>\n",
       "      <td>135</td>\n",
       "    </tr>\n",
       "  </tbody>\n",
       "</table>\n",
       "</div>"
      ],
      "text/plain": [
       "                 count unique            top freq\n",
       "Product            180      3          KP281   80\n",
       "Gender             180      2           Male  104\n",
       "MaritalStatus      180      2      Partnered  107\n",
       "Fitness_category   180      5  Average Shape   97\n",
       "Age_category       180      4   Adult(22-35)  135"
      ]
     },
     "execution_count": 22,
     "metadata": {},
     "output_type": "execute_result"
    }
   ],
   "source": [
    "data.describe(include=\"object\").T"
   ]
  },
  {
   "cell_type": "markdown",
   "id": "20663e43",
   "metadata": {},
   "source": [
    "### Describing numeric Data : "
   ]
  },
  {
   "cell_type": "code",
   "execution_count": 23,
   "id": "1045e31b",
   "metadata": {},
   "outputs": [
    {
     "data": {
      "text/html": [
       "<div>\n",
       "<style scoped>\n",
       "    .dataframe tbody tr th:only-of-type {\n",
       "        vertical-align: middle;\n",
       "    }\n",
       "\n",
       "    .dataframe tbody tr th {\n",
       "        vertical-align: top;\n",
       "    }\n",
       "\n",
       "    .dataframe thead th {\n",
       "        text-align: right;\n",
       "    }\n",
       "</style>\n",
       "<table border=\"1\" class=\"dataframe\">\n",
       "  <thead>\n",
       "    <tr style=\"text-align: right;\">\n",
       "      <th></th>\n",
       "      <th>Age</th>\n",
       "      <th>Education</th>\n",
       "      <th>Usage</th>\n",
       "      <th>Fitness</th>\n",
       "      <th>Income</th>\n",
       "      <th>Miles</th>\n",
       "      <th>Product_price</th>\n",
       "    </tr>\n",
       "  </thead>\n",
       "  <tbody>\n",
       "    <tr>\n",
       "      <th>count</th>\n",
       "      <td>180.000000</td>\n",
       "      <td>180.000000</td>\n",
       "      <td>180.000000</td>\n",
       "      <td>180.000000</td>\n",
       "      <td>180.000000</td>\n",
       "      <td>180.000000</td>\n",
       "      <td>180.000000</td>\n",
       "    </tr>\n",
       "    <tr>\n",
       "      <th>mean</th>\n",
       "      <td>28.788889</td>\n",
       "      <td>15.572222</td>\n",
       "      <td>3.455556</td>\n",
       "      <td>3.311111</td>\n",
       "      <td>53719.577778</td>\n",
       "      <td>103.194444</td>\n",
       "      <td>1805.555556</td>\n",
       "    </tr>\n",
       "    <tr>\n",
       "      <th>std</th>\n",
       "      <td>6.943498</td>\n",
       "      <td>1.617055</td>\n",
       "      <td>1.084797</td>\n",
       "      <td>0.958869</td>\n",
       "      <td>16506.684226</td>\n",
       "      <td>51.863605</td>\n",
       "      <td>387.978895</td>\n",
       "    </tr>\n",
       "    <tr>\n",
       "      <th>min</th>\n",
       "      <td>18.000000</td>\n",
       "      <td>12.000000</td>\n",
       "      <td>2.000000</td>\n",
       "      <td>1.000000</td>\n",
       "      <td>29562.000000</td>\n",
       "      <td>21.000000</td>\n",
       "      <td>1500.000000</td>\n",
       "    </tr>\n",
       "    <tr>\n",
       "      <th>25%</th>\n",
       "      <td>24.000000</td>\n",
       "      <td>14.000000</td>\n",
       "      <td>3.000000</td>\n",
       "      <td>3.000000</td>\n",
       "      <td>44058.750000</td>\n",
       "      <td>66.000000</td>\n",
       "      <td>1500.000000</td>\n",
       "    </tr>\n",
       "    <tr>\n",
       "      <th>50%</th>\n",
       "      <td>26.000000</td>\n",
       "      <td>16.000000</td>\n",
       "      <td>3.000000</td>\n",
       "      <td>3.000000</td>\n",
       "      <td>50596.500000</td>\n",
       "      <td>94.000000</td>\n",
       "      <td>1750.000000</td>\n",
       "    </tr>\n",
       "    <tr>\n",
       "      <th>75%</th>\n",
       "      <td>33.000000</td>\n",
       "      <td>16.000000</td>\n",
       "      <td>4.000000</td>\n",
       "      <td>4.000000</td>\n",
       "      <td>58668.000000</td>\n",
       "      <td>114.750000</td>\n",
       "      <td>1750.000000</td>\n",
       "    </tr>\n",
       "    <tr>\n",
       "      <th>max</th>\n",
       "      <td>50.000000</td>\n",
       "      <td>21.000000</td>\n",
       "      <td>7.000000</td>\n",
       "      <td>5.000000</td>\n",
       "      <td>104581.000000</td>\n",
       "      <td>360.000000</td>\n",
       "      <td>2500.000000</td>\n",
       "    </tr>\n",
       "  </tbody>\n",
       "</table>\n",
       "</div>"
      ],
      "text/plain": [
       "              Age   Education       Usage     Fitness         Income  \\\n",
       "count  180.000000  180.000000  180.000000  180.000000     180.000000   \n",
       "mean    28.788889   15.572222    3.455556    3.311111   53719.577778   \n",
       "std      6.943498    1.617055    1.084797    0.958869   16506.684226   \n",
       "min     18.000000   12.000000    2.000000    1.000000   29562.000000   \n",
       "25%     24.000000   14.000000    3.000000    3.000000   44058.750000   \n",
       "50%     26.000000   16.000000    3.000000    3.000000   50596.500000   \n",
       "75%     33.000000   16.000000    4.000000    4.000000   58668.000000   \n",
       "max     50.000000   21.000000    7.000000    5.000000  104581.000000   \n",
       "\n",
       "            Miles  Product_price  \n",
       "count  180.000000     180.000000  \n",
       "mean   103.194444    1805.555556  \n",
       "std     51.863605     387.978895  \n",
       "min     21.000000    1500.000000  \n",
       "25%     66.000000    1500.000000  \n",
       "50%     94.000000    1750.000000  \n",
       "75%    114.750000    1750.000000  \n",
       "max    360.000000    2500.000000  "
      ]
     },
     "execution_count": 23,
     "metadata": {},
     "output_type": "execute_result"
    }
   ],
   "source": [
    "data.describe()"
   ]
  },
  {
   "cell_type": "markdown",
   "id": "0be6c3aa",
   "metadata": {},
   "source": [
    "###  `from above information , `\n",
    "1. `Median Age of Customer is 26 years.`\n",
    "2. `Maximum users are Adults(22-35) years and are Male and Married.`\n",
    "3. `Maximum Selling Product is KP281.`\n",
    "4. `Maximum numbers of customers' fitness level is above average(>3 according to given data).`\n",
    "5. `Median Miles run/walk per customer : 94 Miles`\n"
   ]
  },
  {
   "cell_type": "markdown",
   "id": "d2de67d6",
   "metadata": {},
   "source": [
    "#### `Additional information from data : `\n",
    "\n",
    "`median income of the customers :50596.5 USD`\n",
    "`Median of average usage per customer : 3 days a week`\n",
    "\n",
    "`Average Customer education is 15 to 16 years: `\n",
    "\n",
    "\n",
    "\n",
    "\n"
   ]
  },
  {
   "cell_type": "code",
   "execution_count": null,
   "id": "d9914d46",
   "metadata": {},
   "outputs": [],
   "source": []
  },
  {
   "cell_type": "code",
   "execution_count": null,
   "id": "c7ff1331",
   "metadata": {},
   "outputs": [],
   "source": []
  },
  {
   "cell_type": "code",
   "execution_count": null,
   "id": "ca07012f",
   "metadata": {},
   "outputs": [],
   "source": []
  },
  {
   "cell_type": "code",
   "execution_count": null,
   "id": "b093924a",
   "metadata": {},
   "outputs": [],
   "source": []
  },
  {
   "cell_type": "markdown",
   "id": "f992da17",
   "metadata": {},
   "source": [
    "### Correlation Between Features"
   ]
  },
  {
   "cell_type": "code",
   "execution_count": 24,
   "id": "c9784fdc",
   "metadata": {
    "scrolled": true
   },
   "outputs": [
    {
     "data": {
      "text/html": [
       "<div>\n",
       "<style scoped>\n",
       "    .dataframe tbody tr th:only-of-type {\n",
       "        vertical-align: middle;\n",
       "    }\n",
       "\n",
       "    .dataframe tbody tr th {\n",
       "        vertical-align: top;\n",
       "    }\n",
       "\n",
       "    .dataframe thead th {\n",
       "        text-align: right;\n",
       "    }\n",
       "</style>\n",
       "<table border=\"1\" class=\"dataframe\">\n",
       "  <thead>\n",
       "    <tr style=\"text-align: right;\">\n",
       "      <th></th>\n",
       "      <th>Age</th>\n",
       "      <th>Education</th>\n",
       "      <th>Usage</th>\n",
       "      <th>Fitness</th>\n",
       "      <th>Income</th>\n",
       "      <th>Miles</th>\n",
       "      <th>Product_price</th>\n",
       "    </tr>\n",
       "  </thead>\n",
       "  <tbody>\n",
       "    <tr>\n",
       "      <th>Age</th>\n",
       "      <td>1.000000</td>\n",
       "      <td>0.280496</td>\n",
       "      <td>0.015064</td>\n",
       "      <td>0.061105</td>\n",
       "      <td>0.513414</td>\n",
       "      <td>0.036618</td>\n",
       "      <td>0.029263</td>\n",
       "    </tr>\n",
       "    <tr>\n",
       "      <th>Education</th>\n",
       "      <td>0.280496</td>\n",
       "      <td>1.000000</td>\n",
       "      <td>0.395155</td>\n",
       "      <td>0.410581</td>\n",
       "      <td>0.625827</td>\n",
       "      <td>0.307284</td>\n",
       "      <td>0.563463</td>\n",
       "    </tr>\n",
       "    <tr>\n",
       "      <th>Usage</th>\n",
       "      <td>0.015064</td>\n",
       "      <td>0.395155</td>\n",
       "      <td>1.000000</td>\n",
       "      <td>0.668606</td>\n",
       "      <td>0.519537</td>\n",
       "      <td>0.759130</td>\n",
       "      <td>0.623124</td>\n",
       "    </tr>\n",
       "    <tr>\n",
       "      <th>Fitness</th>\n",
       "      <td>0.061105</td>\n",
       "      <td>0.410581</td>\n",
       "      <td>0.668606</td>\n",
       "      <td>1.000000</td>\n",
       "      <td>0.535005</td>\n",
       "      <td>0.785702</td>\n",
       "      <td>0.696616</td>\n",
       "    </tr>\n",
       "    <tr>\n",
       "      <th>Income</th>\n",
       "      <td>0.513414</td>\n",
       "      <td>0.625827</td>\n",
       "      <td>0.519537</td>\n",
       "      <td>0.535005</td>\n",
       "      <td>1.000000</td>\n",
       "      <td>0.543473</td>\n",
       "      <td>0.695847</td>\n",
       "    </tr>\n",
       "    <tr>\n",
       "      <th>Miles</th>\n",
       "      <td>0.036618</td>\n",
       "      <td>0.307284</td>\n",
       "      <td>0.759130</td>\n",
       "      <td>0.785702</td>\n",
       "      <td>0.543473</td>\n",
       "      <td>1.000000</td>\n",
       "      <td>0.643923</td>\n",
       "    </tr>\n",
       "    <tr>\n",
       "      <th>Product_price</th>\n",
       "      <td>0.029263</td>\n",
       "      <td>0.563463</td>\n",
       "      <td>0.623124</td>\n",
       "      <td>0.696616</td>\n",
       "      <td>0.695847</td>\n",
       "      <td>0.643923</td>\n",
       "      <td>1.000000</td>\n",
       "    </tr>\n",
       "  </tbody>\n",
       "</table>\n",
       "</div>"
      ],
      "text/plain": [
       "                    Age  Education     Usage   Fitness    Income     Miles  \\\n",
       "Age            1.000000   0.280496  0.015064  0.061105  0.513414  0.036618   \n",
       "Education      0.280496   1.000000  0.395155  0.410581  0.625827  0.307284   \n",
       "Usage          0.015064   0.395155  1.000000  0.668606  0.519537  0.759130   \n",
       "Fitness        0.061105   0.410581  0.668606  1.000000  0.535005  0.785702   \n",
       "Income         0.513414   0.625827  0.519537  0.535005  1.000000  0.543473   \n",
       "Miles          0.036618   0.307284  0.759130  0.785702  0.543473  1.000000   \n",
       "Product_price  0.029263   0.563463  0.623124  0.696616  0.695847  0.643923   \n",
       "\n",
       "               Product_price  \n",
       "Age                 0.029263  \n",
       "Education           0.563463  \n",
       "Usage               0.623124  \n",
       "Fitness             0.696616  \n",
       "Income              0.695847  \n",
       "Miles               0.643923  \n",
       "Product_price       1.000000  "
      ]
     },
     "execution_count": 24,
     "metadata": {},
     "output_type": "execute_result"
    }
   ],
   "source": [
    "data.corr()"
   ]
  },
  {
   "cell_type": "code",
   "execution_count": 25,
   "id": "17e5aec0",
   "metadata": {
    "scrolled": false
   },
   "outputs": [
    {
     "data": {
      "text/plain": [
       "<AxesSubplot:>"
      ]
     },
     "execution_count": 25,
     "metadata": {},
     "output_type": "execute_result"
    },
    {
     "data": {
      "image/png": "[encoded data removed]",
      "text/plain": [
       "<Figure size 720x504 with 2 Axes>"
      ]
     },
     "metadata": {},
     "output_type": "display_data"
    }
   ],
   "source": [
    "plt.figure(figsize=(10,7))\n",
    "sns.heatmap(data.corr(),annot=True)"
   ]
  },
  {
   "cell_type": "markdown",
   "id": "fbf402c5",
   "metadata": {},
   "source": [
    "#### features with higher correlation : >0.6\n"
   ]
  },
  {
   "cell_type": "code",
   "execution_count": 26,
   "id": "0c2e0311",
   "metadata": {
    "scrolled": true
   },
   "outputs": [
    {
     "data": {
      "text/plain": [
       "Usage          Fitness          0.668606\n",
       "               Miles            0.759130\n",
       "Fitness        Usage            0.668606\n",
       "               Miles            0.785702\n",
       "               Product_price    0.696616\n",
       "Income         Product_price    0.695847\n",
       "Miles          Usage            0.759130\n",
       "               Fitness          0.785702\n",
       "Product_price  Fitness          0.696616\n",
       "               Income           0.695847\n",
       "dtype: float64"
      ]
     },
     "execution_count": 26,
     "metadata": {},
     "output_type": "execute_result"
    }
   ],
   "source": [
    "# features with higher correlation : >0.65\n",
    "\n",
    "data.corr().unstack()[(data.corr().unstack()>0.65) & (data.corr().unstack()!=1)]"
   ]
  },
  {
   "cell_type": "markdown",
   "id": "83aece53",
   "metadata": {},
   "source": [
    "#### `Important correlations : `\n",
    "\n",
    "\n",
    "1. Fitness &  Miles : 0.785702\n",
    "2. Product_price & Income : 0.695847\n",
    "\n"
   ]
  },
  {
   "cell_type": "code",
   "execution_count": 27,
   "id": "b0bfa62b",
   "metadata": {},
   "outputs": [],
   "source": [
    "d = data[[\"Age\",\"Education\",\"Fitness\",\"Income\",\"Miles\",\"Gender\"]]"
   ]
  },
  {
   "cell_type": "code",
   "execution_count": 28,
   "id": "17eb023a",
   "metadata": {
    "scrolled": false
   },
   "outputs": [
    {
     "data": {
      "image/png": "[encoded data removed]",
      "text/plain": [
       "<Figure size 976.35x900 with 30 Axes>"
      ]
     },
     "metadata": {},
     "output_type": "display_data"
    }
   ],
   "source": [
    "x = sns.pairplot(d,\n",
    "                kind = \"reg\",\n",
    "                hue=\"Gender\")\n",
    "x.map_diag(sns.kdeplot)\n",
    "plt.show()"
   ]
  },
  {
   "cell_type": "code",
   "execution_count": null,
   "id": "1fdf222b",
   "metadata": {},
   "outputs": [],
   "source": []
  },
  {
   "cell_type": "code",
   "execution_count": null,
   "id": "dca57e74",
   "metadata": {},
   "outputs": [],
   "source": []
  },
  {
   "cell_type": "code",
   "execution_count": null,
   "id": "95629938",
   "metadata": {},
   "outputs": [],
   "source": []
  },
  {
   "cell_type": "code",
   "execution_count": null,
   "id": "ee0dd24c",
   "metadata": {},
   "outputs": [],
   "source": []
  },
  {
   "cell_type": "markdown",
   "id": "b7eec3cc",
   "metadata": {},
   "source": [
    "### Distribution of all numerical features : and check for outliers : \n"
   ]
  },
  {
   "cell_type": "code",
   "execution_count": null,
   "id": "afd78b11",
   "metadata": {},
   "outputs": [],
   "source": []
  },
  {
   "cell_type": "code",
   "execution_count": 29,
   "id": "c4b1ba37",
   "metadata": {},
   "outputs": [],
   "source": [
    "d = data[[\"Age\",\"Education\",\"Usage\",\"Fitness\",\"Income\",\"Miles\",\"Gender\"]]\n"
   ]
  },
  {
   "cell_type": "markdown",
   "id": "3171cd8c",
   "metadata": {},
   "source": [
    "#### Distribution of Miles run by customer in given Data"
   ]
  },
  {
   "cell_type": "code",
   "execution_count": 30,
   "id": "ae18cd09",
   "metadata": {},
   "outputs": [
    {
     "data": {
      "image/png": "[encoded data removed]",
      "text/plain": [
       "<Figure size 432x288 with 1 Axes>"
      ]
     },
     "metadata": {},
     "output_type": "display_data"
    }
   ],
   "source": [
    "sns.boxplot(x = \"Miles\",data = d,y=\"Gender\")\n",
    "plt.show()"
   ]
  },
  {
   "cell_type": "code",
   "execution_count": 31,
   "id": "f99075f0",
   "metadata": {},
   "outputs": [
    {
     "data": {
      "text/plain": [
       "187.875"
      ]
     },
     "execution_count": 31,
     "metadata": {},
     "output_type": "execute_result"
    }
   ],
   "source": [
    "IQR = np.percentile(data[\"Miles\"],75)  -   np.percentile(data[\"Miles\"],25)\n",
    "Q3 = np.percentile(data[\"Miles\"],75)\n",
    "Q1 = np.percentile(data[\"Miles\"],25)\n",
    "UpperWhisker = Q3 + (1.5*(IQR))\n",
    "UpperWhisker"
   ]
  },
  {
   "cell_type": "code",
   "execution_count": 32,
   "id": "3c33c4cb",
   "metadata": {},
   "outputs": [
    {
     "data": {
      "text/plain": [
       "66.0"
      ]
     },
     "execution_count": 32,
     "metadata": {},
     "output_type": "execute_result"
    }
   ],
   "source": [
    "Q1"
   ]
  },
  {
   "cell_type": "code",
   "execution_count": 33,
   "id": "2c3997be",
   "metadata": {},
   "outputs": [
    {
     "data": {
      "text/plain": [
       "114.75"
      ]
     },
     "execution_count": 33,
     "metadata": {},
     "output_type": "execute_result"
    }
   ],
   "source": [
    "Q3"
   ]
  },
  {
   "cell_type": "code",
   "execution_count": 34,
   "id": "cba5039d",
   "metadata": {},
   "outputs": [
    {
     "data": {
      "text/plain": [
       "48.75"
      ]
     },
     "execution_count": 34,
     "metadata": {},
     "output_type": "execute_result"
    }
   ],
   "source": [
    "IQR"
   ]
  },
  {
   "cell_type": "code",
   "execution_count": 35,
   "id": "95c5fbdf",
   "metadata": {},
   "outputs": [
    {
     "name": "stdout",
     "output_type": "stream",
     "text": [
      "Outliers :  13\n"
     ]
    }
   ],
   "source": [
    "outlier_data = data[data[\"Miles\"]>UpperWhisker]\n",
    "print(\"Outliers : \",len(outlier_data))"
   ]
  },
  {
   "cell_type": "markdown",
   "id": "79b0cc61",
   "metadata": {},
   "source": [
    "##### Insights from Customers who run more than 187.875 (outliers)."
   ]
  },
  {
   "cell_type": "code",
   "execution_count": 36,
   "id": "a029e08c",
   "metadata": {},
   "outputs": [
    {
     "data": {
      "text/plain": [
       "KP781    11\n",
       "KP281     1\n",
       "KP481     1\n",
       "Name: Product, dtype: int64"
      ]
     },
     "execution_count": 36,
     "metadata": {},
     "output_type": "execute_result"
    }
   ],
   "source": [
    "outlier_data[\"Product\"].value_counts()"
   ]
  },
  {
   "cell_type": "code",
   "execution_count": 37,
   "id": "6011e4d0",
   "metadata": {},
   "outputs": [
    {
     "data": {
      "text/plain": [
       "Excellent Shape    11\n",
       "Good Shape          2\n",
       "Name: Fitness_category, dtype: int64"
      ]
     },
     "execution_count": 37,
     "metadata": {},
     "output_type": "execute_result"
    }
   ],
   "source": [
    "\n",
    "outlier_data[\"Fitness_category\"].value_counts()"
   ]
  },
  {
   "cell_type": "markdown",
   "id": "f91a21c6",
   "metadata": {},
   "source": [
    "13 outlier in column \"Miles\".\n",
    "Customers who fall in outliers as per their miles run/walk , uses product KP781 and are in excellent shape.\n",
    "\n",
    "\n"
   ]
  },
  {
   "cell_type": "code",
   "execution_count": 38,
   "id": "67a4eb3a",
   "metadata": {},
   "outputs": [
    {
     "data": {
      "image/png": "[encoded data removed]",
      "text/plain": [
       "<Figure size 360x288 with 1 Axes>"
      ]
     },
     "metadata": {},
     "output_type": "display_data"
    }
   ],
   "source": [
    "plt.figure(figsize=(5,4))\n",
    "sns.distplot(data[\"Miles\"])\n",
    "plt.show()\n"
   ]
  },
  {
   "cell_type": "code",
   "execution_count": 39,
   "id": "f394fcca",
   "metadata": {
    "scrolled": true
   },
   "outputs": [
    {
     "data": {
      "image/png": "[encoded data removed]",
      "text/plain": [
       "<Figure size 432x288 with 1 Axes>"
      ]
     },
     "metadata": {},
     "output_type": "display_data"
    }
   ],
   "source": [
    "sns.boxplot(x = \"Income\",data = d,y=\"Gender\")\n",
    "plt.show()"
   ]
  },
  {
   "cell_type": "code",
   "execution_count": 40,
   "id": "9ef70b2f",
   "metadata": {},
   "outputs": [
    {
     "data": {
      "text/plain": [
       "80581.875"
      ]
     },
     "execution_count": 40,
     "metadata": {},
     "output_type": "execute_result"
    }
   ],
   "source": [
    "IQR = np.percentile(data[\"Income\"],75)-np.percentile(data[\"Income\"],25)\n",
    "Q3 = np.percentile(data[\"Income\"],75)\n",
    "Q1 = np.percentile(data[\"Income\"],25)\n",
    "UpperWhisker = Q3 + (1.5*(IQR))\n",
    "UpperWhisker"
   ]
  },
  {
   "cell_type": "code",
   "execution_count": 41,
   "id": "6326d7c1",
   "metadata": {},
   "outputs": [
    {
     "data": {
      "text/plain": [
       "False    161\n",
       "True      19\n",
       "Name: Income, dtype: int64"
      ]
     },
     "execution_count": 41,
     "metadata": {},
     "output_type": "execute_result"
    }
   ],
   "source": [
    "(data[\"Income\"] > UpperWhisker).value_counts()"
   ]
  },
  {
   "cell_type": "markdown",
   "id": "81a59e84",
   "metadata": {},
   "source": [
    "##### # 19 customers who's spending capacity is way more than most of the customers "
   ]
  },
  {
   "cell_type": "code",
   "execution_count": null,
   "id": "9e7fe09d",
   "metadata": {},
   "outputs": [],
   "source": []
  },
  {
   "cell_type": "code",
   "execution_count": null,
   "id": "f3ae5dc7",
   "metadata": {},
   "outputs": [],
   "source": []
  },
  {
   "cell_type": "code",
   "execution_count": null,
   "id": "d2b63490",
   "metadata": {},
   "outputs": [],
   "source": []
  },
  {
   "cell_type": "code",
   "execution_count": null,
   "id": "a5d22c98",
   "metadata": {},
   "outputs": [],
   "source": []
  },
  {
   "cell_type": "code",
   "execution_count": null,
   "id": "ea462889",
   "metadata": {},
   "outputs": [],
   "source": []
  },
  {
   "cell_type": "code",
   "execution_count": null,
   "id": "debc50a5",
   "metadata": {},
   "outputs": [],
   "source": []
  },
  {
   "cell_type": "code",
   "execution_count": null,
   "id": "065e670b",
   "metadata": {},
   "outputs": [],
   "source": []
  },
  {
   "cell_type": "code",
   "execution_count": null,
   "id": "657d4af9",
   "metadata": {},
   "outputs": [],
   "source": []
  },
  {
   "cell_type": "markdown",
   "id": "75b2b0ee",
   "metadata": {},
   "source": [
    "# General Sales Analysis  :"
   ]
  },
  {
   "cell_type": "code",
   "execution_count": 42,
   "id": "1309337e",
   "metadata": {
    "scrolled": true
   },
   "outputs": [
    {
     "data": {
      "text/plain": [
       "Male      104\n",
       "Female     76\n",
       "Name: Gender, dtype: int64"
      ]
     },
     "execution_count": 42,
     "metadata": {},
     "output_type": "execute_result"
    }
   ],
   "source": [
    "data[\"Gender\"].value_counts()\n"
   ]
  },
  {
   "cell_type": "code",
   "execution_count": 43,
   "id": "4ea2792b",
   "metadata": {
    "scrolled": true
   },
   "outputs": [
    {
     "data": {
      "image/png": "[encoded data removed]",
      "text/plain": [
       "<Figure size 432x288 with 1 Axes>"
      ]
     },
     "metadata": {},
     "output_type": "display_data"
    }
   ],
   "source": [
    "sns.countplot(x = \"Gender\" , data = data)\n",
    "plt.title(\"Count of Customers Gender wice\")\n",
    "\n",
    "plt.xlabel(\"Gender\")\n",
    "plt.ylabel(\"Number of Customers\")\n",
    "plt.show()"
   ]
  },
  {
   "cell_type": "markdown",
   "id": "df272352",
   "metadata": {},
   "source": [
    "### Quantity per Product Sold "
   ]
  },
  {
   "cell_type": "code",
   "execution_count": 44,
   "id": "11486a30",
   "metadata": {},
   "outputs": [
    {
     "data": {
      "text/plain": [
       "KP281    44.444444\n",
       "KP481    33.333333\n",
       "KP781    22.222222\n",
       "Name: Product, dtype: float64"
      ]
     },
     "execution_count": 44,
     "metadata": {},
     "output_type": "execute_result"
    }
   ],
   "source": [
    "data[\"Product\"].value_counts(normalize=True)*100"
   ]
  },
  {
   "cell_type": "code",
   "execution_count": null,
   "id": "b34980e3",
   "metadata": {},
   "outputs": [],
   "source": []
  },
  {
   "cell_type": "code",
   "execution_count": 45,
   "id": "b54075d7",
   "metadata": {},
   "outputs": [
    {
     "data": {
      "image/png": "[encoded data removed]",
      "text/plain": [
       "<Figure size 432x288 with 1 Axes>"
      ]
     },
     "metadata": {},
     "output_type": "display_data"
    }
   ],
   "source": [
    "sns.barplot(x = data[\"Product\"].value_counts().index,\n",
    "           y = data[\"Product\"].value_counts())\n",
    "plt.title(\"Product : Number of Product Sold\")\n",
    "\n",
    "plt.xlabel(\"Products\")\n",
    "plt.ylabel(\"Number of Product Sold\")\n",
    "plt.show()"
   ]
  },
  {
   "cell_type": "code",
   "execution_count": 46,
   "id": "7932a0a0",
   "metadata": {},
   "outputs": [
    {
     "data": {
      "text/plain": [
       "Product\n",
       "KP281    120000\n",
       "KP481    105000\n",
       "KP781    100000\n",
       "Name: Product_price, dtype: int64"
      ]
     },
     "execution_count": 46,
     "metadata": {},
     "output_type": "execute_result"
    }
   ],
   "source": [
    "data.groupby(\"Product\")[\"Product_price\"].sum()"
   ]
  },
  {
   "cell_type": "code",
   "execution_count": 47,
   "id": "1b451f31",
   "metadata": {
    "scrolled": false
   },
   "outputs": [
    {
     "data": {
      "text/plain": [
       "Text(0, 0.5, 'Revenue Per Product')"
      ]
     },
     "execution_count": 47,
     "metadata": {},
     "output_type": "execute_result"
    },
    {
     "data": {
      "image/png": "[encoded data removed]",
      "text/plain": [
       "<Figure size 432x288 with 1 Axes>"
      ]
     },
     "metadata": {},
     "output_type": "display_data"
    }
   ],
   "source": [
    "sns.barplot(x = data.groupby(\"Product\")[\"Product_price\"].sum().index,\n",
    "           y = data.groupby(\"Product\")[\"Product_price\"].sum())\n",
    "\n",
    "plt.ylabel(\"Revenue Per Product\")"
   ]
  },
  {
   "cell_type": "markdown",
   "id": "6a11c1b1",
   "metadata": {},
   "source": [
    "### Highest Selling Product is KP281  and other product's numbers are also significant.\n",
    "\n",
    "### As shown below Calulation , is the revenue generater per Product : \n",
    "###### for  KP281 is highest (120000 USD ) and for KP481 and KP781 are around same as 100000 USD."
   ]
  },
  {
   "cell_type": "code",
   "execution_count": null,
   "id": "b7fa9987",
   "metadata": {},
   "outputs": [],
   "source": []
  },
  {
   "cell_type": "code",
   "execution_count": null,
   "id": "5c40748e",
   "metadata": {},
   "outputs": [],
   "source": []
  },
  {
   "cell_type": "code",
   "execution_count": null,
   "id": "acdce1b6",
   "metadata": {},
   "outputs": [],
   "source": []
  },
  {
   "cell_type": "code",
   "execution_count": null,
   "id": "2d3e2af2",
   "metadata": {},
   "outputs": [],
   "source": []
  },
  {
   "cell_type": "code",
   "execution_count": null,
   "id": "9d933cb6",
   "metadata": {},
   "outputs": [],
   "source": []
  },
  {
   "cell_type": "code",
   "execution_count": null,
   "id": "d35fba46",
   "metadata": {},
   "outputs": [],
   "source": []
  },
  {
   "cell_type": "code",
   "execution_count": null,
   "id": "cbca4800",
   "metadata": {},
   "outputs": [],
   "source": []
  },
  {
   "cell_type": "markdown",
   "id": "dd4affe1",
   "metadata": {},
   "source": [
    "## Two-Way Contingency Table : \n"
   ]
  },
  {
   "cell_type": "markdown",
   "id": "1ac90657",
   "metadata": {},
   "source": [
    "## `Across gender`"
   ]
  },
  {
   "cell_type": "code",
   "execution_count": 48,
   "id": "0f9f9b97",
   "metadata": {},
   "outputs": [
    {
     "data": {
      "image/png": "[encoded data removed]",
      "text/plain": [
       "<Figure size 432x288 with 1 Axes>"
      ]
     },
     "metadata": {},
     "output_type": "display_data"
    }
   ],
   "source": [
    "sns.countplot(x = \"Product\", data= data, hue = \"Gender\")\n",
    "plt.xlabel(\"Products\")\n",
    "plt.title(\"Count of Male and Female uses Particular Products\")\n",
    "plt.show()"
   ]
  },
  {
   "cell_type": "code",
   "execution_count": 49,
   "id": "22bd5021",
   "metadata": {
    "scrolled": true
   },
   "outputs": [
    {
     "data": {
      "text/html": [
       "<div>\n",
       "<style scoped>\n",
       "    .dataframe tbody tr th:only-of-type {\n",
       "        vertical-align: middle;\n",
       "    }\n",
       "\n",
       "    .dataframe tbody tr th {\n",
       "        vertical-align: top;\n",
       "    }\n",
       "\n",
       "    .dataframe thead th {\n",
       "        text-align: right;\n",
       "    }\n",
       "</style>\n",
       "<table border=\"1\" class=\"dataframe\">\n",
       "  <thead>\n",
       "    <tr style=\"text-align: right;\">\n",
       "      <th>Gender</th>\n",
       "      <th>Female</th>\n",
       "      <th>Male</th>\n",
       "      <th>All</th>\n",
       "    </tr>\n",
       "    <tr>\n",
       "      <th>Product</th>\n",
       "      <th></th>\n",
       "      <th></th>\n",
       "      <th></th>\n",
       "    </tr>\n",
       "  </thead>\n",
       "  <tbody>\n",
       "    <tr>\n",
       "      <th>KP281</th>\n",
       "      <td>40</td>\n",
       "      <td>40</td>\n",
       "      <td>80</td>\n",
       "    </tr>\n",
       "    <tr>\n",
       "      <th>KP481</th>\n",
       "      <td>29</td>\n",
       "      <td>31</td>\n",
       "      <td>60</td>\n",
       "    </tr>\n",
       "    <tr>\n",
       "      <th>KP781</th>\n",
       "      <td>7</td>\n",
       "      <td>33</td>\n",
       "      <td>40</td>\n",
       "    </tr>\n",
       "    <tr>\n",
       "      <th>All</th>\n",
       "      <td>76</td>\n",
       "      <td>104</td>\n",
       "      <td>180</td>\n",
       "    </tr>\n",
       "  </tbody>\n",
       "</table>\n",
       "</div>"
      ],
      "text/plain": [
       "Gender   Female  Male  All\n",
       "Product                   \n",
       "KP281        40    40   80\n",
       "KP481        29    31   60\n",
       "KP781         7    33   40\n",
       "All          76   104  180"
      ]
     },
     "execution_count": 49,
     "metadata": {},
     "output_type": "execute_result"
    }
   ],
   "source": [
    "pd.crosstab([data[\"Product\"]],df[\"Gender\"],margins=True)"
   ]
  },
  {
   "cell_type": "code",
   "execution_count": 50,
   "id": "cac04137",
   "metadata": {},
   "outputs": [
    {
     "data": {
      "text/html": [
       "<div>\n",
       "<style scoped>\n",
       "    .dataframe tbody tr th:only-of-type {\n",
       "        vertical-align: middle;\n",
       "    }\n",
       "\n",
       "    .dataframe tbody tr th {\n",
       "        vertical-align: top;\n",
       "    }\n",
       "\n",
       "    .dataframe thead th {\n",
       "        text-align: right;\n",
       "    }\n",
       "</style>\n",
       "<table border=\"1\" class=\"dataframe\">\n",
       "  <thead>\n",
       "    <tr style=\"text-align: right;\">\n",
       "      <th>Gender</th>\n",
       "      <th>Female</th>\n",
       "      <th>Male</th>\n",
       "      <th>All</th>\n",
       "    </tr>\n",
       "    <tr>\n",
       "      <th>Product</th>\n",
       "      <th></th>\n",
       "      <th></th>\n",
       "      <th></th>\n",
       "    </tr>\n",
       "  </thead>\n",
       "  <tbody>\n",
       "    <tr>\n",
       "      <th>KP281</th>\n",
       "      <td>22.222222</td>\n",
       "      <td>22.222222</td>\n",
       "      <td>44.444444</td>\n",
       "    </tr>\n",
       "    <tr>\n",
       "      <th>KP481</th>\n",
       "      <td>16.111111</td>\n",
       "      <td>17.222222</td>\n",
       "      <td>33.333333</td>\n",
       "    </tr>\n",
       "    <tr>\n",
       "      <th>KP781</th>\n",
       "      <td>3.888889</td>\n",
       "      <td>18.333333</td>\n",
       "      <td>22.222222</td>\n",
       "    </tr>\n",
       "    <tr>\n",
       "      <th>All</th>\n",
       "      <td>42.222222</td>\n",
       "      <td>57.777778</td>\n",
       "      <td>100.000000</td>\n",
       "    </tr>\n",
       "  </tbody>\n",
       "</table>\n",
       "</div>"
      ],
      "text/plain": [
       "Gender      Female       Male         All\n",
       "Product                                  \n",
       "KP281    22.222222  22.222222   44.444444\n",
       "KP481    16.111111  17.222222   33.333333\n",
       "KP781     3.888889  18.333333   22.222222\n",
       "All      42.222222  57.777778  100.000000"
      ]
     },
     "execution_count": 50,
     "metadata": {},
     "output_type": "execute_result"
    }
   ],
   "source": [
    "((pd.crosstab(data[\"Product\"],data[\"Gender\"],margins=True))/180)*100"
   ]
  },
  {
   "cell_type": "raw",
   "id": "9178157b",
   "metadata": {},
   "source": []
  },
  {
   "cell_type": "markdown",
   "id": "344ea728",
   "metadata": {},
   "source": [
    "##### Marginal Probability  : \n",
    "\n",
    "(from above tables)\n",
    "\n",
    "Probability of Male Customer Purchasing any product is : 57.77 %\n",
    "\n",
    "Probability of Female Customer Purchasing any product is : 42.22 %\n",
    "\n",
    "##### Marginal Probability of any customer buying\n",
    "\n",
    "product KP281  is : 44.44 %  (cheapest / entry level product)\n",
    "\n",
    "product KP481  is : 33.33 % ( for intermediate users)\n",
    "\n",
    "product KP781  is : 22.22 % ( product for extensive use who run/walk more miles)\n",
    "\n"
   ]
  },
  {
   "cell_type": "code",
   "execution_count": null,
   "id": "8266244b",
   "metadata": {},
   "outputs": [],
   "source": []
  },
  {
   "cell_type": "markdown",
   "id": "03a7116c",
   "metadata": {},
   "source": [
    "### Conditional Probabilities : "
   ]
  },
  {
   "cell_type": "code",
   "execution_count": 51,
   "id": "99ca8786",
   "metadata": {},
   "outputs": [
    {
     "data": {
      "text/html": [
       "<div>\n",
       "<style scoped>\n",
       "    .dataframe tbody tr th:only-of-type {\n",
       "        vertical-align: middle;\n",
       "    }\n",
       "\n",
       "    .dataframe tbody tr th {\n",
       "        vertical-align: top;\n",
       "    }\n",
       "\n",
       "    .dataframe thead th {\n",
       "        text-align: right;\n",
       "    }\n",
       "</style>\n",
       "<table border=\"1\" class=\"dataframe\">\n",
       "  <thead>\n",
       "    <tr style=\"text-align: right;\">\n",
       "      <th>Gender</th>\n",
       "      <th>Female</th>\n",
       "      <th>Male</th>\n",
       "      <th>All</th>\n",
       "    </tr>\n",
       "    <tr>\n",
       "      <th>Product</th>\n",
       "      <th></th>\n",
       "      <th></th>\n",
       "      <th></th>\n",
       "    </tr>\n",
       "  </thead>\n",
       "  <tbody>\n",
       "    <tr>\n",
       "      <th>KP281</th>\n",
       "      <td>52.631579</td>\n",
       "      <td>38.461538</td>\n",
       "      <td>44.444444</td>\n",
       "    </tr>\n",
       "    <tr>\n",
       "      <th>KP481</th>\n",
       "      <td>38.157895</td>\n",
       "      <td>29.807692</td>\n",
       "      <td>33.333333</td>\n",
       "    </tr>\n",
       "    <tr>\n",
       "      <th>KP781</th>\n",
       "      <td>9.210526</td>\n",
       "      <td>31.730769</td>\n",
       "      <td>22.222222</td>\n",
       "    </tr>\n",
       "  </tbody>\n",
       "</table>\n",
       "</div>"
      ],
      "text/plain": [
       "Gender      Female       Male        All\n",
       "Product                                 \n",
       "KP281    52.631579  38.461538  44.444444\n",
       "KP481    38.157895  29.807692  33.333333\n",
       "KP781     9.210526  31.730769  22.222222"
      ]
     },
     "execution_count": 51,
     "metadata": {},
     "output_type": "execute_result"
    }
   ],
   "source": [
    "(pd.crosstab([data[\"Product\"]],data[\"Gender\"],margins=True,normalize=\"columns\"))*100\n"
   ]
  },
  {
   "cell_type": "markdown",
   "id": "02c8eda1",
   "metadata": {},
   "source": [
    "#### Probability of users of KP281 given they male : \n",
    " \n",
    "\n",
    "\n",
    "##### Probability of Selling Product \n",
    "`KP281 | Female = 52 %`\n",
    "\n",
    "`KP481 | Female = 38 %`\n",
    "\n",
    "`KP781 | Female = 10 %`\n",
    "    \n",
    "`KP281 | male = 38 %`\n",
    "\n",
    "`KP481 | male = 30 %`\n",
    "\n",
    "`KP781 | male = 32 %`\n",
    "\n",
    "                               \n",
    "\n",
    "            "
   ]
  },
  {
   "cell_type": "markdown",
   "id": "2f2ee93f",
   "metadata": {},
   "source": [
    "\n",
    "Probability of Female customer buying KP281(52.63%) is more than male(38.46%).\n",
    "\n",
    "KP281 is more recommended for female customers. \n",
    "\n",
    "Probability of Male customer buying Product KP781(31.73%) is way more than female(9.21%). \n",
    "\n",
    "Probability of Female customer buying Product KP481(38.15%) is significantly higher than male (29.80%. )\n",
    "\n",
    "KP481 product is specifically recommended for Female customers who are intermediate user. \n"
   ]
  },
  {
   "cell_type": "code",
   "execution_count": null,
   "id": "cf93872c",
   "metadata": {},
   "outputs": [],
   "source": []
  },
  {
   "cell_type": "code",
   "execution_count": null,
   "id": "9db5f0bf",
   "metadata": {},
   "outputs": [],
   "source": []
  },
  {
   "cell_type": "code",
   "execution_count": null,
   "id": "bb22255c",
   "metadata": {},
   "outputs": [],
   "source": []
  },
  {
   "cell_type": "code",
   "execution_count": null,
   "id": "7877bbfd",
   "metadata": {},
   "outputs": [],
   "source": []
  },
  {
   "cell_type": "markdown",
   "id": "7a1df7b9",
   "metadata": {},
   "source": [
    "## `Across Marital Status`"
   ]
  },
  {
   "cell_type": "code",
   "execution_count": 52,
   "id": "f1aa4f2e",
   "metadata": {},
   "outputs": [
    {
     "data": {
      "text/plain": [
       "Partnered    59.444444\n",
       "Single       40.555556\n",
       "Name: MaritalStatus, dtype: float64"
      ]
     },
     "execution_count": 52,
     "metadata": {},
     "output_type": "execute_result"
    }
   ],
   "source": [
    "data[\"MaritalStatus\"].value_counts(normalize=True)*100"
   ]
  },
  {
   "cell_type": "code",
   "execution_count": 53,
   "id": "ed011fc2",
   "metadata": {},
   "outputs": [
    {
     "data": {
      "image/png": "[encoded data removed]",
      "text/plain": [
       "<Figure size 432x288 with 1 Axes>"
      ]
     },
     "metadata": {},
     "output_type": "display_data"
    }
   ],
   "source": [
    "sns.countplot(x = \"Product\", data= data, hue = \"MaritalStatus\")\n",
    "plt.xlabel(\"Products\")\n",
    "plt.title(\"Count of Male and Female uses Particular Products\")\n",
    "plt.show()"
   ]
  },
  {
   "cell_type": "code",
   "execution_count": 54,
   "id": "bbcb1e11",
   "metadata": {},
   "outputs": [
    {
     "data": {
      "text/html": [
       "<div>\n",
       "<style scoped>\n",
       "    .dataframe tbody tr th:only-of-type {\n",
       "        vertical-align: middle;\n",
       "    }\n",
       "\n",
       "    .dataframe tbody tr th {\n",
       "        vertical-align: top;\n",
       "    }\n",
       "\n",
       "    .dataframe thead th {\n",
       "        text-align: right;\n",
       "    }\n",
       "</style>\n",
       "<table border=\"1\" class=\"dataframe\">\n",
       "  <thead>\n",
       "    <tr style=\"text-align: right;\">\n",
       "      <th>MaritalStatus</th>\n",
       "      <th>Partnered</th>\n",
       "      <th>Single</th>\n",
       "      <th>All</th>\n",
       "    </tr>\n",
       "    <tr>\n",
       "      <th>Product</th>\n",
       "      <th></th>\n",
       "      <th></th>\n",
       "      <th></th>\n",
       "    </tr>\n",
       "  </thead>\n",
       "  <tbody>\n",
       "    <tr>\n",
       "      <th>KP281</th>\n",
       "      <td>48</td>\n",
       "      <td>32</td>\n",
       "      <td>80</td>\n",
       "    </tr>\n",
       "    <tr>\n",
       "      <th>KP481</th>\n",
       "      <td>36</td>\n",
       "      <td>24</td>\n",
       "      <td>60</td>\n",
       "    </tr>\n",
       "    <tr>\n",
       "      <th>KP781</th>\n",
       "      <td>23</td>\n",
       "      <td>17</td>\n",
       "      <td>40</td>\n",
       "    </tr>\n",
       "    <tr>\n",
       "      <th>All</th>\n",
       "      <td>107</td>\n",
       "      <td>73</td>\n",
       "      <td>180</td>\n",
       "    </tr>\n",
       "  </tbody>\n",
       "</table>\n",
       "</div>"
      ],
      "text/plain": [
       "MaritalStatus  Partnered  Single  All\n",
       "Product                              \n",
       "KP281                 48      32   80\n",
       "KP481                 36      24   60\n",
       "KP781                 23      17   40\n",
       "All                  107      73  180"
      ]
     },
     "execution_count": 54,
     "metadata": {},
     "output_type": "execute_result"
    }
   ],
   "source": [
    "pd.crosstab([data[\"Product\"]],df[\"MaritalStatus\"],margins=True)"
   ]
  },
  {
   "cell_type": "code",
   "execution_count": 55,
   "id": "0bf407dc",
   "metadata": {
    "scrolled": true
   },
   "outputs": [
    {
     "data": {
      "text/html": [
       "<div>\n",
       "<style scoped>\n",
       "    .dataframe tbody tr th:only-of-type {\n",
       "        vertical-align: middle;\n",
       "    }\n",
       "\n",
       "    .dataframe tbody tr th {\n",
       "        vertical-align: top;\n",
       "    }\n",
       "\n",
       "    .dataframe thead th {\n",
       "        text-align: right;\n",
       "    }\n",
       "</style>\n",
       "<table border=\"1\" class=\"dataframe\">\n",
       "  <thead>\n",
       "    <tr style=\"text-align: right;\">\n",
       "      <th>MaritalStatus</th>\n",
       "      <th>Partnered</th>\n",
       "      <th>Single</th>\n",
       "      <th>All</th>\n",
       "    </tr>\n",
       "    <tr>\n",
       "      <th>Product</th>\n",
       "      <th></th>\n",
       "      <th></th>\n",
       "      <th></th>\n",
       "    </tr>\n",
       "  </thead>\n",
       "  <tbody>\n",
       "    <tr>\n",
       "      <th>KP281</th>\n",
       "      <td>26.666667</td>\n",
       "      <td>17.777778</td>\n",
       "      <td>44.444444</td>\n",
       "    </tr>\n",
       "    <tr>\n",
       "      <th>KP481</th>\n",
       "      <td>20.000000</td>\n",
       "      <td>13.333333</td>\n",
       "      <td>33.333333</td>\n",
       "    </tr>\n",
       "    <tr>\n",
       "      <th>KP781</th>\n",
       "      <td>12.777778</td>\n",
       "      <td>9.444444</td>\n",
       "      <td>22.222222</td>\n",
       "    </tr>\n",
       "    <tr>\n",
       "      <th>All</th>\n",
       "      <td>59.444444</td>\n",
       "      <td>40.555556</td>\n",
       "      <td>100.000000</td>\n",
       "    </tr>\n",
       "  </tbody>\n",
       "</table>\n",
       "</div>"
      ],
      "text/plain": [
       "MaritalStatus  Partnered     Single         All\n",
       "Product                                        \n",
       "KP281          26.666667  17.777778   44.444444\n",
       "KP481          20.000000  13.333333   33.333333\n",
       "KP781          12.777778   9.444444   22.222222\n",
       "All            59.444444  40.555556  100.000000"
      ]
     },
     "execution_count": 55,
     "metadata": {},
     "output_type": "execute_result"
    }
   ],
   "source": [
    "(pd.crosstab([data[\"Product\"]],df[\"MaritalStatus\"],margins=True)/180)*100"
   ]
  },
  {
   "cell_type": "markdown",
   "id": "9c947191",
   "metadata": {},
   "source": [
    "\n",
    "Marginal Probability for \n",
    "- Married Customers : 59.44 % \n",
    "- Single Customers : 40.555 %\n",
    "    \n"
   ]
  },
  {
   "cell_type": "code",
   "execution_count": 56,
   "id": "505d1604",
   "metadata": {},
   "outputs": [
    {
     "data": {
      "text/html": [
       "<div>\n",
       "<style scoped>\n",
       "    .dataframe tbody tr th:only-of-type {\n",
       "        vertical-align: middle;\n",
       "    }\n",
       "\n",
       "    .dataframe tbody tr th {\n",
       "        vertical-align: top;\n",
       "    }\n",
       "\n",
       "    .dataframe thead th {\n",
       "        text-align: right;\n",
       "    }\n",
       "</style>\n",
       "<table border=\"1\" class=\"dataframe\">\n",
       "  <thead>\n",
       "    <tr style=\"text-align: right;\">\n",
       "      <th>MaritalStatus</th>\n",
       "      <th>Partnered</th>\n",
       "      <th>Single</th>\n",
       "      <th>All</th>\n",
       "    </tr>\n",
       "    <tr>\n",
       "      <th>Product</th>\n",
       "      <th></th>\n",
       "      <th></th>\n",
       "      <th></th>\n",
       "    </tr>\n",
       "  </thead>\n",
       "  <tbody>\n",
       "    <tr>\n",
       "      <th>KP281</th>\n",
       "      <td>44.859813</td>\n",
       "      <td>43.835616</td>\n",
       "      <td>44.444444</td>\n",
       "    </tr>\n",
       "    <tr>\n",
       "      <th>KP481</th>\n",
       "      <td>33.644860</td>\n",
       "      <td>32.876712</td>\n",
       "      <td>33.333333</td>\n",
       "    </tr>\n",
       "    <tr>\n",
       "      <th>KP781</th>\n",
       "      <td>21.495327</td>\n",
       "      <td>23.287671</td>\n",
       "      <td>22.222222</td>\n",
       "    </tr>\n",
       "  </tbody>\n",
       "</table>\n",
       "</div>"
      ],
      "text/plain": [
       "MaritalStatus  Partnered     Single        All\n",
       "Product                                       \n",
       "KP281          44.859813  43.835616  44.444444\n",
       "KP481          33.644860  32.876712  33.333333\n",
       "KP781          21.495327  23.287671  22.222222"
      ]
     },
     "execution_count": 56,
     "metadata": {},
     "output_type": "execute_result"
    }
   ],
   "source": [
    "pd.crosstab([data[\"Product\"]],df[\"MaritalStatus\"],margins=True,normalize=\"columns\")*100"
   ]
  },
  {
   "cell_type": "markdown",
   "id": "3417cec6",
   "metadata": {},
   "source": [
    "\n",
    "KP281 | Partnered = 44.85 %\n",
    "\n",
    "KP481 | Partnered = 33.64 %\n",
    "\n",
    "KP781 | Partnered = 21.49 %\n",
    " \n",
    " \n",
    "KP281 | Single = 43.83 %\n",
    "\n",
    "KP481 | Single = 32.87 %\n",
    "\n",
    "KP781 | Single = 23.28 %\n",
    "\n",
    "\n",
    "\n",
    "\n",
    "Probability of Married Person purchasing any product is 59.44 % \n",
    "\n",
    "Probability of Single  Person purchasing any product is 40.55 % \n",
    "\n",
    "Probability of a Married person buying product KP281 and KP481 is slightly higher than the customers who are single. \n",
    "\n",
    "Probability of a single person buying KP781 is higher than Married customers. \n",
    "\n",
    "So , KP781 is also recommended for people who are single and exercises more. \n",
    "\n"
   ]
  },
  {
   "cell_type": "code",
   "execution_count": null,
   "id": "8801f390",
   "metadata": {},
   "outputs": [],
   "source": []
  },
  {
   "cell_type": "code",
   "execution_count": null,
   "id": "d589292a",
   "metadata": {},
   "outputs": [],
   "source": []
  },
  {
   "cell_type": "markdown",
   "id": "1d0a3d40",
   "metadata": {},
   "source": [
    "# Product - Gender - Mile"
   ]
  },
  {
   "cell_type": "code",
   "execution_count": 57,
   "id": "ab82bff6",
   "metadata": {},
   "outputs": [
    {
     "data": {
      "image/png": "[encoded data removed]",
      "text/plain": [
       "<Figure size 442.895x504 with 1 Axes>"
      ]
     },
     "metadata": {},
     "output_type": "display_data"
    }
   ],
   "source": [
    "sns.catplot(x= \"Product\", y = \"Miles\",hue=\"Gender\" ,kind = \"box\", data= data,height=7, aspect=8/11 )\n",
    "plt.xticks(rotation = 0)\n",
    "plt.show()"
   ]
  },
  {
   "attachments": {},
   "cell_type": "markdown",
   "id": "175defb5",
   "metadata": {},
   "source": [
    "`Since, the variation  for Product KP481 for particularly Male is more , we can say KP481 is good for people who want to run/walk for 60 to 130 miles a week. It is more a genera purpose product for intermediate use.`"
   ]
  },
  {
   "cell_type": "code",
   "execution_count": null,
   "id": "252b305f",
   "metadata": {},
   "outputs": [],
   "source": []
  },
  {
   "cell_type": "code",
   "execution_count": null,
   "id": "aec5eead",
   "metadata": {},
   "outputs": [],
   "source": []
  },
  {
   "cell_type": "code",
   "execution_count": 58,
   "id": "16252676",
   "metadata": {},
   "outputs": [
    {
     "data": {
      "text/html": [
       "<div>\n",
       "<style scoped>\n",
       "    .dataframe tbody tr th:only-of-type {\n",
       "        vertical-align: middle;\n",
       "    }\n",
       "\n",
       "    .dataframe tbody tr th {\n",
       "        vertical-align: top;\n",
       "    }\n",
       "\n",
       "    .dataframe thead th {\n",
       "        text-align: right;\n",
       "    }\n",
       "</style>\n",
       "<table border=\"1\" class=\"dataframe\">\n",
       "  <thead>\n",
       "    <tr style=\"text-align: right;\">\n",
       "      <th>Gender</th>\n",
       "      <th>Female</th>\n",
       "      <th>Male</th>\n",
       "      <th>All</th>\n",
       "    </tr>\n",
       "    <tr>\n",
       "      <th>Product</th>\n",
       "      <th></th>\n",
       "      <th></th>\n",
       "      <th></th>\n",
       "    </tr>\n",
       "  </thead>\n",
       "  <tbody>\n",
       "    <tr>\n",
       "      <th>KP281</th>\n",
       "      <td>76.20</td>\n",
       "      <td>89.38</td>\n",
       "      <td>82.79</td>\n",
       "    </tr>\n",
       "    <tr>\n",
       "      <th>KP481</th>\n",
       "      <td>87.34</td>\n",
       "      <td>88.48</td>\n",
       "      <td>87.93</td>\n",
       "    </tr>\n",
       "    <tr>\n",
       "      <th>KP781</th>\n",
       "      <td>180.00</td>\n",
       "      <td>164.12</td>\n",
       "      <td>166.90</td>\n",
       "    </tr>\n",
       "    <tr>\n",
       "      <th>All</th>\n",
       "      <td>90.01</td>\n",
       "      <td>112.83</td>\n",
       "      <td>103.19</td>\n",
       "    </tr>\n",
       "  </tbody>\n",
       "</table>\n",
       "</div>"
      ],
      "text/plain": [
       "Gender   Female    Male     All\n",
       "Product                        \n",
       "KP281     76.20   89.38   82.79\n",
       "KP481     87.34   88.48   87.93\n",
       "KP781    180.00  164.12  166.90\n",
       "All       90.01  112.83  103.19"
      ]
     },
     "execution_count": 58,
     "metadata": {},
     "output_type": "execute_result"
    }
   ],
   "source": [
    "np.round(pd.crosstab([data[\"Product\"]],df[\"Gender\"],values=data[\"Miles\"],aggfunc=np.mean,margins=True),2)"
   ]
  },
  {
   "cell_type": "markdown",
   "id": "d76d08e0",
   "metadata": {},
   "source": [
    "#### Observations and Insights:\n",
    "\n",
    "- From charts and Crosstab of average miles run by customer for particular product: \n",
    "\n",
    "- Female Customers who are running average 180 miles (extensive exercise) , are using product KP781, which is higher than Male average using same product. \n",
    "- KP781 can be recommended for Female customers who exercises extensively.\n",
    "\n",
    "- Males customers who are running average of 90 miles (average exercise) , are using product KP281 .\n",
    "\n",
    "- Males customers who are running average of 87 miles (average exercise) , are using product KP481 . and for female average running for same product is 88 miles. "
   ]
  },
  {
   "cell_type": "markdown",
   "id": "748b3329",
   "metadata": {},
   "source": [
    "\n",
    "### Overall Picture over  Few categorical and Numerical features :"
   ]
  },
  {
   "cell_type": "code",
   "execution_count": 59,
   "id": "2430efc6",
   "metadata": {},
   "outputs": [
    {
     "data": {
      "text/plain": [
       "<AxesSubplot:xlabel='Miles', ylabel='Income'>"
      ]
     },
     "execution_count": 59,
     "metadata": {},
     "output_type": "execute_result"
    },
    {
     "data": {
      "image/png": "[encoded data removed]",
      "text/plain": [
       "<Figure size 720x720 with 1 Axes>"
      ]
     },
     "metadata": {},
     "output_type": "display_data"
    }
   ],
   "source": [
    "plt.figure(figsize=(10,10))\n",
    "\n",
    "sns.scatterplot(x = \"Miles\",y=\"Income\",data = data, hue= \"Fitness\",style=\"Gender\")"
   ]
  },
  {
   "cell_type": "markdown",
   "id": "77b15cdd",
   "metadata": {},
   "source": [
    "- Above scattered Plot shows the overall picture over customer's income, how much they exercise (run/walk miles) given their gender and their fitness level.\n",
    "- Most of the customer's fitness level is around 3 to 4 . and it says people who run more miles are having good fitness level. \n",
    "- Though there is a trend with income and miles. But there are very few customers who earn a lot and run more miles. \n",
    "\n"
   ]
  },
  {
   "cell_type": "code",
   "execution_count": null,
   "id": "c6839c67",
   "metadata": {},
   "outputs": [],
   "source": []
  },
  {
   "cell_type": "markdown",
   "id": "d4bca3d7",
   "metadata": {},
   "source": [
    "## `Product | Miles - Fitness `"
   ]
  },
  {
   "cell_type": "code",
   "execution_count": 60,
   "id": "e325d8f7",
   "metadata": {},
   "outputs": [
    {
     "data": {
      "image/png": "[encoded data removed]",
      "text/plain": [
       "<Figure size 596.236x720 with 1 Axes>"
      ]
     },
     "metadata": {},
     "output_type": "display_data"
    }
   ],
   "source": [
    "\n",
    "sns.catplot(x= \"Fitness_category\", y = \"Miles\" ,kind = \"box\",hue=\"Product\", data= data.sort_values(by=\"Fitness\"),height=10, aspect=8/11)\n",
    "plt.xticks(rotation = 90)\n",
    "plt.show()"
   ]
  },
  {
   "cell_type": "markdown",
   "id": "6d18c591",
   "metadata": {},
   "source": [
    "## `Product - Miles `"
   ]
  },
  {
   "cell_type": "markdown",
   "id": "d679b5ed",
   "metadata": {},
   "source": [
    "`People who run/walk more miles(>130) , are more likely to use KP781 product ! `\n",
    "\n",
    "`People who walk/run around 60 to 130 miles are more likely to use KP281 and KP481 products.`"
   ]
  },
  {
   "cell_type": "code",
   "execution_count": 61,
   "id": "025edd52",
   "metadata": {},
   "outputs": [
    {
     "data": {
      "image/png": "[encoded data removed]",
      "text/plain": [
       "<Figure size 418.909x576 with 1 Axes>"
      ]
     },
     "metadata": {},
     "output_type": "display_data"
    }
   ],
   "source": [
    "\n",
    "sns.catplot(x= \"Product\", y = \"Miles\" ,kind = \"box\", data= data,height=8, aspect=8/11)\n",
    "plt.xticks(rotation = 0)\n",
    "plt.show()"
   ]
  },
  {
   "cell_type": "markdown",
   "id": "fba79834",
   "metadata": {},
   "source": [
    "`Customers who walk/run 70-90 miles, are  using KP281 `\n",
    "\n",
    "`Customers who walk/run 70-130 or more miles are using  KP481.`\n",
    "\n",
    "`Customers who walk/run 120 to 200 or more miles uses KP781.`"
   ]
  },
  {
   "cell_type": "code",
   "execution_count": 62,
   "id": "6f7d44a0",
   "metadata": {},
   "outputs": [
    {
     "data": {
      "image/png": "[encoded data removed]",
      "text/plain": [
       "<Figure size 418.909x576 with 1 Axes>"
      ]
     },
     "metadata": {},
     "output_type": "display_data"
    }
   ],
   "source": [
    "\n",
    "\n",
    "sns.catplot(x= \"Product\", y = \"Usage\" ,kind = \"box\", data= data,height=8, aspect=8/11)\n",
    "plt.xticks(rotation = 0)\n",
    "plt.show()"
   ]
  },
  {
   "cell_type": "markdown",
   "id": "46239d1b",
   "metadata": {},
   "source": [
    "\n",
    "`Customers who uses Treadmill 4 to 6 days a week  , are more likely to use KP781 .`\n",
    "\n",
    "`Customers who uses Treadmill 3 to 4 days a week  , are more likely to use KP481 .`\n",
    "\n",
    "`Customers who uses Treadmill 3 to 4 days a week  , are more likely to use KP281 .`\n"
   ]
  },
  {
   "cell_type": "code",
   "execution_count": null,
   "id": "387ef9ca",
   "metadata": {},
   "outputs": [],
   "source": []
  },
  {
   "cell_type": "code",
   "execution_count": null,
   "id": "0729f8c7",
   "metadata": {},
   "outputs": [],
   "source": []
  },
  {
   "cell_type": "code",
   "execution_count": null,
   "id": "82f8ffd5",
   "metadata": {},
   "outputs": [],
   "source": []
  },
  {
   "cell_type": "code",
   "execution_count": null,
   "id": "b2675647",
   "metadata": {},
   "outputs": [],
   "source": []
  },
  {
   "cell_type": "code",
   "execution_count": null,
   "id": "3f7a85f9",
   "metadata": {},
   "outputs": [],
   "source": []
  },
  {
   "cell_type": "code",
   "execution_count": null,
   "id": "b1704c52",
   "metadata": {},
   "outputs": [],
   "source": []
  },
  {
   "cell_type": "code",
   "execution_count": null,
   "id": "e95c22fd",
   "metadata": {},
   "outputs": [],
   "source": []
  },
  {
   "cell_type": "code",
   "execution_count": null,
   "id": "60f32813",
   "metadata": {},
   "outputs": [],
   "source": []
  },
  {
   "cell_type": "code",
   "execution_count": null,
   "id": "7223e7f5",
   "metadata": {},
   "outputs": [],
   "source": []
  },
  {
   "cell_type": "code",
   "execution_count": null,
   "id": "b4e6d442",
   "metadata": {},
   "outputs": [],
   "source": []
  },
  {
   "cell_type": "code",
   "execution_count": null,
   "id": "aaa641cc",
   "metadata": {},
   "outputs": [],
   "source": []
  },
  {
   "cell_type": "markdown",
   "id": "738e8065",
   "metadata": {},
   "source": [
    "## `Correlation Between Income and Product Price : `"
   ]
  },
  {
   "cell_type": "markdown",
   "id": "315f1d07",
   "metadata": {},
   "source": [
    "#### Observations and Insights:\n",
    "\n",
    "from  Plot, \n",
    "- we can see a positive trend , that who are earning more are likely to buy the costlier product. \n",
    "- people are in excellent and good shape, they are more likely spend mor amount and buy the costlier product which can be more reliable for extensive use. \n"
   ]
  },
  {
   "cell_type": "code",
   "execution_count": 63,
   "id": "830452d1",
   "metadata": {
    "scrolled": false
   },
   "outputs": [
    {
     "data": {
      "text/plain": [
       "<seaborn.axisgrid.JointGrid at 0x18fc5113b80>"
      ]
     },
     "execution_count": 63,
     "metadata": {},
     "output_type": "execute_result"
    },
    {
     "data": {
      "image/png": "[encoded data removed]",
      "text/plain": [
       "<Figure size 360x360 with 3 Axes>"
      ]
     },
     "metadata": {},
     "output_type": "display_data"
    }
   ],
   "source": [
    "sns.jointplot(x = data[\"Product_price\"],\n",
    "              y= data[\"Income\"],\n",
    "             height=5, kind=\"scatter\",hue=data[\"Fitness_category\"])"
   ]
  },
  {
   "cell_type": "code",
   "execution_count": 64,
   "id": "f27a6e0d",
   "metadata": {},
   "outputs": [
    {
     "data": {
      "text/plain": [
       "<AxesSubplot:xlabel='Product_price', ylabel='Income'>"
      ]
     },
     "execution_count": 64,
     "metadata": {},
     "output_type": "execute_result"
    },
    {
     "data": {
      "image/png": "[encoded data removed]",
      "text/plain": [
       "<Figure size 432x288 with 1 Axes>"
      ]
     },
     "metadata": {},
     "output_type": "display_data"
    }
   ],
   "source": [
    "sns.regplot(x = data[\"Product_price\"],\n",
    "              y= data[\"Income\"],)"
   ]
  },
  {
   "cell_type": "markdown",
   "id": "093eac3c",
   "metadata": {},
   "source": [
    "### Relashion of Miles and FitnessLevel"
   ]
  },
  {
   "cell_type": "code",
   "execution_count": 65,
   "id": "23f056a6",
   "metadata": {},
   "outputs": [
    {
     "data": {
      "text/plain": [
       "<seaborn.axisgrid.JointGrid at 0x18fc6896ee0>"
      ]
     },
     "execution_count": 65,
     "metadata": {},
     "output_type": "execute_result"
    },
    {
     "data": {
      "image/png": "[encoded data removed]",
      "text/plain": [
       "<Figure size 432x432 with 3 Axes>"
      ]
     },
     "metadata": {},
     "output_type": "display_data"
    }
   ],
   "source": [
    "sns.jointplot(x = data[\"Fitness\"],\n",
    "              y= data[\"Miles\"],\n",
    "             height=6, kind=\"reg\") # ['scatter', 'hist', 'hex', 'kde', 'reg', 'resid'], "
   ]
  },
  {
   "cell_type": "markdown",
   "id": "6287fa26",
   "metadata": {},
   "source": [
    "## `Correlation between Income and miles :`"
   ]
  },
  {
   "cell_type": "code",
   "execution_count": 66,
   "id": "0cb82650",
   "metadata": {},
   "outputs": [
    {
     "data": {
      "text/plain": [
       "<seaborn.axisgrid.JointGrid at 0x18fc6c8b3a0>"
      ]
     },
     "execution_count": 66,
     "metadata": {},
     "output_type": "execute_result"
    },
    {
     "data": {
      "image/png": "[encoded data removed]",
      "text/plain": [
       "<Figure size 432x432 with 3 Axes>"
      ]
     },
     "metadata": {},
     "output_type": "display_data"
    }
   ],
   "source": [
    "sns.jointplot(x = data[\"Income\"],\n",
    "              y= data[\"Miles\"],\n",
    "             height=6, kind=\"reg\") # ['scatter', 'hist', 'hex', 'kde', 'reg', 'resid'], "
   ]
  },
  {
   "cell_type": "code",
   "execution_count": 67,
   "id": "3fa680eb",
   "metadata": {},
   "outputs": [
    {
     "data": {
      "text/plain": [
       "<seaborn.axisgrid.JointGrid at 0x18fc6ffbeb0>"
      ]
     },
     "execution_count": 67,
     "metadata": {},
     "output_type": "execute_result"
    },
    {
     "data": {
      "image/png": "[encoded data removed]",
      "text/plain": [
       "<Figure size 432x432 with 3 Axes>"
      ]
     },
     "metadata": {},
     "output_type": "display_data"
    }
   ],
   "source": [
    "sns.jointplot(x = data[\"Income\"],\n",
    "              y= data[\"Miles\"],\n",
    "             height=6, kind=\"kde\") # ['scatter', 'hist', 'hex', 'kde', 'reg', 'resid'], "
   ]
  },
  {
   "cell_type": "markdown",
   "id": "5833c66e",
   "metadata": {},
   "source": [
    "#### Observations and Insights:\n",
    "\n",
    "- Majority customer base has earning from 25,000 to 75,000USD \n",
    "- and prefer to exercises very less to 175 miles a week. "
   ]
  },
  {
   "cell_type": "code",
   "execution_count": null,
   "id": "d481de6f",
   "metadata": {},
   "outputs": [],
   "source": []
  },
  {
   "cell_type": "code",
   "execution_count": null,
   "id": "db696609",
   "metadata": {},
   "outputs": [],
   "source": []
  },
  {
   "cell_type": "markdown",
   "id": "7a31e519",
   "metadata": {},
   "source": [
    "# Customer Age"
   ]
  },
  {
   "cell_type": "code",
   "execution_count": 68,
   "id": "95f166b2",
   "metadata": {},
   "outputs": [
    {
     "data": {
      "image/png": "[encoded data removed]",
      "text/plain": [
       "<Figure size 432x288 with 1 Axes>"
      ]
     },
     "metadata": {},
     "output_type": "display_data"
    }
   ],
   "source": [
    "sns.boxplot(x = \"Age\",data = d,y=\"Gender\")\n",
    "plt.show()"
   ]
  },
  {
   "cell_type": "code",
   "execution_count": 69,
   "id": "f6212d89",
   "metadata": {
    "scrolled": true
   },
   "outputs": [
    {
     "data": {
      "image/png": "[encoded data removed]",
      "text/plain": [
       "<Figure size 360x288 with 1 Axes>"
      ]
     },
     "metadata": {},
     "output_type": "display_data"
    }
   ],
   "source": [
    "plt.figure(figsize=(5,4))\n",
    "sns.distplot(data[\"Age\"])\n",
    "plt.show()\n"
   ]
  },
  {
   "cell_type": "markdown",
   "id": "88b14896",
   "metadata": {},
   "source": [
    "### Age category of customers per Product : "
   ]
  },
  {
   "cell_type": "code",
   "execution_count": 70,
   "id": "65c11a48",
   "metadata": {},
   "outputs": [
    {
     "data": {
      "text/plain": [
       "Adult(22-35)            56\n",
       "mid_age(36-45)          11\n",
       "Teen(0-21)              10\n",
       "Towards_old-age(>46)     3\n",
       "Name: Age_category, dtype: int64"
      ]
     },
     "execution_count": 70,
     "metadata": {},
     "output_type": "execute_result"
    }
   ],
   "source": [
    "data.loc[data[\"Product\"]==\"KP281\"][\"Age_category\"].value_counts()"
   ]
  },
  {
   "cell_type": "code",
   "execution_count": 71,
   "id": "0307f444",
   "metadata": {},
   "outputs": [
    {
     "data": {
      "text/plain": [
       "Adult(22-35)            45\n",
       "Teen(0-21)               7\n",
       "mid_age(36-45)           7\n",
       "Towards_old-age(>46)     1\n",
       "Name: Age_category, dtype: int64"
      ]
     },
     "execution_count": 71,
     "metadata": {},
     "output_type": "execute_result"
    }
   ],
   "source": [
    "data.loc[data[\"Product\"]==\"KP481\"][\"Age_category\"].value_counts()"
   ]
  },
  {
   "cell_type": "code",
   "execution_count": 72,
   "id": "a8f8a266",
   "metadata": {
    "scrolled": true
   },
   "outputs": [
    {
     "data": {
      "text/plain": [
       "Adult(22-35)            34\n",
       "mid_age(36-45)           4\n",
       "Towards_old-age(>46)     2\n",
       "Name: Age_category, dtype: int64"
      ]
     },
     "execution_count": 72,
     "metadata": {},
     "output_type": "execute_result"
    }
   ],
   "source": [
    "data.loc[data[\"Product\"]==\"KP781\"][\"Age_category\"].value_counts()"
   ]
  },
  {
   "cell_type": "code",
   "execution_count": 73,
   "id": "46c3eaeb",
   "metadata": {},
   "outputs": [
    {
     "data": {
      "text/html": [
       "<div>\n",
       "<style scoped>\n",
       "    .dataframe tbody tr th:only-of-type {\n",
       "        vertical-align: middle;\n",
       "    }\n",
       "\n",
       "    .dataframe tbody tr th {\n",
       "        vertical-align: top;\n",
       "    }\n",
       "\n",
       "    .dataframe thead th {\n",
       "        text-align: right;\n",
       "    }\n",
       "</style>\n",
       "<table border=\"1\" class=\"dataframe\">\n",
       "  <thead>\n",
       "    <tr style=\"text-align: right;\">\n",
       "      <th>Age_category</th>\n",
       "      <th>Adult(22-35)</th>\n",
       "      <th>Teen(0-21)</th>\n",
       "      <th>Towards_old-age(&gt;46)</th>\n",
       "      <th>mid_age(36-45)</th>\n",
       "      <th>All</th>\n",
       "    </tr>\n",
       "    <tr>\n",
       "      <th>Product</th>\n",
       "      <th></th>\n",
       "      <th></th>\n",
       "      <th></th>\n",
       "      <th></th>\n",
       "      <th></th>\n",
       "    </tr>\n",
       "  </thead>\n",
       "  <tbody>\n",
       "    <tr>\n",
       "      <th>KP281</th>\n",
       "      <td>56</td>\n",
       "      <td>10</td>\n",
       "      <td>3</td>\n",
       "      <td>11</td>\n",
       "      <td>80</td>\n",
       "    </tr>\n",
       "    <tr>\n",
       "      <th>KP481</th>\n",
       "      <td>45</td>\n",
       "      <td>7</td>\n",
       "      <td>1</td>\n",
       "      <td>7</td>\n",
       "      <td>60</td>\n",
       "    </tr>\n",
       "    <tr>\n",
       "      <th>KP781</th>\n",
       "      <td>34</td>\n",
       "      <td>0</td>\n",
       "      <td>2</td>\n",
       "      <td>4</td>\n",
       "      <td>40</td>\n",
       "    </tr>\n",
       "    <tr>\n",
       "      <th>All</th>\n",
       "      <td>135</td>\n",
       "      <td>17</td>\n",
       "      <td>6</td>\n",
       "      <td>22</td>\n",
       "      <td>180</td>\n",
       "    </tr>\n",
       "  </tbody>\n",
       "</table>\n",
       "</div>"
      ],
      "text/plain": [
       "Age_category  Adult(22-35)  Teen(0-21)  Towards_old-age(>46)  mid_age(36-45)  \\\n",
       "Product                                                                        \n",
       "KP281                   56          10                     3              11   \n",
       "KP481                   45           7                     1               7   \n",
       "KP781                   34           0                     2               4   \n",
       "All                    135          17                     6              22   \n",
       "\n",
       "Age_category  All  \n",
       "Product            \n",
       "KP281          80  \n",
       "KP481          60  \n",
       "KP781          40  \n",
       "All           180  "
      ]
     },
     "execution_count": 73,
     "metadata": {},
     "output_type": "execute_result"
    }
   ],
   "source": [
    "pd.crosstab(index=data[\"Product\"],columns=data[\"Age_category\"], margins=True)"
   ]
  },
  {
   "cell_type": "code",
   "execution_count": 74,
   "id": "14216829",
   "metadata": {},
   "outputs": [
    {
     "data": {
      "text/html": [
       "<div>\n",
       "<style scoped>\n",
       "    .dataframe tbody tr th:only-of-type {\n",
       "        vertical-align: middle;\n",
       "    }\n",
       "\n",
       "    .dataframe tbody tr th {\n",
       "        vertical-align: top;\n",
       "    }\n",
       "\n",
       "    .dataframe thead th {\n",
       "        text-align: right;\n",
       "    }\n",
       "</style>\n",
       "<table border=\"1\" class=\"dataframe\">\n",
       "  <thead>\n",
       "    <tr style=\"text-align: right;\">\n",
       "      <th>Age_category</th>\n",
       "      <th>Adult(22-35)</th>\n",
       "      <th>Teen(0-21)</th>\n",
       "      <th>Towards_old-age(&gt;46)</th>\n",
       "      <th>mid_age(36-45)</th>\n",
       "      <th>All</th>\n",
       "    </tr>\n",
       "    <tr>\n",
       "      <th>Product</th>\n",
       "      <th></th>\n",
       "      <th></th>\n",
       "      <th></th>\n",
       "      <th></th>\n",
       "      <th></th>\n",
       "    </tr>\n",
       "  </thead>\n",
       "  <tbody>\n",
       "    <tr>\n",
       "      <th>KP281</th>\n",
       "      <td>41.48</td>\n",
       "      <td>58.82</td>\n",
       "      <td>50.00</td>\n",
       "      <td>50.00</td>\n",
       "      <td>44.44</td>\n",
       "    </tr>\n",
       "    <tr>\n",
       "      <th>KP481</th>\n",
       "      <td>33.33</td>\n",
       "      <td>41.18</td>\n",
       "      <td>16.67</td>\n",
       "      <td>31.82</td>\n",
       "      <td>33.33</td>\n",
       "    </tr>\n",
       "    <tr>\n",
       "      <th>KP781</th>\n",
       "      <td>25.19</td>\n",
       "      <td>0.00</td>\n",
       "      <td>33.33</td>\n",
       "      <td>18.18</td>\n",
       "      <td>22.22</td>\n",
       "    </tr>\n",
       "  </tbody>\n",
       "</table>\n",
       "</div>"
      ],
      "text/plain": [
       "Age_category  Adult(22-35)  Teen(0-21)  Towards_old-age(>46)  mid_age(36-45)  \\\n",
       "Product                                                                        \n",
       "KP281                41.48       58.82                 50.00           50.00   \n",
       "KP481                33.33       41.18                 16.67           31.82   \n",
       "KP781                25.19        0.00                 33.33           18.18   \n",
       "\n",
       "Age_category    All  \n",
       "Product              \n",
       "KP281         44.44  \n",
       "KP481         33.33  \n",
       "KP781         22.22  "
      ]
     },
     "execution_count": 74,
     "metadata": {},
     "output_type": "execute_result"
    }
   ],
   "source": [
    "np.round((pd.crosstab(index=data[\"Product\"],columns=data[\"Age_category\"],normalize=\"columns\", margins=True))*100,2)"
   ]
  },
  {
   "cell_type": "code",
   "execution_count": 75,
   "id": "17db04a3",
   "metadata": {},
   "outputs": [
    {
     "data": {
      "text/html": [
       "<div>\n",
       "<style scoped>\n",
       "    .dataframe tbody tr th:only-of-type {\n",
       "        vertical-align: middle;\n",
       "    }\n",
       "\n",
       "    .dataframe tbody tr th {\n",
       "        vertical-align: top;\n",
       "    }\n",
       "\n",
       "    .dataframe thead th {\n",
       "        text-align: right;\n",
       "    }\n",
       "</style>\n",
       "<table border=\"1\" class=\"dataframe\">\n",
       "  <thead>\n",
       "    <tr style=\"text-align: right;\">\n",
       "      <th>Age_category</th>\n",
       "      <th>Adult(22-35)</th>\n",
       "      <th>Teen(0-21)</th>\n",
       "      <th>Towards_old-age(&gt;46)</th>\n",
       "      <th>mid_age(36-45)</th>\n",
       "      <th>All</th>\n",
       "    </tr>\n",
       "    <tr>\n",
       "      <th>Product</th>\n",
       "      <th></th>\n",
       "      <th></th>\n",
       "      <th></th>\n",
       "      <th></th>\n",
       "      <th></th>\n",
       "    </tr>\n",
       "  </thead>\n",
       "  <tbody>\n",
       "    <tr>\n",
       "      <th>KP281</th>\n",
       "      <td>56</td>\n",
       "      <td>10</td>\n",
       "      <td>3</td>\n",
       "      <td>11</td>\n",
       "      <td>80</td>\n",
       "    </tr>\n",
       "    <tr>\n",
       "      <th>KP481</th>\n",
       "      <td>45</td>\n",
       "      <td>7</td>\n",
       "      <td>1</td>\n",
       "      <td>7</td>\n",
       "      <td>60</td>\n",
       "    </tr>\n",
       "    <tr>\n",
       "      <th>KP781</th>\n",
       "      <td>34</td>\n",
       "      <td>0</td>\n",
       "      <td>2</td>\n",
       "      <td>4</td>\n",
       "      <td>40</td>\n",
       "    </tr>\n",
       "    <tr>\n",
       "      <th>All</th>\n",
       "      <td>135</td>\n",
       "      <td>17</td>\n",
       "      <td>6</td>\n",
       "      <td>22</td>\n",
       "      <td>180</td>\n",
       "    </tr>\n",
       "  </tbody>\n",
       "</table>\n",
       "</div>"
      ],
      "text/plain": [
       "Age_category  Adult(22-35)  Teen(0-21)  Towards_old-age(>46)  mid_age(36-45)  \\\n",
       "Product                                                                        \n",
       "KP281                   56          10                     3              11   \n",
       "KP481                   45           7                     1               7   \n",
       "KP781                   34           0                     2               4   \n",
       "All                    135          17                     6              22   \n",
       "\n",
       "Age_category  All  \n",
       "Product            \n",
       "KP281          80  \n",
       "KP481          60  \n",
       "KP781          40  \n",
       "All           180  "
      ]
     },
     "execution_count": 75,
     "metadata": {},
     "output_type": "execute_result"
    }
   ],
   "source": [
    "np.round((pd.crosstab(index=data[\"Product\"],columns=data[\"Age_category\"], margins=True)),2)"
   ]
  },
  {
   "cell_type": "code",
   "execution_count": 76,
   "id": "ccd6bfe5",
   "metadata": {},
   "outputs": [
    {
     "data": {
      "text/plain": [
       "Age_category\n",
       "Adult(22-35)            135\n",
       "Teen(0-21)               17\n",
       "Towards_old-age(>46)      6\n",
       "mid_age(36-45)           22\n",
       "Name: Product, dtype: int64"
      ]
     },
     "execution_count": 76,
     "metadata": {},
     "output_type": "execute_result"
    }
   ],
   "source": [
    "data.groupby(\"Age_category\")[\"Product\"].count()"
   ]
  },
  {
   "cell_type": "markdown",
   "id": "00c11f71",
   "metadata": {},
   "source": [
    "from above distribution , \n",
    "\n",
    "Most of the customer base is from Age category Adult (22-35) : 135 customer . \n",
    "\n",
    "customers who are in Teen and mid_age category are 17 , 22 . \n",
    "\n",
    "`Probability of Teen Age Customer buying KP281 is 58.82 % , and KP481 is 41.18 %.`\n",
    "\n",
    "`Probability of Adult buying KP281 is  41.48%  , KP481 is 33.33% and KP781 is 25.19%.`\n",
    "\n",
    "`Probability of Customer age above 46 buying KP281 is 50%  , KP481 is 16.67% and KP781 is 33.33%.`\n",
    "\n",
    "`Probability of Customer of mid age(36-45 years) buying KP281 is 50%  , KP481 is 31.82% and KP781 is 18.18%.`\n"
   ]
  },
  {
   "cell_type": "code",
   "execution_count": null,
   "id": "4984faaa",
   "metadata": {},
   "outputs": [],
   "source": []
  },
  {
   "cell_type": "code",
   "execution_count": null,
   "id": "23171fe7",
   "metadata": {},
   "outputs": [],
   "source": []
  },
  {
   "cell_type": "code",
   "execution_count": null,
   "id": "b07542de",
   "metadata": {},
   "outputs": [],
   "source": []
  },
  {
   "cell_type": "code",
   "execution_count": null,
   "id": "785fc362",
   "metadata": {},
   "outputs": [],
   "source": []
  },
  {
   "cell_type": "code",
   "execution_count": null,
   "id": "a417c987",
   "metadata": {},
   "outputs": [],
   "source": []
  },
  {
   "cell_type": "code",
   "execution_count": null,
   "id": "29b99e57",
   "metadata": {},
   "outputs": [],
   "source": []
  },
  {
   "cell_type": "markdown",
   "id": "08606579",
   "metadata": {},
   "source": [
    "# Fitness category "
   ]
  },
  {
   "cell_type": "code",
   "execution_count": 77,
   "id": "fbf3043d",
   "metadata": {},
   "outputs": [
    {
     "data": {
      "text/html": [
       "<div>\n",
       "<style scoped>\n",
       "    .dataframe tbody tr th:only-of-type {\n",
       "        vertical-align: middle;\n",
       "    }\n",
       "\n",
       "    .dataframe tbody tr th {\n",
       "        vertical-align: top;\n",
       "    }\n",
       "\n",
       "    .dataframe thead th {\n",
       "        text-align: right;\n",
       "    }\n",
       "</style>\n",
       "<table border=\"1\" class=\"dataframe\">\n",
       "  <thead>\n",
       "    <tr style=\"text-align: right;\">\n",
       "      <th>Fitness_category</th>\n",
       "      <th>Average Shape</th>\n",
       "      <th>Bad Shape</th>\n",
       "      <th>Excellent Shape</th>\n",
       "      <th>Good Shape</th>\n",
       "      <th>Poor Shape</th>\n",
       "      <th>All</th>\n",
       "    </tr>\n",
       "    <tr>\n",
       "      <th>Product</th>\n",
       "      <th></th>\n",
       "      <th></th>\n",
       "      <th></th>\n",
       "      <th></th>\n",
       "      <th></th>\n",
       "      <th></th>\n",
       "    </tr>\n",
       "  </thead>\n",
       "  <tbody>\n",
       "    <tr>\n",
       "      <th>KP281</th>\n",
       "      <td>54</td>\n",
       "      <td>14</td>\n",
       "      <td>2</td>\n",
       "      <td>9</td>\n",
       "      <td>1</td>\n",
       "      <td>80</td>\n",
       "    </tr>\n",
       "    <tr>\n",
       "      <th>KP481</th>\n",
       "      <td>39</td>\n",
       "      <td>12</td>\n",
       "      <td>0</td>\n",
       "      <td>8</td>\n",
       "      <td>1</td>\n",
       "      <td>60</td>\n",
       "    </tr>\n",
       "    <tr>\n",
       "      <th>KP781</th>\n",
       "      <td>4</td>\n",
       "      <td>0</td>\n",
       "      <td>29</td>\n",
       "      <td>7</td>\n",
       "      <td>0</td>\n",
       "      <td>40</td>\n",
       "    </tr>\n",
       "    <tr>\n",
       "      <th>All</th>\n",
       "      <td>97</td>\n",
       "      <td>26</td>\n",
       "      <td>31</td>\n",
       "      <td>24</td>\n",
       "      <td>2</td>\n",
       "      <td>180</td>\n",
       "    </tr>\n",
       "  </tbody>\n",
       "</table>\n",
       "</div>"
      ],
      "text/plain": [
       "Fitness_category  Average Shape  Bad Shape  Excellent Shape  Good Shape  \\\n",
       "Product                                                                   \n",
       "KP281                        54         14                2           9   \n",
       "KP481                        39         12                0           8   \n",
       "KP781                         4          0               29           7   \n",
       "All                          97         26               31          24   \n",
       "\n",
       "Fitness_category  Poor Shape  All  \n",
       "Product                            \n",
       "KP281                      1   80  \n",
       "KP481                      1   60  \n",
       "KP781                      0   40  \n",
       "All                        2  180  "
      ]
     },
     "execution_count": 77,
     "metadata": {},
     "output_type": "execute_result"
    }
   ],
   "source": [
    "pd.crosstab(columns=data[\"Fitness_category\"],index=data[\"Product\"],margins=True)"
   ]
  },
  {
   "cell_type": "code",
   "execution_count": 78,
   "id": "87146fe3",
   "metadata": {},
   "outputs": [
    {
     "data": {
      "text/html": [
       "<div>\n",
       "<style scoped>\n",
       "    .dataframe tbody tr th:only-of-type {\n",
       "        vertical-align: middle;\n",
       "    }\n",
       "\n",
       "    .dataframe tbody tr th {\n",
       "        vertical-align: top;\n",
       "    }\n",
       "\n",
       "    .dataframe thead th {\n",
       "        text-align: right;\n",
       "    }\n",
       "</style>\n",
       "<table border=\"1\" class=\"dataframe\">\n",
       "  <thead>\n",
       "    <tr style=\"text-align: right;\">\n",
       "      <th>Fitness_category</th>\n",
       "      <th>Average Shape</th>\n",
       "      <th>Bad Shape</th>\n",
       "      <th>Excellent Shape</th>\n",
       "      <th>Good Shape</th>\n",
       "      <th>Poor Shape</th>\n",
       "    </tr>\n",
       "    <tr>\n",
       "      <th>Product</th>\n",
       "      <th></th>\n",
       "      <th></th>\n",
       "      <th></th>\n",
       "      <th></th>\n",
       "      <th></th>\n",
       "    </tr>\n",
       "  </thead>\n",
       "  <tbody>\n",
       "    <tr>\n",
       "      <th>KP281</th>\n",
       "      <td>55.67</td>\n",
       "      <td>53.85</td>\n",
       "      <td>6.45</td>\n",
       "      <td>37.50</td>\n",
       "      <td>50.0</td>\n",
       "    </tr>\n",
       "    <tr>\n",
       "      <th>KP481</th>\n",
       "      <td>40.21</td>\n",
       "      <td>46.15</td>\n",
       "      <td>0.00</td>\n",
       "      <td>33.33</td>\n",
       "      <td>50.0</td>\n",
       "    </tr>\n",
       "    <tr>\n",
       "      <th>KP781</th>\n",
       "      <td>4.12</td>\n",
       "      <td>0.00</td>\n",
       "      <td>93.55</td>\n",
       "      <td>29.17</td>\n",
       "      <td>0.0</td>\n",
       "    </tr>\n",
       "  </tbody>\n",
       "</table>\n",
       "</div>"
      ],
      "text/plain": [
       "Fitness_category  Average Shape  Bad Shape  Excellent Shape  Good Shape  \\\n",
       "Product                                                                   \n",
       "KP281                     55.67      53.85             6.45       37.50   \n",
       "KP481                     40.21      46.15             0.00       33.33   \n",
       "KP781                      4.12       0.00            93.55       29.17   \n",
       "\n",
       "Fitness_category  Poor Shape  \n",
       "Product                       \n",
       "KP281                   50.0  \n",
       "KP481                   50.0  \n",
       "KP781                    0.0  "
      ]
     },
     "execution_count": 78,
     "metadata": {},
     "output_type": "execute_result"
    }
   ],
   "source": [
    "np.round(pd.crosstab(index=data[\"Product\"],columns=data[\"Fitness_category\"],normalize=\"columns\")*100,2)"
   ]
  },
  {
   "cell_type": "markdown",
   "id": "ff0fd773",
   "metadata": {
    "scrolled": true
   },
   "source": [
    "\n",
    "\n",
    "if the person is in excellent shape , the probabiliy that he is using KP781 is more than 90 %.\n",
    "\n"
   ]
  },
  {
   "cell_type": "code",
   "execution_count": null,
   "id": "965f22b4",
   "metadata": {},
   "outputs": [],
   "source": []
  },
  {
   "cell_type": "code",
   "execution_count": null,
   "id": "cf976282",
   "metadata": {},
   "outputs": [],
   "source": []
  },
  {
   "cell_type": "markdown",
   "id": "d2997c07",
   "metadata": {},
   "source": [
    "\n",
    "\n",
    "# `Customer Profiling - Categorization of users.`\n",
    "\n",
    "### `KP281 : `\n",
    "\n",
    "- Most affordable and entry level and Maximum Selling Product.\n",
    "-  This model popular amongst both Male and Female customers \n",
    "-  Same number of  Male and Female customers.\n",
    "-  Customers  walk/run average 70 to 90 miles on this product.\n",
    "-  Customers use  3 to 4 times a week \n",
    "-  Fitness Level of this product users is Average Shape.\n",
    "- More general purpose for all age group and fitness levels. \n",
    "\n",
    "\n",
    "### `KP481 :`\n",
    "\n",
    "- Intermediate Price Range \n",
    "- Fitness Level of this product users varies from Bad to  Average Shape depending on their usage.\n",
    "- Customers prefer KP481 model to use less frequent but to run more miles per week on this.\n",
    "- Customer walk/run average  70 to 130 or more miles per week on his product.\n",
    "- has higher probability of selling for female customers.\n",
    "- Probability of Female customer buying KP481 is significantly higher than male.\n",
    " - KP481 product is specifically recommended for Female customers who are intermediate user. \n",
    "- customers are from  adult, teen and mid-age  categories.\n",
    "\n",
    "### `KP781 :`\n",
    "\n",
    "-  least sold product. \n",
    "- high price and preferred by customers who does exercises more extensively and run more miles.\n",
    "- Customer walk/run average  120 to 200 or more miles per week on his product.\n",
    "-  Customers use  4 to 5 times a week at least.\n",
    "- If person is in Excellent Shape  , the probability that he is using KP781 is more than 90%.\n",
    "- Female Customers who are running average 180 miles (extensive exercise) , are using product  KP781, which is higher than Male average using same product. \n",
    "-  KP781 can be recommended for Female customers who exercises extensively.\n",
    "-  Probability of Male customer buying Product KP781(31.73%) is way more than female(9.21%). \n",
    "-  Probability of a single person buying KP781 is higher than Married customers. \n",
    "    So , KP781 is also recommended for people who are single and exercises more. \n",
    "- most of old people who are above 45 age and adult uses this product. \n"
   ]
  },
  {
   "cell_type": "markdown",
   "id": "b54837e9",
   "metadata": {},
   "source": [
    "# `Recommendations  : `"
   ]
  },
  {
   "cell_type": "markdown",
   "id": "ec359e37",
   "metadata": {},
   "source": [
    "- Recommend KP781 product to users who exercises/run more frequently and run more and more miles ,  and have high income.  Since Kp781 is least selling product (22.2% share of all the products) ,  recommend this product some customers who exercise at intermediate to extensive level , if they are planning to go for KP481. Also the targeted Age Category is Adult and age above 45.\n",
    "\n",
    "- Recommend KP481 product specifically for female customers who run/walk more miles , as data shows their probability is higher. Statistical Summery about fitness level and miles for KP481 is not good as KP281 which is cheaper product. Possibly because of price, customers prefer to purchase KP281. It is recommended to make some necessary changes to product K481 to increase customer experience.\n",
    "\n"
   ]
  },
  {
   "cell_type": "code",
   "execution_count": null,
   "id": "4f17da70",
   "metadata": {},
   "outputs": [],
   "source": []
  },
  {
   "cell_type": "code",
   "execution_count": null,
   "id": "1a7c5969",
   "metadata": {},
   "outputs": [],
   "source": []
  },
  {
   "cell_type": "code",
   "execution_count": null,
   "id": "3c1b42f6",
   "metadata": {},
   "outputs": [],
   "source": []
  },
  {
   "cell_type": "code",
   "execution_count": null,
   "id": "4e340878",
   "metadata": {},
   "outputs": [],
   "source": []
  },
  {
   "cell_type": "code",
   "execution_count": null,
   "id": "e80391f6",
   "metadata": {},
   "outputs": [],
   "source": []
  },
  {
   "cell_type": "markdown",
   "id": "55c236fc",
   "metadata": {},
   "source": [
    "# Some necessary exploration on Cross Tabs : \n"
   ]
  },
  {
   "cell_type": "code",
   "execution_count": 79,
   "id": "866f98d5",
   "metadata": {},
   "outputs": [
    {
     "data": {
      "text/html": [
       "<div>\n",
       "<style scoped>\n",
       "    .dataframe tbody tr th:only-of-type {\n",
       "        vertical-align: middle;\n",
       "    }\n",
       "\n",
       "    .dataframe tbody tr th {\n",
       "        vertical-align: top;\n",
       "    }\n",
       "\n",
       "    .dataframe thead th {\n",
       "        text-align: right;\n",
       "    }\n",
       "</style>\n",
       "<table border=\"1\" class=\"dataframe\">\n",
       "  <thead>\n",
       "    <tr style=\"text-align: right;\">\n",
       "      <th></th>\n",
       "      <th>Gender</th>\n",
       "      <th>Female</th>\n",
       "      <th>Male</th>\n",
       "    </tr>\n",
       "    <tr>\n",
       "      <th>Product</th>\n",
       "      <th>Fitness_category</th>\n",
       "      <th></th>\n",
       "      <th></th>\n",
       "    </tr>\n",
       "  </thead>\n",
       "  <tbody>\n",
       "    <tr>\n",
       "      <th rowspan=\"5\" valign=\"top\">KP281</th>\n",
       "      <th>Average Shape</th>\n",
       "      <td>26</td>\n",
       "      <td>28</td>\n",
       "    </tr>\n",
       "    <tr>\n",
       "      <th>Bad Shape</th>\n",
       "      <td>10</td>\n",
       "      <td>4</td>\n",
       "    </tr>\n",
       "    <tr>\n",
       "      <th>Excellent Shape</th>\n",
       "      <td>1</td>\n",
       "      <td>1</td>\n",
       "    </tr>\n",
       "    <tr>\n",
       "      <th>Good Shape</th>\n",
       "      <td>3</td>\n",
       "      <td>6</td>\n",
       "    </tr>\n",
       "    <tr>\n",
       "      <th>Poor Shape</th>\n",
       "      <td>0</td>\n",
       "      <td>1</td>\n",
       "    </tr>\n",
       "    <tr>\n",
       "      <th rowspan=\"4\" valign=\"top\">KP481</th>\n",
       "      <th>Average Shape</th>\n",
       "      <td>18</td>\n",
       "      <td>21</td>\n",
       "    </tr>\n",
       "    <tr>\n",
       "      <th>Bad Shape</th>\n",
       "      <td>6</td>\n",
       "      <td>6</td>\n",
       "    </tr>\n",
       "    <tr>\n",
       "      <th>Good Shape</th>\n",
       "      <td>4</td>\n",
       "      <td>4</td>\n",
       "    </tr>\n",
       "    <tr>\n",
       "      <th>Poor Shape</th>\n",
       "      <td>1</td>\n",
       "      <td>0</td>\n",
       "    </tr>\n",
       "    <tr>\n",
       "      <th rowspan=\"3\" valign=\"top\">KP781</th>\n",
       "      <th>Average Shape</th>\n",
       "      <td>1</td>\n",
       "      <td>3</td>\n",
       "    </tr>\n",
       "    <tr>\n",
       "      <th>Excellent Shape</th>\n",
       "      <td>5</td>\n",
       "      <td>24</td>\n",
       "    </tr>\n",
       "    <tr>\n",
       "      <th>Good Shape</th>\n",
       "      <td>1</td>\n",
       "      <td>6</td>\n",
       "    </tr>\n",
       "  </tbody>\n",
       "</table>\n",
       "</div>"
      ],
      "text/plain": [
       "Gender                    Female  Male\n",
       "Product Fitness_category              \n",
       "KP281   Average Shape         26    28\n",
       "        Bad Shape             10     4\n",
       "        Excellent Shape        1     1\n",
       "        Good Shape             3     6\n",
       "        Poor Shape             0     1\n",
       "KP481   Average Shape         18    21\n",
       "        Bad Shape              6     6\n",
       "        Good Shape             4     4\n",
       "        Poor Shape             1     0\n",
       "KP781   Average Shape          1     3\n",
       "        Excellent Shape        5    24\n",
       "        Good Shape             1     6"
      ]
     },
     "execution_count": 79,
     "metadata": {},
     "output_type": "execute_result"
    }
   ],
   "source": [
    "pd.crosstab(index=[data[\"Product\"],data[\"Fitness_category\"]],columns=data[\"Gender\"])"
   ]
  },
  {
   "cell_type": "code",
   "execution_count": 80,
   "id": "c4f14cf3",
   "metadata": {},
   "outputs": [
    {
     "data": {
      "text/html": [
       "<div>\n",
       "<style scoped>\n",
       "    .dataframe tbody tr th:only-of-type {\n",
       "        vertical-align: middle;\n",
       "    }\n",
       "\n",
       "    .dataframe tbody tr th {\n",
       "        vertical-align: top;\n",
       "    }\n",
       "\n",
       "    .dataframe thead th {\n",
       "        text-align: right;\n",
       "    }\n",
       "</style>\n",
       "<table border=\"1\" class=\"dataframe\">\n",
       "  <thead>\n",
       "    <tr style=\"text-align: right;\">\n",
       "      <th></th>\n",
       "      <th>Gender</th>\n",
       "      <th>Female</th>\n",
       "      <th>Male</th>\n",
       "    </tr>\n",
       "    <tr>\n",
       "      <th>Product</th>\n",
       "      <th>Fitness_category</th>\n",
       "      <th></th>\n",
       "      <th></th>\n",
       "    </tr>\n",
       "  </thead>\n",
       "  <tbody>\n",
       "    <tr>\n",
       "      <th rowspan=\"5\" valign=\"top\">KP281</th>\n",
       "      <th>Average Shape</th>\n",
       "      <td>48.148148</td>\n",
       "      <td>51.851852</td>\n",
       "    </tr>\n",
       "    <tr>\n",
       "      <th>Bad Shape</th>\n",
       "      <td>71.428571</td>\n",
       "      <td>28.571429</td>\n",
       "    </tr>\n",
       "    <tr>\n",
       "      <th>Excellent Shape</th>\n",
       "      <td>50.000000</td>\n",
       "      <td>50.000000</td>\n",
       "    </tr>\n",
       "    <tr>\n",
       "      <th>Good Shape</th>\n",
       "      <td>33.333333</td>\n",
       "      <td>66.666667</td>\n",
       "    </tr>\n",
       "    <tr>\n",
       "      <th>Poor Shape</th>\n",
       "      <td>0.000000</td>\n",
       "      <td>100.000000</td>\n",
       "    </tr>\n",
       "    <tr>\n",
       "      <th rowspan=\"4\" valign=\"top\">KP481</th>\n",
       "      <th>Average Shape</th>\n",
       "      <td>46.153846</td>\n",
       "      <td>53.846154</td>\n",
       "    </tr>\n",
       "    <tr>\n",
       "      <th>Bad Shape</th>\n",
       "      <td>50.000000</td>\n",
       "      <td>50.000000</td>\n",
       "    </tr>\n",
       "    <tr>\n",
       "      <th>Good Shape</th>\n",
       "      <td>50.000000</td>\n",
       "      <td>50.000000</td>\n",
       "    </tr>\n",
       "    <tr>\n",
       "      <th>Poor Shape</th>\n",
       "      <td>100.000000</td>\n",
       "      <td>0.000000</td>\n",
       "    </tr>\n",
       "    <tr>\n",
       "      <th rowspan=\"3\" valign=\"top\">KP781</th>\n",
       "      <th>Average Shape</th>\n",
       "      <td>25.000000</td>\n",
       "      <td>75.000000</td>\n",
       "    </tr>\n",
       "    <tr>\n",
       "      <th>Excellent Shape</th>\n",
       "      <td>17.241379</td>\n",
       "      <td>82.758621</td>\n",
       "    </tr>\n",
       "    <tr>\n",
       "      <th>Good Shape</th>\n",
       "      <td>14.285714</td>\n",
       "      <td>85.714286</td>\n",
       "    </tr>\n",
       "  </tbody>\n",
       "</table>\n",
       "</div>"
      ],
      "text/plain": [
       "Gender                        Female        Male\n",
       "Product Fitness_category                        \n",
       "KP281   Average Shape      48.148148   51.851852\n",
       "        Bad Shape          71.428571   28.571429\n",
       "        Excellent Shape    50.000000   50.000000\n",
       "        Good Shape         33.333333   66.666667\n",
       "        Poor Shape          0.000000  100.000000\n",
       "KP481   Average Shape      46.153846   53.846154\n",
       "        Bad Shape          50.000000   50.000000\n",
       "        Good Shape         50.000000   50.000000\n",
       "        Poor Shape        100.000000    0.000000\n",
       "KP781   Average Shape      25.000000   75.000000\n",
       "        Excellent Shape    17.241379   82.758621\n",
       "        Good Shape         14.285714   85.714286"
      ]
     },
     "execution_count": 80,
     "metadata": {},
     "output_type": "execute_result"
    }
   ],
   "source": [
    "pd.crosstab(index=[data[\"Product\"],data[\"Fitness_category\"]],columns=data[\"Gender\"],normalize=\"index\")*100"
   ]
  },
  {
   "cell_type": "code",
   "execution_count": 81,
   "id": "1fe4fc01",
   "metadata": {},
   "outputs": [
    {
     "data": {
      "text/plain": [
       "Excellent Shape    20\n",
       "Good Shape          7\n",
       "Average Shape       1\n",
       "Name: Fitness_category, dtype: int64"
      ]
     },
     "execution_count": 81,
     "metadata": {},
     "output_type": "execute_result"
    }
   ],
   "source": [
    "data[data[\"Miles\"]>150][\"Fitness_category\"].value_counts()"
   ]
  },
  {
   "cell_type": "code",
   "execution_count": 82,
   "id": "aa495201",
   "metadata": {},
   "outputs": [
    {
     "data": {
      "text/plain": [
       "Excellent Shape    11\n",
       "Good Shape          2\n",
       "Name: Fitness_category, dtype: int64"
      ]
     },
     "execution_count": 82,
     "metadata": {},
     "output_type": "execute_result"
    }
   ],
   "source": [
    "data[data[\"Miles\"]>np.percentile(data[\"Miles\"],90)][\"Fitness_category\"].value_counts()"
   ]
  },
  {
   "cell_type": "code",
   "execution_count": null,
   "id": "86dd2f74",
   "metadata": {},
   "outputs": [],
   "source": []
  },
  {
   "cell_type": "code",
   "execution_count": null,
   "id": "3b4f7aab",
   "metadata": {},
   "outputs": [],
   "source": []
  },
  {
   "cell_type": "code",
   "execution_count": null,
   "id": "d939381b",
   "metadata": {},
   "outputs": [],
   "source": []
  },
  {
   "cell_type": "code",
   "execution_count": 83,
   "id": "2ddcddf3",
   "metadata": {},
   "outputs": [
    {
     "data": {
      "text/html": [
       "<div>\n",
       "<style scoped>\n",
       "    .dataframe tbody tr th:only-of-type {\n",
       "        vertical-align: middle;\n",
       "    }\n",
       "\n",
       "    .dataframe tbody tr th {\n",
       "        vertical-align: top;\n",
       "    }\n",
       "\n",
       "    .dataframe thead th {\n",
       "        text-align: right;\n",
       "    }\n",
       "</style>\n",
       "<table border=\"1\" class=\"dataframe\">\n",
       "  <thead>\n",
       "    <tr style=\"text-align: right;\">\n",
       "      <th></th>\n",
       "      <th>Gender</th>\n",
       "      <th>Female</th>\n",
       "      <th>Male</th>\n",
       "      <th>All</th>\n",
       "    </tr>\n",
       "    <tr>\n",
       "      <th>Product</th>\n",
       "      <th>MaritalStatus</th>\n",
       "      <th></th>\n",
       "      <th></th>\n",
       "      <th></th>\n",
       "    </tr>\n",
       "  </thead>\n",
       "  <tbody>\n",
       "    <tr>\n",
       "      <th rowspan=\"2\" valign=\"top\">KP281</th>\n",
       "      <th>Partnered</th>\n",
       "      <td>27</td>\n",
       "      <td>21</td>\n",
       "      <td>48</td>\n",
       "    </tr>\n",
       "    <tr>\n",
       "      <th>Single</th>\n",
       "      <td>13</td>\n",
       "      <td>19</td>\n",
       "      <td>32</td>\n",
       "    </tr>\n",
       "    <tr>\n",
       "      <th rowspan=\"2\" valign=\"top\">KP481</th>\n",
       "      <th>Partnered</th>\n",
       "      <td>15</td>\n",
       "      <td>21</td>\n",
       "      <td>36</td>\n",
       "    </tr>\n",
       "    <tr>\n",
       "      <th>Single</th>\n",
       "      <td>14</td>\n",
       "      <td>10</td>\n",
       "      <td>24</td>\n",
       "    </tr>\n",
       "    <tr>\n",
       "      <th rowspan=\"2\" valign=\"top\">KP781</th>\n",
       "      <th>Partnered</th>\n",
       "      <td>4</td>\n",
       "      <td>19</td>\n",
       "      <td>23</td>\n",
       "    </tr>\n",
       "    <tr>\n",
       "      <th>Single</th>\n",
       "      <td>3</td>\n",
       "      <td>14</td>\n",
       "      <td>17</td>\n",
       "    </tr>\n",
       "    <tr>\n",
       "      <th>All</th>\n",
       "      <th></th>\n",
       "      <td>76</td>\n",
       "      <td>104</td>\n",
       "      <td>180</td>\n",
       "    </tr>\n",
       "  </tbody>\n",
       "</table>\n",
       "</div>"
      ],
      "text/plain": [
       "Gender                 Female  Male  All\n",
       "Product MaritalStatus                   \n",
       "KP281   Partnered          27    21   48\n",
       "        Single             13    19   32\n",
       "KP481   Partnered          15    21   36\n",
       "        Single             14    10   24\n",
       "KP781   Partnered           4    19   23\n",
       "        Single              3    14   17\n",
       "All                        76   104  180"
      ]
     },
     "execution_count": 83,
     "metadata": {},
     "output_type": "execute_result"
    }
   ],
   "source": [
    "pd.crosstab(index=[data[\"Product\"],data[\"MaritalStatus\"]],columns=data[\"Gender\"],margins=True)"
   ]
  },
  {
   "cell_type": "code",
   "execution_count": null,
   "id": "489a92d9",
   "metadata": {},
   "outputs": [],
   "source": []
  },
  {
   "cell_type": "code",
   "execution_count": null,
   "id": "d95860b2",
   "metadata": {},
   "outputs": [],
   "source": []
  },
  {
   "cell_type": "code",
   "execution_count": null,
   "id": "cc046231",
   "metadata": {},
   "outputs": [],
   "source": []
  },
  {
   "cell_type": "code",
   "execution_count": null,
   "id": "a866fcad",
   "metadata": {},
   "outputs": [],
   "source": []
  },
  {
   "cell_type": "code",
   "execution_count": null,
   "id": "a01766b4",
   "metadata": {},
   "outputs": [],
   "source": []
  },
  {
   "cell_type": "code",
   "execution_count": null,
   "id": "fe6681b8",
   "metadata": {},
   "outputs": [],
   "source": []
  },
  {
   "cell_type": "code",
   "execution_count": null,
   "id": "5327e514",
   "metadata": {},
   "outputs": [],
   "source": []
  },
  {
   "cell_type": "code",
   "execution_count": null,
   "id": "f3fa4d50",
   "metadata": {},
   "outputs": [],
   "source": []
  },
  {
   "cell_type": "code",
   "execution_count": null,
   "id": "259ffd40",
   "metadata": {},
   "outputs": [],
   "source": []
  },
  {
   "cell_type": "code",
   "execution_count": null,
   "id": "7d57f344",
   "metadata": {},
   "outputs": [],
   "source": []
  },
  {
   "cell_type": "code",
   "execution_count": null,
   "id": "9775c4bd",
   "metadata": {},
   "outputs": [],
   "source": []
  },
  {
   "cell_type": "code",
   "execution_count": null,
   "id": "0f3aa249",
   "metadata": {},
   "outputs": [],
   "source": []
  },
  {
   "cell_type": "code",
   "execution_count": null,
   "id": "8662adae",
   "metadata": {},
   "outputs": [],
   "source": []
  },
  {
   "cell_type": "code",
   "execution_count": null,
   "id": "b6286cd4",
   "metadata": {},
   "outputs": [],
   "source": []
  },
  {
   "cell_type": "code",
   "execution_count": null,
   "id": "51fce3c3",
   "metadata": {},
   "outputs": [],
   "source": []
  },
  {
   "cell_type": "code",
   "execution_count": null,
   "id": "2b6c3dca",
   "metadata": {},
   "outputs": [],
   "source": []
  }
 ],
 "metadata": {
  "kernelspec": {
   "display_name": "Python 3 (ipykernel)",
   "language": "python",
   "name": "python3"
  },
  "language_info": {
   "codemirror_mode": {
    "name": "ipython",
    "version": 3
   },
   "file_extension": ".py",
   "mimetype": "text/x-python",
   "name": "python",
   "nbconvert_exporter": "python",
   "pygments_lexer": "ipython3",
   "version": "3.9.7"
  }
 },
 "nbformat": 4,
 "nbformat_minor": 5
}
