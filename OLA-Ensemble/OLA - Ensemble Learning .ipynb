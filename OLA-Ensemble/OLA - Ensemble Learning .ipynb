{
 "cells": [
  {
   "cell_type": "code",
   "execution_count": 1,
   "id": "49a7cb2a",
   "metadata": {},
   "outputs": [],
   "source": [
    "import pandas as pd\n",
    "import numpy as np\n",
    "import seaborn as sns\n",
    "import matplotlib.pyplot as plt\n",
    "%matplotlib inline\n",
    "from matplotlib import figure\n",
    "\n",
    "import statsmodels.api as sm\n",
    "from scipy.stats import norm\n",
    "from scipy.stats import t\n",
    "\n",
    "import warnings\n",
    "warnings.filterwarnings('ignore')\n",
    "\n",
    "pd.set_option('display.max_rows', 500)\n",
    "pd.set_option('display.max_columns', 500)\n",
    "pd.set_option('display.width', 1000)"
   ]
  },
  {
   "cell_type": "markdown",
   "id": "e3b5408b",
   "metadata": {},
   "source": [
    "## Project Title:  OLA - Ensemble Learning\n",
    "\n",
    "\n",
    "# Problem Statement\n",
    "\n",
    "\n",
    "- Recruiting and retaining drivers is seen by industry watchers as a tough battle for Ola.\n",
    "- Churn among drivers is high and it’s very easy for drivers to stop working for the service on the fly or jump to Uber depending on the rates.\n",
    "\n",
    "\n",
    "- As the companies get bigger, the high churn could become a bigger problem. To find new drivers, Ola is casting a wide net, including people who don’t have cars for jobs. But this acquisition is really costly.\n",
    "- Losing drivers frequently impacts the morale of the organization and acquiring new drivers is more expensive than retaining existing ones.\n",
    "\n",
    "\n",
    "- You are working as a data scientist with the Analytics Department of Ola, focused on driver team attrition.\n",
    "- You are provided with the monthly information for a segment of drivers for 2019 and 2020 and tasked to predict whether a driver will be leaving the company or not based on their attributes like\n",
    "\n",
    "- Demographics (city, age, gender etc.)\n",
    "- Tenure information (joining date, Last Date)\n",
    "\n",
    "- Historical data regarding the performance of the driver (Quarterly rating, Monthly business acquired, grade, Income)\n",
    "\n",
    "\n",
    "\n",
    "### Column Profiling:\n",
    "\n",
    "\n",
    "- MMMM-YY : Reporting Date (Monthly)\n",
    "- Driver_ID : Unique id for drivers\n",
    "- Age : Age of the driver\n",
    "- Gender : Gender of the driver – Male : 0, Female: 1\n",
    "- City : City Code of the driver\n",
    "- Education_Level : Education level – 0 for 10+ ,1 for 12+ ,2 for graduate\n",
    "- Income : Monthly average Income of the driver\n",
    "- Date Of Joining : Joining date for the driver\n",
    "- LastWorkingDate : Last date of working for the driver\n",
    "- Joining Designation : Designation of the driver at the time of joining\n",
    "- Grade : Grade of the driver at the time of reporting\n",
    "- Total Business Value : The total business value acquired by the driver in a month (negative business indicates -cancellation/refund or car EMI adjustments)\n",
    "- Quarterly Rating : Quarterly rating of the driver: 1,2,3,4,5 (higher is better)\n",
    "\n",
    "\n",
    "### Concepts Tested:\n",
    "\n",
    "        Ensemble Learning- Bagging\n",
    "        Ensemble Learning- Boosting\n",
    "        KNN Imputation of Missing Values\n",
    "        Working with an imbalanced dataset\n",
    "        \n"
   ]
  },
  {
   "cell_type": "code",
   "execution_count": 2,
   "id": "d3ba4908",
   "metadata": {},
   "outputs": [],
   "source": [
    "ola = pd.read_csv(\"ola_driver_scaler.csv\")"
   ]
  },
  {
   "cell_type": "code",
   "execution_count": 3,
   "id": "2cc93bcb",
   "metadata": {},
   "outputs": [
    {
     "data": {
      "text/html": [
       "<div>\n",
       "<style scoped>\n",
       "    .dataframe tbody tr th:only-of-type {\n",
       "        vertical-align: middle;\n",
       "    }\n",
       "\n",
       "    .dataframe tbody tr th {\n",
       "        vertical-align: top;\n",
       "    }\n",
       "\n",
       "    .dataframe thead th {\n",
       "        text-align: right;\n",
       "    }\n",
       "</style>\n",
       "<table border=\"1\" class=\"dataframe\">\n",
       "  <thead>\n",
       "    <tr style=\"text-align: right;\">\n",
       "      <th></th>\n",
       "      <th>Unnamed: 0</th>\n",
       "      <th>MMM-YY</th>\n",
       "      <th>Driver_ID</th>\n",
       "      <th>Age</th>\n",
       "      <th>Gender</th>\n",
       "      <th>City</th>\n",
       "      <th>Education_Level</th>\n",
       "      <th>Income</th>\n",
       "      <th>Dateofjoining</th>\n",
       "      <th>LastWorkingDate</th>\n",
       "      <th>Joining Designation</th>\n",
       "      <th>Grade</th>\n",
       "      <th>Total Business Value</th>\n",
       "      <th>Quarterly Rating</th>\n",
       "    </tr>\n",
       "  </thead>\n",
       "  <tbody>\n",
       "    <tr>\n",
       "      <th>0</th>\n",
       "      <td>0</td>\n",
       "      <td>01/01/19</td>\n",
       "      <td>1</td>\n",
       "      <td>28.0</td>\n",
       "      <td>0.0</td>\n",
       "      <td>C23</td>\n",
       "      <td>2</td>\n",
       "      <td>57387</td>\n",
       "      <td>24/12/18</td>\n",
       "      <td>NaN</td>\n",
       "      <td>1</td>\n",
       "      <td>1</td>\n",
       "      <td>2381060</td>\n",
       "      <td>2</td>\n",
       "    </tr>\n",
       "    <tr>\n",
       "      <th>1</th>\n",
       "      <td>1</td>\n",
       "      <td>02/01/19</td>\n",
       "      <td>1</td>\n",
       "      <td>28.0</td>\n",
       "      <td>0.0</td>\n",
       "      <td>C23</td>\n",
       "      <td>2</td>\n",
       "      <td>57387</td>\n",
       "      <td>24/12/18</td>\n",
       "      <td>NaN</td>\n",
       "      <td>1</td>\n",
       "      <td>1</td>\n",
       "      <td>-665480</td>\n",
       "      <td>2</td>\n",
       "    </tr>\n",
       "    <tr>\n",
       "      <th>2</th>\n",
       "      <td>2</td>\n",
       "      <td>03/01/19</td>\n",
       "      <td>1</td>\n",
       "      <td>28.0</td>\n",
       "      <td>0.0</td>\n",
       "      <td>C23</td>\n",
       "      <td>2</td>\n",
       "      <td>57387</td>\n",
       "      <td>24/12/18</td>\n",
       "      <td>03/11/19</td>\n",
       "      <td>1</td>\n",
       "      <td>1</td>\n",
       "      <td>0</td>\n",
       "      <td>2</td>\n",
       "    </tr>\n",
       "    <tr>\n",
       "      <th>3</th>\n",
       "      <td>3</td>\n",
       "      <td>11/01/20</td>\n",
       "      <td>2</td>\n",
       "      <td>31.0</td>\n",
       "      <td>0.0</td>\n",
       "      <td>C7</td>\n",
       "      <td>2</td>\n",
       "      <td>67016</td>\n",
       "      <td>11/06/20</td>\n",
       "      <td>NaN</td>\n",
       "      <td>2</td>\n",
       "      <td>2</td>\n",
       "      <td>0</td>\n",
       "      <td>1</td>\n",
       "    </tr>\n",
       "    <tr>\n",
       "      <th>4</th>\n",
       "      <td>4</td>\n",
       "      <td>12/01/20</td>\n",
       "      <td>2</td>\n",
       "      <td>31.0</td>\n",
       "      <td>0.0</td>\n",
       "      <td>C7</td>\n",
       "      <td>2</td>\n",
       "      <td>67016</td>\n",
       "      <td>11/06/20</td>\n",
       "      <td>NaN</td>\n",
       "      <td>2</td>\n",
       "      <td>2</td>\n",
       "      <td>0</td>\n",
       "      <td>1</td>\n",
       "    </tr>\n",
       "  </tbody>\n",
       "</table>\n",
       "</div>"
      ],
      "text/plain": [
       "   Unnamed: 0    MMM-YY  Driver_ID   Age  Gender City  Education_Level  Income Dateofjoining LastWorkingDate  Joining Designation  Grade  Total Business Value  Quarterly Rating\n",
       "0           0  01/01/19          1  28.0     0.0  C23                2   57387      24/12/18             NaN                    1      1               2381060                 2\n",
       "1           1  02/01/19          1  28.0     0.0  C23                2   57387      24/12/18             NaN                    1      1               -665480                 2\n",
       "2           2  03/01/19          1  28.0     0.0  C23                2   57387      24/12/18        03/11/19                    1      1                     0                 2\n",
       "3           3  11/01/20          2  31.0     0.0   C7                2   67016      11/06/20             NaN                    2      2                     0                 1\n",
       "4           4  12/01/20          2  31.0     0.0   C7                2   67016      11/06/20             NaN                    2      2                     0                 1"
      ]
     },
     "execution_count": 3,
     "metadata": {},
     "output_type": "execute_result"
    }
   ],
   "source": [
    "ola.head(5)"
   ]
  },
  {
   "cell_type": "code",
   "execution_count": null,
   "id": "52488141",
   "metadata": {},
   "outputs": [],
   "source": []
  },
  {
   "cell_type": "code",
   "execution_count": 4,
   "id": "04b47838",
   "metadata": {},
   "outputs": [],
   "source": [
    "df = ola.copy()"
   ]
  },
  {
   "cell_type": "markdown",
   "id": "a7c21acc",
   "metadata": {},
   "source": [
    "## Missing values checK : "
   ]
  },
  {
   "cell_type": "code",
   "execution_count": 5,
   "id": "ab2ec94f",
   "metadata": {},
   "outputs": [
    {
     "data": {
      "text/plain": [
       "Unnamed: 0               0.000000\n",
       "MMM-YY                   0.000000\n",
       "Driver_ID                0.000000\n",
       "Age                      0.319305\n",
       "Gender                   0.272194\n",
       "City                     0.000000\n",
       "Education_Level          0.000000\n",
       "Income                   0.000000\n",
       "Dateofjoining            0.000000\n",
       "LastWorkingDate         91.541039\n",
       "Joining Designation      0.000000\n",
       "Grade                    0.000000\n",
       "Total Business Value     0.000000\n",
       "Quarterly Rating         0.000000\n",
       "dtype: float64"
      ]
     },
     "execution_count": 5,
     "metadata": {},
     "output_type": "execute_result"
    }
   ],
   "source": [
    "(df.isna().sum()/len(df))*100"
   ]
  },
  {
   "cell_type": "code",
   "execution_count": null,
   "id": "3d0d775d",
   "metadata": {},
   "outputs": [],
   "source": []
  },
  {
   "cell_type": "code",
   "execution_count": 6,
   "id": "ddd9c267",
   "metadata": {},
   "outputs": [
    {
     "data": {
      "text/html": [
       "<div>\n",
       "<style scoped>\n",
       "    .dataframe tbody tr th:only-of-type {\n",
       "        vertical-align: middle;\n",
       "    }\n",
       "\n",
       "    .dataframe tbody tr th {\n",
       "        vertical-align: top;\n",
       "    }\n",
       "\n",
       "    .dataframe thead th {\n",
       "        text-align: right;\n",
       "    }\n",
       "</style>\n",
       "<table border=\"1\" class=\"dataframe\">\n",
       "  <thead>\n",
       "    <tr style=\"text-align: right;\">\n",
       "      <th></th>\n",
       "      <th>Unnamed: 0</th>\n",
       "      <th>MMM-YY</th>\n",
       "      <th>Driver_ID</th>\n",
       "      <th>Age</th>\n",
       "      <th>Gender</th>\n",
       "      <th>City</th>\n",
       "      <th>Education_Level</th>\n",
       "      <th>Income</th>\n",
       "      <th>Dateofjoining</th>\n",
       "      <th>LastWorkingDate</th>\n",
       "      <th>Joining Designation</th>\n",
       "      <th>Grade</th>\n",
       "      <th>Total Business Value</th>\n",
       "      <th>Quarterly Rating</th>\n",
       "    </tr>\n",
       "  </thead>\n",
       "  <tbody>\n",
       "    <tr>\n",
       "      <th>0</th>\n",
       "      <td>0</td>\n",
       "      <td>01/01/19</td>\n",
       "      <td>1</td>\n",
       "      <td>28.0</td>\n",
       "      <td>0.0</td>\n",
       "      <td>C23</td>\n",
       "      <td>2</td>\n",
       "      <td>57387</td>\n",
       "      <td>24/12/18</td>\n",
       "      <td>NaN</td>\n",
       "      <td>1</td>\n",
       "      <td>1</td>\n",
       "      <td>2381060</td>\n",
       "      <td>2</td>\n",
       "    </tr>\n",
       "    <tr>\n",
       "      <th>1</th>\n",
       "      <td>1</td>\n",
       "      <td>02/01/19</td>\n",
       "      <td>1</td>\n",
       "      <td>28.0</td>\n",
       "      <td>0.0</td>\n",
       "      <td>C23</td>\n",
       "      <td>2</td>\n",
       "      <td>57387</td>\n",
       "      <td>24/12/18</td>\n",
       "      <td>NaN</td>\n",
       "      <td>1</td>\n",
       "      <td>1</td>\n",
       "      <td>-665480</td>\n",
       "      <td>2</td>\n",
       "    </tr>\n",
       "    <tr>\n",
       "      <th>2</th>\n",
       "      <td>2</td>\n",
       "      <td>03/01/19</td>\n",
       "      <td>1</td>\n",
       "      <td>28.0</td>\n",
       "      <td>0.0</td>\n",
       "      <td>C23</td>\n",
       "      <td>2</td>\n",
       "      <td>57387</td>\n",
       "      <td>24/12/18</td>\n",
       "      <td>03/11/19</td>\n",
       "      <td>1</td>\n",
       "      <td>1</td>\n",
       "      <td>0</td>\n",
       "      <td>2</td>\n",
       "    </tr>\n",
       "    <tr>\n",
       "      <th>3</th>\n",
       "      <td>3</td>\n",
       "      <td>11/01/20</td>\n",
       "      <td>2</td>\n",
       "      <td>31.0</td>\n",
       "      <td>0.0</td>\n",
       "      <td>C7</td>\n",
       "      <td>2</td>\n",
       "      <td>67016</td>\n",
       "      <td>11/06/20</td>\n",
       "      <td>NaN</td>\n",
       "      <td>2</td>\n",
       "      <td>2</td>\n",
       "      <td>0</td>\n",
       "      <td>1</td>\n",
       "    </tr>\n",
       "    <tr>\n",
       "      <th>4</th>\n",
       "      <td>4</td>\n",
       "      <td>12/01/20</td>\n",
       "      <td>2</td>\n",
       "      <td>31.0</td>\n",
       "      <td>0.0</td>\n",
       "      <td>C7</td>\n",
       "      <td>2</td>\n",
       "      <td>67016</td>\n",
       "      <td>11/06/20</td>\n",
       "      <td>NaN</td>\n",
       "      <td>2</td>\n",
       "      <td>2</td>\n",
       "      <td>0</td>\n",
       "      <td>1</td>\n",
       "    </tr>\n",
       "    <tr>\n",
       "      <th>5</th>\n",
       "      <td>5</td>\n",
       "      <td>12/01/19</td>\n",
       "      <td>4</td>\n",
       "      <td>43.0</td>\n",
       "      <td>0.0</td>\n",
       "      <td>C13</td>\n",
       "      <td>2</td>\n",
       "      <td>65603</td>\n",
       "      <td>12/07/19</td>\n",
       "      <td>NaN</td>\n",
       "      <td>2</td>\n",
       "      <td>2</td>\n",
       "      <td>0</td>\n",
       "      <td>1</td>\n",
       "    </tr>\n",
       "    <tr>\n",
       "      <th>6</th>\n",
       "      <td>6</td>\n",
       "      <td>01/01/20</td>\n",
       "      <td>4</td>\n",
       "      <td>43.0</td>\n",
       "      <td>0.0</td>\n",
       "      <td>C13</td>\n",
       "      <td>2</td>\n",
       "      <td>65603</td>\n",
       "      <td>12/07/19</td>\n",
       "      <td>NaN</td>\n",
       "      <td>2</td>\n",
       "      <td>2</td>\n",
       "      <td>0</td>\n",
       "      <td>1</td>\n",
       "    </tr>\n",
       "    <tr>\n",
       "      <th>7</th>\n",
       "      <td>7</td>\n",
       "      <td>02/01/20</td>\n",
       "      <td>4</td>\n",
       "      <td>43.0</td>\n",
       "      <td>0.0</td>\n",
       "      <td>C13</td>\n",
       "      <td>2</td>\n",
       "      <td>65603</td>\n",
       "      <td>12/07/19</td>\n",
       "      <td>NaN</td>\n",
       "      <td>2</td>\n",
       "      <td>2</td>\n",
       "      <td>0</td>\n",
       "      <td>1</td>\n",
       "    </tr>\n",
       "    <tr>\n",
       "      <th>8</th>\n",
       "      <td>8</td>\n",
       "      <td>03/01/20</td>\n",
       "      <td>4</td>\n",
       "      <td>43.0</td>\n",
       "      <td>0.0</td>\n",
       "      <td>C13</td>\n",
       "      <td>2</td>\n",
       "      <td>65603</td>\n",
       "      <td>12/07/19</td>\n",
       "      <td>NaN</td>\n",
       "      <td>2</td>\n",
       "      <td>2</td>\n",
       "      <td>350000</td>\n",
       "      <td>1</td>\n",
       "    </tr>\n",
       "    <tr>\n",
       "      <th>9</th>\n",
       "      <td>9</td>\n",
       "      <td>04/01/20</td>\n",
       "      <td>4</td>\n",
       "      <td>43.0</td>\n",
       "      <td>0.0</td>\n",
       "      <td>C13</td>\n",
       "      <td>2</td>\n",
       "      <td>65603</td>\n",
       "      <td>12/07/19</td>\n",
       "      <td>27/04/20</td>\n",
       "      <td>2</td>\n",
       "      <td>2</td>\n",
       "      <td>0</td>\n",
       "      <td>1</td>\n",
       "    </tr>\n",
       "  </tbody>\n",
       "</table>\n",
       "</div>"
      ],
      "text/plain": [
       "   Unnamed: 0    MMM-YY  Driver_ID   Age  Gender City  Education_Level  Income Dateofjoining LastWorkingDate  Joining Designation  Grade  Total Business Value  Quarterly Rating\n",
       "0           0  01/01/19          1  28.0     0.0  C23                2   57387      24/12/18             NaN                    1      1               2381060                 2\n",
       "1           1  02/01/19          1  28.0     0.0  C23                2   57387      24/12/18             NaN                    1      1               -665480                 2\n",
       "2           2  03/01/19          1  28.0     0.0  C23                2   57387      24/12/18        03/11/19                    1      1                     0                 2\n",
       "3           3  11/01/20          2  31.0     0.0   C7                2   67016      11/06/20             NaN                    2      2                     0                 1\n",
       "4           4  12/01/20          2  31.0     0.0   C7                2   67016      11/06/20             NaN                    2      2                     0                 1\n",
       "5           5  12/01/19          4  43.0     0.0  C13                2   65603      12/07/19             NaN                    2      2                     0                 1\n",
       "6           6  01/01/20          4  43.0     0.0  C13                2   65603      12/07/19             NaN                    2      2                     0                 1\n",
       "7           7  02/01/20          4  43.0     0.0  C13                2   65603      12/07/19             NaN                    2      2                     0                 1\n",
       "8           8  03/01/20          4  43.0     0.0  C13                2   65603      12/07/19             NaN                    2      2                350000                 1\n",
       "9           9  04/01/20          4  43.0     0.0  C13                2   65603      12/07/19        27/04/20                    2      2                     0                 1"
      ]
     },
     "execution_count": 6,
     "metadata": {},
     "output_type": "execute_result"
    }
   ],
   "source": [
    "df.head(10)"
   ]
  },
  {
   "cell_type": "code",
   "execution_count": null,
   "id": "56f677a4",
   "metadata": {},
   "outputs": [],
   "source": []
  },
  {
   "cell_type": "code",
   "execution_count": 7,
   "id": "b0944163",
   "metadata": {},
   "outputs": [
    {
     "data": {
      "text/plain": [
       "(19104, 14)"
      ]
     },
     "execution_count": 7,
     "metadata": {},
     "output_type": "execute_result"
    }
   ],
   "source": [
    "df.shape"
   ]
  },
  {
   "cell_type": "code",
   "execution_count": 8,
   "id": "8f9082c2",
   "metadata": {},
   "outputs": [
    {
     "data": {
      "text/plain": [
       "2381"
      ]
     },
     "execution_count": 8,
     "metadata": {},
     "output_type": "execute_result"
    }
   ],
   "source": [
    "df[\"Driver_ID\"].nunique()  # 2381 drivers data. \n"
   ]
  },
  {
   "cell_type": "code",
   "execution_count": 9,
   "id": "4beea8c9",
   "metadata": {},
   "outputs": [],
   "source": [
    "df.drop([\"Unnamed: 0\"],axis = 1 , inplace=True)"
   ]
  },
  {
   "cell_type": "code",
   "execution_count": 10,
   "id": "2b121dca",
   "metadata": {},
   "outputs": [],
   "source": [
    "df[\"Gender\"].replace({0.0:\"Male\",1.0:\"Female\"},inplace=True)"
   ]
  },
  {
   "cell_type": "markdown",
   "id": "d175cd41",
   "metadata": {},
   "source": [
    "## Analysing structure of given Data : "
   ]
  },
  {
   "cell_type": "code",
   "execution_count": 11,
   "id": "eb8233e5",
   "metadata": {},
   "outputs": [
    {
     "data": {
      "text/html": [
       "<div>\n",
       "<style scoped>\n",
       "    .dataframe tbody tr th:only-of-type {\n",
       "        vertical-align: middle;\n",
       "    }\n",
       "\n",
       "    .dataframe tbody tr th {\n",
       "        vertical-align: top;\n",
       "    }\n",
       "\n",
       "    .dataframe thead th {\n",
       "        text-align: right;\n",
       "    }\n",
       "</style>\n",
       "<table border=\"1\" class=\"dataframe\">\n",
       "  <thead>\n",
       "    <tr style=\"text-align: right;\">\n",
       "      <th></th>\n",
       "      <th>MMM-YY</th>\n",
       "      <th>Driver_ID</th>\n",
       "      <th>Age</th>\n",
       "      <th>Gender</th>\n",
       "      <th>City</th>\n",
       "      <th>Education_Level</th>\n",
       "      <th>Income</th>\n",
       "      <th>Dateofjoining</th>\n",
       "      <th>LastWorkingDate</th>\n",
       "      <th>Joining Designation</th>\n",
       "      <th>Grade</th>\n",
       "      <th>Total Business Value</th>\n",
       "      <th>Quarterly Rating</th>\n",
       "    </tr>\n",
       "  </thead>\n",
       "  <tbody>\n",
       "    <tr>\n",
       "      <th>114</th>\n",
       "      <td>01/01/19</td>\n",
       "      <td>25</td>\n",
       "      <td>29.0</td>\n",
       "      <td>Male</td>\n",
       "      <td>C24</td>\n",
       "      <td>1</td>\n",
       "      <td>102077</td>\n",
       "      <td>30/10/17</td>\n",
       "      <td>NaN</td>\n",
       "      <td>1</td>\n",
       "      <td>3</td>\n",
       "      <td>2552300</td>\n",
       "      <td>3</td>\n",
       "    </tr>\n",
       "    <tr>\n",
       "      <th>115</th>\n",
       "      <td>02/01/19</td>\n",
       "      <td>25</td>\n",
       "      <td>29.0</td>\n",
       "      <td>Male</td>\n",
       "      <td>C24</td>\n",
       "      <td>1</td>\n",
       "      <td>102077</td>\n",
       "      <td>30/10/17</td>\n",
       "      <td>NaN</td>\n",
       "      <td>1</td>\n",
       "      <td>3</td>\n",
       "      <td>2143680</td>\n",
       "      <td>3</td>\n",
       "    </tr>\n",
       "    <tr>\n",
       "      <th>116</th>\n",
       "      <td>03/01/19</td>\n",
       "      <td>25</td>\n",
       "      <td>29.0</td>\n",
       "      <td>Male</td>\n",
       "      <td>C24</td>\n",
       "      <td>1</td>\n",
       "      <td>102077</td>\n",
       "      <td>30/10/17</td>\n",
       "      <td>NaN</td>\n",
       "      <td>1</td>\n",
       "      <td>3</td>\n",
       "      <td>2925260</td>\n",
       "      <td>3</td>\n",
       "    </tr>\n",
       "    <tr>\n",
       "      <th>117</th>\n",
       "      <td>04/01/19</td>\n",
       "      <td>25</td>\n",
       "      <td>29.0</td>\n",
       "      <td>Male</td>\n",
       "      <td>C24</td>\n",
       "      <td>1</td>\n",
       "      <td>102077</td>\n",
       "      <td>30/10/17</td>\n",
       "      <td>NaN</td>\n",
       "      <td>1</td>\n",
       "      <td>3</td>\n",
       "      <td>1030790</td>\n",
       "      <td>4</td>\n",
       "    </tr>\n",
       "    <tr>\n",
       "      <th>118</th>\n",
       "      <td>05/01/19</td>\n",
       "      <td>25</td>\n",
       "      <td>29.0</td>\n",
       "      <td>Male</td>\n",
       "      <td>C24</td>\n",
       "      <td>1</td>\n",
       "      <td>102077</td>\n",
       "      <td>30/10/17</td>\n",
       "      <td>NaN</td>\n",
       "      <td>1</td>\n",
       "      <td>3</td>\n",
       "      <td>1833580</td>\n",
       "      <td>4</td>\n",
       "    </tr>\n",
       "    <tr>\n",
       "      <th>119</th>\n",
       "      <td>06/01/19</td>\n",
       "      <td>25</td>\n",
       "      <td>29.0</td>\n",
       "      <td>Male</td>\n",
       "      <td>C24</td>\n",
       "      <td>1</td>\n",
       "      <td>102077</td>\n",
       "      <td>30/10/17</td>\n",
       "      <td>NaN</td>\n",
       "      <td>1</td>\n",
       "      <td>3</td>\n",
       "      <td>999610</td>\n",
       "      <td>4</td>\n",
       "    </tr>\n",
       "    <tr>\n",
       "      <th>120</th>\n",
       "      <td>07/01/19</td>\n",
       "      <td>25</td>\n",
       "      <td>29.0</td>\n",
       "      <td>Male</td>\n",
       "      <td>C24</td>\n",
       "      <td>1</td>\n",
       "      <td>102077</td>\n",
       "      <td>30/10/17</td>\n",
       "      <td>NaN</td>\n",
       "      <td>1</td>\n",
       "      <td>3</td>\n",
       "      <td>1046670</td>\n",
       "      <td>4</td>\n",
       "    </tr>\n",
       "    <tr>\n",
       "      <th>121</th>\n",
       "      <td>08/01/19</td>\n",
       "      <td>25</td>\n",
       "      <td>29.0</td>\n",
       "      <td>Male</td>\n",
       "      <td>C24</td>\n",
       "      <td>1</td>\n",
       "      <td>102077</td>\n",
       "      <td>30/10/17</td>\n",
       "      <td>NaN</td>\n",
       "      <td>1</td>\n",
       "      <td>3</td>\n",
       "      <td>677050</td>\n",
       "      <td>4</td>\n",
       "    </tr>\n",
       "    <tr>\n",
       "      <th>122</th>\n",
       "      <td>09/01/19</td>\n",
       "      <td>25</td>\n",
       "      <td>29.0</td>\n",
       "      <td>Male</td>\n",
       "      <td>C24</td>\n",
       "      <td>1</td>\n",
       "      <td>102077</td>\n",
       "      <td>30/10/17</td>\n",
       "      <td>NaN</td>\n",
       "      <td>1</td>\n",
       "      <td>3</td>\n",
       "      <td>1934570</td>\n",
       "      <td>4</td>\n",
       "    </tr>\n",
       "    <tr>\n",
       "      <th>123</th>\n",
       "      <td>10/01/19</td>\n",
       "      <td>25</td>\n",
       "      <td>29.0</td>\n",
       "      <td>Male</td>\n",
       "      <td>C24</td>\n",
       "      <td>1</td>\n",
       "      <td>102077</td>\n",
       "      <td>30/10/17</td>\n",
       "      <td>NaN</td>\n",
       "      <td>1</td>\n",
       "      <td>3</td>\n",
       "      <td>1297810</td>\n",
       "      <td>4</td>\n",
       "    </tr>\n",
       "    <tr>\n",
       "      <th>124</th>\n",
       "      <td>11/01/19</td>\n",
       "      <td>25</td>\n",
       "      <td>30.0</td>\n",
       "      <td>Male</td>\n",
       "      <td>C24</td>\n",
       "      <td>1</td>\n",
       "      <td>102077</td>\n",
       "      <td>30/10/17</td>\n",
       "      <td>NaN</td>\n",
       "      <td>1</td>\n",
       "      <td>3</td>\n",
       "      <td>1474610</td>\n",
       "      <td>4</td>\n",
       "    </tr>\n",
       "    <tr>\n",
       "      <th>125</th>\n",
       "      <td>12/01/19</td>\n",
       "      <td>25</td>\n",
       "      <td>30.0</td>\n",
       "      <td>Male</td>\n",
       "      <td>C24</td>\n",
       "      <td>1</td>\n",
       "      <td>102077</td>\n",
       "      <td>30/10/17</td>\n",
       "      <td>NaN</td>\n",
       "      <td>1</td>\n",
       "      <td>3</td>\n",
       "      <td>574040</td>\n",
       "      <td>4</td>\n",
       "    </tr>\n",
       "    <tr>\n",
       "      <th>126</th>\n",
       "      <td>01/01/20</td>\n",
       "      <td>25</td>\n",
       "      <td>30.0</td>\n",
       "      <td>Male</td>\n",
       "      <td>C24</td>\n",
       "      <td>1</td>\n",
       "      <td>102077</td>\n",
       "      <td>30/10/17</td>\n",
       "      <td>NaN</td>\n",
       "      <td>1</td>\n",
       "      <td>3</td>\n",
       "      <td>2109420</td>\n",
       "      <td>4</td>\n",
       "    </tr>\n",
       "    <tr>\n",
       "      <th>127</th>\n",
       "      <td>02/01/20</td>\n",
       "      <td>25</td>\n",
       "      <td>30.0</td>\n",
       "      <td>Male</td>\n",
       "      <td>C24</td>\n",
       "      <td>1</td>\n",
       "      <td>102077</td>\n",
       "      <td>30/10/17</td>\n",
       "      <td>NaN</td>\n",
       "      <td>1</td>\n",
       "      <td>3</td>\n",
       "      <td>2973000</td>\n",
       "      <td>4</td>\n",
       "    </tr>\n",
       "    <tr>\n",
       "      <th>128</th>\n",
       "      <td>03/01/20</td>\n",
       "      <td>25</td>\n",
       "      <td>30.0</td>\n",
       "      <td>Male</td>\n",
       "      <td>C24</td>\n",
       "      <td>1</td>\n",
       "      <td>102077</td>\n",
       "      <td>30/10/17</td>\n",
       "      <td>NaN</td>\n",
       "      <td>1</td>\n",
       "      <td>3</td>\n",
       "      <td>3053510</td>\n",
       "      <td>4</td>\n",
       "    </tr>\n",
       "    <tr>\n",
       "      <th>129</th>\n",
       "      <td>04/01/20</td>\n",
       "      <td>25</td>\n",
       "      <td>30.0</td>\n",
       "      <td>Male</td>\n",
       "      <td>C24</td>\n",
       "      <td>1</td>\n",
       "      <td>102077</td>\n",
       "      <td>30/10/17</td>\n",
       "      <td>NaN</td>\n",
       "      <td>1</td>\n",
       "      <td>3</td>\n",
       "      <td>-414250</td>\n",
       "      <td>3</td>\n",
       "    </tr>\n",
       "    <tr>\n",
       "      <th>130</th>\n",
       "      <td>05/01/20</td>\n",
       "      <td>25</td>\n",
       "      <td>30.0</td>\n",
       "      <td>Male</td>\n",
       "      <td>C24</td>\n",
       "      <td>1</td>\n",
       "      <td>102077</td>\n",
       "      <td>30/10/17</td>\n",
       "      <td>NaN</td>\n",
       "      <td>1</td>\n",
       "      <td>3</td>\n",
       "      <td>350000</td>\n",
       "      <td>3</td>\n",
       "    </tr>\n",
       "    <tr>\n",
       "      <th>131</th>\n",
       "      <td>06/01/20</td>\n",
       "      <td>25</td>\n",
       "      <td>30.0</td>\n",
       "      <td>Male</td>\n",
       "      <td>C24</td>\n",
       "      <td>1</td>\n",
       "      <td>102077</td>\n",
       "      <td>30/10/17</td>\n",
       "      <td>NaN</td>\n",
       "      <td>1</td>\n",
       "      <td>3</td>\n",
       "      <td>1219340</td>\n",
       "      <td>3</td>\n",
       "    </tr>\n",
       "    <tr>\n",
       "      <th>132</th>\n",
       "      <td>07/01/20</td>\n",
       "      <td>25</td>\n",
       "      <td>30.0</td>\n",
       "      <td>Male</td>\n",
       "      <td>C24</td>\n",
       "      <td>1</td>\n",
       "      <td>102077</td>\n",
       "      <td>30/10/17</td>\n",
       "      <td>NaN</td>\n",
       "      <td>1</td>\n",
       "      <td>3</td>\n",
       "      <td>650000</td>\n",
       "      <td>4</td>\n",
       "    </tr>\n",
       "    <tr>\n",
       "      <th>133</th>\n",
       "      <td>08/01/20</td>\n",
       "      <td>25</td>\n",
       "      <td>30.0</td>\n",
       "      <td>Male</td>\n",
       "      <td>C24</td>\n",
       "      <td>1</td>\n",
       "      <td>102077</td>\n",
       "      <td>30/10/17</td>\n",
       "      <td>NaN</td>\n",
       "      <td>1</td>\n",
       "      <td>3</td>\n",
       "      <td>1512060</td>\n",
       "      <td>4</td>\n",
       "    </tr>\n",
       "    <tr>\n",
       "      <th>134</th>\n",
       "      <td>09/01/20</td>\n",
       "      <td>25</td>\n",
       "      <td>30.0</td>\n",
       "      <td>Male</td>\n",
       "      <td>C24</td>\n",
       "      <td>1</td>\n",
       "      <td>102077</td>\n",
       "      <td>30/10/17</td>\n",
       "      <td>NaN</td>\n",
       "      <td>1</td>\n",
       "      <td>3</td>\n",
       "      <td>1368060</td>\n",
       "      <td>4</td>\n",
       "    </tr>\n",
       "    <tr>\n",
       "      <th>135</th>\n",
       "      <td>10/01/20</td>\n",
       "      <td>25</td>\n",
       "      <td>30.0</td>\n",
       "      <td>Male</td>\n",
       "      <td>C24</td>\n",
       "      <td>1</td>\n",
       "      <td>102077</td>\n",
       "      <td>30/10/17</td>\n",
       "      <td>NaN</td>\n",
       "      <td>1</td>\n",
       "      <td>3</td>\n",
       "      <td>1346140</td>\n",
       "      <td>4</td>\n",
       "    </tr>\n",
       "    <tr>\n",
       "      <th>136</th>\n",
       "      <td>11/01/20</td>\n",
       "      <td>25</td>\n",
       "      <td>31.0</td>\n",
       "      <td>Male</td>\n",
       "      <td>C24</td>\n",
       "      <td>1</td>\n",
       "      <td>102077</td>\n",
       "      <td>30/10/17</td>\n",
       "      <td>NaN</td>\n",
       "      <td>1</td>\n",
       "      <td>3</td>\n",
       "      <td>1680680</td>\n",
       "      <td>4</td>\n",
       "    </tr>\n",
       "    <tr>\n",
       "      <th>137</th>\n",
       "      <td>12/01/20</td>\n",
       "      <td>25</td>\n",
       "      <td>31.0</td>\n",
       "      <td>Male</td>\n",
       "      <td>C24</td>\n",
       "      <td>1</td>\n",
       "      <td>102077</td>\n",
       "      <td>30/10/17</td>\n",
       "      <td>NaN</td>\n",
       "      <td>1</td>\n",
       "      <td>3</td>\n",
       "      <td>2013180</td>\n",
       "      <td>4</td>\n",
       "    </tr>\n",
       "  </tbody>\n",
       "</table>\n",
       "</div>"
      ],
      "text/plain": [
       "       MMM-YY  Driver_ID   Age Gender City  Education_Level  Income Dateofjoining LastWorkingDate  Joining Designation  Grade  Total Business Value  Quarterly Rating\n",
       "114  01/01/19         25  29.0   Male  C24                1  102077      30/10/17             NaN                    1      3               2552300                 3\n",
       "115  02/01/19         25  29.0   Male  C24                1  102077      30/10/17             NaN                    1      3               2143680                 3\n",
       "116  03/01/19         25  29.0   Male  C24                1  102077      30/10/17             NaN                    1      3               2925260                 3\n",
       "117  04/01/19         25  29.0   Male  C24                1  102077      30/10/17             NaN                    1      3               1030790                 4\n",
       "118  05/01/19         25  29.0   Male  C24                1  102077      30/10/17             NaN                    1      3               1833580                 4\n",
       "119  06/01/19         25  29.0   Male  C24                1  102077      30/10/17             NaN                    1      3                999610                 4\n",
       "120  07/01/19         25  29.0   Male  C24                1  102077      30/10/17             NaN                    1      3               1046670                 4\n",
       "121  08/01/19         25  29.0   Male  C24                1  102077      30/10/17             NaN                    1      3                677050                 4\n",
       "122  09/01/19         25  29.0   Male  C24                1  102077      30/10/17             NaN                    1      3               1934570                 4\n",
       "123  10/01/19         25  29.0   Male  C24                1  102077      30/10/17             NaN                    1      3               1297810                 4\n",
       "124  11/01/19         25  30.0   Male  C24                1  102077      30/10/17             NaN                    1      3               1474610                 4\n",
       "125  12/01/19         25  30.0   Male  C24                1  102077      30/10/17             NaN                    1      3                574040                 4\n",
       "126  01/01/20         25  30.0   Male  C24                1  102077      30/10/17             NaN                    1      3               2109420                 4\n",
       "127  02/01/20         25  30.0   Male  C24                1  102077      30/10/17             NaN                    1      3               2973000                 4\n",
       "128  03/01/20         25  30.0   Male  C24                1  102077      30/10/17             NaN                    1      3               3053510                 4\n",
       "129  04/01/20         25  30.0   Male  C24                1  102077      30/10/17             NaN                    1      3               -414250                 3\n",
       "130  05/01/20         25  30.0   Male  C24                1  102077      30/10/17             NaN                    1      3                350000                 3\n",
       "131  06/01/20         25  30.0   Male  C24                1  102077      30/10/17             NaN                    1      3               1219340                 3\n",
       "132  07/01/20         25  30.0   Male  C24                1  102077      30/10/17             NaN                    1      3                650000                 4\n",
       "133  08/01/20         25  30.0   Male  C24                1  102077      30/10/17             NaN                    1      3               1512060                 4\n",
       "134  09/01/20         25  30.0   Male  C24                1  102077      30/10/17             NaN                    1      3               1368060                 4\n",
       "135  10/01/20         25  30.0   Male  C24                1  102077      30/10/17             NaN                    1      3               1346140                 4\n",
       "136  11/01/20         25  31.0   Male  C24                1  102077      30/10/17             NaN                    1      3               1680680                 4\n",
       "137  12/01/20         25  31.0   Male  C24                1  102077      30/10/17             NaN                    1      3               2013180                 4"
      ]
     },
     "execution_count": 11,
     "metadata": {},
     "output_type": "execute_result"
    }
   ],
   "source": [
    "df[df[\"Driver_ID\"]==25]"
   ]
  },
  {
   "cell_type": "markdown",
   "id": "34003e6a",
   "metadata": {},
   "source": [
    "## Restructuring the data by aggregation : "
   ]
  },
  {
   "cell_type": "code",
   "execution_count": 12,
   "id": "bedf748d",
   "metadata": {},
   "outputs": [],
   "source": [
    "agg_df = df.groupby([\"Driver_ID\"]).aggregate({'MMM-YY':len,\n",
    "                                     \"Age\":max,\n",
    "                                     \n",
    "                                     \"City\":np.unique,\n",
    "                                    \"Education_Level\":max,\n",
    "                                     \"Income\":np.mean,\n",
    "                                     \"Dateofjoining\":np.unique, \n",
    "#                                     \"LastWorkingDate\":last_value,\n",
    "                                     \"Joining Designation\":np.unique,\n",
    "                                     \"Grade\": np.mean,\n",
    "                                    \"Total Business Value\":sum, \n",
    "                                     \"Quarterly Rating\":np.mean\n",
    "                                     \n",
    "                                    })"
   ]
  },
  {
   "cell_type": "code",
   "execution_count": 13,
   "id": "229349b9",
   "metadata": {},
   "outputs": [],
   "source": [
    "agg_df = agg_df.reset_index()\n"
   ]
  },
  {
   "cell_type": "code",
   "execution_count": 14,
   "id": "a3d821be",
   "metadata": {
    "scrolled": true
   },
   "outputs": [],
   "source": [
    "final_data = agg_df.rename(columns={\"MMM-YY\":\"No_of_Records\",\n",
    "                      \"Dateofjoining\":\"Date_of_joining\",\n",
    "                      \"Joining Designation\":\"Joining_Designation\",\n",
    "                      \"Total Business Value\" : \"Total_Business_Value\",\n",
    "                      \"Quarterly Rating\":\"Quarterly_Rating\"})"
   ]
  },
  {
   "cell_type": "code",
   "execution_count": 15,
   "id": "e5bb72c7",
   "metadata": {},
   "outputs": [
    {
     "data": {
      "text/html": [
       "<div>\n",
       "<style scoped>\n",
       "    .dataframe tbody tr th:only-of-type {\n",
       "        vertical-align: middle;\n",
       "    }\n",
       "\n",
       "    .dataframe tbody tr th {\n",
       "        vertical-align: top;\n",
       "    }\n",
       "\n",
       "    .dataframe thead th {\n",
       "        text-align: right;\n",
       "    }\n",
       "</style>\n",
       "<table border=\"1\" class=\"dataframe\">\n",
       "  <thead>\n",
       "    <tr style=\"text-align: right;\">\n",
       "      <th></th>\n",
       "      <th>Driver_ID</th>\n",
       "      <th>No_of_Records</th>\n",
       "      <th>Age</th>\n",
       "      <th>City</th>\n",
       "      <th>Education_Level</th>\n",
       "      <th>Income</th>\n",
       "      <th>Date_of_joining</th>\n",
       "      <th>Joining_Designation</th>\n",
       "      <th>Grade</th>\n",
       "      <th>Total_Business_Value</th>\n",
       "      <th>Quarterly_Rating</th>\n",
       "    </tr>\n",
       "  </thead>\n",
       "  <tbody>\n",
       "    <tr>\n",
       "      <th>0</th>\n",
       "      <td>1</td>\n",
       "      <td>3</td>\n",
       "      <td>28.0</td>\n",
       "      <td>C23</td>\n",
       "      <td>2</td>\n",
       "      <td>57387.0</td>\n",
       "      <td>24/12/18</td>\n",
       "      <td>1</td>\n",
       "      <td>1.0</td>\n",
       "      <td>1715580</td>\n",
       "      <td>2.000000</td>\n",
       "    </tr>\n",
       "    <tr>\n",
       "      <th>1</th>\n",
       "      <td>2</td>\n",
       "      <td>2</td>\n",
       "      <td>31.0</td>\n",
       "      <td>C7</td>\n",
       "      <td>2</td>\n",
       "      <td>67016.0</td>\n",
       "      <td>11/06/20</td>\n",
       "      <td>2</td>\n",
       "      <td>2.0</td>\n",
       "      <td>0</td>\n",
       "      <td>1.000000</td>\n",
       "    </tr>\n",
       "    <tr>\n",
       "      <th>2</th>\n",
       "      <td>4</td>\n",
       "      <td>5</td>\n",
       "      <td>43.0</td>\n",
       "      <td>C13</td>\n",
       "      <td>2</td>\n",
       "      <td>65603.0</td>\n",
       "      <td>12/07/19</td>\n",
       "      <td>2</td>\n",
       "      <td>2.0</td>\n",
       "      <td>350000</td>\n",
       "      <td>1.000000</td>\n",
       "    </tr>\n",
       "    <tr>\n",
       "      <th>3</th>\n",
       "      <td>5</td>\n",
       "      <td>3</td>\n",
       "      <td>29.0</td>\n",
       "      <td>C9</td>\n",
       "      <td>0</td>\n",
       "      <td>46368.0</td>\n",
       "      <td>01/09/19</td>\n",
       "      <td>1</td>\n",
       "      <td>1.0</td>\n",
       "      <td>120360</td>\n",
       "      <td>1.000000</td>\n",
       "    </tr>\n",
       "    <tr>\n",
       "      <th>4</th>\n",
       "      <td>6</td>\n",
       "      <td>5</td>\n",
       "      <td>31.0</td>\n",
       "      <td>C11</td>\n",
       "      <td>1</td>\n",
       "      <td>78728.0</td>\n",
       "      <td>31/07/20</td>\n",
       "      <td>3</td>\n",
       "      <td>3.0</td>\n",
       "      <td>1265000</td>\n",
       "      <td>1.600000</td>\n",
       "    </tr>\n",
       "    <tr>\n",
       "      <th>...</th>\n",
       "      <td>...</td>\n",
       "      <td>...</td>\n",
       "      <td>...</td>\n",
       "      <td>...</td>\n",
       "      <td>...</td>\n",
       "      <td>...</td>\n",
       "      <td>...</td>\n",
       "      <td>...</td>\n",
       "      <td>...</td>\n",
       "      <td>...</td>\n",
       "      <td>...</td>\n",
       "    </tr>\n",
       "    <tr>\n",
       "      <th>2376</th>\n",
       "      <td>2784</td>\n",
       "      <td>24</td>\n",
       "      <td>34.0</td>\n",
       "      <td>C24</td>\n",
       "      <td>0</td>\n",
       "      <td>82815.0</td>\n",
       "      <td>15/10/15</td>\n",
       "      <td>2</td>\n",
       "      <td>3.0</td>\n",
       "      <td>21748820</td>\n",
       "      <td>2.625000</td>\n",
       "    </tr>\n",
       "    <tr>\n",
       "      <th>2377</th>\n",
       "      <td>2785</td>\n",
       "      <td>3</td>\n",
       "      <td>34.0</td>\n",
       "      <td>C9</td>\n",
       "      <td>0</td>\n",
       "      <td>12105.0</td>\n",
       "      <td>28/08/20</td>\n",
       "      <td>1</td>\n",
       "      <td>1.0</td>\n",
       "      <td>0</td>\n",
       "      <td>1.000000</td>\n",
       "    </tr>\n",
       "    <tr>\n",
       "      <th>2378</th>\n",
       "      <td>2786</td>\n",
       "      <td>9</td>\n",
       "      <td>45.0</td>\n",
       "      <td>C19</td>\n",
       "      <td>0</td>\n",
       "      <td>35370.0</td>\n",
       "      <td>31/07/18</td>\n",
       "      <td>2</td>\n",
       "      <td>2.0</td>\n",
       "      <td>2815090</td>\n",
       "      <td>1.666667</td>\n",
       "    </tr>\n",
       "    <tr>\n",
       "      <th>2379</th>\n",
       "      <td>2787</td>\n",
       "      <td>6</td>\n",
       "      <td>28.0</td>\n",
       "      <td>C20</td>\n",
       "      <td>2</td>\n",
       "      <td>69498.0</td>\n",
       "      <td>21/07/18</td>\n",
       "      <td>1</td>\n",
       "      <td>1.0</td>\n",
       "      <td>977830</td>\n",
       "      <td>1.500000</td>\n",
       "    </tr>\n",
       "    <tr>\n",
       "      <th>2380</th>\n",
       "      <td>2788</td>\n",
       "      <td>7</td>\n",
       "      <td>30.0</td>\n",
       "      <td>C27</td>\n",
       "      <td>2</td>\n",
       "      <td>70254.0</td>\n",
       "      <td>06/08/20</td>\n",
       "      <td>2</td>\n",
       "      <td>2.0</td>\n",
       "      <td>2298240</td>\n",
       "      <td>2.285714</td>\n",
       "    </tr>\n",
       "  </tbody>\n",
       "</table>\n",
       "<p>2381 rows × 11 columns</p>\n",
       "</div>"
      ],
      "text/plain": [
       "      Driver_ID  No_of_Records   Age City  Education_Level   Income Date_of_joining  Joining_Designation  Grade  Total_Business_Value  Quarterly_Rating\n",
       "0             1              3  28.0  C23                2  57387.0        24/12/18                    1    1.0               1715580          2.000000\n",
       "1             2              2  31.0   C7                2  67016.0        11/06/20                    2    2.0                     0          1.000000\n",
       "2             4              5  43.0  C13                2  65603.0        12/07/19                    2    2.0                350000          1.000000\n",
       "3             5              3  29.0   C9                0  46368.0        01/09/19                    1    1.0                120360          1.000000\n",
       "4             6              5  31.0  C11                1  78728.0        31/07/20                    3    3.0               1265000          1.600000\n",
       "...         ...            ...   ...  ...              ...      ...             ...                  ...    ...                   ...               ...\n",
       "2376       2784             24  34.0  C24                0  82815.0        15/10/15                    2    3.0              21748820          2.625000\n",
       "2377       2785              3  34.0   C9                0  12105.0        28/08/20                    1    1.0                     0          1.000000\n",
       "2378       2786              9  45.0  C19                0  35370.0        31/07/18                    2    2.0               2815090          1.666667\n",
       "2379       2787              6  28.0  C20                2  69498.0        21/07/18                    1    1.0                977830          1.500000\n",
       "2380       2788              7  30.0  C27                2  70254.0        06/08/20                    2    2.0               2298240          2.285714\n",
       "\n",
       "[2381 rows x 11 columns]"
      ]
     },
     "execution_count": 15,
     "metadata": {},
     "output_type": "execute_result"
    }
   ],
   "source": [
    "final_data"
   ]
  },
  {
   "cell_type": "code",
   "execution_count": 16,
   "id": "89cb6ae1",
   "metadata": {},
   "outputs": [],
   "source": [
    "final_data = pd.merge(left = df.groupby([\"Driver_ID\"])[\"LastWorkingDate\"].unique().apply(lambda x:x[-1]),\n",
    "        right = final_data,\n",
    "         on = \"Driver_ID\",\n",
    "         how=\"outer\"\n",
    "    )"
   ]
  },
  {
   "cell_type": "code",
   "execution_count": 17,
   "id": "b6b3a6f6",
   "metadata": {},
   "outputs": [],
   "source": [
    "final_data = pd.merge(left = df.groupby([\"Driver_ID\"])[\"Gender\"].unique().apply(lambda x:x[-1]),\n",
    "        right = final_data,\n",
    "         on = \"Driver_ID\",\n",
    "         how=\"outer\"\n",
    "    )"
   ]
  },
  {
   "cell_type": "code",
   "execution_count": 18,
   "id": "81995306",
   "metadata": {},
   "outputs": [],
   "source": [
    "data = final_data.copy()"
   ]
  },
  {
   "cell_type": "code",
   "execution_count": 19,
   "id": "c608f9fd",
   "metadata": {},
   "outputs": [
    {
     "data": {
      "text/plain": [
       "Male      1380\n",
       "Female     956\n",
       "Name: Gender, dtype: int64"
      ]
     },
     "execution_count": 19,
     "metadata": {},
     "output_type": "execute_result"
    }
   ],
   "source": [
    "data[\"Gender\"].value_counts()"
   ]
  },
  {
   "cell_type": "code",
   "execution_count": null,
   "id": "b6ac8a54",
   "metadata": {},
   "outputs": [],
   "source": []
  },
  {
   "cell_type": "markdown",
   "id": "025b8b70",
   "metadata": {},
   "source": [
    "## Target variable creation: \n",
    "- ### target which tells whether the driver has left the company- driver whose last working day is present will have the value 1"
   ]
  },
  {
   "cell_type": "code",
   "execution_count": 20,
   "id": "284c3eb4",
   "metadata": {},
   "outputs": [
    {
     "data": {
      "text/plain": [
       "1    1616\n",
       "0     765\n",
       "dtype: int64"
      ]
     },
     "execution_count": 20,
     "metadata": {},
     "output_type": "execute_result"
    }
   ],
   "source": [
    "pd.Series(np.where(data[\"LastWorkingDate\"].isna(),0,1)).value_counts()"
   ]
  },
  {
   "cell_type": "code",
   "execution_count": 21,
   "id": "b8c97dca",
   "metadata": {},
   "outputs": [],
   "source": [
    "data[\"Churn\"] = data[\"LastWorkingDate\"].fillna(0)"
   ]
  },
  {
   "cell_type": "code",
   "execution_count": 22,
   "id": "cfc20094",
   "metadata": {},
   "outputs": [],
   "source": [
    "def apply_0_1(y):\n",
    "    if y == 0:\n",
    "        return 0\n",
    "    if y != 0:\n",
    "        return 1\n",
    "    "
   ]
  },
  {
   "cell_type": "code",
   "execution_count": 23,
   "id": "c9cf72e9",
   "metadata": {},
   "outputs": [],
   "source": [
    "data[\"Churn\"] = data[\"Churn\"].apply(apply_0_1)"
   ]
  },
  {
   "cell_type": "code",
   "execution_count": 24,
   "id": "56884933",
   "metadata": {},
   "outputs": [
    {
     "data": {
      "text/plain": [
       "1    1616\n",
       "0     765\n",
       "Name: Churn, dtype: int64"
      ]
     },
     "execution_count": 24,
     "metadata": {},
     "output_type": "execute_result"
    }
   ],
   "source": [
    "data[\"Churn\"].value_counts()"
   ]
  },
  {
   "cell_type": "code",
   "execution_count": null,
   "id": "1c9b0f57",
   "metadata": {},
   "outputs": [],
   "source": []
  },
  {
   "cell_type": "code",
   "execution_count": 25,
   "id": "539ba8e6",
   "metadata": {},
   "outputs": [
    {
     "data": {
      "text/plain": [
       "1    67.870643\n",
       "0    32.129357\n",
       "Name: Churn, dtype: float64"
      ]
     },
     "execution_count": 25,
     "metadata": {},
     "output_type": "execute_result"
    }
   ],
   "source": [
    "data[\"Churn\"].value_counts(normalize=True)*100"
   ]
  },
  {
   "cell_type": "markdown",
   "id": "78a40be7",
   "metadata": {},
   "source": [
    "- ###  class 1 is the driviers who churned . 68% \n",
    "- ###  class 0 is the driviers who have not churned . 32%\n",
    "\n",
    "- ### Data is imbalanced "
   ]
  },
  {
   "cell_type": "code",
   "execution_count": 26,
   "id": "f6a54f76",
   "metadata": {},
   "outputs": [],
   "source": [
    "# data[\"Total_Business_Value\"] = data[\"Total_Business_Value\"].replace({0:np.nan})"
   ]
  },
  {
   "cell_type": "markdown",
   "id": "b7334158",
   "metadata": {},
   "source": [
    "#### Converting date columns into Datatime format : "
   ]
  },
  {
   "cell_type": "code",
   "execution_count": 27,
   "id": "8cf0e743",
   "metadata": {},
   "outputs": [],
   "source": [
    "data[\"Date_of_joining\"] = pd.to_datetime(data[\"Date_of_joining\"])\n",
    "data[\"LastWorkingDate\"] = pd.to_datetime(data[\"LastWorkingDate\"])"
   ]
  },
  {
   "cell_type": "code",
   "execution_count": 28,
   "id": "0b3cbf37",
   "metadata": {},
   "outputs": [],
   "source": [
    "data[\"joining_Year\"] = data[\"Date_of_joining\"].dt.year\n"
   ]
  },
  {
   "cell_type": "code",
   "execution_count": 29,
   "id": "071c6202",
   "metadata": {},
   "outputs": [],
   "source": [
    "#  data[\"joining_month\"] = data[\"Date_of_joining\"].dt.month"
   ]
  },
  {
   "cell_type": "markdown",
   "id": "77d7250f",
   "metadata": {},
   "source": [
    "### checking for missing values after restructuring : "
   ]
  },
  {
   "cell_type": "code",
   "execution_count": 30,
   "id": "43959b4b",
   "metadata": {},
   "outputs": [
    {
     "data": {
      "text/plain": [
       "Driver_ID                0.000000\n",
       "Gender                   1.889962\n",
       "LastWorkingDate         32.129357\n",
       "No_of_Records            0.000000\n",
       "Age                      0.000000\n",
       "City                     0.000000\n",
       "Education_Level          0.000000\n",
       "Income                   0.000000\n",
       "Date_of_joining          0.000000\n",
       "Joining_Designation      0.000000\n",
       "Grade                    0.000000\n",
       "Total_Business_Value     0.000000\n",
       "Quarterly_Rating         0.000000\n",
       "Churn                    0.000000\n",
       "joining_Year             0.000000\n",
       "dtype: float64"
      ]
     },
     "execution_count": 30,
     "metadata": {},
     "output_type": "execute_result"
    }
   ],
   "source": [
    "(data.isna().sum()/len(data))*100"
   ]
  },
  {
   "cell_type": "code",
   "execution_count": 31,
   "id": "c8d78954",
   "metadata": {},
   "outputs": [
    {
     "data": {
      "text/plain": [
       "1    67.870643\n",
       "0    32.129357\n",
       "Name: Churn, dtype: float64"
      ]
     },
     "execution_count": 31,
     "metadata": {},
     "output_type": "execute_result"
    }
   ],
   "source": [
    "data[\"Churn\"].value_counts(normalize=True)*100"
   ]
  },
  {
   "cell_type": "markdown",
   "id": "e2dc8d7e",
   "metadata": {},
   "source": [
    "# Feature Engineering : "
   ]
  },
  {
   "cell_type": "markdown",
   "id": "3942c69c",
   "metadata": {},
   "source": [
    "### whether the quarterly rating has increased for that driver \n",
    "- #### for those whose quarterly rating has increased we assign the value 1\n",
    "\n",
    "   \n",
    "\n",
    "  "
   ]
  },
  {
   "cell_type": "code",
   "execution_count": null,
   "id": "a6e72a76",
   "metadata": {},
   "outputs": [],
   "source": []
  },
  {
   "cell_type": "code",
   "execution_count": 32,
   "id": "7b5e67ea",
   "metadata": {},
   "outputs": [],
   "source": [
    "def app_rating_inc(y):\n",
    "    \n",
    "    if len(y)>=2:\n",
    "        for i in range(len(y)):\n",
    "            if y[-1]>y[-2]:\n",
    "                return 1\n",
    "            else:\n",
    "                return 0\n",
    "    else:\n",
    "        return 0"
   ]
  },
  {
   "cell_type": "code",
   "execution_count": 33,
   "id": "23101f1c",
   "metadata": {
    "scrolled": false
   },
   "outputs": [],
   "source": [
    "Quarterly_Rating_increased = df.groupby(\"Driver_ID\")[\"Quarterly Rating\"].unique().apply(app_rating_inc)"
   ]
  },
  {
   "cell_type": "code",
   "execution_count": 34,
   "id": "8de5969c",
   "metadata": {},
   "outputs": [],
   "source": [
    "data = pd.merge(left = Quarterly_Rating_increased,\n",
    "        right = data,\n",
    "         on = \"Driver_ID\",\n",
    "         how=\"outer\"\n",
    "    )"
   ]
  },
  {
   "cell_type": "code",
   "execution_count": 35,
   "id": "20a28372",
   "metadata": {},
   "outputs": [],
   "source": [
    "# df.groupby(\"Driver_ID\")[\"Quarterly Rating\"].unique().apply(app_rating_inc)"
   ]
  },
  {
   "cell_type": "code",
   "execution_count": 36,
   "id": "18c612e0",
   "metadata": {},
   "outputs": [],
   "source": [
    "data[\"Quarterly_Rating_increased\"] = data[\"Quarterly Rating\"]"
   ]
  },
  {
   "cell_type": "code",
   "execution_count": 37,
   "id": "92cf0534",
   "metadata": {},
   "outputs": [],
   "source": [
    "data.drop([\"Quarterly Rating\"],axis=1,inplace=True)"
   ]
  },
  {
   "cell_type": "code",
   "execution_count": null,
   "id": "3ac7a86d",
   "metadata": {},
   "outputs": [],
   "source": []
  },
  {
   "cell_type": "code",
   "execution_count": null,
   "id": "f2877bd1",
   "metadata": {},
   "outputs": [],
   "source": []
  },
  {
   "cell_type": "code",
   "execution_count": null,
   "id": "427bfad4",
   "metadata": {},
   "outputs": [],
   "source": []
  },
  {
   "cell_type": "markdown",
   "id": "e34cbfbd",
   "metadata": {},
   "source": [
    "### whether the monthly income has increased for that driver - \n",
    "- #### for those whose monthly income has increased we assign the value 1"
   ]
  },
  {
   "cell_type": "code",
   "execution_count": 38,
   "id": "827e44a4",
   "metadata": {},
   "outputs": [],
   "source": [
    "def app_income_inc(y):\n",
    "    \n",
    "    if len(y)>=2:\n",
    "        for i in range(len(y)):\n",
    "            if y[-1]>y[-2]:\n",
    "                return 1\n",
    "            else:\n",
    "                return 0\n",
    "    else:\n",
    "        return 0"
   ]
  },
  {
   "cell_type": "code",
   "execution_count": 39,
   "id": "0c3296ab",
   "metadata": {},
   "outputs": [],
   "source": [
    "# df.groupby(\"Driver_ID\")[\"Income\"].unique().apply(app_income_inc).rename(\"Increased_Income\")"
   ]
  },
  {
   "cell_type": "code",
   "execution_count": 40,
   "id": "bc4ce3a9",
   "metadata": {},
   "outputs": [],
   "source": [
    "data = pd.merge(left = df.groupby(\"Driver_ID\")[\"Income\"].unique().apply(app_income_inc).rename(\"Increased_Income\"),\n",
    "        right = data,\n",
    "         on = \"Driver_ID\",\n",
    "         how=\"outer\"\n",
    "    )"
   ]
  },
  {
   "cell_type": "code",
   "execution_count": null,
   "id": "a91f7de7",
   "metadata": {},
   "outputs": [],
   "source": []
  },
  {
   "cell_type": "code",
   "execution_count": null,
   "id": "deaeaa70",
   "metadata": {},
   "outputs": [],
   "source": []
  },
  {
   "cell_type": "code",
   "execution_count": 41,
   "id": "690f9ae1",
   "metadata": {
    "scrolled": false
   },
   "outputs": [
    {
     "data": {
      "text/html": [
       "<div>\n",
       "<style scoped>\n",
       "    .dataframe tbody tr th:only-of-type {\n",
       "        vertical-align: middle;\n",
       "    }\n",
       "\n",
       "    .dataframe tbody tr th {\n",
       "        vertical-align: top;\n",
       "    }\n",
       "\n",
       "    .dataframe thead th {\n",
       "        text-align: right;\n",
       "    }\n",
       "</style>\n",
       "<table border=\"1\" class=\"dataframe\">\n",
       "  <thead>\n",
       "    <tr style=\"text-align: right;\">\n",
       "      <th></th>\n",
       "      <th>Driver_ID</th>\n",
       "      <th>Increased_Income</th>\n",
       "      <th>Gender</th>\n",
       "      <th>LastWorkingDate</th>\n",
       "      <th>No_of_Records</th>\n",
       "      <th>Age</th>\n",
       "      <th>City</th>\n",
       "      <th>Education_Level</th>\n",
       "      <th>Income</th>\n",
       "      <th>Date_of_joining</th>\n",
       "      <th>Joining_Designation</th>\n",
       "      <th>Grade</th>\n",
       "      <th>Total_Business_Value</th>\n",
       "      <th>Quarterly_Rating</th>\n",
       "      <th>Churn</th>\n",
       "      <th>joining_Year</th>\n",
       "      <th>Quarterly_Rating_increased</th>\n",
       "    </tr>\n",
       "  </thead>\n",
       "  <tbody>\n",
       "    <tr>\n",
       "      <th>0</th>\n",
       "      <td>1</td>\n",
       "      <td>0</td>\n",
       "      <td>Male</td>\n",
       "      <td>2019-03-11</td>\n",
       "      <td>3</td>\n",
       "      <td>28.0</td>\n",
       "      <td>C23</td>\n",
       "      <td>2</td>\n",
       "      <td>57387.0</td>\n",
       "      <td>2018-12-24</td>\n",
       "      <td>1</td>\n",
       "      <td>1.0</td>\n",
       "      <td>1715580</td>\n",
       "      <td>2.000000</td>\n",
       "      <td>1</td>\n",
       "      <td>2018</td>\n",
       "      <td>0</td>\n",
       "    </tr>\n",
       "    <tr>\n",
       "      <th>1</th>\n",
       "      <td>2</td>\n",
       "      <td>0</td>\n",
       "      <td>Male</td>\n",
       "      <td>NaT</td>\n",
       "      <td>2</td>\n",
       "      <td>31.0</td>\n",
       "      <td>C7</td>\n",
       "      <td>2</td>\n",
       "      <td>67016.0</td>\n",
       "      <td>2020-11-06</td>\n",
       "      <td>2</td>\n",
       "      <td>2.0</td>\n",
       "      <td>0</td>\n",
       "      <td>1.000000</td>\n",
       "      <td>0</td>\n",
       "      <td>2020</td>\n",
       "      <td>0</td>\n",
       "    </tr>\n",
       "    <tr>\n",
       "      <th>2</th>\n",
       "      <td>4</td>\n",
       "      <td>0</td>\n",
       "      <td>Male</td>\n",
       "      <td>2020-04-27</td>\n",
       "      <td>5</td>\n",
       "      <td>43.0</td>\n",
       "      <td>C13</td>\n",
       "      <td>2</td>\n",
       "      <td>65603.0</td>\n",
       "      <td>2019-12-07</td>\n",
       "      <td>2</td>\n",
       "      <td>2.0</td>\n",
       "      <td>350000</td>\n",
       "      <td>1.000000</td>\n",
       "      <td>1</td>\n",
       "      <td>2019</td>\n",
       "      <td>0</td>\n",
       "    </tr>\n",
       "    <tr>\n",
       "      <th>3</th>\n",
       "      <td>5</td>\n",
       "      <td>0</td>\n",
       "      <td>Male</td>\n",
       "      <td>2019-03-07</td>\n",
       "      <td>3</td>\n",
       "      <td>29.0</td>\n",
       "      <td>C9</td>\n",
       "      <td>0</td>\n",
       "      <td>46368.0</td>\n",
       "      <td>2019-01-09</td>\n",
       "      <td>1</td>\n",
       "      <td>1.0</td>\n",
       "      <td>120360</td>\n",
       "      <td>1.000000</td>\n",
       "      <td>1</td>\n",
       "      <td>2019</td>\n",
       "      <td>0</td>\n",
       "    </tr>\n",
       "    <tr>\n",
       "      <th>4</th>\n",
       "      <td>6</td>\n",
       "      <td>0</td>\n",
       "      <td>Female</td>\n",
       "      <td>NaT</td>\n",
       "      <td>5</td>\n",
       "      <td>31.0</td>\n",
       "      <td>C11</td>\n",
       "      <td>1</td>\n",
       "      <td>78728.0</td>\n",
       "      <td>2020-07-31</td>\n",
       "      <td>3</td>\n",
       "      <td>3.0</td>\n",
       "      <td>1265000</td>\n",
       "      <td>1.600000</td>\n",
       "      <td>0</td>\n",
       "      <td>2020</td>\n",
       "      <td>1</td>\n",
       "    </tr>\n",
       "    <tr>\n",
       "      <th>...</th>\n",
       "      <td>...</td>\n",
       "      <td>...</td>\n",
       "      <td>...</td>\n",
       "      <td>...</td>\n",
       "      <td>...</td>\n",
       "      <td>...</td>\n",
       "      <td>...</td>\n",
       "      <td>...</td>\n",
       "      <td>...</td>\n",
       "      <td>...</td>\n",
       "      <td>...</td>\n",
       "      <td>...</td>\n",
       "      <td>...</td>\n",
       "      <td>...</td>\n",
       "      <td>...</td>\n",
       "      <td>...</td>\n",
       "      <td>...</td>\n",
       "    </tr>\n",
       "    <tr>\n",
       "      <th>2376</th>\n",
       "      <td>2784</td>\n",
       "      <td>0</td>\n",
       "      <td>Male</td>\n",
       "      <td>NaT</td>\n",
       "      <td>24</td>\n",
       "      <td>34.0</td>\n",
       "      <td>C24</td>\n",
       "      <td>0</td>\n",
       "      <td>82815.0</td>\n",
       "      <td>2015-10-15</td>\n",
       "      <td>2</td>\n",
       "      <td>3.0</td>\n",
       "      <td>21748820</td>\n",
       "      <td>2.625000</td>\n",
       "      <td>0</td>\n",
       "      <td>2015</td>\n",
       "      <td>1</td>\n",
       "    </tr>\n",
       "    <tr>\n",
       "      <th>2377</th>\n",
       "      <td>2785</td>\n",
       "      <td>0</td>\n",
       "      <td>Female</td>\n",
       "      <td>2020-10-28</td>\n",
       "      <td>3</td>\n",
       "      <td>34.0</td>\n",
       "      <td>C9</td>\n",
       "      <td>0</td>\n",
       "      <td>12105.0</td>\n",
       "      <td>2020-08-28</td>\n",
       "      <td>1</td>\n",
       "      <td>1.0</td>\n",
       "      <td>0</td>\n",
       "      <td>1.000000</td>\n",
       "      <td>1</td>\n",
       "      <td>2020</td>\n",
       "      <td>0</td>\n",
       "    </tr>\n",
       "    <tr>\n",
       "      <th>2378</th>\n",
       "      <td>2786</td>\n",
       "      <td>0</td>\n",
       "      <td>Male</td>\n",
       "      <td>2019-09-22</td>\n",
       "      <td>9</td>\n",
       "      <td>45.0</td>\n",
       "      <td>C19</td>\n",
       "      <td>0</td>\n",
       "      <td>35370.0</td>\n",
       "      <td>2018-07-31</td>\n",
       "      <td>2</td>\n",
       "      <td>2.0</td>\n",
       "      <td>2815090</td>\n",
       "      <td>1.666667</td>\n",
       "      <td>1</td>\n",
       "      <td>2018</td>\n",
       "      <td>0</td>\n",
       "    </tr>\n",
       "    <tr>\n",
       "      <th>2379</th>\n",
       "      <td>2787</td>\n",
       "      <td>0</td>\n",
       "      <td>Female</td>\n",
       "      <td>2019-06-20</td>\n",
       "      <td>6</td>\n",
       "      <td>28.0</td>\n",
       "      <td>C20</td>\n",
       "      <td>2</td>\n",
       "      <td>69498.0</td>\n",
       "      <td>2018-07-21</td>\n",
       "      <td>1</td>\n",
       "      <td>1.0</td>\n",
       "      <td>977830</td>\n",
       "      <td>1.500000</td>\n",
       "      <td>1</td>\n",
       "      <td>2018</td>\n",
       "      <td>0</td>\n",
       "    </tr>\n",
       "    <tr>\n",
       "      <th>2380</th>\n",
       "      <td>2788</td>\n",
       "      <td>0</td>\n",
       "      <td>Male</td>\n",
       "      <td>NaT</td>\n",
       "      <td>7</td>\n",
       "      <td>30.0</td>\n",
       "      <td>C27</td>\n",
       "      <td>2</td>\n",
       "      <td>70254.0</td>\n",
       "      <td>2020-06-08</td>\n",
       "      <td>2</td>\n",
       "      <td>2.0</td>\n",
       "      <td>2298240</td>\n",
       "      <td>2.285714</td>\n",
       "      <td>0</td>\n",
       "      <td>2020</td>\n",
       "      <td>0</td>\n",
       "    </tr>\n",
       "  </tbody>\n",
       "</table>\n",
       "<p>2381 rows × 17 columns</p>\n",
       "</div>"
      ],
      "text/plain": [
       "      Driver_ID  Increased_Income  Gender LastWorkingDate  No_of_Records   Age City  Education_Level   Income Date_of_joining  Joining_Designation  Grade  Total_Business_Value  Quarterly_Rating  Churn  joining_Year  Quarterly_Rating_increased\n",
       "0             1                 0    Male      2019-03-11              3  28.0  C23                2  57387.0      2018-12-24                    1    1.0               1715580          2.000000      1          2018                           0\n",
       "1             2                 0    Male             NaT              2  31.0   C7                2  67016.0      2020-11-06                    2    2.0                     0          1.000000      0          2020                           0\n",
       "2             4                 0    Male      2020-04-27              5  43.0  C13                2  65603.0      2019-12-07                    2    2.0                350000          1.000000      1          2019                           0\n",
       "3             5                 0    Male      2019-03-07              3  29.0   C9                0  46368.0      2019-01-09                    1    1.0                120360          1.000000      1          2019                           0\n",
       "4             6                 0  Female             NaT              5  31.0  C11                1  78728.0      2020-07-31                    3    3.0               1265000          1.600000      0          2020                           1\n",
       "...         ...               ...     ...             ...            ...   ...  ...              ...      ...             ...                  ...    ...                   ...               ...    ...           ...                         ...\n",
       "2376       2784                 0    Male             NaT             24  34.0  C24                0  82815.0      2015-10-15                    2    3.0              21748820          2.625000      0          2015                           1\n",
       "2377       2785                 0  Female      2020-10-28              3  34.0   C9                0  12105.0      2020-08-28                    1    1.0                     0          1.000000      1          2020                           0\n",
       "2378       2786                 0    Male      2019-09-22              9  45.0  C19                0  35370.0      2018-07-31                    2    2.0               2815090          1.666667      1          2018                           0\n",
       "2379       2787                 0  Female      2019-06-20              6  28.0  C20                2  69498.0      2018-07-21                    1    1.0                977830          1.500000      1          2018                           0\n",
       "2380       2788                 0    Male             NaT              7  30.0  C27                2  70254.0      2020-06-08                    2    2.0               2298240          2.285714      0          2020                           0\n",
       "\n",
       "[2381 rows x 17 columns]"
      ]
     },
     "execution_count": 41,
     "metadata": {},
     "output_type": "execute_result"
    }
   ],
   "source": [
    "data"
   ]
  },
  {
   "cell_type": "code",
   "execution_count": null,
   "id": "405b003b",
   "metadata": {},
   "outputs": [],
   "source": []
  },
  {
   "cell_type": "code",
   "execution_count": 42,
   "id": "70ec9526",
   "metadata": {},
   "outputs": [],
   "source": [
    "Mdata = data.copy()"
   ]
  },
  {
   "cell_type": "code",
   "execution_count": 43,
   "id": "15e91699",
   "metadata": {},
   "outputs": [],
   "source": [
    "Mdata[\"Gender\"].replace({\"Male\":0,\n",
    "                       \"Female\":1},inplace=True)"
   ]
  },
  {
   "cell_type": "code",
   "execution_count": 44,
   "id": "e8123064",
   "metadata": {},
   "outputs": [],
   "source": [
    "Mdata.drop([\"Driver_ID\"],axis = 1, inplace=True)"
   ]
  },
  {
   "cell_type": "code",
   "execution_count": 45,
   "id": "e266a409",
   "metadata": {},
   "outputs": [
    {
     "data": {
      "text/plain": [
       "Increased_Income                0\n",
       "Gender                         45\n",
       "LastWorkingDate               765\n",
       "No_of_Records                   0\n",
       "Age                             0\n",
       "City                            0\n",
       "Education_Level                 0\n",
       "Income                          0\n",
       "Date_of_joining                 0\n",
       "Joining_Designation             0\n",
       "Grade                           0\n",
       "Total_Business_Value            0\n",
       "Quarterly_Rating                0\n",
       "Churn                           0\n",
       "joining_Year                    0\n",
       "Quarterly_Rating_increased      0\n",
       "dtype: int64"
      ]
     },
     "execution_count": 45,
     "metadata": {},
     "output_type": "execute_result"
    }
   ],
   "source": [
    "Mdata.isna().sum()"
   ]
  },
  {
   "cell_type": "code",
   "execution_count": 46,
   "id": "101c3905",
   "metadata": {},
   "outputs": [
    {
     "data": {
      "text/html": [
       "<div>\n",
       "<style scoped>\n",
       "    .dataframe tbody tr th:only-of-type {\n",
       "        vertical-align: middle;\n",
       "    }\n",
       "\n",
       "    .dataframe tbody tr th {\n",
       "        vertical-align: top;\n",
       "    }\n",
       "\n",
       "    .dataframe thead th {\n",
       "        text-align: right;\n",
       "    }\n",
       "</style>\n",
       "<table border=\"1\" class=\"dataframe\">\n",
       "  <thead>\n",
       "    <tr style=\"text-align: right;\">\n",
       "      <th></th>\n",
       "      <th>Increased_Income</th>\n",
       "      <th>Gender</th>\n",
       "      <th>LastWorkingDate</th>\n",
       "      <th>No_of_Records</th>\n",
       "      <th>Age</th>\n",
       "      <th>City</th>\n",
       "      <th>Education_Level</th>\n",
       "      <th>Income</th>\n",
       "      <th>Date_of_joining</th>\n",
       "      <th>Joining_Designation</th>\n",
       "      <th>Grade</th>\n",
       "      <th>Total_Business_Value</th>\n",
       "      <th>Quarterly_Rating</th>\n",
       "      <th>Churn</th>\n",
       "      <th>joining_Year</th>\n",
       "      <th>Quarterly_Rating_increased</th>\n",
       "    </tr>\n",
       "  </thead>\n",
       "  <tbody>\n",
       "    <tr>\n",
       "      <th>0</th>\n",
       "      <td>0</td>\n",
       "      <td>0.0</td>\n",
       "      <td>2019-03-11</td>\n",
       "      <td>3</td>\n",
       "      <td>28.0</td>\n",
       "      <td>C23</td>\n",
       "      <td>2</td>\n",
       "      <td>57387.0</td>\n",
       "      <td>2018-12-24</td>\n",
       "      <td>1</td>\n",
       "      <td>1.0</td>\n",
       "      <td>1715580</td>\n",
       "      <td>2.000000</td>\n",
       "      <td>1</td>\n",
       "      <td>2018</td>\n",
       "      <td>0</td>\n",
       "    </tr>\n",
       "    <tr>\n",
       "      <th>1</th>\n",
       "      <td>0</td>\n",
       "      <td>0.0</td>\n",
       "      <td>NaT</td>\n",
       "      <td>2</td>\n",
       "      <td>31.0</td>\n",
       "      <td>C7</td>\n",
       "      <td>2</td>\n",
       "      <td>67016.0</td>\n",
       "      <td>2020-11-06</td>\n",
       "      <td>2</td>\n",
       "      <td>2.0</td>\n",
       "      <td>0</td>\n",
       "      <td>1.000000</td>\n",
       "      <td>0</td>\n",
       "      <td>2020</td>\n",
       "      <td>0</td>\n",
       "    </tr>\n",
       "    <tr>\n",
       "      <th>2</th>\n",
       "      <td>0</td>\n",
       "      <td>0.0</td>\n",
       "      <td>2020-04-27</td>\n",
       "      <td>5</td>\n",
       "      <td>43.0</td>\n",
       "      <td>C13</td>\n",
       "      <td>2</td>\n",
       "      <td>65603.0</td>\n",
       "      <td>2019-12-07</td>\n",
       "      <td>2</td>\n",
       "      <td>2.0</td>\n",
       "      <td>350000</td>\n",
       "      <td>1.000000</td>\n",
       "      <td>1</td>\n",
       "      <td>2019</td>\n",
       "      <td>0</td>\n",
       "    </tr>\n",
       "    <tr>\n",
       "      <th>3</th>\n",
       "      <td>0</td>\n",
       "      <td>0.0</td>\n",
       "      <td>2019-03-07</td>\n",
       "      <td>3</td>\n",
       "      <td>29.0</td>\n",
       "      <td>C9</td>\n",
       "      <td>0</td>\n",
       "      <td>46368.0</td>\n",
       "      <td>2019-01-09</td>\n",
       "      <td>1</td>\n",
       "      <td>1.0</td>\n",
       "      <td>120360</td>\n",
       "      <td>1.000000</td>\n",
       "      <td>1</td>\n",
       "      <td>2019</td>\n",
       "      <td>0</td>\n",
       "    </tr>\n",
       "    <tr>\n",
       "      <th>4</th>\n",
       "      <td>0</td>\n",
       "      <td>1.0</td>\n",
       "      <td>NaT</td>\n",
       "      <td>5</td>\n",
       "      <td>31.0</td>\n",
       "      <td>C11</td>\n",
       "      <td>1</td>\n",
       "      <td>78728.0</td>\n",
       "      <td>2020-07-31</td>\n",
       "      <td>3</td>\n",
       "      <td>3.0</td>\n",
       "      <td>1265000</td>\n",
       "      <td>1.600000</td>\n",
       "      <td>0</td>\n",
       "      <td>2020</td>\n",
       "      <td>1</td>\n",
       "    </tr>\n",
       "    <tr>\n",
       "      <th>...</th>\n",
       "      <td>...</td>\n",
       "      <td>...</td>\n",
       "      <td>...</td>\n",
       "      <td>...</td>\n",
       "      <td>...</td>\n",
       "      <td>...</td>\n",
       "      <td>...</td>\n",
       "      <td>...</td>\n",
       "      <td>...</td>\n",
       "      <td>...</td>\n",
       "      <td>...</td>\n",
       "      <td>...</td>\n",
       "      <td>...</td>\n",
       "      <td>...</td>\n",
       "      <td>...</td>\n",
       "      <td>...</td>\n",
       "    </tr>\n",
       "    <tr>\n",
       "      <th>2376</th>\n",
       "      <td>0</td>\n",
       "      <td>0.0</td>\n",
       "      <td>NaT</td>\n",
       "      <td>24</td>\n",
       "      <td>34.0</td>\n",
       "      <td>C24</td>\n",
       "      <td>0</td>\n",
       "      <td>82815.0</td>\n",
       "      <td>2015-10-15</td>\n",
       "      <td>2</td>\n",
       "      <td>3.0</td>\n",
       "      <td>21748820</td>\n",
       "      <td>2.625000</td>\n",
       "      <td>0</td>\n",
       "      <td>2015</td>\n",
       "      <td>1</td>\n",
       "    </tr>\n",
       "    <tr>\n",
       "      <th>2377</th>\n",
       "      <td>0</td>\n",
       "      <td>1.0</td>\n",
       "      <td>2020-10-28</td>\n",
       "      <td>3</td>\n",
       "      <td>34.0</td>\n",
       "      <td>C9</td>\n",
       "      <td>0</td>\n",
       "      <td>12105.0</td>\n",
       "      <td>2020-08-28</td>\n",
       "      <td>1</td>\n",
       "      <td>1.0</td>\n",
       "      <td>0</td>\n",
       "      <td>1.000000</td>\n",
       "      <td>1</td>\n",
       "      <td>2020</td>\n",
       "      <td>0</td>\n",
       "    </tr>\n",
       "    <tr>\n",
       "      <th>2378</th>\n",
       "      <td>0</td>\n",
       "      <td>0.0</td>\n",
       "      <td>2019-09-22</td>\n",
       "      <td>9</td>\n",
       "      <td>45.0</td>\n",
       "      <td>C19</td>\n",
       "      <td>0</td>\n",
       "      <td>35370.0</td>\n",
       "      <td>2018-07-31</td>\n",
       "      <td>2</td>\n",
       "      <td>2.0</td>\n",
       "      <td>2815090</td>\n",
       "      <td>1.666667</td>\n",
       "      <td>1</td>\n",
       "      <td>2018</td>\n",
       "      <td>0</td>\n",
       "    </tr>\n",
       "    <tr>\n",
       "      <th>2379</th>\n",
       "      <td>0</td>\n",
       "      <td>1.0</td>\n",
       "      <td>2019-06-20</td>\n",
       "      <td>6</td>\n",
       "      <td>28.0</td>\n",
       "      <td>C20</td>\n",
       "      <td>2</td>\n",
       "      <td>69498.0</td>\n",
       "      <td>2018-07-21</td>\n",
       "      <td>1</td>\n",
       "      <td>1.0</td>\n",
       "      <td>977830</td>\n",
       "      <td>1.500000</td>\n",
       "      <td>1</td>\n",
       "      <td>2018</td>\n",
       "      <td>0</td>\n",
       "    </tr>\n",
       "    <tr>\n",
       "      <th>2380</th>\n",
       "      <td>0</td>\n",
       "      <td>0.0</td>\n",
       "      <td>NaT</td>\n",
       "      <td>7</td>\n",
       "      <td>30.0</td>\n",
       "      <td>C27</td>\n",
       "      <td>2</td>\n",
       "      <td>70254.0</td>\n",
       "      <td>2020-06-08</td>\n",
       "      <td>2</td>\n",
       "      <td>2.0</td>\n",
       "      <td>2298240</td>\n",
       "      <td>2.285714</td>\n",
       "      <td>0</td>\n",
       "      <td>2020</td>\n",
       "      <td>0</td>\n",
       "    </tr>\n",
       "  </tbody>\n",
       "</table>\n",
       "<p>2381 rows × 16 columns</p>\n",
       "</div>"
      ],
      "text/plain": [
       "      Increased_Income  Gender LastWorkingDate  No_of_Records   Age City  Education_Level   Income Date_of_joining  Joining_Designation  Grade  Total_Business_Value  Quarterly_Rating  Churn  joining_Year  Quarterly_Rating_increased\n",
       "0                    0     0.0      2019-03-11              3  28.0  C23                2  57387.0      2018-12-24                    1    1.0               1715580          2.000000      1          2018                           0\n",
       "1                    0     0.0             NaT              2  31.0   C7                2  67016.0      2020-11-06                    2    2.0                     0          1.000000      0          2020                           0\n",
       "2                    0     0.0      2020-04-27              5  43.0  C13                2  65603.0      2019-12-07                    2    2.0                350000          1.000000      1          2019                           0\n",
       "3                    0     0.0      2019-03-07              3  29.0   C9                0  46368.0      2019-01-09                    1    1.0                120360          1.000000      1          2019                           0\n",
       "4                    0     1.0             NaT              5  31.0  C11                1  78728.0      2020-07-31                    3    3.0               1265000          1.600000      0          2020                           1\n",
       "...                ...     ...             ...            ...   ...  ...              ...      ...             ...                  ...    ...                   ...               ...    ...           ...                         ...\n",
       "2376                 0     0.0             NaT             24  34.0  C24                0  82815.0      2015-10-15                    2    3.0              21748820          2.625000      0          2015                           1\n",
       "2377                 0     1.0      2020-10-28              3  34.0   C9                0  12105.0      2020-08-28                    1    1.0                     0          1.000000      1          2020                           0\n",
       "2378                 0     0.0      2019-09-22              9  45.0  C19                0  35370.0      2018-07-31                    2    2.0               2815090          1.666667      1          2018                           0\n",
       "2379                 0     1.0      2019-06-20              6  28.0  C20                2  69498.0      2018-07-21                    1    1.0                977830          1.500000      1          2018                           0\n",
       "2380                 0     0.0             NaT              7  30.0  C27                2  70254.0      2020-06-08                    2    2.0               2298240          2.285714      0          2020                           0\n",
       "\n",
       "[2381 rows x 16 columns]"
      ]
     },
     "execution_count": 46,
     "metadata": {},
     "output_type": "execute_result"
    }
   ],
   "source": [
    "Mdata"
   ]
  },
  {
   "cell_type": "code",
   "execution_count": 47,
   "id": "76a02c09",
   "metadata": {},
   "outputs": [
    {
     "data": {
      "text/plain": [
       "Timestamp('2021-06-01 00:00:00')"
      ]
     },
     "execution_count": 47,
     "metadata": {},
     "output_type": "execute_result"
    }
   ],
   "source": [
    "pd.to_datetime(\"2021-06-01\")"
   ]
  },
  {
   "cell_type": "code",
   "execution_count": 48,
   "id": "b9d33af2",
   "metadata": {},
   "outputs": [],
   "source": [
    "Mdata[\"LastWorkingDate\"] = Mdata[\"LastWorkingDate\"].fillna(pd.to_datetime(\"2021-06-01\"))"
   ]
  },
  {
   "cell_type": "code",
   "execution_count": 49,
   "id": "72be6d57",
   "metadata": {},
   "outputs": [
    {
     "data": {
      "text/plain": [
       "0        77 days\n",
       "1       207 days\n",
       "2       142 days\n",
       "3        57 days\n",
       "4       305 days\n",
       "          ...   \n",
       "2376   2056 days\n",
       "2377     61 days\n",
       "2378    418 days\n",
       "2379    334 days\n",
       "2380    358 days\n",
       "Length: 2381, dtype: timedelta64[ns]"
      ]
     },
     "execution_count": 49,
     "metadata": {},
     "output_type": "execute_result"
    }
   ],
   "source": [
    "(Mdata[\"LastWorkingDate\"] - Mdata[\"Date_of_joining\"])"
   ]
  },
  {
   "cell_type": "code",
   "execution_count": 50,
   "id": "de2a1f09",
   "metadata": {},
   "outputs": [],
   "source": [
    "Mdata[\"Driver_tenure_days\"] = (Mdata[\"LastWorkingDate\"] - Mdata[\"Date_of_joining\"])"
   ]
  },
  {
   "cell_type": "code",
   "execution_count": 51,
   "id": "f783475e",
   "metadata": {},
   "outputs": [],
   "source": [
    "Mdata[\"Driver_tenure_days\"] = Mdata[\"Driver_tenure_days\"].dt.days"
   ]
  },
  {
   "cell_type": "code",
   "execution_count": 52,
   "id": "bdc304c9",
   "metadata": {},
   "outputs": [],
   "source": [
    "Mdata.drop([\"LastWorkingDate\",\"Date_of_joining\"],inplace=True,axis = 1)"
   ]
  },
  {
   "cell_type": "code",
   "execution_count": 53,
   "id": "2debbdf4",
   "metadata": {},
   "outputs": [],
   "source": [
    "Mdata.drop([\"Driver_tenure_days\"],inplace=True,axis = 1)"
   ]
  },
  {
   "cell_type": "code",
   "execution_count": null,
   "id": "b0412c07",
   "metadata": {},
   "outputs": [],
   "source": []
  },
  {
   "cell_type": "code",
   "execution_count": null,
   "id": "cb371c5e",
   "metadata": {},
   "outputs": [],
   "source": []
  },
  {
   "cell_type": "code",
   "execution_count": null,
   "id": "74ffafbe",
   "metadata": {},
   "outputs": [],
   "source": []
  },
  {
   "cell_type": "code",
   "execution_count": 54,
   "id": "0dfd5bfc",
   "metadata": {},
   "outputs": [
    {
     "data": {
      "text/html": [
       "<div>\n",
       "<style scoped>\n",
       "    .dataframe tbody tr th:only-of-type {\n",
       "        vertical-align: middle;\n",
       "    }\n",
       "\n",
       "    .dataframe tbody tr th {\n",
       "        vertical-align: top;\n",
       "    }\n",
       "\n",
       "    .dataframe thead th {\n",
       "        text-align: right;\n",
       "    }\n",
       "</style>\n",
       "<table border=\"1\" class=\"dataframe\">\n",
       "  <thead>\n",
       "    <tr style=\"text-align: right;\">\n",
       "      <th></th>\n",
       "      <th>Increased_Income</th>\n",
       "      <th>Gender</th>\n",
       "      <th>No_of_Records</th>\n",
       "      <th>Age</th>\n",
       "      <th>City</th>\n",
       "      <th>Education_Level</th>\n",
       "      <th>Income</th>\n",
       "      <th>Joining_Designation</th>\n",
       "      <th>Grade</th>\n",
       "      <th>Total_Business_Value</th>\n",
       "      <th>Quarterly_Rating</th>\n",
       "      <th>Churn</th>\n",
       "      <th>joining_Year</th>\n",
       "      <th>Quarterly_Rating_increased</th>\n",
       "    </tr>\n",
       "  </thead>\n",
       "  <tbody>\n",
       "    <tr>\n",
       "      <th>0</th>\n",
       "      <td>0</td>\n",
       "      <td>0.0</td>\n",
       "      <td>3</td>\n",
       "      <td>28.0</td>\n",
       "      <td>C23</td>\n",
       "      <td>2</td>\n",
       "      <td>57387.0</td>\n",
       "      <td>1</td>\n",
       "      <td>1.0</td>\n",
       "      <td>1715580</td>\n",
       "      <td>2.000000</td>\n",
       "      <td>1</td>\n",
       "      <td>2018</td>\n",
       "      <td>0</td>\n",
       "    </tr>\n",
       "    <tr>\n",
       "      <th>1</th>\n",
       "      <td>0</td>\n",
       "      <td>0.0</td>\n",
       "      <td>2</td>\n",
       "      <td>31.0</td>\n",
       "      <td>C7</td>\n",
       "      <td>2</td>\n",
       "      <td>67016.0</td>\n",
       "      <td>2</td>\n",
       "      <td>2.0</td>\n",
       "      <td>0</td>\n",
       "      <td>1.000000</td>\n",
       "      <td>0</td>\n",
       "      <td>2020</td>\n",
       "      <td>0</td>\n",
       "    </tr>\n",
       "    <tr>\n",
       "      <th>2</th>\n",
       "      <td>0</td>\n",
       "      <td>0.0</td>\n",
       "      <td>5</td>\n",
       "      <td>43.0</td>\n",
       "      <td>C13</td>\n",
       "      <td>2</td>\n",
       "      <td>65603.0</td>\n",
       "      <td>2</td>\n",
       "      <td>2.0</td>\n",
       "      <td>350000</td>\n",
       "      <td>1.000000</td>\n",
       "      <td>1</td>\n",
       "      <td>2019</td>\n",
       "      <td>0</td>\n",
       "    </tr>\n",
       "    <tr>\n",
       "      <th>3</th>\n",
       "      <td>0</td>\n",
       "      <td>0.0</td>\n",
       "      <td>3</td>\n",
       "      <td>29.0</td>\n",
       "      <td>C9</td>\n",
       "      <td>0</td>\n",
       "      <td>46368.0</td>\n",
       "      <td>1</td>\n",
       "      <td>1.0</td>\n",
       "      <td>120360</td>\n",
       "      <td>1.000000</td>\n",
       "      <td>1</td>\n",
       "      <td>2019</td>\n",
       "      <td>0</td>\n",
       "    </tr>\n",
       "    <tr>\n",
       "      <th>4</th>\n",
       "      <td>0</td>\n",
       "      <td>1.0</td>\n",
       "      <td>5</td>\n",
       "      <td>31.0</td>\n",
       "      <td>C11</td>\n",
       "      <td>1</td>\n",
       "      <td>78728.0</td>\n",
       "      <td>3</td>\n",
       "      <td>3.0</td>\n",
       "      <td>1265000</td>\n",
       "      <td>1.600000</td>\n",
       "      <td>0</td>\n",
       "      <td>2020</td>\n",
       "      <td>1</td>\n",
       "    </tr>\n",
       "    <tr>\n",
       "      <th>...</th>\n",
       "      <td>...</td>\n",
       "      <td>...</td>\n",
       "      <td>...</td>\n",
       "      <td>...</td>\n",
       "      <td>...</td>\n",
       "      <td>...</td>\n",
       "      <td>...</td>\n",
       "      <td>...</td>\n",
       "      <td>...</td>\n",
       "      <td>...</td>\n",
       "      <td>...</td>\n",
       "      <td>...</td>\n",
       "      <td>...</td>\n",
       "      <td>...</td>\n",
       "    </tr>\n",
       "    <tr>\n",
       "      <th>2376</th>\n",
       "      <td>0</td>\n",
       "      <td>0.0</td>\n",
       "      <td>24</td>\n",
       "      <td>34.0</td>\n",
       "      <td>C24</td>\n",
       "      <td>0</td>\n",
       "      <td>82815.0</td>\n",
       "      <td>2</td>\n",
       "      <td>3.0</td>\n",
       "      <td>21748820</td>\n",
       "      <td>2.625000</td>\n",
       "      <td>0</td>\n",
       "      <td>2015</td>\n",
       "      <td>1</td>\n",
       "    </tr>\n",
       "    <tr>\n",
       "      <th>2377</th>\n",
       "      <td>0</td>\n",
       "      <td>1.0</td>\n",
       "      <td>3</td>\n",
       "      <td>34.0</td>\n",
       "      <td>C9</td>\n",
       "      <td>0</td>\n",
       "      <td>12105.0</td>\n",
       "      <td>1</td>\n",
       "      <td>1.0</td>\n",
       "      <td>0</td>\n",
       "      <td>1.000000</td>\n",
       "      <td>1</td>\n",
       "      <td>2020</td>\n",
       "      <td>0</td>\n",
       "    </tr>\n",
       "    <tr>\n",
       "      <th>2378</th>\n",
       "      <td>0</td>\n",
       "      <td>0.0</td>\n",
       "      <td>9</td>\n",
       "      <td>45.0</td>\n",
       "      <td>C19</td>\n",
       "      <td>0</td>\n",
       "      <td>35370.0</td>\n",
       "      <td>2</td>\n",
       "      <td>2.0</td>\n",
       "      <td>2815090</td>\n",
       "      <td>1.666667</td>\n",
       "      <td>1</td>\n",
       "      <td>2018</td>\n",
       "      <td>0</td>\n",
       "    </tr>\n",
       "    <tr>\n",
       "      <th>2379</th>\n",
       "      <td>0</td>\n",
       "      <td>1.0</td>\n",
       "      <td>6</td>\n",
       "      <td>28.0</td>\n",
       "      <td>C20</td>\n",
       "      <td>2</td>\n",
       "      <td>69498.0</td>\n",
       "      <td>1</td>\n",
       "      <td>1.0</td>\n",
       "      <td>977830</td>\n",
       "      <td>1.500000</td>\n",
       "      <td>1</td>\n",
       "      <td>2018</td>\n",
       "      <td>0</td>\n",
       "    </tr>\n",
       "    <tr>\n",
       "      <th>2380</th>\n",
       "      <td>0</td>\n",
       "      <td>0.0</td>\n",
       "      <td>7</td>\n",
       "      <td>30.0</td>\n",
       "      <td>C27</td>\n",
       "      <td>2</td>\n",
       "      <td>70254.0</td>\n",
       "      <td>2</td>\n",
       "      <td>2.0</td>\n",
       "      <td>2298240</td>\n",
       "      <td>2.285714</td>\n",
       "      <td>0</td>\n",
       "      <td>2020</td>\n",
       "      <td>0</td>\n",
       "    </tr>\n",
       "  </tbody>\n",
       "</table>\n",
       "<p>2381 rows × 14 columns</p>\n",
       "</div>"
      ],
      "text/plain": [
       "      Increased_Income  Gender  No_of_Records   Age City  Education_Level   Income  Joining_Designation  Grade  Total_Business_Value  Quarterly_Rating  Churn  joining_Year  Quarterly_Rating_increased\n",
       "0                    0     0.0              3  28.0  C23                2  57387.0                    1    1.0               1715580          2.000000      1          2018                           0\n",
       "1                    0     0.0              2  31.0   C7                2  67016.0                    2    2.0                     0          1.000000      0          2020                           0\n",
       "2                    0     0.0              5  43.0  C13                2  65603.0                    2    2.0                350000          1.000000      1          2019                           0\n",
       "3                    0     0.0              3  29.0   C9                0  46368.0                    1    1.0                120360          1.000000      1          2019                           0\n",
       "4                    0     1.0              5  31.0  C11                1  78728.0                    3    3.0               1265000          1.600000      0          2020                           1\n",
       "...                ...     ...            ...   ...  ...              ...      ...                  ...    ...                   ...               ...    ...           ...                         ...\n",
       "2376                 0     0.0             24  34.0  C24                0  82815.0                    2    3.0              21748820          2.625000      0          2015                           1\n",
       "2377                 0     1.0              3  34.0   C9                0  12105.0                    1    1.0                     0          1.000000      1          2020                           0\n",
       "2378                 0     0.0              9  45.0  C19                0  35370.0                    2    2.0               2815090          1.666667      1          2018                           0\n",
       "2379                 0     1.0              6  28.0  C20                2  69498.0                    1    1.0                977830          1.500000      1          2018                           0\n",
       "2380                 0     0.0              7  30.0  C27                2  70254.0                    2    2.0               2298240          2.285714      0          2020                           0\n",
       "\n",
       "[2381 rows x 14 columns]"
      ]
     },
     "execution_count": 54,
     "metadata": {},
     "output_type": "execute_result"
    }
   ],
   "source": [
    "Mdata"
   ]
  },
  {
   "cell_type": "code",
   "execution_count": 55,
   "id": "054aaa98",
   "metadata": {},
   "outputs": [
    {
     "data": {
      "text/plain": [
       "Index(['Increased_Income', 'Gender', 'No_of_Records', 'Age', 'City', 'Education_Level', 'Income', 'Joining_Designation', 'Grade', 'Total_Business_Value', 'Quarterly_Rating', 'Churn', 'joining_Year', 'Quarterly_Rating_increased'], dtype='object')"
      ]
     },
     "execution_count": 55,
     "metadata": {},
     "output_type": "execute_result"
    }
   ],
   "source": [
    "Mdata.columns"
   ]
  },
  {
   "cell_type": "code",
   "execution_count": 56,
   "id": "42d43671",
   "metadata": {},
   "outputs": [],
   "source": [
    "Mdata[\"Grade\"] = np.round(Mdata[\"Grade\"])"
   ]
  },
  {
   "cell_type": "code",
   "execution_count": 57,
   "id": "506ba155",
   "metadata": {},
   "outputs": [],
   "source": [
    "Mdata[\"Quarterly_Rating\"]= Mdata[\"Quarterly_Rating\"].round()"
   ]
  },
  {
   "cell_type": "code",
   "execution_count": 58,
   "id": "62e9ba8d",
   "metadata": {
    "scrolled": false
   },
   "outputs": [
    {
     "data": {
      "image/png": "[encoded data removed]",
      "text/plain": [
       "<Figure size 432x288 with 1 Axes>"
      ]
     },
     "metadata": {
      "needs_background": "light"
     },
     "output_type": "display_data"
    },
    {
     "data": {
      "image/png": "[encoded data removed]",
      "text/plain": [
       "<Figure size 432x288 with 1 Axes>"
      ]
     },
     "metadata": {
      "needs_background": "light"
     },
     "output_type": "display_data"
    },
    {
     "data": {
      "image/png": "[encoded data removed]",
      "text/plain": [
       "<Figure size 432x288 with 1 Axes>"
      ]
     },
     "metadata": {
      "needs_background": "light"
     },
     "output_type": "display_data"
    },
    {
     "data": {
      "image/png": "[encoded data removed]",
      "text/plain": [
       "<Figure size 432x288 with 1 Axes>"
      ]
     },
     "metadata": {
      "needs_background": "light"
     },
     "output_type": "display_data"
    },
    {
     "data": {
      "image/png": "[encoded data removed]",
      "text/plain": [
       "<Figure size 432x288 with 1 Axes>"
      ]
     },
     "metadata": {
      "needs_background": "light"
     },
     "output_type": "display_data"
    },
    {
     "data": {
      "image/png": "[encoded data removed]",
      "text/plain": [
       "<Figure size 432x288 with 1 Axes>"
      ]
     },
     "metadata": {
      "needs_background": "light"
     },
     "output_type": "display_data"
    },
    {
     "data": {
      "image/png": "[encoded data removed]",
      "text/plain": [
       "<Figure size 432x288 with 1 Axes>"
      ]
     },
     "metadata": {
      "needs_background": "light"
     },
     "output_type": "display_data"
    },
    {
     "data": {
      "image/png": "[encoded data removed]",
      "text/plain": [
       "<Figure size 432x288 with 1 Axes>"
      ]
     },
     "metadata": {
      "needs_background": "light"
     },
     "output_type": "display_data"
    },
    {
     "data": {
      "image/png": "[encoded data removed]",
      "text/plain": [
       "<Figure size 432x288 with 1 Axes>"
      ]
     },
     "metadata": {
      "needs_background": "light"
     },
     "output_type": "display_data"
    }
   ],
   "source": [
    "categorical_features = ['Increased_Income', 'Gender','City','Education_Level',\n",
    "                   'Joining_Designation','Grade','Quarterly_Rating','Quarterly_Rating_increased',\"joining_Year\"]\n",
    "\n",
    "for col in categorical_features:\n",
    "    pd.crosstab(index = Mdata[col],\n",
    "               columns = Mdata[\"Churn\"],\n",
    "               normalize=\"columns\").plot(kind = \"bar\")\n",
    "    plt.show()"
   ]
  },
  {
   "cell_type": "code",
   "execution_count": null,
   "id": "dcdee5b3",
   "metadata": {},
   "outputs": [],
   "source": []
  },
  {
   "cell_type": "code",
   "execution_count": null,
   "id": "e003d1ce",
   "metadata": {},
   "outputs": [],
   "source": []
  },
  {
   "cell_type": "code",
   "execution_count": 59,
   "id": "6f2b5b6a",
   "metadata": {},
   "outputs": [
    {
     "data": {
      "text/plain": [
       "Increased_Income               0\n",
       "Gender                        45\n",
       "No_of_Records                  0\n",
       "Age                            0\n",
       "City                           0\n",
       "Education_Level                0\n",
       "Income                         0\n",
       "Joining_Designation            0\n",
       "Grade                          0\n",
       "Total_Business_Value           0\n",
       "Quarterly_Rating               0\n",
       "Churn                          0\n",
       "joining_Year                   0\n",
       "Quarterly_Rating_increased     0\n",
       "dtype: int64"
      ]
     },
     "execution_count": 59,
     "metadata": {},
     "output_type": "execute_result"
    }
   ],
   "source": [
    "Mdata.isna().sum()"
   ]
  },
  {
   "cell_type": "markdown",
   "id": "0ff7df63",
   "metadata": {},
   "source": [
    "## SimpleImputer"
   ]
  },
  {
   "cell_type": "code",
   "execution_count": 60,
   "id": "2a880c61",
   "metadata": {},
   "outputs": [],
   "source": [
    "from sklearn.impute import SimpleImputer"
   ]
  },
  {
   "cell_type": "code",
   "execution_count": 61,
   "id": "77d468fd",
   "metadata": {},
   "outputs": [],
   "source": [
    "imputer = SimpleImputer(strategy='most_frequent')"
   ]
  },
  {
   "cell_type": "code",
   "execution_count": 62,
   "id": "1efc2ddb",
   "metadata": {},
   "outputs": [],
   "source": [
    "Mdata[\"Gender\"] = imputer.fit_transform(X=Mdata[\"Gender\"].values.reshape(-1,1),y=Mdata[\"Churn\"].values.reshape(-1,1))"
   ]
  },
  {
   "cell_type": "code",
   "execution_count": 63,
   "id": "020f425c",
   "metadata": {},
   "outputs": [
    {
     "data": {
      "text/plain": [
       "0.0    1425\n",
       "1.0     956\n",
       "Name: Gender, dtype: int64"
      ]
     },
     "execution_count": 63,
     "metadata": {},
     "output_type": "execute_result"
    }
   ],
   "source": [
    "Mdata[\"Gender\"].value_counts(dropna=False)"
   ]
  },
  {
   "cell_type": "code",
   "execution_count": 64,
   "id": "88d54c17",
   "metadata": {},
   "outputs": [
    {
     "data": {
      "text/plain": [
       "Increased_Income              0\n",
       "Gender                        0\n",
       "No_of_Records                 0\n",
       "Age                           0\n",
       "City                          0\n",
       "Education_Level               0\n",
       "Income                        0\n",
       "Joining_Designation           0\n",
       "Grade                         0\n",
       "Total_Business_Value          0\n",
       "Quarterly_Rating              0\n",
       "Churn                         0\n",
       "joining_Year                  0\n",
       "Quarterly_Rating_increased    0\n",
       "dtype: int64"
      ]
     },
     "execution_count": 64,
     "metadata": {},
     "output_type": "execute_result"
    }
   ],
   "source": [
    "Mdata.isna().sum()"
   ]
  },
  {
   "cell_type": "markdown",
   "id": "ae5e8624",
   "metadata": {},
   "source": [
    "## TargetEncoder"
   ]
  },
  {
   "cell_type": "code",
   "execution_count": 65,
   "id": "98d0b995",
   "metadata": {},
   "outputs": [],
   "source": [
    "from category_encoders import TargetEncoder\n",
    "TE = TargetEncoder()"
   ]
  },
  {
   "cell_type": "code",
   "execution_count": 66,
   "id": "0f7b858b",
   "metadata": {},
   "outputs": [],
   "source": [
    "Mdata[\"City\"] = TE.fit_transform(X = Mdata[\"City\"],y = Mdata[\"Churn\"])\n",
    "\n"
   ]
  },
  {
   "cell_type": "code",
   "execution_count": 67,
   "id": "3956b827",
   "metadata": {},
   "outputs": [
    {
     "name": "stdout",
     "output_type": "stream",
     "text": [
      "Warning: No categorical columns found. Calling 'transform' will only return input data.\n"
     ]
    }
   ],
   "source": [
    "Mdata[\"joining_Year\"] = TE.fit_transform(X = Mdata[\"joining_Year\"],y = Mdata[\"Churn\"])\n"
   ]
  },
  {
   "cell_type": "code",
   "execution_count": 68,
   "id": "b36919b1",
   "metadata": {},
   "outputs": [
    {
     "data": {
      "text/html": [
       "<div>\n",
       "<style scoped>\n",
       "    .dataframe tbody tr th:only-of-type {\n",
       "        vertical-align: middle;\n",
       "    }\n",
       "\n",
       "    .dataframe tbody tr th {\n",
       "        vertical-align: top;\n",
       "    }\n",
       "\n",
       "    .dataframe thead th {\n",
       "        text-align: right;\n",
       "    }\n",
       "</style>\n",
       "<table border=\"1\" class=\"dataframe\">\n",
       "  <thead>\n",
       "    <tr style=\"text-align: right;\">\n",
       "      <th></th>\n",
       "      <th>Increased_Income</th>\n",
       "      <th>Gender</th>\n",
       "      <th>No_of_Records</th>\n",
       "      <th>Age</th>\n",
       "      <th>City</th>\n",
       "      <th>Education_Level</th>\n",
       "      <th>Income</th>\n",
       "      <th>Joining_Designation</th>\n",
       "      <th>Grade</th>\n",
       "      <th>Total_Business_Value</th>\n",
       "      <th>Quarterly_Rating</th>\n",
       "      <th>Churn</th>\n",
       "      <th>joining_Year</th>\n",
       "      <th>Quarterly_Rating_increased</th>\n",
       "    </tr>\n",
       "  </thead>\n",
       "  <tbody>\n",
       "    <tr>\n",
       "      <th>0</th>\n",
       "      <td>0</td>\n",
       "      <td>0.0</td>\n",
       "      <td>3</td>\n",
       "      <td>28.0</td>\n",
       "      <td>0.770270</td>\n",
       "      <td>2</td>\n",
       "      <td>57387.0</td>\n",
       "      <td>1</td>\n",
       "      <td>1.0</td>\n",
       "      <td>1715580</td>\n",
       "      <td>2.0</td>\n",
       "      <td>1</td>\n",
       "      <td>2018</td>\n",
       "      <td>0</td>\n",
       "    </tr>\n",
       "    <tr>\n",
       "      <th>1</th>\n",
       "      <td>0</td>\n",
       "      <td>0.0</td>\n",
       "      <td>2</td>\n",
       "      <td>31.0</td>\n",
       "      <td>0.684211</td>\n",
       "      <td>2</td>\n",
       "      <td>67016.0</td>\n",
       "      <td>2</td>\n",
       "      <td>2.0</td>\n",
       "      <td>0</td>\n",
       "      <td>1.0</td>\n",
       "      <td>0</td>\n",
       "      <td>2020</td>\n",
       "      <td>0</td>\n",
       "    </tr>\n",
       "    <tr>\n",
       "      <th>2</th>\n",
       "      <td>0</td>\n",
       "      <td>0.0</td>\n",
       "      <td>5</td>\n",
       "      <td>43.0</td>\n",
       "      <td>0.816901</td>\n",
       "      <td>2</td>\n",
       "      <td>65603.0</td>\n",
       "      <td>2</td>\n",
       "      <td>2.0</td>\n",
       "      <td>350000</td>\n",
       "      <td>1.0</td>\n",
       "      <td>1</td>\n",
       "      <td>2019</td>\n",
       "      <td>0</td>\n",
       "    </tr>\n",
       "    <tr>\n",
       "      <th>3</th>\n",
       "      <td>0</td>\n",
       "      <td>0.0</td>\n",
       "      <td>3</td>\n",
       "      <td>29.0</td>\n",
       "      <td>0.706667</td>\n",
       "      <td>0</td>\n",
       "      <td>46368.0</td>\n",
       "      <td>1</td>\n",
       "      <td>1.0</td>\n",
       "      <td>120360</td>\n",
       "      <td>1.0</td>\n",
       "      <td>1</td>\n",
       "      <td>2019</td>\n",
       "      <td>0</td>\n",
       "    </tr>\n",
       "    <tr>\n",
       "      <th>4</th>\n",
       "      <td>0</td>\n",
       "      <td>1.0</td>\n",
       "      <td>5</td>\n",
       "      <td>31.0</td>\n",
       "      <td>0.703125</td>\n",
       "      <td>1</td>\n",
       "      <td>78728.0</td>\n",
       "      <td>3</td>\n",
       "      <td>3.0</td>\n",
       "      <td>1265000</td>\n",
       "      <td>2.0</td>\n",
       "      <td>0</td>\n",
       "      <td>2020</td>\n",
       "      <td>1</td>\n",
       "    </tr>\n",
       "    <tr>\n",
       "      <th>...</th>\n",
       "      <td>...</td>\n",
       "      <td>...</td>\n",
       "      <td>...</td>\n",
       "      <td>...</td>\n",
       "      <td>...</td>\n",
       "      <td>...</td>\n",
       "      <td>...</td>\n",
       "      <td>...</td>\n",
       "      <td>...</td>\n",
       "      <td>...</td>\n",
       "      <td>...</td>\n",
       "      <td>...</td>\n",
       "      <td>...</td>\n",
       "      <td>...</td>\n",
       "    </tr>\n",
       "    <tr>\n",
       "      <th>2376</th>\n",
       "      <td>0</td>\n",
       "      <td>0.0</td>\n",
       "      <td>24</td>\n",
       "      <td>34.0</td>\n",
       "      <td>0.698630</td>\n",
       "      <td>0</td>\n",
       "      <td>82815.0</td>\n",
       "      <td>2</td>\n",
       "      <td>3.0</td>\n",
       "      <td>21748820</td>\n",
       "      <td>3.0</td>\n",
       "      <td>0</td>\n",
       "      <td>2015</td>\n",
       "      <td>1</td>\n",
       "    </tr>\n",
       "    <tr>\n",
       "      <th>2377</th>\n",
       "      <td>0</td>\n",
       "      <td>1.0</td>\n",
       "      <td>3</td>\n",
       "      <td>34.0</td>\n",
       "      <td>0.706667</td>\n",
       "      <td>0</td>\n",
       "      <td>12105.0</td>\n",
       "      <td>1</td>\n",
       "      <td>1.0</td>\n",
       "      <td>0</td>\n",
       "      <td>1.0</td>\n",
       "      <td>1</td>\n",
       "      <td>2020</td>\n",
       "      <td>0</td>\n",
       "    </tr>\n",
       "    <tr>\n",
       "      <th>2378</th>\n",
       "      <td>0</td>\n",
       "      <td>0.0</td>\n",
       "      <td>9</td>\n",
       "      <td>45.0</td>\n",
       "      <td>0.569444</td>\n",
       "      <td>0</td>\n",
       "      <td>35370.0</td>\n",
       "      <td>2</td>\n",
       "      <td>2.0</td>\n",
       "      <td>2815090</td>\n",
       "      <td>2.0</td>\n",
       "      <td>1</td>\n",
       "      <td>2018</td>\n",
       "      <td>0</td>\n",
       "    </tr>\n",
       "    <tr>\n",
       "      <th>2379</th>\n",
       "      <td>0</td>\n",
       "      <td>1.0</td>\n",
       "      <td>6</td>\n",
       "      <td>28.0</td>\n",
       "      <td>0.730263</td>\n",
       "      <td>2</td>\n",
       "      <td>69498.0</td>\n",
       "      <td>1</td>\n",
       "      <td>1.0</td>\n",
       "      <td>977830</td>\n",
       "      <td>2.0</td>\n",
       "      <td>1</td>\n",
       "      <td>2018</td>\n",
       "      <td>0</td>\n",
       "    </tr>\n",
       "    <tr>\n",
       "      <th>2380</th>\n",
       "      <td>0</td>\n",
       "      <td>0.0</td>\n",
       "      <td>7</td>\n",
       "      <td>30.0</td>\n",
       "      <td>0.674157</td>\n",
       "      <td>2</td>\n",
       "      <td>70254.0</td>\n",
       "      <td>2</td>\n",
       "      <td>2.0</td>\n",
       "      <td>2298240</td>\n",
       "      <td>2.0</td>\n",
       "      <td>0</td>\n",
       "      <td>2020</td>\n",
       "      <td>0</td>\n",
       "    </tr>\n",
       "  </tbody>\n",
       "</table>\n",
       "<p>2381 rows × 14 columns</p>\n",
       "</div>"
      ],
      "text/plain": [
       "      Increased_Income  Gender  No_of_Records   Age      City  Education_Level   Income  Joining_Designation  Grade  Total_Business_Value  Quarterly_Rating  Churn  joining_Year  Quarterly_Rating_increased\n",
       "0                    0     0.0              3  28.0  0.770270                2  57387.0                    1    1.0               1715580               2.0      1          2018                           0\n",
       "1                    0     0.0              2  31.0  0.684211                2  67016.0                    2    2.0                     0               1.0      0          2020                           0\n",
       "2                    0     0.0              5  43.0  0.816901                2  65603.0                    2    2.0                350000               1.0      1          2019                           0\n",
       "3                    0     0.0              3  29.0  0.706667                0  46368.0                    1    1.0                120360               1.0      1          2019                           0\n",
       "4                    0     1.0              5  31.0  0.703125                1  78728.0                    3    3.0               1265000               2.0      0          2020                           1\n",
       "...                ...     ...            ...   ...       ...              ...      ...                  ...    ...                   ...               ...    ...           ...                         ...\n",
       "2376                 0     0.0             24  34.0  0.698630                0  82815.0                    2    3.0              21748820               3.0      0          2015                           1\n",
       "2377                 0     1.0              3  34.0  0.706667                0  12105.0                    1    1.0                     0               1.0      1          2020                           0\n",
       "2378                 0     0.0              9  45.0  0.569444                0  35370.0                    2    2.0               2815090               2.0      1          2018                           0\n",
       "2379                 0     1.0              6  28.0  0.730263                2  69498.0                    1    1.0                977830               2.0      1          2018                           0\n",
       "2380                 0     0.0              7  30.0  0.674157                2  70254.0                    2    2.0               2298240               2.0      0          2020                           0\n",
       "\n",
       "[2381 rows x 14 columns]"
      ]
     },
     "execution_count": 68,
     "metadata": {},
     "output_type": "execute_result"
    }
   ],
   "source": [
    "Mdata"
   ]
  },
  {
   "cell_type": "code",
   "execution_count": 69,
   "id": "95eb71a9",
   "metadata": {},
   "outputs": [],
   "source": [
    "# Mdata.drop([\"No_of_Records\"], axis = 1 , inplace= True)"
   ]
  },
  {
   "cell_type": "code",
   "execution_count": 70,
   "id": "d318470c",
   "metadata": {},
   "outputs": [
    {
     "data": {
      "text/plain": [
       "<AxesSubplot:>"
      ]
     },
     "execution_count": 70,
     "metadata": {},
     "output_type": "execute_result"
    },
    {
     "data": {
      "image/png": "[encoded data removed]",
      "text/plain": [
       "<Figure size 1080x1080 with 2 Axes>"
      ]
     },
     "metadata": {
      "needs_background": "light"
     },
     "output_type": "display_data"
    }
   ],
   "source": [
    "plt.figure(figsize=(15, 15))\n",
    "sns.heatmap(Mdata.corr(),annot=True, cmap=\"RdYlGn\", annot_kws={\"size\":10})"
   ]
  },
  {
   "cell_type": "markdown",
   "id": "84dc6369",
   "metadata": {},
   "source": [
    "sns.heatmap(Mdata.corr())"
   ]
  },
  {
   "cell_type": "code",
   "execution_count": 71,
   "id": "eb3334da",
   "metadata": {},
   "outputs": [],
   "source": [
    "X = Mdata.drop([\"Churn\"],axis = 1)\n",
    "y = Mdata[\"Churn\"]"
   ]
  },
  {
   "cell_type": "code",
   "execution_count": null,
   "id": "24f16c24",
   "metadata": {},
   "outputs": [],
   "source": []
  },
  {
   "cell_type": "code",
   "execution_count": null,
   "id": "07378747",
   "metadata": {},
   "outputs": [],
   "source": []
  },
  {
   "cell_type": "code",
   "execution_count": null,
   "id": "98d56ceb",
   "metadata": {},
   "outputs": [],
   "source": []
  },
  {
   "cell_type": "markdown",
   "id": "b4186771",
   "metadata": {},
   "source": [
    "## KNNImputer"
   ]
  },
  {
   "cell_type": "code",
   "execution_count": 72,
   "id": "58a213b9",
   "metadata": {},
   "outputs": [],
   "source": [
    "import numpy as np\n",
    "from sklearn.impute import KNNImputer\n",
    "\n",
    "imputer = KNNImputer(n_neighbors=5)\n",
    "\n"
   ]
  },
  {
   "cell_type": "code",
   "execution_count": 73,
   "id": "92e9361c",
   "metadata": {},
   "outputs": [],
   "source": [
    "X = pd.DataFrame(imputer.fit_transform(X),columns=X.columns)"
   ]
  },
  {
   "cell_type": "code",
   "execution_count": 74,
   "id": "ee1b7947",
   "metadata": {},
   "outputs": [
    {
     "data": {
      "text/html": [
       "<div>\n",
       "<style scoped>\n",
       "    .dataframe tbody tr th:only-of-type {\n",
       "        vertical-align: middle;\n",
       "    }\n",
       "\n",
       "    .dataframe tbody tr th {\n",
       "        vertical-align: top;\n",
       "    }\n",
       "\n",
       "    .dataframe thead th {\n",
       "        text-align: right;\n",
       "    }\n",
       "</style>\n",
       "<table border=\"1\" class=\"dataframe\">\n",
       "  <thead>\n",
       "    <tr style=\"text-align: right;\">\n",
       "      <th></th>\n",
       "      <th>Increased_Income</th>\n",
       "      <th>Gender</th>\n",
       "      <th>No_of_Records</th>\n",
       "      <th>Age</th>\n",
       "      <th>City</th>\n",
       "      <th>Education_Level</th>\n",
       "      <th>Income</th>\n",
       "      <th>Joining_Designation</th>\n",
       "      <th>Grade</th>\n",
       "      <th>Total_Business_Value</th>\n",
       "      <th>Quarterly_Rating</th>\n",
       "      <th>joining_Year</th>\n",
       "      <th>Quarterly_Rating_increased</th>\n",
       "    </tr>\n",
       "  </thead>\n",
       "  <tbody>\n",
       "    <tr>\n",
       "      <th>0</th>\n",
       "      <td>0.0</td>\n",
       "      <td>0.0</td>\n",
       "      <td>3.0</td>\n",
       "      <td>28.0</td>\n",
       "      <td>0.770270</td>\n",
       "      <td>2.0</td>\n",
       "      <td>57387.0</td>\n",
       "      <td>1.0</td>\n",
       "      <td>1.0</td>\n",
       "      <td>1715580.0</td>\n",
       "      <td>2.0</td>\n",
       "      <td>2018.0</td>\n",
       "      <td>0.0</td>\n",
       "    </tr>\n",
       "    <tr>\n",
       "      <th>1</th>\n",
       "      <td>0.0</td>\n",
       "      <td>0.0</td>\n",
       "      <td>2.0</td>\n",
       "      <td>31.0</td>\n",
       "      <td>0.684211</td>\n",
       "      <td>2.0</td>\n",
       "      <td>67016.0</td>\n",
       "      <td>2.0</td>\n",
       "      <td>2.0</td>\n",
       "      <td>0.0</td>\n",
       "      <td>1.0</td>\n",
       "      <td>2020.0</td>\n",
       "      <td>0.0</td>\n",
       "    </tr>\n",
       "    <tr>\n",
       "      <th>2</th>\n",
       "      <td>0.0</td>\n",
       "      <td>0.0</td>\n",
       "      <td>5.0</td>\n",
       "      <td>43.0</td>\n",
       "      <td>0.816901</td>\n",
       "      <td>2.0</td>\n",
       "      <td>65603.0</td>\n",
       "      <td>2.0</td>\n",
       "      <td>2.0</td>\n",
       "      <td>350000.0</td>\n",
       "      <td>1.0</td>\n",
       "      <td>2019.0</td>\n",
       "      <td>0.0</td>\n",
       "    </tr>\n",
       "    <tr>\n",
       "      <th>3</th>\n",
       "      <td>0.0</td>\n",
       "      <td>0.0</td>\n",
       "      <td>3.0</td>\n",
       "      <td>29.0</td>\n",
       "      <td>0.706667</td>\n",
       "      <td>0.0</td>\n",
       "      <td>46368.0</td>\n",
       "      <td>1.0</td>\n",
       "      <td>1.0</td>\n",
       "      <td>120360.0</td>\n",
       "      <td>1.0</td>\n",
       "      <td>2019.0</td>\n",
       "      <td>0.0</td>\n",
       "    </tr>\n",
       "    <tr>\n",
       "      <th>4</th>\n",
       "      <td>0.0</td>\n",
       "      <td>1.0</td>\n",
       "      <td>5.0</td>\n",
       "      <td>31.0</td>\n",
       "      <td>0.703125</td>\n",
       "      <td>1.0</td>\n",
       "      <td>78728.0</td>\n",
       "      <td>3.0</td>\n",
       "      <td>3.0</td>\n",
       "      <td>1265000.0</td>\n",
       "      <td>2.0</td>\n",
       "      <td>2020.0</td>\n",
       "      <td>1.0</td>\n",
       "    </tr>\n",
       "    <tr>\n",
       "      <th>...</th>\n",
       "      <td>...</td>\n",
       "      <td>...</td>\n",
       "      <td>...</td>\n",
       "      <td>...</td>\n",
       "      <td>...</td>\n",
       "      <td>...</td>\n",
       "      <td>...</td>\n",
       "      <td>...</td>\n",
       "      <td>...</td>\n",
       "      <td>...</td>\n",
       "      <td>...</td>\n",
       "      <td>...</td>\n",
       "      <td>...</td>\n",
       "    </tr>\n",
       "    <tr>\n",
       "      <th>2376</th>\n",
       "      <td>0.0</td>\n",
       "      <td>0.0</td>\n",
       "      <td>24.0</td>\n",
       "      <td>34.0</td>\n",
       "      <td>0.698630</td>\n",
       "      <td>0.0</td>\n",
       "      <td>82815.0</td>\n",
       "      <td>2.0</td>\n",
       "      <td>3.0</td>\n",
       "      <td>21748820.0</td>\n",
       "      <td>3.0</td>\n",
       "      <td>2015.0</td>\n",
       "      <td>1.0</td>\n",
       "    </tr>\n",
       "    <tr>\n",
       "      <th>2377</th>\n",
       "      <td>0.0</td>\n",
       "      <td>1.0</td>\n",
       "      <td>3.0</td>\n",
       "      <td>34.0</td>\n",
       "      <td>0.706667</td>\n",
       "      <td>0.0</td>\n",
       "      <td>12105.0</td>\n",
       "      <td>1.0</td>\n",
       "      <td>1.0</td>\n",
       "      <td>0.0</td>\n",
       "      <td>1.0</td>\n",
       "      <td>2020.0</td>\n",
       "      <td>0.0</td>\n",
       "    </tr>\n",
       "    <tr>\n",
       "      <th>2378</th>\n",
       "      <td>0.0</td>\n",
       "      <td>0.0</td>\n",
       "      <td>9.0</td>\n",
       "      <td>45.0</td>\n",
       "      <td>0.569444</td>\n",
       "      <td>0.0</td>\n",
       "      <td>35370.0</td>\n",
       "      <td>2.0</td>\n",
       "      <td>2.0</td>\n",
       "      <td>2815090.0</td>\n",
       "      <td>2.0</td>\n",
       "      <td>2018.0</td>\n",
       "      <td>0.0</td>\n",
       "    </tr>\n",
       "    <tr>\n",
       "      <th>2379</th>\n",
       "      <td>0.0</td>\n",
       "      <td>1.0</td>\n",
       "      <td>6.0</td>\n",
       "      <td>28.0</td>\n",
       "      <td>0.730263</td>\n",
       "      <td>2.0</td>\n",
       "      <td>69498.0</td>\n",
       "      <td>1.0</td>\n",
       "      <td>1.0</td>\n",
       "      <td>977830.0</td>\n",
       "      <td>2.0</td>\n",
       "      <td>2018.0</td>\n",
       "      <td>0.0</td>\n",
       "    </tr>\n",
       "    <tr>\n",
       "      <th>2380</th>\n",
       "      <td>0.0</td>\n",
       "      <td>0.0</td>\n",
       "      <td>7.0</td>\n",
       "      <td>30.0</td>\n",
       "      <td>0.674157</td>\n",
       "      <td>2.0</td>\n",
       "      <td>70254.0</td>\n",
       "      <td>2.0</td>\n",
       "      <td>2.0</td>\n",
       "      <td>2298240.0</td>\n",
       "      <td>2.0</td>\n",
       "      <td>2020.0</td>\n",
       "      <td>0.0</td>\n",
       "    </tr>\n",
       "  </tbody>\n",
       "</table>\n",
       "<p>2381 rows × 13 columns</p>\n",
       "</div>"
      ],
      "text/plain": [
       "      Increased_Income  Gender  No_of_Records   Age      City  Education_Level   Income  Joining_Designation  Grade  Total_Business_Value  Quarterly_Rating  joining_Year  Quarterly_Rating_increased\n",
       "0                  0.0     0.0            3.0  28.0  0.770270              2.0  57387.0                  1.0    1.0             1715580.0               2.0        2018.0                         0.0\n",
       "1                  0.0     0.0            2.0  31.0  0.684211              2.0  67016.0                  2.0    2.0                   0.0               1.0        2020.0                         0.0\n",
       "2                  0.0     0.0            5.0  43.0  0.816901              2.0  65603.0                  2.0    2.0              350000.0               1.0        2019.0                         0.0\n",
       "3                  0.0     0.0            3.0  29.0  0.706667              0.0  46368.0                  1.0    1.0              120360.0               1.0        2019.0                         0.0\n",
       "4                  0.0     1.0            5.0  31.0  0.703125              1.0  78728.0                  3.0    3.0             1265000.0               2.0        2020.0                         1.0\n",
       "...                ...     ...            ...   ...       ...              ...      ...                  ...    ...                   ...               ...           ...                         ...\n",
       "2376               0.0     0.0           24.0  34.0  0.698630              0.0  82815.0                  2.0    3.0            21748820.0               3.0        2015.0                         1.0\n",
       "2377               0.0     1.0            3.0  34.0  0.706667              0.0  12105.0                  1.0    1.0                   0.0               1.0        2020.0                         0.0\n",
       "2378               0.0     0.0            9.0  45.0  0.569444              0.0  35370.0                  2.0    2.0             2815090.0               2.0        2018.0                         0.0\n",
       "2379               0.0     1.0            6.0  28.0  0.730263              2.0  69498.0                  1.0    1.0              977830.0               2.0        2018.0                         0.0\n",
       "2380               0.0     0.0            7.0  30.0  0.674157              2.0  70254.0                  2.0    2.0             2298240.0               2.0        2020.0                         0.0\n",
       "\n",
       "[2381 rows x 13 columns]"
      ]
     },
     "execution_count": 74,
     "metadata": {},
     "output_type": "execute_result"
    }
   ],
   "source": [
    "X"
   ]
  },
  {
   "cell_type": "code",
   "execution_count": 75,
   "id": "880a8da2",
   "metadata": {},
   "outputs": [
    {
     "data": {
      "text/html": [
       "<div>\n",
       "<style scoped>\n",
       "    .dataframe tbody tr th:only-of-type {\n",
       "        vertical-align: middle;\n",
       "    }\n",
       "\n",
       "    .dataframe tbody tr th {\n",
       "        vertical-align: top;\n",
       "    }\n",
       "\n",
       "    .dataframe thead th {\n",
       "        text-align: right;\n",
       "    }\n",
       "</style>\n",
       "<table border=\"1\" class=\"dataframe\">\n",
       "  <thead>\n",
       "    <tr style=\"text-align: right;\">\n",
       "      <th></th>\n",
       "      <th>Increased_Income</th>\n",
       "      <th>Gender</th>\n",
       "      <th>No_of_Records</th>\n",
       "      <th>Age</th>\n",
       "      <th>City</th>\n",
       "      <th>Education_Level</th>\n",
       "      <th>Income</th>\n",
       "      <th>Joining_Designation</th>\n",
       "      <th>Grade</th>\n",
       "      <th>Total_Business_Value</th>\n",
       "      <th>Quarterly_Rating</th>\n",
       "      <th>joining_Year</th>\n",
       "      <th>Quarterly_Rating_increased</th>\n",
       "    </tr>\n",
       "  </thead>\n",
       "  <tbody>\n",
       "    <tr>\n",
       "      <th>count</th>\n",
       "      <td>2381.000000</td>\n",
       "      <td>2381.000000</td>\n",
       "      <td>2381.00000</td>\n",
       "      <td>2381.000000</td>\n",
       "      <td>2381.000000</td>\n",
       "      <td>2381.00000</td>\n",
       "      <td>2381.000000</td>\n",
       "      <td>2381.000000</td>\n",
       "      <td>2381.000000</td>\n",
       "      <td>2.381000e+03</td>\n",
       "      <td>2381.000000</td>\n",
       "      <td>2381.000000</td>\n",
       "      <td>2381.000000</td>\n",
       "    </tr>\n",
       "    <tr>\n",
       "      <th>mean</th>\n",
       "      <td>0.018480</td>\n",
       "      <td>0.401512</td>\n",
       "      <td>8.02352</td>\n",
       "      <td>33.663167</td>\n",
       "      <td>0.678706</td>\n",
       "      <td>1.00756</td>\n",
       "      <td>59232.460484</td>\n",
       "      <td>1.820244</td>\n",
       "      <td>2.078538</td>\n",
       "      <td>4.586742e+06</td>\n",
       "      <td>1.573289</td>\n",
       "      <td>2018.536329</td>\n",
       "      <td>0.228895</td>\n",
       "    </tr>\n",
       "    <tr>\n",
       "      <th>std</th>\n",
       "      <td>0.134706</td>\n",
       "      <td>0.490307</td>\n",
       "      <td>6.78359</td>\n",
       "      <td>5.983375</td>\n",
       "      <td>0.065565</td>\n",
       "      <td>0.81629</td>\n",
       "      <td>28298.214012</td>\n",
       "      <td>0.841433</td>\n",
       "      <td>0.931321</td>\n",
       "      <td>9.127115e+06</td>\n",
       "      <td>0.745987</td>\n",
       "      <td>1.609597</td>\n",
       "      <td>0.420210</td>\n",
       "    </tr>\n",
       "    <tr>\n",
       "      <th>min</th>\n",
       "      <td>0.000000</td>\n",
       "      <td>0.000000</td>\n",
       "      <td>1.00000</td>\n",
       "      <td>21.000000</td>\n",
       "      <td>0.531250</td>\n",
       "      <td>0.00000</td>\n",
       "      <td>10747.000000</td>\n",
       "      <td>1.000000</td>\n",
       "      <td>1.000000</td>\n",
       "      <td>-1.385530e+06</td>\n",
       "      <td>1.000000</td>\n",
       "      <td>2013.000000</td>\n",
       "      <td>0.000000</td>\n",
       "    </tr>\n",
       "    <tr>\n",
       "      <th>25%</th>\n",
       "      <td>0.000000</td>\n",
       "      <td>0.000000</td>\n",
       "      <td>3.00000</td>\n",
       "      <td>29.000000</td>\n",
       "      <td>0.634146</td>\n",
       "      <td>0.00000</td>\n",
       "      <td>39104.000000</td>\n",
       "      <td>1.000000</td>\n",
       "      <td>1.000000</td>\n",
       "      <td>0.000000e+00</td>\n",
       "      <td>1.000000</td>\n",
       "      <td>2018.000000</td>\n",
       "      <td>0.000000</td>\n",
       "    </tr>\n",
       "    <tr>\n",
       "      <th>50%</th>\n",
       "      <td>0.000000</td>\n",
       "      <td>0.000000</td>\n",
       "      <td>5.00000</td>\n",
       "      <td>33.000000</td>\n",
       "      <td>0.698630</td>\n",
       "      <td>1.00000</td>\n",
       "      <td>55285.000000</td>\n",
       "      <td>2.000000</td>\n",
       "      <td>2.000000</td>\n",
       "      <td>8.176800e+05</td>\n",
       "      <td>1.000000</td>\n",
       "      <td>2019.000000</td>\n",
       "      <td>0.000000</td>\n",
       "    </tr>\n",
       "    <tr>\n",
       "      <th>75%</th>\n",
       "      <td>0.000000</td>\n",
       "      <td>1.000000</td>\n",
       "      <td>10.00000</td>\n",
       "      <td>37.000000</td>\n",
       "      <td>0.719512</td>\n",
       "      <td>2.00000</td>\n",
       "      <td>75835.000000</td>\n",
       "      <td>2.000000</td>\n",
       "      <td>3.000000</td>\n",
       "      <td>4.173650e+06</td>\n",
       "      <td>2.000000</td>\n",
       "      <td>2020.000000</td>\n",
       "      <td>0.000000</td>\n",
       "    </tr>\n",
       "    <tr>\n",
       "      <th>max</th>\n",
       "      <td>1.000000</td>\n",
       "      <td>1.000000</td>\n",
       "      <td>24.00000</td>\n",
       "      <td>58.000000</td>\n",
       "      <td>0.816901</td>\n",
       "      <td>2.00000</td>\n",
       "      <td>188418.000000</td>\n",
       "      <td>5.000000</td>\n",
       "      <td>5.000000</td>\n",
       "      <td>9.533106e+07</td>\n",
       "      <td>4.000000</td>\n",
       "      <td>2020.000000</td>\n",
       "      <td>1.000000</td>\n",
       "    </tr>\n",
       "  </tbody>\n",
       "</table>\n",
       "</div>"
      ],
      "text/plain": [
       "       Increased_Income       Gender  No_of_Records          Age         City  Education_Level         Income  Joining_Designation        Grade  Total_Business_Value  Quarterly_Rating  joining_Year  Quarterly_Rating_increased\n",
       "count       2381.000000  2381.000000     2381.00000  2381.000000  2381.000000       2381.00000    2381.000000          2381.000000  2381.000000          2.381000e+03       2381.000000   2381.000000                 2381.000000\n",
       "mean           0.018480     0.401512        8.02352    33.663167     0.678706          1.00756   59232.460484             1.820244     2.078538          4.586742e+06          1.573289   2018.536329                    0.228895\n",
       "std            0.134706     0.490307        6.78359     5.983375     0.065565          0.81629   28298.214012             0.841433     0.931321          9.127115e+06          0.745987      1.609597                    0.420210\n",
       "min            0.000000     0.000000        1.00000    21.000000     0.531250          0.00000   10747.000000             1.000000     1.000000         -1.385530e+06          1.000000   2013.000000                    0.000000\n",
       "25%            0.000000     0.000000        3.00000    29.000000     0.634146          0.00000   39104.000000             1.000000     1.000000          0.000000e+00          1.000000   2018.000000                    0.000000\n",
       "50%            0.000000     0.000000        5.00000    33.000000     0.698630          1.00000   55285.000000             2.000000     2.000000          8.176800e+05          1.000000   2019.000000                    0.000000\n",
       "75%            0.000000     1.000000       10.00000    37.000000     0.719512          2.00000   75835.000000             2.000000     3.000000          4.173650e+06          2.000000   2020.000000                    0.000000\n",
       "max            1.000000     1.000000       24.00000    58.000000     0.816901          2.00000  188418.000000             5.000000     5.000000          9.533106e+07          4.000000   2020.000000                    1.000000"
      ]
     },
     "execution_count": 75,
     "metadata": {},
     "output_type": "execute_result"
    }
   ],
   "source": [
    "X.describe()"
   ]
  },
  {
   "cell_type": "markdown",
   "id": "edd8b70b",
   "metadata": {},
   "source": [
    "## train_test_split"
   ]
  },
  {
   "cell_type": "code",
   "execution_count": 76,
   "id": "a389e651",
   "metadata": {},
   "outputs": [],
   "source": [
    "from sklearn.model_selection import train_test_split\n",
    "\n",
    "X_train , X_test, y_train ,y_test = train_test_split(X,y,\n",
    "                                                    random_state=5,\n",
    "                                                    test_size=0.2)"
   ]
  },
  {
   "cell_type": "code",
   "execution_count": 77,
   "id": "12e2942d",
   "metadata": {},
   "outputs": [
    {
     "data": {
      "text/plain": [
       "1    1616\n",
       "0     765\n",
       "Name: Churn, dtype: int64"
      ]
     },
     "execution_count": 77,
     "metadata": {},
     "output_type": "execute_result"
    }
   ],
   "source": [
    "y.value_counts()"
   ]
  },
  {
   "cell_type": "code",
   "execution_count": 78,
   "id": "7fe3e183",
   "metadata": {},
   "outputs": [
    {
     "data": {
      "text/plain": [
       "2381"
      ]
     },
     "execution_count": 78,
     "metadata": {},
     "output_type": "execute_result"
    }
   ],
   "source": [
    "765 + 1616"
   ]
  },
  {
   "cell_type": "markdown",
   "id": "2c7f7e8e",
   "metadata": {},
   "source": [
    "## StandardScaler"
   ]
  },
  {
   "cell_type": "code",
   "execution_count": 79,
   "id": "f4d8f0b5",
   "metadata": {},
   "outputs": [],
   "source": [
    "from sklearn.preprocessing import StandardScaler"
   ]
  },
  {
   "cell_type": "code",
   "execution_count": 80,
   "id": "8c2eb41f",
   "metadata": {},
   "outputs": [],
   "source": [
    "scaler = StandardScaler()"
   ]
  },
  {
   "cell_type": "code",
   "execution_count": 81,
   "id": "8d43e322",
   "metadata": {},
   "outputs": [
    {
     "data": {
      "text/html": [
       "<style>#sk-container-id-1 {color: black;background-color: white;}#sk-container-id-1 pre{padding: 0;}#sk-container-id-1 div.sk-toggleable {background-color: white;}#sk-container-id-1 label.sk-toggleable__label {cursor: pointer;display: block;width: 100%;margin-bottom: 0;padding: 0.3em;box-sizing: border-box;text-align: center;}#sk-container-id-1 label.sk-toggleable__label-arrow:before {content: \"▸\";float: left;margin-right: 0.25em;color: #696969;}#sk-container-id-1 label.sk-toggleable__label-arrow:hover:before {color: black;}#sk-container-id-1 div.sk-estimator:hover label.sk-toggleable__label-arrow:before {color: black;}#sk-container-id-1 div.sk-toggleable__content {max-height: 0;max-width: 0;overflow: hidden;text-align: left;background-color: #f0f8ff;}#sk-container-id-1 div.sk-toggleable__content pre {margin: 0.2em;color: black;border-radius: 0.25em;background-color: #f0f8ff;}#sk-container-id-1 input.sk-toggleable__control:checked~div.sk-toggleable__content {max-height: 200px;max-width: 100%;overflow: auto;}#sk-container-id-1 input.sk-toggleable__control:checked~label.sk-toggleable__label-arrow:before {content: \"▾\";}#sk-container-id-1 div.sk-estimator input.sk-toggleable__control:checked~label.sk-toggleable__label {background-color: #d4ebff;}#sk-container-id-1 div.sk-label input.sk-toggleable__control:checked~label.sk-toggleable__label {background-color: #d4ebff;}#sk-container-id-1 input.sk-hidden--visually {border: 0;clip: rect(1px 1px 1px 1px);clip: rect(1px, 1px, 1px, 1px);height: 1px;margin: -1px;overflow: hidden;padding: 0;position: absolute;width: 1px;}#sk-container-id-1 div.sk-estimator {font-family: monospace;background-color: #f0f8ff;border: 1px dotted black;border-radius: 0.25em;box-sizing: border-box;margin-bottom: 0.5em;}#sk-container-id-1 div.sk-estimator:hover {background-color: #d4ebff;}#sk-container-id-1 div.sk-parallel-item::after {content: \"\";width: 100%;border-bottom: 1px solid gray;flex-grow: 1;}#sk-container-id-1 div.sk-label:hover label.sk-toggleable__label {background-color: #d4ebff;}#sk-container-id-1 div.sk-serial::before {content: \"\";position: absolute;border-left: 1px solid gray;box-sizing: border-box;top: 0;bottom: 0;left: 50%;z-index: 0;}#sk-container-id-1 div.sk-serial {display: flex;flex-direction: column;align-items: center;background-color: white;padding-right: 0.2em;padding-left: 0.2em;position: relative;}#sk-container-id-1 div.sk-item {position: relative;z-index: 1;}#sk-container-id-1 div.sk-parallel {display: flex;align-items: stretch;justify-content: center;background-color: white;position: relative;}#sk-container-id-1 div.sk-item::before, #sk-container-id-1 div.sk-parallel-item::before {content: \"\";position: absolute;border-left: 1px solid gray;box-sizing: border-box;top: 0;bottom: 0;left: 50%;z-index: -1;}#sk-container-id-1 div.sk-parallel-item {display: flex;flex-direction: column;z-index: 1;position: relative;background-color: white;}#sk-container-id-1 div.sk-parallel-item:first-child::after {align-self: flex-end;width: 50%;}#sk-container-id-1 div.sk-parallel-item:last-child::after {align-self: flex-start;width: 50%;}#sk-container-id-1 div.sk-parallel-item:only-child::after {width: 0;}#sk-container-id-1 div.sk-dashed-wrapped {border: 1px dashed gray;margin: 0 0.4em 0.5em 0.4em;box-sizing: border-box;padding-bottom: 0.4em;background-color: white;}#sk-container-id-1 div.sk-label label {font-family: monospace;font-weight: bold;display: inline-block;line-height: 1.2em;}#sk-container-id-1 div.sk-label-container {text-align: center;}#sk-container-id-1 div.sk-container {/* jupyter's `normalize.less` sets `[hidden] { display: none; }` but bootstrap.min.css set `[hidden] { display: none !important; }` so we also need the `!important` here to be able to override the default hidden behavior on the sphinx rendered scikit-learn.org. See: https://github.com/scikit-learn/scikit-learn/issues/21755 */display: inline-block !important;position: relative;}#sk-container-id-1 div.sk-text-repr-fallback {display: none;}</style><div id=\"sk-container-id-1\" class=\"sk-top-container\"><div class=\"sk-text-repr-fallback\"><pre>StandardScaler()</pre><b>In a Jupyter environment, please rerun this cell to show the HTML representation or trust the notebook. <br />On GitHub, the HTML representation is unable to render, please try loading this page with nbviewer.org.</b></div><div class=\"sk-container\" hidden><div class=\"sk-item\"><div class=\"sk-estimator sk-toggleable\"><input class=\"sk-toggleable__control sk-hidden--visually\" id=\"sk-estimator-id-1\" type=\"checkbox\" checked><label for=\"sk-estimator-id-1\" class=\"sk-toggleable__label sk-toggleable__label-arrow\">StandardScaler</label><div class=\"sk-toggleable__content\"><pre>StandardScaler()</pre></div></div></div></div></div>"
      ],
      "text/plain": [
       "StandardScaler()"
      ]
     },
     "execution_count": 81,
     "metadata": {},
     "output_type": "execute_result"
    }
   ],
   "source": [
    "scaler.fit(X_train)\n"
   ]
  },
  {
   "cell_type": "code",
   "execution_count": 82,
   "id": "ab8e68d0",
   "metadata": {},
   "outputs": [],
   "source": [
    "X_train = scaler.transform(X_train) \n",
    "X_test =  scaler.transform(X_test)"
   ]
  },
  {
   "cell_type": "code",
   "execution_count": null,
   "id": "c3e279fa",
   "metadata": {},
   "outputs": [],
   "source": []
  },
  {
   "cell_type": "markdown",
   "id": "964fa057",
   "metadata": {},
   "source": [
    "## RandomForestClassifier"
   ]
  },
  {
   "cell_type": "code",
   "execution_count": 83,
   "id": "d90677d1",
   "metadata": {},
   "outputs": [],
   "source": [
    "from sklearn.ensemble import RandomForestClassifier"
   ]
  },
  {
   "cell_type": "code",
   "execution_count": 84,
   "id": "c38080c2",
   "metadata": {},
   "outputs": [],
   "source": [
    "RF = RandomForestClassifier(n_estimators=100,\n",
    "    criterion='entropy',\n",
    "    max_depth=10,\n",
    "    min_samples_split=2,\n",
    "    min_samples_leaf=1,\n",
    "    min_weight_fraction_leaf=0.0,\n",
    "    max_features='sqrt',\n",
    "    max_leaf_nodes=None,\n",
    "    min_impurity_decrease=0.0,\n",
    "    bootstrap=True,\n",
    "    oob_score=False,\n",
    "    n_jobs=None,\n",
    "    random_state=None,\n",
    "    verbose=0,\n",
    "    warm_start=False,\n",
    "    class_weight=\"balanced\",\n",
    "    ccp_alpha=0.0085,\n",
    "    max_samples=None,)"
   ]
  },
  {
   "cell_type": "code",
   "execution_count": 85,
   "id": "3e7d1e54",
   "metadata": {},
   "outputs": [
    {
     "data": {
      "text/html": [
       "<style>#sk-container-id-2 {color: black;background-color: white;}#sk-container-id-2 pre{padding: 0;}#sk-container-id-2 div.sk-toggleable {background-color: white;}#sk-container-id-2 label.sk-toggleable__label {cursor: pointer;display: block;width: 100%;margin-bottom: 0;padding: 0.3em;box-sizing: border-box;text-align: center;}#sk-container-id-2 label.sk-toggleable__label-arrow:before {content: \"▸\";float: left;margin-right: 0.25em;color: #696969;}#sk-container-id-2 label.sk-toggleable__label-arrow:hover:before {color: black;}#sk-container-id-2 div.sk-estimator:hover label.sk-toggleable__label-arrow:before {color: black;}#sk-container-id-2 div.sk-toggleable__content {max-height: 0;max-width: 0;overflow: hidden;text-align: left;background-color: #f0f8ff;}#sk-container-id-2 div.sk-toggleable__content pre {margin: 0.2em;color: black;border-radius: 0.25em;background-color: #f0f8ff;}#sk-container-id-2 input.sk-toggleable__control:checked~div.sk-toggleable__content {max-height: 200px;max-width: 100%;overflow: auto;}#sk-container-id-2 input.sk-toggleable__control:checked~label.sk-toggleable__label-arrow:before {content: \"▾\";}#sk-container-id-2 div.sk-estimator input.sk-toggleable__control:checked~label.sk-toggleable__label {background-color: #d4ebff;}#sk-container-id-2 div.sk-label input.sk-toggleable__control:checked~label.sk-toggleable__label {background-color: #d4ebff;}#sk-container-id-2 input.sk-hidden--visually {border: 0;clip: rect(1px 1px 1px 1px);clip: rect(1px, 1px, 1px, 1px);height: 1px;margin: -1px;overflow: hidden;padding: 0;position: absolute;width: 1px;}#sk-container-id-2 div.sk-estimator {font-family: monospace;background-color: #f0f8ff;border: 1px dotted black;border-radius: 0.25em;box-sizing: border-box;margin-bottom: 0.5em;}#sk-container-id-2 div.sk-estimator:hover {background-color: #d4ebff;}#sk-container-id-2 div.sk-parallel-item::after {content: \"\";width: 100%;border-bottom: 1px solid gray;flex-grow: 1;}#sk-container-id-2 div.sk-label:hover label.sk-toggleable__label {background-color: #d4ebff;}#sk-container-id-2 div.sk-serial::before {content: \"\";position: absolute;border-left: 1px solid gray;box-sizing: border-box;top: 0;bottom: 0;left: 50%;z-index: 0;}#sk-container-id-2 div.sk-serial {display: flex;flex-direction: column;align-items: center;background-color: white;padding-right: 0.2em;padding-left: 0.2em;position: relative;}#sk-container-id-2 div.sk-item {position: relative;z-index: 1;}#sk-container-id-2 div.sk-parallel {display: flex;align-items: stretch;justify-content: center;background-color: white;position: relative;}#sk-container-id-2 div.sk-item::before, #sk-container-id-2 div.sk-parallel-item::before {content: \"\";position: absolute;border-left: 1px solid gray;box-sizing: border-box;top: 0;bottom: 0;left: 50%;z-index: -1;}#sk-container-id-2 div.sk-parallel-item {display: flex;flex-direction: column;z-index: 1;position: relative;background-color: white;}#sk-container-id-2 div.sk-parallel-item:first-child::after {align-self: flex-end;width: 50%;}#sk-container-id-2 div.sk-parallel-item:last-child::after {align-self: flex-start;width: 50%;}#sk-container-id-2 div.sk-parallel-item:only-child::after {width: 0;}#sk-container-id-2 div.sk-dashed-wrapped {border: 1px dashed gray;margin: 0 0.4em 0.5em 0.4em;box-sizing: border-box;padding-bottom: 0.4em;background-color: white;}#sk-container-id-2 div.sk-label label {font-family: monospace;font-weight: bold;display: inline-block;line-height: 1.2em;}#sk-container-id-2 div.sk-label-container {text-align: center;}#sk-container-id-2 div.sk-container {/* jupyter's `normalize.less` sets `[hidden] { display: none; }` but bootstrap.min.css set `[hidden] { display: none !important; }` so we also need the `!important` here to be able to override the default hidden behavior on the sphinx rendered scikit-learn.org. See: https://github.com/scikit-learn/scikit-learn/issues/21755 */display: inline-block !important;position: relative;}#sk-container-id-2 div.sk-text-repr-fallback {display: none;}</style><div id=\"sk-container-id-2\" class=\"sk-top-container\"><div class=\"sk-text-repr-fallback\"><pre>RandomForestClassifier(ccp_alpha=0.0085, class_weight=&#x27;balanced&#x27;,\n",
       "                       criterion=&#x27;entropy&#x27;, max_depth=10)</pre><b>In a Jupyter environment, please rerun this cell to show the HTML representation or trust the notebook. <br />On GitHub, the HTML representation is unable to render, please try loading this page with nbviewer.org.</b></div><div class=\"sk-container\" hidden><div class=\"sk-item\"><div class=\"sk-estimator sk-toggleable\"><input class=\"sk-toggleable__control sk-hidden--visually\" id=\"sk-estimator-id-2\" type=\"checkbox\" checked><label for=\"sk-estimator-id-2\" class=\"sk-toggleable__label sk-toggleable__label-arrow\">RandomForestClassifier</label><div class=\"sk-toggleable__content\"><pre>RandomForestClassifier(ccp_alpha=0.0085, class_weight=&#x27;balanced&#x27;,\n",
       "                       criterion=&#x27;entropy&#x27;, max_depth=10)</pre></div></div></div></div></div>"
      ],
      "text/plain": [
       "RandomForestClassifier(ccp_alpha=0.0085, class_weight='balanced',\n",
       "                       criterion='entropy', max_depth=10)"
      ]
     },
     "execution_count": 85,
     "metadata": {},
     "output_type": "execute_result"
    }
   ],
   "source": [
    "RF.fit(X_train,y_train)"
   ]
  },
  {
   "cell_type": "code",
   "execution_count": 86,
   "id": "f75cf8d9",
   "metadata": {},
   "outputs": [
    {
     "data": {
      "text/plain": [
       "(0.8697478991596639, 0.8679245283018868)"
      ]
     },
     "execution_count": 86,
     "metadata": {},
     "output_type": "execute_result"
    }
   ],
   "source": [
    "RF.score(X_train,y_train),RF.score(X_test,y_test)"
   ]
  },
  {
   "cell_type": "code",
   "execution_count": 87,
   "id": "b6cb5345",
   "metadata": {},
   "outputs": [
    {
     "data": {
      "text/plain": [
       "array([0.00590403, 0.00050725, 0.25754642, 0.01764032, 0.0158143 ,\n",
       "       0.00143737, 0.02139929, 0.02819439, 0.01867883, 0.17940811,\n",
       "       0.07943974, 0.31669506, 0.05733489])"
      ]
     },
     "execution_count": 87,
     "metadata": {},
     "output_type": "execute_result"
    }
   ],
   "source": [
    "RF.feature_importances_"
   ]
  },
  {
   "cell_type": "code",
   "execution_count": 88,
   "id": "1f50266d",
   "metadata": {},
   "outputs": [
    {
     "data": {
      "text/plain": [
       "Index(['Increased_Income', 'Gender', 'No_of_Records', 'Age', 'City', 'Education_Level', 'Income', 'Joining_Designation', 'Grade', 'Total_Business_Value', 'Quarterly_Rating', 'joining_Year', 'Quarterly_Rating_increased'], dtype='object')"
      ]
     },
     "execution_count": 88,
     "metadata": {},
     "output_type": "execute_result"
    }
   ],
   "source": [
    "X.columns"
   ]
  },
  {
   "cell_type": "code",
   "execution_count": 89,
   "id": "a844a4b6",
   "metadata": {},
   "outputs": [
    {
     "data": {
      "text/plain": [
       "<AxesSubplot:>"
      ]
     },
     "execution_count": 89,
     "metadata": {},
     "output_type": "execute_result"
    },
    {
     "data": {
      "image/png": "[encoded data removed]",
      "text/plain": [
       "<Figure size 432x288 with 1 Axes>"
      ]
     },
     "metadata": {
      "needs_background": "light"
     },
     "output_type": "display_data"
    }
   ],
   "source": [
    "pd.DataFrame(data=RF.feature_importances_,\n",
    "            index=X.columns).plot(kind=\"bar\")"
   ]
  },
  {
   "cell_type": "code",
   "execution_count": 90,
   "id": "058ddb40",
   "metadata": {},
   "outputs": [],
   "source": [
    "from sklearn.metrics import f1_score , precision_score, recall_score,confusion_matrix\n",
    "\n"
   ]
  },
  {
   "cell_type": "code",
   "execution_count": 91,
   "id": "0cc66f19",
   "metadata": {
    "scrolled": false
   },
   "outputs": [
    {
     "data": {
      "text/plain": [
       "array([[141,  21],\n",
       "       [ 42, 273]], dtype=int64)"
      ]
     },
     "execution_count": 91,
     "metadata": {},
     "output_type": "execute_result"
    }
   ],
   "source": [
    "confusion_matrix(y_test,RF.predict(X_test) )"
   ]
  },
  {
   "cell_type": "code",
   "execution_count": 92,
   "id": "9df1be9f",
   "metadata": {},
   "outputs": [
    {
     "data": {
      "text/plain": [
       "array([[ 537,   66],\n",
       "       [ 182, 1119]], dtype=int64)"
      ]
     },
     "execution_count": 92,
     "metadata": {},
     "output_type": "execute_result"
    }
   ],
   "source": [
    "confusion_matrix(y_train,RF.predict(X_train) )"
   ]
  },
  {
   "cell_type": "code",
   "execution_count": 93,
   "id": "819ffe77",
   "metadata": {},
   "outputs": [
    {
     "data": {
      "text/plain": [
       "(0.896551724137931, 0.9002413515687852)"
      ]
     },
     "execution_count": 93,
     "metadata": {},
     "output_type": "execute_result"
    }
   ],
   "source": [
    "f1_score(y_test,RF.predict(X_test)),f1_score(y_train,RF.predict(X_train))"
   ]
  },
  {
   "cell_type": "code",
   "execution_count": 94,
   "id": "b078d55c",
   "metadata": {},
   "outputs": [
    {
     "data": {
      "text/plain": [
       "(0.9285714285714286, 0.9443037974683545)"
      ]
     },
     "execution_count": 94,
     "metadata": {},
     "output_type": "execute_result"
    }
   ],
   "source": [
    "precision_score(y_test,RF.predict(X_test)),precision_score(y_train,RF.predict(X_train))"
   ]
  },
  {
   "cell_type": "code",
   "execution_count": 95,
   "id": "bc90fbd0",
   "metadata": {},
   "outputs": [
    {
     "data": {
      "text/plain": [
       "(0.8666666666666667, 0.8601076095311299)"
      ]
     },
     "execution_count": 95,
     "metadata": {},
     "output_type": "execute_result"
    }
   ],
   "source": [
    "recall_score(y_test,RF.predict(X_test)),recall_score(y_train,RF.predict(X_train))"
   ]
  },
  {
   "cell_type": "markdown",
   "id": "1fd9a7a1",
   "metadata": {},
   "source": [
    "## GridSearchCV - on RandomForestClassifier"
   ]
  },
  {
   "cell_type": "code",
   "execution_count": 96,
   "id": "4b9d16fe",
   "metadata": {},
   "outputs": [],
   "source": [
    "from sklearn.model_selection import GridSearchCV\n",
    "from sklearn.ensemble import RandomForestClassifier\n",
    "\n",
    "parameters = {\"max_depth\":[7,10,15],\n",
    "             \"n_estimators\":[100,200,300,400],\n",
    "             \"max_features\":[4,7,10],\n",
    "             \"ccp_alpha\":[0.0005,0.00075,0.001]}\n",
    "\n",
    "RFC = RandomForestClassifier()\n",
    "grid_search = GridSearchCV(\n",
    "    estimator = RFC,\n",
    "    param_grid = parameters,\n",
    "    scoring = \"accuracy\",\n",
    "    n_jobs = -1,\n",
    "    refit=True,                   # need not to train again after grid search\n",
    "    cv=3,\n",
    "    pre_dispatch='2*n_jobs',\n",
    "    return_train_score=False)\n"
   ]
  },
  {
   "cell_type": "code",
   "execution_count": 97,
   "id": "902dad8b",
   "metadata": {},
   "outputs": [
    {
     "data": {
      "text/html": [
       "<style>#sk-container-id-3 {color: black;background-color: white;}#sk-container-id-3 pre{padding: 0;}#sk-container-id-3 div.sk-toggleable {background-color: white;}#sk-container-id-3 label.sk-toggleable__label {cursor: pointer;display: block;width: 100%;margin-bottom: 0;padding: 0.3em;box-sizing: border-box;text-align: center;}#sk-container-id-3 label.sk-toggleable__label-arrow:before {content: \"▸\";float: left;margin-right: 0.25em;color: #696969;}#sk-container-id-3 label.sk-toggleable__label-arrow:hover:before {color: black;}#sk-container-id-3 div.sk-estimator:hover label.sk-toggleable__label-arrow:before {color: black;}#sk-container-id-3 div.sk-toggleable__content {max-height: 0;max-width: 0;overflow: hidden;text-align: left;background-color: #f0f8ff;}#sk-container-id-3 div.sk-toggleable__content pre {margin: 0.2em;color: black;border-radius: 0.25em;background-color: #f0f8ff;}#sk-container-id-3 input.sk-toggleable__control:checked~div.sk-toggleable__content {max-height: 200px;max-width: 100%;overflow: auto;}#sk-container-id-3 input.sk-toggleable__control:checked~label.sk-toggleable__label-arrow:before {content: \"▾\";}#sk-container-id-3 div.sk-estimator input.sk-toggleable__control:checked~label.sk-toggleable__label {background-color: #d4ebff;}#sk-container-id-3 div.sk-label input.sk-toggleable__control:checked~label.sk-toggleable__label {background-color: #d4ebff;}#sk-container-id-3 input.sk-hidden--visually {border: 0;clip: rect(1px 1px 1px 1px);clip: rect(1px, 1px, 1px, 1px);height: 1px;margin: -1px;overflow: hidden;padding: 0;position: absolute;width: 1px;}#sk-container-id-3 div.sk-estimator {font-family: monospace;background-color: #f0f8ff;border: 1px dotted black;border-radius: 0.25em;box-sizing: border-box;margin-bottom: 0.5em;}#sk-container-id-3 div.sk-estimator:hover {background-color: #d4ebff;}#sk-container-id-3 div.sk-parallel-item::after {content: \"\";width: 100%;border-bottom: 1px solid gray;flex-grow: 1;}#sk-container-id-3 div.sk-label:hover label.sk-toggleable__label {background-color: #d4ebff;}#sk-container-id-3 div.sk-serial::before {content: \"\";position: absolute;border-left: 1px solid gray;box-sizing: border-box;top: 0;bottom: 0;left: 50%;z-index: 0;}#sk-container-id-3 div.sk-serial {display: flex;flex-direction: column;align-items: center;background-color: white;padding-right: 0.2em;padding-left: 0.2em;position: relative;}#sk-container-id-3 div.sk-item {position: relative;z-index: 1;}#sk-container-id-3 div.sk-parallel {display: flex;align-items: stretch;justify-content: center;background-color: white;position: relative;}#sk-container-id-3 div.sk-item::before, #sk-container-id-3 div.sk-parallel-item::before {content: \"\";position: absolute;border-left: 1px solid gray;box-sizing: border-box;top: 0;bottom: 0;left: 50%;z-index: -1;}#sk-container-id-3 div.sk-parallel-item {display: flex;flex-direction: column;z-index: 1;position: relative;background-color: white;}#sk-container-id-3 div.sk-parallel-item:first-child::after {align-self: flex-end;width: 50%;}#sk-container-id-3 div.sk-parallel-item:last-child::after {align-self: flex-start;width: 50%;}#sk-container-id-3 div.sk-parallel-item:only-child::after {width: 0;}#sk-container-id-3 div.sk-dashed-wrapped {border: 1px dashed gray;margin: 0 0.4em 0.5em 0.4em;box-sizing: border-box;padding-bottom: 0.4em;background-color: white;}#sk-container-id-3 div.sk-label label {font-family: monospace;font-weight: bold;display: inline-block;line-height: 1.2em;}#sk-container-id-3 div.sk-label-container {text-align: center;}#sk-container-id-3 div.sk-container {/* jupyter's `normalize.less` sets `[hidden] { display: none; }` but bootstrap.min.css set `[hidden] { display: none !important; }` so we also need the `!important` here to be able to override the default hidden behavior on the sphinx rendered scikit-learn.org. See: https://github.com/scikit-learn/scikit-learn/issues/21755 */display: inline-block !important;position: relative;}#sk-container-id-3 div.sk-text-repr-fallback {display: none;}</style><div id=\"sk-container-id-3\" class=\"sk-top-container\"><div class=\"sk-text-repr-fallback\"><pre>GridSearchCV(cv=3, estimator=RandomForestClassifier(), n_jobs=-1,\n",
       "             param_grid={&#x27;ccp_alpha&#x27;: [0.0005, 0.00075, 0.001],\n",
       "                         &#x27;max_depth&#x27;: [7, 10, 15], &#x27;max_features&#x27;: [4, 7, 10],\n",
       "                         &#x27;n_estimators&#x27;: [100, 200, 300, 400]},\n",
       "             scoring=&#x27;accuracy&#x27;)</pre><b>In a Jupyter environment, please rerun this cell to show the HTML representation or trust the notebook. <br />On GitHub, the HTML representation is unable to render, please try loading this page with nbviewer.org.</b></div><div class=\"sk-container\" hidden><div class=\"sk-item sk-dashed-wrapped\"><div class=\"sk-label-container\"><div class=\"sk-label sk-toggleable\"><input class=\"sk-toggleable__control sk-hidden--visually\" id=\"sk-estimator-id-3\" type=\"checkbox\" ><label for=\"sk-estimator-id-3\" class=\"sk-toggleable__label sk-toggleable__label-arrow\">GridSearchCV</label><div class=\"sk-toggleable__content\"><pre>GridSearchCV(cv=3, estimator=RandomForestClassifier(), n_jobs=-1,\n",
       "             param_grid={&#x27;ccp_alpha&#x27;: [0.0005, 0.00075, 0.001],\n",
       "                         &#x27;max_depth&#x27;: [7, 10, 15], &#x27;max_features&#x27;: [4, 7, 10],\n",
       "                         &#x27;n_estimators&#x27;: [100, 200, 300, 400]},\n",
       "             scoring=&#x27;accuracy&#x27;)</pre></div></div></div><div class=\"sk-parallel\"><div class=\"sk-parallel-item\"><div class=\"sk-item\"><div class=\"sk-label-container\"><div class=\"sk-label sk-toggleable\"><input class=\"sk-toggleable__control sk-hidden--visually\" id=\"sk-estimator-id-4\" type=\"checkbox\" ><label for=\"sk-estimator-id-4\" class=\"sk-toggleable__label sk-toggleable__label-arrow\">estimator: RandomForestClassifier</label><div class=\"sk-toggleable__content\"><pre>RandomForestClassifier()</pre></div></div></div><div class=\"sk-serial\"><div class=\"sk-item\"><div class=\"sk-estimator sk-toggleable\"><input class=\"sk-toggleable__control sk-hidden--visually\" id=\"sk-estimator-id-5\" type=\"checkbox\" ><label for=\"sk-estimator-id-5\" class=\"sk-toggleable__label sk-toggleable__label-arrow\">RandomForestClassifier</label><div class=\"sk-toggleable__content\"><pre>RandomForestClassifier()</pre></div></div></div></div></div></div></div></div></div></div>"
      ],
      "text/plain": [
       "GridSearchCV(cv=3, estimator=RandomForestClassifier(), n_jobs=-1,\n",
       "             param_grid={'ccp_alpha': [0.0005, 0.00075, 0.001],\n",
       "                         'max_depth': [7, 10, 15], 'max_features': [4, 7, 10],\n",
       "                         'n_estimators': [100, 200, 300, 400]},\n",
       "             scoring='accuracy')"
      ]
     },
     "execution_count": 97,
     "metadata": {},
     "output_type": "execute_result"
    }
   ],
   "source": [
    "grid_search.fit(X_train,y_train.values.ravel())\n"
   ]
  },
  {
   "cell_type": "code",
   "execution_count": 98,
   "id": "2ce4047b",
   "metadata": {},
   "outputs": [
    {
     "data": {
      "text/html": [
       "<style>#sk-container-id-4 {color: black;background-color: white;}#sk-container-id-4 pre{padding: 0;}#sk-container-id-4 div.sk-toggleable {background-color: white;}#sk-container-id-4 label.sk-toggleable__label {cursor: pointer;display: block;width: 100%;margin-bottom: 0;padding: 0.3em;box-sizing: border-box;text-align: center;}#sk-container-id-4 label.sk-toggleable__label-arrow:before {content: \"▸\";float: left;margin-right: 0.25em;color: #696969;}#sk-container-id-4 label.sk-toggleable__label-arrow:hover:before {color: black;}#sk-container-id-4 div.sk-estimator:hover label.sk-toggleable__label-arrow:before {color: black;}#sk-container-id-4 div.sk-toggleable__content {max-height: 0;max-width: 0;overflow: hidden;text-align: left;background-color: #f0f8ff;}#sk-container-id-4 div.sk-toggleable__content pre {margin: 0.2em;color: black;border-radius: 0.25em;background-color: #f0f8ff;}#sk-container-id-4 input.sk-toggleable__control:checked~div.sk-toggleable__content {max-height: 200px;max-width: 100%;overflow: auto;}#sk-container-id-4 input.sk-toggleable__control:checked~label.sk-toggleable__label-arrow:before {content: \"▾\";}#sk-container-id-4 div.sk-estimator input.sk-toggleable__control:checked~label.sk-toggleable__label {background-color: #d4ebff;}#sk-container-id-4 div.sk-label input.sk-toggleable__control:checked~label.sk-toggleable__label {background-color: #d4ebff;}#sk-container-id-4 input.sk-hidden--visually {border: 0;clip: rect(1px 1px 1px 1px);clip: rect(1px, 1px, 1px, 1px);height: 1px;margin: -1px;overflow: hidden;padding: 0;position: absolute;width: 1px;}#sk-container-id-4 div.sk-estimator {font-family: monospace;background-color: #f0f8ff;border: 1px dotted black;border-radius: 0.25em;box-sizing: border-box;margin-bottom: 0.5em;}#sk-container-id-4 div.sk-estimator:hover {background-color: #d4ebff;}#sk-container-id-4 div.sk-parallel-item::after {content: \"\";width: 100%;border-bottom: 1px solid gray;flex-grow: 1;}#sk-container-id-4 div.sk-label:hover label.sk-toggleable__label {background-color: #d4ebff;}#sk-container-id-4 div.sk-serial::before {content: \"\";position: absolute;border-left: 1px solid gray;box-sizing: border-box;top: 0;bottom: 0;left: 50%;z-index: 0;}#sk-container-id-4 div.sk-serial {display: flex;flex-direction: column;align-items: center;background-color: white;padding-right: 0.2em;padding-left: 0.2em;position: relative;}#sk-container-id-4 div.sk-item {position: relative;z-index: 1;}#sk-container-id-4 div.sk-parallel {display: flex;align-items: stretch;justify-content: center;background-color: white;position: relative;}#sk-container-id-4 div.sk-item::before, #sk-container-id-4 div.sk-parallel-item::before {content: \"\";position: absolute;border-left: 1px solid gray;box-sizing: border-box;top: 0;bottom: 0;left: 50%;z-index: -1;}#sk-container-id-4 div.sk-parallel-item {display: flex;flex-direction: column;z-index: 1;position: relative;background-color: white;}#sk-container-id-4 div.sk-parallel-item:first-child::after {align-self: flex-end;width: 50%;}#sk-container-id-4 div.sk-parallel-item:last-child::after {align-self: flex-start;width: 50%;}#sk-container-id-4 div.sk-parallel-item:only-child::after {width: 0;}#sk-container-id-4 div.sk-dashed-wrapped {border: 1px dashed gray;margin: 0 0.4em 0.5em 0.4em;box-sizing: border-box;padding-bottom: 0.4em;background-color: white;}#sk-container-id-4 div.sk-label label {font-family: monospace;font-weight: bold;display: inline-block;line-height: 1.2em;}#sk-container-id-4 div.sk-label-container {text-align: center;}#sk-container-id-4 div.sk-container {/* jupyter's `normalize.less` sets `[hidden] { display: none; }` but bootstrap.min.css set `[hidden] { display: none !important; }` so we also need the `!important` here to be able to override the default hidden behavior on the sphinx rendered scikit-learn.org. See: https://github.com/scikit-learn/scikit-learn/issues/21755 */display: inline-block !important;position: relative;}#sk-container-id-4 div.sk-text-repr-fallback {display: none;}</style><div id=\"sk-container-id-4\" class=\"sk-top-container\"><div class=\"sk-text-repr-fallback\"><pre>RandomForestClassifier(ccp_alpha=0.001, max_depth=10, max_features=7,\n",
       "                       n_estimators=300)</pre><b>In a Jupyter environment, please rerun this cell to show the HTML representation or trust the notebook. <br />On GitHub, the HTML representation is unable to render, please try loading this page with nbviewer.org.</b></div><div class=\"sk-container\" hidden><div class=\"sk-item\"><div class=\"sk-estimator sk-toggleable\"><input class=\"sk-toggleable__control sk-hidden--visually\" id=\"sk-estimator-id-6\" type=\"checkbox\" checked><label for=\"sk-estimator-id-6\" class=\"sk-toggleable__label sk-toggleable__label-arrow\">RandomForestClassifier</label><div class=\"sk-toggleable__content\"><pre>RandomForestClassifier(ccp_alpha=0.001, max_depth=10, max_features=7,\n",
       "                       n_estimators=300)</pre></div></div></div></div></div>"
      ],
      "text/plain": [
       "RandomForestClassifier(ccp_alpha=0.001, max_depth=10, max_features=7,\n",
       "                       n_estimators=300)"
      ]
     },
     "execution_count": 98,
     "metadata": {},
     "output_type": "execute_result"
    }
   ],
   "source": [
    "grid_search.best_estimator_"
   ]
  },
  {
   "cell_type": "code",
   "execution_count": 99,
   "id": "52fb35d6",
   "metadata": {},
   "outputs": [
    {
     "data": {
      "text/plain": [
       "0.8881417819617973"
      ]
     },
     "execution_count": 99,
     "metadata": {},
     "output_type": "execute_result"
    }
   ],
   "source": [
    "grid_search.best_score_"
   ]
  },
  {
   "cell_type": "code",
   "execution_count": 100,
   "id": "6ad991dc",
   "metadata": {},
   "outputs": [
    {
     "data": {
      "text/plain": [
       "{'ccp_alpha': 0.001, 'max_depth': 10, 'max_features': 7, 'n_estimators': 300}"
      ]
     },
     "execution_count": 100,
     "metadata": {},
     "output_type": "execute_result"
    }
   ],
   "source": [
    "grid_search.best_params_"
   ]
  },
  {
   "cell_type": "code",
   "execution_count": null,
   "id": "2f9172cf",
   "metadata": {},
   "outputs": [],
   "source": []
  },
  {
   "cell_type": "code",
   "execution_count": 101,
   "id": "631b698d",
   "metadata": {},
   "outputs": [],
   "source": [
    "from sklearn.ensemble import RandomForestClassifier\n",
    "\n",
    "RF = RandomForestClassifier(n_estimators=100,\n",
    "    criterion='entropy',\n",
    "    max_depth=7,\n",
    "    min_samples_split=2,\n",
    "    min_samples_leaf=1,\n",
    "    \n",
    "    class_weight=\"balanced\",\n",
    "    ccp_alpha=0.0001,\n",
    "    max_samples=None)"
   ]
  },
  {
   "cell_type": "code",
   "execution_count": 102,
   "id": "a0f2f823",
   "metadata": {
    "scrolled": true
   },
   "outputs": [
    {
     "data": {
      "text/html": [
       "<style>#sk-container-id-5 {color: black;background-color: white;}#sk-container-id-5 pre{padding: 0;}#sk-container-id-5 div.sk-toggleable {background-color: white;}#sk-container-id-5 label.sk-toggleable__label {cursor: pointer;display: block;width: 100%;margin-bottom: 0;padding: 0.3em;box-sizing: border-box;text-align: center;}#sk-container-id-5 label.sk-toggleable__label-arrow:before {content: \"▸\";float: left;margin-right: 0.25em;color: #696969;}#sk-container-id-5 label.sk-toggleable__label-arrow:hover:before {color: black;}#sk-container-id-5 div.sk-estimator:hover label.sk-toggleable__label-arrow:before {color: black;}#sk-container-id-5 div.sk-toggleable__content {max-height: 0;max-width: 0;overflow: hidden;text-align: left;background-color: #f0f8ff;}#sk-container-id-5 div.sk-toggleable__content pre {margin: 0.2em;color: black;border-radius: 0.25em;background-color: #f0f8ff;}#sk-container-id-5 input.sk-toggleable__control:checked~div.sk-toggleable__content {max-height: 200px;max-width: 100%;overflow: auto;}#sk-container-id-5 input.sk-toggleable__control:checked~label.sk-toggleable__label-arrow:before {content: \"▾\";}#sk-container-id-5 div.sk-estimator input.sk-toggleable__control:checked~label.sk-toggleable__label {background-color: #d4ebff;}#sk-container-id-5 div.sk-label input.sk-toggleable__control:checked~label.sk-toggleable__label {background-color: #d4ebff;}#sk-container-id-5 input.sk-hidden--visually {border: 0;clip: rect(1px 1px 1px 1px);clip: rect(1px, 1px, 1px, 1px);height: 1px;margin: -1px;overflow: hidden;padding: 0;position: absolute;width: 1px;}#sk-container-id-5 div.sk-estimator {font-family: monospace;background-color: #f0f8ff;border: 1px dotted black;border-radius: 0.25em;box-sizing: border-box;margin-bottom: 0.5em;}#sk-container-id-5 div.sk-estimator:hover {background-color: #d4ebff;}#sk-container-id-5 div.sk-parallel-item::after {content: \"\";width: 100%;border-bottom: 1px solid gray;flex-grow: 1;}#sk-container-id-5 div.sk-label:hover label.sk-toggleable__label {background-color: #d4ebff;}#sk-container-id-5 div.sk-serial::before {content: \"\";position: absolute;border-left: 1px solid gray;box-sizing: border-box;top: 0;bottom: 0;left: 50%;z-index: 0;}#sk-container-id-5 div.sk-serial {display: flex;flex-direction: column;align-items: center;background-color: white;padding-right: 0.2em;padding-left: 0.2em;position: relative;}#sk-container-id-5 div.sk-item {position: relative;z-index: 1;}#sk-container-id-5 div.sk-parallel {display: flex;align-items: stretch;justify-content: center;background-color: white;position: relative;}#sk-container-id-5 div.sk-item::before, #sk-container-id-5 div.sk-parallel-item::before {content: \"\";position: absolute;border-left: 1px solid gray;box-sizing: border-box;top: 0;bottom: 0;left: 50%;z-index: -1;}#sk-container-id-5 div.sk-parallel-item {display: flex;flex-direction: column;z-index: 1;position: relative;background-color: white;}#sk-container-id-5 div.sk-parallel-item:first-child::after {align-self: flex-end;width: 50%;}#sk-container-id-5 div.sk-parallel-item:last-child::after {align-self: flex-start;width: 50%;}#sk-container-id-5 div.sk-parallel-item:only-child::after {width: 0;}#sk-container-id-5 div.sk-dashed-wrapped {border: 1px dashed gray;margin: 0 0.4em 0.5em 0.4em;box-sizing: border-box;padding-bottom: 0.4em;background-color: white;}#sk-container-id-5 div.sk-label label {font-family: monospace;font-weight: bold;display: inline-block;line-height: 1.2em;}#sk-container-id-5 div.sk-label-container {text-align: center;}#sk-container-id-5 div.sk-container {/* jupyter's `normalize.less` sets `[hidden] { display: none; }` but bootstrap.min.css set `[hidden] { display: none !important; }` so we also need the `!important` here to be able to override the default hidden behavior on the sphinx rendered scikit-learn.org. See: https://github.com/scikit-learn/scikit-learn/issues/21755 */display: inline-block !important;position: relative;}#sk-container-id-5 div.sk-text-repr-fallback {display: none;}</style><div id=\"sk-container-id-5\" class=\"sk-top-container\"><div class=\"sk-text-repr-fallback\"><pre>RandomForestClassifier(ccp_alpha=0.0001, class_weight=&#x27;balanced&#x27;,\n",
       "                       criterion=&#x27;entropy&#x27;, max_depth=7)</pre><b>In a Jupyter environment, please rerun this cell to show the HTML representation or trust the notebook. <br />On GitHub, the HTML representation is unable to render, please try loading this page with nbviewer.org.</b></div><div class=\"sk-container\" hidden><div class=\"sk-item\"><div class=\"sk-estimator sk-toggleable\"><input class=\"sk-toggleable__control sk-hidden--visually\" id=\"sk-estimator-id-7\" type=\"checkbox\" checked><label for=\"sk-estimator-id-7\" class=\"sk-toggleable__label sk-toggleable__label-arrow\">RandomForestClassifier</label><div class=\"sk-toggleable__content\"><pre>RandomForestClassifier(ccp_alpha=0.0001, class_weight=&#x27;balanced&#x27;,\n",
       "                       criterion=&#x27;entropy&#x27;, max_depth=7)</pre></div></div></div></div></div>"
      ],
      "text/plain": [
       "RandomForestClassifier(ccp_alpha=0.0001, class_weight='balanced',\n",
       "                       criterion='entropy', max_depth=7)"
      ]
     },
     "execution_count": 102,
     "metadata": {},
     "output_type": "execute_result"
    }
   ],
   "source": [
    "RF.fit(X_train , y_train)"
   ]
  },
  {
   "cell_type": "code",
   "execution_count": 103,
   "id": "90585816",
   "metadata": {},
   "outputs": [
    {
     "data": {
      "text/plain": [
       "(0.9028361344537815, 0.8825995807127882)"
      ]
     },
     "execution_count": 103,
     "metadata": {},
     "output_type": "execute_result"
    }
   ],
   "source": [
    "RF.score(X_train,y_train),RF.score(X_test,y_test)"
   ]
  },
  {
   "cell_type": "code",
   "execution_count": 104,
   "id": "26caefd2",
   "metadata": {},
   "outputs": [],
   "source": [
    "y_test_pred = RF.predict(X_test)\n",
    "y_train_pred = RF.predict(X_train)"
   ]
  },
  {
   "cell_type": "code",
   "execution_count": 105,
   "id": "a365b0c1",
   "metadata": {},
   "outputs": [
    {
     "data": {
      "text/plain": [
       "(0.9093851132686084, 0.9264998013508144)"
      ]
     },
     "execution_count": 105,
     "metadata": {},
     "output_type": "execute_result"
    }
   ],
   "source": [
    "f1_score(y_test,y_test_pred),f1_score(y_train,y_train_pred)\n"
   ]
  },
  {
   "cell_type": "code",
   "execution_count": 106,
   "id": "da083271",
   "metadata": {},
   "outputs": [
    {
     "data": {
      "text/plain": [
       "(0.9273927392739274, 0.9588815789473685)"
      ]
     },
     "execution_count": 106,
     "metadata": {},
     "output_type": "execute_result"
    }
   ],
   "source": [
    "precision_score(y_test,y_test_pred),precision_score(y_train,y_train_pred)\n"
   ]
  },
  {
   "cell_type": "code",
   "execution_count": 107,
   "id": "b17e9e1c",
   "metadata": {},
   "outputs": [
    {
     "data": {
      "text/plain": [
       "(0.8920634920634921, 0.8962336664104535)"
      ]
     },
     "execution_count": 107,
     "metadata": {},
     "output_type": "execute_result"
    }
   ],
   "source": [
    "recall_score(y_test,y_test_pred),recall_score(y_train,y_train_pred)"
   ]
  },
  {
   "cell_type": "code",
   "execution_count": null,
   "id": "310be88d",
   "metadata": {},
   "outputs": [],
   "source": []
  },
  {
   "cell_type": "code",
   "execution_count": null,
   "id": "c4c7896e",
   "metadata": {},
   "outputs": [],
   "source": []
  },
  {
   "cell_type": "code",
   "execution_count": null,
   "id": "e8ea14ca",
   "metadata": {},
   "outputs": [],
   "source": []
  },
  {
   "cell_type": "markdown",
   "id": "e99e4265",
   "metadata": {},
   "source": [
    "## BaggingClassifier"
   ]
  },
  {
   "cell_type": "code",
   "execution_count": 108,
   "id": "d9c2c785",
   "metadata": {},
   "outputs": [],
   "source": [
    "from sklearn.tree import DecisionTreeClassifier"
   ]
  },
  {
   "cell_type": "code",
   "execution_count": 109,
   "id": "f36f03b5",
   "metadata": {},
   "outputs": [],
   "source": [
    "from sklearn.ensemble import BaggingClassifier"
   ]
  },
  {
   "cell_type": "code",
   "execution_count": 110,
   "id": "a9f560ef",
   "metadata": {},
   "outputs": [],
   "source": [
    "bagging_classifier_model = BaggingClassifier(base_estimator=  DecisionTreeClassifier(max_depth=7,\n",
    "                                                                                     class_weight=\"balanced\"),\n",
    "                                            n_estimators=50,\n",
    "                                            max_samples=1.0,\n",
    "                                            max_features=1.0,\n",
    "                                            bootstrap=True,\n",
    "                                            bootstrap_features=False,\n",
    "                                            oob_score=False,\n",
    "                                            warm_start=False,\n",
    "                                            n_jobs=None,\n",
    "                                            random_state=None,\n",
    "                                            verbose=0,)"
   ]
  },
  {
   "cell_type": "code",
   "execution_count": 111,
   "id": "f79d59c3",
   "metadata": {},
   "outputs": [
    {
     "data": {
      "text/html": [
       "<style>#sk-container-id-6 {color: black;background-color: white;}#sk-container-id-6 pre{padding: 0;}#sk-container-id-6 div.sk-toggleable {background-color: white;}#sk-container-id-6 label.sk-toggleable__label {cursor: pointer;display: block;width: 100%;margin-bottom: 0;padding: 0.3em;box-sizing: border-box;text-align: center;}#sk-container-id-6 label.sk-toggleable__label-arrow:before {content: \"▸\";float: left;margin-right: 0.25em;color: #696969;}#sk-container-id-6 label.sk-toggleable__label-arrow:hover:before {color: black;}#sk-container-id-6 div.sk-estimator:hover label.sk-toggleable__label-arrow:before {color: black;}#sk-container-id-6 div.sk-toggleable__content {max-height: 0;max-width: 0;overflow: hidden;text-align: left;background-color: #f0f8ff;}#sk-container-id-6 div.sk-toggleable__content pre {margin: 0.2em;color: black;border-radius: 0.25em;background-color: #f0f8ff;}#sk-container-id-6 input.sk-toggleable__control:checked~div.sk-toggleable__content {max-height: 200px;max-width: 100%;overflow: auto;}#sk-container-id-6 input.sk-toggleable__control:checked~label.sk-toggleable__label-arrow:before {content: \"▾\";}#sk-container-id-6 div.sk-estimator input.sk-toggleable__control:checked~label.sk-toggleable__label {background-color: #d4ebff;}#sk-container-id-6 div.sk-label input.sk-toggleable__control:checked~label.sk-toggleable__label {background-color: #d4ebff;}#sk-container-id-6 input.sk-hidden--visually {border: 0;clip: rect(1px 1px 1px 1px);clip: rect(1px, 1px, 1px, 1px);height: 1px;margin: -1px;overflow: hidden;padding: 0;position: absolute;width: 1px;}#sk-container-id-6 div.sk-estimator {font-family: monospace;background-color: #f0f8ff;border: 1px dotted black;border-radius: 0.25em;box-sizing: border-box;margin-bottom: 0.5em;}#sk-container-id-6 div.sk-estimator:hover {background-color: #d4ebff;}#sk-container-id-6 div.sk-parallel-item::after {content: \"\";width: 100%;border-bottom: 1px solid gray;flex-grow: 1;}#sk-container-id-6 div.sk-label:hover label.sk-toggleable__label {background-color: #d4ebff;}#sk-container-id-6 div.sk-serial::before {content: \"\";position: absolute;border-left: 1px solid gray;box-sizing: border-box;top: 0;bottom: 0;left: 50%;z-index: 0;}#sk-container-id-6 div.sk-serial {display: flex;flex-direction: column;align-items: center;background-color: white;padding-right: 0.2em;padding-left: 0.2em;position: relative;}#sk-container-id-6 div.sk-item {position: relative;z-index: 1;}#sk-container-id-6 div.sk-parallel {display: flex;align-items: stretch;justify-content: center;background-color: white;position: relative;}#sk-container-id-6 div.sk-item::before, #sk-container-id-6 div.sk-parallel-item::before {content: \"\";position: absolute;border-left: 1px solid gray;box-sizing: border-box;top: 0;bottom: 0;left: 50%;z-index: -1;}#sk-container-id-6 div.sk-parallel-item {display: flex;flex-direction: column;z-index: 1;position: relative;background-color: white;}#sk-container-id-6 div.sk-parallel-item:first-child::after {align-self: flex-end;width: 50%;}#sk-container-id-6 div.sk-parallel-item:last-child::after {align-self: flex-start;width: 50%;}#sk-container-id-6 div.sk-parallel-item:only-child::after {width: 0;}#sk-container-id-6 div.sk-dashed-wrapped {border: 1px dashed gray;margin: 0 0.4em 0.5em 0.4em;box-sizing: border-box;padding-bottom: 0.4em;background-color: white;}#sk-container-id-6 div.sk-label label {font-family: monospace;font-weight: bold;display: inline-block;line-height: 1.2em;}#sk-container-id-6 div.sk-label-container {text-align: center;}#sk-container-id-6 div.sk-container {/* jupyter's `normalize.less` sets `[hidden] { display: none; }` but bootstrap.min.css set `[hidden] { display: none !important; }` so we also need the `!important` here to be able to override the default hidden behavior on the sphinx rendered scikit-learn.org. See: https://github.com/scikit-learn/scikit-learn/issues/21755 */display: inline-block !important;position: relative;}#sk-container-id-6 div.sk-text-repr-fallback {display: none;}</style><div id=\"sk-container-id-6\" class=\"sk-top-container\"><div class=\"sk-text-repr-fallback\"><pre>BaggingClassifier(base_estimator=DecisionTreeClassifier(class_weight=&#x27;balanced&#x27;,\n",
       "                                                        max_depth=7),\n",
       "                  n_estimators=50)</pre><b>In a Jupyter environment, please rerun this cell to show the HTML representation or trust the notebook. <br />On GitHub, the HTML representation is unable to render, please try loading this page with nbviewer.org.</b></div><div class=\"sk-container\" hidden><div class=\"sk-item sk-dashed-wrapped\"><div class=\"sk-label-container\"><div class=\"sk-label sk-toggleable\"><input class=\"sk-toggleable__control sk-hidden--visually\" id=\"sk-estimator-id-8\" type=\"checkbox\" ><label for=\"sk-estimator-id-8\" class=\"sk-toggleable__label sk-toggleable__label-arrow\">BaggingClassifier</label><div class=\"sk-toggleable__content\"><pre>BaggingClassifier(base_estimator=DecisionTreeClassifier(class_weight=&#x27;balanced&#x27;,\n",
       "                                                        max_depth=7),\n",
       "                  n_estimators=50)</pre></div></div></div><div class=\"sk-parallel\"><div class=\"sk-parallel-item\"><div class=\"sk-item\"><div class=\"sk-label-container\"><div class=\"sk-label sk-toggleable\"><input class=\"sk-toggleable__control sk-hidden--visually\" id=\"sk-estimator-id-9\" type=\"checkbox\" ><label for=\"sk-estimator-id-9\" class=\"sk-toggleable__label sk-toggleable__label-arrow\">base_estimator: DecisionTreeClassifier</label><div class=\"sk-toggleable__content\"><pre>DecisionTreeClassifier(class_weight=&#x27;balanced&#x27;, max_depth=7)</pre></div></div></div><div class=\"sk-serial\"><div class=\"sk-item\"><div class=\"sk-estimator sk-toggleable\"><input class=\"sk-toggleable__control sk-hidden--visually\" id=\"sk-estimator-id-10\" type=\"checkbox\" ><label for=\"sk-estimator-id-10\" class=\"sk-toggleable__label sk-toggleable__label-arrow\">DecisionTreeClassifier</label><div class=\"sk-toggleable__content\"><pre>DecisionTreeClassifier(class_weight=&#x27;balanced&#x27;, max_depth=7)</pre></div></div></div></div></div></div></div></div></div></div>"
      ],
      "text/plain": [
       "BaggingClassifier(base_estimator=DecisionTreeClassifier(class_weight='balanced',\n",
       "                                                        max_depth=7),\n",
       "                  n_estimators=50)"
      ]
     },
     "execution_count": 111,
     "metadata": {},
     "output_type": "execute_result"
    }
   ],
   "source": [
    "bagging_classifier_model.fit(X_train,y_train)"
   ]
  },
  {
   "cell_type": "code",
   "execution_count": 112,
   "id": "7f27ed80",
   "metadata": {},
   "outputs": [],
   "source": [
    "\n",
    "from sklearn.metrics import f1_score , precision_score, recall_score,confusion_matrix\n"
   ]
  },
  {
   "cell_type": "code",
   "execution_count": 113,
   "id": "9dd2115e",
   "metadata": {},
   "outputs": [],
   "source": [
    "y_test_pred = bagging_classifier_model.predict(X_test)\n",
    "y_train_pred = bagging_classifier_model.predict(X_train)"
   ]
  },
  {
   "cell_type": "code",
   "execution_count": 114,
   "id": "4e5d201e",
   "metadata": {},
   "outputs": [
    {
     "data": {
      "text/plain": [
       "array([[144,  18],\n",
       "       [ 39, 276]], dtype=int64)"
      ]
     },
     "execution_count": 114,
     "metadata": {},
     "output_type": "execute_result"
    }
   ],
   "source": [
    "\n",
    "confusion_matrix(y_test,y_test_pred)"
   ]
  },
  {
   "cell_type": "code",
   "execution_count": 115,
   "id": "4d60ccf7",
   "metadata": {},
   "outputs": [
    {
     "data": {
      "text/plain": [
       "array([[ 558,   45],\n",
       "       [ 116, 1185]], dtype=int64)"
      ]
     },
     "execution_count": 115,
     "metadata": {},
     "output_type": "execute_result"
    }
   ],
   "source": [
    "\n",
    "confusion_matrix(y_train,y_train_pred)"
   ]
  },
  {
   "cell_type": "code",
   "execution_count": 116,
   "id": "1cbf18a3",
   "metadata": {},
   "outputs": [
    {
     "data": {
      "text/plain": [
       "(0.9064039408866995, 0.9363887791386803)"
      ]
     },
     "execution_count": 116,
     "metadata": {},
     "output_type": "execute_result"
    }
   ],
   "source": [
    "f1_score(y_test,y_test_pred),f1_score(y_train,y_train_pred)\n"
   ]
  },
  {
   "cell_type": "code",
   "execution_count": 117,
   "id": "ad22f15e",
   "metadata": {},
   "outputs": [
    {
     "data": {
      "text/plain": [
       "(0.9387755102040817, 0.9634146341463414)"
      ]
     },
     "execution_count": 117,
     "metadata": {},
     "output_type": "execute_result"
    }
   ],
   "source": [
    "precision_score(y_test,y_test_pred),precision_score(y_train,y_train_pred)\n"
   ]
  },
  {
   "cell_type": "code",
   "execution_count": 118,
   "id": "7de51e90",
   "metadata": {},
   "outputs": [
    {
     "data": {
      "text/plain": [
       "(0.8761904761904762, 0.9108378170637971)"
      ]
     },
     "execution_count": 118,
     "metadata": {},
     "output_type": "execute_result"
    }
   ],
   "source": [
    "\n",
    "recall_score(y_test,y_test_pred),recall_score(y_train,y_train_pred)"
   ]
  },
  {
   "cell_type": "code",
   "execution_count": 119,
   "id": "2af73a35",
   "metadata": {},
   "outputs": [
    {
     "data": {
      "text/plain": [
       "0.8805031446540881"
      ]
     },
     "execution_count": 119,
     "metadata": {},
     "output_type": "execute_result"
    }
   ],
   "source": [
    "bagging_classifier_model.score(X_test,y_test)"
   ]
  },
  {
   "cell_type": "code",
   "execution_count": 120,
   "id": "a3040216",
   "metadata": {},
   "outputs": [
    {
     "data": {
      "text/plain": [
       "0.9154411764705882"
      ]
     },
     "execution_count": 120,
     "metadata": {},
     "output_type": "execute_result"
    }
   ],
   "source": [
    "bagging_classifier_model.score(X_train,y_train)"
   ]
  },
  {
   "cell_type": "code",
   "execution_count": null,
   "id": "90f5cdc4",
   "metadata": {},
   "outputs": [],
   "source": []
  },
  {
   "cell_type": "code",
   "execution_count": null,
   "id": "643f2234",
   "metadata": {},
   "outputs": [],
   "source": []
  },
  {
   "cell_type": "code",
   "execution_count": 121,
   "id": "93af7915",
   "metadata": {},
   "outputs": [],
   "source": [
    "# !pip install xgboost"
   ]
  },
  {
   "cell_type": "code",
   "execution_count": 122,
   "id": "0953e121",
   "metadata": {},
   "outputs": [],
   "source": [
    "from xgboost import XGBClassifier"
   ]
  },
  {
   "cell_type": "code",
   "execution_count": 123,
   "id": "dbe8d512",
   "metadata": {},
   "outputs": [
    {
     "data": {
      "text/plain": [
       "{'max_depth': 2, 'n_estimators': 100}"
      ]
     },
     "execution_count": 123,
     "metadata": {},
     "output_type": "execute_result"
    }
   ],
   "source": [
    "from sklearn.model_selection import GridSearchCV\n",
    "from sklearn.ensemble import RandomForestClassifier\n",
    "\n",
    "parameters = {\"max_depth\":[2,4,6,10],\n",
    "             \"n_estimators\":[100,200,300,400]    }\n",
    "\n",
    "\n",
    "grid_search = GridSearchCV(\n",
    "    estimator = XGBClassifier(),\n",
    "    param_grid = parameters,\n",
    "    scoring = \"accuracy\",\n",
    "    n_jobs = -1,\n",
    "    refit=True,                   # need not to train again after grid search\n",
    "    cv=3,\n",
    "    pre_dispatch='2*n_jobs',\n",
    "    return_train_score=False)\n",
    "\n",
    "\n",
    "grid_search.fit(X_train,y_train.values.ravel())\n",
    "\n",
    "grid_search.best_estimator_\n",
    "\n",
    "grid_search.best_score_\n",
    "\n",
    "grid_search.best_params_"
   ]
  },
  {
   "cell_type": "code",
   "execution_count": null,
   "id": "6cb4b27d",
   "metadata": {},
   "outputs": [],
   "source": []
  },
  {
   "cell_type": "code",
   "execution_count": null,
   "id": "be35d113",
   "metadata": {},
   "outputs": [],
   "source": []
  },
  {
   "cell_type": "code",
   "execution_count": 124,
   "id": "c2404d23",
   "metadata": {},
   "outputs": [
    {
     "data": {
      "text/html": [
       "<style>#sk-container-id-7 {color: black;background-color: white;}#sk-container-id-7 pre{padding: 0;}#sk-container-id-7 div.sk-toggleable {background-color: white;}#sk-container-id-7 label.sk-toggleable__label {cursor: pointer;display: block;width: 100%;margin-bottom: 0;padding: 0.3em;box-sizing: border-box;text-align: center;}#sk-container-id-7 label.sk-toggleable__label-arrow:before {content: \"▸\";float: left;margin-right: 0.25em;color: #696969;}#sk-container-id-7 label.sk-toggleable__label-arrow:hover:before {color: black;}#sk-container-id-7 div.sk-estimator:hover label.sk-toggleable__label-arrow:before {color: black;}#sk-container-id-7 div.sk-toggleable__content {max-height: 0;max-width: 0;overflow: hidden;text-align: left;background-color: #f0f8ff;}#sk-container-id-7 div.sk-toggleable__content pre {margin: 0.2em;color: black;border-radius: 0.25em;background-color: #f0f8ff;}#sk-container-id-7 input.sk-toggleable__control:checked~div.sk-toggleable__content {max-height: 200px;max-width: 100%;overflow: auto;}#sk-container-id-7 input.sk-toggleable__control:checked~label.sk-toggleable__label-arrow:before {content: \"▾\";}#sk-container-id-7 div.sk-estimator input.sk-toggleable__control:checked~label.sk-toggleable__label {background-color: #d4ebff;}#sk-container-id-7 div.sk-label input.sk-toggleable__control:checked~label.sk-toggleable__label {background-color: #d4ebff;}#sk-container-id-7 input.sk-hidden--visually {border: 0;clip: rect(1px 1px 1px 1px);clip: rect(1px, 1px, 1px, 1px);height: 1px;margin: -1px;overflow: hidden;padding: 0;position: absolute;width: 1px;}#sk-container-id-7 div.sk-estimator {font-family: monospace;background-color: #f0f8ff;border: 1px dotted black;border-radius: 0.25em;box-sizing: border-box;margin-bottom: 0.5em;}#sk-container-id-7 div.sk-estimator:hover {background-color: #d4ebff;}#sk-container-id-7 div.sk-parallel-item::after {content: \"\";width: 100%;border-bottom: 1px solid gray;flex-grow: 1;}#sk-container-id-7 div.sk-label:hover label.sk-toggleable__label {background-color: #d4ebff;}#sk-container-id-7 div.sk-serial::before {content: \"\";position: absolute;border-left: 1px solid gray;box-sizing: border-box;top: 0;bottom: 0;left: 50%;z-index: 0;}#sk-container-id-7 div.sk-serial {display: flex;flex-direction: column;align-items: center;background-color: white;padding-right: 0.2em;padding-left: 0.2em;position: relative;}#sk-container-id-7 div.sk-item {position: relative;z-index: 1;}#sk-container-id-7 div.sk-parallel {display: flex;align-items: stretch;justify-content: center;background-color: white;position: relative;}#sk-container-id-7 div.sk-item::before, #sk-container-id-7 div.sk-parallel-item::before {content: \"\";position: absolute;border-left: 1px solid gray;box-sizing: border-box;top: 0;bottom: 0;left: 50%;z-index: -1;}#sk-container-id-7 div.sk-parallel-item {display: flex;flex-direction: column;z-index: 1;position: relative;background-color: white;}#sk-container-id-7 div.sk-parallel-item:first-child::after {align-self: flex-end;width: 50%;}#sk-container-id-7 div.sk-parallel-item:last-child::after {align-self: flex-start;width: 50%;}#sk-container-id-7 div.sk-parallel-item:only-child::after {width: 0;}#sk-container-id-7 div.sk-dashed-wrapped {border: 1px dashed gray;margin: 0 0.4em 0.5em 0.4em;box-sizing: border-box;padding-bottom: 0.4em;background-color: white;}#sk-container-id-7 div.sk-label label {font-family: monospace;font-weight: bold;display: inline-block;line-height: 1.2em;}#sk-container-id-7 div.sk-label-container {text-align: center;}#sk-container-id-7 div.sk-container {/* jupyter's `normalize.less` sets `[hidden] { display: none; }` but bootstrap.min.css set `[hidden] { display: none !important; }` so we also need the `!important` here to be able to override the default hidden behavior on the sphinx rendered scikit-learn.org. See: https://github.com/scikit-learn/scikit-learn/issues/21755 */display: inline-block !important;position: relative;}#sk-container-id-7 div.sk-text-repr-fallback {display: none;}</style><div id=\"sk-container-id-7\" class=\"sk-top-container\"><div class=\"sk-text-repr-fallback\"><pre>XGBClassifier(base_score=0.5, booster=&#x27;gbtree&#x27;, callbacks=None,\n",
       "              colsample_bylevel=1, colsample_bynode=1, colsample_bytree=1,\n",
       "              early_stopping_rounds=None, enable_categorical=False,\n",
       "              eval_metric=None, feature_types=None, gamma=0, gpu_id=-1,\n",
       "              grow_policy=&#x27;depthwise&#x27;, importance_type=None,\n",
       "              interaction_constraints=&#x27;&#x27;, learning_rate=0.300000012,\n",
       "              max_bin=256, max_cat_threshold=64, max_cat_to_onehot=4,\n",
       "              max_delta_step=0, max_depth=2, max_leaves=0, min_child_weight=1,\n",
       "              missing=nan, monotone_constraints=&#x27;()&#x27;, n_estimators=100,\n",
       "              n_jobs=0, num_parallel_tree=1, predictor=&#x27;auto&#x27;, random_state=0, ...)</pre><b>In a Jupyter environment, please rerun this cell to show the HTML representation or trust the notebook. <br />On GitHub, the HTML representation is unable to render, please try loading this page with nbviewer.org.</b></div><div class=\"sk-container\" hidden><div class=\"sk-item\"><div class=\"sk-estimator sk-toggleable\"><input class=\"sk-toggleable__control sk-hidden--visually\" id=\"sk-estimator-id-11\" type=\"checkbox\" checked><label for=\"sk-estimator-id-11\" class=\"sk-toggleable__label sk-toggleable__label-arrow\">XGBClassifier</label><div class=\"sk-toggleable__content\"><pre>XGBClassifier(base_score=0.5, booster=&#x27;gbtree&#x27;, callbacks=None,\n",
       "              colsample_bylevel=1, colsample_bynode=1, colsample_bytree=1,\n",
       "              early_stopping_rounds=None, enable_categorical=False,\n",
       "              eval_metric=None, feature_types=None, gamma=0, gpu_id=-1,\n",
       "              grow_policy=&#x27;depthwise&#x27;, importance_type=None,\n",
       "              interaction_constraints=&#x27;&#x27;, learning_rate=0.300000012,\n",
       "              max_bin=256, max_cat_threshold=64, max_cat_to_onehot=4,\n",
       "              max_delta_step=0, max_depth=2, max_leaves=0, min_child_weight=1,\n",
       "              missing=nan, monotone_constraints=&#x27;()&#x27;, n_estimators=100,\n",
       "              n_jobs=0, num_parallel_tree=1, predictor=&#x27;auto&#x27;, random_state=0, ...)</pre></div></div></div></div></div>"
      ],
      "text/plain": [
       "XGBClassifier(base_score=0.5, booster='gbtree', callbacks=None,\n",
       "              colsample_bylevel=1, colsample_bynode=1, colsample_bytree=1,\n",
       "              early_stopping_rounds=None, enable_categorical=False,\n",
       "              eval_metric=None, feature_types=None, gamma=0, gpu_id=-1,\n",
       "              grow_policy='depthwise', importance_type=None,\n",
       "              interaction_constraints='', learning_rate=0.300000012,\n",
       "              max_bin=256, max_cat_threshold=64, max_cat_to_onehot=4,\n",
       "              max_delta_step=0, max_depth=2, max_leaves=0, min_child_weight=1,\n",
       "              missing=nan, monotone_constraints='()', n_estimators=100,\n",
       "              n_jobs=0, num_parallel_tree=1, predictor='auto', random_state=0, ...)"
      ]
     },
     "execution_count": 124,
     "metadata": {},
     "output_type": "execute_result"
    }
   ],
   "source": [
    "xgb = XGBClassifier(n_estimators=100,\n",
    "                   max_depth = 2)\n",
    "xgb.fit(X_train, y_train)"
   ]
  },
  {
   "cell_type": "code",
   "execution_count": 125,
   "id": "32ada350",
   "metadata": {},
   "outputs": [],
   "source": [
    "y_test_pred = xgb.predict(X_test)\n",
    "y_train_pred = xgb.predict(X_train)"
   ]
  },
  {
   "cell_type": "code",
   "execution_count": 126,
   "id": "74f3e421",
   "metadata": {},
   "outputs": [
    {
     "data": {
      "text/plain": [
       "array([[124,  38],\n",
       "       [ 24, 291]], dtype=int64)"
      ]
     },
     "execution_count": 126,
     "metadata": {},
     "output_type": "execute_result"
    }
   ],
   "source": [
    "confusion_matrix(y_test,y_test_pred)"
   ]
  },
  {
   "cell_type": "code",
   "execution_count": 127,
   "id": "ca10854d",
   "metadata": {},
   "outputs": [
    {
     "data": {
      "text/plain": [
       "array([[ 515,   88],\n",
       "       [  76, 1225]], dtype=int64)"
      ]
     },
     "execution_count": 127,
     "metadata": {},
     "output_type": "execute_result"
    }
   ],
   "source": [
    "confusion_matrix(y_train,y_train_pred)"
   ]
  },
  {
   "cell_type": "code",
   "execution_count": 128,
   "id": "b058aeb2",
   "metadata": {},
   "outputs": [
    {
     "data": {
      "text/plain": [
       "(0.9138655462184874, 0.870020964360587)"
      ]
     },
     "execution_count": 128,
     "metadata": {},
     "output_type": "execute_result"
    }
   ],
   "source": [
    "xgb.score(X_train,y_train),xgb.score(X_test,y_test)"
   ]
  },
  {
   "cell_type": "code",
   "execution_count": 129,
   "id": "fdd24076",
   "metadata": {},
   "outputs": [
    {
     "data": {
      "text/plain": [
       "(0.9037267080745341, 0.9372609028309103)"
      ]
     },
     "execution_count": 129,
     "metadata": {},
     "output_type": "execute_result"
    }
   ],
   "source": [
    "f1_score(y_test,y_test_pred),f1_score(y_train,y_train_pred)\n"
   ]
  },
  {
   "cell_type": "code",
   "execution_count": 130,
   "id": "084fa4c1",
   "metadata": {},
   "outputs": [
    {
     "data": {
      "text/plain": [
       "(0.9238095238095239, 0.9415833973866257)"
      ]
     },
     "execution_count": 130,
     "metadata": {},
     "output_type": "execute_result"
    }
   ],
   "source": [
    "\n",
    "recall_score(y_test,y_test_pred),recall_score(y_train,y_train_pred)"
   ]
  },
  {
   "cell_type": "code",
   "execution_count": 131,
   "id": "2a193ce3",
   "metadata": {},
   "outputs": [
    {
     "data": {
      "text/plain": [
       "(0.8844984802431611, 0.9329779131759329)"
      ]
     },
     "execution_count": 131,
     "metadata": {},
     "output_type": "execute_result"
    }
   ],
   "source": [
    "precision_score(y_test,y_test_pred),precision_score(y_train,y_train_pred)\n"
   ]
  },
  {
   "cell_type": "code",
   "execution_count": 132,
   "id": "6069fda9",
   "metadata": {},
   "outputs": [
    {
     "data": {
      "text/plain": [
       "array([0.        , 0.01420613, 0.19747032, 0.01697209, 0.02113413,\n",
       "       0.02173466, 0.01887255, 0.01899261, 0.01514235, 0.04826141,\n",
       "       0.22931552, 0.3451485 , 0.05274975], dtype=float32)"
      ]
     },
     "execution_count": 132,
     "metadata": {},
     "output_type": "execute_result"
    }
   ],
   "source": [
    "xgb.feature_importances_"
   ]
  },
  {
   "cell_type": "code",
   "execution_count": 133,
   "id": "3fe16cf6",
   "metadata": {},
   "outputs": [
    {
     "data": {
      "text/plain": [
       "<AxesSubplot:>"
      ]
     },
     "execution_count": 133,
     "metadata": {},
     "output_type": "execute_result"
    },
    {
     "data": {
      "image/png": "[encoded data removed]",
      "text/plain": [
       "<Figure size 432x288 with 1 Axes>"
      ]
     },
     "metadata": {
      "needs_background": "light"
     },
     "output_type": "display_data"
    }
   ],
   "source": [
    "pd.DataFrame(data=xgb.feature_importances_,\n",
    "            index=X.columns).plot(kind=\"bar\")"
   ]
  },
  {
   "cell_type": "markdown",
   "id": "43615895",
   "metadata": {},
   "source": [
    "## GradientBoostingClassifier"
   ]
  },
  {
   "cell_type": "code",
   "execution_count": 134,
   "id": "b2d9a6a0",
   "metadata": {},
   "outputs": [],
   "source": [
    "def GradientBoostingClassifier(X, y):\n",
    "    from sklearn.ensemble import  GradientBoostingClassifier\n",
    "    from sklearn.metrics import f1_score, accuracy_score , roc_auc_score,auc,recall_score,precision_score\n",
    "    X_train, X_test, y_train, y_test = train_test_split(X,\n",
    "                                                        y,\n",
    "                                                        test_size=0.2,\n",
    "                                                        random_state=1)\n",
    "    \n",
    "    lr = GradientBoostingClassifier()\n",
    "    scaler = StandardScaler()\n",
    "    scaler.fit(X_train) \n",
    "    X_train = scaler.transform(X_train)\n",
    "    X_test = scaler.transform(X_test)\n",
    "    \n",
    "    lr.fit(X_train, y_train)\n",
    "    y_pred = lr.predict(X_test)\n",
    "    prob = lr.predict_proba(X_test)\n",
    "    cm = confusion_matrix(y_test, y_pred)\n",
    "    print('Train Score : ', lr.score(X_train, y_train), '\\n')\n",
    "    print('Test Score : ', lr.score(X_test, y_test), '\\n')\n",
    "    print('Accuracy Score : ', accuracy_score(y_test, y_pred), '\\n')\n",
    "    print(cm, \"---> confusion Matrix \", '\\n')\n",
    "    print(\"ROC-AUC score  test dataset:  \", roc_auc_score(y_test, prob[:, 1]),'\\n')\n",
    "    print(\"precision score  test dataset:  \", precision_score(y_test, y_pred),'\\n')\n",
    "    print(\"Recall score  test dataset:  \", recall_score(y_test, y_pred), '\\n')\n",
    "    print(\"f1 score  test dataset :  \", f1_score(y_test, y_pred), '\\n')\n",
    "    return (prob[:,1], y_test)"
   ]
  },
  {
   "cell_type": "code",
   "execution_count": null,
   "id": "391e7be4",
   "metadata": {},
   "outputs": [],
   "source": []
  },
  {
   "cell_type": "code",
   "execution_count": null,
   "id": "99dc3098",
   "metadata": {},
   "outputs": [],
   "source": []
  },
  {
   "cell_type": "code",
   "execution_count": 135,
   "id": "8182d7b0",
   "metadata": {
    "scrolled": true
   },
   "outputs": [
    {
     "name": "stdout",
     "output_type": "stream",
     "text": [
      "Train Score :  0.914390756302521 \n",
      "\n",
      "Test Score :  0.8909853249475891 \n",
      "\n",
      "Accuracy Score :  0.8909853249475891 \n",
      "\n",
      "[[125  23]\n",
      " [ 29 300]] ---> confusion Matrix  \n",
      "\n",
      "ROC-AUC score  test dataset:   0.9447855910621867 \n",
      "\n",
      "precision score  test dataset:   0.9287925696594427 \n",
      "\n",
      "Recall score  test dataset:   0.9118541033434651 \n",
      "\n",
      "f1 score  test dataset :   0.9202453987730062 \n",
      "\n"
     ]
    }
   ],
   "source": [
    "probs , y_test = GradientBoostingClassifier(X,y)"
   ]
  },
  {
   "cell_type": "code",
   "execution_count": null,
   "id": "c269acae",
   "metadata": {},
   "outputs": [],
   "source": []
  },
  {
   "cell_type": "code",
   "execution_count": null,
   "id": "89908b4c",
   "metadata": {},
   "outputs": [],
   "source": []
  },
  {
   "cell_type": "code",
   "execution_count": 136,
   "id": "2b0f6687",
   "metadata": {},
   "outputs": [],
   "source": [
    "def plot_pre_curve(y_test,probs):\n",
    "    from sklearn.metrics import precision_recall_curve\n",
    "    precision, recall, thresholds = precision_recall_curve(y_test, probs)\n",
    "    plt.plot([0, 1], [0.5, 0.5], linestyle='--')\n",
    "    # plot the precision-recall curve for the model\n",
    "    plt.plot(recall, precision, marker='.')\n",
    "    plt.title(\"Precision Recall curve\")\n",
    "    plt.xlabel('Recall')\n",
    "    plt.ylabel('Precision')\n",
    "    # show the plot\n",
    "    plt.show()\n",
    "    \n",
    "def plot_roc(y_test,prob):\n",
    "    from sklearn.metrics import roc_curve\n",
    "    fpr, tpr, thresholds = roc_curve(y_test, probs)\n",
    "    # plot no skill\n",
    "    plt.plot([0, 1], [0, 1], linestyle='--')\n",
    "    # plot the roc curve for the model\n",
    "    plt.plot(fpr, tpr, marker='.')\n",
    "    plt.title(\"ROC curve\")\n",
    "    plt.xlabel('false positive rate')\n",
    "    plt.ylabel('true positive rate')\n",
    "    # show the plot\n",
    "    plt.show()"
   ]
  },
  {
   "cell_type": "code",
   "execution_count": 137,
   "id": "25b55a14",
   "metadata": {},
   "outputs": [
    {
     "data": {
      "image/png": "[encoded data removed]",
      "text/plain": [
       "<Figure size 432x288 with 1 Axes>"
      ]
     },
     "metadata": {
      "needs_background": "light"
     },
     "output_type": "display_data"
    }
   ],
   "source": [
    "plot_roc(y_test , probs)"
   ]
  },
  {
   "cell_type": "code",
   "execution_count": 138,
   "id": "a5a44c1b",
   "metadata": {},
   "outputs": [
    {
     "data": {
      "image/png": "[encoded data removed]",
      "text/plain": [
       "<Figure size 432x288 with 1 Axes>"
      ]
     },
     "metadata": {
      "needs_background": "light"
     },
     "output_type": "display_data"
    }
   ],
   "source": [
    "plot_pre_curve(y_test , probs)"
   ]
  },
  {
   "cell_type": "code",
   "execution_count": null,
   "id": "ccc09944",
   "metadata": {},
   "outputs": [],
   "source": []
  },
  {
   "cell_type": "code",
   "execution_count": null,
   "id": "a2794f3f",
   "metadata": {},
   "outputs": [],
   "source": []
  },
  {
   "cell_type": "code",
   "execution_count": null,
   "id": "188396fc",
   "metadata": {},
   "outputs": [],
   "source": []
  },
  {
   "cell_type": "markdown",
   "id": "d049e9a2",
   "metadata": {},
   "source": [
    "# Inferences : \n",
    "\n",
    "from data  distribution:\n",
    "Male      1380\n",
    "Female     956\n",
    "\n",
    "Churn : distribution:\n",
    "1    1616 (67.870%)\n",
    "0     765 (32.12%)\n",
    "\n",
    "\n",
    "- Probability of Churn is higher in case of education level 0 and 1 than 2.\n",
    "- in case of joining destination 1, probability of churn is higher. \n",
    "\n",
    "\n",
    "\n",
    "- in case of quarterly rating is 1, probability of churn is significantly higher.\n",
    "- also same pattern is observed in case of when driver's quarterly rating has increased through out tenure.\n",
    "\n",
    "\n",
    "\n",
    "\n",
    "- due to some reason , for drivers who joined in 2018 and 2019 , probability of churn is very high compare to 2020 and before 2018.\n",
    "\n",
    "\n",
    "\n",
    "#### Random Forest : \n",
    "- train and test score : (0.8697478991596639, 0.8679245283018868)\n",
    "- feature importance : highest is : joining year , followed by No of records available in data, and total business value.\n",
    "- recall : 0.866\n",
    "- precision: 0.928\n",
    "- f1-score : 0.89\n",
    "\n",
    "\n",
    "#### on Grid Search CV : RF : \n",
    "- best params : ccp_alpha=0.001, max_depth=10, max_features=7,n_estimators=300\n",
    "- Gridsearch RF best score : 0.8881417819617973\n",
    "\n",
    "\n",
    "#### Bagging Classfier : wwith Decision Tree : \n",
    "- with 50 DTs. when max_depth=7, class_weight=\"balanced\"\n",
    "- f1 score : 0.9064039408866995\n",
    "- precision : 0.9387755102040817\n",
    "- recall_score : 0.8761904761904762\n",
    "- accuracy: 0.880\n",
    "\n",
    "\n",
    "\n",
    "\n",
    "#### XGBoost Classifier: (Grid SEARCH CV : ) 'max_depth': 2, 'n_estimators': 100\n",
    "- test Scores : \n",
    "- Accuracy : 0.87\n",
    "- f1 score : 0.90\n",
    "- recall : 0.923\n",
    "- precision : 0.884\n",
    "\n",
    "- feature importance : highest is : joining year , followed by No of records available in data, and total business value.\n",
    "\n",
    "\n",
    "\n",
    "\n",
    "#### GradientBoostingClassifier : GBDC:\n",
    "\n",
    "- Train Score :  0.914390756302521 \n",
    "- Test Score :  0.8909853249475891 \n",
    "- Accuracy Score :  0.8909853249475891 \n",
    "- ROC-AUC score  test dataset:   0.9447855910621867 \n",
    "- precision score  test dataset:   0.9287925696594427 \n",
    "- Recall score  test dataset:   0.9118541033434651 \n",
    "- f1 score  test dataset :   0.9202453987730062 \n",
    "\n",
    "\n",
    "\n",
    "\n",
    "\n",
    "\n",
    "\n",
    "\n",
    "\n",
    "\n",
    "\n",
    "\n",
    "\n",
    "\n"
   ]
  },
  {
   "cell_type": "code",
   "execution_count": null,
   "id": "2ed0b5d3",
   "metadata": {},
   "outputs": [],
   "source": []
  },
  {
   "cell_type": "code",
   "execution_count": null,
   "id": "1e0cef2a",
   "metadata": {},
   "outputs": [],
   "source": []
  },
  {
   "cell_type": "code",
   "execution_count": null,
   "id": "c7af1c0d",
   "metadata": {},
   "outputs": [],
   "source": []
  },
  {
   "cell_type": "code",
   "execution_count": null,
   "id": "cbad976c",
   "metadata": {},
   "outputs": [],
   "source": []
  },
  {
   "cell_type": "code",
   "execution_count": null,
   "id": "a9a49814",
   "metadata": {},
   "outputs": [],
   "source": []
  },
  {
   "cell_type": "code",
   "execution_count": null,
   "id": "123a2626",
   "metadata": {},
   "outputs": [],
   "source": []
  },
  {
   "cell_type": "code",
   "execution_count": null,
   "id": "1075e29e",
   "metadata": {},
   "outputs": [],
   "source": []
  }
 ],
 "metadata": {
  "kernelspec": {
   "display_name": "Python 3 (ipykernel)",
   "language": "python",
   "name": "python3"
  },
  "language_info": {
   "codemirror_mode": {
    "name": "ipython",
    "version": 3
   },
   "file_extension": ".py",
   "mimetype": "text/x-python",
   "name": "python",
   "nbconvert_exporter": "python",
   "pygments_lexer": "ipython3",
   "version": "3.9.7"
  }
 },
 "nbformat": 4,
 "nbformat_minor": 5
}
