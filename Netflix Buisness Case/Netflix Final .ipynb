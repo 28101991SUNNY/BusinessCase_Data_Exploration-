{
 "cells": [
  {
   "cell_type": "code",
   "execution_count": 1,
   "id": "a6ccd586",
   "metadata": {},
   "outputs": [],
   "source": [
    "import numpy as np\n",
    "import pandas as pd\n",
    "import matplotlib.pyplot as plt\n",
    "import seaborn as sns\n",
    "from matplotlib.pyplot import figure\n",
    "import warnings\n",
    "warnings.simplefilter(action='ignore', category=FutureWarning)"
   ]
  },
  {
   "cell_type": "code",
   "execution_count": 2,
   "id": "8aa0d5bd",
   "metadata": {},
   "outputs": [],
   "source": [
    "def show_values_on_bars(axs, h_v=\"v\", space=1):\n",
    "    def _show_on_single_plot(ax):\n",
    "        if h_v == \"v\":\n",
    "            for p in ax.patches:\n",
    "                _x = p.get_x() + p.get_width() / 2\n",
    "                _y = p.get_y() + p.get_height()\n",
    "                value = int(p.get_height())\n",
    "                ax.text(_x, _y, value, ha=\"center\") \n",
    "        elif h_v == \"h\":\n",
    "            for p in ax.patches:\n",
    "                _x = p.get_x() + p.get_width() + float(space)\n",
    "                _y = p.get_y() + p.get_height()\n",
    "                value = int(p.get_width())\n",
    "                ax.text(_x, _y, value, ha=\"left\")\n",
    "\n",
    "    if isinstance(axs, np.ndarray):\n",
    "        for idx, ax in np.ndenumerate(axs):\n",
    "            _show_on_single_plot(ax)\n",
    "    else:\n",
    "        _show_on_single_plot(axs)"
   ]
  },
  {
   "cell_type": "code",
   "execution_count": null,
   "id": "33381baf",
   "metadata": {},
   "outputs": [],
   "source": []
  },
  {
   "cell_type": "code",
   "execution_count": null,
   "id": "10408217",
   "metadata": {},
   "outputs": [],
   "source": []
  },
  {
   "cell_type": "markdown",
   "id": "9abd3b6c",
   "metadata": {},
   "source": [
    "#  `Netflix - Data Exploration and Visualisation`"
   ]
  },
  {
   "cell_type": "markdown",
   "id": "e6364ea6",
   "metadata": {},
   "source": [
    "## `insights that could help Netflix ijn deciding which type of shows/movies to produce and how they can grow the business in different countries`"
   ]
  },
  {
   "cell_type": "code",
   "execution_count": null,
   "id": "bc3543e1",
   "metadata": {},
   "outputs": [],
   "source": []
  },
  {
   "cell_type": "code",
   "execution_count": 3,
   "id": "516f8431",
   "metadata": {},
   "outputs": [],
   "source": [
    "df = pd.read_csv(\"netflix.csv\")"
   ]
  },
  {
   "cell_type": "code",
   "execution_count": 4,
   "id": "8ed98b50",
   "metadata": {},
   "outputs": [],
   "source": [
    "# df.head()"
   ]
  },
  {
   "cell_type": "code",
   "execution_count": null,
   "id": "d6c38301",
   "metadata": {},
   "outputs": [],
   "source": []
  },
  {
   "cell_type": "markdown",
   "id": "5ca07418",
   "metadata": {},
   "source": [
    "## base info about the data set: \n",
    "\n",
    "#### getting idea about the shape / data type info \n",
    "\n",
    "#### if there are missing data in columns "
   ]
  },
  {
   "cell_type": "code",
   "execution_count": 5,
   "id": "68cffce0",
   "metadata": {},
   "outputs": [
    {
     "data": {
      "text/plain": [
       "(8807, 12)"
      ]
     },
     "execution_count": 5,
     "metadata": {},
     "output_type": "execute_result"
    }
   ],
   "source": [
    "df.shape"
   ]
  },
  {
   "cell_type": "code",
   "execution_count": null,
   "id": "037081a6",
   "metadata": {},
   "outputs": [],
   "source": []
  },
  {
   "cell_type": "code",
   "execution_count": 6,
   "id": "789bdf31",
   "metadata": {},
   "outputs": [
    {
     "name": "stdout",
     "output_type": "stream",
     "text": [
      "<class 'pandas.core.frame.DataFrame'>\n",
      "RangeIndex: 8807 entries, 0 to 8806\n",
      "Data columns (total 12 columns):\n",
      " #   Column        Non-Null Count  Dtype \n",
      "---  ------        --------------  ----- \n",
      " 0   show_id       8807 non-null   object\n",
      " 1   type          8807 non-null   object\n",
      " 2   title         8807 non-null   object\n",
      " 3   director      6173 non-null   object\n",
      " 4   cast          7982 non-null   object\n",
      " 5   country       7976 non-null   object\n",
      " 6   date_added    8797 non-null   object\n",
      " 7   release_year  8807 non-null   int64 \n",
      " 8   rating        8803 non-null   object\n",
      " 9   duration      8804 non-null   object\n",
      " 10  listed_in     8807 non-null   object\n",
      " 11  description   8807 non-null   object\n",
      "dtypes: int64(1), object(11)\n",
      "memory usage: 825.8+ KB\n"
     ]
    }
   ],
   "source": [
    "df.info()"
   ]
  },
  {
   "cell_type": "markdown",
   "id": "e42bc77c",
   "metadata": {},
   "source": [
    "##### missing values per column in %:\n"
   ]
  },
  {
   "cell_type": "code",
   "execution_count": 7,
   "id": "5f232254",
   "metadata": {},
   "outputs": [
    {
     "data": {
      "text/plain": [
       "show_id          0.000000\n",
       "type             0.000000\n",
       "title            0.000000\n",
       "director        29.908028\n",
       "cast             9.367549\n",
       "country          9.435676\n",
       "date_added       0.113546\n",
       "release_year     0.000000\n",
       "rating           0.045418\n",
       "duration         0.034064\n",
       "listed_in        0.000000\n",
       "description      0.000000\n",
       "dtype: float64"
      ]
     },
     "execution_count": 7,
     "metadata": {},
     "output_type": "execute_result"
    }
   ],
   "source": [
    "\n",
    "(df.isna().sum()/len(df))*100 # % "
   ]
  },
  {
   "cell_type": "code",
   "execution_count": 8,
   "id": "953e3283",
   "metadata": {},
   "outputs": [],
   "source": [
    "# director column has 29% missing value\n",
    "# for cast and countries 10% missing data"
   ]
  },
  {
   "cell_type": "code",
   "execution_count": null,
   "id": "bbf7b47f",
   "metadata": {},
   "outputs": [],
   "source": []
  },
  {
   "cell_type": "code",
   "execution_count": 9,
   "id": "05ab3005",
   "metadata": {},
   "outputs": [
    {
     "data": {
      "text/plain": [
       "False    8807\n",
       "Name: show_id, dtype: int64"
      ]
     },
     "execution_count": 9,
     "metadata": {},
     "output_type": "execute_result"
    }
   ],
   "source": [
    "df[\"show_id\"].duplicated().value_counts()"
   ]
  },
  {
   "cell_type": "markdown",
   "id": "258855f3",
   "metadata": {},
   "source": [
    "###### no duplicate data"
   ]
  },
  {
   "cell_type": "code",
   "execution_count": null,
   "id": "ed2559c9",
   "metadata": {},
   "outputs": [],
   "source": []
  },
  {
   "cell_type": "code",
   "execution_count": null,
   "id": "5f45cbf3",
   "metadata": {},
   "outputs": [],
   "source": []
  },
  {
   "cell_type": "code",
   "execution_count": 10,
   "id": "2b2f786b",
   "metadata": {},
   "outputs": [
    {
     "data": {
      "text/html": [
       "<div>\n",
       "<style scoped>\n",
       "    .dataframe tbody tr th:only-of-type {\n",
       "        vertical-align: middle;\n",
       "    }\n",
       "\n",
       "    .dataframe tbody tr th {\n",
       "        vertical-align: top;\n",
       "    }\n",
       "\n",
       "    .dataframe thead th {\n",
       "        text-align: right;\n",
       "    }\n",
       "</style>\n",
       "<table border=\"1\" class=\"dataframe\">\n",
       "  <thead>\n",
       "    <tr style=\"text-align: right;\">\n",
       "      <th></th>\n",
       "      <th>show_id</th>\n",
       "      <th>type</th>\n",
       "      <th>title</th>\n",
       "      <th>director</th>\n",
       "      <th>cast</th>\n",
       "      <th>country</th>\n",
       "      <th>date_added</th>\n",
       "      <th>rating</th>\n",
       "      <th>duration</th>\n",
       "      <th>listed_in</th>\n",
       "      <th>description</th>\n",
       "    </tr>\n",
       "  </thead>\n",
       "  <tbody>\n",
       "    <tr>\n",
       "      <th>count</th>\n",
       "      <td>8807</td>\n",
       "      <td>8807</td>\n",
       "      <td>8807</td>\n",
       "      <td>6173</td>\n",
       "      <td>7982</td>\n",
       "      <td>7976</td>\n",
       "      <td>8797</td>\n",
       "      <td>8803</td>\n",
       "      <td>8804</td>\n",
       "      <td>8807</td>\n",
       "      <td>8807</td>\n",
       "    </tr>\n",
       "    <tr>\n",
       "      <th>unique</th>\n",
       "      <td>8807</td>\n",
       "      <td>2</td>\n",
       "      <td>8807</td>\n",
       "      <td>4528</td>\n",
       "      <td>7692</td>\n",
       "      <td>748</td>\n",
       "      <td>1767</td>\n",
       "      <td>17</td>\n",
       "      <td>220</td>\n",
       "      <td>514</td>\n",
       "      <td>8775</td>\n",
       "    </tr>\n",
       "    <tr>\n",
       "      <th>top</th>\n",
       "      <td>s1</td>\n",
       "      <td>Movie</td>\n",
       "      <td>Dick Johnson Is Dead</td>\n",
       "      <td>Rajiv Chilaka</td>\n",
       "      <td>David Attenborough</td>\n",
       "      <td>United States</td>\n",
       "      <td>January 1, 2020</td>\n",
       "      <td>TV-MA</td>\n",
       "      <td>1 Season</td>\n",
       "      <td>Dramas, International Movies</td>\n",
       "      <td>Paranormal activity at a lush, abandoned prope...</td>\n",
       "    </tr>\n",
       "    <tr>\n",
       "      <th>freq</th>\n",
       "      <td>1</td>\n",
       "      <td>6131</td>\n",
       "      <td>1</td>\n",
       "      <td>19</td>\n",
       "      <td>19</td>\n",
       "      <td>2818</td>\n",
       "      <td>109</td>\n",
       "      <td>3207</td>\n",
       "      <td>1793</td>\n",
       "      <td>362</td>\n",
       "      <td>4</td>\n",
       "    </tr>\n",
       "  </tbody>\n",
       "</table>\n",
       "</div>"
      ],
      "text/plain": [
       "       show_id   type                 title       director  \\\n",
       "count     8807   8807                  8807           6173   \n",
       "unique    8807      2                  8807           4528   \n",
       "top         s1  Movie  Dick Johnson Is Dead  Rajiv Chilaka   \n",
       "freq         1   6131                     1             19   \n",
       "\n",
       "                      cast        country       date_added rating  duration  \\\n",
       "count                 7982           7976             8797   8803      8804   \n",
       "unique                7692            748             1767     17       220   \n",
       "top     David Attenborough  United States  January 1, 2020  TV-MA  1 Season   \n",
       "freq                    19           2818              109   3207      1793   \n",
       "\n",
       "                           listed_in  \\\n",
       "count                           8807   \n",
       "unique                           514   \n",
       "top     Dramas, International Movies   \n",
       "freq                             362   \n",
       "\n",
       "                                              description  \n",
       "count                                                8807  \n",
       "unique                                               8775  \n",
       "top     Paranormal activity at a lush, abandoned prope...  \n",
       "freq                                                    4  "
      ]
     },
     "execution_count": 10,
     "metadata": {},
     "output_type": "execute_result"
    }
   ],
   "source": [
    "df.describe(include=\"object\")"
   ]
  },
  {
   "cell_type": "code",
   "execution_count": 11,
   "id": "f68c858a",
   "metadata": {},
   "outputs": [
    {
     "data": {
      "text/plain": [
       "4307"
      ]
     },
     "execution_count": 11,
     "metadata": {},
     "output_type": "execute_result"
    }
   ],
   "source": [
    "df.isna().sum().sum()  # total missing values in the data set"
   ]
  },
  {
   "cell_type": "markdown",
   "id": "3f25b499",
   "metadata": {},
   "source": [
    "##### replacing necessary null values \n"
   ]
  },
  {
   "cell_type": "code",
   "execution_count": 12,
   "id": "5b7f0bca",
   "metadata": {},
   "outputs": [],
   "source": [
    "df[\"director\"].fillna(value=\"Unknown\", inplace=True)\n",
    "df[\"cast\"].fillna(value=\"Unknown\", inplace=True)\n",
    "df[\"country\"].fillna(value=\"Unknown\",inplace=True)"
   ]
  },
  {
   "cell_type": "code",
   "execution_count": 13,
   "id": "2ba4a606",
   "metadata": {},
   "outputs": [
    {
     "data": {
      "text/html": [
       "<div>\n",
       "<style scoped>\n",
       "    .dataframe tbody tr th:only-of-type {\n",
       "        vertical-align: middle;\n",
       "    }\n",
       "\n",
       "    .dataframe tbody tr th {\n",
       "        vertical-align: top;\n",
       "    }\n",
       "\n",
       "    .dataframe thead th {\n",
       "        text-align: right;\n",
       "    }\n",
       "</style>\n",
       "<table border=\"1\" class=\"dataframe\">\n",
       "  <thead>\n",
       "    <tr style=\"text-align: right;\">\n",
       "      <th></th>\n",
       "      <th>show_id</th>\n",
       "      <th>type</th>\n",
       "      <th>title</th>\n",
       "      <th>director</th>\n",
       "      <th>cast</th>\n",
       "      <th>country</th>\n",
       "      <th>date_added</th>\n",
       "      <th>rating</th>\n",
       "      <th>duration</th>\n",
       "      <th>listed_in</th>\n",
       "      <th>description</th>\n",
       "    </tr>\n",
       "  </thead>\n",
       "  <tbody>\n",
       "    <tr>\n",
       "      <th>count</th>\n",
       "      <td>8807</td>\n",
       "      <td>8807</td>\n",
       "      <td>8807</td>\n",
       "      <td>8807</td>\n",
       "      <td>8807</td>\n",
       "      <td>8807</td>\n",
       "      <td>8797</td>\n",
       "      <td>8803</td>\n",
       "      <td>8804</td>\n",
       "      <td>8807</td>\n",
       "      <td>8807</td>\n",
       "    </tr>\n",
       "    <tr>\n",
       "      <th>unique</th>\n",
       "      <td>8807</td>\n",
       "      <td>2</td>\n",
       "      <td>8807</td>\n",
       "      <td>4529</td>\n",
       "      <td>7693</td>\n",
       "      <td>749</td>\n",
       "      <td>1767</td>\n",
       "      <td>17</td>\n",
       "      <td>220</td>\n",
       "      <td>514</td>\n",
       "      <td>8775</td>\n",
       "    </tr>\n",
       "    <tr>\n",
       "      <th>top</th>\n",
       "      <td>s1</td>\n",
       "      <td>Movie</td>\n",
       "      <td>Dick Johnson Is Dead</td>\n",
       "      <td>Unknown</td>\n",
       "      <td>Unknown</td>\n",
       "      <td>United States</td>\n",
       "      <td>January 1, 2020</td>\n",
       "      <td>TV-MA</td>\n",
       "      <td>1 Season</td>\n",
       "      <td>Dramas, International Movies</td>\n",
       "      <td>Paranormal activity at a lush, abandoned prope...</td>\n",
       "    </tr>\n",
       "    <tr>\n",
       "      <th>freq</th>\n",
       "      <td>1</td>\n",
       "      <td>6131</td>\n",
       "      <td>1</td>\n",
       "      <td>2634</td>\n",
       "      <td>825</td>\n",
       "      <td>2818</td>\n",
       "      <td>109</td>\n",
       "      <td>3207</td>\n",
       "      <td>1793</td>\n",
       "      <td>362</td>\n",
       "      <td>4</td>\n",
       "    </tr>\n",
       "  </tbody>\n",
       "</table>\n",
       "</div>"
      ],
      "text/plain": [
       "       show_id   type                 title director     cast        country  \\\n",
       "count     8807   8807                  8807     8807     8807           8807   \n",
       "unique    8807      2                  8807     4529     7693            749   \n",
       "top         s1  Movie  Dick Johnson Is Dead  Unknown  Unknown  United States   \n",
       "freq         1   6131                     1     2634      825           2818   \n",
       "\n",
       "             date_added rating  duration                     listed_in  \\\n",
       "count              8797   8803      8804                          8807   \n",
       "unique             1767     17       220                           514   \n",
       "top     January 1, 2020  TV-MA  1 Season  Dramas, International Movies   \n",
       "freq                109   3207      1793                           362   \n",
       "\n",
       "                                              description  \n",
       "count                                                8807  \n",
       "unique                                               8775  \n",
       "top     Paranormal activity at a lush, abandoned prope...  \n",
       "freq                                                    4  "
      ]
     },
     "execution_count": 13,
     "metadata": {},
     "output_type": "execute_result"
    }
   ],
   "source": [
    "df.describe(include=\"object\")"
   ]
  },
  {
   "cell_type": "code",
   "execution_count": null,
   "id": "c2847f70",
   "metadata": {},
   "outputs": [],
   "source": []
  },
  {
   "cell_type": "code",
   "execution_count": null,
   "id": "d309c2cc",
   "metadata": {},
   "outputs": [],
   "source": []
  },
  {
   "cell_type": "code",
   "execution_count": null,
   "id": "7189260a",
   "metadata": {},
   "outputs": [],
   "source": []
  },
  {
   "cell_type": "code",
   "execution_count": null,
   "id": "0cf42b9c",
   "metadata": {},
   "outputs": [],
   "source": []
  },
  {
   "cell_type": "markdown",
   "id": "7fa45694",
   "metadata": {},
   "source": [
    "##### unique values per column: "
   ]
  },
  {
   "cell_type": "code",
   "execution_count": 14,
   "id": "98df26b7",
   "metadata": {},
   "outputs": [
    {
     "data": {
      "text/plain": [
       "show_id         8807\n",
       "type               2\n",
       "title           8807\n",
       "director        4529\n",
       "cast            7693\n",
       "country          749\n",
       "date_added      1767\n",
       "release_year      74\n",
       "rating            17\n",
       "duration         220\n",
       "listed_in        514\n",
       "description     8775\n",
       "dtype: int64"
      ]
     },
     "execution_count": 14,
     "metadata": {},
     "output_type": "execute_result"
    }
   ],
   "source": [
    "df.nunique()"
   ]
  },
  {
   "cell_type": "code",
   "execution_count": null,
   "id": "a2502339",
   "metadata": {},
   "outputs": [],
   "source": []
  },
  {
   "cell_type": "markdown",
   "id": "d06b161e",
   "metadata": {},
   "source": [
    "##### # converting data type of date_added to datetime format\n"
   ]
  },
  {
   "cell_type": "code",
   "execution_count": 15,
   "id": "7eee0c77",
   "metadata": {},
   "outputs": [],
   "source": [
    "\n",
    "df[\"date_added\"] = pd.to_datetime(df[\"date_added\"])"
   ]
  },
  {
   "cell_type": "code",
   "execution_count": 16,
   "id": "48f2bfd4",
   "metadata": {},
   "outputs": [
    {
     "data": {
      "text/html": [
       "<div>\n",
       "<style scoped>\n",
       "    .dataframe tbody tr th:only-of-type {\n",
       "        vertical-align: middle;\n",
       "    }\n",
       "\n",
       "    .dataframe tbody tr th {\n",
       "        vertical-align: top;\n",
       "    }\n",
       "\n",
       "    .dataframe thead th {\n",
       "        text-align: right;\n",
       "    }\n",
       "</style>\n",
       "<table border=\"1\" class=\"dataframe\">\n",
       "  <thead>\n",
       "    <tr style=\"text-align: right;\">\n",
       "      <th></th>\n",
       "      <th>show_id</th>\n",
       "      <th>type</th>\n",
       "      <th>title</th>\n",
       "      <th>director</th>\n",
       "      <th>cast</th>\n",
       "      <th>country</th>\n",
       "      <th>date_added</th>\n",
       "      <th>release_year</th>\n",
       "      <th>rating</th>\n",
       "      <th>duration</th>\n",
       "      <th>listed_in</th>\n",
       "      <th>description</th>\n",
       "    </tr>\n",
       "  </thead>\n",
       "  <tbody>\n",
       "    <tr>\n",
       "      <th>0</th>\n",
       "      <td>s1</td>\n",
       "      <td>Movie</td>\n",
       "      <td>Dick Johnson Is Dead</td>\n",
       "      <td>Kirsten Johnson</td>\n",
       "      <td>Unknown</td>\n",
       "      <td>United States</td>\n",
       "      <td>2021-09-25</td>\n",
       "      <td>2020</td>\n",
       "      <td>PG-13</td>\n",
       "      <td>90 min</td>\n",
       "      <td>Documentaries</td>\n",
       "      <td>As her father nears the end of his life, filmm...</td>\n",
       "    </tr>\n",
       "  </tbody>\n",
       "</table>\n",
       "</div>"
      ],
      "text/plain": [
       "  show_id   type                 title         director     cast  \\\n",
       "0      s1  Movie  Dick Johnson Is Dead  Kirsten Johnson  Unknown   \n",
       "\n",
       "         country date_added  release_year rating duration      listed_in  \\\n",
       "0  United States 2021-09-25          2020  PG-13   90 min  Documentaries   \n",
       "\n",
       "                                         description  \n",
       "0  As her father nears the end of his life, filmm...  "
      ]
     },
     "execution_count": 16,
     "metadata": {},
     "output_type": "execute_result"
    }
   ],
   "source": [
    "df.head().head(1)"
   ]
  },
  {
   "cell_type": "markdown",
   "id": "40469014",
   "metadata": {},
   "source": [
    "###### dropping unnecessary columns "
   ]
  },
  {
   "cell_type": "code",
   "execution_count": 17,
   "id": "043fd55b",
   "metadata": {},
   "outputs": [],
   "source": [
    "df.drop([\"show_id\",\"description\"], axis=1 , inplace= True)"
   ]
  },
  {
   "cell_type": "code",
   "execution_count": 18,
   "id": "b9941308",
   "metadata": {},
   "outputs": [
    {
     "data": {
      "text/html": [
       "<div>\n",
       "<style scoped>\n",
       "    .dataframe tbody tr th:only-of-type {\n",
       "        vertical-align: middle;\n",
       "    }\n",
       "\n",
       "    .dataframe tbody tr th {\n",
       "        vertical-align: top;\n",
       "    }\n",
       "\n",
       "    .dataframe thead th {\n",
       "        text-align: right;\n",
       "    }\n",
       "</style>\n",
       "<table border=\"1\" class=\"dataframe\">\n",
       "  <thead>\n",
       "    <tr style=\"text-align: right;\">\n",
       "      <th></th>\n",
       "      <th>type</th>\n",
       "      <th>title</th>\n",
       "      <th>director</th>\n",
       "      <th>cast</th>\n",
       "      <th>country</th>\n",
       "      <th>date_added</th>\n",
       "      <th>release_year</th>\n",
       "      <th>rating</th>\n",
       "      <th>duration</th>\n",
       "      <th>listed_in</th>\n",
       "    </tr>\n",
       "  </thead>\n",
       "  <tbody>\n",
       "    <tr>\n",
       "      <th>0</th>\n",
       "      <td>Movie</td>\n",
       "      <td>Dick Johnson Is Dead</td>\n",
       "      <td>Kirsten Johnson</td>\n",
       "      <td>Unknown</td>\n",
       "      <td>United States</td>\n",
       "      <td>2021-09-25</td>\n",
       "      <td>2020</td>\n",
       "      <td>PG-13</td>\n",
       "      <td>90 min</td>\n",
       "      <td>Documentaries</td>\n",
       "    </tr>\n",
       "  </tbody>\n",
       "</table>\n",
       "</div>"
      ],
      "text/plain": [
       "    type                 title         director     cast        country  \\\n",
       "0  Movie  Dick Johnson Is Dead  Kirsten Johnson  Unknown  United States   \n",
       "\n",
       "  date_added  release_year rating duration      listed_in  \n",
       "0 2021-09-25          2020  PG-13   90 min  Documentaries  "
      ]
     },
     "execution_count": 18,
     "metadata": {},
     "output_type": "execute_result"
    }
   ],
   "source": [
    "df.head(1)"
   ]
  },
  {
   "cell_type": "markdown",
   "id": "eddb0e7a",
   "metadata": {},
   "source": [
    "##### extracting necessary freatures from already present data : \n",
    "##### adding year and month data when content was added "
   ]
  },
  {
   "cell_type": "code",
   "execution_count": 19,
   "id": "393ed081",
   "metadata": {},
   "outputs": [],
   "source": [
    "df[\"year_added\"] = df[\"date_added\"].dt.year"
   ]
  },
  {
   "cell_type": "code",
   "execution_count": 20,
   "id": "1efd115e",
   "metadata": {},
   "outputs": [],
   "source": [
    "df[\"month_added\"]  = df[\"date_added\"].dt.month_name()"
   ]
  },
  {
   "cell_type": "markdown",
   "id": "e3b0819b",
   "metadata": {},
   "source": [
    "#### seperating duration for TV shows and Movies and changing their data types \n"
   ]
  },
  {
   "cell_type": "code",
   "execution_count": 21,
   "id": "4400ad45",
   "metadata": {},
   "outputs": [],
   "source": [
    "df[\"Movie_duration\"] = df[\"duration\"].loc[df[\"type\"]==\"Movie\"]\n",
    "df[\"Series_duration\"] = df[\"duration\"].loc[df[\"type\"]==\"TV Show\"]"
   ]
  },
  {
   "cell_type": "code",
   "execution_count": 22,
   "id": "9d49d191",
   "metadata": {},
   "outputs": [],
   "source": [
    "### changing data type and format of Mpvies_duratio to float\n",
    "def split_duration(x):\n",
    "    return str(x).split(\" \")[0]\n"
   ]
  },
  {
   "cell_type": "code",
   "execution_count": 23,
   "id": "32f50586",
   "metadata": {},
   "outputs": [],
   "source": [
    "df[\"Movie_duration\"] = df[\"Movie_duration\"].apply(split_duration).astype(\"float\")\n",
    "df[\"Series_duration\"] = df[\"Series_duration\"].apply(split_duration).astype(\"float\")"
   ]
  },
  {
   "cell_type": "code",
   "execution_count": 24,
   "id": "f04aebde",
   "metadata": {},
   "outputs": [],
   "source": [
    "df.drop(\"duration\",axis =1,inplace=True)"
   ]
  },
  {
   "cell_type": "code",
   "execution_count": null,
   "id": "2430a032",
   "metadata": {},
   "outputs": [],
   "source": []
  },
  {
   "cell_type": "code",
   "execution_count": null,
   "id": "dde6ccfd",
   "metadata": {},
   "outputs": [],
   "source": []
  },
  {
   "cell_type": "code",
   "execution_count": 25,
   "id": "02e1b847",
   "metadata": {},
   "outputs": [
    {
     "data": {
      "text/html": [
       "<div>\n",
       "<style scoped>\n",
       "    .dataframe tbody tr th:only-of-type {\n",
       "        vertical-align: middle;\n",
       "    }\n",
       "\n",
       "    .dataframe tbody tr th {\n",
       "        vertical-align: top;\n",
       "    }\n",
       "\n",
       "    .dataframe thead th {\n",
       "        text-align: right;\n",
       "    }\n",
       "</style>\n",
       "<table border=\"1\" class=\"dataframe\">\n",
       "  <thead>\n",
       "    <tr style=\"text-align: right;\">\n",
       "      <th></th>\n",
       "      <th>type</th>\n",
       "      <th>title</th>\n",
       "      <th>director</th>\n",
       "      <th>cast</th>\n",
       "      <th>country</th>\n",
       "      <th>date_added</th>\n",
       "      <th>release_year</th>\n",
       "      <th>rating</th>\n",
       "      <th>listed_in</th>\n",
       "      <th>year_added</th>\n",
       "      <th>month_added</th>\n",
       "      <th>Movie_duration</th>\n",
       "      <th>Series_duration</th>\n",
       "    </tr>\n",
       "  </thead>\n",
       "  <tbody>\n",
       "    <tr>\n",
       "      <th>0</th>\n",
       "      <td>Movie</td>\n",
       "      <td>Dick Johnson Is Dead</td>\n",
       "      <td>Kirsten Johnson</td>\n",
       "      <td>Unknown</td>\n",
       "      <td>United States</td>\n",
       "      <td>2021-09-25</td>\n",
       "      <td>2020</td>\n",
       "      <td>PG-13</td>\n",
       "      <td>Documentaries</td>\n",
       "      <td>2021.0</td>\n",
       "      <td>September</td>\n",
       "      <td>90.0</td>\n",
       "      <td>NaN</td>\n",
       "    </tr>\n",
       "    <tr>\n",
       "      <th>1</th>\n",
       "      <td>TV Show</td>\n",
       "      <td>Blood &amp; Water</td>\n",
       "      <td>Unknown</td>\n",
       "      <td>Ama Qamata, Khosi Ngema, Gail Mabalane, Thaban...</td>\n",
       "      <td>South Africa</td>\n",
       "      <td>2021-09-24</td>\n",
       "      <td>2021</td>\n",
       "      <td>TV-MA</td>\n",
       "      <td>International TV Shows, TV Dramas, TV Mysteries</td>\n",
       "      <td>2021.0</td>\n",
       "      <td>September</td>\n",
       "      <td>NaN</td>\n",
       "      <td>2.0</td>\n",
       "    </tr>\n",
       "    <tr>\n",
       "      <th>2</th>\n",
       "      <td>TV Show</td>\n",
       "      <td>Ganglands</td>\n",
       "      <td>Julien Leclercq</td>\n",
       "      <td>Sami Bouajila, Tracy Gotoas, Samuel Jouy, Nabi...</td>\n",
       "      <td>Unknown</td>\n",
       "      <td>2021-09-24</td>\n",
       "      <td>2021</td>\n",
       "      <td>TV-MA</td>\n",
       "      <td>Crime TV Shows, International TV Shows, TV Act...</td>\n",
       "      <td>2021.0</td>\n",
       "      <td>September</td>\n",
       "      <td>NaN</td>\n",
       "      <td>1.0</td>\n",
       "    </tr>\n",
       "  </tbody>\n",
       "</table>\n",
       "</div>"
      ],
      "text/plain": [
       "      type                 title         director  \\\n",
       "0    Movie  Dick Johnson Is Dead  Kirsten Johnson   \n",
       "1  TV Show         Blood & Water          Unknown   \n",
       "2  TV Show             Ganglands  Julien Leclercq   \n",
       "\n",
       "                                                cast        country  \\\n",
       "0                                            Unknown  United States   \n",
       "1  Ama Qamata, Khosi Ngema, Gail Mabalane, Thaban...   South Africa   \n",
       "2  Sami Bouajila, Tracy Gotoas, Samuel Jouy, Nabi...        Unknown   \n",
       "\n",
       "  date_added  release_year rating  \\\n",
       "0 2021-09-25          2020  PG-13   \n",
       "1 2021-09-24          2021  TV-MA   \n",
       "2 2021-09-24          2021  TV-MA   \n",
       "\n",
       "                                           listed_in  year_added month_added  \\\n",
       "0                                      Documentaries      2021.0   September   \n",
       "1    International TV Shows, TV Dramas, TV Mysteries      2021.0   September   \n",
       "2  Crime TV Shows, International TV Shows, TV Act...      2021.0   September   \n",
       "\n",
       "   Movie_duration  Series_duration  \n",
       "0            90.0              NaN  \n",
       "1             NaN              2.0  \n",
       "2             NaN              1.0  "
      ]
     },
     "execution_count": 25,
     "metadata": {},
     "output_type": "execute_result"
    }
   ],
   "source": [
    "df.head(3)"
   ]
  },
  {
   "cell_type": "code",
   "execution_count": null,
   "id": "fe553329",
   "metadata": {},
   "outputs": [],
   "source": []
  },
  {
   "cell_type": "code",
   "execution_count": null,
   "id": "c972b2fd",
   "metadata": {},
   "outputs": [],
   "source": []
  },
  {
   "cell_type": "code",
   "execution_count": null,
   "id": "70b41781",
   "metadata": {},
   "outputs": [],
   "source": []
  },
  {
   "cell_type": "code",
   "execution_count": null,
   "id": "805c881b",
   "metadata": {},
   "outputs": [],
   "source": []
  },
  {
   "cell_type": "code",
   "execution_count": null,
   "id": "5f6a0cea",
   "metadata": {},
   "outputs": [],
   "source": []
  },
  {
   "cell_type": "markdown",
   "id": "f1d0f6c7",
   "metadata": {},
   "source": [
    "### `type of content on Netflix dataset`"
   ]
  },
  {
   "cell_type": "code",
   "execution_count": 26,
   "id": "72d49e46",
   "metadata": {},
   "outputs": [
    {
     "data": {
      "text/plain": [
       "array(['Movie', 'TV Show'], dtype=object)"
      ]
     },
     "execution_count": 26,
     "metadata": {},
     "output_type": "execute_result"
    }
   ],
   "source": [
    "df[\"type\"].unique()"
   ]
  },
  {
   "cell_type": "code",
   "execution_count": null,
   "id": "36c8a53a",
   "metadata": {},
   "outputs": [],
   "source": []
  },
  {
   "cell_type": "code",
   "execution_count": 27,
   "id": "2cf0f994",
   "metadata": {},
   "outputs": [
    {
     "data": {
      "text/plain": [
       "Movie      6131\n",
       "TV Show    2676\n",
       "Name: type, dtype: int64"
      ]
     },
     "execution_count": 27,
     "metadata": {},
     "output_type": "execute_result"
    }
   ],
   "source": [
    "df[\"type\"].value_counts(dropna=False)"
   ]
  },
  {
   "cell_type": "code",
   "execution_count": 28,
   "id": "ff7653e6",
   "metadata": {},
   "outputs": [
    {
     "data": {
      "text/plain": [
       "Movie      69.615079\n",
       "TV Show    30.384921\n",
       "Name: type, dtype: float64"
      ]
     },
     "execution_count": 28,
     "metadata": {},
     "output_type": "execute_result"
    }
   ],
   "source": [
    "moviesVSseries = df[\"type\"].value_counts(normalize=True)*100\n",
    "moviesVSseries"
   ]
  },
  {
   "cell_type": "code",
   "execution_count": 29,
   "id": "ec7ba904",
   "metadata": {},
   "outputs": [],
   "source": [
    "sns.set(font_scale = 1)"
   ]
  },
  {
   "cell_type": "code",
   "execution_count": 30,
   "id": "543d35af",
   "metadata": {},
   "outputs": [
    {
     "data": {
      "image/png": "[encoded data removed]",
      "text/plain": [
       "<Figure size 432x288 with 1 Axes>"
      ]
     },
     "metadata": {},
     "output_type": "display_data"
    }
   ],
   "source": [
    "types = sns.countplot(data = df , x = \"type\")\n",
    "\n",
    "\n",
    "        \n",
    "show_values_on_bars(types,h_v=\"v\",space=1)        "
   ]
  },
  {
   "cell_type": "raw",
   "id": "6b728a85",
   "metadata": {},
   "source": [
    "# From the Neflix data : \n",
    "We have 70% content of Movies and 30% are TV Shows. "
   ]
  },
  {
   "cell_type": "markdown",
   "id": "41cf1287",
   "metadata": {},
   "source": [
    "### `Number of content per Rating`"
   ]
  },
  {
   "cell_type": "code",
   "execution_count": 31,
   "id": "a9dd5747",
   "metadata": {},
   "outputs": [],
   "source": [
    "df[\"Content_For\"] = df[\"rating\"].replace({\"TV-MA\":\"Adults\",\n",
    "                     \"TV-14\" : \"Teens\",\n",
    "                     \"TV-PG\" : \"Older Kids\",\n",
    "                      \"R\":\"Adults\",\n",
    "                      \"PG-13\":\"Teens\",\n",
    "                      \"TV-Y7\":\"Older Kids\",\n",
    "                      \"TV-Y\":\"Kids\",\n",
    "                      \"PG\":\"Older Kids\",\n",
    "                      \"TV-G\":\"Kids\",\n",
    "                      \"NR\":\"Adults\",\n",
    "                      \"G\":\"Kids\",\n",
    "                      \"TV-Y7-FV\":\"Older Kids\",\n",
    "                      \"NC-17\":\"Adults\",\n",
    "                      \"UR\":\"Adults\"\n",
    "                     \n",
    "                    \n",
    "                     })"
   ]
  },
  {
   "cell_type": "code",
   "execution_count": 32,
   "id": "bf97032f",
   "metadata": {},
   "outputs": [
    {
     "data": {
      "text/plain": [
       "Index(['type', 'title', 'director', 'cast', 'country', 'date_added',\n",
       "       'release_year', 'rating', 'listed_in', 'year_added', 'month_added',\n",
       "       'Movie_duration', 'Series_duration', 'Content_For'],\n",
       "      dtype='object')"
      ]
     },
     "execution_count": 32,
     "metadata": {},
     "output_type": "execute_result"
    }
   ],
   "source": [
    "df.columns"
   ]
  },
  {
   "cell_type": "code",
   "execution_count": null,
   "id": "575123ab",
   "metadata": {},
   "outputs": [],
   "source": []
  },
  {
   "cell_type": "markdown",
   "id": "8345ea5b",
   "metadata": {},
   "source": [
    "##### number of Content each rating category has : "
   ]
  },
  {
   "cell_type": "code",
   "execution_count": 33,
   "id": "92a1bbdf",
   "metadata": {},
   "outputs": [
    {
     "data": {
      "text/plain": [
       "TV-MA       3207\n",
       "TV-14       2160\n",
       "TV-PG        863\n",
       "R            799\n",
       "PG-13        490\n",
       "TV-Y7        334\n",
       "TV-Y         307\n",
       "PG           287\n",
       "TV-G         220\n",
       "NR            80\n",
       "G             41\n",
       "TV-Y7-FV       6\n",
       "NC-17          3\n",
       "UR             3\n",
       "74 min         1\n",
       "84 min         1\n",
       "66 min         1\n",
       "Name: rating, dtype: int64"
      ]
     },
     "execution_count": 33,
     "metadata": {},
     "output_type": "execute_result"
    }
   ],
   "source": [
    "df[\"rating\"].value_counts()"
   ]
  },
  {
   "cell_type": "code",
   "execution_count": 34,
   "id": "166a9682",
   "metadata": {},
   "outputs": [
    {
     "data": {
      "text/plain": [
       "TV-MA    36.430762\n",
       "TV-14    24.537090\n",
       "TV-PG     9.803476\n",
       "R         9.076451\n",
       "PG-13     5.566284\n",
       "TV-Y7     3.794161\n",
       "TV-Y      3.487447\n",
       "PG        3.260252\n",
       "TV-G      2.499148\n",
       "NR        0.908781\n",
       "G         0.465750\n",
       "Name: rating, dtype: float64"
      ]
     },
     "execution_count": 34,
     "metadata": {},
     "output_type": "execute_result"
    }
   ],
   "source": [
    "(df[\"rating\"].value_counts(normalize=True)*100).head(11)\n",
    "\n"
   ]
  },
  {
   "cell_type": "code",
   "execution_count": 35,
   "id": "b330f9db",
   "metadata": {},
   "outputs": [
    {
     "data": {
      "text/plain": [
       "99.82960354424627"
      ]
     },
     "execution_count": 35,
     "metadata": {},
     "output_type": "execute_result"
    }
   ],
   "source": [
    "(df[\"rating\"].value_counts(normalize=True)*100).head(11).sum()\n",
    "\n",
    "# 99.82% of content is from above rating list \n"
   ]
  },
  {
   "cell_type": "markdown",
   "id": "b7ad2a77",
   "metadata": {},
   "source": [
    "##### 99.82% of content is from above rating list "
   ]
  },
  {
   "cell_type": "code",
   "execution_count": 36,
   "id": "1a45130d",
   "metadata": {},
   "outputs": [
    {
     "data": {
      "text/plain": [
       "Index(['TV-MA', 'TV-14', 'TV-PG', 'R', 'PG-13', 'TV-Y7', 'TV-Y', 'PG', 'TV-G',\n",
       "       'NR', 'G'],\n",
       "      dtype='object')"
      ]
     },
     "execution_count": 36,
     "metadata": {},
     "output_type": "execute_result"
    }
   ],
   "source": [
    "most_frequent_ratings =  df[\"rating\"].value_counts().sort_values(ascending=False).head(11).index\n",
    "most_frequent_ratings"
   ]
  },
  {
   "cell_type": "code",
   "execution_count": 37,
   "id": "f508f00a",
   "metadata": {},
   "outputs": [],
   "source": [
    "ratings = df[\"rating\"].value_counts().sort_values(ascending=False).head(11)"
   ]
  },
  {
   "cell_type": "code",
   "execution_count": null,
   "id": "19a9b6c8",
   "metadata": {
    "scrolled": true
   },
   "outputs": [],
   "source": []
  },
  {
   "cell_type": "code",
   "execution_count": 38,
   "id": "320ae9d6",
   "metadata": {},
   "outputs": [
    {
     "data": {
      "image/png": "[encoded data removed]",
      "text/plain": [
       "<Figure size 576x360 with 1 Axes>"
      ]
     },
     "metadata": {},
     "output_type": "display_data"
    }
   ],
   "source": [
    "plt.figure(figsize=(8,5))\n",
    "# sns.barplot(x=df[\"rating\"].value_counts().head(11),y = df[\"rating\"].value_counts().head(11).index)\n",
    "show_values_on_bars(sns.barplot( x = df[\"rating\"].value_counts().head(11),\n",
    "                                y = df[\"rating\"].value_counts().head(11).index)\n",
    "                    ,h_v=\"h\")\n",
    "plt.xlabel(\"Number of Movie per Rating Category\")\n",
    "plt.ylabel(\"Rating Categories\")\n",
    "plt.show()"
   ]
  },
  {
   "cell_type": "markdown",
   "id": "b272f03e",
   "metadata": {},
   "source": [
    "##### Number of Contents present in data as per Age group : "
   ]
  },
  {
   "cell_type": "code",
   "execution_count": 39,
   "id": "f64aae2f",
   "metadata": {},
   "outputs": [
    {
     "data": {
      "text/plain": [
       "Adults        4092\n",
       "Teens         2650\n",
       "Older Kids    1490\n",
       "Kids           568\n",
       "74 min           1\n",
       "Name: Content_For, dtype: int64"
      ]
     },
     "execution_count": 39,
     "metadata": {},
     "output_type": "execute_result"
    }
   ],
   "source": [
    "df[\"Content_For\"].value_counts().head()"
   ]
  },
  {
   "cell_type": "code",
   "execution_count": 40,
   "id": "3c979188",
   "metadata": {},
   "outputs": [
    {
     "data": {
      "text/plain": [
       "Adults        46.484153\n",
       "Teens         30.103374\n",
       "Older Kids    16.926048\n",
       "Kids           6.452346\n",
       "74 min         0.011360\n",
       "84 min         0.011360\n",
       "66 min         0.011360\n",
       "Name: Content_For, dtype: float64"
      ]
     },
     "execution_count": 40,
     "metadata": {},
     "output_type": "execute_result"
    }
   ],
   "source": [
    "df[\"Content_For\"].value_counts(normalize=True)*100"
   ]
  },
  {
   "cell_type": "raw",
   "id": "d597b9cf",
   "metadata": {},
   "source": [
    "                                 46 % content is for adults\n",
    "                                 30% for teens\n",
    "                                 16% for older kids\n",
    "                                 6% for kids\n"
   ]
  },
  {
   "cell_type": "code",
   "execution_count": 41,
   "id": "117ef3dc",
   "metadata": {},
   "outputs": [
    {
     "data": {
      "image/png": "[encoded data removed]",
      "text/plain": [
       "<Figure size 576x360 with 1 Axes>"
      ]
     },
     "metadata": {},
     "output_type": "display_data"
    }
   ],
   "source": [
    "plt.figure(figsize=(8,5))\n",
    "show_values_on_bars(sns.countplot(x = df[\"Content_For\"]))"
   ]
  },
  {
   "cell_type": "code",
   "execution_count": null,
   "id": "21c9b87d",
   "metadata": {},
   "outputs": [],
   "source": []
  },
  {
   "cell_type": "code",
   "execution_count": null,
   "id": "46475483",
   "metadata": {},
   "outputs": [],
   "source": []
  },
  {
   "cell_type": "markdown",
   "id": "260d977d",
   "metadata": {},
   "source": [
    "### `# number of movies released per year over last 30 years`"
   ]
  },
  {
   "cell_type": "code",
   "execution_count": 42,
   "id": "369e27ed",
   "metadata": {},
   "outputs": [],
   "source": [
    "in_last_30_year_movie_released =  df.groupby(\"release_year\")[\"title\"].count().sort_values(ascending=True).tail(30).reset_index()"
   ]
  },
  {
   "cell_type": "code",
   "execution_count": 43,
   "id": "320f7205",
   "metadata": {},
   "outputs": [
    {
     "data": {
      "text/plain": [
       "Index(['release_year', 'title'], dtype='object')"
      ]
     },
     "execution_count": 43,
     "metadata": {},
     "output_type": "execute_result"
    }
   ],
   "source": [
    "in_last_30_year_movie_released.columns"
   ]
  },
  {
   "cell_type": "code",
   "execution_count": 44,
   "id": "87fa113e",
   "metadata": {},
   "outputs": [
    {
     "data": {
      "image/png": "[encoded data removed]",
      "text/plain": [
       "<Figure size 576x360 with 1 Axes>"
      ]
     },
     "metadata": {},
     "output_type": "display_data"
    }
   ],
   "source": [
    "plt.figure(figsize=(8,5))\n",
    "plt.bar(in_last_30_year_movie_released[\"release_year\"],in_last_30_year_movie_released[\"title\"])\n",
    "\n",
    "plt.xlabel(\"years\")\n",
    "plt.ylabel(\"number of content released per year\")\n",
    "\n",
    "# plt.xticks(20)\n",
    "plt.xticks(np.arange(1990,2023,2),rotation = 90)\n",
    "\n",
    "\n",
    "plt.show()"
   ]
  },
  {
   "cell_type": "raw",
   "id": "73f980dd",
   "metadata": {},
   "source": [
    "# possibly because of pandemic , count of releasing movies has been decreased . \n",
    "\n"
   ]
  },
  {
   "cell_type": "markdown",
   "id": "1f12546c",
   "metadata": {},
   "source": [
    "\n",
    "#### Recommendation : \n",
    " It would be appropriate decision if we add content based on past data as per best actors and directors , or produce more movies specifically for Netflix . "
   ]
  },
  {
   "cell_type": "code",
   "execution_count": null,
   "id": "996baef4",
   "metadata": {},
   "outputs": [],
   "source": []
  },
  {
   "cell_type": "code",
   "execution_count": null,
   "id": "33255636",
   "metadata": {},
   "outputs": [],
   "source": []
  },
  {
   "cell_type": "code",
   "execution_count": null,
   "id": "30e24bc0",
   "metadata": {},
   "outputs": [],
   "source": []
  },
  {
   "cell_type": "markdown",
   "id": "aa233141",
   "metadata": {},
   "source": [
    "# Data Preprocessing  "
   ]
  },
  {
   "cell_type": "markdown",
   "id": "c892013c",
   "metadata": {},
   "source": [
    "### working on multi_value data columns"
   ]
  },
  {
   "cell_type": "code",
   "execution_count": null,
   "id": "ddcf9cb3",
   "metadata": {},
   "outputs": [],
   "source": []
  },
  {
   "cell_type": "code",
   "execution_count": null,
   "id": "5d261787",
   "metadata": {},
   "outputs": [],
   "source": []
  },
  {
   "cell_type": "code",
   "execution_count": 45,
   "id": "109bbc38",
   "metadata": {},
   "outputs": [],
   "source": [
    "# cast - director - country - listedIn(genres)"
   ]
  },
  {
   "cell_type": "code",
   "execution_count": 46,
   "id": "2e9223fc",
   "metadata": {
    "scrolled": true
   },
   "outputs": [
    {
     "data": {
      "text/html": [
       "<div>\n",
       "<style scoped>\n",
       "    .dataframe tbody tr th:only-of-type {\n",
       "        vertical-align: middle;\n",
       "    }\n",
       "\n",
       "    .dataframe tbody tr th {\n",
       "        vertical-align: top;\n",
       "    }\n",
       "\n",
       "    .dataframe thead th {\n",
       "        text-align: right;\n",
       "    }\n",
       "</style>\n",
       "<table border=\"1\" class=\"dataframe\">\n",
       "  <thead>\n",
       "    <tr style=\"text-align: right;\">\n",
       "      <th></th>\n",
       "      <th>type</th>\n",
       "      <th>title</th>\n",
       "      <th>director</th>\n",
       "      <th>cast</th>\n",
       "      <th>country</th>\n",
       "      <th>date_added</th>\n",
       "      <th>release_year</th>\n",
       "      <th>rating</th>\n",
       "      <th>listed_in</th>\n",
       "      <th>year_added</th>\n",
       "      <th>month_added</th>\n",
       "      <th>Movie_duration</th>\n",
       "      <th>Series_duration</th>\n",
       "      <th>Content_For</th>\n",
       "    </tr>\n",
       "  </thead>\n",
       "  <tbody>\n",
       "    <tr>\n",
       "      <th>0</th>\n",
       "      <td>Movie</td>\n",
       "      <td>Dick Johnson Is Dead</td>\n",
       "      <td>Kirsten Johnson</td>\n",
       "      <td>Unknown</td>\n",
       "      <td>United States</td>\n",
       "      <td>2021-09-25</td>\n",
       "      <td>2020</td>\n",
       "      <td>PG-13</td>\n",
       "      <td>Documentaries</td>\n",
       "      <td>2021.0</td>\n",
       "      <td>September</td>\n",
       "      <td>90.0</td>\n",
       "      <td>NaN</td>\n",
       "      <td>Teens</td>\n",
       "    </tr>\n",
       "    <tr>\n",
       "      <th>1</th>\n",
       "      <td>TV Show</td>\n",
       "      <td>Blood &amp; Water</td>\n",
       "      <td>Unknown</td>\n",
       "      <td>Ama Qamata, Khosi Ngema, Gail Mabalane, Thaban...</td>\n",
       "      <td>South Africa</td>\n",
       "      <td>2021-09-24</td>\n",
       "      <td>2021</td>\n",
       "      <td>TV-MA</td>\n",
       "      <td>International TV Shows, TV Dramas, TV Mysteries</td>\n",
       "      <td>2021.0</td>\n",
       "      <td>September</td>\n",
       "      <td>NaN</td>\n",
       "      <td>2.0</td>\n",
       "      <td>Adults</td>\n",
       "    </tr>\n",
       "    <tr>\n",
       "      <th>2</th>\n",
       "      <td>TV Show</td>\n",
       "      <td>Ganglands</td>\n",
       "      <td>Julien Leclercq</td>\n",
       "      <td>Sami Bouajila, Tracy Gotoas, Samuel Jouy, Nabi...</td>\n",
       "      <td>Unknown</td>\n",
       "      <td>2021-09-24</td>\n",
       "      <td>2021</td>\n",
       "      <td>TV-MA</td>\n",
       "      <td>Crime TV Shows, International TV Shows, TV Act...</td>\n",
       "      <td>2021.0</td>\n",
       "      <td>September</td>\n",
       "      <td>NaN</td>\n",
       "      <td>1.0</td>\n",
       "      <td>Adults</td>\n",
       "    </tr>\n",
       "  </tbody>\n",
       "</table>\n",
       "</div>"
      ],
      "text/plain": [
       "      type                 title         director  \\\n",
       "0    Movie  Dick Johnson Is Dead  Kirsten Johnson   \n",
       "1  TV Show         Blood & Water          Unknown   \n",
       "2  TV Show             Ganglands  Julien Leclercq   \n",
       "\n",
       "                                                cast        country  \\\n",
       "0                                            Unknown  United States   \n",
       "1  Ama Qamata, Khosi Ngema, Gail Mabalane, Thaban...   South Africa   \n",
       "2  Sami Bouajila, Tracy Gotoas, Samuel Jouy, Nabi...        Unknown   \n",
       "\n",
       "  date_added  release_year rating  \\\n",
       "0 2021-09-25          2020  PG-13   \n",
       "1 2021-09-24          2021  TV-MA   \n",
       "2 2021-09-24          2021  TV-MA   \n",
       "\n",
       "                                           listed_in  year_added month_added  \\\n",
       "0                                      Documentaries      2021.0   September   \n",
       "1    International TV Shows, TV Dramas, TV Mysteries      2021.0   September   \n",
       "2  Crime TV Shows, International TV Shows, TV Act...      2021.0   September   \n",
       "\n",
       "   Movie_duration  Series_duration Content_For  \n",
       "0            90.0              NaN       Teens  \n",
       "1             NaN              2.0      Adults  \n",
       "2             NaN              1.0      Adults  "
      ]
     },
     "execution_count": 46,
     "metadata": {},
     "output_type": "execute_result"
    }
   ],
   "source": [
    "df.head(3)"
   ]
  },
  {
   "cell_type": "code",
   "execution_count": null,
   "id": "dd8349c2",
   "metadata": {},
   "outputs": [],
   "source": []
  },
  {
   "cell_type": "markdown",
   "id": "ef4992c5",
   "metadata": {},
   "source": [
    "#### unnesting columns "
   ]
  },
  {
   "cell_type": "code",
   "execution_count": 47,
   "id": "fb5b8afe",
   "metadata": {},
   "outputs": [],
   "source": [
    "casts = df[\"cast\"].apply(lambda x:str(x).split(\", \")).tolist()\n",
    "casts = pd.DataFrame(casts,index=df[\"title\"])\n",
    "casts = casts.stack()\n",
    "casts = pd.DataFrame(casts).reset_index()\n",
    "casts = casts[[\"title\",0]]\n",
    "casts.columns = [\"title\",\"cast\"]\n",
    "\n",
    "directors = df[\"director\"].apply(lambda x:str(x).split(\", \")).tolist()\n",
    "directors = pd.DataFrame(directors,index=df[\"title\"])\n",
    "directors = directors.stack()\n",
    "directors = pd.DataFrame(directors).reset_index()\n",
    "directors = directors[[\"title\",0]]\n",
    "directors.columns = [\"title\",\"directors\"]\n",
    "\n",
    "countries = df[\"country\"].apply(lambda x:str(x).split(\", \")).tolist()\n",
    "countries = pd.DataFrame(countries,index=df[\"title\"])\n",
    "countries = countries.stack()\n",
    "countries = pd.DataFrame(countries).reset_index()\n",
    "countries = countries[[\"title\",0]]\n",
    "countries.columns = [\"title\",\"countries\"]\n",
    "\n",
    "genres = df[\"listed_in\"].apply(lambda x:str(x).split(\", \")).tolist()\n",
    "genres = pd.DataFrame(genres,index=df[\"title\"])\n",
    "genres = genres.stack()\n",
    "genres = pd.DataFrame(genres).reset_index()\n",
    "genres = genres[[\"title\",0]]\n",
    "genres.columns = [\"title\",\"genres\"]"
   ]
  },
  {
   "cell_type": "markdown",
   "id": "17f3d926",
   "metadata": {},
   "source": [
    "#### Merging unnested data with original data frame : "
   ]
  },
  {
   "cell_type": "code",
   "execution_count": 48,
   "id": "e1c1c37a",
   "metadata": {},
   "outputs": [],
   "source": [
    "data = pd.merge(pd.merge(pd.merge(pd.merge(casts,directors,on=\"title\"),countries,on=\"title\"),genres,on=\"title\"),df,on=\"title\")"
   ]
  },
  {
   "cell_type": "code",
   "execution_count": 49,
   "id": "3ed8d32f",
   "metadata": {},
   "outputs": [
    {
     "data": {
      "text/plain": [
       "Index(['title', 'cast_x', 'directors', 'countries', 'genres', 'type',\n",
       "       'director', 'cast_y', 'country', 'date_added', 'release_year', 'rating',\n",
       "       'listed_in', 'year_added', 'month_added', 'Movie_duration',\n",
       "       'Series_duration', 'Content_For'],\n",
       "      dtype='object')"
      ]
     },
     "execution_count": 49,
     "metadata": {},
     "output_type": "execute_result"
    }
   ],
   "source": [
    "data.columns"
   ]
  },
  {
   "cell_type": "code",
   "execution_count": null,
   "id": "28458235",
   "metadata": {},
   "outputs": [],
   "source": []
  },
  {
   "cell_type": "code",
   "execution_count": 50,
   "id": "c35097c7",
   "metadata": {},
   "outputs": [
    {
     "name": "stdout",
     "output_type": "stream",
     "text": [
      "<class 'pandas.core.frame.DataFrame'>\n",
      "Int64Index: 201991 entries, 0 to 201990\n",
      "Data columns (total 18 columns):\n",
      " #   Column           Non-Null Count   Dtype         \n",
      "---  ------           --------------   -----         \n",
      " 0   title            201991 non-null  object        \n",
      " 1   cast_x           201991 non-null  object        \n",
      " 2   directors        201991 non-null  object        \n",
      " 3   countries        201991 non-null  object        \n",
      " 4   genres           201991 non-null  object        \n",
      " 5   type             201991 non-null  object        \n",
      " 6   director         201991 non-null  object        \n",
      " 7   cast_y           201991 non-null  object        \n",
      " 8   country          201991 non-null  object        \n",
      " 9   date_added       201833 non-null  datetime64[ns]\n",
      " 10  release_year     201991 non-null  int64         \n",
      " 11  rating           201924 non-null  object        \n",
      " 12  listed_in        201991 non-null  object        \n",
      " 13  year_added       201833 non-null  float64       \n",
      " 14  month_added      201833 non-null  object        \n",
      " 15  Movie_duration   145840 non-null  float64       \n",
      " 16  Series_duration  56148 non-null   float64       \n",
      " 17  Content_For      201924 non-null  object        \n",
      "dtypes: datetime64[ns](1), float64(3), int64(1), object(13)\n",
      "memory usage: 29.3+ MB\n"
     ]
    }
   ],
   "source": [
    "data.info()"
   ]
  },
  {
   "cell_type": "code",
   "execution_count": 51,
   "id": "12e970b1",
   "metadata": {},
   "outputs": [
    {
     "data": {
      "text/plain": [
       "(201991, 18)"
      ]
     },
     "execution_count": 51,
     "metadata": {},
     "output_type": "execute_result"
    }
   ],
   "source": [
    "data.shape"
   ]
  },
  {
   "cell_type": "markdown",
   "id": "ebe63b00",
   "metadata": {},
   "source": [
    "##### dropping unncessary old nested data  "
   ]
  },
  {
   "cell_type": "code",
   "execution_count": 52,
   "id": "22d3a348",
   "metadata": {},
   "outputs": [],
   "source": [
    "data.drop([\"cast_y\",\"director\",\"country\",\"listed_in\"],axis = 1,inplace=True)"
   ]
  },
  {
   "cell_type": "code",
   "execution_count": 53,
   "id": "8a82d881",
   "metadata": {},
   "outputs": [],
   "source": [
    "data.rename({\"cast_x\":\"actors\"},axis = 1,inplace=True)"
   ]
  },
  {
   "cell_type": "code",
   "execution_count": null,
   "id": "5643acfa",
   "metadata": {},
   "outputs": [],
   "source": []
  },
  {
   "cell_type": "code",
   "execution_count": 54,
   "id": "25ffbc38",
   "metadata": {},
   "outputs": [
    {
     "data": {
      "text/html": [
       "<div>\n",
       "<style scoped>\n",
       "    .dataframe tbody tr th:only-of-type {\n",
       "        vertical-align: middle;\n",
       "    }\n",
       "\n",
       "    .dataframe tbody tr th {\n",
       "        vertical-align: top;\n",
       "    }\n",
       "\n",
       "    .dataframe thead th {\n",
       "        text-align: right;\n",
       "    }\n",
       "</style>\n",
       "<table border=\"1\" class=\"dataframe\">\n",
       "  <thead>\n",
       "    <tr style=\"text-align: right;\">\n",
       "      <th></th>\n",
       "      <th>title</th>\n",
       "      <th>actors</th>\n",
       "      <th>directors</th>\n",
       "      <th>countries</th>\n",
       "      <th>genres</th>\n",
       "      <th>type</th>\n",
       "      <th>date_added</th>\n",
       "      <th>release_year</th>\n",
       "      <th>rating</th>\n",
       "      <th>year_added</th>\n",
       "      <th>month_added</th>\n",
       "      <th>Movie_duration</th>\n",
       "      <th>Series_duration</th>\n",
       "      <th>Content_For</th>\n",
       "    </tr>\n",
       "  </thead>\n",
       "  <tbody>\n",
       "    <tr>\n",
       "      <th>0</th>\n",
       "      <td>Dick Johnson Is Dead</td>\n",
       "      <td>Unknown</td>\n",
       "      <td>Kirsten Johnson</td>\n",
       "      <td>United States</td>\n",
       "      <td>Documentaries</td>\n",
       "      <td>Movie</td>\n",
       "      <td>2021-09-25</td>\n",
       "      <td>2020</td>\n",
       "      <td>PG-13</td>\n",
       "      <td>2021.0</td>\n",
       "      <td>September</td>\n",
       "      <td>90.0</td>\n",
       "      <td>NaN</td>\n",
       "      <td>Teens</td>\n",
       "    </tr>\n",
       "    <tr>\n",
       "      <th>1</th>\n",
       "      <td>Blood &amp; Water</td>\n",
       "      <td>Ama Qamata</td>\n",
       "      <td>Unknown</td>\n",
       "      <td>South Africa</td>\n",
       "      <td>International TV Shows</td>\n",
       "      <td>TV Show</td>\n",
       "      <td>2021-09-24</td>\n",
       "      <td>2021</td>\n",
       "      <td>TV-MA</td>\n",
       "      <td>2021.0</td>\n",
       "      <td>September</td>\n",
       "      <td>NaN</td>\n",
       "      <td>2.0</td>\n",
       "      <td>Adults</td>\n",
       "    </tr>\n",
       "    <tr>\n",
       "      <th>2</th>\n",
       "      <td>Blood &amp; Water</td>\n",
       "      <td>Ama Qamata</td>\n",
       "      <td>Unknown</td>\n",
       "      <td>South Africa</td>\n",
       "      <td>TV Dramas</td>\n",
       "      <td>TV Show</td>\n",
       "      <td>2021-09-24</td>\n",
       "      <td>2021</td>\n",
       "      <td>TV-MA</td>\n",
       "      <td>2021.0</td>\n",
       "      <td>September</td>\n",
       "      <td>NaN</td>\n",
       "      <td>2.0</td>\n",
       "      <td>Adults</td>\n",
       "    </tr>\n",
       "    <tr>\n",
       "      <th>3</th>\n",
       "      <td>Blood &amp; Water</td>\n",
       "      <td>Ama Qamata</td>\n",
       "      <td>Unknown</td>\n",
       "      <td>South Africa</td>\n",
       "      <td>TV Mysteries</td>\n",
       "      <td>TV Show</td>\n",
       "      <td>2021-09-24</td>\n",
       "      <td>2021</td>\n",
       "      <td>TV-MA</td>\n",
       "      <td>2021.0</td>\n",
       "      <td>September</td>\n",
       "      <td>NaN</td>\n",
       "      <td>2.0</td>\n",
       "      <td>Adults</td>\n",
       "    </tr>\n",
       "    <tr>\n",
       "      <th>4</th>\n",
       "      <td>Blood &amp; Water</td>\n",
       "      <td>Khosi Ngema</td>\n",
       "      <td>Unknown</td>\n",
       "      <td>South Africa</td>\n",
       "      <td>International TV Shows</td>\n",
       "      <td>TV Show</td>\n",
       "      <td>2021-09-24</td>\n",
       "      <td>2021</td>\n",
       "      <td>TV-MA</td>\n",
       "      <td>2021.0</td>\n",
       "      <td>September</td>\n",
       "      <td>NaN</td>\n",
       "      <td>2.0</td>\n",
       "      <td>Adults</td>\n",
       "    </tr>\n",
       "  </tbody>\n",
       "</table>\n",
       "</div>"
      ],
      "text/plain": [
       "                  title       actors        directors      countries  \\\n",
       "0  Dick Johnson Is Dead      Unknown  Kirsten Johnson  United States   \n",
       "1         Blood & Water   Ama Qamata          Unknown   South Africa   \n",
       "2         Blood & Water   Ama Qamata          Unknown   South Africa   \n",
       "3         Blood & Water   Ama Qamata          Unknown   South Africa   \n",
       "4         Blood & Water  Khosi Ngema          Unknown   South Africa   \n",
       "\n",
       "                   genres     type date_added  release_year rating  \\\n",
       "0           Documentaries    Movie 2021-09-25          2020  PG-13   \n",
       "1  International TV Shows  TV Show 2021-09-24          2021  TV-MA   \n",
       "2               TV Dramas  TV Show 2021-09-24          2021  TV-MA   \n",
       "3            TV Mysteries  TV Show 2021-09-24          2021  TV-MA   \n",
       "4  International TV Shows  TV Show 2021-09-24          2021  TV-MA   \n",
       "\n",
       "   year_added month_added  Movie_duration  Series_duration Content_For  \n",
       "0      2021.0   September            90.0              NaN       Teens  \n",
       "1      2021.0   September             NaN              2.0      Adults  \n",
       "2      2021.0   September             NaN              2.0      Adults  \n",
       "3      2021.0   September             NaN              2.0      Adults  \n",
       "4      2021.0   September             NaN              2.0      Adults  "
      ]
     },
     "execution_count": 54,
     "metadata": {},
     "output_type": "execute_result"
    }
   ],
   "source": [
    "data.head(5)"
   ]
  },
  {
   "cell_type": "code",
   "execution_count": 55,
   "id": "8abfcb35",
   "metadata": {},
   "outputs": [
    {
     "data": {
      "text/plain": [
       "(201991, 14)"
      ]
     },
     "execution_count": 55,
     "metadata": {},
     "output_type": "execute_result"
    }
   ],
   "source": [
    "data.shape"
   ]
  },
  {
   "cell_type": "code",
   "execution_count": 56,
   "id": "5ed8c4d4",
   "metadata": {},
   "outputs": [
    {
     "name": "stdout",
     "output_type": "stream",
     "text": [
      "<class 'pandas.core.frame.DataFrame'>\n",
      "Int64Index: 201991 entries, 0 to 201990\n",
      "Data columns (total 14 columns):\n",
      " #   Column           Non-Null Count   Dtype         \n",
      "---  ------           --------------   -----         \n",
      " 0   title            201991 non-null  object        \n",
      " 1   actors           201991 non-null  object        \n",
      " 2   directors        201991 non-null  object        \n",
      " 3   countries        201991 non-null  object        \n",
      " 4   genres           201991 non-null  object        \n",
      " 5   type             201991 non-null  object        \n",
      " 6   date_added       201833 non-null  datetime64[ns]\n",
      " 7   release_year     201991 non-null  int64         \n",
      " 8   rating           201924 non-null  object        \n",
      " 9   year_added       201833 non-null  float64       \n",
      " 10  month_added      201833 non-null  object        \n",
      " 11  Movie_duration   145840 non-null  float64       \n",
      " 12  Series_duration  56148 non-null   float64       \n",
      " 13  Content_For      201924 non-null  object        \n",
      "dtypes: datetime64[ns](1), float64(3), int64(1), object(9)\n",
      "memory usage: 23.1+ MB\n"
     ]
    }
   ],
   "source": [
    "data.info()"
   ]
  },
  {
   "cell_type": "markdown",
   "id": "d89e772c",
   "metadata": {},
   "source": [
    "## Analysing Genres  { Content which are listed in: }"
   ]
  },
  {
   "cell_type": "code",
   "execution_count": 57,
   "id": "a1a419b4",
   "metadata": {},
   "outputs": [],
   "source": [
    "totalcontent_in_all_genres = data.groupby(\"genres\")[\"title\"].nunique().sum()"
   ]
  },
  {
   "cell_type": "code",
   "execution_count": 58,
   "id": "98e73bb1",
   "metadata": {},
   "outputs": [
    {
     "data": {
      "text/plain": [
       "19323"
      ]
     },
     "execution_count": 58,
     "metadata": {},
     "output_type": "execute_result"
    }
   ],
   "source": [
    "totalcontent_in_all_genres"
   ]
  },
  {
   "cell_type": "code",
   "execution_count": 59,
   "id": "e8abcf18",
   "metadata": {},
   "outputs": [
    {
     "data": {
      "text/plain": [
       "91.06763960047611"
      ]
     },
     "execution_count": 59,
     "metadata": {},
     "output_type": "execute_result"
    }
   ],
   "source": [
    "((data.groupby(\"genres\")[\"title\"].nunique().sort_values(ascending=False)/totalcontent_in_all_genres)*100).head(23).sum()"
   ]
  },
  {
   "cell_type": "code",
   "execution_count": 60,
   "id": "15ffdffa",
   "metadata": {},
   "outputs": [
    {
     "data": {
      "text/plain": [
       "genres\n",
       "International Movies            14.242095\n",
       "Dramas                          12.560161\n",
       "Comedies                         8.663251\n",
       "International TV Shows           6.991668\n",
       "Documentaries                    4.497231\n",
       "Action & Adventure               4.445479\n",
       "TV Dramas                        3.948662\n",
       "Independent Movies               3.912436\n",
       "Children & Family Movies         3.317290\n",
       "Romantic Movies                  3.187911\n",
       "TV Comedies                      3.006779\n",
       "Thrillers                        2.986079\n",
       "Crime TV Shows                   2.432335\n",
       "Kids' TV                         2.334006\n",
       "Docuseries                       2.044196\n",
       "Music & Musicals                 1.940692\n",
       "Romantic TV Shows                1.914817\n",
       "Horror Movies                    1.847539\n",
       "Stand-Up Comedy                  1.775087\n",
       "Reality TV                       1.319671\n",
       "British TV Shows                 1.309320\n",
       "Sci-Fi & Fantasy                 1.257569\n",
       "Sports Movies                    1.133364\n",
       "Anime Series                     0.910832\n",
       "Spanish-Language TV Shows        0.900481\n",
       "TV Action & Adventure            0.869430\n",
       "Korean TV Shows                  0.781452\n",
       "Classic Movies                   0.600321\n",
       "LGBTQ Movies                     0.527868\n",
       "TV Mysteries                     0.507168\n",
       "Science & Nature TV              0.476117\n",
       "TV Sci-Fi & Fantasy              0.434715\n",
       "TV Horror                        0.388138\n",
       "Anime Features                   0.367438\n",
       "Cult Movies                      0.367438\n",
       "Teen TV Shows                    0.357087\n",
       "Faith & Spirituality             0.336387\n",
       "TV Thrillers                     0.294985\n",
       "Movies                           0.294985\n",
       "Stand-Up Comedy & Talk Shows     0.289810\n",
       "Classic & Cult TV                0.144905\n",
       "TV Shows                         0.082803\n",
       "Name: title, dtype: float64"
      ]
     },
     "execution_count": 60,
     "metadata": {},
     "output_type": "execute_result"
    }
   ],
   "source": [
    "genres_wise_distribution = ((data.groupby(\"genres\")[\"title\"].nunique().sort_values(ascending=False)/totalcontent_in_all_genres)*100)\n",
    "genres_wise_distribution\n"
   ]
  },
  {
   "cell_type": "markdown",
   "id": "cfbccdc5",
   "metadata": {},
   "source": [
    "##### Total 25 different Genres with their Movie Counts :\n",
    "\n"
   ]
  },
  {
   "cell_type": "code",
   "execution_count": 61,
   "id": "ead8490f",
   "metadata": {},
   "outputs": [
    {
     "data": {
      "text/html": [
       "<div>\n",
       "<style scoped>\n",
       "    .dataframe tbody tr th:only-of-type {\n",
       "        vertical-align: middle;\n",
       "    }\n",
       "\n",
       "    .dataframe tbody tr th {\n",
       "        vertical-align: top;\n",
       "    }\n",
       "\n",
       "    .dataframe thead th {\n",
       "        text-align: right;\n",
       "    }\n",
       "</style>\n",
       "<table border=\"1\" class=\"dataframe\">\n",
       "  <thead>\n",
       "    <tr style=\"text-align: right;\">\n",
       "      <th></th>\n",
       "      <th>genres</th>\n",
       "      <th>title</th>\n",
       "    </tr>\n",
       "  </thead>\n",
       "  <tbody>\n",
       "    <tr>\n",
       "      <th>0</th>\n",
       "      <td>International Movies</td>\n",
       "      <td>2752</td>\n",
       "    </tr>\n",
       "    <tr>\n",
       "      <th>1</th>\n",
       "      <td>Dramas</td>\n",
       "      <td>2427</td>\n",
       "    </tr>\n",
       "    <tr>\n",
       "      <th>2</th>\n",
       "      <td>Comedies</td>\n",
       "      <td>1674</td>\n",
       "    </tr>\n",
       "    <tr>\n",
       "      <th>3</th>\n",
       "      <td>International TV Shows</td>\n",
       "      <td>1351</td>\n",
       "    </tr>\n",
       "    <tr>\n",
       "      <th>4</th>\n",
       "      <td>Documentaries</td>\n",
       "      <td>869</td>\n",
       "    </tr>\n",
       "    <tr>\n",
       "      <th>5</th>\n",
       "      <td>Action &amp; Adventure</td>\n",
       "      <td>859</td>\n",
       "    </tr>\n",
       "    <tr>\n",
       "      <th>6</th>\n",
       "      <td>TV Dramas</td>\n",
       "      <td>763</td>\n",
       "    </tr>\n",
       "    <tr>\n",
       "      <th>7</th>\n",
       "      <td>Independent Movies</td>\n",
       "      <td>756</td>\n",
       "    </tr>\n",
       "    <tr>\n",
       "      <th>8</th>\n",
       "      <td>Children &amp; Family Movies</td>\n",
       "      <td>641</td>\n",
       "    </tr>\n",
       "    <tr>\n",
       "      <th>9</th>\n",
       "      <td>Romantic Movies</td>\n",
       "      <td>616</td>\n",
       "    </tr>\n",
       "    <tr>\n",
       "      <th>10</th>\n",
       "      <td>TV Comedies</td>\n",
       "      <td>581</td>\n",
       "    </tr>\n",
       "    <tr>\n",
       "      <th>11</th>\n",
       "      <td>Thrillers</td>\n",
       "      <td>577</td>\n",
       "    </tr>\n",
       "    <tr>\n",
       "      <th>12</th>\n",
       "      <td>Crime TV Shows</td>\n",
       "      <td>470</td>\n",
       "    </tr>\n",
       "    <tr>\n",
       "      <th>13</th>\n",
       "      <td>Kids' TV</td>\n",
       "      <td>451</td>\n",
       "    </tr>\n",
       "    <tr>\n",
       "      <th>14</th>\n",
       "      <td>Docuseries</td>\n",
       "      <td>395</td>\n",
       "    </tr>\n",
       "    <tr>\n",
       "      <th>15</th>\n",
       "      <td>Music &amp; Musicals</td>\n",
       "      <td>375</td>\n",
       "    </tr>\n",
       "    <tr>\n",
       "      <th>16</th>\n",
       "      <td>Romantic TV Shows</td>\n",
       "      <td>370</td>\n",
       "    </tr>\n",
       "    <tr>\n",
       "      <th>17</th>\n",
       "      <td>Horror Movies</td>\n",
       "      <td>357</td>\n",
       "    </tr>\n",
       "    <tr>\n",
       "      <th>18</th>\n",
       "      <td>Stand-Up Comedy</td>\n",
       "      <td>343</td>\n",
       "    </tr>\n",
       "    <tr>\n",
       "      <th>19</th>\n",
       "      <td>Reality TV</td>\n",
       "      <td>255</td>\n",
       "    </tr>\n",
       "    <tr>\n",
       "      <th>20</th>\n",
       "      <td>British TV Shows</td>\n",
       "      <td>253</td>\n",
       "    </tr>\n",
       "    <tr>\n",
       "      <th>21</th>\n",
       "      <td>Sci-Fi &amp; Fantasy</td>\n",
       "      <td>243</td>\n",
       "    </tr>\n",
       "    <tr>\n",
       "      <th>22</th>\n",
       "      <td>Sports Movies</td>\n",
       "      <td>219</td>\n",
       "    </tr>\n",
       "    <tr>\n",
       "      <th>23</th>\n",
       "      <td>Anime Series</td>\n",
       "      <td>176</td>\n",
       "    </tr>\n",
       "    <tr>\n",
       "      <th>24</th>\n",
       "      <td>Spanish-Language TV Shows</td>\n",
       "      <td>174</td>\n",
       "    </tr>\n",
       "  </tbody>\n",
       "</table>\n",
       "</div>"
      ],
      "text/plain": [
       "                       genres  title\n",
       "0        International Movies   2752\n",
       "1                      Dramas   2427\n",
       "2                    Comedies   1674\n",
       "3      International TV Shows   1351\n",
       "4               Documentaries    869\n",
       "5          Action & Adventure    859\n",
       "6                   TV Dramas    763\n",
       "7          Independent Movies    756\n",
       "8    Children & Family Movies    641\n",
       "9             Romantic Movies    616\n",
       "10                TV Comedies    581\n",
       "11                  Thrillers    577\n",
       "12             Crime TV Shows    470\n",
       "13                   Kids' TV    451\n",
       "14                 Docuseries    395\n",
       "15           Music & Musicals    375\n",
       "16          Romantic TV Shows    370\n",
       "17              Horror Movies    357\n",
       "18            Stand-Up Comedy    343\n",
       "19                 Reality TV    255\n",
       "20           British TV Shows    253\n",
       "21           Sci-Fi & Fantasy    243\n",
       "22              Sports Movies    219\n",
       "23               Anime Series    176\n",
       "24  Spanish-Language TV Shows    174"
      ]
     },
     "execution_count": 61,
     "metadata": {},
     "output_type": "execute_result"
    }
   ],
   "source": [
    "data.groupby(\"genres\")[\"title\"].nunique().sort_values(ascending=False).head(25).reset_index()"
   ]
  },
  {
   "cell_type": "markdown",
   "id": "286d5959",
   "metadata": {},
   "source": [
    "##### Genre distribution across the world : "
   ]
  },
  {
   "cell_type": "code",
   "execution_count": 62,
   "id": "db79c609",
   "metadata": {},
   "outputs": [],
   "source": [
    "genredist  = data.groupby(\"genres\")[\"title\"].nunique().sort_values(ascending=False).head(25).reset_index()"
   ]
  },
  {
   "cell_type": "code",
   "execution_count": 63,
   "id": "09aa0155",
   "metadata": {},
   "outputs": [
    {
     "data": {
      "image/png": "[encoded data removed]",
      "text/plain": [
       "<Figure size 720x432 with 1 Axes>"
      ]
     },
     "metadata": {},
     "output_type": "display_data"
    }
   ],
   "source": [
    "plt.figure(figsize=(10,6))\n",
    "sns.barplot(x = \"genres\" , y=\"title\" , data = genredist )\n",
    "plt.title(\"Content as per genre\")\n",
    "plt.xlabel(\"genres\")\n",
    "plt.ylabel(\"% of content per genre\")\n",
    "plt.xticks(rotation = 90)\n",
    "plt.show()"
   ]
  },
  {
   "cell_type": "code",
   "execution_count": null,
   "id": "ff7ad117",
   "metadata": {},
   "outputs": [],
   "source": []
  },
  {
   "cell_type": "markdown",
   "id": "6433992c",
   "metadata": {},
   "source": [
    "##### most popular genres on netflix are:"
   ]
  },
  {
   "cell_type": "code",
   "execution_count": null,
   "id": "4e5558ea",
   "metadata": {},
   "outputs": [],
   "source": []
  },
  {
   "cell_type": "code",
   "execution_count": 64,
   "id": "455f4e5e",
   "metadata": {},
   "outputs": [
    {
     "data": {
      "text/plain": [
       "Index(['International Movies', 'Dramas', 'Comedies', 'International TV Shows',\n",
       "       'Documentaries', 'Action & Adventure', 'TV Dramas',\n",
       "       'Independent Movies', 'Children & Family Movies', 'Romantic Movies',\n",
       "       'TV Comedies', 'Thrillers', 'Crime TV Shows', 'Kids' TV', 'Docuseries',\n",
       "       'Music & Musicals', 'Romantic TV Shows', 'Horror Movies',\n",
       "       'Stand-Up Comedy', 'Reality TV'],\n",
       "      dtype='object', name='genres')"
      ]
     },
     "execution_count": 64,
     "metadata": {},
     "output_type": "execute_result"
    }
   ],
   "source": [
    "most_popular_genres = genres_wise_distribution.head(20).index\n",
    "most_popular_genres"
   ]
  },
  {
   "cell_type": "code",
   "execution_count": null,
   "id": "d987bed1",
   "metadata": {},
   "outputs": [],
   "source": []
  },
  {
   "cell_type": "code",
   "execution_count": null,
   "id": "f03cd250",
   "metadata": {},
   "outputs": [],
   "source": []
  },
  {
   "cell_type": "markdown",
   "id": "69c0da1d",
   "metadata": {},
   "source": [
    "# `GLOBAL INSIGHTS `"
   ]
  },
  {
   "cell_type": "code",
   "execution_count": 65,
   "id": "4b424344",
   "metadata": {},
   "outputs": [
    {
     "data": {
      "text/html": [
       "<div>\n",
       "<style scoped>\n",
       "    .dataframe tbody tr th:only-of-type {\n",
       "        vertical-align: middle;\n",
       "    }\n",
       "\n",
       "    .dataframe tbody tr th {\n",
       "        vertical-align: top;\n",
       "    }\n",
       "\n",
       "    .dataframe thead th {\n",
       "        text-align: right;\n",
       "    }\n",
       "</style>\n",
       "<table border=\"1\" class=\"dataframe\">\n",
       "  <thead>\n",
       "    <tr style=\"text-align: right;\">\n",
       "      <th></th>\n",
       "      <th>title</th>\n",
       "      <th>actors</th>\n",
       "      <th>directors</th>\n",
       "      <th>countries</th>\n",
       "      <th>genres</th>\n",
       "      <th>type</th>\n",
       "      <th>date_added</th>\n",
       "      <th>release_year</th>\n",
       "      <th>rating</th>\n",
       "      <th>year_added</th>\n",
       "      <th>month_added</th>\n",
       "      <th>Movie_duration</th>\n",
       "      <th>Series_duration</th>\n",
       "      <th>Content_For</th>\n",
       "    </tr>\n",
       "  </thead>\n",
       "  <tbody>\n",
       "    <tr>\n",
       "      <th>0</th>\n",
       "      <td>Dick Johnson Is Dead</td>\n",
       "      <td>Unknown</td>\n",
       "      <td>Kirsten Johnson</td>\n",
       "      <td>United States</td>\n",
       "      <td>Documentaries</td>\n",
       "      <td>Movie</td>\n",
       "      <td>2021-09-25</td>\n",
       "      <td>2020</td>\n",
       "      <td>PG-13</td>\n",
       "      <td>2021.0</td>\n",
       "      <td>September</td>\n",
       "      <td>90.0</td>\n",
       "      <td>NaN</td>\n",
       "      <td>Teens</td>\n",
       "    </tr>\n",
       "    <tr>\n",
       "      <th>1</th>\n",
       "      <td>Blood &amp; Water</td>\n",
       "      <td>Ama Qamata</td>\n",
       "      <td>Unknown</td>\n",
       "      <td>South Africa</td>\n",
       "      <td>International TV Shows</td>\n",
       "      <td>TV Show</td>\n",
       "      <td>2021-09-24</td>\n",
       "      <td>2021</td>\n",
       "      <td>TV-MA</td>\n",
       "      <td>2021.0</td>\n",
       "      <td>September</td>\n",
       "      <td>NaN</td>\n",
       "      <td>2.0</td>\n",
       "      <td>Adults</td>\n",
       "    </tr>\n",
       "    <tr>\n",
       "      <th>2</th>\n",
       "      <td>Blood &amp; Water</td>\n",
       "      <td>Ama Qamata</td>\n",
       "      <td>Unknown</td>\n",
       "      <td>South Africa</td>\n",
       "      <td>TV Dramas</td>\n",
       "      <td>TV Show</td>\n",
       "      <td>2021-09-24</td>\n",
       "      <td>2021</td>\n",
       "      <td>TV-MA</td>\n",
       "      <td>2021.0</td>\n",
       "      <td>September</td>\n",
       "      <td>NaN</td>\n",
       "      <td>2.0</td>\n",
       "      <td>Adults</td>\n",
       "    </tr>\n",
       "    <tr>\n",
       "      <th>3</th>\n",
       "      <td>Blood &amp; Water</td>\n",
       "      <td>Ama Qamata</td>\n",
       "      <td>Unknown</td>\n",
       "      <td>South Africa</td>\n",
       "      <td>TV Mysteries</td>\n",
       "      <td>TV Show</td>\n",
       "      <td>2021-09-24</td>\n",
       "      <td>2021</td>\n",
       "      <td>TV-MA</td>\n",
       "      <td>2021.0</td>\n",
       "      <td>September</td>\n",
       "      <td>NaN</td>\n",
       "      <td>2.0</td>\n",
       "      <td>Adults</td>\n",
       "    </tr>\n",
       "    <tr>\n",
       "      <th>4</th>\n",
       "      <td>Blood &amp; Water</td>\n",
       "      <td>Khosi Ngema</td>\n",
       "      <td>Unknown</td>\n",
       "      <td>South Africa</td>\n",
       "      <td>International TV Shows</td>\n",
       "      <td>TV Show</td>\n",
       "      <td>2021-09-24</td>\n",
       "      <td>2021</td>\n",
       "      <td>TV-MA</td>\n",
       "      <td>2021.0</td>\n",
       "      <td>September</td>\n",
       "      <td>NaN</td>\n",
       "      <td>2.0</td>\n",
       "      <td>Adults</td>\n",
       "    </tr>\n",
       "  </tbody>\n",
       "</table>\n",
       "</div>"
      ],
      "text/plain": [
       "                  title       actors        directors      countries  \\\n",
       "0  Dick Johnson Is Dead      Unknown  Kirsten Johnson  United States   \n",
       "1         Blood & Water   Ama Qamata          Unknown   South Africa   \n",
       "2         Blood & Water   Ama Qamata          Unknown   South Africa   \n",
       "3         Blood & Water   Ama Qamata          Unknown   South Africa   \n",
       "4         Blood & Water  Khosi Ngema          Unknown   South Africa   \n",
       "\n",
       "                   genres     type date_added  release_year rating  \\\n",
       "0           Documentaries    Movie 2021-09-25          2020  PG-13   \n",
       "1  International TV Shows  TV Show 2021-09-24          2021  TV-MA   \n",
       "2               TV Dramas  TV Show 2021-09-24          2021  TV-MA   \n",
       "3            TV Mysteries  TV Show 2021-09-24          2021  TV-MA   \n",
       "4  International TV Shows  TV Show 2021-09-24          2021  TV-MA   \n",
       "\n",
       "   year_added month_added  Movie_duration  Series_duration Content_For  \n",
       "0      2021.0   September            90.0              NaN       Teens  \n",
       "1      2021.0   September             NaN              2.0      Adults  \n",
       "2      2021.0   September             NaN              2.0      Adults  \n",
       "3      2021.0   September             NaN              2.0      Adults  \n",
       "4      2021.0   September             NaN              2.0      Adults  "
      ]
     },
     "execution_count": 65,
     "metadata": {},
     "output_type": "execute_result"
    }
   ],
   "source": [
    "data.head()"
   ]
  },
  {
   "cell_type": "markdown",
   "id": "f74700ab",
   "metadata": {},
   "source": [
    "## Most Frequent Actors from the dataset : "
   ]
  },
  {
   "cell_type": "code",
   "execution_count": null,
   "id": "76cf10a4",
   "metadata": {
    "scrolled": true
   },
   "outputs": [],
   "source": []
  },
  {
   "cell_type": "markdown",
   "id": "87800877",
   "metadata": {},
   "source": [
    "#### top 50 actors : their maximum number of content they have worked on and countires they have worked in ."
   ]
  },
  {
   "cell_type": "code",
   "execution_count": 66,
   "id": "de487ea7",
   "metadata": {
    "scrolled": false
   },
   "outputs": [
    {
     "data": {
      "text/html": [
       "<div>\n",
       "<style scoped>\n",
       "    .dataframe tbody tr th:only-of-type {\n",
       "        vertical-align: middle;\n",
       "    }\n",
       "\n",
       "    .dataframe tbody tr th {\n",
       "        vertical-align: top;\n",
       "    }\n",
       "\n",
       "    .dataframe thead th {\n",
       "        text-align: right;\n",
       "    }\n",
       "</style>\n",
       "<table border=\"1\" class=\"dataframe\">\n",
       "  <thead>\n",
       "    <tr style=\"text-align: right;\">\n",
       "      <th></th>\n",
       "      <th>title</th>\n",
       "      <th>countries</th>\n",
       "    </tr>\n",
       "    <tr>\n",
       "      <th>actors</th>\n",
       "      <th></th>\n",
       "      <th></th>\n",
       "    </tr>\n",
       "  </thead>\n",
       "  <tbody>\n",
       "    <tr>\n",
       "      <th>Unknown</th>\n",
       "      <td>825</td>\n",
       "      <td>65</td>\n",
       "    </tr>\n",
       "    <tr>\n",
       "      <th>Anupam Kher</th>\n",
       "      <td>43</td>\n",
       "      <td>5</td>\n",
       "    </tr>\n",
       "    <tr>\n",
       "      <th>Shah Rukh Khan</th>\n",
       "      <td>35</td>\n",
       "      <td>5</td>\n",
       "    </tr>\n",
       "    <tr>\n",
       "      <th>Julie Tejwani</th>\n",
       "      <td>33</td>\n",
       "      <td>2</td>\n",
       "    </tr>\n",
       "    <tr>\n",
       "      <th>Naseeruddin Shah</th>\n",
       "      <td>32</td>\n",
       "      <td>4</td>\n",
       "    </tr>\n",
       "    <tr>\n",
       "      <th>Takahiro Sakurai</th>\n",
       "      <td>32</td>\n",
       "      <td>2</td>\n",
       "    </tr>\n",
       "    <tr>\n",
       "      <th>Rupa Bhimani</th>\n",
       "      <td>31</td>\n",
       "      <td>2</td>\n",
       "    </tr>\n",
       "    <tr>\n",
       "      <th>Om Puri</th>\n",
       "      <td>30</td>\n",
       "      <td>6</td>\n",
       "    </tr>\n",
       "    <tr>\n",
       "      <th>Akshay Kumar</th>\n",
       "      <td>30</td>\n",
       "      <td>2</td>\n",
       "    </tr>\n",
       "    <tr>\n",
       "      <th>Yuki Kaji</th>\n",
       "      <td>29</td>\n",
       "      <td>2</td>\n",
       "    </tr>\n",
       "    <tr>\n",
       "      <th>Paresh Rawal</th>\n",
       "      <td>28</td>\n",
       "      <td>3</td>\n",
       "    </tr>\n",
       "    <tr>\n",
       "      <th>Amitabh Bachchan</th>\n",
       "      <td>28</td>\n",
       "      <td>1</td>\n",
       "    </tr>\n",
       "    <tr>\n",
       "      <th>Boman Irani</th>\n",
       "      <td>27</td>\n",
       "      <td>4</td>\n",
       "    </tr>\n",
       "    <tr>\n",
       "      <th>Vincent Tong</th>\n",
       "      <td>26</td>\n",
       "      <td>13</td>\n",
       "    </tr>\n",
       "    <tr>\n",
       "      <th>Rajesh Kava</th>\n",
       "      <td>26</td>\n",
       "      <td>2</td>\n",
       "    </tr>\n",
       "    <tr>\n",
       "      <th>Andrea Libman</th>\n",
       "      <td>25</td>\n",
       "      <td>6</td>\n",
       "    </tr>\n",
       "    <tr>\n",
       "      <th>Kareena Kapoor</th>\n",
       "      <td>25</td>\n",
       "      <td>2</td>\n",
       "    </tr>\n",
       "    <tr>\n",
       "      <th>Samuel L. Jackson</th>\n",
       "      <td>24</td>\n",
       "      <td>7</td>\n",
       "    </tr>\n",
       "    <tr>\n",
       "      <th>John Cleese</th>\n",
       "      <td>24</td>\n",
       "      <td>13</td>\n",
       "    </tr>\n",
       "    <tr>\n",
       "      <th>Tara Strong</th>\n",
       "      <td>23</td>\n",
       "      <td>9</td>\n",
       "    </tr>\n",
       "    <tr>\n",
       "      <th>Fred Tatasciore</th>\n",
       "      <td>23</td>\n",
       "      <td>5</td>\n",
       "    </tr>\n",
       "    <tr>\n",
       "      <th>Jigna Bhardwaj</th>\n",
       "      <td>23</td>\n",
       "      <td>2</td>\n",
       "    </tr>\n",
       "    <tr>\n",
       "      <th>Daisuke Ono</th>\n",
       "      <td>22</td>\n",
       "      <td>1</td>\n",
       "    </tr>\n",
       "    <tr>\n",
       "      <th>Kay Kay Menon</th>\n",
       "      <td>21</td>\n",
       "      <td>3</td>\n",
       "    </tr>\n",
       "    <tr>\n",
       "      <th>Nawazuddin Siddiqui</th>\n",
       "      <td>21</td>\n",
       "      <td>4</td>\n",
       "    </tr>\n",
       "    <tr>\n",
       "      <th>Ashleigh Ball</th>\n",
       "      <td>21</td>\n",
       "      <td>7</td>\n",
       "    </tr>\n",
       "    <tr>\n",
       "      <th>Ajay Devgn</th>\n",
       "      <td>21</td>\n",
       "      <td>2</td>\n",
       "    </tr>\n",
       "    <tr>\n",
       "      <th>Nicolas Cage</th>\n",
       "      <td>21</td>\n",
       "      <td>7</td>\n",
       "    </tr>\n",
       "    <tr>\n",
       "      <th>Junichi Suwabe</th>\n",
       "      <td>21</td>\n",
       "      <td>2</td>\n",
       "    </tr>\n",
       "    <tr>\n",
       "      <th>Salman Khan</th>\n",
       "      <td>20</td>\n",
       "      <td>1</td>\n",
       "    </tr>\n",
       "    <tr>\n",
       "      <th>Adam Sandler</th>\n",
       "      <td>20</td>\n",
       "      <td>1</td>\n",
       "    </tr>\n",
       "    <tr>\n",
       "      <th>David Attenborough</th>\n",
       "      <td>20</td>\n",
       "      <td>7</td>\n",
       "    </tr>\n",
       "    <tr>\n",
       "      <th>Fred Armisen</th>\n",
       "      <td>19</td>\n",
       "      <td>6</td>\n",
       "    </tr>\n",
       "    <tr>\n",
       "      <th>David Spade</th>\n",
       "      <td>19</td>\n",
       "      <td>3</td>\n",
       "    </tr>\n",
       "    <tr>\n",
       "      <th>Ai Kayano</th>\n",
       "      <td>19</td>\n",
       "      <td>2</td>\n",
       "    </tr>\n",
       "    <tr>\n",
       "      <th>Yuichi Nakamura</th>\n",
       "      <td>19</td>\n",
       "      <td>2</td>\n",
       "    </tr>\n",
       "    <tr>\n",
       "      <th>James Franco</th>\n",
       "      <td>19</td>\n",
       "      <td>13</td>\n",
       "    </tr>\n",
       "    <tr>\n",
       "      <th>Seth Rogen</th>\n",
       "      <td>19</td>\n",
       "      <td>4</td>\n",
       "    </tr>\n",
       "    <tr>\n",
       "      <th>Erin Fitzgerald</th>\n",
       "      <td>19</td>\n",
       "      <td>6</td>\n",
       "    </tr>\n",
       "    <tr>\n",
       "      <th>Gulshan Grover</th>\n",
       "      <td>19</td>\n",
       "      <td>4</td>\n",
       "    </tr>\n",
       "    <tr>\n",
       "      <th>Mamoru Miyano</th>\n",
       "      <td>19</td>\n",
       "      <td>2</td>\n",
       "    </tr>\n",
       "    <tr>\n",
       "      <th>Morgan Freeman</th>\n",
       "      <td>19</td>\n",
       "      <td>6</td>\n",
       "    </tr>\n",
       "    <tr>\n",
       "      <th>Diana Kaarina</th>\n",
       "      <td>18</td>\n",
       "      <td>3</td>\n",
       "    </tr>\n",
       "    <tr>\n",
       "      <th>Rajesh Sharma</th>\n",
       "      <td>18</td>\n",
       "      <td>2</td>\n",
       "    </tr>\n",
       "    <tr>\n",
       "      <th>Vatsal Dubey</th>\n",
       "      <td>18</td>\n",
       "      <td>2</td>\n",
       "    </tr>\n",
       "    <tr>\n",
       "      <th>Kana Hanazawa</th>\n",
       "      <td>18</td>\n",
       "      <td>1</td>\n",
       "    </tr>\n",
       "    <tr>\n",
       "      <th>Yashpal Sharma</th>\n",
       "      <td>18</td>\n",
       "      <td>4</td>\n",
       "    </tr>\n",
       "    <tr>\n",
       "      <th>Debi Derryberry</th>\n",
       "      <td>18</td>\n",
       "      <td>8</td>\n",
       "    </tr>\n",
       "    <tr>\n",
       "      <th>Anil Kapoor</th>\n",
       "      <td>18</td>\n",
       "      <td>2</td>\n",
       "    </tr>\n",
       "    <tr>\n",
       "      <th>Laura Bailey</th>\n",
       "      <td>18</td>\n",
       "      <td>2</td>\n",
       "    </tr>\n",
       "  </tbody>\n",
       "</table>\n",
       "</div>"
      ],
      "text/plain": [
       "                     title  countries\n",
       "actors                               \n",
       "Unknown                825         65\n",
       "Anupam Kher             43          5\n",
       "Shah Rukh Khan          35          5\n",
       "Julie Tejwani           33          2\n",
       "Naseeruddin Shah        32          4\n",
       "Takahiro Sakurai        32          2\n",
       "Rupa Bhimani            31          2\n",
       "Om Puri                 30          6\n",
       "Akshay Kumar            30          2\n",
       "Yuki Kaji               29          2\n",
       "Paresh Rawal            28          3\n",
       "Amitabh Bachchan        28          1\n",
       "Boman Irani             27          4\n",
       "Vincent Tong            26         13\n",
       "Rajesh Kava             26          2\n",
       "Andrea Libman           25          6\n",
       "Kareena Kapoor          25          2\n",
       "Samuel L. Jackson       24          7\n",
       "John Cleese             24         13\n",
       "Tara Strong             23          9\n",
       "Fred Tatasciore         23          5\n",
       "Jigna Bhardwaj          23          2\n",
       "Daisuke Ono             22          1\n",
       "Kay Kay Menon           21          3\n",
       "Nawazuddin Siddiqui     21          4\n",
       "Ashleigh Ball           21          7\n",
       "Ajay Devgn              21          2\n",
       "Nicolas Cage            21          7\n",
       "Junichi Suwabe          21          2\n",
       "Salman Khan             20          1\n",
       "Adam Sandler            20          1\n",
       "David Attenborough      20          7\n",
       "Fred Armisen            19          6\n",
       "David Spade             19          3\n",
       "Ai Kayano               19          2\n",
       "Yuichi Nakamura         19          2\n",
       "James Franco            19         13\n",
       "Seth Rogen              19          4\n",
       "Erin Fitzgerald         19          6\n",
       "Gulshan Grover          19          4\n",
       "Mamoru Miyano           19          2\n",
       "Morgan Freeman          19          6\n",
       "Diana Kaarina           18          3\n",
       "Rajesh Sharma           18          2\n",
       "Vatsal Dubey            18          2\n",
       "Kana Hanazawa           18          1\n",
       "Yashpal Sharma          18          4\n",
       "Debi Derryberry         18          8\n",
       "Anil Kapoor             18          2\n",
       "Laura Bailey            18          2"
      ]
     },
     "execution_count": 66,
     "metadata": {},
     "output_type": "execute_result"
    }
   ],
   "source": [
    "data.groupby(\"actors\")[[\"title\",\"countries\"]].aggregate({\"title\":\"nunique\",\n",
    "                                                        \"countries\":\"nunique\"}).sort_values(by=\"title\",ascending=False).head(50)\n"
   ]
  },
  {
   "cell_type": "code",
   "execution_count": null,
   "id": "08edce11",
   "metadata": {},
   "outputs": [],
   "source": []
  },
  {
   "cell_type": "code",
   "execution_count": null,
   "id": "9bbc9c09",
   "metadata": {},
   "outputs": [],
   "source": []
  },
  {
   "cell_type": "markdown",
   "id": "c2d350a2",
   "metadata": {},
   "source": [
    "#### top 20 directors  : their number of content and the counties they have worked in . "
   ]
  },
  {
   "cell_type": "code",
   "execution_count": 67,
   "id": "ab345f31",
   "metadata": {},
   "outputs": [
    {
     "data": {
      "text/html": [
       "<div>\n",
       "<style scoped>\n",
       "    .dataframe tbody tr th:only-of-type {\n",
       "        vertical-align: middle;\n",
       "    }\n",
       "\n",
       "    .dataframe tbody tr th {\n",
       "        vertical-align: top;\n",
       "    }\n",
       "\n",
       "    .dataframe thead th {\n",
       "        text-align: right;\n",
       "    }\n",
       "</style>\n",
       "<table border=\"1\" class=\"dataframe\">\n",
       "  <thead>\n",
       "    <tr style=\"text-align: right;\">\n",
       "      <th></th>\n",
       "      <th>title</th>\n",
       "      <th>countries</th>\n",
       "    </tr>\n",
       "    <tr>\n",
       "      <th>directors</th>\n",
       "      <th></th>\n",
       "      <th></th>\n",
       "    </tr>\n",
       "  </thead>\n",
       "  <tbody>\n",
       "    <tr>\n",
       "      <th>Unknown</th>\n",
       "      <td>2634</td>\n",
       "      <td>67</td>\n",
       "    </tr>\n",
       "    <tr>\n",
       "      <th>Rajiv Chilaka</th>\n",
       "      <td>22</td>\n",
       "      <td>2</td>\n",
       "    </tr>\n",
       "    <tr>\n",
       "      <th>Jan Suter</th>\n",
       "      <td>21</td>\n",
       "      <td>4</td>\n",
       "    </tr>\n",
       "    <tr>\n",
       "      <th>Raúl Campos</th>\n",
       "      <td>19</td>\n",
       "      <td>4</td>\n",
       "    </tr>\n",
       "    <tr>\n",
       "      <th>Marcus Raboy</th>\n",
       "      <td>16</td>\n",
       "      <td>2</td>\n",
       "    </tr>\n",
       "    <tr>\n",
       "      <th>Suhas Kadav</th>\n",
       "      <td>16</td>\n",
       "      <td>2</td>\n",
       "    </tr>\n",
       "    <tr>\n",
       "      <th>Jay Karas</th>\n",
       "      <td>15</td>\n",
       "      <td>1</td>\n",
       "    </tr>\n",
       "    <tr>\n",
       "      <th>Cathy Garcia-Molina</th>\n",
       "      <td>13</td>\n",
       "      <td>1</td>\n",
       "    </tr>\n",
       "    <tr>\n",
       "      <th>Jay Chapman</th>\n",
       "      <td>12</td>\n",
       "      <td>1</td>\n",
       "    </tr>\n",
       "    <tr>\n",
       "      <th>Martin Scorsese</th>\n",
       "      <td>12</td>\n",
       "      <td>6</td>\n",
       "    </tr>\n",
       "    <tr>\n",
       "      <th>Youssef Chahine</th>\n",
       "      <td>12</td>\n",
       "      <td>3</td>\n",
       "    </tr>\n",
       "    <tr>\n",
       "      <th>Steven Spielberg</th>\n",
       "      <td>11</td>\n",
       "      <td>5</td>\n",
       "    </tr>\n",
       "    <tr>\n",
       "      <th>Don Michael Paul</th>\n",
       "      <td>10</td>\n",
       "      <td>4</td>\n",
       "    </tr>\n",
       "    <tr>\n",
       "      <th>Yılmaz Erdoğan</th>\n",
       "      <td>9</td>\n",
       "      <td>1</td>\n",
       "    </tr>\n",
       "    <tr>\n",
       "      <th>Anurag Kashyap</th>\n",
       "      <td>9</td>\n",
       "      <td>2</td>\n",
       "    </tr>\n",
       "    <tr>\n",
       "      <th>Shannon Hartman</th>\n",
       "      <td>9</td>\n",
       "      <td>1</td>\n",
       "    </tr>\n",
       "    <tr>\n",
       "      <th>David Dhawan</th>\n",
       "      <td>9</td>\n",
       "      <td>1</td>\n",
       "    </tr>\n",
       "    <tr>\n",
       "      <th>Justin G. Dyck</th>\n",
       "      <td>8</td>\n",
       "      <td>2</td>\n",
       "    </tr>\n",
       "    <tr>\n",
       "      <th>Hanung Bramantyo</th>\n",
       "      <td>8</td>\n",
       "      <td>2</td>\n",
       "    </tr>\n",
       "    <tr>\n",
       "      <th>Hakan Algül</th>\n",
       "      <td>8</td>\n",
       "      <td>1</td>\n",
       "    </tr>\n",
       "  </tbody>\n",
       "</table>\n",
       "</div>"
      ],
      "text/plain": [
       "                     title  countries\n",
       "directors                            \n",
       "Unknown               2634         67\n",
       "Rajiv Chilaka           22          2\n",
       "Jan Suter               21          4\n",
       "Raúl Campos             19          4\n",
       "Marcus Raboy            16          2\n",
       "Suhas Kadav             16          2\n",
       "Jay Karas               15          1\n",
       "Cathy Garcia-Molina     13          1\n",
       "Jay Chapman             12          1\n",
       "Martin Scorsese         12          6\n",
       "Youssef Chahine         12          3\n",
       "Steven Spielberg        11          5\n",
       "Don Michael Paul        10          4\n",
       "Yılmaz Erdoğan           9          1\n",
       "Anurag Kashyap           9          2\n",
       "Shannon Hartman          9          1\n",
       "David Dhawan             9          1\n",
       "Justin G. Dyck           8          2\n",
       "Hanung Bramantyo         8          2\n",
       "Hakan Algül              8          1"
      ]
     },
     "execution_count": 67,
     "metadata": {},
     "output_type": "execute_result"
    }
   ],
   "source": [
    "data.groupby(\"directors\")[[\"title\",\"countries\"]].aggregate({\"title\":\"nunique\",\n",
    "                                                        \"countries\":\"nunique\"}).sort_values(by=\"title\",ascending=False).head(20)\n"
   ]
  },
  {
   "cell_type": "code",
   "execution_count": null,
   "id": "478a0e17",
   "metadata": {},
   "outputs": [],
   "source": []
  },
  {
   "cell_type": "code",
   "execution_count": null,
   "id": "eddc6377",
   "metadata": {},
   "outputs": [],
   "source": []
  },
  {
   "cell_type": "markdown",
   "id": "105104e6",
   "metadata": {},
   "source": [
    "## number of movies per Country on Netflix"
   ]
  },
  {
   "cell_type": "code",
   "execution_count": 68,
   "id": "006b37b5",
   "metadata": {},
   "outputs": [
    {
     "data": {
      "text/plain": [
       "countries\n",
       "United States     3689\n",
       "India             1046\n",
       "Unknown            831\n",
       "United Kingdom     804\n",
       "Canada             445\n",
       "France             393\n",
       "Japan              318\n",
       "Spain              232\n",
       "South Korea        231\n",
       "Germany            226\n",
       "Mexico             169\n",
       "China              162\n",
       "Australia          160\n",
       "Egypt              117\n",
       "Turkey             113\n",
       "Hong Kong          105\n",
       "Nigeria            103\n",
       "Italy              100\n",
       "Brazil              97\n",
       "Argentina           91\n",
       "Name: title, dtype: int64"
      ]
     },
     "execution_count": 68,
     "metadata": {},
     "output_type": "execute_result"
    }
   ],
   "source": [
    "# df[\"country\"].value_counts(dropna=False).head(20)\n",
    "\n",
    "movies_per_country  = data.groupby(\"countries\")[\"title\"].nunique().sort_values(ascending=False).head(20)\n",
    "movies_per_country"
   ]
  },
  {
   "cell_type": "code",
   "execution_count": 69,
   "id": "9c29dd84",
   "metadata": {},
   "outputs": [
    {
     "data": {
      "image/png": "[encoded data removed]",
      "text/plain": [
       "<Figure size 720x432 with 1 Axes>"
      ]
     },
     "metadata": {},
     "output_type": "display_data"
    }
   ],
   "source": [
    "plt.figure(figsize=(10,6))\n",
    "plt.bar(movies_per_country.index,height=movies_per_country)\n",
    "\n",
    "plt.xlabel(\"Countires\")\n",
    "plt.ylabel(\"# Content per Country\")\n",
    "\n",
    "# plt.xticks(20)\n",
    "plt.xticks(rotation = 90)\n",
    "\n",
    "\n",
    "plt.show()"
   ]
  },
  {
   "cell_type": "code",
   "execution_count": 70,
   "id": "286284fe",
   "metadata": {},
   "outputs": [
    {
     "data": {
      "text/plain": [
       "86.97095435684648"
      ]
     },
     "execution_count": 70,
     "metadata": {},
     "output_type": "execute_result"
    }
   ],
   "source": [
    "(data.groupby(\"countries\")[\"title\"].nunique().sort_values(ascending=False).head(20).sum()/10845)*100"
   ]
  },
  {
   "cell_type": "markdown",
   "id": "4ce36dbe",
   "metadata": {},
   "source": [
    "87 % of the Contents is from above 20 Countries."
   ]
  },
  {
   "cell_type": "code",
   "execution_count": 71,
   "id": "b24905a6",
   "metadata": {},
   "outputs": [],
   "source": [
    "# business in top 10 countires\n",
    "top_20_countires = movies_per_country.index"
   ]
  },
  {
   "cell_type": "code",
   "execution_count": 72,
   "id": "99e33f61",
   "metadata": {
    "scrolled": true
   },
   "outputs": [
    {
     "data": {
      "text/plain": [
       "Index(['United States', 'India', 'Unknown', 'United Kingdom', 'Canada',\n",
       "       'France', 'Japan', 'Spain', 'South Korea', 'Germany', 'Mexico', 'China',\n",
       "       'Australia', 'Egypt', 'Turkey', 'Hong Kong', 'Nigeria', 'Italy',\n",
       "       'Brazil', 'Argentina'],\n",
       "      dtype='object', name='countries')"
      ]
     },
     "execution_count": 72,
     "metadata": {},
     "output_type": "execute_result"
    }
   ],
   "source": [
    "top_20_countires"
   ]
  },
  {
   "cell_type": "code",
   "execution_count": null,
   "id": "bc65c370",
   "metadata": {},
   "outputs": [],
   "source": []
  },
  {
   "cell_type": "markdown",
   "id": "6644e8ba",
   "metadata": {},
   "source": [
    "### # Number of content added per year\n"
   ]
  },
  {
   "cell_type": "code",
   "execution_count": 73,
   "id": "86f53ee3",
   "metadata": {},
   "outputs": [
    {
     "data": {
      "image/png": "[encoded data removed]",
      "text/plain": [
       "<Figure size 720x360 with 1 Axes>"
      ]
     },
     "metadata": {},
     "output_type": "display_data"
    }
   ],
   "source": [
    "# mvies added per year\n",
    "\n",
    "plt.figure(figsize=(10,5))\n",
    "sns.barplot(y = data.groupby(data[\"date_added\"].dt.year)[\"title\"].nunique().sort_values(ascending=False),\n",
    "            x =data.groupby(data[\"date_added\"].dt.year)[\"title\"].nunique().sort_values(ascending=False).index )\n",
    "plt.xticks(rotation = 90)\n",
    "plt.xlabel(\"years\")\n",
    "plt.ylabel(\"number of movies\")\n",
    "plt.show()"
   ]
  },
  {
   "cell_type": "code",
   "execution_count": null,
   "id": "f68d4f83",
   "metadata": {},
   "outputs": [],
   "source": []
  },
  {
   "cell_type": "code",
   "execution_count": null,
   "id": "7ec5c6d8",
   "metadata": {},
   "outputs": [],
   "source": []
  },
  {
   "cell_type": "markdown",
   "id": "44ff60ef",
   "metadata": {},
   "source": [
    "### top actors per perticular genre :(Internationally)"
   ]
  },
  {
   "cell_type": "code",
   "execution_count": null,
   "id": "bc103225",
   "metadata": {},
   "outputs": [],
   "source": []
  },
  {
   "cell_type": "code",
   "execution_count": 74,
   "id": "53ccd3ae",
   "metadata": {},
   "outputs": [
    {
     "data": {
      "text/plain": [
       "Index(['International Movies', 'Dramas', 'Comedies', 'International TV Shows',\n",
       "       'Documentaries', 'Action & Adventure', 'TV Dramas',\n",
       "       'Independent Movies', 'Children & Family Movies', 'Romantic Movies',\n",
       "       'TV Comedies', 'Thrillers', 'Crime TV Shows', 'Kids' TV', 'Docuseries',\n",
       "       'Music & Musicals', 'Romantic TV Shows', 'Horror Movies',\n",
       "       'Stand-Up Comedy', 'Reality TV'],\n",
       "      dtype='object', name='genres')"
      ]
     },
     "execution_count": 74,
     "metadata": {},
     "output_type": "execute_result"
    }
   ],
   "source": [
    "most_popular_genres \n"
   ]
  },
  {
   "cell_type": "code",
   "execution_count": 75,
   "id": "46b29654",
   "metadata": {
    "scrolled": false
   },
   "outputs": [
    {
     "name": "stdout",
     "output_type": "stream",
     "text": [
      "\n",
      "International Movies\n",
      "== Actor ======= number of movies =\n",
      "actors\n",
      "Unknown             178\n",
      "Anupam Kher          38\n",
      "Shah Rukh Khan       32\n",
      "Om Puri              27\n",
      "Akshay Kumar         27\n",
      "Naseeruddin Shah     27\n",
      "Boman Irani          25\n",
      "Kareena Kapoor       25\n",
      "Paresh Rawal         25\n",
      "Amitabh Bachchan     23\n",
      "Name: title, dtype: int64\n",
      "\n",
      "\n",
      "Dramas\n",
      "== Actor ======= number of movies =\n",
      "actors\n",
      "Anupam Kher            28\n",
      "Shah Rukh Khan         28\n",
      "Naseeruddin Shah       28\n",
      "Amitabh Bachchan       20\n",
      "Om Puri                20\n",
      "Nawazuddin Siddiqui    18\n",
      "Paresh Rawal           18\n",
      "Kay Kay Menon          17\n",
      "Akshay Kumar           16\n",
      "Kareena Kapoor         15\n",
      "Name: title, dtype: int64\n",
      "\n",
      "\n",
      "Comedies\n",
      "== Actor ======= number of movies =\n",
      "actors\n",
      "Anupam Kher         20\n",
      "Paresh Rawal        18\n",
      "Adam Sandler        18\n",
      "Akshay Kumar        15\n",
      "Shah Rukh Khan      15\n",
      "Hassan Hosny        15\n",
      "Boman Irani         15\n",
      "David Spade         14\n",
      "Maya Rudolph        14\n",
      "Naseeruddin Shah    13\n",
      "Name: title, dtype: int64\n",
      "\n",
      "\n",
      "International TV Shows\n",
      "== Actor ======= number of movies =\n",
      "actors\n",
      "Unknown             109\n",
      "Takahiro Sakurai     22\n",
      "Yuki Kaji            18\n",
      "Junichi Suwabe       16\n",
      "Ai Kayano            16\n",
      "Yoshimasa Hosoya     14\n",
      "Daisuke Ono          14\n",
      "Yuichi Nakamura      13\n",
      "Jun Fukuyama         13\n",
      "Takehito Koyasu      13\n",
      "Name: title, dtype: int64\n",
      "\n",
      "\n",
      "Documentaries\n",
      "== Actor ======= number of movies =\n",
      "actors\n",
      "Unknown           424\n",
      "Samuel West        10\n",
      "Craig Sechler       6\n",
      "Wille Lindberg      5\n",
      "Quincy Jones        5\n",
      "Terry Jones         4\n",
      "Terry Gilliam       4\n",
      "Jesse Richman       4\n",
      "Eric Idle           4\n",
      "Graham Chapman      4\n",
      "Name: title, dtype: int64\n",
      "\n",
      "\n",
      "Action & Adventure\n",
      "== Actor ======= number of movies =\n",
      "actors\n",
      "Bruce Willis         13\n",
      "Amitabh Bachchan     12\n",
      "Anupam Kher          12\n",
      "Shah Rukh Khan       11\n",
      "Samuel L. Jackson    10\n",
      "Jackie Shroff        10\n",
      "Jackie Chan          10\n",
      "Nicolas Cage         10\n",
      "Donnie Yen           10\n",
      "Boman Irani           9\n",
      "Name: title, dtype: int64\n",
      "\n",
      "\n",
      "TV Dramas\n",
      "== Actor ======= number of movies =\n",
      "actors\n",
      "Tay Ping Hui       10\n",
      "Jeanette Aw         7\n",
      "Zhang Zhenhuan      7\n",
      "Unknown             6\n",
      "Christopher Lee     6\n",
      "Mike Colter         5\n",
      "Yao Wenlong         5\n",
      "Elvin Ng            5\n",
      "Rui En              5\n",
      "Frederick Lee       5\n",
      "Name: title, dtype: int64\n",
      "\n",
      "\n",
      "Independent Movies\n",
      "== Actor ======= number of movies =\n",
      "actors\n",
      "Naseeruddin Shah         10\n",
      "Rajit Kapoor              8\n",
      "Mark Duplass              7\n",
      "Konkona Sen Sharma        7\n",
      "Tannishtha Chatterjee     7\n",
      "Adil Hussain              7\n",
      "John C. Reilly            6\n",
      "Kishore Kadam             6\n",
      "Matthew Gray Gubler       5\n",
      "Alia Shawkat              5\n",
      "Name: title, dtype: int64\n",
      "\n",
      "\n",
      "Children & Family Movies\n",
      "== Actor ======= number of movies =\n",
      "actors\n",
      "Unknown            33\n",
      "Julie Tejwani      26\n",
      "Rupa Bhimani       25\n",
      "Rajesh Kava        21\n",
      "Jigna Bhardwaj     19\n",
      "Vatsal Dubey       16\n",
      "Andrea Libman      15\n",
      "Laura Bailey       14\n",
      "Tara Strong        14\n",
      "Erin Fitzgerald    13\n",
      "Name: title, dtype: int64\n",
      "\n",
      "\n",
      "Romantic Movies\n",
      "== Actor ======= number of movies =\n",
      "actors\n",
      "Akshay Kumar        8\n",
      "Salman Khan         7\n",
      "Anupam Kher         7\n",
      "Shah Rukh Khan      7\n",
      "Unknown             7\n",
      "Robert Pattinson    6\n",
      "Taylor Lautner      6\n",
      "Kristen Stewart     6\n",
      "Peter Facinelli     6\n",
      "Kareena Kapoor      6\n",
      "Name: title, dtype: int64\n",
      "\n",
      "\n",
      "TV Comedies\n",
      "== Actor ======= number of movies =\n",
      "actors\n",
      "Unknown                     24\n",
      "Tony Hale                    5\n",
      "Grey Griffin                 5\n",
      "Fortune Feimster             5\n",
      "James Wen                    5\n",
      "Kevin Michael Richardson     4\n",
      "Matt Hill                    4\n",
      "Ken Marino                   4\n",
      "Tia Lee                      4\n",
      "Nat Faxon                    4\n",
      "Name: title, dtype: int64\n",
      "\n",
      "\n",
      "Thrillers\n",
      "== Actor ======= number of movies =\n",
      "actors\n",
      "Nicolas Cage            7\n",
      "Nawazuddin Siddiqui     7\n",
      "Ben Kingsley            7\n",
      "Nana Patekar            6\n",
      "John Abraham            6\n",
      "Jennifer Jason Leigh    6\n",
      "Ajay Devgn              5\n",
      "Jake Gyllenhaal         5\n",
      "Rajesh Sharma           5\n",
      "Brian Cox               5\n",
      "Name: title, dtype: int64\n",
      "\n",
      "\n",
      "Crime TV Shows\n",
      "== Actor ======= number of movies =\n",
      "actors\n",
      "Unknown                75\n",
      "Eréndira Ibarra         4\n",
      "Juan Pablo Urrego       4\n",
      "Alejandro Speitzer      4\n",
      "Mike Colter             4\n",
      "Damián Alcázar          4\n",
      "Yuki Kaji               4\n",
      "Luis Roberto Guzmán     4\n",
      "Diego Cadavid           4\n",
      "Diego Vásquez           4\n",
      "Name: title, dtype: int64\n",
      "\n",
      "\n",
      "Kids' TV\n",
      "== Actor ======= number of movies =\n",
      "actors\n",
      "Unknown           42\n",
      "Vincent Tong      13\n",
      "Ashleigh Ball     11\n",
      "Grey Griffin       9\n",
      "Michela Luci       9\n",
      "Tara Strong        8\n",
      "Andrea Libman      8\n",
      "Brian Drummond     8\n",
      "Kathleen Barr      8\n",
      "Sam Vincent        8\n",
      "Name: title, dtype: int64\n",
      "\n",
      "\n",
      "Docuseries\n",
      "== Actor ======= number of movies =\n",
      "actors\n",
      "Unknown               207\n",
      "David Attenborough     14\n",
      "David Chang             3\n",
      "Morgan Freeman          3\n",
      "Liz Bonnin              2\n",
      "Eric Idle               2\n",
      "R. Kelly                2\n",
      "Erik Thompson           2\n",
      "Nicholas Day            2\n",
      "Anitta                  2\n",
      "Name: title, dtype: int64\n",
      "\n",
      "\n",
      "Music & Musicals\n",
      "== Actor ======= number of movies =\n",
      "actors\n",
      "Unknown               35\n",
      "Gulshan Grover         7\n",
      "Anil Kapoor            7\n",
      "Akshay Kumar           7\n",
      "Kareena Kapoor         6\n",
      "Katrina Kaif           6\n",
      "Amrish Puri            6\n",
      "Anupam Kher            5\n",
      "Saurav Chakraborty     5\n",
      "Alok Nath              5\n",
      "Name: title, dtype: int64\n",
      "\n",
      "\n",
      "Romantic TV Shows\n",
      "== Actor ======= number of movies =\n",
      "actors\n",
      "Unknown        13\n",
      "Amanda Chou     6\n",
      "Jack Lee        5\n",
      "Patrick Lee     5\n",
      "Chris Wang      5\n",
      "James Wen       5\n",
      "Tia Lee         4\n",
      "Lee Il-hwa      4\n",
      "Joe Chen        4\n",
      "Ivy Shao        4\n",
      "Name: title, dtype: int64\n",
      "\n",
      "\n",
      "Horror Movies\n",
      "== Actor ======= number of movies =\n",
      "actors\n",
      "Michael Gross         7\n",
      "Tony Todd             5\n",
      "Jamie Kennedy         4\n",
      "Lucy Boynton          4\n",
      "Ali Larter            4\n",
      "Surya Ganapathy       4\n",
      "Pavel Navageethan     4\n",
      "Javier Botet          4\n",
      "Doug Jones            4\n",
      "Avantika Vandanapu    4\n",
      "Name: title, dtype: int64\n",
      "\n",
      "\n",
      "Stand-Up Comedy\n",
      "== Actor ======= number of movies =\n",
      "actors\n",
      "Jeff Dunham         8\n",
      "Kevin Hart          8\n",
      "Katt Williams       6\n",
      "Tom Segura          5\n",
      "Iliza Shlesinger    5\n",
      "Bill Burr           5\n",
      "Jim Jefferies       5\n",
      "Jim Gaffigan        5\n",
      "John Mulaney        5\n",
      "Vir Das             5\n",
      "Name: title, dtype: int64\n",
      "\n",
      "\n",
      "Reality TV\n",
      "== Actor ======= number of movies =\n",
      "actors\n",
      "Unknown           92\n",
      "Yoshimi Tokui      4\n",
      "Rutledge Wood      4\n",
      "Ryota Yamasato     4\n",
      "Azusa Babazono     4\n",
      "Paul Hollywood     4\n",
      "You                4\n",
      "Reina Triendl      4\n",
      "Nadiya Hussain     3\n",
      "Tan France         3\n",
      "Name: title, dtype: int64\n",
      "\n"
     ]
    }
   ],
   "source": [
    "for genre in most_popular_genres:\n",
    "    print()\n",
    "    print(genre)\n",
    "    print(\"== Actor ======= number of movies =\")\n",
    "    print(data[data[\"genres\"]==genre].groupby(\"actors\")[\"title\"].nunique().sort_values(ascending=False).head(10))\n",
    "    print()\n",
    "    "
   ]
  },
  {
   "cell_type": "markdown",
   "id": "1ef367c9",
   "metadata": {},
   "source": [
    "### top Directors per perticular genre :(Internationally)"
   ]
  },
  {
   "cell_type": "code",
   "execution_count": 76,
   "id": "ada0c616",
   "metadata": {
    "scrolled": false
   },
   "outputs": [
    {
     "name": "stdout",
     "output_type": "stream",
     "text": [
      "\n",
      "International Movies\n",
      "== Directors ======= number of movies =\n",
      "directors\n",
      "Unknown                47\n",
      "Cathy Garcia-Molina    13\n",
      "Youssef Chahine        10\n",
      "Yılmaz Erdoğan          9\n",
      "Hanung Bramantyo        8\n",
      "Johnnie To              8\n",
      "Anurag Kashyap          8\n",
      "David Dhawan            8\n",
      "Umesh Mehra             8\n",
      "Hakan Algül             8\n",
      "Name: title, dtype: int64\n",
      "\n",
      "\n",
      "Dramas\n",
      "== Directors ======= number of movies =\n",
      "directors\n",
      "Unknown                25\n",
      "Youssef Chahine        12\n",
      "Martin Scorsese         9\n",
      "Cathy Garcia-Molina     9\n",
      "Hanung Bramantyo        8\n",
      "Hidenori Inoue          7\n",
      "S.S. Rajamouli          7\n",
      "Clint Eastwood          6\n",
      "Sooraj R. Barjatya      6\n",
      "Yılmaz Erdoğan          6\n",
      "Name: title, dtype: int64\n",
      "\n",
      "\n",
      "Comedies\n",
      "== Directors ======= number of movies =\n",
      "directors\n",
      "Unknown                32\n",
      "David Dhawan            9\n",
      "Suhas Kadav             8\n",
      "Hakan Algül             8\n",
      "Prakash Satam           7\n",
      "Cathy Garcia-Molina     7\n",
      "Robert Rodriguez        6\n",
      "Yılmaz Erdoğan          6\n",
      "Fernando Ayllón         6\n",
      "Wenn V. Deramas         6\n",
      "Name: title, dtype: int64\n",
      "\n",
      "\n",
      "International TV Shows\n",
      "== Directors ======= number of movies =\n",
      "directors\n",
      "Unknown                    1223\n",
      "Alastair Fothergill           3\n",
      "Jung-ah Im                    2\n",
      "Hsu Fu-chun                   2\n",
      "Shin Won-ho                   2\n",
      "Abhishek Chaubey              1\n",
      "Nopparoj Chotmunkongsit       1\n",
      "Obi Emelonye                  1\n",
      "Olivier Megaton               1\n",
      "Onur Ünlü                     1\n",
      "Name: title, dtype: int64\n",
      "\n",
      "\n",
      "Documentaries\n",
      "== Directors ======= number of movies =\n",
      "directors\n",
      "Unknown             57\n",
      "Vlad Yudin           6\n",
      "Thierry Donard       5\n",
      "Barry Avrich         4\n",
      "Hernán Zin           4\n",
      "Matt Askem           4\n",
      "Edward Cotterill     4\n",
      "Frank Capra          4\n",
      "John Huston          4\n",
      "Luis Ara             4\n",
      "Name: title, dtype: int64\n",
      "\n",
      "\n",
      "Action & Adventure\n",
      "== Directors ======= number of movies =\n",
      "directors\n",
      "Don Michael Paul     9\n",
      "Unknown              8\n",
      "S.S. Rajamouli       7\n",
      "Hidenori Inoue       7\n",
      "Toshiya Shinohara    7\n",
      "Steven Spielberg     5\n",
      "Ram Gopal Varma      5\n",
      "Lilly Wachowski      5\n",
      "Masahiko Murata      5\n",
      "Martin Campbell      5\n",
      "Name: title, dtype: int64\n",
      "\n",
      "\n",
      "TV Dramas\n",
      "== Directors ======= number of movies =\n",
      "directors\n",
      "Unknown                702\n",
      "Abhishek Chaubey         1\n",
      "Pass Patthanakumjon      1\n",
      "Serdar Akar              1\n",
      "Sankalp Reddy            1\n",
      "Rob Seidenglanz          1\n",
      "Quek Shio-chuan          1\n",
      "Philippa Lowthorpe       1\n",
      "Peter Ho                 1\n",
      "Pavel Kostomarov         1\n",
      "Name: title, dtype: int64\n",
      "\n",
      "\n",
      "Independent Movies\n",
      "== Directors ======= number of movies =\n",
      "directors\n",
      "Noah Baumbach           5\n",
      "Paul Thomas Anderson    5\n",
      "Unknown                 5\n",
      "Qaushiq Mukherjee       4\n",
      "Alfonso Cuarón          3\n",
      "Lynn Shelton            3\n",
      "Onir                    3\n",
      "Antonio Campos          3\n",
      "Jeff Baena              3\n",
      "Julián Hernández        2\n",
      "Name: title, dtype: int64\n",
      "\n",
      "\n",
      "Children & Family Movies\n",
      "== Directors ======= number of movies =\n",
      "directors\n",
      "Unknown             36\n",
      "Rajiv Chilaka       22\n",
      "Suhas Kadav         16\n",
      "Prakash Satam        7\n",
      "Robert Rodriguez     7\n",
      "Tilak Shetty         6\n",
      "Steven Spielberg     6\n",
      "William Lau          6\n",
      "Robert Vince         6\n",
      "Joey So              6\n",
      "Name: title, dtype: int64\n",
      "\n",
      "\n",
      "Romantic Movies\n",
      "== Directors ======= number of movies =\n",
      "directors\n",
      "Unknown                11\n",
      "Cathy Garcia-Molina     8\n",
      "Justin G. Dyck          6\n",
      "Antoinette Jadaone      4\n",
      "Imtiaz Ali              4\n",
      "Fajar Bustomi           4\n",
      "Hakan Algül             4\n",
      "Mae Czarina Cruz        4\n",
      "Robert Luketic          4\n",
      "Roger Kumble            4\n",
      "Name: title, dtype: int64\n",
      "\n",
      "\n",
      "TV Comedies\n",
      "== Directors ======= number of movies =\n",
      "directors\n",
      "Unknown              539\n",
      "Stan Lathan            2\n",
      "Aco Tenriyagelli       1\n",
      "Ousmane Ly             1\n",
      "Kongkiat Khomsiri      1\n",
      "Lars Kaalund           1\n",
      "Malik Nejer            1\n",
      "Marcus Raboy           1\n",
      "Michael Cumming        1\n",
      "Mike Smith             1\n",
      "Name: title, dtype: int64\n",
      "\n",
      "\n",
      "Thrillers\n",
      "== Directors ======= number of movies =\n",
      "directors\n",
      "David Fincher               4\n",
      "Rathindran R Prasad         4\n",
      "Ashwin Saravanan            3\n",
      "Fernando González Molina    3\n",
      "Kunle Afolayan              3\n",
      "Anurag Kashyap              3\n",
      "Mike Flanagan               3\n",
      "Gregory Hoblit              3\n",
      "Brad Anderson               3\n",
      "Chris Sivertson             2\n",
      "Name: title, dtype: int64\n",
      "\n",
      "\n",
      "Crime TV Shows\n",
      "== Directors ======= number of movies =\n",
      "directors\n",
      "Unknown              401\n",
      "Ahmet Katıksız         1\n",
      "Mauricio Dias          1\n",
      "Pantham Thongsang      1\n",
      "Oriol Paulo            1\n",
      "Olivier Megaton        1\n",
      "Nicolas Lopez          1\n",
      "Miguel Conde           1\n",
      "Mick Grogan            1\n",
      "Michael Samuels        1\n",
      "Name: title, dtype: int64\n",
      "\n",
      "\n",
      "Kids' TV\n",
      "== Directors ======= number of movies =\n",
      "directors\n",
      "Unknown               433\n",
      "Iginio Straffi          2\n",
      "Ah Loong                1\n",
      "Kenny Ortega            1\n",
      "Vijay Roche             1\n",
      "Tony Collingwood        1\n",
      "Thomas Astruc           1\n",
      "Stephen Murray          1\n",
      "Olivier Jean-Marie      1\n",
      "Kyran Kelly             1\n",
      "Name: title, dtype: int64\n",
      "\n",
      "\n",
      "Docuseries\n",
      "== Directors ======= number of movies =\n",
      "directors\n",
      "Unknown                335\n",
      "Alastair Fothergill      3\n",
      "Ken Burns                3\n",
      "Lynn Novick              2\n",
      "Mark Lewis               1\n",
      "Padraic McKinley         1\n",
      "Olivier Megaton          1\n",
      "Oliver Stone             1\n",
      "Moyoung Jin              1\n",
      "Mick Grogan              1\n",
      "Name: title, dtype: int64\n",
      "\n",
      "\n",
      "Music & Musicals\n",
      "== Directors ======= number of movies =\n",
      "directors\n",
      "Unknown                      17\n",
      "Matt Askem                    6\n",
      "Suhas Kadav                   5\n",
      "Lucas Margutti                4\n",
      "Detlev Buck                   4\n",
      "Paul Dugdale                  4\n",
      "David Dhawan                  3\n",
      "Mastan Alibhai Burmawalla     3\n",
      "B. V. Nandini Reddy           3\n",
      "Sooraj R. Barjatya            3\n",
      "Name: title, dtype: int64\n",
      "\n",
      "\n",
      "Romantic TV Shows\n",
      "== Directors ======= number of movies =\n",
      "directors\n",
      "Unknown                 341\n",
      "Shin Won-ho               2\n",
      "Hsu Fu-chun               2\n",
      "Kongkiat Khomsiri         1\n",
      "Takuya Igarashi           1\n",
      "Sarawut Wichiensarn       1\n",
      "Sakon Tiacharoen          1\n",
      "Richard Arellano          1\n",
      "Rachit Kusonkoonsiri      1\n",
      "Park Joon-hwa             1\n",
      "Name: title, dtype: int64\n",
      "\n",
      "\n",
      "Horror Movies\n",
      "== Directors ======= number of movies =\n",
      "directors\n",
      "Rocky Soraya             6\n",
      "Poj Arnon                5\n",
      "Rathindran R Prasad      4\n",
      "Leigh Janiak             3\n",
      "Scott Stewart            3\n",
      "Banjong Pisanthanakun    3\n",
      "Don Michael Paul         3\n",
      "Kevin Smith              3\n",
      "Hasan Karacadağ          3\n",
      "Ashwin Saravanan         3\n",
      "Name: title, dtype: int64\n",
      "\n",
      "\n",
      "Stand-Up Comedy\n",
      "== Directors ======= number of movies =\n",
      "directors\n",
      "Unknown            25\n",
      "Jan Suter          21\n",
      "Raúl Campos        19\n",
      "Marcus Raboy       15\n",
      "Jay Karas          14\n",
      "Jay Chapman        12\n",
      "Shannon Hartman     9\n",
      "Lance Bangs         8\n",
      "Troy Miller         7\n",
      "Ryan Polito         7\n",
      "Name: title, dtype: int64\n",
      "\n",
      "\n",
      "Reality TV\n",
      "== Directors ======= number of movies =\n",
      "directors\n",
      "Unknown                   249\n",
      "Adrián García Bogliano      1\n",
      "Andy Devonshire             1\n",
      "Bumpy                       1\n",
      "Carla Barros                1\n",
      "Cassia Dian                 1\n",
      "Michael Simon               1\n",
      "Name: title, dtype: int64\n",
      "\n"
     ]
    }
   ],
   "source": [
    "for genre in most_popular_genres:\n",
    "    print()\n",
    "    print(genre)\n",
    "    print(\"== Directors ======= number of movies =\")\n",
    "    print(data[data[\"genres\"]==genre].groupby(\"directors\")[\"title\"].nunique().sort_values(ascending=False).head(10))\n",
    "    print()\n",
    "    "
   ]
  },
  {
   "cell_type": "code",
   "execution_count": null,
   "id": "7b169cb8",
   "metadata": {},
   "outputs": [],
   "source": []
  },
  {
   "cell_type": "code",
   "execution_count": null,
   "id": "9645828b",
   "metadata": {},
   "outputs": [],
   "source": []
  },
  {
   "cell_type": "markdown",
   "id": "3551934e",
   "metadata": {},
   "source": [
    "# people who have worked in multiple countires"
   ]
  },
  {
   "cell_type": "code",
   "execution_count": 77,
   "id": "a98e8027",
   "metadata": {},
   "outputs": [],
   "source": [
    "## top 10 directors who have content in maximum number of countires "
   ]
  },
  {
   "cell_type": "code",
   "execution_count": 78,
   "id": "c70c7d5f",
   "metadata": {},
   "outputs": [
    {
     "data": {
      "text/plain": [
       "directors\n",
       "Unknown               67\n",
       "Matthew Salleh        12\n",
       "Joshua Oppenheimer    10\n",
       "Farhad Safinia         8\n",
       "Martin Campbell        8\n",
       "James Watkins          7\n",
       "Aaron Woodley          7\n",
       "Renny Harlin           7\n",
       "Nora Twomey            7\n",
       "Brian De Palma         7\n",
       "Name: countries, dtype: int64"
      ]
     },
     "execution_count": 78,
     "metadata": {},
     "output_type": "execute_result"
    }
   ],
   "source": [
    "data.groupby(\"directors\")[\"countries\"].nunique().sort_values(ascending =False).head(10)"
   ]
  },
  {
   "cell_type": "code",
   "execution_count": 79,
   "id": "441e14c7",
   "metadata": {},
   "outputs": [],
   "source": [
    "## top 10 actors who have content in maximum number of countires "
   ]
  },
  {
   "cell_type": "code",
   "execution_count": 80,
   "id": "88a9ff74",
   "metadata": {},
   "outputs": [
    {
     "data": {
      "text/plain": [
       "actors\n",
       "Unknown               65\n",
       "Alfred Molina         14\n",
       "Paul Giamatti         14\n",
       "Mads Mikkelsen        13\n",
       "Ben Whishaw           13\n",
       "James Franco          13\n",
       "Eddie Marsan          13\n",
       "Vincent Tong          13\n",
       "Sylvester Stallone    13\n",
       "John Cleese           13\n",
       "Name: countries, dtype: int64"
      ]
     },
     "execution_count": 80,
     "metadata": {},
     "output_type": "execute_result"
    }
   ],
   "source": [
    "data.groupby(\"actors\")[\"countries\"].nunique().sort_values(ascending =False).head(10)"
   ]
  },
  {
   "cell_type": "code",
   "execution_count": 81,
   "id": "71c57958",
   "metadata": {},
   "outputs": [],
   "source": [
    "# possible content of these people is watched all over in the world we can say! "
   ]
  },
  {
   "cell_type": "code",
   "execution_count": null,
   "id": "e3ebea14",
   "metadata": {},
   "outputs": [],
   "source": []
  },
  {
   "cell_type": "markdown",
   "id": "cce1e44d",
   "metadata": {},
   "source": [
    "# Top 20 Versatile Actors who have worked in various types of movies:\n",
    "\n",
    "#### also their movie counts in the title column"
   ]
  },
  {
   "cell_type": "code",
   "execution_count": 82,
   "id": "93947cce",
   "metadata": {
    "scrolled": true
   },
   "outputs": [
    {
     "data": {
      "text/plain": [
       "Index(['title', 'actors', 'directors', 'countries', 'genres', 'type',\n",
       "       'date_added', 'release_year', 'rating', 'year_added', 'month_added',\n",
       "       'Movie_duration', 'Series_duration', 'Content_For'],\n",
       "      dtype='object')"
      ]
     },
     "execution_count": 82,
     "metadata": {},
     "output_type": "execute_result"
    }
   ],
   "source": [
    "data.columns"
   ]
  },
  {
   "cell_type": "code",
   "execution_count": 83,
   "id": "0f8e2494",
   "metadata": {},
   "outputs": [
    {
     "data": {
      "text/html": [
       "<div>\n",
       "<style scoped>\n",
       "    .dataframe tbody tr th:only-of-type {\n",
       "        vertical-align: middle;\n",
       "    }\n",
       "\n",
       "    .dataframe tbody tr th {\n",
       "        vertical-align: top;\n",
       "    }\n",
       "\n",
       "    .dataframe thead th {\n",
       "        text-align: right;\n",
       "    }\n",
       "</style>\n",
       "<table border=\"1\" class=\"dataframe\">\n",
       "  <thead>\n",
       "    <tr style=\"text-align: right;\">\n",
       "      <th></th>\n",
       "      <th>genres</th>\n",
       "      <th>title</th>\n",
       "    </tr>\n",
       "    <tr>\n",
       "      <th>actors</th>\n",
       "      <th></th>\n",
       "      <th></th>\n",
       "    </tr>\n",
       "  </thead>\n",
       "  <tbody>\n",
       "    <tr>\n",
       "      <th>Ron Perlman</th>\n",
       "      <td>17</td>\n",
       "      <td>13</td>\n",
       "    </tr>\n",
       "    <tr>\n",
       "      <th>Gary Cole</th>\n",
       "      <td>16</td>\n",
       "      <td>11</td>\n",
       "    </tr>\n",
       "    <tr>\n",
       "      <th>Kiernan Shipka</th>\n",
       "      <td>16</td>\n",
       "      <td>9</td>\n",
       "    </tr>\n",
       "    <tr>\n",
       "      <th>Glenn Close</th>\n",
       "      <td>15</td>\n",
       "      <td>12</td>\n",
       "    </tr>\n",
       "    <tr>\n",
       "      <th>Anupam Kher</th>\n",
       "      <td>14</td>\n",
       "      <td>43</td>\n",
       "    </tr>\n",
       "    <tr>\n",
       "      <th>Samuel L. Jackson</th>\n",
       "      <td>14</td>\n",
       "      <td>24</td>\n",
       "    </tr>\n",
       "    <tr>\n",
       "      <th>Rajesh Sharma</th>\n",
       "      <td>14</td>\n",
       "      <td>18</td>\n",
       "    </tr>\n",
       "    <tr>\n",
       "      <th>Antonio Banderas</th>\n",
       "      <td>14</td>\n",
       "      <td>15</td>\n",
       "    </tr>\n",
       "    <tr>\n",
       "      <th>Ben Kingsley</th>\n",
       "      <td>14</td>\n",
       "      <td>15</td>\n",
       "    </tr>\n",
       "    <tr>\n",
       "      <th>Keith David</th>\n",
       "      <td>14</td>\n",
       "      <td>15</td>\n",
       "    </tr>\n",
       "    <tr>\n",
       "      <th>Guy Pearce</th>\n",
       "      <td>14</td>\n",
       "      <td>14</td>\n",
       "    </tr>\n",
       "    <tr>\n",
       "      <th>Jim Broadbent</th>\n",
       "      <td>14</td>\n",
       "      <td>13</td>\n",
       "    </tr>\n",
       "    <tr>\n",
       "      <th>John Leguizamo</th>\n",
       "      <td>14</td>\n",
       "      <td>12</td>\n",
       "    </tr>\n",
       "    <tr>\n",
       "      <th>Carla Gugino</th>\n",
       "      <td>14</td>\n",
       "      <td>11</td>\n",
       "    </tr>\n",
       "    <tr>\n",
       "      <th>Jay Baruchel</th>\n",
       "      <td>14</td>\n",
       "      <td>11</td>\n",
       "    </tr>\n",
       "    <tr>\n",
       "      <th>Keegan-Michael Key</th>\n",
       "      <td>14</td>\n",
       "      <td>11</td>\n",
       "    </tr>\n",
       "    <tr>\n",
       "      <th>Mae Whitman</th>\n",
       "      <td>14</td>\n",
       "      <td>9</td>\n",
       "    </tr>\n",
       "    <tr>\n",
       "      <th>Rosamund Pike</th>\n",
       "      <td>14</td>\n",
       "      <td>9</td>\n",
       "    </tr>\n",
       "    <tr>\n",
       "      <th>Nicholas Hoult</th>\n",
       "      <td>14</td>\n",
       "      <td>8</td>\n",
       "    </tr>\n",
       "  </tbody>\n",
       "</table>\n",
       "</div>"
      ],
      "text/plain": [
       "                    genres  title\n",
       "actors                           \n",
       "Ron Perlman             17     13\n",
       "Gary Cole               16     11\n",
       "Kiernan Shipka          16      9\n",
       "Glenn Close             15     12\n",
       "Anupam Kher             14     43\n",
       "Samuel L. Jackson       14     24\n",
       "Rajesh Sharma           14     18\n",
       "Antonio Banderas        14     15\n",
       "Ben Kingsley            14     15\n",
       "Keith David             14     15\n",
       "Guy Pearce              14     14\n",
       "Jim Broadbent           14     13\n",
       "John Leguizamo          14     12\n",
       "Carla Gugino            14     11\n",
       "Jay Baruchel            14     11\n",
       "Keegan-Michael Key      14     11\n",
       "Mae Whitman             14      9\n",
       "Rosamund Pike           14      9\n",
       "Nicholas Hoult          14      8"
      ]
     },
     "execution_count": 83,
     "metadata": {},
     "output_type": "execute_result"
    }
   ],
   "source": [
    "data.groupby(\"actors\")[\"genres\",\"title\"].aggregate({\n",
    "    \"genres\":\"nunique\",\n",
    "    \"title\":\"nunique\"\n",
    "}).sort_values(by = [\"genres\",\"title\"],ascending=[False,False]).head(20)[1:]"
   ]
  },
  {
   "cell_type": "markdown",
   "id": "e7866384",
   "metadata": {},
   "source": [
    "# Top 20 Versatile Directors who have worked in various types of movies:\n",
    "\n",
    "### also their movie counts in the title column"
   ]
  },
  {
   "cell_type": "code",
   "execution_count": 84,
   "id": "b112c9d6",
   "metadata": {},
   "outputs": [
    {
     "data": {
      "text/html": [
       "<div>\n",
       "<style scoped>\n",
       "    .dataframe tbody tr th:only-of-type {\n",
       "        vertical-align: middle;\n",
       "    }\n",
       "\n",
       "    .dataframe tbody tr th {\n",
       "        vertical-align: top;\n",
       "    }\n",
       "\n",
       "    .dataframe thead th {\n",
       "        text-align: right;\n",
       "    }\n",
       "</style>\n",
       "<table border=\"1\" class=\"dataframe\">\n",
       "  <thead>\n",
       "    <tr style=\"text-align: right;\">\n",
       "      <th></th>\n",
       "      <th>genres</th>\n",
       "      <th>title</th>\n",
       "    </tr>\n",
       "    <tr>\n",
       "      <th>directors</th>\n",
       "      <th></th>\n",
       "      <th></th>\n",
       "    </tr>\n",
       "  </thead>\n",
       "  <tbody>\n",
       "    <tr>\n",
       "      <th>Martin Scorsese</th>\n",
       "      <td>9</td>\n",
       "      <td>12</td>\n",
       "    </tr>\n",
       "    <tr>\n",
       "      <th>Anurag Kashyap</th>\n",
       "      <td>9</td>\n",
       "      <td>9</td>\n",
       "    </tr>\n",
       "    <tr>\n",
       "      <th>Priyadarshan</th>\n",
       "      <td>8</td>\n",
       "      <td>7</td>\n",
       "    </tr>\n",
       "    <tr>\n",
       "      <th>Abhishek Chaubey</th>\n",
       "      <td>8</td>\n",
       "      <td>5</td>\n",
       "    </tr>\n",
       "    <tr>\n",
       "      <th>Vishal Bhardwaj</th>\n",
       "      <td>8</td>\n",
       "      <td>5</td>\n",
       "    </tr>\n",
       "    <tr>\n",
       "      <th>Vikramaditya Motwane</th>\n",
       "      <td>8</td>\n",
       "      <td>4</td>\n",
       "    </tr>\n",
       "    <tr>\n",
       "      <th>Ifa Isfansyah</th>\n",
       "      <td>8</td>\n",
       "      <td>3</td>\n",
       "    </tr>\n",
       "    <tr>\n",
       "      <th>David Dhawan</th>\n",
       "      <td>7</td>\n",
       "      <td>9</td>\n",
       "    </tr>\n",
       "    <tr>\n",
       "      <th>Clint Eastwood</th>\n",
       "      <td>7</td>\n",
       "      <td>7</td>\n",
       "    </tr>\n",
       "    <tr>\n",
       "      <th>Ron Howard</th>\n",
       "      <td>7</td>\n",
       "      <td>7</td>\n",
       "    </tr>\n",
       "    <tr>\n",
       "      <th>Brad Anderson</th>\n",
       "      <td>7</td>\n",
       "      <td>4</td>\n",
       "    </tr>\n",
       "    <tr>\n",
       "      <th>Jeremy Saulnier</th>\n",
       "      <td>7</td>\n",
       "      <td>4</td>\n",
       "    </tr>\n",
       "    <tr>\n",
       "      <th>BB Sasore</th>\n",
       "      <td>7</td>\n",
       "      <td>3</td>\n",
       "    </tr>\n",
       "    <tr>\n",
       "      <th>Guillermo del Toro</th>\n",
       "      <td>7</td>\n",
       "      <td>3</td>\n",
       "    </tr>\n",
       "    <tr>\n",
       "      <th>Jalil Lespert</th>\n",
       "      <td>7</td>\n",
       "      <td>3</td>\n",
       "    </tr>\n",
       "    <tr>\n",
       "      <th>Julien Leclercq</th>\n",
       "      <td>7</td>\n",
       "      <td>3</td>\n",
       "    </tr>\n",
       "    <tr>\n",
       "      <th>Manolo Caro</th>\n",
       "      <td>7</td>\n",
       "      <td>3</td>\n",
       "    </tr>\n",
       "    <tr>\n",
       "      <th>Tim Burton</th>\n",
       "      <td>7</td>\n",
       "      <td>3</td>\n",
       "    </tr>\n",
       "    <tr>\n",
       "      <th>Youssef Chahine</th>\n",
       "      <td>6</td>\n",
       "      <td>12</td>\n",
       "    </tr>\n",
       "  </tbody>\n",
       "</table>\n",
       "</div>"
      ],
      "text/plain": [
       "                      genres  title\n",
       "directors                          \n",
       "Martin Scorsese            9     12\n",
       "Anurag Kashyap             9      9\n",
       "Priyadarshan               8      7\n",
       "Abhishek Chaubey           8      5\n",
       "Vishal Bhardwaj            8      5\n",
       "Vikramaditya Motwane       8      4\n",
       "Ifa Isfansyah              8      3\n",
       "David Dhawan               7      9\n",
       "Clint Eastwood             7      7\n",
       "Ron Howard                 7      7\n",
       "Brad Anderson              7      4\n",
       "Jeremy Saulnier            7      4\n",
       "BB Sasore                  7      3\n",
       "Guillermo del Toro         7      3\n",
       "Jalil Lespert              7      3\n",
       "Julien Leclercq            7      3\n",
       "Manolo Caro                7      3\n",
       "Tim Burton                 7      3\n",
       "Youssef Chahine            6     12"
      ]
     },
     "execution_count": 84,
     "metadata": {},
     "output_type": "execute_result"
    }
   ],
   "source": [
    "data.groupby(\"directors\")[\"genres\",\"title\"].aggregate({\n",
    "    \"genres\":\"nunique\",\n",
    "    \"title\":\"nunique\"\n",
    "}).sort_values(by = [\"genres\",\"title\"],ascending=[False,False]).head(20)[1:]"
   ]
  },
  {
   "cell_type": "code",
   "execution_count": null,
   "id": "0f028885",
   "metadata": {},
   "outputs": [],
   "source": []
  },
  {
   "cell_type": "code",
   "execution_count": null,
   "id": "90dca361",
   "metadata": {},
   "outputs": [],
   "source": []
  },
  {
   "cell_type": "markdown",
   "id": "d935b0dd",
   "metadata": {},
   "source": [
    "# Number of movie and series produced per year"
   ]
  },
  {
   "cell_type": "code",
   "execution_count": 85,
   "id": "5960145d",
   "metadata": {},
   "outputs": [],
   "source": [
    "movies_series_per_year_counts = df.groupby(\"year_added\")[\"Movie_duration\",\"Series_duration\"].aggregate({\n",
    "    \"Movie_duration\":\"count\",\n",
    "    \"Series_duration\":\"count\"\n",
    "}).reset_index()"
   ]
  },
  {
   "cell_type": "code",
   "execution_count": 86,
   "id": "c7b908f2",
   "metadata": {},
   "outputs": [
    {
     "data": {
      "text/html": [
       "<div>\n",
       "<style scoped>\n",
       "    .dataframe tbody tr th:only-of-type {\n",
       "        vertical-align: middle;\n",
       "    }\n",
       "\n",
       "    .dataframe tbody tr th {\n",
       "        vertical-align: top;\n",
       "    }\n",
       "\n",
       "    .dataframe thead th {\n",
       "        text-align: right;\n",
       "    }\n",
       "</style>\n",
       "<table border=\"1\" class=\"dataframe\">\n",
       "  <thead>\n",
       "    <tr style=\"text-align: right;\">\n",
       "      <th></th>\n",
       "      <th>year_added</th>\n",
       "      <th>Movie Count</th>\n",
       "      <th>Series Count</th>\n",
       "    </tr>\n",
       "  </thead>\n",
       "  <tbody>\n",
       "    <tr>\n",
       "      <th>0</th>\n",
       "      <td>2008.0</td>\n",
       "      <td>1</td>\n",
       "      <td>1</td>\n",
       "    </tr>\n",
       "    <tr>\n",
       "      <th>1</th>\n",
       "      <td>2009.0</td>\n",
       "      <td>2</td>\n",
       "      <td>0</td>\n",
       "    </tr>\n",
       "    <tr>\n",
       "      <th>2</th>\n",
       "      <td>2010.0</td>\n",
       "      <td>1</td>\n",
       "      <td>0</td>\n",
       "    </tr>\n",
       "    <tr>\n",
       "      <th>3</th>\n",
       "      <td>2011.0</td>\n",
       "      <td>13</td>\n",
       "      <td>0</td>\n",
       "    </tr>\n",
       "    <tr>\n",
       "      <th>4</th>\n",
       "      <td>2012.0</td>\n",
       "      <td>3</td>\n",
       "      <td>0</td>\n",
       "    </tr>\n",
       "    <tr>\n",
       "      <th>5</th>\n",
       "      <td>2013.0</td>\n",
       "      <td>6</td>\n",
       "      <td>5</td>\n",
       "    </tr>\n",
       "    <tr>\n",
       "      <th>6</th>\n",
       "      <td>2014.0</td>\n",
       "      <td>19</td>\n",
       "      <td>5</td>\n",
       "    </tr>\n",
       "    <tr>\n",
       "      <th>7</th>\n",
       "      <td>2015.0</td>\n",
       "      <td>56</td>\n",
       "      <td>26</td>\n",
       "    </tr>\n",
       "    <tr>\n",
       "      <th>8</th>\n",
       "      <td>2016.0</td>\n",
       "      <td>251</td>\n",
       "      <td>176</td>\n",
       "    </tr>\n",
       "    <tr>\n",
       "      <th>9</th>\n",
       "      <td>2017.0</td>\n",
       "      <td>838</td>\n",
       "      <td>349</td>\n",
       "    </tr>\n",
       "    <tr>\n",
       "      <th>10</th>\n",
       "      <td>2018.0</td>\n",
       "      <td>1237</td>\n",
       "      <td>412</td>\n",
       "    </tr>\n",
       "    <tr>\n",
       "      <th>11</th>\n",
       "      <td>2019.0</td>\n",
       "      <td>1424</td>\n",
       "      <td>592</td>\n",
       "    </tr>\n",
       "    <tr>\n",
       "      <th>12</th>\n",
       "      <td>2020.0</td>\n",
       "      <td>1284</td>\n",
       "      <td>595</td>\n",
       "    </tr>\n",
       "    <tr>\n",
       "      <th>13</th>\n",
       "      <td>2021.0</td>\n",
       "      <td>993</td>\n",
       "      <td>505</td>\n",
       "    </tr>\n",
       "  </tbody>\n",
       "</table>\n",
       "</div>"
      ],
      "text/plain": [
       "    year_added  Movie Count  Series Count\n",
       "0       2008.0            1             1\n",
       "1       2009.0            2             0\n",
       "2       2010.0            1             0\n",
       "3       2011.0           13             0\n",
       "4       2012.0            3             0\n",
       "5       2013.0            6             5\n",
       "6       2014.0           19             5\n",
       "7       2015.0           56            26\n",
       "8       2016.0          251           176\n",
       "9       2017.0          838           349\n",
       "10      2018.0         1237           412\n",
       "11      2019.0         1424           592\n",
       "12      2020.0         1284           595\n",
       "13      2021.0          993           505"
      ]
     },
     "execution_count": 86,
     "metadata": {},
     "output_type": "execute_result"
    }
   ],
   "source": [
    "movies_series_per_year_counts.rename(columns={\"Movie_duration\":\"Movie Count\",\"Series_duration\":\"Series Count\"},inplace=True)\n",
    "movies_series_per_year_counts"
   ]
  },
  {
   "cell_type": "code",
   "execution_count": null,
   "id": "c5d5d8fa",
   "metadata": {},
   "outputs": [],
   "source": []
  },
  {
   "cell_type": "markdown",
   "id": "b3199ee6",
   "metadata": {},
   "source": [
    "# change in duration of movies and series over the years"
   ]
  },
  {
   "cell_type": "code",
   "execution_count": 87,
   "id": "e50418c7",
   "metadata": {},
   "outputs": [
    {
     "data": {
      "text/plain": [
       "year_added\n",
       "2008.0     81.000000\n",
       "2009.0     89.000000\n",
       "2010.0     84.000000\n",
       "2011.0     83.746575\n",
       "2012.0     54.555556\n",
       "2013.0    105.986667\n",
       "2014.0     83.903790\n",
       "2015.0     91.312000\n",
       "2016.0     98.068575\n",
       "2017.0    105.126349\n",
       "2018.0    109.552248\n",
       "2019.0    106.754108\n",
       "2020.0    107.158986\n",
       "2021.0    108.072010\n",
       "Name: Movie_duration, dtype: float64"
      ]
     },
     "execution_count": 87,
     "metadata": {},
     "output_type": "execute_result"
    }
   ],
   "source": [
    "data.groupby(\"year_added\")[\"Movie_duration\"].mean()"
   ]
  },
  {
   "cell_type": "code",
   "execution_count": 88,
   "id": "097d7e80",
   "metadata": {
    "scrolled": true
   },
   "outputs": [
    {
     "data": {
      "text/plain": [
       "year_added\n",
       "2008.0    1.000000\n",
       "2009.0         NaN\n",
       "2010.0         NaN\n",
       "2011.0         NaN\n",
       "2012.0         NaN\n",
       "2013.0    3.833333\n",
       "2014.0    4.028037\n",
       "2015.0    3.149425\n",
       "2016.0    1.403934\n",
       "2017.0    1.855397\n",
       "2018.0    1.865676\n",
       "2019.0    1.698579\n",
       "2020.0    2.130502\n",
       "2021.0    2.064296\n",
       "Name: Series_duration, dtype: float64"
      ]
     },
     "execution_count": 88,
     "metadata": {},
     "output_type": "execute_result"
    }
   ],
   "source": [
    "data.groupby(\"year_added\")[\"Series_duration\"].mean()"
   ]
  },
  {
   "cell_type": "markdown",
   "id": "e3670fb7",
   "metadata": {},
   "source": [
    "### Trend around how the movie/series length as increased over the years. "
   ]
  },
  {
   "cell_type": "code",
   "execution_count": 89,
   "id": "a268d61a",
   "metadata": {},
   "outputs": [
    {
     "data": {
      "text/plain": [
       "<matplotlib.legend.Legend at 0x24398347490>"
      ]
     },
     "execution_count": 89,
     "metadata": {},
     "output_type": "execute_result"
    },
    {
     "data": {
      "image/png": "[encoded data removed]",
      "text/plain": [
       "<Figure size 360x720 with 1 Axes>"
      ]
     },
     "metadata": {},
     "output_type": "display_data"
    }
   ],
   "source": [
    "plt.figure(figsize=(5,10))\n",
    "\n",
    "# sns.boxplot(x = data[\"Movie_duration\"] )\n",
    "sns.lineplot(x = data.groupby(\"year_added\")[\"Movie_duration\"].mean().index,\n",
    "             y = data.groupby(\"year_added\")[\"Movie_duration\"].mean())\n",
    "sns.lineplot(x = data.groupby(\"year_added\")[\"Series_duration\"].mean().index,\n",
    "             y = data.groupby(\"year_added\")[\"Series_duration\"].mean())\n",
    "\n",
    "plt.ylabel(\"TV Show Duration & Movie Duration Trend Line\")\n",
    "plt.legend([\"Movies Duration\",\"TV series Duration\"])"
   ]
  },
  {
   "cell_type": "markdown",
   "id": "c5ac806a",
   "metadata": {},
   "source": [
    "##### in above first plot(left one) shows , how movie duration(blue line) trend has changed during last few years . which is average of mean duration for each year. \n",
    "##### and Orange line which shows the mean average time for tv shows(series duration) . "
   ]
  },
  {
   "cell_type": "code",
   "execution_count": null,
   "id": "f2c26b35",
   "metadata": {},
   "outputs": [],
   "source": []
  },
  {
   "cell_type": "markdown",
   "id": "c7ca1d03",
   "metadata": {},
   "source": [
    "### Duration of Movies and Series : distribution plot "
   ]
  },
  {
   "cell_type": "code",
   "execution_count": 196,
   "id": "5777caca",
   "metadata": {},
   "outputs": [
    {
     "data": {
      "text/plain": [
       "<AxesSubplot:xlabel='Movie_duration', ylabel='Density'>"
      ]
     },
     "execution_count": 196,
     "metadata": {},
     "output_type": "execute_result"
    },
    {
     "data": {
      "image/png": "[encoded data removed]",
      "text/plain": [
       "<Figure size 576x360 with 1 Axes>"
      ]
     },
     "metadata": {},
     "output_type": "display_data"
    }
   ],
   "source": [
    "plt.figure(figsize=(8,5))\n",
    "Movie_duration = data.groupby(\"title\")[\"Movie_duration\"].value_counts()\n",
    "Movie_duration = pd.DataFrame(Movie_duration)\n",
    "Movie_duration.rename({\"Movie_duration\":\"duration\"},axis = 1,inplace=True)\n",
    "Movie_duration.reset_index()[\"Movie_duration\"]\n",
    "sns.distplot(Movie_duration.reset_index()[\"Movie_duration\"],bins = 40)\n"
   ]
  },
  {
   "cell_type": "code",
   "execution_count": 204,
   "id": "214ff1c5",
   "metadata": {},
   "outputs": [
    {
     "data": {
      "image/png": "[encoded data removed]",
      "text/plain": [
       "<Figure size 576x360 with 1 Axes>"
      ]
     },
     "metadata": {},
     "output_type": "display_data"
    }
   ],
   "source": [
    "plt.figure(figsize=(8,5))\n",
    "Series_duration = data.groupby(\"title\")[\"Series_duration\"].value_counts()\n",
    "Series_duration = pd.DataFrame(Series_duration)\n",
    "Series_duration.rename({\"Series_duration\":\"duration\"},axis = 1,inplace=True)\n",
    "Series_duration.reset_index()[\"Series_duration\"]\n",
    "sns.distplot(Series_duration.reset_index()[\"Series_duration\"],bins = 10)\n",
    "plt.xticks(np.arange(0,17,1))\n",
    "plt.show()"
   ]
  },
  {
   "cell_type": "code",
   "execution_count": null,
   "id": "46681f1a",
   "metadata": {
    "scrolled": false
   },
   "outputs": [],
   "source": []
  },
  {
   "cell_type": "markdown",
   "id": "ba47cd45",
   "metadata": {},
   "source": [
    "#### looks like majority of the Movie content is around 75 to 125 min long ! and Series/TV Shows are 1 to 3 seasons long . \n",
    "\n",
    "#### adding longer content may or may not be benifiical \n",
    "\n",
    "#### below is the data , for Movies and TV shows with highest duration and yet famous."
   ]
  },
  {
   "cell_type": "code",
   "execution_count": null,
   "id": "2d7f634e",
   "metadata": {},
   "outputs": [],
   "source": []
  },
  {
   "cell_type": "markdown",
   "id": "8ac76466",
   "metadata": {},
   "source": [
    "### Maximum Length Content yet Popular , and their Directors : \n",
    "\n",
    "#### this infomation can be helpful in increasing the watch time on Netflix by producing/adding their Movies/series. "
   ]
  },
  {
   "cell_type": "code",
   "execution_count": null,
   "id": "17a35382",
   "metadata": {},
   "outputs": [],
   "source": []
  },
  {
   "cell_type": "code",
   "execution_count": 92,
   "id": "b7f1da0d",
   "metadata": {
    "scrolled": false
   },
   "outputs": [
    {
     "data": {
      "text/html": [
       "<div>\n",
       "<style scoped>\n",
       "    .dataframe tbody tr th:only-of-type {\n",
       "        vertical-align: middle;\n",
       "    }\n",
       "\n",
       "    .dataframe tbody tr th {\n",
       "        vertical-align: top;\n",
       "    }\n",
       "\n",
       "    .dataframe thead th {\n",
       "        text-align: right;\n",
       "    }\n",
       "</style>\n",
       "<table border=\"1\" class=\"dataframe\">\n",
       "  <thead>\n",
       "    <tr style=\"text-align: right;\">\n",
       "      <th></th>\n",
       "      <th>Series_duration</th>\n",
       "      <th>directors</th>\n",
       "    </tr>\n",
       "    <tr>\n",
       "      <th>title</th>\n",
       "      <th></th>\n",
       "      <th></th>\n",
       "    </tr>\n",
       "  </thead>\n",
       "  <tbody>\n",
       "    <tr>\n",
       "      <th>Grey's Anatomy</th>\n",
       "      <td>17.0</td>\n",
       "      <td>[Unknown]</td>\n",
       "    </tr>\n",
       "    <tr>\n",
       "      <th>NCIS</th>\n",
       "      <td>15.0</td>\n",
       "      <td>[Unknown]</td>\n",
       "    </tr>\n",
       "    <tr>\n",
       "      <th>Supernatural</th>\n",
       "      <td>15.0</td>\n",
       "      <td>[Phil Sgriccia]</td>\n",
       "    </tr>\n",
       "    <tr>\n",
       "      <th>Red vs. Blue</th>\n",
       "      <td>13.0</td>\n",
       "      <td>[Unknown]</td>\n",
       "    </tr>\n",
       "    <tr>\n",
       "      <th>Heartland</th>\n",
       "      <td>13.0</td>\n",
       "      <td>[Unknown]</td>\n",
       "    </tr>\n",
       "    <tr>\n",
       "      <th>COMEDIANS of the world</th>\n",
       "      <td>13.0</td>\n",
       "      <td>[Unknown]</td>\n",
       "    </tr>\n",
       "    <tr>\n",
       "      <th>Criminal Minds</th>\n",
       "      <td>12.0</td>\n",
       "      <td>[Unknown]</td>\n",
       "    </tr>\n",
       "    <tr>\n",
       "      <th>Trailer Park Boys</th>\n",
       "      <td>12.0</td>\n",
       "      <td>[Unknown]</td>\n",
       "    </tr>\n",
       "    <tr>\n",
       "      <th>Cheers</th>\n",
       "      <td>11.0</td>\n",
       "      <td>[Unknown]</td>\n",
       "    </tr>\n",
       "    <tr>\n",
       "      <th>Frasier</th>\n",
       "      <td>11.0</td>\n",
       "      <td>[Unknown]</td>\n",
       "    </tr>\n",
       "    <tr>\n",
       "      <th>Danger Mouse: Classic Collection</th>\n",
       "      <td>10.0</td>\n",
       "      <td>[Unknown]</td>\n",
       "    </tr>\n",
       "    <tr>\n",
       "      <th>Friends</th>\n",
       "      <td>10.0</td>\n",
       "      <td>[Unknown]</td>\n",
       "    </tr>\n",
       "    <tr>\n",
       "      <th>Stargate SG-1</th>\n",
       "      <td>10.0</td>\n",
       "      <td>[Unknown]</td>\n",
       "    </tr>\n",
       "    <tr>\n",
       "      <th>LEGO Ninjago: Masters of Spinjitzu</th>\n",
       "      <td>10.0</td>\n",
       "      <td>[Unknown]</td>\n",
       "    </tr>\n",
       "    <tr>\n",
       "      <th>The Walking Dead</th>\n",
       "      <td>10.0</td>\n",
       "      <td>[Unknown]</td>\n",
       "    </tr>\n",
       "    <tr>\n",
       "      <th>Shameless (U.S.)</th>\n",
       "      <td>10.0</td>\n",
       "      <td>[Unknown]</td>\n",
       "    </tr>\n",
       "    <tr>\n",
       "      <th>Dad's Army</th>\n",
       "      <td>10.0</td>\n",
       "      <td>[Unknown]</td>\n",
       "    </tr>\n",
       "    <tr>\n",
       "      <th>The Great British Baking Show</th>\n",
       "      <td>9.0</td>\n",
       "      <td>[Andy Devonshire]</td>\n",
       "    </tr>\n",
       "    <tr>\n",
       "      <th>The Office (U.S.)</th>\n",
       "      <td>9.0</td>\n",
       "      <td>[Unknown]</td>\n",
       "    </tr>\n",
       "    <tr>\n",
       "      <th>Forensic Files</th>\n",
       "      <td>9.0</td>\n",
       "      <td>[Unknown]</td>\n",
       "    </tr>\n",
       "  </tbody>\n",
       "</table>\n",
       "</div>"
      ],
      "text/plain": [
       "                                    Series_duration          directors\n",
       "title                                                                 \n",
       "Grey's Anatomy                                 17.0          [Unknown]\n",
       "NCIS                                           15.0          [Unknown]\n",
       "Supernatural                                   15.0    [Phil Sgriccia]\n",
       "Red vs. Blue                                   13.0          [Unknown]\n",
       "Heartland                                      13.0          [Unknown]\n",
       "COMEDIANS of the world                         13.0          [Unknown]\n",
       "Criminal Minds                                 12.0          [Unknown]\n",
       "Trailer Park Boys                              12.0          [Unknown]\n",
       "Cheers                                         11.0          [Unknown]\n",
       "Frasier                                        11.0          [Unknown]\n",
       "Danger Mouse: Classic Collection               10.0          [Unknown]\n",
       "Friends                                        10.0          [Unknown]\n",
       "Stargate SG-1                                  10.0          [Unknown]\n",
       "LEGO Ninjago: Masters of Spinjitzu             10.0          [Unknown]\n",
       "The Walking Dead                               10.0          [Unknown]\n",
       "Shameless (U.S.)                               10.0          [Unknown]\n",
       "Dad's Army                                     10.0          [Unknown]\n",
       "The Great British Baking Show                   9.0  [Andy Devonshire]\n",
       "The Office (U.S.)                               9.0          [Unknown]\n",
       "Forensic Files                                  9.0          [Unknown]"
      ]
     },
     "execution_count": 92,
     "metadata": {},
     "output_type": "execute_result"
    }
   ],
   "source": [
    "\n",
    "data.groupby(\"title\")[\"Series_duration\",\"directors\"].aggregate({\"Series_duration\":\"max\",\n",
    "                                                                 \"directors\":\"unique\"}).sort_values(by=\"Series_duration\",ascending=False).head(20)"
   ]
  },
  {
   "cell_type": "code",
   "execution_count": 93,
   "id": "9d4b6fe8",
   "metadata": {
    "scrolled": false
   },
   "outputs": [
    {
     "data": {
      "text/html": [
       "<div>\n",
       "<style scoped>\n",
       "    .dataframe tbody tr th:only-of-type {\n",
       "        vertical-align: middle;\n",
       "    }\n",
       "\n",
       "    .dataframe tbody tr th {\n",
       "        vertical-align: top;\n",
       "    }\n",
       "\n",
       "    .dataframe thead th {\n",
       "        text-align: right;\n",
       "    }\n",
       "</style>\n",
       "<table border=\"1\" class=\"dataframe\">\n",
       "  <thead>\n",
       "    <tr style=\"text-align: right;\">\n",
       "      <th></th>\n",
       "      <th>Movie_duration</th>\n",
       "      <th>directors</th>\n",
       "    </tr>\n",
       "    <tr>\n",
       "      <th>title</th>\n",
       "      <th></th>\n",
       "      <th></th>\n",
       "    </tr>\n",
       "  </thead>\n",
       "  <tbody>\n",
       "    <tr>\n",
       "      <th>Black Mirror: Bandersnatch</th>\n",
       "      <td>312.0</td>\n",
       "      <td>[Unknown]</td>\n",
       "    </tr>\n",
       "    <tr>\n",
       "      <th>Headspace: Unwind Your Mind</th>\n",
       "      <td>273.0</td>\n",
       "      <td>[Unknown]</td>\n",
       "    </tr>\n",
       "    <tr>\n",
       "      <th>The School of Mischief</th>\n",
       "      <td>253.0</td>\n",
       "      <td>[Houssam El-Din Mustafa]</td>\n",
       "    </tr>\n",
       "    <tr>\n",
       "      <th>No Longer kids</th>\n",
       "      <td>237.0</td>\n",
       "      <td>[Samir Al Asfory]</td>\n",
       "    </tr>\n",
       "    <tr>\n",
       "      <th>Lock Your Girls In</th>\n",
       "      <td>233.0</td>\n",
       "      <td>[Fouad El-Mohandes]</td>\n",
       "    </tr>\n",
       "    <tr>\n",
       "      <th>Raya and Sakina</th>\n",
       "      <td>230.0</td>\n",
       "      <td>[Hussein Kamal]</td>\n",
       "    </tr>\n",
       "    <tr>\n",
       "      <th>Once Upon a Time in America</th>\n",
       "      <td>229.0</td>\n",
       "      <td>[Sergio Leone]</td>\n",
       "    </tr>\n",
       "    <tr>\n",
       "      <th>Sangam</th>\n",
       "      <td>228.0</td>\n",
       "      <td>[Raj Kapoor]</td>\n",
       "    </tr>\n",
       "    <tr>\n",
       "      <th>Lagaan</th>\n",
       "      <td>224.0</td>\n",
       "      <td>[Ashutosh Gowariker]</td>\n",
       "    </tr>\n",
       "    <tr>\n",
       "      <th>Jodhaa Akbar</th>\n",
       "      <td>214.0</td>\n",
       "      <td>[Ashutosh Gowariker]</td>\n",
       "    </tr>\n",
       "    <tr>\n",
       "      <th>Seven Souls in the Skull Castle: Season Moon Kagen</th>\n",
       "      <td>212.0</td>\n",
       "      <td>[Hidenori Inoue]</td>\n",
       "    </tr>\n",
       "    <tr>\n",
       "      <th>The Irishman</th>\n",
       "      <td>209.0</td>\n",
       "      <td>[Martin Scorsese]</td>\n",
       "    </tr>\n",
       "    <tr>\n",
       "      <th>Kabhi Khushi Kabhie Gham</th>\n",
       "      <td>209.0</td>\n",
       "      <td>[Karan Johar]</td>\n",
       "    </tr>\n",
       "    <tr>\n",
       "      <th>No Direction Home: Bob Dylan</th>\n",
       "      <td>208.0</td>\n",
       "      <td>[Martin Scorsese]</td>\n",
       "    </tr>\n",
       "    <tr>\n",
       "      <th>The Gospel of Luke</th>\n",
       "      <td>205.0</td>\n",
       "      <td>[David Batty]</td>\n",
       "    </tr>\n",
       "    <tr>\n",
       "      <th>Fifty Year Old Teenager</th>\n",
       "      <td>204.0</td>\n",
       "      <td>[Fouad Al Shatti]</td>\n",
       "    </tr>\n",
       "    <tr>\n",
       "      <th>Seven Souls in the Skull Castle: Season Moon Jogen</th>\n",
       "      <td>204.0</td>\n",
       "      <td>[Hidenori Inoue]</td>\n",
       "    </tr>\n",
       "    <tr>\n",
       "      <th>What's Your Raashee?</th>\n",
       "      <td>203.0</td>\n",
       "      <td>[Ashutosh Gowariker]</td>\n",
       "    </tr>\n",
       "    <tr>\n",
       "      <th>The Lord of the Rings: The Return of the King</th>\n",
       "      <td>201.0</td>\n",
       "      <td>[Peter Jackson]</td>\n",
       "    </tr>\n",
       "    <tr>\n",
       "      <th>Doctor Zhivago</th>\n",
       "      <td>200.0</td>\n",
       "      <td>[David Lean]</td>\n",
       "    </tr>\n",
       "  </tbody>\n",
       "</table>\n",
       "</div>"
      ],
      "text/plain": [
       "                                                    Movie_duration  \\\n",
       "title                                                                \n",
       "Black Mirror: Bandersnatch                                   312.0   \n",
       "Headspace: Unwind Your Mind                                  273.0   \n",
       "The School of Mischief                                       253.0   \n",
       "No Longer kids                                               237.0   \n",
       "Lock Your Girls In                                           233.0   \n",
       "Raya and Sakina                                              230.0   \n",
       "Once Upon a Time in America                                  229.0   \n",
       "Sangam                                                       228.0   \n",
       "Lagaan                                                       224.0   \n",
       "Jodhaa Akbar                                                 214.0   \n",
       "Seven Souls in the Skull Castle: Season Moon Kagen           212.0   \n",
       "The Irishman                                                 209.0   \n",
       "Kabhi Khushi Kabhie Gham                                     209.0   \n",
       "No Direction Home: Bob Dylan                                 208.0   \n",
       "The Gospel of Luke                                           205.0   \n",
       "Fifty Year Old Teenager                                      204.0   \n",
       "Seven Souls in the Skull Castle: Season Moon Jogen           204.0   \n",
       "What's Your Raashee?                                         203.0   \n",
       "The Lord of the Rings: The Return of the King                201.0   \n",
       "Doctor Zhivago                                               200.0   \n",
       "\n",
       "                                                                   directors  \n",
       "title                                                                         \n",
       "Black Mirror: Bandersnatch                                         [Unknown]  \n",
       "Headspace: Unwind Your Mind                                        [Unknown]  \n",
       "The School of Mischief                              [Houssam El-Din Mustafa]  \n",
       "No Longer kids                                             [Samir Al Asfory]  \n",
       "Lock Your Girls In                                       [Fouad El-Mohandes]  \n",
       "Raya and Sakina                                              [Hussein Kamal]  \n",
       "Once Upon a Time in America                                   [Sergio Leone]  \n",
       "Sangam                                                          [Raj Kapoor]  \n",
       "Lagaan                                                  [Ashutosh Gowariker]  \n",
       "Jodhaa Akbar                                            [Ashutosh Gowariker]  \n",
       "Seven Souls in the Skull Castle: Season Moon Kagen          [Hidenori Inoue]  \n",
       "The Irishman                                               [Martin Scorsese]  \n",
       "Kabhi Khushi Kabhie Gham                                       [Karan Johar]  \n",
       "No Direction Home: Bob Dylan                               [Martin Scorsese]  \n",
       "The Gospel of Luke                                             [David Batty]  \n",
       "Fifty Year Old Teenager                                    [Fouad Al Shatti]  \n",
       "Seven Souls in the Skull Castle: Season Moon Jogen          [Hidenori Inoue]  \n",
       "What's Your Raashee?                                    [Ashutosh Gowariker]  \n",
       "The Lord of the Rings: The Return of the King                [Peter Jackson]  \n",
       "Doctor Zhivago                                                  [David Lean]  "
      ]
     },
     "execution_count": 93,
     "metadata": {},
     "output_type": "execute_result"
    }
   ],
   "source": [
    "\n",
    "data.groupby(\"title\")[\"Movie_duration\",\"directors\"].aggregate({\"Movie_duration\":\"max\",\n",
    "                                                                 \"directors\":\"unique\"}).sort_values(by=\"Movie_duration\",ascending=False).head(20)"
   ]
  },
  {
   "cell_type": "code",
   "execution_count": null,
   "id": "0efa372a",
   "metadata": {},
   "outputs": [],
   "source": []
  },
  {
   "cell_type": "code",
   "execution_count": null,
   "id": "cea898d5",
   "metadata": {},
   "outputs": [],
   "source": []
  },
  {
   "cell_type": "code",
   "execution_count": null,
   "id": "1dd34aad",
   "metadata": {},
   "outputs": [],
   "source": []
  },
  {
   "cell_type": "markdown",
   "id": "b8577b7c",
   "metadata": {},
   "source": [
    "# TV shows vs Movie data"
   ]
  },
  {
   "cell_type": "markdown",
   "id": "9910f6f9",
   "metadata": {},
   "source": [
    "#### creating seperate datasets for Movies and TV Shows for further analysis : "
   ]
  },
  {
   "cell_type": "code",
   "execution_count": 94,
   "id": "c0404261",
   "metadata": {},
   "outputs": [],
   "source": [
    "TV_shows = data.loc[data[\"type\"]==\"TV Show\"]"
   ]
  },
  {
   "cell_type": "code",
   "execution_count": 95,
   "id": "caea3b5d",
   "metadata": {},
   "outputs": [],
   "source": [
    "Movies = data.loc[data[\"type\"]==\"Movie\"]"
   ]
  },
  {
   "cell_type": "code",
   "execution_count": 96,
   "id": "e704c25e",
   "metadata": {},
   "outputs": [
    {
     "data": {
      "text/plain": [
       "Index(['title', 'actors', 'directors', 'countries', 'genres', 'type',\n",
       "       'date_added', 'release_year', 'rating', 'year_added', 'month_added',\n",
       "       'Movie_duration', 'Series_duration', 'Content_For'],\n",
       "      dtype='object')"
      ]
     },
     "execution_count": 96,
     "metadata": {},
     "output_type": "execute_result"
    }
   ],
   "source": [
    "TV_shows.columns\n"
   ]
  },
  {
   "cell_type": "code",
   "execution_count": 97,
   "id": "d9949cdb",
   "metadata": {},
   "outputs": [
    {
     "data": {
      "text/plain": [
       "year_added\n",
       "2008.0      1\n",
       "2013.0      5\n",
       "2014.0      5\n",
       "2015.0     26\n",
       "2016.0    176\n",
       "2017.0    349\n",
       "2018.0    412\n",
       "2019.0    592\n",
       "2020.0    595\n",
       "2021.0    505\n",
       "Name: title, dtype: int64"
      ]
     },
     "execution_count": 97,
     "metadata": {},
     "output_type": "execute_result"
    }
   ],
   "source": [
    "TV_shows.groupby(\"year_added\")[\"title\"].nunique()"
   ]
  },
  {
   "cell_type": "code",
   "execution_count": 98,
   "id": "9739df30",
   "metadata": {},
   "outputs": [
    {
     "data": {
      "text/plain": [
       "year_added\n",
       "2008.0       1\n",
       "2009.0       2\n",
       "2010.0       1\n",
       "2011.0      13\n",
       "2012.0       3\n",
       "2013.0       6\n",
       "2014.0      19\n",
       "2015.0      56\n",
       "2016.0     253\n",
       "2017.0     839\n",
       "2018.0    1237\n",
       "2019.0    1424\n",
       "2020.0    1284\n",
       "2021.0     993\n",
       "Name: title, dtype: int64"
      ]
     },
     "execution_count": 98,
     "metadata": {},
     "output_type": "execute_result"
    }
   ],
   "source": [
    "Movies.groupby(\"year_added\")[\"title\"].nunique()"
   ]
  },
  {
   "cell_type": "markdown",
   "id": "2c765cff",
   "metadata": {},
   "source": [
    "#### plot from above information : \n",
    "\n"
   ]
  },
  {
   "cell_type": "code",
   "execution_count": 99,
   "id": "595812d6",
   "metadata": {},
   "outputs": [
    {
     "data": {
      "image/png": "[encoded data removed]",
      "text/plain": [
       "<Figure size 864x576 with 1 Axes>"
      ]
     },
     "metadata": {},
     "output_type": "display_data"
    }
   ],
   "source": [
    "plt.figure(figsize=(12,8))\n",
    "plt.bar(Movies.groupby(\"year_added\")[\"title\"].nunique().index,\n",
    "        Movies.groupby(\"year_added\")[\"title\"].nunique())\n",
    "plt.bar((TV_shows.groupby(\"year_added\")[\"title\"].nunique().index)+0.15,\n",
    "        TV_shows.groupby(\"year_added\")[\"title\"].nunique(),\n",
    "        width=0.5 )\n",
    "plt.xticks(np.arange(2010,2022),rotation = 0)\n",
    "\n",
    "plt.title(\"Count of Content per year\")\n",
    "plt.xlabel(\"years\")\n",
    "plt.ylabel(\"Count of Contet\")\n",
    "\n",
    "\n",
    "\n",
    "plt.legend([\"Movies\",\"TV_Shows\"])\n",
    "plt.show()"
   ]
  },
  {
   "cell_type": "markdown",
   "id": "36525060",
   "metadata": {},
   "source": [
    "#### from above bar plot , we can conclude the focus on Movies and TV shows is equal "
   ]
  },
  {
   "cell_type": "code",
   "execution_count": 100,
   "id": "4d689c34",
   "metadata": {},
   "outputs": [],
   "source": [
    "# TV_shows.shape"
   ]
  },
  {
   "cell_type": "code",
   "execution_count": 101,
   "id": "91f6e6ae",
   "metadata": {},
   "outputs": [],
   "source": [
    "# Movies.shape"
   ]
  },
  {
   "cell_type": "code",
   "execution_count": 102,
   "id": "8b279734",
   "metadata": {},
   "outputs": [],
   "source": [
    "tvcount = TV_shows.groupby(\"countries\")[\"title\"].nunique().sort_values(ascending=False).reset_index()\n"
   ]
  },
  {
   "cell_type": "code",
   "execution_count": 103,
   "id": "024f795f",
   "metadata": {},
   "outputs": [],
   "source": [
    "mcount = Movies.groupby(\"countries\")[\"title\"].nunique().sort_values(ascending=False).reset_index()"
   ]
  },
  {
   "cell_type": "code",
   "execution_count": 104,
   "id": "d8cc50b0",
   "metadata": {},
   "outputs": [],
   "source": [
    "tvVSMovies_per_country = tvcount.merge(mcount,on=\"countries\",how = \"outer\")"
   ]
  },
  {
   "cell_type": "code",
   "execution_count": 105,
   "id": "474f6373",
   "metadata": {},
   "outputs": [],
   "source": [
    "tvVSMovies_per_country.rename({\"title_x\":\"TV Shows Count\",\n",
    "                              \"title_y\":\"Movies Counts\"},axis = 1,inplace=True)"
   ]
  },
  {
   "cell_type": "code",
   "execution_count": 106,
   "id": "e5209737",
   "metadata": {
    "scrolled": false
   },
   "outputs": [],
   "source": [
    "# tvVSMovies_per_country.head(50)"
   ]
  },
  {
   "cell_type": "markdown",
   "id": "f6c28916",
   "metadata": {},
   "source": [
    "### Movies Counts - TV Shows Count as per Top Countires : \n"
   ]
  },
  {
   "cell_type": "code",
   "execution_count": 107,
   "id": "20b72873",
   "metadata": {},
   "outputs": [
    {
     "data": {
      "image/png": "[encoded data removed]",
      "text/plain": [
       "<Figure size 1080x720 with 1 Axes>"
      ]
     },
     "metadata": {},
     "output_type": "display_data"
    }
   ],
   "source": [
    "plt.figure(figsize=(15,10))\n",
    "plt.bar(tvVSMovies_per_country[\"countries\"].head(30),tvVSMovies_per_country[\"Movies Counts\"].head(30))\n",
    "plt.bar(tvVSMovies_per_country[\"countries\"].head(30),tvVSMovies_per_country[\"TV Shows Count\"].head(30))\n",
    "plt.xticks(rotation = 90)\n",
    "plt.legend([\"Movies Counts\",\"TV Shows Count\"])\n",
    "\n",
    "plt.show()"
   ]
  },
  {
   "cell_type": "markdown",
   "id": "e7adc230",
   "metadata": {},
   "source": [
    "#### Japan, South Korea, Taiwan, Combodia , Singapore : has more tv shows content compare to movies ! \n",
    "\n",
    "#### We can recommend to focus more on TV shows than Movies in above countires ! \n",
    "\n",
    "#### India and USA has more content of Movies compare to TV shows , and for rest of the countires it is equally distributed . "
   ]
  },
  {
   "cell_type": "code",
   "execution_count": null,
   "id": "f30e53b7",
   "metadata": {},
   "outputs": [],
   "source": []
  },
  {
   "cell_type": "code",
   "execution_count": null,
   "id": "6125efd0",
   "metadata": {},
   "outputs": [],
   "source": []
  },
  {
   "cell_type": "code",
   "execution_count": null,
   "id": "ce066073",
   "metadata": {},
   "outputs": [],
   "source": []
  },
  {
   "cell_type": "code",
   "execution_count": 108,
   "id": "84a88859",
   "metadata": {},
   "outputs": [],
   "source": [
    "# top_20_countires"
   ]
  },
  {
   "cell_type": "code",
   "execution_count": null,
   "id": "1fba4a7a",
   "metadata": {},
   "outputs": [],
   "source": []
  },
  {
   "cell_type": "code",
   "execution_count": null,
   "id": "4f1a0b1c",
   "metadata": {},
   "outputs": [],
   "source": []
  },
  {
   "cell_type": "code",
   "execution_count": 109,
   "id": "4a7143ea",
   "metadata": {},
   "outputs": [],
   "source": [
    "# data.columns"
   ]
  },
  {
   "cell_type": "markdown",
   "id": "32508fae",
   "metadata": {},
   "source": [
    "### best time to launch a content :"
   ]
  },
  {
   "cell_type": "code",
   "execution_count": 110,
   "id": "7312a620",
   "metadata": {},
   "outputs": [
    {
     "data": {
      "text/plain": [
       "month_added\n",
       "July         827\n",
       "December     813\n",
       "September    770\n",
       "April        764\n",
       "October      760\n",
       "August       755\n",
       "March        742\n",
       "January      738\n",
       "June         728\n",
       "November     705\n",
       "May          632\n",
       "February     563\n",
       "Name: title, dtype: int64"
      ]
     },
     "execution_count": 110,
     "metadata": {},
     "output_type": "execute_result"
    }
   ],
   "source": [
    "data.groupby(\"month_added\")[\"title\"].nunique().sort_values(ascending=False)"
   ]
  },
  {
   "cell_type": "code",
   "execution_count": 111,
   "id": "29aef007",
   "metadata": {},
   "outputs": [
    {
     "data": {
      "text/plain": [
       "0        2021-09-25\n",
       "1        2021-09-24\n",
       "2        2021-09-24\n",
       "3        2021-09-24\n",
       "4        2021-09-24\n",
       "            ...    \n",
       "201986   2019-03-02\n",
       "201987   2019-03-02\n",
       "201988   2019-03-02\n",
       "201989   2019-03-02\n",
       "201990   2019-03-02\n",
       "Name: date_added, Length: 201991, dtype: datetime64[ns]"
      ]
     },
     "execution_count": 111,
     "metadata": {},
     "output_type": "execute_result"
    }
   ],
   "source": [
    "data[\"date_added\"]"
   ]
  },
  {
   "cell_type": "code",
   "execution_count": 112,
   "id": "6f86bb17",
   "metadata": {},
   "outputs": [
    {
     "data": {
      "text/plain": [
       "date_added\n",
       "Friday       2498\n",
       "Thursday     1396\n",
       "Wednesday    1288\n",
       "Tuesday      1197\n",
       "Monday        851\n",
       "Saturday      816\n",
       "Sunday        751\n",
       "Name: title, dtype: int64"
      ]
     },
     "execution_count": 112,
     "metadata": {},
     "output_type": "execute_result"
    }
   ],
   "source": [
    "data.groupby(data[\"date_added\"].dt.day_name())[\"title\"].nunique().sort_values(ascending=False)"
   ]
  },
  {
   "cell_type": "code",
   "execution_count": 113,
   "id": "a3a01bc9",
   "metadata": {},
   "outputs": [
    {
     "data": {
      "image/png": "[encoded data removed]",
      "text/plain": [
       "<Figure size 432x288 with 1 Axes>"
      ]
     },
     "metadata": {},
     "output_type": "display_data"
    }
   ],
   "source": [
    "plt.bar(data.groupby(data[\"date_added\"].dt.day_name())[\"title\"].nunique().sort_values(ascending=False).index,\n",
    "        data.groupby(data[\"date_added\"].dt.day_name())[\"title\"].nunique().sort_values(ascending=False))\n",
    "plt.xticks(rotation = 45)\n",
    "plt.show()"
   ]
  },
  {
   "cell_type": "code",
   "execution_count": 114,
   "id": "faab7805",
   "metadata": {},
   "outputs": [
    {
     "data": {
      "image/png": "[encoded data removed]",
      "text/plain": [
       "<Figure size 432x288 with 1 Axes>"
      ]
     },
     "metadata": {},
     "output_type": "display_data"
    }
   ],
   "source": [
    "plt.bar(data.groupby(data[\"date_added\"].dt.month_name())[\"title\"].nunique().sort_values(ascending=False).index,\n",
    "        data.groupby(data[\"date_added\"].dt.month_name())[\"title\"].nunique().sort_values(ascending=False))\n",
    "plt.xticks(rotation = 45)\n",
    "plt.show()"
   ]
  },
  {
   "cell_type": "markdown",
   "id": "13cb0a24",
   "metadata": {},
   "source": [
    "#### best time to launch new content is :  July , September and December months on Friday ! "
   ]
  },
  {
   "cell_type": "code",
   "execution_count": null,
   "id": "55ffab69",
   "metadata": {},
   "outputs": [],
   "source": []
  },
  {
   "cell_type": "markdown",
   "id": "f9044b62",
   "metadata": {},
   "source": [
    "### Top directors / actors by Movies and TV shows"
   ]
  },
  {
   "cell_type": "code",
   "execution_count": 115,
   "id": "2a5a6259",
   "metadata": {},
   "outputs": [
    {
     "data": {
      "text/plain": [
       "actors\n",
       "Unknown               350\n",
       "Takahiro Sakurai       25\n",
       "Yuki Kaji              19\n",
       "Junichi Suwabe         17\n",
       "Daisuke Ono            17\n",
       "Ai Kayano              17\n",
       "Yuichi Nakamura        16\n",
       "Jun Fukuyama           15\n",
       "Yoshimasa Hosoya       15\n",
       "David Attenborough     14\n",
       "Vincent Tong           13\n",
       "Name: title, dtype: int64"
      ]
     },
     "execution_count": 115,
     "metadata": {},
     "output_type": "execute_result"
    }
   ],
   "source": [
    "TV_shows.groupby(\"actors\")[\"title\"].nunique().sort_values(ascending=False).head(11)"
   ]
  },
  {
   "cell_type": "code",
   "execution_count": 116,
   "id": "83f04765",
   "metadata": {},
   "outputs": [
    {
     "data": {
      "text/plain": [
       "directors\n",
       "Unknown                2446\n",
       "Ken Burns                 3\n",
       "Alastair Fothergill       3\n",
       "Stan Lathan               2\n",
       "Joe Berlinger             2\n",
       "Name: title, dtype: int64"
      ]
     },
     "execution_count": 116,
     "metadata": {},
     "output_type": "execute_result"
    }
   ],
   "source": [
    "TV_shows.groupby(\"directors\")[\"title\"].nunique().sort_values(ascending=False).head(5)"
   ]
  },
  {
   "cell_type": "code",
   "execution_count": 117,
   "id": "c6ac2628",
   "metadata": {},
   "outputs": [
    {
     "data": {
      "text/plain": [
       "actors\n",
       "Unknown             475\n",
       "Anupam Kher          42\n",
       "Shah Rukh Khan       35\n",
       "Naseeruddin Shah     32\n",
       "Om Puri              30\n",
       "Akshay Kumar         30\n",
       "Paresh Rawal         28\n",
       "Julie Tejwani        28\n",
       "Amitabh Bachchan     28\n",
       "Rupa Bhimani         27\n",
       "Boman Irani          27\n",
       "Name: title, dtype: int64"
      ]
     },
     "execution_count": 117,
     "metadata": {},
     "output_type": "execute_result"
    }
   ],
   "source": [
    "Movies.groupby(\"actors\")[\"title\"].nunique().sort_values(ascending=False).head(11)"
   ]
  },
  {
   "cell_type": "code",
   "execution_count": 118,
   "id": "ac2b6969",
   "metadata": {},
   "outputs": [
    {
     "data": {
      "text/plain": [
       "directors\n",
       "Unknown                188\n",
       "Rajiv Chilaka           22\n",
       "Jan Suter               21\n",
       "Raúl Campos             19\n",
       "Suhas Kadav             16\n",
       "Marcus Raboy            15\n",
       "Jay Karas               15\n",
       "Cathy Garcia-Molina     13\n",
       "Martin Scorsese         12\n",
       "Jay Chapman             12\n",
       "Youssef Chahine         12\n",
       "Name: title, dtype: int64"
      ]
     },
     "execution_count": 118,
     "metadata": {},
     "output_type": "execute_result"
    }
   ],
   "source": [
    "Movies.groupby(\"directors\")[\"title\"].nunique().sort_values(ascending=False).head(11)"
   ]
  },
  {
   "cell_type": "markdown",
   "id": "1d926cb2",
   "metadata": {},
   "source": []
  },
  {
   "cell_type": "code",
   "execution_count": null,
   "id": "41246ad6",
   "metadata": {},
   "outputs": [],
   "source": []
  },
  {
   "cell_type": "code",
   "execution_count": null,
   "id": "e9845a3f",
   "metadata": {},
   "outputs": [],
   "source": []
  },
  {
   "cell_type": "markdown",
   "id": "e03fdbc4",
   "metadata": {},
   "source": [
    "# Analysing and plotting for Top actors/directors and genres for Top 4 countries"
   ]
  },
  {
   "cell_type": "code",
   "execution_count": null,
   "id": "961e026f",
   "metadata": {},
   "outputs": [],
   "source": []
  },
  {
   "cell_type": "code",
   "execution_count": null,
   "id": "f1396d3a",
   "metadata": {},
   "outputs": [],
   "source": []
  },
  {
   "cell_type": "code",
   "execution_count": null,
   "id": "8a298ec8",
   "metadata": {},
   "outputs": [],
   "source": []
  },
  {
   "cell_type": "markdown",
   "id": "aa5fa214",
   "metadata": {},
   "source": [
    "# `For United States`"
   ]
  },
  {
   "cell_type": "code",
   "execution_count": 119,
   "id": "3f048d5f",
   "metadata": {},
   "outputs": [
    {
     "data": {
      "text/html": [
       "<div>\n",
       "<style scoped>\n",
       "    .dataframe tbody tr th:only-of-type {\n",
       "        vertical-align: middle;\n",
       "    }\n",
       "\n",
       "    .dataframe tbody tr th {\n",
       "        vertical-align: top;\n",
       "    }\n",
       "\n",
       "    .dataframe thead th {\n",
       "        text-align: right;\n",
       "    }\n",
       "</style>\n",
       "<table border=\"1\" class=\"dataframe\">\n",
       "  <thead>\n",
       "    <tr style=\"text-align: right;\">\n",
       "      <th></th>\n",
       "      <th>title</th>\n",
       "      <th>actors</th>\n",
       "      <th>directors</th>\n",
       "      <th>countries</th>\n",
       "      <th>genres</th>\n",
       "      <th>type</th>\n",
       "      <th>date_added</th>\n",
       "      <th>release_year</th>\n",
       "      <th>rating</th>\n",
       "      <th>year_added</th>\n",
       "      <th>month_added</th>\n",
       "      <th>Movie_duration</th>\n",
       "      <th>Series_duration</th>\n",
       "      <th>Content_For</th>\n",
       "    </tr>\n",
       "  </thead>\n",
       "  <tbody>\n",
       "    <tr>\n",
       "      <th>0</th>\n",
       "      <td>Dick Johnson Is Dead</td>\n",
       "      <td>Unknown</td>\n",
       "      <td>Kirsten Johnson</td>\n",
       "      <td>United States</td>\n",
       "      <td>Documentaries</td>\n",
       "      <td>Movie</td>\n",
       "      <td>2021-09-25</td>\n",
       "      <td>2020</td>\n",
       "      <td>PG-13</td>\n",
       "      <td>2021.0</td>\n",
       "      <td>September</td>\n",
       "      <td>90.0</td>\n",
       "      <td>NaN</td>\n",
       "      <td>Teens</td>\n",
       "    </tr>\n",
       "    <tr>\n",
       "      <th>179</th>\n",
       "      <td>Sankofa</td>\n",
       "      <td>Kofi Ghanaba</td>\n",
       "      <td>Haile Gerima</td>\n",
       "      <td>United States</td>\n",
       "      <td>Dramas</td>\n",
       "      <td>Movie</td>\n",
       "      <td>2021-09-24</td>\n",
       "      <td>1993</td>\n",
       "      <td>TV-MA</td>\n",
       "      <td>2021.0</td>\n",
       "      <td>September</td>\n",
       "      <td>125.0</td>\n",
       "      <td>NaN</td>\n",
       "      <td>Adults</td>\n",
       "    </tr>\n",
       "  </tbody>\n",
       "</table>\n",
       "</div>"
      ],
      "text/plain": [
       "                    title        actors        directors      countries  \\\n",
       "0    Dick Johnson Is Dead       Unknown  Kirsten Johnson  United States   \n",
       "179               Sankofa  Kofi Ghanaba     Haile Gerima  United States   \n",
       "\n",
       "            genres   type date_added  release_year rating  year_added  \\\n",
       "0    Documentaries  Movie 2021-09-25          2020  PG-13      2021.0   \n",
       "179         Dramas  Movie 2021-09-24          1993  TV-MA      2021.0   \n",
       "\n",
       "    month_added  Movie_duration  Series_duration Content_For  \n",
       "0     September            90.0              NaN       Teens  \n",
       "179   September           125.0              NaN      Adults  "
      ]
     },
     "execution_count": 119,
     "metadata": {},
     "output_type": "execute_result"
    }
   ],
   "source": [
    "United_States = data.loc[data[\"countries\"] == \"United States\"]\n",
    "United_States.head(2)"
   ]
  },
  {
   "cell_type": "code",
   "execution_count": 120,
   "id": "603dc030",
   "metadata": {},
   "outputs": [
    {
     "data": {
      "text/plain": [
       "genres\n",
       "Dramas                      835\n",
       "Comedies                    680\n",
       "Documentaries               511\n",
       "Action & Adventure          404\n",
       "Independent Movies          390\n",
       "Children & Family Movies    390\n",
       "Thrillers                   292\n",
       "TV Comedies                 258\n",
       "TV Dramas                   232\n",
       "Romantic Movies             225\n",
       "Stand-Up Comedy             216\n",
       "Kids' TV                    214\n",
       "Horror Movies               201\n",
       "Docuseries                  192\n",
       "Sci-Fi & Fantasy            181\n",
       "International Movies        166\n",
       "Music & Musicals            147\n",
       "Crime TV Shows              145\n",
       "Reality TV                  123\n",
       "Sports Movies               113\n",
       "Name: title, dtype: int64"
      ]
     },
     "execution_count": 120,
     "metadata": {},
     "output_type": "execute_result"
    }
   ],
   "source": [
    "United_States.groupby(\"genres\")[\"title\"].nunique().sort_values(ascending =False).head(20)"
   ]
  },
  {
   "cell_type": "markdown",
   "id": "f9e794d1",
   "metadata": {},
   "source": [
    "### top 20 highest watched genres in USA"
   ]
  },
  {
   "cell_type": "code",
   "execution_count": 121,
   "id": "aa90d229",
   "metadata": {},
   "outputs": [
    {
     "data": {
      "image/png": "[encoded data removed]",
      "text/plain": [
       "<Figure size 504x288 with 1 Axes>"
      ]
     },
     "metadata": {},
     "output_type": "display_data"
    }
   ],
   "source": [
    "plt.figure(figsize=(7,4))\n",
    "sns.barplot(x = United_States.groupby(\"genres\")[\"title\"].nunique().sort_values(ascending =False).head(20).index ,\n",
    "            y = United_States.groupby(\"genres\")[\"title\"].nunique().sort_values(ascending =False).head(20))\n",
    "plt.xticks(rotation = 90)\n",
    "plt.ylabel(\"Number of Content per genre\")\n",
    "\n",
    "plt.show()"
   ]
  },
  {
   "cell_type": "code",
   "execution_count": null,
   "id": "2f6a48cf",
   "metadata": {},
   "outputs": [],
   "source": []
  },
  {
   "cell_type": "markdown",
   "id": "0e0f87dd",
   "metadata": {},
   "source": [
    "### top 10 actors with maximum content online,  in USA"
   ]
  },
  {
   "cell_type": "code",
   "execution_count": 122,
   "id": "cdc4db44",
   "metadata": {},
   "outputs": [
    {
     "data": {
      "text/plain": [
       "actors\n",
       "Samuel L. Jackson    22\n",
       "Tara Strong          22\n",
       "Fred Tatasciore      21\n",
       "Adam Sandler         20\n",
       "Nicolas Cage         19\n",
       "James Franco         19\n",
       "Morgan Freeman       18\n",
       "Seth Rogen           18\n",
       "Molly Shannon        17\n",
       "Fred Armisen         16\n",
       "Name: title, dtype: int64"
      ]
     },
     "execution_count": 122,
     "metadata": {},
     "output_type": "execute_result"
    }
   ],
   "source": [
    "United_States.groupby(\"actors\")[\"title\"].nunique().sort_values(ascending=False).head(11)[1:]"
   ]
  },
  {
   "cell_type": "code",
   "execution_count": 123,
   "id": "45be57a1",
   "metadata": {},
   "outputs": [
    {
     "data": {
      "image/png": "[encoded data removed]",
      "text/plain": [
       "<Figure size 576x288 with 1 Axes>"
      ]
     },
     "metadata": {},
     "output_type": "display_data"
    }
   ],
   "source": [
    "plt.figure(figsize=(8,4))\n",
    "sns.barplot(x = United_States.groupby(\"actors\")[\"title\"].nunique().sort_values(ascending=False).head(11)[1:].index ,\n",
    "            y = United_States.groupby(\"actors\")[\"title\"].nunique().sort_values(ascending=False).head(11)[1:])\n",
    "plt.xticks(rotation = 90)\n",
    "plt.ylabel(\"Number of Content per Actor\")\n",
    "plt.show()"
   ]
  },
  {
   "cell_type": "markdown",
   "id": "f0e70a51",
   "metadata": {},
   "source": [
    "### top 10 directors with maximum content online,  in USA"
   ]
  },
  {
   "cell_type": "code",
   "execution_count": 124,
   "id": "1e633e71",
   "metadata": {},
   "outputs": [
    {
     "data": {
      "text/plain": [
       "directors\n",
       "Marcus Raboy        15\n",
       "Jay Karas           15\n",
       "Martin Scorsese     12\n",
       "Jay Chapman         12\n",
       "Steven Spielberg    11\n",
       "Don Michael Paul    10\n",
       "Shannon Hartman      9\n",
       "Ryan Polito          8\n",
       "Troy Miller          8\n",
       "Robert Rodriguez     8\n",
       "Name: title, dtype: int64"
      ]
     },
     "execution_count": 124,
     "metadata": {},
     "output_type": "execute_result"
    }
   ],
   "source": [
    "United_States.groupby(\"directors\")[\"title\"].nunique().sort_values(ascending=False).head(11)[1:]"
   ]
  },
  {
   "cell_type": "code",
   "execution_count": 125,
   "id": "3b88f74b",
   "metadata": {},
   "outputs": [
    {
     "data": {
      "image/png": "[encoded data removed]",
      "text/plain": [
       "<Figure size 576x288 with 1 Axes>"
      ]
     },
     "metadata": {},
     "output_type": "display_data"
    }
   ],
   "source": [
    "plt.figure(figsize=(8,4))\n",
    "sns.barplot(x = United_States.groupby(\"directors\")[\"title\"].nunique().sort_values(ascending=False).head(11)[1:].index ,\n",
    "            y = United_States.groupby(\"directors\")[\"title\"].nunique().sort_values(ascending=False).head(11)[1:])\n",
    "plt.xticks(rotation = 90)\n",
    "plt.ylabel(\"Number of Content Directed by\")\n",
    "\n",
    "\n",
    "plt.show()"
   ]
  },
  {
   "cell_type": "code",
   "execution_count": null,
   "id": "294f94b1",
   "metadata": {},
   "outputs": [],
   "source": []
  },
  {
   "cell_type": "code",
   "execution_count": null,
   "id": "3cafceac",
   "metadata": {},
   "outputs": [],
   "source": []
  },
  {
   "cell_type": "markdown",
   "id": "098555dd",
   "metadata": {},
   "source": [
    "# `For India`"
   ]
  },
  {
   "cell_type": "code",
   "execution_count": 126,
   "id": "154407f8",
   "metadata": {},
   "outputs": [
    {
     "data": {
      "text/html": [
       "<div>\n",
       "<style scoped>\n",
       "    .dataframe tbody tr th:only-of-type {\n",
       "        vertical-align: middle;\n",
       "    }\n",
       "\n",
       "    .dataframe tbody tr th {\n",
       "        vertical-align: top;\n",
       "    }\n",
       "\n",
       "    .dataframe thead th {\n",
       "        text-align: right;\n",
       "    }\n",
       "</style>\n",
       "<table border=\"1\" class=\"dataframe\">\n",
       "  <thead>\n",
       "    <tr style=\"text-align: right;\">\n",
       "      <th></th>\n",
       "      <th>title</th>\n",
       "      <th>actors</th>\n",
       "      <th>directors</th>\n",
       "      <th>countries</th>\n",
       "      <th>genres</th>\n",
       "      <th>type</th>\n",
       "      <th>date_added</th>\n",
       "      <th>release_year</th>\n",
       "      <th>rating</th>\n",
       "      <th>year_added</th>\n",
       "      <th>month_added</th>\n",
       "      <th>Movie_duration</th>\n",
       "      <th>Series_duration</th>\n",
       "      <th>Content_For</th>\n",
       "    </tr>\n",
       "  </thead>\n",
       "  <tbody>\n",
       "    <tr>\n",
       "      <th>87</th>\n",
       "      <td>Kota Factory</td>\n",
       "      <td>Mayur More</td>\n",
       "      <td>Unknown</td>\n",
       "      <td>India</td>\n",
       "      <td>International TV Shows</td>\n",
       "      <td>TV Show</td>\n",
       "      <td>2021-09-24</td>\n",
       "      <td>2021</td>\n",
       "      <td>TV-MA</td>\n",
       "      <td>2021.0</td>\n",
       "      <td>September</td>\n",
       "      <td>NaN</td>\n",
       "      <td>2.0</td>\n",
       "      <td>Adults</td>\n",
       "    </tr>\n",
       "    <tr>\n",
       "      <th>88</th>\n",
       "      <td>Kota Factory</td>\n",
       "      <td>Mayur More</td>\n",
       "      <td>Unknown</td>\n",
       "      <td>India</td>\n",
       "      <td>Romantic TV Shows</td>\n",
       "      <td>TV Show</td>\n",
       "      <td>2021-09-24</td>\n",
       "      <td>2021</td>\n",
       "      <td>TV-MA</td>\n",
       "      <td>2021.0</td>\n",
       "      <td>September</td>\n",
       "      <td>NaN</td>\n",
       "      <td>2.0</td>\n",
       "      <td>Adults</td>\n",
       "    </tr>\n",
       "  </tbody>\n",
       "</table>\n",
       "</div>"
      ],
      "text/plain": [
       "           title      actors directors countries                  genres  \\\n",
       "87  Kota Factory  Mayur More   Unknown     India  International TV Shows   \n",
       "88  Kota Factory  Mayur More   Unknown     India       Romantic TV Shows   \n",
       "\n",
       "       type date_added  release_year rating  year_added month_added  \\\n",
       "87  TV Show 2021-09-24          2021  TV-MA      2021.0   September   \n",
       "88  TV Show 2021-09-24          2021  TV-MA      2021.0   September   \n",
       "\n",
       "    Movie_duration  Series_duration Content_For  \n",
       "87             NaN              2.0      Adults  \n",
       "88             NaN              2.0      Adults  "
      ]
     },
     "execution_count": 126,
     "metadata": {},
     "output_type": "execute_result"
    }
   ],
   "source": [
    "India = data.loc[data[\"countries\"] == \"India\"]\n",
    "India.head(2)"
   ]
  },
  {
   "cell_type": "code",
   "execution_count": null,
   "id": "2a50c30d",
   "metadata": {},
   "outputs": [],
   "source": []
  },
  {
   "cell_type": "code",
   "execution_count": 127,
   "id": "69101abd",
   "metadata": {},
   "outputs": [
    {
     "data": {
      "text/plain": [
       "genres\n",
       "International Movies        864\n",
       "Dramas                      662\n",
       "Comedies                    323\n",
       "Independent Movies          167\n",
       "Action & Adventure          137\n",
       "Romantic Movies             120\n",
       "Music & Musicals             96\n",
       "Thrillers                    92\n",
       "International TV Shows       66\n",
       "Horror Movies                35\n",
       "TV Dramas                    28\n",
       "Documentaries                27\n",
       "TV Comedies                  26\n",
       "Children & Family Movies     26\n",
       "Sports Movies                17\n",
       "Sci-Fi & Fantasy             12\n",
       "Romantic TV Shows            12\n",
       "Kids' TV                     12\n",
       "Classic Movies               11\n",
       "Docuseries                    9\n",
       "Name: title, dtype: int64"
      ]
     },
     "execution_count": 127,
     "metadata": {},
     "output_type": "execute_result"
    }
   ],
   "source": [
    "India.groupby(\"genres\")[\"title\"].nunique().sort_values(ascending =False).head(20)"
   ]
  },
  {
   "cell_type": "markdown",
   "id": "c0d7c0ee",
   "metadata": {},
   "source": [
    "### Top 20 genres in India"
   ]
  },
  {
   "cell_type": "code",
   "execution_count": 128,
   "id": "d474c484",
   "metadata": {},
   "outputs": [
    {
     "data": {
      "image/png": "[encoded data removed]",
      "text/plain": [
       "<Figure size 864x360 with 1 Axes>"
      ]
     },
     "metadata": {},
     "output_type": "display_data"
    }
   ],
   "source": [
    "plt.figure(figsize=(12,5))\n",
    "sns.barplot(x = India.groupby(\"genres\")[\"title\"].nunique().sort_values(ascending =False).head(20).index ,\n",
    "            y = India.groupby(\"genres\")[\"title\"].nunique().sort_values(ascending =False).head(20))\n",
    "plt.xticks(rotation = 90)\n",
    "plt.ylabel(\"Number of Content per genre\")\n",
    "\n",
    "plt.show()"
   ]
  },
  {
   "cell_type": "markdown",
   "id": "17718c48",
   "metadata": {},
   "source": [
    "### Top 10 actors with highest number of content"
   ]
  },
  {
   "cell_type": "code",
   "execution_count": 129,
   "id": "16d7a99a",
   "metadata": {},
   "outputs": [
    {
     "data": {
      "text/plain": [
       "actors\n",
       "Anupam Kher         40\n",
       "Unknown             39\n",
       "Shah Rukh Khan      34\n",
       "Naseeruddin Shah    31\n",
       "Om Puri             29\n",
       "Akshay Kumar        29\n",
       "Amitabh Bachchan    28\n",
       "Paresh Rawal        28\n",
       "Boman Irani         27\n",
       "Kareena Kapoor      25\n",
       "Ajay Devgn          21\n",
       "Name: title, dtype: int64"
      ]
     },
     "execution_count": 129,
     "metadata": {},
     "output_type": "execute_result"
    }
   ],
   "source": [
    "India.groupby(\"actors\")[\"title\"].nunique().sort_values(ascending=False).head(11)"
   ]
  },
  {
   "cell_type": "code",
   "execution_count": 130,
   "id": "b9348389",
   "metadata": {},
   "outputs": [
    {
     "data": {
      "image/png": "[encoded data removed]",
      "text/plain": [
       "<Figure size 864x360 with 1 Axes>"
      ]
     },
     "metadata": {},
     "output_type": "display_data"
    }
   ],
   "source": [
    "plt.figure(figsize=(12,5))\n",
    "sns.barplot(x = India.groupby(\"actors\")[\"title\"].nunique().sort_values(ascending=False).head(11).index , \n",
    "            y = India.groupby(\"actors\")[\"title\"].nunique().sort_values(ascending=False).head(11))\n",
    "plt.xticks(rotation = 90)\n",
    "plt.ylabel(\"Number of Content per Actor\")\n",
    "plt.show()"
   ]
  },
  {
   "cell_type": "code",
   "execution_count": 131,
   "id": "6063832d",
   "metadata": {},
   "outputs": [
    {
     "data": {
      "text/plain": [
       "directors\n",
       "David Dhawan          9\n",
       "Anurag Kashyap        9\n",
       "Umesh Mehra           8\n",
       "Dibakar Banerjee      7\n",
       "Priyadarshan          7\n",
       "Ram Gopal Varma       7\n",
       "Sooraj R. Barjatya    6\n",
       "Imtiaz Ali            6\n",
       "Karan Johar           6\n",
       "Ashutosh Gowariker    6\n",
       "Name: title, dtype: int64"
      ]
     },
     "execution_count": 131,
     "metadata": {},
     "output_type": "execute_result"
    }
   ],
   "source": [
    "India.groupby(\"directors\")[\"title\"].nunique().sort_values(ascending=False).head(11)[1:]"
   ]
  },
  {
   "cell_type": "markdown",
   "id": "68a3246c",
   "metadata": {},
   "source": [
    "### Top 10 directors with highest number of content"
   ]
  },
  {
   "cell_type": "code",
   "execution_count": 132,
   "id": "a7438df5",
   "metadata": {},
   "outputs": [
    {
     "data": {
      "image/png": "[encoded data removed]",
      "text/plain": [
       "<Figure size 864x360 with 1 Axes>"
      ]
     },
     "metadata": {},
     "output_type": "display_data"
    }
   ],
   "source": [
    "plt.figure(figsize=(12,5))\n",
    "sns.barplot(x = India.groupby(\"directors\")[\"title\"].nunique().sort_values(ascending=False).head(11)[1:].index ,\n",
    "            y = India.groupby(\"directors\")[\"title\"].nunique().sort_values(ascending=False).head(11)[1:])\n",
    "plt.xticks(rotation = 90)\n",
    "plt.ylabel(\"Number of Content Directed by\")\n",
    "\n",
    "\n",
    "plt.show()"
   ]
  },
  {
   "cell_type": "code",
   "execution_count": null,
   "id": "b79b11ab",
   "metadata": {},
   "outputs": [],
   "source": []
  },
  {
   "cell_type": "code",
   "execution_count": null,
   "id": "91e955c3",
   "metadata": {},
   "outputs": [],
   "source": []
  },
  {
   "cell_type": "markdown",
   "id": "d870c19f",
   "metadata": {},
   "source": [
    "# `For UK`"
   ]
  },
  {
   "cell_type": "code",
   "execution_count": 133,
   "id": "54888b6b",
   "metadata": {
    "scrolled": true
   },
   "outputs": [],
   "source": [
    "UK = data.loc[data[\"countries\"] == \"United Kingdom\"]\n",
    "\n"
   ]
  },
  {
   "cell_type": "code",
   "execution_count": 134,
   "id": "4defa896",
   "metadata": {},
   "outputs": [
    {
     "data": {
      "text/html": [
       "<div>\n",
       "<style scoped>\n",
       "    .dataframe tbody tr th:only-of-type {\n",
       "        vertical-align: middle;\n",
       "    }\n",
       "\n",
       "    .dataframe tbody tr th {\n",
       "        vertical-align: top;\n",
       "    }\n",
       "\n",
       "    .dataframe thead th {\n",
       "        text-align: right;\n",
       "    }\n",
       "</style>\n",
       "<table border=\"1\" class=\"dataframe\">\n",
       "  <thead>\n",
       "    <tr style=\"text-align: right;\">\n",
       "      <th></th>\n",
       "      <th>title</th>\n",
       "      <th>actors</th>\n",
       "      <th>directors</th>\n",
       "      <th>countries</th>\n",
       "      <th>genres</th>\n",
       "      <th>type</th>\n",
       "      <th>date_added</th>\n",
       "      <th>release_year</th>\n",
       "      <th>rating</th>\n",
       "      <th>year_added</th>\n",
       "      <th>month_added</th>\n",
       "      <th>Movie_duration</th>\n",
       "      <th>Series_duration</th>\n",
       "      <th>Content_For</th>\n",
       "    </tr>\n",
       "  </thead>\n",
       "  <tbody>\n",
       "    <tr>\n",
       "      <th>188</th>\n",
       "      <td>Sankofa</td>\n",
       "      <td>Kofi Ghanaba</td>\n",
       "      <td>Haile Gerima</td>\n",
       "      <td>United Kingdom</td>\n",
       "      <td>Dramas</td>\n",
       "      <td>Movie</td>\n",
       "      <td>2021-09-24</td>\n",
       "      <td>1993</td>\n",
       "      <td>TV-MA</td>\n",
       "      <td>2021.0</td>\n",
       "      <td>September</td>\n",
       "      <td>125.0</td>\n",
       "      <td>NaN</td>\n",
       "      <td>Adults</td>\n",
       "    </tr>\n",
       "    <tr>\n",
       "      <th>189</th>\n",
       "      <td>Sankofa</td>\n",
       "      <td>Kofi Ghanaba</td>\n",
       "      <td>Haile Gerima</td>\n",
       "      <td>United Kingdom</td>\n",
       "      <td>Independent Movies</td>\n",
       "      <td>Movie</td>\n",
       "      <td>2021-09-24</td>\n",
       "      <td>1993</td>\n",
       "      <td>TV-MA</td>\n",
       "      <td>2021.0</td>\n",
       "      <td>September</td>\n",
       "      <td>125.0</td>\n",
       "      <td>NaN</td>\n",
       "      <td>Adults</td>\n",
       "    </tr>\n",
       "  </tbody>\n",
       "</table>\n",
       "</div>"
      ],
      "text/plain": [
       "       title        actors     directors       countries              genres  \\\n",
       "188  Sankofa  Kofi Ghanaba  Haile Gerima  United Kingdom              Dramas   \n",
       "189  Sankofa  Kofi Ghanaba  Haile Gerima  United Kingdom  Independent Movies   \n",
       "\n",
       "      type date_added  release_year rating  year_added month_added  \\\n",
       "188  Movie 2021-09-24          1993  TV-MA      2021.0   September   \n",
       "189  Movie 2021-09-24          1993  TV-MA      2021.0   September   \n",
       "\n",
       "     Movie_duration  Series_duration Content_For  \n",
       "188           125.0              NaN      Adults  \n",
       "189           125.0              NaN      Adults  "
      ]
     },
     "execution_count": 134,
     "metadata": {},
     "output_type": "execute_result"
    }
   ],
   "source": [
    "UK.head(2)"
   ]
  },
  {
   "cell_type": "code",
   "execution_count": 135,
   "id": "c311cba4",
   "metadata": {},
   "outputs": [
    {
     "data": {
      "text/plain": [
       "(12945, 14)"
      ]
     },
     "execution_count": 135,
     "metadata": {},
     "output_type": "execute_result"
    }
   ],
   "source": [
    "UK.shape"
   ]
  },
  {
   "cell_type": "markdown",
   "id": "0521bc02",
   "metadata": {},
   "source": [
    "### Top 20 genres in UK"
   ]
  },
  {
   "cell_type": "code",
   "execution_count": 136,
   "id": "aa707b06",
   "metadata": {},
   "outputs": [
    {
     "data": {
      "text/plain": [
       "genres\n",
       "British TV Shows            225\n",
       "Dramas                      196\n",
       "International Movies        168\n",
       "International TV Shows      128\n",
       "Documentaries               127\n",
       "Comedies                     91\n",
       "Docuseries                   89\n",
       "Action & Adventure           84\n",
       "Independent Movies           74\n",
       "Thrillers                    61\n",
       "Crime TV Shows               48\n",
       "Children & Family Movies     46\n",
       "TV Comedies                  44\n",
       "Kids' TV                     43\n",
       "Romantic Movies              38\n",
       "TV Dramas                    36\n",
       "Music & Musicals             36\n",
       "Sci-Fi & Fantasy             35\n",
       "Reality TV                   35\n",
       "Horror Movies                28\n",
       "Name: title, dtype: int64"
      ]
     },
     "execution_count": 136,
     "metadata": {},
     "output_type": "execute_result"
    }
   ],
   "source": [
    "UK.groupby(\"genres\")[\"title\"].nunique().sort_values(ascending =False).head(20)"
   ]
  },
  {
   "cell_type": "code",
   "execution_count": 137,
   "id": "4ffcc6f9",
   "metadata": {},
   "outputs": [
    {
     "data": {
      "image/png": "[encoded data removed]",
      "text/plain": [
       "<Figure size 864x360 with 1 Axes>"
      ]
     },
     "metadata": {},
     "output_type": "display_data"
    }
   ],
   "source": [
    "plt.figure(figsize=(12,5))\n",
    "sns.barplot(x = UK.groupby(\"genres\")[\"title\"].nunique().sort_values(ascending =False).head(20).index ,\n",
    "            y = UK.groupby(\"genres\")[\"title\"].nunique().sort_values(ascending =False).head(20))\n",
    "plt.xticks(rotation = 90)\n",
    "plt.ylabel(\"Number of Content per genre\")\n",
    "\n",
    "plt.show()\n"
   ]
  },
  {
   "cell_type": "code",
   "execution_count": null,
   "id": "99d77709",
   "metadata": {},
   "outputs": [],
   "source": []
  },
  {
   "cell_type": "markdown",
   "id": "17968679",
   "metadata": {},
   "source": [
    "### Top 10 Actors in UK"
   ]
  },
  {
   "cell_type": "code",
   "execution_count": 138,
   "id": "2e93cf22",
   "metadata": {},
   "outputs": [
    {
     "data": {
      "text/plain": [
       "actors\n",
       "David Attenborough      17\n",
       "John Cleese             16\n",
       "Michael Palin           14\n",
       "Terry Jones             12\n",
       "Eric Idle               12\n",
       "Terry Gilliam           11\n",
       "Graham Chapman          11\n",
       "Helena Bonham Carter     9\n",
       "Samuel West              9\n",
       "Judi Dench               9\n",
       "Name: title, dtype: int64"
      ]
     },
     "execution_count": 138,
     "metadata": {},
     "output_type": "execute_result"
    }
   ],
   "source": [
    "UK.groupby(\"actors\")[\"title\"].nunique().sort_values(ascending=False).head(11)[1:]\n"
   ]
  },
  {
   "cell_type": "code",
   "execution_count": 139,
   "id": "f445be17",
   "metadata": {},
   "outputs": [
    {
     "data": {
      "image/png": "[encoded data removed]",
      "text/plain": [
       "<Figure size 864x360 with 1 Axes>"
      ]
     },
     "metadata": {},
     "output_type": "display_data"
    }
   ],
   "source": [
    "plt.figure(figsize=(12,5))\n",
    "sns.barplot(x = UK.groupby(\"actors\")[\"title\"].nunique().sort_values(ascending=False).head(11)[1:].index ,\n",
    "            y = UK.groupby(\"actors\")[\"title\"].nunique().sort_values(ascending=False).head(11)[1:])\n",
    "plt.xticks(rotation = 90)\n",
    "plt.ylabel(\"Number of Content per Actor\")\n",
    "plt.show()"
   ]
  },
  {
   "cell_type": "code",
   "execution_count": null,
   "id": "bb4daf16",
   "metadata": {},
   "outputs": [],
   "source": []
  },
  {
   "cell_type": "markdown",
   "id": "3c0f3324",
   "metadata": {},
   "source": [
    "### Top 5 directors in UK"
   ]
  },
  {
   "cell_type": "code",
   "execution_count": 140,
   "id": "cb87d038",
   "metadata": {},
   "outputs": [
    {
     "data": {
      "text/plain": [
       "directors\n",
       "Edward Cotterill       4\n",
       "Alastair Fothergill    4\n",
       "Jerry Rothwell         3\n",
       "Martin Campbell        3\n",
       "Name: title, dtype: int64"
      ]
     },
     "execution_count": 140,
     "metadata": {},
     "output_type": "execute_result"
    }
   ],
   "source": [
    "UK.groupby(\"directors\")[\"title\"].nunique().sort_values(ascending=False).head(5)[1:]\n"
   ]
  },
  {
   "cell_type": "code",
   "execution_count": 141,
   "id": "cadba887",
   "metadata": {},
   "outputs": [
    {
     "data": {
      "image/png": "[encoded data removed]",
      "text/plain": [
       "<Figure size 864x360 with 1 Axes>"
      ]
     },
     "metadata": {},
     "output_type": "display_data"
    }
   ],
   "source": [
    "\n",
    "plt.figure(figsize=(12,5))\n",
    "sns.barplot(x = UK.groupby(\"directors\")[\"title\"].nunique().sort_values(ascending=False).head(5)[1:].index ,\n",
    "            y = UK.groupby(\"directors\")[\"title\"].nunique().sort_values(ascending=False).head(5)[1:])\n",
    "plt.xticks(rotation = 90)\n",
    "plt.ylabel(\"Number of Content Directed by\")\n",
    "\n",
    "\n",
    "plt.show()\n",
    "\n",
    "\n"
   ]
  },
  {
   "cell_type": "code",
   "execution_count": null,
   "id": "cdedf92f",
   "metadata": {},
   "outputs": [],
   "source": []
  },
  {
   "cell_type": "code",
   "execution_count": null,
   "id": "314ec7fd",
   "metadata": {},
   "outputs": [],
   "source": []
  },
  {
   "cell_type": "code",
   "execution_count": null,
   "id": "294052b4",
   "metadata": {
    "scrolled": true
   },
   "outputs": [],
   "source": []
  },
  {
   "cell_type": "code",
   "execution_count": null,
   "id": "e723f01f",
   "metadata": {},
   "outputs": [],
   "source": []
  },
  {
   "cell_type": "markdown",
   "id": "28ca98a4",
   "metadata": {},
   "source": [
    "# `For canada`"
   ]
  },
  {
   "cell_type": "code",
   "execution_count": 142,
   "id": "08f7f572",
   "metadata": {},
   "outputs": [
    {
     "data": {
      "text/html": [
       "<div>\n",
       "<style scoped>\n",
       "    .dataframe tbody tr th:only-of-type {\n",
       "        vertical-align: middle;\n",
       "    }\n",
       "\n",
       "    .dataframe tbody tr th {\n",
       "        vertical-align: top;\n",
       "    }\n",
       "\n",
       "    .dataframe thead th {\n",
       "        text-align: right;\n",
       "    }\n",
       "</style>\n",
       "<table border=\"1\" class=\"dataframe\">\n",
       "  <thead>\n",
       "    <tr style=\"text-align: right;\">\n",
       "      <th></th>\n",
       "      <th>title</th>\n",
       "      <th>actors</th>\n",
       "      <th>directors</th>\n",
       "      <th>countries</th>\n",
       "      <th>genres</th>\n",
       "      <th>type</th>\n",
       "      <th>date_added</th>\n",
       "      <th>release_year</th>\n",
       "      <th>rating</th>\n",
       "      <th>year_added</th>\n",
       "      <th>month_added</th>\n",
       "      <th>Movie_duration</th>\n",
       "      <th>Series_duration</th>\n",
       "      <th>Content_For</th>\n",
       "    </tr>\n",
       "  </thead>\n",
       "  <tbody>\n",
       "    <tr>\n",
       "      <th>937</th>\n",
       "      <td>Birth of the Dragon</td>\n",
       "      <td>Billy Magnussen</td>\n",
       "      <td>George Nolfi</td>\n",
       "      <td>Canada</td>\n",
       "      <td>Action &amp; Adventure</td>\n",
       "      <td>Movie</td>\n",
       "      <td>2021-09-16</td>\n",
       "      <td>2017</td>\n",
       "      <td>PG-13</td>\n",
       "      <td>2021.0</td>\n",
       "      <td>September</td>\n",
       "      <td>96.0</td>\n",
       "      <td>NaN</td>\n",
       "      <td>Teens</td>\n",
       "    </tr>\n",
       "    <tr>\n",
       "      <th>938</th>\n",
       "      <td>Birth of the Dragon</td>\n",
       "      <td>Billy Magnussen</td>\n",
       "      <td>George Nolfi</td>\n",
       "      <td>Canada</td>\n",
       "      <td>Dramas</td>\n",
       "      <td>Movie</td>\n",
       "      <td>2021-09-16</td>\n",
       "      <td>2017</td>\n",
       "      <td>PG-13</td>\n",
       "      <td>2021.0</td>\n",
       "      <td>September</td>\n",
       "      <td>96.0</td>\n",
       "      <td>NaN</td>\n",
       "      <td>Teens</td>\n",
       "    </tr>\n",
       "    <tr>\n",
       "      <th>943</th>\n",
       "      <td>Birth of the Dragon</td>\n",
       "      <td>Ron Yuan</td>\n",
       "      <td>George Nolfi</td>\n",
       "      <td>Canada</td>\n",
       "      <td>Action &amp; Adventure</td>\n",
       "      <td>Movie</td>\n",
       "      <td>2021-09-16</td>\n",
       "      <td>2017</td>\n",
       "      <td>PG-13</td>\n",
       "      <td>2021.0</td>\n",
       "      <td>September</td>\n",
       "      <td>96.0</td>\n",
       "      <td>NaN</td>\n",
       "      <td>Teens</td>\n",
       "    </tr>\n",
       "    <tr>\n",
       "      <th>944</th>\n",
       "      <td>Birth of the Dragon</td>\n",
       "      <td>Ron Yuan</td>\n",
       "      <td>George Nolfi</td>\n",
       "      <td>Canada</td>\n",
       "      <td>Dramas</td>\n",
       "      <td>Movie</td>\n",
       "      <td>2021-09-16</td>\n",
       "      <td>2017</td>\n",
       "      <td>PG-13</td>\n",
       "      <td>2021.0</td>\n",
       "      <td>September</td>\n",
       "      <td>96.0</td>\n",
       "      <td>NaN</td>\n",
       "      <td>Teens</td>\n",
       "    </tr>\n",
       "    <tr>\n",
       "      <th>949</th>\n",
       "      <td>Birth of the Dragon</td>\n",
       "      <td>Qu Jingjing</td>\n",
       "      <td>George Nolfi</td>\n",
       "      <td>Canada</td>\n",
       "      <td>Action &amp; Adventure</td>\n",
       "      <td>Movie</td>\n",
       "      <td>2021-09-16</td>\n",
       "      <td>2017</td>\n",
       "      <td>PG-13</td>\n",
       "      <td>2021.0</td>\n",
       "      <td>September</td>\n",
       "      <td>96.0</td>\n",
       "      <td>NaN</td>\n",
       "      <td>Teens</td>\n",
       "    </tr>\n",
       "  </tbody>\n",
       "</table>\n",
       "</div>"
      ],
      "text/plain": [
       "                   title           actors     directors countries  \\\n",
       "937  Birth of the Dragon  Billy Magnussen  George Nolfi    Canada   \n",
       "938  Birth of the Dragon  Billy Magnussen  George Nolfi    Canada   \n",
       "943  Birth of the Dragon         Ron Yuan  George Nolfi    Canada   \n",
       "944  Birth of the Dragon         Ron Yuan  George Nolfi    Canada   \n",
       "949  Birth of the Dragon      Qu Jingjing  George Nolfi    Canada   \n",
       "\n",
       "                 genres   type date_added  release_year rating  year_added  \\\n",
       "937  Action & Adventure  Movie 2021-09-16          2017  PG-13      2021.0   \n",
       "938              Dramas  Movie 2021-09-16          2017  PG-13      2021.0   \n",
       "943  Action & Adventure  Movie 2021-09-16          2017  PG-13      2021.0   \n",
       "944              Dramas  Movie 2021-09-16          2017  PG-13      2021.0   \n",
       "949  Action & Adventure  Movie 2021-09-16          2017  PG-13      2021.0   \n",
       "\n",
       "    month_added  Movie_duration  Series_duration Content_For  \n",
       "937   September            96.0              NaN       Teens  \n",
       "938   September            96.0              NaN       Teens  \n",
       "943   September            96.0              NaN       Teens  \n",
       "944   September            96.0              NaN       Teens  \n",
       "949   September            96.0              NaN       Teens  "
      ]
     },
     "execution_count": 142,
     "metadata": {},
     "output_type": "execute_result"
    }
   ],
   "source": [
    "Canada = data.loc[data[\"countries\"] == \"Canada\"]\n",
    "Canada.head()\n"
   ]
  },
  {
   "cell_type": "code",
   "execution_count": 143,
   "id": "45fc8345",
   "metadata": {},
   "outputs": [
    {
     "data": {
      "text/plain": [
       "(7915, 14)"
      ]
     },
     "execution_count": 143,
     "metadata": {},
     "output_type": "execute_result"
    }
   ],
   "source": [
    "Canada.shape\n"
   ]
  },
  {
   "cell_type": "markdown",
   "id": "58598ffc",
   "metadata": {},
   "source": [
    "### top 20 genres in Canada "
   ]
  },
  {
   "cell_type": "code",
   "execution_count": 144,
   "id": "42807e0e",
   "metadata": {},
   "outputs": [
    {
     "data": {
      "text/plain": [
       "genres\n",
       "Comedies                    94\n",
       "Dramas                      82\n",
       "Children & Family Movies    80\n",
       "Kids' TV                    61\n",
       "International Movies        60\n",
       "Thrillers                   49\n",
       "Independent Movies          44\n",
       "Action & Adventure          44\n",
       "Documentaries               42\n",
       "Horror Movies               36\n",
       "TV Dramas                   32\n",
       "TV Comedies                 30\n",
       "Sci-Fi & Fantasy            28\n",
       "International TV Shows      25\n",
       "Romantic Movies             25\n",
       "Crime TV Shows              15\n",
       "Music & Musicals            14\n",
       "Sports Movies               13\n",
       "TV Action & Adventure       12\n",
       "Docuseries                  11\n",
       "Name: title, dtype: int64"
      ]
     },
     "execution_count": 144,
     "metadata": {},
     "output_type": "execute_result"
    }
   ],
   "source": [
    "\n",
    "Canada.groupby(\"genres\")[\"title\"].nunique().sort_values(ascending =False).head(20)\n"
   ]
  },
  {
   "cell_type": "code",
   "execution_count": 145,
   "id": "58ac792a",
   "metadata": {},
   "outputs": [
    {
     "data": {
      "image/png": "[encoded data removed]",
      "text/plain": [
       "<Figure size 864x360 with 1 Axes>"
      ]
     },
     "metadata": {},
     "output_type": "display_data"
    }
   ],
   "source": [
    "\n",
    "\n",
    "plt.figure(figsize=(12,5))\n",
    "sns.barplot(x = Canada.groupby(\"genres\")[\"title\"].nunique().sort_values(ascending =False).head(20).index ,\n",
    "            y = Canada.groupby(\"genres\")[\"title\"].nunique().sort_values(ascending =False).head(20))\n",
    "plt.xticks(rotation = 90)\n",
    "plt.ylabel(\"Number of Content per genre\")\n",
    "\n",
    "plt.show()\n",
    "\n",
    "\n",
    "\n"
   ]
  },
  {
   "cell_type": "markdown",
   "id": "e42f438e",
   "metadata": {},
   "source": [
    "### Top 10 Actors in Canada"
   ]
  },
  {
   "cell_type": "code",
   "execution_count": 146,
   "id": "67f14a51",
   "metadata": {},
   "outputs": [
    {
     "data": {
      "text/plain": [
       "actors\n",
       "John Paul Tremblay    14\n",
       "Robb Wells            14\n",
       "John Dunsworth        12\n",
       "Vincent Tong          12\n",
       "Ashleigh Ball         12\n",
       "Andrea Libman         11\n",
       "Michela Luci          11\n",
       "Mike Smith            10\n",
       "Tara Strong            9\n",
       "Cory Doran             9\n",
       "Name: title, dtype: int64"
      ]
     },
     "execution_count": 146,
     "metadata": {},
     "output_type": "execute_result"
    }
   ],
   "source": [
    "\n",
    "\n",
    "\n",
    "Canada.groupby(\"actors\")[\"title\"].nunique().sort_values(ascending=False).head(11)[1:]\n",
    "\n",
    "\n"
   ]
  },
  {
   "cell_type": "code",
   "execution_count": 147,
   "id": "1a2102c6",
   "metadata": {
    "scrolled": false
   },
   "outputs": [
    {
     "data": {
      "image/png": "[encoded data removed]",
      "text/plain": [
       "<Figure size 864x360 with 1 Axes>"
      ]
     },
     "metadata": {},
     "output_type": "display_data"
    }
   ],
   "source": [
    "plt.figure(figsize=(12,5))\n",
    "sns.barplot(x = Canada.groupby(\"actors\")[\"title\"].nunique().sort_values(ascending=False).head(11)[1:].index ,\n",
    "            y = Canada.groupby(\"actors\")[\"title\"].nunique().sort_values(ascending=False).head(11)[1:])\n",
    "plt.xticks(rotation = 90)\n",
    "plt.ylabel(\"Number of Content per Actor\")\n",
    "plt.show()\n",
    "\n",
    "\n",
    "\n",
    "\n"
   ]
  },
  {
   "cell_type": "markdown",
   "id": "2e5707f5",
   "metadata": {},
   "source": [
    "### Top 10 directors in Canada\n"
   ]
  },
  {
   "cell_type": "code",
   "execution_count": 148,
   "id": "cf16b522",
   "metadata": {},
   "outputs": [
    {
     "data": {
      "text/plain": [
       "directors\n",
       "Justin G. Dyck        8\n",
       "Mike Clattenburg      5\n",
       "Mike Smith            5\n",
       "John Paul Tremblay    5\n",
       "Name: title, dtype: int64"
      ]
     },
     "execution_count": 148,
     "metadata": {},
     "output_type": "execute_result"
    }
   ],
   "source": [
    "\n",
    "\n",
    "Canada.groupby(\"directors\")[\"title\"].nunique().sort_values(ascending=False).head(5)[1:]\n"
   ]
  },
  {
   "cell_type": "code",
   "execution_count": 149,
   "id": "639aa791",
   "metadata": {},
   "outputs": [
    {
     "data": {
      "image/png": "[encoded data removed]",
      "text/plain": [
       "<Figure size 864x360 with 1 Axes>"
      ]
     },
     "metadata": {},
     "output_type": "display_data"
    }
   ],
   "source": [
    "\n",
    "plt.figure(figsize=(12,5))\n",
    "sns.barplot(x = Canada.groupby(\"directors\")[\"title\"].nunique().sort_values(ascending=False).head(5)[1:].index ,\n",
    "            y = Canada.groupby(\"directors\")[\"title\"].nunique().sort_values(ascending=False).head(5)[1:])\n",
    "plt.xticks(rotation = 90)\n",
    "plt.ylabel(\"Number of Content Directed by\")\n",
    "\n",
    "\n",
    "plt.show()\n",
    "\n",
    "\n"
   ]
  },
  {
   "cell_type": "code",
   "execution_count": null,
   "id": "ea19fca7",
   "metadata": {},
   "outputs": [],
   "source": []
  },
  {
   "cell_type": "code",
   "execution_count": null,
   "id": "b8f1f632",
   "metadata": {},
   "outputs": [],
   "source": []
  },
  {
   "cell_type": "code",
   "execution_count": null,
   "id": "96616820",
   "metadata": {},
   "outputs": [],
   "source": []
  },
  {
   "cell_type": "markdown",
   "id": "fe0e76e0",
   "metadata": {},
   "source": [
    "# Apart from Highest Subscribers Countries : \n",
    "## people from other countries can be potentials subscribers : \n",
    "### Those countries are : \n",
    "\n",
    "Russia                \n",
    "China                 \n",
    "Germany               \n",
    "South Korea\n",
    "Mexico                \n",
    "Singapore             \n",
    "Poland                \n",
    "United Arab Emirates  \n",
    "        \n",
    "\n"
   ]
  },
  {
   "cell_type": "code",
   "execution_count": null,
   "id": "2dd7f6c6",
   "metadata": {},
   "outputs": [],
   "source": []
  },
  {
   "cell_type": "code",
   "execution_count": 150,
   "id": "34c769d3",
   "metadata": {},
   "outputs": [],
   "source": [
    "potential_subscribers_from = [\"Russia\",\"China\",\"Germany\",\"South Korea\", \"Mexico\",\"Singapore\",\"Poland\",\"United Arab Emirates\"]"
   ]
  },
  {
   "cell_type": "code",
   "execution_count": 151,
   "id": "a4ff5c91",
   "metadata": {
    "scrolled": false
   },
   "outputs": [
    {
     "name": "stdout",
     "output_type": "stream",
     "text": [
      "===============================================\n",
      "Russia\n",
      "-----------------------------------------------\n",
      "actors\n",
      "Unknown                   5\n",
      "Alexander Petrov          3\n",
      "Paulina Andreeva          3\n",
      "Eldar Kalimulin           2\n",
      "Olga Sutulova             2\n",
      "Fillip Gorenshtein        2\n",
      "Alyson Leigh Rosenfeld    2\n",
      "Erica Schroeder           2\n",
      "Dmitry Shevchenko         2\n",
      "Kirill Käro               2\n",
      "Name: title, dtype: int64\n",
      "-----------------------------------------------\n",
      "directors\n",
      "Aleksey German       1\n",
      "Aleksey Tsitsilin    1\n",
      "Chris Gorak          1\n",
      "Gayane Petrosyan     1\n",
      "Ilya Naishuller      1\n",
      "Name: title, dtype: int64\n",
      "-----------------------------------------------\n",
      "genres\n",
      "International TV Shows      10\n",
      "TV Dramas                    7\n",
      "Kids' TV                     6\n",
      "International Movies         6\n",
      "Crime TV Shows               6\n",
      "Action & Adventure           4\n",
      "Dramas                       3\n",
      "Documentaries                2\n",
      "Children & Family Movies     2\n",
      "Sci-Fi & Fantasy             2\n",
      "Name: title, dtype: int64\n",
      "\n",
      "===============================================\n",
      "China\n",
      "-----------------------------------------------\n",
      "actors\n",
      "Donnie Yen     10\n",
      "Jackie Chan     8\n",
      "Xing Yu         6\n",
      "Unknown         6\n",
      "Simon Yam       6\n",
      "Chang Chen      5\n",
      "Shawn Yue       5\n",
      "Iko Uwais       4\n",
      "Kent Cheng      4\n",
      "Lam Suet        4\n",
      "Name: title, dtype: int64\n",
      "-----------------------------------------------\n",
      "directors\n",
      "Wilson Yip          5\n",
      "Johnnie To          3\n",
      "Mark Osborne        2\n",
      "Shalini Kantayya    2\n",
      "Dante Lam           2\n",
      "Name: title, dtype: int64\n",
      "-----------------------------------------------\n",
      "genres\n",
      "International Movies        71\n",
      "Action & Adventure          63\n",
      "International TV Shows      40\n",
      "Dramas                      32\n",
      "Comedies                    31\n",
      "Romantic TV Shows           22\n",
      "TV Dramas                   20\n",
      "Children & Family Movies    16\n",
      "Sci-Fi & Fantasy            13\n",
      "TV Comedies                 12\n",
      "Name: title, dtype: int64\n",
      "\n",
      "===============================================\n",
      "Germany\n",
      "-----------------------------------------------\n",
      "actors\n",
      "Unknown                19\n",
      "Daniel Brühl            5\n",
      "Sylvester Groth         4\n",
      "Wotan Wilke Möhring     4\n",
      "Louis Held              4\n",
      "David Schütter          4\n",
      "Lina Larissa Strahl     4\n",
      "Charly Hübner           4\n",
      "Michael Maertens        4\n",
      "David Attenborough      4\n",
      "Name: title, dtype: int64\n",
      "-----------------------------------------------\n",
      "directors\n",
      "Detlev Buck                 5\n",
      "Fernando González Molina    3\n",
      "McG                         2\n",
      "Olivier Assayas             2\n",
      "Jonathan Mostow             2\n",
      "Name: title, dtype: int64\n",
      "-----------------------------------------------\n",
      "genres\n",
      "International Movies        94\n",
      "Dramas                      80\n",
      "Comedies                    42\n",
      "International TV Shows      35\n",
      "Action & Adventure          33\n",
      "Independent Movies          31\n",
      "Thrillers                   28\n",
      "Documentaries               21\n",
      "TV Dramas                   19\n",
      "Children & Family Movies    17\n",
      "Name: title, dtype: int64\n",
      "\n",
      "===============================================\n",
      "South Korea\n",
      "-----------------------------------------------\n",
      "actors\n",
      "Sung Dong-il        6\n",
      "Cho Seong-ha        5\n",
      "Nam Joo-hyuk        5\n",
      "Park Shin-hye       5\n",
      "Park Hae-joon       5\n",
      "Kim Won-hae         5\n",
      "Kyeong-yeong Lee    5\n",
      "Jung Hae-in         4\n",
      "Unknown             4\n",
      "Cho Han-cheul       4\n",
      "Name: title, dtype: int64\n",
      "-----------------------------------------------\n",
      "directors\n",
      "Sang-ho Yeon       2\n",
      "Thomas Astruc      2\n",
      "Shin Won-ho        2\n",
      "Bong Joon Ho       2\n",
      "Mark A.Z. Dippé    2\n",
      "Name: title, dtype: int64\n",
      "-----------------------------------------------\n",
      "genres\n",
      "International TV Shows    152\n",
      "Korean TV Shows           132\n",
      "Romantic TV Shows          77\n",
      "International Movies       44\n",
      "TV Dramas                  38\n",
      "Dramas                     26\n",
      "Crime TV Shows             24\n",
      "TV Comedies                19\n",
      "Action & Adventure         17\n",
      "Comedies                   17\n",
      "Name: title, dtype: int64\n",
      "\n",
      "===============================================\n",
      "Mexico\n",
      "-----------------------------------------------\n",
      "actors\n",
      "Unknown                   16\n",
      "Humberto Busto             6\n",
      "Arcelia Ramírez            6\n",
      "Cassandra Ciangherotti     6\n",
      "Damián Alcázar             5\n",
      "Sofía Niño de Rivera       5\n",
      "Fernando Becerril          5\n",
      "Alfonso Herrera            5\n",
      "José Sefami                5\n",
      "Tenoch Huerta              4\n",
      "Name: title, dtype: int64\n",
      "-----------------------------------------------\n",
      "directors\n",
      "Jan Suter          12\n",
      "Raúl Campos        10\n",
      "Alex Díaz           3\n",
      "Alfonso Cuarón      3\n",
      "Antonio Serrano     2\n",
      "Name: title, dtype: int64\n",
      "-----------------------------------------------\n",
      "genres\n",
      "International Movies         70\n",
      "Spanish-Language TV Shows    47\n",
      "Dramas                       44\n",
      "International TV Shows       43\n",
      "Crime TV Shows               32\n",
      "Comedies                     24\n",
      "Independent Movies           23\n",
      "Documentaries                18\n",
      "Stand-Up Comedy              18\n",
      "TV Dramas                    12\n",
      "Name: title, dtype: int64\n",
      "\n",
      "===============================================\n",
      "Singapore\n",
      "-----------------------------------------------\n",
      "actors\n",
      "Zhang Zhenhuan    7\n",
      "Tay Ping Hui      6\n",
      "Rui En            5\n",
      "Elvin Ng          4\n",
      "Rebecca Lim       4\n",
      "Jeanette Aw       4\n",
      "Xiang Yun         3\n",
      "Jesseca Liu       3\n",
      "Paige Chua        3\n",
      "Romeo Tan         3\n",
      "Name: title, dtype: int64\n",
      "-----------------------------------------------\n",
      "directors\n",
      "Daniel Lee        1\n",
      "Lana Wachowski    1\n",
      "Tom Tykwer        1\n",
      "Steve Cheng       1\n",
      "Sam Loh           1\n",
      "Name: title, dtype: int64\n",
      "-----------------------------------------------\n",
      "genres\n",
      "International TV Shows    19\n",
      "TV Dramas                 15\n",
      "International Movies      14\n",
      "Dramas                     7\n",
      "Action & Adventure         5\n",
      "Crime TV Shows             5\n",
      "Romantic TV Shows          5\n",
      "Kids' TV                   3\n",
      "Thrillers                  3\n",
      "Horror Movies              3\n",
      "Name: title, dtype: int64\n",
      "\n",
      "===============================================\n",
      "Poland\n",
      "-----------------------------------------------\n",
      "actors\n",
      "Agata Kulesza          3\n",
      "Robert Więckiewicz     3\n",
      "Unknown                2\n",
      "Bartłomiej Topa        2\n",
      "Danuta Stenka          2\n",
      "Piotr Fronczewski      2\n",
      "Piotr Cyrwus           2\n",
      "Paulina Gałązka        2\n",
      "Grażyna Szapołowska    2\n",
      "Helena Sujecka         2\n",
      "Name: title, dtype: int64\n",
      "-----------------------------------------------\n",
      "directors\n",
      "Stanisław Różewicz     2\n",
      "Patryk Vega            2\n",
      "Aleksey German         1\n",
      "Alexandros Avranas     1\n",
      "Wojciech Marczewski    1\n",
      "Name: title, dtype: int64\n",
      "-----------------------------------------------\n",
      "genres\n",
      "International Movies      25\n",
      "Dramas                    24\n",
      "International TV Shows     9\n",
      "TV Dramas                  8\n",
      "Thrillers                  6\n",
      "Comedies                   6\n",
      "Crime TV Shows             6\n",
      "Independent Movies         5\n",
      "Romantic Movies            4\n",
      "Action & Adventure         3\n",
      "Name: title, dtype: int64\n",
      "\n",
      "===============================================\n",
      "United Arab Emirates\n",
      "-----------------------------------------------\n",
      "actors\n",
      "Yaser Alneyadi       4\n",
      "Ali Suliman          3\n",
      "Ahd                  3\n",
      "Mansour Al Felei     3\n",
      "Khaled Al-Nuaimi     3\n",
      "Muhammed Murshed     3\n",
      "Samer al Masri       2\n",
      "Ali Almarzouqi       2\n",
      "Mohamed Alkendi      2\n",
      "Saeed Al-Sheryani    2\n",
      "Name: title, dtype: int64\n",
      "-----------------------------------------------\n",
      "directors\n",
      "Ali F. Mostafa         2\n",
      "Ibrahim Bin Mohamed    2\n",
      "Ahmed Zein             2\n",
      "Simon Wells            1\n",
      "Shazia Ali Khan        1\n",
      "Name: title, dtype: int64\n",
      "-----------------------------------------------\n",
      "genres\n",
      "International Movies        26\n",
      "Dramas                      19\n",
      "Comedies                    11\n",
      "Documentaries                7\n",
      "Thrillers                    5\n",
      "Children & Family Movies     4\n",
      "Action & Adventure           3\n",
      "Independent Movies           3\n",
      "Sci-Fi & Fantasy             3\n",
      "Horror Movies                2\n",
      "Name: title, dtype: int64\n",
      "\n"
     ]
    }
   ],
   "source": [
    "for countries in potential_subscribers_from:\n",
    "    print(\"===============================================\")\n",
    "    print(countries)\n",
    "    print(\"-----------------------------------------------\")\n",
    "    print(data[data[\"countries\"]==countries].groupby(\"actors\")[\"title\"].nunique().sort_values(ascending = False).head(10))\n",
    "    print(\"-----------------------------------------------\")\n",
    "    print(data[data[\"countries\"]==countries].groupby(\"directors\")[\"title\"].nunique().sort_values(ascending = False).head(6)[1:])\n",
    "    print(\"-----------------------------------------------\")\n",
    "    print(data[data[\"countries\"]==countries].groupby(\"genres\")[\"title\"].nunique().sort_values(ascending = False).head(10))\n",
    "    print()"
   ]
  },
  {
   "cell_type": "code",
   "execution_count": null,
   "id": "39ce9c62",
   "metadata": {},
   "outputs": [],
   "source": []
  },
  {
   "cell_type": "code",
   "execution_count": null,
   "id": "417e0057",
   "metadata": {},
   "outputs": [],
   "source": []
  },
  {
   "cell_type": "markdown",
   "id": "171dc1f2",
   "metadata": {},
   "source": [
    "## Top genres per top countires : "
   ]
  },
  {
   "cell_type": "code",
   "execution_count": 152,
   "id": "c4b32f56",
   "metadata": {
    "scrolled": false
   },
   "outputs": [
    {
     "name": "stdout",
     "output_type": "stream",
     "text": [
      "\n",
      "<< United States >>\n",
      "Index(['Comedies', 'Dramas', 'Children & Family Movies', 'Action & Adventure',\n",
      "       'Independent Movies'],\n",
      "      dtype='object')\n",
      "\n",
      "\n",
      "\n",
      "<< India >>\n",
      "Index(['International Movies', 'Dramas', 'Comedies', 'Independent Movies',\n",
      "       'Action & Adventure'],\n",
      "      dtype='object')\n",
      "\n",
      "\n",
      "\n",
      "<< Unknown >>\n",
      "Index(['International TV Shows', 'International Movies', 'Dramas', 'TV Dramas',\n",
      "       'Comedies'],\n",
      "      dtype='object')\n",
      "\n",
      "\n",
      "\n",
      "<< United Kingdom >>\n",
      "Index(['Dramas', 'British TV Shows', 'International Movies', 'Comedies',\n",
      "       'International TV Shows'],\n",
      "      dtype='object')\n",
      "\n",
      "\n",
      "\n",
      "<< Canada >>\n",
      "Index(['Comedies', 'Children & Family Movies', 'Dramas', 'Kids' TV',\n",
      "       'International Movies'],\n",
      "      dtype='object')\n",
      "\n",
      "\n",
      "\n",
      "<< France >>\n",
      "Index(['International Movies', 'Dramas', 'Independent Movies', 'Comedies',\n",
      "       'International TV Shows'],\n",
      "      dtype='object')\n",
      "\n",
      "\n",
      "\n",
      "<< Japan >>\n",
      "Index(['International TV Shows', 'Anime Series', 'Action & Adventure',\n",
      "       'Anime Features', 'International Movies'],\n",
      "      dtype='object')\n",
      "\n",
      "\n",
      "\n",
      "<< Spain >>\n",
      "Index(['International Movies', 'Dramas', 'International TV Shows', 'Comedies',\n",
      "       'Spanish-Language TV Shows'],\n",
      "      dtype='object')\n",
      "\n",
      "\n",
      "\n",
      "<< South Korea >>\n",
      "Index(['International TV Shows', 'Korean TV Shows', 'Romantic TV Shows',\n",
      "       'International Movies', 'TV Dramas'],\n",
      "      dtype='object')\n",
      "\n",
      "\n",
      "\n",
      "<< Germany >>\n",
      "Index(['Dramas', 'International Movies', 'Comedies', 'Action & Adventure',\n",
      "       'International TV Shows'],\n",
      "      dtype='object')\n",
      "\n",
      "\n",
      "\n",
      "<< Mexico >>\n",
      "Index(['Spanish-Language TV Shows', 'International Movies',\n",
      "       'International TV Shows', 'Crime TV Shows', 'Dramas'],\n",
      "      dtype='object')\n",
      "\n",
      "\n"
     ]
    }
   ],
   "source": [
    "for cntry in top_20_countires[:11]:\n",
    "    print()\n",
    "    print(\"<<\",cntry,\">>\")\n",
    "    print(data.groupby(\"countries\")[\"genres\"].get_group(cntry).value_counts().head().index)\n",
    "    print()\n",
    "    print()"
   ]
  },
  {
   "cell_type": "code",
   "execution_count": null,
   "id": "eace1376",
   "metadata": {},
   "outputs": [],
   "source": []
  },
  {
   "cell_type": "code",
   "execution_count": null,
   "id": "05dfb45d",
   "metadata": {},
   "outputs": [],
   "source": []
  },
  {
   "cell_type": "code",
   "execution_count": null,
   "id": "9e004546",
   "metadata": {},
   "outputs": [],
   "source": []
  },
  {
   "cell_type": "code",
   "execution_count": 153,
   "id": "3da4ee39",
   "metadata": {},
   "outputs": [],
   "source": [
    "years = np.arange(2010,2022,1)"
   ]
  },
  {
   "cell_type": "code",
   "execution_count": 154,
   "id": "00a09898",
   "metadata": {},
   "outputs": [
    {
     "data": {
      "text/plain": [
       "array([2010, 2011, 2012, 2013, 2014, 2015, 2016, 2017, 2018, 2019, 2020,\n",
       "       2021])"
      ]
     },
     "execution_count": 154,
     "metadata": {},
     "output_type": "execute_result"
    }
   ],
   "source": [
    "years"
   ]
  },
  {
   "cell_type": "code",
   "execution_count": 155,
   "id": "abf79175",
   "metadata": {},
   "outputs": [
    {
     "data": {
      "text/plain": [
       "genres\n",
       "Dramas                    412\n",
       "International Movies      408\n",
       "Comedies                  299\n",
       "International TV Shows    229\n",
       "Action & Adventure        196\n",
       "Name: title, dtype: int64"
      ]
     },
     "execution_count": 155,
     "metadata": {},
     "output_type": "execute_result"
    }
   ],
   "source": [
    "data.groupby(\"year_added\").get_group(2021).groupby(\"genres\")[\"title\"].nunique().sort_values(ascending = False).head()"
   ]
  },
  {
   "cell_type": "code",
   "execution_count": 156,
   "id": "d0537bd1",
   "metadata": {
    "scrolled": false
   },
   "outputs": [
    {
     "name": "stdout",
     "output_type": "stream",
     "text": [
      "\n",
      "2010\n",
      "genres\n",
      "Cult Movies      1\n",
      "Horror Movies    1\n",
      "Name: title, dtype: int64\n",
      "=======================\n",
      "\n",
      "2011\n",
      "genres\n",
      "Dramas                      13\n",
      "Sports Movies                2\n",
      "Children & Family Movies     1\n",
      "Faith & Spirituality         1\n",
      "International Movies         1\n",
      "Name: title, dtype: int64\n",
      "=======================\n",
      "\n",
      "2012\n",
      "genres\n",
      "Comedies                    2\n",
      "Children & Family Movies    1\n",
      "Documentaries               1\n",
      "Name: title, dtype: int64\n",
      "=======================\n",
      "\n",
      "2013\n",
      "genres\n",
      "Stand-Up Comedy             4\n",
      "TV Dramas                   4\n",
      "Children & Family Movies    2\n",
      "Crime TV Shows              2\n",
      "Comedies                    1\n",
      "Name: title, dtype: int64\n",
      "=======================\n",
      "\n",
      "2014\n",
      "genres\n",
      "Documentaries               8\n",
      "Children & Family Movies    4\n",
      "Stand-Up Comedy             4\n",
      "TV Comedies                 3\n",
      "TV Dramas                   3\n",
      "Name: title, dtype: int64\n",
      "=======================\n",
      "\n",
      "2015\n",
      "genres\n",
      "Stand-Up Comedy             13\n",
      "Documentaries               13\n",
      "Comedies                    12\n",
      "Dramas                      12\n",
      "Children & Family Movies    11\n",
      "Name: title, dtype: int64\n",
      "=======================\n",
      "\n",
      "2016\n",
      "genres\n",
      "International TV Shows    86\n",
      "International Movies      82\n",
      "Documentaries             68\n",
      "Dramas                    65\n",
      "Comedies                  48\n",
      "Name: title, dtype: int64\n",
      "=======================\n",
      "\n",
      "2017\n",
      "genres\n",
      "International Movies      395\n",
      "Dramas                    293\n",
      "Documentaries             206\n",
      "International TV Shows    205\n",
      "Comedies                  177\n",
      "Name: title, dtype: int64\n",
      "=======================\n",
      "\n",
      "2018\n",
      "genres\n",
      "International Movies      668\n",
      "Dramas                    531\n",
      "Comedies                  297\n",
      "International TV Shows    214\n",
      "Action & Adventure        173\n",
      "Name: title, dtype: int64\n",
      "=======================\n",
      "\n",
      "2019\n",
      "genres\n",
      "International Movies      610\n",
      "Dramas                    564\n",
      "Comedies                  420\n",
      "International TV Shows    335\n",
      "Action & Adventure        202\n",
      "Name: title, dtype: int64\n",
      "=======================\n",
      "\n",
      "2020\n",
      "genres\n",
      "International Movies      575\n",
      "Dramas                    535\n",
      "Comedies                  416\n",
      "International TV Shows    277\n",
      "Romantic Movies           173\n",
      "Name: title, dtype: int64\n",
      "=======================\n",
      "\n",
      "2021\n",
      "genres\n",
      "Dramas                    412\n",
      "International Movies      408\n",
      "Comedies                  299\n",
      "International TV Shows    229\n",
      "Action & Adventure        196\n",
      "Name: title, dtype: int64\n",
      "=======================\n"
     ]
    }
   ],
   "source": [
    "for yr in years :\n",
    "    print()\n",
    "    print(yr)\n",
    "    print(data.groupby(\"year_added\").get_group(yr).groupby(\"genres\")[\"title\"].nunique().sort_values(ascending = False).head())\n",
    "    print(\"=======================\")"
   ]
  },
  {
   "cell_type": "code",
   "execution_count": null,
   "id": "0ca8a0a4",
   "metadata": {},
   "outputs": [],
   "source": []
  },
  {
   "cell_type": "code",
   "execution_count": null,
   "id": "962a52fd",
   "metadata": {},
   "outputs": [],
   "source": []
  },
  {
   "cell_type": "code",
   "execution_count": null,
   "id": "00368ede",
   "metadata": {},
   "outputs": [],
   "source": []
  },
  {
   "cell_type": "code",
   "execution_count": null,
   "id": "fc5c1982",
   "metadata": {},
   "outputs": [],
   "source": []
  },
  {
   "cell_type": "code",
   "execution_count": null,
   "id": "789efb7c",
   "metadata": {},
   "outputs": [],
   "source": []
  },
  {
   "cell_type": "code",
   "execution_count": null,
   "id": "1550d8ba",
   "metadata": {},
   "outputs": [],
   "source": []
  },
  {
   "cell_type": "code",
   "execution_count": null,
   "id": "cf8fbc15",
   "metadata": {},
   "outputs": [],
   "source": []
  },
  {
   "cell_type": "code",
   "execution_count": null,
   "id": "c7c5e57d",
   "metadata": {},
   "outputs": [],
   "source": []
  }
 ],
 "metadata": {
  "kernelspec": {
   "display_name": "Python 3 (ipykernel)",
   "language": "python",
   "name": "python3"
  },
  "language_info": {
   "codemirror_mode": {
    "name": "ipython",
    "version": 3
   },
   "file_extension": ".py",
   "mimetype": "text/x-python",
   "name": "python",
   "nbconvert_exporter": "python",
   "pygments_lexer": "ipython3",
   "version": "3.9.7"
  }
 },
 "nbformat": 4,
 "nbformat_minor": 5
}
